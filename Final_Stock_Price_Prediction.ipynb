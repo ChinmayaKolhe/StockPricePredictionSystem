{
 "cells": [
  {
   "cell_type": "markdown",
   "id": "7d9889d9",
   "metadata": {},
   "source": [
    "# Stock Price Prediction System"
   ]
  },
  {
   "cell_type": "markdown",
   "id": "41a9cdd9",
   "metadata": {},
   "source": [
    "### Import necessary libraries"
   ]
  },
  {
   "cell_type": "code",
   "execution_count": 1,
   "id": "d9ff269d",
   "metadata": {},
   "outputs": [],
   "source": [
    "import pandas as pd\n",
    "import numpy as np\n",
    "import matplotlib.pyplot as plt\n",
    "import seaborn as sns\n",
    "from datetime import datetime, timedelta\n",
    "import warnings\n",
    "warnings.filterwarnings('ignore')"
   ]
  },
  {
   "cell_type": "markdown",
   "id": "be366448",
   "metadata": {},
   "source": [
    "### Machine Learning libraries"
   ]
  },
  {
   "cell_type": "code",
   "execution_count": 2,
   "id": "0466f208",
   "metadata": {},
   "outputs": [],
   "source": [
    "from sklearn.preprocessing import MinMaxScaler\n",
    "from sklearn.model_selection import train_test_split\n",
    "from sklearn.linear_model import LinearRegression\n",
    "from sklearn.ensemble import RandomForestRegressor\n",
    "from sklearn.metrics import mean_squared_error, mean_absolute_error, r2_score\n",
    "from sklearn.svm import SVR"
   ]
  },
  {
   "cell_type": "markdown",
   "id": "37a915d3",
   "metadata": {},
   "source": [
    "### Deep Learning libraries"
   ]
  },
  {
   "cell_type": "code",
   "execution_count": 3,
   "id": "39a7046c",
   "metadata": {},
   "outputs": [],
   "source": [
    "import tensorflow as tf\n",
    "from tensorflow.keras.models import Sequential\n",
    "from tensorflow.keras.layers import Dense, LSTM, Dropout"
   ]
  },
  {
   "cell_type": "markdown",
   "id": "54c27a98",
   "metadata": {},
   "source": [
    "### Technical Analysis library"
   ]
  },
  {
   "cell_type": "code",
   "execution_count": 4,
   "id": "008201fa",
   "metadata": {},
   "outputs": [],
   "source": [
    "import ta"
   ]
  },
  {
   "cell_type": "markdown",
   "id": "95f95453",
   "metadata": {},
   "source": [
    "### API libraries"
   ]
  },
  {
   "cell_type": "code",
   "execution_count": 5,
   "id": "901bbad1",
   "metadata": {},
   "outputs": [],
   "source": [
    "import yfinance as yf\n",
    "from alpha_vantage.timeseries import TimeSeries"
   ]
  },
  {
   "cell_type": "markdown",
   "id": "5b937ca2",
   "metadata": {},
   "source": [
    "### Visualization libraries"
   ]
  },
  {
   "cell_type": "code",
   "execution_count": 6,
   "id": "10611e41",
   "metadata": {},
   "outputs": [
    {
     "name": "stdout",
     "output_type": "stream",
     "text": [
      "All libraries imported successfully!\n"
     ]
    }
   ],
   "source": [
    "import mplfinance as mpf\n",
    "import plotly.graph_objects as go\n",
    "from plotly.subplots import make_subplots\n",
    "import plotly.express as px\n",
    "\n",
    "import joblib\n",
    "import os\n",
    "\n",
    "print(\"All libraries imported successfully!\")"
   ]
  },
  {
   "cell_type": "markdown",
   "id": "9cee40f9",
   "metadata": {},
   "source": [
    "### Setting API key and Get the Current Stock Market Status"
   ]
  },
  {
   "cell_type": "code",
   "execution_count": 7,
   "id": "00af6c57",
   "metadata": {},
   "outputs": [],
   "source": [
    "# Alpha Vantage API Key\n",
    "ALPHA_KEY = \"909ZVCBKRQTZNM6M\"  \n",
    "\n",
    "def get_market_status():\n",
    "    \"\"\"Check current market status and explain data availability\"\"\"\n",
    "    now = datetime.now()\n",
    "    current_time = now.strftime('%Y-%m-%d %H:%M:%S')\n",
    "    weekday = now.strftime('%A')\n",
    "    \n",
    "    print(f\"\\n{'='*60}\")\n",
    "    print(f\"MARKET STATUS CHECK\")\n",
    "    print(f\"{'='*60}\")\n",
    "    print(f\"Current Date/Time: {current_time}\")\n",
    "    print(f\"Today is: {weekday}\")\n",
    "    \n",
    "    # Check if it's weekend\n",
    "    if now.weekday() >= 5:  # Saturday = 5, Sunday = 6\n",
    "        print(f\"Markets are CLOSED (Weekend)\")\n",
    "        print(f\"Most recent trading day data available\")\n",
    "    else:\n",
    "        # Check if it's before market open (rough estimate - 9:30 AM EST)\n",
    "        if now.hour < 9 or (now.hour == 9 and now.minute < 30):\n",
    "            print(f\"Markets haven't opened yet today\")\n",
    "            print(f\"Yesterday's data is the most recent\")\n",
    "        elif now.hour >= 16:  # After 4 PM EST (market close)\n",
    "            print(f\"Markets closed for the day\")\n",
    "            print(f\"Today's data should be available\")\n",
    "        else:\n",
    "            print(f\"Markets are currently OPEN\")\n",
    "            print(f\"Real-time data available with some delay\")\n",
    "    \n",
    "    print(f\"{'='*60}\")"
   ]
  },
  {
   "cell_type": "markdown",
   "id": "793b5b00",
   "metadata": {},
   "source": [
    "### fetch the data from the yfinance"
   ]
  },
  {
   "cell_type": "code",
   "execution_count": 8,
   "id": "61320a96",
   "metadata": {},
   "outputs": [],
   "source": [
    "def fetch_yf(symbol, start=None, end=None, period='2y', interval='1d'):\n",
    "    \"\"\"Fetch using yfinance with safe column selection\"\"\"\n",
    "    try:\n",
    "        if start and end:\n",
    "            df = yf.download(symbol, start=start, end=end, interval=interval, progress=False)\n",
    "        else:\n",
    "            df = yf.download(symbol, period=period, interval=interval, progress=False)\n",
    "\n",
    "        # If no data is returned\n",
    "        if df.empty:\n",
    "            print(f\"No data found for symbol: {symbol}\")\n",
    "            return None\n",
    "\n",
    "        # If multiple tickers, yfinance returns MultiIndex columns -> select the symbol level\n",
    "        if isinstance(df.columns, pd.MultiIndex):\n",
    "            df = df.xs(symbol, axis=1, level=1)\n",
    "\n",
    "        # Some tickers don't have Adj Close — check before selecting\n",
    "        expected_cols = ['Open', 'High', 'Low', 'Close', 'Adj Close', 'Volume']\n",
    "        available_cols = [c for c in expected_cols if c in df.columns]\n",
    "\n",
    "        df = df[available_cols]  # only keep available columns\n",
    "        df.dropna(inplace=True)\n",
    "        \n",
    "        if df.empty:\n",
    "            print(f\"No data available after cleaning for symbol: {symbol}\")\n",
    "            return None\n",
    "            \n",
    "        print(f\"Successfully fetched data for {symbol}. Shape: {df.shape}\")\n",
    "        return df\n",
    "    except Exception as e:\n",
    "        print(f\"Error fetching data for {symbol}: {str(e)}\")\n",
    "        return None"
   ]
  },
  {
   "cell_type": "markdown",
   "id": "71d2e564",
   "metadata": {},
   "source": [
    "### Add the Technical Indicators Like SMA, EMA, RSI, MACD"
   ]
  },
  {
   "cell_type": "code",
   "execution_count": 9,
   "id": "0806de00",
   "metadata": {},
   "outputs": [],
   "source": [
    "def add_technical_indicators(df):\n",
    "    df = df.copy()\n",
    "    # Simple moving averages\n",
    "    df['SMA_10'] = df['Close'].rolling(10).mean()\n",
    "    df['SMA_50'] = df['Close'].rolling(50).mean()\n",
    "    # Exponential moving average\n",
    "    df['EMA_20'] = df['Close'].ewm(span=20, adjust=False).mean()\n",
    "    # RSI\n",
    "    df['RSI'] = ta.momentum.rsi(df['Close'], window=14)\n",
    "    # MACD\n",
    "    macd = ta.trend.MACD(df['Close'])\n",
    "    df['MACD'] = macd.macd()\n",
    "    df['MACD_SIGNAL'] = macd.macd_signal()\n",
    "    # Bollinger Bands\n",
    "    bb = ta.volatility.BollingerBands(df['Close'], window=20, window_dev=2)\n",
    "    df['BB_H'] = bb.bollinger_hband()\n",
    "    df['BB_L'] = bb.bollinger_lband()\n",
    "    df.dropna(inplace=True)\n",
    "    return df\n",
    "\n",
    "def prepare_supervised(df, feature_cols, target_col='Close', n_ahead=5):\n",
    "    df = df.copy()\n",
    "    df['Target'] = df[target_col].shift(-n_ahead)\n",
    "    df.dropna(inplace=True)\n",
    "    X = df[feature_cols].values\n",
    "    y = df['Target'].values\n",
    "    return X, y, df\n",
    "\n",
    "def train_and_eval_models(X_train, X_test, y_train, y_test):\n",
    "    results = {}\n",
    "    models = {\n",
    "        'LinearRegression': LinearRegression(),\n",
    "        'RandomForest': RandomForestRegressor(n_estimators=100, random_state=42),\n",
    "        'SVR': SVR(kernel='rbf', C=1.0, epsilon=0.01)\n",
    "    }\n",
    "    for name, m in models.items():\n",
    "        m.fit(X_train, y_train)\n",
    "        preds = m.predict(X_test)\n",
    "        results[name] = {\n",
    "            'model': m,\n",
    "            'mse': mean_squared_error(y_test, preds),\n",
    "            'mae': mean_absolute_error(y_test, preds),\n",
    "            'r2': r2_score(y_test, preds),\n",
    "            'predictions': preds\n",
    "        }\n",
    "    return results"
   ]
  },
  {
   "cell_type": "markdown",
   "id": "0d0a06f5",
   "metadata": {},
   "source": [
    "### Generating Future Trading Days (Properly Handling Weekdays and Weekend)"
   ]
  },
  {
   "cell_type": "code",
   "execution_count": 10,
   "id": "7b5e71d6",
   "metadata": {},
   "outputs": [],
   "source": [
    "def create_sequences(data, seq_length=60):\n",
    "    X, y = [], []\n",
    "    for i in range(seq_length, len(data)):\n",
    "        X.append(data[i-seq_length:i])\n",
    "        y.append(data[i, 0])  # assuming first column is Close scaled\n",
    "    return np.array(X), np.array(y)\n",
    "\n",
    "def build_lstm(input_shape):\n",
    "    model = Sequential()\n",
    "    model.add(LSTM(64, return_sequences=True, input_shape=input_shape))\n",
    "    model.add(Dropout(0.2))\n",
    "    model.add(LSTM(32, return_sequences=False))\n",
    "    model.add(Dropout(0.2))\n",
    "    model.add(Dense(16, activation='relu'))\n",
    "    model.add(Dense(1))\n",
    "    model.compile(optimizer='adam', loss='mse', metrics=['mae'])\n",
    "    return model\n",
    "\n",
    "def generate_future_dates_enhanced(last_date, days_ahead=7, include_weekends_info=True):\n",
    "    \"\"\"\n",
    "    Enhanced future date generation with better weekend handling and information\n",
    "    \"\"\"\n",
    "    future_dates = []\n",
    "    skipped_dates = []\n",
    "    current_date = last_date + timedelta(days=1)\n",
    "    \n",
    "    print(f\"\\nGENERATING FUTURE TRADING DATES\")\n",
    "    print(f\"Last trading day in data: {last_date.strftime('%Y-%m-%d (%A)')}\")\n",
    "    \n",
    "    days_checked = 0\n",
    "    while len(future_dates) < days_ahead and days_checked < days_ahead * 2:  # Safety limit\n",
    "        day_name = current_date.strftime('%A')\n",
    "        \n",
    "        # Skip weekends (Saturday=5, Sunday=6)\n",
    "        if current_date.weekday() < 5:  # Monday to Friday\n",
    "            future_dates.append(current_date)\n",
    "            print(f\"{current_date.strftime('%Y-%m-%d')} ({day_name}) - Trading Day\")\n",
    "        else:\n",
    "            skipped_dates.append((current_date, day_name))\n",
    "            if include_weekends_info:\n",
    "                print(f\"{current_date.strftime('%Y-%m-%d')} ({day_name}) - Skipped (Weekend)\")\n",
    "        \n",
    "        current_date += timedelta(days=1)\n",
    "        days_checked += 1\n",
    "    \n",
    "    print(f\"\\nGenerated {len(future_dates)} future trading days\")\n",
    "    if skipped_dates:\n",
    "        print(f\"Skipped {len(skipped_dates)} weekend days\")\n",
    "    \n",
    "    return future_dates[:days_ahead]"
   ]
  },
  {
   "cell_type": "markdown",
   "id": "fa314b14",
   "metadata": {},
   "source": [
    "### Predict the Future Prices"
   ]
  },
  {
   "cell_type": "code",
   "execution_count": 11,
   "id": "dba796da",
   "metadata": {},
   "outputs": [],
   "source": [
    "def predict_future_prices(model, scaler, df, feature_cols, days_ahead=7):\n",
    "    \"\"\"Predict future prices for the next N days\"\"\"\n",
    "    future_predictions = []\n",
    "    current_data = df[feature_cols].iloc[-1:].values.copy()\n",
    "    \n",
    "    for day in range(days_ahead):\n",
    "        # Scale the current data\n",
    "        current_data_scaled = scaler.transform(current_data)\n",
    "        \n",
    "        # Make prediction\n",
    "        prediction = model.predict(current_data_scaled)[0]\n",
    "        future_predictions.append(prediction)\n",
    "        \n",
    "        # Update the current data for next prediction (using the prediction as new Close price)\n",
    "        if day < days_ahead - 1:\n",
    "            current_data[0, 0] = prediction  # Update Close price\n",
    "    \n",
    "    return future_predictions\n",
    "\n",
    "def predict_future_lstm(model, scaler, df, sequence_length=60, days_ahead=7):\n",
    "    \"\"\"Predict future prices using LSTM model\"\"\"\n",
    "    # Get the last sequence\n",
    "    last_sequence = df[['Close', 'Volume']].values[-sequence_length:]\n",
    "    last_sequence_scaled = scaler.transform(last_sequence)\n",
    "    \n",
    "    future_predictions = []\n",
    "    current_sequence = last_sequence_scaled.copy()\n",
    "    \n",
    "    for day in range(days_ahead):\n",
    "        # Reshape for LSTM input\n",
    "        X_pred = current_sequence.reshape(1, sequence_length, 2)\n",
    "        \n",
    "        # Make prediction\n",
    "        prediction_scaled = model.predict(X_pred, verbose=0)[0, 0]\n",
    "        \n",
    "        # Inverse transform to get actual price\n",
    "        dummy_array = np.zeros((1, 2))\n",
    "        dummy_array[0, 0] = prediction_scaled\n",
    "        prediction_actual = scaler.inverse_transform(dummy_array)[0, 0]\n",
    "        \n",
    "        future_predictions.append(prediction_actual)\n",
    "        \n",
    "        # Update the sequence for next prediction\n",
    "        if day < days_ahead - 1:\n",
    "            new_row = np.array([[prediction_scaled, current_sequence[-1, 1]]])\n",
    "            current_sequence = np.vstack([current_sequence[1:], new_row])\n",
    "    \n",
    "    return future_predictions"
   ]
  },
  {
   "cell_type": "markdown",
   "id": "d520657f",
   "metadata": {},
   "source": [
    "### Create Table for Future Predictions"
   ]
  },
  {
   "cell_type": "code",
   "execution_count": 12,
   "id": "a69384e2",
   "metadata": {},
   "outputs": [],
   "source": [
    "def create_future_predictions_table(symbol, today_price, future_dates, rf_predictions, lstm_predictions=None):\n",
    "    \"\"\"\n",
    "    Create a beautiful visualization table for future predictions\n",
    "    \"\"\"\n",
    "    # Prepare data for the table\n",
    "    table_data = []\n",
    "    \n",
    "    for i, date in enumerate(future_dates):\n",
    "        rf_pred = rf_predictions[i]\n",
    "        rf_change = ((rf_pred - today_price) / today_price) * 100\n",
    "        \n",
    "        row = {\n",
    "            'Date': date.strftime('%Y-%m-%d'),\n",
    "            'Day': date.strftime('%A'),\n",
    "            'Days_Ahead': i + 1,\n",
    "            'RF_Price': rf_pred,\n",
    "            'RF_Change_%': rf_change,\n",
    "            'RF_Direction': '📈' if rf_change > 0 else '📉' if rf_change < 0 else '➡️'\n",
    "        }\n",
    "        \n",
    "        if lstm_predictions:\n",
    "            lstm_pred = lstm_predictions[i]\n",
    "            lstm_change = ((lstm_pred - today_price) / today_price) * 100\n",
    "            row.update({\n",
    "                'LSTM_Price': lstm_pred,\n",
    "                'LSTM_Change_%': lstm_change,\n",
    "                'LSTM_Direction': '📈' if lstm_change > 0 else '📉' if lstm_change < 0 else '➡️'\n",
    "            })\n",
    "        \n",
    "        table_data.append(row)\n",
    "    \n",
    "    df_predictions = pd.DataFrame(table_data)\n",
    "    \n",
    "    # Create interactive table using Plotly\n",
    "    fig = go.Figure()\n",
    "    \n",
    "    # Prepare table data\n",
    "    if lstm_predictions:\n",
    "        header_values = ['Date', 'Day', 'Days<br>Ahead', \n",
    "                        'RF Price<br>($)', 'RF Change<br>(%)', 'RF<br>Trend',\n",
    "                        'LSTM Price<br>($)', 'LSTM Change<br>(%)', 'LSTM<br>Trend']\n",
    "        \n",
    "        cell_values = [\n",
    "            df_predictions['Date'].tolist(),\n",
    "            df_predictions['Day'].tolist(),\n",
    "            df_predictions['Days_Ahead'].tolist(),\n",
    "            [f\"${x:.2f}\" for x in df_predictions['RF_Price']],\n",
    "            [f\"{x:+.2f}%\" for x in df_predictions['RF_Change_%']],\n",
    "            df_predictions['RF_Direction'].tolist(),\n",
    "            [f\"${x:.2f}\" for x in df_predictions['LSTM_Price']],\n",
    "            [f\"{x:+.2f}%\" for x in df_predictions['LSTM_Change_%']],\n",
    "            df_predictions['LSTM_Direction'].tolist()\n",
    "        ]\n",
    "    else:\n",
    "        header_values = ['Date', 'Day', 'Days<br>Ahead', \n",
    "                        'RF Price<br>($)', 'RF Change<br>(%)', 'RF<br>Trend']\n",
    "        \n",
    "        cell_values = [\n",
    "            df_predictions['Date'].tolist(),\n",
    "            df_predictions['Day'].tolist(),\n",
    "            df_predictions['Days_Ahead'].tolist(),\n",
    "            [f\"${x:.2f}\" for x in df_predictions['RF_Price']],\n",
    "            [f\"{x:+.2f}%\" for x in df_predictions['RF_Change_%']],\n",
    "            df_predictions['RF_Direction'].tolist()\n",
    "        ]\n",
    "    \n",
    "    # Color cells based on positive/negative changes\n",
    "    def get_cell_colors(changes):\n",
    "        colors = []\n",
    "        for change in changes:\n",
    "            if change > 0:\n",
    "                colors.append('#d4edda')  # Light green for positive\n",
    "            elif change < 0:\n",
    "                colors.append('#f8d7da')  # Light red for negative\n",
    "            else:\n",
    "                colors.append('#fff3cd')  # Light yellow for neutral\n",
    "        return colors\n",
    "    # Create color arrays for each column\n",
    "    rf_colors = get_cell_colors(df_predictions['RF_Change_%'])\n",
    "    \n",
    "    if lstm_predictions:\n",
    "        lstm_colors = get_cell_colors(df_predictions['LSTM_Change_%'])\n",
    "        fill_colors = [['white'] * len(df_predictions),  # Date\n",
    "                      ['white'] * len(df_predictions),   # Day\n",
    "                      ['white'] * len(df_predictions),   # Days Ahead\n",
    "                      rf_colors,                         # RF Price\n",
    "                      rf_colors,                         # RF Change\n",
    "                      rf_colors,                         # RF Direction\n",
    "                      lstm_colors,                       # LSTM Price\n",
    "                      lstm_colors,                       # LSTM Change\n",
    "                      lstm_colors]                       # LSTM Direction\n",
    "    else:\n",
    "        fill_colors = [['white'] * len(df_predictions),  # Date\n",
    "                      ['white'] * len(df_predictions),   # Day\n",
    "                      ['white'] * len(df_predictions),   # Days Ahead\n",
    "                      rf_colors,                         # RF Price\n",
    "                      rf_colors,                         # RF Change\n",
    "                      rf_colors]                         # RF Direction\n",
    "    \n",
    "    fig.add_trace(go.Table(\n",
    "        header=dict(\n",
    "            values=header_values,\n",
    "            fill_color='#1f2937',\n",
    "            font=dict(color='white', size=14, family=\"Arial Black\"),\n",
    "            align='center',\n",
    "            height=40\n",
    "        ),\n",
    "        cells=dict(\n",
    "            values=cell_values,\n",
    "            fill_color=fill_colors,\n",
    "            font=dict(size=12),\n",
    "            align='center',\n",
    "            height=35\n",
    "        )\n",
    "    ))\n",
    "    \n",
    "    fig.update_layout(\n",
    "        title=dict(\n",
    "            text=f'{symbol} - Future Price Predictions Table<br><sub>Current Price: ${today_price:.2f}</sub>',\n",
    "            x=0.5,\n",
    "            font=dict(size=18, color='#1f2937')\n",
    "        ),\n",
    "        height=400,\n",
    "        margin=dict(l=20, r=20, t=80, b=20)\n",
    "    )\n",
    "    \n",
    "    return fig, df_predictions"
   ]
  },
  {
   "cell_type": "markdown",
   "id": "1dda1889",
   "metadata": {},
   "source": [
    "### Create the Prediction Comparison Chart for Different Model Predictions"
   ]
  },
  {
   "cell_type": "code",
   "execution_count": 13,
   "id": "c773f654",
   "metadata": {},
   "outputs": [],
   "source": [
    "def create_prediction_comparison_chart(symbol, today_price, future_dates, rf_predictions, lstm_predictions=None):\n",
    "    \"\"\"\n",
    "    Create a comparison chart for different model predictions\n",
    "    \"\"\"\n",
    "    fig = go.Figure()\n",
    "    \n",
    "    # Add current price as starting point\n",
    "    all_dates = [future_dates[0] - timedelta(days=1)] + future_dates\n",
    "    rf_prices = [today_price] + rf_predictions\n",
    "    \n",
    "    # Add RandomForest predictions\n",
    "    fig.add_trace(go.Scatter(\n",
    "        x=all_dates, \n",
    "        y=rf_prices,\n",
    "        name='RandomForest Prediction',\n",
    "        line=dict(color='#2E86AB', width=3),\n",
    "        marker=dict(size=8, symbol='circle')\n",
    "    ))\n",
    "    \n",
    "    # Add LSTM predictions if available\n",
    "    if lstm_predictions:\n",
    "        lstm_prices = [today_price] + lstm_predictions\n",
    "        fig.add_trace(go.Scatter(\n",
    "            x=all_dates, \n",
    "            y=lstm_prices,\n",
    "            name='LSTM Prediction',\n",
    "            line=dict(color='#F24236', width=3, dash='dot'),\n",
    "            marker=dict(size=8, symbol='diamond')\n",
    "        ))\n",
    "    \n",
    "    # Add current price marker\n",
    "    fig.add_trace(go.Scatter(\n",
    "        x=[all_dates[0]], \n",
    "        y=[today_price],\n",
    "        name='Current Price',\n",
    "        mode='markers',\n",
    "        marker=dict(size=15, color='green', symbol='star')\n",
    "    ))\n",
    "    \n",
    "    # Add horizontal line for current price reference\n",
    "    fig.add_hline(\n",
    "        y=today_price, \n",
    "        line_dash=\"dash\", \n",
    "        line_color=\"gray\", \n",
    "        annotation_text=f\"Current: ${today_price:.2f}\"\n",
    "    )\n",
    "    \n",
    "    fig.update_layout(\n",
    "        title=f'{symbol} - Future Price Predictions Comparison',\n",
    "        xaxis_title='Date',\n",
    "        yaxis_title='Price ($)',\n",
    "        template='plotly_white',\n",
    "        height=500,\n",
    "        hovermode='x unified'\n",
    "    )\n",
    "    \n",
    "    return fig\n"
   ]
  },
  {
   "cell_type": "markdown",
   "id": "1d2b8cfd",
   "metadata": {},
   "source": [
    "### Stock Visualization"
   ]
  },
  {
   "cell_type": "code",
   "execution_count": 14,
   "id": "808a6a5a",
   "metadata": {},
   "outputs": [],
   "source": [
    "\n",
    "def create_professional_stock_visualization(df, actual_prices, predicted_prices, symbol, model_name, future_dates=None, future_prices=None):\n",
    "    # Create a subset of the dataframe for the validation period\n",
    "    val_dates = df.index[-len(actual_prices):]\n",
    "    \n",
    "    # Create subplots with secondary y-axis for volume\n",
    "    fig = make_subplots(\n",
    "        rows=2, cols=1,\n",
    "        shared_xaxes=True,\n",
    "        vertical_spacing=0.1,\n",
    "        subplot_titles=(f'{symbol} Price Prediction with {model_name}', 'Volume'),\n",
    "        row_width=[0.2, 0.7]\n",
    "    )\n",
    "    \n",
    "    # Add actual price line\n",
    "    fig.add_trace(\n",
    "        go.Scatter(x=val_dates, y=actual_prices, name=\"Actual Price\", \n",
    "                  line=dict(color='#2E86AB', width=2)),\n",
    "        row=1, col=1\n",
    "    )\n",
    "    \n",
    "    # Add predicted price line\n",
    "    fig.add_trace(\n",
    "        go.Scatter(x=val_dates, y=predicted_prices, name=\"Predicted Price\", \n",
    "                  line=dict(color='#F24236', width=2, dash='dot')),\n",
    "        row=1, col=1\n",
    "    )\n",
    "    \n",
    "    # Add future predictions if available\n",
    "    if future_dates is not None and future_prices is not None:\n",
    "        fig.add_trace(\n",
    "            go.Scatter(x=future_dates, y=future_prices, name=\"Future Prediction\", \n",
    "                      line=dict(color='#00FF00', width=3, dash='dash'),\n",
    "                      marker=dict(size=8, symbol='star')),\n",
    "            row=1, col=1\n",
    "        )\n",
    "    \n",
    "    # Add volume bar chart\n",
    "    fig.add_trace(\n",
    "        go.Bar(x=val_dates, y=df['Volume'].values[-len(actual_prices):], \n",
    "               name=\"Volume\", marker_color='#A23B72'),\n",
    "        row=2, col=1\n",
    "    )\n",
    "    \n",
    "    # Add moving averages if available\n",
    "    if 'SMA_50' in df.columns:\n",
    "        fig.add_trace(\n",
    "            go.Scatter(x=val_dates, y=df['SMA_50'].values[-len(actual_prices):], \n",
    "                       name=\"SMA 50\", line=dict(color='orange', width=1)),\n",
    "            row=1, col=1\n",
    "        )\n",
    "    \n",
    "    # Update layout\n",
    "    fig.update_layout(\n",
    "        title=f'{symbol} Stock Price Prediction with {model_name}',\n",
    "        yaxis_title='Price ($)',\n",
    "        xaxis_rangeslider_visible=False,\n",
    "        template='plotly_white',\n",
    "        height=700,\n",
    "        legend=dict(orientation=\"h\", yanchor=\"bottom\", y=1.02, xanchor=\"right\", x=1)\n",
    "    )\n",
    "    \n",
    "    # Update y-axis label\n",
    "    fig.update_yaxes(title_text=\"Price ($)\", row=1, col=1)\n",
    "    fig.update_yaxes(title_text=\"Volume\", row=2, col=1)\n",
    "    \n",
    "    # Add prediction accuracy annotation\n",
    "    mae = mean_absolute_error(actual_prices, predicted_prices)\n",
    "    mape = np.mean(np.abs((actual_prices - predicted_prices) / actual_prices)) * 100\n",
    "    \n",
    "    fig.add_annotation(\n",
    "        x=0.02, y=0.98,\n",
    "        xref=\"paper\", yref=\"paper\",\n",
    "        text=f\"MAE: ${mae:.2f}<br>MAPE: {mape:.2f}%\",\n",
    "        showarrow=False,\n",
    "        font=dict(size=12),\n",
    "        align=\"left\",\n",
    "        bordercolor=\"black\",\n",
    "        borderwidth=1,\n",
    "        borderpad=4,\n",
    "        bgcolor=\"white\",\n",
    "        opacity=0.8\n",
    "    )\n",
    "    \n",
    "    return fig"
   ]
  },
  {
   "cell_type": "markdown",
   "id": "4f7b29da",
   "metadata": {},
   "source": [
    "### Visualizing and Plotting the Technical Indicators (RSI, MACD)"
   ]
  },
  {
   "cell_type": "code",
   "execution_count": 15,
   "id": "1a7af701",
   "metadata": {},
   "outputs": [],
   "source": [
    "def plot_technical_indicators(df, symbol):\n",
    "    fig = make_subplots(\n",
    "        rows=3, cols=1,\n",
    "        shared_xaxes=True,\n",
    "        vertical_spacing=0.05,\n",
    "        subplot_titles=('Price with Bollinger Bands', 'RSI', 'MACD'),\n",
    "        row_width=[0.2, 0.2, 0.6]\n",
    "    )\n",
    "    \n",
    "    # Price with Bollinger Bands\n",
    "    fig.add_trace(\n",
    "        go.Scatter(x=df.index, y=df['Close'], name=\"Close\", line=dict(color='#2E86AB')),\n",
    "        row=1, col=1\n",
    "    )\n",
    "    \n",
    "    if 'BB_H' in df.columns and 'BB_L' in df.columns:\n",
    "        fig.add_trace(\n",
    "            go.Scatter(x=df.index, y=df['BB_H'], name=\"Upper Band\", line=dict(color='gray', dash='dash')),\n",
    "            row=1, col=1\n",
    "        )\n",
    "        fig.add_trace(\n",
    "            go.Scatter(x=df.index, y=df['BB_L'], name=\"Lower Band\", line=dict(color='gray', dash='dash'),\n",
    "                      fill='tonexty', fillcolor='rgba(128,128,128,0.1)'),\n",
    "            row=1, col=1\n",
    "        )\n",
    "    \n",
    "    # RSI\n",
    "    if 'RSI' in df.columns:\n",
    "        fig.add_trace(\n",
    "            go.Scatter(x=df.index, y=df['RSI'], name=\"RSI\", line=dict(color='purple')),\n",
    "            row=2, col=1\n",
    "        )\n",
    "        # Add RSI overbought/oversold lines\n",
    "        fig.add_hline(y=70, line_dash=\"dash\", line_color=\"red\", row=2, col=1)\n",
    "        fig.add_hline(y=30, line_dash=\"dash\", line_color=\"green\", row=2, col=1)\n",
    "    \n",
    "    # MACD\n",
    "    if 'MACD' in df.columns and 'MACD_SIGNAL' in df.columns:\n",
    "        fig.add_trace(\n",
    "            go.Scatter(x=df.index, y=df['MACD'], name=\"MACD\", line=dict(color='blue')),\n",
    "            row=3, col=1\n",
    "        )\n",
    "        fig.add_trace(\n",
    "            go.Scatter(x=df.index, y=df['MACD_SIGNAL'], name=\"Signal\", line=dict(color='red')),\n",
    "            row=3, col=1\n",
    "        )\n",
    "    \n",
    "    fig.update_layout(\n",
    "        title=f'{symbol} Technical Indicators',\n",
    "        height=800,\n",
    "        showlegend=True,\n",
    "        template='plotly_white'\n",
    "    )\n",
    "    \n",
    "    return fig\n",
    "\n",
    "# Stock symbol mapping for common stocks\n",
    "STOCK_SYMBOL_MAP = {\n",
    "    # US Stocks\n",
    "    'AAPL': 'AAPL', 'APPLE': 'AAPL',\n",
    "    'MSFT': 'MSFT', 'MICROSOFT': 'MSFT',\n",
    "    'GOOGL': 'GOOGL', 'GOOGLE': 'GOOGL', 'ALPHABET': 'GOOGL',\n",
    "    'AMZN': 'AMZN', 'AMAZON': 'AMZN',\n",
    "    'TSLA': 'TSLA', 'TESLA': 'TSLA',\n",
    "    'META': 'META', 'FACEBOOK': 'META',\n",
    "    'NFLX': 'NFLX', 'NETFLIX': 'NFLX',\n",
    "    'NVDA': 'NVDA', 'NVIDIA': 'NVDA',\n",
    "    \n",
    "    # Indian Stocks (NSE)\n",
    "    'RELIANCE': 'RELIANCE.NS', 'L&T': 'LT.NS', 'LT': 'LT.NS', 'LARSEN': 'LT.NS',\n",
    "    'TCS': 'TCS.NS', 'INFY': 'INFY.NS', 'INFOSYS': 'INFY.NS',\n",
    "    'HDFC': 'HDFCBANK.NS', 'HDFCBANK': 'HDFCBANK.NS',\n",
    "    'ICICI': 'ICICIBANK.NS', 'ICICIBANK': 'ICICIBANK.NS',\n",
    "    'SBIN': 'SBIN.NS', 'SBI': 'SBIN.NS',\n",
    "    'WIPRO': 'WIPRO.NS', 'AXISBANK': 'AXISBANK.NS',\n",
    "    'KOTAKBANK': 'KOTAKBANK.NS', 'KOTAK': 'KOTAKBANK.NS',\n",
    "    'BHARTI': 'BHARTIARTL.NS', 'AIRTEL': 'BHARTIARTL.NS',\n",
    "    \n",
    "    # International Stocks\n",
    "    'SAMSUNG': '005930.KS', 'TOYOTA': 'TM', 'SONY': 'SONY',\n",
    "    'SHELL': 'SHEL', 'BP': 'BP', 'TOTAL': 'TTE'\n",
    "}\n"
   ]
  },
  {
   "cell_type": "markdown",
   "id": "3d722a13",
   "metadata": {},
   "source": [
    "### Getting the User Input for Stock Symbol"
   ]
  },
  {
   "cell_type": "code",
   "execution_count": 16,
   "id": "db179e97",
   "metadata": {},
   "outputs": [],
   "source": [
    "def get_correct_symbol(symbol_input):\n",
    "    \"\"\"Convert user input to correct Yahoo Finance symbol\"\"\"\n",
    "    symbol_input = symbol_input.upper().strip()\n",
    "    \n",
    "    # Check if input is already in the map\n",
    "    if symbol_input in STOCK_SYMBOL_MAP:\n",
    "        return STOCK_SYMBOL_MAP[symbol_input]\n",
    "    \n",
    "    # Check if it's a known Indian stock without .NS\n",
    "    if symbol_input + '.NS' in STOCK_SYMBOL_MAP.values():\n",
    "        return symbol_input + '.NS'\n",
    "    \n",
    "    # If it contains special characters, try to clean it\n",
    "    if '&' in symbol_input:\n",
    "        # Handle cases like \"L&T\"\n",
    "        cleaned = symbol_input.replace('&', '').replace(' ', '')\n",
    "        if cleaned in STOCK_SYMBOL_MAP:\n",
    "            return STOCK_SYMBOL_MAP[cleaned]\n",
    "    \n",
    "    # If no mapping found, return as is (user might know the exact symbol)\n",
    "    return symbol_input\n",
    "\n",
    "def suggest_symbols(partial_input):\n",
    "    \"\"\"Suggest possible symbols based on partial input\"\"\"\n",
    "    partial = partial_input.upper()\n",
    "    suggestions = []\n",
    "    \n",
    "    for name, symbol in STOCK_SYMBOL_MAP.items():\n",
    "        if partial in name.upper() or partial in symbol.upper():\n",
    "            suggestions.append((name, symbol))\n",
    "    \n",
    "    return suggestions[:5]  # Return top 5 suggestions\n",
    "\n",
    "def predict_stock_price_enhanced(symbol_input, period='3y', n_ahead=5, future_days=7):\n",
    "    \"\"\"\n",
    "    Enhanced stock prediction with better date handling and visualizations\n",
    "    \"\"\"\n",
    "    # Check market status first\n",
    "    get_market_status()\n",
    "    \n",
    "    # Get correct symbol format\n",
    "    symbol = get_correct_symbol(symbol_input)\n",
    "    \n",
    "    print(f\"\\n{'='*60}\")\n",
    "    print(f\"PREDICTING STOCK PRICE FOR: {symbol_input} -> {symbol}\")\n",
    "    print(f\"{'='*60}\")\n",
    "    \n",
    "    # Step 1: Fetch data with date information\n",
    "    df = fetch_yf(symbol, period=period)\n",
    "    if df is None:\n",
    "        print(f\"Could not fetch data for {symbol}. Please check the symbol and try again.\")\n",
    "        \n",
    "        # Suggest similar symbols\n",
    "        suggestions = suggest_symbols(symbol_input)\n",
    "        if suggestions:\n",
    "            print(f\"\\nDid you mean one of these?\")\n",
    "            for name, correct_symbol in suggestions:\n",
    "                print(f\"  {name} -> {correct_symbol}\")\n",
    "        \n",
    "        return None\n",
    "    \n",
    "    # Show data date range\n",
    "    print(f\"Data Range: {df.index[0].strftime('%Y-%m-%d')} to {df.index[-1].strftime('%Y-%m-%d')}\")\n",
    "    print(f\"Most recent price: ${df['Close'].iloc[-1]:.2f}\")\n",
    "    \n",
    "    # Step 2: Add technical indicators\n",
    "    df = add_technical_indicators(df)\n",
    "    print(f\"Data shape after technical indicators: {df.shape}\")\n",
    "    \n",
    "    # Step 3: Prepare features\n",
    "    features = ['Close','SMA_10','SMA_50','EMA_20','RSI','MACD','MACD_SIGNAL','BB_H','BB_L','Volume']\n",
    "    available_features = [f for f in features if f in df.columns]\n",
    "    df = df.dropna(subset=available_features)\n",
    "    \n",
    "    if len(df) < 100:\n",
    "        print(f\"Not enough data for {symbol}. Only {len(df)} records available.\")\n",
    "        return None\n",
    "    \n",
    "    # Step 4: Train models\n",
    "    print(\"\\nTraining Classical Models...\")\n",
    "    X, y, df_supervised = prepare_supervised(df, feature_cols=available_features, n_ahead=n_ahead)\n",
    "    \n",
    "    X_train, X_test, y_train, y_test = train_test_split(X, y, test_size=0.2, shuffle=False)\n",
    "    \n",
    "    scaler = MinMaxScaler()\n",
    "    X_train_scaled = scaler.fit_transform(X_train)\n",
    "    X_test_scaled = scaler.transform(X_test)\n",
    "    \n",
    "    results = train_and_eval_models(X_train_scaled, X_test_scaled, y_train, y_test)\n",
    "    \n",
    "    print(\"\\nClassical Models Performance:\")\n",
    "    for k, v in results.items():\n",
    "        print(f\"{k:15} MSE: {v['mse']:.4f}, MAE: {v['mae']:.4f}, R²: {v['r2']:.4f}\")\n",
    "    \n",
    "    # Step 5: LSTM Model\n",
    "    print(\"\\nTraining LSTM Model...\")\n",
    "    lstm_df = df[['Close','Volume']].copy()\n",
    "    scaler_lstm = MinMaxScaler()\n",
    "    scaled = scaler_lstm.fit_transform(lstm_df)\n",
    "    \n",
    "    SEQ_LEN = 60\n",
    "    X_seq, y_seq = create_sequences(scaled, seq_length=SEQ_LEN)\n",
    "    \n",
    "    lstm_results = None\n",
    "    if len(X_seq) >= 100:\n",
    "        split = int(0.8 * len(X_seq))\n",
    "        X_tr, X_val = X_seq[:split], X_seq[split:]\n",
    "        y_tr, y_val = y_seq[:split], y_seq[split:]\n",
    "        \n",
    "        lstm = build_lstm(input_shape=(X_tr.shape[1], X_tr.shape[2]))\n",
    "        early = tf.keras.callbacks.EarlyStopping(monitor='val_loss', patience=8, restore_best_weights=True)\n",
    "        \n",
    "        history = lstm.fit(X_tr, y_tr, validation_data=(X_val, y_val), \n",
    "                          epochs=50, batch_size=32, callbacks=[early], verbose=0)\n",
    "        \n",
    "        val_preds = lstm.predict(X_val, verbose=0).flatten()\n",
    "        \n",
    "        y_val_un = scaler_lstm.inverse_transform(\n",
    "            np.concatenate([y_val.reshape(-1,1), np.zeros((len(y_val),1))], axis=1)\n",
    "        )[:,0]\n",
    "        preds_un = scaler_lstm.inverse_transform(\n",
    "            np.concatenate([val_preds.reshape(-1,1), np.zeros((len(val_preds),1))], axis=1)\n",
    "        )[:,0]\n",
    "        \n",
    "        lstm_mae = mean_absolute_error(y_val_un, preds_un)\n",
    "        lstm_mse = mean_squared_error(y_val_un, preds_un)\n",
    "        print(f\"LSTM Performance: MSE: {lstm_mse:.4f}, MAE: {lstm_mae:.4f}\")\n",
    "        \n",
    "        lstm_results = {\n",
    "            'actual': y_val_un,\n",
    "            'predicted': preds_un,\n",
    "            'model': lstm,\n",
    "            'scaler': scaler_lstm\n",
    "        }\n",
    "    else:\n",
    "        print(f\"Not enough sequences for LSTM training. Need at least 100, got {len(X_seq)}\")\n",
    "    \n",
    "    # Step 6: Enhanced Future Predictions\n",
    "    print(f\"\\nGenerating {future_days}-Day Future Predictions...\")\n",
    "    \n",
    "    last_date = df.index[-1]\n",
    "    future_dates = generate_future_dates_enhanced(last_date, days_ahead=future_days)\n",
    "    \n",
    "    # Future predictions\n",
    "    rf_model = results['RandomForest']['model']\n",
    "    rf_future_predictions = predict_future_prices(rf_model, scaler, df, available_features, days_ahead=future_days)\n",
    "    \n",
    "    lstm_future_predictions = None\n",
    "    if lstm_results is not None:\n",
    "        lstm_future_predictions = predict_future_lstm(lstm_results['model'], lstm_results['scaler'], \n",
    "                                                     df, sequence_length=SEQ_LEN, days_ahead=future_days)\n",
    "    \n",
    "    # Step 7: Create Enhanced Visualizations\n",
    "    today_price = df['Close'].iloc[-1]\n",
    "    \n",
    "    print(\"\\nCreating Enhanced Visualizations...\")\n",
    "    \n",
    "    # 1. Future Predictions Table\n",
    "    table_fig, predictions_df = create_future_predictions_table(\n",
    "        symbol, today_price, future_dates, rf_future_predictions, lstm_future_predictions\n",
    "    )\n",
    "    table_fig.show()\n",
    "    \n",
    "    # 2. Comparison Chart\n",
    "    comparison_fig = create_prediction_comparison_chart(\n",
    "        symbol, today_price, future_dates, rf_future_predictions, lstm_future_predictions\n",
    "    )\n",
    "    comparison_fig.show()\n",
    "    \n",
    "    # 3. Classical models visualization with future predictions\n",
    "    best_classical = results['RandomForest']\n",
    "    classical_fig = create_professional_stock_visualization(\n",
    "        df, y_test, best_classical['predictions'], symbol, \"RandomForest\",\n",
    "        future_dates, rf_future_predictions\n",
    "    )\n",
    "    classical_fig.show()\n",
    "    \n",
    "    # 4. LSTM visualization if available\n",
    "    if lstm_results is not None:\n",
    "        lstm_fig = create_professional_stock_visualization(\n",
    "            df, lstm_results['actual'], lstm_results['predicted'], symbol, \"LSTM\",\n",
    "            future_dates, lstm_future_predictions\n",
    "        )\n",
    "        lstm_fig.show()\n",
    "    \n",
    "    # 5. Technical indicators visualization\n",
    "    tech_fig = plot_technical_indicators(df, symbol)\n",
    "    tech_fig.show()\n",
    "    \n",
    "    # Display detailed predictions in console\n",
    "    print(f\"\\n{'='*80}\")\n",
    "    print(f\"DETAILED FUTURE PREDICTIONS FOR {symbol}\")\n",
    "    print(f\"{'='*80}\")\n",
    "    print(f\"Analysis Date: {datetime.now().strftime('%Y-%m-%d %H:%M:%S')}\")\n",
    "    print(f\"Current Price: ${today_price:.2f}\")\n",
    "    print(f\"Last Trading Day: {last_date.strftime('%Y-%m-%d (%A)')}\")\n",
    "    print(f\"\\nNext {future_days} Trading Days:\")\n",
    "    print(\"-\" * 80)\n",
    "    \n",
    "    for i, date in enumerate(future_dates):\n",
    "        rf_pred = rf_future_predictions[i]\n",
    "        rf_change = ((rf_pred - today_price) / today_price) * 100\n",
    "        \n",
    "        print(f\"{date.strftime('%Y-%m-%d (%A)')}: \", end=\"\")\n",
    "        print(f\"RF: ${rf_pred:.2f} ({rf_change:+.2f}%)\", end=\"\")\n",
    "        \n",
    "        if lstm_future_predictions:\n",
    "            lstm_pred = lstm_future_predictions[i]\n",
    "            lstm_change = ((lstm_pred - today_price) / today_price) * 100\n",
    "            print(f\" | LSTM: ${lstm_pred:.2f} ({lstm_change:+.2f}%)\", end=\"\")\n",
    "            \n",
    "            # Show which model is more bullish/bearish\n",
    "            if abs(rf_change) > abs(lstm_change):\n",
    "                stronger = \"RF more volatile\"\n",
    "            elif abs(lstm_change) > abs(rf_change):\n",
    "                stronger = \"LSTM more volatile\"\n",
    "            else:\n",
    "                stronger = \"Similar volatility\"\n",
    "            print(f\" | {stronger}\", end=\"\")\n",
    "        \n",
    "        # Add trend emoji\n",
    "        if rf_change > 2:\n",
    "            print(\" 🚀\")\n",
    "        elif rf_change > 0:\n",
    "            print(\" 📈\")\n",
    "        elif rf_change < -2:\n",
    "            print(\" 📉\")\n",
    "        elif rf_change < 0:\n",
    "            print(\" 🔻\")\n",
    "        else:\n",
    "            print(\" ➡️\")\n",
    "    \n",
    "    # Summary statistics\n",
    "    rf_avg_change = np.mean([((p - today_price) / today_price) * 100 for p in rf_future_predictions])\n",
    "    rf_max_price = max(rf_future_predictions)\n",
    "    rf_min_price = min(rf_future_predictions)\n",
    "    \n",
    "    print(f\"\\nSUMMARY STATISTICS:\")\n",
    "    print(f\"RandomForest Average Change: {rf_avg_change:+.2f}%\")\n",
    "    print(f\"Predicted Range: ${rf_min_price:.2f} - ${rf_max_price:.2f}\")\n",
    "    print(f\"Price Volatility: {((rf_max_price - rf_min_price) / today_price) * 100:.2f}%\")\n",
    "    \n",
    "    if lstm_future_predictions:\n",
    "        lstm_avg_change = np.mean([((p - today_price) / today_price) * 100 for p in lstm_future_predictions])\n",
    "        print(f\"LSTM Average Change: {lstm_avg_change:+.2f}%\")\n",
    "    \n",
    "    # Step 8: Save models\n",
    "    print(\"\\nSaving Models...\")\n",
    "    \n",
    "    # Save RandomForest model\n",
    "    rf_filename = f\"{symbol.replace('.', '_')}_rf_model.joblib\"\n",
    "    joblib.dump(results['RandomForest']['model'], rf_filename)\n",
    "    print(f\"RandomForest model saved as {rf_filename}\")\n",
    "    \n",
    "    # Save the MinMaxScaler used for classical models\n",
    "    scaler_filename = f\"{symbol.replace('.', '_')}_scaler.joblib\"\n",
    "    joblib.dump(scaler, scaler_filename)\n",
    "    print(f\"Scaler saved as {scaler_filename}\")\n",
    "    \n",
    "    # Save LSTM model and its scaler\n",
    "    if lstm_results is not None:\n",
    "        lstm_filename = f\"{symbol.replace('.', '_')}_lstm_model.keras\"\n",
    "        lstm_results['model'].save(lstm_filename)\n",
    "        print(f\"LSTM model saved as {lstm_filename}\")\n",
    "        \n",
    "        lstm_scaler_filename = f\"{symbol.replace('.', '_')}_lstm_scaler.joblib\"\n",
    "        joblib.dump(lstm_results['scaler'], lstm_scaler_filename)\n",
    "        print(f\"LSTM scaler saved as {lstm_scaler_filename}\")\n",
    "    \n",
    "    print(f\"\\nPrediction completed for {symbol}!\")\n",
    "    \n",
    "    return {\n",
    "        'classical_results': results,\n",
    "        'lstm_results': lstm_results,\n",
    "        'dataframe': df,\n",
    "        'original_symbol': symbol_input,\n",
    "        'correct_symbol': symbol,\n",
    "        'future_predictions': {\n",
    "            'dates': future_dates,\n",
    "            'rf_predictions': rf_future_predictions,\n",
    "            'lstm_predictions': lstm_future_predictions\n",
    "        },\n",
    "        'predictions_table': predictions_df,\n",
    "        'current_price': today_price\n",
    "    }\n"
   ]
  },
  {
   "cell_type": "markdown",
   "id": "e7045ff7",
   "metadata": {},
   "source": [
    "### Stock Performance Analysis "
   ]
  },
  {
   "cell_type": "code",
   "execution_count": 17,
   "id": "d71ad866",
   "metadata": {},
   "outputs": [],
   "source": [
    "\n",
    "def create_portfolio_analysis(symbols_list, future_days=7):\n",
    "    \"\"\"\n",
    "    Analyze multiple stocks and create a portfolio comparison\n",
    "    \"\"\"\n",
    "    print(f\"\\n{'='*80}\")\n",
    "    print(f\"PORTFOLIO ANALYSIS FOR MULTIPLE STOCKS\")\n",
    "    print(f\"{'='*80}\")\n",
    "    \n",
    "    portfolio_data = []\n",
    "    all_results = {}\n",
    "    \n",
    "    for symbol_input in symbols_list:\n",
    "        try:\n",
    "            print(f\"\\nProcessing {symbol_input}...\")\n",
    "            result = predict_stock_price_enhanced(symbol_input, future_days=future_days)\n",
    "            if result is not None:\n",
    "                all_results[symbol_input] = result\n",
    "                \n",
    "                # Extract key data for portfolio comparison\n",
    "                current_price = result['current_price']\n",
    "                rf_predictions = result['future_predictions']['rf_predictions']\n",
    "                lstm_predictions = result['future_predictions']['lstm_predictions']\n",
    "                \n",
    "                # Calculate metrics\n",
    "                rf_avg_change = np.mean([((p - current_price) / current_price) * 100 for p in rf_predictions])\n",
    "                rf_volatility = np.std([((p - current_price) / current_price) * 100 for p in rf_predictions])\n",
    "                \n",
    "                portfolio_data.append({\n",
    "                    'Symbol': result['correct_symbol'],\n",
    "                    'Current_Price': current_price,\n",
    "                    'RF_Avg_Change_%': rf_avg_change,\n",
    "                    'RF_Volatility_%': rf_volatility,\n",
    "                    'Trend': '📈' if rf_avg_change > 0 else '📉' if rf_avg_change < 0 else '➡️'\n",
    "                })\n",
    "                \n",
    "        except Exception as e:\n",
    "            print(f\"Error processing {symbol_input}: {str(e)}\")\n",
    "            continue\n",
    "    \n",
    "    if portfolio_data:\n",
    "        # Create portfolio comparison table\n",
    "        portfolio_df = pd.DataFrame(portfolio_data)\n",
    "        \n",
    "        # Create portfolio comparison visualization\n",
    "        fig = go.Figure()\n",
    "        \n",
    "        # Prepare portfolio table\n",
    "        header_values = ['Symbol', 'Current Price ($)', 'Avg Change (%)', 'Volatility (%)', 'Trend']\n",
    "        cell_values = [\n",
    "            portfolio_df['Symbol'].tolist(),\n",
    "            [f\"${x:.2f}\" for x in portfolio_df['Current_Price']],\n",
    "            [f\"{x:+.2f}%\" for x in portfolio_df['RF_Avg_Change_%']],\n",
    "            [f\"{x:.2f}%\" for x in portfolio_df['RF_Volatility_%']],\n",
    "            portfolio_df['Trend'].tolist()\n",
    "        ]\n",
    "        \n",
    "        # Color code based on performance\n",
    "        def get_portfolio_colors(changes):\n",
    "            colors = []\n",
    "            for change in changes:\n",
    "                if change > 1:\n",
    "                    colors.append('#d4edda')  # Light green for strong positive\n",
    "                elif change > 0:\n",
    "                    colors.append('#f0f9f0')  # Very light green for positive\n",
    "                elif change < -1:\n",
    "                    colors.append('#f8d7da')  # Light red for strong negative\n",
    "                elif change < 0:\n",
    "                    colors.append('#fdf2f2')  # Very light red for negative\n",
    "                else:\n",
    "                    colors.append('#fff3cd')  # Light yellow for neutral\n",
    "            return colors\n",
    "        \n",
    "        change_colors = get_portfolio_colors(portfolio_df['RF_Avg_Change_%'])\n",
    "        \n",
    "        fig.add_trace(go.Table(\n",
    "            header=dict(\n",
    "                values=header_values,\n",
    "                fill_color='#1f2937',\n",
    "                font=dict(color='white', size=14, family=\"Arial Black\"),\n",
    "                align='center',\n",
    "                height=40\n",
    "            ),\n",
    "            cells=dict(\n",
    "                values=cell_values,\n",
    "                fill_color=[['white'] * len(portfolio_df),  # Symbol\n",
    "                           ['white'] * len(portfolio_df),   # Current Price\n",
    "                           change_colors,                   # Avg Change\n",
    "                           ['white'] * len(portfolio_df),   # Volatility\n",
    "                           change_colors],                  # Trend\n",
    "                font=dict(size=12),\n",
    "                align='center',\n",
    "                height=35\n",
    "            )\n",
    "        ))\n",
    "        \n",
    "        fig.update_layout(\n",
    "            title='📊 Portfolio Analysis - Stock Performance Comparison',\n",
    "            height=300 + len(portfolio_df) * 35,\n",
    "            margin=dict(l=20, r=20, t=80, b=20)\n",
    "        )\n",
    "        \n",
    "        fig.show()\n",
    "        \n",
    "        # Display portfolio summary\n",
    "        print(f\"\\n{'='*60}\")\n",
    "        print(f\"PORTFOLIO SUMMARY\")\n",
    "        print(f\"{'='*60}\")\n",
    "        print(f\"Total Stocks Analyzed: {len(portfolio_df)}\")\n",
    "        \n",
    "        # Best and worst performers\n",
    "        best_performer = portfolio_df.loc[portfolio_df['RF_Avg_Change_%'].idxmax()]\n",
    "        worst_performer = portfolio_df.loc[portfolio_df['RF_Avg_Change_%'].idxmin()]\n",
    "        \n",
    "        print(f\" Best Performer: {best_performer['Symbol']} ({best_performer['RF_Avg_Change_%']:+.2f}%)\")\n",
    "        print(f\" Worst Performer: {worst_performer['Symbol']} ({worst_performer['RF_Avg_Change_%']:+.2f}%)\")\n",
    "        \n",
    "        # Risk analysis\n",
    "        lowest_risk = portfolio_df.loc[portfolio_df['RF_Volatility_%'].idxmin()]\n",
    "        highest_risk = portfolio_df.loc[portfolio_df['RF_Volatility_%'].idxmax()]\n",
    "        \n",
    "        print(f\" Lowest Risk: {lowest_risk['Symbol']} ({lowest_risk['RF_Volatility_%']:.2f}% volatility)\")\n",
    "        print(f\" Highest Risk: {highest_risk['Symbol']} ({highest_risk['RF_Volatility_%']:.2f}% volatility)\")\n",
    "        \n",
    "        return all_results, portfolio_df\n",
    "    \n",
    "    return all_results, None\n"
   ]
  },
  {
   "cell_type": "markdown",
   "id": "f4fd7367",
   "metadata": {},
   "source": [
    "### Main Execution - Stock Price Prediction System"
   ]
  },
  {
   "cell_type": "code",
   "execution_count": 18,
   "id": "44917b4a",
   "metadata": {},
   "outputs": [
    {
     "name": "stdout",
     "output_type": "stream",
     "text": [
      "ENHANCED STOCK PRICE PREDICTION SYSTEM\n",
      "============================================================\n",
      "Features:\n",
      "Market status checking\n",
      "Enhanced date handling (weekend awareness)\n",
      "Interactive prediction tables\n",
      "Multiple model comparisons\n",
      "Portfolio analysis\n",
      "Professional visualizations\n",
      "============================================================\n",
      "\n",
      "You can enter:\n",
      "- US Stocks: AAPL, MSFT, GOOGL, TSLA, AMZN, etc.\n",
      "- Indian Stocks: RELIANCE, TCS, INFY, L&T, HDFC, etc.\n",
      "- Other: Use exact Yahoo Finance symbols\n",
      "\n",
      "Enter stock symbols (type 'done' when finished)\n",
      "============================================================\n",
      "\n",
      "============================================================\n",
      "MARKET STATUS CHECK\n",
      "============================================================\n",
      "Current Date/Time: 2025-09-30 19:15:26\n",
      "Today is: Tuesday\n",
      "Markets closed for the day\n",
      "Today's data should be available\n",
      "============================================================\n",
      "\n",
      "============================================================\n",
      "PREDICTING STOCK PRICE FOR: AAPL -> AAPL\n",
      "============================================================\n",
      "Successfully fetched data for AAPL. Shape: (752, 5)\n",
      "Data Range: 2022-09-30 to 2025-09-30\n",
      "Most recent price: $254.46\n",
      "Data shape after technical indicators: (703, 13)\n",
      "\n",
      "Training Classical Models...\n",
      "\n",
      "Classical Models Performance:\n",
      "LinearRegression MSE: 154.0392, MAE: 8.7686, R²: 0.4281\n",
      "RandomForest    MSE: 260.4044, MAE: 13.0535, R²: 0.0331\n",
      "SVR             MSE: 149.0294, MAE: 9.0682, R²: 0.4467\n",
      "\n",
      "Training LSTM Model...\n",
      "LSTM Performance: MSE: 87.2915, MAE: 6.4527\n",
      "\n",
      "Generating 7-Day Future Predictions...\n",
      "\n",
      "GENERATING FUTURE TRADING DATES\n",
      "Last trading day in data: 2025-09-30 (Tuesday)\n",
      "2025-10-01 (Wednesday) - Trading Day\n",
      "2025-10-02 (Thursday) - Trading Day\n",
      "2025-10-03 (Friday) - Trading Day\n",
      "2025-10-04 (Saturday) - Skipped (Weekend)\n",
      "2025-10-05 (Sunday) - Skipped (Weekend)\n",
      "2025-10-06 (Monday) - Trading Day\n",
      "2025-10-07 (Tuesday) - Trading Day\n",
      "2025-10-08 (Wednesday) - Trading Day\n",
      "2025-10-09 (Thursday) - Trading Day\n",
      "\n",
      "Generated 7 future trading days\n",
      "Skipped 2 weekend days\n",
      "\n",
      "Creating Enhanced Visualizations...\n"
     ]
    },
    {
     "data": {
      "application/vnd.plotly.v1+json": {
       "config": {
        "plotlyServerURL": "https://plot.ly"
       },
       "data": [
        {
         "cells": {
          "align": "center",
          "fill": {
           "color": [
            [
             "white",
             "white",
             "white",
             "white",
             "white",
             "white",
             "white"
            ],
            [
             "white",
             "white",
             "white",
             "white",
             "white",
             "white",
             "white"
            ],
            [
             "white",
             "white",
             "white",
             "white",
             "white",
             "white",
             "white"
            ],
            [
             "#f8d7da",
             "#f8d7da",
             "#f8d7da",
             "#f8d7da",
             "#f8d7da",
             "#f8d7da",
             "#f8d7da"
            ],
            [
             "#f8d7da",
             "#f8d7da",
             "#f8d7da",
             "#f8d7da",
             "#f8d7da",
             "#f8d7da",
             "#f8d7da"
            ],
            [
             "#f8d7da",
             "#f8d7da",
             "#f8d7da",
             "#f8d7da",
             "#f8d7da",
             "#f8d7da",
             "#f8d7da"
            ],
            [
             "#f8d7da",
             "#f8d7da",
             "#d4edda",
             "#d4edda",
             "#d4edda",
             "#d4edda",
             "#d4edda"
            ],
            [
             "#f8d7da",
             "#f8d7da",
             "#d4edda",
             "#d4edda",
             "#d4edda",
             "#d4edda",
             "#d4edda"
            ],
            [
             "#f8d7da",
             "#f8d7da",
             "#d4edda",
             "#d4edda",
             "#d4edda",
             "#d4edda",
             "#d4edda"
            ]
           ]
          },
          "font": {
           "size": 12
          },
          "height": 35,
          "values": [
           [
            "2025-10-01",
            "2025-10-02",
            "2025-10-03",
            "2025-10-06",
            "2025-10-07",
            "2025-10-08",
            "2025-10-09"
           ],
           [
            "Wednesday",
            "Thursday",
            "Friday",
            "Monday",
            "Tuesday",
            "Wednesday",
            "Thursday"
           ],
           [
            1,
            2,
            3,
            4,
            5,
            6,
            7
           ],
           [
            "$246.07",
            "$245.95",
            "$245.95",
            "$245.95",
            "$245.95",
            "$245.95",
            "$245.95"
           ],
           [
            "-3.30%",
            "-3.35%",
            "-3.35%",
            "-3.35%",
            "-3.35%",
            "-3.35%",
            "-3.35%"
           ],
           [
            "📉",
            "📉",
            "📉",
            "📉",
            "📉",
            "📉",
            "📉"
           ],
           [
            "$252.24",
            "$253.65",
            "$254.69",
            "$255.41",
            "$255.89",
            "$256.19",
            "$256.35"
           ],
           [
            "-0.87%",
            "-0.32%",
            "+0.09%",
            "+0.37%",
            "+0.56%",
            "+0.68%",
            "+0.74%"
           ],
           [
            "📉",
            "📉",
            "📈",
            "📈",
            "📈",
            "📈",
            "📈"
           ]
          ]
         },
         "header": {
          "align": "center",
          "fill": {
           "color": "#1f2937"
          },
          "font": {
           "color": "white",
           "family": "Arial Black",
           "size": 14
          },
          "height": 40,
          "values": [
           "Date",
           "Day",
           "Days<br>Ahead",
           "RF Price<br>($)",
           "RF Change<br>(%)",
           "RF<br>Trend",
           "LSTM Price<br>($)",
           "LSTM Change<br>(%)",
           "LSTM<br>Trend"
          ]
         },
         "type": "table"
        }
       ],
       "layout": {
        "height": 400,
        "margin": {
         "b": 20,
         "l": 20,
         "r": 20,
         "t": 80
        },
        "template": {
         "data": {
          "bar": [
           {
            "error_x": {
             "color": "#2a3f5f"
            },
            "error_y": {
             "color": "#2a3f5f"
            },
            "marker": {
             "line": {
              "color": "#E5ECF6",
              "width": 0.5
             },
             "pattern": {
              "fillmode": "overlay",
              "size": 10,
              "solidity": 0.2
             }
            },
            "type": "bar"
           }
          ],
          "barpolar": [
           {
            "marker": {
             "line": {
              "color": "#E5ECF6",
              "width": 0.5
             },
             "pattern": {
              "fillmode": "overlay",
              "size": 10,
              "solidity": 0.2
             }
            },
            "type": "barpolar"
           }
          ],
          "carpet": [
           {
            "aaxis": {
             "endlinecolor": "#2a3f5f",
             "gridcolor": "white",
             "linecolor": "white",
             "minorgridcolor": "white",
             "startlinecolor": "#2a3f5f"
            },
            "baxis": {
             "endlinecolor": "#2a3f5f",
             "gridcolor": "white",
             "linecolor": "white",
             "minorgridcolor": "white",
             "startlinecolor": "#2a3f5f"
            },
            "type": "carpet"
           }
          ],
          "choropleth": [
           {
            "colorbar": {
             "outlinewidth": 0,
             "ticks": ""
            },
            "type": "choropleth"
           }
          ],
          "contour": [
           {
            "colorbar": {
             "outlinewidth": 0,
             "ticks": ""
            },
            "colorscale": [
             [
              0,
              "#0d0887"
             ],
             [
              0.1111111111111111,
              "#46039f"
             ],
             [
              0.2222222222222222,
              "#7201a8"
             ],
             [
              0.3333333333333333,
              "#9c179e"
             ],
             [
              0.4444444444444444,
              "#bd3786"
             ],
             [
              0.5555555555555556,
              "#d8576b"
             ],
             [
              0.6666666666666666,
              "#ed7953"
             ],
             [
              0.7777777777777778,
              "#fb9f3a"
             ],
             [
              0.8888888888888888,
              "#fdca26"
             ],
             [
              1,
              "#f0f921"
             ]
            ],
            "type": "contour"
           }
          ],
          "contourcarpet": [
           {
            "colorbar": {
             "outlinewidth": 0,
             "ticks": ""
            },
            "type": "contourcarpet"
           }
          ],
          "heatmap": [
           {
            "colorbar": {
             "outlinewidth": 0,
             "ticks": ""
            },
            "colorscale": [
             [
              0,
              "#0d0887"
             ],
             [
              0.1111111111111111,
              "#46039f"
             ],
             [
              0.2222222222222222,
              "#7201a8"
             ],
             [
              0.3333333333333333,
              "#9c179e"
             ],
             [
              0.4444444444444444,
              "#bd3786"
             ],
             [
              0.5555555555555556,
              "#d8576b"
             ],
             [
              0.6666666666666666,
              "#ed7953"
             ],
             [
              0.7777777777777778,
              "#fb9f3a"
             ],
             [
              0.8888888888888888,
              "#fdca26"
             ],
             [
              1,
              "#f0f921"
             ]
            ],
            "type": "heatmap"
           }
          ],
          "histogram": [
           {
            "marker": {
             "pattern": {
              "fillmode": "overlay",
              "size": 10,
              "solidity": 0.2
             }
            },
            "type": "histogram"
           }
          ],
          "histogram2d": [
           {
            "colorbar": {
             "outlinewidth": 0,
             "ticks": ""
            },
            "colorscale": [
             [
              0,
              "#0d0887"
             ],
             [
              0.1111111111111111,
              "#46039f"
             ],
             [
              0.2222222222222222,
              "#7201a8"
             ],
             [
              0.3333333333333333,
              "#9c179e"
             ],
             [
              0.4444444444444444,
              "#bd3786"
             ],
             [
              0.5555555555555556,
              "#d8576b"
             ],
             [
              0.6666666666666666,
              "#ed7953"
             ],
             [
              0.7777777777777778,
              "#fb9f3a"
             ],
             [
              0.8888888888888888,
              "#fdca26"
             ],
             [
              1,
              "#f0f921"
             ]
            ],
            "type": "histogram2d"
           }
          ],
          "histogram2dcontour": [
           {
            "colorbar": {
             "outlinewidth": 0,
             "ticks": ""
            },
            "colorscale": [
             [
              0,
              "#0d0887"
             ],
             [
              0.1111111111111111,
              "#46039f"
             ],
             [
              0.2222222222222222,
              "#7201a8"
             ],
             [
              0.3333333333333333,
              "#9c179e"
             ],
             [
              0.4444444444444444,
              "#bd3786"
             ],
             [
              0.5555555555555556,
              "#d8576b"
             ],
             [
              0.6666666666666666,
              "#ed7953"
             ],
             [
              0.7777777777777778,
              "#fb9f3a"
             ],
             [
              0.8888888888888888,
              "#fdca26"
             ],
             [
              1,
              "#f0f921"
             ]
            ],
            "type": "histogram2dcontour"
           }
          ],
          "mesh3d": [
           {
            "colorbar": {
             "outlinewidth": 0,
             "ticks": ""
            },
            "type": "mesh3d"
           }
          ],
          "parcoords": [
           {
            "line": {
             "colorbar": {
              "outlinewidth": 0,
              "ticks": ""
             }
            },
            "type": "parcoords"
           }
          ],
          "pie": [
           {
            "automargin": true,
            "type": "pie"
           }
          ],
          "scatter": [
           {
            "fillpattern": {
             "fillmode": "overlay",
             "size": 10,
             "solidity": 0.2
            },
            "type": "scatter"
           }
          ],
          "scatter3d": [
           {
            "line": {
             "colorbar": {
              "outlinewidth": 0,
              "ticks": ""
             }
            },
            "marker": {
             "colorbar": {
              "outlinewidth": 0,
              "ticks": ""
             }
            },
            "type": "scatter3d"
           }
          ],
          "scattercarpet": [
           {
            "marker": {
             "colorbar": {
              "outlinewidth": 0,
              "ticks": ""
             }
            },
            "type": "scattercarpet"
           }
          ],
          "scattergeo": [
           {
            "marker": {
             "colorbar": {
              "outlinewidth": 0,
              "ticks": ""
             }
            },
            "type": "scattergeo"
           }
          ],
          "scattergl": [
           {
            "marker": {
             "colorbar": {
              "outlinewidth": 0,
              "ticks": ""
             }
            },
            "type": "scattergl"
           }
          ],
          "scattermap": [
           {
            "marker": {
             "colorbar": {
              "outlinewidth": 0,
              "ticks": ""
             }
            },
            "type": "scattermap"
           }
          ],
          "scattermapbox": [
           {
            "marker": {
             "colorbar": {
              "outlinewidth": 0,
              "ticks": ""
             }
            },
            "type": "scattermapbox"
           }
          ],
          "scatterpolar": [
           {
            "marker": {
             "colorbar": {
              "outlinewidth": 0,
              "ticks": ""
             }
            },
            "type": "scatterpolar"
           }
          ],
          "scatterpolargl": [
           {
            "marker": {
             "colorbar": {
              "outlinewidth": 0,
              "ticks": ""
             }
            },
            "type": "scatterpolargl"
           }
          ],
          "scatterternary": [
           {
            "marker": {
             "colorbar": {
              "outlinewidth": 0,
              "ticks": ""
             }
            },
            "type": "scatterternary"
           }
          ],
          "surface": [
           {
            "colorbar": {
             "outlinewidth": 0,
             "ticks": ""
            },
            "colorscale": [
             [
              0,
              "#0d0887"
             ],
             [
              0.1111111111111111,
              "#46039f"
             ],
             [
              0.2222222222222222,
              "#7201a8"
             ],
             [
              0.3333333333333333,
              "#9c179e"
             ],
             [
              0.4444444444444444,
              "#bd3786"
             ],
             [
              0.5555555555555556,
              "#d8576b"
             ],
             [
              0.6666666666666666,
              "#ed7953"
             ],
             [
              0.7777777777777778,
              "#fb9f3a"
             ],
             [
              0.8888888888888888,
              "#fdca26"
             ],
             [
              1,
              "#f0f921"
             ]
            ],
            "type": "surface"
           }
          ],
          "table": [
           {
            "cells": {
             "fill": {
              "color": "#EBF0F8"
             },
             "line": {
              "color": "white"
             }
            },
            "header": {
             "fill": {
              "color": "#C8D4E3"
             },
             "line": {
              "color": "white"
             }
            },
            "type": "table"
           }
          ]
         },
         "layout": {
          "annotationdefaults": {
           "arrowcolor": "#2a3f5f",
           "arrowhead": 0,
           "arrowwidth": 1
          },
          "autotypenumbers": "strict",
          "coloraxis": {
           "colorbar": {
            "outlinewidth": 0,
            "ticks": ""
           }
          },
          "colorscale": {
           "diverging": [
            [
             0,
             "#8e0152"
            ],
            [
             0.1,
             "#c51b7d"
            ],
            [
             0.2,
             "#de77ae"
            ],
            [
             0.3,
             "#f1b6da"
            ],
            [
             0.4,
             "#fde0ef"
            ],
            [
             0.5,
             "#f7f7f7"
            ],
            [
             0.6,
             "#e6f5d0"
            ],
            [
             0.7,
             "#b8e186"
            ],
            [
             0.8,
             "#7fbc41"
            ],
            [
             0.9,
             "#4d9221"
            ],
            [
             1,
             "#276419"
            ]
           ],
           "sequential": [
            [
             0,
             "#0d0887"
            ],
            [
             0.1111111111111111,
             "#46039f"
            ],
            [
             0.2222222222222222,
             "#7201a8"
            ],
            [
             0.3333333333333333,
             "#9c179e"
            ],
            [
             0.4444444444444444,
             "#bd3786"
            ],
            [
             0.5555555555555556,
             "#d8576b"
            ],
            [
             0.6666666666666666,
             "#ed7953"
            ],
            [
             0.7777777777777778,
             "#fb9f3a"
            ],
            [
             0.8888888888888888,
             "#fdca26"
            ],
            [
             1,
             "#f0f921"
            ]
           ],
           "sequentialminus": [
            [
             0,
             "#0d0887"
            ],
            [
             0.1111111111111111,
             "#46039f"
            ],
            [
             0.2222222222222222,
             "#7201a8"
            ],
            [
             0.3333333333333333,
             "#9c179e"
            ],
            [
             0.4444444444444444,
             "#bd3786"
            ],
            [
             0.5555555555555556,
             "#d8576b"
            ],
            [
             0.6666666666666666,
             "#ed7953"
            ],
            [
             0.7777777777777778,
             "#fb9f3a"
            ],
            [
             0.8888888888888888,
             "#fdca26"
            ],
            [
             1,
             "#f0f921"
            ]
           ]
          },
          "colorway": [
           "#636efa",
           "#EF553B",
           "#00cc96",
           "#ab63fa",
           "#FFA15A",
           "#19d3f3",
           "#FF6692",
           "#B6E880",
           "#FF97FF",
           "#FECB52"
          ],
          "font": {
           "color": "#2a3f5f"
          },
          "geo": {
           "bgcolor": "white",
           "lakecolor": "white",
           "landcolor": "#E5ECF6",
           "showlakes": true,
           "showland": true,
           "subunitcolor": "white"
          },
          "hoverlabel": {
           "align": "left"
          },
          "hovermode": "closest",
          "mapbox": {
           "style": "light"
          },
          "paper_bgcolor": "white",
          "plot_bgcolor": "#E5ECF6",
          "polar": {
           "angularaxis": {
            "gridcolor": "white",
            "linecolor": "white",
            "ticks": ""
           },
           "bgcolor": "#E5ECF6",
           "radialaxis": {
            "gridcolor": "white",
            "linecolor": "white",
            "ticks": ""
           }
          },
          "scene": {
           "xaxis": {
            "backgroundcolor": "#E5ECF6",
            "gridcolor": "white",
            "gridwidth": 2,
            "linecolor": "white",
            "showbackground": true,
            "ticks": "",
            "zerolinecolor": "white"
           },
           "yaxis": {
            "backgroundcolor": "#E5ECF6",
            "gridcolor": "white",
            "gridwidth": 2,
            "linecolor": "white",
            "showbackground": true,
            "ticks": "",
            "zerolinecolor": "white"
           },
           "zaxis": {
            "backgroundcolor": "#E5ECF6",
            "gridcolor": "white",
            "gridwidth": 2,
            "linecolor": "white",
            "showbackground": true,
            "ticks": "",
            "zerolinecolor": "white"
           }
          },
          "shapedefaults": {
           "line": {
            "color": "#2a3f5f"
           }
          },
          "ternary": {
           "aaxis": {
            "gridcolor": "white",
            "linecolor": "white",
            "ticks": ""
           },
           "baxis": {
            "gridcolor": "white",
            "linecolor": "white",
            "ticks": ""
           },
           "bgcolor": "#E5ECF6",
           "caxis": {
            "gridcolor": "white",
            "linecolor": "white",
            "ticks": ""
           }
          },
          "title": {
           "x": 0.05
          },
          "xaxis": {
           "automargin": true,
           "gridcolor": "white",
           "linecolor": "white",
           "ticks": "",
           "title": {
            "standoff": 15
           },
           "zerolinecolor": "white",
           "zerolinewidth": 2
          },
          "yaxis": {
           "automargin": true,
           "gridcolor": "white",
           "linecolor": "white",
           "ticks": "",
           "title": {
            "standoff": 15
           },
           "zerolinecolor": "white",
           "zerolinewidth": 2
          }
         }
        },
        "title": {
         "font": {
          "color": "#1f2937",
          "size": 18
         },
         "text": "AAPL - Future Price Predictions Table<br><sub>Current Price: $254.46</sub>",
         "x": 0.5
        }
       }
      }
     },
     "metadata": {},
     "output_type": "display_data"
    },
    {
     "data": {
      "application/vnd.plotly.v1+json": {
       "config": {
        "plotlyServerURL": "https://plot.ly"
       },
       "data": [
        {
         "line": {
          "color": "#2E86AB",
          "width": 3
         },
         "marker": {
          "size": 8,
          "symbol": "circle"
         },
         "name": "RandomForest Prediction",
         "type": "scatter",
         "x": [
          "2025-09-30T00:00:00",
          "2025-10-01T00:00:00",
          "2025-10-02T00:00:00",
          "2025-10-03T00:00:00",
          "2025-10-06T00:00:00",
          "2025-10-07T00:00:00",
          "2025-10-08T00:00:00",
          "2025-10-09T00:00:00"
         ],
         "y": [
          254.4600067138672,
          246.07245574951173,
          245.94779022216798,
          245.94779022216798,
          245.94779022216798,
          245.94779022216798,
          245.94779022216798,
          245.94779022216798
         ]
        },
        {
         "line": {
          "color": "#F24236",
          "dash": "dot",
          "width": 3
         },
         "marker": {
          "size": 8,
          "symbol": "diamond"
         },
         "name": "LSTM Prediction",
         "type": "scatter",
         "x": [
          "2025-09-30T00:00:00",
          "2025-10-01T00:00:00",
          "2025-10-02T00:00:00",
          "2025-10-03T00:00:00",
          "2025-10-06T00:00:00",
          "2025-10-07T00:00:00",
          "2025-10-08T00:00:00",
          "2025-10-09T00:00:00"
         ],
         "y": [
          254.4600067138672,
          252.23893010755094,
          253.65185094097026,
          254.686250136057,
          255.41030546449477,
          255.8912544811724,
          256.1875834923503,
          256.3468256804317
         ]
        },
        {
         "marker": {
          "color": "green",
          "size": 15,
          "symbol": "star"
         },
         "mode": "markers",
         "name": "Current Price",
         "type": "scatter",
         "x": [
          "2025-09-30T00:00:00"
         ],
         "y": [
          254.4600067138672
         ]
        }
       ],
       "layout": {
        "annotations": [
         {
          "showarrow": false,
          "text": "Current: $254.46",
          "x": 1,
          "xanchor": "right",
          "xref": "x domain",
          "y": 254.4600067138672,
          "yanchor": "bottom",
          "yref": "y"
         }
        ],
        "height": 500,
        "hovermode": "x unified",
        "shapes": [
         {
          "line": {
           "color": "gray",
           "dash": "dash"
          },
          "type": "line",
          "x0": 0,
          "x1": 1,
          "xref": "x domain",
          "y0": 254.4600067138672,
          "y1": 254.4600067138672,
          "yref": "y"
         }
        ],
        "template": {
         "data": {
          "bar": [
           {
            "error_x": {
             "color": "#2a3f5f"
            },
            "error_y": {
             "color": "#2a3f5f"
            },
            "marker": {
             "line": {
              "color": "white",
              "width": 0.5
             },
             "pattern": {
              "fillmode": "overlay",
              "size": 10,
              "solidity": 0.2
             }
            },
            "type": "bar"
           }
          ],
          "barpolar": [
           {
            "marker": {
             "line": {
              "color": "white",
              "width": 0.5
             },
             "pattern": {
              "fillmode": "overlay",
              "size": 10,
              "solidity": 0.2
             }
            },
            "type": "barpolar"
           }
          ],
          "carpet": [
           {
            "aaxis": {
             "endlinecolor": "#2a3f5f",
             "gridcolor": "#C8D4E3",
             "linecolor": "#C8D4E3",
             "minorgridcolor": "#C8D4E3",
             "startlinecolor": "#2a3f5f"
            },
            "baxis": {
             "endlinecolor": "#2a3f5f",
             "gridcolor": "#C8D4E3",
             "linecolor": "#C8D4E3",
             "minorgridcolor": "#C8D4E3",
             "startlinecolor": "#2a3f5f"
            },
            "type": "carpet"
           }
          ],
          "choropleth": [
           {
            "colorbar": {
             "outlinewidth": 0,
             "ticks": ""
            },
            "type": "choropleth"
           }
          ],
          "contour": [
           {
            "colorbar": {
             "outlinewidth": 0,
             "ticks": ""
            },
            "colorscale": [
             [
              0,
              "#0d0887"
             ],
             [
              0.1111111111111111,
              "#46039f"
             ],
             [
              0.2222222222222222,
              "#7201a8"
             ],
             [
              0.3333333333333333,
              "#9c179e"
             ],
             [
              0.4444444444444444,
              "#bd3786"
             ],
             [
              0.5555555555555556,
              "#d8576b"
             ],
             [
              0.6666666666666666,
              "#ed7953"
             ],
             [
              0.7777777777777778,
              "#fb9f3a"
             ],
             [
              0.8888888888888888,
              "#fdca26"
             ],
             [
              1,
              "#f0f921"
             ]
            ],
            "type": "contour"
           }
          ],
          "contourcarpet": [
           {
            "colorbar": {
             "outlinewidth": 0,
             "ticks": ""
            },
            "type": "contourcarpet"
           }
          ],
          "heatmap": [
           {
            "colorbar": {
             "outlinewidth": 0,
             "ticks": ""
            },
            "colorscale": [
             [
              0,
              "#0d0887"
             ],
             [
              0.1111111111111111,
              "#46039f"
             ],
             [
              0.2222222222222222,
              "#7201a8"
             ],
             [
              0.3333333333333333,
              "#9c179e"
             ],
             [
              0.4444444444444444,
              "#bd3786"
             ],
             [
              0.5555555555555556,
              "#d8576b"
             ],
             [
              0.6666666666666666,
              "#ed7953"
             ],
             [
              0.7777777777777778,
              "#fb9f3a"
             ],
             [
              0.8888888888888888,
              "#fdca26"
             ],
             [
              1,
              "#f0f921"
             ]
            ],
            "type": "heatmap"
           }
          ],
          "histogram": [
           {
            "marker": {
             "pattern": {
              "fillmode": "overlay",
              "size": 10,
              "solidity": 0.2
             }
            },
            "type": "histogram"
           }
          ],
          "histogram2d": [
           {
            "colorbar": {
             "outlinewidth": 0,
             "ticks": ""
            },
            "colorscale": [
             [
              0,
              "#0d0887"
             ],
             [
              0.1111111111111111,
              "#46039f"
             ],
             [
              0.2222222222222222,
              "#7201a8"
             ],
             [
              0.3333333333333333,
              "#9c179e"
             ],
             [
              0.4444444444444444,
              "#bd3786"
             ],
             [
              0.5555555555555556,
              "#d8576b"
             ],
             [
              0.6666666666666666,
              "#ed7953"
             ],
             [
              0.7777777777777778,
              "#fb9f3a"
             ],
             [
              0.8888888888888888,
              "#fdca26"
             ],
             [
              1,
              "#f0f921"
             ]
            ],
            "type": "histogram2d"
           }
          ],
          "histogram2dcontour": [
           {
            "colorbar": {
             "outlinewidth": 0,
             "ticks": ""
            },
            "colorscale": [
             [
              0,
              "#0d0887"
             ],
             [
              0.1111111111111111,
              "#46039f"
             ],
             [
              0.2222222222222222,
              "#7201a8"
             ],
             [
              0.3333333333333333,
              "#9c179e"
             ],
             [
              0.4444444444444444,
              "#bd3786"
             ],
             [
              0.5555555555555556,
              "#d8576b"
             ],
             [
              0.6666666666666666,
              "#ed7953"
             ],
             [
              0.7777777777777778,
              "#fb9f3a"
             ],
             [
              0.8888888888888888,
              "#fdca26"
             ],
             [
              1,
              "#f0f921"
             ]
            ],
            "type": "histogram2dcontour"
           }
          ],
          "mesh3d": [
           {
            "colorbar": {
             "outlinewidth": 0,
             "ticks": ""
            },
            "type": "mesh3d"
           }
          ],
          "parcoords": [
           {
            "line": {
             "colorbar": {
              "outlinewidth": 0,
              "ticks": ""
             }
            },
            "type": "parcoords"
           }
          ],
          "pie": [
           {
            "automargin": true,
            "type": "pie"
           }
          ],
          "scatter": [
           {
            "fillpattern": {
             "fillmode": "overlay",
             "size": 10,
             "solidity": 0.2
            },
            "type": "scatter"
           }
          ],
          "scatter3d": [
           {
            "line": {
             "colorbar": {
              "outlinewidth": 0,
              "ticks": ""
             }
            },
            "marker": {
             "colorbar": {
              "outlinewidth": 0,
              "ticks": ""
             }
            },
            "type": "scatter3d"
           }
          ],
          "scattercarpet": [
           {
            "marker": {
             "colorbar": {
              "outlinewidth": 0,
              "ticks": ""
             }
            },
            "type": "scattercarpet"
           }
          ],
          "scattergeo": [
           {
            "marker": {
             "colorbar": {
              "outlinewidth": 0,
              "ticks": ""
             }
            },
            "type": "scattergeo"
           }
          ],
          "scattergl": [
           {
            "marker": {
             "colorbar": {
              "outlinewidth": 0,
              "ticks": ""
             }
            },
            "type": "scattergl"
           }
          ],
          "scattermap": [
           {
            "marker": {
             "colorbar": {
              "outlinewidth": 0,
              "ticks": ""
             }
            },
            "type": "scattermap"
           }
          ],
          "scattermapbox": [
           {
            "marker": {
             "colorbar": {
              "outlinewidth": 0,
              "ticks": ""
             }
            },
            "type": "scattermapbox"
           }
          ],
          "scatterpolar": [
           {
            "marker": {
             "colorbar": {
              "outlinewidth": 0,
              "ticks": ""
             }
            },
            "type": "scatterpolar"
           }
          ],
          "scatterpolargl": [
           {
            "marker": {
             "colorbar": {
              "outlinewidth": 0,
              "ticks": ""
             }
            },
            "type": "scatterpolargl"
           }
          ],
          "scatterternary": [
           {
            "marker": {
             "colorbar": {
              "outlinewidth": 0,
              "ticks": ""
             }
            },
            "type": "scatterternary"
           }
          ],
          "surface": [
           {
            "colorbar": {
             "outlinewidth": 0,
             "ticks": ""
            },
            "colorscale": [
             [
              0,
              "#0d0887"
             ],
             [
              0.1111111111111111,
              "#46039f"
             ],
             [
              0.2222222222222222,
              "#7201a8"
             ],
             [
              0.3333333333333333,
              "#9c179e"
             ],
             [
              0.4444444444444444,
              "#bd3786"
             ],
             [
              0.5555555555555556,
              "#d8576b"
             ],
             [
              0.6666666666666666,
              "#ed7953"
             ],
             [
              0.7777777777777778,
              "#fb9f3a"
             ],
             [
              0.8888888888888888,
              "#fdca26"
             ],
             [
              1,
              "#f0f921"
             ]
            ],
            "type": "surface"
           }
          ],
          "table": [
           {
            "cells": {
             "fill": {
              "color": "#EBF0F8"
             },
             "line": {
              "color": "white"
             }
            },
            "header": {
             "fill": {
              "color": "#C8D4E3"
             },
             "line": {
              "color": "white"
             }
            },
            "type": "table"
           }
          ]
         },
         "layout": {
          "annotationdefaults": {
           "arrowcolor": "#2a3f5f",
           "arrowhead": 0,
           "arrowwidth": 1
          },
          "autotypenumbers": "strict",
          "coloraxis": {
           "colorbar": {
            "outlinewidth": 0,
            "ticks": ""
           }
          },
          "colorscale": {
           "diverging": [
            [
             0,
             "#8e0152"
            ],
            [
             0.1,
             "#c51b7d"
            ],
            [
             0.2,
             "#de77ae"
            ],
            [
             0.3,
             "#f1b6da"
            ],
            [
             0.4,
             "#fde0ef"
            ],
            [
             0.5,
             "#f7f7f7"
            ],
            [
             0.6,
             "#e6f5d0"
            ],
            [
             0.7,
             "#b8e186"
            ],
            [
             0.8,
             "#7fbc41"
            ],
            [
             0.9,
             "#4d9221"
            ],
            [
             1,
             "#276419"
            ]
           ],
           "sequential": [
            [
             0,
             "#0d0887"
            ],
            [
             0.1111111111111111,
             "#46039f"
            ],
            [
             0.2222222222222222,
             "#7201a8"
            ],
            [
             0.3333333333333333,
             "#9c179e"
            ],
            [
             0.4444444444444444,
             "#bd3786"
            ],
            [
             0.5555555555555556,
             "#d8576b"
            ],
            [
             0.6666666666666666,
             "#ed7953"
            ],
            [
             0.7777777777777778,
             "#fb9f3a"
            ],
            [
             0.8888888888888888,
             "#fdca26"
            ],
            [
             1,
             "#f0f921"
            ]
           ],
           "sequentialminus": [
            [
             0,
             "#0d0887"
            ],
            [
             0.1111111111111111,
             "#46039f"
            ],
            [
             0.2222222222222222,
             "#7201a8"
            ],
            [
             0.3333333333333333,
             "#9c179e"
            ],
            [
             0.4444444444444444,
             "#bd3786"
            ],
            [
             0.5555555555555556,
             "#d8576b"
            ],
            [
             0.6666666666666666,
             "#ed7953"
            ],
            [
             0.7777777777777778,
             "#fb9f3a"
            ],
            [
             0.8888888888888888,
             "#fdca26"
            ],
            [
             1,
             "#f0f921"
            ]
           ]
          },
          "colorway": [
           "#636efa",
           "#EF553B",
           "#00cc96",
           "#ab63fa",
           "#FFA15A",
           "#19d3f3",
           "#FF6692",
           "#B6E880",
           "#FF97FF",
           "#FECB52"
          ],
          "font": {
           "color": "#2a3f5f"
          },
          "geo": {
           "bgcolor": "white",
           "lakecolor": "white",
           "landcolor": "white",
           "showlakes": true,
           "showland": true,
           "subunitcolor": "#C8D4E3"
          },
          "hoverlabel": {
           "align": "left"
          },
          "hovermode": "closest",
          "mapbox": {
           "style": "light"
          },
          "paper_bgcolor": "white",
          "plot_bgcolor": "white",
          "polar": {
           "angularaxis": {
            "gridcolor": "#EBF0F8",
            "linecolor": "#EBF0F8",
            "ticks": ""
           },
           "bgcolor": "white",
           "radialaxis": {
            "gridcolor": "#EBF0F8",
            "linecolor": "#EBF0F8",
            "ticks": ""
           }
          },
          "scene": {
           "xaxis": {
            "backgroundcolor": "white",
            "gridcolor": "#DFE8F3",
            "gridwidth": 2,
            "linecolor": "#EBF0F8",
            "showbackground": true,
            "ticks": "",
            "zerolinecolor": "#EBF0F8"
           },
           "yaxis": {
            "backgroundcolor": "white",
            "gridcolor": "#DFE8F3",
            "gridwidth": 2,
            "linecolor": "#EBF0F8",
            "showbackground": true,
            "ticks": "",
            "zerolinecolor": "#EBF0F8"
           },
           "zaxis": {
            "backgroundcolor": "white",
            "gridcolor": "#DFE8F3",
            "gridwidth": 2,
            "linecolor": "#EBF0F8",
            "showbackground": true,
            "ticks": "",
            "zerolinecolor": "#EBF0F8"
           }
          },
          "shapedefaults": {
           "line": {
            "color": "#2a3f5f"
           }
          },
          "ternary": {
           "aaxis": {
            "gridcolor": "#DFE8F3",
            "linecolor": "#A2B1C6",
            "ticks": ""
           },
           "baxis": {
            "gridcolor": "#DFE8F3",
            "linecolor": "#A2B1C6",
            "ticks": ""
           },
           "bgcolor": "white",
           "caxis": {
            "gridcolor": "#DFE8F3",
            "linecolor": "#A2B1C6",
            "ticks": ""
           }
          },
          "title": {
           "x": 0.05
          },
          "xaxis": {
           "automargin": true,
           "gridcolor": "#EBF0F8",
           "linecolor": "#EBF0F8",
           "ticks": "",
           "title": {
            "standoff": 15
           },
           "zerolinecolor": "#EBF0F8",
           "zerolinewidth": 2
          },
          "yaxis": {
           "automargin": true,
           "gridcolor": "#EBF0F8",
           "linecolor": "#EBF0F8",
           "ticks": "",
           "title": {
            "standoff": 15
           },
           "zerolinecolor": "#EBF0F8",
           "zerolinewidth": 2
          }
         }
        },
        "title": {
         "text": "AAPL - Future Price Predictions Comparison"
        },
        "xaxis": {
         "title": {
          "text": "Date"
         }
        },
        "yaxis": {
         "title": {
          "text": "Price ($)"
         }
        }
       }
      }
     },
     "metadata": {},
     "output_type": "display_data"
    },
    {
     "data": {
      "application/vnd.plotly.v1+json": {
       "config": {
        "plotlyServerURL": "https://plot.ly"
       },
       "data": [
        {
         "line": {
          "color": "#2E86AB",
          "width": 2
         },
         "name": "Actual Price",
         "type": "scatter",
         "x": [
          "2025-03-12T00:00:00.000000000",
          "2025-03-13T00:00:00.000000000",
          "2025-03-14T00:00:00.000000000",
          "2025-03-17T00:00:00.000000000",
          "2025-03-18T00:00:00.000000000",
          "2025-03-19T00:00:00.000000000",
          "2025-03-20T00:00:00.000000000",
          "2025-03-21T00:00:00.000000000",
          "2025-03-24T00:00:00.000000000",
          "2025-03-25T00:00:00.000000000",
          "2025-03-26T00:00:00.000000000",
          "2025-03-27T00:00:00.000000000",
          "2025-03-28T00:00:00.000000000",
          "2025-03-31T00:00:00.000000000",
          "2025-04-01T00:00:00.000000000",
          "2025-04-02T00:00:00.000000000",
          "2025-04-03T00:00:00.000000000",
          "2025-04-04T00:00:00.000000000",
          "2025-04-07T00:00:00.000000000",
          "2025-04-08T00:00:00.000000000",
          "2025-04-09T00:00:00.000000000",
          "2025-04-10T00:00:00.000000000",
          "2025-04-11T00:00:00.000000000",
          "2025-04-14T00:00:00.000000000",
          "2025-04-15T00:00:00.000000000",
          "2025-04-16T00:00:00.000000000",
          "2025-04-17T00:00:00.000000000",
          "2025-04-21T00:00:00.000000000",
          "2025-04-22T00:00:00.000000000",
          "2025-04-23T00:00:00.000000000",
          "2025-04-24T00:00:00.000000000",
          "2025-04-25T00:00:00.000000000",
          "2025-04-28T00:00:00.000000000",
          "2025-04-29T00:00:00.000000000",
          "2025-04-30T00:00:00.000000000",
          "2025-05-01T00:00:00.000000000",
          "2025-05-02T00:00:00.000000000",
          "2025-05-05T00:00:00.000000000",
          "2025-05-06T00:00:00.000000000",
          "2025-05-07T00:00:00.000000000",
          "2025-05-08T00:00:00.000000000",
          "2025-05-09T00:00:00.000000000",
          "2025-05-12T00:00:00.000000000",
          "2025-05-13T00:00:00.000000000",
          "2025-05-14T00:00:00.000000000",
          "2025-05-15T00:00:00.000000000",
          "2025-05-16T00:00:00.000000000",
          "2025-05-19T00:00:00.000000000",
          "2025-05-20T00:00:00.000000000",
          "2025-05-21T00:00:00.000000000",
          "2025-05-22T00:00:00.000000000",
          "2025-05-23T00:00:00.000000000",
          "2025-05-27T00:00:00.000000000",
          "2025-05-28T00:00:00.000000000",
          "2025-05-29T00:00:00.000000000",
          "2025-05-30T00:00:00.000000000",
          "2025-06-02T00:00:00.000000000",
          "2025-06-03T00:00:00.000000000",
          "2025-06-04T00:00:00.000000000",
          "2025-06-05T00:00:00.000000000",
          "2025-06-06T00:00:00.000000000",
          "2025-06-09T00:00:00.000000000",
          "2025-06-10T00:00:00.000000000",
          "2025-06-11T00:00:00.000000000",
          "2025-06-12T00:00:00.000000000",
          "2025-06-13T00:00:00.000000000",
          "2025-06-16T00:00:00.000000000",
          "2025-06-17T00:00:00.000000000",
          "2025-06-18T00:00:00.000000000",
          "2025-06-20T00:00:00.000000000",
          "2025-06-23T00:00:00.000000000",
          "2025-06-24T00:00:00.000000000",
          "2025-06-25T00:00:00.000000000",
          "2025-06-26T00:00:00.000000000",
          "2025-06-27T00:00:00.000000000",
          "2025-06-30T00:00:00.000000000",
          "2025-07-01T00:00:00.000000000",
          "2025-07-02T00:00:00.000000000",
          "2025-07-03T00:00:00.000000000",
          "2025-07-07T00:00:00.000000000",
          "2025-07-08T00:00:00.000000000",
          "2025-07-09T00:00:00.000000000",
          "2025-07-10T00:00:00.000000000",
          "2025-07-11T00:00:00.000000000",
          "2025-07-14T00:00:00.000000000",
          "2025-07-15T00:00:00.000000000",
          "2025-07-16T00:00:00.000000000",
          "2025-07-17T00:00:00.000000000",
          "2025-07-18T00:00:00.000000000",
          "2025-07-21T00:00:00.000000000",
          "2025-07-22T00:00:00.000000000",
          "2025-07-23T00:00:00.000000000",
          "2025-07-24T00:00:00.000000000",
          "2025-07-25T00:00:00.000000000",
          "2025-07-28T00:00:00.000000000",
          "2025-07-29T00:00:00.000000000",
          "2025-07-30T00:00:00.000000000",
          "2025-07-31T00:00:00.000000000",
          "2025-08-01T00:00:00.000000000",
          "2025-08-04T00:00:00.000000000",
          "2025-08-05T00:00:00.000000000",
          "2025-08-06T00:00:00.000000000",
          "2025-08-07T00:00:00.000000000",
          "2025-08-08T00:00:00.000000000",
          "2025-08-11T00:00:00.000000000",
          "2025-08-12T00:00:00.000000000",
          "2025-08-13T00:00:00.000000000",
          "2025-08-14T00:00:00.000000000",
          "2025-08-15T00:00:00.000000000",
          "2025-08-18T00:00:00.000000000",
          "2025-08-19T00:00:00.000000000",
          "2025-08-20T00:00:00.000000000",
          "2025-08-21T00:00:00.000000000",
          "2025-08-22T00:00:00.000000000",
          "2025-08-25T00:00:00.000000000",
          "2025-08-26T00:00:00.000000000",
          "2025-08-27T00:00:00.000000000",
          "2025-08-28T00:00:00.000000000",
          "2025-08-29T00:00:00.000000000",
          "2025-09-02T00:00:00.000000000",
          "2025-09-03T00:00:00.000000000",
          "2025-09-04T00:00:00.000000000",
          "2025-09-05T00:00:00.000000000",
          "2025-09-08T00:00:00.000000000",
          "2025-09-09T00:00:00.000000000",
          "2025-09-10T00:00:00.000000000",
          "2025-09-11T00:00:00.000000000",
          "2025-09-12T00:00:00.000000000",
          "2025-09-15T00:00:00.000000000",
          "2025-09-16T00:00:00.000000000",
          "2025-09-17T00:00:00.000000000",
          "2025-09-18T00:00:00.000000000",
          "2025-09-19T00:00:00.000000000",
          "2025-09-22T00:00:00.000000000",
          "2025-09-23T00:00:00.000000000",
          "2025-09-24T00:00:00.000000000",
          "2025-09-25T00:00:00.000000000",
          "2025-09-26T00:00:00.000000000",
          "2025-09-29T00:00:00.000000000",
          "2025-09-30T00:00:00.000000000"
         ],
         "xaxis": "x",
         "y": {
          "bdata": "AAAA4GcOa0AAAABgYCVqQAAAAMD/nmpAAAAAYEevakAAAAAAdoVqQAAAAKDc1mpAAAAAoHiyakAAAADAlTdrQAAAAOAchmtAAAAAYITma0AAAABgpp9rQAAAAIC16WtAAAAAIMYra0AAAADAzbJrQAAAAACk1GtAAAAAYPzqa0AAAAAgNFZpQAAAAOBwfWdAAAAAoIqgZkAAAADA939lQAAAAKCpy2hAAAAAwI++Z0AAAAAgUbVoQAAAAODQQGlAAAAAgK80aUAAAADgdTloQAAAAAD4j2hAAAAA4AYWaEAAAADAEuhoQAAAAMA2g2lAAAAAAI/7aUAAAACAmxhqQAAAAIAPNGpAAAAAgDdWakAAAABgZX9qQAAAAICSmWpAAAAAoCebaUAAAACA8MxoQAAAAADPwGhAAAAAYKp4aEAAAADAP6BoQAAAAKBywWhAAAAAIKJRakAAAAAgCZZqQAAAAIDbgmpAAAAAwLpmakAAAAAAqGBqQAAAAOBiEWpAAAAAIATUaUAAAACAjDtpQAAAACA3JGlAAAAAgI5haEAAAAAgdf9oQAAAAGArBmlAAAAAgCX3aEAAAAAA6hNpQAAAAEAVL2lAAAAAIERhaUAAAAAA4lJpQAAAAODhDGlAAAAA4Ap2aUAAAACgFydpQAAAAIAWTmlAAAAAwL/RaEAAAACALN9oQAAAAABGh2hAAAAAAD7GaEAAAAAAYm1oQAAAAMBti2hAAAAAYLUYaUAAAADAsChpQAAAAIBVAmlAAAAAwJsqaUAAAABgtRhpQAAAAABEG2lAAAAAQP+daUAAAACAs/JpQAAAAKBfhmpAAAAAgNqpakAAAACgyDZqQAAAAKCzOGpAAAAAINJcakAAAAAgaoVqQAAAAMB1XWpAAAAAoEUMakAAAABA7xtqQAAAACB/PWpAAAAAgAU5akAAAABgGV5qQAAAAOCmh2pAAAAAwAXFakAAAAAACL1qQAAAAMCQsGpAAAAAwGa0akAAAADg1blqQAAAAOD5YGpAAAAAQAQaakAAAADgteppQAAAAKDRRGlAAAAA4NJjaUAAAAAgFFZpQAAAAKBDoGpAAAAAYPp4a0AAAABg4aJsQAAAAIDCZWxAAAAAwMy0bEAAAABgjyptQAAAAMD1GG1AAAAAQOHybEAAAADgetxsQAAAAIDr0WxAAAAA4FFAbEAAAADAzBxsQAAAAOBReGxAAAAAwB5lbEAAAACA66lsQAAAACCuz2xAAAAAgOsRbUAAAADgegRtQAAAAEAKt2xAAAAAQArPbUAAAADA9fhtQAAAAIAU9m1AAAAAACm8bUAAAABAM0ttQAAAAKBHWWxAAAAAwPXAbEAAAACAPUJtQAAAAGBmlm1AAAAAwMzEbUAAAAAgrt9tQAAAAAApvG1AAAAAAACwbkAAAACgRwFwQAAAAIDCzW9AAAAAgOuJb0AAAACA6w1wQAAAAGC47m9AAAAAgMLNb0AAAABguM5vQA==",
          "dtype": "f8"
         },
         "yaxis": "y"
        },
        {
         "line": {
          "color": "#F24236",
          "dash": "dot",
          "width": 2
         },
         "name": "Predicted Price",
         "type": "scatter",
         "x": [
          "2025-03-12T00:00:00.000000000",
          "2025-03-13T00:00:00.000000000",
          "2025-03-14T00:00:00.000000000",
          "2025-03-17T00:00:00.000000000",
          "2025-03-18T00:00:00.000000000",
          "2025-03-19T00:00:00.000000000",
          "2025-03-20T00:00:00.000000000",
          "2025-03-21T00:00:00.000000000",
          "2025-03-24T00:00:00.000000000",
          "2025-03-25T00:00:00.000000000",
          "2025-03-26T00:00:00.000000000",
          "2025-03-27T00:00:00.000000000",
          "2025-03-28T00:00:00.000000000",
          "2025-03-31T00:00:00.000000000",
          "2025-04-01T00:00:00.000000000",
          "2025-04-02T00:00:00.000000000",
          "2025-04-03T00:00:00.000000000",
          "2025-04-04T00:00:00.000000000",
          "2025-04-07T00:00:00.000000000",
          "2025-04-08T00:00:00.000000000",
          "2025-04-09T00:00:00.000000000",
          "2025-04-10T00:00:00.000000000",
          "2025-04-11T00:00:00.000000000",
          "2025-04-14T00:00:00.000000000",
          "2025-04-15T00:00:00.000000000",
          "2025-04-16T00:00:00.000000000",
          "2025-04-17T00:00:00.000000000",
          "2025-04-21T00:00:00.000000000",
          "2025-04-22T00:00:00.000000000",
          "2025-04-23T00:00:00.000000000",
          "2025-04-24T00:00:00.000000000",
          "2025-04-25T00:00:00.000000000",
          "2025-04-28T00:00:00.000000000",
          "2025-04-29T00:00:00.000000000",
          "2025-04-30T00:00:00.000000000",
          "2025-05-01T00:00:00.000000000",
          "2025-05-02T00:00:00.000000000",
          "2025-05-05T00:00:00.000000000",
          "2025-05-06T00:00:00.000000000",
          "2025-05-07T00:00:00.000000000",
          "2025-05-08T00:00:00.000000000",
          "2025-05-09T00:00:00.000000000",
          "2025-05-12T00:00:00.000000000",
          "2025-05-13T00:00:00.000000000",
          "2025-05-14T00:00:00.000000000",
          "2025-05-15T00:00:00.000000000",
          "2025-05-16T00:00:00.000000000",
          "2025-05-19T00:00:00.000000000",
          "2025-05-20T00:00:00.000000000",
          "2025-05-21T00:00:00.000000000",
          "2025-05-22T00:00:00.000000000",
          "2025-05-23T00:00:00.000000000",
          "2025-05-27T00:00:00.000000000",
          "2025-05-28T00:00:00.000000000",
          "2025-05-29T00:00:00.000000000",
          "2025-05-30T00:00:00.000000000",
          "2025-06-02T00:00:00.000000000",
          "2025-06-03T00:00:00.000000000",
          "2025-06-04T00:00:00.000000000",
          "2025-06-05T00:00:00.000000000",
          "2025-06-06T00:00:00.000000000",
          "2025-06-09T00:00:00.000000000",
          "2025-06-10T00:00:00.000000000",
          "2025-06-11T00:00:00.000000000",
          "2025-06-12T00:00:00.000000000",
          "2025-06-13T00:00:00.000000000",
          "2025-06-16T00:00:00.000000000",
          "2025-06-17T00:00:00.000000000",
          "2025-06-18T00:00:00.000000000",
          "2025-06-20T00:00:00.000000000",
          "2025-06-23T00:00:00.000000000",
          "2025-06-24T00:00:00.000000000",
          "2025-06-25T00:00:00.000000000",
          "2025-06-26T00:00:00.000000000",
          "2025-06-27T00:00:00.000000000",
          "2025-06-30T00:00:00.000000000",
          "2025-07-01T00:00:00.000000000",
          "2025-07-02T00:00:00.000000000",
          "2025-07-03T00:00:00.000000000",
          "2025-07-07T00:00:00.000000000",
          "2025-07-08T00:00:00.000000000",
          "2025-07-09T00:00:00.000000000",
          "2025-07-10T00:00:00.000000000",
          "2025-07-11T00:00:00.000000000",
          "2025-07-14T00:00:00.000000000",
          "2025-07-15T00:00:00.000000000",
          "2025-07-16T00:00:00.000000000",
          "2025-07-17T00:00:00.000000000",
          "2025-07-18T00:00:00.000000000",
          "2025-07-21T00:00:00.000000000",
          "2025-07-22T00:00:00.000000000",
          "2025-07-23T00:00:00.000000000",
          "2025-07-24T00:00:00.000000000",
          "2025-07-25T00:00:00.000000000",
          "2025-07-28T00:00:00.000000000",
          "2025-07-29T00:00:00.000000000",
          "2025-07-30T00:00:00.000000000",
          "2025-07-31T00:00:00.000000000",
          "2025-08-01T00:00:00.000000000",
          "2025-08-04T00:00:00.000000000",
          "2025-08-05T00:00:00.000000000",
          "2025-08-06T00:00:00.000000000",
          "2025-08-07T00:00:00.000000000",
          "2025-08-08T00:00:00.000000000",
          "2025-08-11T00:00:00.000000000",
          "2025-08-12T00:00:00.000000000",
          "2025-08-13T00:00:00.000000000",
          "2025-08-14T00:00:00.000000000",
          "2025-08-15T00:00:00.000000000",
          "2025-08-18T00:00:00.000000000",
          "2025-08-19T00:00:00.000000000",
          "2025-08-20T00:00:00.000000000",
          "2025-08-21T00:00:00.000000000",
          "2025-08-22T00:00:00.000000000",
          "2025-08-25T00:00:00.000000000",
          "2025-08-26T00:00:00.000000000",
          "2025-08-27T00:00:00.000000000",
          "2025-08-28T00:00:00.000000000",
          "2025-08-29T00:00:00.000000000",
          "2025-09-02T00:00:00.000000000",
          "2025-09-03T00:00:00.000000000",
          "2025-09-04T00:00:00.000000000",
          "2025-09-05T00:00:00.000000000",
          "2025-09-08T00:00:00.000000000",
          "2025-09-09T00:00:00.000000000",
          "2025-09-10T00:00:00.000000000",
          "2025-09-11T00:00:00.000000000",
          "2025-09-12T00:00:00.000000000",
          "2025-09-15T00:00:00.000000000",
          "2025-09-16T00:00:00.000000000",
          "2025-09-17T00:00:00.000000000",
          "2025-09-18T00:00:00.000000000",
          "2025-09-19T00:00:00.000000000",
          "2025-09-22T00:00:00.000000000",
          "2025-09-23T00:00:00.000000000",
          "2025-09-24T00:00:00.000000000",
          "2025-09-25T00:00:00.000000000",
          "2025-09-26T00:00:00.000000000",
          "2025-09-29T00:00:00.000000000",
          "2025-09-30T00:00:00.000000000"
         ],
         "xaxis": "x",
         "y": {
          "bdata": "7FG4FgcSbEDXo3BtvhpsQKRwPQLMe2xAmpmZAYx+bEDXo3DFbpFsQAAAAPDrM21AMzMza4MhbUBxPQpPwyRtQK5H4cIUCW1AZmZmrnATbUD2KFx/p+hsQFyPwkUT3mxA16NwNaakbEAAAADIpdpsQKRwPYI85GxAmpmZAYnzbED2KFzvUfZsQGZmZq7d52xArkfh6qbobEA9Ctcbq/5sQHsUrkddE21AuB6FG3zebECuR+GCZvdnQOF6FPaq4mdA7FG4HoVCZ0AK16PoPDJpQArXo2gXymdAFK5HGco8aUCamZmRDH5rQJqZmRmkWGtAuB6Fk2e0Z0AAAACQUe9oQOF6FI5ln2dAcT0KXzHkaEAAAACQu4trQMP1KHzckGtAj8L1eO2Ya0BI4Xp0yZ1rQJqZmdkooGtACtejGGOda0DD9ShcjY1rQHsUrhfmemtAXI/CreIkaUCuR+Haz/ZoQAAAAAgkvGhAXI/CJaa0aEAzMzO7n59oQPYoXJ9sLmtAXI/CTbY1a0AAAAB4cDRrQJqZmWFgMGtASOF6BHc0a0B7FK5X4TBrQK5H4TowLGtAexSul4soa0CuR+GCi6JpQNejcH1OjmhAzczM/OnKaEBmZmaOK9hoQNejcGX6xGhAcT0K92/9aEDD9Sj0TAhrQMP1KMSBHGtAj8L1iKMha0CamZmx2sZoQDMzM+s+EWtAPQrXky3lakAzMzObbhhrQK5H4fITqWhAj8L1IHGsaEAfheuB/qJoQEjhejzRj2hAXI/ClaVCaEDsUbgWlHVoQM3MzBxFlmhAuB6FEwmYakDD9SicnmBoQEjheoSDl2pAFK5HwU2SaEDXo3C9/51oQGZmZo5Tt2pASOF6BLvVakAAAACQDRxrQArXo1BfKmtAmpmZ+fIma0CPwvVwmS1rQI/C9ZjQImtApHA9mt1Xa0DhehRmDmJrQHsUrj+dVGtApHA9GkFfa0A9Ctdj8FxrQOxRuO7LXmtAXI/CFY9la0BmZmbOIGhrQClcj3JfXGtAzczMrAhba0BmZmZ+n1ZrQDMzM1OCR2tAZmZmbr1Ca0ApXI9KPztrQBSuR1GfOGtAFK5HmcpPa0AzMzNjQ1NrQJqZmfnzWWtAhetRiOlma0AzMzPrvmBrQFK4Hg1FrWtAUrge/SF5bECF61GI43tsQIXrUaj0kGxA9ihcL51KbEBSuB4t0+RrQKRwPRKwwGtAmpmZKTq1a0DhehSmaZ9rQNejcB1ZbmtAcT0Kt4loa0B7FK63W3NrQIXrUbC4YGtAMzMzYxx6a0AK16NAIJtrQHE9Ct/quWtArkfhIjW4a0CkcD3ivHtrQBSuRynKamxAuB6FQwCkbEBmZmY2rppsQClcj8I9CGxAcT0Kn+vSa0C4HoVDR41rQBSuR3GXg2tAAAAAkEK/a0AAAAB46P9rQGZmZg4VdWxAPQrX43udbECF61FooC9sQMP1KHxW+GxA4XoUFhUfbUAfheshLBBtQA==",
          "dtype": "f8"
         },
         "yaxis": "y"
        },
        {
         "line": {
          "color": "#00FF00",
          "dash": "dash",
          "width": 3
         },
         "marker": {
          "size": 8,
          "symbol": "star"
         },
         "name": "Future Prediction",
         "type": "scatter",
         "x": [
          "2025-10-01T00:00:00",
          "2025-10-02T00:00:00",
          "2025-10-03T00:00:00",
          "2025-10-06T00:00:00",
          "2025-10-07T00:00:00",
          "2025-10-08T00:00:00",
          "2025-10-09T00:00:00"
         ],
         "xaxis": "x",
         "y": [
          246.07245574951173,
          245.94779022216798,
          245.94779022216798,
          245.94779022216798,
          245.94779022216798,
          245.94779022216798,
          245.94779022216798
         ],
         "yaxis": "y"
        },
        {
         "marker": {
          "color": "#A23B72"
         },
         "name": "Volume",
         "type": "bar",
         "x": [
          "2025-03-12T00:00:00.000000000",
          "2025-03-13T00:00:00.000000000",
          "2025-03-14T00:00:00.000000000",
          "2025-03-17T00:00:00.000000000",
          "2025-03-18T00:00:00.000000000",
          "2025-03-19T00:00:00.000000000",
          "2025-03-20T00:00:00.000000000",
          "2025-03-21T00:00:00.000000000",
          "2025-03-24T00:00:00.000000000",
          "2025-03-25T00:00:00.000000000",
          "2025-03-26T00:00:00.000000000",
          "2025-03-27T00:00:00.000000000",
          "2025-03-28T00:00:00.000000000",
          "2025-03-31T00:00:00.000000000",
          "2025-04-01T00:00:00.000000000",
          "2025-04-02T00:00:00.000000000",
          "2025-04-03T00:00:00.000000000",
          "2025-04-04T00:00:00.000000000",
          "2025-04-07T00:00:00.000000000",
          "2025-04-08T00:00:00.000000000",
          "2025-04-09T00:00:00.000000000",
          "2025-04-10T00:00:00.000000000",
          "2025-04-11T00:00:00.000000000",
          "2025-04-14T00:00:00.000000000",
          "2025-04-15T00:00:00.000000000",
          "2025-04-16T00:00:00.000000000",
          "2025-04-17T00:00:00.000000000",
          "2025-04-21T00:00:00.000000000",
          "2025-04-22T00:00:00.000000000",
          "2025-04-23T00:00:00.000000000",
          "2025-04-24T00:00:00.000000000",
          "2025-04-25T00:00:00.000000000",
          "2025-04-28T00:00:00.000000000",
          "2025-04-29T00:00:00.000000000",
          "2025-04-30T00:00:00.000000000",
          "2025-05-01T00:00:00.000000000",
          "2025-05-02T00:00:00.000000000",
          "2025-05-05T00:00:00.000000000",
          "2025-05-06T00:00:00.000000000",
          "2025-05-07T00:00:00.000000000",
          "2025-05-08T00:00:00.000000000",
          "2025-05-09T00:00:00.000000000",
          "2025-05-12T00:00:00.000000000",
          "2025-05-13T00:00:00.000000000",
          "2025-05-14T00:00:00.000000000",
          "2025-05-15T00:00:00.000000000",
          "2025-05-16T00:00:00.000000000",
          "2025-05-19T00:00:00.000000000",
          "2025-05-20T00:00:00.000000000",
          "2025-05-21T00:00:00.000000000",
          "2025-05-22T00:00:00.000000000",
          "2025-05-23T00:00:00.000000000",
          "2025-05-27T00:00:00.000000000",
          "2025-05-28T00:00:00.000000000",
          "2025-05-29T00:00:00.000000000",
          "2025-05-30T00:00:00.000000000",
          "2025-06-02T00:00:00.000000000",
          "2025-06-03T00:00:00.000000000",
          "2025-06-04T00:00:00.000000000",
          "2025-06-05T00:00:00.000000000",
          "2025-06-06T00:00:00.000000000",
          "2025-06-09T00:00:00.000000000",
          "2025-06-10T00:00:00.000000000",
          "2025-06-11T00:00:00.000000000",
          "2025-06-12T00:00:00.000000000",
          "2025-06-13T00:00:00.000000000",
          "2025-06-16T00:00:00.000000000",
          "2025-06-17T00:00:00.000000000",
          "2025-06-18T00:00:00.000000000",
          "2025-06-20T00:00:00.000000000",
          "2025-06-23T00:00:00.000000000",
          "2025-06-24T00:00:00.000000000",
          "2025-06-25T00:00:00.000000000",
          "2025-06-26T00:00:00.000000000",
          "2025-06-27T00:00:00.000000000",
          "2025-06-30T00:00:00.000000000",
          "2025-07-01T00:00:00.000000000",
          "2025-07-02T00:00:00.000000000",
          "2025-07-03T00:00:00.000000000",
          "2025-07-07T00:00:00.000000000",
          "2025-07-08T00:00:00.000000000",
          "2025-07-09T00:00:00.000000000",
          "2025-07-10T00:00:00.000000000",
          "2025-07-11T00:00:00.000000000",
          "2025-07-14T00:00:00.000000000",
          "2025-07-15T00:00:00.000000000",
          "2025-07-16T00:00:00.000000000",
          "2025-07-17T00:00:00.000000000",
          "2025-07-18T00:00:00.000000000",
          "2025-07-21T00:00:00.000000000",
          "2025-07-22T00:00:00.000000000",
          "2025-07-23T00:00:00.000000000",
          "2025-07-24T00:00:00.000000000",
          "2025-07-25T00:00:00.000000000",
          "2025-07-28T00:00:00.000000000",
          "2025-07-29T00:00:00.000000000",
          "2025-07-30T00:00:00.000000000",
          "2025-07-31T00:00:00.000000000",
          "2025-08-01T00:00:00.000000000",
          "2025-08-04T00:00:00.000000000",
          "2025-08-05T00:00:00.000000000",
          "2025-08-06T00:00:00.000000000",
          "2025-08-07T00:00:00.000000000",
          "2025-08-08T00:00:00.000000000",
          "2025-08-11T00:00:00.000000000",
          "2025-08-12T00:00:00.000000000",
          "2025-08-13T00:00:00.000000000",
          "2025-08-14T00:00:00.000000000",
          "2025-08-15T00:00:00.000000000",
          "2025-08-18T00:00:00.000000000",
          "2025-08-19T00:00:00.000000000",
          "2025-08-20T00:00:00.000000000",
          "2025-08-21T00:00:00.000000000",
          "2025-08-22T00:00:00.000000000",
          "2025-08-25T00:00:00.000000000",
          "2025-08-26T00:00:00.000000000",
          "2025-08-27T00:00:00.000000000",
          "2025-08-28T00:00:00.000000000",
          "2025-08-29T00:00:00.000000000",
          "2025-09-02T00:00:00.000000000",
          "2025-09-03T00:00:00.000000000",
          "2025-09-04T00:00:00.000000000",
          "2025-09-05T00:00:00.000000000",
          "2025-09-08T00:00:00.000000000",
          "2025-09-09T00:00:00.000000000",
          "2025-09-10T00:00:00.000000000",
          "2025-09-11T00:00:00.000000000",
          "2025-09-12T00:00:00.000000000",
          "2025-09-15T00:00:00.000000000",
          "2025-09-16T00:00:00.000000000",
          "2025-09-17T00:00:00.000000000",
          "2025-09-18T00:00:00.000000000",
          "2025-09-19T00:00:00.000000000",
          "2025-09-22T00:00:00.000000000",
          "2025-09-23T00:00:00.000000000",
          "2025-09-24T00:00:00.000000000",
          "2025-09-25T00:00:00.000000000",
          "2025-09-26T00:00:00.000000000",
          "2025-09-29T00:00:00.000000000",
          "2025-09-30T00:00:00.000000000"
         ],
         "xaxis": "x2",
         "y": {
          "bdata": "LGa6A+xnqANQK5UDuIrdApB3hwL42j0DtJbpArhGnAXs9KMCoFQOAjTpDQKQBTYCaJVfAmRj5AMcnSsCbOEjAngMKgZ0P4EHfIWQCWwrNAd8qP0KwL1DB3wqNgXEhQoGHHIPA7BxjwNc+BsD5DvJAhBbKAOwoicDmOjRAtw5RwI8LE8C0PExAiTUHQPEVGsDqEwFBoQjHQR0gA0DfMkVBDQ/AgMMPiwCOCTNA7QSGAPopvACfBivAuw7QwNUDMACWHKIAhiAhwOAO8kChMqsBPTkWgM01LMCwEAQAzygOAREhBwCILrDAiBYmQJUKEkDVC3HAojLVwTYPEIDzKGiA1junQIEBhEDnHGQAgjmUAIMq7QCvEHFBZyoUwOA8zgDRB1bAvwhBwP4xFwEYHp6BSQ5sgSotQwEGGIVAghv/gKE0o0CWNvnAtAnpgIox14CJKdQAuxjhQLEpdQCBHbdAghL6wL49A8DBBLEAvT/zALIP74CAHRmAtCqQQL0ehADNHe2AiBczwREizkGtBN6BNzAoQIcUncGoLhgBTBGyQYUFq8D2MlQA+RCKgQMLhgDLBVXA2jXOwJoPFkCXOWEAhA+0wHoKIgCvMPYAfy/QANs+9wBTPlEAiB6WQJQiqACmJv1A9iL1QKAQUUDTKzrAqze8wOgNPkEWB/+AkjPUwPsiosCrLrHA+CnxQIAMqMCdH7CCVgRSgYAupcD1ICFAjRRSgOMEb8C3L1jAq1cNAA=",
          "dtype": "i4"
         },
         "yaxis": "y2"
        },
        {
         "line": {
          "color": "orange",
          "width": 1
         },
         "name": "SMA 50",
         "type": "scatter",
         "x": [
          "2025-03-12T00:00:00.000000000",
          "2025-03-13T00:00:00.000000000",
          "2025-03-14T00:00:00.000000000",
          "2025-03-17T00:00:00.000000000",
          "2025-03-18T00:00:00.000000000",
          "2025-03-19T00:00:00.000000000",
          "2025-03-20T00:00:00.000000000",
          "2025-03-21T00:00:00.000000000",
          "2025-03-24T00:00:00.000000000",
          "2025-03-25T00:00:00.000000000",
          "2025-03-26T00:00:00.000000000",
          "2025-03-27T00:00:00.000000000",
          "2025-03-28T00:00:00.000000000",
          "2025-03-31T00:00:00.000000000",
          "2025-04-01T00:00:00.000000000",
          "2025-04-02T00:00:00.000000000",
          "2025-04-03T00:00:00.000000000",
          "2025-04-04T00:00:00.000000000",
          "2025-04-07T00:00:00.000000000",
          "2025-04-08T00:00:00.000000000",
          "2025-04-09T00:00:00.000000000",
          "2025-04-10T00:00:00.000000000",
          "2025-04-11T00:00:00.000000000",
          "2025-04-14T00:00:00.000000000",
          "2025-04-15T00:00:00.000000000",
          "2025-04-16T00:00:00.000000000",
          "2025-04-17T00:00:00.000000000",
          "2025-04-21T00:00:00.000000000",
          "2025-04-22T00:00:00.000000000",
          "2025-04-23T00:00:00.000000000",
          "2025-04-24T00:00:00.000000000",
          "2025-04-25T00:00:00.000000000",
          "2025-04-28T00:00:00.000000000",
          "2025-04-29T00:00:00.000000000",
          "2025-04-30T00:00:00.000000000",
          "2025-05-01T00:00:00.000000000",
          "2025-05-02T00:00:00.000000000",
          "2025-05-05T00:00:00.000000000",
          "2025-05-06T00:00:00.000000000",
          "2025-05-07T00:00:00.000000000",
          "2025-05-08T00:00:00.000000000",
          "2025-05-09T00:00:00.000000000",
          "2025-05-12T00:00:00.000000000",
          "2025-05-13T00:00:00.000000000",
          "2025-05-14T00:00:00.000000000",
          "2025-05-15T00:00:00.000000000",
          "2025-05-16T00:00:00.000000000",
          "2025-05-19T00:00:00.000000000",
          "2025-05-20T00:00:00.000000000",
          "2025-05-21T00:00:00.000000000",
          "2025-05-22T00:00:00.000000000",
          "2025-05-23T00:00:00.000000000",
          "2025-05-27T00:00:00.000000000",
          "2025-05-28T00:00:00.000000000",
          "2025-05-29T00:00:00.000000000",
          "2025-05-30T00:00:00.000000000",
          "2025-06-02T00:00:00.000000000",
          "2025-06-03T00:00:00.000000000",
          "2025-06-04T00:00:00.000000000",
          "2025-06-05T00:00:00.000000000",
          "2025-06-06T00:00:00.000000000",
          "2025-06-09T00:00:00.000000000",
          "2025-06-10T00:00:00.000000000",
          "2025-06-11T00:00:00.000000000",
          "2025-06-12T00:00:00.000000000",
          "2025-06-13T00:00:00.000000000",
          "2025-06-16T00:00:00.000000000",
          "2025-06-17T00:00:00.000000000",
          "2025-06-18T00:00:00.000000000",
          "2025-06-20T00:00:00.000000000",
          "2025-06-23T00:00:00.000000000",
          "2025-06-24T00:00:00.000000000",
          "2025-06-25T00:00:00.000000000",
          "2025-06-26T00:00:00.000000000",
          "2025-06-27T00:00:00.000000000",
          "2025-06-30T00:00:00.000000000",
          "2025-07-01T00:00:00.000000000",
          "2025-07-02T00:00:00.000000000",
          "2025-07-03T00:00:00.000000000",
          "2025-07-07T00:00:00.000000000",
          "2025-07-08T00:00:00.000000000",
          "2025-07-09T00:00:00.000000000",
          "2025-07-10T00:00:00.000000000",
          "2025-07-11T00:00:00.000000000",
          "2025-07-14T00:00:00.000000000",
          "2025-07-15T00:00:00.000000000",
          "2025-07-16T00:00:00.000000000",
          "2025-07-17T00:00:00.000000000",
          "2025-07-18T00:00:00.000000000",
          "2025-07-21T00:00:00.000000000",
          "2025-07-22T00:00:00.000000000",
          "2025-07-23T00:00:00.000000000",
          "2025-07-24T00:00:00.000000000",
          "2025-07-25T00:00:00.000000000",
          "2025-07-28T00:00:00.000000000",
          "2025-07-29T00:00:00.000000000",
          "2025-07-30T00:00:00.000000000",
          "2025-07-31T00:00:00.000000000",
          "2025-08-01T00:00:00.000000000",
          "2025-08-04T00:00:00.000000000",
          "2025-08-05T00:00:00.000000000",
          "2025-08-06T00:00:00.000000000",
          "2025-08-07T00:00:00.000000000",
          "2025-08-08T00:00:00.000000000",
          "2025-08-11T00:00:00.000000000",
          "2025-08-12T00:00:00.000000000",
          "2025-08-13T00:00:00.000000000",
          "2025-08-14T00:00:00.000000000",
          "2025-08-15T00:00:00.000000000",
          "2025-08-18T00:00:00.000000000",
          "2025-08-19T00:00:00.000000000",
          "2025-08-20T00:00:00.000000000",
          "2025-08-21T00:00:00.000000000",
          "2025-08-22T00:00:00.000000000",
          "2025-08-25T00:00:00.000000000",
          "2025-08-26T00:00:00.000000000",
          "2025-08-27T00:00:00.000000000",
          "2025-08-28T00:00:00.000000000",
          "2025-08-29T00:00:00.000000000",
          "2025-09-02T00:00:00.000000000",
          "2025-09-03T00:00:00.000000000",
          "2025-09-04T00:00:00.000000000",
          "2025-09-05T00:00:00.000000000",
          "2025-09-08T00:00:00.000000000",
          "2025-09-09T00:00:00.000000000",
          "2025-09-10T00:00:00.000000000",
          "2025-09-11T00:00:00.000000000",
          "2025-09-12T00:00:00.000000000",
          "2025-09-15T00:00:00.000000000",
          "2025-09-16T00:00:00.000000000",
          "2025-09-17T00:00:00.000000000",
          "2025-09-18T00:00:00.000000000",
          "2025-09-19T00:00:00.000000000",
          "2025-09-22T00:00:00.000000000",
          "2025-09-23T00:00:00.000000000",
          "2025-09-24T00:00:00.000000000",
          "2025-09-25T00:00:00.000000000",
          "2025-09-26T00:00:00.000000000",
          "2025-09-29T00:00:00.000000000",
          "2025-09-30T00:00:00.000000000"
         ],
         "xaxis": "x",
         "y": {
          "bdata": "cT0Kd8p8bUAUrkfRqF9tQEjhelQfR21Aw/UozAswbUBxPQrHUhxtQHE9CoeKCm1AZmZmNvz2bED2KFzv3udsQKRwPboD2mxA4XoULtHRbEB7FK7Hw8lsQKRwPWrow2xAhetROFO3bEDsUbhOkrNsQFK4HtVlr2xAj8L1GFqwbEAK16PgVKNsQM3MzNz2jGxAPQrXg71ybECamZnJOk5sQDMzM2M8NWxApHA9migWbEDhehQuJf1rQClcj5Lv52tA9ihcT5TXa0AfhevBJL9rQArXowCmqGtAXI/CdTyPa0C4HoX7ln1rQClcj7LfbmtAcT0KR2Rfa0CF61H4xk1rQHE9Cpe8OWtASOF6VGska0B7FK4nAhBrQArXo6Dd+2pASOF6lAXiakCPwvV4O8RqQMP1KOw1pWpA7FG4zsiEakA9CtcjamlqQDMzM5OpUGpAFK5H8QM9akDNzMw8Ky1qQAAAAJBHHmpAzczM7PIOakA9Ctczwv9pQKRwPVqY7GlA7FG4jprfaUDsUbhezdNpQIXrUZj/yWlAcT0KR/bAaUBI4Xq0prhpQFK4HiUmsGlAZmZmxi6oaUDD9SjsKZ9pQOxRuH5ql2lAZmZmdgKOaUCamZm5voJpQOxRuP4mdGlAZmZmhhRpaUBcj8Kl8lppQFK4HuVkUWlAzczMLKdCaUAfhevxgDNpQB+F60EmImlAzczMLEUfaUDXo3CtESRpQFK4HgXjLWlAZmZmNk1AaUA9CteDKUJpQK5H4TqjSGlAMzMzw/tKaUCamZlpLkppQDMzM0OsSWlArkfhus1QaUBcj8L15VdpQNejcJ1iZGlA16NwfWFtaUAzMzPj+HBpQArXo/AxcmlAFK5HMY9zaUCamZm5L3VpQPYoXM9UdWlAAAAAYAdzaUDD9SgchHBpQM3MzEzDc2lAZmZmZgt7aUApXI9yT4NpQOF6FJ7ZjWlAZmZmVtOYaUCkcD0q+qJpQHsUrjfgpGlACtejsHulaUDXo3AtlaZpQIXrUbh3pmlAuB6FCw6laUBmZmYGSKRpQK5H4dpqoWlAAAAAEDmiaUDNzMxcOKNpQNejcN22rmlA16NwfWK7aUApXI8C4c1pQClcj4Jz32lAexSuZwfyaUAK16MgawZqQM3MzMxzGWpAUrgeJQMsakBI4Xo0hj9qQHE9Cse4UGpApHA9GpZgakCF61Ho9W5qQI/C9eimgWpAAAAA4LCTakBSuB4l3ahqQI/C9ViIvWpAhetRqE3VakAfhetRNOxqQDMzMyO7/mpApHA9uokWa0BSuB5V8y9rQM3MzPx/SGtA16NwvT9ga0C4HoULsHVrQPYoXF+sg2tAuB6F2wmSa0DNzMwsCaBrQLgehbsBr2tAPQrXAzXBa0CuR+Ea6NNrQHE9Cmcs5WtAH4XrUYH6a0CuR+E6aBdsQM3MzHzgNGxAZmZmNq1QbEBcj8I1uW5sQLgehRv1i2xAj8L1aMqnbEAUrkfhz8JsQA==",
          "dtype": "f8"
         },
         "yaxis": "y"
        }
       ],
       "layout": {
        "annotations": [
         {
          "font": {
           "size": 16
          },
          "showarrow": false,
          "text": "AAPL Price Prediction with RandomForest",
          "x": 0.5,
          "xanchor": "center",
          "xref": "paper",
          "y": 1,
          "yanchor": "bottom",
          "yref": "paper"
         },
         {
          "font": {
           "size": 16
          },
          "showarrow": false,
          "text": "Volume",
          "x": 0.5,
          "xanchor": "center",
          "xref": "paper",
          "y": 0.20000000000000004,
          "yanchor": "bottom",
          "yref": "paper"
         },
         {
          "align": "left",
          "bgcolor": "white",
          "bordercolor": "black",
          "borderpad": 4,
          "borderwidth": 1,
          "font": {
           "size": 12
          },
          "opacity": 0.8,
          "showarrow": false,
          "text": "MAE: $13.05<br>MAPE: 6.18%",
          "x": 0.02,
          "xref": "paper",
          "y": 0.98,
          "yref": "paper"
         }
        ],
        "height": 700,
        "legend": {
         "orientation": "h",
         "x": 1,
         "xanchor": "right",
         "y": 1.02,
         "yanchor": "bottom"
        },
        "template": {
         "data": {
          "bar": [
           {
            "error_x": {
             "color": "#2a3f5f"
            },
            "error_y": {
             "color": "#2a3f5f"
            },
            "marker": {
             "line": {
              "color": "white",
              "width": 0.5
             },
             "pattern": {
              "fillmode": "overlay",
              "size": 10,
              "solidity": 0.2
             }
            },
            "type": "bar"
           }
          ],
          "barpolar": [
           {
            "marker": {
             "line": {
              "color": "white",
              "width": 0.5
             },
             "pattern": {
              "fillmode": "overlay",
              "size": 10,
              "solidity": 0.2
             }
            },
            "type": "barpolar"
           }
          ],
          "carpet": [
           {
            "aaxis": {
             "endlinecolor": "#2a3f5f",
             "gridcolor": "#C8D4E3",
             "linecolor": "#C8D4E3",
             "minorgridcolor": "#C8D4E3",
             "startlinecolor": "#2a3f5f"
            },
            "baxis": {
             "endlinecolor": "#2a3f5f",
             "gridcolor": "#C8D4E3",
             "linecolor": "#C8D4E3",
             "minorgridcolor": "#C8D4E3",
             "startlinecolor": "#2a3f5f"
            },
            "type": "carpet"
           }
          ],
          "choropleth": [
           {
            "colorbar": {
             "outlinewidth": 0,
             "ticks": ""
            },
            "type": "choropleth"
           }
          ],
          "contour": [
           {
            "colorbar": {
             "outlinewidth": 0,
             "ticks": ""
            },
            "colorscale": [
             [
              0,
              "#0d0887"
             ],
             [
              0.1111111111111111,
              "#46039f"
             ],
             [
              0.2222222222222222,
              "#7201a8"
             ],
             [
              0.3333333333333333,
              "#9c179e"
             ],
             [
              0.4444444444444444,
              "#bd3786"
             ],
             [
              0.5555555555555556,
              "#d8576b"
             ],
             [
              0.6666666666666666,
              "#ed7953"
             ],
             [
              0.7777777777777778,
              "#fb9f3a"
             ],
             [
              0.8888888888888888,
              "#fdca26"
             ],
             [
              1,
              "#f0f921"
             ]
            ],
            "type": "contour"
           }
          ],
          "contourcarpet": [
           {
            "colorbar": {
             "outlinewidth": 0,
             "ticks": ""
            },
            "type": "contourcarpet"
           }
          ],
          "heatmap": [
           {
            "colorbar": {
             "outlinewidth": 0,
             "ticks": ""
            },
            "colorscale": [
             [
              0,
              "#0d0887"
             ],
             [
              0.1111111111111111,
              "#46039f"
             ],
             [
              0.2222222222222222,
              "#7201a8"
             ],
             [
              0.3333333333333333,
              "#9c179e"
             ],
             [
              0.4444444444444444,
              "#bd3786"
             ],
             [
              0.5555555555555556,
              "#d8576b"
             ],
             [
              0.6666666666666666,
              "#ed7953"
             ],
             [
              0.7777777777777778,
              "#fb9f3a"
             ],
             [
              0.8888888888888888,
              "#fdca26"
             ],
             [
              1,
              "#f0f921"
             ]
            ],
            "type": "heatmap"
           }
          ],
          "histogram": [
           {
            "marker": {
             "pattern": {
              "fillmode": "overlay",
              "size": 10,
              "solidity": 0.2
             }
            },
            "type": "histogram"
           }
          ],
          "histogram2d": [
           {
            "colorbar": {
             "outlinewidth": 0,
             "ticks": ""
            },
            "colorscale": [
             [
              0,
              "#0d0887"
             ],
             [
              0.1111111111111111,
              "#46039f"
             ],
             [
              0.2222222222222222,
              "#7201a8"
             ],
             [
              0.3333333333333333,
              "#9c179e"
             ],
             [
              0.4444444444444444,
              "#bd3786"
             ],
             [
              0.5555555555555556,
              "#d8576b"
             ],
             [
              0.6666666666666666,
              "#ed7953"
             ],
             [
              0.7777777777777778,
              "#fb9f3a"
             ],
             [
              0.8888888888888888,
              "#fdca26"
             ],
             [
              1,
              "#f0f921"
             ]
            ],
            "type": "histogram2d"
           }
          ],
          "histogram2dcontour": [
           {
            "colorbar": {
             "outlinewidth": 0,
             "ticks": ""
            },
            "colorscale": [
             [
              0,
              "#0d0887"
             ],
             [
              0.1111111111111111,
              "#46039f"
             ],
             [
              0.2222222222222222,
              "#7201a8"
             ],
             [
              0.3333333333333333,
              "#9c179e"
             ],
             [
              0.4444444444444444,
              "#bd3786"
             ],
             [
              0.5555555555555556,
              "#d8576b"
             ],
             [
              0.6666666666666666,
              "#ed7953"
             ],
             [
              0.7777777777777778,
              "#fb9f3a"
             ],
             [
              0.8888888888888888,
              "#fdca26"
             ],
             [
              1,
              "#f0f921"
             ]
            ],
            "type": "histogram2dcontour"
           }
          ],
          "mesh3d": [
           {
            "colorbar": {
             "outlinewidth": 0,
             "ticks": ""
            },
            "type": "mesh3d"
           }
          ],
          "parcoords": [
           {
            "line": {
             "colorbar": {
              "outlinewidth": 0,
              "ticks": ""
             }
            },
            "type": "parcoords"
           }
          ],
          "pie": [
           {
            "automargin": true,
            "type": "pie"
           }
          ],
          "scatter": [
           {
            "fillpattern": {
             "fillmode": "overlay",
             "size": 10,
             "solidity": 0.2
            },
            "type": "scatter"
           }
          ],
          "scatter3d": [
           {
            "line": {
             "colorbar": {
              "outlinewidth": 0,
              "ticks": ""
             }
            },
            "marker": {
             "colorbar": {
              "outlinewidth": 0,
              "ticks": ""
             }
            },
            "type": "scatter3d"
           }
          ],
          "scattercarpet": [
           {
            "marker": {
             "colorbar": {
              "outlinewidth": 0,
              "ticks": ""
             }
            },
            "type": "scattercarpet"
           }
          ],
          "scattergeo": [
           {
            "marker": {
             "colorbar": {
              "outlinewidth": 0,
              "ticks": ""
             }
            },
            "type": "scattergeo"
           }
          ],
          "scattergl": [
           {
            "marker": {
             "colorbar": {
              "outlinewidth": 0,
              "ticks": ""
             }
            },
            "type": "scattergl"
           }
          ],
          "scattermap": [
           {
            "marker": {
             "colorbar": {
              "outlinewidth": 0,
              "ticks": ""
             }
            },
            "type": "scattermap"
           }
          ],
          "scattermapbox": [
           {
            "marker": {
             "colorbar": {
              "outlinewidth": 0,
              "ticks": ""
             }
            },
            "type": "scattermapbox"
           }
          ],
          "scatterpolar": [
           {
            "marker": {
             "colorbar": {
              "outlinewidth": 0,
              "ticks": ""
             }
            },
            "type": "scatterpolar"
           }
          ],
          "scatterpolargl": [
           {
            "marker": {
             "colorbar": {
              "outlinewidth": 0,
              "ticks": ""
             }
            },
            "type": "scatterpolargl"
           }
          ],
          "scatterternary": [
           {
            "marker": {
             "colorbar": {
              "outlinewidth": 0,
              "ticks": ""
             }
            },
            "type": "scatterternary"
           }
          ],
          "surface": [
           {
            "colorbar": {
             "outlinewidth": 0,
             "ticks": ""
            },
            "colorscale": [
             [
              0,
              "#0d0887"
             ],
             [
              0.1111111111111111,
              "#46039f"
             ],
             [
              0.2222222222222222,
              "#7201a8"
             ],
             [
              0.3333333333333333,
              "#9c179e"
             ],
             [
              0.4444444444444444,
              "#bd3786"
             ],
             [
              0.5555555555555556,
              "#d8576b"
             ],
             [
              0.6666666666666666,
              "#ed7953"
             ],
             [
              0.7777777777777778,
              "#fb9f3a"
             ],
             [
              0.8888888888888888,
              "#fdca26"
             ],
             [
              1,
              "#f0f921"
             ]
            ],
            "type": "surface"
           }
          ],
          "table": [
           {
            "cells": {
             "fill": {
              "color": "#EBF0F8"
             },
             "line": {
              "color": "white"
             }
            },
            "header": {
             "fill": {
              "color": "#C8D4E3"
             },
             "line": {
              "color": "white"
             }
            },
            "type": "table"
           }
          ]
         },
         "layout": {
          "annotationdefaults": {
           "arrowcolor": "#2a3f5f",
           "arrowhead": 0,
           "arrowwidth": 1
          },
          "autotypenumbers": "strict",
          "coloraxis": {
           "colorbar": {
            "outlinewidth": 0,
            "ticks": ""
           }
          },
          "colorscale": {
           "diverging": [
            [
             0,
             "#8e0152"
            ],
            [
             0.1,
             "#c51b7d"
            ],
            [
             0.2,
             "#de77ae"
            ],
            [
             0.3,
             "#f1b6da"
            ],
            [
             0.4,
             "#fde0ef"
            ],
            [
             0.5,
             "#f7f7f7"
            ],
            [
             0.6,
             "#e6f5d0"
            ],
            [
             0.7,
             "#b8e186"
            ],
            [
             0.8,
             "#7fbc41"
            ],
            [
             0.9,
             "#4d9221"
            ],
            [
             1,
             "#276419"
            ]
           ],
           "sequential": [
            [
             0,
             "#0d0887"
            ],
            [
             0.1111111111111111,
             "#46039f"
            ],
            [
             0.2222222222222222,
             "#7201a8"
            ],
            [
             0.3333333333333333,
             "#9c179e"
            ],
            [
             0.4444444444444444,
             "#bd3786"
            ],
            [
             0.5555555555555556,
             "#d8576b"
            ],
            [
             0.6666666666666666,
             "#ed7953"
            ],
            [
             0.7777777777777778,
             "#fb9f3a"
            ],
            [
             0.8888888888888888,
             "#fdca26"
            ],
            [
             1,
             "#f0f921"
            ]
           ],
           "sequentialminus": [
            [
             0,
             "#0d0887"
            ],
            [
             0.1111111111111111,
             "#46039f"
            ],
            [
             0.2222222222222222,
             "#7201a8"
            ],
            [
             0.3333333333333333,
             "#9c179e"
            ],
            [
             0.4444444444444444,
             "#bd3786"
            ],
            [
             0.5555555555555556,
             "#d8576b"
            ],
            [
             0.6666666666666666,
             "#ed7953"
            ],
            [
             0.7777777777777778,
             "#fb9f3a"
            ],
            [
             0.8888888888888888,
             "#fdca26"
            ],
            [
             1,
             "#f0f921"
            ]
           ]
          },
          "colorway": [
           "#636efa",
           "#EF553B",
           "#00cc96",
           "#ab63fa",
           "#FFA15A",
           "#19d3f3",
           "#FF6692",
           "#B6E880",
           "#FF97FF",
           "#FECB52"
          ],
          "font": {
           "color": "#2a3f5f"
          },
          "geo": {
           "bgcolor": "white",
           "lakecolor": "white",
           "landcolor": "white",
           "showlakes": true,
           "showland": true,
           "subunitcolor": "#C8D4E3"
          },
          "hoverlabel": {
           "align": "left"
          },
          "hovermode": "closest",
          "mapbox": {
           "style": "light"
          },
          "paper_bgcolor": "white",
          "plot_bgcolor": "white",
          "polar": {
           "angularaxis": {
            "gridcolor": "#EBF0F8",
            "linecolor": "#EBF0F8",
            "ticks": ""
           },
           "bgcolor": "white",
           "radialaxis": {
            "gridcolor": "#EBF0F8",
            "linecolor": "#EBF0F8",
            "ticks": ""
           }
          },
          "scene": {
           "xaxis": {
            "backgroundcolor": "white",
            "gridcolor": "#DFE8F3",
            "gridwidth": 2,
            "linecolor": "#EBF0F8",
            "showbackground": true,
            "ticks": "",
            "zerolinecolor": "#EBF0F8"
           },
           "yaxis": {
            "backgroundcolor": "white",
            "gridcolor": "#DFE8F3",
            "gridwidth": 2,
            "linecolor": "#EBF0F8",
            "showbackground": true,
            "ticks": "",
            "zerolinecolor": "#EBF0F8"
           },
           "zaxis": {
            "backgroundcolor": "white",
            "gridcolor": "#DFE8F3",
            "gridwidth": 2,
            "linecolor": "#EBF0F8",
            "showbackground": true,
            "ticks": "",
            "zerolinecolor": "#EBF0F8"
           }
          },
          "shapedefaults": {
           "line": {
            "color": "#2a3f5f"
           }
          },
          "ternary": {
           "aaxis": {
            "gridcolor": "#DFE8F3",
            "linecolor": "#A2B1C6",
            "ticks": ""
           },
           "baxis": {
            "gridcolor": "#DFE8F3",
            "linecolor": "#A2B1C6",
            "ticks": ""
           },
           "bgcolor": "white",
           "caxis": {
            "gridcolor": "#DFE8F3",
            "linecolor": "#A2B1C6",
            "ticks": ""
           }
          },
          "title": {
           "x": 0.05
          },
          "xaxis": {
           "automargin": true,
           "gridcolor": "#EBF0F8",
           "linecolor": "#EBF0F8",
           "ticks": "",
           "title": {
            "standoff": 15
           },
           "zerolinecolor": "#EBF0F8",
           "zerolinewidth": 2
          },
          "yaxis": {
           "automargin": true,
           "gridcolor": "#EBF0F8",
           "linecolor": "#EBF0F8",
           "ticks": "",
           "title": {
            "standoff": 15
           },
           "zerolinecolor": "#EBF0F8",
           "zerolinewidth": 2
          }
         }
        },
        "title": {
         "text": "AAPL Stock Price Prediction with RandomForest"
        },
        "xaxis": {
         "anchor": "y",
         "domain": [
          0,
          1
         ],
         "matches": "x2",
         "rangeslider": {
          "visible": false
         },
         "showticklabels": false
        },
        "xaxis2": {
         "anchor": "y2",
         "domain": [
          0,
          1
         ]
        },
        "yaxis": {
         "anchor": "x",
         "domain": [
          0.30000000000000004,
          1
         ],
         "title": {
          "text": "Price ($)"
         }
        },
        "yaxis2": {
         "anchor": "x2",
         "domain": [
          0,
          0.20000000000000004
         ],
         "title": {
          "text": "Volume"
         }
        }
       }
      }
     },
     "metadata": {},
     "output_type": "display_data"
    },
    {
     "data": {
      "application/vnd.plotly.v1+json": {
       "config": {
        "plotlyServerURL": "https://plot.ly"
       },
       "data": [
        {
         "line": {
          "color": "#2E86AB",
          "width": 2
         },
         "name": "Actual Price",
         "type": "scatter",
         "x": [
          "2025-03-27T00:00:00.000000000",
          "2025-03-28T00:00:00.000000000",
          "2025-03-31T00:00:00.000000000",
          "2025-04-01T00:00:00.000000000",
          "2025-04-02T00:00:00.000000000",
          "2025-04-03T00:00:00.000000000",
          "2025-04-04T00:00:00.000000000",
          "2025-04-07T00:00:00.000000000",
          "2025-04-08T00:00:00.000000000",
          "2025-04-09T00:00:00.000000000",
          "2025-04-10T00:00:00.000000000",
          "2025-04-11T00:00:00.000000000",
          "2025-04-14T00:00:00.000000000",
          "2025-04-15T00:00:00.000000000",
          "2025-04-16T00:00:00.000000000",
          "2025-04-17T00:00:00.000000000",
          "2025-04-21T00:00:00.000000000",
          "2025-04-22T00:00:00.000000000",
          "2025-04-23T00:00:00.000000000",
          "2025-04-24T00:00:00.000000000",
          "2025-04-25T00:00:00.000000000",
          "2025-04-28T00:00:00.000000000",
          "2025-04-29T00:00:00.000000000",
          "2025-04-30T00:00:00.000000000",
          "2025-05-01T00:00:00.000000000",
          "2025-05-02T00:00:00.000000000",
          "2025-05-05T00:00:00.000000000",
          "2025-05-06T00:00:00.000000000",
          "2025-05-07T00:00:00.000000000",
          "2025-05-08T00:00:00.000000000",
          "2025-05-09T00:00:00.000000000",
          "2025-05-12T00:00:00.000000000",
          "2025-05-13T00:00:00.000000000",
          "2025-05-14T00:00:00.000000000",
          "2025-05-15T00:00:00.000000000",
          "2025-05-16T00:00:00.000000000",
          "2025-05-19T00:00:00.000000000",
          "2025-05-20T00:00:00.000000000",
          "2025-05-21T00:00:00.000000000",
          "2025-05-22T00:00:00.000000000",
          "2025-05-23T00:00:00.000000000",
          "2025-05-27T00:00:00.000000000",
          "2025-05-28T00:00:00.000000000",
          "2025-05-29T00:00:00.000000000",
          "2025-05-30T00:00:00.000000000",
          "2025-06-02T00:00:00.000000000",
          "2025-06-03T00:00:00.000000000",
          "2025-06-04T00:00:00.000000000",
          "2025-06-05T00:00:00.000000000",
          "2025-06-06T00:00:00.000000000",
          "2025-06-09T00:00:00.000000000",
          "2025-06-10T00:00:00.000000000",
          "2025-06-11T00:00:00.000000000",
          "2025-06-12T00:00:00.000000000",
          "2025-06-13T00:00:00.000000000",
          "2025-06-16T00:00:00.000000000",
          "2025-06-17T00:00:00.000000000",
          "2025-06-18T00:00:00.000000000",
          "2025-06-20T00:00:00.000000000",
          "2025-06-23T00:00:00.000000000",
          "2025-06-24T00:00:00.000000000",
          "2025-06-25T00:00:00.000000000",
          "2025-06-26T00:00:00.000000000",
          "2025-06-27T00:00:00.000000000",
          "2025-06-30T00:00:00.000000000",
          "2025-07-01T00:00:00.000000000",
          "2025-07-02T00:00:00.000000000",
          "2025-07-03T00:00:00.000000000",
          "2025-07-07T00:00:00.000000000",
          "2025-07-08T00:00:00.000000000",
          "2025-07-09T00:00:00.000000000",
          "2025-07-10T00:00:00.000000000",
          "2025-07-11T00:00:00.000000000",
          "2025-07-14T00:00:00.000000000",
          "2025-07-15T00:00:00.000000000",
          "2025-07-16T00:00:00.000000000",
          "2025-07-17T00:00:00.000000000",
          "2025-07-18T00:00:00.000000000",
          "2025-07-21T00:00:00.000000000",
          "2025-07-22T00:00:00.000000000",
          "2025-07-23T00:00:00.000000000",
          "2025-07-24T00:00:00.000000000",
          "2025-07-25T00:00:00.000000000",
          "2025-07-28T00:00:00.000000000",
          "2025-07-29T00:00:00.000000000",
          "2025-07-30T00:00:00.000000000",
          "2025-07-31T00:00:00.000000000",
          "2025-08-01T00:00:00.000000000",
          "2025-08-04T00:00:00.000000000",
          "2025-08-05T00:00:00.000000000",
          "2025-08-06T00:00:00.000000000",
          "2025-08-07T00:00:00.000000000",
          "2025-08-08T00:00:00.000000000",
          "2025-08-11T00:00:00.000000000",
          "2025-08-12T00:00:00.000000000",
          "2025-08-13T00:00:00.000000000",
          "2025-08-14T00:00:00.000000000",
          "2025-08-15T00:00:00.000000000",
          "2025-08-18T00:00:00.000000000",
          "2025-08-19T00:00:00.000000000",
          "2025-08-20T00:00:00.000000000",
          "2025-08-21T00:00:00.000000000",
          "2025-08-22T00:00:00.000000000",
          "2025-08-25T00:00:00.000000000",
          "2025-08-26T00:00:00.000000000",
          "2025-08-27T00:00:00.000000000",
          "2025-08-28T00:00:00.000000000",
          "2025-08-29T00:00:00.000000000",
          "2025-09-02T00:00:00.000000000",
          "2025-09-03T00:00:00.000000000",
          "2025-09-04T00:00:00.000000000",
          "2025-09-05T00:00:00.000000000",
          "2025-09-08T00:00:00.000000000",
          "2025-09-09T00:00:00.000000000",
          "2025-09-10T00:00:00.000000000",
          "2025-09-11T00:00:00.000000000",
          "2025-09-12T00:00:00.000000000",
          "2025-09-15T00:00:00.000000000",
          "2025-09-16T00:00:00.000000000",
          "2025-09-17T00:00:00.000000000",
          "2025-09-18T00:00:00.000000000",
          "2025-09-19T00:00:00.000000000",
          "2025-09-22T00:00:00.000000000",
          "2025-09-23T00:00:00.000000000",
          "2025-09-24T00:00:00.000000000",
          "2025-09-25T00:00:00.000000000",
          "2025-09-26T00:00:00.000000000",
          "2025-09-29T00:00:00.000000000",
          "2025-09-30T00:00:00.000000000"
         ],
         "xaxis": "x",
         "y": {
          "bdata": "AAAAgLXpa0AAAAAgxitrQAAAAMDNsmtAAAAAAKTUa0AAAABg/OprQAAAACA0VmlAAAAA4HB9Z0AAAACgiqBmQAAAAMD3f2VAAAAAoKnLaEAAAADAj75nQAAAACBRtWhAAAAA4NBAaUAAAACArzRpQAAAAOB1OWhAAAAAAPiPaED////fBhZoQAAAAMAS6GhAAAAAwDaDaUAAAAAAj/tpQAAAAICbGGpAAAAAgA80akAAAACAN1ZqQAAAAGBlf2pAAAAAgJKZakAAAACgJ5tpQAAAAIDwzGhAAAAAAM/AaEAAAABgqnhoQAAAAMA/oGhAAAAAoHLBaEAAAAAgolFqQAAAACAJlmpAAAAAgNuCakAAAADAumZqQAAAAACoYGpAAAAA4GIRakAAAAAgBNRpQAAAAICMO2lAAAAAIDckaUAAAACAjmFoQAAAACB1/2hAAAAAYCsGaUAAAACAJfdoQAAAAADqE2lAAAAAQBUvaUAAAAAgRGFpQAEAAADiUmlAAQAA4OEMaUAAAADgCnZpQAAAAKAXJ2lAAAAAgBZOaUAAAADAv9FoQAAAAIAs32hAAAAAAEaHaEAAAAAAPsZoQP////9hbWhAAAAAwG2LaEAAAABgtRhpQAAAAMCwKGlAAAAAgFUCaUAAAADAmyppQAAAAGC1GGlAAAAAAEQbaUAAAABA/51pQAAAAICz8mlAAAAAoF+GakAAAACA2qlqQAAAAKDINmpAAAAAoLM4akAAAAAg0lxqQAAAACBqhWpAAAAAwHVdakAAAACgRQxqQAAAAEDvG2pAAAAAIH89akAAAACABTlqQAAAAGAZXmpAAAAA4KaHakAAAADABcVqQAAAAAAIvWpAAAAAwJCwakAAAADAZrRqQAAAAODVuWpAAAAA4PlgakAAAABABBpqQAAAAOC16mlAAAAAoNFEaUAAAADg0mNpQAAAACAUVmlAAAAAoEOgakAAAABg+nhrQAAAAGDhomxAAAAAgMJlbEAAAADAzLRsQAAAAGCPKm1AAAAAwPUYbUAAAABA4fJsQAAAAOB63GxAAAAAgOvRbEAAAADgUUBsQAAAAMDMHGxAAAAA4FF4bEAAAADAHmVsQAAAAIDrqWxAAAAAIK7PbED///9/6xFtQAAAAOB6BG1AAAAAQAq3bEAAAABACs9tQAAAAMD1+G1AAAAAgBT2bUAAAAAAKbxtQAAAAEAzS21AAAAAoEdZbEAAAADA9cBsQAAAAIA9Qm1AAAAAYGaWbUABAADAzMRtQAAAACCu321AAAAAACm8bUAAAAAAALBuQAAAAKBHAXBAAAAAgMLNb0AAAACA64lvQAAAAIDrDXBAAAAAYLjub0AAAACAws1vQAAAAGC4zm9A",
          "dtype": "f8"
         },
         "yaxis": "y"
        },
        {
         "line": {
          "color": "#F24236",
          "dash": "dot",
          "width": 2
         },
         "name": "Predicted Price",
         "type": "scatter",
         "x": [
          "2025-03-27T00:00:00.000000000",
          "2025-03-28T00:00:00.000000000",
          "2025-03-31T00:00:00.000000000",
          "2025-04-01T00:00:00.000000000",
          "2025-04-02T00:00:00.000000000",
          "2025-04-03T00:00:00.000000000",
          "2025-04-04T00:00:00.000000000",
          "2025-04-07T00:00:00.000000000",
          "2025-04-08T00:00:00.000000000",
          "2025-04-09T00:00:00.000000000",
          "2025-04-10T00:00:00.000000000",
          "2025-04-11T00:00:00.000000000",
          "2025-04-14T00:00:00.000000000",
          "2025-04-15T00:00:00.000000000",
          "2025-04-16T00:00:00.000000000",
          "2025-04-17T00:00:00.000000000",
          "2025-04-21T00:00:00.000000000",
          "2025-04-22T00:00:00.000000000",
          "2025-04-23T00:00:00.000000000",
          "2025-04-24T00:00:00.000000000",
          "2025-04-25T00:00:00.000000000",
          "2025-04-28T00:00:00.000000000",
          "2025-04-29T00:00:00.000000000",
          "2025-04-30T00:00:00.000000000",
          "2025-05-01T00:00:00.000000000",
          "2025-05-02T00:00:00.000000000",
          "2025-05-05T00:00:00.000000000",
          "2025-05-06T00:00:00.000000000",
          "2025-05-07T00:00:00.000000000",
          "2025-05-08T00:00:00.000000000",
          "2025-05-09T00:00:00.000000000",
          "2025-05-12T00:00:00.000000000",
          "2025-05-13T00:00:00.000000000",
          "2025-05-14T00:00:00.000000000",
          "2025-05-15T00:00:00.000000000",
          "2025-05-16T00:00:00.000000000",
          "2025-05-19T00:00:00.000000000",
          "2025-05-20T00:00:00.000000000",
          "2025-05-21T00:00:00.000000000",
          "2025-05-22T00:00:00.000000000",
          "2025-05-23T00:00:00.000000000",
          "2025-05-27T00:00:00.000000000",
          "2025-05-28T00:00:00.000000000",
          "2025-05-29T00:00:00.000000000",
          "2025-05-30T00:00:00.000000000",
          "2025-06-02T00:00:00.000000000",
          "2025-06-03T00:00:00.000000000",
          "2025-06-04T00:00:00.000000000",
          "2025-06-05T00:00:00.000000000",
          "2025-06-06T00:00:00.000000000",
          "2025-06-09T00:00:00.000000000",
          "2025-06-10T00:00:00.000000000",
          "2025-06-11T00:00:00.000000000",
          "2025-06-12T00:00:00.000000000",
          "2025-06-13T00:00:00.000000000",
          "2025-06-16T00:00:00.000000000",
          "2025-06-17T00:00:00.000000000",
          "2025-06-18T00:00:00.000000000",
          "2025-06-20T00:00:00.000000000",
          "2025-06-23T00:00:00.000000000",
          "2025-06-24T00:00:00.000000000",
          "2025-06-25T00:00:00.000000000",
          "2025-06-26T00:00:00.000000000",
          "2025-06-27T00:00:00.000000000",
          "2025-06-30T00:00:00.000000000",
          "2025-07-01T00:00:00.000000000",
          "2025-07-02T00:00:00.000000000",
          "2025-07-03T00:00:00.000000000",
          "2025-07-07T00:00:00.000000000",
          "2025-07-08T00:00:00.000000000",
          "2025-07-09T00:00:00.000000000",
          "2025-07-10T00:00:00.000000000",
          "2025-07-11T00:00:00.000000000",
          "2025-07-14T00:00:00.000000000",
          "2025-07-15T00:00:00.000000000",
          "2025-07-16T00:00:00.000000000",
          "2025-07-17T00:00:00.000000000",
          "2025-07-18T00:00:00.000000000",
          "2025-07-21T00:00:00.000000000",
          "2025-07-22T00:00:00.000000000",
          "2025-07-23T00:00:00.000000000",
          "2025-07-24T00:00:00.000000000",
          "2025-07-25T00:00:00.000000000",
          "2025-07-28T00:00:00.000000000",
          "2025-07-29T00:00:00.000000000",
          "2025-07-30T00:00:00.000000000",
          "2025-07-31T00:00:00.000000000",
          "2025-08-01T00:00:00.000000000",
          "2025-08-04T00:00:00.000000000",
          "2025-08-05T00:00:00.000000000",
          "2025-08-06T00:00:00.000000000",
          "2025-08-07T00:00:00.000000000",
          "2025-08-08T00:00:00.000000000",
          "2025-08-11T00:00:00.000000000",
          "2025-08-12T00:00:00.000000000",
          "2025-08-13T00:00:00.000000000",
          "2025-08-14T00:00:00.000000000",
          "2025-08-15T00:00:00.000000000",
          "2025-08-18T00:00:00.000000000",
          "2025-08-19T00:00:00.000000000",
          "2025-08-20T00:00:00.000000000",
          "2025-08-21T00:00:00.000000000",
          "2025-08-22T00:00:00.000000000",
          "2025-08-25T00:00:00.000000000",
          "2025-08-26T00:00:00.000000000",
          "2025-08-27T00:00:00.000000000",
          "2025-08-28T00:00:00.000000000",
          "2025-08-29T00:00:00.000000000",
          "2025-09-02T00:00:00.000000000",
          "2025-09-03T00:00:00.000000000",
          "2025-09-04T00:00:00.000000000",
          "2025-09-05T00:00:00.000000000",
          "2025-09-08T00:00:00.000000000",
          "2025-09-09T00:00:00.000000000",
          "2025-09-10T00:00:00.000000000",
          "2025-09-11T00:00:00.000000000",
          "2025-09-12T00:00:00.000000000",
          "2025-09-15T00:00:00.000000000",
          "2025-09-16T00:00:00.000000000",
          "2025-09-17T00:00:00.000000000",
          "2025-09-18T00:00:00.000000000",
          "2025-09-19T00:00:00.000000000",
          "2025-09-22T00:00:00.000000000",
          "2025-09-23T00:00:00.000000000",
          "2025-09-24T00:00:00.000000000",
          "2025-09-25T00:00:00.000000000",
          "2025-09-26T00:00:00.000000000",
          "2025-09-29T00:00:00.000000000",
          "2025-09-30T00:00:00.000000000"
         ],
         "xaxis": "x",
         "y": {
          "bdata": "wT1dMmA4a0Chj6VbqVdrQOHZnkyScGtAcUOsZWSJa0BBNIUPZqRrQJGj6D4GwGtAkVkZlF2sa0BBCeWXbV9rQKHB0BnE4WpA0cYeQYA/akCh1tgwVbVpQGGo84rKOWlAQV2dj0PiaECh2p9w0K5oQJEGIP2QnGhA4VFPvn6UaEABx2EkYZloQAGbJEFBn2hA4XvzN2WvaEAxIrin5MxoQGEJEOLR+GhAgYiJl5cuaUAhTj49fmlpQIHkoMRBpmlAkc9UnzfhaUAhtsr+PRhqQHEcXKqHNmpAsYrzN0I6akChhsTJBixqQMFNsKMyC2pA0UcjiUbjaUAhmUwmPLtpQPE0EdLtqGlAQQIbP8uraUABQquR+r1pQGF5bDGi2WlAYWYdFVr5aUBhtNVaPhZqQMHTP6cBLGpAQf9847EwakAR/yHtESlqQEFnn2WtCmpA4YIaaubpaUCBlvXTnclpQGFoyh87qmlAQYWy+JaNaUBhaLx2x3lpQHHR3YnRbmlA8eeMHUVqaUCBcAyqymVpQIG7HzeJaGlA8XP0sgBpaUDBa6OUZ2xpQCHRwqnVaWlAQT1IdMtlaUCRhpzfr1ppQBH4Fg14T2lAoRatYqA/aUBxFrmehS5pQLE6o8uyIGlAYfzr6FMbaUAh1mtOhxppQCELaby8IGlAAfK4YyIpaUChnufI6TBpQMFdDsLePWlAobu+Kv1TaUAhVDUd7HhpQFHEb9Yjq2lAAWIpVJrbaUAhJa8X9whqQJFZQhk7MmpA8dbpyE9YakBBPzSAh3dqQAG7yRNHi2pAYQAk1kSWakCx/O7of5tqQDEXQ4P4m2pAIYwcPVabakDx3y6AOJxqQKHWyURTompAgfi5VEurakCBIKYWd7VqQAG/fMO/wGpAEac3AH/MakAxYoYDRtFqQIEONKq/zWpAIbecEpq+akChbu5SKJ1qQMFJJpvhdmpA4XH3jB5RakCBMtrmKzpqQDFoMvJwPWpAoSxbDBZjakDBQoL+caFqQPGF1L/u82pA4RLM5dNUa0Dx+38kC7prQKEioqHSGGxA4RQe0OFsbEBx0DKoJbJsQGEoQQF93mxAgR+llq71bEDBuPGQPABtQNEYyUhdAG1AoSM9djj7bEABBB8TYfdsQMGSz38M+GxAwWS3RuP6bEDBfKi7dfpsQDHjC0pcB21AkXvUSzAgbUAhBJbEhT9tQIG5ar/8Xm1AIXoXLkd0bUAhIwOUOHFtQME+BW2raG1AQZMuuWZibUBBbFFCwWNtQBHjZ7Lnam1AQRwhiYt5bUAh/lRYrYptQAHTd3vFn21AkVnDKDDSbUBBFbo06xZuQGEQwNSHYm5AkXy5vaW1bkDBfey/1QRvQKGFDLVkSm9A",
          "dtype": "f8"
         },
         "yaxis": "y"
        },
        {
         "line": {
          "color": "#00FF00",
          "dash": "dash",
          "width": 3
         },
         "marker": {
          "size": 8,
          "symbol": "star"
         },
         "name": "Future Prediction",
         "type": "scatter",
         "x": [
          "2025-10-01T00:00:00",
          "2025-10-02T00:00:00",
          "2025-10-03T00:00:00",
          "2025-10-06T00:00:00",
          "2025-10-07T00:00:00",
          "2025-10-08T00:00:00",
          "2025-10-09T00:00:00"
         ],
         "xaxis": "x",
         "y": [
          252.23893010755094,
          253.65185094097026,
          254.686250136057,
          255.41030546449477,
          255.8912544811724,
          256.1875834923503,
          256.3468256804317
         ],
         "yaxis": "y"
        },
        {
         "marker": {
          "color": "#A23B72"
         },
         "name": "Volume",
         "type": "bar",
         "x": [
          "2025-03-27T00:00:00.000000000",
          "2025-03-28T00:00:00.000000000",
          "2025-03-31T00:00:00.000000000",
          "2025-04-01T00:00:00.000000000",
          "2025-04-02T00:00:00.000000000",
          "2025-04-03T00:00:00.000000000",
          "2025-04-04T00:00:00.000000000",
          "2025-04-07T00:00:00.000000000",
          "2025-04-08T00:00:00.000000000",
          "2025-04-09T00:00:00.000000000",
          "2025-04-10T00:00:00.000000000",
          "2025-04-11T00:00:00.000000000",
          "2025-04-14T00:00:00.000000000",
          "2025-04-15T00:00:00.000000000",
          "2025-04-16T00:00:00.000000000",
          "2025-04-17T00:00:00.000000000",
          "2025-04-21T00:00:00.000000000",
          "2025-04-22T00:00:00.000000000",
          "2025-04-23T00:00:00.000000000",
          "2025-04-24T00:00:00.000000000",
          "2025-04-25T00:00:00.000000000",
          "2025-04-28T00:00:00.000000000",
          "2025-04-29T00:00:00.000000000",
          "2025-04-30T00:00:00.000000000",
          "2025-05-01T00:00:00.000000000",
          "2025-05-02T00:00:00.000000000",
          "2025-05-05T00:00:00.000000000",
          "2025-05-06T00:00:00.000000000",
          "2025-05-07T00:00:00.000000000",
          "2025-05-08T00:00:00.000000000",
          "2025-05-09T00:00:00.000000000",
          "2025-05-12T00:00:00.000000000",
          "2025-05-13T00:00:00.000000000",
          "2025-05-14T00:00:00.000000000",
          "2025-05-15T00:00:00.000000000",
          "2025-05-16T00:00:00.000000000",
          "2025-05-19T00:00:00.000000000",
          "2025-05-20T00:00:00.000000000",
          "2025-05-21T00:00:00.000000000",
          "2025-05-22T00:00:00.000000000",
          "2025-05-23T00:00:00.000000000",
          "2025-05-27T00:00:00.000000000",
          "2025-05-28T00:00:00.000000000",
          "2025-05-29T00:00:00.000000000",
          "2025-05-30T00:00:00.000000000",
          "2025-06-02T00:00:00.000000000",
          "2025-06-03T00:00:00.000000000",
          "2025-06-04T00:00:00.000000000",
          "2025-06-05T00:00:00.000000000",
          "2025-06-06T00:00:00.000000000",
          "2025-06-09T00:00:00.000000000",
          "2025-06-10T00:00:00.000000000",
          "2025-06-11T00:00:00.000000000",
          "2025-06-12T00:00:00.000000000",
          "2025-06-13T00:00:00.000000000",
          "2025-06-16T00:00:00.000000000",
          "2025-06-17T00:00:00.000000000",
          "2025-06-18T00:00:00.000000000",
          "2025-06-20T00:00:00.000000000",
          "2025-06-23T00:00:00.000000000",
          "2025-06-24T00:00:00.000000000",
          "2025-06-25T00:00:00.000000000",
          "2025-06-26T00:00:00.000000000",
          "2025-06-27T00:00:00.000000000",
          "2025-06-30T00:00:00.000000000",
          "2025-07-01T00:00:00.000000000",
          "2025-07-02T00:00:00.000000000",
          "2025-07-03T00:00:00.000000000",
          "2025-07-07T00:00:00.000000000",
          "2025-07-08T00:00:00.000000000",
          "2025-07-09T00:00:00.000000000",
          "2025-07-10T00:00:00.000000000",
          "2025-07-11T00:00:00.000000000",
          "2025-07-14T00:00:00.000000000",
          "2025-07-15T00:00:00.000000000",
          "2025-07-16T00:00:00.000000000",
          "2025-07-17T00:00:00.000000000",
          "2025-07-18T00:00:00.000000000",
          "2025-07-21T00:00:00.000000000",
          "2025-07-22T00:00:00.000000000",
          "2025-07-23T00:00:00.000000000",
          "2025-07-24T00:00:00.000000000",
          "2025-07-25T00:00:00.000000000",
          "2025-07-28T00:00:00.000000000",
          "2025-07-29T00:00:00.000000000",
          "2025-07-30T00:00:00.000000000",
          "2025-07-31T00:00:00.000000000",
          "2025-08-01T00:00:00.000000000",
          "2025-08-04T00:00:00.000000000",
          "2025-08-05T00:00:00.000000000",
          "2025-08-06T00:00:00.000000000",
          "2025-08-07T00:00:00.000000000",
          "2025-08-08T00:00:00.000000000",
          "2025-08-11T00:00:00.000000000",
          "2025-08-12T00:00:00.000000000",
          "2025-08-13T00:00:00.000000000",
          "2025-08-14T00:00:00.000000000",
          "2025-08-15T00:00:00.000000000",
          "2025-08-18T00:00:00.000000000",
          "2025-08-19T00:00:00.000000000",
          "2025-08-20T00:00:00.000000000",
          "2025-08-21T00:00:00.000000000",
          "2025-08-22T00:00:00.000000000",
          "2025-08-25T00:00:00.000000000",
          "2025-08-26T00:00:00.000000000",
          "2025-08-27T00:00:00.000000000",
          "2025-08-28T00:00:00.000000000",
          "2025-08-29T00:00:00.000000000",
          "2025-09-02T00:00:00.000000000",
          "2025-09-03T00:00:00.000000000",
          "2025-09-04T00:00:00.000000000",
          "2025-09-05T00:00:00.000000000",
          "2025-09-08T00:00:00.000000000",
          "2025-09-09T00:00:00.000000000",
          "2025-09-10T00:00:00.000000000",
          "2025-09-11T00:00:00.000000000",
          "2025-09-12T00:00:00.000000000",
          "2025-09-15T00:00:00.000000000",
          "2025-09-16T00:00:00.000000000",
          "2025-09-17T00:00:00.000000000",
          "2025-09-18T00:00:00.000000000",
          "2025-09-19T00:00:00.000000000",
          "2025-09-22T00:00:00.000000000",
          "2025-09-23T00:00:00.000000000",
          "2025-09-24T00:00:00.000000000",
          "2025-09-25T00:00:00.000000000",
          "2025-09-26T00:00:00.000000000",
          "2025-09-29T00:00:00.000000000",
          "2025-09-30T00:00:00.000000000"
         ],
         "xaxis": "x2",
         "y": {
          "bdata": "kAU2AmiVXwJkY+QDHJ0rAmzhIwJ4DCoGdD+BB3yFkAlsKzQHfKj9CsC9Qwd8KjYFxIUKBhxyDwOwcY8DXPgbA+Q7yQIQWygDsKInA5jo0QLcOUcCPCxPAtDxMQIk1B0DxFRrA6hMBQaEIx0EdIANA3zJFQQ0PwIDDD4sAjgkzQO0EhgD6KbwAnwYrwLsO0MDVAzAAlhyiAIYgIcDgDvJAoTKrAT05FoDNNSzAsBAEAM8oDgERIQcAiC6wwIgWJkCVChJA1QtxwKIy1cE2DxCA8yhogNY7p0CBAYRA5xxkAII5lACDKu0ArxBxQWcqFMDgPM4A0QdWwL8IQcD+MRcBGB6egUkObIEqLUMBBhiFQIIb/4ChNKNAljb5wLQJ6YCKMdeAiSnUALsY4UCxKXUAgR23QIIS+sC+PQPAwQSxAL0/8wCyD++AgB0ZgLQqkEC9HoQAzR3tgIgXM8ERIs5BrQTegTcwKECHFJ3BqC4YAUwRskGFBavA9jJUAPkQioEDC4YAywVVwNo1zsCaDxZAlzlhAIQPtMB6CiIArzD2AH8v0ADbPvcAUz5RAIgelkCUIqgApib9QPYi9UCgEFFA0ys6wKs3vMDoDT5BFgf/gJIz1MD7IqLAqy6xwPgp8UCADKjAnR+wglYEUoGALqXA9SAhQI0UUoDjBG/Aty9YwKtXDQA",
          "dtype": "i4"
         },
         "yaxis": "y2"
        },
        {
         "line": {
          "color": "orange",
          "width": 1
         },
         "name": "SMA 50",
         "type": "scatter",
         "x": [
          "2025-03-27T00:00:00.000000000",
          "2025-03-28T00:00:00.000000000",
          "2025-03-31T00:00:00.000000000",
          "2025-04-01T00:00:00.000000000",
          "2025-04-02T00:00:00.000000000",
          "2025-04-03T00:00:00.000000000",
          "2025-04-04T00:00:00.000000000",
          "2025-04-07T00:00:00.000000000",
          "2025-04-08T00:00:00.000000000",
          "2025-04-09T00:00:00.000000000",
          "2025-04-10T00:00:00.000000000",
          "2025-04-11T00:00:00.000000000",
          "2025-04-14T00:00:00.000000000",
          "2025-04-15T00:00:00.000000000",
          "2025-04-16T00:00:00.000000000",
          "2025-04-17T00:00:00.000000000",
          "2025-04-21T00:00:00.000000000",
          "2025-04-22T00:00:00.000000000",
          "2025-04-23T00:00:00.000000000",
          "2025-04-24T00:00:00.000000000",
          "2025-04-25T00:00:00.000000000",
          "2025-04-28T00:00:00.000000000",
          "2025-04-29T00:00:00.000000000",
          "2025-04-30T00:00:00.000000000",
          "2025-05-01T00:00:00.000000000",
          "2025-05-02T00:00:00.000000000",
          "2025-05-05T00:00:00.000000000",
          "2025-05-06T00:00:00.000000000",
          "2025-05-07T00:00:00.000000000",
          "2025-05-08T00:00:00.000000000",
          "2025-05-09T00:00:00.000000000",
          "2025-05-12T00:00:00.000000000",
          "2025-05-13T00:00:00.000000000",
          "2025-05-14T00:00:00.000000000",
          "2025-05-15T00:00:00.000000000",
          "2025-05-16T00:00:00.000000000",
          "2025-05-19T00:00:00.000000000",
          "2025-05-20T00:00:00.000000000",
          "2025-05-21T00:00:00.000000000",
          "2025-05-22T00:00:00.000000000",
          "2025-05-23T00:00:00.000000000",
          "2025-05-27T00:00:00.000000000",
          "2025-05-28T00:00:00.000000000",
          "2025-05-29T00:00:00.000000000",
          "2025-05-30T00:00:00.000000000",
          "2025-06-02T00:00:00.000000000",
          "2025-06-03T00:00:00.000000000",
          "2025-06-04T00:00:00.000000000",
          "2025-06-05T00:00:00.000000000",
          "2025-06-06T00:00:00.000000000",
          "2025-06-09T00:00:00.000000000",
          "2025-06-10T00:00:00.000000000",
          "2025-06-11T00:00:00.000000000",
          "2025-06-12T00:00:00.000000000",
          "2025-06-13T00:00:00.000000000",
          "2025-06-16T00:00:00.000000000",
          "2025-06-17T00:00:00.000000000",
          "2025-06-18T00:00:00.000000000",
          "2025-06-20T00:00:00.000000000",
          "2025-06-23T00:00:00.000000000",
          "2025-06-24T00:00:00.000000000",
          "2025-06-25T00:00:00.000000000",
          "2025-06-26T00:00:00.000000000",
          "2025-06-27T00:00:00.000000000",
          "2025-06-30T00:00:00.000000000",
          "2025-07-01T00:00:00.000000000",
          "2025-07-02T00:00:00.000000000",
          "2025-07-03T00:00:00.000000000",
          "2025-07-07T00:00:00.000000000",
          "2025-07-08T00:00:00.000000000",
          "2025-07-09T00:00:00.000000000",
          "2025-07-10T00:00:00.000000000",
          "2025-07-11T00:00:00.000000000",
          "2025-07-14T00:00:00.000000000",
          "2025-07-15T00:00:00.000000000",
          "2025-07-16T00:00:00.000000000",
          "2025-07-17T00:00:00.000000000",
          "2025-07-18T00:00:00.000000000",
          "2025-07-21T00:00:00.000000000",
          "2025-07-22T00:00:00.000000000",
          "2025-07-23T00:00:00.000000000",
          "2025-07-24T00:00:00.000000000",
          "2025-07-25T00:00:00.000000000",
          "2025-07-28T00:00:00.000000000",
          "2025-07-29T00:00:00.000000000",
          "2025-07-30T00:00:00.000000000",
          "2025-07-31T00:00:00.000000000",
          "2025-08-01T00:00:00.000000000",
          "2025-08-04T00:00:00.000000000",
          "2025-08-05T00:00:00.000000000",
          "2025-08-06T00:00:00.000000000",
          "2025-08-07T00:00:00.000000000",
          "2025-08-08T00:00:00.000000000",
          "2025-08-11T00:00:00.000000000",
          "2025-08-12T00:00:00.000000000",
          "2025-08-13T00:00:00.000000000",
          "2025-08-14T00:00:00.000000000",
          "2025-08-15T00:00:00.000000000",
          "2025-08-18T00:00:00.000000000",
          "2025-08-19T00:00:00.000000000",
          "2025-08-20T00:00:00.000000000",
          "2025-08-21T00:00:00.000000000",
          "2025-08-22T00:00:00.000000000",
          "2025-08-25T00:00:00.000000000",
          "2025-08-26T00:00:00.000000000",
          "2025-08-27T00:00:00.000000000",
          "2025-08-28T00:00:00.000000000",
          "2025-08-29T00:00:00.000000000",
          "2025-09-02T00:00:00.000000000",
          "2025-09-03T00:00:00.000000000",
          "2025-09-04T00:00:00.000000000",
          "2025-09-05T00:00:00.000000000",
          "2025-09-08T00:00:00.000000000",
          "2025-09-09T00:00:00.000000000",
          "2025-09-10T00:00:00.000000000",
          "2025-09-11T00:00:00.000000000",
          "2025-09-12T00:00:00.000000000",
          "2025-09-15T00:00:00.000000000",
          "2025-09-16T00:00:00.000000000",
          "2025-09-17T00:00:00.000000000",
          "2025-09-18T00:00:00.000000000",
          "2025-09-19T00:00:00.000000000",
          "2025-09-22T00:00:00.000000000",
          "2025-09-23T00:00:00.000000000",
          "2025-09-24T00:00:00.000000000",
          "2025-09-25T00:00:00.000000000",
          "2025-09-26T00:00:00.000000000",
          "2025-09-29T00:00:00.000000000",
          "2025-09-30T00:00:00.000000000"
         ],
         "xaxis": "x",
         "y": {
          "bdata": "pHA9aujDbECF61E4U7dsQOxRuE6Ss2xAUrge1WWvbECPwvUYWrBsQArXo+BUo2xAzczM3PaMbEA9CteDvXJsQJqZmck6TmxAMzMzYzw1bECkcD2aKBZsQOF6FC4l/WtAKVyPku/na0D2KFxPlNdrQB+F68Ekv2tACtejAKaoa0Bcj8J1PI9rQLgehfuWfWtAKVyPst9ua0BxPQpHZF9rQIXrUfjGTWtAcT0Kl7w5a0BI4XpUayRrQHsUricCEGtACtejoN37akBI4XqUBeJqQI/C9Xg7xGpAw/Uo7DWlakDsUbjOyIRqQD0K1yNqaWpAMzMzk6lQakAUrkfxAz1qQM3MzDwrLWpAAAAAkEceakDNzMzs8g5qQD0K1zPC/2lApHA9WpjsaUDsUbiOmt9pQOxRuF7N02lAhetRmP/JaUBxPQpH9sBpQEjherSmuGlAUrgeJSawaUBmZmbGLqhpQMP1KOwpn2lA7FG4fmqXaUBmZmZ2Ao5pQJqZmbm+gmlA7FG4/iZ0aUBmZmaGFGlpQFyPwqXyWmlAUrge5WRRaUDNzMwsp0JpQB+F6/GAM2lAH4XrQSYiaUDNzMwsRR9pQNejcK0RJGlAUrgeBeMtaUBmZmY2TUBpQD0K14MpQmlArkfhOqNIaUAzMzPD+0ppQJqZmWkuSmlAMzMzQ6xJaUCuR+G6zVBpQFyPwvXlV2lA16NwnWJkaUDXo3B9YW1pQDMzM+P4cGlACtej8DFyaUAUrkcxj3NpQJqZmbkvdWlA9ihcz1R1aUAAAABgB3NpQMP1KByEcGlAzczMTMNzaUBmZmZmC3tpQClcj3JPg2lA4XoUntmNaUBmZmZW05hpQKRwPSr6omlAexSuN+CkaUAK16Owe6VpQNejcC2VpmlAhetRuHemaUC4HoULDqVpQGZmZgZIpGlArkfh2mqhaUAAAAAQOaJpQM3MzFw4o2lA16Nw3bauaUDXo3B9YrtpQClcjwLhzWlAKVyPgnPfaUB7FK5nB/JpQArXoyBrBmpAzczMzHMZakBSuB4lAyxqQEjhejSGP2pAcT0Kx7hQakCkcD0almBqQIXrUej1bmpAj8L16KaBakAAAADgsJNqQFK4HiXdqGpAj8L1WIi9akCF61GoTdVqQB+F61E07GpAMzMzI7v+akCkcD26iRZrQFK4HlXzL2tAzczM/H9Ia0DXo3C9P2BrQLgehQuwdWtA9ihcX6yDa0C4HoXbCZJrQM3MzCwJoGtAuB6FuwGva0A9CtcDNcFrQK5H4Rro02tAcT0KZyzla0AfhetRgfprQK5H4TpoF2xAzczMfOA0bEBmZmY2rVBsQFyPwjW5bmxAuB6FG/WLbECPwvVoyqdsQBSuR+HPwmxA",
          "dtype": "f8"
         },
         "yaxis": "y"
        }
       ],
       "layout": {
        "annotations": [
         {
          "font": {
           "size": 16
          },
          "showarrow": false,
          "text": "AAPL Price Prediction with LSTM",
          "x": 0.5,
          "xanchor": "center",
          "xref": "paper",
          "y": 1,
          "yanchor": "bottom",
          "yref": "paper"
         },
         {
          "font": {
           "size": 16
          },
          "showarrow": false,
          "text": "Volume",
          "x": 0.5,
          "xanchor": "center",
          "xref": "paper",
          "y": 0.20000000000000004,
          "yanchor": "bottom",
          "yref": "paper"
         },
         {
          "align": "left",
          "bgcolor": "white",
          "bordercolor": "black",
          "borderpad": 4,
          "borderwidth": 1,
          "font": {
           "size": 12
          },
          "opacity": 0.8,
          "showarrow": false,
          "text": "MAE: $6.45<br>MAPE: 3.08%",
          "x": 0.02,
          "xref": "paper",
          "y": 0.98,
          "yref": "paper"
         }
        ],
        "height": 700,
        "legend": {
         "orientation": "h",
         "x": 1,
         "xanchor": "right",
         "y": 1.02,
         "yanchor": "bottom"
        },
        "template": {
         "data": {
          "bar": [
           {
            "error_x": {
             "color": "#2a3f5f"
            },
            "error_y": {
             "color": "#2a3f5f"
            },
            "marker": {
             "line": {
              "color": "white",
              "width": 0.5
             },
             "pattern": {
              "fillmode": "overlay",
              "size": 10,
              "solidity": 0.2
             }
            },
            "type": "bar"
           }
          ],
          "barpolar": [
           {
            "marker": {
             "line": {
              "color": "white",
              "width": 0.5
             },
             "pattern": {
              "fillmode": "overlay",
              "size": 10,
              "solidity": 0.2
             }
            },
            "type": "barpolar"
           }
          ],
          "carpet": [
           {
            "aaxis": {
             "endlinecolor": "#2a3f5f",
             "gridcolor": "#C8D4E3",
             "linecolor": "#C8D4E3",
             "minorgridcolor": "#C8D4E3",
             "startlinecolor": "#2a3f5f"
            },
            "baxis": {
             "endlinecolor": "#2a3f5f",
             "gridcolor": "#C8D4E3",
             "linecolor": "#C8D4E3",
             "minorgridcolor": "#C8D4E3",
             "startlinecolor": "#2a3f5f"
            },
            "type": "carpet"
           }
          ],
          "choropleth": [
           {
            "colorbar": {
             "outlinewidth": 0,
             "ticks": ""
            },
            "type": "choropleth"
           }
          ],
          "contour": [
           {
            "colorbar": {
             "outlinewidth": 0,
             "ticks": ""
            },
            "colorscale": [
             [
              0,
              "#0d0887"
             ],
             [
              0.1111111111111111,
              "#46039f"
             ],
             [
              0.2222222222222222,
              "#7201a8"
             ],
             [
              0.3333333333333333,
              "#9c179e"
             ],
             [
              0.4444444444444444,
              "#bd3786"
             ],
             [
              0.5555555555555556,
              "#d8576b"
             ],
             [
              0.6666666666666666,
              "#ed7953"
             ],
             [
              0.7777777777777778,
              "#fb9f3a"
             ],
             [
              0.8888888888888888,
              "#fdca26"
             ],
             [
              1,
              "#f0f921"
             ]
            ],
            "type": "contour"
           }
          ],
          "contourcarpet": [
           {
            "colorbar": {
             "outlinewidth": 0,
             "ticks": ""
            },
            "type": "contourcarpet"
           }
          ],
          "heatmap": [
           {
            "colorbar": {
             "outlinewidth": 0,
             "ticks": ""
            },
            "colorscale": [
             [
              0,
              "#0d0887"
             ],
             [
              0.1111111111111111,
              "#46039f"
             ],
             [
              0.2222222222222222,
              "#7201a8"
             ],
             [
              0.3333333333333333,
              "#9c179e"
             ],
             [
              0.4444444444444444,
              "#bd3786"
             ],
             [
              0.5555555555555556,
              "#d8576b"
             ],
             [
              0.6666666666666666,
              "#ed7953"
             ],
             [
              0.7777777777777778,
              "#fb9f3a"
             ],
             [
              0.8888888888888888,
              "#fdca26"
             ],
             [
              1,
              "#f0f921"
             ]
            ],
            "type": "heatmap"
           }
          ],
          "histogram": [
           {
            "marker": {
             "pattern": {
              "fillmode": "overlay",
              "size": 10,
              "solidity": 0.2
             }
            },
            "type": "histogram"
           }
          ],
          "histogram2d": [
           {
            "colorbar": {
             "outlinewidth": 0,
             "ticks": ""
            },
            "colorscale": [
             [
              0,
              "#0d0887"
             ],
             [
              0.1111111111111111,
              "#46039f"
             ],
             [
              0.2222222222222222,
              "#7201a8"
             ],
             [
              0.3333333333333333,
              "#9c179e"
             ],
             [
              0.4444444444444444,
              "#bd3786"
             ],
             [
              0.5555555555555556,
              "#d8576b"
             ],
             [
              0.6666666666666666,
              "#ed7953"
             ],
             [
              0.7777777777777778,
              "#fb9f3a"
             ],
             [
              0.8888888888888888,
              "#fdca26"
             ],
             [
              1,
              "#f0f921"
             ]
            ],
            "type": "histogram2d"
           }
          ],
          "histogram2dcontour": [
           {
            "colorbar": {
             "outlinewidth": 0,
             "ticks": ""
            },
            "colorscale": [
             [
              0,
              "#0d0887"
             ],
             [
              0.1111111111111111,
              "#46039f"
             ],
             [
              0.2222222222222222,
              "#7201a8"
             ],
             [
              0.3333333333333333,
              "#9c179e"
             ],
             [
              0.4444444444444444,
              "#bd3786"
             ],
             [
              0.5555555555555556,
              "#d8576b"
             ],
             [
              0.6666666666666666,
              "#ed7953"
             ],
             [
              0.7777777777777778,
              "#fb9f3a"
             ],
             [
              0.8888888888888888,
              "#fdca26"
             ],
             [
              1,
              "#f0f921"
             ]
            ],
            "type": "histogram2dcontour"
           }
          ],
          "mesh3d": [
           {
            "colorbar": {
             "outlinewidth": 0,
             "ticks": ""
            },
            "type": "mesh3d"
           }
          ],
          "parcoords": [
           {
            "line": {
             "colorbar": {
              "outlinewidth": 0,
              "ticks": ""
             }
            },
            "type": "parcoords"
           }
          ],
          "pie": [
           {
            "automargin": true,
            "type": "pie"
           }
          ],
          "scatter": [
           {
            "fillpattern": {
             "fillmode": "overlay",
             "size": 10,
             "solidity": 0.2
            },
            "type": "scatter"
           }
          ],
          "scatter3d": [
           {
            "line": {
             "colorbar": {
              "outlinewidth": 0,
              "ticks": ""
             }
            },
            "marker": {
             "colorbar": {
              "outlinewidth": 0,
              "ticks": ""
             }
            },
            "type": "scatter3d"
           }
          ],
          "scattercarpet": [
           {
            "marker": {
             "colorbar": {
              "outlinewidth": 0,
              "ticks": ""
             }
            },
            "type": "scattercarpet"
           }
          ],
          "scattergeo": [
           {
            "marker": {
             "colorbar": {
              "outlinewidth": 0,
              "ticks": ""
             }
            },
            "type": "scattergeo"
           }
          ],
          "scattergl": [
           {
            "marker": {
             "colorbar": {
              "outlinewidth": 0,
              "ticks": ""
             }
            },
            "type": "scattergl"
           }
          ],
          "scattermap": [
           {
            "marker": {
             "colorbar": {
              "outlinewidth": 0,
              "ticks": ""
             }
            },
            "type": "scattermap"
           }
          ],
          "scattermapbox": [
           {
            "marker": {
             "colorbar": {
              "outlinewidth": 0,
              "ticks": ""
             }
            },
            "type": "scattermapbox"
           }
          ],
          "scatterpolar": [
           {
            "marker": {
             "colorbar": {
              "outlinewidth": 0,
              "ticks": ""
             }
            },
            "type": "scatterpolar"
           }
          ],
          "scatterpolargl": [
           {
            "marker": {
             "colorbar": {
              "outlinewidth": 0,
              "ticks": ""
             }
            },
            "type": "scatterpolargl"
           }
          ],
          "scatterternary": [
           {
            "marker": {
             "colorbar": {
              "outlinewidth": 0,
              "ticks": ""
             }
            },
            "type": "scatterternary"
           }
          ],
          "surface": [
           {
            "colorbar": {
             "outlinewidth": 0,
             "ticks": ""
            },
            "colorscale": [
             [
              0,
              "#0d0887"
             ],
             [
              0.1111111111111111,
              "#46039f"
             ],
             [
              0.2222222222222222,
              "#7201a8"
             ],
             [
              0.3333333333333333,
              "#9c179e"
             ],
             [
              0.4444444444444444,
              "#bd3786"
             ],
             [
              0.5555555555555556,
              "#d8576b"
             ],
             [
              0.6666666666666666,
              "#ed7953"
             ],
             [
              0.7777777777777778,
              "#fb9f3a"
             ],
             [
              0.8888888888888888,
              "#fdca26"
             ],
             [
              1,
              "#f0f921"
             ]
            ],
            "type": "surface"
           }
          ],
          "table": [
           {
            "cells": {
             "fill": {
              "color": "#EBF0F8"
             },
             "line": {
              "color": "white"
             }
            },
            "header": {
             "fill": {
              "color": "#C8D4E3"
             },
             "line": {
              "color": "white"
             }
            },
            "type": "table"
           }
          ]
         },
         "layout": {
          "annotationdefaults": {
           "arrowcolor": "#2a3f5f",
           "arrowhead": 0,
           "arrowwidth": 1
          },
          "autotypenumbers": "strict",
          "coloraxis": {
           "colorbar": {
            "outlinewidth": 0,
            "ticks": ""
           }
          },
          "colorscale": {
           "diverging": [
            [
             0,
             "#8e0152"
            ],
            [
             0.1,
             "#c51b7d"
            ],
            [
             0.2,
             "#de77ae"
            ],
            [
             0.3,
             "#f1b6da"
            ],
            [
             0.4,
             "#fde0ef"
            ],
            [
             0.5,
             "#f7f7f7"
            ],
            [
             0.6,
             "#e6f5d0"
            ],
            [
             0.7,
             "#b8e186"
            ],
            [
             0.8,
             "#7fbc41"
            ],
            [
             0.9,
             "#4d9221"
            ],
            [
             1,
             "#276419"
            ]
           ],
           "sequential": [
            [
             0,
             "#0d0887"
            ],
            [
             0.1111111111111111,
             "#46039f"
            ],
            [
             0.2222222222222222,
             "#7201a8"
            ],
            [
             0.3333333333333333,
             "#9c179e"
            ],
            [
             0.4444444444444444,
             "#bd3786"
            ],
            [
             0.5555555555555556,
             "#d8576b"
            ],
            [
             0.6666666666666666,
             "#ed7953"
            ],
            [
             0.7777777777777778,
             "#fb9f3a"
            ],
            [
             0.8888888888888888,
             "#fdca26"
            ],
            [
             1,
             "#f0f921"
            ]
           ],
           "sequentialminus": [
            [
             0,
             "#0d0887"
            ],
            [
             0.1111111111111111,
             "#46039f"
            ],
            [
             0.2222222222222222,
             "#7201a8"
            ],
            [
             0.3333333333333333,
             "#9c179e"
            ],
            [
             0.4444444444444444,
             "#bd3786"
            ],
            [
             0.5555555555555556,
             "#d8576b"
            ],
            [
             0.6666666666666666,
             "#ed7953"
            ],
            [
             0.7777777777777778,
             "#fb9f3a"
            ],
            [
             0.8888888888888888,
             "#fdca26"
            ],
            [
             1,
             "#f0f921"
            ]
           ]
          },
          "colorway": [
           "#636efa",
           "#EF553B",
           "#00cc96",
           "#ab63fa",
           "#FFA15A",
           "#19d3f3",
           "#FF6692",
           "#B6E880",
           "#FF97FF",
           "#FECB52"
          ],
          "font": {
           "color": "#2a3f5f"
          },
          "geo": {
           "bgcolor": "white",
           "lakecolor": "white",
           "landcolor": "white",
           "showlakes": true,
           "showland": true,
           "subunitcolor": "#C8D4E3"
          },
          "hoverlabel": {
           "align": "left"
          },
          "hovermode": "closest",
          "mapbox": {
           "style": "light"
          },
          "paper_bgcolor": "white",
          "plot_bgcolor": "white",
          "polar": {
           "angularaxis": {
            "gridcolor": "#EBF0F8",
            "linecolor": "#EBF0F8",
            "ticks": ""
           },
           "bgcolor": "white",
           "radialaxis": {
            "gridcolor": "#EBF0F8",
            "linecolor": "#EBF0F8",
            "ticks": ""
           }
          },
          "scene": {
           "xaxis": {
            "backgroundcolor": "white",
            "gridcolor": "#DFE8F3",
            "gridwidth": 2,
            "linecolor": "#EBF0F8",
            "showbackground": true,
            "ticks": "",
            "zerolinecolor": "#EBF0F8"
           },
           "yaxis": {
            "backgroundcolor": "white",
            "gridcolor": "#DFE8F3",
            "gridwidth": 2,
            "linecolor": "#EBF0F8",
            "showbackground": true,
            "ticks": "",
            "zerolinecolor": "#EBF0F8"
           },
           "zaxis": {
            "backgroundcolor": "white",
            "gridcolor": "#DFE8F3",
            "gridwidth": 2,
            "linecolor": "#EBF0F8",
            "showbackground": true,
            "ticks": "",
            "zerolinecolor": "#EBF0F8"
           }
          },
          "shapedefaults": {
           "line": {
            "color": "#2a3f5f"
           }
          },
          "ternary": {
           "aaxis": {
            "gridcolor": "#DFE8F3",
            "linecolor": "#A2B1C6",
            "ticks": ""
           },
           "baxis": {
            "gridcolor": "#DFE8F3",
            "linecolor": "#A2B1C6",
            "ticks": ""
           },
           "bgcolor": "white",
           "caxis": {
            "gridcolor": "#DFE8F3",
            "linecolor": "#A2B1C6",
            "ticks": ""
           }
          },
          "title": {
           "x": 0.05
          },
          "xaxis": {
           "automargin": true,
           "gridcolor": "#EBF0F8",
           "linecolor": "#EBF0F8",
           "ticks": "",
           "title": {
            "standoff": 15
           },
           "zerolinecolor": "#EBF0F8",
           "zerolinewidth": 2
          },
          "yaxis": {
           "automargin": true,
           "gridcolor": "#EBF0F8",
           "linecolor": "#EBF0F8",
           "ticks": "",
           "title": {
            "standoff": 15
           },
           "zerolinecolor": "#EBF0F8",
           "zerolinewidth": 2
          }
         }
        },
        "title": {
         "text": "AAPL Stock Price Prediction with LSTM"
        },
        "xaxis": {
         "anchor": "y",
         "domain": [
          0,
          1
         ],
         "matches": "x2",
         "rangeslider": {
          "visible": false
         },
         "showticklabels": false
        },
        "xaxis2": {
         "anchor": "y2",
         "domain": [
          0,
          1
         ]
        },
        "yaxis": {
         "anchor": "x",
         "domain": [
          0.30000000000000004,
          1
         ],
         "title": {
          "text": "Price ($)"
         }
        },
        "yaxis2": {
         "anchor": "x2",
         "domain": [
          0,
          0.20000000000000004
         ],
         "title": {
          "text": "Volume"
         }
        }
       }
      }
     },
     "metadata": {},
     "output_type": "display_data"
    },
    {
     "data": {
      "application/vnd.plotly.v1+json": {
       "config": {
        "plotlyServerURL": "https://plot.ly"
       },
       "data": [
        {
         "line": {
          "color": "#2E86AB"
         },
         "name": "Close",
         "type": "scatter",
         "x": [
          "2022-12-09T00:00:00.000000000",
          "2022-12-12T00:00:00.000000000",
          "2022-12-13T00:00:00.000000000",
          "2022-12-14T00:00:00.000000000",
          "2022-12-15T00:00:00.000000000",
          "2022-12-16T00:00:00.000000000",
          "2022-12-19T00:00:00.000000000",
          "2022-12-20T00:00:00.000000000",
          "2022-12-21T00:00:00.000000000",
          "2022-12-22T00:00:00.000000000",
          "2022-12-23T00:00:00.000000000",
          "2022-12-27T00:00:00.000000000",
          "2022-12-28T00:00:00.000000000",
          "2022-12-29T00:00:00.000000000",
          "2022-12-30T00:00:00.000000000",
          "2023-01-03T00:00:00.000000000",
          "2023-01-04T00:00:00.000000000",
          "2023-01-05T00:00:00.000000000",
          "2023-01-06T00:00:00.000000000",
          "2023-01-09T00:00:00.000000000",
          "2023-01-10T00:00:00.000000000",
          "2023-01-11T00:00:00.000000000",
          "2023-01-12T00:00:00.000000000",
          "2023-01-13T00:00:00.000000000",
          "2023-01-17T00:00:00.000000000",
          "2023-01-18T00:00:00.000000000",
          "2023-01-19T00:00:00.000000000",
          "2023-01-20T00:00:00.000000000",
          "2023-01-23T00:00:00.000000000",
          "2023-01-24T00:00:00.000000000",
          "2023-01-25T00:00:00.000000000",
          "2023-01-26T00:00:00.000000000",
          "2023-01-27T00:00:00.000000000",
          "2023-01-30T00:00:00.000000000",
          "2023-01-31T00:00:00.000000000",
          "2023-02-01T00:00:00.000000000",
          "2023-02-02T00:00:00.000000000",
          "2023-02-03T00:00:00.000000000",
          "2023-02-06T00:00:00.000000000",
          "2023-02-07T00:00:00.000000000",
          "2023-02-08T00:00:00.000000000",
          "2023-02-09T00:00:00.000000000",
          "2023-02-10T00:00:00.000000000",
          "2023-02-13T00:00:00.000000000",
          "2023-02-14T00:00:00.000000000",
          "2023-02-15T00:00:00.000000000",
          "2023-02-16T00:00:00.000000000",
          "2023-02-17T00:00:00.000000000",
          "2023-02-21T00:00:00.000000000",
          "2023-02-22T00:00:00.000000000",
          "2023-02-23T00:00:00.000000000",
          "2023-02-24T00:00:00.000000000",
          "2023-02-27T00:00:00.000000000",
          "2023-02-28T00:00:00.000000000",
          "2023-03-01T00:00:00.000000000",
          "2023-03-02T00:00:00.000000000",
          "2023-03-03T00:00:00.000000000",
          "2023-03-06T00:00:00.000000000",
          "2023-03-07T00:00:00.000000000",
          "2023-03-08T00:00:00.000000000",
          "2023-03-09T00:00:00.000000000",
          "2023-03-10T00:00:00.000000000",
          "2023-03-13T00:00:00.000000000",
          "2023-03-14T00:00:00.000000000",
          "2023-03-15T00:00:00.000000000",
          "2023-03-16T00:00:00.000000000",
          "2023-03-17T00:00:00.000000000",
          "2023-03-20T00:00:00.000000000",
          "2023-03-21T00:00:00.000000000",
          "2023-03-22T00:00:00.000000000",
          "2023-03-23T00:00:00.000000000",
          "2023-03-24T00:00:00.000000000",
          "2023-03-27T00:00:00.000000000",
          "2023-03-28T00:00:00.000000000",
          "2023-03-29T00:00:00.000000000",
          "2023-03-30T00:00:00.000000000",
          "2023-03-31T00:00:00.000000000",
          "2023-04-03T00:00:00.000000000",
          "2023-04-04T00:00:00.000000000",
          "2023-04-05T00:00:00.000000000",
          "2023-04-06T00:00:00.000000000",
          "2023-04-10T00:00:00.000000000",
          "2023-04-11T00:00:00.000000000",
          "2023-04-12T00:00:00.000000000",
          "2023-04-13T00:00:00.000000000",
          "2023-04-14T00:00:00.000000000",
          "2023-04-17T00:00:00.000000000",
          "2023-04-18T00:00:00.000000000",
          "2023-04-19T00:00:00.000000000",
          "2023-04-20T00:00:00.000000000",
          "2023-04-21T00:00:00.000000000",
          "2023-04-24T00:00:00.000000000",
          "2023-04-25T00:00:00.000000000",
          "2023-04-26T00:00:00.000000000",
          "2023-04-27T00:00:00.000000000",
          "2023-04-28T00:00:00.000000000",
          "2023-05-01T00:00:00.000000000",
          "2023-05-02T00:00:00.000000000",
          "2023-05-03T00:00:00.000000000",
          "2023-05-04T00:00:00.000000000",
          "2023-05-05T00:00:00.000000000",
          "2023-05-08T00:00:00.000000000",
          "2023-05-09T00:00:00.000000000",
          "2023-05-10T00:00:00.000000000",
          "2023-05-11T00:00:00.000000000",
          "2023-05-12T00:00:00.000000000",
          "2023-05-15T00:00:00.000000000",
          "2023-05-16T00:00:00.000000000",
          "2023-05-17T00:00:00.000000000",
          "2023-05-18T00:00:00.000000000",
          "2023-05-19T00:00:00.000000000",
          "2023-05-22T00:00:00.000000000",
          "2023-05-23T00:00:00.000000000",
          "2023-05-24T00:00:00.000000000",
          "2023-05-25T00:00:00.000000000",
          "2023-05-26T00:00:00.000000000",
          "2023-05-30T00:00:00.000000000",
          "2023-05-31T00:00:00.000000000",
          "2023-06-01T00:00:00.000000000",
          "2023-06-02T00:00:00.000000000",
          "2023-06-05T00:00:00.000000000",
          "2023-06-06T00:00:00.000000000",
          "2023-06-07T00:00:00.000000000",
          "2023-06-08T00:00:00.000000000",
          "2023-06-09T00:00:00.000000000",
          "2023-06-12T00:00:00.000000000",
          "2023-06-13T00:00:00.000000000",
          "2023-06-14T00:00:00.000000000",
          "2023-06-15T00:00:00.000000000",
          "2023-06-16T00:00:00.000000000",
          "2023-06-20T00:00:00.000000000",
          "2023-06-21T00:00:00.000000000",
          "2023-06-22T00:00:00.000000000",
          "2023-06-23T00:00:00.000000000",
          "2023-06-26T00:00:00.000000000",
          "2023-06-27T00:00:00.000000000",
          "2023-06-28T00:00:00.000000000",
          "2023-06-29T00:00:00.000000000",
          "2023-06-30T00:00:00.000000000",
          "2023-07-03T00:00:00.000000000",
          "2023-07-05T00:00:00.000000000",
          "2023-07-06T00:00:00.000000000",
          "2023-07-07T00:00:00.000000000",
          "2023-07-10T00:00:00.000000000",
          "2023-07-11T00:00:00.000000000",
          "2023-07-12T00:00:00.000000000",
          "2023-07-13T00:00:00.000000000",
          "2023-07-14T00:00:00.000000000",
          "2023-07-17T00:00:00.000000000",
          "2023-07-18T00:00:00.000000000",
          "2023-07-19T00:00:00.000000000",
          "2023-07-20T00:00:00.000000000",
          "2023-07-21T00:00:00.000000000",
          "2023-07-24T00:00:00.000000000",
          "2023-07-25T00:00:00.000000000",
          "2023-07-26T00:00:00.000000000",
          "2023-07-27T00:00:00.000000000",
          "2023-07-28T00:00:00.000000000",
          "2023-07-31T00:00:00.000000000",
          "2023-08-01T00:00:00.000000000",
          "2023-08-02T00:00:00.000000000",
          "2023-08-03T00:00:00.000000000",
          "2023-08-04T00:00:00.000000000",
          "2023-08-07T00:00:00.000000000",
          "2023-08-08T00:00:00.000000000",
          "2023-08-09T00:00:00.000000000",
          "2023-08-10T00:00:00.000000000",
          "2023-08-11T00:00:00.000000000",
          "2023-08-14T00:00:00.000000000",
          "2023-08-15T00:00:00.000000000",
          "2023-08-16T00:00:00.000000000",
          "2023-08-17T00:00:00.000000000",
          "2023-08-18T00:00:00.000000000",
          "2023-08-21T00:00:00.000000000",
          "2023-08-22T00:00:00.000000000",
          "2023-08-23T00:00:00.000000000",
          "2023-08-24T00:00:00.000000000",
          "2023-08-25T00:00:00.000000000",
          "2023-08-28T00:00:00.000000000",
          "2023-08-29T00:00:00.000000000",
          "2023-08-30T00:00:00.000000000",
          "2023-08-31T00:00:00.000000000",
          "2023-09-01T00:00:00.000000000",
          "2023-09-05T00:00:00.000000000",
          "2023-09-06T00:00:00.000000000",
          "2023-09-07T00:00:00.000000000",
          "2023-09-08T00:00:00.000000000",
          "2023-09-11T00:00:00.000000000",
          "2023-09-12T00:00:00.000000000",
          "2023-09-13T00:00:00.000000000",
          "2023-09-14T00:00:00.000000000",
          "2023-09-15T00:00:00.000000000",
          "2023-09-18T00:00:00.000000000",
          "2023-09-19T00:00:00.000000000",
          "2023-09-20T00:00:00.000000000",
          "2023-09-21T00:00:00.000000000",
          "2023-09-22T00:00:00.000000000",
          "2023-09-25T00:00:00.000000000",
          "2023-09-26T00:00:00.000000000",
          "2023-09-27T00:00:00.000000000",
          "2023-09-28T00:00:00.000000000",
          "2023-09-29T00:00:00.000000000",
          "2023-10-02T00:00:00.000000000",
          "2023-10-03T00:00:00.000000000",
          "2023-10-04T00:00:00.000000000",
          "2023-10-05T00:00:00.000000000",
          "2023-10-06T00:00:00.000000000",
          "2023-10-09T00:00:00.000000000",
          "2023-10-10T00:00:00.000000000",
          "2023-10-11T00:00:00.000000000",
          "2023-10-12T00:00:00.000000000",
          "2023-10-13T00:00:00.000000000",
          "2023-10-16T00:00:00.000000000",
          "2023-10-17T00:00:00.000000000",
          "2023-10-18T00:00:00.000000000",
          "2023-10-19T00:00:00.000000000",
          "2023-10-20T00:00:00.000000000",
          "2023-10-23T00:00:00.000000000",
          "2023-10-24T00:00:00.000000000",
          "2023-10-25T00:00:00.000000000",
          "2023-10-26T00:00:00.000000000",
          "2023-10-27T00:00:00.000000000",
          "2023-10-30T00:00:00.000000000",
          "2023-10-31T00:00:00.000000000",
          "2023-11-01T00:00:00.000000000",
          "2023-11-02T00:00:00.000000000",
          "2023-11-03T00:00:00.000000000",
          "2023-11-06T00:00:00.000000000",
          "2023-11-07T00:00:00.000000000",
          "2023-11-08T00:00:00.000000000",
          "2023-11-09T00:00:00.000000000",
          "2023-11-10T00:00:00.000000000",
          "2023-11-13T00:00:00.000000000",
          "2023-11-14T00:00:00.000000000",
          "2023-11-15T00:00:00.000000000",
          "2023-11-16T00:00:00.000000000",
          "2023-11-17T00:00:00.000000000",
          "2023-11-20T00:00:00.000000000",
          "2023-11-21T00:00:00.000000000",
          "2023-11-22T00:00:00.000000000",
          "2023-11-24T00:00:00.000000000",
          "2023-11-27T00:00:00.000000000",
          "2023-11-28T00:00:00.000000000",
          "2023-11-29T00:00:00.000000000",
          "2023-11-30T00:00:00.000000000",
          "2023-12-01T00:00:00.000000000",
          "2023-12-04T00:00:00.000000000",
          "2023-12-05T00:00:00.000000000",
          "2023-12-06T00:00:00.000000000",
          "2023-12-07T00:00:00.000000000",
          "2023-12-08T00:00:00.000000000",
          "2023-12-11T00:00:00.000000000",
          "2023-12-12T00:00:00.000000000",
          "2023-12-13T00:00:00.000000000",
          "2023-12-14T00:00:00.000000000",
          "2023-12-15T00:00:00.000000000",
          "2023-12-18T00:00:00.000000000",
          "2023-12-19T00:00:00.000000000",
          "2023-12-20T00:00:00.000000000",
          "2023-12-21T00:00:00.000000000",
          "2023-12-22T00:00:00.000000000",
          "2023-12-26T00:00:00.000000000",
          "2023-12-27T00:00:00.000000000",
          "2023-12-28T00:00:00.000000000",
          "2023-12-29T00:00:00.000000000",
          "2024-01-02T00:00:00.000000000",
          "2024-01-03T00:00:00.000000000",
          "2024-01-04T00:00:00.000000000",
          "2024-01-05T00:00:00.000000000",
          "2024-01-08T00:00:00.000000000",
          "2024-01-09T00:00:00.000000000",
          "2024-01-10T00:00:00.000000000",
          "2024-01-11T00:00:00.000000000",
          "2024-01-12T00:00:00.000000000",
          "2024-01-16T00:00:00.000000000",
          "2024-01-17T00:00:00.000000000",
          "2024-01-18T00:00:00.000000000",
          "2024-01-19T00:00:00.000000000",
          "2024-01-22T00:00:00.000000000",
          "2024-01-23T00:00:00.000000000",
          "2024-01-24T00:00:00.000000000",
          "2024-01-25T00:00:00.000000000",
          "2024-01-26T00:00:00.000000000",
          "2024-01-29T00:00:00.000000000",
          "2024-01-30T00:00:00.000000000",
          "2024-01-31T00:00:00.000000000",
          "2024-02-01T00:00:00.000000000",
          "2024-02-02T00:00:00.000000000",
          "2024-02-05T00:00:00.000000000",
          "2024-02-06T00:00:00.000000000",
          "2024-02-07T00:00:00.000000000",
          "2024-02-08T00:00:00.000000000",
          "2024-02-09T00:00:00.000000000",
          "2024-02-12T00:00:00.000000000",
          "2024-02-13T00:00:00.000000000",
          "2024-02-14T00:00:00.000000000",
          "2024-02-15T00:00:00.000000000",
          "2024-02-16T00:00:00.000000000",
          "2024-02-20T00:00:00.000000000",
          "2024-02-21T00:00:00.000000000",
          "2024-02-22T00:00:00.000000000",
          "2024-02-23T00:00:00.000000000",
          "2024-02-26T00:00:00.000000000",
          "2024-02-27T00:00:00.000000000",
          "2024-02-28T00:00:00.000000000",
          "2024-02-29T00:00:00.000000000",
          "2024-03-01T00:00:00.000000000",
          "2024-03-04T00:00:00.000000000",
          "2024-03-05T00:00:00.000000000",
          "2024-03-06T00:00:00.000000000",
          "2024-03-07T00:00:00.000000000",
          "2024-03-08T00:00:00.000000000",
          "2024-03-11T00:00:00.000000000",
          "2024-03-12T00:00:00.000000000",
          "2024-03-13T00:00:00.000000000",
          "2024-03-14T00:00:00.000000000",
          "2024-03-15T00:00:00.000000000",
          "2024-03-18T00:00:00.000000000",
          "2024-03-19T00:00:00.000000000",
          "2024-03-20T00:00:00.000000000",
          "2024-03-21T00:00:00.000000000",
          "2024-03-22T00:00:00.000000000",
          "2024-03-25T00:00:00.000000000",
          "2024-03-26T00:00:00.000000000",
          "2024-03-27T00:00:00.000000000",
          "2024-03-28T00:00:00.000000000",
          "2024-04-01T00:00:00.000000000",
          "2024-04-02T00:00:00.000000000",
          "2024-04-03T00:00:00.000000000",
          "2024-04-04T00:00:00.000000000",
          "2024-04-05T00:00:00.000000000",
          "2024-04-08T00:00:00.000000000",
          "2024-04-09T00:00:00.000000000",
          "2024-04-10T00:00:00.000000000",
          "2024-04-11T00:00:00.000000000",
          "2024-04-12T00:00:00.000000000",
          "2024-04-15T00:00:00.000000000",
          "2024-04-16T00:00:00.000000000",
          "2024-04-17T00:00:00.000000000",
          "2024-04-18T00:00:00.000000000",
          "2024-04-19T00:00:00.000000000",
          "2024-04-22T00:00:00.000000000",
          "2024-04-23T00:00:00.000000000",
          "2024-04-24T00:00:00.000000000",
          "2024-04-25T00:00:00.000000000",
          "2024-04-26T00:00:00.000000000",
          "2024-04-29T00:00:00.000000000",
          "2024-04-30T00:00:00.000000000",
          "2024-05-01T00:00:00.000000000",
          "2024-05-02T00:00:00.000000000",
          "2024-05-03T00:00:00.000000000",
          "2024-05-06T00:00:00.000000000",
          "2024-05-07T00:00:00.000000000",
          "2024-05-08T00:00:00.000000000",
          "2024-05-09T00:00:00.000000000",
          "2024-05-10T00:00:00.000000000",
          "2024-05-13T00:00:00.000000000",
          "2024-05-14T00:00:00.000000000",
          "2024-05-15T00:00:00.000000000",
          "2024-05-16T00:00:00.000000000",
          "2024-05-17T00:00:00.000000000",
          "2024-05-20T00:00:00.000000000",
          "2024-05-21T00:00:00.000000000",
          "2024-05-22T00:00:00.000000000",
          "2024-05-23T00:00:00.000000000",
          "2024-05-24T00:00:00.000000000",
          "2024-05-28T00:00:00.000000000",
          "2024-05-29T00:00:00.000000000",
          "2024-05-30T00:00:00.000000000",
          "2024-05-31T00:00:00.000000000",
          "2024-06-03T00:00:00.000000000",
          "2024-06-04T00:00:00.000000000",
          "2024-06-05T00:00:00.000000000",
          "2024-06-06T00:00:00.000000000",
          "2024-06-07T00:00:00.000000000",
          "2024-06-10T00:00:00.000000000",
          "2024-06-11T00:00:00.000000000",
          "2024-06-12T00:00:00.000000000",
          "2024-06-13T00:00:00.000000000",
          "2024-06-14T00:00:00.000000000",
          "2024-06-17T00:00:00.000000000",
          "2024-06-18T00:00:00.000000000",
          "2024-06-20T00:00:00.000000000",
          "2024-06-21T00:00:00.000000000",
          "2024-06-24T00:00:00.000000000",
          "2024-06-25T00:00:00.000000000",
          "2024-06-26T00:00:00.000000000",
          "2024-06-27T00:00:00.000000000",
          "2024-06-28T00:00:00.000000000",
          "2024-07-01T00:00:00.000000000",
          "2024-07-02T00:00:00.000000000",
          "2024-07-03T00:00:00.000000000",
          "2024-07-05T00:00:00.000000000",
          "2024-07-08T00:00:00.000000000",
          "2024-07-09T00:00:00.000000000",
          "2024-07-10T00:00:00.000000000",
          "2024-07-11T00:00:00.000000000",
          "2024-07-12T00:00:00.000000000",
          "2024-07-15T00:00:00.000000000",
          "2024-07-16T00:00:00.000000000",
          "2024-07-17T00:00:00.000000000",
          "2024-07-18T00:00:00.000000000",
          "2024-07-19T00:00:00.000000000",
          "2024-07-22T00:00:00.000000000",
          "2024-07-23T00:00:00.000000000",
          "2024-07-24T00:00:00.000000000",
          "2024-07-25T00:00:00.000000000",
          "2024-07-26T00:00:00.000000000",
          "2024-07-29T00:00:00.000000000",
          "2024-07-30T00:00:00.000000000",
          "2024-07-31T00:00:00.000000000",
          "2024-08-01T00:00:00.000000000",
          "2024-08-02T00:00:00.000000000",
          "2024-08-05T00:00:00.000000000",
          "2024-08-06T00:00:00.000000000",
          "2024-08-07T00:00:00.000000000",
          "2024-08-08T00:00:00.000000000",
          "2024-08-09T00:00:00.000000000",
          "2024-08-12T00:00:00.000000000",
          "2024-08-13T00:00:00.000000000",
          "2024-08-14T00:00:00.000000000",
          "2024-08-15T00:00:00.000000000",
          "2024-08-16T00:00:00.000000000",
          "2024-08-19T00:00:00.000000000",
          "2024-08-20T00:00:00.000000000",
          "2024-08-21T00:00:00.000000000",
          "2024-08-22T00:00:00.000000000",
          "2024-08-23T00:00:00.000000000",
          "2024-08-26T00:00:00.000000000",
          "2024-08-27T00:00:00.000000000",
          "2024-08-28T00:00:00.000000000",
          "2024-08-29T00:00:00.000000000",
          "2024-08-30T00:00:00.000000000",
          "2024-09-03T00:00:00.000000000",
          "2024-09-04T00:00:00.000000000",
          "2024-09-05T00:00:00.000000000",
          "2024-09-06T00:00:00.000000000",
          "2024-09-09T00:00:00.000000000",
          "2024-09-10T00:00:00.000000000",
          "2024-09-11T00:00:00.000000000",
          "2024-09-12T00:00:00.000000000",
          "2024-09-13T00:00:00.000000000",
          "2024-09-16T00:00:00.000000000",
          "2024-09-17T00:00:00.000000000",
          "2024-09-18T00:00:00.000000000",
          "2024-09-19T00:00:00.000000000",
          "2024-09-20T00:00:00.000000000",
          "2024-09-23T00:00:00.000000000",
          "2024-09-24T00:00:00.000000000",
          "2024-09-25T00:00:00.000000000",
          "2024-09-26T00:00:00.000000000",
          "2024-09-27T00:00:00.000000000",
          "2024-09-30T00:00:00.000000000",
          "2024-10-01T00:00:00.000000000",
          "2024-10-02T00:00:00.000000000",
          "2024-10-03T00:00:00.000000000",
          "2024-10-04T00:00:00.000000000",
          "2024-10-07T00:00:00.000000000",
          "2024-10-08T00:00:00.000000000",
          "2024-10-09T00:00:00.000000000",
          "2024-10-10T00:00:00.000000000",
          "2024-10-11T00:00:00.000000000",
          "2024-10-14T00:00:00.000000000",
          "2024-10-15T00:00:00.000000000",
          "2024-10-16T00:00:00.000000000",
          "2024-10-17T00:00:00.000000000",
          "2024-10-18T00:00:00.000000000",
          "2024-10-21T00:00:00.000000000",
          "2024-10-22T00:00:00.000000000",
          "2024-10-23T00:00:00.000000000",
          "2024-10-24T00:00:00.000000000",
          "2024-10-25T00:00:00.000000000",
          "2024-10-28T00:00:00.000000000",
          "2024-10-29T00:00:00.000000000",
          "2024-10-30T00:00:00.000000000",
          "2024-10-31T00:00:00.000000000",
          "2024-11-01T00:00:00.000000000",
          "2024-11-04T00:00:00.000000000",
          "2024-11-05T00:00:00.000000000",
          "2024-11-06T00:00:00.000000000",
          "2024-11-07T00:00:00.000000000",
          "2024-11-08T00:00:00.000000000",
          "2024-11-11T00:00:00.000000000",
          "2024-11-12T00:00:00.000000000",
          "2024-11-13T00:00:00.000000000",
          "2024-11-14T00:00:00.000000000",
          "2024-11-15T00:00:00.000000000",
          "2024-11-18T00:00:00.000000000",
          "2024-11-19T00:00:00.000000000",
          "2024-11-20T00:00:00.000000000",
          "2024-11-21T00:00:00.000000000",
          "2024-11-22T00:00:00.000000000",
          "2024-11-25T00:00:00.000000000",
          "2024-11-26T00:00:00.000000000",
          "2024-11-27T00:00:00.000000000",
          "2024-11-29T00:00:00.000000000",
          "2024-12-02T00:00:00.000000000",
          "2024-12-03T00:00:00.000000000",
          "2024-12-04T00:00:00.000000000",
          "2024-12-05T00:00:00.000000000",
          "2024-12-06T00:00:00.000000000",
          "2024-12-09T00:00:00.000000000",
          "2024-12-10T00:00:00.000000000",
          "2024-12-11T00:00:00.000000000",
          "2024-12-12T00:00:00.000000000",
          "2024-12-13T00:00:00.000000000",
          "2024-12-16T00:00:00.000000000",
          "2024-12-17T00:00:00.000000000",
          "2024-12-18T00:00:00.000000000",
          "2024-12-19T00:00:00.000000000",
          "2024-12-20T00:00:00.000000000",
          "2024-12-23T00:00:00.000000000",
          "2024-12-24T00:00:00.000000000",
          "2024-12-26T00:00:00.000000000",
          "2024-12-27T00:00:00.000000000",
          "2024-12-30T00:00:00.000000000",
          "2024-12-31T00:00:00.000000000",
          "2025-01-02T00:00:00.000000000",
          "2025-01-03T00:00:00.000000000",
          "2025-01-06T00:00:00.000000000",
          "2025-01-07T00:00:00.000000000",
          "2025-01-08T00:00:00.000000000",
          "2025-01-10T00:00:00.000000000",
          "2025-01-13T00:00:00.000000000",
          "2025-01-14T00:00:00.000000000",
          "2025-01-15T00:00:00.000000000",
          "2025-01-16T00:00:00.000000000",
          "2025-01-17T00:00:00.000000000",
          "2025-01-21T00:00:00.000000000",
          "2025-01-22T00:00:00.000000000",
          "2025-01-23T00:00:00.000000000",
          "2025-01-24T00:00:00.000000000",
          "2025-01-27T00:00:00.000000000",
          "2025-01-28T00:00:00.000000000",
          "2025-01-29T00:00:00.000000000",
          "2025-01-30T00:00:00.000000000",
          "2025-01-31T00:00:00.000000000",
          "2025-02-03T00:00:00.000000000",
          "2025-02-04T00:00:00.000000000",
          "2025-02-05T00:00:00.000000000",
          "2025-02-06T00:00:00.000000000",
          "2025-02-07T00:00:00.000000000",
          "2025-02-10T00:00:00.000000000",
          "2025-02-11T00:00:00.000000000",
          "2025-02-12T00:00:00.000000000",
          "2025-02-13T00:00:00.000000000",
          "2025-02-14T00:00:00.000000000",
          "2025-02-18T00:00:00.000000000",
          "2025-02-19T00:00:00.000000000",
          "2025-02-20T00:00:00.000000000",
          "2025-02-21T00:00:00.000000000",
          "2025-02-24T00:00:00.000000000",
          "2025-02-25T00:00:00.000000000",
          "2025-02-26T00:00:00.000000000",
          "2025-02-27T00:00:00.000000000",
          "2025-02-28T00:00:00.000000000",
          "2025-03-03T00:00:00.000000000",
          "2025-03-04T00:00:00.000000000",
          "2025-03-05T00:00:00.000000000",
          "2025-03-06T00:00:00.000000000",
          "2025-03-07T00:00:00.000000000",
          "2025-03-10T00:00:00.000000000",
          "2025-03-11T00:00:00.000000000",
          "2025-03-12T00:00:00.000000000",
          "2025-03-13T00:00:00.000000000",
          "2025-03-14T00:00:00.000000000",
          "2025-03-17T00:00:00.000000000",
          "2025-03-18T00:00:00.000000000",
          "2025-03-19T00:00:00.000000000",
          "2025-03-20T00:00:00.000000000",
          "2025-03-21T00:00:00.000000000",
          "2025-03-24T00:00:00.000000000",
          "2025-03-25T00:00:00.000000000",
          "2025-03-26T00:00:00.000000000",
          "2025-03-27T00:00:00.000000000",
          "2025-03-28T00:00:00.000000000",
          "2025-03-31T00:00:00.000000000",
          "2025-04-01T00:00:00.000000000",
          "2025-04-02T00:00:00.000000000",
          "2025-04-03T00:00:00.000000000",
          "2025-04-04T00:00:00.000000000",
          "2025-04-07T00:00:00.000000000",
          "2025-04-08T00:00:00.000000000",
          "2025-04-09T00:00:00.000000000",
          "2025-04-10T00:00:00.000000000",
          "2025-04-11T00:00:00.000000000",
          "2025-04-14T00:00:00.000000000",
          "2025-04-15T00:00:00.000000000",
          "2025-04-16T00:00:00.000000000",
          "2025-04-17T00:00:00.000000000",
          "2025-04-21T00:00:00.000000000",
          "2025-04-22T00:00:00.000000000",
          "2025-04-23T00:00:00.000000000",
          "2025-04-24T00:00:00.000000000",
          "2025-04-25T00:00:00.000000000",
          "2025-04-28T00:00:00.000000000",
          "2025-04-29T00:00:00.000000000",
          "2025-04-30T00:00:00.000000000",
          "2025-05-01T00:00:00.000000000",
          "2025-05-02T00:00:00.000000000",
          "2025-05-05T00:00:00.000000000",
          "2025-05-06T00:00:00.000000000",
          "2025-05-07T00:00:00.000000000",
          "2025-05-08T00:00:00.000000000",
          "2025-05-09T00:00:00.000000000",
          "2025-05-12T00:00:00.000000000",
          "2025-05-13T00:00:00.000000000",
          "2025-05-14T00:00:00.000000000",
          "2025-05-15T00:00:00.000000000",
          "2025-05-16T00:00:00.000000000",
          "2025-05-19T00:00:00.000000000",
          "2025-05-20T00:00:00.000000000",
          "2025-05-21T00:00:00.000000000",
          "2025-05-22T00:00:00.000000000",
          "2025-05-23T00:00:00.000000000",
          "2025-05-27T00:00:00.000000000",
          "2025-05-28T00:00:00.000000000",
          "2025-05-29T00:00:00.000000000",
          "2025-05-30T00:00:00.000000000",
          "2025-06-02T00:00:00.000000000",
          "2025-06-03T00:00:00.000000000",
          "2025-06-04T00:00:00.000000000",
          "2025-06-05T00:00:00.000000000",
          "2025-06-06T00:00:00.000000000",
          "2025-06-09T00:00:00.000000000",
          "2025-06-10T00:00:00.000000000",
          "2025-06-11T00:00:00.000000000",
          "2025-06-12T00:00:00.000000000",
          "2025-06-13T00:00:00.000000000",
          "2025-06-16T00:00:00.000000000",
          "2025-06-17T00:00:00.000000000",
          "2025-06-18T00:00:00.000000000",
          "2025-06-20T00:00:00.000000000",
          "2025-06-23T00:00:00.000000000",
          "2025-06-24T00:00:00.000000000",
          "2025-06-25T00:00:00.000000000",
          "2025-06-26T00:00:00.000000000",
          "2025-06-27T00:00:00.000000000",
          "2025-06-30T00:00:00.000000000",
          "2025-07-01T00:00:00.000000000",
          "2025-07-02T00:00:00.000000000",
          "2025-07-03T00:00:00.000000000",
          "2025-07-07T00:00:00.000000000",
          "2025-07-08T00:00:00.000000000",
          "2025-07-09T00:00:00.000000000",
          "2025-07-10T00:00:00.000000000",
          "2025-07-11T00:00:00.000000000",
          "2025-07-14T00:00:00.000000000",
          "2025-07-15T00:00:00.000000000",
          "2025-07-16T00:00:00.000000000",
          "2025-07-17T00:00:00.000000000",
          "2025-07-18T00:00:00.000000000",
          "2025-07-21T00:00:00.000000000",
          "2025-07-22T00:00:00.000000000",
          "2025-07-23T00:00:00.000000000",
          "2025-07-24T00:00:00.000000000",
          "2025-07-25T00:00:00.000000000",
          "2025-07-28T00:00:00.000000000",
          "2025-07-29T00:00:00.000000000",
          "2025-07-30T00:00:00.000000000",
          "2025-07-31T00:00:00.000000000",
          "2025-08-01T00:00:00.000000000",
          "2025-08-04T00:00:00.000000000",
          "2025-08-05T00:00:00.000000000",
          "2025-08-06T00:00:00.000000000",
          "2025-08-07T00:00:00.000000000",
          "2025-08-08T00:00:00.000000000",
          "2025-08-11T00:00:00.000000000",
          "2025-08-12T00:00:00.000000000",
          "2025-08-13T00:00:00.000000000",
          "2025-08-14T00:00:00.000000000",
          "2025-08-15T00:00:00.000000000",
          "2025-08-18T00:00:00.000000000",
          "2025-08-19T00:00:00.000000000",
          "2025-08-20T00:00:00.000000000",
          "2025-08-21T00:00:00.000000000",
          "2025-08-22T00:00:00.000000000",
          "2025-08-25T00:00:00.000000000",
          "2025-08-26T00:00:00.000000000",
          "2025-08-27T00:00:00.000000000",
          "2025-08-28T00:00:00.000000000",
          "2025-08-29T00:00:00.000000000",
          "2025-09-02T00:00:00.000000000",
          "2025-09-03T00:00:00.000000000",
          "2025-09-04T00:00:00.000000000",
          "2025-09-05T00:00:00.000000000",
          "2025-09-08T00:00:00.000000000",
          "2025-09-09T00:00:00.000000000",
          "2025-09-10T00:00:00.000000000",
          "2025-09-11T00:00:00.000000000",
          "2025-09-12T00:00:00.000000000",
          "2025-09-15T00:00:00.000000000",
          "2025-09-16T00:00:00.000000000",
          "2025-09-17T00:00:00.000000000",
          "2025-09-18T00:00:00.000000000",
          "2025-09-19T00:00:00.000000000",
          "2025-09-22T00:00:00.000000000",
          "2025-09-23T00:00:00.000000000",
          "2025-09-24T00:00:00.000000000",
          "2025-09-25T00:00:00.000000000",
          "2025-09-26T00:00:00.000000000",
          "2025-09-29T00:00:00.000000000",
          "2025-09-30T00:00:00.000000000"
         ],
         "xaxis": "x",
         "y": {
          "bdata": "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",
          "dtype": "f8"
         },
         "yaxis": "y"
        },
        {
         "line": {
          "color": "gray",
          "dash": "dash"
         },
         "name": "Upper Band",
         "type": "scatter",
         "x": [
          "2022-12-09T00:00:00.000000000",
          "2022-12-12T00:00:00.000000000",
          "2022-12-13T00:00:00.000000000",
          "2022-12-14T00:00:00.000000000",
          "2022-12-15T00:00:00.000000000",
          "2022-12-16T00:00:00.000000000",
          "2022-12-19T00:00:00.000000000",
          "2022-12-20T00:00:00.000000000",
          "2022-12-21T00:00:00.000000000",
          "2022-12-22T00:00:00.000000000",
          "2022-12-23T00:00:00.000000000",
          "2022-12-27T00:00:00.000000000",
          "2022-12-28T00:00:00.000000000",
          "2022-12-29T00:00:00.000000000",
          "2022-12-30T00:00:00.000000000",
          "2023-01-03T00:00:00.000000000",
          "2023-01-04T00:00:00.000000000",
          "2023-01-05T00:00:00.000000000",
          "2023-01-06T00:00:00.000000000",
          "2023-01-09T00:00:00.000000000",
          "2023-01-10T00:00:00.000000000",
          "2023-01-11T00:00:00.000000000",
          "2023-01-12T00:00:00.000000000",
          "2023-01-13T00:00:00.000000000",
          "2023-01-17T00:00:00.000000000",
          "2023-01-18T00:00:00.000000000",
          "2023-01-19T00:00:00.000000000",
          "2023-01-20T00:00:00.000000000",
          "2023-01-23T00:00:00.000000000",
          "2023-01-24T00:00:00.000000000",
          "2023-01-25T00:00:00.000000000",
          "2023-01-26T00:00:00.000000000",
          "2023-01-27T00:00:00.000000000",
          "2023-01-30T00:00:00.000000000",
          "2023-01-31T00:00:00.000000000",
          "2023-02-01T00:00:00.000000000",
          "2023-02-02T00:00:00.000000000",
          "2023-02-03T00:00:00.000000000",
          "2023-02-06T00:00:00.000000000",
          "2023-02-07T00:00:00.000000000",
          "2023-02-08T00:00:00.000000000",
          "2023-02-09T00:00:00.000000000",
          "2023-02-10T00:00:00.000000000",
          "2023-02-13T00:00:00.000000000",
          "2023-02-14T00:00:00.000000000",
          "2023-02-15T00:00:00.000000000",
          "2023-02-16T00:00:00.000000000",
          "2023-02-17T00:00:00.000000000",
          "2023-02-21T00:00:00.000000000",
          "2023-02-22T00:00:00.000000000",
          "2023-02-23T00:00:00.000000000",
          "2023-02-24T00:00:00.000000000",
          "2023-02-27T00:00:00.000000000",
          "2023-02-28T00:00:00.000000000",
          "2023-03-01T00:00:00.000000000",
          "2023-03-02T00:00:00.000000000",
          "2023-03-03T00:00:00.000000000",
          "2023-03-06T00:00:00.000000000",
          "2023-03-07T00:00:00.000000000",
          "2023-03-08T00:00:00.000000000",
          "2023-03-09T00:00:00.000000000",
          "2023-03-10T00:00:00.000000000",
          "2023-03-13T00:00:00.000000000",
          "2023-03-14T00:00:00.000000000",
          "2023-03-15T00:00:00.000000000",
          "2023-03-16T00:00:00.000000000",
          "2023-03-17T00:00:00.000000000",
          "2023-03-20T00:00:00.000000000",
          "2023-03-21T00:00:00.000000000",
          "2023-03-22T00:00:00.000000000",
          "2023-03-23T00:00:00.000000000",
          "2023-03-24T00:00:00.000000000",
          "2023-03-27T00:00:00.000000000",
          "2023-03-28T00:00:00.000000000",
          "2023-03-29T00:00:00.000000000",
          "2023-03-30T00:00:00.000000000",
          "2023-03-31T00:00:00.000000000",
          "2023-04-03T00:00:00.000000000",
          "2023-04-04T00:00:00.000000000",
          "2023-04-05T00:00:00.000000000",
          "2023-04-06T00:00:00.000000000",
          "2023-04-10T00:00:00.000000000",
          "2023-04-11T00:00:00.000000000",
          "2023-04-12T00:00:00.000000000",
          "2023-04-13T00:00:00.000000000",
          "2023-04-14T00:00:00.000000000",
          "2023-04-17T00:00:00.000000000",
          "2023-04-18T00:00:00.000000000",
          "2023-04-19T00:00:00.000000000",
          "2023-04-20T00:00:00.000000000",
          "2023-04-21T00:00:00.000000000",
          "2023-04-24T00:00:00.000000000",
          "2023-04-25T00:00:00.000000000",
          "2023-04-26T00:00:00.000000000",
          "2023-04-27T00:00:00.000000000",
          "2023-04-28T00:00:00.000000000",
          "2023-05-01T00:00:00.000000000",
          "2023-05-02T00:00:00.000000000",
          "2023-05-03T00:00:00.000000000",
          "2023-05-04T00:00:00.000000000",
          "2023-05-05T00:00:00.000000000",
          "2023-05-08T00:00:00.000000000",
          "2023-05-09T00:00:00.000000000",
          "2023-05-10T00:00:00.000000000",
          "2023-05-11T00:00:00.000000000",
          "2023-05-12T00:00:00.000000000",
          "2023-05-15T00:00:00.000000000",
          "2023-05-16T00:00:00.000000000",
          "2023-05-17T00:00:00.000000000",
          "2023-05-18T00:00:00.000000000",
          "2023-05-19T00:00:00.000000000",
          "2023-05-22T00:00:00.000000000",
          "2023-05-23T00:00:00.000000000",
          "2023-05-24T00:00:00.000000000",
          "2023-05-25T00:00:00.000000000",
          "2023-05-26T00:00:00.000000000",
          "2023-05-30T00:00:00.000000000",
          "2023-05-31T00:00:00.000000000",
          "2023-06-01T00:00:00.000000000",
          "2023-06-02T00:00:00.000000000",
          "2023-06-05T00:00:00.000000000",
          "2023-06-06T00:00:00.000000000",
          "2023-06-07T00:00:00.000000000",
          "2023-06-08T00:00:00.000000000",
          "2023-06-09T00:00:00.000000000",
          "2023-06-12T00:00:00.000000000",
          "2023-06-13T00:00:00.000000000",
          "2023-06-14T00:00:00.000000000",
          "2023-06-15T00:00:00.000000000",
          "2023-06-16T00:00:00.000000000",
          "2023-06-20T00:00:00.000000000",
          "2023-06-21T00:00:00.000000000",
          "2023-06-22T00:00:00.000000000",
          "2023-06-23T00:00:00.000000000",
          "2023-06-26T00:00:00.000000000",
          "2023-06-27T00:00:00.000000000",
          "2023-06-28T00:00:00.000000000",
          "2023-06-29T00:00:00.000000000",
          "2023-06-30T00:00:00.000000000",
          "2023-07-03T00:00:00.000000000",
          "2023-07-05T00:00:00.000000000",
          "2023-07-06T00:00:00.000000000",
          "2023-07-07T00:00:00.000000000",
          "2023-07-10T00:00:00.000000000",
          "2023-07-11T00:00:00.000000000",
          "2023-07-12T00:00:00.000000000",
          "2023-07-13T00:00:00.000000000",
          "2023-07-14T00:00:00.000000000",
          "2023-07-17T00:00:00.000000000",
          "2023-07-18T00:00:00.000000000",
          "2023-07-19T00:00:00.000000000",
          "2023-07-20T00:00:00.000000000",
          "2023-07-21T00:00:00.000000000",
          "2023-07-24T00:00:00.000000000",
          "2023-07-25T00:00:00.000000000",
          "2023-07-26T00:00:00.000000000",
          "2023-07-27T00:00:00.000000000",
          "2023-07-28T00:00:00.000000000",
          "2023-07-31T00:00:00.000000000",
          "2023-08-01T00:00:00.000000000",
          "2023-08-02T00:00:00.000000000",
          "2023-08-03T00:00:00.000000000",
          "2023-08-04T00:00:00.000000000",
          "2023-08-07T00:00:00.000000000",
          "2023-08-08T00:00:00.000000000",
          "2023-08-09T00:00:00.000000000",
          "2023-08-10T00:00:00.000000000",
          "2023-08-11T00:00:00.000000000",
          "2023-08-14T00:00:00.000000000",
          "2023-08-15T00:00:00.000000000",
          "2023-08-16T00:00:00.000000000",
          "2023-08-17T00:00:00.000000000",
          "2023-08-18T00:00:00.000000000",
          "2023-08-21T00:00:00.000000000",
          "2023-08-22T00:00:00.000000000",
          "2023-08-23T00:00:00.000000000",
          "2023-08-24T00:00:00.000000000",
          "2023-08-25T00:00:00.000000000",
          "2023-08-28T00:00:00.000000000",
          "2023-08-29T00:00:00.000000000",
          "2023-08-30T00:00:00.000000000",
          "2023-08-31T00:00:00.000000000",
          "2023-09-01T00:00:00.000000000",
          "2023-09-05T00:00:00.000000000",
          "2023-09-06T00:00:00.000000000",
          "2023-09-07T00:00:00.000000000",
          "2023-09-08T00:00:00.000000000",
          "2023-09-11T00:00:00.000000000",
          "2023-09-12T00:00:00.000000000",
          "2023-09-13T00:00:00.000000000",
          "2023-09-14T00:00:00.000000000",
          "2023-09-15T00:00:00.000000000",
          "2023-09-18T00:00:00.000000000",
          "2023-09-19T00:00:00.000000000",
          "2023-09-20T00:00:00.000000000",
          "2023-09-21T00:00:00.000000000",
          "2023-09-22T00:00:00.000000000",
          "2023-09-25T00:00:00.000000000",
          "2023-09-26T00:00:00.000000000",
          "2023-09-27T00:00:00.000000000",
          "2023-09-28T00:00:00.000000000",
          "2023-09-29T00:00:00.000000000",
          "2023-10-02T00:00:00.000000000",
          "2023-10-03T00:00:00.000000000",
          "2023-10-04T00:00:00.000000000",
          "2023-10-05T00:00:00.000000000",
          "2023-10-06T00:00:00.000000000",
          "2023-10-09T00:00:00.000000000",
          "2023-10-10T00:00:00.000000000",
          "2023-10-11T00:00:00.000000000",
          "2023-10-12T00:00:00.000000000",
          "2023-10-13T00:00:00.000000000",
          "2023-10-16T00:00:00.000000000",
          "2023-10-17T00:00:00.000000000",
          "2023-10-18T00:00:00.000000000",
          "2023-10-19T00:00:00.000000000",
          "2023-10-20T00:00:00.000000000",
          "2023-10-23T00:00:00.000000000",
          "2023-10-24T00:00:00.000000000",
          "2023-10-25T00:00:00.000000000",
          "2023-10-26T00:00:00.000000000",
          "2023-10-27T00:00:00.000000000",
          "2023-10-30T00:00:00.000000000",
          "2023-10-31T00:00:00.000000000",
          "2023-11-01T00:00:00.000000000",
          "2023-11-02T00:00:00.000000000",
          "2023-11-03T00:00:00.000000000",
          "2023-11-06T00:00:00.000000000",
          "2023-11-07T00:00:00.000000000",
          "2023-11-08T00:00:00.000000000",
          "2023-11-09T00:00:00.000000000",
          "2023-11-10T00:00:00.000000000",
          "2023-11-13T00:00:00.000000000",
          "2023-11-14T00:00:00.000000000",
          "2023-11-15T00:00:00.000000000",
          "2023-11-16T00:00:00.000000000",
          "2023-11-17T00:00:00.000000000",
          "2023-11-20T00:00:00.000000000",
          "2023-11-21T00:00:00.000000000",
          "2023-11-22T00:00:00.000000000",
          "2023-11-24T00:00:00.000000000",
          "2023-11-27T00:00:00.000000000",
          "2023-11-28T00:00:00.000000000",
          "2023-11-29T00:00:00.000000000",
          "2023-11-30T00:00:00.000000000",
          "2023-12-01T00:00:00.000000000",
          "2023-12-04T00:00:00.000000000",
          "2023-12-05T00:00:00.000000000",
          "2023-12-06T00:00:00.000000000",
          "2023-12-07T00:00:00.000000000",
          "2023-12-08T00:00:00.000000000",
          "2023-12-11T00:00:00.000000000",
          "2023-12-12T00:00:00.000000000",
          "2023-12-13T00:00:00.000000000",
          "2023-12-14T00:00:00.000000000",
          "2023-12-15T00:00:00.000000000",
          "2023-12-18T00:00:00.000000000",
          "2023-12-19T00:00:00.000000000",
          "2023-12-20T00:00:00.000000000",
          "2023-12-21T00:00:00.000000000",
          "2023-12-22T00:00:00.000000000",
          "2023-12-26T00:00:00.000000000",
          "2023-12-27T00:00:00.000000000",
          "2023-12-28T00:00:00.000000000",
          "2023-12-29T00:00:00.000000000",
          "2024-01-02T00:00:00.000000000",
          "2024-01-03T00:00:00.000000000",
          "2024-01-04T00:00:00.000000000",
          "2024-01-05T00:00:00.000000000",
          "2024-01-08T00:00:00.000000000",
          "2024-01-09T00:00:00.000000000",
          "2024-01-10T00:00:00.000000000",
          "2024-01-11T00:00:00.000000000",
          "2024-01-12T00:00:00.000000000",
          "2024-01-16T00:00:00.000000000",
          "2024-01-17T00:00:00.000000000",
          "2024-01-18T00:00:00.000000000",
          "2024-01-19T00:00:00.000000000",
          "2024-01-22T00:00:00.000000000",
          "2024-01-23T00:00:00.000000000",
          "2024-01-24T00:00:00.000000000",
          "2024-01-25T00:00:00.000000000",
          "2024-01-26T00:00:00.000000000",
          "2024-01-29T00:00:00.000000000",
          "2024-01-30T00:00:00.000000000",
          "2024-01-31T00:00:00.000000000",
          "2024-02-01T00:00:00.000000000",
          "2024-02-02T00:00:00.000000000",
          "2024-02-05T00:00:00.000000000",
          "2024-02-06T00:00:00.000000000",
          "2024-02-07T00:00:00.000000000",
          "2024-02-08T00:00:00.000000000",
          "2024-02-09T00:00:00.000000000",
          "2024-02-12T00:00:00.000000000",
          "2024-02-13T00:00:00.000000000",
          "2024-02-14T00:00:00.000000000",
          "2024-02-15T00:00:00.000000000",
          "2024-02-16T00:00:00.000000000",
          "2024-02-20T00:00:00.000000000",
          "2024-02-21T00:00:00.000000000",
          "2024-02-22T00:00:00.000000000",
          "2024-02-23T00:00:00.000000000",
          "2024-02-26T00:00:00.000000000",
          "2024-02-27T00:00:00.000000000",
          "2024-02-28T00:00:00.000000000",
          "2024-02-29T00:00:00.000000000",
          "2024-03-01T00:00:00.000000000",
          "2024-03-04T00:00:00.000000000",
          "2024-03-05T00:00:00.000000000",
          "2024-03-06T00:00:00.000000000",
          "2024-03-07T00:00:00.000000000",
          "2024-03-08T00:00:00.000000000",
          "2024-03-11T00:00:00.000000000",
          "2024-03-12T00:00:00.000000000",
          "2024-03-13T00:00:00.000000000",
          "2024-03-14T00:00:00.000000000",
          "2024-03-15T00:00:00.000000000",
          "2024-03-18T00:00:00.000000000",
          "2024-03-19T00:00:00.000000000",
          "2024-03-20T00:00:00.000000000",
          "2024-03-21T00:00:00.000000000",
          "2024-03-22T00:00:00.000000000",
          "2024-03-25T00:00:00.000000000",
          "2024-03-26T00:00:00.000000000",
          "2024-03-27T00:00:00.000000000",
          "2024-03-28T00:00:00.000000000",
          "2024-04-01T00:00:00.000000000",
          "2024-04-02T00:00:00.000000000",
          "2024-04-03T00:00:00.000000000",
          "2024-04-04T00:00:00.000000000",
          "2024-04-05T00:00:00.000000000",
          "2024-04-08T00:00:00.000000000",
          "2024-04-09T00:00:00.000000000",
          "2024-04-10T00:00:00.000000000",
          "2024-04-11T00:00:00.000000000",
          "2024-04-12T00:00:00.000000000",
          "2024-04-15T00:00:00.000000000",
          "2024-04-16T00:00:00.000000000",
          "2024-04-17T00:00:00.000000000",
          "2024-04-18T00:00:00.000000000",
          "2024-04-19T00:00:00.000000000",
          "2024-04-22T00:00:00.000000000",
          "2024-04-23T00:00:00.000000000",
          "2024-04-24T00:00:00.000000000",
          "2024-04-25T00:00:00.000000000",
          "2024-04-26T00:00:00.000000000",
          "2024-04-29T00:00:00.000000000",
          "2024-04-30T00:00:00.000000000",
          "2024-05-01T00:00:00.000000000",
          "2024-05-02T00:00:00.000000000",
          "2024-05-03T00:00:00.000000000",
          "2024-05-06T00:00:00.000000000",
          "2024-05-07T00:00:00.000000000",
          "2024-05-08T00:00:00.000000000",
          "2024-05-09T00:00:00.000000000",
          "2024-05-10T00:00:00.000000000",
          "2024-05-13T00:00:00.000000000",
          "2024-05-14T00:00:00.000000000",
          "2024-05-15T00:00:00.000000000",
          "2024-05-16T00:00:00.000000000",
          "2024-05-17T00:00:00.000000000",
          "2024-05-20T00:00:00.000000000",
          "2024-05-21T00:00:00.000000000",
          "2024-05-22T00:00:00.000000000",
          "2024-05-23T00:00:00.000000000",
          "2024-05-24T00:00:00.000000000",
          "2024-05-28T00:00:00.000000000",
          "2024-05-29T00:00:00.000000000",
          "2024-05-30T00:00:00.000000000",
          "2024-05-31T00:00:00.000000000",
          "2024-06-03T00:00:00.000000000",
          "2024-06-04T00:00:00.000000000",
          "2024-06-05T00:00:00.000000000",
          "2024-06-06T00:00:00.000000000",
          "2024-06-07T00:00:00.000000000",
          "2024-06-10T00:00:00.000000000",
          "2024-06-11T00:00:00.000000000",
          "2024-06-12T00:00:00.000000000",
          "2024-06-13T00:00:00.000000000",
          "2024-06-14T00:00:00.000000000",
          "2024-06-17T00:00:00.000000000",
          "2024-06-18T00:00:00.000000000",
          "2024-06-20T00:00:00.000000000",
          "2024-06-21T00:00:00.000000000",
          "2024-06-24T00:00:00.000000000",
          "2024-06-25T00:00:00.000000000",
          "2024-06-26T00:00:00.000000000",
          "2024-06-27T00:00:00.000000000",
          "2024-06-28T00:00:00.000000000",
          "2024-07-01T00:00:00.000000000",
          "2024-07-02T00:00:00.000000000",
          "2024-07-03T00:00:00.000000000",
          "2024-07-05T00:00:00.000000000",
          "2024-07-08T00:00:00.000000000",
          "2024-07-09T00:00:00.000000000",
          "2024-07-10T00:00:00.000000000",
          "2024-07-11T00:00:00.000000000",
          "2024-07-12T00:00:00.000000000",
          "2024-07-15T00:00:00.000000000",
          "2024-07-16T00:00:00.000000000",
          "2024-07-17T00:00:00.000000000",
          "2024-07-18T00:00:00.000000000",
          "2024-07-19T00:00:00.000000000",
          "2024-07-22T00:00:00.000000000",
          "2024-07-23T00:00:00.000000000",
          "2024-07-24T00:00:00.000000000",
          "2024-07-25T00:00:00.000000000",
          "2024-07-26T00:00:00.000000000",
          "2024-07-29T00:00:00.000000000",
          "2024-07-30T00:00:00.000000000",
          "2024-07-31T00:00:00.000000000",
          "2024-08-01T00:00:00.000000000",
          "2024-08-02T00:00:00.000000000",
          "2024-08-05T00:00:00.000000000",
          "2024-08-06T00:00:00.000000000",
          "2024-08-07T00:00:00.000000000",
          "2024-08-08T00:00:00.000000000",
          "2024-08-09T00:00:00.000000000",
          "2024-08-12T00:00:00.000000000",
          "2024-08-13T00:00:00.000000000",
          "2024-08-14T00:00:00.000000000",
          "2024-08-15T00:00:00.000000000",
          "2024-08-16T00:00:00.000000000",
          "2024-08-19T00:00:00.000000000",
          "2024-08-20T00:00:00.000000000",
          "2024-08-21T00:00:00.000000000",
          "2024-08-22T00:00:00.000000000",
          "2024-08-23T00:00:00.000000000",
          "2024-08-26T00:00:00.000000000",
          "2024-08-27T00:00:00.000000000",
          "2024-08-28T00:00:00.000000000",
          "2024-08-29T00:00:00.000000000",
          "2024-08-30T00:00:00.000000000",
          "2024-09-03T00:00:00.000000000",
          "2024-09-04T00:00:00.000000000",
          "2024-09-05T00:00:00.000000000",
          "2024-09-06T00:00:00.000000000",
          "2024-09-09T00:00:00.000000000",
          "2024-09-10T00:00:00.000000000",
          "2024-09-11T00:00:00.000000000",
          "2024-09-12T00:00:00.000000000",
          "2024-09-13T00:00:00.000000000",
          "2024-09-16T00:00:00.000000000",
          "2024-09-17T00:00:00.000000000",
          "2024-09-18T00:00:00.000000000",
          "2024-09-19T00:00:00.000000000",
          "2024-09-20T00:00:00.000000000",
          "2024-09-23T00:00:00.000000000",
          "2024-09-24T00:00:00.000000000",
          "2024-09-25T00:00:00.000000000",
          "2024-09-26T00:00:00.000000000",
          "2024-09-27T00:00:00.000000000",
          "2024-09-30T00:00:00.000000000",
          "2024-10-01T00:00:00.000000000",
          "2024-10-02T00:00:00.000000000",
          "2024-10-03T00:00:00.000000000",
          "2024-10-04T00:00:00.000000000",
          "2024-10-07T00:00:00.000000000",
          "2024-10-08T00:00:00.000000000",
          "2024-10-09T00:00:00.000000000",
          "2024-10-10T00:00:00.000000000",
          "2024-10-11T00:00:00.000000000",
          "2024-10-14T00:00:00.000000000",
          "2024-10-15T00:00:00.000000000",
          "2024-10-16T00:00:00.000000000",
          "2024-10-17T00:00:00.000000000",
          "2024-10-18T00:00:00.000000000",
          "2024-10-21T00:00:00.000000000",
          "2024-10-22T00:00:00.000000000",
          "2024-10-23T00:00:00.000000000",
          "2024-10-24T00:00:00.000000000",
          "2024-10-25T00:00:00.000000000",
          "2024-10-28T00:00:00.000000000",
          "2024-10-29T00:00:00.000000000",
          "2024-10-30T00:00:00.000000000",
          "2024-10-31T00:00:00.000000000",
          "2024-11-01T00:00:00.000000000",
          "2024-11-04T00:00:00.000000000",
          "2024-11-05T00:00:00.000000000",
          "2024-11-06T00:00:00.000000000",
          "2024-11-07T00:00:00.000000000",
          "2024-11-08T00:00:00.000000000",
          "2024-11-11T00:00:00.000000000",
          "2024-11-12T00:00:00.000000000",
          "2024-11-13T00:00:00.000000000",
          "2024-11-14T00:00:00.000000000",
          "2024-11-15T00:00:00.000000000",
          "2024-11-18T00:00:00.000000000",
          "2024-11-19T00:00:00.000000000",
          "2024-11-20T00:00:00.000000000",
          "2024-11-21T00:00:00.000000000",
          "2024-11-22T00:00:00.000000000",
          "2024-11-25T00:00:00.000000000",
          "2024-11-26T00:00:00.000000000",
          "2024-11-27T00:00:00.000000000",
          "2024-11-29T00:00:00.000000000",
          "2024-12-02T00:00:00.000000000",
          "2024-12-03T00:00:00.000000000",
          "2024-12-04T00:00:00.000000000",
          "2024-12-05T00:00:00.000000000",
          "2024-12-06T00:00:00.000000000",
          "2024-12-09T00:00:00.000000000",
          "2024-12-10T00:00:00.000000000",
          "2024-12-11T00:00:00.000000000",
          "2024-12-12T00:00:00.000000000",
          "2024-12-13T00:00:00.000000000",
          "2024-12-16T00:00:00.000000000",
          "2024-12-17T00:00:00.000000000",
          "2024-12-18T00:00:00.000000000",
          "2024-12-19T00:00:00.000000000",
          "2024-12-20T00:00:00.000000000",
          "2024-12-23T00:00:00.000000000",
          "2024-12-24T00:00:00.000000000",
          "2024-12-26T00:00:00.000000000",
          "2024-12-27T00:00:00.000000000",
          "2024-12-30T00:00:00.000000000",
          "2024-12-31T00:00:00.000000000",
          "2025-01-02T00:00:00.000000000",
          "2025-01-03T00:00:00.000000000",
          "2025-01-06T00:00:00.000000000",
          "2025-01-07T00:00:00.000000000",
          "2025-01-08T00:00:00.000000000",
          "2025-01-10T00:00:00.000000000",
          "2025-01-13T00:00:00.000000000",
          "2025-01-14T00:00:00.000000000",
          "2025-01-15T00:00:00.000000000",
          "2025-01-16T00:00:00.000000000",
          "2025-01-17T00:00:00.000000000",
          "2025-01-21T00:00:00.000000000",
          "2025-01-22T00:00:00.000000000",
          "2025-01-23T00:00:00.000000000",
          "2025-01-24T00:00:00.000000000",
          "2025-01-27T00:00:00.000000000",
          "2025-01-28T00:00:00.000000000",
          "2025-01-29T00:00:00.000000000",
          "2025-01-30T00:00:00.000000000",
          "2025-01-31T00:00:00.000000000",
          "2025-02-03T00:00:00.000000000",
          "2025-02-04T00:00:00.000000000",
          "2025-02-05T00:00:00.000000000",
          "2025-02-06T00:00:00.000000000",
          "2025-02-07T00:00:00.000000000",
          "2025-02-10T00:00:00.000000000",
          "2025-02-11T00:00:00.000000000",
          "2025-02-12T00:00:00.000000000",
          "2025-02-13T00:00:00.000000000",
          "2025-02-14T00:00:00.000000000",
          "2025-02-18T00:00:00.000000000",
          "2025-02-19T00:00:00.000000000",
          "2025-02-20T00:00:00.000000000",
          "2025-02-21T00:00:00.000000000",
          "2025-02-24T00:00:00.000000000",
          "2025-02-25T00:00:00.000000000",
          "2025-02-26T00:00:00.000000000",
          "2025-02-27T00:00:00.000000000",
          "2025-02-28T00:00:00.000000000",
          "2025-03-03T00:00:00.000000000",
          "2025-03-04T00:00:00.000000000",
          "2025-03-05T00:00:00.000000000",
          "2025-03-06T00:00:00.000000000",
          "2025-03-07T00:00:00.000000000",
          "2025-03-10T00:00:00.000000000",
          "2025-03-11T00:00:00.000000000",
          "2025-03-12T00:00:00.000000000",
          "2025-03-13T00:00:00.000000000",
          "2025-03-14T00:00:00.000000000",
          "2025-03-17T00:00:00.000000000",
          "2025-03-18T00:00:00.000000000",
          "2025-03-19T00:00:00.000000000",
          "2025-03-20T00:00:00.000000000",
          "2025-03-21T00:00:00.000000000",
          "2025-03-24T00:00:00.000000000",
          "2025-03-25T00:00:00.000000000",
          "2025-03-26T00:00:00.000000000",
          "2025-03-27T00:00:00.000000000",
          "2025-03-28T00:00:00.000000000",
          "2025-03-31T00:00:00.000000000",
          "2025-04-01T00:00:00.000000000",
          "2025-04-02T00:00:00.000000000",
          "2025-04-03T00:00:00.000000000",
          "2025-04-04T00:00:00.000000000",
          "2025-04-07T00:00:00.000000000",
          "2025-04-08T00:00:00.000000000",
          "2025-04-09T00:00:00.000000000",
          "2025-04-10T00:00:00.000000000",
          "2025-04-11T00:00:00.000000000",
          "2025-04-14T00:00:00.000000000",
          "2025-04-15T00:00:00.000000000",
          "2025-04-16T00:00:00.000000000",
          "2025-04-17T00:00:00.000000000",
          "2025-04-21T00:00:00.000000000",
          "2025-04-22T00:00:00.000000000",
          "2025-04-23T00:00:00.000000000",
          "2025-04-24T00:00:00.000000000",
          "2025-04-25T00:00:00.000000000",
          "2025-04-28T00:00:00.000000000",
          "2025-04-29T00:00:00.000000000",
          "2025-04-30T00:00:00.000000000",
          "2025-05-01T00:00:00.000000000",
          "2025-05-02T00:00:00.000000000",
          "2025-05-05T00:00:00.000000000",
          "2025-05-06T00:00:00.000000000",
          "2025-05-07T00:00:00.000000000",
          "2025-05-08T00:00:00.000000000",
          "2025-05-09T00:00:00.000000000",
          "2025-05-12T00:00:00.000000000",
          "2025-05-13T00:00:00.000000000",
          "2025-05-14T00:00:00.000000000",
          "2025-05-15T00:00:00.000000000",
          "2025-05-16T00:00:00.000000000",
          "2025-05-19T00:00:00.000000000",
          "2025-05-20T00:00:00.000000000",
          "2025-05-21T00:00:00.000000000",
          "2025-05-22T00:00:00.000000000",
          "2025-05-23T00:00:00.000000000",
          "2025-05-27T00:00:00.000000000",
          "2025-05-28T00:00:00.000000000",
          "2025-05-29T00:00:00.000000000",
          "2025-05-30T00:00:00.000000000",
          "2025-06-02T00:00:00.000000000",
          "2025-06-03T00:00:00.000000000",
          "2025-06-04T00:00:00.000000000",
          "2025-06-05T00:00:00.000000000",
          "2025-06-06T00:00:00.000000000",
          "2025-06-09T00:00:00.000000000",
          "2025-06-10T00:00:00.000000000",
          "2025-06-11T00:00:00.000000000",
          "2025-06-12T00:00:00.000000000",
          "2025-06-13T00:00:00.000000000",
          "2025-06-16T00:00:00.000000000",
          "2025-06-17T00:00:00.000000000",
          "2025-06-18T00:00:00.000000000",
          "2025-06-20T00:00:00.000000000",
          "2025-06-23T00:00:00.000000000",
          "2025-06-24T00:00:00.000000000",
          "2025-06-25T00:00:00.000000000",
          "2025-06-26T00:00:00.000000000",
          "2025-06-27T00:00:00.000000000",
          "2025-06-30T00:00:00.000000000",
          "2025-07-01T00:00:00.000000000",
          "2025-07-02T00:00:00.000000000",
          "2025-07-03T00:00:00.000000000",
          "2025-07-07T00:00:00.000000000",
          "2025-07-08T00:00:00.000000000",
          "2025-07-09T00:00:00.000000000",
          "2025-07-10T00:00:00.000000000",
          "2025-07-11T00:00:00.000000000",
          "2025-07-14T00:00:00.000000000",
          "2025-07-15T00:00:00.000000000",
          "2025-07-16T00:00:00.000000000",
          "2025-07-17T00:00:00.000000000",
          "2025-07-18T00:00:00.000000000",
          "2025-07-21T00:00:00.000000000",
          "2025-07-22T00:00:00.000000000",
          "2025-07-23T00:00:00.000000000",
          "2025-07-24T00:00:00.000000000",
          "2025-07-25T00:00:00.000000000",
          "2025-07-28T00:00:00.000000000",
          "2025-07-29T00:00:00.000000000",
          "2025-07-30T00:00:00.000000000",
          "2025-07-31T00:00:00.000000000",
          "2025-08-01T00:00:00.000000000",
          "2025-08-04T00:00:00.000000000",
          "2025-08-05T00:00:00.000000000",
          "2025-08-06T00:00:00.000000000",
          "2025-08-07T00:00:00.000000000",
          "2025-08-08T00:00:00.000000000",
          "2025-08-11T00:00:00.000000000",
          "2025-08-12T00:00:00.000000000",
          "2025-08-13T00:00:00.000000000",
          "2025-08-14T00:00:00.000000000",
          "2025-08-15T00:00:00.000000000",
          "2025-08-18T00:00:00.000000000",
          "2025-08-19T00:00:00.000000000",
          "2025-08-20T00:00:00.000000000",
          "2025-08-21T00:00:00.000000000",
          "2025-08-22T00:00:00.000000000",
          "2025-08-25T00:00:00.000000000",
          "2025-08-26T00:00:00.000000000",
          "2025-08-27T00:00:00.000000000",
          "2025-08-28T00:00:00.000000000",
          "2025-08-29T00:00:00.000000000",
          "2025-09-02T00:00:00.000000000",
          "2025-09-03T00:00:00.000000000",
          "2025-09-04T00:00:00.000000000",
          "2025-09-05T00:00:00.000000000",
          "2025-09-08T00:00:00.000000000",
          "2025-09-09T00:00:00.000000000",
          "2025-09-10T00:00:00.000000000",
          "2025-09-11T00:00:00.000000000",
          "2025-09-12T00:00:00.000000000",
          "2025-09-15T00:00:00.000000000",
          "2025-09-16T00:00:00.000000000",
          "2025-09-17T00:00:00.000000000",
          "2025-09-18T00:00:00.000000000",
          "2025-09-19T00:00:00.000000000",
          "2025-09-22T00:00:00.000000000",
          "2025-09-23T00:00:00.000000000",
          "2025-09-24T00:00:00.000000000",
          "2025-09-25T00:00:00.000000000",
          "2025-09-26T00:00:00.000000000",
          "2025-09-29T00:00:00.000000000",
          "2025-09-30T00:00:00.000000000"
         ],
         "xaxis": "x",
         "y": {
          "bdata": "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",
          "dtype": "f8"
         },
         "yaxis": "y"
        },
        {
         "fill": "tonexty",
         "fillcolor": "rgba(128,128,128,0.1)",
         "line": {
          "color": "gray",
          "dash": "dash"
         },
         "name": "Lower Band",
         "type": "scatter",
         "x": [
          "2022-12-09T00:00:00.000000000",
          "2022-12-12T00:00:00.000000000",
          "2022-12-13T00:00:00.000000000",
          "2022-12-14T00:00:00.000000000",
          "2022-12-15T00:00:00.000000000",
          "2022-12-16T00:00:00.000000000",
          "2022-12-19T00:00:00.000000000",
          "2022-12-20T00:00:00.000000000",
          "2022-12-21T00:00:00.000000000",
          "2022-12-22T00:00:00.000000000",
          "2022-12-23T00:00:00.000000000",
          "2022-12-27T00:00:00.000000000",
          "2022-12-28T00:00:00.000000000",
          "2022-12-29T00:00:00.000000000",
          "2022-12-30T00:00:00.000000000",
          "2023-01-03T00:00:00.000000000",
          "2023-01-04T00:00:00.000000000",
          "2023-01-05T00:00:00.000000000",
          "2023-01-06T00:00:00.000000000",
          "2023-01-09T00:00:00.000000000",
          "2023-01-10T00:00:00.000000000",
          "2023-01-11T00:00:00.000000000",
          "2023-01-12T00:00:00.000000000",
          "2023-01-13T00:00:00.000000000",
          "2023-01-17T00:00:00.000000000",
          "2023-01-18T00:00:00.000000000",
          "2023-01-19T00:00:00.000000000",
          "2023-01-20T00:00:00.000000000",
          "2023-01-23T00:00:00.000000000",
          "2023-01-24T00:00:00.000000000",
          "2023-01-25T00:00:00.000000000",
          "2023-01-26T00:00:00.000000000",
          "2023-01-27T00:00:00.000000000",
          "2023-01-30T00:00:00.000000000",
          "2023-01-31T00:00:00.000000000",
          "2023-02-01T00:00:00.000000000",
          "2023-02-02T00:00:00.000000000",
          "2023-02-03T00:00:00.000000000",
          "2023-02-06T00:00:00.000000000",
          "2023-02-07T00:00:00.000000000",
          "2023-02-08T00:00:00.000000000",
          "2023-02-09T00:00:00.000000000",
          "2023-02-10T00:00:00.000000000",
          "2023-02-13T00:00:00.000000000",
          "2023-02-14T00:00:00.000000000",
          "2023-02-15T00:00:00.000000000",
          "2023-02-16T00:00:00.000000000",
          "2023-02-17T00:00:00.000000000",
          "2023-02-21T00:00:00.000000000",
          "2023-02-22T00:00:00.000000000",
          "2023-02-23T00:00:00.000000000",
          "2023-02-24T00:00:00.000000000",
          "2023-02-27T00:00:00.000000000",
          "2023-02-28T00:00:00.000000000",
          "2023-03-01T00:00:00.000000000",
          "2023-03-02T00:00:00.000000000",
          "2023-03-03T00:00:00.000000000",
          "2023-03-06T00:00:00.000000000",
          "2023-03-07T00:00:00.000000000",
          "2023-03-08T00:00:00.000000000",
          "2023-03-09T00:00:00.000000000",
          "2023-03-10T00:00:00.000000000",
          "2023-03-13T00:00:00.000000000",
          "2023-03-14T00:00:00.000000000",
          "2023-03-15T00:00:00.000000000",
          "2023-03-16T00:00:00.000000000",
          "2023-03-17T00:00:00.000000000",
          "2023-03-20T00:00:00.000000000",
          "2023-03-21T00:00:00.000000000",
          "2023-03-22T00:00:00.000000000",
          "2023-03-23T00:00:00.000000000",
          "2023-03-24T00:00:00.000000000",
          "2023-03-27T00:00:00.000000000",
          "2023-03-28T00:00:00.000000000",
          "2023-03-29T00:00:00.000000000",
          "2023-03-30T00:00:00.000000000",
          "2023-03-31T00:00:00.000000000",
          "2023-04-03T00:00:00.000000000",
          "2023-04-04T00:00:00.000000000",
          "2023-04-05T00:00:00.000000000",
          "2023-04-06T00:00:00.000000000",
          "2023-04-10T00:00:00.000000000",
          "2023-04-11T00:00:00.000000000",
          "2023-04-12T00:00:00.000000000",
          "2023-04-13T00:00:00.000000000",
          "2023-04-14T00:00:00.000000000",
          "2023-04-17T00:00:00.000000000",
          "2023-04-18T00:00:00.000000000",
          "2023-04-19T00:00:00.000000000",
          "2023-04-20T00:00:00.000000000",
          "2023-04-21T00:00:00.000000000",
          "2023-04-24T00:00:00.000000000",
          "2023-04-25T00:00:00.000000000",
          "2023-04-26T00:00:00.000000000",
          "2023-04-27T00:00:00.000000000",
          "2023-04-28T00:00:00.000000000",
          "2023-05-01T00:00:00.000000000",
          "2023-05-02T00:00:00.000000000",
          "2023-05-03T00:00:00.000000000",
          "2023-05-04T00:00:00.000000000",
          "2023-05-05T00:00:00.000000000",
          "2023-05-08T00:00:00.000000000",
          "2023-05-09T00:00:00.000000000",
          "2023-05-10T00:00:00.000000000",
          "2023-05-11T00:00:00.000000000",
          "2023-05-12T00:00:00.000000000",
          "2023-05-15T00:00:00.000000000",
          "2023-05-16T00:00:00.000000000",
          "2023-05-17T00:00:00.000000000",
          "2023-05-18T00:00:00.000000000",
          "2023-05-19T00:00:00.000000000",
          "2023-05-22T00:00:00.000000000",
          "2023-05-23T00:00:00.000000000",
          "2023-05-24T00:00:00.000000000",
          "2023-05-25T00:00:00.000000000",
          "2023-05-26T00:00:00.000000000",
          "2023-05-30T00:00:00.000000000",
          "2023-05-31T00:00:00.000000000",
          "2023-06-01T00:00:00.000000000",
          "2023-06-02T00:00:00.000000000",
          "2023-06-05T00:00:00.000000000",
          "2023-06-06T00:00:00.000000000",
          "2023-06-07T00:00:00.000000000",
          "2023-06-08T00:00:00.000000000",
          "2023-06-09T00:00:00.000000000",
          "2023-06-12T00:00:00.000000000",
          "2023-06-13T00:00:00.000000000",
          "2023-06-14T00:00:00.000000000",
          "2023-06-15T00:00:00.000000000",
          "2023-06-16T00:00:00.000000000",
          "2023-06-20T00:00:00.000000000",
          "2023-06-21T00:00:00.000000000",
          "2023-06-22T00:00:00.000000000",
          "2023-06-23T00:00:00.000000000",
          "2023-06-26T00:00:00.000000000",
          "2023-06-27T00:00:00.000000000",
          "2023-06-28T00:00:00.000000000",
          "2023-06-29T00:00:00.000000000",
          "2023-06-30T00:00:00.000000000",
          "2023-07-03T00:00:00.000000000",
          "2023-07-05T00:00:00.000000000",
          "2023-07-06T00:00:00.000000000",
          "2023-07-07T00:00:00.000000000",
          "2023-07-10T00:00:00.000000000",
          "2023-07-11T00:00:00.000000000",
          "2023-07-12T00:00:00.000000000",
          "2023-07-13T00:00:00.000000000",
          "2023-07-14T00:00:00.000000000",
          "2023-07-17T00:00:00.000000000",
          "2023-07-18T00:00:00.000000000",
          "2023-07-19T00:00:00.000000000",
          "2023-07-20T00:00:00.000000000",
          "2023-07-21T00:00:00.000000000",
          "2023-07-24T00:00:00.000000000",
          "2023-07-25T00:00:00.000000000",
          "2023-07-26T00:00:00.000000000",
          "2023-07-27T00:00:00.000000000",
          "2023-07-28T00:00:00.000000000",
          "2023-07-31T00:00:00.000000000",
          "2023-08-01T00:00:00.000000000",
          "2023-08-02T00:00:00.000000000",
          "2023-08-03T00:00:00.000000000",
          "2023-08-04T00:00:00.000000000",
          "2023-08-07T00:00:00.000000000",
          "2023-08-08T00:00:00.000000000",
          "2023-08-09T00:00:00.000000000",
          "2023-08-10T00:00:00.000000000",
          "2023-08-11T00:00:00.000000000",
          "2023-08-14T00:00:00.000000000",
          "2023-08-15T00:00:00.000000000",
          "2023-08-16T00:00:00.000000000",
          "2023-08-17T00:00:00.000000000",
          "2023-08-18T00:00:00.000000000",
          "2023-08-21T00:00:00.000000000",
          "2023-08-22T00:00:00.000000000",
          "2023-08-23T00:00:00.000000000",
          "2023-08-24T00:00:00.000000000",
          "2023-08-25T00:00:00.000000000",
          "2023-08-28T00:00:00.000000000",
          "2023-08-29T00:00:00.000000000",
          "2023-08-30T00:00:00.000000000",
          "2023-08-31T00:00:00.000000000",
          "2023-09-01T00:00:00.000000000",
          "2023-09-05T00:00:00.000000000",
          "2023-09-06T00:00:00.000000000",
          "2023-09-07T00:00:00.000000000",
          "2023-09-08T00:00:00.000000000",
          "2023-09-11T00:00:00.000000000",
          "2023-09-12T00:00:00.000000000",
          "2023-09-13T00:00:00.000000000",
          "2023-09-14T00:00:00.000000000",
          "2023-09-15T00:00:00.000000000",
          "2023-09-18T00:00:00.000000000",
          "2023-09-19T00:00:00.000000000",
          "2023-09-20T00:00:00.000000000",
          "2023-09-21T00:00:00.000000000",
          "2023-09-22T00:00:00.000000000",
          "2023-09-25T00:00:00.000000000",
          "2023-09-26T00:00:00.000000000",
          "2023-09-27T00:00:00.000000000",
          "2023-09-28T00:00:00.000000000",
          "2023-09-29T00:00:00.000000000",
          "2023-10-02T00:00:00.000000000",
          "2023-10-03T00:00:00.000000000",
          "2023-10-04T00:00:00.000000000",
          "2023-10-05T00:00:00.000000000",
          "2023-10-06T00:00:00.000000000",
          "2023-10-09T00:00:00.000000000",
          "2023-10-10T00:00:00.000000000",
          "2023-10-11T00:00:00.000000000",
          "2023-10-12T00:00:00.000000000",
          "2023-10-13T00:00:00.000000000",
          "2023-10-16T00:00:00.000000000",
          "2023-10-17T00:00:00.000000000",
          "2023-10-18T00:00:00.000000000",
          "2023-10-19T00:00:00.000000000",
          "2023-10-20T00:00:00.000000000",
          "2023-10-23T00:00:00.000000000",
          "2023-10-24T00:00:00.000000000",
          "2023-10-25T00:00:00.000000000",
          "2023-10-26T00:00:00.000000000",
          "2023-10-27T00:00:00.000000000",
          "2023-10-30T00:00:00.000000000",
          "2023-10-31T00:00:00.000000000",
          "2023-11-01T00:00:00.000000000",
          "2023-11-02T00:00:00.000000000",
          "2023-11-03T00:00:00.000000000",
          "2023-11-06T00:00:00.000000000",
          "2023-11-07T00:00:00.000000000",
          "2023-11-08T00:00:00.000000000",
          "2023-11-09T00:00:00.000000000",
          "2023-11-10T00:00:00.000000000",
          "2023-11-13T00:00:00.000000000",
          "2023-11-14T00:00:00.000000000",
          "2023-11-15T00:00:00.000000000",
          "2023-11-16T00:00:00.000000000",
          "2023-11-17T00:00:00.000000000",
          "2023-11-20T00:00:00.000000000",
          "2023-11-21T00:00:00.000000000",
          "2023-11-22T00:00:00.000000000",
          "2023-11-24T00:00:00.000000000",
          "2023-11-27T00:00:00.000000000",
          "2023-11-28T00:00:00.000000000",
          "2023-11-29T00:00:00.000000000",
          "2023-11-30T00:00:00.000000000",
          "2023-12-01T00:00:00.000000000",
          "2023-12-04T00:00:00.000000000",
          "2023-12-05T00:00:00.000000000",
          "2023-12-06T00:00:00.000000000",
          "2023-12-07T00:00:00.000000000",
          "2023-12-08T00:00:00.000000000",
          "2023-12-11T00:00:00.000000000",
          "2023-12-12T00:00:00.000000000",
          "2023-12-13T00:00:00.000000000",
          "2023-12-14T00:00:00.000000000",
          "2023-12-15T00:00:00.000000000",
          "2023-12-18T00:00:00.000000000",
          "2023-12-19T00:00:00.000000000",
          "2023-12-20T00:00:00.000000000",
          "2023-12-21T00:00:00.000000000",
          "2023-12-22T00:00:00.000000000",
          "2023-12-26T00:00:00.000000000",
          "2023-12-27T00:00:00.000000000",
          "2023-12-28T00:00:00.000000000",
          "2023-12-29T00:00:00.000000000",
          "2024-01-02T00:00:00.000000000",
          "2024-01-03T00:00:00.000000000",
          "2024-01-04T00:00:00.000000000",
          "2024-01-05T00:00:00.000000000",
          "2024-01-08T00:00:00.000000000",
          "2024-01-09T00:00:00.000000000",
          "2024-01-10T00:00:00.000000000",
          "2024-01-11T00:00:00.000000000",
          "2024-01-12T00:00:00.000000000",
          "2024-01-16T00:00:00.000000000",
          "2024-01-17T00:00:00.000000000",
          "2024-01-18T00:00:00.000000000",
          "2024-01-19T00:00:00.000000000",
          "2024-01-22T00:00:00.000000000",
          "2024-01-23T00:00:00.000000000",
          "2024-01-24T00:00:00.000000000",
          "2024-01-25T00:00:00.000000000",
          "2024-01-26T00:00:00.000000000",
          "2024-01-29T00:00:00.000000000",
          "2024-01-30T00:00:00.000000000",
          "2024-01-31T00:00:00.000000000",
          "2024-02-01T00:00:00.000000000",
          "2024-02-02T00:00:00.000000000",
          "2024-02-05T00:00:00.000000000",
          "2024-02-06T00:00:00.000000000",
          "2024-02-07T00:00:00.000000000",
          "2024-02-08T00:00:00.000000000",
          "2024-02-09T00:00:00.000000000",
          "2024-02-12T00:00:00.000000000",
          "2024-02-13T00:00:00.000000000",
          "2024-02-14T00:00:00.000000000",
          "2024-02-15T00:00:00.000000000",
          "2024-02-16T00:00:00.000000000",
          "2024-02-20T00:00:00.000000000",
          "2024-02-21T00:00:00.000000000",
          "2024-02-22T00:00:00.000000000",
          "2024-02-23T00:00:00.000000000",
          "2024-02-26T00:00:00.000000000",
          "2024-02-27T00:00:00.000000000",
          "2024-02-28T00:00:00.000000000",
          "2024-02-29T00:00:00.000000000",
          "2024-03-01T00:00:00.000000000",
          "2024-03-04T00:00:00.000000000",
          "2024-03-05T00:00:00.000000000",
          "2024-03-06T00:00:00.000000000",
          "2024-03-07T00:00:00.000000000",
          "2024-03-08T00:00:00.000000000",
          "2024-03-11T00:00:00.000000000",
          "2024-03-12T00:00:00.000000000",
          "2024-03-13T00:00:00.000000000",
          "2024-03-14T00:00:00.000000000",
          "2024-03-15T00:00:00.000000000",
          "2024-03-18T00:00:00.000000000",
          "2024-03-19T00:00:00.000000000",
          "2024-03-20T00:00:00.000000000",
          "2024-03-21T00:00:00.000000000",
          "2024-03-22T00:00:00.000000000",
          "2024-03-25T00:00:00.000000000",
          "2024-03-26T00:00:00.000000000",
          "2024-03-27T00:00:00.000000000",
          "2024-03-28T00:00:00.000000000",
          "2024-04-01T00:00:00.000000000",
          "2024-04-02T00:00:00.000000000",
          "2024-04-03T00:00:00.000000000",
          "2024-04-04T00:00:00.000000000",
          "2024-04-05T00:00:00.000000000",
          "2024-04-08T00:00:00.000000000",
          "2024-04-09T00:00:00.000000000",
          "2024-04-10T00:00:00.000000000",
          "2024-04-11T00:00:00.000000000",
          "2024-04-12T00:00:00.000000000",
          "2024-04-15T00:00:00.000000000",
          "2024-04-16T00:00:00.000000000",
          "2024-04-17T00:00:00.000000000",
          "2024-04-18T00:00:00.000000000",
          "2024-04-19T00:00:00.000000000",
          "2024-04-22T00:00:00.000000000",
          "2024-04-23T00:00:00.000000000",
          "2024-04-24T00:00:00.000000000",
          "2024-04-25T00:00:00.000000000",
          "2024-04-26T00:00:00.000000000",
          "2024-04-29T00:00:00.000000000",
          "2024-04-30T00:00:00.000000000",
          "2024-05-01T00:00:00.000000000",
          "2024-05-02T00:00:00.000000000",
          "2024-05-03T00:00:00.000000000",
          "2024-05-06T00:00:00.000000000",
          "2024-05-07T00:00:00.000000000",
          "2024-05-08T00:00:00.000000000",
          "2024-05-09T00:00:00.000000000",
          "2024-05-10T00:00:00.000000000",
          "2024-05-13T00:00:00.000000000",
          "2024-05-14T00:00:00.000000000",
          "2024-05-15T00:00:00.000000000",
          "2024-05-16T00:00:00.000000000",
          "2024-05-17T00:00:00.000000000",
          "2024-05-20T00:00:00.000000000",
          "2024-05-21T00:00:00.000000000",
          "2024-05-22T00:00:00.000000000",
          "2024-05-23T00:00:00.000000000",
          "2024-05-24T00:00:00.000000000",
          "2024-05-28T00:00:00.000000000",
          "2024-05-29T00:00:00.000000000",
          "2024-05-30T00:00:00.000000000",
          "2024-05-31T00:00:00.000000000",
          "2024-06-03T00:00:00.000000000",
          "2024-06-04T00:00:00.000000000",
          "2024-06-05T00:00:00.000000000",
          "2024-06-06T00:00:00.000000000",
          "2024-06-07T00:00:00.000000000",
          "2024-06-10T00:00:00.000000000",
          "2024-06-11T00:00:00.000000000",
          "2024-06-12T00:00:00.000000000",
          "2024-06-13T00:00:00.000000000",
          "2024-06-14T00:00:00.000000000",
          "2024-06-17T00:00:00.000000000",
          "2024-06-18T00:00:00.000000000",
          "2024-06-20T00:00:00.000000000",
          "2024-06-21T00:00:00.000000000",
          "2024-06-24T00:00:00.000000000",
          "2024-06-25T00:00:00.000000000",
          "2024-06-26T00:00:00.000000000",
          "2024-06-27T00:00:00.000000000",
          "2024-06-28T00:00:00.000000000",
          "2024-07-01T00:00:00.000000000",
          "2024-07-02T00:00:00.000000000",
          "2024-07-03T00:00:00.000000000",
          "2024-07-05T00:00:00.000000000",
          "2024-07-08T00:00:00.000000000",
          "2024-07-09T00:00:00.000000000",
          "2024-07-10T00:00:00.000000000",
          "2024-07-11T00:00:00.000000000",
          "2024-07-12T00:00:00.000000000",
          "2024-07-15T00:00:00.000000000",
          "2024-07-16T00:00:00.000000000",
          "2024-07-17T00:00:00.000000000",
          "2024-07-18T00:00:00.000000000",
          "2024-07-19T00:00:00.000000000",
          "2024-07-22T00:00:00.000000000",
          "2024-07-23T00:00:00.000000000",
          "2024-07-24T00:00:00.000000000",
          "2024-07-25T00:00:00.000000000",
          "2024-07-26T00:00:00.000000000",
          "2024-07-29T00:00:00.000000000",
          "2024-07-30T00:00:00.000000000",
          "2024-07-31T00:00:00.000000000",
          "2024-08-01T00:00:00.000000000",
          "2024-08-02T00:00:00.000000000",
          "2024-08-05T00:00:00.000000000",
          "2024-08-06T00:00:00.000000000",
          "2024-08-07T00:00:00.000000000",
          "2024-08-08T00:00:00.000000000",
          "2024-08-09T00:00:00.000000000",
          "2024-08-12T00:00:00.000000000",
          "2024-08-13T00:00:00.000000000",
          "2024-08-14T00:00:00.000000000",
          "2024-08-15T00:00:00.000000000",
          "2024-08-16T00:00:00.000000000",
          "2024-08-19T00:00:00.000000000",
          "2024-08-20T00:00:00.000000000",
          "2024-08-21T00:00:00.000000000",
          "2024-08-22T00:00:00.000000000",
          "2024-08-23T00:00:00.000000000",
          "2024-08-26T00:00:00.000000000",
          "2024-08-27T00:00:00.000000000",
          "2024-08-28T00:00:00.000000000",
          "2024-08-29T00:00:00.000000000",
          "2024-08-30T00:00:00.000000000",
          "2024-09-03T00:00:00.000000000",
          "2024-09-04T00:00:00.000000000",
          "2024-09-05T00:00:00.000000000",
          "2024-09-06T00:00:00.000000000",
          "2024-09-09T00:00:00.000000000",
          "2024-09-10T00:00:00.000000000",
          "2024-09-11T00:00:00.000000000",
          "2024-09-12T00:00:00.000000000",
          "2024-09-13T00:00:00.000000000",
          "2024-09-16T00:00:00.000000000",
          "2024-09-17T00:00:00.000000000",
          "2024-09-18T00:00:00.000000000",
          "2024-09-19T00:00:00.000000000",
          "2024-09-20T00:00:00.000000000",
          "2024-09-23T00:00:00.000000000",
          "2024-09-24T00:00:00.000000000",
          "2024-09-25T00:00:00.000000000",
          "2024-09-26T00:00:00.000000000",
          "2024-09-27T00:00:00.000000000",
          "2024-09-30T00:00:00.000000000",
          "2024-10-01T00:00:00.000000000",
          "2024-10-02T00:00:00.000000000",
          "2024-10-03T00:00:00.000000000",
          "2024-10-04T00:00:00.000000000",
          "2024-10-07T00:00:00.000000000",
          "2024-10-08T00:00:00.000000000",
          "2024-10-09T00:00:00.000000000",
          "2024-10-10T00:00:00.000000000",
          "2024-10-11T00:00:00.000000000",
          "2024-10-14T00:00:00.000000000",
          "2024-10-15T00:00:00.000000000",
          "2024-10-16T00:00:00.000000000",
          "2024-10-17T00:00:00.000000000",
          "2024-10-18T00:00:00.000000000",
          "2024-10-21T00:00:00.000000000",
          "2024-10-22T00:00:00.000000000",
          "2024-10-23T00:00:00.000000000",
          "2024-10-24T00:00:00.000000000",
          "2024-10-25T00:00:00.000000000",
          "2024-10-28T00:00:00.000000000",
          "2024-10-29T00:00:00.000000000",
          "2024-10-30T00:00:00.000000000",
          "2024-10-31T00:00:00.000000000",
          "2024-11-01T00:00:00.000000000",
          "2024-11-04T00:00:00.000000000",
          "2024-11-05T00:00:00.000000000",
          "2024-11-06T00:00:00.000000000",
          "2024-11-07T00:00:00.000000000",
          "2024-11-08T00:00:00.000000000",
          "2024-11-11T00:00:00.000000000",
          "2024-11-12T00:00:00.000000000",
          "2024-11-13T00:00:00.000000000",
          "2024-11-14T00:00:00.000000000",
          "2024-11-15T00:00:00.000000000",
          "2024-11-18T00:00:00.000000000",
          "2024-11-19T00:00:00.000000000",
          "2024-11-20T00:00:00.000000000",
          "2024-11-21T00:00:00.000000000",
          "2024-11-22T00:00:00.000000000",
          "2024-11-25T00:00:00.000000000",
          "2024-11-26T00:00:00.000000000",
          "2024-11-27T00:00:00.000000000",
          "2024-11-29T00:00:00.000000000",
          "2024-12-02T00:00:00.000000000",
          "2024-12-03T00:00:00.000000000",
          "2024-12-04T00:00:00.000000000",
          "2024-12-05T00:00:00.000000000",
          "2024-12-06T00:00:00.000000000",
          "2024-12-09T00:00:00.000000000",
          "2024-12-10T00:00:00.000000000",
          "2024-12-11T00:00:00.000000000",
          "2024-12-12T00:00:00.000000000",
          "2024-12-13T00:00:00.000000000",
          "2024-12-16T00:00:00.000000000",
          "2024-12-17T00:00:00.000000000",
          "2024-12-18T00:00:00.000000000",
          "2024-12-19T00:00:00.000000000",
          "2024-12-20T00:00:00.000000000",
          "2024-12-23T00:00:00.000000000",
          "2024-12-24T00:00:00.000000000",
          "2024-12-26T00:00:00.000000000",
          "2024-12-27T00:00:00.000000000",
          "2024-12-30T00:00:00.000000000",
          "2024-12-31T00:00:00.000000000",
          "2025-01-02T00:00:00.000000000",
          "2025-01-03T00:00:00.000000000",
          "2025-01-06T00:00:00.000000000",
          "2025-01-07T00:00:00.000000000",
          "2025-01-08T00:00:00.000000000",
          "2025-01-10T00:00:00.000000000",
          "2025-01-13T00:00:00.000000000",
          "2025-01-14T00:00:00.000000000",
          "2025-01-15T00:00:00.000000000",
          "2025-01-16T00:00:00.000000000",
          "2025-01-17T00:00:00.000000000",
          "2025-01-21T00:00:00.000000000",
          "2025-01-22T00:00:00.000000000",
          "2025-01-23T00:00:00.000000000",
          "2025-01-24T00:00:00.000000000",
          "2025-01-27T00:00:00.000000000",
          "2025-01-28T00:00:00.000000000",
          "2025-01-29T00:00:00.000000000",
          "2025-01-30T00:00:00.000000000",
          "2025-01-31T00:00:00.000000000",
          "2025-02-03T00:00:00.000000000",
          "2025-02-04T00:00:00.000000000",
          "2025-02-05T00:00:00.000000000",
          "2025-02-06T00:00:00.000000000",
          "2025-02-07T00:00:00.000000000",
          "2025-02-10T00:00:00.000000000",
          "2025-02-11T00:00:00.000000000",
          "2025-02-12T00:00:00.000000000",
          "2025-02-13T00:00:00.000000000",
          "2025-02-14T00:00:00.000000000",
          "2025-02-18T00:00:00.000000000",
          "2025-02-19T00:00:00.000000000",
          "2025-02-20T00:00:00.000000000",
          "2025-02-21T00:00:00.000000000",
          "2025-02-24T00:00:00.000000000",
          "2025-02-25T00:00:00.000000000",
          "2025-02-26T00:00:00.000000000",
          "2025-02-27T00:00:00.000000000",
          "2025-02-28T00:00:00.000000000",
          "2025-03-03T00:00:00.000000000",
          "2025-03-04T00:00:00.000000000",
          "2025-03-05T00:00:00.000000000",
          "2025-03-06T00:00:00.000000000",
          "2025-03-07T00:00:00.000000000",
          "2025-03-10T00:00:00.000000000",
          "2025-03-11T00:00:00.000000000",
          "2025-03-12T00:00:00.000000000",
          "2025-03-13T00:00:00.000000000",
          "2025-03-14T00:00:00.000000000",
          "2025-03-17T00:00:00.000000000",
          "2025-03-18T00:00:00.000000000",
          "2025-03-19T00:00:00.000000000",
          "2025-03-20T00:00:00.000000000",
          "2025-03-21T00:00:00.000000000",
          "2025-03-24T00:00:00.000000000",
          "2025-03-25T00:00:00.000000000",
          "2025-03-26T00:00:00.000000000",
          "2025-03-27T00:00:00.000000000",
          "2025-03-28T00:00:00.000000000",
          "2025-03-31T00:00:00.000000000",
          "2025-04-01T00:00:00.000000000",
          "2025-04-02T00:00:00.000000000",
          "2025-04-03T00:00:00.000000000",
          "2025-04-04T00:00:00.000000000",
          "2025-04-07T00:00:00.000000000",
          "2025-04-08T00:00:00.000000000",
          "2025-04-09T00:00:00.000000000",
          "2025-04-10T00:00:00.000000000",
          "2025-04-11T00:00:00.000000000",
          "2025-04-14T00:00:00.000000000",
          "2025-04-15T00:00:00.000000000",
          "2025-04-16T00:00:00.000000000",
          "2025-04-17T00:00:00.000000000",
          "2025-04-21T00:00:00.000000000",
          "2025-04-22T00:00:00.000000000",
          "2025-04-23T00:00:00.000000000",
          "2025-04-24T00:00:00.000000000",
          "2025-04-25T00:00:00.000000000",
          "2025-04-28T00:00:00.000000000",
          "2025-04-29T00:00:00.000000000",
          "2025-04-30T00:00:00.000000000",
          "2025-05-01T00:00:00.000000000",
          "2025-05-02T00:00:00.000000000",
          "2025-05-05T00:00:00.000000000",
          "2025-05-06T00:00:00.000000000",
          "2025-05-07T00:00:00.000000000",
          "2025-05-08T00:00:00.000000000",
          "2025-05-09T00:00:00.000000000",
          "2025-05-12T00:00:00.000000000",
          "2025-05-13T00:00:00.000000000",
          "2025-05-14T00:00:00.000000000",
          "2025-05-15T00:00:00.000000000",
          "2025-05-16T00:00:00.000000000",
          "2025-05-19T00:00:00.000000000",
          "2025-05-20T00:00:00.000000000",
          "2025-05-21T00:00:00.000000000",
          "2025-05-22T00:00:00.000000000",
          "2025-05-23T00:00:00.000000000",
          "2025-05-27T00:00:00.000000000",
          "2025-05-28T00:00:00.000000000",
          "2025-05-29T00:00:00.000000000",
          "2025-05-30T00:00:00.000000000",
          "2025-06-02T00:00:00.000000000",
          "2025-06-03T00:00:00.000000000",
          "2025-06-04T00:00:00.000000000",
          "2025-06-05T00:00:00.000000000",
          "2025-06-06T00:00:00.000000000",
          "2025-06-09T00:00:00.000000000",
          "2025-06-10T00:00:00.000000000",
          "2025-06-11T00:00:00.000000000",
          "2025-06-12T00:00:00.000000000",
          "2025-06-13T00:00:00.000000000",
          "2025-06-16T00:00:00.000000000",
          "2025-06-17T00:00:00.000000000",
          "2025-06-18T00:00:00.000000000",
          "2025-06-20T00:00:00.000000000",
          "2025-06-23T00:00:00.000000000",
          "2025-06-24T00:00:00.000000000",
          "2025-06-25T00:00:00.000000000",
          "2025-06-26T00:00:00.000000000",
          "2025-06-27T00:00:00.000000000",
          "2025-06-30T00:00:00.000000000",
          "2025-07-01T00:00:00.000000000",
          "2025-07-02T00:00:00.000000000",
          "2025-07-03T00:00:00.000000000",
          "2025-07-07T00:00:00.000000000",
          "2025-07-08T00:00:00.000000000",
          "2025-07-09T00:00:00.000000000",
          "2025-07-10T00:00:00.000000000",
          "2025-07-11T00:00:00.000000000",
          "2025-07-14T00:00:00.000000000",
          "2025-07-15T00:00:00.000000000",
          "2025-07-16T00:00:00.000000000",
          "2025-07-17T00:00:00.000000000",
          "2025-07-18T00:00:00.000000000",
          "2025-07-21T00:00:00.000000000",
          "2025-07-22T00:00:00.000000000",
          "2025-07-23T00:00:00.000000000",
          "2025-07-24T00:00:00.000000000",
          "2025-07-25T00:00:00.000000000",
          "2025-07-28T00:00:00.000000000",
          "2025-07-29T00:00:00.000000000",
          "2025-07-30T00:00:00.000000000",
          "2025-07-31T00:00:00.000000000",
          "2025-08-01T00:00:00.000000000",
          "2025-08-04T00:00:00.000000000",
          "2025-08-05T00:00:00.000000000",
          "2025-08-06T00:00:00.000000000",
          "2025-08-07T00:00:00.000000000",
          "2025-08-08T00:00:00.000000000",
          "2025-08-11T00:00:00.000000000",
          "2025-08-12T00:00:00.000000000",
          "2025-08-13T00:00:00.000000000",
          "2025-08-14T00:00:00.000000000",
          "2025-08-15T00:00:00.000000000",
          "2025-08-18T00:00:00.000000000",
          "2025-08-19T00:00:00.000000000",
          "2025-08-20T00:00:00.000000000",
          "2025-08-21T00:00:00.000000000",
          "2025-08-22T00:00:00.000000000",
          "2025-08-25T00:00:00.000000000",
          "2025-08-26T00:00:00.000000000",
          "2025-08-27T00:00:00.000000000",
          "2025-08-28T00:00:00.000000000",
          "2025-08-29T00:00:00.000000000",
          "2025-09-02T00:00:00.000000000",
          "2025-09-03T00:00:00.000000000",
          "2025-09-04T00:00:00.000000000",
          "2025-09-05T00:00:00.000000000",
          "2025-09-08T00:00:00.000000000",
          "2025-09-09T00:00:00.000000000",
          "2025-09-10T00:00:00.000000000",
          "2025-09-11T00:00:00.000000000",
          "2025-09-12T00:00:00.000000000",
          "2025-09-15T00:00:00.000000000",
          "2025-09-16T00:00:00.000000000",
          "2025-09-17T00:00:00.000000000",
          "2025-09-18T00:00:00.000000000",
          "2025-09-19T00:00:00.000000000",
          "2025-09-22T00:00:00.000000000",
          "2025-09-23T00:00:00.000000000",
          "2025-09-24T00:00:00.000000000",
          "2025-09-25T00:00:00.000000000",
          "2025-09-26T00:00:00.000000000",
          "2025-09-29T00:00:00.000000000",
          "2025-09-30T00:00:00.000000000"
         ],
         "xaxis": "x",
         "y": {
          "bdata": "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",
          "dtype": "f8"
         },
         "yaxis": "y"
        },
        {
         "line": {
          "color": "purple"
         },
         "name": "RSI",
         "type": "scatter",
         "x": [
          "2022-12-09T00:00:00.000000000",
          "2022-12-12T00:00:00.000000000",
          "2022-12-13T00:00:00.000000000",
          "2022-12-14T00:00:00.000000000",
          "2022-12-15T00:00:00.000000000",
          "2022-12-16T00:00:00.000000000",
          "2022-12-19T00:00:00.000000000",
          "2022-12-20T00:00:00.000000000",
          "2022-12-21T00:00:00.000000000",
          "2022-12-22T00:00:00.000000000",
          "2022-12-23T00:00:00.000000000",
          "2022-12-27T00:00:00.000000000",
          "2022-12-28T00:00:00.000000000",
          "2022-12-29T00:00:00.000000000",
          "2022-12-30T00:00:00.000000000",
          "2023-01-03T00:00:00.000000000",
          "2023-01-04T00:00:00.000000000",
          "2023-01-05T00:00:00.000000000",
          "2023-01-06T00:00:00.000000000",
          "2023-01-09T00:00:00.000000000",
          "2023-01-10T00:00:00.000000000",
          "2023-01-11T00:00:00.000000000",
          "2023-01-12T00:00:00.000000000",
          "2023-01-13T00:00:00.000000000",
          "2023-01-17T00:00:00.000000000",
          "2023-01-18T00:00:00.000000000",
          "2023-01-19T00:00:00.000000000",
          "2023-01-20T00:00:00.000000000",
          "2023-01-23T00:00:00.000000000",
          "2023-01-24T00:00:00.000000000",
          "2023-01-25T00:00:00.000000000",
          "2023-01-26T00:00:00.000000000",
          "2023-01-27T00:00:00.000000000",
          "2023-01-30T00:00:00.000000000",
          "2023-01-31T00:00:00.000000000",
          "2023-02-01T00:00:00.000000000",
          "2023-02-02T00:00:00.000000000",
          "2023-02-03T00:00:00.000000000",
          "2023-02-06T00:00:00.000000000",
          "2023-02-07T00:00:00.000000000",
          "2023-02-08T00:00:00.000000000",
          "2023-02-09T00:00:00.000000000",
          "2023-02-10T00:00:00.000000000",
          "2023-02-13T00:00:00.000000000",
          "2023-02-14T00:00:00.000000000",
          "2023-02-15T00:00:00.000000000",
          "2023-02-16T00:00:00.000000000",
          "2023-02-17T00:00:00.000000000",
          "2023-02-21T00:00:00.000000000",
          "2023-02-22T00:00:00.000000000",
          "2023-02-23T00:00:00.000000000",
          "2023-02-24T00:00:00.000000000",
          "2023-02-27T00:00:00.000000000",
          "2023-02-28T00:00:00.000000000",
          "2023-03-01T00:00:00.000000000",
          "2023-03-02T00:00:00.000000000",
          "2023-03-03T00:00:00.000000000",
          "2023-03-06T00:00:00.000000000",
          "2023-03-07T00:00:00.000000000",
          "2023-03-08T00:00:00.000000000",
          "2023-03-09T00:00:00.000000000",
          "2023-03-10T00:00:00.000000000",
          "2023-03-13T00:00:00.000000000",
          "2023-03-14T00:00:00.000000000",
          "2023-03-15T00:00:00.000000000",
          "2023-03-16T00:00:00.000000000",
          "2023-03-17T00:00:00.000000000",
          "2023-03-20T00:00:00.000000000",
          "2023-03-21T00:00:00.000000000",
          "2023-03-22T00:00:00.000000000",
          "2023-03-23T00:00:00.000000000",
          "2023-03-24T00:00:00.000000000",
          "2023-03-27T00:00:00.000000000",
          "2023-03-28T00:00:00.000000000",
          "2023-03-29T00:00:00.000000000",
          "2023-03-30T00:00:00.000000000",
          "2023-03-31T00:00:00.000000000",
          "2023-04-03T00:00:00.000000000",
          "2023-04-04T00:00:00.000000000",
          "2023-04-05T00:00:00.000000000",
          "2023-04-06T00:00:00.000000000",
          "2023-04-10T00:00:00.000000000",
          "2023-04-11T00:00:00.000000000",
          "2023-04-12T00:00:00.000000000",
          "2023-04-13T00:00:00.000000000",
          "2023-04-14T00:00:00.000000000",
          "2023-04-17T00:00:00.000000000",
          "2023-04-18T00:00:00.000000000",
          "2023-04-19T00:00:00.000000000",
          "2023-04-20T00:00:00.000000000",
          "2023-04-21T00:00:00.000000000",
          "2023-04-24T00:00:00.000000000",
          "2023-04-25T00:00:00.000000000",
          "2023-04-26T00:00:00.000000000",
          "2023-04-27T00:00:00.000000000",
          "2023-04-28T00:00:00.000000000",
          "2023-05-01T00:00:00.000000000",
          "2023-05-02T00:00:00.000000000",
          "2023-05-03T00:00:00.000000000",
          "2023-05-04T00:00:00.000000000",
          "2023-05-05T00:00:00.000000000",
          "2023-05-08T00:00:00.000000000",
          "2023-05-09T00:00:00.000000000",
          "2023-05-10T00:00:00.000000000",
          "2023-05-11T00:00:00.000000000",
          "2023-05-12T00:00:00.000000000",
          "2023-05-15T00:00:00.000000000",
          "2023-05-16T00:00:00.000000000",
          "2023-05-17T00:00:00.000000000",
          "2023-05-18T00:00:00.000000000",
          "2023-05-19T00:00:00.000000000",
          "2023-05-22T00:00:00.000000000",
          "2023-05-23T00:00:00.000000000",
          "2023-05-24T00:00:00.000000000",
          "2023-05-25T00:00:00.000000000",
          "2023-05-26T00:00:00.000000000",
          "2023-05-30T00:00:00.000000000",
          "2023-05-31T00:00:00.000000000",
          "2023-06-01T00:00:00.000000000",
          "2023-06-02T00:00:00.000000000",
          "2023-06-05T00:00:00.000000000",
          "2023-06-06T00:00:00.000000000",
          "2023-06-07T00:00:00.000000000",
          "2023-06-08T00:00:00.000000000",
          "2023-06-09T00:00:00.000000000",
          "2023-06-12T00:00:00.000000000",
          "2023-06-13T00:00:00.000000000",
          "2023-06-14T00:00:00.000000000",
          "2023-06-15T00:00:00.000000000",
          "2023-06-16T00:00:00.000000000",
          "2023-06-20T00:00:00.000000000",
          "2023-06-21T00:00:00.000000000",
          "2023-06-22T00:00:00.000000000",
          "2023-06-23T00:00:00.000000000",
          "2023-06-26T00:00:00.000000000",
          "2023-06-27T00:00:00.000000000",
          "2023-06-28T00:00:00.000000000",
          "2023-06-29T00:00:00.000000000",
          "2023-06-30T00:00:00.000000000",
          "2023-07-03T00:00:00.000000000",
          "2023-07-05T00:00:00.000000000",
          "2023-07-06T00:00:00.000000000",
          "2023-07-07T00:00:00.000000000",
          "2023-07-10T00:00:00.000000000",
          "2023-07-11T00:00:00.000000000",
          "2023-07-12T00:00:00.000000000",
          "2023-07-13T00:00:00.000000000",
          "2023-07-14T00:00:00.000000000",
          "2023-07-17T00:00:00.000000000",
          "2023-07-18T00:00:00.000000000",
          "2023-07-19T00:00:00.000000000",
          "2023-07-20T00:00:00.000000000",
          "2023-07-21T00:00:00.000000000",
          "2023-07-24T00:00:00.000000000",
          "2023-07-25T00:00:00.000000000",
          "2023-07-26T00:00:00.000000000",
          "2023-07-27T00:00:00.000000000",
          "2023-07-28T00:00:00.000000000",
          "2023-07-31T00:00:00.000000000",
          "2023-08-01T00:00:00.000000000",
          "2023-08-02T00:00:00.000000000",
          "2023-08-03T00:00:00.000000000",
          "2023-08-04T00:00:00.000000000",
          "2023-08-07T00:00:00.000000000",
          "2023-08-08T00:00:00.000000000",
          "2023-08-09T00:00:00.000000000",
          "2023-08-10T00:00:00.000000000",
          "2023-08-11T00:00:00.000000000",
          "2023-08-14T00:00:00.000000000",
          "2023-08-15T00:00:00.000000000",
          "2023-08-16T00:00:00.000000000",
          "2023-08-17T00:00:00.000000000",
          "2023-08-18T00:00:00.000000000",
          "2023-08-21T00:00:00.000000000",
          "2023-08-22T00:00:00.000000000",
          "2023-08-23T00:00:00.000000000",
          "2023-08-24T00:00:00.000000000",
          "2023-08-25T00:00:00.000000000",
          "2023-08-28T00:00:00.000000000",
          "2023-08-29T00:00:00.000000000",
          "2023-08-30T00:00:00.000000000",
          "2023-08-31T00:00:00.000000000",
          "2023-09-01T00:00:00.000000000",
          "2023-09-05T00:00:00.000000000",
          "2023-09-06T00:00:00.000000000",
          "2023-09-07T00:00:00.000000000",
          "2023-09-08T00:00:00.000000000",
          "2023-09-11T00:00:00.000000000",
          "2023-09-12T00:00:00.000000000",
          "2023-09-13T00:00:00.000000000",
          "2023-09-14T00:00:00.000000000",
          "2023-09-15T00:00:00.000000000",
          "2023-09-18T00:00:00.000000000",
          "2023-09-19T00:00:00.000000000",
          "2023-09-20T00:00:00.000000000",
          "2023-09-21T00:00:00.000000000",
          "2023-09-22T00:00:00.000000000",
          "2023-09-25T00:00:00.000000000",
          "2023-09-26T00:00:00.000000000",
          "2023-09-27T00:00:00.000000000",
          "2023-09-28T00:00:00.000000000",
          "2023-09-29T00:00:00.000000000",
          "2023-10-02T00:00:00.000000000",
          "2023-10-03T00:00:00.000000000",
          "2023-10-04T00:00:00.000000000",
          "2023-10-05T00:00:00.000000000",
          "2023-10-06T00:00:00.000000000",
          "2023-10-09T00:00:00.000000000",
          "2023-10-10T00:00:00.000000000",
          "2023-10-11T00:00:00.000000000",
          "2023-10-12T00:00:00.000000000",
          "2023-10-13T00:00:00.000000000",
          "2023-10-16T00:00:00.000000000",
          "2023-10-17T00:00:00.000000000",
          "2023-10-18T00:00:00.000000000",
          "2023-10-19T00:00:00.000000000",
          "2023-10-20T00:00:00.000000000",
          "2023-10-23T00:00:00.000000000",
          "2023-10-24T00:00:00.000000000",
          "2023-10-25T00:00:00.000000000",
          "2023-10-26T00:00:00.000000000",
          "2023-10-27T00:00:00.000000000",
          "2023-10-30T00:00:00.000000000",
          "2023-10-31T00:00:00.000000000",
          "2023-11-01T00:00:00.000000000",
          "2023-11-02T00:00:00.000000000",
          "2023-11-03T00:00:00.000000000",
          "2023-11-06T00:00:00.000000000",
          "2023-11-07T00:00:00.000000000",
          "2023-11-08T00:00:00.000000000",
          "2023-11-09T00:00:00.000000000",
          "2023-11-10T00:00:00.000000000",
          "2023-11-13T00:00:00.000000000",
          "2023-11-14T00:00:00.000000000",
          "2023-11-15T00:00:00.000000000",
          "2023-11-16T00:00:00.000000000",
          "2023-11-17T00:00:00.000000000",
          "2023-11-20T00:00:00.000000000",
          "2023-11-21T00:00:00.000000000",
          "2023-11-22T00:00:00.000000000",
          "2023-11-24T00:00:00.000000000",
          "2023-11-27T00:00:00.000000000",
          "2023-11-28T00:00:00.000000000",
          "2023-11-29T00:00:00.000000000",
          "2023-11-30T00:00:00.000000000",
          "2023-12-01T00:00:00.000000000",
          "2023-12-04T00:00:00.000000000",
          "2023-12-05T00:00:00.000000000",
          "2023-12-06T00:00:00.000000000",
          "2023-12-07T00:00:00.000000000",
          "2023-12-08T00:00:00.000000000",
          "2023-12-11T00:00:00.000000000",
          "2023-12-12T00:00:00.000000000",
          "2023-12-13T00:00:00.000000000",
          "2023-12-14T00:00:00.000000000",
          "2023-12-15T00:00:00.000000000",
          "2023-12-18T00:00:00.000000000",
          "2023-12-19T00:00:00.000000000",
          "2023-12-20T00:00:00.000000000",
          "2023-12-21T00:00:00.000000000",
          "2023-12-22T00:00:00.000000000",
          "2023-12-26T00:00:00.000000000",
          "2023-12-27T00:00:00.000000000",
          "2023-12-28T00:00:00.000000000",
          "2023-12-29T00:00:00.000000000",
          "2024-01-02T00:00:00.000000000",
          "2024-01-03T00:00:00.000000000",
          "2024-01-04T00:00:00.000000000",
          "2024-01-05T00:00:00.000000000",
          "2024-01-08T00:00:00.000000000",
          "2024-01-09T00:00:00.000000000",
          "2024-01-10T00:00:00.000000000",
          "2024-01-11T00:00:00.000000000",
          "2024-01-12T00:00:00.000000000",
          "2024-01-16T00:00:00.000000000",
          "2024-01-17T00:00:00.000000000",
          "2024-01-18T00:00:00.000000000",
          "2024-01-19T00:00:00.000000000",
          "2024-01-22T00:00:00.000000000",
          "2024-01-23T00:00:00.000000000",
          "2024-01-24T00:00:00.000000000",
          "2024-01-25T00:00:00.000000000",
          "2024-01-26T00:00:00.000000000",
          "2024-01-29T00:00:00.000000000",
          "2024-01-30T00:00:00.000000000",
          "2024-01-31T00:00:00.000000000",
          "2024-02-01T00:00:00.000000000",
          "2024-02-02T00:00:00.000000000",
          "2024-02-05T00:00:00.000000000",
          "2024-02-06T00:00:00.000000000",
          "2024-02-07T00:00:00.000000000",
          "2024-02-08T00:00:00.000000000",
          "2024-02-09T00:00:00.000000000",
          "2024-02-12T00:00:00.000000000",
          "2024-02-13T00:00:00.000000000",
          "2024-02-14T00:00:00.000000000",
          "2024-02-15T00:00:00.000000000",
          "2024-02-16T00:00:00.000000000",
          "2024-02-20T00:00:00.000000000",
          "2024-02-21T00:00:00.000000000",
          "2024-02-22T00:00:00.000000000",
          "2024-02-23T00:00:00.000000000",
          "2024-02-26T00:00:00.000000000",
          "2024-02-27T00:00:00.000000000",
          "2024-02-28T00:00:00.000000000",
          "2024-02-29T00:00:00.000000000",
          "2024-03-01T00:00:00.000000000",
          "2024-03-04T00:00:00.000000000",
          "2024-03-05T00:00:00.000000000",
          "2024-03-06T00:00:00.000000000",
          "2024-03-07T00:00:00.000000000",
          "2024-03-08T00:00:00.000000000",
          "2024-03-11T00:00:00.000000000",
          "2024-03-12T00:00:00.000000000",
          "2024-03-13T00:00:00.000000000",
          "2024-03-14T00:00:00.000000000",
          "2024-03-15T00:00:00.000000000",
          "2024-03-18T00:00:00.000000000",
          "2024-03-19T00:00:00.000000000",
          "2024-03-20T00:00:00.000000000",
          "2024-03-21T00:00:00.000000000",
          "2024-03-22T00:00:00.000000000",
          "2024-03-25T00:00:00.000000000",
          "2024-03-26T00:00:00.000000000",
          "2024-03-27T00:00:00.000000000",
          "2024-03-28T00:00:00.000000000",
          "2024-04-01T00:00:00.000000000",
          "2024-04-02T00:00:00.000000000",
          "2024-04-03T00:00:00.000000000",
          "2024-04-04T00:00:00.000000000",
          "2024-04-05T00:00:00.000000000",
          "2024-04-08T00:00:00.000000000",
          "2024-04-09T00:00:00.000000000",
          "2024-04-10T00:00:00.000000000",
          "2024-04-11T00:00:00.000000000",
          "2024-04-12T00:00:00.000000000",
          "2024-04-15T00:00:00.000000000",
          "2024-04-16T00:00:00.000000000",
          "2024-04-17T00:00:00.000000000",
          "2024-04-18T00:00:00.000000000",
          "2024-04-19T00:00:00.000000000",
          "2024-04-22T00:00:00.000000000",
          "2024-04-23T00:00:00.000000000",
          "2024-04-24T00:00:00.000000000",
          "2024-04-25T00:00:00.000000000",
          "2024-04-26T00:00:00.000000000",
          "2024-04-29T00:00:00.000000000",
          "2024-04-30T00:00:00.000000000",
          "2024-05-01T00:00:00.000000000",
          "2024-05-02T00:00:00.000000000",
          "2024-05-03T00:00:00.000000000",
          "2024-05-06T00:00:00.000000000",
          "2024-05-07T00:00:00.000000000",
          "2024-05-08T00:00:00.000000000",
          "2024-05-09T00:00:00.000000000",
          "2024-05-10T00:00:00.000000000",
          "2024-05-13T00:00:00.000000000",
          "2024-05-14T00:00:00.000000000",
          "2024-05-15T00:00:00.000000000",
          "2024-05-16T00:00:00.000000000",
          "2024-05-17T00:00:00.000000000",
          "2024-05-20T00:00:00.000000000",
          "2024-05-21T00:00:00.000000000",
          "2024-05-22T00:00:00.000000000",
          "2024-05-23T00:00:00.000000000",
          "2024-05-24T00:00:00.000000000",
          "2024-05-28T00:00:00.000000000",
          "2024-05-29T00:00:00.000000000",
          "2024-05-30T00:00:00.000000000",
          "2024-05-31T00:00:00.000000000",
          "2024-06-03T00:00:00.000000000",
          "2024-06-04T00:00:00.000000000",
          "2024-06-05T00:00:00.000000000",
          "2024-06-06T00:00:00.000000000",
          "2024-06-07T00:00:00.000000000",
          "2024-06-10T00:00:00.000000000",
          "2024-06-11T00:00:00.000000000",
          "2024-06-12T00:00:00.000000000",
          "2024-06-13T00:00:00.000000000",
          "2024-06-14T00:00:00.000000000",
          "2024-06-17T00:00:00.000000000",
          "2024-06-18T00:00:00.000000000",
          "2024-06-20T00:00:00.000000000",
          "2024-06-21T00:00:00.000000000",
          "2024-06-24T00:00:00.000000000",
          "2024-06-25T00:00:00.000000000",
          "2024-06-26T00:00:00.000000000",
          "2024-06-27T00:00:00.000000000",
          "2024-06-28T00:00:00.000000000",
          "2024-07-01T00:00:00.000000000",
          "2024-07-02T00:00:00.000000000",
          "2024-07-03T00:00:00.000000000",
          "2024-07-05T00:00:00.000000000",
          "2024-07-08T00:00:00.000000000",
          "2024-07-09T00:00:00.000000000",
          "2024-07-10T00:00:00.000000000",
          "2024-07-11T00:00:00.000000000",
          "2024-07-12T00:00:00.000000000",
          "2024-07-15T00:00:00.000000000",
          "2024-07-16T00:00:00.000000000",
          "2024-07-17T00:00:00.000000000",
          "2024-07-18T00:00:00.000000000",
          "2024-07-19T00:00:00.000000000",
          "2024-07-22T00:00:00.000000000",
          "2024-07-23T00:00:00.000000000",
          "2024-07-24T00:00:00.000000000",
          "2024-07-25T00:00:00.000000000",
          "2024-07-26T00:00:00.000000000",
          "2024-07-29T00:00:00.000000000",
          "2024-07-30T00:00:00.000000000",
          "2024-07-31T00:00:00.000000000",
          "2024-08-01T00:00:00.000000000",
          "2024-08-02T00:00:00.000000000",
          "2024-08-05T00:00:00.000000000",
          "2024-08-06T00:00:00.000000000",
          "2024-08-07T00:00:00.000000000",
          "2024-08-08T00:00:00.000000000",
          "2024-08-09T00:00:00.000000000",
          "2024-08-12T00:00:00.000000000",
          "2024-08-13T00:00:00.000000000",
          "2024-08-14T00:00:00.000000000",
          "2024-08-15T00:00:00.000000000",
          "2024-08-16T00:00:00.000000000",
          "2024-08-19T00:00:00.000000000",
          "2024-08-20T00:00:00.000000000",
          "2024-08-21T00:00:00.000000000",
          "2024-08-22T00:00:00.000000000",
          "2024-08-23T00:00:00.000000000",
          "2024-08-26T00:00:00.000000000",
          "2024-08-27T00:00:00.000000000",
          "2024-08-28T00:00:00.000000000",
          "2024-08-29T00:00:00.000000000",
          "2024-08-30T00:00:00.000000000",
          "2024-09-03T00:00:00.000000000",
          "2024-09-04T00:00:00.000000000",
          "2024-09-05T00:00:00.000000000",
          "2024-09-06T00:00:00.000000000",
          "2024-09-09T00:00:00.000000000",
          "2024-09-10T00:00:00.000000000",
          "2024-09-11T00:00:00.000000000",
          "2024-09-12T00:00:00.000000000",
          "2024-09-13T00:00:00.000000000",
          "2024-09-16T00:00:00.000000000",
          "2024-09-17T00:00:00.000000000",
          "2024-09-18T00:00:00.000000000",
          "2024-09-19T00:00:00.000000000",
          "2024-09-20T00:00:00.000000000",
          "2024-09-23T00:00:00.000000000",
          "2024-09-24T00:00:00.000000000",
          "2024-09-25T00:00:00.000000000",
          "2024-09-26T00:00:00.000000000",
          "2024-09-27T00:00:00.000000000",
          "2024-09-30T00:00:00.000000000",
          "2024-10-01T00:00:00.000000000",
          "2024-10-02T00:00:00.000000000",
          "2024-10-03T00:00:00.000000000",
          "2024-10-04T00:00:00.000000000",
          "2024-10-07T00:00:00.000000000",
          "2024-10-08T00:00:00.000000000",
          "2024-10-09T00:00:00.000000000",
          "2024-10-10T00:00:00.000000000",
          "2024-10-11T00:00:00.000000000",
          "2024-10-14T00:00:00.000000000",
          "2024-10-15T00:00:00.000000000",
          "2024-10-16T00:00:00.000000000",
          "2024-10-17T00:00:00.000000000",
          "2024-10-18T00:00:00.000000000",
          "2024-10-21T00:00:00.000000000",
          "2024-10-22T00:00:00.000000000",
          "2024-10-23T00:00:00.000000000",
          "2024-10-24T00:00:00.000000000",
          "2024-10-25T00:00:00.000000000",
          "2024-10-28T00:00:00.000000000",
          "2024-10-29T00:00:00.000000000",
          "2024-10-30T00:00:00.000000000",
          "2024-10-31T00:00:00.000000000",
          "2024-11-01T00:00:00.000000000",
          "2024-11-04T00:00:00.000000000",
          "2024-11-05T00:00:00.000000000",
          "2024-11-06T00:00:00.000000000",
          "2024-11-07T00:00:00.000000000",
          "2024-11-08T00:00:00.000000000",
          "2024-11-11T00:00:00.000000000",
          "2024-11-12T00:00:00.000000000",
          "2024-11-13T00:00:00.000000000",
          "2024-11-14T00:00:00.000000000",
          "2024-11-15T00:00:00.000000000",
          "2024-11-18T00:00:00.000000000",
          "2024-11-19T00:00:00.000000000",
          "2024-11-20T00:00:00.000000000",
          "2024-11-21T00:00:00.000000000",
          "2024-11-22T00:00:00.000000000",
          "2024-11-25T00:00:00.000000000",
          "2024-11-26T00:00:00.000000000",
          "2024-11-27T00:00:00.000000000",
          "2024-11-29T00:00:00.000000000",
          "2024-12-02T00:00:00.000000000",
          "2024-12-03T00:00:00.000000000",
          "2024-12-04T00:00:00.000000000",
          "2024-12-05T00:00:00.000000000",
          "2024-12-06T00:00:00.000000000",
          "2024-12-09T00:00:00.000000000",
          "2024-12-10T00:00:00.000000000",
          "2024-12-11T00:00:00.000000000",
          "2024-12-12T00:00:00.000000000",
          "2024-12-13T00:00:00.000000000",
          "2024-12-16T00:00:00.000000000",
          "2024-12-17T00:00:00.000000000",
          "2024-12-18T00:00:00.000000000",
          "2024-12-19T00:00:00.000000000",
          "2024-12-20T00:00:00.000000000",
          "2024-12-23T00:00:00.000000000",
          "2024-12-24T00:00:00.000000000",
          "2024-12-26T00:00:00.000000000",
          "2024-12-27T00:00:00.000000000",
          "2024-12-30T00:00:00.000000000",
          "2024-12-31T00:00:00.000000000",
          "2025-01-02T00:00:00.000000000",
          "2025-01-03T00:00:00.000000000",
          "2025-01-06T00:00:00.000000000",
          "2025-01-07T00:00:00.000000000",
          "2025-01-08T00:00:00.000000000",
          "2025-01-10T00:00:00.000000000",
          "2025-01-13T00:00:00.000000000",
          "2025-01-14T00:00:00.000000000",
          "2025-01-15T00:00:00.000000000",
          "2025-01-16T00:00:00.000000000",
          "2025-01-17T00:00:00.000000000",
          "2025-01-21T00:00:00.000000000",
          "2025-01-22T00:00:00.000000000",
          "2025-01-23T00:00:00.000000000",
          "2025-01-24T00:00:00.000000000",
          "2025-01-27T00:00:00.000000000",
          "2025-01-28T00:00:00.000000000",
          "2025-01-29T00:00:00.000000000",
          "2025-01-30T00:00:00.000000000",
          "2025-01-31T00:00:00.000000000",
          "2025-02-03T00:00:00.000000000",
          "2025-02-04T00:00:00.000000000",
          "2025-02-05T00:00:00.000000000",
          "2025-02-06T00:00:00.000000000",
          "2025-02-07T00:00:00.000000000",
          "2025-02-10T00:00:00.000000000",
          "2025-02-11T00:00:00.000000000",
          "2025-02-12T00:00:00.000000000",
          "2025-02-13T00:00:00.000000000",
          "2025-02-14T00:00:00.000000000",
          "2025-02-18T00:00:00.000000000",
          "2025-02-19T00:00:00.000000000",
          "2025-02-20T00:00:00.000000000",
          "2025-02-21T00:00:00.000000000",
          "2025-02-24T00:00:00.000000000",
          "2025-02-25T00:00:00.000000000",
          "2025-02-26T00:00:00.000000000",
          "2025-02-27T00:00:00.000000000",
          "2025-02-28T00:00:00.000000000",
          "2025-03-03T00:00:00.000000000",
          "2025-03-04T00:00:00.000000000",
          "2025-03-05T00:00:00.000000000",
          "2025-03-06T00:00:00.000000000",
          "2025-03-07T00:00:00.000000000",
          "2025-03-10T00:00:00.000000000",
          "2025-03-11T00:00:00.000000000",
          "2025-03-12T00:00:00.000000000",
          "2025-03-13T00:00:00.000000000",
          "2025-03-14T00:00:00.000000000",
          "2025-03-17T00:00:00.000000000",
          "2025-03-18T00:00:00.000000000",
          "2025-03-19T00:00:00.000000000",
          "2025-03-20T00:00:00.000000000",
          "2025-03-21T00:00:00.000000000",
          "2025-03-24T00:00:00.000000000",
          "2025-03-25T00:00:00.000000000",
          "2025-03-26T00:00:00.000000000",
          "2025-03-27T00:00:00.000000000",
          "2025-03-28T00:00:00.000000000",
          "2025-03-31T00:00:00.000000000",
          "2025-04-01T00:00:00.000000000",
          "2025-04-02T00:00:00.000000000",
          "2025-04-03T00:00:00.000000000",
          "2025-04-04T00:00:00.000000000",
          "2025-04-07T00:00:00.000000000",
          "2025-04-08T00:00:00.000000000",
          "2025-04-09T00:00:00.000000000",
          "2025-04-10T00:00:00.000000000",
          "2025-04-11T00:00:00.000000000",
          "2025-04-14T00:00:00.000000000",
          "2025-04-15T00:00:00.000000000",
          "2025-04-16T00:00:00.000000000",
          "2025-04-17T00:00:00.000000000",
          "2025-04-21T00:00:00.000000000",
          "2025-04-22T00:00:00.000000000",
          "2025-04-23T00:00:00.000000000",
          "2025-04-24T00:00:00.000000000",
          "2025-04-25T00:00:00.000000000",
          "2025-04-28T00:00:00.000000000",
          "2025-04-29T00:00:00.000000000",
          "2025-04-30T00:00:00.000000000",
          "2025-05-01T00:00:00.000000000",
          "2025-05-02T00:00:00.000000000",
          "2025-05-05T00:00:00.000000000",
          "2025-05-06T00:00:00.000000000",
          "2025-05-07T00:00:00.000000000",
          "2025-05-08T00:00:00.000000000",
          "2025-05-09T00:00:00.000000000",
          "2025-05-12T00:00:00.000000000",
          "2025-05-13T00:00:00.000000000",
          "2025-05-14T00:00:00.000000000",
          "2025-05-15T00:00:00.000000000",
          "2025-05-16T00:00:00.000000000",
          "2025-05-19T00:00:00.000000000",
          "2025-05-20T00:00:00.000000000",
          "2025-05-21T00:00:00.000000000",
          "2025-05-22T00:00:00.000000000",
          "2025-05-23T00:00:00.000000000",
          "2025-05-27T00:00:00.000000000",
          "2025-05-28T00:00:00.000000000",
          "2025-05-29T00:00:00.000000000",
          "2025-05-30T00:00:00.000000000",
          "2025-06-02T00:00:00.000000000",
          "2025-06-03T00:00:00.000000000",
          "2025-06-04T00:00:00.000000000",
          "2025-06-05T00:00:00.000000000",
          "2025-06-06T00:00:00.000000000",
          "2025-06-09T00:00:00.000000000",
          "2025-06-10T00:00:00.000000000",
          "2025-06-11T00:00:00.000000000",
          "2025-06-12T00:00:00.000000000",
          "2025-06-13T00:00:00.000000000",
          "2025-06-16T00:00:00.000000000",
          "2025-06-17T00:00:00.000000000",
          "2025-06-18T00:00:00.000000000",
          "2025-06-20T00:00:00.000000000",
          "2025-06-23T00:00:00.000000000",
          "2025-06-24T00:00:00.000000000",
          "2025-06-25T00:00:00.000000000",
          "2025-06-26T00:00:00.000000000",
          "2025-06-27T00:00:00.000000000",
          "2025-06-30T00:00:00.000000000",
          "2025-07-01T00:00:00.000000000",
          "2025-07-02T00:00:00.000000000",
          "2025-07-03T00:00:00.000000000",
          "2025-07-07T00:00:00.000000000",
          "2025-07-08T00:00:00.000000000",
          "2025-07-09T00:00:00.000000000",
          "2025-07-10T00:00:00.000000000",
          "2025-07-11T00:00:00.000000000",
          "2025-07-14T00:00:00.000000000",
          "2025-07-15T00:00:00.000000000",
          "2025-07-16T00:00:00.000000000",
          "2025-07-17T00:00:00.000000000",
          "2025-07-18T00:00:00.000000000",
          "2025-07-21T00:00:00.000000000",
          "2025-07-22T00:00:00.000000000",
          "2025-07-23T00:00:00.000000000",
          "2025-07-24T00:00:00.000000000",
          "2025-07-25T00:00:00.000000000",
          "2025-07-28T00:00:00.000000000",
          "2025-07-29T00:00:00.000000000",
          "2025-07-30T00:00:00.000000000",
          "2025-07-31T00:00:00.000000000",
          "2025-08-01T00:00:00.000000000",
          "2025-08-04T00:00:00.000000000",
          "2025-08-05T00:00:00.000000000",
          "2025-08-06T00:00:00.000000000",
          "2025-08-07T00:00:00.000000000",
          "2025-08-08T00:00:00.000000000",
          "2025-08-11T00:00:00.000000000",
          "2025-08-12T00:00:00.000000000",
          "2025-08-13T00:00:00.000000000",
          "2025-08-14T00:00:00.000000000",
          "2025-08-15T00:00:00.000000000",
          "2025-08-18T00:00:00.000000000",
          "2025-08-19T00:00:00.000000000",
          "2025-08-20T00:00:00.000000000",
          "2025-08-21T00:00:00.000000000",
          "2025-08-22T00:00:00.000000000",
          "2025-08-25T00:00:00.000000000",
          "2025-08-26T00:00:00.000000000",
          "2025-08-27T00:00:00.000000000",
          "2025-08-28T00:00:00.000000000",
          "2025-08-29T00:00:00.000000000",
          "2025-09-02T00:00:00.000000000",
          "2025-09-03T00:00:00.000000000",
          "2025-09-04T00:00:00.000000000",
          "2025-09-05T00:00:00.000000000",
          "2025-09-08T00:00:00.000000000",
          "2025-09-09T00:00:00.000000000",
          "2025-09-10T00:00:00.000000000",
          "2025-09-11T00:00:00.000000000",
          "2025-09-12T00:00:00.000000000",
          "2025-09-15T00:00:00.000000000",
          "2025-09-16T00:00:00.000000000",
          "2025-09-17T00:00:00.000000000",
          "2025-09-18T00:00:00.000000000",
          "2025-09-19T00:00:00.000000000",
          "2025-09-22T00:00:00.000000000",
          "2025-09-23T00:00:00.000000000",
          "2025-09-24T00:00:00.000000000",
          "2025-09-25T00:00:00.000000000",
          "2025-09-26T00:00:00.000000000",
          "2025-09-29T00:00:00.000000000",
          "2025-09-30T00:00:00.000000000"
         ],
         "xaxis": "x2",
         "y": {
          "bdata": "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",
          "dtype": "f8"
         },
         "yaxis": "y2"
        },
        {
         "line": {
          "color": "blue"
         },
         "name": "MACD",
         "type": "scatter",
         "x": [
          "2022-12-09T00:00:00.000000000",
          "2022-12-12T00:00:00.000000000",
          "2022-12-13T00:00:00.000000000",
          "2022-12-14T00:00:00.000000000",
          "2022-12-15T00:00:00.000000000",
          "2022-12-16T00:00:00.000000000",
          "2022-12-19T00:00:00.000000000",
          "2022-12-20T00:00:00.000000000",
          "2022-12-21T00:00:00.000000000",
          "2022-12-22T00:00:00.000000000",
          "2022-12-23T00:00:00.000000000",
          "2022-12-27T00:00:00.000000000",
          "2022-12-28T00:00:00.000000000",
          "2022-12-29T00:00:00.000000000",
          "2022-12-30T00:00:00.000000000",
          "2023-01-03T00:00:00.000000000",
          "2023-01-04T00:00:00.000000000",
          "2023-01-05T00:00:00.000000000",
          "2023-01-06T00:00:00.000000000",
          "2023-01-09T00:00:00.000000000",
          "2023-01-10T00:00:00.000000000",
          "2023-01-11T00:00:00.000000000",
          "2023-01-12T00:00:00.000000000",
          "2023-01-13T00:00:00.000000000",
          "2023-01-17T00:00:00.000000000",
          "2023-01-18T00:00:00.000000000",
          "2023-01-19T00:00:00.000000000",
          "2023-01-20T00:00:00.000000000",
          "2023-01-23T00:00:00.000000000",
          "2023-01-24T00:00:00.000000000",
          "2023-01-25T00:00:00.000000000",
          "2023-01-26T00:00:00.000000000",
          "2023-01-27T00:00:00.000000000",
          "2023-01-30T00:00:00.000000000",
          "2023-01-31T00:00:00.000000000",
          "2023-02-01T00:00:00.000000000",
          "2023-02-02T00:00:00.000000000",
          "2023-02-03T00:00:00.000000000",
          "2023-02-06T00:00:00.000000000",
          "2023-02-07T00:00:00.000000000",
          "2023-02-08T00:00:00.000000000",
          "2023-02-09T00:00:00.000000000",
          "2023-02-10T00:00:00.000000000",
          "2023-02-13T00:00:00.000000000",
          "2023-02-14T00:00:00.000000000",
          "2023-02-15T00:00:00.000000000",
          "2023-02-16T00:00:00.000000000",
          "2023-02-17T00:00:00.000000000",
          "2023-02-21T00:00:00.000000000",
          "2023-02-22T00:00:00.000000000",
          "2023-02-23T00:00:00.000000000",
          "2023-02-24T00:00:00.000000000",
          "2023-02-27T00:00:00.000000000",
          "2023-02-28T00:00:00.000000000",
          "2023-03-01T00:00:00.000000000",
          "2023-03-02T00:00:00.000000000",
          "2023-03-03T00:00:00.000000000",
          "2023-03-06T00:00:00.000000000",
          "2023-03-07T00:00:00.000000000",
          "2023-03-08T00:00:00.000000000",
          "2023-03-09T00:00:00.000000000",
          "2023-03-10T00:00:00.000000000",
          "2023-03-13T00:00:00.000000000",
          "2023-03-14T00:00:00.000000000",
          "2023-03-15T00:00:00.000000000",
          "2023-03-16T00:00:00.000000000",
          "2023-03-17T00:00:00.000000000",
          "2023-03-20T00:00:00.000000000",
          "2023-03-21T00:00:00.000000000",
          "2023-03-22T00:00:00.000000000",
          "2023-03-23T00:00:00.000000000",
          "2023-03-24T00:00:00.000000000",
          "2023-03-27T00:00:00.000000000",
          "2023-03-28T00:00:00.000000000",
          "2023-03-29T00:00:00.000000000",
          "2023-03-30T00:00:00.000000000",
          "2023-03-31T00:00:00.000000000",
          "2023-04-03T00:00:00.000000000",
          "2023-04-04T00:00:00.000000000",
          "2023-04-05T00:00:00.000000000",
          "2023-04-06T00:00:00.000000000",
          "2023-04-10T00:00:00.000000000",
          "2023-04-11T00:00:00.000000000",
          "2023-04-12T00:00:00.000000000",
          "2023-04-13T00:00:00.000000000",
          "2023-04-14T00:00:00.000000000",
          "2023-04-17T00:00:00.000000000",
          "2023-04-18T00:00:00.000000000",
          "2023-04-19T00:00:00.000000000",
          "2023-04-20T00:00:00.000000000",
          "2023-04-21T00:00:00.000000000",
          "2023-04-24T00:00:00.000000000",
          "2023-04-25T00:00:00.000000000",
          "2023-04-26T00:00:00.000000000",
          "2023-04-27T00:00:00.000000000",
          "2023-04-28T00:00:00.000000000",
          "2023-05-01T00:00:00.000000000",
          "2023-05-02T00:00:00.000000000",
          "2023-05-03T00:00:00.000000000",
          "2023-05-04T00:00:00.000000000",
          "2023-05-05T00:00:00.000000000",
          "2023-05-08T00:00:00.000000000",
          "2023-05-09T00:00:00.000000000",
          "2023-05-10T00:00:00.000000000",
          "2023-05-11T00:00:00.000000000",
          "2023-05-12T00:00:00.000000000",
          "2023-05-15T00:00:00.000000000",
          "2023-05-16T00:00:00.000000000",
          "2023-05-17T00:00:00.000000000",
          "2023-05-18T00:00:00.000000000",
          "2023-05-19T00:00:00.000000000",
          "2023-05-22T00:00:00.000000000",
          "2023-05-23T00:00:00.000000000",
          "2023-05-24T00:00:00.000000000",
          "2023-05-25T00:00:00.000000000",
          "2023-05-26T00:00:00.000000000",
          "2023-05-30T00:00:00.000000000",
          "2023-05-31T00:00:00.000000000",
          "2023-06-01T00:00:00.000000000",
          "2023-06-02T00:00:00.000000000",
          "2023-06-05T00:00:00.000000000",
          "2023-06-06T00:00:00.000000000",
          "2023-06-07T00:00:00.000000000",
          "2023-06-08T00:00:00.000000000",
          "2023-06-09T00:00:00.000000000",
          "2023-06-12T00:00:00.000000000",
          "2023-06-13T00:00:00.000000000",
          "2023-06-14T00:00:00.000000000",
          "2023-06-15T00:00:00.000000000",
          "2023-06-16T00:00:00.000000000",
          "2023-06-20T00:00:00.000000000",
          "2023-06-21T00:00:00.000000000",
          "2023-06-22T00:00:00.000000000",
          "2023-06-23T00:00:00.000000000",
          "2023-06-26T00:00:00.000000000",
          "2023-06-27T00:00:00.000000000",
          "2023-06-28T00:00:00.000000000",
          "2023-06-29T00:00:00.000000000",
          "2023-06-30T00:00:00.000000000",
          "2023-07-03T00:00:00.000000000",
          "2023-07-05T00:00:00.000000000",
          "2023-07-06T00:00:00.000000000",
          "2023-07-07T00:00:00.000000000",
          "2023-07-10T00:00:00.000000000",
          "2023-07-11T00:00:00.000000000",
          "2023-07-12T00:00:00.000000000",
          "2023-07-13T00:00:00.000000000",
          "2023-07-14T00:00:00.000000000",
          "2023-07-17T00:00:00.000000000",
          "2023-07-18T00:00:00.000000000",
          "2023-07-19T00:00:00.000000000",
          "2023-07-20T00:00:00.000000000",
          "2023-07-21T00:00:00.000000000",
          "2023-07-24T00:00:00.000000000",
          "2023-07-25T00:00:00.000000000",
          "2023-07-26T00:00:00.000000000",
          "2023-07-27T00:00:00.000000000",
          "2023-07-28T00:00:00.000000000",
          "2023-07-31T00:00:00.000000000",
          "2023-08-01T00:00:00.000000000",
          "2023-08-02T00:00:00.000000000",
          "2023-08-03T00:00:00.000000000",
          "2023-08-04T00:00:00.000000000",
          "2023-08-07T00:00:00.000000000",
          "2023-08-08T00:00:00.000000000",
          "2023-08-09T00:00:00.000000000",
          "2023-08-10T00:00:00.000000000",
          "2023-08-11T00:00:00.000000000",
          "2023-08-14T00:00:00.000000000",
          "2023-08-15T00:00:00.000000000",
          "2023-08-16T00:00:00.000000000",
          "2023-08-17T00:00:00.000000000",
          "2023-08-18T00:00:00.000000000",
          "2023-08-21T00:00:00.000000000",
          "2023-08-22T00:00:00.000000000",
          "2023-08-23T00:00:00.000000000",
          "2023-08-24T00:00:00.000000000",
          "2023-08-25T00:00:00.000000000",
          "2023-08-28T00:00:00.000000000",
          "2023-08-29T00:00:00.000000000",
          "2023-08-30T00:00:00.000000000",
          "2023-08-31T00:00:00.000000000",
          "2023-09-01T00:00:00.000000000",
          "2023-09-05T00:00:00.000000000",
          "2023-09-06T00:00:00.000000000",
          "2023-09-07T00:00:00.000000000",
          "2023-09-08T00:00:00.000000000",
          "2023-09-11T00:00:00.000000000",
          "2023-09-12T00:00:00.000000000",
          "2023-09-13T00:00:00.000000000",
          "2023-09-14T00:00:00.000000000",
          "2023-09-15T00:00:00.000000000",
          "2023-09-18T00:00:00.000000000",
          "2023-09-19T00:00:00.000000000",
          "2023-09-20T00:00:00.000000000",
          "2023-09-21T00:00:00.000000000",
          "2023-09-22T00:00:00.000000000",
          "2023-09-25T00:00:00.000000000",
          "2023-09-26T00:00:00.000000000",
          "2023-09-27T00:00:00.000000000",
          "2023-09-28T00:00:00.000000000",
          "2023-09-29T00:00:00.000000000",
          "2023-10-02T00:00:00.000000000",
          "2023-10-03T00:00:00.000000000",
          "2023-10-04T00:00:00.000000000",
          "2023-10-05T00:00:00.000000000",
          "2023-10-06T00:00:00.000000000",
          "2023-10-09T00:00:00.000000000",
          "2023-10-10T00:00:00.000000000",
          "2023-10-11T00:00:00.000000000",
          "2023-10-12T00:00:00.000000000",
          "2023-10-13T00:00:00.000000000",
          "2023-10-16T00:00:00.000000000",
          "2023-10-17T00:00:00.000000000",
          "2023-10-18T00:00:00.000000000",
          "2023-10-19T00:00:00.000000000",
          "2023-10-20T00:00:00.000000000",
          "2023-10-23T00:00:00.000000000",
          "2023-10-24T00:00:00.000000000",
          "2023-10-25T00:00:00.000000000",
          "2023-10-26T00:00:00.000000000",
          "2023-10-27T00:00:00.000000000",
          "2023-10-30T00:00:00.000000000",
          "2023-10-31T00:00:00.000000000",
          "2023-11-01T00:00:00.000000000",
          "2023-11-02T00:00:00.000000000",
          "2023-11-03T00:00:00.000000000",
          "2023-11-06T00:00:00.000000000",
          "2023-11-07T00:00:00.000000000",
          "2023-11-08T00:00:00.000000000",
          "2023-11-09T00:00:00.000000000",
          "2023-11-10T00:00:00.000000000",
          "2023-11-13T00:00:00.000000000",
          "2023-11-14T00:00:00.000000000",
          "2023-11-15T00:00:00.000000000",
          "2023-11-16T00:00:00.000000000",
          "2023-11-17T00:00:00.000000000",
          "2023-11-20T00:00:00.000000000",
          "2023-11-21T00:00:00.000000000",
          "2023-11-22T00:00:00.000000000",
          "2023-11-24T00:00:00.000000000",
          "2023-11-27T00:00:00.000000000",
          "2023-11-28T00:00:00.000000000",
          "2023-11-29T00:00:00.000000000",
          "2023-11-30T00:00:00.000000000",
          "2023-12-01T00:00:00.000000000",
          "2023-12-04T00:00:00.000000000",
          "2023-12-05T00:00:00.000000000",
          "2023-12-06T00:00:00.000000000",
          "2023-12-07T00:00:00.000000000",
          "2023-12-08T00:00:00.000000000",
          "2023-12-11T00:00:00.000000000",
          "2023-12-12T00:00:00.000000000",
          "2023-12-13T00:00:00.000000000",
          "2023-12-14T00:00:00.000000000",
          "2023-12-15T00:00:00.000000000",
          "2023-12-18T00:00:00.000000000",
          "2023-12-19T00:00:00.000000000",
          "2023-12-20T00:00:00.000000000",
          "2023-12-21T00:00:00.000000000",
          "2023-12-22T00:00:00.000000000",
          "2023-12-26T00:00:00.000000000",
          "2023-12-27T00:00:00.000000000",
          "2023-12-28T00:00:00.000000000",
          "2023-12-29T00:00:00.000000000",
          "2024-01-02T00:00:00.000000000",
          "2024-01-03T00:00:00.000000000",
          "2024-01-04T00:00:00.000000000",
          "2024-01-05T00:00:00.000000000",
          "2024-01-08T00:00:00.000000000",
          "2024-01-09T00:00:00.000000000",
          "2024-01-10T00:00:00.000000000",
          "2024-01-11T00:00:00.000000000",
          "2024-01-12T00:00:00.000000000",
          "2024-01-16T00:00:00.000000000",
          "2024-01-17T00:00:00.000000000",
          "2024-01-18T00:00:00.000000000",
          "2024-01-19T00:00:00.000000000",
          "2024-01-22T00:00:00.000000000",
          "2024-01-23T00:00:00.000000000",
          "2024-01-24T00:00:00.000000000",
          "2024-01-25T00:00:00.000000000",
          "2024-01-26T00:00:00.000000000",
          "2024-01-29T00:00:00.000000000",
          "2024-01-30T00:00:00.000000000",
          "2024-01-31T00:00:00.000000000",
          "2024-02-01T00:00:00.000000000",
          "2024-02-02T00:00:00.000000000",
          "2024-02-05T00:00:00.000000000",
          "2024-02-06T00:00:00.000000000",
          "2024-02-07T00:00:00.000000000",
          "2024-02-08T00:00:00.000000000",
          "2024-02-09T00:00:00.000000000",
          "2024-02-12T00:00:00.000000000",
          "2024-02-13T00:00:00.000000000",
          "2024-02-14T00:00:00.000000000",
          "2024-02-15T00:00:00.000000000",
          "2024-02-16T00:00:00.000000000",
          "2024-02-20T00:00:00.000000000",
          "2024-02-21T00:00:00.000000000",
          "2024-02-22T00:00:00.000000000",
          "2024-02-23T00:00:00.000000000",
          "2024-02-26T00:00:00.000000000",
          "2024-02-27T00:00:00.000000000",
          "2024-02-28T00:00:00.000000000",
          "2024-02-29T00:00:00.000000000",
          "2024-03-01T00:00:00.000000000",
          "2024-03-04T00:00:00.000000000",
          "2024-03-05T00:00:00.000000000",
          "2024-03-06T00:00:00.000000000",
          "2024-03-07T00:00:00.000000000",
          "2024-03-08T00:00:00.000000000",
          "2024-03-11T00:00:00.000000000",
          "2024-03-12T00:00:00.000000000",
          "2024-03-13T00:00:00.000000000",
          "2024-03-14T00:00:00.000000000",
          "2024-03-15T00:00:00.000000000",
          "2024-03-18T00:00:00.000000000",
          "2024-03-19T00:00:00.000000000",
          "2024-03-20T00:00:00.000000000",
          "2024-03-21T00:00:00.000000000",
          "2024-03-22T00:00:00.000000000",
          "2024-03-25T00:00:00.000000000",
          "2024-03-26T00:00:00.000000000",
          "2024-03-27T00:00:00.000000000",
          "2024-03-28T00:00:00.000000000",
          "2024-04-01T00:00:00.000000000",
          "2024-04-02T00:00:00.000000000",
          "2024-04-03T00:00:00.000000000",
          "2024-04-04T00:00:00.000000000",
          "2024-04-05T00:00:00.000000000",
          "2024-04-08T00:00:00.000000000",
          "2024-04-09T00:00:00.000000000",
          "2024-04-10T00:00:00.000000000",
          "2024-04-11T00:00:00.000000000",
          "2024-04-12T00:00:00.000000000",
          "2024-04-15T00:00:00.000000000",
          "2024-04-16T00:00:00.000000000",
          "2024-04-17T00:00:00.000000000",
          "2024-04-18T00:00:00.000000000",
          "2024-04-19T00:00:00.000000000",
          "2024-04-22T00:00:00.000000000",
          "2024-04-23T00:00:00.000000000",
          "2024-04-24T00:00:00.000000000",
          "2024-04-25T00:00:00.000000000",
          "2024-04-26T00:00:00.000000000",
          "2024-04-29T00:00:00.000000000",
          "2024-04-30T00:00:00.000000000",
          "2024-05-01T00:00:00.000000000",
          "2024-05-02T00:00:00.000000000",
          "2024-05-03T00:00:00.000000000",
          "2024-05-06T00:00:00.000000000",
          "2024-05-07T00:00:00.000000000",
          "2024-05-08T00:00:00.000000000",
          "2024-05-09T00:00:00.000000000",
          "2024-05-10T00:00:00.000000000",
          "2024-05-13T00:00:00.000000000",
          "2024-05-14T00:00:00.000000000",
          "2024-05-15T00:00:00.000000000",
          "2024-05-16T00:00:00.000000000",
          "2024-05-17T00:00:00.000000000",
          "2024-05-20T00:00:00.000000000",
          "2024-05-21T00:00:00.000000000",
          "2024-05-22T00:00:00.000000000",
          "2024-05-23T00:00:00.000000000",
          "2024-05-24T00:00:00.000000000",
          "2024-05-28T00:00:00.000000000",
          "2024-05-29T00:00:00.000000000",
          "2024-05-30T00:00:00.000000000",
          "2024-05-31T00:00:00.000000000",
          "2024-06-03T00:00:00.000000000",
          "2024-06-04T00:00:00.000000000",
          "2024-06-05T00:00:00.000000000",
          "2024-06-06T00:00:00.000000000",
          "2024-06-07T00:00:00.000000000",
          "2024-06-10T00:00:00.000000000",
          "2024-06-11T00:00:00.000000000",
          "2024-06-12T00:00:00.000000000",
          "2024-06-13T00:00:00.000000000",
          "2024-06-14T00:00:00.000000000",
          "2024-06-17T00:00:00.000000000",
          "2024-06-18T00:00:00.000000000",
          "2024-06-20T00:00:00.000000000",
          "2024-06-21T00:00:00.000000000",
          "2024-06-24T00:00:00.000000000",
          "2024-06-25T00:00:00.000000000",
          "2024-06-26T00:00:00.000000000",
          "2024-06-27T00:00:00.000000000",
          "2024-06-28T00:00:00.000000000",
          "2024-07-01T00:00:00.000000000",
          "2024-07-02T00:00:00.000000000",
          "2024-07-03T00:00:00.000000000",
          "2024-07-05T00:00:00.000000000",
          "2024-07-08T00:00:00.000000000",
          "2024-07-09T00:00:00.000000000",
          "2024-07-10T00:00:00.000000000",
          "2024-07-11T00:00:00.000000000",
          "2024-07-12T00:00:00.000000000",
          "2024-07-15T00:00:00.000000000",
          "2024-07-16T00:00:00.000000000",
          "2024-07-17T00:00:00.000000000",
          "2024-07-18T00:00:00.000000000",
          "2024-07-19T00:00:00.000000000",
          "2024-07-22T00:00:00.000000000",
          "2024-07-23T00:00:00.000000000",
          "2024-07-24T00:00:00.000000000",
          "2024-07-25T00:00:00.000000000",
          "2024-07-26T00:00:00.000000000",
          "2024-07-29T00:00:00.000000000",
          "2024-07-30T00:00:00.000000000",
          "2024-07-31T00:00:00.000000000",
          "2024-08-01T00:00:00.000000000",
          "2024-08-02T00:00:00.000000000",
          "2024-08-05T00:00:00.000000000",
          "2024-08-06T00:00:00.000000000",
          "2024-08-07T00:00:00.000000000",
          "2024-08-08T00:00:00.000000000",
          "2024-08-09T00:00:00.000000000",
          "2024-08-12T00:00:00.000000000",
          "2024-08-13T00:00:00.000000000",
          "2024-08-14T00:00:00.000000000",
          "2024-08-15T00:00:00.000000000",
          "2024-08-16T00:00:00.000000000",
          "2024-08-19T00:00:00.000000000",
          "2024-08-20T00:00:00.000000000",
          "2024-08-21T00:00:00.000000000",
          "2024-08-22T00:00:00.000000000",
          "2024-08-23T00:00:00.000000000",
          "2024-08-26T00:00:00.000000000",
          "2024-08-27T00:00:00.000000000",
          "2024-08-28T00:00:00.000000000",
          "2024-08-29T00:00:00.000000000",
          "2024-08-30T00:00:00.000000000",
          "2024-09-03T00:00:00.000000000",
          "2024-09-04T00:00:00.000000000",
          "2024-09-05T00:00:00.000000000",
          "2024-09-06T00:00:00.000000000",
          "2024-09-09T00:00:00.000000000",
          "2024-09-10T00:00:00.000000000",
          "2024-09-11T00:00:00.000000000",
          "2024-09-12T00:00:00.000000000",
          "2024-09-13T00:00:00.000000000",
          "2024-09-16T00:00:00.000000000",
          "2024-09-17T00:00:00.000000000",
          "2024-09-18T00:00:00.000000000",
          "2024-09-19T00:00:00.000000000",
          "2024-09-20T00:00:00.000000000",
          "2024-09-23T00:00:00.000000000",
          "2024-09-24T00:00:00.000000000",
          "2024-09-25T00:00:00.000000000",
          "2024-09-26T00:00:00.000000000",
          "2024-09-27T00:00:00.000000000",
          "2024-09-30T00:00:00.000000000",
          "2024-10-01T00:00:00.000000000",
          "2024-10-02T00:00:00.000000000",
          "2024-10-03T00:00:00.000000000",
          "2024-10-04T00:00:00.000000000",
          "2024-10-07T00:00:00.000000000",
          "2024-10-08T00:00:00.000000000",
          "2024-10-09T00:00:00.000000000",
          "2024-10-10T00:00:00.000000000",
          "2024-10-11T00:00:00.000000000",
          "2024-10-14T00:00:00.000000000",
          "2024-10-15T00:00:00.000000000",
          "2024-10-16T00:00:00.000000000",
          "2024-10-17T00:00:00.000000000",
          "2024-10-18T00:00:00.000000000",
          "2024-10-21T00:00:00.000000000",
          "2024-10-22T00:00:00.000000000",
          "2024-10-23T00:00:00.000000000",
          "2024-10-24T00:00:00.000000000",
          "2024-10-25T00:00:00.000000000",
          "2024-10-28T00:00:00.000000000",
          "2024-10-29T00:00:00.000000000",
          "2024-10-30T00:00:00.000000000",
          "2024-10-31T00:00:00.000000000",
          "2024-11-01T00:00:00.000000000",
          "2024-11-04T00:00:00.000000000",
          "2024-11-05T00:00:00.000000000",
          "2024-11-06T00:00:00.000000000",
          "2024-11-07T00:00:00.000000000",
          "2024-11-08T00:00:00.000000000",
          "2024-11-11T00:00:00.000000000",
          "2024-11-12T00:00:00.000000000",
          "2024-11-13T00:00:00.000000000",
          "2024-11-14T00:00:00.000000000",
          "2024-11-15T00:00:00.000000000",
          "2024-11-18T00:00:00.000000000",
          "2024-11-19T00:00:00.000000000",
          "2024-11-20T00:00:00.000000000",
          "2024-11-21T00:00:00.000000000",
          "2024-11-22T00:00:00.000000000",
          "2024-11-25T00:00:00.000000000",
          "2024-11-26T00:00:00.000000000",
          "2024-11-27T00:00:00.000000000",
          "2024-11-29T00:00:00.000000000",
          "2024-12-02T00:00:00.000000000",
          "2024-12-03T00:00:00.000000000",
          "2024-12-04T00:00:00.000000000",
          "2024-12-05T00:00:00.000000000",
          "2024-12-06T00:00:00.000000000",
          "2024-12-09T00:00:00.000000000",
          "2024-12-10T00:00:00.000000000",
          "2024-12-11T00:00:00.000000000",
          "2024-12-12T00:00:00.000000000",
          "2024-12-13T00:00:00.000000000",
          "2024-12-16T00:00:00.000000000",
          "2024-12-17T00:00:00.000000000",
          "2024-12-18T00:00:00.000000000",
          "2024-12-19T00:00:00.000000000",
          "2024-12-20T00:00:00.000000000",
          "2024-12-23T00:00:00.000000000",
          "2024-12-24T00:00:00.000000000",
          "2024-12-26T00:00:00.000000000",
          "2024-12-27T00:00:00.000000000",
          "2024-12-30T00:00:00.000000000",
          "2024-12-31T00:00:00.000000000",
          "2025-01-02T00:00:00.000000000",
          "2025-01-03T00:00:00.000000000",
          "2025-01-06T00:00:00.000000000",
          "2025-01-07T00:00:00.000000000",
          "2025-01-08T00:00:00.000000000",
          "2025-01-10T00:00:00.000000000",
          "2025-01-13T00:00:00.000000000",
          "2025-01-14T00:00:00.000000000",
          "2025-01-15T00:00:00.000000000",
          "2025-01-16T00:00:00.000000000",
          "2025-01-17T00:00:00.000000000",
          "2025-01-21T00:00:00.000000000",
          "2025-01-22T00:00:00.000000000",
          "2025-01-23T00:00:00.000000000",
          "2025-01-24T00:00:00.000000000",
          "2025-01-27T00:00:00.000000000",
          "2025-01-28T00:00:00.000000000",
          "2025-01-29T00:00:00.000000000",
          "2025-01-30T00:00:00.000000000",
          "2025-01-31T00:00:00.000000000",
          "2025-02-03T00:00:00.000000000",
          "2025-02-04T00:00:00.000000000",
          "2025-02-05T00:00:00.000000000",
          "2025-02-06T00:00:00.000000000",
          "2025-02-07T00:00:00.000000000",
          "2025-02-10T00:00:00.000000000",
          "2025-02-11T00:00:00.000000000",
          "2025-02-12T00:00:00.000000000",
          "2025-02-13T00:00:00.000000000",
          "2025-02-14T00:00:00.000000000",
          "2025-02-18T00:00:00.000000000",
          "2025-02-19T00:00:00.000000000",
          "2025-02-20T00:00:00.000000000",
          "2025-02-21T00:00:00.000000000",
          "2025-02-24T00:00:00.000000000",
          "2025-02-25T00:00:00.000000000",
          "2025-02-26T00:00:00.000000000",
          "2025-02-27T00:00:00.000000000",
          "2025-02-28T00:00:00.000000000",
          "2025-03-03T00:00:00.000000000",
          "2025-03-04T00:00:00.000000000",
          "2025-03-05T00:00:00.000000000",
          "2025-03-06T00:00:00.000000000",
          "2025-03-07T00:00:00.000000000",
          "2025-03-10T00:00:00.000000000",
          "2025-03-11T00:00:00.000000000",
          "2025-03-12T00:00:00.000000000",
          "2025-03-13T00:00:00.000000000",
          "2025-03-14T00:00:00.000000000",
          "2025-03-17T00:00:00.000000000",
          "2025-03-18T00:00:00.000000000",
          "2025-03-19T00:00:00.000000000",
          "2025-03-20T00:00:00.000000000",
          "2025-03-21T00:00:00.000000000",
          "2025-03-24T00:00:00.000000000",
          "2025-03-25T00:00:00.000000000",
          "2025-03-26T00:00:00.000000000",
          "2025-03-27T00:00:00.000000000",
          "2025-03-28T00:00:00.000000000",
          "2025-03-31T00:00:00.000000000",
          "2025-04-01T00:00:00.000000000",
          "2025-04-02T00:00:00.000000000",
          "2025-04-03T00:00:00.000000000",
          "2025-04-04T00:00:00.000000000",
          "2025-04-07T00:00:00.000000000",
          "2025-04-08T00:00:00.000000000",
          "2025-04-09T00:00:00.000000000",
          "2025-04-10T00:00:00.000000000",
          "2025-04-11T00:00:00.000000000",
          "2025-04-14T00:00:00.000000000",
          "2025-04-15T00:00:00.000000000",
          "2025-04-16T00:00:00.000000000",
          "2025-04-17T00:00:00.000000000",
          "2025-04-21T00:00:00.000000000",
          "2025-04-22T00:00:00.000000000",
          "2025-04-23T00:00:00.000000000",
          "2025-04-24T00:00:00.000000000",
          "2025-04-25T00:00:00.000000000",
          "2025-04-28T00:00:00.000000000",
          "2025-04-29T00:00:00.000000000",
          "2025-04-30T00:00:00.000000000",
          "2025-05-01T00:00:00.000000000",
          "2025-05-02T00:00:00.000000000",
          "2025-05-05T00:00:00.000000000",
          "2025-05-06T00:00:00.000000000",
          "2025-05-07T00:00:00.000000000",
          "2025-05-08T00:00:00.000000000",
          "2025-05-09T00:00:00.000000000",
          "2025-05-12T00:00:00.000000000",
          "2025-05-13T00:00:00.000000000",
          "2025-05-14T00:00:00.000000000",
          "2025-05-15T00:00:00.000000000",
          "2025-05-16T00:00:00.000000000",
          "2025-05-19T00:00:00.000000000",
          "2025-05-20T00:00:00.000000000",
          "2025-05-21T00:00:00.000000000",
          "2025-05-22T00:00:00.000000000",
          "2025-05-23T00:00:00.000000000",
          "2025-05-27T00:00:00.000000000",
          "2025-05-28T00:00:00.000000000",
          "2025-05-29T00:00:00.000000000",
          "2025-05-30T00:00:00.000000000",
          "2025-06-02T00:00:00.000000000",
          "2025-06-03T00:00:00.000000000",
          "2025-06-04T00:00:00.000000000",
          "2025-06-05T00:00:00.000000000",
          "2025-06-06T00:00:00.000000000",
          "2025-06-09T00:00:00.000000000",
          "2025-06-10T00:00:00.000000000",
          "2025-06-11T00:00:00.000000000",
          "2025-06-12T00:00:00.000000000",
          "2025-06-13T00:00:00.000000000",
          "2025-06-16T00:00:00.000000000",
          "2025-06-17T00:00:00.000000000",
          "2025-06-18T00:00:00.000000000",
          "2025-06-20T00:00:00.000000000",
          "2025-06-23T00:00:00.000000000",
          "2025-06-24T00:00:00.000000000",
          "2025-06-25T00:00:00.000000000",
          "2025-06-26T00:00:00.000000000",
          "2025-06-27T00:00:00.000000000",
          "2025-06-30T00:00:00.000000000",
          "2025-07-01T00:00:00.000000000",
          "2025-07-02T00:00:00.000000000",
          "2025-07-03T00:00:00.000000000",
          "2025-07-07T00:00:00.000000000",
          "2025-07-08T00:00:00.000000000",
          "2025-07-09T00:00:00.000000000",
          "2025-07-10T00:00:00.000000000",
          "2025-07-11T00:00:00.000000000",
          "2025-07-14T00:00:00.000000000",
          "2025-07-15T00:00:00.000000000",
          "2025-07-16T00:00:00.000000000",
          "2025-07-17T00:00:00.000000000",
          "2025-07-18T00:00:00.000000000",
          "2025-07-21T00:00:00.000000000",
          "2025-07-22T00:00:00.000000000",
          "2025-07-23T00:00:00.000000000",
          "2025-07-24T00:00:00.000000000",
          "2025-07-25T00:00:00.000000000",
          "2025-07-28T00:00:00.000000000",
          "2025-07-29T00:00:00.000000000",
          "2025-07-30T00:00:00.000000000",
          "2025-07-31T00:00:00.000000000",
          "2025-08-01T00:00:00.000000000",
          "2025-08-04T00:00:00.000000000",
          "2025-08-05T00:00:00.000000000",
          "2025-08-06T00:00:00.000000000",
          "2025-08-07T00:00:00.000000000",
          "2025-08-08T00:00:00.000000000",
          "2025-08-11T00:00:00.000000000",
          "2025-08-12T00:00:00.000000000",
          "2025-08-13T00:00:00.000000000",
          "2025-08-14T00:00:00.000000000",
          "2025-08-15T00:00:00.000000000",
          "2025-08-18T00:00:00.000000000",
          "2025-08-19T00:00:00.000000000",
          "2025-08-20T00:00:00.000000000",
          "2025-08-21T00:00:00.000000000",
          "2025-08-22T00:00:00.000000000",
          "2025-08-25T00:00:00.000000000",
          "2025-08-26T00:00:00.000000000",
          "2025-08-27T00:00:00.000000000",
          "2025-08-28T00:00:00.000000000",
          "2025-08-29T00:00:00.000000000",
          "2025-09-02T00:00:00.000000000",
          "2025-09-03T00:00:00.000000000",
          "2025-09-04T00:00:00.000000000",
          "2025-09-05T00:00:00.000000000",
          "2025-09-08T00:00:00.000000000",
          "2025-09-09T00:00:00.000000000",
          "2025-09-10T00:00:00.000000000",
          "2025-09-11T00:00:00.000000000",
          "2025-09-12T00:00:00.000000000",
          "2025-09-15T00:00:00.000000000",
          "2025-09-16T00:00:00.000000000",
          "2025-09-17T00:00:00.000000000",
          "2025-09-18T00:00:00.000000000",
          "2025-09-19T00:00:00.000000000",
          "2025-09-22T00:00:00.000000000",
          "2025-09-23T00:00:00.000000000",
          "2025-09-24T00:00:00.000000000",
          "2025-09-25T00:00:00.000000000",
          "2025-09-26T00:00:00.000000000",
          "2025-09-29T00:00:00.000000000",
          "2025-09-30T00:00:00.000000000"
         ],
         "xaxis": "x3",
         "y": {
          "bdata": "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",
          "dtype": "f8"
         },
         "yaxis": "y3"
        },
        {
         "line": {
          "color": "red"
         },
         "name": "Signal",
         "type": "scatter",
         "x": [
          "2022-12-09T00:00:00.000000000",
          "2022-12-12T00:00:00.000000000",
          "2022-12-13T00:00:00.000000000",
          "2022-12-14T00:00:00.000000000",
          "2022-12-15T00:00:00.000000000",
          "2022-12-16T00:00:00.000000000",
          "2022-12-19T00:00:00.000000000",
          "2022-12-20T00:00:00.000000000",
          "2022-12-21T00:00:00.000000000",
          "2022-12-22T00:00:00.000000000",
          "2022-12-23T00:00:00.000000000",
          "2022-12-27T00:00:00.000000000",
          "2022-12-28T00:00:00.000000000",
          "2022-12-29T00:00:00.000000000",
          "2022-12-30T00:00:00.000000000",
          "2023-01-03T00:00:00.000000000",
          "2023-01-04T00:00:00.000000000",
          "2023-01-05T00:00:00.000000000",
          "2023-01-06T00:00:00.000000000",
          "2023-01-09T00:00:00.000000000",
          "2023-01-10T00:00:00.000000000",
          "2023-01-11T00:00:00.000000000",
          "2023-01-12T00:00:00.000000000",
          "2023-01-13T00:00:00.000000000",
          "2023-01-17T00:00:00.000000000",
          "2023-01-18T00:00:00.000000000",
          "2023-01-19T00:00:00.000000000",
          "2023-01-20T00:00:00.000000000",
          "2023-01-23T00:00:00.000000000",
          "2023-01-24T00:00:00.000000000",
          "2023-01-25T00:00:00.000000000",
          "2023-01-26T00:00:00.000000000",
          "2023-01-27T00:00:00.000000000",
          "2023-01-30T00:00:00.000000000",
          "2023-01-31T00:00:00.000000000",
          "2023-02-01T00:00:00.000000000",
          "2023-02-02T00:00:00.000000000",
          "2023-02-03T00:00:00.000000000",
          "2023-02-06T00:00:00.000000000",
          "2023-02-07T00:00:00.000000000",
          "2023-02-08T00:00:00.000000000",
          "2023-02-09T00:00:00.000000000",
          "2023-02-10T00:00:00.000000000",
          "2023-02-13T00:00:00.000000000",
          "2023-02-14T00:00:00.000000000",
          "2023-02-15T00:00:00.000000000",
          "2023-02-16T00:00:00.000000000",
          "2023-02-17T00:00:00.000000000",
          "2023-02-21T00:00:00.000000000",
          "2023-02-22T00:00:00.000000000",
          "2023-02-23T00:00:00.000000000",
          "2023-02-24T00:00:00.000000000",
          "2023-02-27T00:00:00.000000000",
          "2023-02-28T00:00:00.000000000",
          "2023-03-01T00:00:00.000000000",
          "2023-03-02T00:00:00.000000000",
          "2023-03-03T00:00:00.000000000",
          "2023-03-06T00:00:00.000000000",
          "2023-03-07T00:00:00.000000000",
          "2023-03-08T00:00:00.000000000",
          "2023-03-09T00:00:00.000000000",
          "2023-03-10T00:00:00.000000000",
          "2023-03-13T00:00:00.000000000",
          "2023-03-14T00:00:00.000000000",
          "2023-03-15T00:00:00.000000000",
          "2023-03-16T00:00:00.000000000",
          "2023-03-17T00:00:00.000000000",
          "2023-03-20T00:00:00.000000000",
          "2023-03-21T00:00:00.000000000",
          "2023-03-22T00:00:00.000000000",
          "2023-03-23T00:00:00.000000000",
          "2023-03-24T00:00:00.000000000",
          "2023-03-27T00:00:00.000000000",
          "2023-03-28T00:00:00.000000000",
          "2023-03-29T00:00:00.000000000",
          "2023-03-30T00:00:00.000000000",
          "2023-03-31T00:00:00.000000000",
          "2023-04-03T00:00:00.000000000",
          "2023-04-04T00:00:00.000000000",
          "2023-04-05T00:00:00.000000000",
          "2023-04-06T00:00:00.000000000",
          "2023-04-10T00:00:00.000000000",
          "2023-04-11T00:00:00.000000000",
          "2023-04-12T00:00:00.000000000",
          "2023-04-13T00:00:00.000000000",
          "2023-04-14T00:00:00.000000000",
          "2023-04-17T00:00:00.000000000",
          "2023-04-18T00:00:00.000000000",
          "2023-04-19T00:00:00.000000000",
          "2023-04-20T00:00:00.000000000",
          "2023-04-21T00:00:00.000000000",
          "2023-04-24T00:00:00.000000000",
          "2023-04-25T00:00:00.000000000",
          "2023-04-26T00:00:00.000000000",
          "2023-04-27T00:00:00.000000000",
          "2023-04-28T00:00:00.000000000",
          "2023-05-01T00:00:00.000000000",
          "2023-05-02T00:00:00.000000000",
          "2023-05-03T00:00:00.000000000",
          "2023-05-04T00:00:00.000000000",
          "2023-05-05T00:00:00.000000000",
          "2023-05-08T00:00:00.000000000",
          "2023-05-09T00:00:00.000000000",
          "2023-05-10T00:00:00.000000000",
          "2023-05-11T00:00:00.000000000",
          "2023-05-12T00:00:00.000000000",
          "2023-05-15T00:00:00.000000000",
          "2023-05-16T00:00:00.000000000",
          "2023-05-17T00:00:00.000000000",
          "2023-05-18T00:00:00.000000000",
          "2023-05-19T00:00:00.000000000",
          "2023-05-22T00:00:00.000000000",
          "2023-05-23T00:00:00.000000000",
          "2023-05-24T00:00:00.000000000",
          "2023-05-25T00:00:00.000000000",
          "2023-05-26T00:00:00.000000000",
          "2023-05-30T00:00:00.000000000",
          "2023-05-31T00:00:00.000000000",
          "2023-06-01T00:00:00.000000000",
          "2023-06-02T00:00:00.000000000",
          "2023-06-05T00:00:00.000000000",
          "2023-06-06T00:00:00.000000000",
          "2023-06-07T00:00:00.000000000",
          "2023-06-08T00:00:00.000000000",
          "2023-06-09T00:00:00.000000000",
          "2023-06-12T00:00:00.000000000",
          "2023-06-13T00:00:00.000000000",
          "2023-06-14T00:00:00.000000000",
          "2023-06-15T00:00:00.000000000",
          "2023-06-16T00:00:00.000000000",
          "2023-06-20T00:00:00.000000000",
          "2023-06-21T00:00:00.000000000",
          "2023-06-22T00:00:00.000000000",
          "2023-06-23T00:00:00.000000000",
          "2023-06-26T00:00:00.000000000",
          "2023-06-27T00:00:00.000000000",
          "2023-06-28T00:00:00.000000000",
          "2023-06-29T00:00:00.000000000",
          "2023-06-30T00:00:00.000000000",
          "2023-07-03T00:00:00.000000000",
          "2023-07-05T00:00:00.000000000",
          "2023-07-06T00:00:00.000000000",
          "2023-07-07T00:00:00.000000000",
          "2023-07-10T00:00:00.000000000",
          "2023-07-11T00:00:00.000000000",
          "2023-07-12T00:00:00.000000000",
          "2023-07-13T00:00:00.000000000",
          "2023-07-14T00:00:00.000000000",
          "2023-07-17T00:00:00.000000000",
          "2023-07-18T00:00:00.000000000",
          "2023-07-19T00:00:00.000000000",
          "2023-07-20T00:00:00.000000000",
          "2023-07-21T00:00:00.000000000",
          "2023-07-24T00:00:00.000000000",
          "2023-07-25T00:00:00.000000000",
          "2023-07-26T00:00:00.000000000",
          "2023-07-27T00:00:00.000000000",
          "2023-07-28T00:00:00.000000000",
          "2023-07-31T00:00:00.000000000",
          "2023-08-01T00:00:00.000000000",
          "2023-08-02T00:00:00.000000000",
          "2023-08-03T00:00:00.000000000",
          "2023-08-04T00:00:00.000000000",
          "2023-08-07T00:00:00.000000000",
          "2023-08-08T00:00:00.000000000",
          "2023-08-09T00:00:00.000000000",
          "2023-08-10T00:00:00.000000000",
          "2023-08-11T00:00:00.000000000",
          "2023-08-14T00:00:00.000000000",
          "2023-08-15T00:00:00.000000000",
          "2023-08-16T00:00:00.000000000",
          "2023-08-17T00:00:00.000000000",
          "2023-08-18T00:00:00.000000000",
          "2023-08-21T00:00:00.000000000",
          "2023-08-22T00:00:00.000000000",
          "2023-08-23T00:00:00.000000000",
          "2023-08-24T00:00:00.000000000",
          "2023-08-25T00:00:00.000000000",
          "2023-08-28T00:00:00.000000000",
          "2023-08-29T00:00:00.000000000",
          "2023-08-30T00:00:00.000000000",
          "2023-08-31T00:00:00.000000000",
          "2023-09-01T00:00:00.000000000",
          "2023-09-05T00:00:00.000000000",
          "2023-09-06T00:00:00.000000000",
          "2023-09-07T00:00:00.000000000",
          "2023-09-08T00:00:00.000000000",
          "2023-09-11T00:00:00.000000000",
          "2023-09-12T00:00:00.000000000",
          "2023-09-13T00:00:00.000000000",
          "2023-09-14T00:00:00.000000000",
          "2023-09-15T00:00:00.000000000",
          "2023-09-18T00:00:00.000000000",
          "2023-09-19T00:00:00.000000000",
          "2023-09-20T00:00:00.000000000",
          "2023-09-21T00:00:00.000000000",
          "2023-09-22T00:00:00.000000000",
          "2023-09-25T00:00:00.000000000",
          "2023-09-26T00:00:00.000000000",
          "2023-09-27T00:00:00.000000000",
          "2023-09-28T00:00:00.000000000",
          "2023-09-29T00:00:00.000000000",
          "2023-10-02T00:00:00.000000000",
          "2023-10-03T00:00:00.000000000",
          "2023-10-04T00:00:00.000000000",
          "2023-10-05T00:00:00.000000000",
          "2023-10-06T00:00:00.000000000",
          "2023-10-09T00:00:00.000000000",
          "2023-10-10T00:00:00.000000000",
          "2023-10-11T00:00:00.000000000",
          "2023-10-12T00:00:00.000000000",
          "2023-10-13T00:00:00.000000000",
          "2023-10-16T00:00:00.000000000",
          "2023-10-17T00:00:00.000000000",
          "2023-10-18T00:00:00.000000000",
          "2023-10-19T00:00:00.000000000",
          "2023-10-20T00:00:00.000000000",
          "2023-10-23T00:00:00.000000000",
          "2023-10-24T00:00:00.000000000",
          "2023-10-25T00:00:00.000000000",
          "2023-10-26T00:00:00.000000000",
          "2023-10-27T00:00:00.000000000",
          "2023-10-30T00:00:00.000000000",
          "2023-10-31T00:00:00.000000000",
          "2023-11-01T00:00:00.000000000",
          "2023-11-02T00:00:00.000000000",
          "2023-11-03T00:00:00.000000000",
          "2023-11-06T00:00:00.000000000",
          "2023-11-07T00:00:00.000000000",
          "2023-11-08T00:00:00.000000000",
          "2023-11-09T00:00:00.000000000",
          "2023-11-10T00:00:00.000000000",
          "2023-11-13T00:00:00.000000000",
          "2023-11-14T00:00:00.000000000",
          "2023-11-15T00:00:00.000000000",
          "2023-11-16T00:00:00.000000000",
          "2023-11-17T00:00:00.000000000",
          "2023-11-20T00:00:00.000000000",
          "2023-11-21T00:00:00.000000000",
          "2023-11-22T00:00:00.000000000",
          "2023-11-24T00:00:00.000000000",
          "2023-11-27T00:00:00.000000000",
          "2023-11-28T00:00:00.000000000",
          "2023-11-29T00:00:00.000000000",
          "2023-11-30T00:00:00.000000000",
          "2023-12-01T00:00:00.000000000",
          "2023-12-04T00:00:00.000000000",
          "2023-12-05T00:00:00.000000000",
          "2023-12-06T00:00:00.000000000",
          "2023-12-07T00:00:00.000000000",
          "2023-12-08T00:00:00.000000000",
          "2023-12-11T00:00:00.000000000",
          "2023-12-12T00:00:00.000000000",
          "2023-12-13T00:00:00.000000000",
          "2023-12-14T00:00:00.000000000",
          "2023-12-15T00:00:00.000000000",
          "2023-12-18T00:00:00.000000000",
          "2023-12-19T00:00:00.000000000",
          "2023-12-20T00:00:00.000000000",
          "2023-12-21T00:00:00.000000000",
          "2023-12-22T00:00:00.000000000",
          "2023-12-26T00:00:00.000000000",
          "2023-12-27T00:00:00.000000000",
          "2023-12-28T00:00:00.000000000",
          "2023-12-29T00:00:00.000000000",
          "2024-01-02T00:00:00.000000000",
          "2024-01-03T00:00:00.000000000",
          "2024-01-04T00:00:00.000000000",
          "2024-01-05T00:00:00.000000000",
          "2024-01-08T00:00:00.000000000",
          "2024-01-09T00:00:00.000000000",
          "2024-01-10T00:00:00.000000000",
          "2024-01-11T00:00:00.000000000",
          "2024-01-12T00:00:00.000000000",
          "2024-01-16T00:00:00.000000000",
          "2024-01-17T00:00:00.000000000",
          "2024-01-18T00:00:00.000000000",
          "2024-01-19T00:00:00.000000000",
          "2024-01-22T00:00:00.000000000",
          "2024-01-23T00:00:00.000000000",
          "2024-01-24T00:00:00.000000000",
          "2024-01-25T00:00:00.000000000",
          "2024-01-26T00:00:00.000000000",
          "2024-01-29T00:00:00.000000000",
          "2024-01-30T00:00:00.000000000",
          "2024-01-31T00:00:00.000000000",
          "2024-02-01T00:00:00.000000000",
          "2024-02-02T00:00:00.000000000",
          "2024-02-05T00:00:00.000000000",
          "2024-02-06T00:00:00.000000000",
          "2024-02-07T00:00:00.000000000",
          "2024-02-08T00:00:00.000000000",
          "2024-02-09T00:00:00.000000000",
          "2024-02-12T00:00:00.000000000",
          "2024-02-13T00:00:00.000000000",
          "2024-02-14T00:00:00.000000000",
          "2024-02-15T00:00:00.000000000",
          "2024-02-16T00:00:00.000000000",
          "2024-02-20T00:00:00.000000000",
          "2024-02-21T00:00:00.000000000",
          "2024-02-22T00:00:00.000000000",
          "2024-02-23T00:00:00.000000000",
          "2024-02-26T00:00:00.000000000",
          "2024-02-27T00:00:00.000000000",
          "2024-02-28T00:00:00.000000000",
          "2024-02-29T00:00:00.000000000",
          "2024-03-01T00:00:00.000000000",
          "2024-03-04T00:00:00.000000000",
          "2024-03-05T00:00:00.000000000",
          "2024-03-06T00:00:00.000000000",
          "2024-03-07T00:00:00.000000000",
          "2024-03-08T00:00:00.000000000",
          "2024-03-11T00:00:00.000000000",
          "2024-03-12T00:00:00.000000000",
          "2024-03-13T00:00:00.000000000",
          "2024-03-14T00:00:00.000000000",
          "2024-03-15T00:00:00.000000000",
          "2024-03-18T00:00:00.000000000",
          "2024-03-19T00:00:00.000000000",
          "2024-03-20T00:00:00.000000000",
          "2024-03-21T00:00:00.000000000",
          "2024-03-22T00:00:00.000000000",
          "2024-03-25T00:00:00.000000000",
          "2024-03-26T00:00:00.000000000",
          "2024-03-27T00:00:00.000000000",
          "2024-03-28T00:00:00.000000000",
          "2024-04-01T00:00:00.000000000",
          "2024-04-02T00:00:00.000000000",
          "2024-04-03T00:00:00.000000000",
          "2024-04-04T00:00:00.000000000",
          "2024-04-05T00:00:00.000000000",
          "2024-04-08T00:00:00.000000000",
          "2024-04-09T00:00:00.000000000",
          "2024-04-10T00:00:00.000000000",
          "2024-04-11T00:00:00.000000000",
          "2024-04-12T00:00:00.000000000",
          "2024-04-15T00:00:00.000000000",
          "2024-04-16T00:00:00.000000000",
          "2024-04-17T00:00:00.000000000",
          "2024-04-18T00:00:00.000000000",
          "2024-04-19T00:00:00.000000000",
          "2024-04-22T00:00:00.000000000",
          "2024-04-23T00:00:00.000000000",
          "2024-04-24T00:00:00.000000000",
          "2024-04-25T00:00:00.000000000",
          "2024-04-26T00:00:00.000000000",
          "2024-04-29T00:00:00.000000000",
          "2024-04-30T00:00:00.000000000",
          "2024-05-01T00:00:00.000000000",
          "2024-05-02T00:00:00.000000000",
          "2024-05-03T00:00:00.000000000",
          "2024-05-06T00:00:00.000000000",
          "2024-05-07T00:00:00.000000000",
          "2024-05-08T00:00:00.000000000",
          "2024-05-09T00:00:00.000000000",
          "2024-05-10T00:00:00.000000000",
          "2024-05-13T00:00:00.000000000",
          "2024-05-14T00:00:00.000000000",
          "2024-05-15T00:00:00.000000000",
          "2024-05-16T00:00:00.000000000",
          "2024-05-17T00:00:00.000000000",
          "2024-05-20T00:00:00.000000000",
          "2024-05-21T00:00:00.000000000",
          "2024-05-22T00:00:00.000000000",
          "2024-05-23T00:00:00.000000000",
          "2024-05-24T00:00:00.000000000",
          "2024-05-28T00:00:00.000000000",
          "2024-05-29T00:00:00.000000000",
          "2024-05-30T00:00:00.000000000",
          "2024-05-31T00:00:00.000000000",
          "2024-06-03T00:00:00.000000000",
          "2024-06-04T00:00:00.000000000",
          "2024-06-05T00:00:00.000000000",
          "2024-06-06T00:00:00.000000000",
          "2024-06-07T00:00:00.000000000",
          "2024-06-10T00:00:00.000000000",
          "2024-06-11T00:00:00.000000000",
          "2024-06-12T00:00:00.000000000",
          "2024-06-13T00:00:00.000000000",
          "2024-06-14T00:00:00.000000000",
          "2024-06-17T00:00:00.000000000",
          "2024-06-18T00:00:00.000000000",
          "2024-06-20T00:00:00.000000000",
          "2024-06-21T00:00:00.000000000",
          "2024-06-24T00:00:00.000000000",
          "2024-06-25T00:00:00.000000000",
          "2024-06-26T00:00:00.000000000",
          "2024-06-27T00:00:00.000000000",
          "2024-06-28T00:00:00.000000000",
          "2024-07-01T00:00:00.000000000",
          "2024-07-02T00:00:00.000000000",
          "2024-07-03T00:00:00.000000000",
          "2024-07-05T00:00:00.000000000",
          "2024-07-08T00:00:00.000000000",
          "2024-07-09T00:00:00.000000000",
          "2024-07-10T00:00:00.000000000",
          "2024-07-11T00:00:00.000000000",
          "2024-07-12T00:00:00.000000000",
          "2024-07-15T00:00:00.000000000",
          "2024-07-16T00:00:00.000000000",
          "2024-07-17T00:00:00.000000000",
          "2024-07-18T00:00:00.000000000",
          "2024-07-19T00:00:00.000000000",
          "2024-07-22T00:00:00.000000000",
          "2024-07-23T00:00:00.000000000",
          "2024-07-24T00:00:00.000000000",
          "2024-07-25T00:00:00.000000000",
          "2024-07-26T00:00:00.000000000",
          "2024-07-29T00:00:00.000000000",
          "2024-07-30T00:00:00.000000000",
          "2024-07-31T00:00:00.000000000",
          "2024-08-01T00:00:00.000000000",
          "2024-08-02T00:00:00.000000000",
          "2024-08-05T00:00:00.000000000",
          "2024-08-06T00:00:00.000000000",
          "2024-08-07T00:00:00.000000000",
          "2024-08-08T00:00:00.000000000",
          "2024-08-09T00:00:00.000000000",
          "2024-08-12T00:00:00.000000000",
          "2024-08-13T00:00:00.000000000",
          "2024-08-14T00:00:00.000000000",
          "2024-08-15T00:00:00.000000000",
          "2024-08-16T00:00:00.000000000",
          "2024-08-19T00:00:00.000000000",
          "2024-08-20T00:00:00.000000000",
          "2024-08-21T00:00:00.000000000",
          "2024-08-22T00:00:00.000000000",
          "2024-08-23T00:00:00.000000000",
          "2024-08-26T00:00:00.000000000",
          "2024-08-27T00:00:00.000000000",
          "2024-08-28T00:00:00.000000000",
          "2024-08-29T00:00:00.000000000",
          "2024-08-30T00:00:00.000000000",
          "2024-09-03T00:00:00.000000000",
          "2024-09-04T00:00:00.000000000",
          "2024-09-05T00:00:00.000000000",
          "2024-09-06T00:00:00.000000000",
          "2024-09-09T00:00:00.000000000",
          "2024-09-10T00:00:00.000000000",
          "2024-09-11T00:00:00.000000000",
          "2024-09-12T00:00:00.000000000",
          "2024-09-13T00:00:00.000000000",
          "2024-09-16T00:00:00.000000000",
          "2024-09-17T00:00:00.000000000",
          "2024-09-18T00:00:00.000000000",
          "2024-09-19T00:00:00.000000000",
          "2024-09-20T00:00:00.000000000",
          "2024-09-23T00:00:00.000000000",
          "2024-09-24T00:00:00.000000000",
          "2024-09-25T00:00:00.000000000",
          "2024-09-26T00:00:00.000000000",
          "2024-09-27T00:00:00.000000000",
          "2024-09-30T00:00:00.000000000",
          "2024-10-01T00:00:00.000000000",
          "2024-10-02T00:00:00.000000000",
          "2024-10-03T00:00:00.000000000",
          "2024-10-04T00:00:00.000000000",
          "2024-10-07T00:00:00.000000000",
          "2024-10-08T00:00:00.000000000",
          "2024-10-09T00:00:00.000000000",
          "2024-10-10T00:00:00.000000000",
          "2024-10-11T00:00:00.000000000",
          "2024-10-14T00:00:00.000000000",
          "2024-10-15T00:00:00.000000000",
          "2024-10-16T00:00:00.000000000",
          "2024-10-17T00:00:00.000000000",
          "2024-10-18T00:00:00.000000000",
          "2024-10-21T00:00:00.000000000",
          "2024-10-22T00:00:00.000000000",
          "2024-10-23T00:00:00.000000000",
          "2024-10-24T00:00:00.000000000",
          "2024-10-25T00:00:00.000000000",
          "2024-10-28T00:00:00.000000000",
          "2024-10-29T00:00:00.000000000",
          "2024-10-30T00:00:00.000000000",
          "2024-10-31T00:00:00.000000000",
          "2024-11-01T00:00:00.000000000",
          "2024-11-04T00:00:00.000000000",
          "2024-11-05T00:00:00.000000000",
          "2024-11-06T00:00:00.000000000",
          "2024-11-07T00:00:00.000000000",
          "2024-11-08T00:00:00.000000000",
          "2024-11-11T00:00:00.000000000",
          "2024-11-12T00:00:00.000000000",
          "2024-11-13T00:00:00.000000000",
          "2024-11-14T00:00:00.000000000",
          "2024-11-15T00:00:00.000000000",
          "2024-11-18T00:00:00.000000000",
          "2024-11-19T00:00:00.000000000",
          "2024-11-20T00:00:00.000000000",
          "2024-11-21T00:00:00.000000000",
          "2024-11-22T00:00:00.000000000",
          "2024-11-25T00:00:00.000000000",
          "2024-11-26T00:00:00.000000000",
          "2024-11-27T00:00:00.000000000",
          "2024-11-29T00:00:00.000000000",
          "2024-12-02T00:00:00.000000000",
          "2024-12-03T00:00:00.000000000",
          "2024-12-04T00:00:00.000000000",
          "2024-12-05T00:00:00.000000000",
          "2024-12-06T00:00:00.000000000",
          "2024-12-09T00:00:00.000000000",
          "2024-12-10T00:00:00.000000000",
          "2024-12-11T00:00:00.000000000",
          "2024-12-12T00:00:00.000000000",
          "2024-12-13T00:00:00.000000000",
          "2024-12-16T00:00:00.000000000",
          "2024-12-17T00:00:00.000000000",
          "2024-12-18T00:00:00.000000000",
          "2024-12-19T00:00:00.000000000",
          "2024-12-20T00:00:00.000000000",
          "2024-12-23T00:00:00.000000000",
          "2024-12-24T00:00:00.000000000",
          "2024-12-26T00:00:00.000000000",
          "2024-12-27T00:00:00.000000000",
          "2024-12-30T00:00:00.000000000",
          "2024-12-31T00:00:00.000000000",
          "2025-01-02T00:00:00.000000000",
          "2025-01-03T00:00:00.000000000",
          "2025-01-06T00:00:00.000000000",
          "2025-01-07T00:00:00.000000000",
          "2025-01-08T00:00:00.000000000",
          "2025-01-10T00:00:00.000000000",
          "2025-01-13T00:00:00.000000000",
          "2025-01-14T00:00:00.000000000",
          "2025-01-15T00:00:00.000000000",
          "2025-01-16T00:00:00.000000000",
          "2025-01-17T00:00:00.000000000",
          "2025-01-21T00:00:00.000000000",
          "2025-01-22T00:00:00.000000000",
          "2025-01-23T00:00:00.000000000",
          "2025-01-24T00:00:00.000000000",
          "2025-01-27T00:00:00.000000000",
          "2025-01-28T00:00:00.000000000",
          "2025-01-29T00:00:00.000000000",
          "2025-01-30T00:00:00.000000000",
          "2025-01-31T00:00:00.000000000",
          "2025-02-03T00:00:00.000000000",
          "2025-02-04T00:00:00.000000000",
          "2025-02-05T00:00:00.000000000",
          "2025-02-06T00:00:00.000000000",
          "2025-02-07T00:00:00.000000000",
          "2025-02-10T00:00:00.000000000",
          "2025-02-11T00:00:00.000000000",
          "2025-02-12T00:00:00.000000000",
          "2025-02-13T00:00:00.000000000",
          "2025-02-14T00:00:00.000000000",
          "2025-02-18T00:00:00.000000000",
          "2025-02-19T00:00:00.000000000",
          "2025-02-20T00:00:00.000000000",
          "2025-02-21T00:00:00.000000000",
          "2025-02-24T00:00:00.000000000",
          "2025-02-25T00:00:00.000000000",
          "2025-02-26T00:00:00.000000000",
          "2025-02-27T00:00:00.000000000",
          "2025-02-28T00:00:00.000000000",
          "2025-03-03T00:00:00.000000000",
          "2025-03-04T00:00:00.000000000",
          "2025-03-05T00:00:00.000000000",
          "2025-03-06T00:00:00.000000000",
          "2025-03-07T00:00:00.000000000",
          "2025-03-10T00:00:00.000000000",
          "2025-03-11T00:00:00.000000000",
          "2025-03-12T00:00:00.000000000",
          "2025-03-13T00:00:00.000000000",
          "2025-03-14T00:00:00.000000000",
          "2025-03-17T00:00:00.000000000",
          "2025-03-18T00:00:00.000000000",
          "2025-03-19T00:00:00.000000000",
          "2025-03-20T00:00:00.000000000",
          "2025-03-21T00:00:00.000000000",
          "2025-03-24T00:00:00.000000000",
          "2025-03-25T00:00:00.000000000",
          "2025-03-26T00:00:00.000000000",
          "2025-03-27T00:00:00.000000000",
          "2025-03-28T00:00:00.000000000",
          "2025-03-31T00:00:00.000000000",
          "2025-04-01T00:00:00.000000000",
          "2025-04-02T00:00:00.000000000",
          "2025-04-03T00:00:00.000000000",
          "2025-04-04T00:00:00.000000000",
          "2025-04-07T00:00:00.000000000",
          "2025-04-08T00:00:00.000000000",
          "2025-04-09T00:00:00.000000000",
          "2025-04-10T00:00:00.000000000",
          "2025-04-11T00:00:00.000000000",
          "2025-04-14T00:00:00.000000000",
          "2025-04-15T00:00:00.000000000",
          "2025-04-16T00:00:00.000000000",
          "2025-04-17T00:00:00.000000000",
          "2025-04-21T00:00:00.000000000",
          "2025-04-22T00:00:00.000000000",
          "2025-04-23T00:00:00.000000000",
          "2025-04-24T00:00:00.000000000",
          "2025-04-25T00:00:00.000000000",
          "2025-04-28T00:00:00.000000000",
          "2025-04-29T00:00:00.000000000",
          "2025-04-30T00:00:00.000000000",
          "2025-05-01T00:00:00.000000000",
          "2025-05-02T00:00:00.000000000",
          "2025-05-05T00:00:00.000000000",
          "2025-05-06T00:00:00.000000000",
          "2025-05-07T00:00:00.000000000",
          "2025-05-08T00:00:00.000000000",
          "2025-05-09T00:00:00.000000000",
          "2025-05-12T00:00:00.000000000",
          "2025-05-13T00:00:00.000000000",
          "2025-05-14T00:00:00.000000000",
          "2025-05-15T00:00:00.000000000",
          "2025-05-16T00:00:00.000000000",
          "2025-05-19T00:00:00.000000000",
          "2025-05-20T00:00:00.000000000",
          "2025-05-21T00:00:00.000000000",
          "2025-05-22T00:00:00.000000000",
          "2025-05-23T00:00:00.000000000",
          "2025-05-27T00:00:00.000000000",
          "2025-05-28T00:00:00.000000000",
          "2025-05-29T00:00:00.000000000",
          "2025-05-30T00:00:00.000000000",
          "2025-06-02T00:00:00.000000000",
          "2025-06-03T00:00:00.000000000",
          "2025-06-04T00:00:00.000000000",
          "2025-06-05T00:00:00.000000000",
          "2025-06-06T00:00:00.000000000",
          "2025-06-09T00:00:00.000000000",
          "2025-06-10T00:00:00.000000000",
          "2025-06-11T00:00:00.000000000",
          "2025-06-12T00:00:00.000000000",
          "2025-06-13T00:00:00.000000000",
          "2025-06-16T00:00:00.000000000",
          "2025-06-17T00:00:00.000000000",
          "2025-06-18T00:00:00.000000000",
          "2025-06-20T00:00:00.000000000",
          "2025-06-23T00:00:00.000000000",
          "2025-06-24T00:00:00.000000000",
          "2025-06-25T00:00:00.000000000",
          "2025-06-26T00:00:00.000000000",
          "2025-06-27T00:00:00.000000000",
          "2025-06-30T00:00:00.000000000",
          "2025-07-01T00:00:00.000000000",
          "2025-07-02T00:00:00.000000000",
          "2025-07-03T00:00:00.000000000",
          "2025-07-07T00:00:00.000000000",
          "2025-07-08T00:00:00.000000000",
          "2025-07-09T00:00:00.000000000",
          "2025-07-10T00:00:00.000000000",
          "2025-07-11T00:00:00.000000000",
          "2025-07-14T00:00:00.000000000",
          "2025-07-15T00:00:00.000000000",
          "2025-07-16T00:00:00.000000000",
          "2025-07-17T00:00:00.000000000",
          "2025-07-18T00:00:00.000000000",
          "2025-07-21T00:00:00.000000000",
          "2025-07-22T00:00:00.000000000",
          "2025-07-23T00:00:00.000000000",
          "2025-07-24T00:00:00.000000000",
          "2025-07-25T00:00:00.000000000",
          "2025-07-28T00:00:00.000000000",
          "2025-07-29T00:00:00.000000000",
          "2025-07-30T00:00:00.000000000",
          "2025-07-31T00:00:00.000000000",
          "2025-08-01T00:00:00.000000000",
          "2025-08-04T00:00:00.000000000",
          "2025-08-05T00:00:00.000000000",
          "2025-08-06T00:00:00.000000000",
          "2025-08-07T00:00:00.000000000",
          "2025-08-08T00:00:00.000000000",
          "2025-08-11T00:00:00.000000000",
          "2025-08-12T00:00:00.000000000",
          "2025-08-13T00:00:00.000000000",
          "2025-08-14T00:00:00.000000000",
          "2025-08-15T00:00:00.000000000",
          "2025-08-18T00:00:00.000000000",
          "2025-08-19T00:00:00.000000000",
          "2025-08-20T00:00:00.000000000",
          "2025-08-21T00:00:00.000000000",
          "2025-08-22T00:00:00.000000000",
          "2025-08-25T00:00:00.000000000",
          "2025-08-26T00:00:00.000000000",
          "2025-08-27T00:00:00.000000000",
          "2025-08-28T00:00:00.000000000",
          "2025-08-29T00:00:00.000000000",
          "2025-09-02T00:00:00.000000000",
          "2025-09-03T00:00:00.000000000",
          "2025-09-04T00:00:00.000000000",
          "2025-09-05T00:00:00.000000000",
          "2025-09-08T00:00:00.000000000",
          "2025-09-09T00:00:00.000000000",
          "2025-09-10T00:00:00.000000000",
          "2025-09-11T00:00:00.000000000",
          "2025-09-12T00:00:00.000000000",
          "2025-09-15T00:00:00.000000000",
          "2025-09-16T00:00:00.000000000",
          "2025-09-17T00:00:00.000000000",
          "2025-09-18T00:00:00.000000000",
          "2025-09-19T00:00:00.000000000",
          "2025-09-22T00:00:00.000000000",
          "2025-09-23T00:00:00.000000000",
          "2025-09-24T00:00:00.000000000",
          "2025-09-25T00:00:00.000000000",
          "2025-09-26T00:00:00.000000000",
          "2025-09-29T00:00:00.000000000",
          "2025-09-30T00:00:00.000000000"
         ],
         "xaxis": "x3",
         "y": {
          "bdata": "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",
          "dtype": "f8"
         },
         "yaxis": "y3"
        }
       ],
       "layout": {
        "annotations": [
         {
          "font": {
           "size": 16
          },
          "showarrow": false,
          "text": "Price with Bollinger Bands",
          "x": 0.5,
          "xanchor": "center",
          "xref": "paper",
          "y": 1,
          "yanchor": "bottom",
          "yref": "paper"
         },
         {
          "font": {
           "size": 16
          },
          "showarrow": false,
          "text": "RSI",
          "x": 0.5,
          "xanchor": "center",
          "xref": "paper",
          "y": 0.41000000000000003,
          "yanchor": "bottom",
          "yref": "paper"
         },
         {
          "font": {
           "size": 16
          },
          "showarrow": false,
          "text": "MACD",
          "x": 0.5,
          "xanchor": "center",
          "xref": "paper",
          "y": 0.18000000000000002,
          "yanchor": "bottom",
          "yref": "paper"
         }
        ],
        "height": 800,
        "shapes": [
         {
          "line": {
           "color": "red",
           "dash": "dash"
          },
          "type": "line",
          "x0": 0,
          "x1": 1,
          "xref": "x2 domain",
          "y0": 70,
          "y1": 70,
          "yref": "y2"
         },
         {
          "line": {
           "color": "green",
           "dash": "dash"
          },
          "type": "line",
          "x0": 0,
          "x1": 1,
          "xref": "x2 domain",
          "y0": 30,
          "y1": 30,
          "yref": "y2"
         }
        ],
        "showlegend": true,
        "template": {
         "data": {
          "bar": [
           {
            "error_x": {
             "color": "#2a3f5f"
            },
            "error_y": {
             "color": "#2a3f5f"
            },
            "marker": {
             "line": {
              "color": "white",
              "width": 0.5
             },
             "pattern": {
              "fillmode": "overlay",
              "size": 10,
              "solidity": 0.2
             }
            },
            "type": "bar"
           }
          ],
          "barpolar": [
           {
            "marker": {
             "line": {
              "color": "white",
              "width": 0.5
             },
             "pattern": {
              "fillmode": "overlay",
              "size": 10,
              "solidity": 0.2
             }
            },
            "type": "barpolar"
           }
          ],
          "carpet": [
           {
            "aaxis": {
             "endlinecolor": "#2a3f5f",
             "gridcolor": "#C8D4E3",
             "linecolor": "#C8D4E3",
             "minorgridcolor": "#C8D4E3",
             "startlinecolor": "#2a3f5f"
            },
            "baxis": {
             "endlinecolor": "#2a3f5f",
             "gridcolor": "#C8D4E3",
             "linecolor": "#C8D4E3",
             "minorgridcolor": "#C8D4E3",
             "startlinecolor": "#2a3f5f"
            },
            "type": "carpet"
           }
          ],
          "choropleth": [
           {
            "colorbar": {
             "outlinewidth": 0,
             "ticks": ""
            },
            "type": "choropleth"
           }
          ],
          "contour": [
           {
            "colorbar": {
             "outlinewidth": 0,
             "ticks": ""
            },
            "colorscale": [
             [
              0,
              "#0d0887"
             ],
             [
              0.1111111111111111,
              "#46039f"
             ],
             [
              0.2222222222222222,
              "#7201a8"
             ],
             [
              0.3333333333333333,
              "#9c179e"
             ],
             [
              0.4444444444444444,
              "#bd3786"
             ],
             [
              0.5555555555555556,
              "#d8576b"
             ],
             [
              0.6666666666666666,
              "#ed7953"
             ],
             [
              0.7777777777777778,
              "#fb9f3a"
             ],
             [
              0.8888888888888888,
              "#fdca26"
             ],
             [
              1,
              "#f0f921"
             ]
            ],
            "type": "contour"
           }
          ],
          "contourcarpet": [
           {
            "colorbar": {
             "outlinewidth": 0,
             "ticks": ""
            },
            "type": "contourcarpet"
           }
          ],
          "heatmap": [
           {
            "colorbar": {
             "outlinewidth": 0,
             "ticks": ""
            },
            "colorscale": [
             [
              0,
              "#0d0887"
             ],
             [
              0.1111111111111111,
              "#46039f"
             ],
             [
              0.2222222222222222,
              "#7201a8"
             ],
             [
              0.3333333333333333,
              "#9c179e"
             ],
             [
              0.4444444444444444,
              "#bd3786"
             ],
             [
              0.5555555555555556,
              "#d8576b"
             ],
             [
              0.6666666666666666,
              "#ed7953"
             ],
             [
              0.7777777777777778,
              "#fb9f3a"
             ],
             [
              0.8888888888888888,
              "#fdca26"
             ],
             [
              1,
              "#f0f921"
             ]
            ],
            "type": "heatmap"
           }
          ],
          "histogram": [
           {
            "marker": {
             "pattern": {
              "fillmode": "overlay",
              "size": 10,
              "solidity": 0.2
             }
            },
            "type": "histogram"
           }
          ],
          "histogram2d": [
           {
            "colorbar": {
             "outlinewidth": 0,
             "ticks": ""
            },
            "colorscale": [
             [
              0,
              "#0d0887"
             ],
             [
              0.1111111111111111,
              "#46039f"
             ],
             [
              0.2222222222222222,
              "#7201a8"
             ],
             [
              0.3333333333333333,
              "#9c179e"
             ],
             [
              0.4444444444444444,
              "#bd3786"
             ],
             [
              0.5555555555555556,
              "#d8576b"
             ],
             [
              0.6666666666666666,
              "#ed7953"
             ],
             [
              0.7777777777777778,
              "#fb9f3a"
             ],
             [
              0.8888888888888888,
              "#fdca26"
             ],
             [
              1,
              "#f0f921"
             ]
            ],
            "type": "histogram2d"
           }
          ],
          "histogram2dcontour": [
           {
            "colorbar": {
             "outlinewidth": 0,
             "ticks": ""
            },
            "colorscale": [
             [
              0,
              "#0d0887"
             ],
             [
              0.1111111111111111,
              "#46039f"
             ],
             [
              0.2222222222222222,
              "#7201a8"
             ],
             [
              0.3333333333333333,
              "#9c179e"
             ],
             [
              0.4444444444444444,
              "#bd3786"
             ],
             [
              0.5555555555555556,
              "#d8576b"
             ],
             [
              0.6666666666666666,
              "#ed7953"
             ],
             [
              0.7777777777777778,
              "#fb9f3a"
             ],
             [
              0.8888888888888888,
              "#fdca26"
             ],
             [
              1,
              "#f0f921"
             ]
            ],
            "type": "histogram2dcontour"
           }
          ],
          "mesh3d": [
           {
            "colorbar": {
             "outlinewidth": 0,
             "ticks": ""
            },
            "type": "mesh3d"
           }
          ],
          "parcoords": [
           {
            "line": {
             "colorbar": {
              "outlinewidth": 0,
              "ticks": ""
             }
            },
            "type": "parcoords"
           }
          ],
          "pie": [
           {
            "automargin": true,
            "type": "pie"
           }
          ],
          "scatter": [
           {
            "fillpattern": {
             "fillmode": "overlay",
             "size": 10,
             "solidity": 0.2
            },
            "type": "scatter"
           }
          ],
          "scatter3d": [
           {
            "line": {
             "colorbar": {
              "outlinewidth": 0,
              "ticks": ""
             }
            },
            "marker": {
             "colorbar": {
              "outlinewidth": 0,
              "ticks": ""
             }
            },
            "type": "scatter3d"
           }
          ],
          "scattercarpet": [
           {
            "marker": {
             "colorbar": {
              "outlinewidth": 0,
              "ticks": ""
             }
            },
            "type": "scattercarpet"
           }
          ],
          "scattergeo": [
           {
            "marker": {
             "colorbar": {
              "outlinewidth": 0,
              "ticks": ""
             }
            },
            "type": "scattergeo"
           }
          ],
          "scattergl": [
           {
            "marker": {
             "colorbar": {
              "outlinewidth": 0,
              "ticks": ""
             }
            },
            "type": "scattergl"
           }
          ],
          "scattermap": [
           {
            "marker": {
             "colorbar": {
              "outlinewidth": 0,
              "ticks": ""
             }
            },
            "type": "scattermap"
           }
          ],
          "scattermapbox": [
           {
            "marker": {
             "colorbar": {
              "outlinewidth": 0,
              "ticks": ""
             }
            },
            "type": "scattermapbox"
           }
          ],
          "scatterpolar": [
           {
            "marker": {
             "colorbar": {
              "outlinewidth": 0,
              "ticks": ""
             }
            },
            "type": "scatterpolar"
           }
          ],
          "scatterpolargl": [
           {
            "marker": {
             "colorbar": {
              "outlinewidth": 0,
              "ticks": ""
             }
            },
            "type": "scatterpolargl"
           }
          ],
          "scatterternary": [
           {
            "marker": {
             "colorbar": {
              "outlinewidth": 0,
              "ticks": ""
             }
            },
            "type": "scatterternary"
           }
          ],
          "surface": [
           {
            "colorbar": {
             "outlinewidth": 0,
             "ticks": ""
            },
            "colorscale": [
             [
              0,
              "#0d0887"
             ],
             [
              0.1111111111111111,
              "#46039f"
             ],
             [
              0.2222222222222222,
              "#7201a8"
             ],
             [
              0.3333333333333333,
              "#9c179e"
             ],
             [
              0.4444444444444444,
              "#bd3786"
             ],
             [
              0.5555555555555556,
              "#d8576b"
             ],
             [
              0.6666666666666666,
              "#ed7953"
             ],
             [
              0.7777777777777778,
              "#fb9f3a"
             ],
             [
              0.8888888888888888,
              "#fdca26"
             ],
             [
              1,
              "#f0f921"
             ]
            ],
            "type": "surface"
           }
          ],
          "table": [
           {
            "cells": {
             "fill": {
              "color": "#EBF0F8"
             },
             "line": {
              "color": "white"
             }
            },
            "header": {
             "fill": {
              "color": "#C8D4E3"
             },
             "line": {
              "color": "white"
             }
            },
            "type": "table"
           }
          ]
         },
         "layout": {
          "annotationdefaults": {
           "arrowcolor": "#2a3f5f",
           "arrowhead": 0,
           "arrowwidth": 1
          },
          "autotypenumbers": "strict",
          "coloraxis": {
           "colorbar": {
            "outlinewidth": 0,
            "ticks": ""
           }
          },
          "colorscale": {
           "diverging": [
            [
             0,
             "#8e0152"
            ],
            [
             0.1,
             "#c51b7d"
            ],
            [
             0.2,
             "#de77ae"
            ],
            [
             0.3,
             "#f1b6da"
            ],
            [
             0.4,
             "#fde0ef"
            ],
            [
             0.5,
             "#f7f7f7"
            ],
            [
             0.6,
             "#e6f5d0"
            ],
            [
             0.7,
             "#b8e186"
            ],
            [
             0.8,
             "#7fbc41"
            ],
            [
             0.9,
             "#4d9221"
            ],
            [
             1,
             "#276419"
            ]
           ],
           "sequential": [
            [
             0,
             "#0d0887"
            ],
            [
             0.1111111111111111,
             "#46039f"
            ],
            [
             0.2222222222222222,
             "#7201a8"
            ],
            [
             0.3333333333333333,
             "#9c179e"
            ],
            [
             0.4444444444444444,
             "#bd3786"
            ],
            [
             0.5555555555555556,
             "#d8576b"
            ],
            [
             0.6666666666666666,
             "#ed7953"
            ],
            [
             0.7777777777777778,
             "#fb9f3a"
            ],
            [
             0.8888888888888888,
             "#fdca26"
            ],
            [
             1,
             "#f0f921"
            ]
           ],
           "sequentialminus": [
            [
             0,
             "#0d0887"
            ],
            [
             0.1111111111111111,
             "#46039f"
            ],
            [
             0.2222222222222222,
             "#7201a8"
            ],
            [
             0.3333333333333333,
             "#9c179e"
            ],
            [
             0.4444444444444444,
             "#bd3786"
            ],
            [
             0.5555555555555556,
             "#d8576b"
            ],
            [
             0.6666666666666666,
             "#ed7953"
            ],
            [
             0.7777777777777778,
             "#fb9f3a"
            ],
            [
             0.8888888888888888,
             "#fdca26"
            ],
            [
             1,
             "#f0f921"
            ]
           ]
          },
          "colorway": [
           "#636efa",
           "#EF553B",
           "#00cc96",
           "#ab63fa",
           "#FFA15A",
           "#19d3f3",
           "#FF6692",
           "#B6E880",
           "#FF97FF",
           "#FECB52"
          ],
          "font": {
           "color": "#2a3f5f"
          },
          "geo": {
           "bgcolor": "white",
           "lakecolor": "white",
           "landcolor": "white",
           "showlakes": true,
           "showland": true,
           "subunitcolor": "#C8D4E3"
          },
          "hoverlabel": {
           "align": "left"
          },
          "hovermode": "closest",
          "mapbox": {
           "style": "light"
          },
          "paper_bgcolor": "white",
          "plot_bgcolor": "white",
          "polar": {
           "angularaxis": {
            "gridcolor": "#EBF0F8",
            "linecolor": "#EBF0F8",
            "ticks": ""
           },
           "bgcolor": "white",
           "radialaxis": {
            "gridcolor": "#EBF0F8",
            "linecolor": "#EBF0F8",
            "ticks": ""
           }
          },
          "scene": {
           "xaxis": {
            "backgroundcolor": "white",
            "gridcolor": "#DFE8F3",
            "gridwidth": 2,
            "linecolor": "#EBF0F8",
            "showbackground": true,
            "ticks": "",
            "zerolinecolor": "#EBF0F8"
           },
           "yaxis": {
            "backgroundcolor": "white",
            "gridcolor": "#DFE8F3",
            "gridwidth": 2,
            "linecolor": "#EBF0F8",
            "showbackground": true,
            "ticks": "",
            "zerolinecolor": "#EBF0F8"
           },
           "zaxis": {
            "backgroundcolor": "white",
            "gridcolor": "#DFE8F3",
            "gridwidth": 2,
            "linecolor": "#EBF0F8",
            "showbackground": true,
            "ticks": "",
            "zerolinecolor": "#EBF0F8"
           }
          },
          "shapedefaults": {
           "line": {
            "color": "#2a3f5f"
           }
          },
          "ternary": {
           "aaxis": {
            "gridcolor": "#DFE8F3",
            "linecolor": "#A2B1C6",
            "ticks": ""
           },
           "baxis": {
            "gridcolor": "#DFE8F3",
            "linecolor": "#A2B1C6",
            "ticks": ""
           },
           "bgcolor": "white",
           "caxis": {
            "gridcolor": "#DFE8F3",
            "linecolor": "#A2B1C6",
            "ticks": ""
           }
          },
          "title": {
           "x": 0.05
          },
          "xaxis": {
           "automargin": true,
           "gridcolor": "#EBF0F8",
           "linecolor": "#EBF0F8",
           "ticks": "",
           "title": {
            "standoff": 15
           },
           "zerolinecolor": "#EBF0F8",
           "zerolinewidth": 2
          },
          "yaxis": {
           "automargin": true,
           "gridcolor": "#EBF0F8",
           "linecolor": "#EBF0F8",
           "ticks": "",
           "title": {
            "standoff": 15
           },
           "zerolinecolor": "#EBF0F8",
           "zerolinewidth": 2
          }
         }
        },
        "title": {
         "text": "AAPL Technical Indicators"
        },
        "xaxis": {
         "anchor": "y",
         "domain": [
          0,
          1
         ],
         "matches": "x3",
         "showticklabels": false
        },
        "xaxis2": {
         "anchor": "y2",
         "domain": [
          0,
          1
         ],
         "matches": "x3",
         "showticklabels": false
        },
        "xaxis3": {
         "anchor": "y3",
         "domain": [
          0,
          1
         ]
        },
        "yaxis": {
         "anchor": "x",
         "domain": [
          0.4600000000000001,
          1
         ]
        },
        "yaxis2": {
         "anchor": "x2",
         "domain": [
          0.23000000000000004,
          0.41000000000000003
         ]
        },
        "yaxis3": {
         "anchor": "x3",
         "domain": [
          0,
          0.18000000000000002
         ]
        }
       }
      }
     },
     "metadata": {},
     "output_type": "display_data"
    },
    {
     "name": "stdout",
     "output_type": "stream",
     "text": [
      "\n",
      "================================================================================\n",
      "DETAILED FUTURE PREDICTIONS FOR AAPL\n",
      "================================================================================\n",
      "Analysis Date: 2025-09-30 19:16:23\n",
      "Current Price: $254.46\n",
      "Last Trading Day: 2025-09-30 (Tuesday)\n",
      "\n",
      "Next 7 Trading Days:\n",
      "--------------------------------------------------------------------------------\n",
      "2025-10-01 (Wednesday): RF: $246.07 (-3.30%) | LSTM: $252.24 (-0.87%) | RF more volatile 📉\n",
      "2025-10-02 (Thursday): RF: $245.95 (-3.35%) | LSTM: $253.65 (-0.32%) | RF more volatile 📉\n",
      "2025-10-03 (Friday): RF: $245.95 (-3.35%) | LSTM: $254.69 (+0.09%) | RF more volatile 📉\n",
      "2025-10-06 (Monday): RF: $245.95 (-3.35%) | LSTM: $255.41 (+0.37%) | RF more volatile 📉\n",
      "2025-10-07 (Tuesday): RF: $245.95 (-3.35%) | LSTM: $255.89 (+0.56%) | RF more volatile 📉\n",
      "2025-10-08 (Wednesday): RF: $245.95 (-3.35%) | LSTM: $256.19 (+0.68%) | RF more volatile 📉\n",
      "2025-10-09 (Thursday): RF: $245.95 (-3.35%) | LSTM: $256.35 (+0.74%) | RF more volatile 📉\n",
      "\n",
      "SUMMARY STATISTICS:\n",
      "RandomForest Average Change: -3.34%\n",
      "Predicted Range: $245.95 - $246.07\n",
      "Price Volatility: 0.05%\n",
      "LSTM Average Change: +0.18%\n",
      "\n",
      "Saving Models...\n",
      "RandomForest model saved as AAPL_rf_model.joblib\n",
      "Scaler saved as AAPL_scaler.joblib\n",
      "LSTM model saved as AAPL_lstm_model.keras\n",
      "LSTM scaler saved as AAPL_lstm_scaler.joblib\n",
      "\n",
      "Prediction completed for AAPL!\n",
      "\n",
      "================================================================================\n",
      "FINAL PREDICTION SUMMARY REPORT\n",
      "================================================================================\n",
      "\n",
      "📈 AAPL -> AAPL:\n",
      "   Current Price: $254.46\n",
      "   RandomForest - MAE: $13.05, R²: 0.0331\n",
      "   LSTM - MAE: $6.45\n",
      "Next Trading Day (2025-10-01): $246.07 (-3.30%)\n",
      "\n",
      "Analysis completed for 1 stocks!\n",
      "\n",
      "Available symbols for future analysis:\n",
      "🇺🇸 US Stocks: AAPL, MSFT, GOOGL, AMZN, TSLA, META, NFLX, NVDA\n",
      "🇮🇳 Indian Stocks: RELIANCE, TCS, INFY, L&T, HDFC, SBIN, WIPRO\n",
      "International: Use Yahoo Finance symbols\n",
      "\n",
      "Models and scalers have been saved for future use!\n",
      "Run the script again to analyze different stocks!\n"
     ]
    }
   ],
   "source": [
    "# Main execution block\n",
    "if __name__ == \"__main__\":\n",
    "    print(\"ENHANCED STOCK PRICE PREDICTION SYSTEM\")\n",
    "    print(\"=\"*60)\n",
    "    print(\"Features:\")\n",
    "    print(\"Market status checking\")\n",
    "    print(\"Enhanced date handling (weekend awareness)\")\n",
    "    print(\"Interactive prediction tables\")\n",
    "    print(\"Multiple model comparisons\")\n",
    "    print(\"Portfolio analysis\")\n",
    "    print(\"Professional visualizations\")\n",
    "    print(\"=\"*60)\n",
    "    \n",
    "    print(\"\\nYou can enter:\")\n",
    "    print(\"- US Stocks: AAPL, MSFT, GOOGL, TSLA, AMZN, etc.\")\n",
    "    print(\"- Indian Stocks: RELIANCE, TCS, INFY, L&T, HDFC, etc.\")\n",
    "    print(\"- Other: Use exact Yahoo Finance symbols\")\n",
    "    print(\"\\nEnter stock symbols (type 'done' when finished)\")\n",
    "    print(\"=\"*60)\n",
    "    \n",
    "    stocks_to_predict = []\n",
    "    while True:\n",
    "        symbol = input(\"\\nEnter stock symbol: \").strip()\n",
    "        if symbol.lower() == 'done':\n",
    "            break\n",
    "        if symbol:\n",
    "            stocks_to_predict.append(symbol)\n",
    "    \n",
    "    if not stocks_to_predict:\n",
    "        # Default stocks if none provided\n",
    "        stocks_to_predict = ['AAPL', 'MSFT', 'RELIANCE', 'TCS']\n",
    "        print(f\"\\nNo symbols entered. Using default stocks: {stocks_to_predict}\")\n",
    "    \n",
    "    # Choose analysis type\n",
    "    if len(stocks_to_predict) > 1:\n",
    "        analysis_type = input(f\"\\nChoose analysis type:\\n1. Individual analysis\\n2. Portfolio analysis\\nEnter choice (1/2): \").strip()\n",
    "        if analysis_type == '2':\n",
    "            all_results, portfolio_df = create_portfolio_analysis(stocks_to_predict, future_days=7)\n",
    "        else:\n",
    "            # Individual analysis\n",
    "            all_results = {}\n",
    "            for symbol_input in stocks_to_predict:\n",
    "                try:\n",
    "                    result = predict_stock_price_enhanced(symbol_input, future_days=7)\n",
    "                    if result is not None:\n",
    "                        all_results[symbol_input] = result\n",
    "                except Exception as e:\n",
    "                    print(f\"Error processing {symbol_input}: {str(e)}\")\n",
    "                    continue\n",
    "    else:\n",
    "        # Single stock analysis\n",
    "        all_results = {}\n",
    "        symbol_input = stocks_to_predict[0]\n",
    "        try:\n",
    "            result = predict_stock_price_enhanced(symbol_input, future_days=7)\n",
    "            if result is not None:\n",
    "                all_results[symbol_input] = result\n",
    "        except Exception as e:\n",
    "            print(f\"Error processing {symbol_input}: {str(e)}\")\n",
    "    \n",
    "    # Final summary report\n",
    "    print(f\"\\n{'='*80}\")\n",
    "    print(\"FINAL PREDICTION SUMMARY REPORT\")\n",
    "    print(f\"{'='*80}\")\n",
    "    \n",
    "    for symbol_input, results in all_results.items():\n",
    "        classical = results['classical_results']['RandomForest']\n",
    "        symbol_used = results['correct_symbol']\n",
    "        future_preds = results['future_predictions']\n",
    "        \n",
    "        print(f\"\\n📈 {symbol_input} -> {symbol_used}:\")\n",
    "        print(f\"   Current Price: ${results['current_price']:.2f}\")\n",
    "        print(f\"   RandomForest - MAE: ${classical['mae']:.2f}, R²: {classical['r2']:.4f}\")\n",
    "        \n",
    "        if results['lstm_results'] is not None:\n",
    "            lstm_mae = mean_absolute_error(\n",
    "                results['lstm_results']['actual'], \n",
    "                results['lstm_results']['predicted']\n",
    "            )\n",
    "            print(f\"   LSTM - MAE: ${lstm_mae:.2f}\")\n",
    "        \n",
    "        # Show next day prediction\n",
    "        if future_preds['dates']:\n",
    "            next_date = future_preds['dates'][0].strftime('%Y-%m-%d')\n",
    "            next_rf_pred = future_preds['rf_predictions'][0]\n",
    "            today_price = results['current_price']\n",
    "            change = ((next_rf_pred - today_price) / today_price) * 100\n",
    "            \n",
    "            print(f\"Next Trading Day ({next_date}): ${next_rf_pred:.2f} ({change:+.2f}%)\")\n",
    "    \n",
    "    print(f\"\\nAnalysis completed for {len(all_results)} stocks!\")\n",
    "    print(\"\\nAvailable symbols for future analysis:\")\n",
    "    print(\"🇺🇸 US Stocks: AAPL, MSFT, GOOGL, AMZN, TSLA, META, NFLX, NVDA\")\n",
    "    print(\"🇮🇳 Indian Stocks: RELIANCE, TCS, INFY, L&T, HDFC, SBIN, WIPRO\")\n",
    "    print(\"International: Use Yahoo Finance symbols\")\n",
    "    \n",
    "    print(f\"\\nModels and scalers have been saved for future use!\")\n",
    "    print(\"Run the script again to analyze different stocks!\")"
   ]
  }
 ],
 "metadata": {
  "kernelspec": {
   "display_name": "Python 3",
   "language": "python",
   "name": "python3"
  },
  "language_info": {
   "codemirror_mode": {
    "name": "ipython",
    "version": 3
   },
   "file_extension": ".py",
   "mimetype": "text/x-python",
   "name": "python",
   "nbconvert_exporter": "python",
   "pygments_lexer": "ipython3",
   "version": "3.12.0"
  }
 },
 "nbformat": 4,
 "nbformat_minor": 5
}
