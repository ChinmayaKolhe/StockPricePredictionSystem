{
 "cells": [
  {
   "cell_type": "markdown",
   "id": "7d9889d9",
   "metadata": {},
   "source": [
    "# Stock Price Prediction System"
   ]
  },
  {
   "cell_type": "markdown",
   "id": "41a9cdd9",
   "metadata": {},
   "source": [
    "### Import necessary libraries"
   ]
  },
  {
   "cell_type": "code",
   "execution_count": null,
   "id": "d9ff269d",
   "metadata": {},
   "outputs": [],
   "source": [
    "import pandas as pd\n",
    "import numpy as np\n",
    "import matplotlib.pyplot as plt\n",
    "import seaborn as sns\n",
    "from datetime import datetime, timedelta\n",
    "import warnings\n",
    "warnings.filterwarnings('ignore')"
   ]
  },
  {
   "cell_type": "markdown",
   "id": "be366448",
   "metadata": {},
   "source": [
    "### Machine Learning libraries"
   ]
  },
  {
   "cell_type": "code",
   "execution_count": null,
   "id": "0466f208",
   "metadata": {},
   "outputs": [],
   "source": [
    "from sklearn.preprocessing import MinMaxScaler\n",
    "from sklearn.model_selection import train_test_split\n",
    "from sklearn.linear_model import LinearRegression\n",
    "from sklearn.ensemble import RandomForestRegressor\n",
    "from sklearn.metrics import mean_squared_error, mean_absolute_error, r2_score\n",
    "from sklearn.svm import SVR"
   ]
  },
  {
   "cell_type": "markdown",
   "id": "37a915d3",
   "metadata": {},
   "source": [
    "### Deep Learning libraries"
   ]
  },
  {
   "cell_type": "code",
   "execution_count": 15,
   "id": "39a7046c",
   "metadata": {},
   "outputs": [],
   "source": [
    "import tensorflow as tf\n",
    "from tensorflow.keras.models import Sequential\n",
    "from tensorflow.keras.layers import Dense, LSTM, Dropout"
   ]
  },
  {
   "cell_type": "markdown",
   "id": "54c27a98",
   "metadata": {},
   "source": [
    "### Technical Analysis library"
   ]
  },
  {
   "cell_type": "code",
   "execution_count": 16,
   "id": "008201fa",
   "metadata": {},
   "outputs": [],
   "source": [
    "import ta"
   ]
  },
  {
   "cell_type": "markdown",
   "id": "95f95453",
   "metadata": {},
   "source": [
    "### API libraries"
   ]
  },
  {
   "cell_type": "code",
   "execution_count": 17,
   "id": "901bbad1",
   "metadata": {},
   "outputs": [],
   "source": [
    "import yfinance as yf\n",
    "from alpha_vantage.timeseries import TimeSeries"
   ]
  },
  {
   "cell_type": "markdown",
   "id": "5b937ca2",
   "metadata": {},
   "source": [
    "### Visualization libraries"
   ]
  },
  {
   "cell_type": "code",
   "execution_count": 18,
   "id": "10611e41",
   "metadata": {},
   "outputs": [
    {
     "name": "stdout",
     "output_type": "stream",
     "text": [
      "All libraries imported successfully!\n"
     ]
    }
   ],
   "source": [
    "import mplfinance as mpf\n",
    "import plotly.graph_objects as go\n",
    "from plotly.subplots import make_subplots\n",
    "import plotly.express as px\n",
    "\n",
    "import joblib\n",
    "import os\n",
    "\n",
    "print(\"All libraries imported successfully!\")"
   ]
  },
  {
   "cell_type": "markdown",
   "id": "9cee40f9",
   "metadata": {},
   "source": [
    "### Setting API key and Get the Current Stock Market Status"
   ]
  },
  {
   "cell_type": "code",
   "execution_count": 19,
   "id": "00af6c57",
   "metadata": {},
   "outputs": [],
   "source": [
    "# Alpha Vantage API Key\n",
    "ALPHA_KEY = \"909ZVCBKRQTZNM6M\"  \n",
    "\n",
    "def get_market_status():\n",
    "    \"\"\"Check current market status and explain data availability\"\"\"\n",
    "    now = datetime.now()\n",
    "    current_time = now.strftime('%Y-%m-%d %H:%M:%S')\n",
    "    weekday = now.strftime('%A')\n",
    "    \n",
    "    print(f\"\\n{'='*60}\")\n",
    "    print(f\"MARKET STATUS CHECK\")\n",
    "    print(f\"{'='*60}\")\n",
    "    print(f\"Current Date/Time: {current_time}\")\n",
    "    print(f\"Today is: {weekday}\")\n",
    "    \n",
    "    # Check if it's weekend\n",
    "    if now.weekday() >= 5:  # Saturday = 5, Sunday = 6\n",
    "        print(f\"Markets are CLOSED (Weekend)\")\n",
    "        print(f\"Most recent trading day data available\")\n",
    "    else:\n",
    "        # Check if it's before market open (rough estimate - 9:30 AM EST)\n",
    "        if now.hour < 9 or (now.hour == 9 and now.minute < 30):\n",
    "            print(f\"Markets haven't opened yet today\")\n",
    "            print(f\"Yesterday's data is the most recent\")\n",
    "        elif now.hour >= 16:  # After 4 PM EST (market close)\n",
    "            print(f\"Markets closed for the day\")\n",
    "            print(f\"Today's data should be available\")\n",
    "        else:\n",
    "            print(f\"Markets are currently OPEN\")\n",
    "            print(f\"Real-time data available with some delay\")\n",
    "    \n",
    "    print(f\"{'='*60}\")"
   ]
  },
  {
   "cell_type": "markdown",
   "id": "793b5b00",
   "metadata": {},
   "source": [
    "### fetch the data from the yfinance"
   ]
  },
  {
   "cell_type": "code",
   "execution_count": 20,
   "id": "61320a96",
   "metadata": {},
   "outputs": [],
   "source": [
    "def fetch_yf(symbol, start=None, end=None, period='2y', interval='1d'):\n",
    "    \"\"\"Fetch using yfinance with safe column selection\"\"\"\n",
    "    try:\n",
    "        if start and end:\n",
    "            df = yf.download(symbol, start=start, end=end, interval=interval, progress=False)\n",
    "        else:\n",
    "            df = yf.download(symbol, period=period, interval=interval, progress=False)\n",
    "\n",
    "        # If no data is returned\n",
    "        if df.empty:\n",
    "            print(f\"No data found for symbol: {symbol}\")\n",
    "            return None\n",
    "\n",
    "        # If multiple tickers, yfinance returns MultiIndex columns -> select the symbol level\n",
    "        if isinstance(df.columns, pd.MultiIndex):\n",
    "            df = df.xs(symbol, axis=1, level=1)\n",
    "\n",
    "        # Some tickers don't have Adj Close — check before selecting\n",
    "        expected_cols = ['Open', 'High', 'Low', 'Close', 'Adj Close', 'Volume']\n",
    "        available_cols = [c for c in expected_cols if c in df.columns]\n",
    "\n",
    "        df = df[available_cols]  # only keep available columns\n",
    "        df.dropna(inplace=True)\n",
    "        \n",
    "        if df.empty:\n",
    "            print(f\"No data available after cleaning for symbol: {symbol}\")\n",
    "            return None\n",
    "            \n",
    "        print(f\"Successfully fetched data for {symbol}. Shape: {df.shape}\")\n",
    "        return df\n",
    "    except Exception as e:\n",
    "        print(f\"Error fetching data for {symbol}: {str(e)}\")\n",
    "        return None"
   ]
  },
  {
   "cell_type": "markdown",
   "id": "71d2e564",
   "metadata": {},
   "source": [
    "### Add the Technical Indicators Like SMA, EMA, RSI, MACD"
   ]
  },
  {
   "cell_type": "code",
   "execution_count": 21,
   "id": "0806de00",
   "metadata": {},
   "outputs": [],
   "source": [
    "def add_technical_indicators(df):\n",
    "    df = df.copy()\n",
    "    # Simple moving averages\n",
    "    df['SMA_10'] = df['Close'].rolling(10).mean()\n",
    "    df['SMA_50'] = df['Close'].rolling(50).mean()\n",
    "    # Exponential moving average\n",
    "    df['EMA_20'] = df['Close'].ewm(span=20, adjust=False).mean()\n",
    "    # RSI\n",
    "    df['RSI'] = ta.momentum.rsi(df['Close'], window=14)\n",
    "    # MACD\n",
    "    macd = ta.trend.MACD(df['Close'])\n",
    "    df['MACD'] = macd.macd()\n",
    "    df['MACD_SIGNAL'] = macd.macd_signal()\n",
    "    # Bollinger Bands\n",
    "    bb = ta.volatility.BollingerBands(df['Close'], window=20, window_dev=2)\n",
    "    df['BB_H'] = bb.bollinger_hband()\n",
    "    df['BB_L'] = bb.bollinger_lband()\n",
    "    df.dropna(inplace=True)\n",
    "    return df\n",
    "\n",
    "def prepare_supervised(df, feature_cols, target_col='Close', n_ahead=5):\n",
    "    df = df.copy()\n",
    "    df['Target'] = df[target_col].shift(-n_ahead)\n",
    "    df.dropna(inplace=True)\n",
    "    X = df[feature_cols].values\n",
    "    y = df['Target'].values\n",
    "    return X, y, df\n",
    "\n",
    "def train_and_eval_models(X_train, X_test, y_train, y_test):\n",
    "    results = {}\n",
    "    models = {\n",
    "        'LinearRegression': LinearRegression(),\n",
    "        'RandomForest': RandomForestRegressor(n_estimators=100, random_state=42),\n",
    "        'SVR': SVR(kernel='rbf', C=1.0, epsilon=0.01)\n",
    "    }\n",
    "    for name, m in models.items():\n",
    "        m.fit(X_train, y_train)\n",
    "        preds = m.predict(X_test)\n",
    "        results[name] = {\n",
    "            'model': m,\n",
    "            'mse': mean_squared_error(y_test, preds),\n",
    "            'mae': mean_absolute_error(y_test, preds),\n",
    "            'r2': r2_score(y_test, preds),\n",
    "            'predictions': preds\n",
    "        }\n",
    "    return results"
   ]
  },
  {
   "cell_type": "markdown",
   "id": "0d0a06f5",
   "metadata": {},
   "source": [
    "### Generating Future Trading Days (Properly Handling Weekdays and Weekend)"
   ]
  },
  {
   "cell_type": "code",
   "execution_count": 22,
   "id": "7b5e71d6",
   "metadata": {},
   "outputs": [],
   "source": [
    "def create_sequences(data, seq_length=60):\n",
    "    X, y = [], []\n",
    "    for i in range(seq_length, len(data)):\n",
    "        X.append(data[i-seq_length:i])\n",
    "        y.append(data[i, 0])  # assuming first column is Close scaled\n",
    "    return np.array(X), np.array(y)\n",
    "\n",
    "def build_lstm(input_shape):\n",
    "    model = Sequential()\n",
    "    model.add(LSTM(64, return_sequences=True, input_shape=input_shape))\n",
    "    model.add(Dropout(0.2))\n",
    "    model.add(LSTM(32, return_sequences=False))\n",
    "    model.add(Dropout(0.2))\n",
    "    model.add(Dense(16, activation='relu'))\n",
    "    model.add(Dense(1))\n",
    "    model.compile(optimizer='adam', loss='mse', metrics=['mae'])\n",
    "    return model\n",
    "\n",
    "def generate_future_dates_enhanced(last_date, days_ahead=7, include_weekends_info=True):\n",
    "    \"\"\"\n",
    "    Enhanced future date generation with better weekend handling and information\n",
    "    \"\"\"\n",
    "    future_dates = []\n",
    "    skipped_dates = []\n",
    "    current_date = last_date + timedelta(days=1)\n",
    "    \n",
    "    print(f\"\\nGENERATING FUTURE TRADING DATES\")\n",
    "    print(f\"Last trading day in data: {last_date.strftime('%Y-%m-%d (%A)')}\")\n",
    "    \n",
    "    days_checked = 0\n",
    "    while len(future_dates) < days_ahead and days_checked < days_ahead * 2:  # Safety limit\n",
    "        day_name = current_date.strftime('%A')\n",
    "        \n",
    "        # Skip weekends (Saturday=5, Sunday=6)\n",
    "        if current_date.weekday() < 5:  # Monday to Friday\n",
    "            future_dates.append(current_date)\n",
    "            print(f\"{current_date.strftime('%Y-%m-%d')} ({day_name}) - Trading Day\")\n",
    "        else:\n",
    "            skipped_dates.append((current_date, day_name))\n",
    "            if include_weekends_info:\n",
    "                print(f\"{current_date.strftime('%Y-%m-%d')} ({day_name}) - Skipped (Weekend)\")\n",
    "        \n",
    "        current_date += timedelta(days=1)\n",
    "        days_checked += 1\n",
    "    \n",
    "    print(f\"\\nGenerated {len(future_dates)} future trading days\")\n",
    "    if skipped_dates:\n",
    "        print(f\"Skipped {len(skipped_dates)} weekend days\")\n",
    "    \n",
    "    return future_dates[:days_ahead]"
   ]
  },
  {
   "cell_type": "markdown",
   "id": "fa314b14",
   "metadata": {},
   "source": [
    "### Predict the Future Prices"
   ]
  },
  {
   "cell_type": "code",
   "execution_count": 23,
   "id": "dba796da",
   "metadata": {},
   "outputs": [],
   "source": [
    "def predict_future_prices(model, scaler, df, feature_cols, days_ahead=7):\n",
    "    \"\"\"Predict future prices for the next N days\"\"\"\n",
    "    future_predictions = []\n",
    "    current_data = df[feature_cols].iloc[-1:].values.copy()\n",
    "    \n",
    "    for day in range(days_ahead):\n",
    "        # Scale the current data\n",
    "        current_data_scaled = scaler.transform(current_data)\n",
    "        \n",
    "        # Make prediction\n",
    "        prediction = model.predict(current_data_scaled)[0]\n",
    "        future_predictions.append(prediction)\n",
    "        \n",
    "        # Update the current data for next prediction (using the prediction as new Close price)\n",
    "        if day < days_ahead - 1:\n",
    "            current_data[0, 0] = prediction  # Update Close price\n",
    "    \n",
    "    return future_predictions\n",
    "\n",
    "def predict_future_lstm(model, scaler, df, sequence_length=60, days_ahead=7):\n",
    "    \"\"\"Predict future prices using LSTM model\"\"\"\n",
    "    # Get the last sequence\n",
    "    last_sequence = df[['Close', 'Volume']].values[-sequence_length:]\n",
    "    last_sequence_scaled = scaler.transform(last_sequence)\n",
    "    \n",
    "    future_predictions = []\n",
    "    current_sequence = last_sequence_scaled.copy()\n",
    "    \n",
    "    for day in range(days_ahead):\n",
    "        # Reshape for LSTM input\n",
    "        X_pred = current_sequence.reshape(1, sequence_length, 2)\n",
    "        \n",
    "        # Make prediction\n",
    "        prediction_scaled = model.predict(X_pred, verbose=0)[0, 0]\n",
    "        \n",
    "        # Inverse transform to get actual price\n",
    "        dummy_array = np.zeros((1, 2))\n",
    "        dummy_array[0, 0] = prediction_scaled\n",
    "        prediction_actual = scaler.inverse_transform(dummy_array)[0, 0]\n",
    "        \n",
    "        future_predictions.append(prediction_actual)\n",
    "        \n",
    "        # Update the sequence for next prediction\n",
    "        if day < days_ahead - 1:\n",
    "            new_row = np.array([[prediction_scaled, current_sequence[-1, 1]]])\n",
    "            current_sequence = np.vstack([current_sequence[1:], new_row])\n",
    "    \n",
    "    return future_predictions"
   ]
  },
  {
   "cell_type": "markdown",
   "id": "d520657f",
   "metadata": {},
   "source": [
    "### Create Table for Future Predictions"
   ]
  },
  {
   "cell_type": "code",
   "execution_count": 24,
   "id": "a69384e2",
   "metadata": {},
   "outputs": [],
   "source": [
    "def create_future_predictions_table(symbol, today_price, future_dates, rf_predictions, lstm_predictions=None):\n",
    "    \"\"\"\n",
    "    Create a beautiful visualization table for future predictions\n",
    "    \"\"\"\n",
    "    # Prepare data for the table\n",
    "    table_data = []\n",
    "    \n",
    "    for i, date in enumerate(future_dates):\n",
    "        rf_pred = rf_predictions[i]\n",
    "        rf_change = ((rf_pred - today_price) / today_price) * 100\n",
    "        \n",
    "        row = {\n",
    "            'Date': date.strftime('%Y-%m-%d'),\n",
    "            'Day': date.strftime('%A'),\n",
    "            'Days_Ahead': i + 1,\n",
    "            'RF_Price': rf_pred,\n",
    "            'RF_Change_%': rf_change,\n",
    "            'RF_Direction': '📈' if rf_change > 0 else '📉' if rf_change < 0 else '➡️'\n",
    "        }\n",
    "        \n",
    "        if lstm_predictions:\n",
    "            lstm_pred = lstm_predictions[i]\n",
    "            lstm_change = ((lstm_pred - today_price) / today_price) * 100\n",
    "            row.update({\n",
    "                'LSTM_Price': lstm_pred,\n",
    "                'LSTM_Change_%': lstm_change,\n",
    "                'LSTM_Direction': '📈' if lstm_change > 0 else '📉' if lstm_change < 0 else '➡️'\n",
    "            })\n",
    "        \n",
    "        table_data.append(row)\n",
    "    \n",
    "    df_predictions = pd.DataFrame(table_data)\n",
    "    \n",
    "    # Create interactive table using Plotly\n",
    "    fig = go.Figure()\n",
    "    \n",
    "    # Prepare table data\n",
    "    if lstm_predictions:\n",
    "        header_values = ['Date', 'Day', 'Days<br>Ahead', \n",
    "                        'RF Price<br>($)', 'RF Change<br>(%)', 'RF<br>Trend',\n",
    "                        'LSTM Price<br>($)', 'LSTM Change<br>(%)', 'LSTM<br>Trend']\n",
    "        \n",
    "        cell_values = [\n",
    "            df_predictions['Date'].tolist(),\n",
    "            df_predictions['Day'].tolist(),\n",
    "            df_predictions['Days_Ahead'].tolist(),\n",
    "            [f\"${x:.2f}\" for x in df_predictions['RF_Price']],\n",
    "            [f\"{x:+.2f}%\" for x in df_predictions['RF_Change_%']],\n",
    "            df_predictions['RF_Direction'].tolist(),\n",
    "            [f\"${x:.2f}\" for x in df_predictions['LSTM_Price']],\n",
    "            [f\"{x:+.2f}%\" for x in df_predictions['LSTM_Change_%']],\n",
    "            df_predictions['LSTM_Direction'].tolist()\n",
    "        ]\n",
    "    else:\n",
    "        header_values = ['Date', 'Day', 'Days<br>Ahead', \n",
    "                        'RF Price<br>($)', 'RF Change<br>(%)', 'RF<br>Trend']\n",
    "        \n",
    "        cell_values = [\n",
    "            df_predictions['Date'].tolist(),\n",
    "            df_predictions['Day'].tolist(),\n",
    "            df_predictions['Days_Ahead'].tolist(),\n",
    "            [f\"${x:.2f}\" for x in df_predictions['RF_Price']],\n",
    "            [f\"{x:+.2f}%\" for x in df_predictions['RF_Change_%']],\n",
    "            df_predictions['RF_Direction'].tolist()\n",
    "        ]\n",
    "    \n",
    "    # Color cells based on positive/negative changes\n",
    "    def get_cell_colors(changes):\n",
    "        colors = []\n",
    "        for change in changes:\n",
    "            if change > 0:\n",
    "                colors.append('#d4edda')  # Light green for positive\n",
    "            elif change < 0:\n",
    "                colors.append('#f8d7da')  # Light red for negative\n",
    "            else:\n",
    "                colors.append('#fff3cd')  # Light yellow for neutral\n",
    "        return colors\n",
    "    # Create color arrays for each column\n",
    "    rf_colors = get_cell_colors(df_predictions['RF_Change_%'])\n",
    "    \n",
    "    if lstm_predictions:\n",
    "        lstm_colors = get_cell_colors(df_predictions['LSTM_Change_%'])\n",
    "        fill_colors = [['white'] * len(df_predictions),  # Date\n",
    "                      ['white'] * len(df_predictions),   # Day\n",
    "                      ['white'] * len(df_predictions),   # Days Ahead\n",
    "                      rf_colors,                         # RF Price\n",
    "                      rf_colors,                         # RF Change\n",
    "                      rf_colors,                         # RF Direction\n",
    "                      lstm_colors,                       # LSTM Price\n",
    "                      lstm_colors,                       # LSTM Change\n",
    "                      lstm_colors]                       # LSTM Direction\n",
    "    else:\n",
    "        fill_colors = [['white'] * len(df_predictions),  # Date\n",
    "                      ['white'] * len(df_predictions),   # Day\n",
    "                      ['white'] * len(df_predictions),   # Days Ahead\n",
    "                      rf_colors,                         # RF Price\n",
    "                      rf_colors,                         # RF Change\n",
    "                      rf_colors]                         # RF Direction\n",
    "    \n",
    "    fig.add_trace(go.Table(\n",
    "        header=dict(\n",
    "            values=header_values,\n",
    "            fill_color='#1f2937',\n",
    "            font=dict(color='white', size=14, family=\"Arial Black\"),\n",
    "            align='center',\n",
    "            height=40\n",
    "        ),\n",
    "        cells=dict(\n",
    "            values=cell_values,\n",
    "            fill_color=fill_colors,\n",
    "            font=dict(size=12),\n",
    "            align='center',\n",
    "            height=35\n",
    "        )\n",
    "    ))\n",
    "    \n",
    "    fig.update_layout(\n",
    "        title=dict(\n",
    "            text=f'{symbol} - Future Price Predictions Table<br><sub>Current Price: ${today_price:.2f}</sub>',\n",
    "            x=0.5,\n",
    "            font=dict(size=18, color='#1f2937')\n",
    "        ),\n",
    "        height=400,\n",
    "        margin=dict(l=20, r=20, t=80, b=20)\n",
    "    )\n",
    "    \n",
    "    return fig, df_predictions"
   ]
  },
  {
   "cell_type": "markdown",
   "id": "1dda1889",
   "metadata": {},
   "source": [
    "### Create the Prediction Comparison Chart for Different Model Predictions"
   ]
  },
  {
   "cell_type": "code",
   "execution_count": 25,
   "id": "c773f654",
   "metadata": {},
   "outputs": [],
   "source": [
    "def create_prediction_comparison_chart(symbol, today_price, future_dates, rf_predictions, lstm_predictions=None):\n",
    "    \"\"\"\n",
    "    Create a comparison chart for different model predictions\n",
    "    \"\"\"\n",
    "    fig = go.Figure()\n",
    "    \n",
    "    # Add current price as starting point\n",
    "    all_dates = [future_dates[0] - timedelta(days=1)] + future_dates\n",
    "    rf_prices = [today_price] + rf_predictions\n",
    "    \n",
    "    # Add RandomForest predictions\n",
    "    fig.add_trace(go.Scatter(\n",
    "        x=all_dates, \n",
    "        y=rf_prices,\n",
    "        name='RandomForest Prediction',\n",
    "        line=dict(color='#2E86AB', width=3),\n",
    "        marker=dict(size=8, symbol='circle')\n",
    "    ))\n",
    "    \n",
    "    # Add LSTM predictions if available\n",
    "    if lstm_predictions:\n",
    "        lstm_prices = [today_price] + lstm_predictions\n",
    "        fig.add_trace(go.Scatter(\n",
    "            x=all_dates, \n",
    "            y=lstm_prices,\n",
    "            name='LSTM Prediction',\n",
    "            line=dict(color='#F24236', width=3, dash='dot'),\n",
    "            marker=dict(size=8, symbol='diamond')\n",
    "        ))\n",
    "    \n",
    "    # Add current price marker\n",
    "    fig.add_trace(go.Scatter(\n",
    "        x=[all_dates[0]], \n",
    "        y=[today_price],\n",
    "        name='Current Price',\n",
    "        mode='markers',\n",
    "        marker=dict(size=15, color='green', symbol='star')\n",
    "    ))\n",
    "    \n",
    "    # Add horizontal line for current price reference\n",
    "    fig.add_hline(\n",
    "        y=today_price, \n",
    "        line_dash=\"dash\", \n",
    "        line_color=\"gray\", \n",
    "        annotation_text=f\"Current: ${today_price:.2f}\"\n",
    "    )\n",
    "    \n",
    "    fig.update_layout(\n",
    "        title=f'{symbol} - Future Price Predictions Comparison',\n",
    "        xaxis_title='Date',\n",
    "        yaxis_title='Price ($)',\n",
    "        template='plotly_white',\n",
    "        height=500,\n",
    "        hovermode='x unified'\n",
    "    )\n",
    "    \n",
    "    return fig\n"
   ]
  },
  {
   "cell_type": "markdown",
   "id": "1d2b8cfd",
   "metadata": {},
   "source": [
    "### Stock Visualization"
   ]
  },
  {
   "cell_type": "code",
   "execution_count": 26,
   "id": "808a6a5a",
   "metadata": {},
   "outputs": [],
   "source": [
    "\n",
    "def create_professional_stock_visualization(df, actual_prices, predicted_prices, symbol, model_name, future_dates=None, future_prices=None):\n",
    "    # Create a subset of the dataframe for the validation period\n",
    "    val_dates = df.index[-len(actual_prices):]\n",
    "    \n",
    "    # Create subplots with secondary y-axis for volume\n",
    "    fig = make_subplots(\n",
    "        rows=2, cols=1,\n",
    "        shared_xaxes=True,\n",
    "        vertical_spacing=0.1,\n",
    "        subplot_titles=(f'{symbol} Price Prediction with {model_name}', 'Volume'),\n",
    "        row_width=[0.2, 0.7]\n",
    "    )\n",
    "    \n",
    "    # Add actual price line\n",
    "    fig.add_trace(\n",
    "        go.Scatter(x=val_dates, y=actual_prices, name=\"Actual Price\", \n",
    "                  line=dict(color='#2E86AB', width=2)),\n",
    "        row=1, col=1\n",
    "    )\n",
    "    \n",
    "    # Add predicted price line\n",
    "    fig.add_trace(\n",
    "        go.Scatter(x=val_dates, y=predicted_prices, name=\"Predicted Price\", \n",
    "                  line=dict(color='#F24236', width=2, dash='dot')),\n",
    "        row=1, col=1\n",
    "    )\n",
    "    \n",
    "    # Add future predictions if available\n",
    "    if future_dates is not None and future_prices is not None:\n",
    "        fig.add_trace(\n",
    "            go.Scatter(x=future_dates, y=future_prices, name=\"Future Prediction\", \n",
    "                      line=dict(color='#00FF00', width=3, dash='dash'),\n",
    "                      marker=dict(size=8, symbol='star')),\n",
    "            row=1, col=1\n",
    "        )\n",
    "    \n",
    "    # Add volume bar chart\n",
    "    fig.add_trace(\n",
    "        go.Bar(x=val_dates, y=df['Volume'].values[-len(actual_prices):], \n",
    "               name=\"Volume\", marker_color='#A23B72'),\n",
    "        row=2, col=1\n",
    "    )\n",
    "    \n",
    "    # Add moving averages if available\n",
    "    if 'SMA_50' in df.columns:\n",
    "        fig.add_trace(\n",
    "            go.Scatter(x=val_dates, y=df['SMA_50'].values[-len(actual_prices):], \n",
    "                       name=\"SMA 50\", line=dict(color='orange', width=1)),\n",
    "            row=1, col=1\n",
    "        )\n",
    "    \n",
    "    # Update layout\n",
    "    fig.update_layout(\n",
    "        title=f'{symbol} Stock Price Prediction with {model_name}',\n",
    "        yaxis_title='Price ($)',\n",
    "        xaxis_rangeslider_visible=False,\n",
    "        template='plotly_white',\n",
    "        height=700,\n",
    "        legend=dict(orientation=\"h\", yanchor=\"bottom\", y=1.02, xanchor=\"right\", x=1)\n",
    "    )\n",
    "    \n",
    "    # Update y-axis label\n",
    "    fig.update_yaxes(title_text=\"Price ($)\", row=1, col=1)\n",
    "    fig.update_yaxes(title_text=\"Volume\", row=2, col=1)\n",
    "    \n",
    "    # Add prediction accuracy annotation\n",
    "    mae = mean_absolute_error(actual_prices, predicted_prices)\n",
    "    mape = np.mean(np.abs((actual_prices - predicted_prices) / actual_prices)) * 100\n",
    "    \n",
    "    fig.add_annotation(\n",
    "        x=0.02, y=0.98,\n",
    "        xref=\"paper\", yref=\"paper\",\n",
    "        text=f\"MAE: ${mae:.2f}<br>MAPE: {mape:.2f}%\",\n",
    "        showarrow=False,\n",
    "        font=dict(size=12),\n",
    "        align=\"left\",\n",
    "        bordercolor=\"black\",\n",
    "        borderwidth=1,\n",
    "        borderpad=4,\n",
    "        bgcolor=\"white\",\n",
    "        opacity=0.8\n",
    "    )\n",
    "    \n",
    "    return fig"
   ]
  },
  {
   "cell_type": "markdown",
   "id": "4f7b29da",
   "metadata": {},
   "source": [
    "### Visualizing and Plotting the Technical Indicators (RSI, MACD)"
   ]
  },
  {
   "cell_type": "code",
   "execution_count": 27,
   "id": "1a7af701",
   "metadata": {},
   "outputs": [],
   "source": [
    "def plot_technical_indicators(df, symbol):\n",
    "    fig = make_subplots(\n",
    "        rows=3, cols=1,\n",
    "        shared_xaxes=True,\n",
    "        vertical_spacing=0.05,\n",
    "        subplot_titles=('Price with Bollinger Bands', 'RSI', 'MACD'),\n",
    "        row_width=[0.2, 0.2, 0.6]\n",
    "    )\n",
    "    \n",
    "    # Price with Bollinger Bands\n",
    "    fig.add_trace(\n",
    "        go.Scatter(x=df.index, y=df['Close'], name=\"Close\", line=dict(color='#2E86AB')),\n",
    "        row=1, col=1\n",
    "    )\n",
    "    \n",
    "    if 'BB_H' in df.columns and 'BB_L' in df.columns:\n",
    "        fig.add_trace(\n",
    "            go.Scatter(x=df.index, y=df['BB_H'], name=\"Upper Band\", line=dict(color='gray', dash='dash')),\n",
    "            row=1, col=1\n",
    "        )\n",
    "        fig.add_trace(\n",
    "            go.Scatter(x=df.index, y=df['BB_L'], name=\"Lower Band\", line=dict(color='gray', dash='dash'),\n",
    "                      fill='tonexty', fillcolor='rgba(128,128,128,0.1)'),\n",
    "            row=1, col=1\n",
    "        )\n",
    "    \n",
    "    # RSI\n",
    "    if 'RSI' in df.columns:\n",
    "        fig.add_trace(\n",
    "            go.Scatter(x=df.index, y=df['RSI'], name=\"RSI\", line=dict(color='purple')),\n",
    "            row=2, col=1\n",
    "        )\n",
    "        # Add RSI overbought/oversold lines\n",
    "        fig.add_hline(y=70, line_dash=\"dash\", line_color=\"red\", row=2, col=1)\n",
    "        fig.add_hline(y=30, line_dash=\"dash\", line_color=\"green\", row=2, col=1)\n",
    "    \n",
    "    # MACD\n",
    "    if 'MACD' in df.columns and 'MACD_SIGNAL' in df.columns:\n",
    "        fig.add_trace(\n",
    "            go.Scatter(x=df.index, y=df['MACD'], name=\"MACD\", line=dict(color='blue')),\n",
    "            row=3, col=1\n",
    "        )\n",
    "        fig.add_trace(\n",
    "            go.Scatter(x=df.index, y=df['MACD_SIGNAL'], name=\"Signal\", line=dict(color='red')),\n",
    "            row=3, col=1\n",
    "        )\n",
    "    \n",
    "    fig.update_layout(\n",
    "        title=f'{symbol} Technical Indicators',\n",
    "        height=800,\n",
    "        showlegend=True,\n",
    "        template='plotly_white'\n",
    "    )\n",
    "    \n",
    "    return fig\n",
    "\n",
    "# Stock symbol mapping for common stocks\n",
    "STOCK_SYMBOL_MAP = {\n",
    "    # US Stocks\n",
    "    'AAPL': 'AAPL', 'APPLE': 'AAPL',\n",
    "    'MSFT': 'MSFT', 'MICROSOFT': 'MSFT',\n",
    "    'GOOGL': 'GOOGL', 'GOOGLE': 'GOOGL', 'ALPHABET': 'GOOGL',\n",
    "    'AMZN': 'AMZN', 'AMAZON': 'AMZN',\n",
    "    'TSLA': 'TSLA', 'TESLA': 'TSLA',\n",
    "    'META': 'META', 'FACEBOOK': 'META',\n",
    "    'NFLX': 'NFLX', 'NETFLIX': 'NFLX',\n",
    "    'NVDA': 'NVDA', 'NVIDIA': 'NVDA',\n",
    "    \n",
    "    # Indian Stocks (NSE)\n",
    "    'RELIANCE': 'RELIANCE.NS', 'L&T': 'LT.NS', 'LT': 'LT.NS', 'LARSEN': 'LT.NS',\n",
    "    'TCS': 'TCS.NS', 'INFY': 'INFY.NS', 'INFOSYS': 'INFY.NS',\n",
    "    'HDFC': 'HDFCBANK.NS', 'HDFCBANK': 'HDFCBANK.NS',\n",
    "    'ICICI': 'ICICIBANK.NS', 'ICICIBANK': 'ICICIBANK.NS',\n",
    "    'SBIN': 'SBIN.NS', 'SBI': 'SBIN.NS',\n",
    "    'WIPRO': 'WIPRO.NS', 'AXISBANK': 'AXISBANK.NS',\n",
    "    'KOTAKBANK': 'KOTAKBANK.NS', 'KOTAK': 'KOTAKBANK.NS',\n",
    "    'BHARTI': 'BHARTIARTL.NS', 'AIRTEL': 'BHARTIARTL.NS',\n",
    "    \n",
    "    # International Stocks\n",
    "    'SAMSUNG': '005930.KS', 'TOYOTA': 'TM', 'SONY': 'SONY',\n",
    "    'SHELL': 'SHEL', 'BP': 'BP', 'TOTAL': 'TTE'\n",
    "}\n"
   ]
  },
  {
   "cell_type": "markdown",
   "id": "3d722a13",
   "metadata": {},
   "source": [
    "### Getting the User Input for Stock Symbol"
   ]
  },
  {
   "cell_type": "code",
   "execution_count": 28,
   "id": "db179e97",
   "metadata": {},
   "outputs": [],
   "source": [
    "def get_correct_symbol(symbol_input):\n",
    "    \"\"\"Convert user input to correct Yahoo Finance symbol\"\"\"\n",
    "    symbol_input = symbol_input.upper().strip()\n",
    "    \n",
    "    # Check if input is already in the map\n",
    "    if symbol_input in STOCK_SYMBOL_MAP:\n",
    "        return STOCK_SYMBOL_MAP[symbol_input]\n",
    "    \n",
    "    # Check if it's a known Indian stock without .NS\n",
    "    if symbol_input + '.NS' in STOCK_SYMBOL_MAP.values():\n",
    "        return symbol_input + '.NS'\n",
    "    \n",
    "    # If it contains special characters, try to clean it\n",
    "    if '&' in symbol_input:\n",
    "        # Handle cases like \"L&T\"\n",
    "        cleaned = symbol_input.replace('&', '').replace(' ', '')\n",
    "        if cleaned in STOCK_SYMBOL_MAP:\n",
    "            return STOCK_SYMBOL_MAP[cleaned]\n",
    "    \n",
    "    # If no mapping found, return as is (user might know the exact symbol)\n",
    "    return symbol_input\n",
    "\n",
    "def suggest_symbols(partial_input):\n",
    "    \"\"\"Suggest possible symbols based on partial input\"\"\"\n",
    "    partial = partial_input.upper()\n",
    "    suggestions = []\n",
    "    \n",
    "    for name, symbol in STOCK_SYMBOL_MAP.items():\n",
    "        if partial in name.upper() or partial in symbol.upper():\n",
    "            suggestions.append((name, symbol))\n",
    "    \n",
    "    return suggestions[:5]  # Return top 5 suggestions\n",
    "\n",
    "def predict_stock_price_enhanced(symbol_input, period='3y', n_ahead=5, future_days=7):\n",
    "    \"\"\"\n",
    "    Enhanced stock prediction with better date handling and visualizations\n",
    "    \"\"\"\n",
    "    # Check market status first\n",
    "    get_market_status()\n",
    "    \n",
    "    # Get correct symbol format\n",
    "    symbol = get_correct_symbol(symbol_input)\n",
    "    \n",
    "    print(f\"\\n{'='*60}\")\n",
    "    print(f\"PREDICTING STOCK PRICE FOR: {symbol_input} -> {symbol}\")\n",
    "    print(f\"{'='*60}\")\n",
    "    \n",
    "    # Step 1: Fetch data with date information\n",
    "    df = fetch_yf(symbol, period=period)\n",
    "    if df is None:\n",
    "        print(f\"Could not fetch data for {symbol}. Please check the symbol and try again.\")\n",
    "        \n",
    "        # Suggest similar symbols\n",
    "        suggestions = suggest_symbols(symbol_input)\n",
    "        if suggestions:\n",
    "            print(f\"\\nDid you mean one of these?\")\n",
    "            for name, correct_symbol in suggestions:\n",
    "                print(f\"  {name} -> {correct_symbol}\")\n",
    "        \n",
    "        return None\n",
    "    \n",
    "    # Show data date range\n",
    "    print(f\"Data Range: {df.index[0].strftime('%Y-%m-%d')} to {df.index[-1].strftime('%Y-%m-%d')}\")\n",
    "    print(f\"Most recent price: ${df['Close'].iloc[-1]:.2f}\")\n",
    "    \n",
    "    # Step 2: Add technical indicators\n",
    "    df = add_technical_indicators(df)\n",
    "    print(f\"Data shape after technical indicators: {df.shape}\")\n",
    "    \n",
    "    # Step 3: Prepare features\n",
    "    features = ['Close','SMA_10','SMA_50','EMA_20','RSI','MACD','MACD_SIGNAL','BB_H','BB_L','Volume']\n",
    "    available_features = [f for f in features if f in df.columns]\n",
    "    df = df.dropna(subset=available_features)\n",
    "    \n",
    "    if len(df) < 100:\n",
    "        print(f\"Not enough data for {symbol}. Only {len(df)} records available.\")\n",
    "        return None\n",
    "    \n",
    "    # Step 4: Train models\n",
    "    print(\"\\nTraining Classical Models...\")\n",
    "    X, y, df_supervised = prepare_supervised(df, feature_cols=available_features, n_ahead=n_ahead)\n",
    "    \n",
    "    X_train, X_test, y_train, y_test = train_test_split(X, y, test_size=0.2, shuffle=False)\n",
    "    \n",
    "    scaler = MinMaxScaler()\n",
    "    X_train_scaled = scaler.fit_transform(X_train)\n",
    "    X_test_scaled = scaler.transform(X_test)\n",
    "    \n",
    "    results = train_and_eval_models(X_train_scaled, X_test_scaled, y_train, y_test)\n",
    "    \n",
    "    print(\"\\nClassical Models Performance:\")\n",
    "    for k, v in results.items():\n",
    "        print(f\"{k:15} MSE: {v['mse']:.4f}, MAE: {v['mae']:.4f}, R²: {v['r2']:.4f}\")\n",
    "    \n",
    "    # Step 5: LSTM Model\n",
    "    print(\"\\nTraining LSTM Model...\")\n",
    "    lstm_df = df[['Close','Volume']].copy()\n",
    "    scaler_lstm = MinMaxScaler()\n",
    "    scaled = scaler_lstm.fit_transform(lstm_df)\n",
    "    \n",
    "    SEQ_LEN = 60\n",
    "    X_seq, y_seq = create_sequences(scaled, seq_length=SEQ_LEN)\n",
    "    \n",
    "    lstm_results = None\n",
    "    if len(X_seq) >= 100:\n",
    "        split = int(0.8 * len(X_seq))\n",
    "        X_tr, X_val = X_seq[:split], X_seq[split:]\n",
    "        y_tr, y_val = y_seq[:split], y_seq[split:]\n",
    "        \n",
    "        lstm = build_lstm(input_shape=(X_tr.shape[1], X_tr.shape[2]))\n",
    "        early = tf.keras.callbacks.EarlyStopping(monitor='val_loss', patience=8, restore_best_weights=True)\n",
    "        \n",
    "        history = lstm.fit(X_tr, y_tr, validation_data=(X_val, y_val), \n",
    "                          epochs=50, batch_size=32, callbacks=[early], verbose=0)\n",
    "        \n",
    "        val_preds = lstm.predict(X_val, verbose=0).flatten()\n",
    "        \n",
    "        y_val_un = scaler_lstm.inverse_transform(\n",
    "            np.concatenate([y_val.reshape(-1,1), np.zeros((len(y_val),1))], axis=1)\n",
    "        )[:,0]\n",
    "        preds_un = scaler_lstm.inverse_transform(\n",
    "            np.concatenate([val_preds.reshape(-1,1), np.zeros((len(val_preds),1))], axis=1)\n",
    "        )[:,0]\n",
    "        \n",
    "        lstm_mae = mean_absolute_error(y_val_un, preds_un)\n",
    "        lstm_mse = mean_squared_error(y_val_un, preds_un)\n",
    "        print(f\"LSTM Performance: MSE: {lstm_mse:.4f}, MAE: {lstm_mae:.4f}\")\n",
    "        \n",
    "        lstm_results = {\n",
    "            'actual': y_val_un,\n",
    "            'predicted': preds_un,\n",
    "            'model': lstm,\n",
    "            'scaler': scaler_lstm\n",
    "        }\n",
    "    else:\n",
    "        print(f\"Not enough sequences for LSTM training. Need at least 100, got {len(X_seq)}\")\n",
    "    \n",
    "    # Step 6: Enhanced Future Predictions\n",
    "    print(f\"\\nGenerating {future_days}-Day Future Predictions...\")\n",
    "    \n",
    "    last_date = df.index[-1]\n",
    "    future_dates = generate_future_dates_enhanced(last_date, days_ahead=future_days)\n",
    "    \n",
    "    # Future predictions\n",
    "    rf_model = results['RandomForest']['model']\n",
    "    rf_future_predictions = predict_future_prices(rf_model, scaler, df, available_features, days_ahead=future_days)\n",
    "    \n",
    "    lstm_future_predictions = None\n",
    "    if lstm_results is not None:\n",
    "        lstm_future_predictions = predict_future_lstm(lstm_results['model'], lstm_results['scaler'], \n",
    "                                                     df, sequence_length=SEQ_LEN, days_ahead=future_days)\n",
    "    \n",
    "    # Step 7: Create Enhanced Visualizations\n",
    "    today_price = df['Close'].iloc[-1]\n",
    "    \n",
    "    print(\"\\nCreating Enhanced Visualizations...\")\n",
    "    \n",
    "    # 1. Future Predictions Table\n",
    "    table_fig, predictions_df = create_future_predictions_table(\n",
    "        symbol, today_price, future_dates, rf_future_predictions, lstm_future_predictions\n",
    "    )\n",
    "    table_fig.show()\n",
    "    \n",
    "    # 2. Comparison Chart\n",
    "    comparison_fig = create_prediction_comparison_chart(\n",
    "        symbol, today_price, future_dates, rf_future_predictions, lstm_future_predictions\n",
    "    )\n",
    "    comparison_fig.show()\n",
    "    \n",
    "    # 3. Classical models visualization with future predictions\n",
    "    best_classical = results['RandomForest']\n",
    "    classical_fig = create_professional_stock_visualization(\n",
    "        df, y_test, best_classical['predictions'], symbol, \"RandomForest\",\n",
    "        future_dates, rf_future_predictions\n",
    "    )\n",
    "    classical_fig.show()\n",
    "    \n",
    "    # 4. LSTM visualization if available\n",
    "    if lstm_results is not None:\n",
    "        lstm_fig = create_professional_stock_visualization(\n",
    "            df, lstm_results['actual'], lstm_results['predicted'], symbol, \"LSTM\",\n",
    "            future_dates, lstm_future_predictions\n",
    "        )\n",
    "        lstm_fig.show()\n",
    "    \n",
    "    # 5. Technical indicators visualization\n",
    "    tech_fig = plot_technical_indicators(df, symbol)\n",
    "    tech_fig.show()\n",
    "    \n",
    "    # Display detailed predictions in console\n",
    "    print(f\"\\n{'='*80}\")\n",
    "    print(f\"DETAILED FUTURE PREDICTIONS FOR {symbol}\")\n",
    "    print(f\"{'='*80}\")\n",
    "    print(f\"Analysis Date: {datetime.now().strftime('%Y-%m-%d %H:%M:%S')}\")\n",
    "    print(f\"Current Price: ${today_price:.2f}\")\n",
    "    print(f\"Last Trading Day: {last_date.strftime('%Y-%m-%d (%A)')}\")\n",
    "    print(f\"\\nNext {future_days} Trading Days:\")\n",
    "    print(\"-\" * 80)\n",
    "    \n",
    "    for i, date in enumerate(future_dates):\n",
    "        rf_pred = rf_future_predictions[i]\n",
    "        rf_change = ((rf_pred - today_price) / today_price) * 100\n",
    "        \n",
    "        print(f\"{date.strftime('%Y-%m-%d (%A)')}: \", end=\"\")\n",
    "        print(f\"RF: ${rf_pred:.2f} ({rf_change:+.2f}%)\", end=\"\")\n",
    "        \n",
    "        if lstm_future_predictions:\n",
    "            lstm_pred = lstm_future_predictions[i]\n",
    "            lstm_change = ((lstm_pred - today_price) / today_price) * 100\n",
    "            print(f\" | LSTM: ${lstm_pred:.2f} ({lstm_change:+.2f}%)\", end=\"\")\n",
    "            \n",
    "            # Show which model is more bullish/bearish\n",
    "            if abs(rf_change) > abs(lstm_change):\n",
    "                stronger = \"RF more volatile\"\n",
    "            elif abs(lstm_change) > abs(rf_change):\n",
    "                stronger = \"LSTM more volatile\"\n",
    "            else:\n",
    "                stronger = \"Similar volatility\"\n",
    "            print(f\" | {stronger}\", end=\"\")\n",
    "        \n",
    "        # Add trend emoji\n",
    "        if rf_change > 2:\n",
    "            print(\" 🚀\")\n",
    "        elif rf_change > 0:\n",
    "            print(\" 📈\")\n",
    "        elif rf_change < -2:\n",
    "            print(\" 📉\")\n",
    "        elif rf_change < 0:\n",
    "            print(\" 🔻\")\n",
    "        else:\n",
    "            print(\" ➡️\")\n",
    "    \n",
    "    # Summary statistics\n",
    "    rf_avg_change = np.mean([((p - today_price) / today_price) * 100 for p in rf_future_predictions])\n",
    "    rf_max_price = max(rf_future_predictions)\n",
    "    rf_min_price = min(rf_future_predictions)\n",
    "    \n",
    "    print(f\"\\nSUMMARY STATISTICS:\")\n",
    "    print(f\"RandomForest Average Change: {rf_avg_change:+.2f}%\")\n",
    "    print(f\"Predicted Range: ${rf_min_price:.2f} - ${rf_max_price:.2f}\")\n",
    "    print(f\"Price Volatility: {((rf_max_price - rf_min_price) / today_price) * 100:.2f}%\")\n",
    "    \n",
    "    if lstm_future_predictions:\n",
    "        lstm_avg_change = np.mean([((p - today_price) / today_price) * 100 for p in lstm_future_predictions])\n",
    "        print(f\"LSTM Average Change: {lstm_avg_change:+.2f}%\")\n",
    "    \n",
    "    # Step 8: Save models\n",
    "    print(\"\\nSaving Models...\")\n",
    "    \n",
    "    # Save RandomForest model\n",
    "    rf_filename = f\"{symbol.replace('.', '_')}_rf_model.joblib\"\n",
    "    joblib.dump(results['RandomForest']['model'], rf_filename)\n",
    "    print(f\"RandomForest model saved as {rf_filename}\")\n",
    "    \n",
    "    # Save the MinMaxScaler used for classical models\n",
    "    scaler_filename = f\"{symbol.replace('.', '_')}_scaler.joblib\"\n",
    "    joblib.dump(scaler, scaler_filename)\n",
    "    print(f\"Scaler saved as {scaler_filename}\")\n",
    "    \n",
    "    # Save LSTM model and its scaler\n",
    "    if lstm_results is not None:\n",
    "        lstm_filename = f\"{symbol.replace('.', '_')}_lstm_model.keras\"\n",
    "        lstm_results['model'].save(lstm_filename)\n",
    "        print(f\"LSTM model saved as {lstm_filename}\")\n",
    "        \n",
    "        lstm_scaler_filename = f\"{symbol.replace('.', '_')}_lstm_scaler.joblib\"\n",
    "        joblib.dump(lstm_results['scaler'], lstm_scaler_filename)\n",
    "        print(f\"LSTM scaler saved as {lstm_scaler_filename}\")\n",
    "    \n",
    "    print(f\"\\nPrediction completed for {symbol}!\")\n",
    "    \n",
    "    return {\n",
    "        'classical_results': results,\n",
    "        'lstm_results': lstm_results,\n",
    "        'dataframe': df,\n",
    "        'original_symbol': symbol_input,\n",
    "        'correct_symbol': symbol,\n",
    "        'future_predictions': {\n",
    "            'dates': future_dates,\n",
    "            'rf_predictions': rf_future_predictions,\n",
    "            'lstm_predictions': lstm_future_predictions\n",
    "        },\n",
    "        'predictions_table': predictions_df,\n",
    "        'current_price': today_price\n",
    "    }\n"
   ]
  },
  {
   "cell_type": "markdown",
   "id": "e7045ff7",
   "metadata": {},
   "source": [
    "### Stock Performance Analysis "
   ]
  },
  {
   "cell_type": "code",
   "execution_count": 29,
   "id": "d71ad866",
   "metadata": {},
   "outputs": [],
   "source": [
    "\n",
    "def create_portfolio_analysis(symbols_list, future_days=7):\n",
    "    \"\"\"\n",
    "    Analyze multiple stocks and create a portfolio comparison\n",
    "    \"\"\"\n",
    "    print(f\"\\n{'='*80}\")\n",
    "    print(f\"PORTFOLIO ANALYSIS FOR MULTIPLE STOCKS\")\n",
    "    print(f\"{'='*80}\")\n",
    "    \n",
    "    portfolio_data = []\n",
    "    all_results = {}\n",
    "    \n",
    "    for symbol_input in symbols_list:\n",
    "        try:\n",
    "            print(f\"\\nProcessing {symbol_input}...\")\n",
    "            result = predict_stock_price_enhanced(symbol_input, future_days=future_days)\n",
    "            if result is not None:\n",
    "                all_results[symbol_input] = result\n",
    "                \n",
    "                # Extract key data for portfolio comparison\n",
    "                current_price = result['current_price']\n",
    "                rf_predictions = result['future_predictions']['rf_predictions']\n",
    "                lstm_predictions = result['future_predictions']['lstm_predictions']\n",
    "                \n",
    "                # Calculate metrics\n",
    "                rf_avg_change = np.mean([((p - current_price) / current_price) * 100 for p in rf_predictions])\n",
    "                rf_volatility = np.std([((p - current_price) / current_price) * 100 for p in rf_predictions])\n",
    "                \n",
    "                portfolio_data.append({\n",
    "                    'Symbol': result['correct_symbol'],\n",
    "                    'Current_Price': current_price,\n",
    "                    'RF_Avg_Change_%': rf_avg_change,\n",
    "                    'RF_Volatility_%': rf_volatility,\n",
    "                    'Trend': '📈' if rf_avg_change > 0 else '📉' if rf_avg_change < 0 else '➡️'\n",
    "                })\n",
    "                \n",
    "        except Exception as e:\n",
    "            print(f\"Error processing {symbol_input}: {str(e)}\")\n",
    "            continue\n",
    "    \n",
    "    if portfolio_data:\n",
    "        # Create portfolio comparison table\n",
    "        portfolio_df = pd.DataFrame(portfolio_data)\n",
    "        \n",
    "        # Create portfolio comparison visualization\n",
    "        fig = go.Figure()\n",
    "        \n",
    "        # Prepare portfolio table\n",
    "        header_values = ['Symbol', 'Current Price ($)', 'Avg Change (%)', 'Volatility (%)', 'Trend']\n",
    "        cell_values = [\n",
    "            portfolio_df['Symbol'].tolist(),\n",
    "            [f\"${x:.2f}\" for x in portfolio_df['Current_Price']],\n",
    "            [f\"{x:+.2f}%\" for x in portfolio_df['RF_Avg_Change_%']],\n",
    "            [f\"{x:.2f}%\" for x in portfolio_df['RF_Volatility_%']],\n",
    "            portfolio_df['Trend'].tolist()\n",
    "        ]\n",
    "        \n",
    "        # Color code based on performance\n",
    "        def get_portfolio_colors(changes):\n",
    "            colors = []\n",
    "            for change in changes:\n",
    "                if change > 1:\n",
    "                    colors.append('#d4edda')  # Light green for strong positive\n",
    "                elif change > 0:\n",
    "                    colors.append('#f0f9f0')  # Very light green for positive\n",
    "                elif change < -1:\n",
    "                    colors.append('#f8d7da')  # Light red for strong negative\n",
    "                elif change < 0:\n",
    "                    colors.append('#fdf2f2')  # Very light red for negative\n",
    "                else:\n",
    "                    colors.append('#fff3cd')  # Light yellow for neutral\n",
    "            return colors\n",
    "        \n",
    "        change_colors = get_portfolio_colors(portfolio_df['RF_Avg_Change_%'])\n",
    "        \n",
    "        fig.add_trace(go.Table(\n",
    "            header=dict(\n",
    "                values=header_values,\n",
    "                fill_color='#1f2937',\n",
    "                font=dict(color='white', size=14, family=\"Arial Black\"),\n",
    "                align='center',\n",
    "                height=40\n",
    "            ),\n",
    "            cells=dict(\n",
    "                values=cell_values,\n",
    "                fill_color=[['white'] * len(portfolio_df),  # Symbol\n",
    "                           ['white'] * len(portfolio_df),   # Current Price\n",
    "                           change_colors,                   # Avg Change\n",
    "                           ['white'] * len(portfolio_df),   # Volatility\n",
    "                           change_colors],                  # Trend\n",
    "                font=dict(size=12),\n",
    "                align='center',\n",
    "                height=35\n",
    "            )\n",
    "        ))\n",
    "        \n",
    "        fig.update_layout(\n",
    "            title='📊 Portfolio Analysis - Stock Performance Comparison',\n",
    "            height=300 + len(portfolio_df) * 35,\n",
    "            margin=dict(l=20, r=20, t=80, b=20)\n",
    "        )\n",
    "        \n",
    "        fig.show()\n",
    "        \n",
    "        # Display portfolio summary\n",
    "        print(f\"\\n{'='*60}\")\n",
    "        print(f\"PORTFOLIO SUMMARY\")\n",
    "        print(f\"{'='*60}\")\n",
    "        print(f\"Total Stocks Analyzed: {len(portfolio_df)}\")\n",
    "        \n",
    "        # Best and worst performers\n",
    "        best_performer = portfolio_df.loc[portfolio_df['RF_Avg_Change_%'].idxmax()]\n",
    "        worst_performer = portfolio_df.loc[portfolio_df['RF_Avg_Change_%'].idxmin()]\n",
    "        \n",
    "        print(f\" Best Performer: {best_performer['Symbol']} ({best_performer['RF_Avg_Change_%']:+.2f}%)\")\n",
    "        print(f\" Worst Performer: {worst_performer['Symbol']} ({worst_performer['RF_Avg_Change_%']:+.2f}%)\")\n",
    "        \n",
    "        # Risk analysis\n",
    "        lowest_risk = portfolio_df.loc[portfolio_df['RF_Volatility_%'].idxmin()]\n",
    "        highest_risk = portfolio_df.loc[portfolio_df['RF_Volatility_%'].idxmax()]\n",
    "        \n",
    "        print(f\" Lowest Risk: {lowest_risk['Symbol']} ({lowest_risk['RF_Volatility_%']:.2f}% volatility)\")\n",
    "        print(f\" Highest Risk: {highest_risk['Symbol']} ({highest_risk['RF_Volatility_%']:.2f}% volatility)\")\n",
    "        \n",
    "        return all_results, portfolio_df\n",
    "    \n",
    "    return all_results, None\n"
   ]
  },
  {
   "cell_type": "markdown",
   "id": "f4fd7367",
   "metadata": {},
   "source": [
    "### Main Execution - Stock Price Prediction System"
   ]
  },
  {
   "cell_type": "code",
   "execution_count": 30,
   "id": "44917b4a",
   "metadata": {},
   "outputs": [
    {
     "name": "stdout",
     "output_type": "stream",
     "text": [
      "ENHANCED STOCK PRICE PREDICTION SYSTEM\n",
      "============================================================\n",
      "Features:\n",
      "Market status checking\n",
      "Enhanced date handling (weekend awareness)\n",
      "Interactive prediction tables\n",
      "Multiple model comparisons\n",
      "Portfolio analysis\n",
      "Professional visualizations\n",
      "============================================================\n",
      "\n",
      "You can enter:\n",
      "- US Stocks: AAPL, MSFT, GOOGL, TSLA, AMZN, etc.\n",
      "- Indian Stocks: RELIANCE, TCS, INFY, L&T, HDFC, etc.\n",
      "- Other: Use exact Yahoo Finance symbols\n",
      "\n",
      "Enter stock symbols (type 'done' when finished)\n",
      "============================================================\n",
      "\n",
      "============================================================\n",
      "MARKET STATUS CHECK\n",
      "============================================================\n",
      "Current Date/Time: 2025-09-29 19:06:47\n",
      "Today is: Monday\n",
      "Markets closed for the day\n",
      "Today's data should be available\n",
      "============================================================\n",
      "\n",
      "============================================================\n",
      "PREDICTING STOCK PRICE FOR: Tesla -> TSLA\n",
      "============================================================\n",
      "Successfully fetched data for TSLA. Shape: (752, 5)\n",
      "Data Range: 2022-09-29 to 2025-09-29\n",
      "Most recent price: $448.64\n",
      "Data shape after technical indicators: (703, 13)\n",
      "\n",
      "Training Classical Models...\n",
      "\n",
      "Classical Models Performance:\n",
      "LinearRegression MSE: 924.3286, MAE: 22.8265, R²: 0.6193\n",
      "RandomForest    MSE: 824.1658, MAE: 21.4749, R²: 0.6605\n",
      "SVR             MSE: 4578.2508, MAE: 55.7098, R²: -0.8858\n",
      "\n",
      "Training LSTM Model...\n",
      "LSTM Performance: MSE: 425.3180, MAE: 16.0028\n",
      "\n",
      "Generating 7-Day Future Predictions...\n",
      "\n",
      "GENERATING FUTURE TRADING DATES\n",
      "Last trading day in data: 2025-09-29 (Monday)\n",
      "2025-09-30 (Tuesday) - Trading Day\n",
      "2025-10-01 (Wednesday) - Trading Day\n",
      "2025-10-02 (Thursday) - Trading Day\n",
      "2025-10-03 (Friday) - Trading Day\n",
      "2025-10-04 (Saturday) - Skipped (Weekend)\n",
      "2025-10-05 (Sunday) - Skipped (Weekend)\n",
      "2025-10-06 (Monday) - Trading Day\n",
      "2025-10-07 (Tuesday) - Trading Day\n",
      "2025-10-08 (Wednesday) - Trading Day\n",
      "\n",
      "Generated 7 future trading days\n",
      "Skipped 2 weekend days\n",
      "\n",
      "Creating Enhanced Visualizations...\n"
     ]
    },
    {
     "data": {
      "application/vnd.plotly.v1+json": {
       "config": {
        "plotlyServerURL": "https://plot.ly"
       },
       "data": [
        {
         "cells": {
          "align": "center",
          "fill": {
           "color": [
            [
             "white",
             "white",
             "white",
             "white",
             "white",
             "white",
             "white"
            ],
            [
             "white",
             "white",
             "white",
             "white",
             "white",
             "white",
             "white"
            ],
            [
             "white",
             "white",
             "white",
             "white",
             "white",
             "white",
             "white"
            ],
            [
             "#f8d7da",
             "#f8d7da",
             "#f8d7da",
             "#f8d7da",
             "#f8d7da",
             "#f8d7da",
             "#f8d7da"
            ],
            [
             "#f8d7da",
             "#f8d7da",
             "#f8d7da",
             "#f8d7da",
             "#f8d7da",
             "#f8d7da",
             "#f8d7da"
            ],
            [
             "#f8d7da",
             "#f8d7da",
             "#f8d7da",
             "#f8d7da",
             "#f8d7da",
             "#f8d7da",
             "#f8d7da"
            ],
            [
             "#f8d7da",
             "#f8d7da",
             "#f8d7da",
             "#f8d7da",
             "#f8d7da",
             "#f8d7da",
             "#f8d7da"
            ],
            [
             "#f8d7da",
             "#f8d7da",
             "#f8d7da",
             "#f8d7da",
             "#f8d7da",
             "#f8d7da",
             "#f8d7da"
            ],
            [
             "#f8d7da",
             "#f8d7da",
             "#f8d7da",
             "#f8d7da",
             "#f8d7da",
             "#f8d7da",
             "#f8d7da"
            ]
           ]
          },
          "font": {
           "size": 12
          },
          "height": 35,
          "values": [
           [
            "2025-09-30",
            "2025-10-01",
            "2025-10-02",
            "2025-10-03",
            "2025-10-06",
            "2025-10-07",
            "2025-10-08"
           ],
           [
            "Tuesday",
            "Wednesday",
            "Thursday",
            "Friday",
            "Monday",
            "Tuesday",
            "Wednesday"
           ],
           [
            1,
            2,
            3,
            4,
            5,
            6,
            7
           ],
           [
            "$416.19",
            "$416.89",
            "$416.92",
            "$416.92",
            "$416.92",
            "$416.92",
            "$416.92"
           ],
           [
            "-7.23%",
            "-7.08%",
            "-7.07%",
            "-7.07%",
            "-7.07%",
            "-7.07%",
            "-7.07%"
           ],
           [
            "📉",
            "📉",
            "📉",
            "📉",
            "📉",
            "📉",
            "📉"
           ],
           [
            "$436.08",
            "$435.62",
            "$434.99",
            "$434.71",
            "$434.98",
            "$435.81",
            "$437.13"
           ],
           [
            "-2.80%",
            "-2.90%",
            "-3.04%",
            "-3.11%",
            "-3.05%",
            "-2.86%",
            "-2.57%"
           ],
           [
            "📉",
            "📉",
            "📉",
            "📉",
            "📉",
            "📉",
            "📉"
           ]
          ]
         },
         "header": {
          "align": "center",
          "fill": {
           "color": "#1f2937"
          },
          "font": {
           "color": "white",
           "family": "Arial Black",
           "size": 14
          },
          "height": 40,
          "values": [
           "Date",
           "Day",
           "Days<br>Ahead",
           "RF Price<br>($)",
           "RF Change<br>(%)",
           "RF<br>Trend",
           "LSTM Price<br>($)",
           "LSTM Change<br>(%)",
           "LSTM<br>Trend"
          ]
         },
         "type": "table"
        }
       ],
       "layout": {
        "height": 400,
        "margin": {
         "b": 20,
         "l": 20,
         "r": 20,
         "t": 80
        },
        "template": {
         "data": {
          "bar": [
           {
            "error_x": {
             "color": "#2a3f5f"
            },
            "error_y": {
             "color": "#2a3f5f"
            },
            "marker": {
             "line": {
              "color": "#E5ECF6",
              "width": 0.5
             },
             "pattern": {
              "fillmode": "overlay",
              "size": 10,
              "solidity": 0.2
             }
            },
            "type": "bar"
           }
          ],
          "barpolar": [
           {
            "marker": {
             "line": {
              "color": "#E5ECF6",
              "width": 0.5
             },
             "pattern": {
              "fillmode": "overlay",
              "size": 10,
              "solidity": 0.2
             }
            },
            "type": "barpolar"
           }
          ],
          "carpet": [
           {
            "aaxis": {
             "endlinecolor": "#2a3f5f",
             "gridcolor": "white",
             "linecolor": "white",
             "minorgridcolor": "white",
             "startlinecolor": "#2a3f5f"
            },
            "baxis": {
             "endlinecolor": "#2a3f5f",
             "gridcolor": "white",
             "linecolor": "white",
             "minorgridcolor": "white",
             "startlinecolor": "#2a3f5f"
            },
            "type": "carpet"
           }
          ],
          "choropleth": [
           {
            "colorbar": {
             "outlinewidth": 0,
             "ticks": ""
            },
            "type": "choropleth"
           }
          ],
          "contour": [
           {
            "colorbar": {
             "outlinewidth": 0,
             "ticks": ""
            },
            "colorscale": [
             [
              0,
              "#0d0887"
             ],
             [
              0.1111111111111111,
              "#46039f"
             ],
             [
              0.2222222222222222,
              "#7201a8"
             ],
             [
              0.3333333333333333,
              "#9c179e"
             ],
             [
              0.4444444444444444,
              "#bd3786"
             ],
             [
              0.5555555555555556,
              "#d8576b"
             ],
             [
              0.6666666666666666,
              "#ed7953"
             ],
             [
              0.7777777777777778,
              "#fb9f3a"
             ],
             [
              0.8888888888888888,
              "#fdca26"
             ],
             [
              1,
              "#f0f921"
             ]
            ],
            "type": "contour"
           }
          ],
          "contourcarpet": [
           {
            "colorbar": {
             "outlinewidth": 0,
             "ticks": ""
            },
            "type": "contourcarpet"
           }
          ],
          "heatmap": [
           {
            "colorbar": {
             "outlinewidth": 0,
             "ticks": ""
            },
            "colorscale": [
             [
              0,
              "#0d0887"
             ],
             [
              0.1111111111111111,
              "#46039f"
             ],
             [
              0.2222222222222222,
              "#7201a8"
             ],
             [
              0.3333333333333333,
              "#9c179e"
             ],
             [
              0.4444444444444444,
              "#bd3786"
             ],
             [
              0.5555555555555556,
              "#d8576b"
             ],
             [
              0.6666666666666666,
              "#ed7953"
             ],
             [
              0.7777777777777778,
              "#fb9f3a"
             ],
             [
              0.8888888888888888,
              "#fdca26"
             ],
             [
              1,
              "#f0f921"
             ]
            ],
            "type": "heatmap"
           }
          ],
          "histogram": [
           {
            "marker": {
             "pattern": {
              "fillmode": "overlay",
              "size": 10,
              "solidity": 0.2
             }
            },
            "type": "histogram"
           }
          ],
          "histogram2d": [
           {
            "colorbar": {
             "outlinewidth": 0,
             "ticks": ""
            },
            "colorscale": [
             [
              0,
              "#0d0887"
             ],
             [
              0.1111111111111111,
              "#46039f"
             ],
             [
              0.2222222222222222,
              "#7201a8"
             ],
             [
              0.3333333333333333,
              "#9c179e"
             ],
             [
              0.4444444444444444,
              "#bd3786"
             ],
             [
              0.5555555555555556,
              "#d8576b"
             ],
             [
              0.6666666666666666,
              "#ed7953"
             ],
             [
              0.7777777777777778,
              "#fb9f3a"
             ],
             [
              0.8888888888888888,
              "#fdca26"
             ],
             [
              1,
              "#f0f921"
             ]
            ],
            "type": "histogram2d"
           }
          ],
          "histogram2dcontour": [
           {
            "colorbar": {
             "outlinewidth": 0,
             "ticks": ""
            },
            "colorscale": [
             [
              0,
              "#0d0887"
             ],
             [
              0.1111111111111111,
              "#46039f"
             ],
             [
              0.2222222222222222,
              "#7201a8"
             ],
             [
              0.3333333333333333,
              "#9c179e"
             ],
             [
              0.4444444444444444,
              "#bd3786"
             ],
             [
              0.5555555555555556,
              "#d8576b"
             ],
             [
              0.6666666666666666,
              "#ed7953"
             ],
             [
              0.7777777777777778,
              "#fb9f3a"
             ],
             [
              0.8888888888888888,
              "#fdca26"
             ],
             [
              1,
              "#f0f921"
             ]
            ],
            "type": "histogram2dcontour"
           }
          ],
          "mesh3d": [
           {
            "colorbar": {
             "outlinewidth": 0,
             "ticks": ""
            },
            "type": "mesh3d"
           }
          ],
          "parcoords": [
           {
            "line": {
             "colorbar": {
              "outlinewidth": 0,
              "ticks": ""
             }
            },
            "type": "parcoords"
           }
          ],
          "pie": [
           {
            "automargin": true,
            "type": "pie"
           }
          ],
          "scatter": [
           {
            "fillpattern": {
             "fillmode": "overlay",
             "size": 10,
             "solidity": 0.2
            },
            "type": "scatter"
           }
          ],
          "scatter3d": [
           {
            "line": {
             "colorbar": {
              "outlinewidth": 0,
              "ticks": ""
             }
            },
            "marker": {
             "colorbar": {
              "outlinewidth": 0,
              "ticks": ""
             }
            },
            "type": "scatter3d"
           }
          ],
          "scattercarpet": [
           {
            "marker": {
             "colorbar": {
              "outlinewidth": 0,
              "ticks": ""
             }
            },
            "type": "scattercarpet"
           }
          ],
          "scattergeo": [
           {
            "marker": {
             "colorbar": {
              "outlinewidth": 0,
              "ticks": ""
             }
            },
            "type": "scattergeo"
           }
          ],
          "scattergl": [
           {
            "marker": {
             "colorbar": {
              "outlinewidth": 0,
              "ticks": ""
             }
            },
            "type": "scattergl"
           }
          ],
          "scattermap": [
           {
            "marker": {
             "colorbar": {
              "outlinewidth": 0,
              "ticks": ""
             }
            },
            "type": "scattermap"
           }
          ],
          "scattermapbox": [
           {
            "marker": {
             "colorbar": {
              "outlinewidth": 0,
              "ticks": ""
             }
            },
            "type": "scattermapbox"
           }
          ],
          "scatterpolar": [
           {
            "marker": {
             "colorbar": {
              "outlinewidth": 0,
              "ticks": ""
             }
            },
            "type": "scatterpolar"
           }
          ],
          "scatterpolargl": [
           {
            "marker": {
             "colorbar": {
              "outlinewidth": 0,
              "ticks": ""
             }
            },
            "type": "scatterpolargl"
           }
          ],
          "scatterternary": [
           {
            "marker": {
             "colorbar": {
              "outlinewidth": 0,
              "ticks": ""
             }
            },
            "type": "scatterternary"
           }
          ],
          "surface": [
           {
            "colorbar": {
             "outlinewidth": 0,
             "ticks": ""
            },
            "colorscale": [
             [
              0,
              "#0d0887"
             ],
             [
              0.1111111111111111,
              "#46039f"
             ],
             [
              0.2222222222222222,
              "#7201a8"
             ],
             [
              0.3333333333333333,
              "#9c179e"
             ],
             [
              0.4444444444444444,
              "#bd3786"
             ],
             [
              0.5555555555555556,
              "#d8576b"
             ],
             [
              0.6666666666666666,
              "#ed7953"
             ],
             [
              0.7777777777777778,
              "#fb9f3a"
             ],
             [
              0.8888888888888888,
              "#fdca26"
             ],
             [
              1,
              "#f0f921"
             ]
            ],
            "type": "surface"
           }
          ],
          "table": [
           {
            "cells": {
             "fill": {
              "color": "#EBF0F8"
             },
             "line": {
              "color": "white"
             }
            },
            "header": {
             "fill": {
              "color": "#C8D4E3"
             },
             "line": {
              "color": "white"
             }
            },
            "type": "table"
           }
          ]
         },
         "layout": {
          "annotationdefaults": {
           "arrowcolor": "#2a3f5f",
           "arrowhead": 0,
           "arrowwidth": 1
          },
          "autotypenumbers": "strict",
          "coloraxis": {
           "colorbar": {
            "outlinewidth": 0,
            "ticks": ""
           }
          },
          "colorscale": {
           "diverging": [
            [
             0,
             "#8e0152"
            ],
            [
             0.1,
             "#c51b7d"
            ],
            [
             0.2,
             "#de77ae"
            ],
            [
             0.3,
             "#f1b6da"
            ],
            [
             0.4,
             "#fde0ef"
            ],
            [
             0.5,
             "#f7f7f7"
            ],
            [
             0.6,
             "#e6f5d0"
            ],
            [
             0.7,
             "#b8e186"
            ],
            [
             0.8,
             "#7fbc41"
            ],
            [
             0.9,
             "#4d9221"
            ],
            [
             1,
             "#276419"
            ]
           ],
           "sequential": [
            [
             0,
             "#0d0887"
            ],
            [
             0.1111111111111111,
             "#46039f"
            ],
            [
             0.2222222222222222,
             "#7201a8"
            ],
            [
             0.3333333333333333,
             "#9c179e"
            ],
            [
             0.4444444444444444,
             "#bd3786"
            ],
            [
             0.5555555555555556,
             "#d8576b"
            ],
            [
             0.6666666666666666,
             "#ed7953"
            ],
            [
             0.7777777777777778,
             "#fb9f3a"
            ],
            [
             0.8888888888888888,
             "#fdca26"
            ],
            [
             1,
             "#f0f921"
            ]
           ],
           "sequentialminus": [
            [
             0,
             "#0d0887"
            ],
            [
             0.1111111111111111,
             "#46039f"
            ],
            [
             0.2222222222222222,
             "#7201a8"
            ],
            [
             0.3333333333333333,
             "#9c179e"
            ],
            [
             0.4444444444444444,
             "#bd3786"
            ],
            [
             0.5555555555555556,
             "#d8576b"
            ],
            [
             0.6666666666666666,
             "#ed7953"
            ],
            [
             0.7777777777777778,
             "#fb9f3a"
            ],
            [
             0.8888888888888888,
             "#fdca26"
            ],
            [
             1,
             "#f0f921"
            ]
           ]
          },
          "colorway": [
           "#636efa",
           "#EF553B",
           "#00cc96",
           "#ab63fa",
           "#FFA15A",
           "#19d3f3",
           "#FF6692",
           "#B6E880",
           "#FF97FF",
           "#FECB52"
          ],
          "font": {
           "color": "#2a3f5f"
          },
          "geo": {
           "bgcolor": "white",
           "lakecolor": "white",
           "landcolor": "#E5ECF6",
           "showlakes": true,
           "showland": true,
           "subunitcolor": "white"
          },
          "hoverlabel": {
           "align": "left"
          },
          "hovermode": "closest",
          "mapbox": {
           "style": "light"
          },
          "paper_bgcolor": "white",
          "plot_bgcolor": "#E5ECF6",
          "polar": {
           "angularaxis": {
            "gridcolor": "white",
            "linecolor": "white",
            "ticks": ""
           },
           "bgcolor": "#E5ECF6",
           "radialaxis": {
            "gridcolor": "white",
            "linecolor": "white",
            "ticks": ""
           }
          },
          "scene": {
           "xaxis": {
            "backgroundcolor": "#E5ECF6",
            "gridcolor": "white",
            "gridwidth": 2,
            "linecolor": "white",
            "showbackground": true,
            "ticks": "",
            "zerolinecolor": "white"
           },
           "yaxis": {
            "backgroundcolor": "#E5ECF6",
            "gridcolor": "white",
            "gridwidth": 2,
            "linecolor": "white",
            "showbackground": true,
            "ticks": "",
            "zerolinecolor": "white"
           },
           "zaxis": {
            "backgroundcolor": "#E5ECF6",
            "gridcolor": "white",
            "gridwidth": 2,
            "linecolor": "white",
            "showbackground": true,
            "ticks": "",
            "zerolinecolor": "white"
           }
          },
          "shapedefaults": {
           "line": {
            "color": "#2a3f5f"
           }
          },
          "ternary": {
           "aaxis": {
            "gridcolor": "white",
            "linecolor": "white",
            "ticks": ""
           },
           "baxis": {
            "gridcolor": "white",
            "linecolor": "white",
            "ticks": ""
           },
           "bgcolor": "#E5ECF6",
           "caxis": {
            "gridcolor": "white",
            "linecolor": "white",
            "ticks": ""
           }
          },
          "title": {
           "x": 0.05
          },
          "xaxis": {
           "automargin": true,
           "gridcolor": "white",
           "linecolor": "white",
           "ticks": "",
           "title": {
            "standoff": 15
           },
           "zerolinecolor": "white",
           "zerolinewidth": 2
          },
          "yaxis": {
           "automargin": true,
           "gridcolor": "white",
           "linecolor": "white",
           "ticks": "",
           "title": {
            "standoff": 15
           },
           "zerolinecolor": "white",
           "zerolinewidth": 2
          }
         }
        },
        "title": {
         "font": {
          "color": "#1f2937",
          "size": 18
         },
         "text": "TSLA - Future Price Predictions Table<br><sub>Current Price: $448.64</sub>",
         "x": 0.5
        }
       }
      }
     },
     "metadata": {},
     "output_type": "display_data"
    },
    {
     "data": {
      "application/vnd.plotly.v1+json": {
       "config": {
        "plotlyServerURL": "https://plot.ly"
       },
       "data": [
        {
         "line": {
          "color": "#2E86AB",
          "width": 3
         },
         "marker": {
          "size": 8,
          "symbol": "circle"
         },
         "name": "RandomForest Prediction",
         "type": "scatter",
         "x": [
          "2025-09-29T00:00:00",
          "2025-09-30T00:00:00",
          "2025-10-01T00:00:00",
          "2025-10-02T00:00:00",
          "2025-10-03T00:00:00",
          "2025-10-06T00:00:00",
          "2025-10-07T00:00:00",
          "2025-10-08T00:00:00"
         ],
         "y": [
          448.6449890136719,
          416.1933999633789,
          416.8869003295898,
          416.91650024414065,
          416.91650024414065,
          416.91650024414065,
          416.91650024414065,
          416.91650024414065
         ]
        },
        {
         "line": {
          "color": "#F24236",
          "dash": "dot",
          "width": 3
         },
         "marker": {
          "size": 8,
          "symbol": "diamond"
         },
         "name": "LSTM Prediction",
         "type": "scatter",
         "x": [
          "2025-09-29T00:00:00",
          "2025-09-30T00:00:00",
          "2025-10-01T00:00:00",
          "2025-10-02T00:00:00",
          "2025-10-03T00:00:00",
          "2025-10-06T00:00:00",
          "2025-10-07T00:00:00",
          "2025-10-08T00:00:00"
         ],
         "y": [
          448.6449890136719,
          436.08356691866123,
          435.61604215393703,
          434.99052641464135,
          434.7142305574279,
          434.98301464179707,
          435.8144504549627,
          437.1302959027857
         ]
        },
        {
         "marker": {
          "color": "green",
          "size": 15,
          "symbol": "star"
         },
         "mode": "markers",
         "name": "Current Price",
         "type": "scatter",
         "x": [
          "2025-09-29T00:00:00"
         ],
         "y": [
          448.6449890136719
         ]
        }
       ],
       "layout": {
        "annotations": [
         {
          "showarrow": false,
          "text": "Current: $448.64",
          "x": 1,
          "xanchor": "right",
          "xref": "x domain",
          "y": 448.6449890136719,
          "yanchor": "bottom",
          "yref": "y"
         }
        ],
        "height": 500,
        "hovermode": "x unified",
        "shapes": [
         {
          "line": {
           "color": "gray",
           "dash": "dash"
          },
          "type": "line",
          "x0": 0,
          "x1": 1,
          "xref": "x domain",
          "y0": 448.6449890136719,
          "y1": 448.6449890136719,
          "yref": "y"
         }
        ],
        "template": {
         "data": {
          "bar": [
           {
            "error_x": {
             "color": "#2a3f5f"
            },
            "error_y": {
             "color": "#2a3f5f"
            },
            "marker": {
             "line": {
              "color": "white",
              "width": 0.5
             },
             "pattern": {
              "fillmode": "overlay",
              "size": 10,
              "solidity": 0.2
             }
            },
            "type": "bar"
           }
          ],
          "barpolar": [
           {
            "marker": {
             "line": {
              "color": "white",
              "width": 0.5
             },
             "pattern": {
              "fillmode": "overlay",
              "size": 10,
              "solidity": 0.2
             }
            },
            "type": "barpolar"
           }
          ],
          "carpet": [
           {
            "aaxis": {
             "endlinecolor": "#2a3f5f",
             "gridcolor": "#C8D4E3",
             "linecolor": "#C8D4E3",
             "minorgridcolor": "#C8D4E3",
             "startlinecolor": "#2a3f5f"
            },
            "baxis": {
             "endlinecolor": "#2a3f5f",
             "gridcolor": "#C8D4E3",
             "linecolor": "#C8D4E3",
             "minorgridcolor": "#C8D4E3",
             "startlinecolor": "#2a3f5f"
            },
            "type": "carpet"
           }
          ],
          "choropleth": [
           {
            "colorbar": {
             "outlinewidth": 0,
             "ticks": ""
            },
            "type": "choropleth"
           }
          ],
          "contour": [
           {
            "colorbar": {
             "outlinewidth": 0,
             "ticks": ""
            },
            "colorscale": [
             [
              0,
              "#0d0887"
             ],
             [
              0.1111111111111111,
              "#46039f"
             ],
             [
              0.2222222222222222,
              "#7201a8"
             ],
             [
              0.3333333333333333,
              "#9c179e"
             ],
             [
              0.4444444444444444,
              "#bd3786"
             ],
             [
              0.5555555555555556,
              "#d8576b"
             ],
             [
              0.6666666666666666,
              "#ed7953"
             ],
             [
              0.7777777777777778,
              "#fb9f3a"
             ],
             [
              0.8888888888888888,
              "#fdca26"
             ],
             [
              1,
              "#f0f921"
             ]
            ],
            "type": "contour"
           }
          ],
          "contourcarpet": [
           {
            "colorbar": {
             "outlinewidth": 0,
             "ticks": ""
            },
            "type": "contourcarpet"
           }
          ],
          "heatmap": [
           {
            "colorbar": {
             "outlinewidth": 0,
             "ticks": ""
            },
            "colorscale": [
             [
              0,
              "#0d0887"
             ],
             [
              0.1111111111111111,
              "#46039f"
             ],
             [
              0.2222222222222222,
              "#7201a8"
             ],
             [
              0.3333333333333333,
              "#9c179e"
             ],
             [
              0.4444444444444444,
              "#bd3786"
             ],
             [
              0.5555555555555556,
              "#d8576b"
             ],
             [
              0.6666666666666666,
              "#ed7953"
             ],
             [
              0.7777777777777778,
              "#fb9f3a"
             ],
             [
              0.8888888888888888,
              "#fdca26"
             ],
             [
              1,
              "#f0f921"
             ]
            ],
            "type": "heatmap"
           }
          ],
          "histogram": [
           {
            "marker": {
             "pattern": {
              "fillmode": "overlay",
              "size": 10,
              "solidity": 0.2
             }
            },
            "type": "histogram"
           }
          ],
          "histogram2d": [
           {
            "colorbar": {
             "outlinewidth": 0,
             "ticks": ""
            },
            "colorscale": [
             [
              0,
              "#0d0887"
             ],
             [
              0.1111111111111111,
              "#46039f"
             ],
             [
              0.2222222222222222,
              "#7201a8"
             ],
             [
              0.3333333333333333,
              "#9c179e"
             ],
             [
              0.4444444444444444,
              "#bd3786"
             ],
             [
              0.5555555555555556,
              "#d8576b"
             ],
             [
              0.6666666666666666,
              "#ed7953"
             ],
             [
              0.7777777777777778,
              "#fb9f3a"
             ],
             [
              0.8888888888888888,
              "#fdca26"
             ],
             [
              1,
              "#f0f921"
             ]
            ],
            "type": "histogram2d"
           }
          ],
          "histogram2dcontour": [
           {
            "colorbar": {
             "outlinewidth": 0,
             "ticks": ""
            },
            "colorscale": [
             [
              0,
              "#0d0887"
             ],
             [
              0.1111111111111111,
              "#46039f"
             ],
             [
              0.2222222222222222,
              "#7201a8"
             ],
             [
              0.3333333333333333,
              "#9c179e"
             ],
             [
              0.4444444444444444,
              "#bd3786"
             ],
             [
              0.5555555555555556,
              "#d8576b"
             ],
             [
              0.6666666666666666,
              "#ed7953"
             ],
             [
              0.7777777777777778,
              "#fb9f3a"
             ],
             [
              0.8888888888888888,
              "#fdca26"
             ],
             [
              1,
              "#f0f921"
             ]
            ],
            "type": "histogram2dcontour"
           }
          ],
          "mesh3d": [
           {
            "colorbar": {
             "outlinewidth": 0,
             "ticks": ""
            },
            "type": "mesh3d"
           }
          ],
          "parcoords": [
           {
            "line": {
             "colorbar": {
              "outlinewidth": 0,
              "ticks": ""
             }
            },
            "type": "parcoords"
           }
          ],
          "pie": [
           {
            "automargin": true,
            "type": "pie"
           }
          ],
          "scatter": [
           {
            "fillpattern": {
             "fillmode": "overlay",
             "size": 10,
             "solidity": 0.2
            },
            "type": "scatter"
           }
          ],
          "scatter3d": [
           {
            "line": {
             "colorbar": {
              "outlinewidth": 0,
              "ticks": ""
             }
            },
            "marker": {
             "colorbar": {
              "outlinewidth": 0,
              "ticks": ""
             }
            },
            "type": "scatter3d"
           }
          ],
          "scattercarpet": [
           {
            "marker": {
             "colorbar": {
              "outlinewidth": 0,
              "ticks": ""
             }
            },
            "type": "scattercarpet"
           }
          ],
          "scattergeo": [
           {
            "marker": {
             "colorbar": {
              "outlinewidth": 0,
              "ticks": ""
             }
            },
            "type": "scattergeo"
           }
          ],
          "scattergl": [
           {
            "marker": {
             "colorbar": {
              "outlinewidth": 0,
              "ticks": ""
             }
            },
            "type": "scattergl"
           }
          ],
          "scattermap": [
           {
            "marker": {
             "colorbar": {
              "outlinewidth": 0,
              "ticks": ""
             }
            },
            "type": "scattermap"
           }
          ],
          "scattermapbox": [
           {
            "marker": {
             "colorbar": {
              "outlinewidth": 0,
              "ticks": ""
             }
            },
            "type": "scattermapbox"
           }
          ],
          "scatterpolar": [
           {
            "marker": {
             "colorbar": {
              "outlinewidth": 0,
              "ticks": ""
             }
            },
            "type": "scatterpolar"
           }
          ],
          "scatterpolargl": [
           {
            "marker": {
             "colorbar": {
              "outlinewidth": 0,
              "ticks": ""
             }
            },
            "type": "scatterpolargl"
           }
          ],
          "scatterternary": [
           {
            "marker": {
             "colorbar": {
              "outlinewidth": 0,
              "ticks": ""
             }
            },
            "type": "scatterternary"
           }
          ],
          "surface": [
           {
            "colorbar": {
             "outlinewidth": 0,
             "ticks": ""
            },
            "colorscale": [
             [
              0,
              "#0d0887"
             ],
             [
              0.1111111111111111,
              "#46039f"
             ],
             [
              0.2222222222222222,
              "#7201a8"
             ],
             [
              0.3333333333333333,
              "#9c179e"
             ],
             [
              0.4444444444444444,
              "#bd3786"
             ],
             [
              0.5555555555555556,
              "#d8576b"
             ],
             [
              0.6666666666666666,
              "#ed7953"
             ],
             [
              0.7777777777777778,
              "#fb9f3a"
             ],
             [
              0.8888888888888888,
              "#fdca26"
             ],
             [
              1,
              "#f0f921"
             ]
            ],
            "type": "surface"
           }
          ],
          "table": [
           {
            "cells": {
             "fill": {
              "color": "#EBF0F8"
             },
             "line": {
              "color": "white"
             }
            },
            "header": {
             "fill": {
              "color": "#C8D4E3"
             },
             "line": {
              "color": "white"
             }
            },
            "type": "table"
           }
          ]
         },
         "layout": {
          "annotationdefaults": {
           "arrowcolor": "#2a3f5f",
           "arrowhead": 0,
           "arrowwidth": 1
          },
          "autotypenumbers": "strict",
          "coloraxis": {
           "colorbar": {
            "outlinewidth": 0,
            "ticks": ""
           }
          },
          "colorscale": {
           "diverging": [
            [
             0,
             "#8e0152"
            ],
            [
             0.1,
             "#c51b7d"
            ],
            [
             0.2,
             "#de77ae"
            ],
            [
             0.3,
             "#f1b6da"
            ],
            [
             0.4,
             "#fde0ef"
            ],
            [
             0.5,
             "#f7f7f7"
            ],
            [
             0.6,
             "#e6f5d0"
            ],
            [
             0.7,
             "#b8e186"
            ],
            [
             0.8,
             "#7fbc41"
            ],
            [
             0.9,
             "#4d9221"
            ],
            [
             1,
             "#276419"
            ]
           ],
           "sequential": [
            [
             0,
             "#0d0887"
            ],
            [
             0.1111111111111111,
             "#46039f"
            ],
            [
             0.2222222222222222,
             "#7201a8"
            ],
            [
             0.3333333333333333,
             "#9c179e"
            ],
            [
             0.4444444444444444,
             "#bd3786"
            ],
            [
             0.5555555555555556,
             "#d8576b"
            ],
            [
             0.6666666666666666,
             "#ed7953"
            ],
            [
             0.7777777777777778,
             "#fb9f3a"
            ],
            [
             0.8888888888888888,
             "#fdca26"
            ],
            [
             1,
             "#f0f921"
            ]
           ],
           "sequentialminus": [
            [
             0,
             "#0d0887"
            ],
            [
             0.1111111111111111,
             "#46039f"
            ],
            [
             0.2222222222222222,
             "#7201a8"
            ],
            [
             0.3333333333333333,
             "#9c179e"
            ],
            [
             0.4444444444444444,
             "#bd3786"
            ],
            [
             0.5555555555555556,
             "#d8576b"
            ],
            [
             0.6666666666666666,
             "#ed7953"
            ],
            [
             0.7777777777777778,
             "#fb9f3a"
            ],
            [
             0.8888888888888888,
             "#fdca26"
            ],
            [
             1,
             "#f0f921"
            ]
           ]
          },
          "colorway": [
           "#636efa",
           "#EF553B",
           "#00cc96",
           "#ab63fa",
           "#FFA15A",
           "#19d3f3",
           "#FF6692",
           "#B6E880",
           "#FF97FF",
           "#FECB52"
          ],
          "font": {
           "color": "#2a3f5f"
          },
          "geo": {
           "bgcolor": "white",
           "lakecolor": "white",
           "landcolor": "white",
           "showlakes": true,
           "showland": true,
           "subunitcolor": "#C8D4E3"
          },
          "hoverlabel": {
           "align": "left"
          },
          "hovermode": "closest",
          "mapbox": {
           "style": "light"
          },
          "paper_bgcolor": "white",
          "plot_bgcolor": "white",
          "polar": {
           "angularaxis": {
            "gridcolor": "#EBF0F8",
            "linecolor": "#EBF0F8",
            "ticks": ""
           },
           "bgcolor": "white",
           "radialaxis": {
            "gridcolor": "#EBF0F8",
            "linecolor": "#EBF0F8",
            "ticks": ""
           }
          },
          "scene": {
           "xaxis": {
            "backgroundcolor": "white",
            "gridcolor": "#DFE8F3",
            "gridwidth": 2,
            "linecolor": "#EBF0F8",
            "showbackground": true,
            "ticks": "",
            "zerolinecolor": "#EBF0F8"
           },
           "yaxis": {
            "backgroundcolor": "white",
            "gridcolor": "#DFE8F3",
            "gridwidth": 2,
            "linecolor": "#EBF0F8",
            "showbackground": true,
            "ticks": "",
            "zerolinecolor": "#EBF0F8"
           },
           "zaxis": {
            "backgroundcolor": "white",
            "gridcolor": "#DFE8F3",
            "gridwidth": 2,
            "linecolor": "#EBF0F8",
            "showbackground": true,
            "ticks": "",
            "zerolinecolor": "#EBF0F8"
           }
          },
          "shapedefaults": {
           "line": {
            "color": "#2a3f5f"
           }
          },
          "ternary": {
           "aaxis": {
            "gridcolor": "#DFE8F3",
            "linecolor": "#A2B1C6",
            "ticks": ""
           },
           "baxis": {
            "gridcolor": "#DFE8F3",
            "linecolor": "#A2B1C6",
            "ticks": ""
           },
           "bgcolor": "white",
           "caxis": {
            "gridcolor": "#DFE8F3",
            "linecolor": "#A2B1C6",
            "ticks": ""
           }
          },
          "title": {
           "x": 0.05
          },
          "xaxis": {
           "automargin": true,
           "gridcolor": "#EBF0F8",
           "linecolor": "#EBF0F8",
           "ticks": "",
           "title": {
            "standoff": 15
           },
           "zerolinecolor": "#EBF0F8",
           "zerolinewidth": 2
          },
          "yaxis": {
           "automargin": true,
           "gridcolor": "#EBF0F8",
           "linecolor": "#EBF0F8",
           "ticks": "",
           "title": {
            "standoff": 15
           },
           "zerolinecolor": "#EBF0F8",
           "zerolinewidth": 2
          }
         }
        },
        "title": {
         "text": "TSLA - Future Price Predictions Comparison"
        },
        "xaxis": {
         "title": {
          "text": "Date"
         }
        },
        "yaxis": {
         "title": {
          "text": "Price ($)"
         }
        }
       }
      }
     },
     "metadata": {},
     "output_type": "display_data"
    },
    {
     "data": {
      "application/vnd.plotly.v1+json": {
       "config": {
        "plotlyServerURL": "https://plot.ly"
       },
       "data": [
        {
         "line": {
          "color": "#2E86AB",
          "width": 2
         },
         "name": "Actual Price",
         "type": "scatter",
         "x": [
          "2025-03-11T00:00:00.000000000",
          "2025-03-12T00:00:00.000000000",
          "2025-03-13T00:00:00.000000000",
          "2025-03-14T00:00:00.000000000",
          "2025-03-17T00:00:00.000000000",
          "2025-03-18T00:00:00.000000000",
          "2025-03-19T00:00:00.000000000",
          "2025-03-20T00:00:00.000000000",
          "2025-03-21T00:00:00.000000000",
          "2025-03-24T00:00:00.000000000",
          "2025-03-25T00:00:00.000000000",
          "2025-03-26T00:00:00.000000000",
          "2025-03-27T00:00:00.000000000",
          "2025-03-28T00:00:00.000000000",
          "2025-03-31T00:00:00.000000000",
          "2025-04-01T00:00:00.000000000",
          "2025-04-02T00:00:00.000000000",
          "2025-04-03T00:00:00.000000000",
          "2025-04-04T00:00:00.000000000",
          "2025-04-07T00:00:00.000000000",
          "2025-04-08T00:00:00.000000000",
          "2025-04-09T00:00:00.000000000",
          "2025-04-10T00:00:00.000000000",
          "2025-04-11T00:00:00.000000000",
          "2025-04-14T00:00:00.000000000",
          "2025-04-15T00:00:00.000000000",
          "2025-04-16T00:00:00.000000000",
          "2025-04-17T00:00:00.000000000",
          "2025-04-21T00:00:00.000000000",
          "2025-04-22T00:00:00.000000000",
          "2025-04-23T00:00:00.000000000",
          "2025-04-24T00:00:00.000000000",
          "2025-04-25T00:00:00.000000000",
          "2025-04-28T00:00:00.000000000",
          "2025-04-29T00:00:00.000000000",
          "2025-04-30T00:00:00.000000000",
          "2025-05-01T00:00:00.000000000",
          "2025-05-02T00:00:00.000000000",
          "2025-05-05T00:00:00.000000000",
          "2025-05-06T00:00:00.000000000",
          "2025-05-07T00:00:00.000000000",
          "2025-05-08T00:00:00.000000000",
          "2025-05-09T00:00:00.000000000",
          "2025-05-12T00:00:00.000000000",
          "2025-05-13T00:00:00.000000000",
          "2025-05-14T00:00:00.000000000",
          "2025-05-15T00:00:00.000000000",
          "2025-05-16T00:00:00.000000000",
          "2025-05-19T00:00:00.000000000",
          "2025-05-20T00:00:00.000000000",
          "2025-05-21T00:00:00.000000000",
          "2025-05-22T00:00:00.000000000",
          "2025-05-23T00:00:00.000000000",
          "2025-05-27T00:00:00.000000000",
          "2025-05-28T00:00:00.000000000",
          "2025-05-29T00:00:00.000000000",
          "2025-05-30T00:00:00.000000000",
          "2025-06-02T00:00:00.000000000",
          "2025-06-03T00:00:00.000000000",
          "2025-06-04T00:00:00.000000000",
          "2025-06-05T00:00:00.000000000",
          "2025-06-06T00:00:00.000000000",
          "2025-06-09T00:00:00.000000000",
          "2025-06-10T00:00:00.000000000",
          "2025-06-11T00:00:00.000000000",
          "2025-06-12T00:00:00.000000000",
          "2025-06-13T00:00:00.000000000",
          "2025-06-16T00:00:00.000000000",
          "2025-06-17T00:00:00.000000000",
          "2025-06-18T00:00:00.000000000",
          "2025-06-20T00:00:00.000000000",
          "2025-06-23T00:00:00.000000000",
          "2025-06-24T00:00:00.000000000",
          "2025-06-25T00:00:00.000000000",
          "2025-06-26T00:00:00.000000000",
          "2025-06-27T00:00:00.000000000",
          "2025-06-30T00:00:00.000000000",
          "2025-07-01T00:00:00.000000000",
          "2025-07-02T00:00:00.000000000",
          "2025-07-03T00:00:00.000000000",
          "2025-07-07T00:00:00.000000000",
          "2025-07-08T00:00:00.000000000",
          "2025-07-09T00:00:00.000000000",
          "2025-07-10T00:00:00.000000000",
          "2025-07-11T00:00:00.000000000",
          "2025-07-14T00:00:00.000000000",
          "2025-07-15T00:00:00.000000000",
          "2025-07-16T00:00:00.000000000",
          "2025-07-17T00:00:00.000000000",
          "2025-07-18T00:00:00.000000000",
          "2025-07-21T00:00:00.000000000",
          "2025-07-22T00:00:00.000000000",
          "2025-07-23T00:00:00.000000000",
          "2025-07-24T00:00:00.000000000",
          "2025-07-25T00:00:00.000000000",
          "2025-07-28T00:00:00.000000000",
          "2025-07-29T00:00:00.000000000",
          "2025-07-30T00:00:00.000000000",
          "2025-07-31T00:00:00.000000000",
          "2025-08-01T00:00:00.000000000",
          "2025-08-04T00:00:00.000000000",
          "2025-08-05T00:00:00.000000000",
          "2025-08-06T00:00:00.000000000",
          "2025-08-07T00:00:00.000000000",
          "2025-08-08T00:00:00.000000000",
          "2025-08-11T00:00:00.000000000",
          "2025-08-12T00:00:00.000000000",
          "2025-08-13T00:00:00.000000000",
          "2025-08-14T00:00:00.000000000",
          "2025-08-15T00:00:00.000000000",
          "2025-08-18T00:00:00.000000000",
          "2025-08-19T00:00:00.000000000",
          "2025-08-20T00:00:00.000000000",
          "2025-08-21T00:00:00.000000000",
          "2025-08-22T00:00:00.000000000",
          "2025-08-25T00:00:00.000000000",
          "2025-08-26T00:00:00.000000000",
          "2025-08-27T00:00:00.000000000",
          "2025-08-28T00:00:00.000000000",
          "2025-08-29T00:00:00.000000000",
          "2025-09-02T00:00:00.000000000",
          "2025-09-03T00:00:00.000000000",
          "2025-09-04T00:00:00.000000000",
          "2025-09-05T00:00:00.000000000",
          "2025-09-08T00:00:00.000000000",
          "2025-09-09T00:00:00.000000000",
          "2025-09-10T00:00:00.000000000",
          "2025-09-11T00:00:00.000000000",
          "2025-09-12T00:00:00.000000000",
          "2025-09-15T00:00:00.000000000",
          "2025-09-16T00:00:00.000000000",
          "2025-09-17T00:00:00.000000000",
          "2025-09-18T00:00:00.000000000",
          "2025-09-19T00:00:00.000000000",
          "2025-09-22T00:00:00.000000000",
          "2025-09-23T00:00:00.000000000",
          "2025-09-24T00:00:00.000000000",
          "2025-09-25T00:00:00.000000000",
          "2025-09-26T00:00:00.000000000",
          "2025-09-29T00:00:00.000000000"
         ],
         "xaxis": "x",
         "y": {
          "bdata": "AAAAYI/SbEAAAABA4QJvQAAAAIDCFW5AAAAAIFw/b0AAAADgUcBtQAAAAIDrKWxAAAAAIIV7bUAAAADgUYhtQAAAAGC4Fm9AAAAAgD1mcUAAAACAPQJyQAAAAMD1AHFAAAAAgBQScUAAAADAzHhwQAAAAGCPMnBAAAAAIFzHcEAAAAAAKaxxQAAAAOB6tHBAAAAAgMLtbUAAAACgRyltQAAAACCFu2tAAAAAQDMDcUAAAADAzIxvQAAAAIDriW9AAAAAQDOLb0AAAAAghcNvQAAAAKCZMW5AAAAAANcrbkAAAAAAAHBsQAAAAEAKv21AAAAAIK5Xb0AAAAAAKThwQAAAAEAzz3FAAAAAgBTecUAAAADgekByQAAAAGCPonFAAAAA4FGIcUAAAAAgXPNxQAAAAAAphHFAAAAAoJk1cUAAAAAghUNxQAAAAMAezXFAAAAAACmkckAAAACAFOZzQAAAAMAe4XRAAAAAQOG6dUAAAADAHm11QAAAACCu33VAAAAAoHBhdUAAAADAHn11QAAAAIDr6XRAAAAA4KNQdUAAAACgcDV1QAAAAIA9rnZAAAAAYGZOdkAAAABA4WZ2QAAAACBcp3VAAAAAQAprdUAAAADgUYR1QAAAAMDMwHRAAAAAQDPLcUAAAACAPXJyQAAAAKBHSXNAAAAAoHBhdEAAAABA4WZ0QAAAAIDC8XNAAAAAwPVUdEAAAACAFJJ0QAAAAKCZxXNAAAAAwMwgdEAAAABgjyJ0QAAAAEDhynVAAAAAIIVHdUAAAADAzHh0QAAAAOB6XHRAAAAAgBQ6dEAAAABgj9pzQAAAACBcy3JAAAAAYGa6c0AAAACgmbVzQAAAAEAKX3JAAAAAwPWcckAAAACAFH5yQAAAAIDrXXNAAAAAACmYc0AAAABgZs5zQAAAAOB6bHNAAAAAYLgadEAAAABgj/ZzQAAAAGBmmnRAAAAAANeHdEAAAACAwsF0QAAAAMD1yHRAAAAAwMwUc0AAAADA9cBzQAAAAKBwWXRAAAAAQDMTdEAAAADgo/BzQAAAAOBRRHNAAAAAgBTqckAAAAAAKVRzQAAAACCFS3NAAAAAYI/+c0AAAADgUSR0QAAAAGBmmnRAAAAA4HowdUAAAACgcE11QAAAAIAUNnVAAAAAoEf5dEAAAADA9ah0QAAAAGCP8nRAAAAAwPWUdEAAAABgZj50QAAAAIDCAXRAAAAAAClAdUAAAACgmal1QAAAAGC4+nVAAAAAoJnZdUAAAAAgrp91QAAAAIDr3XRAAAAAgMKVdEAAAACgcOF0QAAAAOB6KHVAAAAAoHDtdUAAAABgZqZ1QAAAACCFr3VAAAAA4KO8dUAAAADA9Qx3QAAAAEAKv3hAAAAA4KOgeUAAAACA61l6QAAAAIDCnXpAAAAAoJkNekAAAADAHqF6QAAAACBcI3tAAAAAoJmdekAAAADgo6x7QAAAAIA9dnpAAAAAYGaGe0AAAADgUQp8QA==",
          "dtype": "f8"
         },
         "yaxis": "y"
        },
        {
         "line": {
          "color": "#F24236",
          "dash": "dot",
          "width": 2
         },
         "name": "Predicted Price",
         "type": "scatter",
         "x": [
          "2025-03-11T00:00:00.000000000",
          "2025-03-12T00:00:00.000000000",
          "2025-03-13T00:00:00.000000000",
          "2025-03-14T00:00:00.000000000",
          "2025-03-17T00:00:00.000000000",
          "2025-03-18T00:00:00.000000000",
          "2025-03-19T00:00:00.000000000",
          "2025-03-20T00:00:00.000000000",
          "2025-03-21T00:00:00.000000000",
          "2025-03-24T00:00:00.000000000",
          "2025-03-25T00:00:00.000000000",
          "2025-03-26T00:00:00.000000000",
          "2025-03-27T00:00:00.000000000",
          "2025-03-28T00:00:00.000000000",
          "2025-03-31T00:00:00.000000000",
          "2025-04-01T00:00:00.000000000",
          "2025-04-02T00:00:00.000000000",
          "2025-04-03T00:00:00.000000000",
          "2025-04-04T00:00:00.000000000",
          "2025-04-07T00:00:00.000000000",
          "2025-04-08T00:00:00.000000000",
          "2025-04-09T00:00:00.000000000",
          "2025-04-10T00:00:00.000000000",
          "2025-04-11T00:00:00.000000000",
          "2025-04-14T00:00:00.000000000",
          "2025-04-15T00:00:00.000000000",
          "2025-04-16T00:00:00.000000000",
          "2025-04-17T00:00:00.000000000",
          "2025-04-21T00:00:00.000000000",
          "2025-04-22T00:00:00.000000000",
          "2025-04-23T00:00:00.000000000",
          "2025-04-24T00:00:00.000000000",
          "2025-04-25T00:00:00.000000000",
          "2025-04-28T00:00:00.000000000",
          "2025-04-29T00:00:00.000000000",
          "2025-04-30T00:00:00.000000000",
          "2025-05-01T00:00:00.000000000",
          "2025-05-02T00:00:00.000000000",
          "2025-05-05T00:00:00.000000000",
          "2025-05-06T00:00:00.000000000",
          "2025-05-07T00:00:00.000000000",
          "2025-05-08T00:00:00.000000000",
          "2025-05-09T00:00:00.000000000",
          "2025-05-12T00:00:00.000000000",
          "2025-05-13T00:00:00.000000000",
          "2025-05-14T00:00:00.000000000",
          "2025-05-15T00:00:00.000000000",
          "2025-05-16T00:00:00.000000000",
          "2025-05-19T00:00:00.000000000",
          "2025-05-20T00:00:00.000000000",
          "2025-05-21T00:00:00.000000000",
          "2025-05-22T00:00:00.000000000",
          "2025-05-23T00:00:00.000000000",
          "2025-05-27T00:00:00.000000000",
          "2025-05-28T00:00:00.000000000",
          "2025-05-29T00:00:00.000000000",
          "2025-05-30T00:00:00.000000000",
          "2025-06-02T00:00:00.000000000",
          "2025-06-03T00:00:00.000000000",
          "2025-06-04T00:00:00.000000000",
          "2025-06-05T00:00:00.000000000",
          "2025-06-06T00:00:00.000000000",
          "2025-06-09T00:00:00.000000000",
          "2025-06-10T00:00:00.000000000",
          "2025-06-11T00:00:00.000000000",
          "2025-06-12T00:00:00.000000000",
          "2025-06-13T00:00:00.000000000",
          "2025-06-16T00:00:00.000000000",
          "2025-06-17T00:00:00.000000000",
          "2025-06-18T00:00:00.000000000",
          "2025-06-20T00:00:00.000000000",
          "2025-06-23T00:00:00.000000000",
          "2025-06-24T00:00:00.000000000",
          "2025-06-25T00:00:00.000000000",
          "2025-06-26T00:00:00.000000000",
          "2025-06-27T00:00:00.000000000",
          "2025-06-30T00:00:00.000000000",
          "2025-07-01T00:00:00.000000000",
          "2025-07-02T00:00:00.000000000",
          "2025-07-03T00:00:00.000000000",
          "2025-07-07T00:00:00.000000000",
          "2025-07-08T00:00:00.000000000",
          "2025-07-09T00:00:00.000000000",
          "2025-07-10T00:00:00.000000000",
          "2025-07-11T00:00:00.000000000",
          "2025-07-14T00:00:00.000000000",
          "2025-07-15T00:00:00.000000000",
          "2025-07-16T00:00:00.000000000",
          "2025-07-17T00:00:00.000000000",
          "2025-07-18T00:00:00.000000000",
          "2025-07-21T00:00:00.000000000",
          "2025-07-22T00:00:00.000000000",
          "2025-07-23T00:00:00.000000000",
          "2025-07-24T00:00:00.000000000",
          "2025-07-25T00:00:00.000000000",
          "2025-07-28T00:00:00.000000000",
          "2025-07-29T00:00:00.000000000",
          "2025-07-30T00:00:00.000000000",
          "2025-07-31T00:00:00.000000000",
          "2025-08-01T00:00:00.000000000",
          "2025-08-04T00:00:00.000000000",
          "2025-08-05T00:00:00.000000000",
          "2025-08-06T00:00:00.000000000",
          "2025-08-07T00:00:00.000000000",
          "2025-08-08T00:00:00.000000000",
          "2025-08-11T00:00:00.000000000",
          "2025-08-12T00:00:00.000000000",
          "2025-08-13T00:00:00.000000000",
          "2025-08-14T00:00:00.000000000",
          "2025-08-15T00:00:00.000000000",
          "2025-08-18T00:00:00.000000000",
          "2025-08-19T00:00:00.000000000",
          "2025-08-20T00:00:00.000000000",
          "2025-08-21T00:00:00.000000000",
          "2025-08-22T00:00:00.000000000",
          "2025-08-25T00:00:00.000000000",
          "2025-08-26T00:00:00.000000000",
          "2025-08-27T00:00:00.000000000",
          "2025-08-28T00:00:00.000000000",
          "2025-08-29T00:00:00.000000000",
          "2025-09-02T00:00:00.000000000",
          "2025-09-03T00:00:00.000000000",
          "2025-09-04T00:00:00.000000000",
          "2025-09-05T00:00:00.000000000",
          "2025-09-08T00:00:00.000000000",
          "2025-09-09T00:00:00.000000000",
          "2025-09-10T00:00:00.000000000",
          "2025-09-11T00:00:00.000000000",
          "2025-09-12T00:00:00.000000000",
          "2025-09-15T00:00:00.000000000",
          "2025-09-16T00:00:00.000000000",
          "2025-09-17T00:00:00.000000000",
          "2025-09-18T00:00:00.000000000",
          "2025-09-19T00:00:00.000000000",
          "2025-09-22T00:00:00.000000000",
          "2025-09-23T00:00:00.000000000",
          "2025-09-24T00:00:00.000000000",
          "2025-09-25T00:00:00.000000000",
          "2025-09-26T00:00:00.000000000",
          "2025-09-29T00:00:00.000000000"
         ],
         "xaxis": "x",
         "y": {
          "bdata": "FK5HIdtpbkCF61Ho0CJvQIXrURBPKW5AmpmZ4U//bUA9CteraShtQKRwPXp6gW1AKVyPgpXFbkDXo3DVxcNtQM3MzFSN82xAzczMRJRAbUDXo3BlRFFtQD0K11uY3G1A16NwZW/ubUCkcD1ahkZvQHE9CvvLDXBAhetR5GGLcECF61E41tVvQM3MzLj8AXBAAAAA4ODLb0AAAABwX5tvQArXo2znQ3BACtejLNRqcEBSuB4hjhxwQNejcK3PT25AzczM9IUNbkCPwvXot3FtQK5H4dr5Z3BAexSu/7IGcECPwvVYFxJwQFK4HnXXfG1AexSuVzBcbUAfhevhpUNuQGZmZq5HN25APQrXu7hvbUDXo3B1vhluQI/C9eiVj3BA4XoUhsnSb0AAAAAYUZBwQOxRuP7/nXBAKVyPugWbcEAUrkf5D0dwQClcj6abbnBA7FG4bl/scEAK16Nw8JdwQLgehR+FmnBACtejJHVacUDNzMx4LZtwQNejcD1OJnJAw/Uo7AQIdUC4HoX77RZ1QFyPwm0JB3VAcT0KN8Q7dUA9CtfjnFN1QOxRuP4PYXVAmpmZ+UpwdUCuR+EKPcN1QFK4Hl2oq3VACtejyI/XdUAUrkeRU9Z2QLgehWtvinZAPQrXw8qZdkDsUbiGntp1QB+F63ESz3VArkfhgibcdUBxPQpXDvl1QGZmZjaAmXBAZmZm5sedckAAAADIj5d0QPYoXIfJyHVAexSuR0fGdUAfheupV8l1QNejcIUvgHVAH4XrQcZ+dUB7FK6PuYN1QHE9CufykHVAPQrXs7+HdUDhehTmpUV1QJqZmTmrZnVAFK5HcYFxdUD2KFzPXXV1QAAAAJhlfHVASOF6VEl2dUDXo3DJ/kZyQBSuR/HrY3VArkfhMpmidUAfheuNbL9wQOF6FA5oRXJAzczMCMVjckCF61EodSZ0QPYoXFdSTXVA9ihcH1pddUBcj8J1+TZ0QIXrUYD7Z3VAZmZmHnxadUBcj8IVrm91QIXrUagKbXVAcT0KZ6ppdUAUrkfxp3N1QFyPwlkO0HJArkfhIkFsdUDhehQOcXh1QFK4Ho2OcHVAUrgeNVVudUBI4XoE3jZ0QLgehXdGnnJAZmZmiqcudEB7FK6r8dl0QBSuR1FAXnVApHA9Cj1YdUDXo3CN2211QPYoXD8KYXVAUrgeDRszdUCamZkR4Dx1QPYoXEeLX3VAZmZmpnBwdUBcj8LlFKd1QBSuR5mQdnVAZmZmtlmAdUCkcD0iH7h1QFyPwi2HanVAAAAA4LVBdUAzMzNrsy11QDMzM4NqIHVAFK5H0cwudUDNzMxM6oZ1QFyPwi2yvnVAj8L1ACKIdUD2KFy3yH11QFK4HqUBX3VAMzMzMypKdUApXI/SbwV2QBSuR2mIQHVAXI/CVcE0d0B7FK5vtSt7QArXo7iWSXtAZmZm1sVqe0AAAADYxU57QMP1KLza5HpAUrgehVoJe0D2KFwf9F17QA==",
          "dtype": "f8"
         },
         "yaxis": "y"
        },
        {
         "line": {
          "color": "#00FF00",
          "dash": "dash",
          "width": 3
         },
         "marker": {
          "size": 8,
          "symbol": "star"
         },
         "name": "Future Prediction",
         "type": "scatter",
         "x": [
          "2025-09-30T00:00:00",
          "2025-10-01T00:00:00",
          "2025-10-02T00:00:00",
          "2025-10-03T00:00:00",
          "2025-10-06T00:00:00",
          "2025-10-07T00:00:00",
          "2025-10-08T00:00:00"
         ],
         "xaxis": "x",
         "y": [
          416.1933999633789,
          416.8869003295898,
          416.91650024414065,
          416.91650024414065,
          416.91650024414065,
          416.91650024414065,
          416.91650024414065
         ],
         "yaxis": "y"
        },
        {
         "marker": {
          "color": "#A23B72"
         },
         "name": "Volume",
         "type": "bar",
         "x": [
          "2025-03-11T00:00:00.000000000",
          "2025-03-12T00:00:00.000000000",
          "2025-03-13T00:00:00.000000000",
          "2025-03-14T00:00:00.000000000",
          "2025-03-17T00:00:00.000000000",
          "2025-03-18T00:00:00.000000000",
          "2025-03-19T00:00:00.000000000",
          "2025-03-20T00:00:00.000000000",
          "2025-03-21T00:00:00.000000000",
          "2025-03-24T00:00:00.000000000",
          "2025-03-25T00:00:00.000000000",
          "2025-03-26T00:00:00.000000000",
          "2025-03-27T00:00:00.000000000",
          "2025-03-28T00:00:00.000000000",
          "2025-03-31T00:00:00.000000000",
          "2025-04-01T00:00:00.000000000",
          "2025-04-02T00:00:00.000000000",
          "2025-04-03T00:00:00.000000000",
          "2025-04-04T00:00:00.000000000",
          "2025-04-07T00:00:00.000000000",
          "2025-04-08T00:00:00.000000000",
          "2025-04-09T00:00:00.000000000",
          "2025-04-10T00:00:00.000000000",
          "2025-04-11T00:00:00.000000000",
          "2025-04-14T00:00:00.000000000",
          "2025-04-15T00:00:00.000000000",
          "2025-04-16T00:00:00.000000000",
          "2025-04-17T00:00:00.000000000",
          "2025-04-21T00:00:00.000000000",
          "2025-04-22T00:00:00.000000000",
          "2025-04-23T00:00:00.000000000",
          "2025-04-24T00:00:00.000000000",
          "2025-04-25T00:00:00.000000000",
          "2025-04-28T00:00:00.000000000",
          "2025-04-29T00:00:00.000000000",
          "2025-04-30T00:00:00.000000000",
          "2025-05-01T00:00:00.000000000",
          "2025-05-02T00:00:00.000000000",
          "2025-05-05T00:00:00.000000000",
          "2025-05-06T00:00:00.000000000",
          "2025-05-07T00:00:00.000000000",
          "2025-05-08T00:00:00.000000000",
          "2025-05-09T00:00:00.000000000",
          "2025-05-12T00:00:00.000000000",
          "2025-05-13T00:00:00.000000000",
          "2025-05-14T00:00:00.000000000",
          "2025-05-15T00:00:00.000000000",
          "2025-05-16T00:00:00.000000000",
          "2025-05-19T00:00:00.000000000",
          "2025-05-20T00:00:00.000000000",
          "2025-05-21T00:00:00.000000000",
          "2025-05-22T00:00:00.000000000",
          "2025-05-23T00:00:00.000000000",
          "2025-05-27T00:00:00.000000000",
          "2025-05-28T00:00:00.000000000",
          "2025-05-29T00:00:00.000000000",
          "2025-05-30T00:00:00.000000000",
          "2025-06-02T00:00:00.000000000",
          "2025-06-03T00:00:00.000000000",
          "2025-06-04T00:00:00.000000000",
          "2025-06-05T00:00:00.000000000",
          "2025-06-06T00:00:00.000000000",
          "2025-06-09T00:00:00.000000000",
          "2025-06-10T00:00:00.000000000",
          "2025-06-11T00:00:00.000000000",
          "2025-06-12T00:00:00.000000000",
          "2025-06-13T00:00:00.000000000",
          "2025-06-16T00:00:00.000000000",
          "2025-06-17T00:00:00.000000000",
          "2025-06-18T00:00:00.000000000",
          "2025-06-20T00:00:00.000000000",
          "2025-06-23T00:00:00.000000000",
          "2025-06-24T00:00:00.000000000",
          "2025-06-25T00:00:00.000000000",
          "2025-06-26T00:00:00.000000000",
          "2025-06-27T00:00:00.000000000",
          "2025-06-30T00:00:00.000000000",
          "2025-07-01T00:00:00.000000000",
          "2025-07-02T00:00:00.000000000",
          "2025-07-03T00:00:00.000000000",
          "2025-07-07T00:00:00.000000000",
          "2025-07-08T00:00:00.000000000",
          "2025-07-09T00:00:00.000000000",
          "2025-07-10T00:00:00.000000000",
          "2025-07-11T00:00:00.000000000",
          "2025-07-14T00:00:00.000000000",
          "2025-07-15T00:00:00.000000000",
          "2025-07-16T00:00:00.000000000",
          "2025-07-17T00:00:00.000000000",
          "2025-07-18T00:00:00.000000000",
          "2025-07-21T00:00:00.000000000",
          "2025-07-22T00:00:00.000000000",
          "2025-07-23T00:00:00.000000000",
          "2025-07-24T00:00:00.000000000",
          "2025-07-25T00:00:00.000000000",
          "2025-07-28T00:00:00.000000000",
          "2025-07-29T00:00:00.000000000",
          "2025-07-30T00:00:00.000000000",
          "2025-07-31T00:00:00.000000000",
          "2025-08-01T00:00:00.000000000",
          "2025-08-04T00:00:00.000000000",
          "2025-08-05T00:00:00.000000000",
          "2025-08-06T00:00:00.000000000",
          "2025-08-07T00:00:00.000000000",
          "2025-08-08T00:00:00.000000000",
          "2025-08-11T00:00:00.000000000",
          "2025-08-12T00:00:00.000000000",
          "2025-08-13T00:00:00.000000000",
          "2025-08-14T00:00:00.000000000",
          "2025-08-15T00:00:00.000000000",
          "2025-08-18T00:00:00.000000000",
          "2025-08-19T00:00:00.000000000",
          "2025-08-20T00:00:00.000000000",
          "2025-08-21T00:00:00.000000000",
          "2025-08-22T00:00:00.000000000",
          "2025-08-25T00:00:00.000000000",
          "2025-08-26T00:00:00.000000000",
          "2025-08-27T00:00:00.000000000",
          "2025-08-28T00:00:00.000000000",
          "2025-08-29T00:00:00.000000000",
          "2025-09-02T00:00:00.000000000",
          "2025-09-03T00:00:00.000000000",
          "2025-09-04T00:00:00.000000000",
          "2025-09-05T00:00:00.000000000",
          "2025-09-08T00:00:00.000000000",
          "2025-09-09T00:00:00.000000000",
          "2025-09-10T00:00:00.000000000",
          "2025-09-11T00:00:00.000000000",
          "2025-09-12T00:00:00.000000000",
          "2025-09-15T00:00:00.000000000",
          "2025-09-16T00:00:00.000000000",
          "2025-09-17T00:00:00.000000000",
          "2025-09-18T00:00:00.000000000",
          "2025-09-19T00:00:00.000000000",
          "2025-09-22T00:00:00.000000000",
          "2025-09-23T00:00:00.000000000",
          "2025-09-24T00:00:00.000000000",
          "2025-09-25T00:00:00.000000000",
          "2025-09-26T00:00:00.000000000",
          "2025-09-29T00:00:00.000000000"
         ],
         "xaxis": "x2",
         "y": {
          "bdata": "ELVsChQKegg86tcGfJP5Bbh3qwZgA6UGyOOsBkwN5wV8R+kHXPQTCpxV9ghoNCgJRKewCXguYQdE0PwHdDa7CFjirgzc2h0IWFfNCmhI7wosdjoKuEkUDejd1AqEl68HIPH3BTyDvgRMw7IGAKj4BEDS0wWEJzQHTKX2CMhooQX8xfwJWD4LCWjIfQZMyq8H+KzwBaxw0gYUxaMFGJeSBJhqRARIVdAF2BPkB0yZuQZYVyoItGkqCOiR1QWUQLcFDAxMBazR2QdwzxkGONXJBdC6CwXgSSkHDLhyBfgcQAXUE1wHiEvhBFSS6wVkR+UFGOYiEbTZ0QlkGWYItP0DCcjmTgdMHkQGzNavB4ybAAVMFkMFpK+rBYByegaAG14LSLzWBuywJAdEbssE+A1PBTxGkgQE1aUINC0fB7yndQOsndEHbGsnBvBcgQT0fDgGMA25BAjZpgRMap8EwHLMBVT5ZwSYN54F4COEBCCUnARIQoQFcBxbCbjD1QgIRLcGtP00BfyyAAV0IRUFeOJPBfyesARUa3QD0CyuBIwh+QMsm28FCA9HBnSrzAS0IwsEfGt4BLgHbgS4FmUDIP+GBEhHngSQl1IDLJOaBbB6KgVQnJEEmL3nA+AeDARkL9YEwP16A3T2SQVYYJ4DaA1/BmyWewTAKjUDZH1MBOAwLwbw3AUKVMDDCQRGNwb8d1MG5DlkBfgQjQVAw8kF7O34BCAbjQWgO8QFQDcKBtlKmwA=",
          "dtype": "i4"
         },
         "yaxis": "y2"
        },
        {
         "line": {
          "color": "orange",
          "width": 1
         },
         "name": "SMA 50",
         "type": "scatter",
         "x": [
          "2025-03-11T00:00:00.000000000",
          "2025-03-12T00:00:00.000000000",
          "2025-03-13T00:00:00.000000000",
          "2025-03-14T00:00:00.000000000",
          "2025-03-17T00:00:00.000000000",
          "2025-03-18T00:00:00.000000000",
          "2025-03-19T00:00:00.000000000",
          "2025-03-20T00:00:00.000000000",
          "2025-03-21T00:00:00.000000000",
          "2025-03-24T00:00:00.000000000",
          "2025-03-25T00:00:00.000000000",
          "2025-03-26T00:00:00.000000000",
          "2025-03-27T00:00:00.000000000",
          "2025-03-28T00:00:00.000000000",
          "2025-03-31T00:00:00.000000000",
          "2025-04-01T00:00:00.000000000",
          "2025-04-02T00:00:00.000000000",
          "2025-04-03T00:00:00.000000000",
          "2025-04-04T00:00:00.000000000",
          "2025-04-07T00:00:00.000000000",
          "2025-04-08T00:00:00.000000000",
          "2025-04-09T00:00:00.000000000",
          "2025-04-10T00:00:00.000000000",
          "2025-04-11T00:00:00.000000000",
          "2025-04-14T00:00:00.000000000",
          "2025-04-15T00:00:00.000000000",
          "2025-04-16T00:00:00.000000000",
          "2025-04-17T00:00:00.000000000",
          "2025-04-21T00:00:00.000000000",
          "2025-04-22T00:00:00.000000000",
          "2025-04-23T00:00:00.000000000",
          "2025-04-24T00:00:00.000000000",
          "2025-04-25T00:00:00.000000000",
          "2025-04-28T00:00:00.000000000",
          "2025-04-29T00:00:00.000000000",
          "2025-04-30T00:00:00.000000000",
          "2025-05-01T00:00:00.000000000",
          "2025-05-02T00:00:00.000000000",
          "2025-05-05T00:00:00.000000000",
          "2025-05-06T00:00:00.000000000",
          "2025-05-07T00:00:00.000000000",
          "2025-05-08T00:00:00.000000000",
          "2025-05-09T00:00:00.000000000",
          "2025-05-12T00:00:00.000000000",
          "2025-05-13T00:00:00.000000000",
          "2025-05-14T00:00:00.000000000",
          "2025-05-15T00:00:00.000000000",
          "2025-05-16T00:00:00.000000000",
          "2025-05-19T00:00:00.000000000",
          "2025-05-20T00:00:00.000000000",
          "2025-05-21T00:00:00.000000000",
          "2025-05-22T00:00:00.000000000",
          "2025-05-23T00:00:00.000000000",
          "2025-05-27T00:00:00.000000000",
          "2025-05-28T00:00:00.000000000",
          "2025-05-29T00:00:00.000000000",
          "2025-05-30T00:00:00.000000000",
          "2025-06-02T00:00:00.000000000",
          "2025-06-03T00:00:00.000000000",
          "2025-06-04T00:00:00.000000000",
          "2025-06-05T00:00:00.000000000",
          "2025-06-06T00:00:00.000000000",
          "2025-06-09T00:00:00.000000000",
          "2025-06-10T00:00:00.000000000",
          "2025-06-11T00:00:00.000000000",
          "2025-06-12T00:00:00.000000000",
          "2025-06-13T00:00:00.000000000",
          "2025-06-16T00:00:00.000000000",
          "2025-06-17T00:00:00.000000000",
          "2025-06-18T00:00:00.000000000",
          "2025-06-20T00:00:00.000000000",
          "2025-06-23T00:00:00.000000000",
          "2025-06-24T00:00:00.000000000",
          "2025-06-25T00:00:00.000000000",
          "2025-06-26T00:00:00.000000000",
          "2025-06-27T00:00:00.000000000",
          "2025-06-30T00:00:00.000000000",
          "2025-07-01T00:00:00.000000000",
          "2025-07-02T00:00:00.000000000",
          "2025-07-03T00:00:00.000000000",
          "2025-07-07T00:00:00.000000000",
          "2025-07-08T00:00:00.000000000",
          "2025-07-09T00:00:00.000000000",
          "2025-07-10T00:00:00.000000000",
          "2025-07-11T00:00:00.000000000",
          "2025-07-14T00:00:00.000000000",
          "2025-07-15T00:00:00.000000000",
          "2025-07-16T00:00:00.000000000",
          "2025-07-17T00:00:00.000000000",
          "2025-07-18T00:00:00.000000000",
          "2025-07-21T00:00:00.000000000",
          "2025-07-22T00:00:00.000000000",
          "2025-07-23T00:00:00.000000000",
          "2025-07-24T00:00:00.000000000",
          "2025-07-25T00:00:00.000000000",
          "2025-07-28T00:00:00.000000000",
          "2025-07-29T00:00:00.000000000",
          "2025-07-30T00:00:00.000000000",
          "2025-07-31T00:00:00.000000000",
          "2025-08-01T00:00:00.000000000",
          "2025-08-04T00:00:00.000000000",
          "2025-08-05T00:00:00.000000000",
          "2025-08-06T00:00:00.000000000",
          "2025-08-07T00:00:00.000000000",
          "2025-08-08T00:00:00.000000000",
          "2025-08-11T00:00:00.000000000",
          "2025-08-12T00:00:00.000000000",
          "2025-08-13T00:00:00.000000000",
          "2025-08-14T00:00:00.000000000",
          "2025-08-15T00:00:00.000000000",
          "2025-08-18T00:00:00.000000000",
          "2025-08-19T00:00:00.000000000",
          "2025-08-20T00:00:00.000000000",
          "2025-08-21T00:00:00.000000000",
          "2025-08-22T00:00:00.000000000",
          "2025-08-25T00:00:00.000000000",
          "2025-08-26T00:00:00.000000000",
          "2025-08-27T00:00:00.000000000",
          "2025-08-28T00:00:00.000000000",
          "2025-08-29T00:00:00.000000000",
          "2025-09-02T00:00:00.000000000",
          "2025-09-03T00:00:00.000000000",
          "2025-09-04T00:00:00.000000000",
          "2025-09-05T00:00:00.000000000",
          "2025-09-08T00:00:00.000000000",
          "2025-09-09T00:00:00.000000000",
          "2025-09-10T00:00:00.000000000",
          "2025-09-11T00:00:00.000000000",
          "2025-09-12T00:00:00.000000000",
          "2025-09-15T00:00:00.000000000",
          "2025-09-16T00:00:00.000000000",
          "2025-09-17T00:00:00.000000000",
          "2025-09-18T00:00:00.000000000",
          "2025-09-19T00:00:00.000000000",
          "2025-09-22T00:00:00.000000000",
          "2025-09-23T00:00:00.000000000",
          "2025-09-24T00:00:00.000000000",
          "2025-09-25T00:00:00.000000000",
          "2025-09-26T00:00:00.000000000",
          "2025-09-29T00:00:00.000000000"
         ],
         "xaxis": "x",
         "y": {
          "bdata": "UrgeLZCudkCPwvVgoWx2QD0K10uEL3ZA4XoUbvD5dUCuR+Gi38R1QB+F62mak3VAH4Xr0bxbdUDhehQGziN1QArXo2Ay9XRApHA9mubPdEDsUbjuya10QOxRuO7Jg3RA7FG47lpcdECkcD0qqSd0QK5H4Wor9nNAexSux5jDc0CkcD2qYJZzQOxRuG4SZ3NA4XoUXrovc0C4HoVzRvhyQB+F67EuwHJAmpmZyeWXckApXI9SJ2xyQOxRuJ7NPHJAzczMTBUMckBSuB7tnuJxQMP1KNxosnFAPQrXM6KGcUBSuB61pldxQM3MzEwVMHFAZmZmHhYQcUDXo3B1AvpwQB+F66mC6XBAFK5HWRfTcEAK16MIrL5wQMP1KOSlp3BAuB6FAwmOcEBxPQrPiHhwQKRwPSIfZnBAH4XryXZUcEAzMzNb9UtwQB+F63kLSnBA9ihcl0NPcEA9CtdbZFdwQArXo9g0Z3BA4XoURml/cED2KFw3zZNwQI/C9cB9r3BA7FG41ufIcEA9CtcL1+9wQArXowAiEXFAexSud+AucUAfheuxck5xQArXo0iUcnFACtejwJ+YcUAUrkfxOMNxQDMzM0ud5nFApHA9CqwIckCF61FQQCdyQLgehSNsOHJA16NwVVI3ckBI4XoMtT5yQEjhehwNSnJAuB6FYxBeckDXo3All3NyQM3MzGTMg3JA7FG4FmqRckD2KFzXNKVyQI/C9SDSvXJAj8L1WDnackBI4XrsUfpyQB+F6ynLEnNAPQrX2/kuc0DNzMyEDUdzQPYoXOeMXnNAuB6F+8t0c0AfhevpJo1zQD0K1wskoHNAMzMzS1m8c0C4HoVDHNVzQFK4HjXv4nNA4XoUvjDvc0AK16MgsPJzQDMzM2Nd+nNAexSuBz0BdEDhehTuWgx0QEjhetQJFnRAuB6FyxAhdEBmZmb2ly10QHsUrjf4PnRAzczMLLJPdEC4HoUr1F50QGZmZgbOaXRAKVyPgp5ldEAUrkch2190QEjheoTJWHRAhetRaN5RdEDXo3DN90d0QEjhekQlPXRAuB6F+/YvdEDhehR+2Sd0QGZmZtaBHXRAH4XrIUoXdECkcD2KSgp0QIXrUTiSAXRAj8L1+Fz7c0BSuB6VkPlzQNejcG2B+HNArkfhirn1c0C4HoV7P/VzQKRwPSplBXRA7FG4XlQQdEApXI9iOxV0QArXo4BRE3RApHA9+qkXdEBcj8L1dSB0QPYoXF/lKHRAZmZmRnIvdEAK16OQ7Th0QMP1KNy1PHRA7FG4rgM/dECF61F4WDp0QLgehYu5OXRAZmZmdi1BdEBxPQqnxkd0QKRwPao+T3RApHA96uJYdECuR+GqrW50QGZmZgZfiHRAexSuB6ymdEAzMzOTh890QOF6FG6B+HRArkfhSjcfdUBcj8JlZkR1QD0K1yMGa3VAMzMzU+ONdUBcj8KVIbh1QM3MzHyu2HVAzczM/GX/dUDsUbgOeiV2QA==",
          "dtype": "f8"
         },
         "yaxis": "y"
        }
       ],
       "layout": {
        "annotations": [
         {
          "font": {
           "size": 16
          },
          "showarrow": false,
          "text": "TSLA Price Prediction with RandomForest",
          "x": 0.5,
          "xanchor": "center",
          "xref": "paper",
          "y": 1,
          "yanchor": "bottom",
          "yref": "paper"
         },
         {
          "font": {
           "size": 16
          },
          "showarrow": false,
          "text": "Volume",
          "x": 0.5,
          "xanchor": "center",
          "xref": "paper",
          "y": 0.20000000000000004,
          "yanchor": "bottom",
          "yref": "paper"
         },
         {
          "align": "left",
          "bgcolor": "white",
          "bordercolor": "black",
          "borderpad": 4,
          "borderwidth": 1,
          "font": {
           "size": 12
          },
          "opacity": 0.8,
          "showarrow": false,
          "text": "MAE: $21.47<br>MAPE: 6.88%",
          "x": 0.02,
          "xref": "paper",
          "y": 0.98,
          "yref": "paper"
         }
        ],
        "height": 700,
        "legend": {
         "orientation": "h",
         "x": 1,
         "xanchor": "right",
         "y": 1.02,
         "yanchor": "bottom"
        },
        "template": {
         "data": {
          "bar": [
           {
            "error_x": {
             "color": "#2a3f5f"
            },
            "error_y": {
             "color": "#2a3f5f"
            },
            "marker": {
             "line": {
              "color": "white",
              "width": 0.5
             },
             "pattern": {
              "fillmode": "overlay",
              "size": 10,
              "solidity": 0.2
             }
            },
            "type": "bar"
           }
          ],
          "barpolar": [
           {
            "marker": {
             "line": {
              "color": "white",
              "width": 0.5
             },
             "pattern": {
              "fillmode": "overlay",
              "size": 10,
              "solidity": 0.2
             }
            },
            "type": "barpolar"
           }
          ],
          "carpet": [
           {
            "aaxis": {
             "endlinecolor": "#2a3f5f",
             "gridcolor": "#C8D4E3",
             "linecolor": "#C8D4E3",
             "minorgridcolor": "#C8D4E3",
             "startlinecolor": "#2a3f5f"
            },
            "baxis": {
             "endlinecolor": "#2a3f5f",
             "gridcolor": "#C8D4E3",
             "linecolor": "#C8D4E3",
             "minorgridcolor": "#C8D4E3",
             "startlinecolor": "#2a3f5f"
            },
            "type": "carpet"
           }
          ],
          "choropleth": [
           {
            "colorbar": {
             "outlinewidth": 0,
             "ticks": ""
            },
            "type": "choropleth"
           }
          ],
          "contour": [
           {
            "colorbar": {
             "outlinewidth": 0,
             "ticks": ""
            },
            "colorscale": [
             [
              0,
              "#0d0887"
             ],
             [
              0.1111111111111111,
              "#46039f"
             ],
             [
              0.2222222222222222,
              "#7201a8"
             ],
             [
              0.3333333333333333,
              "#9c179e"
             ],
             [
              0.4444444444444444,
              "#bd3786"
             ],
             [
              0.5555555555555556,
              "#d8576b"
             ],
             [
              0.6666666666666666,
              "#ed7953"
             ],
             [
              0.7777777777777778,
              "#fb9f3a"
             ],
             [
              0.8888888888888888,
              "#fdca26"
             ],
             [
              1,
              "#f0f921"
             ]
            ],
            "type": "contour"
           }
          ],
          "contourcarpet": [
           {
            "colorbar": {
             "outlinewidth": 0,
             "ticks": ""
            },
            "type": "contourcarpet"
           }
          ],
          "heatmap": [
           {
            "colorbar": {
             "outlinewidth": 0,
             "ticks": ""
            },
            "colorscale": [
             [
              0,
              "#0d0887"
             ],
             [
              0.1111111111111111,
              "#46039f"
             ],
             [
              0.2222222222222222,
              "#7201a8"
             ],
             [
              0.3333333333333333,
              "#9c179e"
             ],
             [
              0.4444444444444444,
              "#bd3786"
             ],
             [
              0.5555555555555556,
              "#d8576b"
             ],
             [
              0.6666666666666666,
              "#ed7953"
             ],
             [
              0.7777777777777778,
              "#fb9f3a"
             ],
             [
              0.8888888888888888,
              "#fdca26"
             ],
             [
              1,
              "#f0f921"
             ]
            ],
            "type": "heatmap"
           }
          ],
          "histogram": [
           {
            "marker": {
             "pattern": {
              "fillmode": "overlay",
              "size": 10,
              "solidity": 0.2
             }
            },
            "type": "histogram"
           }
          ],
          "histogram2d": [
           {
            "colorbar": {
             "outlinewidth": 0,
             "ticks": ""
            },
            "colorscale": [
             [
              0,
              "#0d0887"
             ],
             [
              0.1111111111111111,
              "#46039f"
             ],
             [
              0.2222222222222222,
              "#7201a8"
             ],
             [
              0.3333333333333333,
              "#9c179e"
             ],
             [
              0.4444444444444444,
              "#bd3786"
             ],
             [
              0.5555555555555556,
              "#d8576b"
             ],
             [
              0.6666666666666666,
              "#ed7953"
             ],
             [
              0.7777777777777778,
              "#fb9f3a"
             ],
             [
              0.8888888888888888,
              "#fdca26"
             ],
             [
              1,
              "#f0f921"
             ]
            ],
            "type": "histogram2d"
           }
          ],
          "histogram2dcontour": [
           {
            "colorbar": {
             "outlinewidth": 0,
             "ticks": ""
            },
            "colorscale": [
             [
              0,
              "#0d0887"
             ],
             [
              0.1111111111111111,
              "#46039f"
             ],
             [
              0.2222222222222222,
              "#7201a8"
             ],
             [
              0.3333333333333333,
              "#9c179e"
             ],
             [
              0.4444444444444444,
              "#bd3786"
             ],
             [
              0.5555555555555556,
              "#d8576b"
             ],
             [
              0.6666666666666666,
              "#ed7953"
             ],
             [
              0.7777777777777778,
              "#fb9f3a"
             ],
             [
              0.8888888888888888,
              "#fdca26"
             ],
             [
              1,
              "#f0f921"
             ]
            ],
            "type": "histogram2dcontour"
           }
          ],
          "mesh3d": [
           {
            "colorbar": {
             "outlinewidth": 0,
             "ticks": ""
            },
            "type": "mesh3d"
           }
          ],
          "parcoords": [
           {
            "line": {
             "colorbar": {
              "outlinewidth": 0,
              "ticks": ""
             }
            },
            "type": "parcoords"
           }
          ],
          "pie": [
           {
            "automargin": true,
            "type": "pie"
           }
          ],
          "scatter": [
           {
            "fillpattern": {
             "fillmode": "overlay",
             "size": 10,
             "solidity": 0.2
            },
            "type": "scatter"
           }
          ],
          "scatter3d": [
           {
            "line": {
             "colorbar": {
              "outlinewidth": 0,
              "ticks": ""
             }
            },
            "marker": {
             "colorbar": {
              "outlinewidth": 0,
              "ticks": ""
             }
            },
            "type": "scatter3d"
           }
          ],
          "scattercarpet": [
           {
            "marker": {
             "colorbar": {
              "outlinewidth": 0,
              "ticks": ""
             }
            },
            "type": "scattercarpet"
           }
          ],
          "scattergeo": [
           {
            "marker": {
             "colorbar": {
              "outlinewidth": 0,
              "ticks": ""
             }
            },
            "type": "scattergeo"
           }
          ],
          "scattergl": [
           {
            "marker": {
             "colorbar": {
              "outlinewidth": 0,
              "ticks": ""
             }
            },
            "type": "scattergl"
           }
          ],
          "scattermap": [
           {
            "marker": {
             "colorbar": {
              "outlinewidth": 0,
              "ticks": ""
             }
            },
            "type": "scattermap"
           }
          ],
          "scattermapbox": [
           {
            "marker": {
             "colorbar": {
              "outlinewidth": 0,
              "ticks": ""
             }
            },
            "type": "scattermapbox"
           }
          ],
          "scatterpolar": [
           {
            "marker": {
             "colorbar": {
              "outlinewidth": 0,
              "ticks": ""
             }
            },
            "type": "scatterpolar"
           }
          ],
          "scatterpolargl": [
           {
            "marker": {
             "colorbar": {
              "outlinewidth": 0,
              "ticks": ""
             }
            },
            "type": "scatterpolargl"
           }
          ],
          "scatterternary": [
           {
            "marker": {
             "colorbar": {
              "outlinewidth": 0,
              "ticks": ""
             }
            },
            "type": "scatterternary"
           }
          ],
          "surface": [
           {
            "colorbar": {
             "outlinewidth": 0,
             "ticks": ""
            },
            "colorscale": [
             [
              0,
              "#0d0887"
             ],
             [
              0.1111111111111111,
              "#46039f"
             ],
             [
              0.2222222222222222,
              "#7201a8"
             ],
             [
              0.3333333333333333,
              "#9c179e"
             ],
             [
              0.4444444444444444,
              "#bd3786"
             ],
             [
              0.5555555555555556,
              "#d8576b"
             ],
             [
              0.6666666666666666,
              "#ed7953"
             ],
             [
              0.7777777777777778,
              "#fb9f3a"
             ],
             [
              0.8888888888888888,
              "#fdca26"
             ],
             [
              1,
              "#f0f921"
             ]
            ],
            "type": "surface"
           }
          ],
          "table": [
           {
            "cells": {
             "fill": {
              "color": "#EBF0F8"
             },
             "line": {
              "color": "white"
             }
            },
            "header": {
             "fill": {
              "color": "#C8D4E3"
             },
             "line": {
              "color": "white"
             }
            },
            "type": "table"
           }
          ]
         },
         "layout": {
          "annotationdefaults": {
           "arrowcolor": "#2a3f5f",
           "arrowhead": 0,
           "arrowwidth": 1
          },
          "autotypenumbers": "strict",
          "coloraxis": {
           "colorbar": {
            "outlinewidth": 0,
            "ticks": ""
           }
          },
          "colorscale": {
           "diverging": [
            [
             0,
             "#8e0152"
            ],
            [
             0.1,
             "#c51b7d"
            ],
            [
             0.2,
             "#de77ae"
            ],
            [
             0.3,
             "#f1b6da"
            ],
            [
             0.4,
             "#fde0ef"
            ],
            [
             0.5,
             "#f7f7f7"
            ],
            [
             0.6,
             "#e6f5d0"
            ],
            [
             0.7,
             "#b8e186"
            ],
            [
             0.8,
             "#7fbc41"
            ],
            [
             0.9,
             "#4d9221"
            ],
            [
             1,
             "#276419"
            ]
           ],
           "sequential": [
            [
             0,
             "#0d0887"
            ],
            [
             0.1111111111111111,
             "#46039f"
            ],
            [
             0.2222222222222222,
             "#7201a8"
            ],
            [
             0.3333333333333333,
             "#9c179e"
            ],
            [
             0.4444444444444444,
             "#bd3786"
            ],
            [
             0.5555555555555556,
             "#d8576b"
            ],
            [
             0.6666666666666666,
             "#ed7953"
            ],
            [
             0.7777777777777778,
             "#fb9f3a"
            ],
            [
             0.8888888888888888,
             "#fdca26"
            ],
            [
             1,
             "#f0f921"
            ]
           ],
           "sequentialminus": [
            [
             0,
             "#0d0887"
            ],
            [
             0.1111111111111111,
             "#46039f"
            ],
            [
             0.2222222222222222,
             "#7201a8"
            ],
            [
             0.3333333333333333,
             "#9c179e"
            ],
            [
             0.4444444444444444,
             "#bd3786"
            ],
            [
             0.5555555555555556,
             "#d8576b"
            ],
            [
             0.6666666666666666,
             "#ed7953"
            ],
            [
             0.7777777777777778,
             "#fb9f3a"
            ],
            [
             0.8888888888888888,
             "#fdca26"
            ],
            [
             1,
             "#f0f921"
            ]
           ]
          },
          "colorway": [
           "#636efa",
           "#EF553B",
           "#00cc96",
           "#ab63fa",
           "#FFA15A",
           "#19d3f3",
           "#FF6692",
           "#B6E880",
           "#FF97FF",
           "#FECB52"
          ],
          "font": {
           "color": "#2a3f5f"
          },
          "geo": {
           "bgcolor": "white",
           "lakecolor": "white",
           "landcolor": "white",
           "showlakes": true,
           "showland": true,
           "subunitcolor": "#C8D4E3"
          },
          "hoverlabel": {
           "align": "left"
          },
          "hovermode": "closest",
          "mapbox": {
           "style": "light"
          },
          "paper_bgcolor": "white",
          "plot_bgcolor": "white",
          "polar": {
           "angularaxis": {
            "gridcolor": "#EBF0F8",
            "linecolor": "#EBF0F8",
            "ticks": ""
           },
           "bgcolor": "white",
           "radialaxis": {
            "gridcolor": "#EBF0F8",
            "linecolor": "#EBF0F8",
            "ticks": ""
           }
          },
          "scene": {
           "xaxis": {
            "backgroundcolor": "white",
            "gridcolor": "#DFE8F3",
            "gridwidth": 2,
            "linecolor": "#EBF0F8",
            "showbackground": true,
            "ticks": "",
            "zerolinecolor": "#EBF0F8"
           },
           "yaxis": {
            "backgroundcolor": "white",
            "gridcolor": "#DFE8F3",
            "gridwidth": 2,
            "linecolor": "#EBF0F8",
            "showbackground": true,
            "ticks": "",
            "zerolinecolor": "#EBF0F8"
           },
           "zaxis": {
            "backgroundcolor": "white",
            "gridcolor": "#DFE8F3",
            "gridwidth": 2,
            "linecolor": "#EBF0F8",
            "showbackground": true,
            "ticks": "",
            "zerolinecolor": "#EBF0F8"
           }
          },
          "shapedefaults": {
           "line": {
            "color": "#2a3f5f"
           }
          },
          "ternary": {
           "aaxis": {
            "gridcolor": "#DFE8F3",
            "linecolor": "#A2B1C6",
            "ticks": ""
           },
           "baxis": {
            "gridcolor": "#DFE8F3",
            "linecolor": "#A2B1C6",
            "ticks": ""
           },
           "bgcolor": "white",
           "caxis": {
            "gridcolor": "#DFE8F3",
            "linecolor": "#A2B1C6",
            "ticks": ""
           }
          },
          "title": {
           "x": 0.05
          },
          "xaxis": {
           "automargin": true,
           "gridcolor": "#EBF0F8",
           "linecolor": "#EBF0F8",
           "ticks": "",
           "title": {
            "standoff": 15
           },
           "zerolinecolor": "#EBF0F8",
           "zerolinewidth": 2
          },
          "yaxis": {
           "automargin": true,
           "gridcolor": "#EBF0F8",
           "linecolor": "#EBF0F8",
           "ticks": "",
           "title": {
            "standoff": 15
           },
           "zerolinecolor": "#EBF0F8",
           "zerolinewidth": 2
          }
         }
        },
        "title": {
         "text": "TSLA Stock Price Prediction with RandomForest"
        },
        "xaxis": {
         "anchor": "y",
         "domain": [
          0,
          1
         ],
         "matches": "x2",
         "rangeslider": {
          "visible": false
         },
         "showticklabels": false
        },
        "xaxis2": {
         "anchor": "y2",
         "domain": [
          0,
          1
         ]
        },
        "yaxis": {
         "anchor": "x",
         "domain": [
          0.30000000000000004,
          1
         ],
         "title": {
          "text": "Price ($)"
         }
        },
        "yaxis2": {
         "anchor": "x2",
         "domain": [
          0,
          0.20000000000000004
         ],
         "title": {
          "text": "Volume"
         }
        }
       }
      }
     },
     "metadata": {},
     "output_type": "display_data"
    },
    {
     "data": {
      "application/vnd.plotly.v1+json": {
       "config": {
        "plotlyServerURL": "https://plot.ly"
       },
       "data": [
        {
         "line": {
          "color": "#2E86AB",
          "width": 2
         },
         "name": "Actual Price",
         "type": "scatter",
         "x": [
          "2025-03-26T00:00:00.000000000",
          "2025-03-27T00:00:00.000000000",
          "2025-03-28T00:00:00.000000000",
          "2025-03-31T00:00:00.000000000",
          "2025-04-01T00:00:00.000000000",
          "2025-04-02T00:00:00.000000000",
          "2025-04-03T00:00:00.000000000",
          "2025-04-04T00:00:00.000000000",
          "2025-04-07T00:00:00.000000000",
          "2025-04-08T00:00:00.000000000",
          "2025-04-09T00:00:00.000000000",
          "2025-04-10T00:00:00.000000000",
          "2025-04-11T00:00:00.000000000",
          "2025-04-14T00:00:00.000000000",
          "2025-04-15T00:00:00.000000000",
          "2025-04-16T00:00:00.000000000",
          "2025-04-17T00:00:00.000000000",
          "2025-04-21T00:00:00.000000000",
          "2025-04-22T00:00:00.000000000",
          "2025-04-23T00:00:00.000000000",
          "2025-04-24T00:00:00.000000000",
          "2025-04-25T00:00:00.000000000",
          "2025-04-28T00:00:00.000000000",
          "2025-04-29T00:00:00.000000000",
          "2025-04-30T00:00:00.000000000",
          "2025-05-01T00:00:00.000000000",
          "2025-05-02T00:00:00.000000000",
          "2025-05-05T00:00:00.000000000",
          "2025-05-06T00:00:00.000000000",
          "2025-05-07T00:00:00.000000000",
          "2025-05-08T00:00:00.000000000",
          "2025-05-09T00:00:00.000000000",
          "2025-05-12T00:00:00.000000000",
          "2025-05-13T00:00:00.000000000",
          "2025-05-14T00:00:00.000000000",
          "2025-05-15T00:00:00.000000000",
          "2025-05-16T00:00:00.000000000",
          "2025-05-19T00:00:00.000000000",
          "2025-05-20T00:00:00.000000000",
          "2025-05-21T00:00:00.000000000",
          "2025-05-22T00:00:00.000000000",
          "2025-05-23T00:00:00.000000000",
          "2025-05-27T00:00:00.000000000",
          "2025-05-28T00:00:00.000000000",
          "2025-05-29T00:00:00.000000000",
          "2025-05-30T00:00:00.000000000",
          "2025-06-02T00:00:00.000000000",
          "2025-06-03T00:00:00.000000000",
          "2025-06-04T00:00:00.000000000",
          "2025-06-05T00:00:00.000000000",
          "2025-06-06T00:00:00.000000000",
          "2025-06-09T00:00:00.000000000",
          "2025-06-10T00:00:00.000000000",
          "2025-06-11T00:00:00.000000000",
          "2025-06-12T00:00:00.000000000",
          "2025-06-13T00:00:00.000000000",
          "2025-06-16T00:00:00.000000000",
          "2025-06-17T00:00:00.000000000",
          "2025-06-18T00:00:00.000000000",
          "2025-06-20T00:00:00.000000000",
          "2025-06-23T00:00:00.000000000",
          "2025-06-24T00:00:00.000000000",
          "2025-06-25T00:00:00.000000000",
          "2025-06-26T00:00:00.000000000",
          "2025-06-27T00:00:00.000000000",
          "2025-06-30T00:00:00.000000000",
          "2025-07-01T00:00:00.000000000",
          "2025-07-02T00:00:00.000000000",
          "2025-07-03T00:00:00.000000000",
          "2025-07-07T00:00:00.000000000",
          "2025-07-08T00:00:00.000000000",
          "2025-07-09T00:00:00.000000000",
          "2025-07-10T00:00:00.000000000",
          "2025-07-11T00:00:00.000000000",
          "2025-07-14T00:00:00.000000000",
          "2025-07-15T00:00:00.000000000",
          "2025-07-16T00:00:00.000000000",
          "2025-07-17T00:00:00.000000000",
          "2025-07-18T00:00:00.000000000",
          "2025-07-21T00:00:00.000000000",
          "2025-07-22T00:00:00.000000000",
          "2025-07-23T00:00:00.000000000",
          "2025-07-24T00:00:00.000000000",
          "2025-07-25T00:00:00.000000000",
          "2025-07-28T00:00:00.000000000",
          "2025-07-29T00:00:00.000000000",
          "2025-07-30T00:00:00.000000000",
          "2025-07-31T00:00:00.000000000",
          "2025-08-01T00:00:00.000000000",
          "2025-08-04T00:00:00.000000000",
          "2025-08-05T00:00:00.000000000",
          "2025-08-06T00:00:00.000000000",
          "2025-08-07T00:00:00.000000000",
          "2025-08-08T00:00:00.000000000",
          "2025-08-11T00:00:00.000000000",
          "2025-08-12T00:00:00.000000000",
          "2025-08-13T00:00:00.000000000",
          "2025-08-14T00:00:00.000000000",
          "2025-08-15T00:00:00.000000000",
          "2025-08-18T00:00:00.000000000",
          "2025-08-19T00:00:00.000000000",
          "2025-08-20T00:00:00.000000000",
          "2025-08-21T00:00:00.000000000",
          "2025-08-22T00:00:00.000000000",
          "2025-08-25T00:00:00.000000000",
          "2025-08-26T00:00:00.000000000",
          "2025-08-27T00:00:00.000000000",
          "2025-08-28T00:00:00.000000000",
          "2025-08-29T00:00:00.000000000",
          "2025-09-02T00:00:00.000000000",
          "2025-09-03T00:00:00.000000000",
          "2025-09-04T00:00:00.000000000",
          "2025-09-05T00:00:00.000000000",
          "2025-09-08T00:00:00.000000000",
          "2025-09-09T00:00:00.000000000",
          "2025-09-10T00:00:00.000000000",
          "2025-09-11T00:00:00.000000000",
          "2025-09-12T00:00:00.000000000",
          "2025-09-15T00:00:00.000000000",
          "2025-09-16T00:00:00.000000000",
          "2025-09-17T00:00:00.000000000",
          "2025-09-18T00:00:00.000000000",
          "2025-09-19T00:00:00.000000000",
          "2025-09-22T00:00:00.000000000",
          "2025-09-23T00:00:00.000000000",
          "2025-09-24T00:00:00.000000000",
          "2025-09-25T00:00:00.000000000",
          "2025-09-26T00:00:00.000000000",
          "2025-09-29T00:00:00.000000000"
         ],
         "xaxis": "x",
         "y": {
          "bdata": "AAAAwPUAcUAAAACAFBJxQAAAAMDMeHBAAAAAYI8ycEAAAAAgXMdwQAAAAAAprHFAAAAA4Hq0cEAAAACAwu1tQAAAAKBHKW1AAQAAIIW7a0AAAABAMwNxQAAAAMDMjG9AAAAAgOuJb0AAAABAM4tvQAAAACCFw29AAAAAoJkxbkAAAAAA1ytuQAEAAAAAcGxA////Pwq/bUAAAAAgrldvQAAAAAApOHBAAAAAQDPPcUAAAACAFN5xQAAAAOB6QHJAAAAAYI+icUAAAADgUYhxQAAAACBc83FAAAAAACmEcUAAAACgmTVxQAAAACCFQ3FAAAAAwB7NcUAAAAAAKaRyQAAAAIAU5nNAAAAAwB7hdEAAAABA4bp1QAAAAMAebXVAAAAAIK7fdUAAAACgcGF1QAAAAMAefXVAAAAAgOvpdEAAAADgo1B1QAAAAKBwNXVAAAAAgD2udkAAAABgZk52QAAAAEDhZnZAAAAAIFyndUAAAABACmt1QAAAAOBRhHVAAAAAwMzAdEAAAABAM8txQAAAAIA9cnJAAAAAoEdJc0AAAACgcGF0QAAAAEDhZnRAAAAAgMLxc0AAAADA9VR0QAAAAIAUknRAAAAAoJnFc0AAAADAzCB0QAAAAGCPInRAAAAAQOHKdUAAAAAghUd1QAAAAMDMeHRAAAAA4HpcdEAAAACAFDp0QAAAAGCP2nNAAAAAIFzLckAAAABgZrpzQAAAAKCZtXNAAAAAQApfckAAAADA9ZxyQAAAAIAUfnJAAAAAgOtdc0AAAAAAKZhzQAAAAGBmznNAAAAA4Hpsc0AAAABguBp0QAAAAGCP9nNAAAAAYGaadEAAAAAA14d0QAAAAIDCwXRAAAAAwPXIdEAAAADAzBRzQAAAAMD1wHNAAAAAoHBZdEAAAABAMxN0QAAAAOCj8HNAAAAA4FFEc0AAAACAFOpyQAAAAAApVHNAAAAAIIVLc0AAAABgj/5zQAAAAOBRJHRAAAAAYGaadEAAAADgejB1QAAAAKBwTXVAAAAAgBQ2dUAAAACgR/l0QAAAAMD1qHRAAAAAYI/ydEAAAADA9ZR0QAAAAGBmPnRAAAAAgMIBdEAAAAAAKUB1QAAAAKCZqXVAAAAAYLj6dUAAAACgmdl1QAAAACCun3VAAAAAgOvddEAAAACAwpV0QAAAAKBw4XRAAAAA4HoodUAAAACgcO11QAAAAGBmpnVAAAAAIIWvdUAAAADgo7x1QAAAAMD1DHdA////Pwq/eEAAAADgo6B5QAAAAIDrWXpAAAAAgMKdekAAAACgmQ16QAAAAMAeoXpAAAAAIFwje0AAAACgmZ16QP///9+jrHtA////fz12ekABAABgZoZ7QAAAAOBRCnxA",
          "dtype": "f8"
         },
         "yaxis": "y"
        },
        {
         "line": {
          "color": "#F24236",
          "dash": "dot",
          "width": 2
         },
         "name": "Predicted Price",
         "type": "scatter",
         "x": [
          "2025-03-26T00:00:00.000000000",
          "2025-03-27T00:00:00.000000000",
          "2025-03-28T00:00:00.000000000",
          "2025-03-31T00:00:00.000000000",
          "2025-04-01T00:00:00.000000000",
          "2025-04-02T00:00:00.000000000",
          "2025-04-03T00:00:00.000000000",
          "2025-04-04T00:00:00.000000000",
          "2025-04-07T00:00:00.000000000",
          "2025-04-08T00:00:00.000000000",
          "2025-04-09T00:00:00.000000000",
          "2025-04-10T00:00:00.000000000",
          "2025-04-11T00:00:00.000000000",
          "2025-04-14T00:00:00.000000000",
          "2025-04-15T00:00:00.000000000",
          "2025-04-16T00:00:00.000000000",
          "2025-04-17T00:00:00.000000000",
          "2025-04-21T00:00:00.000000000",
          "2025-04-22T00:00:00.000000000",
          "2025-04-23T00:00:00.000000000",
          "2025-04-24T00:00:00.000000000",
          "2025-04-25T00:00:00.000000000",
          "2025-04-28T00:00:00.000000000",
          "2025-04-29T00:00:00.000000000",
          "2025-04-30T00:00:00.000000000",
          "2025-05-01T00:00:00.000000000",
          "2025-05-02T00:00:00.000000000",
          "2025-05-05T00:00:00.000000000",
          "2025-05-06T00:00:00.000000000",
          "2025-05-07T00:00:00.000000000",
          "2025-05-08T00:00:00.000000000",
          "2025-05-09T00:00:00.000000000",
          "2025-05-12T00:00:00.000000000",
          "2025-05-13T00:00:00.000000000",
          "2025-05-14T00:00:00.000000000",
          "2025-05-15T00:00:00.000000000",
          "2025-05-16T00:00:00.000000000",
          "2025-05-19T00:00:00.000000000",
          "2025-05-20T00:00:00.000000000",
          "2025-05-21T00:00:00.000000000",
          "2025-05-22T00:00:00.000000000",
          "2025-05-23T00:00:00.000000000",
          "2025-05-27T00:00:00.000000000",
          "2025-05-28T00:00:00.000000000",
          "2025-05-29T00:00:00.000000000",
          "2025-05-30T00:00:00.000000000",
          "2025-06-02T00:00:00.000000000",
          "2025-06-03T00:00:00.000000000",
          "2025-06-04T00:00:00.000000000",
          "2025-06-05T00:00:00.000000000",
          "2025-06-06T00:00:00.000000000",
          "2025-06-09T00:00:00.000000000",
          "2025-06-10T00:00:00.000000000",
          "2025-06-11T00:00:00.000000000",
          "2025-06-12T00:00:00.000000000",
          "2025-06-13T00:00:00.000000000",
          "2025-06-16T00:00:00.000000000",
          "2025-06-17T00:00:00.000000000",
          "2025-06-18T00:00:00.000000000",
          "2025-06-20T00:00:00.000000000",
          "2025-06-23T00:00:00.000000000",
          "2025-06-24T00:00:00.000000000",
          "2025-06-25T00:00:00.000000000",
          "2025-06-26T00:00:00.000000000",
          "2025-06-27T00:00:00.000000000",
          "2025-06-30T00:00:00.000000000",
          "2025-07-01T00:00:00.000000000",
          "2025-07-02T00:00:00.000000000",
          "2025-07-03T00:00:00.000000000",
          "2025-07-07T00:00:00.000000000",
          "2025-07-08T00:00:00.000000000",
          "2025-07-09T00:00:00.000000000",
          "2025-07-10T00:00:00.000000000",
          "2025-07-11T00:00:00.000000000",
          "2025-07-14T00:00:00.000000000",
          "2025-07-15T00:00:00.000000000",
          "2025-07-16T00:00:00.000000000",
          "2025-07-17T00:00:00.000000000",
          "2025-07-18T00:00:00.000000000",
          "2025-07-21T00:00:00.000000000",
          "2025-07-22T00:00:00.000000000",
          "2025-07-23T00:00:00.000000000",
          "2025-07-24T00:00:00.000000000",
          "2025-07-25T00:00:00.000000000",
          "2025-07-28T00:00:00.000000000",
          "2025-07-29T00:00:00.000000000",
          "2025-07-30T00:00:00.000000000",
          "2025-07-31T00:00:00.000000000",
          "2025-08-01T00:00:00.000000000",
          "2025-08-04T00:00:00.000000000",
          "2025-08-05T00:00:00.000000000",
          "2025-08-06T00:00:00.000000000",
          "2025-08-07T00:00:00.000000000",
          "2025-08-08T00:00:00.000000000",
          "2025-08-11T00:00:00.000000000",
          "2025-08-12T00:00:00.000000000",
          "2025-08-13T00:00:00.000000000",
          "2025-08-14T00:00:00.000000000",
          "2025-08-15T00:00:00.000000000",
          "2025-08-18T00:00:00.000000000",
          "2025-08-19T00:00:00.000000000",
          "2025-08-20T00:00:00.000000000",
          "2025-08-21T00:00:00.000000000",
          "2025-08-22T00:00:00.000000000",
          "2025-08-25T00:00:00.000000000",
          "2025-08-26T00:00:00.000000000",
          "2025-08-27T00:00:00.000000000",
          "2025-08-28T00:00:00.000000000",
          "2025-08-29T00:00:00.000000000",
          "2025-09-02T00:00:00.000000000",
          "2025-09-03T00:00:00.000000000",
          "2025-09-04T00:00:00.000000000",
          "2025-09-05T00:00:00.000000000",
          "2025-09-08T00:00:00.000000000",
          "2025-09-09T00:00:00.000000000",
          "2025-09-10T00:00:00.000000000",
          "2025-09-11T00:00:00.000000000",
          "2025-09-12T00:00:00.000000000",
          "2025-09-15T00:00:00.000000000",
          "2025-09-16T00:00:00.000000000",
          "2025-09-17T00:00:00.000000000",
          "2025-09-18T00:00:00.000000000",
          "2025-09-19T00:00:00.000000000",
          "2025-09-22T00:00:00.000000000",
          "2025-09-23T00:00:00.000000000",
          "2025-09-24T00:00:00.000000000",
          "2025-09-25T00:00:00.000000000",
          "2025-09-26T00:00:00.000000000",
          "2025-09-29T00:00:00.000000000"
         ],
         "xaxis": "x",
         "y": {
          "bdata": "cGvjad2rbkDwC+sdOtZvQFA6NcvHc3BA4Jy/5AW9cECgK6xt2t1wQDiMT0oW8nBAKCIfV5QlcUBovTmLhixxQJi4JHri/XBAsD2EseqjcEDAGg7Fix5wQACl0PGcym9AAHUOsjxib0DwOPnFy+5uQOArIPh5fW5AcNEpG7MjbkAQm+5Ha+NtQEAkjOY4rW1A0LcABmFubUCwY4mQvF9tQKCHEPvPpW1A8LqyUQEMbkBAS67rPwFvQHCiFg13FHBA2PKWh7+kcEDgXeGfpR9xQEg7e39+c3FASNDrtMG4cUD4otngxdtxQMAHOrMb23FAID+7YMPHcUD4SUQkTcNxQPBWaHiw53FA+Mc81rk3ckBIHVHw+r1yQEBjYBozbXNA+BjptpANdEBwTKBMl6R0QIiuSHUeGHVACB/uRSp9dUCYHfhsIa11QMhgA50EwXVA4OesQJO5dUBQWaeMkth1QFBZrDq28nVA8AVvnnQMdkCAG4Lixxt2QFB0+23BCHZAqFPjb37udUCYfFYnsLp1QFgdVZWMZnVAEM4QawvQdEBgGsoicy50QOA006ZUt3NAEJKFtfZdc0DATGvgmxVzQNDOWsBC+XJAoK8xEjb1ckB42ZekxfdyQDgWTAv1D3NAMP7mFyQ7c0BYD/meF7ZzQKjjB98OI3RA0JCxSn9tdEBA60Y8SIp0QMArZNfCjHRA8FEazipydEAYR6QzQUV0QMhu9C6vGHRA6H2EGvzac0C4HQcstpVzQNALIWWBSXNAIBP0IYD1ckA4O1fiQ8lyQFDX0+42t3JAsGaVdIzBckDQj0aQSNZyQJi7Nd55CnNAGJEVkMpAc0A4xmexHY5zQICqchGq2HNACAu71iIjdEBwyMtzdGx0QDBtq+3MkXRAuHV0IqWedEAgchEjxJZ0QGA16af2cnRAKMoKK75AdEC4YvNjMfxzQNB8f2pmrXNAmIiXs7Joc0B4m3j8hixzQPA3x9FWGnNAuDw/qaclc0BwoLV1oFpzQIBgkDDJt3NAoHW1TG8ddECohzCeDXp0QOj2c/pixnRAeK8Ws9P3dEBgkO+xJBV1QNDd6vZlIXVAUIGA08sWdUAQiukMxO90QLBC59z36nRA2G5pOxP/dECQ0k5uhiV1QFgC6dyZTXVAWDvA+t9vdUDQEsrAWnt1QCjFzYv7ZXVAIPeNUDNSdUCQBOZ24Dp1QBiCb71FS3VAWGdnJPVYdUCI9qLAdGB1QCA2aHZeb3VAkAqrVcGvdUCQn2SfPkl2QHDn8ORKFXdA/zaISVTkd0Cf6uLgo614QMdSw9aSSHlAH6NNREvMeUDfiC8dSkR6QIe3zPOIknpAF49RKSPlekC/hN3XTAt7QH9ssf4sM3tA",
          "dtype": "f8"
         },
         "yaxis": "y"
        },
        {
         "line": {
          "color": "#00FF00",
          "dash": "dash",
          "width": 3
         },
         "marker": {
          "size": 8,
          "symbol": "star"
         },
         "name": "Future Prediction",
         "type": "scatter",
         "x": [
          "2025-09-30T00:00:00",
          "2025-10-01T00:00:00",
          "2025-10-02T00:00:00",
          "2025-10-03T00:00:00",
          "2025-10-06T00:00:00",
          "2025-10-07T00:00:00",
          "2025-10-08T00:00:00"
         ],
         "xaxis": "x",
         "y": [
          436.08356691866123,
          435.61604215393703,
          434.99052641464135,
          434.7142305574279,
          434.98301464179707,
          435.8144504549627,
          437.1302959027857
         ],
         "yaxis": "y"
        },
        {
         "marker": {
          "color": "#A23B72"
         },
         "name": "Volume",
         "type": "bar",
         "x": [
          "2025-03-26T00:00:00.000000000",
          "2025-03-27T00:00:00.000000000",
          "2025-03-28T00:00:00.000000000",
          "2025-03-31T00:00:00.000000000",
          "2025-04-01T00:00:00.000000000",
          "2025-04-02T00:00:00.000000000",
          "2025-04-03T00:00:00.000000000",
          "2025-04-04T00:00:00.000000000",
          "2025-04-07T00:00:00.000000000",
          "2025-04-08T00:00:00.000000000",
          "2025-04-09T00:00:00.000000000",
          "2025-04-10T00:00:00.000000000",
          "2025-04-11T00:00:00.000000000",
          "2025-04-14T00:00:00.000000000",
          "2025-04-15T00:00:00.000000000",
          "2025-04-16T00:00:00.000000000",
          "2025-04-17T00:00:00.000000000",
          "2025-04-21T00:00:00.000000000",
          "2025-04-22T00:00:00.000000000",
          "2025-04-23T00:00:00.000000000",
          "2025-04-24T00:00:00.000000000",
          "2025-04-25T00:00:00.000000000",
          "2025-04-28T00:00:00.000000000",
          "2025-04-29T00:00:00.000000000",
          "2025-04-30T00:00:00.000000000",
          "2025-05-01T00:00:00.000000000",
          "2025-05-02T00:00:00.000000000",
          "2025-05-05T00:00:00.000000000",
          "2025-05-06T00:00:00.000000000",
          "2025-05-07T00:00:00.000000000",
          "2025-05-08T00:00:00.000000000",
          "2025-05-09T00:00:00.000000000",
          "2025-05-12T00:00:00.000000000",
          "2025-05-13T00:00:00.000000000",
          "2025-05-14T00:00:00.000000000",
          "2025-05-15T00:00:00.000000000",
          "2025-05-16T00:00:00.000000000",
          "2025-05-19T00:00:00.000000000",
          "2025-05-20T00:00:00.000000000",
          "2025-05-21T00:00:00.000000000",
          "2025-05-22T00:00:00.000000000",
          "2025-05-23T00:00:00.000000000",
          "2025-05-27T00:00:00.000000000",
          "2025-05-28T00:00:00.000000000",
          "2025-05-29T00:00:00.000000000",
          "2025-05-30T00:00:00.000000000",
          "2025-06-02T00:00:00.000000000",
          "2025-06-03T00:00:00.000000000",
          "2025-06-04T00:00:00.000000000",
          "2025-06-05T00:00:00.000000000",
          "2025-06-06T00:00:00.000000000",
          "2025-06-09T00:00:00.000000000",
          "2025-06-10T00:00:00.000000000",
          "2025-06-11T00:00:00.000000000",
          "2025-06-12T00:00:00.000000000",
          "2025-06-13T00:00:00.000000000",
          "2025-06-16T00:00:00.000000000",
          "2025-06-17T00:00:00.000000000",
          "2025-06-18T00:00:00.000000000",
          "2025-06-20T00:00:00.000000000",
          "2025-06-23T00:00:00.000000000",
          "2025-06-24T00:00:00.000000000",
          "2025-06-25T00:00:00.000000000",
          "2025-06-26T00:00:00.000000000",
          "2025-06-27T00:00:00.000000000",
          "2025-06-30T00:00:00.000000000",
          "2025-07-01T00:00:00.000000000",
          "2025-07-02T00:00:00.000000000",
          "2025-07-03T00:00:00.000000000",
          "2025-07-07T00:00:00.000000000",
          "2025-07-08T00:00:00.000000000",
          "2025-07-09T00:00:00.000000000",
          "2025-07-10T00:00:00.000000000",
          "2025-07-11T00:00:00.000000000",
          "2025-07-14T00:00:00.000000000",
          "2025-07-15T00:00:00.000000000",
          "2025-07-16T00:00:00.000000000",
          "2025-07-17T00:00:00.000000000",
          "2025-07-18T00:00:00.000000000",
          "2025-07-21T00:00:00.000000000",
          "2025-07-22T00:00:00.000000000",
          "2025-07-23T00:00:00.000000000",
          "2025-07-24T00:00:00.000000000",
          "2025-07-25T00:00:00.000000000",
          "2025-07-28T00:00:00.000000000",
          "2025-07-29T00:00:00.000000000",
          "2025-07-30T00:00:00.000000000",
          "2025-07-31T00:00:00.000000000",
          "2025-08-01T00:00:00.000000000",
          "2025-08-04T00:00:00.000000000",
          "2025-08-05T00:00:00.000000000",
          "2025-08-06T00:00:00.000000000",
          "2025-08-07T00:00:00.000000000",
          "2025-08-08T00:00:00.000000000",
          "2025-08-11T00:00:00.000000000",
          "2025-08-12T00:00:00.000000000",
          "2025-08-13T00:00:00.000000000",
          "2025-08-14T00:00:00.000000000",
          "2025-08-15T00:00:00.000000000",
          "2025-08-18T00:00:00.000000000",
          "2025-08-19T00:00:00.000000000",
          "2025-08-20T00:00:00.000000000",
          "2025-08-21T00:00:00.000000000",
          "2025-08-22T00:00:00.000000000",
          "2025-08-25T00:00:00.000000000",
          "2025-08-26T00:00:00.000000000",
          "2025-08-27T00:00:00.000000000",
          "2025-08-28T00:00:00.000000000",
          "2025-08-29T00:00:00.000000000",
          "2025-09-02T00:00:00.000000000",
          "2025-09-03T00:00:00.000000000",
          "2025-09-04T00:00:00.000000000",
          "2025-09-05T00:00:00.000000000",
          "2025-09-08T00:00:00.000000000",
          "2025-09-09T00:00:00.000000000",
          "2025-09-10T00:00:00.000000000",
          "2025-09-11T00:00:00.000000000",
          "2025-09-12T00:00:00.000000000",
          "2025-09-15T00:00:00.000000000",
          "2025-09-16T00:00:00.000000000",
          "2025-09-17T00:00:00.000000000",
          "2025-09-18T00:00:00.000000000",
          "2025-09-19T00:00:00.000000000",
          "2025-09-22T00:00:00.000000000",
          "2025-09-23T00:00:00.000000000",
          "2025-09-24T00:00:00.000000000",
          "2025-09-25T00:00:00.000000000",
          "2025-09-26T00:00:00.000000000",
          "2025-09-29T00:00:00.000000000"
         ],
         "xaxis": "x2",
         "y": {
          "bdata": "aDQoCUSnsAl4LmEHRND8B3Q2uwhY4q4M3NodCFhXzQpoSO8KLHY6CrhJFA3o3dQKhJevByDx9wU8g74ETMOyBgCo+ARA0tMFhCc0B0yl9gjIaKEF/MX8CVg+CwloyH0GTMqvB/is8AWscNIGFMWjBRiXkgSYakQESFXQBdgT5AdMmbkGWFcqCLRpKgjokdUFlEC3BQwMTAWs0dkHcM8ZBjjVyQXQugsF4EkpBwy4cgX4HEAF1BNcB4hL4QRUkusFZEflBRjmIhG02dEJZBlmCLT9AwnI5k4HTB5EBszWrweMmwAFTBZDBaSvqwWAcnoGgBteC0i81gbssCQHRG7LBPgNTwU8RpIEBNWlCDQtHwe8p3UDrJ3RB2xrJwbwXIEE9Hw4BjANuQQI2aYETGqfBMByzAVU+WcEmDeeBeAjhAQglJwESEKEBXAcWwm4w9UICES3BrT9NAX8sgAFdCEVBXjiTwX8nrAEVGt0A9AsrgSMIfkDLJtvBQgPRwZ0q8wEtCMLBHxreAS4B24EuBZlAyD/hgRIR54EkJdSAyyTmgWweioFUJyRBJi95wPgHgwEZC/WBMD9egN09kkFWGCeA2gNfwZslnsEwCo1A2R9TATgMC8G8NwFClTAwwkERjcG/HdTBuQ5ZAX4EI0FQMPJBezt+AQgG40FoDvEBUA3CgbZSpsA",
          "dtype": "i4"
         },
         "yaxis": "y2"
        },
        {
         "line": {
          "color": "orange",
          "width": 1
         },
         "name": "SMA 50",
         "type": "scatter",
         "x": [
          "2025-03-26T00:00:00.000000000",
          "2025-03-27T00:00:00.000000000",
          "2025-03-28T00:00:00.000000000",
          "2025-03-31T00:00:00.000000000",
          "2025-04-01T00:00:00.000000000",
          "2025-04-02T00:00:00.000000000",
          "2025-04-03T00:00:00.000000000",
          "2025-04-04T00:00:00.000000000",
          "2025-04-07T00:00:00.000000000",
          "2025-04-08T00:00:00.000000000",
          "2025-04-09T00:00:00.000000000",
          "2025-04-10T00:00:00.000000000",
          "2025-04-11T00:00:00.000000000",
          "2025-04-14T00:00:00.000000000",
          "2025-04-15T00:00:00.000000000",
          "2025-04-16T00:00:00.000000000",
          "2025-04-17T00:00:00.000000000",
          "2025-04-21T00:00:00.000000000",
          "2025-04-22T00:00:00.000000000",
          "2025-04-23T00:00:00.000000000",
          "2025-04-24T00:00:00.000000000",
          "2025-04-25T00:00:00.000000000",
          "2025-04-28T00:00:00.000000000",
          "2025-04-29T00:00:00.000000000",
          "2025-04-30T00:00:00.000000000",
          "2025-05-01T00:00:00.000000000",
          "2025-05-02T00:00:00.000000000",
          "2025-05-05T00:00:00.000000000",
          "2025-05-06T00:00:00.000000000",
          "2025-05-07T00:00:00.000000000",
          "2025-05-08T00:00:00.000000000",
          "2025-05-09T00:00:00.000000000",
          "2025-05-12T00:00:00.000000000",
          "2025-05-13T00:00:00.000000000",
          "2025-05-14T00:00:00.000000000",
          "2025-05-15T00:00:00.000000000",
          "2025-05-16T00:00:00.000000000",
          "2025-05-19T00:00:00.000000000",
          "2025-05-20T00:00:00.000000000",
          "2025-05-21T00:00:00.000000000",
          "2025-05-22T00:00:00.000000000",
          "2025-05-23T00:00:00.000000000",
          "2025-05-27T00:00:00.000000000",
          "2025-05-28T00:00:00.000000000",
          "2025-05-29T00:00:00.000000000",
          "2025-05-30T00:00:00.000000000",
          "2025-06-02T00:00:00.000000000",
          "2025-06-03T00:00:00.000000000",
          "2025-06-04T00:00:00.000000000",
          "2025-06-05T00:00:00.000000000",
          "2025-06-06T00:00:00.000000000",
          "2025-06-09T00:00:00.000000000",
          "2025-06-10T00:00:00.000000000",
          "2025-06-11T00:00:00.000000000",
          "2025-06-12T00:00:00.000000000",
          "2025-06-13T00:00:00.000000000",
          "2025-06-16T00:00:00.000000000",
          "2025-06-17T00:00:00.000000000",
          "2025-06-18T00:00:00.000000000",
          "2025-06-20T00:00:00.000000000",
          "2025-06-23T00:00:00.000000000",
          "2025-06-24T00:00:00.000000000",
          "2025-06-25T00:00:00.000000000",
          "2025-06-26T00:00:00.000000000",
          "2025-06-27T00:00:00.000000000",
          "2025-06-30T00:00:00.000000000",
          "2025-07-01T00:00:00.000000000",
          "2025-07-02T00:00:00.000000000",
          "2025-07-03T00:00:00.000000000",
          "2025-07-07T00:00:00.000000000",
          "2025-07-08T00:00:00.000000000",
          "2025-07-09T00:00:00.000000000",
          "2025-07-10T00:00:00.000000000",
          "2025-07-11T00:00:00.000000000",
          "2025-07-14T00:00:00.000000000",
          "2025-07-15T00:00:00.000000000",
          "2025-07-16T00:00:00.000000000",
          "2025-07-17T00:00:00.000000000",
          "2025-07-18T00:00:00.000000000",
          "2025-07-21T00:00:00.000000000",
          "2025-07-22T00:00:00.000000000",
          "2025-07-23T00:00:00.000000000",
          "2025-07-24T00:00:00.000000000",
          "2025-07-25T00:00:00.000000000",
          "2025-07-28T00:00:00.000000000",
          "2025-07-29T00:00:00.000000000",
          "2025-07-30T00:00:00.000000000",
          "2025-07-31T00:00:00.000000000",
          "2025-08-01T00:00:00.000000000",
          "2025-08-04T00:00:00.000000000",
          "2025-08-05T00:00:00.000000000",
          "2025-08-06T00:00:00.000000000",
          "2025-08-07T00:00:00.000000000",
          "2025-08-08T00:00:00.000000000",
          "2025-08-11T00:00:00.000000000",
          "2025-08-12T00:00:00.000000000",
          "2025-08-13T00:00:00.000000000",
          "2025-08-14T00:00:00.000000000",
          "2025-08-15T00:00:00.000000000",
          "2025-08-18T00:00:00.000000000",
          "2025-08-19T00:00:00.000000000",
          "2025-08-20T00:00:00.000000000",
          "2025-08-21T00:00:00.000000000",
          "2025-08-22T00:00:00.000000000",
          "2025-08-25T00:00:00.000000000",
          "2025-08-26T00:00:00.000000000",
          "2025-08-27T00:00:00.000000000",
          "2025-08-28T00:00:00.000000000",
          "2025-08-29T00:00:00.000000000",
          "2025-09-02T00:00:00.000000000",
          "2025-09-03T00:00:00.000000000",
          "2025-09-04T00:00:00.000000000",
          "2025-09-05T00:00:00.000000000",
          "2025-09-08T00:00:00.000000000",
          "2025-09-09T00:00:00.000000000",
          "2025-09-10T00:00:00.000000000",
          "2025-09-11T00:00:00.000000000",
          "2025-09-12T00:00:00.000000000",
          "2025-09-15T00:00:00.000000000",
          "2025-09-16T00:00:00.000000000",
          "2025-09-17T00:00:00.000000000",
          "2025-09-18T00:00:00.000000000",
          "2025-09-19T00:00:00.000000000",
          "2025-09-22T00:00:00.000000000",
          "2025-09-23T00:00:00.000000000",
          "2025-09-24T00:00:00.000000000",
          "2025-09-25T00:00:00.000000000",
          "2025-09-26T00:00:00.000000000",
          "2025-09-29T00:00:00.000000000"
         ],
         "xaxis": "x",
         "y": {
          "bdata": "7FG47smDdEDsUbjuWlx0QKRwPSqpJ3RArkfhaiv2c0B7FK7HmMNzQKRwPapglnNA7FG4bhJnc0DhehReui9zQLgehXNG+HJAH4XrsS7AckCamZnJ5ZdyQClcj1InbHJA7FG4ns08ckDNzMxMFQxyQFK4Hu2e4nFAw/Uo3GiycUA9CtczooZxQFK4HrWmV3FAzczMTBUwcUBmZmYeFhBxQNejcHUC+nBAH4XrqYLpcEAUrkdZF9NwQArXowisvnBAw/Uo5KWncEC4HoUDCY5wQHE9Cs+IeHBApHA9Ih9mcEAfhevJdlRwQDMzM1v1S3BAH4XreQtKcED2KFyXQ09wQD0K11tkV3BACtej2DRncEDhehRGaX9wQPYoXDfNk3BAj8L1wH2vcEDsUbjW58hwQD0K1wvX73BACtejACIRcUB7FK534C5xQB+F67FyTnFACtejSJRycUAK16PAn5hxQBSuR/E4w3FAMzMzS53mcUCkcD0KrAhyQIXrUVBAJ3JAuB6FI2w4ckDXo3BVUjdyQEjhegy1PnJASOF6HA1KckC4HoVjEF5yQNejcCWXc3JAzczMZMyDckDsUbgWapFyQPYoXNc0pXJAj8L1INK9ckCPwvVYOdpyQEjheuxR+nJAH4XrKcsSc0A9Ctfb+S5zQM3MzIQNR3NA9ihc54xec0C4HoX7y3RzQB+F6+kmjXNAPQrXCySgc0AzMzNLWbxzQLgehUMc1XNAUrgeNe/ic0DhehS+MO9zQArXoyCw8nNAMzMzY136c0B7FK4HPQF0QOF6FO5aDHRASOF61AkWdEC4HoXLECF0QGZmZvaXLXRAexSuN/g+dEDNzMwssk90QLgehSvUXnRAZmZmBs5pdEApXI+CnmV0QBSuRyHbX3RASOF6hMlYdECF61Fo3lF0QNejcM33R3RASOF6RCU9dEC4HoX79i90QOF6FH7ZJ3RAZmZm1oEddEAfheshShd0QKRwPYpKCnRAhetROJIBdECPwvX4XPtzQFK4HpWQ+XNA16NwbYH4c0CuR+GKufVzQLgehXs/9XNApHA9KmUFdEDsUbheVBB0QClcj2I7FXRACtejgFETdECkcD36qRd0QFyPwvV1IHRA9ihcX+UodEBmZmZGci90QArXo5DtOHRAw/Uo3LU8dEDsUbiuAz90QIXrUXhYOnRAuB6Fi7k5dEBmZmZ2LUF0QHE9CqfGR3RApHA9qj5PdECkcD3q4lh0QK5H4aqtbnRAZmZmBl+IdEB7FK4HrKZ0QDMzM5OHz3RA4XoUboH4dECuR+FKNx91QFyPwmVmRHVAPQrXIwZrdUAzMzNT4411QFyPwpUhuHVAzczMfK7YdUDNzMz8Zf91QOxRuA56JXZA",
          "dtype": "f8"
         },
         "yaxis": "y"
        }
       ],
       "layout": {
        "annotations": [
         {
          "font": {
           "size": 16
          },
          "showarrow": false,
          "text": "TSLA Price Prediction with LSTM",
          "x": 0.5,
          "xanchor": "center",
          "xref": "paper",
          "y": 1,
          "yanchor": "bottom",
          "yref": "paper"
         },
         {
          "font": {
           "size": 16
          },
          "showarrow": false,
          "text": "Volume",
          "x": 0.5,
          "xanchor": "center",
          "xref": "paper",
          "y": 0.20000000000000004,
          "yanchor": "bottom",
          "yref": "paper"
         },
         {
          "align": "left",
          "bgcolor": "white",
          "bordercolor": "black",
          "borderpad": 4,
          "borderwidth": 1,
          "font": {
           "size": 12
          },
          "opacity": 0.8,
          "showarrow": false,
          "text": "MAE: $16.00<br>MAPE: 5.02%",
          "x": 0.02,
          "xref": "paper",
          "y": 0.98,
          "yref": "paper"
         }
        ],
        "height": 700,
        "legend": {
         "orientation": "h",
         "x": 1,
         "xanchor": "right",
         "y": 1.02,
         "yanchor": "bottom"
        },
        "template": {
         "data": {
          "bar": [
           {
            "error_x": {
             "color": "#2a3f5f"
            },
            "error_y": {
             "color": "#2a3f5f"
            },
            "marker": {
             "line": {
              "color": "white",
              "width": 0.5
             },
             "pattern": {
              "fillmode": "overlay",
              "size": 10,
              "solidity": 0.2
             }
            },
            "type": "bar"
           }
          ],
          "barpolar": [
           {
            "marker": {
             "line": {
              "color": "white",
              "width": 0.5
             },
             "pattern": {
              "fillmode": "overlay",
              "size": 10,
              "solidity": 0.2
             }
            },
            "type": "barpolar"
           }
          ],
          "carpet": [
           {
            "aaxis": {
             "endlinecolor": "#2a3f5f",
             "gridcolor": "#C8D4E3",
             "linecolor": "#C8D4E3",
             "minorgridcolor": "#C8D4E3",
             "startlinecolor": "#2a3f5f"
            },
            "baxis": {
             "endlinecolor": "#2a3f5f",
             "gridcolor": "#C8D4E3",
             "linecolor": "#C8D4E3",
             "minorgridcolor": "#C8D4E3",
             "startlinecolor": "#2a3f5f"
            },
            "type": "carpet"
           }
          ],
          "choropleth": [
           {
            "colorbar": {
             "outlinewidth": 0,
             "ticks": ""
            },
            "type": "choropleth"
           }
          ],
          "contour": [
           {
            "colorbar": {
             "outlinewidth": 0,
             "ticks": ""
            },
            "colorscale": [
             [
              0,
              "#0d0887"
             ],
             [
              0.1111111111111111,
              "#46039f"
             ],
             [
              0.2222222222222222,
              "#7201a8"
             ],
             [
              0.3333333333333333,
              "#9c179e"
             ],
             [
              0.4444444444444444,
              "#bd3786"
             ],
             [
              0.5555555555555556,
              "#d8576b"
             ],
             [
              0.6666666666666666,
              "#ed7953"
             ],
             [
              0.7777777777777778,
              "#fb9f3a"
             ],
             [
              0.8888888888888888,
              "#fdca26"
             ],
             [
              1,
              "#f0f921"
             ]
            ],
            "type": "contour"
           }
          ],
          "contourcarpet": [
           {
            "colorbar": {
             "outlinewidth": 0,
             "ticks": ""
            },
            "type": "contourcarpet"
           }
          ],
          "heatmap": [
           {
            "colorbar": {
             "outlinewidth": 0,
             "ticks": ""
            },
            "colorscale": [
             [
              0,
              "#0d0887"
             ],
             [
              0.1111111111111111,
              "#46039f"
             ],
             [
              0.2222222222222222,
              "#7201a8"
             ],
             [
              0.3333333333333333,
              "#9c179e"
             ],
             [
              0.4444444444444444,
              "#bd3786"
             ],
             [
              0.5555555555555556,
              "#d8576b"
             ],
             [
              0.6666666666666666,
              "#ed7953"
             ],
             [
              0.7777777777777778,
              "#fb9f3a"
             ],
             [
              0.8888888888888888,
              "#fdca26"
             ],
             [
              1,
              "#f0f921"
             ]
            ],
            "type": "heatmap"
           }
          ],
          "histogram": [
           {
            "marker": {
             "pattern": {
              "fillmode": "overlay",
              "size": 10,
              "solidity": 0.2
             }
            },
            "type": "histogram"
           }
          ],
          "histogram2d": [
           {
            "colorbar": {
             "outlinewidth": 0,
             "ticks": ""
            },
            "colorscale": [
             [
              0,
              "#0d0887"
             ],
             [
              0.1111111111111111,
              "#46039f"
             ],
             [
              0.2222222222222222,
              "#7201a8"
             ],
             [
              0.3333333333333333,
              "#9c179e"
             ],
             [
              0.4444444444444444,
              "#bd3786"
             ],
             [
              0.5555555555555556,
              "#d8576b"
             ],
             [
              0.6666666666666666,
              "#ed7953"
             ],
             [
              0.7777777777777778,
              "#fb9f3a"
             ],
             [
              0.8888888888888888,
              "#fdca26"
             ],
             [
              1,
              "#f0f921"
             ]
            ],
            "type": "histogram2d"
           }
          ],
          "histogram2dcontour": [
           {
            "colorbar": {
             "outlinewidth": 0,
             "ticks": ""
            },
            "colorscale": [
             [
              0,
              "#0d0887"
             ],
             [
              0.1111111111111111,
              "#46039f"
             ],
             [
              0.2222222222222222,
              "#7201a8"
             ],
             [
              0.3333333333333333,
              "#9c179e"
             ],
             [
              0.4444444444444444,
              "#bd3786"
             ],
             [
              0.5555555555555556,
              "#d8576b"
             ],
             [
              0.6666666666666666,
              "#ed7953"
             ],
             [
              0.7777777777777778,
              "#fb9f3a"
             ],
             [
              0.8888888888888888,
              "#fdca26"
             ],
             [
              1,
              "#f0f921"
             ]
            ],
            "type": "histogram2dcontour"
           }
          ],
          "mesh3d": [
           {
            "colorbar": {
             "outlinewidth": 0,
             "ticks": ""
            },
            "type": "mesh3d"
           }
          ],
          "parcoords": [
           {
            "line": {
             "colorbar": {
              "outlinewidth": 0,
              "ticks": ""
             }
            },
            "type": "parcoords"
           }
          ],
          "pie": [
           {
            "automargin": true,
            "type": "pie"
           }
          ],
          "scatter": [
           {
            "fillpattern": {
             "fillmode": "overlay",
             "size": 10,
             "solidity": 0.2
            },
            "type": "scatter"
           }
          ],
          "scatter3d": [
           {
            "line": {
             "colorbar": {
              "outlinewidth": 0,
              "ticks": ""
             }
            },
            "marker": {
             "colorbar": {
              "outlinewidth": 0,
              "ticks": ""
             }
            },
            "type": "scatter3d"
           }
          ],
          "scattercarpet": [
           {
            "marker": {
             "colorbar": {
              "outlinewidth": 0,
              "ticks": ""
             }
            },
            "type": "scattercarpet"
           }
          ],
          "scattergeo": [
           {
            "marker": {
             "colorbar": {
              "outlinewidth": 0,
              "ticks": ""
             }
            },
            "type": "scattergeo"
           }
          ],
          "scattergl": [
           {
            "marker": {
             "colorbar": {
              "outlinewidth": 0,
              "ticks": ""
             }
            },
            "type": "scattergl"
           }
          ],
          "scattermap": [
           {
            "marker": {
             "colorbar": {
              "outlinewidth": 0,
              "ticks": ""
             }
            },
            "type": "scattermap"
           }
          ],
          "scattermapbox": [
           {
            "marker": {
             "colorbar": {
              "outlinewidth": 0,
              "ticks": ""
             }
            },
            "type": "scattermapbox"
           }
          ],
          "scatterpolar": [
           {
            "marker": {
             "colorbar": {
              "outlinewidth": 0,
              "ticks": ""
             }
            },
            "type": "scatterpolar"
           }
          ],
          "scatterpolargl": [
           {
            "marker": {
             "colorbar": {
              "outlinewidth": 0,
              "ticks": ""
             }
            },
            "type": "scatterpolargl"
           }
          ],
          "scatterternary": [
           {
            "marker": {
             "colorbar": {
              "outlinewidth": 0,
              "ticks": ""
             }
            },
            "type": "scatterternary"
           }
          ],
          "surface": [
           {
            "colorbar": {
             "outlinewidth": 0,
             "ticks": ""
            },
            "colorscale": [
             [
              0,
              "#0d0887"
             ],
             [
              0.1111111111111111,
              "#46039f"
             ],
             [
              0.2222222222222222,
              "#7201a8"
             ],
             [
              0.3333333333333333,
              "#9c179e"
             ],
             [
              0.4444444444444444,
              "#bd3786"
             ],
             [
              0.5555555555555556,
              "#d8576b"
             ],
             [
              0.6666666666666666,
              "#ed7953"
             ],
             [
              0.7777777777777778,
              "#fb9f3a"
             ],
             [
              0.8888888888888888,
              "#fdca26"
             ],
             [
              1,
              "#f0f921"
             ]
            ],
            "type": "surface"
           }
          ],
          "table": [
           {
            "cells": {
             "fill": {
              "color": "#EBF0F8"
             },
             "line": {
              "color": "white"
             }
            },
            "header": {
             "fill": {
              "color": "#C8D4E3"
             },
             "line": {
              "color": "white"
             }
            },
            "type": "table"
           }
          ]
         },
         "layout": {
          "annotationdefaults": {
           "arrowcolor": "#2a3f5f",
           "arrowhead": 0,
           "arrowwidth": 1
          },
          "autotypenumbers": "strict",
          "coloraxis": {
           "colorbar": {
            "outlinewidth": 0,
            "ticks": ""
           }
          },
          "colorscale": {
           "diverging": [
            [
             0,
             "#8e0152"
            ],
            [
             0.1,
             "#c51b7d"
            ],
            [
             0.2,
             "#de77ae"
            ],
            [
             0.3,
             "#f1b6da"
            ],
            [
             0.4,
             "#fde0ef"
            ],
            [
             0.5,
             "#f7f7f7"
            ],
            [
             0.6,
             "#e6f5d0"
            ],
            [
             0.7,
             "#b8e186"
            ],
            [
             0.8,
             "#7fbc41"
            ],
            [
             0.9,
             "#4d9221"
            ],
            [
             1,
             "#276419"
            ]
           ],
           "sequential": [
            [
             0,
             "#0d0887"
            ],
            [
             0.1111111111111111,
             "#46039f"
            ],
            [
             0.2222222222222222,
             "#7201a8"
            ],
            [
             0.3333333333333333,
             "#9c179e"
            ],
            [
             0.4444444444444444,
             "#bd3786"
            ],
            [
             0.5555555555555556,
             "#d8576b"
            ],
            [
             0.6666666666666666,
             "#ed7953"
            ],
            [
             0.7777777777777778,
             "#fb9f3a"
            ],
            [
             0.8888888888888888,
             "#fdca26"
            ],
            [
             1,
             "#f0f921"
            ]
           ],
           "sequentialminus": [
            [
             0,
             "#0d0887"
            ],
            [
             0.1111111111111111,
             "#46039f"
            ],
            [
             0.2222222222222222,
             "#7201a8"
            ],
            [
             0.3333333333333333,
             "#9c179e"
            ],
            [
             0.4444444444444444,
             "#bd3786"
            ],
            [
             0.5555555555555556,
             "#d8576b"
            ],
            [
             0.6666666666666666,
             "#ed7953"
            ],
            [
             0.7777777777777778,
             "#fb9f3a"
            ],
            [
             0.8888888888888888,
             "#fdca26"
            ],
            [
             1,
             "#f0f921"
            ]
           ]
          },
          "colorway": [
           "#636efa",
           "#EF553B",
           "#00cc96",
           "#ab63fa",
           "#FFA15A",
           "#19d3f3",
           "#FF6692",
           "#B6E880",
           "#FF97FF",
           "#FECB52"
          ],
          "font": {
           "color": "#2a3f5f"
          },
          "geo": {
           "bgcolor": "white",
           "lakecolor": "white",
           "landcolor": "white",
           "showlakes": true,
           "showland": true,
           "subunitcolor": "#C8D4E3"
          },
          "hoverlabel": {
           "align": "left"
          },
          "hovermode": "closest",
          "mapbox": {
           "style": "light"
          },
          "paper_bgcolor": "white",
          "plot_bgcolor": "white",
          "polar": {
           "angularaxis": {
            "gridcolor": "#EBF0F8",
            "linecolor": "#EBF0F8",
            "ticks": ""
           },
           "bgcolor": "white",
           "radialaxis": {
            "gridcolor": "#EBF0F8",
            "linecolor": "#EBF0F8",
            "ticks": ""
           }
          },
          "scene": {
           "xaxis": {
            "backgroundcolor": "white",
            "gridcolor": "#DFE8F3",
            "gridwidth": 2,
            "linecolor": "#EBF0F8",
            "showbackground": true,
            "ticks": "",
            "zerolinecolor": "#EBF0F8"
           },
           "yaxis": {
            "backgroundcolor": "white",
            "gridcolor": "#DFE8F3",
            "gridwidth": 2,
            "linecolor": "#EBF0F8",
            "showbackground": true,
            "ticks": "",
            "zerolinecolor": "#EBF0F8"
           },
           "zaxis": {
            "backgroundcolor": "white",
            "gridcolor": "#DFE8F3",
            "gridwidth": 2,
            "linecolor": "#EBF0F8",
            "showbackground": true,
            "ticks": "",
            "zerolinecolor": "#EBF0F8"
           }
          },
          "shapedefaults": {
           "line": {
            "color": "#2a3f5f"
           }
          },
          "ternary": {
           "aaxis": {
            "gridcolor": "#DFE8F3",
            "linecolor": "#A2B1C6",
            "ticks": ""
           },
           "baxis": {
            "gridcolor": "#DFE8F3",
            "linecolor": "#A2B1C6",
            "ticks": ""
           },
           "bgcolor": "white",
           "caxis": {
            "gridcolor": "#DFE8F3",
            "linecolor": "#A2B1C6",
            "ticks": ""
           }
          },
          "title": {
           "x": 0.05
          },
          "xaxis": {
           "automargin": true,
           "gridcolor": "#EBF0F8",
           "linecolor": "#EBF0F8",
           "ticks": "",
           "title": {
            "standoff": 15
           },
           "zerolinecolor": "#EBF0F8",
           "zerolinewidth": 2
          },
          "yaxis": {
           "automargin": true,
           "gridcolor": "#EBF0F8",
           "linecolor": "#EBF0F8",
           "ticks": "",
           "title": {
            "standoff": 15
           },
           "zerolinecolor": "#EBF0F8",
           "zerolinewidth": 2
          }
         }
        },
        "title": {
         "text": "TSLA Stock Price Prediction with LSTM"
        },
        "xaxis": {
         "anchor": "y",
         "domain": [
          0,
          1
         ],
         "matches": "x2",
         "rangeslider": {
          "visible": false
         },
         "showticklabels": false
        },
        "xaxis2": {
         "anchor": "y2",
         "domain": [
          0,
          1
         ]
        },
        "yaxis": {
         "anchor": "x",
         "domain": [
          0.30000000000000004,
          1
         ],
         "title": {
          "text": "Price ($)"
         }
        },
        "yaxis2": {
         "anchor": "x2",
         "domain": [
          0,
          0.20000000000000004
         ],
         "title": {
          "text": "Volume"
         }
        }
       }
      }
     },
     "metadata": {},
     "output_type": "display_data"
    },
    {
     "data": {
      "application/vnd.plotly.v1+json": {
       "config": {
        "plotlyServerURL": "https://plot.ly"
       },
       "data": [
        {
         "line": {
          "color": "#2E86AB"
         },
         "name": "Close",
         "type": "scatter",
         "x": [
          "2022-12-08T00:00:00.000000000",
          "2022-12-09T00:00:00.000000000",
          "2022-12-12T00:00:00.000000000",
          "2022-12-13T00:00:00.000000000",
          "2022-12-14T00:00:00.000000000",
          "2022-12-15T00:00:00.000000000",
          "2022-12-16T00:00:00.000000000",
          "2022-12-19T00:00:00.000000000",
          "2022-12-20T00:00:00.000000000",
          "2022-12-21T00:00:00.000000000",
          "2022-12-22T00:00:00.000000000",
          "2022-12-23T00:00:00.000000000",
          "2022-12-27T00:00:00.000000000",
          "2022-12-28T00:00:00.000000000",
          "2022-12-29T00:00:00.000000000",
          "2022-12-30T00:00:00.000000000",
          "2023-01-03T00:00:00.000000000",
          "2023-01-04T00:00:00.000000000",
          "2023-01-05T00:00:00.000000000",
          "2023-01-06T00:00:00.000000000",
          "2023-01-09T00:00:00.000000000",
          "2023-01-10T00:00:00.000000000",
          "2023-01-11T00:00:00.000000000",
          "2023-01-12T00:00:00.000000000",
          "2023-01-13T00:00:00.000000000",
          "2023-01-17T00:00:00.000000000",
          "2023-01-18T00:00:00.000000000",
          "2023-01-19T00:00:00.000000000",
          "2023-01-20T00:00:00.000000000",
          "2023-01-23T00:00:00.000000000",
          "2023-01-24T00:00:00.000000000",
          "2023-01-25T00:00:00.000000000",
          "2023-01-26T00:00:00.000000000",
          "2023-01-27T00:00:00.000000000",
          "2023-01-30T00:00:00.000000000",
          "2023-01-31T00:00:00.000000000",
          "2023-02-01T00:00:00.000000000",
          "2023-02-02T00:00:00.000000000",
          "2023-02-03T00:00:00.000000000",
          "2023-02-06T00:00:00.000000000",
          "2023-02-07T00:00:00.000000000",
          "2023-02-08T00:00:00.000000000",
          "2023-02-09T00:00:00.000000000",
          "2023-02-10T00:00:00.000000000",
          "2023-02-13T00:00:00.000000000",
          "2023-02-14T00:00:00.000000000",
          "2023-02-15T00:00:00.000000000",
          "2023-02-16T00:00:00.000000000",
          "2023-02-17T00:00:00.000000000",
          "2023-02-21T00:00:00.000000000",
          "2023-02-22T00:00:00.000000000",
          "2023-02-23T00:00:00.000000000",
          "2023-02-24T00:00:00.000000000",
          "2023-02-27T00:00:00.000000000",
          "2023-02-28T00:00:00.000000000",
          "2023-03-01T00:00:00.000000000",
          "2023-03-02T00:00:00.000000000",
          "2023-03-03T00:00:00.000000000",
          "2023-03-06T00:00:00.000000000",
          "2023-03-07T00:00:00.000000000",
          "2023-03-08T00:00:00.000000000",
          "2023-03-09T00:00:00.000000000",
          "2023-03-10T00:00:00.000000000",
          "2023-03-13T00:00:00.000000000",
          "2023-03-14T00:00:00.000000000",
          "2023-03-15T00:00:00.000000000",
          "2023-03-16T00:00:00.000000000",
          "2023-03-17T00:00:00.000000000",
          "2023-03-20T00:00:00.000000000",
          "2023-03-21T00:00:00.000000000",
          "2023-03-22T00:00:00.000000000",
          "2023-03-23T00:00:00.000000000",
          "2023-03-24T00:00:00.000000000",
          "2023-03-27T00:00:00.000000000",
          "2023-03-28T00:00:00.000000000",
          "2023-03-29T00:00:00.000000000",
          "2023-03-30T00:00:00.000000000",
          "2023-03-31T00:00:00.000000000",
          "2023-04-03T00:00:00.000000000",
          "2023-04-04T00:00:00.000000000",
          "2023-04-05T00:00:00.000000000",
          "2023-04-06T00:00:00.000000000",
          "2023-04-10T00:00:00.000000000",
          "2023-04-11T00:00:00.000000000",
          "2023-04-12T00:00:00.000000000",
          "2023-04-13T00:00:00.000000000",
          "2023-04-14T00:00:00.000000000",
          "2023-04-17T00:00:00.000000000",
          "2023-04-18T00:00:00.000000000",
          "2023-04-19T00:00:00.000000000",
          "2023-04-20T00:00:00.000000000",
          "2023-04-21T00:00:00.000000000",
          "2023-04-24T00:00:00.000000000",
          "2023-04-25T00:00:00.000000000",
          "2023-04-26T00:00:00.000000000",
          "2023-04-27T00:00:00.000000000",
          "2023-04-28T00:00:00.000000000",
          "2023-05-01T00:00:00.000000000",
          "2023-05-02T00:00:00.000000000",
          "2023-05-03T00:00:00.000000000",
          "2023-05-04T00:00:00.000000000",
          "2023-05-05T00:00:00.000000000",
          "2023-05-08T00:00:00.000000000",
          "2023-05-09T00:00:00.000000000",
          "2023-05-10T00:00:00.000000000",
          "2023-05-11T00:00:00.000000000",
          "2023-05-12T00:00:00.000000000",
          "2023-05-15T00:00:00.000000000",
          "2023-05-16T00:00:00.000000000",
          "2023-05-17T00:00:00.000000000",
          "2023-05-18T00:00:00.000000000",
          "2023-05-19T00:00:00.000000000",
          "2023-05-22T00:00:00.000000000",
          "2023-05-23T00:00:00.000000000",
          "2023-05-24T00:00:00.000000000",
          "2023-05-25T00:00:00.000000000",
          "2023-05-26T00:00:00.000000000",
          "2023-05-30T00:00:00.000000000",
          "2023-05-31T00:00:00.000000000",
          "2023-06-01T00:00:00.000000000",
          "2023-06-02T00:00:00.000000000",
          "2023-06-05T00:00:00.000000000",
          "2023-06-06T00:00:00.000000000",
          "2023-06-07T00:00:00.000000000",
          "2023-06-08T00:00:00.000000000",
          "2023-06-09T00:00:00.000000000",
          "2023-06-12T00:00:00.000000000",
          "2023-06-13T00:00:00.000000000",
          "2023-06-14T00:00:00.000000000",
          "2023-06-15T00:00:00.000000000",
          "2023-06-16T00:00:00.000000000",
          "2023-06-20T00:00:00.000000000",
          "2023-06-21T00:00:00.000000000",
          "2023-06-22T00:00:00.000000000",
          "2023-06-23T00:00:00.000000000",
          "2023-06-26T00:00:00.000000000",
          "2023-06-27T00:00:00.000000000",
          "2023-06-28T00:00:00.000000000",
          "2023-06-29T00:00:00.000000000",
          "2023-06-30T00:00:00.000000000",
          "2023-07-03T00:00:00.000000000",
          "2023-07-05T00:00:00.000000000",
          "2023-07-06T00:00:00.000000000",
          "2023-07-07T00:00:00.000000000",
          "2023-07-10T00:00:00.000000000",
          "2023-07-11T00:00:00.000000000",
          "2023-07-12T00:00:00.000000000",
          "2023-07-13T00:00:00.000000000",
          "2023-07-14T00:00:00.000000000",
          "2023-07-17T00:00:00.000000000",
          "2023-07-18T00:00:00.000000000",
          "2023-07-19T00:00:00.000000000",
          "2023-07-20T00:00:00.000000000",
          "2023-07-21T00:00:00.000000000",
          "2023-07-24T00:00:00.000000000",
          "2023-07-25T00:00:00.000000000",
          "2023-07-26T00:00:00.000000000",
          "2023-07-27T00:00:00.000000000",
          "2023-07-28T00:00:00.000000000",
          "2023-07-31T00:00:00.000000000",
          "2023-08-01T00:00:00.000000000",
          "2023-08-02T00:00:00.000000000",
          "2023-08-03T00:00:00.000000000",
          "2023-08-04T00:00:00.000000000",
          "2023-08-07T00:00:00.000000000",
          "2023-08-08T00:00:00.000000000",
          "2023-08-09T00:00:00.000000000",
          "2023-08-10T00:00:00.000000000",
          "2023-08-11T00:00:00.000000000",
          "2023-08-14T00:00:00.000000000",
          "2023-08-15T00:00:00.000000000",
          "2023-08-16T00:00:00.000000000",
          "2023-08-17T00:00:00.000000000",
          "2023-08-18T00:00:00.000000000",
          "2023-08-21T00:00:00.000000000",
          "2023-08-22T00:00:00.000000000",
          "2023-08-23T00:00:00.000000000",
          "2023-08-24T00:00:00.000000000",
          "2023-08-25T00:00:00.000000000",
          "2023-08-28T00:00:00.000000000",
          "2023-08-29T00:00:00.000000000",
          "2023-08-30T00:00:00.000000000",
          "2023-08-31T00:00:00.000000000",
          "2023-09-01T00:00:00.000000000",
          "2023-09-05T00:00:00.000000000",
          "2023-09-06T00:00:00.000000000",
          "2023-09-07T00:00:00.000000000",
          "2023-09-08T00:00:00.000000000",
          "2023-09-11T00:00:00.000000000",
          "2023-09-12T00:00:00.000000000",
          "2023-09-13T00:00:00.000000000",
          "2023-09-14T00:00:00.000000000",
          "2023-09-15T00:00:00.000000000",
          "2023-09-18T00:00:00.000000000",
          "2023-09-19T00:00:00.000000000",
          "2023-09-20T00:00:00.000000000",
          "2023-09-21T00:00:00.000000000",
          "2023-09-22T00:00:00.000000000",
          "2023-09-25T00:00:00.000000000",
          "2023-09-26T00:00:00.000000000",
          "2023-09-27T00:00:00.000000000",
          "2023-09-28T00:00:00.000000000",
          "2023-09-29T00:00:00.000000000",
          "2023-10-02T00:00:00.000000000",
          "2023-10-03T00:00:00.000000000",
          "2023-10-04T00:00:00.000000000",
          "2023-10-05T00:00:00.000000000",
          "2023-10-06T00:00:00.000000000",
          "2023-10-09T00:00:00.000000000",
          "2023-10-10T00:00:00.000000000",
          "2023-10-11T00:00:00.000000000",
          "2023-10-12T00:00:00.000000000",
          "2023-10-13T00:00:00.000000000",
          "2023-10-16T00:00:00.000000000",
          "2023-10-17T00:00:00.000000000",
          "2023-10-18T00:00:00.000000000",
          "2023-10-19T00:00:00.000000000",
          "2023-10-20T00:00:00.000000000",
          "2023-10-23T00:00:00.000000000",
          "2023-10-24T00:00:00.000000000",
          "2023-10-25T00:00:00.000000000",
          "2023-10-26T00:00:00.000000000",
          "2023-10-27T00:00:00.000000000",
          "2023-10-30T00:00:00.000000000",
          "2023-10-31T00:00:00.000000000",
          "2023-11-01T00:00:00.000000000",
          "2023-11-02T00:00:00.000000000",
          "2023-11-03T00:00:00.000000000",
          "2023-11-06T00:00:00.000000000",
          "2023-11-07T00:00:00.000000000",
          "2023-11-08T00:00:00.000000000",
          "2023-11-09T00:00:00.000000000",
          "2023-11-10T00:00:00.000000000",
          "2023-11-13T00:00:00.000000000",
          "2023-11-14T00:00:00.000000000",
          "2023-11-15T00:00:00.000000000",
          "2023-11-16T00:00:00.000000000",
          "2023-11-17T00:00:00.000000000",
          "2023-11-20T00:00:00.000000000",
          "2023-11-21T00:00:00.000000000",
          "2023-11-22T00:00:00.000000000",
          "2023-11-24T00:00:00.000000000",
          "2023-11-27T00:00:00.000000000",
          "2023-11-28T00:00:00.000000000",
          "2023-11-29T00:00:00.000000000",
          "2023-11-30T00:00:00.000000000",
          "2023-12-01T00:00:00.000000000",
          "2023-12-04T00:00:00.000000000",
          "2023-12-05T00:00:00.000000000",
          "2023-12-06T00:00:00.000000000",
          "2023-12-07T00:00:00.000000000",
          "2023-12-08T00:00:00.000000000",
          "2023-12-11T00:00:00.000000000",
          "2023-12-12T00:00:00.000000000",
          "2023-12-13T00:00:00.000000000",
          "2023-12-14T00:00:00.000000000",
          "2023-12-15T00:00:00.000000000",
          "2023-12-18T00:00:00.000000000",
          "2023-12-19T00:00:00.000000000",
          "2023-12-20T00:00:00.000000000",
          "2023-12-21T00:00:00.000000000",
          "2023-12-22T00:00:00.000000000",
          "2023-12-26T00:00:00.000000000",
          "2023-12-27T00:00:00.000000000",
          "2023-12-28T00:00:00.000000000",
          "2023-12-29T00:00:00.000000000",
          "2024-01-02T00:00:00.000000000",
          "2024-01-03T00:00:00.000000000",
          "2024-01-04T00:00:00.000000000",
          "2024-01-05T00:00:00.000000000",
          "2024-01-08T00:00:00.000000000",
          "2024-01-09T00:00:00.000000000",
          "2024-01-10T00:00:00.000000000",
          "2024-01-11T00:00:00.000000000",
          "2024-01-12T00:00:00.000000000",
          "2024-01-16T00:00:00.000000000",
          "2024-01-17T00:00:00.000000000",
          "2024-01-18T00:00:00.000000000",
          "2024-01-19T00:00:00.000000000",
          "2024-01-22T00:00:00.000000000",
          "2024-01-23T00:00:00.000000000",
          "2024-01-24T00:00:00.000000000",
          "2024-01-25T00:00:00.000000000",
          "2024-01-26T00:00:00.000000000",
          "2024-01-29T00:00:00.000000000",
          "2024-01-30T00:00:00.000000000",
          "2024-01-31T00:00:00.000000000",
          "2024-02-01T00:00:00.000000000",
          "2024-02-02T00:00:00.000000000",
          "2024-02-05T00:00:00.000000000",
          "2024-02-06T00:00:00.000000000",
          "2024-02-07T00:00:00.000000000",
          "2024-02-08T00:00:00.000000000",
          "2024-02-09T00:00:00.000000000",
          "2024-02-12T00:00:00.000000000",
          "2024-02-13T00:00:00.000000000",
          "2024-02-14T00:00:00.000000000",
          "2024-02-15T00:00:00.000000000",
          "2024-02-16T00:00:00.000000000",
          "2024-02-20T00:00:00.000000000",
          "2024-02-21T00:00:00.000000000",
          "2024-02-22T00:00:00.000000000",
          "2024-02-23T00:00:00.000000000",
          "2024-02-26T00:00:00.000000000",
          "2024-02-27T00:00:00.000000000",
          "2024-02-28T00:00:00.000000000",
          "2024-02-29T00:00:00.000000000",
          "2024-03-01T00:00:00.000000000",
          "2024-03-04T00:00:00.000000000",
          "2024-03-05T00:00:00.000000000",
          "2024-03-06T00:00:00.000000000",
          "2024-03-07T00:00:00.000000000",
          "2024-03-08T00:00:00.000000000",
          "2024-03-11T00:00:00.000000000",
          "2024-03-12T00:00:00.000000000",
          "2024-03-13T00:00:00.000000000",
          "2024-03-14T00:00:00.000000000",
          "2024-03-15T00:00:00.000000000",
          "2024-03-18T00:00:00.000000000",
          "2024-03-19T00:00:00.000000000",
          "2024-03-20T00:00:00.000000000",
          "2024-03-21T00:00:00.000000000",
          "2024-03-22T00:00:00.000000000",
          "2024-03-25T00:00:00.000000000",
          "2024-03-26T00:00:00.000000000",
          "2024-03-27T00:00:00.000000000",
          "2024-03-28T00:00:00.000000000",
          "2024-04-01T00:00:00.000000000",
          "2024-04-02T00:00:00.000000000",
          "2024-04-03T00:00:00.000000000",
          "2024-04-04T00:00:00.000000000",
          "2024-04-05T00:00:00.000000000",
          "2024-04-08T00:00:00.000000000",
          "2024-04-09T00:00:00.000000000",
          "2024-04-10T00:00:00.000000000",
          "2024-04-11T00:00:00.000000000",
          "2024-04-12T00:00:00.000000000",
          "2024-04-15T00:00:00.000000000",
          "2024-04-16T00:00:00.000000000",
          "2024-04-17T00:00:00.000000000",
          "2024-04-18T00:00:00.000000000",
          "2024-04-19T00:00:00.000000000",
          "2024-04-22T00:00:00.000000000",
          "2024-04-23T00:00:00.000000000",
          "2024-04-24T00:00:00.000000000",
          "2024-04-25T00:00:00.000000000",
          "2024-04-26T00:00:00.000000000",
          "2024-04-29T00:00:00.000000000",
          "2024-04-30T00:00:00.000000000",
          "2024-05-01T00:00:00.000000000",
          "2024-05-02T00:00:00.000000000",
          "2024-05-03T00:00:00.000000000",
          "2024-05-06T00:00:00.000000000",
          "2024-05-07T00:00:00.000000000",
          "2024-05-08T00:00:00.000000000",
          "2024-05-09T00:00:00.000000000",
          "2024-05-10T00:00:00.000000000",
          "2024-05-13T00:00:00.000000000",
          "2024-05-14T00:00:00.000000000",
          "2024-05-15T00:00:00.000000000",
          "2024-05-16T00:00:00.000000000",
          "2024-05-17T00:00:00.000000000",
          "2024-05-20T00:00:00.000000000",
          "2024-05-21T00:00:00.000000000",
          "2024-05-22T00:00:00.000000000",
          "2024-05-23T00:00:00.000000000",
          "2024-05-24T00:00:00.000000000",
          "2024-05-28T00:00:00.000000000",
          "2024-05-29T00:00:00.000000000",
          "2024-05-30T00:00:00.000000000",
          "2024-05-31T00:00:00.000000000",
          "2024-06-03T00:00:00.000000000",
          "2024-06-04T00:00:00.000000000",
          "2024-06-05T00:00:00.000000000",
          "2024-06-06T00:00:00.000000000",
          "2024-06-07T00:00:00.000000000",
          "2024-06-10T00:00:00.000000000",
          "2024-06-11T00:00:00.000000000",
          "2024-06-12T00:00:00.000000000",
          "2024-06-13T00:00:00.000000000",
          "2024-06-14T00:00:00.000000000",
          "2024-06-17T00:00:00.000000000",
          "2024-06-18T00:00:00.000000000",
          "2024-06-20T00:00:00.000000000",
          "2024-06-21T00:00:00.000000000",
          "2024-06-24T00:00:00.000000000",
          "2024-06-25T00:00:00.000000000",
          "2024-06-26T00:00:00.000000000",
          "2024-06-27T00:00:00.000000000",
          "2024-06-28T00:00:00.000000000",
          "2024-07-01T00:00:00.000000000",
          "2024-07-02T00:00:00.000000000",
          "2024-07-03T00:00:00.000000000",
          "2024-07-05T00:00:00.000000000",
          "2024-07-08T00:00:00.000000000",
          "2024-07-09T00:00:00.000000000",
          "2024-07-10T00:00:00.000000000",
          "2024-07-11T00:00:00.000000000",
          "2024-07-12T00:00:00.000000000",
          "2024-07-15T00:00:00.000000000",
          "2024-07-16T00:00:00.000000000",
          "2024-07-17T00:00:00.000000000",
          "2024-07-18T00:00:00.000000000",
          "2024-07-19T00:00:00.000000000",
          "2024-07-22T00:00:00.000000000",
          "2024-07-23T00:00:00.000000000",
          "2024-07-24T00:00:00.000000000",
          "2024-07-25T00:00:00.000000000",
          "2024-07-26T00:00:00.000000000",
          "2024-07-29T00:00:00.000000000",
          "2024-07-30T00:00:00.000000000",
          "2024-07-31T00:00:00.000000000",
          "2024-08-01T00:00:00.000000000",
          "2024-08-02T00:00:00.000000000",
          "2024-08-05T00:00:00.000000000",
          "2024-08-06T00:00:00.000000000",
          "2024-08-07T00:00:00.000000000",
          "2024-08-08T00:00:00.000000000",
          "2024-08-09T00:00:00.000000000",
          "2024-08-12T00:00:00.000000000",
          "2024-08-13T00:00:00.000000000",
          "2024-08-14T00:00:00.000000000",
          "2024-08-15T00:00:00.000000000",
          "2024-08-16T00:00:00.000000000",
          "2024-08-19T00:00:00.000000000",
          "2024-08-20T00:00:00.000000000",
          "2024-08-21T00:00:00.000000000",
          "2024-08-22T00:00:00.000000000",
          "2024-08-23T00:00:00.000000000",
          "2024-08-26T00:00:00.000000000",
          "2024-08-27T00:00:00.000000000",
          "2024-08-28T00:00:00.000000000",
          "2024-08-29T00:00:00.000000000",
          "2024-08-30T00:00:00.000000000",
          "2024-09-03T00:00:00.000000000",
          "2024-09-04T00:00:00.000000000",
          "2024-09-05T00:00:00.000000000",
          "2024-09-06T00:00:00.000000000",
          "2024-09-09T00:00:00.000000000",
          "2024-09-10T00:00:00.000000000",
          "2024-09-11T00:00:00.000000000",
          "2024-09-12T00:00:00.000000000",
          "2024-09-13T00:00:00.000000000",
          "2024-09-16T00:00:00.000000000",
          "2024-09-17T00:00:00.000000000",
          "2024-09-18T00:00:00.000000000",
          "2024-09-19T00:00:00.000000000",
          "2024-09-20T00:00:00.000000000",
          "2024-09-23T00:00:00.000000000",
          "2024-09-24T00:00:00.000000000",
          "2024-09-25T00:00:00.000000000",
          "2024-09-26T00:00:00.000000000",
          "2024-09-27T00:00:00.000000000",
          "2024-09-30T00:00:00.000000000",
          "2024-10-01T00:00:00.000000000",
          "2024-10-02T00:00:00.000000000",
          "2024-10-03T00:00:00.000000000",
          "2024-10-04T00:00:00.000000000",
          "2024-10-07T00:00:00.000000000",
          "2024-10-08T00:00:00.000000000",
          "2024-10-09T00:00:00.000000000",
          "2024-10-10T00:00:00.000000000",
          "2024-10-11T00:00:00.000000000",
          "2024-10-14T00:00:00.000000000",
          "2024-10-15T00:00:00.000000000",
          "2024-10-16T00:00:00.000000000",
          "2024-10-17T00:00:00.000000000",
          "2024-10-18T00:00:00.000000000",
          "2024-10-21T00:00:00.000000000",
          "2024-10-22T00:00:00.000000000",
          "2024-10-23T00:00:00.000000000",
          "2024-10-24T00:00:00.000000000",
          "2024-10-25T00:00:00.000000000",
          "2024-10-28T00:00:00.000000000",
          "2024-10-29T00:00:00.000000000",
          "2024-10-30T00:00:00.000000000",
          "2024-10-31T00:00:00.000000000",
          "2024-11-01T00:00:00.000000000",
          "2024-11-04T00:00:00.000000000",
          "2024-11-05T00:00:00.000000000",
          "2024-11-06T00:00:00.000000000",
          "2024-11-07T00:00:00.000000000",
          "2024-11-08T00:00:00.000000000",
          "2024-11-11T00:00:00.000000000",
          "2024-11-12T00:00:00.000000000",
          "2024-11-13T00:00:00.000000000",
          "2024-11-14T00:00:00.000000000",
          "2024-11-15T00:00:00.000000000",
          "2024-11-18T00:00:00.000000000",
          "2024-11-19T00:00:00.000000000",
          "2024-11-20T00:00:00.000000000",
          "2024-11-21T00:00:00.000000000",
          "2024-11-22T00:00:00.000000000",
          "2024-11-25T00:00:00.000000000",
          "2024-11-26T00:00:00.000000000",
          "2024-11-27T00:00:00.000000000",
          "2024-11-29T00:00:00.000000000",
          "2024-12-02T00:00:00.000000000",
          "2024-12-03T00:00:00.000000000",
          "2024-12-04T00:00:00.000000000",
          "2024-12-05T00:00:00.000000000",
          "2024-12-06T00:00:00.000000000",
          "2024-12-09T00:00:00.000000000",
          "2024-12-10T00:00:00.000000000",
          "2024-12-11T00:00:00.000000000",
          "2024-12-12T00:00:00.000000000",
          "2024-12-13T00:00:00.000000000",
          "2024-12-16T00:00:00.000000000",
          "2024-12-17T00:00:00.000000000",
          "2024-12-18T00:00:00.000000000",
          "2024-12-19T00:00:00.000000000",
          "2024-12-20T00:00:00.000000000",
          "2024-12-23T00:00:00.000000000",
          "2024-12-24T00:00:00.000000000",
          "2024-12-26T00:00:00.000000000",
          "2024-12-27T00:00:00.000000000",
          "2024-12-30T00:00:00.000000000",
          "2024-12-31T00:00:00.000000000",
          "2025-01-02T00:00:00.000000000",
          "2025-01-03T00:00:00.000000000",
          "2025-01-06T00:00:00.000000000",
          "2025-01-07T00:00:00.000000000",
          "2025-01-08T00:00:00.000000000",
          "2025-01-10T00:00:00.000000000",
          "2025-01-13T00:00:00.000000000",
          "2025-01-14T00:00:00.000000000",
          "2025-01-15T00:00:00.000000000",
          "2025-01-16T00:00:00.000000000",
          "2025-01-17T00:00:00.000000000",
          "2025-01-21T00:00:00.000000000",
          "2025-01-22T00:00:00.000000000",
          "2025-01-23T00:00:00.000000000",
          "2025-01-24T00:00:00.000000000",
          "2025-01-27T00:00:00.000000000",
          "2025-01-28T00:00:00.000000000",
          "2025-01-29T00:00:00.000000000",
          "2025-01-30T00:00:00.000000000",
          "2025-01-31T00:00:00.000000000",
          "2025-02-03T00:00:00.000000000",
          "2025-02-04T00:00:00.000000000",
          "2025-02-05T00:00:00.000000000",
          "2025-02-06T00:00:00.000000000",
          "2025-02-07T00:00:00.000000000",
          "2025-02-10T00:00:00.000000000",
          "2025-02-11T00:00:00.000000000",
          "2025-02-12T00:00:00.000000000",
          "2025-02-13T00:00:00.000000000",
          "2025-02-14T00:00:00.000000000",
          "2025-02-18T00:00:00.000000000",
          "2025-02-19T00:00:00.000000000",
          "2025-02-20T00:00:00.000000000",
          "2025-02-21T00:00:00.000000000",
          "2025-02-24T00:00:00.000000000",
          "2025-02-25T00:00:00.000000000",
          "2025-02-26T00:00:00.000000000",
          "2025-02-27T00:00:00.000000000",
          "2025-02-28T00:00:00.000000000",
          "2025-03-03T00:00:00.000000000",
          "2025-03-04T00:00:00.000000000",
          "2025-03-05T00:00:00.000000000",
          "2025-03-06T00:00:00.000000000",
          "2025-03-07T00:00:00.000000000",
          "2025-03-10T00:00:00.000000000",
          "2025-03-11T00:00:00.000000000",
          "2025-03-12T00:00:00.000000000",
          "2025-03-13T00:00:00.000000000",
          "2025-03-14T00:00:00.000000000",
          "2025-03-17T00:00:00.000000000",
          "2025-03-18T00:00:00.000000000",
          "2025-03-19T00:00:00.000000000",
          "2025-03-20T00:00:00.000000000",
          "2025-03-21T00:00:00.000000000",
          "2025-03-24T00:00:00.000000000",
          "2025-03-25T00:00:00.000000000",
          "2025-03-26T00:00:00.000000000",
          "2025-03-27T00:00:00.000000000",
          "2025-03-28T00:00:00.000000000",
          "2025-03-31T00:00:00.000000000",
          "2025-04-01T00:00:00.000000000",
          "2025-04-02T00:00:00.000000000",
          "2025-04-03T00:00:00.000000000",
          "2025-04-04T00:00:00.000000000",
          "2025-04-07T00:00:00.000000000",
          "2025-04-08T00:00:00.000000000",
          "2025-04-09T00:00:00.000000000",
          "2025-04-10T00:00:00.000000000",
          "2025-04-11T00:00:00.000000000",
          "2025-04-14T00:00:00.000000000",
          "2025-04-15T00:00:00.000000000",
          "2025-04-16T00:00:00.000000000",
          "2025-04-17T00:00:00.000000000",
          "2025-04-21T00:00:00.000000000",
          "2025-04-22T00:00:00.000000000",
          "2025-04-23T00:00:00.000000000",
          "2025-04-24T00:00:00.000000000",
          "2025-04-25T00:00:00.000000000",
          "2025-04-28T00:00:00.000000000",
          "2025-04-29T00:00:00.000000000",
          "2025-04-30T00:00:00.000000000",
          "2025-05-01T00:00:00.000000000",
          "2025-05-02T00:00:00.000000000",
          "2025-05-05T00:00:00.000000000",
          "2025-05-06T00:00:00.000000000",
          "2025-05-07T00:00:00.000000000",
          "2025-05-08T00:00:00.000000000",
          "2025-05-09T00:00:00.000000000",
          "2025-05-12T00:00:00.000000000",
          "2025-05-13T00:00:00.000000000",
          "2025-05-14T00:00:00.000000000",
          "2025-05-15T00:00:00.000000000",
          "2025-05-16T00:00:00.000000000",
          "2025-05-19T00:00:00.000000000",
          "2025-05-20T00:00:00.000000000",
          "2025-05-21T00:00:00.000000000",
          "2025-05-22T00:00:00.000000000",
          "2025-05-23T00:00:00.000000000",
          "2025-05-27T00:00:00.000000000",
          "2025-05-28T00:00:00.000000000",
          "2025-05-29T00:00:00.000000000",
          "2025-05-30T00:00:00.000000000",
          "2025-06-02T00:00:00.000000000",
          "2025-06-03T00:00:00.000000000",
          "2025-06-04T00:00:00.000000000",
          "2025-06-05T00:00:00.000000000",
          "2025-06-06T00:00:00.000000000",
          "2025-06-09T00:00:00.000000000",
          "2025-06-10T00:00:00.000000000",
          "2025-06-11T00:00:00.000000000",
          "2025-06-12T00:00:00.000000000",
          "2025-06-13T00:00:00.000000000",
          "2025-06-16T00:00:00.000000000",
          "2025-06-17T00:00:00.000000000",
          "2025-06-18T00:00:00.000000000",
          "2025-06-20T00:00:00.000000000",
          "2025-06-23T00:00:00.000000000",
          "2025-06-24T00:00:00.000000000",
          "2025-06-25T00:00:00.000000000",
          "2025-06-26T00:00:00.000000000",
          "2025-06-27T00:00:00.000000000",
          "2025-06-30T00:00:00.000000000",
          "2025-07-01T00:00:00.000000000",
          "2025-07-02T00:00:00.000000000",
          "2025-07-03T00:00:00.000000000",
          "2025-07-07T00:00:00.000000000",
          "2025-07-08T00:00:00.000000000",
          "2025-07-09T00:00:00.000000000",
          "2025-07-10T00:00:00.000000000",
          "2025-07-11T00:00:00.000000000",
          "2025-07-14T00:00:00.000000000",
          "2025-07-15T00:00:00.000000000",
          "2025-07-16T00:00:00.000000000",
          "2025-07-17T00:00:00.000000000",
          "2025-07-18T00:00:00.000000000",
          "2025-07-21T00:00:00.000000000",
          "2025-07-22T00:00:00.000000000",
          "2025-07-23T00:00:00.000000000",
          "2025-07-24T00:00:00.000000000",
          "2025-07-25T00:00:00.000000000",
          "2025-07-28T00:00:00.000000000",
          "2025-07-29T00:00:00.000000000",
          "2025-07-30T00:00:00.000000000",
          "2025-07-31T00:00:00.000000000",
          "2025-08-01T00:00:00.000000000",
          "2025-08-04T00:00:00.000000000",
          "2025-08-05T00:00:00.000000000",
          "2025-08-06T00:00:00.000000000",
          "2025-08-07T00:00:00.000000000",
          "2025-08-08T00:00:00.000000000",
          "2025-08-11T00:00:00.000000000",
          "2025-08-12T00:00:00.000000000",
          "2025-08-13T00:00:00.000000000",
          "2025-08-14T00:00:00.000000000",
          "2025-08-15T00:00:00.000000000",
          "2025-08-18T00:00:00.000000000",
          "2025-08-19T00:00:00.000000000",
          "2025-08-20T00:00:00.000000000",
          "2025-08-21T00:00:00.000000000",
          "2025-08-22T00:00:00.000000000",
          "2025-08-25T00:00:00.000000000",
          "2025-08-26T00:00:00.000000000",
          "2025-08-27T00:00:00.000000000",
          "2025-08-28T00:00:00.000000000",
          "2025-08-29T00:00:00.000000000",
          "2025-09-02T00:00:00.000000000",
          "2025-09-03T00:00:00.000000000",
          "2025-09-04T00:00:00.000000000",
          "2025-09-05T00:00:00.000000000",
          "2025-09-08T00:00:00.000000000",
          "2025-09-09T00:00:00.000000000",
          "2025-09-10T00:00:00.000000000",
          "2025-09-11T00:00:00.000000000",
          "2025-09-12T00:00:00.000000000",
          "2025-09-15T00:00:00.000000000",
          "2025-09-16T00:00:00.000000000",
          "2025-09-17T00:00:00.000000000",
          "2025-09-18T00:00:00.000000000",
          "2025-09-19T00:00:00.000000000",
          "2025-09-22T00:00:00.000000000",
          "2025-09-23T00:00:00.000000000",
          "2025-09-24T00:00:00.000000000",
          "2025-09-25T00:00:00.000000000",
          "2025-09-26T00:00:00.000000000",
          "2025-09-29T00:00:00.000000000"
         ],
         "xaxis": "x",
         "y": {
          "bdata": "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",
          "dtype": "f8"
         },
         "yaxis": "y"
        },
        {
         "line": {
          "color": "gray",
          "dash": "dash"
         },
         "name": "Upper Band",
         "type": "scatter",
         "x": [
          "2022-12-08T00:00:00.000000000",
          "2022-12-09T00:00:00.000000000",
          "2022-12-12T00:00:00.000000000",
          "2022-12-13T00:00:00.000000000",
          "2022-12-14T00:00:00.000000000",
          "2022-12-15T00:00:00.000000000",
          "2022-12-16T00:00:00.000000000",
          "2022-12-19T00:00:00.000000000",
          "2022-12-20T00:00:00.000000000",
          "2022-12-21T00:00:00.000000000",
          "2022-12-22T00:00:00.000000000",
          "2022-12-23T00:00:00.000000000",
          "2022-12-27T00:00:00.000000000",
          "2022-12-28T00:00:00.000000000",
          "2022-12-29T00:00:00.000000000",
          "2022-12-30T00:00:00.000000000",
          "2023-01-03T00:00:00.000000000",
          "2023-01-04T00:00:00.000000000",
          "2023-01-05T00:00:00.000000000",
          "2023-01-06T00:00:00.000000000",
          "2023-01-09T00:00:00.000000000",
          "2023-01-10T00:00:00.000000000",
          "2023-01-11T00:00:00.000000000",
          "2023-01-12T00:00:00.000000000",
          "2023-01-13T00:00:00.000000000",
          "2023-01-17T00:00:00.000000000",
          "2023-01-18T00:00:00.000000000",
          "2023-01-19T00:00:00.000000000",
          "2023-01-20T00:00:00.000000000",
          "2023-01-23T00:00:00.000000000",
          "2023-01-24T00:00:00.000000000",
          "2023-01-25T00:00:00.000000000",
          "2023-01-26T00:00:00.000000000",
          "2023-01-27T00:00:00.000000000",
          "2023-01-30T00:00:00.000000000",
          "2023-01-31T00:00:00.000000000",
          "2023-02-01T00:00:00.000000000",
          "2023-02-02T00:00:00.000000000",
          "2023-02-03T00:00:00.000000000",
          "2023-02-06T00:00:00.000000000",
          "2023-02-07T00:00:00.000000000",
          "2023-02-08T00:00:00.000000000",
          "2023-02-09T00:00:00.000000000",
          "2023-02-10T00:00:00.000000000",
          "2023-02-13T00:00:00.000000000",
          "2023-02-14T00:00:00.000000000",
          "2023-02-15T00:00:00.000000000",
          "2023-02-16T00:00:00.000000000",
          "2023-02-17T00:00:00.000000000",
          "2023-02-21T00:00:00.000000000",
          "2023-02-22T00:00:00.000000000",
          "2023-02-23T00:00:00.000000000",
          "2023-02-24T00:00:00.000000000",
          "2023-02-27T00:00:00.000000000",
          "2023-02-28T00:00:00.000000000",
          "2023-03-01T00:00:00.000000000",
          "2023-03-02T00:00:00.000000000",
          "2023-03-03T00:00:00.000000000",
          "2023-03-06T00:00:00.000000000",
          "2023-03-07T00:00:00.000000000",
          "2023-03-08T00:00:00.000000000",
          "2023-03-09T00:00:00.000000000",
          "2023-03-10T00:00:00.000000000",
          "2023-03-13T00:00:00.000000000",
          "2023-03-14T00:00:00.000000000",
          "2023-03-15T00:00:00.000000000",
          "2023-03-16T00:00:00.000000000",
          "2023-03-17T00:00:00.000000000",
          "2023-03-20T00:00:00.000000000",
          "2023-03-21T00:00:00.000000000",
          "2023-03-22T00:00:00.000000000",
          "2023-03-23T00:00:00.000000000",
          "2023-03-24T00:00:00.000000000",
          "2023-03-27T00:00:00.000000000",
          "2023-03-28T00:00:00.000000000",
          "2023-03-29T00:00:00.000000000",
          "2023-03-30T00:00:00.000000000",
          "2023-03-31T00:00:00.000000000",
          "2023-04-03T00:00:00.000000000",
          "2023-04-04T00:00:00.000000000",
          "2023-04-05T00:00:00.000000000",
          "2023-04-06T00:00:00.000000000",
          "2023-04-10T00:00:00.000000000",
          "2023-04-11T00:00:00.000000000",
          "2023-04-12T00:00:00.000000000",
          "2023-04-13T00:00:00.000000000",
          "2023-04-14T00:00:00.000000000",
          "2023-04-17T00:00:00.000000000",
          "2023-04-18T00:00:00.000000000",
          "2023-04-19T00:00:00.000000000",
          "2023-04-20T00:00:00.000000000",
          "2023-04-21T00:00:00.000000000",
          "2023-04-24T00:00:00.000000000",
          "2023-04-25T00:00:00.000000000",
          "2023-04-26T00:00:00.000000000",
          "2023-04-27T00:00:00.000000000",
          "2023-04-28T00:00:00.000000000",
          "2023-05-01T00:00:00.000000000",
          "2023-05-02T00:00:00.000000000",
          "2023-05-03T00:00:00.000000000",
          "2023-05-04T00:00:00.000000000",
          "2023-05-05T00:00:00.000000000",
          "2023-05-08T00:00:00.000000000",
          "2023-05-09T00:00:00.000000000",
          "2023-05-10T00:00:00.000000000",
          "2023-05-11T00:00:00.000000000",
          "2023-05-12T00:00:00.000000000",
          "2023-05-15T00:00:00.000000000",
          "2023-05-16T00:00:00.000000000",
          "2023-05-17T00:00:00.000000000",
          "2023-05-18T00:00:00.000000000",
          "2023-05-19T00:00:00.000000000",
          "2023-05-22T00:00:00.000000000",
          "2023-05-23T00:00:00.000000000",
          "2023-05-24T00:00:00.000000000",
          "2023-05-25T00:00:00.000000000",
          "2023-05-26T00:00:00.000000000",
          "2023-05-30T00:00:00.000000000",
          "2023-05-31T00:00:00.000000000",
          "2023-06-01T00:00:00.000000000",
          "2023-06-02T00:00:00.000000000",
          "2023-06-05T00:00:00.000000000",
          "2023-06-06T00:00:00.000000000",
          "2023-06-07T00:00:00.000000000",
          "2023-06-08T00:00:00.000000000",
          "2023-06-09T00:00:00.000000000",
          "2023-06-12T00:00:00.000000000",
          "2023-06-13T00:00:00.000000000",
          "2023-06-14T00:00:00.000000000",
          "2023-06-15T00:00:00.000000000",
          "2023-06-16T00:00:00.000000000",
          "2023-06-20T00:00:00.000000000",
          "2023-06-21T00:00:00.000000000",
          "2023-06-22T00:00:00.000000000",
          "2023-06-23T00:00:00.000000000",
          "2023-06-26T00:00:00.000000000",
          "2023-06-27T00:00:00.000000000",
          "2023-06-28T00:00:00.000000000",
          "2023-06-29T00:00:00.000000000",
          "2023-06-30T00:00:00.000000000",
          "2023-07-03T00:00:00.000000000",
          "2023-07-05T00:00:00.000000000",
          "2023-07-06T00:00:00.000000000",
          "2023-07-07T00:00:00.000000000",
          "2023-07-10T00:00:00.000000000",
          "2023-07-11T00:00:00.000000000",
          "2023-07-12T00:00:00.000000000",
          "2023-07-13T00:00:00.000000000",
          "2023-07-14T00:00:00.000000000",
          "2023-07-17T00:00:00.000000000",
          "2023-07-18T00:00:00.000000000",
          "2023-07-19T00:00:00.000000000",
          "2023-07-20T00:00:00.000000000",
          "2023-07-21T00:00:00.000000000",
          "2023-07-24T00:00:00.000000000",
          "2023-07-25T00:00:00.000000000",
          "2023-07-26T00:00:00.000000000",
          "2023-07-27T00:00:00.000000000",
          "2023-07-28T00:00:00.000000000",
          "2023-07-31T00:00:00.000000000",
          "2023-08-01T00:00:00.000000000",
          "2023-08-02T00:00:00.000000000",
          "2023-08-03T00:00:00.000000000",
          "2023-08-04T00:00:00.000000000",
          "2023-08-07T00:00:00.000000000",
          "2023-08-08T00:00:00.000000000",
          "2023-08-09T00:00:00.000000000",
          "2023-08-10T00:00:00.000000000",
          "2023-08-11T00:00:00.000000000",
          "2023-08-14T00:00:00.000000000",
          "2023-08-15T00:00:00.000000000",
          "2023-08-16T00:00:00.000000000",
          "2023-08-17T00:00:00.000000000",
          "2023-08-18T00:00:00.000000000",
          "2023-08-21T00:00:00.000000000",
          "2023-08-22T00:00:00.000000000",
          "2023-08-23T00:00:00.000000000",
          "2023-08-24T00:00:00.000000000",
          "2023-08-25T00:00:00.000000000",
          "2023-08-28T00:00:00.000000000",
          "2023-08-29T00:00:00.000000000",
          "2023-08-30T00:00:00.000000000",
          "2023-08-31T00:00:00.000000000",
          "2023-09-01T00:00:00.000000000",
          "2023-09-05T00:00:00.000000000",
          "2023-09-06T00:00:00.000000000",
          "2023-09-07T00:00:00.000000000",
          "2023-09-08T00:00:00.000000000",
          "2023-09-11T00:00:00.000000000",
          "2023-09-12T00:00:00.000000000",
          "2023-09-13T00:00:00.000000000",
          "2023-09-14T00:00:00.000000000",
          "2023-09-15T00:00:00.000000000",
          "2023-09-18T00:00:00.000000000",
          "2023-09-19T00:00:00.000000000",
          "2023-09-20T00:00:00.000000000",
          "2023-09-21T00:00:00.000000000",
          "2023-09-22T00:00:00.000000000",
          "2023-09-25T00:00:00.000000000",
          "2023-09-26T00:00:00.000000000",
          "2023-09-27T00:00:00.000000000",
          "2023-09-28T00:00:00.000000000",
          "2023-09-29T00:00:00.000000000",
          "2023-10-02T00:00:00.000000000",
          "2023-10-03T00:00:00.000000000",
          "2023-10-04T00:00:00.000000000",
          "2023-10-05T00:00:00.000000000",
          "2023-10-06T00:00:00.000000000",
          "2023-10-09T00:00:00.000000000",
          "2023-10-10T00:00:00.000000000",
          "2023-10-11T00:00:00.000000000",
          "2023-10-12T00:00:00.000000000",
          "2023-10-13T00:00:00.000000000",
          "2023-10-16T00:00:00.000000000",
          "2023-10-17T00:00:00.000000000",
          "2023-10-18T00:00:00.000000000",
          "2023-10-19T00:00:00.000000000",
          "2023-10-20T00:00:00.000000000",
          "2023-10-23T00:00:00.000000000",
          "2023-10-24T00:00:00.000000000",
          "2023-10-25T00:00:00.000000000",
          "2023-10-26T00:00:00.000000000",
          "2023-10-27T00:00:00.000000000",
          "2023-10-30T00:00:00.000000000",
          "2023-10-31T00:00:00.000000000",
          "2023-11-01T00:00:00.000000000",
          "2023-11-02T00:00:00.000000000",
          "2023-11-03T00:00:00.000000000",
          "2023-11-06T00:00:00.000000000",
          "2023-11-07T00:00:00.000000000",
          "2023-11-08T00:00:00.000000000",
          "2023-11-09T00:00:00.000000000",
          "2023-11-10T00:00:00.000000000",
          "2023-11-13T00:00:00.000000000",
          "2023-11-14T00:00:00.000000000",
          "2023-11-15T00:00:00.000000000",
          "2023-11-16T00:00:00.000000000",
          "2023-11-17T00:00:00.000000000",
          "2023-11-20T00:00:00.000000000",
          "2023-11-21T00:00:00.000000000",
          "2023-11-22T00:00:00.000000000",
          "2023-11-24T00:00:00.000000000",
          "2023-11-27T00:00:00.000000000",
          "2023-11-28T00:00:00.000000000",
          "2023-11-29T00:00:00.000000000",
          "2023-11-30T00:00:00.000000000",
          "2023-12-01T00:00:00.000000000",
          "2023-12-04T00:00:00.000000000",
          "2023-12-05T00:00:00.000000000",
          "2023-12-06T00:00:00.000000000",
          "2023-12-07T00:00:00.000000000",
          "2023-12-08T00:00:00.000000000",
          "2023-12-11T00:00:00.000000000",
          "2023-12-12T00:00:00.000000000",
          "2023-12-13T00:00:00.000000000",
          "2023-12-14T00:00:00.000000000",
          "2023-12-15T00:00:00.000000000",
          "2023-12-18T00:00:00.000000000",
          "2023-12-19T00:00:00.000000000",
          "2023-12-20T00:00:00.000000000",
          "2023-12-21T00:00:00.000000000",
          "2023-12-22T00:00:00.000000000",
          "2023-12-26T00:00:00.000000000",
          "2023-12-27T00:00:00.000000000",
          "2023-12-28T00:00:00.000000000",
          "2023-12-29T00:00:00.000000000",
          "2024-01-02T00:00:00.000000000",
          "2024-01-03T00:00:00.000000000",
          "2024-01-04T00:00:00.000000000",
          "2024-01-05T00:00:00.000000000",
          "2024-01-08T00:00:00.000000000",
          "2024-01-09T00:00:00.000000000",
          "2024-01-10T00:00:00.000000000",
          "2024-01-11T00:00:00.000000000",
          "2024-01-12T00:00:00.000000000",
          "2024-01-16T00:00:00.000000000",
          "2024-01-17T00:00:00.000000000",
          "2024-01-18T00:00:00.000000000",
          "2024-01-19T00:00:00.000000000",
          "2024-01-22T00:00:00.000000000",
          "2024-01-23T00:00:00.000000000",
          "2024-01-24T00:00:00.000000000",
          "2024-01-25T00:00:00.000000000",
          "2024-01-26T00:00:00.000000000",
          "2024-01-29T00:00:00.000000000",
          "2024-01-30T00:00:00.000000000",
          "2024-01-31T00:00:00.000000000",
          "2024-02-01T00:00:00.000000000",
          "2024-02-02T00:00:00.000000000",
          "2024-02-05T00:00:00.000000000",
          "2024-02-06T00:00:00.000000000",
          "2024-02-07T00:00:00.000000000",
          "2024-02-08T00:00:00.000000000",
          "2024-02-09T00:00:00.000000000",
          "2024-02-12T00:00:00.000000000",
          "2024-02-13T00:00:00.000000000",
          "2024-02-14T00:00:00.000000000",
          "2024-02-15T00:00:00.000000000",
          "2024-02-16T00:00:00.000000000",
          "2024-02-20T00:00:00.000000000",
          "2024-02-21T00:00:00.000000000",
          "2024-02-22T00:00:00.000000000",
          "2024-02-23T00:00:00.000000000",
          "2024-02-26T00:00:00.000000000",
          "2024-02-27T00:00:00.000000000",
          "2024-02-28T00:00:00.000000000",
          "2024-02-29T00:00:00.000000000",
          "2024-03-01T00:00:00.000000000",
          "2024-03-04T00:00:00.000000000",
          "2024-03-05T00:00:00.000000000",
          "2024-03-06T00:00:00.000000000",
          "2024-03-07T00:00:00.000000000",
          "2024-03-08T00:00:00.000000000",
          "2024-03-11T00:00:00.000000000",
          "2024-03-12T00:00:00.000000000",
          "2024-03-13T00:00:00.000000000",
          "2024-03-14T00:00:00.000000000",
          "2024-03-15T00:00:00.000000000",
          "2024-03-18T00:00:00.000000000",
          "2024-03-19T00:00:00.000000000",
          "2024-03-20T00:00:00.000000000",
          "2024-03-21T00:00:00.000000000",
          "2024-03-22T00:00:00.000000000",
          "2024-03-25T00:00:00.000000000",
          "2024-03-26T00:00:00.000000000",
          "2024-03-27T00:00:00.000000000",
          "2024-03-28T00:00:00.000000000",
          "2024-04-01T00:00:00.000000000",
          "2024-04-02T00:00:00.000000000",
          "2024-04-03T00:00:00.000000000",
          "2024-04-04T00:00:00.000000000",
          "2024-04-05T00:00:00.000000000",
          "2024-04-08T00:00:00.000000000",
          "2024-04-09T00:00:00.000000000",
          "2024-04-10T00:00:00.000000000",
          "2024-04-11T00:00:00.000000000",
          "2024-04-12T00:00:00.000000000",
          "2024-04-15T00:00:00.000000000",
          "2024-04-16T00:00:00.000000000",
          "2024-04-17T00:00:00.000000000",
          "2024-04-18T00:00:00.000000000",
          "2024-04-19T00:00:00.000000000",
          "2024-04-22T00:00:00.000000000",
          "2024-04-23T00:00:00.000000000",
          "2024-04-24T00:00:00.000000000",
          "2024-04-25T00:00:00.000000000",
          "2024-04-26T00:00:00.000000000",
          "2024-04-29T00:00:00.000000000",
          "2024-04-30T00:00:00.000000000",
          "2024-05-01T00:00:00.000000000",
          "2024-05-02T00:00:00.000000000",
          "2024-05-03T00:00:00.000000000",
          "2024-05-06T00:00:00.000000000",
          "2024-05-07T00:00:00.000000000",
          "2024-05-08T00:00:00.000000000",
          "2024-05-09T00:00:00.000000000",
          "2024-05-10T00:00:00.000000000",
          "2024-05-13T00:00:00.000000000",
          "2024-05-14T00:00:00.000000000",
          "2024-05-15T00:00:00.000000000",
          "2024-05-16T00:00:00.000000000",
          "2024-05-17T00:00:00.000000000",
          "2024-05-20T00:00:00.000000000",
          "2024-05-21T00:00:00.000000000",
          "2024-05-22T00:00:00.000000000",
          "2024-05-23T00:00:00.000000000",
          "2024-05-24T00:00:00.000000000",
          "2024-05-28T00:00:00.000000000",
          "2024-05-29T00:00:00.000000000",
          "2024-05-30T00:00:00.000000000",
          "2024-05-31T00:00:00.000000000",
          "2024-06-03T00:00:00.000000000",
          "2024-06-04T00:00:00.000000000",
          "2024-06-05T00:00:00.000000000",
          "2024-06-06T00:00:00.000000000",
          "2024-06-07T00:00:00.000000000",
          "2024-06-10T00:00:00.000000000",
          "2024-06-11T00:00:00.000000000",
          "2024-06-12T00:00:00.000000000",
          "2024-06-13T00:00:00.000000000",
          "2024-06-14T00:00:00.000000000",
          "2024-06-17T00:00:00.000000000",
          "2024-06-18T00:00:00.000000000",
          "2024-06-20T00:00:00.000000000",
          "2024-06-21T00:00:00.000000000",
          "2024-06-24T00:00:00.000000000",
          "2024-06-25T00:00:00.000000000",
          "2024-06-26T00:00:00.000000000",
          "2024-06-27T00:00:00.000000000",
          "2024-06-28T00:00:00.000000000",
          "2024-07-01T00:00:00.000000000",
          "2024-07-02T00:00:00.000000000",
          "2024-07-03T00:00:00.000000000",
          "2024-07-05T00:00:00.000000000",
          "2024-07-08T00:00:00.000000000",
          "2024-07-09T00:00:00.000000000",
          "2024-07-10T00:00:00.000000000",
          "2024-07-11T00:00:00.000000000",
          "2024-07-12T00:00:00.000000000",
          "2024-07-15T00:00:00.000000000",
          "2024-07-16T00:00:00.000000000",
          "2024-07-17T00:00:00.000000000",
          "2024-07-18T00:00:00.000000000",
          "2024-07-19T00:00:00.000000000",
          "2024-07-22T00:00:00.000000000",
          "2024-07-23T00:00:00.000000000",
          "2024-07-24T00:00:00.000000000",
          "2024-07-25T00:00:00.000000000",
          "2024-07-26T00:00:00.000000000",
          "2024-07-29T00:00:00.000000000",
          "2024-07-30T00:00:00.000000000",
          "2024-07-31T00:00:00.000000000",
          "2024-08-01T00:00:00.000000000",
          "2024-08-02T00:00:00.000000000",
          "2024-08-05T00:00:00.000000000",
          "2024-08-06T00:00:00.000000000",
          "2024-08-07T00:00:00.000000000",
          "2024-08-08T00:00:00.000000000",
          "2024-08-09T00:00:00.000000000",
          "2024-08-12T00:00:00.000000000",
          "2024-08-13T00:00:00.000000000",
          "2024-08-14T00:00:00.000000000",
          "2024-08-15T00:00:00.000000000",
          "2024-08-16T00:00:00.000000000",
          "2024-08-19T00:00:00.000000000",
          "2024-08-20T00:00:00.000000000",
          "2024-08-21T00:00:00.000000000",
          "2024-08-22T00:00:00.000000000",
          "2024-08-23T00:00:00.000000000",
          "2024-08-26T00:00:00.000000000",
          "2024-08-27T00:00:00.000000000",
          "2024-08-28T00:00:00.000000000",
          "2024-08-29T00:00:00.000000000",
          "2024-08-30T00:00:00.000000000",
          "2024-09-03T00:00:00.000000000",
          "2024-09-04T00:00:00.000000000",
          "2024-09-05T00:00:00.000000000",
          "2024-09-06T00:00:00.000000000",
          "2024-09-09T00:00:00.000000000",
          "2024-09-10T00:00:00.000000000",
          "2024-09-11T00:00:00.000000000",
          "2024-09-12T00:00:00.000000000",
          "2024-09-13T00:00:00.000000000",
          "2024-09-16T00:00:00.000000000",
          "2024-09-17T00:00:00.000000000",
          "2024-09-18T00:00:00.000000000",
          "2024-09-19T00:00:00.000000000",
          "2024-09-20T00:00:00.000000000",
          "2024-09-23T00:00:00.000000000",
          "2024-09-24T00:00:00.000000000",
          "2024-09-25T00:00:00.000000000",
          "2024-09-26T00:00:00.000000000",
          "2024-09-27T00:00:00.000000000",
          "2024-09-30T00:00:00.000000000",
          "2024-10-01T00:00:00.000000000",
          "2024-10-02T00:00:00.000000000",
          "2024-10-03T00:00:00.000000000",
          "2024-10-04T00:00:00.000000000",
          "2024-10-07T00:00:00.000000000",
          "2024-10-08T00:00:00.000000000",
          "2024-10-09T00:00:00.000000000",
          "2024-10-10T00:00:00.000000000",
          "2024-10-11T00:00:00.000000000",
          "2024-10-14T00:00:00.000000000",
          "2024-10-15T00:00:00.000000000",
          "2024-10-16T00:00:00.000000000",
          "2024-10-17T00:00:00.000000000",
          "2024-10-18T00:00:00.000000000",
          "2024-10-21T00:00:00.000000000",
          "2024-10-22T00:00:00.000000000",
          "2024-10-23T00:00:00.000000000",
          "2024-10-24T00:00:00.000000000",
          "2024-10-25T00:00:00.000000000",
          "2024-10-28T00:00:00.000000000",
          "2024-10-29T00:00:00.000000000",
          "2024-10-30T00:00:00.000000000",
          "2024-10-31T00:00:00.000000000",
          "2024-11-01T00:00:00.000000000",
          "2024-11-04T00:00:00.000000000",
          "2024-11-05T00:00:00.000000000",
          "2024-11-06T00:00:00.000000000",
          "2024-11-07T00:00:00.000000000",
          "2024-11-08T00:00:00.000000000",
          "2024-11-11T00:00:00.000000000",
          "2024-11-12T00:00:00.000000000",
          "2024-11-13T00:00:00.000000000",
          "2024-11-14T00:00:00.000000000",
          "2024-11-15T00:00:00.000000000",
          "2024-11-18T00:00:00.000000000",
          "2024-11-19T00:00:00.000000000",
          "2024-11-20T00:00:00.000000000",
          "2024-11-21T00:00:00.000000000",
          "2024-11-22T00:00:00.000000000",
          "2024-11-25T00:00:00.000000000",
          "2024-11-26T00:00:00.000000000",
          "2024-11-27T00:00:00.000000000",
          "2024-11-29T00:00:00.000000000",
          "2024-12-02T00:00:00.000000000",
          "2024-12-03T00:00:00.000000000",
          "2024-12-04T00:00:00.000000000",
          "2024-12-05T00:00:00.000000000",
          "2024-12-06T00:00:00.000000000",
          "2024-12-09T00:00:00.000000000",
          "2024-12-10T00:00:00.000000000",
          "2024-12-11T00:00:00.000000000",
          "2024-12-12T00:00:00.000000000",
          "2024-12-13T00:00:00.000000000",
          "2024-12-16T00:00:00.000000000",
          "2024-12-17T00:00:00.000000000",
          "2024-12-18T00:00:00.000000000",
          "2024-12-19T00:00:00.000000000",
          "2024-12-20T00:00:00.000000000",
          "2024-12-23T00:00:00.000000000",
          "2024-12-24T00:00:00.000000000",
          "2024-12-26T00:00:00.000000000",
          "2024-12-27T00:00:00.000000000",
          "2024-12-30T00:00:00.000000000",
          "2024-12-31T00:00:00.000000000",
          "2025-01-02T00:00:00.000000000",
          "2025-01-03T00:00:00.000000000",
          "2025-01-06T00:00:00.000000000",
          "2025-01-07T00:00:00.000000000",
          "2025-01-08T00:00:00.000000000",
          "2025-01-10T00:00:00.000000000",
          "2025-01-13T00:00:00.000000000",
          "2025-01-14T00:00:00.000000000",
          "2025-01-15T00:00:00.000000000",
          "2025-01-16T00:00:00.000000000",
          "2025-01-17T00:00:00.000000000",
          "2025-01-21T00:00:00.000000000",
          "2025-01-22T00:00:00.000000000",
          "2025-01-23T00:00:00.000000000",
          "2025-01-24T00:00:00.000000000",
          "2025-01-27T00:00:00.000000000",
          "2025-01-28T00:00:00.000000000",
          "2025-01-29T00:00:00.000000000",
          "2025-01-30T00:00:00.000000000",
          "2025-01-31T00:00:00.000000000",
          "2025-02-03T00:00:00.000000000",
          "2025-02-04T00:00:00.000000000",
          "2025-02-05T00:00:00.000000000",
          "2025-02-06T00:00:00.000000000",
          "2025-02-07T00:00:00.000000000",
          "2025-02-10T00:00:00.000000000",
          "2025-02-11T00:00:00.000000000",
          "2025-02-12T00:00:00.000000000",
          "2025-02-13T00:00:00.000000000",
          "2025-02-14T00:00:00.000000000",
          "2025-02-18T00:00:00.000000000",
          "2025-02-19T00:00:00.000000000",
          "2025-02-20T00:00:00.000000000",
          "2025-02-21T00:00:00.000000000",
          "2025-02-24T00:00:00.000000000",
          "2025-02-25T00:00:00.000000000",
          "2025-02-26T00:00:00.000000000",
          "2025-02-27T00:00:00.000000000",
          "2025-02-28T00:00:00.000000000",
          "2025-03-03T00:00:00.000000000",
          "2025-03-04T00:00:00.000000000",
          "2025-03-05T00:00:00.000000000",
          "2025-03-06T00:00:00.000000000",
          "2025-03-07T00:00:00.000000000",
          "2025-03-10T00:00:00.000000000",
          "2025-03-11T00:00:00.000000000",
          "2025-03-12T00:00:00.000000000",
          "2025-03-13T00:00:00.000000000",
          "2025-03-14T00:00:00.000000000",
          "2025-03-17T00:00:00.000000000",
          "2025-03-18T00:00:00.000000000",
          "2025-03-19T00:00:00.000000000",
          "2025-03-20T00:00:00.000000000",
          "2025-03-21T00:00:00.000000000",
          "2025-03-24T00:00:00.000000000",
          "2025-03-25T00:00:00.000000000",
          "2025-03-26T00:00:00.000000000",
          "2025-03-27T00:00:00.000000000",
          "2025-03-28T00:00:00.000000000",
          "2025-03-31T00:00:00.000000000",
          "2025-04-01T00:00:00.000000000",
          "2025-04-02T00:00:00.000000000",
          "2025-04-03T00:00:00.000000000",
          "2025-04-04T00:00:00.000000000",
          "2025-04-07T00:00:00.000000000",
          "2025-04-08T00:00:00.000000000",
          "2025-04-09T00:00:00.000000000",
          "2025-04-10T00:00:00.000000000",
          "2025-04-11T00:00:00.000000000",
          "2025-04-14T00:00:00.000000000",
          "2025-04-15T00:00:00.000000000",
          "2025-04-16T00:00:00.000000000",
          "2025-04-17T00:00:00.000000000",
          "2025-04-21T00:00:00.000000000",
          "2025-04-22T00:00:00.000000000",
          "2025-04-23T00:00:00.000000000",
          "2025-04-24T00:00:00.000000000",
          "2025-04-25T00:00:00.000000000",
          "2025-04-28T00:00:00.000000000",
          "2025-04-29T00:00:00.000000000",
          "2025-04-30T00:00:00.000000000",
          "2025-05-01T00:00:00.000000000",
          "2025-05-02T00:00:00.000000000",
          "2025-05-05T00:00:00.000000000",
          "2025-05-06T00:00:00.000000000",
          "2025-05-07T00:00:00.000000000",
          "2025-05-08T00:00:00.000000000",
          "2025-05-09T00:00:00.000000000",
          "2025-05-12T00:00:00.000000000",
          "2025-05-13T00:00:00.000000000",
          "2025-05-14T00:00:00.000000000",
          "2025-05-15T00:00:00.000000000",
          "2025-05-16T00:00:00.000000000",
          "2025-05-19T00:00:00.000000000",
          "2025-05-20T00:00:00.000000000",
          "2025-05-21T00:00:00.000000000",
          "2025-05-22T00:00:00.000000000",
          "2025-05-23T00:00:00.000000000",
          "2025-05-27T00:00:00.000000000",
          "2025-05-28T00:00:00.000000000",
          "2025-05-29T00:00:00.000000000",
          "2025-05-30T00:00:00.000000000",
          "2025-06-02T00:00:00.000000000",
          "2025-06-03T00:00:00.000000000",
          "2025-06-04T00:00:00.000000000",
          "2025-06-05T00:00:00.000000000",
          "2025-06-06T00:00:00.000000000",
          "2025-06-09T00:00:00.000000000",
          "2025-06-10T00:00:00.000000000",
          "2025-06-11T00:00:00.000000000",
          "2025-06-12T00:00:00.000000000",
          "2025-06-13T00:00:00.000000000",
          "2025-06-16T00:00:00.000000000",
          "2025-06-17T00:00:00.000000000",
          "2025-06-18T00:00:00.000000000",
          "2025-06-20T00:00:00.000000000",
          "2025-06-23T00:00:00.000000000",
          "2025-06-24T00:00:00.000000000",
          "2025-06-25T00:00:00.000000000",
          "2025-06-26T00:00:00.000000000",
          "2025-06-27T00:00:00.000000000",
          "2025-06-30T00:00:00.000000000",
          "2025-07-01T00:00:00.000000000",
          "2025-07-02T00:00:00.000000000",
          "2025-07-03T00:00:00.000000000",
          "2025-07-07T00:00:00.000000000",
          "2025-07-08T00:00:00.000000000",
          "2025-07-09T00:00:00.000000000",
          "2025-07-10T00:00:00.000000000",
          "2025-07-11T00:00:00.000000000",
          "2025-07-14T00:00:00.000000000",
          "2025-07-15T00:00:00.000000000",
          "2025-07-16T00:00:00.000000000",
          "2025-07-17T00:00:00.000000000",
          "2025-07-18T00:00:00.000000000",
          "2025-07-21T00:00:00.000000000",
          "2025-07-22T00:00:00.000000000",
          "2025-07-23T00:00:00.000000000",
          "2025-07-24T00:00:00.000000000",
          "2025-07-25T00:00:00.000000000",
          "2025-07-28T00:00:00.000000000",
          "2025-07-29T00:00:00.000000000",
          "2025-07-30T00:00:00.000000000",
          "2025-07-31T00:00:00.000000000",
          "2025-08-01T00:00:00.000000000",
          "2025-08-04T00:00:00.000000000",
          "2025-08-05T00:00:00.000000000",
          "2025-08-06T00:00:00.000000000",
          "2025-08-07T00:00:00.000000000",
          "2025-08-08T00:00:00.000000000",
          "2025-08-11T00:00:00.000000000",
          "2025-08-12T00:00:00.000000000",
          "2025-08-13T00:00:00.000000000",
          "2025-08-14T00:00:00.000000000",
          "2025-08-15T00:00:00.000000000",
          "2025-08-18T00:00:00.000000000",
          "2025-08-19T00:00:00.000000000",
          "2025-08-20T00:00:00.000000000",
          "2025-08-21T00:00:00.000000000",
          "2025-08-22T00:00:00.000000000",
          "2025-08-25T00:00:00.000000000",
          "2025-08-26T00:00:00.000000000",
          "2025-08-27T00:00:00.000000000",
          "2025-08-28T00:00:00.000000000",
          "2025-08-29T00:00:00.000000000",
          "2025-09-02T00:00:00.000000000",
          "2025-09-03T00:00:00.000000000",
          "2025-09-04T00:00:00.000000000",
          "2025-09-05T00:00:00.000000000",
          "2025-09-08T00:00:00.000000000",
          "2025-09-09T00:00:00.000000000",
          "2025-09-10T00:00:00.000000000",
          "2025-09-11T00:00:00.000000000",
          "2025-09-12T00:00:00.000000000",
          "2025-09-15T00:00:00.000000000",
          "2025-09-16T00:00:00.000000000",
          "2025-09-17T00:00:00.000000000",
          "2025-09-18T00:00:00.000000000",
          "2025-09-19T00:00:00.000000000",
          "2025-09-22T00:00:00.000000000",
          "2025-09-23T00:00:00.000000000",
          "2025-09-24T00:00:00.000000000",
          "2025-09-25T00:00:00.000000000",
          "2025-09-26T00:00:00.000000000",
          "2025-09-29T00:00:00.000000000"
         ],
         "xaxis": "x",
         "y": {
          "bdata": "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",
          "dtype": "f8"
         },
         "yaxis": "y"
        },
        {
         "fill": "tonexty",
         "fillcolor": "rgba(128,128,128,0.1)",
         "line": {
          "color": "gray",
          "dash": "dash"
         },
         "name": "Lower Band",
         "type": "scatter",
         "x": [
          "2022-12-08T00:00:00.000000000",
          "2022-12-09T00:00:00.000000000",
          "2022-12-12T00:00:00.000000000",
          "2022-12-13T00:00:00.000000000",
          "2022-12-14T00:00:00.000000000",
          "2022-12-15T00:00:00.000000000",
          "2022-12-16T00:00:00.000000000",
          "2022-12-19T00:00:00.000000000",
          "2022-12-20T00:00:00.000000000",
          "2022-12-21T00:00:00.000000000",
          "2022-12-22T00:00:00.000000000",
          "2022-12-23T00:00:00.000000000",
          "2022-12-27T00:00:00.000000000",
          "2022-12-28T00:00:00.000000000",
          "2022-12-29T00:00:00.000000000",
          "2022-12-30T00:00:00.000000000",
          "2023-01-03T00:00:00.000000000",
          "2023-01-04T00:00:00.000000000",
          "2023-01-05T00:00:00.000000000",
          "2023-01-06T00:00:00.000000000",
          "2023-01-09T00:00:00.000000000",
          "2023-01-10T00:00:00.000000000",
          "2023-01-11T00:00:00.000000000",
          "2023-01-12T00:00:00.000000000",
          "2023-01-13T00:00:00.000000000",
          "2023-01-17T00:00:00.000000000",
          "2023-01-18T00:00:00.000000000",
          "2023-01-19T00:00:00.000000000",
          "2023-01-20T00:00:00.000000000",
          "2023-01-23T00:00:00.000000000",
          "2023-01-24T00:00:00.000000000",
          "2023-01-25T00:00:00.000000000",
          "2023-01-26T00:00:00.000000000",
          "2023-01-27T00:00:00.000000000",
          "2023-01-30T00:00:00.000000000",
          "2023-01-31T00:00:00.000000000",
          "2023-02-01T00:00:00.000000000",
          "2023-02-02T00:00:00.000000000",
          "2023-02-03T00:00:00.000000000",
          "2023-02-06T00:00:00.000000000",
          "2023-02-07T00:00:00.000000000",
          "2023-02-08T00:00:00.000000000",
          "2023-02-09T00:00:00.000000000",
          "2023-02-10T00:00:00.000000000",
          "2023-02-13T00:00:00.000000000",
          "2023-02-14T00:00:00.000000000",
          "2023-02-15T00:00:00.000000000",
          "2023-02-16T00:00:00.000000000",
          "2023-02-17T00:00:00.000000000",
          "2023-02-21T00:00:00.000000000",
          "2023-02-22T00:00:00.000000000",
          "2023-02-23T00:00:00.000000000",
          "2023-02-24T00:00:00.000000000",
          "2023-02-27T00:00:00.000000000",
          "2023-02-28T00:00:00.000000000",
          "2023-03-01T00:00:00.000000000",
          "2023-03-02T00:00:00.000000000",
          "2023-03-03T00:00:00.000000000",
          "2023-03-06T00:00:00.000000000",
          "2023-03-07T00:00:00.000000000",
          "2023-03-08T00:00:00.000000000",
          "2023-03-09T00:00:00.000000000",
          "2023-03-10T00:00:00.000000000",
          "2023-03-13T00:00:00.000000000",
          "2023-03-14T00:00:00.000000000",
          "2023-03-15T00:00:00.000000000",
          "2023-03-16T00:00:00.000000000",
          "2023-03-17T00:00:00.000000000",
          "2023-03-20T00:00:00.000000000",
          "2023-03-21T00:00:00.000000000",
          "2023-03-22T00:00:00.000000000",
          "2023-03-23T00:00:00.000000000",
          "2023-03-24T00:00:00.000000000",
          "2023-03-27T00:00:00.000000000",
          "2023-03-28T00:00:00.000000000",
          "2023-03-29T00:00:00.000000000",
          "2023-03-30T00:00:00.000000000",
          "2023-03-31T00:00:00.000000000",
          "2023-04-03T00:00:00.000000000",
          "2023-04-04T00:00:00.000000000",
          "2023-04-05T00:00:00.000000000",
          "2023-04-06T00:00:00.000000000",
          "2023-04-10T00:00:00.000000000",
          "2023-04-11T00:00:00.000000000",
          "2023-04-12T00:00:00.000000000",
          "2023-04-13T00:00:00.000000000",
          "2023-04-14T00:00:00.000000000",
          "2023-04-17T00:00:00.000000000",
          "2023-04-18T00:00:00.000000000",
          "2023-04-19T00:00:00.000000000",
          "2023-04-20T00:00:00.000000000",
          "2023-04-21T00:00:00.000000000",
          "2023-04-24T00:00:00.000000000",
          "2023-04-25T00:00:00.000000000",
          "2023-04-26T00:00:00.000000000",
          "2023-04-27T00:00:00.000000000",
          "2023-04-28T00:00:00.000000000",
          "2023-05-01T00:00:00.000000000",
          "2023-05-02T00:00:00.000000000",
          "2023-05-03T00:00:00.000000000",
          "2023-05-04T00:00:00.000000000",
          "2023-05-05T00:00:00.000000000",
          "2023-05-08T00:00:00.000000000",
          "2023-05-09T00:00:00.000000000",
          "2023-05-10T00:00:00.000000000",
          "2023-05-11T00:00:00.000000000",
          "2023-05-12T00:00:00.000000000",
          "2023-05-15T00:00:00.000000000",
          "2023-05-16T00:00:00.000000000",
          "2023-05-17T00:00:00.000000000",
          "2023-05-18T00:00:00.000000000",
          "2023-05-19T00:00:00.000000000",
          "2023-05-22T00:00:00.000000000",
          "2023-05-23T00:00:00.000000000",
          "2023-05-24T00:00:00.000000000",
          "2023-05-25T00:00:00.000000000",
          "2023-05-26T00:00:00.000000000",
          "2023-05-30T00:00:00.000000000",
          "2023-05-31T00:00:00.000000000",
          "2023-06-01T00:00:00.000000000",
          "2023-06-02T00:00:00.000000000",
          "2023-06-05T00:00:00.000000000",
          "2023-06-06T00:00:00.000000000",
          "2023-06-07T00:00:00.000000000",
          "2023-06-08T00:00:00.000000000",
          "2023-06-09T00:00:00.000000000",
          "2023-06-12T00:00:00.000000000",
          "2023-06-13T00:00:00.000000000",
          "2023-06-14T00:00:00.000000000",
          "2023-06-15T00:00:00.000000000",
          "2023-06-16T00:00:00.000000000",
          "2023-06-20T00:00:00.000000000",
          "2023-06-21T00:00:00.000000000",
          "2023-06-22T00:00:00.000000000",
          "2023-06-23T00:00:00.000000000",
          "2023-06-26T00:00:00.000000000",
          "2023-06-27T00:00:00.000000000",
          "2023-06-28T00:00:00.000000000",
          "2023-06-29T00:00:00.000000000",
          "2023-06-30T00:00:00.000000000",
          "2023-07-03T00:00:00.000000000",
          "2023-07-05T00:00:00.000000000",
          "2023-07-06T00:00:00.000000000",
          "2023-07-07T00:00:00.000000000",
          "2023-07-10T00:00:00.000000000",
          "2023-07-11T00:00:00.000000000",
          "2023-07-12T00:00:00.000000000",
          "2023-07-13T00:00:00.000000000",
          "2023-07-14T00:00:00.000000000",
          "2023-07-17T00:00:00.000000000",
          "2023-07-18T00:00:00.000000000",
          "2023-07-19T00:00:00.000000000",
          "2023-07-20T00:00:00.000000000",
          "2023-07-21T00:00:00.000000000",
          "2023-07-24T00:00:00.000000000",
          "2023-07-25T00:00:00.000000000",
          "2023-07-26T00:00:00.000000000",
          "2023-07-27T00:00:00.000000000",
          "2023-07-28T00:00:00.000000000",
          "2023-07-31T00:00:00.000000000",
          "2023-08-01T00:00:00.000000000",
          "2023-08-02T00:00:00.000000000",
          "2023-08-03T00:00:00.000000000",
          "2023-08-04T00:00:00.000000000",
          "2023-08-07T00:00:00.000000000",
          "2023-08-08T00:00:00.000000000",
          "2023-08-09T00:00:00.000000000",
          "2023-08-10T00:00:00.000000000",
          "2023-08-11T00:00:00.000000000",
          "2023-08-14T00:00:00.000000000",
          "2023-08-15T00:00:00.000000000",
          "2023-08-16T00:00:00.000000000",
          "2023-08-17T00:00:00.000000000",
          "2023-08-18T00:00:00.000000000",
          "2023-08-21T00:00:00.000000000",
          "2023-08-22T00:00:00.000000000",
          "2023-08-23T00:00:00.000000000",
          "2023-08-24T00:00:00.000000000",
          "2023-08-25T00:00:00.000000000",
          "2023-08-28T00:00:00.000000000",
          "2023-08-29T00:00:00.000000000",
          "2023-08-30T00:00:00.000000000",
          "2023-08-31T00:00:00.000000000",
          "2023-09-01T00:00:00.000000000",
          "2023-09-05T00:00:00.000000000",
          "2023-09-06T00:00:00.000000000",
          "2023-09-07T00:00:00.000000000",
          "2023-09-08T00:00:00.000000000",
          "2023-09-11T00:00:00.000000000",
          "2023-09-12T00:00:00.000000000",
          "2023-09-13T00:00:00.000000000",
          "2023-09-14T00:00:00.000000000",
          "2023-09-15T00:00:00.000000000",
          "2023-09-18T00:00:00.000000000",
          "2023-09-19T00:00:00.000000000",
          "2023-09-20T00:00:00.000000000",
          "2023-09-21T00:00:00.000000000",
          "2023-09-22T00:00:00.000000000",
          "2023-09-25T00:00:00.000000000",
          "2023-09-26T00:00:00.000000000",
          "2023-09-27T00:00:00.000000000",
          "2023-09-28T00:00:00.000000000",
          "2023-09-29T00:00:00.000000000",
          "2023-10-02T00:00:00.000000000",
          "2023-10-03T00:00:00.000000000",
          "2023-10-04T00:00:00.000000000",
          "2023-10-05T00:00:00.000000000",
          "2023-10-06T00:00:00.000000000",
          "2023-10-09T00:00:00.000000000",
          "2023-10-10T00:00:00.000000000",
          "2023-10-11T00:00:00.000000000",
          "2023-10-12T00:00:00.000000000",
          "2023-10-13T00:00:00.000000000",
          "2023-10-16T00:00:00.000000000",
          "2023-10-17T00:00:00.000000000",
          "2023-10-18T00:00:00.000000000",
          "2023-10-19T00:00:00.000000000",
          "2023-10-20T00:00:00.000000000",
          "2023-10-23T00:00:00.000000000",
          "2023-10-24T00:00:00.000000000",
          "2023-10-25T00:00:00.000000000",
          "2023-10-26T00:00:00.000000000",
          "2023-10-27T00:00:00.000000000",
          "2023-10-30T00:00:00.000000000",
          "2023-10-31T00:00:00.000000000",
          "2023-11-01T00:00:00.000000000",
          "2023-11-02T00:00:00.000000000",
          "2023-11-03T00:00:00.000000000",
          "2023-11-06T00:00:00.000000000",
          "2023-11-07T00:00:00.000000000",
          "2023-11-08T00:00:00.000000000",
          "2023-11-09T00:00:00.000000000",
          "2023-11-10T00:00:00.000000000",
          "2023-11-13T00:00:00.000000000",
          "2023-11-14T00:00:00.000000000",
          "2023-11-15T00:00:00.000000000",
          "2023-11-16T00:00:00.000000000",
          "2023-11-17T00:00:00.000000000",
          "2023-11-20T00:00:00.000000000",
          "2023-11-21T00:00:00.000000000",
          "2023-11-22T00:00:00.000000000",
          "2023-11-24T00:00:00.000000000",
          "2023-11-27T00:00:00.000000000",
          "2023-11-28T00:00:00.000000000",
          "2023-11-29T00:00:00.000000000",
          "2023-11-30T00:00:00.000000000",
          "2023-12-01T00:00:00.000000000",
          "2023-12-04T00:00:00.000000000",
          "2023-12-05T00:00:00.000000000",
          "2023-12-06T00:00:00.000000000",
          "2023-12-07T00:00:00.000000000",
          "2023-12-08T00:00:00.000000000",
          "2023-12-11T00:00:00.000000000",
          "2023-12-12T00:00:00.000000000",
          "2023-12-13T00:00:00.000000000",
          "2023-12-14T00:00:00.000000000",
          "2023-12-15T00:00:00.000000000",
          "2023-12-18T00:00:00.000000000",
          "2023-12-19T00:00:00.000000000",
          "2023-12-20T00:00:00.000000000",
          "2023-12-21T00:00:00.000000000",
          "2023-12-22T00:00:00.000000000",
          "2023-12-26T00:00:00.000000000",
          "2023-12-27T00:00:00.000000000",
          "2023-12-28T00:00:00.000000000",
          "2023-12-29T00:00:00.000000000",
          "2024-01-02T00:00:00.000000000",
          "2024-01-03T00:00:00.000000000",
          "2024-01-04T00:00:00.000000000",
          "2024-01-05T00:00:00.000000000",
          "2024-01-08T00:00:00.000000000",
          "2024-01-09T00:00:00.000000000",
          "2024-01-10T00:00:00.000000000",
          "2024-01-11T00:00:00.000000000",
          "2024-01-12T00:00:00.000000000",
          "2024-01-16T00:00:00.000000000",
          "2024-01-17T00:00:00.000000000",
          "2024-01-18T00:00:00.000000000",
          "2024-01-19T00:00:00.000000000",
          "2024-01-22T00:00:00.000000000",
          "2024-01-23T00:00:00.000000000",
          "2024-01-24T00:00:00.000000000",
          "2024-01-25T00:00:00.000000000",
          "2024-01-26T00:00:00.000000000",
          "2024-01-29T00:00:00.000000000",
          "2024-01-30T00:00:00.000000000",
          "2024-01-31T00:00:00.000000000",
          "2024-02-01T00:00:00.000000000",
          "2024-02-02T00:00:00.000000000",
          "2024-02-05T00:00:00.000000000",
          "2024-02-06T00:00:00.000000000",
          "2024-02-07T00:00:00.000000000",
          "2024-02-08T00:00:00.000000000",
          "2024-02-09T00:00:00.000000000",
          "2024-02-12T00:00:00.000000000",
          "2024-02-13T00:00:00.000000000",
          "2024-02-14T00:00:00.000000000",
          "2024-02-15T00:00:00.000000000",
          "2024-02-16T00:00:00.000000000",
          "2024-02-20T00:00:00.000000000",
          "2024-02-21T00:00:00.000000000",
          "2024-02-22T00:00:00.000000000",
          "2024-02-23T00:00:00.000000000",
          "2024-02-26T00:00:00.000000000",
          "2024-02-27T00:00:00.000000000",
          "2024-02-28T00:00:00.000000000",
          "2024-02-29T00:00:00.000000000",
          "2024-03-01T00:00:00.000000000",
          "2024-03-04T00:00:00.000000000",
          "2024-03-05T00:00:00.000000000",
          "2024-03-06T00:00:00.000000000",
          "2024-03-07T00:00:00.000000000",
          "2024-03-08T00:00:00.000000000",
          "2024-03-11T00:00:00.000000000",
          "2024-03-12T00:00:00.000000000",
          "2024-03-13T00:00:00.000000000",
          "2024-03-14T00:00:00.000000000",
          "2024-03-15T00:00:00.000000000",
          "2024-03-18T00:00:00.000000000",
          "2024-03-19T00:00:00.000000000",
          "2024-03-20T00:00:00.000000000",
          "2024-03-21T00:00:00.000000000",
          "2024-03-22T00:00:00.000000000",
          "2024-03-25T00:00:00.000000000",
          "2024-03-26T00:00:00.000000000",
          "2024-03-27T00:00:00.000000000",
          "2024-03-28T00:00:00.000000000",
          "2024-04-01T00:00:00.000000000",
          "2024-04-02T00:00:00.000000000",
          "2024-04-03T00:00:00.000000000",
          "2024-04-04T00:00:00.000000000",
          "2024-04-05T00:00:00.000000000",
          "2024-04-08T00:00:00.000000000",
          "2024-04-09T00:00:00.000000000",
          "2024-04-10T00:00:00.000000000",
          "2024-04-11T00:00:00.000000000",
          "2024-04-12T00:00:00.000000000",
          "2024-04-15T00:00:00.000000000",
          "2024-04-16T00:00:00.000000000",
          "2024-04-17T00:00:00.000000000",
          "2024-04-18T00:00:00.000000000",
          "2024-04-19T00:00:00.000000000",
          "2024-04-22T00:00:00.000000000",
          "2024-04-23T00:00:00.000000000",
          "2024-04-24T00:00:00.000000000",
          "2024-04-25T00:00:00.000000000",
          "2024-04-26T00:00:00.000000000",
          "2024-04-29T00:00:00.000000000",
          "2024-04-30T00:00:00.000000000",
          "2024-05-01T00:00:00.000000000",
          "2024-05-02T00:00:00.000000000",
          "2024-05-03T00:00:00.000000000",
          "2024-05-06T00:00:00.000000000",
          "2024-05-07T00:00:00.000000000",
          "2024-05-08T00:00:00.000000000",
          "2024-05-09T00:00:00.000000000",
          "2024-05-10T00:00:00.000000000",
          "2024-05-13T00:00:00.000000000",
          "2024-05-14T00:00:00.000000000",
          "2024-05-15T00:00:00.000000000",
          "2024-05-16T00:00:00.000000000",
          "2024-05-17T00:00:00.000000000",
          "2024-05-20T00:00:00.000000000",
          "2024-05-21T00:00:00.000000000",
          "2024-05-22T00:00:00.000000000",
          "2024-05-23T00:00:00.000000000",
          "2024-05-24T00:00:00.000000000",
          "2024-05-28T00:00:00.000000000",
          "2024-05-29T00:00:00.000000000",
          "2024-05-30T00:00:00.000000000",
          "2024-05-31T00:00:00.000000000",
          "2024-06-03T00:00:00.000000000",
          "2024-06-04T00:00:00.000000000",
          "2024-06-05T00:00:00.000000000",
          "2024-06-06T00:00:00.000000000",
          "2024-06-07T00:00:00.000000000",
          "2024-06-10T00:00:00.000000000",
          "2024-06-11T00:00:00.000000000",
          "2024-06-12T00:00:00.000000000",
          "2024-06-13T00:00:00.000000000",
          "2024-06-14T00:00:00.000000000",
          "2024-06-17T00:00:00.000000000",
          "2024-06-18T00:00:00.000000000",
          "2024-06-20T00:00:00.000000000",
          "2024-06-21T00:00:00.000000000",
          "2024-06-24T00:00:00.000000000",
          "2024-06-25T00:00:00.000000000",
          "2024-06-26T00:00:00.000000000",
          "2024-06-27T00:00:00.000000000",
          "2024-06-28T00:00:00.000000000",
          "2024-07-01T00:00:00.000000000",
          "2024-07-02T00:00:00.000000000",
          "2024-07-03T00:00:00.000000000",
          "2024-07-05T00:00:00.000000000",
          "2024-07-08T00:00:00.000000000",
          "2024-07-09T00:00:00.000000000",
          "2024-07-10T00:00:00.000000000",
          "2024-07-11T00:00:00.000000000",
          "2024-07-12T00:00:00.000000000",
          "2024-07-15T00:00:00.000000000",
          "2024-07-16T00:00:00.000000000",
          "2024-07-17T00:00:00.000000000",
          "2024-07-18T00:00:00.000000000",
          "2024-07-19T00:00:00.000000000",
          "2024-07-22T00:00:00.000000000",
          "2024-07-23T00:00:00.000000000",
          "2024-07-24T00:00:00.000000000",
          "2024-07-25T00:00:00.000000000",
          "2024-07-26T00:00:00.000000000",
          "2024-07-29T00:00:00.000000000",
          "2024-07-30T00:00:00.000000000",
          "2024-07-31T00:00:00.000000000",
          "2024-08-01T00:00:00.000000000",
          "2024-08-02T00:00:00.000000000",
          "2024-08-05T00:00:00.000000000",
          "2024-08-06T00:00:00.000000000",
          "2024-08-07T00:00:00.000000000",
          "2024-08-08T00:00:00.000000000",
          "2024-08-09T00:00:00.000000000",
          "2024-08-12T00:00:00.000000000",
          "2024-08-13T00:00:00.000000000",
          "2024-08-14T00:00:00.000000000",
          "2024-08-15T00:00:00.000000000",
          "2024-08-16T00:00:00.000000000",
          "2024-08-19T00:00:00.000000000",
          "2024-08-20T00:00:00.000000000",
          "2024-08-21T00:00:00.000000000",
          "2024-08-22T00:00:00.000000000",
          "2024-08-23T00:00:00.000000000",
          "2024-08-26T00:00:00.000000000",
          "2024-08-27T00:00:00.000000000",
          "2024-08-28T00:00:00.000000000",
          "2024-08-29T00:00:00.000000000",
          "2024-08-30T00:00:00.000000000",
          "2024-09-03T00:00:00.000000000",
          "2024-09-04T00:00:00.000000000",
          "2024-09-05T00:00:00.000000000",
          "2024-09-06T00:00:00.000000000",
          "2024-09-09T00:00:00.000000000",
          "2024-09-10T00:00:00.000000000",
          "2024-09-11T00:00:00.000000000",
          "2024-09-12T00:00:00.000000000",
          "2024-09-13T00:00:00.000000000",
          "2024-09-16T00:00:00.000000000",
          "2024-09-17T00:00:00.000000000",
          "2024-09-18T00:00:00.000000000",
          "2024-09-19T00:00:00.000000000",
          "2024-09-20T00:00:00.000000000",
          "2024-09-23T00:00:00.000000000",
          "2024-09-24T00:00:00.000000000",
          "2024-09-25T00:00:00.000000000",
          "2024-09-26T00:00:00.000000000",
          "2024-09-27T00:00:00.000000000",
          "2024-09-30T00:00:00.000000000",
          "2024-10-01T00:00:00.000000000",
          "2024-10-02T00:00:00.000000000",
          "2024-10-03T00:00:00.000000000",
          "2024-10-04T00:00:00.000000000",
          "2024-10-07T00:00:00.000000000",
          "2024-10-08T00:00:00.000000000",
          "2024-10-09T00:00:00.000000000",
          "2024-10-10T00:00:00.000000000",
          "2024-10-11T00:00:00.000000000",
          "2024-10-14T00:00:00.000000000",
          "2024-10-15T00:00:00.000000000",
          "2024-10-16T00:00:00.000000000",
          "2024-10-17T00:00:00.000000000",
          "2024-10-18T00:00:00.000000000",
          "2024-10-21T00:00:00.000000000",
          "2024-10-22T00:00:00.000000000",
          "2024-10-23T00:00:00.000000000",
          "2024-10-24T00:00:00.000000000",
          "2024-10-25T00:00:00.000000000",
          "2024-10-28T00:00:00.000000000",
          "2024-10-29T00:00:00.000000000",
          "2024-10-30T00:00:00.000000000",
          "2024-10-31T00:00:00.000000000",
          "2024-11-01T00:00:00.000000000",
          "2024-11-04T00:00:00.000000000",
          "2024-11-05T00:00:00.000000000",
          "2024-11-06T00:00:00.000000000",
          "2024-11-07T00:00:00.000000000",
          "2024-11-08T00:00:00.000000000",
          "2024-11-11T00:00:00.000000000",
          "2024-11-12T00:00:00.000000000",
          "2024-11-13T00:00:00.000000000",
          "2024-11-14T00:00:00.000000000",
          "2024-11-15T00:00:00.000000000",
          "2024-11-18T00:00:00.000000000",
          "2024-11-19T00:00:00.000000000",
          "2024-11-20T00:00:00.000000000",
          "2024-11-21T00:00:00.000000000",
          "2024-11-22T00:00:00.000000000",
          "2024-11-25T00:00:00.000000000",
          "2024-11-26T00:00:00.000000000",
          "2024-11-27T00:00:00.000000000",
          "2024-11-29T00:00:00.000000000",
          "2024-12-02T00:00:00.000000000",
          "2024-12-03T00:00:00.000000000",
          "2024-12-04T00:00:00.000000000",
          "2024-12-05T00:00:00.000000000",
          "2024-12-06T00:00:00.000000000",
          "2024-12-09T00:00:00.000000000",
          "2024-12-10T00:00:00.000000000",
          "2024-12-11T00:00:00.000000000",
          "2024-12-12T00:00:00.000000000",
          "2024-12-13T00:00:00.000000000",
          "2024-12-16T00:00:00.000000000",
          "2024-12-17T00:00:00.000000000",
          "2024-12-18T00:00:00.000000000",
          "2024-12-19T00:00:00.000000000",
          "2024-12-20T00:00:00.000000000",
          "2024-12-23T00:00:00.000000000",
          "2024-12-24T00:00:00.000000000",
          "2024-12-26T00:00:00.000000000",
          "2024-12-27T00:00:00.000000000",
          "2024-12-30T00:00:00.000000000",
          "2024-12-31T00:00:00.000000000",
          "2025-01-02T00:00:00.000000000",
          "2025-01-03T00:00:00.000000000",
          "2025-01-06T00:00:00.000000000",
          "2025-01-07T00:00:00.000000000",
          "2025-01-08T00:00:00.000000000",
          "2025-01-10T00:00:00.000000000",
          "2025-01-13T00:00:00.000000000",
          "2025-01-14T00:00:00.000000000",
          "2025-01-15T00:00:00.000000000",
          "2025-01-16T00:00:00.000000000",
          "2025-01-17T00:00:00.000000000",
          "2025-01-21T00:00:00.000000000",
          "2025-01-22T00:00:00.000000000",
          "2025-01-23T00:00:00.000000000",
          "2025-01-24T00:00:00.000000000",
          "2025-01-27T00:00:00.000000000",
          "2025-01-28T00:00:00.000000000",
          "2025-01-29T00:00:00.000000000",
          "2025-01-30T00:00:00.000000000",
          "2025-01-31T00:00:00.000000000",
          "2025-02-03T00:00:00.000000000",
          "2025-02-04T00:00:00.000000000",
          "2025-02-05T00:00:00.000000000",
          "2025-02-06T00:00:00.000000000",
          "2025-02-07T00:00:00.000000000",
          "2025-02-10T00:00:00.000000000",
          "2025-02-11T00:00:00.000000000",
          "2025-02-12T00:00:00.000000000",
          "2025-02-13T00:00:00.000000000",
          "2025-02-14T00:00:00.000000000",
          "2025-02-18T00:00:00.000000000",
          "2025-02-19T00:00:00.000000000",
          "2025-02-20T00:00:00.000000000",
          "2025-02-21T00:00:00.000000000",
          "2025-02-24T00:00:00.000000000",
          "2025-02-25T00:00:00.000000000",
          "2025-02-26T00:00:00.000000000",
          "2025-02-27T00:00:00.000000000",
          "2025-02-28T00:00:00.000000000",
          "2025-03-03T00:00:00.000000000",
          "2025-03-04T00:00:00.000000000",
          "2025-03-05T00:00:00.000000000",
          "2025-03-06T00:00:00.000000000",
          "2025-03-07T00:00:00.000000000",
          "2025-03-10T00:00:00.000000000",
          "2025-03-11T00:00:00.000000000",
          "2025-03-12T00:00:00.000000000",
          "2025-03-13T00:00:00.000000000",
          "2025-03-14T00:00:00.000000000",
          "2025-03-17T00:00:00.000000000",
          "2025-03-18T00:00:00.000000000",
          "2025-03-19T00:00:00.000000000",
          "2025-03-20T00:00:00.000000000",
          "2025-03-21T00:00:00.000000000",
          "2025-03-24T00:00:00.000000000",
          "2025-03-25T00:00:00.000000000",
          "2025-03-26T00:00:00.000000000",
          "2025-03-27T00:00:00.000000000",
          "2025-03-28T00:00:00.000000000",
          "2025-03-31T00:00:00.000000000",
          "2025-04-01T00:00:00.000000000",
          "2025-04-02T00:00:00.000000000",
          "2025-04-03T00:00:00.000000000",
          "2025-04-04T00:00:00.000000000",
          "2025-04-07T00:00:00.000000000",
          "2025-04-08T00:00:00.000000000",
          "2025-04-09T00:00:00.000000000",
          "2025-04-10T00:00:00.000000000",
          "2025-04-11T00:00:00.000000000",
          "2025-04-14T00:00:00.000000000",
          "2025-04-15T00:00:00.000000000",
          "2025-04-16T00:00:00.000000000",
          "2025-04-17T00:00:00.000000000",
          "2025-04-21T00:00:00.000000000",
          "2025-04-22T00:00:00.000000000",
          "2025-04-23T00:00:00.000000000",
          "2025-04-24T00:00:00.000000000",
          "2025-04-25T00:00:00.000000000",
          "2025-04-28T00:00:00.000000000",
          "2025-04-29T00:00:00.000000000",
          "2025-04-30T00:00:00.000000000",
          "2025-05-01T00:00:00.000000000",
          "2025-05-02T00:00:00.000000000",
          "2025-05-05T00:00:00.000000000",
          "2025-05-06T00:00:00.000000000",
          "2025-05-07T00:00:00.000000000",
          "2025-05-08T00:00:00.000000000",
          "2025-05-09T00:00:00.000000000",
          "2025-05-12T00:00:00.000000000",
          "2025-05-13T00:00:00.000000000",
          "2025-05-14T00:00:00.000000000",
          "2025-05-15T00:00:00.000000000",
          "2025-05-16T00:00:00.000000000",
          "2025-05-19T00:00:00.000000000",
          "2025-05-20T00:00:00.000000000",
          "2025-05-21T00:00:00.000000000",
          "2025-05-22T00:00:00.000000000",
          "2025-05-23T00:00:00.000000000",
          "2025-05-27T00:00:00.000000000",
          "2025-05-28T00:00:00.000000000",
          "2025-05-29T00:00:00.000000000",
          "2025-05-30T00:00:00.000000000",
          "2025-06-02T00:00:00.000000000",
          "2025-06-03T00:00:00.000000000",
          "2025-06-04T00:00:00.000000000",
          "2025-06-05T00:00:00.000000000",
          "2025-06-06T00:00:00.000000000",
          "2025-06-09T00:00:00.000000000",
          "2025-06-10T00:00:00.000000000",
          "2025-06-11T00:00:00.000000000",
          "2025-06-12T00:00:00.000000000",
          "2025-06-13T00:00:00.000000000",
          "2025-06-16T00:00:00.000000000",
          "2025-06-17T00:00:00.000000000",
          "2025-06-18T00:00:00.000000000",
          "2025-06-20T00:00:00.000000000",
          "2025-06-23T00:00:00.000000000",
          "2025-06-24T00:00:00.000000000",
          "2025-06-25T00:00:00.000000000",
          "2025-06-26T00:00:00.000000000",
          "2025-06-27T00:00:00.000000000",
          "2025-06-30T00:00:00.000000000",
          "2025-07-01T00:00:00.000000000",
          "2025-07-02T00:00:00.000000000",
          "2025-07-03T00:00:00.000000000",
          "2025-07-07T00:00:00.000000000",
          "2025-07-08T00:00:00.000000000",
          "2025-07-09T00:00:00.000000000",
          "2025-07-10T00:00:00.000000000",
          "2025-07-11T00:00:00.000000000",
          "2025-07-14T00:00:00.000000000",
          "2025-07-15T00:00:00.000000000",
          "2025-07-16T00:00:00.000000000",
          "2025-07-17T00:00:00.000000000",
          "2025-07-18T00:00:00.000000000",
          "2025-07-21T00:00:00.000000000",
          "2025-07-22T00:00:00.000000000",
          "2025-07-23T00:00:00.000000000",
          "2025-07-24T00:00:00.000000000",
          "2025-07-25T00:00:00.000000000",
          "2025-07-28T00:00:00.000000000",
          "2025-07-29T00:00:00.000000000",
          "2025-07-30T00:00:00.000000000",
          "2025-07-31T00:00:00.000000000",
          "2025-08-01T00:00:00.000000000",
          "2025-08-04T00:00:00.000000000",
          "2025-08-05T00:00:00.000000000",
          "2025-08-06T00:00:00.000000000",
          "2025-08-07T00:00:00.000000000",
          "2025-08-08T00:00:00.000000000",
          "2025-08-11T00:00:00.000000000",
          "2025-08-12T00:00:00.000000000",
          "2025-08-13T00:00:00.000000000",
          "2025-08-14T00:00:00.000000000",
          "2025-08-15T00:00:00.000000000",
          "2025-08-18T00:00:00.000000000",
          "2025-08-19T00:00:00.000000000",
          "2025-08-20T00:00:00.000000000",
          "2025-08-21T00:00:00.000000000",
          "2025-08-22T00:00:00.000000000",
          "2025-08-25T00:00:00.000000000",
          "2025-08-26T00:00:00.000000000",
          "2025-08-27T00:00:00.000000000",
          "2025-08-28T00:00:00.000000000",
          "2025-08-29T00:00:00.000000000",
          "2025-09-02T00:00:00.000000000",
          "2025-09-03T00:00:00.000000000",
          "2025-09-04T00:00:00.000000000",
          "2025-09-05T00:00:00.000000000",
          "2025-09-08T00:00:00.000000000",
          "2025-09-09T00:00:00.000000000",
          "2025-09-10T00:00:00.000000000",
          "2025-09-11T00:00:00.000000000",
          "2025-09-12T00:00:00.000000000",
          "2025-09-15T00:00:00.000000000",
          "2025-09-16T00:00:00.000000000",
          "2025-09-17T00:00:00.000000000",
          "2025-09-18T00:00:00.000000000",
          "2025-09-19T00:00:00.000000000",
          "2025-09-22T00:00:00.000000000",
          "2025-09-23T00:00:00.000000000",
          "2025-09-24T00:00:00.000000000",
          "2025-09-25T00:00:00.000000000",
          "2025-09-26T00:00:00.000000000",
          "2025-09-29T00:00:00.000000000"
         ],
         "xaxis": "x",
         "y": {
          "bdata": "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",
          "dtype": "f8"
         },
         "yaxis": "y"
        },
        {
         "line": {
          "color": "purple"
         },
         "name": "RSI",
         "type": "scatter",
         "x": [
          "2022-12-08T00:00:00.000000000",
          "2022-12-09T00:00:00.000000000",
          "2022-12-12T00:00:00.000000000",
          "2022-12-13T00:00:00.000000000",
          "2022-12-14T00:00:00.000000000",
          "2022-12-15T00:00:00.000000000",
          "2022-12-16T00:00:00.000000000",
          "2022-12-19T00:00:00.000000000",
          "2022-12-20T00:00:00.000000000",
          "2022-12-21T00:00:00.000000000",
          "2022-12-22T00:00:00.000000000",
          "2022-12-23T00:00:00.000000000",
          "2022-12-27T00:00:00.000000000",
          "2022-12-28T00:00:00.000000000",
          "2022-12-29T00:00:00.000000000",
          "2022-12-30T00:00:00.000000000",
          "2023-01-03T00:00:00.000000000",
          "2023-01-04T00:00:00.000000000",
          "2023-01-05T00:00:00.000000000",
          "2023-01-06T00:00:00.000000000",
          "2023-01-09T00:00:00.000000000",
          "2023-01-10T00:00:00.000000000",
          "2023-01-11T00:00:00.000000000",
          "2023-01-12T00:00:00.000000000",
          "2023-01-13T00:00:00.000000000",
          "2023-01-17T00:00:00.000000000",
          "2023-01-18T00:00:00.000000000",
          "2023-01-19T00:00:00.000000000",
          "2023-01-20T00:00:00.000000000",
          "2023-01-23T00:00:00.000000000",
          "2023-01-24T00:00:00.000000000",
          "2023-01-25T00:00:00.000000000",
          "2023-01-26T00:00:00.000000000",
          "2023-01-27T00:00:00.000000000",
          "2023-01-30T00:00:00.000000000",
          "2023-01-31T00:00:00.000000000",
          "2023-02-01T00:00:00.000000000",
          "2023-02-02T00:00:00.000000000",
          "2023-02-03T00:00:00.000000000",
          "2023-02-06T00:00:00.000000000",
          "2023-02-07T00:00:00.000000000",
          "2023-02-08T00:00:00.000000000",
          "2023-02-09T00:00:00.000000000",
          "2023-02-10T00:00:00.000000000",
          "2023-02-13T00:00:00.000000000",
          "2023-02-14T00:00:00.000000000",
          "2023-02-15T00:00:00.000000000",
          "2023-02-16T00:00:00.000000000",
          "2023-02-17T00:00:00.000000000",
          "2023-02-21T00:00:00.000000000",
          "2023-02-22T00:00:00.000000000",
          "2023-02-23T00:00:00.000000000",
          "2023-02-24T00:00:00.000000000",
          "2023-02-27T00:00:00.000000000",
          "2023-02-28T00:00:00.000000000",
          "2023-03-01T00:00:00.000000000",
          "2023-03-02T00:00:00.000000000",
          "2023-03-03T00:00:00.000000000",
          "2023-03-06T00:00:00.000000000",
          "2023-03-07T00:00:00.000000000",
          "2023-03-08T00:00:00.000000000",
          "2023-03-09T00:00:00.000000000",
          "2023-03-10T00:00:00.000000000",
          "2023-03-13T00:00:00.000000000",
          "2023-03-14T00:00:00.000000000",
          "2023-03-15T00:00:00.000000000",
          "2023-03-16T00:00:00.000000000",
          "2023-03-17T00:00:00.000000000",
          "2023-03-20T00:00:00.000000000",
          "2023-03-21T00:00:00.000000000",
          "2023-03-22T00:00:00.000000000",
          "2023-03-23T00:00:00.000000000",
          "2023-03-24T00:00:00.000000000",
          "2023-03-27T00:00:00.000000000",
          "2023-03-28T00:00:00.000000000",
          "2023-03-29T00:00:00.000000000",
          "2023-03-30T00:00:00.000000000",
          "2023-03-31T00:00:00.000000000",
          "2023-04-03T00:00:00.000000000",
          "2023-04-04T00:00:00.000000000",
          "2023-04-05T00:00:00.000000000",
          "2023-04-06T00:00:00.000000000",
          "2023-04-10T00:00:00.000000000",
          "2023-04-11T00:00:00.000000000",
          "2023-04-12T00:00:00.000000000",
          "2023-04-13T00:00:00.000000000",
          "2023-04-14T00:00:00.000000000",
          "2023-04-17T00:00:00.000000000",
          "2023-04-18T00:00:00.000000000",
          "2023-04-19T00:00:00.000000000",
          "2023-04-20T00:00:00.000000000",
          "2023-04-21T00:00:00.000000000",
          "2023-04-24T00:00:00.000000000",
          "2023-04-25T00:00:00.000000000",
          "2023-04-26T00:00:00.000000000",
          "2023-04-27T00:00:00.000000000",
          "2023-04-28T00:00:00.000000000",
          "2023-05-01T00:00:00.000000000",
          "2023-05-02T00:00:00.000000000",
          "2023-05-03T00:00:00.000000000",
          "2023-05-04T00:00:00.000000000",
          "2023-05-05T00:00:00.000000000",
          "2023-05-08T00:00:00.000000000",
          "2023-05-09T00:00:00.000000000",
          "2023-05-10T00:00:00.000000000",
          "2023-05-11T00:00:00.000000000",
          "2023-05-12T00:00:00.000000000",
          "2023-05-15T00:00:00.000000000",
          "2023-05-16T00:00:00.000000000",
          "2023-05-17T00:00:00.000000000",
          "2023-05-18T00:00:00.000000000",
          "2023-05-19T00:00:00.000000000",
          "2023-05-22T00:00:00.000000000",
          "2023-05-23T00:00:00.000000000",
          "2023-05-24T00:00:00.000000000",
          "2023-05-25T00:00:00.000000000",
          "2023-05-26T00:00:00.000000000",
          "2023-05-30T00:00:00.000000000",
          "2023-05-31T00:00:00.000000000",
          "2023-06-01T00:00:00.000000000",
          "2023-06-02T00:00:00.000000000",
          "2023-06-05T00:00:00.000000000",
          "2023-06-06T00:00:00.000000000",
          "2023-06-07T00:00:00.000000000",
          "2023-06-08T00:00:00.000000000",
          "2023-06-09T00:00:00.000000000",
          "2023-06-12T00:00:00.000000000",
          "2023-06-13T00:00:00.000000000",
          "2023-06-14T00:00:00.000000000",
          "2023-06-15T00:00:00.000000000",
          "2023-06-16T00:00:00.000000000",
          "2023-06-20T00:00:00.000000000",
          "2023-06-21T00:00:00.000000000",
          "2023-06-22T00:00:00.000000000",
          "2023-06-23T00:00:00.000000000",
          "2023-06-26T00:00:00.000000000",
          "2023-06-27T00:00:00.000000000",
          "2023-06-28T00:00:00.000000000",
          "2023-06-29T00:00:00.000000000",
          "2023-06-30T00:00:00.000000000",
          "2023-07-03T00:00:00.000000000",
          "2023-07-05T00:00:00.000000000",
          "2023-07-06T00:00:00.000000000",
          "2023-07-07T00:00:00.000000000",
          "2023-07-10T00:00:00.000000000",
          "2023-07-11T00:00:00.000000000",
          "2023-07-12T00:00:00.000000000",
          "2023-07-13T00:00:00.000000000",
          "2023-07-14T00:00:00.000000000",
          "2023-07-17T00:00:00.000000000",
          "2023-07-18T00:00:00.000000000",
          "2023-07-19T00:00:00.000000000",
          "2023-07-20T00:00:00.000000000",
          "2023-07-21T00:00:00.000000000",
          "2023-07-24T00:00:00.000000000",
          "2023-07-25T00:00:00.000000000",
          "2023-07-26T00:00:00.000000000",
          "2023-07-27T00:00:00.000000000",
          "2023-07-28T00:00:00.000000000",
          "2023-07-31T00:00:00.000000000",
          "2023-08-01T00:00:00.000000000",
          "2023-08-02T00:00:00.000000000",
          "2023-08-03T00:00:00.000000000",
          "2023-08-04T00:00:00.000000000",
          "2023-08-07T00:00:00.000000000",
          "2023-08-08T00:00:00.000000000",
          "2023-08-09T00:00:00.000000000",
          "2023-08-10T00:00:00.000000000",
          "2023-08-11T00:00:00.000000000",
          "2023-08-14T00:00:00.000000000",
          "2023-08-15T00:00:00.000000000",
          "2023-08-16T00:00:00.000000000",
          "2023-08-17T00:00:00.000000000",
          "2023-08-18T00:00:00.000000000",
          "2023-08-21T00:00:00.000000000",
          "2023-08-22T00:00:00.000000000",
          "2023-08-23T00:00:00.000000000",
          "2023-08-24T00:00:00.000000000",
          "2023-08-25T00:00:00.000000000",
          "2023-08-28T00:00:00.000000000",
          "2023-08-29T00:00:00.000000000",
          "2023-08-30T00:00:00.000000000",
          "2023-08-31T00:00:00.000000000",
          "2023-09-01T00:00:00.000000000",
          "2023-09-05T00:00:00.000000000",
          "2023-09-06T00:00:00.000000000",
          "2023-09-07T00:00:00.000000000",
          "2023-09-08T00:00:00.000000000",
          "2023-09-11T00:00:00.000000000",
          "2023-09-12T00:00:00.000000000",
          "2023-09-13T00:00:00.000000000",
          "2023-09-14T00:00:00.000000000",
          "2023-09-15T00:00:00.000000000",
          "2023-09-18T00:00:00.000000000",
          "2023-09-19T00:00:00.000000000",
          "2023-09-20T00:00:00.000000000",
          "2023-09-21T00:00:00.000000000",
          "2023-09-22T00:00:00.000000000",
          "2023-09-25T00:00:00.000000000",
          "2023-09-26T00:00:00.000000000",
          "2023-09-27T00:00:00.000000000",
          "2023-09-28T00:00:00.000000000",
          "2023-09-29T00:00:00.000000000",
          "2023-10-02T00:00:00.000000000",
          "2023-10-03T00:00:00.000000000",
          "2023-10-04T00:00:00.000000000",
          "2023-10-05T00:00:00.000000000",
          "2023-10-06T00:00:00.000000000",
          "2023-10-09T00:00:00.000000000",
          "2023-10-10T00:00:00.000000000",
          "2023-10-11T00:00:00.000000000",
          "2023-10-12T00:00:00.000000000",
          "2023-10-13T00:00:00.000000000",
          "2023-10-16T00:00:00.000000000",
          "2023-10-17T00:00:00.000000000",
          "2023-10-18T00:00:00.000000000",
          "2023-10-19T00:00:00.000000000",
          "2023-10-20T00:00:00.000000000",
          "2023-10-23T00:00:00.000000000",
          "2023-10-24T00:00:00.000000000",
          "2023-10-25T00:00:00.000000000",
          "2023-10-26T00:00:00.000000000",
          "2023-10-27T00:00:00.000000000",
          "2023-10-30T00:00:00.000000000",
          "2023-10-31T00:00:00.000000000",
          "2023-11-01T00:00:00.000000000",
          "2023-11-02T00:00:00.000000000",
          "2023-11-03T00:00:00.000000000",
          "2023-11-06T00:00:00.000000000",
          "2023-11-07T00:00:00.000000000",
          "2023-11-08T00:00:00.000000000",
          "2023-11-09T00:00:00.000000000",
          "2023-11-10T00:00:00.000000000",
          "2023-11-13T00:00:00.000000000",
          "2023-11-14T00:00:00.000000000",
          "2023-11-15T00:00:00.000000000",
          "2023-11-16T00:00:00.000000000",
          "2023-11-17T00:00:00.000000000",
          "2023-11-20T00:00:00.000000000",
          "2023-11-21T00:00:00.000000000",
          "2023-11-22T00:00:00.000000000",
          "2023-11-24T00:00:00.000000000",
          "2023-11-27T00:00:00.000000000",
          "2023-11-28T00:00:00.000000000",
          "2023-11-29T00:00:00.000000000",
          "2023-11-30T00:00:00.000000000",
          "2023-12-01T00:00:00.000000000",
          "2023-12-04T00:00:00.000000000",
          "2023-12-05T00:00:00.000000000",
          "2023-12-06T00:00:00.000000000",
          "2023-12-07T00:00:00.000000000",
          "2023-12-08T00:00:00.000000000",
          "2023-12-11T00:00:00.000000000",
          "2023-12-12T00:00:00.000000000",
          "2023-12-13T00:00:00.000000000",
          "2023-12-14T00:00:00.000000000",
          "2023-12-15T00:00:00.000000000",
          "2023-12-18T00:00:00.000000000",
          "2023-12-19T00:00:00.000000000",
          "2023-12-20T00:00:00.000000000",
          "2023-12-21T00:00:00.000000000",
          "2023-12-22T00:00:00.000000000",
          "2023-12-26T00:00:00.000000000",
          "2023-12-27T00:00:00.000000000",
          "2023-12-28T00:00:00.000000000",
          "2023-12-29T00:00:00.000000000",
          "2024-01-02T00:00:00.000000000",
          "2024-01-03T00:00:00.000000000",
          "2024-01-04T00:00:00.000000000",
          "2024-01-05T00:00:00.000000000",
          "2024-01-08T00:00:00.000000000",
          "2024-01-09T00:00:00.000000000",
          "2024-01-10T00:00:00.000000000",
          "2024-01-11T00:00:00.000000000",
          "2024-01-12T00:00:00.000000000",
          "2024-01-16T00:00:00.000000000",
          "2024-01-17T00:00:00.000000000",
          "2024-01-18T00:00:00.000000000",
          "2024-01-19T00:00:00.000000000",
          "2024-01-22T00:00:00.000000000",
          "2024-01-23T00:00:00.000000000",
          "2024-01-24T00:00:00.000000000",
          "2024-01-25T00:00:00.000000000",
          "2024-01-26T00:00:00.000000000",
          "2024-01-29T00:00:00.000000000",
          "2024-01-30T00:00:00.000000000",
          "2024-01-31T00:00:00.000000000",
          "2024-02-01T00:00:00.000000000",
          "2024-02-02T00:00:00.000000000",
          "2024-02-05T00:00:00.000000000",
          "2024-02-06T00:00:00.000000000",
          "2024-02-07T00:00:00.000000000",
          "2024-02-08T00:00:00.000000000",
          "2024-02-09T00:00:00.000000000",
          "2024-02-12T00:00:00.000000000",
          "2024-02-13T00:00:00.000000000",
          "2024-02-14T00:00:00.000000000",
          "2024-02-15T00:00:00.000000000",
          "2024-02-16T00:00:00.000000000",
          "2024-02-20T00:00:00.000000000",
          "2024-02-21T00:00:00.000000000",
          "2024-02-22T00:00:00.000000000",
          "2024-02-23T00:00:00.000000000",
          "2024-02-26T00:00:00.000000000",
          "2024-02-27T00:00:00.000000000",
          "2024-02-28T00:00:00.000000000",
          "2024-02-29T00:00:00.000000000",
          "2024-03-01T00:00:00.000000000",
          "2024-03-04T00:00:00.000000000",
          "2024-03-05T00:00:00.000000000",
          "2024-03-06T00:00:00.000000000",
          "2024-03-07T00:00:00.000000000",
          "2024-03-08T00:00:00.000000000",
          "2024-03-11T00:00:00.000000000",
          "2024-03-12T00:00:00.000000000",
          "2024-03-13T00:00:00.000000000",
          "2024-03-14T00:00:00.000000000",
          "2024-03-15T00:00:00.000000000",
          "2024-03-18T00:00:00.000000000",
          "2024-03-19T00:00:00.000000000",
          "2024-03-20T00:00:00.000000000",
          "2024-03-21T00:00:00.000000000",
          "2024-03-22T00:00:00.000000000",
          "2024-03-25T00:00:00.000000000",
          "2024-03-26T00:00:00.000000000",
          "2024-03-27T00:00:00.000000000",
          "2024-03-28T00:00:00.000000000",
          "2024-04-01T00:00:00.000000000",
          "2024-04-02T00:00:00.000000000",
          "2024-04-03T00:00:00.000000000",
          "2024-04-04T00:00:00.000000000",
          "2024-04-05T00:00:00.000000000",
          "2024-04-08T00:00:00.000000000",
          "2024-04-09T00:00:00.000000000",
          "2024-04-10T00:00:00.000000000",
          "2024-04-11T00:00:00.000000000",
          "2024-04-12T00:00:00.000000000",
          "2024-04-15T00:00:00.000000000",
          "2024-04-16T00:00:00.000000000",
          "2024-04-17T00:00:00.000000000",
          "2024-04-18T00:00:00.000000000",
          "2024-04-19T00:00:00.000000000",
          "2024-04-22T00:00:00.000000000",
          "2024-04-23T00:00:00.000000000",
          "2024-04-24T00:00:00.000000000",
          "2024-04-25T00:00:00.000000000",
          "2024-04-26T00:00:00.000000000",
          "2024-04-29T00:00:00.000000000",
          "2024-04-30T00:00:00.000000000",
          "2024-05-01T00:00:00.000000000",
          "2024-05-02T00:00:00.000000000",
          "2024-05-03T00:00:00.000000000",
          "2024-05-06T00:00:00.000000000",
          "2024-05-07T00:00:00.000000000",
          "2024-05-08T00:00:00.000000000",
          "2024-05-09T00:00:00.000000000",
          "2024-05-10T00:00:00.000000000",
          "2024-05-13T00:00:00.000000000",
          "2024-05-14T00:00:00.000000000",
          "2024-05-15T00:00:00.000000000",
          "2024-05-16T00:00:00.000000000",
          "2024-05-17T00:00:00.000000000",
          "2024-05-20T00:00:00.000000000",
          "2024-05-21T00:00:00.000000000",
          "2024-05-22T00:00:00.000000000",
          "2024-05-23T00:00:00.000000000",
          "2024-05-24T00:00:00.000000000",
          "2024-05-28T00:00:00.000000000",
          "2024-05-29T00:00:00.000000000",
          "2024-05-30T00:00:00.000000000",
          "2024-05-31T00:00:00.000000000",
          "2024-06-03T00:00:00.000000000",
          "2024-06-04T00:00:00.000000000",
          "2024-06-05T00:00:00.000000000",
          "2024-06-06T00:00:00.000000000",
          "2024-06-07T00:00:00.000000000",
          "2024-06-10T00:00:00.000000000",
          "2024-06-11T00:00:00.000000000",
          "2024-06-12T00:00:00.000000000",
          "2024-06-13T00:00:00.000000000",
          "2024-06-14T00:00:00.000000000",
          "2024-06-17T00:00:00.000000000",
          "2024-06-18T00:00:00.000000000",
          "2024-06-20T00:00:00.000000000",
          "2024-06-21T00:00:00.000000000",
          "2024-06-24T00:00:00.000000000",
          "2024-06-25T00:00:00.000000000",
          "2024-06-26T00:00:00.000000000",
          "2024-06-27T00:00:00.000000000",
          "2024-06-28T00:00:00.000000000",
          "2024-07-01T00:00:00.000000000",
          "2024-07-02T00:00:00.000000000",
          "2024-07-03T00:00:00.000000000",
          "2024-07-05T00:00:00.000000000",
          "2024-07-08T00:00:00.000000000",
          "2024-07-09T00:00:00.000000000",
          "2024-07-10T00:00:00.000000000",
          "2024-07-11T00:00:00.000000000",
          "2024-07-12T00:00:00.000000000",
          "2024-07-15T00:00:00.000000000",
          "2024-07-16T00:00:00.000000000",
          "2024-07-17T00:00:00.000000000",
          "2024-07-18T00:00:00.000000000",
          "2024-07-19T00:00:00.000000000",
          "2024-07-22T00:00:00.000000000",
          "2024-07-23T00:00:00.000000000",
          "2024-07-24T00:00:00.000000000",
          "2024-07-25T00:00:00.000000000",
          "2024-07-26T00:00:00.000000000",
          "2024-07-29T00:00:00.000000000",
          "2024-07-30T00:00:00.000000000",
          "2024-07-31T00:00:00.000000000",
          "2024-08-01T00:00:00.000000000",
          "2024-08-02T00:00:00.000000000",
          "2024-08-05T00:00:00.000000000",
          "2024-08-06T00:00:00.000000000",
          "2024-08-07T00:00:00.000000000",
          "2024-08-08T00:00:00.000000000",
          "2024-08-09T00:00:00.000000000",
          "2024-08-12T00:00:00.000000000",
          "2024-08-13T00:00:00.000000000",
          "2024-08-14T00:00:00.000000000",
          "2024-08-15T00:00:00.000000000",
          "2024-08-16T00:00:00.000000000",
          "2024-08-19T00:00:00.000000000",
          "2024-08-20T00:00:00.000000000",
          "2024-08-21T00:00:00.000000000",
          "2024-08-22T00:00:00.000000000",
          "2024-08-23T00:00:00.000000000",
          "2024-08-26T00:00:00.000000000",
          "2024-08-27T00:00:00.000000000",
          "2024-08-28T00:00:00.000000000",
          "2024-08-29T00:00:00.000000000",
          "2024-08-30T00:00:00.000000000",
          "2024-09-03T00:00:00.000000000",
          "2024-09-04T00:00:00.000000000",
          "2024-09-05T00:00:00.000000000",
          "2024-09-06T00:00:00.000000000",
          "2024-09-09T00:00:00.000000000",
          "2024-09-10T00:00:00.000000000",
          "2024-09-11T00:00:00.000000000",
          "2024-09-12T00:00:00.000000000",
          "2024-09-13T00:00:00.000000000",
          "2024-09-16T00:00:00.000000000",
          "2024-09-17T00:00:00.000000000",
          "2024-09-18T00:00:00.000000000",
          "2024-09-19T00:00:00.000000000",
          "2024-09-20T00:00:00.000000000",
          "2024-09-23T00:00:00.000000000",
          "2024-09-24T00:00:00.000000000",
          "2024-09-25T00:00:00.000000000",
          "2024-09-26T00:00:00.000000000",
          "2024-09-27T00:00:00.000000000",
          "2024-09-30T00:00:00.000000000",
          "2024-10-01T00:00:00.000000000",
          "2024-10-02T00:00:00.000000000",
          "2024-10-03T00:00:00.000000000",
          "2024-10-04T00:00:00.000000000",
          "2024-10-07T00:00:00.000000000",
          "2024-10-08T00:00:00.000000000",
          "2024-10-09T00:00:00.000000000",
          "2024-10-10T00:00:00.000000000",
          "2024-10-11T00:00:00.000000000",
          "2024-10-14T00:00:00.000000000",
          "2024-10-15T00:00:00.000000000",
          "2024-10-16T00:00:00.000000000",
          "2024-10-17T00:00:00.000000000",
          "2024-10-18T00:00:00.000000000",
          "2024-10-21T00:00:00.000000000",
          "2024-10-22T00:00:00.000000000",
          "2024-10-23T00:00:00.000000000",
          "2024-10-24T00:00:00.000000000",
          "2024-10-25T00:00:00.000000000",
          "2024-10-28T00:00:00.000000000",
          "2024-10-29T00:00:00.000000000",
          "2024-10-30T00:00:00.000000000",
          "2024-10-31T00:00:00.000000000",
          "2024-11-01T00:00:00.000000000",
          "2024-11-04T00:00:00.000000000",
          "2024-11-05T00:00:00.000000000",
          "2024-11-06T00:00:00.000000000",
          "2024-11-07T00:00:00.000000000",
          "2024-11-08T00:00:00.000000000",
          "2024-11-11T00:00:00.000000000",
          "2024-11-12T00:00:00.000000000",
          "2024-11-13T00:00:00.000000000",
          "2024-11-14T00:00:00.000000000",
          "2024-11-15T00:00:00.000000000",
          "2024-11-18T00:00:00.000000000",
          "2024-11-19T00:00:00.000000000",
          "2024-11-20T00:00:00.000000000",
          "2024-11-21T00:00:00.000000000",
          "2024-11-22T00:00:00.000000000",
          "2024-11-25T00:00:00.000000000",
          "2024-11-26T00:00:00.000000000",
          "2024-11-27T00:00:00.000000000",
          "2024-11-29T00:00:00.000000000",
          "2024-12-02T00:00:00.000000000",
          "2024-12-03T00:00:00.000000000",
          "2024-12-04T00:00:00.000000000",
          "2024-12-05T00:00:00.000000000",
          "2024-12-06T00:00:00.000000000",
          "2024-12-09T00:00:00.000000000",
          "2024-12-10T00:00:00.000000000",
          "2024-12-11T00:00:00.000000000",
          "2024-12-12T00:00:00.000000000",
          "2024-12-13T00:00:00.000000000",
          "2024-12-16T00:00:00.000000000",
          "2024-12-17T00:00:00.000000000",
          "2024-12-18T00:00:00.000000000",
          "2024-12-19T00:00:00.000000000",
          "2024-12-20T00:00:00.000000000",
          "2024-12-23T00:00:00.000000000",
          "2024-12-24T00:00:00.000000000",
          "2024-12-26T00:00:00.000000000",
          "2024-12-27T00:00:00.000000000",
          "2024-12-30T00:00:00.000000000",
          "2024-12-31T00:00:00.000000000",
          "2025-01-02T00:00:00.000000000",
          "2025-01-03T00:00:00.000000000",
          "2025-01-06T00:00:00.000000000",
          "2025-01-07T00:00:00.000000000",
          "2025-01-08T00:00:00.000000000",
          "2025-01-10T00:00:00.000000000",
          "2025-01-13T00:00:00.000000000",
          "2025-01-14T00:00:00.000000000",
          "2025-01-15T00:00:00.000000000",
          "2025-01-16T00:00:00.000000000",
          "2025-01-17T00:00:00.000000000",
          "2025-01-21T00:00:00.000000000",
          "2025-01-22T00:00:00.000000000",
          "2025-01-23T00:00:00.000000000",
          "2025-01-24T00:00:00.000000000",
          "2025-01-27T00:00:00.000000000",
          "2025-01-28T00:00:00.000000000",
          "2025-01-29T00:00:00.000000000",
          "2025-01-30T00:00:00.000000000",
          "2025-01-31T00:00:00.000000000",
          "2025-02-03T00:00:00.000000000",
          "2025-02-04T00:00:00.000000000",
          "2025-02-05T00:00:00.000000000",
          "2025-02-06T00:00:00.000000000",
          "2025-02-07T00:00:00.000000000",
          "2025-02-10T00:00:00.000000000",
          "2025-02-11T00:00:00.000000000",
          "2025-02-12T00:00:00.000000000",
          "2025-02-13T00:00:00.000000000",
          "2025-02-14T00:00:00.000000000",
          "2025-02-18T00:00:00.000000000",
          "2025-02-19T00:00:00.000000000",
          "2025-02-20T00:00:00.000000000",
          "2025-02-21T00:00:00.000000000",
          "2025-02-24T00:00:00.000000000",
          "2025-02-25T00:00:00.000000000",
          "2025-02-26T00:00:00.000000000",
          "2025-02-27T00:00:00.000000000",
          "2025-02-28T00:00:00.000000000",
          "2025-03-03T00:00:00.000000000",
          "2025-03-04T00:00:00.000000000",
          "2025-03-05T00:00:00.000000000",
          "2025-03-06T00:00:00.000000000",
          "2025-03-07T00:00:00.000000000",
          "2025-03-10T00:00:00.000000000",
          "2025-03-11T00:00:00.000000000",
          "2025-03-12T00:00:00.000000000",
          "2025-03-13T00:00:00.000000000",
          "2025-03-14T00:00:00.000000000",
          "2025-03-17T00:00:00.000000000",
          "2025-03-18T00:00:00.000000000",
          "2025-03-19T00:00:00.000000000",
          "2025-03-20T00:00:00.000000000",
          "2025-03-21T00:00:00.000000000",
          "2025-03-24T00:00:00.000000000",
          "2025-03-25T00:00:00.000000000",
          "2025-03-26T00:00:00.000000000",
          "2025-03-27T00:00:00.000000000",
          "2025-03-28T00:00:00.000000000",
          "2025-03-31T00:00:00.000000000",
          "2025-04-01T00:00:00.000000000",
          "2025-04-02T00:00:00.000000000",
          "2025-04-03T00:00:00.000000000",
          "2025-04-04T00:00:00.000000000",
          "2025-04-07T00:00:00.000000000",
          "2025-04-08T00:00:00.000000000",
          "2025-04-09T00:00:00.000000000",
          "2025-04-10T00:00:00.000000000",
          "2025-04-11T00:00:00.000000000",
          "2025-04-14T00:00:00.000000000",
          "2025-04-15T00:00:00.000000000",
          "2025-04-16T00:00:00.000000000",
          "2025-04-17T00:00:00.000000000",
          "2025-04-21T00:00:00.000000000",
          "2025-04-22T00:00:00.000000000",
          "2025-04-23T00:00:00.000000000",
          "2025-04-24T00:00:00.000000000",
          "2025-04-25T00:00:00.000000000",
          "2025-04-28T00:00:00.000000000",
          "2025-04-29T00:00:00.000000000",
          "2025-04-30T00:00:00.000000000",
          "2025-05-01T00:00:00.000000000",
          "2025-05-02T00:00:00.000000000",
          "2025-05-05T00:00:00.000000000",
          "2025-05-06T00:00:00.000000000",
          "2025-05-07T00:00:00.000000000",
          "2025-05-08T00:00:00.000000000",
          "2025-05-09T00:00:00.000000000",
          "2025-05-12T00:00:00.000000000",
          "2025-05-13T00:00:00.000000000",
          "2025-05-14T00:00:00.000000000",
          "2025-05-15T00:00:00.000000000",
          "2025-05-16T00:00:00.000000000",
          "2025-05-19T00:00:00.000000000",
          "2025-05-20T00:00:00.000000000",
          "2025-05-21T00:00:00.000000000",
          "2025-05-22T00:00:00.000000000",
          "2025-05-23T00:00:00.000000000",
          "2025-05-27T00:00:00.000000000",
          "2025-05-28T00:00:00.000000000",
          "2025-05-29T00:00:00.000000000",
          "2025-05-30T00:00:00.000000000",
          "2025-06-02T00:00:00.000000000",
          "2025-06-03T00:00:00.000000000",
          "2025-06-04T00:00:00.000000000",
          "2025-06-05T00:00:00.000000000",
          "2025-06-06T00:00:00.000000000",
          "2025-06-09T00:00:00.000000000",
          "2025-06-10T00:00:00.000000000",
          "2025-06-11T00:00:00.000000000",
          "2025-06-12T00:00:00.000000000",
          "2025-06-13T00:00:00.000000000",
          "2025-06-16T00:00:00.000000000",
          "2025-06-17T00:00:00.000000000",
          "2025-06-18T00:00:00.000000000",
          "2025-06-20T00:00:00.000000000",
          "2025-06-23T00:00:00.000000000",
          "2025-06-24T00:00:00.000000000",
          "2025-06-25T00:00:00.000000000",
          "2025-06-26T00:00:00.000000000",
          "2025-06-27T00:00:00.000000000",
          "2025-06-30T00:00:00.000000000",
          "2025-07-01T00:00:00.000000000",
          "2025-07-02T00:00:00.000000000",
          "2025-07-03T00:00:00.000000000",
          "2025-07-07T00:00:00.000000000",
          "2025-07-08T00:00:00.000000000",
          "2025-07-09T00:00:00.000000000",
          "2025-07-10T00:00:00.000000000",
          "2025-07-11T00:00:00.000000000",
          "2025-07-14T00:00:00.000000000",
          "2025-07-15T00:00:00.000000000",
          "2025-07-16T00:00:00.000000000",
          "2025-07-17T00:00:00.000000000",
          "2025-07-18T00:00:00.000000000",
          "2025-07-21T00:00:00.000000000",
          "2025-07-22T00:00:00.000000000",
          "2025-07-23T00:00:00.000000000",
          "2025-07-24T00:00:00.000000000",
          "2025-07-25T00:00:00.000000000",
          "2025-07-28T00:00:00.000000000",
          "2025-07-29T00:00:00.000000000",
          "2025-07-30T00:00:00.000000000",
          "2025-07-31T00:00:00.000000000",
          "2025-08-01T00:00:00.000000000",
          "2025-08-04T00:00:00.000000000",
          "2025-08-05T00:00:00.000000000",
          "2025-08-06T00:00:00.000000000",
          "2025-08-07T00:00:00.000000000",
          "2025-08-08T00:00:00.000000000",
          "2025-08-11T00:00:00.000000000",
          "2025-08-12T00:00:00.000000000",
          "2025-08-13T00:00:00.000000000",
          "2025-08-14T00:00:00.000000000",
          "2025-08-15T00:00:00.000000000",
          "2025-08-18T00:00:00.000000000",
          "2025-08-19T00:00:00.000000000",
          "2025-08-20T00:00:00.000000000",
          "2025-08-21T00:00:00.000000000",
          "2025-08-22T00:00:00.000000000",
          "2025-08-25T00:00:00.000000000",
          "2025-08-26T00:00:00.000000000",
          "2025-08-27T00:00:00.000000000",
          "2025-08-28T00:00:00.000000000",
          "2025-08-29T00:00:00.000000000",
          "2025-09-02T00:00:00.000000000",
          "2025-09-03T00:00:00.000000000",
          "2025-09-04T00:00:00.000000000",
          "2025-09-05T00:00:00.000000000",
          "2025-09-08T00:00:00.000000000",
          "2025-09-09T00:00:00.000000000",
          "2025-09-10T00:00:00.000000000",
          "2025-09-11T00:00:00.000000000",
          "2025-09-12T00:00:00.000000000",
          "2025-09-15T00:00:00.000000000",
          "2025-09-16T00:00:00.000000000",
          "2025-09-17T00:00:00.000000000",
          "2025-09-18T00:00:00.000000000",
          "2025-09-19T00:00:00.000000000",
          "2025-09-22T00:00:00.000000000",
          "2025-09-23T00:00:00.000000000",
          "2025-09-24T00:00:00.000000000",
          "2025-09-25T00:00:00.000000000",
          "2025-09-26T00:00:00.000000000",
          "2025-09-29T00:00:00.000000000"
         ],
         "xaxis": "x2",
         "y": {
          "bdata": "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",
          "dtype": "f8"
         },
         "yaxis": "y2"
        },
        {
         "line": {
          "color": "blue"
         },
         "name": "MACD",
         "type": "scatter",
         "x": [
          "2022-12-08T00:00:00.000000000",
          "2022-12-09T00:00:00.000000000",
          "2022-12-12T00:00:00.000000000",
          "2022-12-13T00:00:00.000000000",
          "2022-12-14T00:00:00.000000000",
          "2022-12-15T00:00:00.000000000",
          "2022-12-16T00:00:00.000000000",
          "2022-12-19T00:00:00.000000000",
          "2022-12-20T00:00:00.000000000",
          "2022-12-21T00:00:00.000000000",
          "2022-12-22T00:00:00.000000000",
          "2022-12-23T00:00:00.000000000",
          "2022-12-27T00:00:00.000000000",
          "2022-12-28T00:00:00.000000000",
          "2022-12-29T00:00:00.000000000",
          "2022-12-30T00:00:00.000000000",
          "2023-01-03T00:00:00.000000000",
          "2023-01-04T00:00:00.000000000",
          "2023-01-05T00:00:00.000000000",
          "2023-01-06T00:00:00.000000000",
          "2023-01-09T00:00:00.000000000",
          "2023-01-10T00:00:00.000000000",
          "2023-01-11T00:00:00.000000000",
          "2023-01-12T00:00:00.000000000",
          "2023-01-13T00:00:00.000000000",
          "2023-01-17T00:00:00.000000000",
          "2023-01-18T00:00:00.000000000",
          "2023-01-19T00:00:00.000000000",
          "2023-01-20T00:00:00.000000000",
          "2023-01-23T00:00:00.000000000",
          "2023-01-24T00:00:00.000000000",
          "2023-01-25T00:00:00.000000000",
          "2023-01-26T00:00:00.000000000",
          "2023-01-27T00:00:00.000000000",
          "2023-01-30T00:00:00.000000000",
          "2023-01-31T00:00:00.000000000",
          "2023-02-01T00:00:00.000000000",
          "2023-02-02T00:00:00.000000000",
          "2023-02-03T00:00:00.000000000",
          "2023-02-06T00:00:00.000000000",
          "2023-02-07T00:00:00.000000000",
          "2023-02-08T00:00:00.000000000",
          "2023-02-09T00:00:00.000000000",
          "2023-02-10T00:00:00.000000000",
          "2023-02-13T00:00:00.000000000",
          "2023-02-14T00:00:00.000000000",
          "2023-02-15T00:00:00.000000000",
          "2023-02-16T00:00:00.000000000",
          "2023-02-17T00:00:00.000000000",
          "2023-02-21T00:00:00.000000000",
          "2023-02-22T00:00:00.000000000",
          "2023-02-23T00:00:00.000000000",
          "2023-02-24T00:00:00.000000000",
          "2023-02-27T00:00:00.000000000",
          "2023-02-28T00:00:00.000000000",
          "2023-03-01T00:00:00.000000000",
          "2023-03-02T00:00:00.000000000",
          "2023-03-03T00:00:00.000000000",
          "2023-03-06T00:00:00.000000000",
          "2023-03-07T00:00:00.000000000",
          "2023-03-08T00:00:00.000000000",
          "2023-03-09T00:00:00.000000000",
          "2023-03-10T00:00:00.000000000",
          "2023-03-13T00:00:00.000000000",
          "2023-03-14T00:00:00.000000000",
          "2023-03-15T00:00:00.000000000",
          "2023-03-16T00:00:00.000000000",
          "2023-03-17T00:00:00.000000000",
          "2023-03-20T00:00:00.000000000",
          "2023-03-21T00:00:00.000000000",
          "2023-03-22T00:00:00.000000000",
          "2023-03-23T00:00:00.000000000",
          "2023-03-24T00:00:00.000000000",
          "2023-03-27T00:00:00.000000000",
          "2023-03-28T00:00:00.000000000",
          "2023-03-29T00:00:00.000000000",
          "2023-03-30T00:00:00.000000000",
          "2023-03-31T00:00:00.000000000",
          "2023-04-03T00:00:00.000000000",
          "2023-04-04T00:00:00.000000000",
          "2023-04-05T00:00:00.000000000",
          "2023-04-06T00:00:00.000000000",
          "2023-04-10T00:00:00.000000000",
          "2023-04-11T00:00:00.000000000",
          "2023-04-12T00:00:00.000000000",
          "2023-04-13T00:00:00.000000000",
          "2023-04-14T00:00:00.000000000",
          "2023-04-17T00:00:00.000000000",
          "2023-04-18T00:00:00.000000000",
          "2023-04-19T00:00:00.000000000",
          "2023-04-20T00:00:00.000000000",
          "2023-04-21T00:00:00.000000000",
          "2023-04-24T00:00:00.000000000",
          "2023-04-25T00:00:00.000000000",
          "2023-04-26T00:00:00.000000000",
          "2023-04-27T00:00:00.000000000",
          "2023-04-28T00:00:00.000000000",
          "2023-05-01T00:00:00.000000000",
          "2023-05-02T00:00:00.000000000",
          "2023-05-03T00:00:00.000000000",
          "2023-05-04T00:00:00.000000000",
          "2023-05-05T00:00:00.000000000",
          "2023-05-08T00:00:00.000000000",
          "2023-05-09T00:00:00.000000000",
          "2023-05-10T00:00:00.000000000",
          "2023-05-11T00:00:00.000000000",
          "2023-05-12T00:00:00.000000000",
          "2023-05-15T00:00:00.000000000",
          "2023-05-16T00:00:00.000000000",
          "2023-05-17T00:00:00.000000000",
          "2023-05-18T00:00:00.000000000",
          "2023-05-19T00:00:00.000000000",
          "2023-05-22T00:00:00.000000000",
          "2023-05-23T00:00:00.000000000",
          "2023-05-24T00:00:00.000000000",
          "2023-05-25T00:00:00.000000000",
          "2023-05-26T00:00:00.000000000",
          "2023-05-30T00:00:00.000000000",
          "2023-05-31T00:00:00.000000000",
          "2023-06-01T00:00:00.000000000",
          "2023-06-02T00:00:00.000000000",
          "2023-06-05T00:00:00.000000000",
          "2023-06-06T00:00:00.000000000",
          "2023-06-07T00:00:00.000000000",
          "2023-06-08T00:00:00.000000000",
          "2023-06-09T00:00:00.000000000",
          "2023-06-12T00:00:00.000000000",
          "2023-06-13T00:00:00.000000000",
          "2023-06-14T00:00:00.000000000",
          "2023-06-15T00:00:00.000000000",
          "2023-06-16T00:00:00.000000000",
          "2023-06-20T00:00:00.000000000",
          "2023-06-21T00:00:00.000000000",
          "2023-06-22T00:00:00.000000000",
          "2023-06-23T00:00:00.000000000",
          "2023-06-26T00:00:00.000000000",
          "2023-06-27T00:00:00.000000000",
          "2023-06-28T00:00:00.000000000",
          "2023-06-29T00:00:00.000000000",
          "2023-06-30T00:00:00.000000000",
          "2023-07-03T00:00:00.000000000",
          "2023-07-05T00:00:00.000000000",
          "2023-07-06T00:00:00.000000000",
          "2023-07-07T00:00:00.000000000",
          "2023-07-10T00:00:00.000000000",
          "2023-07-11T00:00:00.000000000",
          "2023-07-12T00:00:00.000000000",
          "2023-07-13T00:00:00.000000000",
          "2023-07-14T00:00:00.000000000",
          "2023-07-17T00:00:00.000000000",
          "2023-07-18T00:00:00.000000000",
          "2023-07-19T00:00:00.000000000",
          "2023-07-20T00:00:00.000000000",
          "2023-07-21T00:00:00.000000000",
          "2023-07-24T00:00:00.000000000",
          "2023-07-25T00:00:00.000000000",
          "2023-07-26T00:00:00.000000000",
          "2023-07-27T00:00:00.000000000",
          "2023-07-28T00:00:00.000000000",
          "2023-07-31T00:00:00.000000000",
          "2023-08-01T00:00:00.000000000",
          "2023-08-02T00:00:00.000000000",
          "2023-08-03T00:00:00.000000000",
          "2023-08-04T00:00:00.000000000",
          "2023-08-07T00:00:00.000000000",
          "2023-08-08T00:00:00.000000000",
          "2023-08-09T00:00:00.000000000",
          "2023-08-10T00:00:00.000000000",
          "2023-08-11T00:00:00.000000000",
          "2023-08-14T00:00:00.000000000",
          "2023-08-15T00:00:00.000000000",
          "2023-08-16T00:00:00.000000000",
          "2023-08-17T00:00:00.000000000",
          "2023-08-18T00:00:00.000000000",
          "2023-08-21T00:00:00.000000000",
          "2023-08-22T00:00:00.000000000",
          "2023-08-23T00:00:00.000000000",
          "2023-08-24T00:00:00.000000000",
          "2023-08-25T00:00:00.000000000",
          "2023-08-28T00:00:00.000000000",
          "2023-08-29T00:00:00.000000000",
          "2023-08-30T00:00:00.000000000",
          "2023-08-31T00:00:00.000000000",
          "2023-09-01T00:00:00.000000000",
          "2023-09-05T00:00:00.000000000",
          "2023-09-06T00:00:00.000000000",
          "2023-09-07T00:00:00.000000000",
          "2023-09-08T00:00:00.000000000",
          "2023-09-11T00:00:00.000000000",
          "2023-09-12T00:00:00.000000000",
          "2023-09-13T00:00:00.000000000",
          "2023-09-14T00:00:00.000000000",
          "2023-09-15T00:00:00.000000000",
          "2023-09-18T00:00:00.000000000",
          "2023-09-19T00:00:00.000000000",
          "2023-09-20T00:00:00.000000000",
          "2023-09-21T00:00:00.000000000",
          "2023-09-22T00:00:00.000000000",
          "2023-09-25T00:00:00.000000000",
          "2023-09-26T00:00:00.000000000",
          "2023-09-27T00:00:00.000000000",
          "2023-09-28T00:00:00.000000000",
          "2023-09-29T00:00:00.000000000",
          "2023-10-02T00:00:00.000000000",
          "2023-10-03T00:00:00.000000000",
          "2023-10-04T00:00:00.000000000",
          "2023-10-05T00:00:00.000000000",
          "2023-10-06T00:00:00.000000000",
          "2023-10-09T00:00:00.000000000",
          "2023-10-10T00:00:00.000000000",
          "2023-10-11T00:00:00.000000000",
          "2023-10-12T00:00:00.000000000",
          "2023-10-13T00:00:00.000000000",
          "2023-10-16T00:00:00.000000000",
          "2023-10-17T00:00:00.000000000",
          "2023-10-18T00:00:00.000000000",
          "2023-10-19T00:00:00.000000000",
          "2023-10-20T00:00:00.000000000",
          "2023-10-23T00:00:00.000000000",
          "2023-10-24T00:00:00.000000000",
          "2023-10-25T00:00:00.000000000",
          "2023-10-26T00:00:00.000000000",
          "2023-10-27T00:00:00.000000000",
          "2023-10-30T00:00:00.000000000",
          "2023-10-31T00:00:00.000000000",
          "2023-11-01T00:00:00.000000000",
          "2023-11-02T00:00:00.000000000",
          "2023-11-03T00:00:00.000000000",
          "2023-11-06T00:00:00.000000000",
          "2023-11-07T00:00:00.000000000",
          "2023-11-08T00:00:00.000000000",
          "2023-11-09T00:00:00.000000000",
          "2023-11-10T00:00:00.000000000",
          "2023-11-13T00:00:00.000000000",
          "2023-11-14T00:00:00.000000000",
          "2023-11-15T00:00:00.000000000",
          "2023-11-16T00:00:00.000000000",
          "2023-11-17T00:00:00.000000000",
          "2023-11-20T00:00:00.000000000",
          "2023-11-21T00:00:00.000000000",
          "2023-11-22T00:00:00.000000000",
          "2023-11-24T00:00:00.000000000",
          "2023-11-27T00:00:00.000000000",
          "2023-11-28T00:00:00.000000000",
          "2023-11-29T00:00:00.000000000",
          "2023-11-30T00:00:00.000000000",
          "2023-12-01T00:00:00.000000000",
          "2023-12-04T00:00:00.000000000",
          "2023-12-05T00:00:00.000000000",
          "2023-12-06T00:00:00.000000000",
          "2023-12-07T00:00:00.000000000",
          "2023-12-08T00:00:00.000000000",
          "2023-12-11T00:00:00.000000000",
          "2023-12-12T00:00:00.000000000",
          "2023-12-13T00:00:00.000000000",
          "2023-12-14T00:00:00.000000000",
          "2023-12-15T00:00:00.000000000",
          "2023-12-18T00:00:00.000000000",
          "2023-12-19T00:00:00.000000000",
          "2023-12-20T00:00:00.000000000",
          "2023-12-21T00:00:00.000000000",
          "2023-12-22T00:00:00.000000000",
          "2023-12-26T00:00:00.000000000",
          "2023-12-27T00:00:00.000000000",
          "2023-12-28T00:00:00.000000000",
          "2023-12-29T00:00:00.000000000",
          "2024-01-02T00:00:00.000000000",
          "2024-01-03T00:00:00.000000000",
          "2024-01-04T00:00:00.000000000",
          "2024-01-05T00:00:00.000000000",
          "2024-01-08T00:00:00.000000000",
          "2024-01-09T00:00:00.000000000",
          "2024-01-10T00:00:00.000000000",
          "2024-01-11T00:00:00.000000000",
          "2024-01-12T00:00:00.000000000",
          "2024-01-16T00:00:00.000000000",
          "2024-01-17T00:00:00.000000000",
          "2024-01-18T00:00:00.000000000",
          "2024-01-19T00:00:00.000000000",
          "2024-01-22T00:00:00.000000000",
          "2024-01-23T00:00:00.000000000",
          "2024-01-24T00:00:00.000000000",
          "2024-01-25T00:00:00.000000000",
          "2024-01-26T00:00:00.000000000",
          "2024-01-29T00:00:00.000000000",
          "2024-01-30T00:00:00.000000000",
          "2024-01-31T00:00:00.000000000",
          "2024-02-01T00:00:00.000000000",
          "2024-02-02T00:00:00.000000000",
          "2024-02-05T00:00:00.000000000",
          "2024-02-06T00:00:00.000000000",
          "2024-02-07T00:00:00.000000000",
          "2024-02-08T00:00:00.000000000",
          "2024-02-09T00:00:00.000000000",
          "2024-02-12T00:00:00.000000000",
          "2024-02-13T00:00:00.000000000",
          "2024-02-14T00:00:00.000000000",
          "2024-02-15T00:00:00.000000000",
          "2024-02-16T00:00:00.000000000",
          "2024-02-20T00:00:00.000000000",
          "2024-02-21T00:00:00.000000000",
          "2024-02-22T00:00:00.000000000",
          "2024-02-23T00:00:00.000000000",
          "2024-02-26T00:00:00.000000000",
          "2024-02-27T00:00:00.000000000",
          "2024-02-28T00:00:00.000000000",
          "2024-02-29T00:00:00.000000000",
          "2024-03-01T00:00:00.000000000",
          "2024-03-04T00:00:00.000000000",
          "2024-03-05T00:00:00.000000000",
          "2024-03-06T00:00:00.000000000",
          "2024-03-07T00:00:00.000000000",
          "2024-03-08T00:00:00.000000000",
          "2024-03-11T00:00:00.000000000",
          "2024-03-12T00:00:00.000000000",
          "2024-03-13T00:00:00.000000000",
          "2024-03-14T00:00:00.000000000",
          "2024-03-15T00:00:00.000000000",
          "2024-03-18T00:00:00.000000000",
          "2024-03-19T00:00:00.000000000",
          "2024-03-20T00:00:00.000000000",
          "2024-03-21T00:00:00.000000000",
          "2024-03-22T00:00:00.000000000",
          "2024-03-25T00:00:00.000000000",
          "2024-03-26T00:00:00.000000000",
          "2024-03-27T00:00:00.000000000",
          "2024-03-28T00:00:00.000000000",
          "2024-04-01T00:00:00.000000000",
          "2024-04-02T00:00:00.000000000",
          "2024-04-03T00:00:00.000000000",
          "2024-04-04T00:00:00.000000000",
          "2024-04-05T00:00:00.000000000",
          "2024-04-08T00:00:00.000000000",
          "2024-04-09T00:00:00.000000000",
          "2024-04-10T00:00:00.000000000",
          "2024-04-11T00:00:00.000000000",
          "2024-04-12T00:00:00.000000000",
          "2024-04-15T00:00:00.000000000",
          "2024-04-16T00:00:00.000000000",
          "2024-04-17T00:00:00.000000000",
          "2024-04-18T00:00:00.000000000",
          "2024-04-19T00:00:00.000000000",
          "2024-04-22T00:00:00.000000000",
          "2024-04-23T00:00:00.000000000",
          "2024-04-24T00:00:00.000000000",
          "2024-04-25T00:00:00.000000000",
          "2024-04-26T00:00:00.000000000",
          "2024-04-29T00:00:00.000000000",
          "2024-04-30T00:00:00.000000000",
          "2024-05-01T00:00:00.000000000",
          "2024-05-02T00:00:00.000000000",
          "2024-05-03T00:00:00.000000000",
          "2024-05-06T00:00:00.000000000",
          "2024-05-07T00:00:00.000000000",
          "2024-05-08T00:00:00.000000000",
          "2024-05-09T00:00:00.000000000",
          "2024-05-10T00:00:00.000000000",
          "2024-05-13T00:00:00.000000000",
          "2024-05-14T00:00:00.000000000",
          "2024-05-15T00:00:00.000000000",
          "2024-05-16T00:00:00.000000000",
          "2024-05-17T00:00:00.000000000",
          "2024-05-20T00:00:00.000000000",
          "2024-05-21T00:00:00.000000000",
          "2024-05-22T00:00:00.000000000",
          "2024-05-23T00:00:00.000000000",
          "2024-05-24T00:00:00.000000000",
          "2024-05-28T00:00:00.000000000",
          "2024-05-29T00:00:00.000000000",
          "2024-05-30T00:00:00.000000000",
          "2024-05-31T00:00:00.000000000",
          "2024-06-03T00:00:00.000000000",
          "2024-06-04T00:00:00.000000000",
          "2024-06-05T00:00:00.000000000",
          "2024-06-06T00:00:00.000000000",
          "2024-06-07T00:00:00.000000000",
          "2024-06-10T00:00:00.000000000",
          "2024-06-11T00:00:00.000000000",
          "2024-06-12T00:00:00.000000000",
          "2024-06-13T00:00:00.000000000",
          "2024-06-14T00:00:00.000000000",
          "2024-06-17T00:00:00.000000000",
          "2024-06-18T00:00:00.000000000",
          "2024-06-20T00:00:00.000000000",
          "2024-06-21T00:00:00.000000000",
          "2024-06-24T00:00:00.000000000",
          "2024-06-25T00:00:00.000000000",
          "2024-06-26T00:00:00.000000000",
          "2024-06-27T00:00:00.000000000",
          "2024-06-28T00:00:00.000000000",
          "2024-07-01T00:00:00.000000000",
          "2024-07-02T00:00:00.000000000",
          "2024-07-03T00:00:00.000000000",
          "2024-07-05T00:00:00.000000000",
          "2024-07-08T00:00:00.000000000",
          "2024-07-09T00:00:00.000000000",
          "2024-07-10T00:00:00.000000000",
          "2024-07-11T00:00:00.000000000",
          "2024-07-12T00:00:00.000000000",
          "2024-07-15T00:00:00.000000000",
          "2024-07-16T00:00:00.000000000",
          "2024-07-17T00:00:00.000000000",
          "2024-07-18T00:00:00.000000000",
          "2024-07-19T00:00:00.000000000",
          "2024-07-22T00:00:00.000000000",
          "2024-07-23T00:00:00.000000000",
          "2024-07-24T00:00:00.000000000",
          "2024-07-25T00:00:00.000000000",
          "2024-07-26T00:00:00.000000000",
          "2024-07-29T00:00:00.000000000",
          "2024-07-30T00:00:00.000000000",
          "2024-07-31T00:00:00.000000000",
          "2024-08-01T00:00:00.000000000",
          "2024-08-02T00:00:00.000000000",
          "2024-08-05T00:00:00.000000000",
          "2024-08-06T00:00:00.000000000",
          "2024-08-07T00:00:00.000000000",
          "2024-08-08T00:00:00.000000000",
          "2024-08-09T00:00:00.000000000",
          "2024-08-12T00:00:00.000000000",
          "2024-08-13T00:00:00.000000000",
          "2024-08-14T00:00:00.000000000",
          "2024-08-15T00:00:00.000000000",
          "2024-08-16T00:00:00.000000000",
          "2024-08-19T00:00:00.000000000",
          "2024-08-20T00:00:00.000000000",
          "2024-08-21T00:00:00.000000000",
          "2024-08-22T00:00:00.000000000",
          "2024-08-23T00:00:00.000000000",
          "2024-08-26T00:00:00.000000000",
          "2024-08-27T00:00:00.000000000",
          "2024-08-28T00:00:00.000000000",
          "2024-08-29T00:00:00.000000000",
          "2024-08-30T00:00:00.000000000",
          "2024-09-03T00:00:00.000000000",
          "2024-09-04T00:00:00.000000000",
          "2024-09-05T00:00:00.000000000",
          "2024-09-06T00:00:00.000000000",
          "2024-09-09T00:00:00.000000000",
          "2024-09-10T00:00:00.000000000",
          "2024-09-11T00:00:00.000000000",
          "2024-09-12T00:00:00.000000000",
          "2024-09-13T00:00:00.000000000",
          "2024-09-16T00:00:00.000000000",
          "2024-09-17T00:00:00.000000000",
          "2024-09-18T00:00:00.000000000",
          "2024-09-19T00:00:00.000000000",
          "2024-09-20T00:00:00.000000000",
          "2024-09-23T00:00:00.000000000",
          "2024-09-24T00:00:00.000000000",
          "2024-09-25T00:00:00.000000000",
          "2024-09-26T00:00:00.000000000",
          "2024-09-27T00:00:00.000000000",
          "2024-09-30T00:00:00.000000000",
          "2024-10-01T00:00:00.000000000",
          "2024-10-02T00:00:00.000000000",
          "2024-10-03T00:00:00.000000000",
          "2024-10-04T00:00:00.000000000",
          "2024-10-07T00:00:00.000000000",
          "2024-10-08T00:00:00.000000000",
          "2024-10-09T00:00:00.000000000",
          "2024-10-10T00:00:00.000000000",
          "2024-10-11T00:00:00.000000000",
          "2024-10-14T00:00:00.000000000",
          "2024-10-15T00:00:00.000000000",
          "2024-10-16T00:00:00.000000000",
          "2024-10-17T00:00:00.000000000",
          "2024-10-18T00:00:00.000000000",
          "2024-10-21T00:00:00.000000000",
          "2024-10-22T00:00:00.000000000",
          "2024-10-23T00:00:00.000000000",
          "2024-10-24T00:00:00.000000000",
          "2024-10-25T00:00:00.000000000",
          "2024-10-28T00:00:00.000000000",
          "2024-10-29T00:00:00.000000000",
          "2024-10-30T00:00:00.000000000",
          "2024-10-31T00:00:00.000000000",
          "2024-11-01T00:00:00.000000000",
          "2024-11-04T00:00:00.000000000",
          "2024-11-05T00:00:00.000000000",
          "2024-11-06T00:00:00.000000000",
          "2024-11-07T00:00:00.000000000",
          "2024-11-08T00:00:00.000000000",
          "2024-11-11T00:00:00.000000000",
          "2024-11-12T00:00:00.000000000",
          "2024-11-13T00:00:00.000000000",
          "2024-11-14T00:00:00.000000000",
          "2024-11-15T00:00:00.000000000",
          "2024-11-18T00:00:00.000000000",
          "2024-11-19T00:00:00.000000000",
          "2024-11-20T00:00:00.000000000",
          "2024-11-21T00:00:00.000000000",
          "2024-11-22T00:00:00.000000000",
          "2024-11-25T00:00:00.000000000",
          "2024-11-26T00:00:00.000000000",
          "2024-11-27T00:00:00.000000000",
          "2024-11-29T00:00:00.000000000",
          "2024-12-02T00:00:00.000000000",
          "2024-12-03T00:00:00.000000000",
          "2024-12-04T00:00:00.000000000",
          "2024-12-05T00:00:00.000000000",
          "2024-12-06T00:00:00.000000000",
          "2024-12-09T00:00:00.000000000",
          "2024-12-10T00:00:00.000000000",
          "2024-12-11T00:00:00.000000000",
          "2024-12-12T00:00:00.000000000",
          "2024-12-13T00:00:00.000000000",
          "2024-12-16T00:00:00.000000000",
          "2024-12-17T00:00:00.000000000",
          "2024-12-18T00:00:00.000000000",
          "2024-12-19T00:00:00.000000000",
          "2024-12-20T00:00:00.000000000",
          "2024-12-23T00:00:00.000000000",
          "2024-12-24T00:00:00.000000000",
          "2024-12-26T00:00:00.000000000",
          "2024-12-27T00:00:00.000000000",
          "2024-12-30T00:00:00.000000000",
          "2024-12-31T00:00:00.000000000",
          "2025-01-02T00:00:00.000000000",
          "2025-01-03T00:00:00.000000000",
          "2025-01-06T00:00:00.000000000",
          "2025-01-07T00:00:00.000000000",
          "2025-01-08T00:00:00.000000000",
          "2025-01-10T00:00:00.000000000",
          "2025-01-13T00:00:00.000000000",
          "2025-01-14T00:00:00.000000000",
          "2025-01-15T00:00:00.000000000",
          "2025-01-16T00:00:00.000000000",
          "2025-01-17T00:00:00.000000000",
          "2025-01-21T00:00:00.000000000",
          "2025-01-22T00:00:00.000000000",
          "2025-01-23T00:00:00.000000000",
          "2025-01-24T00:00:00.000000000",
          "2025-01-27T00:00:00.000000000",
          "2025-01-28T00:00:00.000000000",
          "2025-01-29T00:00:00.000000000",
          "2025-01-30T00:00:00.000000000",
          "2025-01-31T00:00:00.000000000",
          "2025-02-03T00:00:00.000000000",
          "2025-02-04T00:00:00.000000000",
          "2025-02-05T00:00:00.000000000",
          "2025-02-06T00:00:00.000000000",
          "2025-02-07T00:00:00.000000000",
          "2025-02-10T00:00:00.000000000",
          "2025-02-11T00:00:00.000000000",
          "2025-02-12T00:00:00.000000000",
          "2025-02-13T00:00:00.000000000",
          "2025-02-14T00:00:00.000000000",
          "2025-02-18T00:00:00.000000000",
          "2025-02-19T00:00:00.000000000",
          "2025-02-20T00:00:00.000000000",
          "2025-02-21T00:00:00.000000000",
          "2025-02-24T00:00:00.000000000",
          "2025-02-25T00:00:00.000000000",
          "2025-02-26T00:00:00.000000000",
          "2025-02-27T00:00:00.000000000",
          "2025-02-28T00:00:00.000000000",
          "2025-03-03T00:00:00.000000000",
          "2025-03-04T00:00:00.000000000",
          "2025-03-05T00:00:00.000000000",
          "2025-03-06T00:00:00.000000000",
          "2025-03-07T00:00:00.000000000",
          "2025-03-10T00:00:00.000000000",
          "2025-03-11T00:00:00.000000000",
          "2025-03-12T00:00:00.000000000",
          "2025-03-13T00:00:00.000000000",
          "2025-03-14T00:00:00.000000000",
          "2025-03-17T00:00:00.000000000",
          "2025-03-18T00:00:00.000000000",
          "2025-03-19T00:00:00.000000000",
          "2025-03-20T00:00:00.000000000",
          "2025-03-21T00:00:00.000000000",
          "2025-03-24T00:00:00.000000000",
          "2025-03-25T00:00:00.000000000",
          "2025-03-26T00:00:00.000000000",
          "2025-03-27T00:00:00.000000000",
          "2025-03-28T00:00:00.000000000",
          "2025-03-31T00:00:00.000000000",
          "2025-04-01T00:00:00.000000000",
          "2025-04-02T00:00:00.000000000",
          "2025-04-03T00:00:00.000000000",
          "2025-04-04T00:00:00.000000000",
          "2025-04-07T00:00:00.000000000",
          "2025-04-08T00:00:00.000000000",
          "2025-04-09T00:00:00.000000000",
          "2025-04-10T00:00:00.000000000",
          "2025-04-11T00:00:00.000000000",
          "2025-04-14T00:00:00.000000000",
          "2025-04-15T00:00:00.000000000",
          "2025-04-16T00:00:00.000000000",
          "2025-04-17T00:00:00.000000000",
          "2025-04-21T00:00:00.000000000",
          "2025-04-22T00:00:00.000000000",
          "2025-04-23T00:00:00.000000000",
          "2025-04-24T00:00:00.000000000",
          "2025-04-25T00:00:00.000000000",
          "2025-04-28T00:00:00.000000000",
          "2025-04-29T00:00:00.000000000",
          "2025-04-30T00:00:00.000000000",
          "2025-05-01T00:00:00.000000000",
          "2025-05-02T00:00:00.000000000",
          "2025-05-05T00:00:00.000000000",
          "2025-05-06T00:00:00.000000000",
          "2025-05-07T00:00:00.000000000",
          "2025-05-08T00:00:00.000000000",
          "2025-05-09T00:00:00.000000000",
          "2025-05-12T00:00:00.000000000",
          "2025-05-13T00:00:00.000000000",
          "2025-05-14T00:00:00.000000000",
          "2025-05-15T00:00:00.000000000",
          "2025-05-16T00:00:00.000000000",
          "2025-05-19T00:00:00.000000000",
          "2025-05-20T00:00:00.000000000",
          "2025-05-21T00:00:00.000000000",
          "2025-05-22T00:00:00.000000000",
          "2025-05-23T00:00:00.000000000",
          "2025-05-27T00:00:00.000000000",
          "2025-05-28T00:00:00.000000000",
          "2025-05-29T00:00:00.000000000",
          "2025-05-30T00:00:00.000000000",
          "2025-06-02T00:00:00.000000000",
          "2025-06-03T00:00:00.000000000",
          "2025-06-04T00:00:00.000000000",
          "2025-06-05T00:00:00.000000000",
          "2025-06-06T00:00:00.000000000",
          "2025-06-09T00:00:00.000000000",
          "2025-06-10T00:00:00.000000000",
          "2025-06-11T00:00:00.000000000",
          "2025-06-12T00:00:00.000000000",
          "2025-06-13T00:00:00.000000000",
          "2025-06-16T00:00:00.000000000",
          "2025-06-17T00:00:00.000000000",
          "2025-06-18T00:00:00.000000000",
          "2025-06-20T00:00:00.000000000",
          "2025-06-23T00:00:00.000000000",
          "2025-06-24T00:00:00.000000000",
          "2025-06-25T00:00:00.000000000",
          "2025-06-26T00:00:00.000000000",
          "2025-06-27T00:00:00.000000000",
          "2025-06-30T00:00:00.000000000",
          "2025-07-01T00:00:00.000000000",
          "2025-07-02T00:00:00.000000000",
          "2025-07-03T00:00:00.000000000",
          "2025-07-07T00:00:00.000000000",
          "2025-07-08T00:00:00.000000000",
          "2025-07-09T00:00:00.000000000",
          "2025-07-10T00:00:00.000000000",
          "2025-07-11T00:00:00.000000000",
          "2025-07-14T00:00:00.000000000",
          "2025-07-15T00:00:00.000000000",
          "2025-07-16T00:00:00.000000000",
          "2025-07-17T00:00:00.000000000",
          "2025-07-18T00:00:00.000000000",
          "2025-07-21T00:00:00.000000000",
          "2025-07-22T00:00:00.000000000",
          "2025-07-23T00:00:00.000000000",
          "2025-07-24T00:00:00.000000000",
          "2025-07-25T00:00:00.000000000",
          "2025-07-28T00:00:00.000000000",
          "2025-07-29T00:00:00.000000000",
          "2025-07-30T00:00:00.000000000",
          "2025-07-31T00:00:00.000000000",
          "2025-08-01T00:00:00.000000000",
          "2025-08-04T00:00:00.000000000",
          "2025-08-05T00:00:00.000000000",
          "2025-08-06T00:00:00.000000000",
          "2025-08-07T00:00:00.000000000",
          "2025-08-08T00:00:00.000000000",
          "2025-08-11T00:00:00.000000000",
          "2025-08-12T00:00:00.000000000",
          "2025-08-13T00:00:00.000000000",
          "2025-08-14T00:00:00.000000000",
          "2025-08-15T00:00:00.000000000",
          "2025-08-18T00:00:00.000000000",
          "2025-08-19T00:00:00.000000000",
          "2025-08-20T00:00:00.000000000",
          "2025-08-21T00:00:00.000000000",
          "2025-08-22T00:00:00.000000000",
          "2025-08-25T00:00:00.000000000",
          "2025-08-26T00:00:00.000000000",
          "2025-08-27T00:00:00.000000000",
          "2025-08-28T00:00:00.000000000",
          "2025-08-29T00:00:00.000000000",
          "2025-09-02T00:00:00.000000000",
          "2025-09-03T00:00:00.000000000",
          "2025-09-04T00:00:00.000000000",
          "2025-09-05T00:00:00.000000000",
          "2025-09-08T00:00:00.000000000",
          "2025-09-09T00:00:00.000000000",
          "2025-09-10T00:00:00.000000000",
          "2025-09-11T00:00:00.000000000",
          "2025-09-12T00:00:00.000000000",
          "2025-09-15T00:00:00.000000000",
          "2025-09-16T00:00:00.000000000",
          "2025-09-17T00:00:00.000000000",
          "2025-09-18T00:00:00.000000000",
          "2025-09-19T00:00:00.000000000",
          "2025-09-22T00:00:00.000000000",
          "2025-09-23T00:00:00.000000000",
          "2025-09-24T00:00:00.000000000",
          "2025-09-25T00:00:00.000000000",
          "2025-09-26T00:00:00.000000000",
          "2025-09-29T00:00:00.000000000"
         ],
         "xaxis": "x3",
         "y": {
          "bdata": "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",
          "dtype": "f8"
         },
         "yaxis": "y3"
        },
        {
         "line": {
          "color": "red"
         },
         "name": "Signal",
         "type": "scatter",
         "x": [
          "2022-12-08T00:00:00.000000000",
          "2022-12-09T00:00:00.000000000",
          "2022-12-12T00:00:00.000000000",
          "2022-12-13T00:00:00.000000000",
          "2022-12-14T00:00:00.000000000",
          "2022-12-15T00:00:00.000000000",
          "2022-12-16T00:00:00.000000000",
          "2022-12-19T00:00:00.000000000",
          "2022-12-20T00:00:00.000000000",
          "2022-12-21T00:00:00.000000000",
          "2022-12-22T00:00:00.000000000",
          "2022-12-23T00:00:00.000000000",
          "2022-12-27T00:00:00.000000000",
          "2022-12-28T00:00:00.000000000",
          "2022-12-29T00:00:00.000000000",
          "2022-12-30T00:00:00.000000000",
          "2023-01-03T00:00:00.000000000",
          "2023-01-04T00:00:00.000000000",
          "2023-01-05T00:00:00.000000000",
          "2023-01-06T00:00:00.000000000",
          "2023-01-09T00:00:00.000000000",
          "2023-01-10T00:00:00.000000000",
          "2023-01-11T00:00:00.000000000",
          "2023-01-12T00:00:00.000000000",
          "2023-01-13T00:00:00.000000000",
          "2023-01-17T00:00:00.000000000",
          "2023-01-18T00:00:00.000000000",
          "2023-01-19T00:00:00.000000000",
          "2023-01-20T00:00:00.000000000",
          "2023-01-23T00:00:00.000000000",
          "2023-01-24T00:00:00.000000000",
          "2023-01-25T00:00:00.000000000",
          "2023-01-26T00:00:00.000000000",
          "2023-01-27T00:00:00.000000000",
          "2023-01-30T00:00:00.000000000",
          "2023-01-31T00:00:00.000000000",
          "2023-02-01T00:00:00.000000000",
          "2023-02-02T00:00:00.000000000",
          "2023-02-03T00:00:00.000000000",
          "2023-02-06T00:00:00.000000000",
          "2023-02-07T00:00:00.000000000",
          "2023-02-08T00:00:00.000000000",
          "2023-02-09T00:00:00.000000000",
          "2023-02-10T00:00:00.000000000",
          "2023-02-13T00:00:00.000000000",
          "2023-02-14T00:00:00.000000000",
          "2023-02-15T00:00:00.000000000",
          "2023-02-16T00:00:00.000000000",
          "2023-02-17T00:00:00.000000000",
          "2023-02-21T00:00:00.000000000",
          "2023-02-22T00:00:00.000000000",
          "2023-02-23T00:00:00.000000000",
          "2023-02-24T00:00:00.000000000",
          "2023-02-27T00:00:00.000000000",
          "2023-02-28T00:00:00.000000000",
          "2023-03-01T00:00:00.000000000",
          "2023-03-02T00:00:00.000000000",
          "2023-03-03T00:00:00.000000000",
          "2023-03-06T00:00:00.000000000",
          "2023-03-07T00:00:00.000000000",
          "2023-03-08T00:00:00.000000000",
          "2023-03-09T00:00:00.000000000",
          "2023-03-10T00:00:00.000000000",
          "2023-03-13T00:00:00.000000000",
          "2023-03-14T00:00:00.000000000",
          "2023-03-15T00:00:00.000000000",
          "2023-03-16T00:00:00.000000000",
          "2023-03-17T00:00:00.000000000",
          "2023-03-20T00:00:00.000000000",
          "2023-03-21T00:00:00.000000000",
          "2023-03-22T00:00:00.000000000",
          "2023-03-23T00:00:00.000000000",
          "2023-03-24T00:00:00.000000000",
          "2023-03-27T00:00:00.000000000",
          "2023-03-28T00:00:00.000000000",
          "2023-03-29T00:00:00.000000000",
          "2023-03-30T00:00:00.000000000",
          "2023-03-31T00:00:00.000000000",
          "2023-04-03T00:00:00.000000000",
          "2023-04-04T00:00:00.000000000",
          "2023-04-05T00:00:00.000000000",
          "2023-04-06T00:00:00.000000000",
          "2023-04-10T00:00:00.000000000",
          "2023-04-11T00:00:00.000000000",
          "2023-04-12T00:00:00.000000000",
          "2023-04-13T00:00:00.000000000",
          "2023-04-14T00:00:00.000000000",
          "2023-04-17T00:00:00.000000000",
          "2023-04-18T00:00:00.000000000",
          "2023-04-19T00:00:00.000000000",
          "2023-04-20T00:00:00.000000000",
          "2023-04-21T00:00:00.000000000",
          "2023-04-24T00:00:00.000000000",
          "2023-04-25T00:00:00.000000000",
          "2023-04-26T00:00:00.000000000",
          "2023-04-27T00:00:00.000000000",
          "2023-04-28T00:00:00.000000000",
          "2023-05-01T00:00:00.000000000",
          "2023-05-02T00:00:00.000000000",
          "2023-05-03T00:00:00.000000000",
          "2023-05-04T00:00:00.000000000",
          "2023-05-05T00:00:00.000000000",
          "2023-05-08T00:00:00.000000000",
          "2023-05-09T00:00:00.000000000",
          "2023-05-10T00:00:00.000000000",
          "2023-05-11T00:00:00.000000000",
          "2023-05-12T00:00:00.000000000",
          "2023-05-15T00:00:00.000000000",
          "2023-05-16T00:00:00.000000000",
          "2023-05-17T00:00:00.000000000",
          "2023-05-18T00:00:00.000000000",
          "2023-05-19T00:00:00.000000000",
          "2023-05-22T00:00:00.000000000",
          "2023-05-23T00:00:00.000000000",
          "2023-05-24T00:00:00.000000000",
          "2023-05-25T00:00:00.000000000",
          "2023-05-26T00:00:00.000000000",
          "2023-05-30T00:00:00.000000000",
          "2023-05-31T00:00:00.000000000",
          "2023-06-01T00:00:00.000000000",
          "2023-06-02T00:00:00.000000000",
          "2023-06-05T00:00:00.000000000",
          "2023-06-06T00:00:00.000000000",
          "2023-06-07T00:00:00.000000000",
          "2023-06-08T00:00:00.000000000",
          "2023-06-09T00:00:00.000000000",
          "2023-06-12T00:00:00.000000000",
          "2023-06-13T00:00:00.000000000",
          "2023-06-14T00:00:00.000000000",
          "2023-06-15T00:00:00.000000000",
          "2023-06-16T00:00:00.000000000",
          "2023-06-20T00:00:00.000000000",
          "2023-06-21T00:00:00.000000000",
          "2023-06-22T00:00:00.000000000",
          "2023-06-23T00:00:00.000000000",
          "2023-06-26T00:00:00.000000000",
          "2023-06-27T00:00:00.000000000",
          "2023-06-28T00:00:00.000000000",
          "2023-06-29T00:00:00.000000000",
          "2023-06-30T00:00:00.000000000",
          "2023-07-03T00:00:00.000000000",
          "2023-07-05T00:00:00.000000000",
          "2023-07-06T00:00:00.000000000",
          "2023-07-07T00:00:00.000000000",
          "2023-07-10T00:00:00.000000000",
          "2023-07-11T00:00:00.000000000",
          "2023-07-12T00:00:00.000000000",
          "2023-07-13T00:00:00.000000000",
          "2023-07-14T00:00:00.000000000",
          "2023-07-17T00:00:00.000000000",
          "2023-07-18T00:00:00.000000000",
          "2023-07-19T00:00:00.000000000",
          "2023-07-20T00:00:00.000000000",
          "2023-07-21T00:00:00.000000000",
          "2023-07-24T00:00:00.000000000",
          "2023-07-25T00:00:00.000000000",
          "2023-07-26T00:00:00.000000000",
          "2023-07-27T00:00:00.000000000",
          "2023-07-28T00:00:00.000000000",
          "2023-07-31T00:00:00.000000000",
          "2023-08-01T00:00:00.000000000",
          "2023-08-02T00:00:00.000000000",
          "2023-08-03T00:00:00.000000000",
          "2023-08-04T00:00:00.000000000",
          "2023-08-07T00:00:00.000000000",
          "2023-08-08T00:00:00.000000000",
          "2023-08-09T00:00:00.000000000",
          "2023-08-10T00:00:00.000000000",
          "2023-08-11T00:00:00.000000000",
          "2023-08-14T00:00:00.000000000",
          "2023-08-15T00:00:00.000000000",
          "2023-08-16T00:00:00.000000000",
          "2023-08-17T00:00:00.000000000",
          "2023-08-18T00:00:00.000000000",
          "2023-08-21T00:00:00.000000000",
          "2023-08-22T00:00:00.000000000",
          "2023-08-23T00:00:00.000000000",
          "2023-08-24T00:00:00.000000000",
          "2023-08-25T00:00:00.000000000",
          "2023-08-28T00:00:00.000000000",
          "2023-08-29T00:00:00.000000000",
          "2023-08-30T00:00:00.000000000",
          "2023-08-31T00:00:00.000000000",
          "2023-09-01T00:00:00.000000000",
          "2023-09-05T00:00:00.000000000",
          "2023-09-06T00:00:00.000000000",
          "2023-09-07T00:00:00.000000000",
          "2023-09-08T00:00:00.000000000",
          "2023-09-11T00:00:00.000000000",
          "2023-09-12T00:00:00.000000000",
          "2023-09-13T00:00:00.000000000",
          "2023-09-14T00:00:00.000000000",
          "2023-09-15T00:00:00.000000000",
          "2023-09-18T00:00:00.000000000",
          "2023-09-19T00:00:00.000000000",
          "2023-09-20T00:00:00.000000000",
          "2023-09-21T00:00:00.000000000",
          "2023-09-22T00:00:00.000000000",
          "2023-09-25T00:00:00.000000000",
          "2023-09-26T00:00:00.000000000",
          "2023-09-27T00:00:00.000000000",
          "2023-09-28T00:00:00.000000000",
          "2023-09-29T00:00:00.000000000",
          "2023-10-02T00:00:00.000000000",
          "2023-10-03T00:00:00.000000000",
          "2023-10-04T00:00:00.000000000",
          "2023-10-05T00:00:00.000000000",
          "2023-10-06T00:00:00.000000000",
          "2023-10-09T00:00:00.000000000",
          "2023-10-10T00:00:00.000000000",
          "2023-10-11T00:00:00.000000000",
          "2023-10-12T00:00:00.000000000",
          "2023-10-13T00:00:00.000000000",
          "2023-10-16T00:00:00.000000000",
          "2023-10-17T00:00:00.000000000",
          "2023-10-18T00:00:00.000000000",
          "2023-10-19T00:00:00.000000000",
          "2023-10-20T00:00:00.000000000",
          "2023-10-23T00:00:00.000000000",
          "2023-10-24T00:00:00.000000000",
          "2023-10-25T00:00:00.000000000",
          "2023-10-26T00:00:00.000000000",
          "2023-10-27T00:00:00.000000000",
          "2023-10-30T00:00:00.000000000",
          "2023-10-31T00:00:00.000000000",
          "2023-11-01T00:00:00.000000000",
          "2023-11-02T00:00:00.000000000",
          "2023-11-03T00:00:00.000000000",
          "2023-11-06T00:00:00.000000000",
          "2023-11-07T00:00:00.000000000",
          "2023-11-08T00:00:00.000000000",
          "2023-11-09T00:00:00.000000000",
          "2023-11-10T00:00:00.000000000",
          "2023-11-13T00:00:00.000000000",
          "2023-11-14T00:00:00.000000000",
          "2023-11-15T00:00:00.000000000",
          "2023-11-16T00:00:00.000000000",
          "2023-11-17T00:00:00.000000000",
          "2023-11-20T00:00:00.000000000",
          "2023-11-21T00:00:00.000000000",
          "2023-11-22T00:00:00.000000000",
          "2023-11-24T00:00:00.000000000",
          "2023-11-27T00:00:00.000000000",
          "2023-11-28T00:00:00.000000000",
          "2023-11-29T00:00:00.000000000",
          "2023-11-30T00:00:00.000000000",
          "2023-12-01T00:00:00.000000000",
          "2023-12-04T00:00:00.000000000",
          "2023-12-05T00:00:00.000000000",
          "2023-12-06T00:00:00.000000000",
          "2023-12-07T00:00:00.000000000",
          "2023-12-08T00:00:00.000000000",
          "2023-12-11T00:00:00.000000000",
          "2023-12-12T00:00:00.000000000",
          "2023-12-13T00:00:00.000000000",
          "2023-12-14T00:00:00.000000000",
          "2023-12-15T00:00:00.000000000",
          "2023-12-18T00:00:00.000000000",
          "2023-12-19T00:00:00.000000000",
          "2023-12-20T00:00:00.000000000",
          "2023-12-21T00:00:00.000000000",
          "2023-12-22T00:00:00.000000000",
          "2023-12-26T00:00:00.000000000",
          "2023-12-27T00:00:00.000000000",
          "2023-12-28T00:00:00.000000000",
          "2023-12-29T00:00:00.000000000",
          "2024-01-02T00:00:00.000000000",
          "2024-01-03T00:00:00.000000000",
          "2024-01-04T00:00:00.000000000",
          "2024-01-05T00:00:00.000000000",
          "2024-01-08T00:00:00.000000000",
          "2024-01-09T00:00:00.000000000",
          "2024-01-10T00:00:00.000000000",
          "2024-01-11T00:00:00.000000000",
          "2024-01-12T00:00:00.000000000",
          "2024-01-16T00:00:00.000000000",
          "2024-01-17T00:00:00.000000000",
          "2024-01-18T00:00:00.000000000",
          "2024-01-19T00:00:00.000000000",
          "2024-01-22T00:00:00.000000000",
          "2024-01-23T00:00:00.000000000",
          "2024-01-24T00:00:00.000000000",
          "2024-01-25T00:00:00.000000000",
          "2024-01-26T00:00:00.000000000",
          "2024-01-29T00:00:00.000000000",
          "2024-01-30T00:00:00.000000000",
          "2024-01-31T00:00:00.000000000",
          "2024-02-01T00:00:00.000000000",
          "2024-02-02T00:00:00.000000000",
          "2024-02-05T00:00:00.000000000",
          "2024-02-06T00:00:00.000000000",
          "2024-02-07T00:00:00.000000000",
          "2024-02-08T00:00:00.000000000",
          "2024-02-09T00:00:00.000000000",
          "2024-02-12T00:00:00.000000000",
          "2024-02-13T00:00:00.000000000",
          "2024-02-14T00:00:00.000000000",
          "2024-02-15T00:00:00.000000000",
          "2024-02-16T00:00:00.000000000",
          "2024-02-20T00:00:00.000000000",
          "2024-02-21T00:00:00.000000000",
          "2024-02-22T00:00:00.000000000",
          "2024-02-23T00:00:00.000000000",
          "2024-02-26T00:00:00.000000000",
          "2024-02-27T00:00:00.000000000",
          "2024-02-28T00:00:00.000000000",
          "2024-02-29T00:00:00.000000000",
          "2024-03-01T00:00:00.000000000",
          "2024-03-04T00:00:00.000000000",
          "2024-03-05T00:00:00.000000000",
          "2024-03-06T00:00:00.000000000",
          "2024-03-07T00:00:00.000000000",
          "2024-03-08T00:00:00.000000000",
          "2024-03-11T00:00:00.000000000",
          "2024-03-12T00:00:00.000000000",
          "2024-03-13T00:00:00.000000000",
          "2024-03-14T00:00:00.000000000",
          "2024-03-15T00:00:00.000000000",
          "2024-03-18T00:00:00.000000000",
          "2024-03-19T00:00:00.000000000",
          "2024-03-20T00:00:00.000000000",
          "2024-03-21T00:00:00.000000000",
          "2024-03-22T00:00:00.000000000",
          "2024-03-25T00:00:00.000000000",
          "2024-03-26T00:00:00.000000000",
          "2024-03-27T00:00:00.000000000",
          "2024-03-28T00:00:00.000000000",
          "2024-04-01T00:00:00.000000000",
          "2024-04-02T00:00:00.000000000",
          "2024-04-03T00:00:00.000000000",
          "2024-04-04T00:00:00.000000000",
          "2024-04-05T00:00:00.000000000",
          "2024-04-08T00:00:00.000000000",
          "2024-04-09T00:00:00.000000000",
          "2024-04-10T00:00:00.000000000",
          "2024-04-11T00:00:00.000000000",
          "2024-04-12T00:00:00.000000000",
          "2024-04-15T00:00:00.000000000",
          "2024-04-16T00:00:00.000000000",
          "2024-04-17T00:00:00.000000000",
          "2024-04-18T00:00:00.000000000",
          "2024-04-19T00:00:00.000000000",
          "2024-04-22T00:00:00.000000000",
          "2024-04-23T00:00:00.000000000",
          "2024-04-24T00:00:00.000000000",
          "2024-04-25T00:00:00.000000000",
          "2024-04-26T00:00:00.000000000",
          "2024-04-29T00:00:00.000000000",
          "2024-04-30T00:00:00.000000000",
          "2024-05-01T00:00:00.000000000",
          "2024-05-02T00:00:00.000000000",
          "2024-05-03T00:00:00.000000000",
          "2024-05-06T00:00:00.000000000",
          "2024-05-07T00:00:00.000000000",
          "2024-05-08T00:00:00.000000000",
          "2024-05-09T00:00:00.000000000",
          "2024-05-10T00:00:00.000000000",
          "2024-05-13T00:00:00.000000000",
          "2024-05-14T00:00:00.000000000",
          "2024-05-15T00:00:00.000000000",
          "2024-05-16T00:00:00.000000000",
          "2024-05-17T00:00:00.000000000",
          "2024-05-20T00:00:00.000000000",
          "2024-05-21T00:00:00.000000000",
          "2024-05-22T00:00:00.000000000",
          "2024-05-23T00:00:00.000000000",
          "2024-05-24T00:00:00.000000000",
          "2024-05-28T00:00:00.000000000",
          "2024-05-29T00:00:00.000000000",
          "2024-05-30T00:00:00.000000000",
          "2024-05-31T00:00:00.000000000",
          "2024-06-03T00:00:00.000000000",
          "2024-06-04T00:00:00.000000000",
          "2024-06-05T00:00:00.000000000",
          "2024-06-06T00:00:00.000000000",
          "2024-06-07T00:00:00.000000000",
          "2024-06-10T00:00:00.000000000",
          "2024-06-11T00:00:00.000000000",
          "2024-06-12T00:00:00.000000000",
          "2024-06-13T00:00:00.000000000",
          "2024-06-14T00:00:00.000000000",
          "2024-06-17T00:00:00.000000000",
          "2024-06-18T00:00:00.000000000",
          "2024-06-20T00:00:00.000000000",
          "2024-06-21T00:00:00.000000000",
          "2024-06-24T00:00:00.000000000",
          "2024-06-25T00:00:00.000000000",
          "2024-06-26T00:00:00.000000000",
          "2024-06-27T00:00:00.000000000",
          "2024-06-28T00:00:00.000000000",
          "2024-07-01T00:00:00.000000000",
          "2024-07-02T00:00:00.000000000",
          "2024-07-03T00:00:00.000000000",
          "2024-07-05T00:00:00.000000000",
          "2024-07-08T00:00:00.000000000",
          "2024-07-09T00:00:00.000000000",
          "2024-07-10T00:00:00.000000000",
          "2024-07-11T00:00:00.000000000",
          "2024-07-12T00:00:00.000000000",
          "2024-07-15T00:00:00.000000000",
          "2024-07-16T00:00:00.000000000",
          "2024-07-17T00:00:00.000000000",
          "2024-07-18T00:00:00.000000000",
          "2024-07-19T00:00:00.000000000",
          "2024-07-22T00:00:00.000000000",
          "2024-07-23T00:00:00.000000000",
          "2024-07-24T00:00:00.000000000",
          "2024-07-25T00:00:00.000000000",
          "2024-07-26T00:00:00.000000000",
          "2024-07-29T00:00:00.000000000",
          "2024-07-30T00:00:00.000000000",
          "2024-07-31T00:00:00.000000000",
          "2024-08-01T00:00:00.000000000",
          "2024-08-02T00:00:00.000000000",
          "2024-08-05T00:00:00.000000000",
          "2024-08-06T00:00:00.000000000",
          "2024-08-07T00:00:00.000000000",
          "2024-08-08T00:00:00.000000000",
          "2024-08-09T00:00:00.000000000",
          "2024-08-12T00:00:00.000000000",
          "2024-08-13T00:00:00.000000000",
          "2024-08-14T00:00:00.000000000",
          "2024-08-15T00:00:00.000000000",
          "2024-08-16T00:00:00.000000000",
          "2024-08-19T00:00:00.000000000",
          "2024-08-20T00:00:00.000000000",
          "2024-08-21T00:00:00.000000000",
          "2024-08-22T00:00:00.000000000",
          "2024-08-23T00:00:00.000000000",
          "2024-08-26T00:00:00.000000000",
          "2024-08-27T00:00:00.000000000",
          "2024-08-28T00:00:00.000000000",
          "2024-08-29T00:00:00.000000000",
          "2024-08-30T00:00:00.000000000",
          "2024-09-03T00:00:00.000000000",
          "2024-09-04T00:00:00.000000000",
          "2024-09-05T00:00:00.000000000",
          "2024-09-06T00:00:00.000000000",
          "2024-09-09T00:00:00.000000000",
          "2024-09-10T00:00:00.000000000",
          "2024-09-11T00:00:00.000000000",
          "2024-09-12T00:00:00.000000000",
          "2024-09-13T00:00:00.000000000",
          "2024-09-16T00:00:00.000000000",
          "2024-09-17T00:00:00.000000000",
          "2024-09-18T00:00:00.000000000",
          "2024-09-19T00:00:00.000000000",
          "2024-09-20T00:00:00.000000000",
          "2024-09-23T00:00:00.000000000",
          "2024-09-24T00:00:00.000000000",
          "2024-09-25T00:00:00.000000000",
          "2024-09-26T00:00:00.000000000",
          "2024-09-27T00:00:00.000000000",
          "2024-09-30T00:00:00.000000000",
          "2024-10-01T00:00:00.000000000",
          "2024-10-02T00:00:00.000000000",
          "2024-10-03T00:00:00.000000000",
          "2024-10-04T00:00:00.000000000",
          "2024-10-07T00:00:00.000000000",
          "2024-10-08T00:00:00.000000000",
          "2024-10-09T00:00:00.000000000",
          "2024-10-10T00:00:00.000000000",
          "2024-10-11T00:00:00.000000000",
          "2024-10-14T00:00:00.000000000",
          "2024-10-15T00:00:00.000000000",
          "2024-10-16T00:00:00.000000000",
          "2024-10-17T00:00:00.000000000",
          "2024-10-18T00:00:00.000000000",
          "2024-10-21T00:00:00.000000000",
          "2024-10-22T00:00:00.000000000",
          "2024-10-23T00:00:00.000000000",
          "2024-10-24T00:00:00.000000000",
          "2024-10-25T00:00:00.000000000",
          "2024-10-28T00:00:00.000000000",
          "2024-10-29T00:00:00.000000000",
          "2024-10-30T00:00:00.000000000",
          "2024-10-31T00:00:00.000000000",
          "2024-11-01T00:00:00.000000000",
          "2024-11-04T00:00:00.000000000",
          "2024-11-05T00:00:00.000000000",
          "2024-11-06T00:00:00.000000000",
          "2024-11-07T00:00:00.000000000",
          "2024-11-08T00:00:00.000000000",
          "2024-11-11T00:00:00.000000000",
          "2024-11-12T00:00:00.000000000",
          "2024-11-13T00:00:00.000000000",
          "2024-11-14T00:00:00.000000000",
          "2024-11-15T00:00:00.000000000",
          "2024-11-18T00:00:00.000000000",
          "2024-11-19T00:00:00.000000000",
          "2024-11-20T00:00:00.000000000",
          "2024-11-21T00:00:00.000000000",
          "2024-11-22T00:00:00.000000000",
          "2024-11-25T00:00:00.000000000",
          "2024-11-26T00:00:00.000000000",
          "2024-11-27T00:00:00.000000000",
          "2024-11-29T00:00:00.000000000",
          "2024-12-02T00:00:00.000000000",
          "2024-12-03T00:00:00.000000000",
          "2024-12-04T00:00:00.000000000",
          "2024-12-05T00:00:00.000000000",
          "2024-12-06T00:00:00.000000000",
          "2024-12-09T00:00:00.000000000",
          "2024-12-10T00:00:00.000000000",
          "2024-12-11T00:00:00.000000000",
          "2024-12-12T00:00:00.000000000",
          "2024-12-13T00:00:00.000000000",
          "2024-12-16T00:00:00.000000000",
          "2024-12-17T00:00:00.000000000",
          "2024-12-18T00:00:00.000000000",
          "2024-12-19T00:00:00.000000000",
          "2024-12-20T00:00:00.000000000",
          "2024-12-23T00:00:00.000000000",
          "2024-12-24T00:00:00.000000000",
          "2024-12-26T00:00:00.000000000",
          "2024-12-27T00:00:00.000000000",
          "2024-12-30T00:00:00.000000000",
          "2024-12-31T00:00:00.000000000",
          "2025-01-02T00:00:00.000000000",
          "2025-01-03T00:00:00.000000000",
          "2025-01-06T00:00:00.000000000",
          "2025-01-07T00:00:00.000000000",
          "2025-01-08T00:00:00.000000000",
          "2025-01-10T00:00:00.000000000",
          "2025-01-13T00:00:00.000000000",
          "2025-01-14T00:00:00.000000000",
          "2025-01-15T00:00:00.000000000",
          "2025-01-16T00:00:00.000000000",
          "2025-01-17T00:00:00.000000000",
          "2025-01-21T00:00:00.000000000",
          "2025-01-22T00:00:00.000000000",
          "2025-01-23T00:00:00.000000000",
          "2025-01-24T00:00:00.000000000",
          "2025-01-27T00:00:00.000000000",
          "2025-01-28T00:00:00.000000000",
          "2025-01-29T00:00:00.000000000",
          "2025-01-30T00:00:00.000000000",
          "2025-01-31T00:00:00.000000000",
          "2025-02-03T00:00:00.000000000",
          "2025-02-04T00:00:00.000000000",
          "2025-02-05T00:00:00.000000000",
          "2025-02-06T00:00:00.000000000",
          "2025-02-07T00:00:00.000000000",
          "2025-02-10T00:00:00.000000000",
          "2025-02-11T00:00:00.000000000",
          "2025-02-12T00:00:00.000000000",
          "2025-02-13T00:00:00.000000000",
          "2025-02-14T00:00:00.000000000",
          "2025-02-18T00:00:00.000000000",
          "2025-02-19T00:00:00.000000000",
          "2025-02-20T00:00:00.000000000",
          "2025-02-21T00:00:00.000000000",
          "2025-02-24T00:00:00.000000000",
          "2025-02-25T00:00:00.000000000",
          "2025-02-26T00:00:00.000000000",
          "2025-02-27T00:00:00.000000000",
          "2025-02-28T00:00:00.000000000",
          "2025-03-03T00:00:00.000000000",
          "2025-03-04T00:00:00.000000000",
          "2025-03-05T00:00:00.000000000",
          "2025-03-06T00:00:00.000000000",
          "2025-03-07T00:00:00.000000000",
          "2025-03-10T00:00:00.000000000",
          "2025-03-11T00:00:00.000000000",
          "2025-03-12T00:00:00.000000000",
          "2025-03-13T00:00:00.000000000",
          "2025-03-14T00:00:00.000000000",
          "2025-03-17T00:00:00.000000000",
          "2025-03-18T00:00:00.000000000",
          "2025-03-19T00:00:00.000000000",
          "2025-03-20T00:00:00.000000000",
          "2025-03-21T00:00:00.000000000",
          "2025-03-24T00:00:00.000000000",
          "2025-03-25T00:00:00.000000000",
          "2025-03-26T00:00:00.000000000",
          "2025-03-27T00:00:00.000000000",
          "2025-03-28T00:00:00.000000000",
          "2025-03-31T00:00:00.000000000",
          "2025-04-01T00:00:00.000000000",
          "2025-04-02T00:00:00.000000000",
          "2025-04-03T00:00:00.000000000",
          "2025-04-04T00:00:00.000000000",
          "2025-04-07T00:00:00.000000000",
          "2025-04-08T00:00:00.000000000",
          "2025-04-09T00:00:00.000000000",
          "2025-04-10T00:00:00.000000000",
          "2025-04-11T00:00:00.000000000",
          "2025-04-14T00:00:00.000000000",
          "2025-04-15T00:00:00.000000000",
          "2025-04-16T00:00:00.000000000",
          "2025-04-17T00:00:00.000000000",
          "2025-04-21T00:00:00.000000000",
          "2025-04-22T00:00:00.000000000",
          "2025-04-23T00:00:00.000000000",
          "2025-04-24T00:00:00.000000000",
          "2025-04-25T00:00:00.000000000",
          "2025-04-28T00:00:00.000000000",
          "2025-04-29T00:00:00.000000000",
          "2025-04-30T00:00:00.000000000",
          "2025-05-01T00:00:00.000000000",
          "2025-05-02T00:00:00.000000000",
          "2025-05-05T00:00:00.000000000",
          "2025-05-06T00:00:00.000000000",
          "2025-05-07T00:00:00.000000000",
          "2025-05-08T00:00:00.000000000",
          "2025-05-09T00:00:00.000000000",
          "2025-05-12T00:00:00.000000000",
          "2025-05-13T00:00:00.000000000",
          "2025-05-14T00:00:00.000000000",
          "2025-05-15T00:00:00.000000000",
          "2025-05-16T00:00:00.000000000",
          "2025-05-19T00:00:00.000000000",
          "2025-05-20T00:00:00.000000000",
          "2025-05-21T00:00:00.000000000",
          "2025-05-22T00:00:00.000000000",
          "2025-05-23T00:00:00.000000000",
          "2025-05-27T00:00:00.000000000",
          "2025-05-28T00:00:00.000000000",
          "2025-05-29T00:00:00.000000000",
          "2025-05-30T00:00:00.000000000",
          "2025-06-02T00:00:00.000000000",
          "2025-06-03T00:00:00.000000000",
          "2025-06-04T00:00:00.000000000",
          "2025-06-05T00:00:00.000000000",
          "2025-06-06T00:00:00.000000000",
          "2025-06-09T00:00:00.000000000",
          "2025-06-10T00:00:00.000000000",
          "2025-06-11T00:00:00.000000000",
          "2025-06-12T00:00:00.000000000",
          "2025-06-13T00:00:00.000000000",
          "2025-06-16T00:00:00.000000000",
          "2025-06-17T00:00:00.000000000",
          "2025-06-18T00:00:00.000000000",
          "2025-06-20T00:00:00.000000000",
          "2025-06-23T00:00:00.000000000",
          "2025-06-24T00:00:00.000000000",
          "2025-06-25T00:00:00.000000000",
          "2025-06-26T00:00:00.000000000",
          "2025-06-27T00:00:00.000000000",
          "2025-06-30T00:00:00.000000000",
          "2025-07-01T00:00:00.000000000",
          "2025-07-02T00:00:00.000000000",
          "2025-07-03T00:00:00.000000000",
          "2025-07-07T00:00:00.000000000",
          "2025-07-08T00:00:00.000000000",
          "2025-07-09T00:00:00.000000000",
          "2025-07-10T00:00:00.000000000",
          "2025-07-11T00:00:00.000000000",
          "2025-07-14T00:00:00.000000000",
          "2025-07-15T00:00:00.000000000",
          "2025-07-16T00:00:00.000000000",
          "2025-07-17T00:00:00.000000000",
          "2025-07-18T00:00:00.000000000",
          "2025-07-21T00:00:00.000000000",
          "2025-07-22T00:00:00.000000000",
          "2025-07-23T00:00:00.000000000",
          "2025-07-24T00:00:00.000000000",
          "2025-07-25T00:00:00.000000000",
          "2025-07-28T00:00:00.000000000",
          "2025-07-29T00:00:00.000000000",
          "2025-07-30T00:00:00.000000000",
          "2025-07-31T00:00:00.000000000",
          "2025-08-01T00:00:00.000000000",
          "2025-08-04T00:00:00.000000000",
          "2025-08-05T00:00:00.000000000",
          "2025-08-06T00:00:00.000000000",
          "2025-08-07T00:00:00.000000000",
          "2025-08-08T00:00:00.000000000",
          "2025-08-11T00:00:00.000000000",
          "2025-08-12T00:00:00.000000000",
          "2025-08-13T00:00:00.000000000",
          "2025-08-14T00:00:00.000000000",
          "2025-08-15T00:00:00.000000000",
          "2025-08-18T00:00:00.000000000",
          "2025-08-19T00:00:00.000000000",
          "2025-08-20T00:00:00.000000000",
          "2025-08-21T00:00:00.000000000",
          "2025-08-22T00:00:00.000000000",
          "2025-08-25T00:00:00.000000000",
          "2025-08-26T00:00:00.000000000",
          "2025-08-27T00:00:00.000000000",
          "2025-08-28T00:00:00.000000000",
          "2025-08-29T00:00:00.000000000",
          "2025-09-02T00:00:00.000000000",
          "2025-09-03T00:00:00.000000000",
          "2025-09-04T00:00:00.000000000",
          "2025-09-05T00:00:00.000000000",
          "2025-09-08T00:00:00.000000000",
          "2025-09-09T00:00:00.000000000",
          "2025-09-10T00:00:00.000000000",
          "2025-09-11T00:00:00.000000000",
          "2025-09-12T00:00:00.000000000",
          "2025-09-15T00:00:00.000000000",
          "2025-09-16T00:00:00.000000000",
          "2025-09-17T00:00:00.000000000",
          "2025-09-18T00:00:00.000000000",
          "2025-09-19T00:00:00.000000000",
          "2025-09-22T00:00:00.000000000",
          "2025-09-23T00:00:00.000000000",
          "2025-09-24T00:00:00.000000000",
          "2025-09-25T00:00:00.000000000",
          "2025-09-26T00:00:00.000000000",
          "2025-09-29T00:00:00.000000000"
         ],
         "xaxis": "x3",
         "y": {
          "bdata": "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",
          "dtype": "f8"
         },
         "yaxis": "y3"
        }
       ],
       "layout": {
        "annotations": [
         {
          "font": {
           "size": 16
          },
          "showarrow": false,
          "text": "Price with Bollinger Bands",
          "x": 0.5,
          "xanchor": "center",
          "xref": "paper",
          "y": 1,
          "yanchor": "bottom",
          "yref": "paper"
         },
         {
          "font": {
           "size": 16
          },
          "showarrow": false,
          "text": "RSI",
          "x": 0.5,
          "xanchor": "center",
          "xref": "paper",
          "y": 0.41000000000000003,
          "yanchor": "bottom",
          "yref": "paper"
         },
         {
          "font": {
           "size": 16
          },
          "showarrow": false,
          "text": "MACD",
          "x": 0.5,
          "xanchor": "center",
          "xref": "paper",
          "y": 0.18000000000000002,
          "yanchor": "bottom",
          "yref": "paper"
         }
        ],
        "height": 800,
        "shapes": [
         {
          "line": {
           "color": "red",
           "dash": "dash"
          },
          "type": "line",
          "x0": 0,
          "x1": 1,
          "xref": "x2 domain",
          "y0": 70,
          "y1": 70,
          "yref": "y2"
         },
         {
          "line": {
           "color": "green",
           "dash": "dash"
          },
          "type": "line",
          "x0": 0,
          "x1": 1,
          "xref": "x2 domain",
          "y0": 30,
          "y1": 30,
          "yref": "y2"
         }
        ],
        "showlegend": true,
        "template": {
         "data": {
          "bar": [
           {
            "error_x": {
             "color": "#2a3f5f"
            },
            "error_y": {
             "color": "#2a3f5f"
            },
            "marker": {
             "line": {
              "color": "white",
              "width": 0.5
             },
             "pattern": {
              "fillmode": "overlay",
              "size": 10,
              "solidity": 0.2
             }
            },
            "type": "bar"
           }
          ],
          "barpolar": [
           {
            "marker": {
             "line": {
              "color": "white",
              "width": 0.5
             },
             "pattern": {
              "fillmode": "overlay",
              "size": 10,
              "solidity": 0.2
             }
            },
            "type": "barpolar"
           }
          ],
          "carpet": [
           {
            "aaxis": {
             "endlinecolor": "#2a3f5f",
             "gridcolor": "#C8D4E3",
             "linecolor": "#C8D4E3",
             "minorgridcolor": "#C8D4E3",
             "startlinecolor": "#2a3f5f"
            },
            "baxis": {
             "endlinecolor": "#2a3f5f",
             "gridcolor": "#C8D4E3",
             "linecolor": "#C8D4E3",
             "minorgridcolor": "#C8D4E3",
             "startlinecolor": "#2a3f5f"
            },
            "type": "carpet"
           }
          ],
          "choropleth": [
           {
            "colorbar": {
             "outlinewidth": 0,
             "ticks": ""
            },
            "type": "choropleth"
           }
          ],
          "contour": [
           {
            "colorbar": {
             "outlinewidth": 0,
             "ticks": ""
            },
            "colorscale": [
             [
              0,
              "#0d0887"
             ],
             [
              0.1111111111111111,
              "#46039f"
             ],
             [
              0.2222222222222222,
              "#7201a8"
             ],
             [
              0.3333333333333333,
              "#9c179e"
             ],
             [
              0.4444444444444444,
              "#bd3786"
             ],
             [
              0.5555555555555556,
              "#d8576b"
             ],
             [
              0.6666666666666666,
              "#ed7953"
             ],
             [
              0.7777777777777778,
              "#fb9f3a"
             ],
             [
              0.8888888888888888,
              "#fdca26"
             ],
             [
              1,
              "#f0f921"
             ]
            ],
            "type": "contour"
           }
          ],
          "contourcarpet": [
           {
            "colorbar": {
             "outlinewidth": 0,
             "ticks": ""
            },
            "type": "contourcarpet"
           }
          ],
          "heatmap": [
           {
            "colorbar": {
             "outlinewidth": 0,
             "ticks": ""
            },
            "colorscale": [
             [
              0,
              "#0d0887"
             ],
             [
              0.1111111111111111,
              "#46039f"
             ],
             [
              0.2222222222222222,
              "#7201a8"
             ],
             [
              0.3333333333333333,
              "#9c179e"
             ],
             [
              0.4444444444444444,
              "#bd3786"
             ],
             [
              0.5555555555555556,
              "#d8576b"
             ],
             [
              0.6666666666666666,
              "#ed7953"
             ],
             [
              0.7777777777777778,
              "#fb9f3a"
             ],
             [
              0.8888888888888888,
              "#fdca26"
             ],
             [
              1,
              "#f0f921"
             ]
            ],
            "type": "heatmap"
           }
          ],
          "histogram": [
           {
            "marker": {
             "pattern": {
              "fillmode": "overlay",
              "size": 10,
              "solidity": 0.2
             }
            },
            "type": "histogram"
           }
          ],
          "histogram2d": [
           {
            "colorbar": {
             "outlinewidth": 0,
             "ticks": ""
            },
            "colorscale": [
             [
              0,
              "#0d0887"
             ],
             [
              0.1111111111111111,
              "#46039f"
             ],
             [
              0.2222222222222222,
              "#7201a8"
             ],
             [
              0.3333333333333333,
              "#9c179e"
             ],
             [
              0.4444444444444444,
              "#bd3786"
             ],
             [
              0.5555555555555556,
              "#d8576b"
             ],
             [
              0.6666666666666666,
              "#ed7953"
             ],
             [
              0.7777777777777778,
              "#fb9f3a"
             ],
             [
              0.8888888888888888,
              "#fdca26"
             ],
             [
              1,
              "#f0f921"
             ]
            ],
            "type": "histogram2d"
           }
          ],
          "histogram2dcontour": [
           {
            "colorbar": {
             "outlinewidth": 0,
             "ticks": ""
            },
            "colorscale": [
             [
              0,
              "#0d0887"
             ],
             [
              0.1111111111111111,
              "#46039f"
             ],
             [
              0.2222222222222222,
              "#7201a8"
             ],
             [
              0.3333333333333333,
              "#9c179e"
             ],
             [
              0.4444444444444444,
              "#bd3786"
             ],
             [
              0.5555555555555556,
              "#d8576b"
             ],
             [
              0.6666666666666666,
              "#ed7953"
             ],
             [
              0.7777777777777778,
              "#fb9f3a"
             ],
             [
              0.8888888888888888,
              "#fdca26"
             ],
             [
              1,
              "#f0f921"
             ]
            ],
            "type": "histogram2dcontour"
           }
          ],
          "mesh3d": [
           {
            "colorbar": {
             "outlinewidth": 0,
             "ticks": ""
            },
            "type": "mesh3d"
           }
          ],
          "parcoords": [
           {
            "line": {
             "colorbar": {
              "outlinewidth": 0,
              "ticks": ""
             }
            },
            "type": "parcoords"
           }
          ],
          "pie": [
           {
            "automargin": true,
            "type": "pie"
           }
          ],
          "scatter": [
           {
            "fillpattern": {
             "fillmode": "overlay",
             "size": 10,
             "solidity": 0.2
            },
            "type": "scatter"
           }
          ],
          "scatter3d": [
           {
            "line": {
             "colorbar": {
              "outlinewidth": 0,
              "ticks": ""
             }
            },
            "marker": {
             "colorbar": {
              "outlinewidth": 0,
              "ticks": ""
             }
            },
            "type": "scatter3d"
           }
          ],
          "scattercarpet": [
           {
            "marker": {
             "colorbar": {
              "outlinewidth": 0,
              "ticks": ""
             }
            },
            "type": "scattercarpet"
           }
          ],
          "scattergeo": [
           {
            "marker": {
             "colorbar": {
              "outlinewidth": 0,
              "ticks": ""
             }
            },
            "type": "scattergeo"
           }
          ],
          "scattergl": [
           {
            "marker": {
             "colorbar": {
              "outlinewidth": 0,
              "ticks": ""
             }
            },
            "type": "scattergl"
           }
          ],
          "scattermap": [
           {
            "marker": {
             "colorbar": {
              "outlinewidth": 0,
              "ticks": ""
             }
            },
            "type": "scattermap"
           }
          ],
          "scattermapbox": [
           {
            "marker": {
             "colorbar": {
              "outlinewidth": 0,
              "ticks": ""
             }
            },
            "type": "scattermapbox"
           }
          ],
          "scatterpolar": [
           {
            "marker": {
             "colorbar": {
              "outlinewidth": 0,
              "ticks": ""
             }
            },
            "type": "scatterpolar"
           }
          ],
          "scatterpolargl": [
           {
            "marker": {
             "colorbar": {
              "outlinewidth": 0,
              "ticks": ""
             }
            },
            "type": "scatterpolargl"
           }
          ],
          "scatterternary": [
           {
            "marker": {
             "colorbar": {
              "outlinewidth": 0,
              "ticks": ""
             }
            },
            "type": "scatterternary"
           }
          ],
          "surface": [
           {
            "colorbar": {
             "outlinewidth": 0,
             "ticks": ""
            },
            "colorscale": [
             [
              0,
              "#0d0887"
             ],
             [
              0.1111111111111111,
              "#46039f"
             ],
             [
              0.2222222222222222,
              "#7201a8"
             ],
             [
              0.3333333333333333,
              "#9c179e"
             ],
             [
              0.4444444444444444,
              "#bd3786"
             ],
             [
              0.5555555555555556,
              "#d8576b"
             ],
             [
              0.6666666666666666,
              "#ed7953"
             ],
             [
              0.7777777777777778,
              "#fb9f3a"
             ],
             [
              0.8888888888888888,
              "#fdca26"
             ],
             [
              1,
              "#f0f921"
             ]
            ],
            "type": "surface"
           }
          ],
          "table": [
           {
            "cells": {
             "fill": {
              "color": "#EBF0F8"
             },
             "line": {
              "color": "white"
             }
            },
            "header": {
             "fill": {
              "color": "#C8D4E3"
             },
             "line": {
              "color": "white"
             }
            },
            "type": "table"
           }
          ]
         },
         "layout": {
          "annotationdefaults": {
           "arrowcolor": "#2a3f5f",
           "arrowhead": 0,
           "arrowwidth": 1
          },
          "autotypenumbers": "strict",
          "coloraxis": {
           "colorbar": {
            "outlinewidth": 0,
            "ticks": ""
           }
          },
          "colorscale": {
           "diverging": [
            [
             0,
             "#8e0152"
            ],
            [
             0.1,
             "#c51b7d"
            ],
            [
             0.2,
             "#de77ae"
            ],
            [
             0.3,
             "#f1b6da"
            ],
            [
             0.4,
             "#fde0ef"
            ],
            [
             0.5,
             "#f7f7f7"
            ],
            [
             0.6,
             "#e6f5d0"
            ],
            [
             0.7,
             "#b8e186"
            ],
            [
             0.8,
             "#7fbc41"
            ],
            [
             0.9,
             "#4d9221"
            ],
            [
             1,
             "#276419"
            ]
           ],
           "sequential": [
            [
             0,
             "#0d0887"
            ],
            [
             0.1111111111111111,
             "#46039f"
            ],
            [
             0.2222222222222222,
             "#7201a8"
            ],
            [
             0.3333333333333333,
             "#9c179e"
            ],
            [
             0.4444444444444444,
             "#bd3786"
            ],
            [
             0.5555555555555556,
             "#d8576b"
            ],
            [
             0.6666666666666666,
             "#ed7953"
            ],
            [
             0.7777777777777778,
             "#fb9f3a"
            ],
            [
             0.8888888888888888,
             "#fdca26"
            ],
            [
             1,
             "#f0f921"
            ]
           ],
           "sequentialminus": [
            [
             0,
             "#0d0887"
            ],
            [
             0.1111111111111111,
             "#46039f"
            ],
            [
             0.2222222222222222,
             "#7201a8"
            ],
            [
             0.3333333333333333,
             "#9c179e"
            ],
            [
             0.4444444444444444,
             "#bd3786"
            ],
            [
             0.5555555555555556,
             "#d8576b"
            ],
            [
             0.6666666666666666,
             "#ed7953"
            ],
            [
             0.7777777777777778,
             "#fb9f3a"
            ],
            [
             0.8888888888888888,
             "#fdca26"
            ],
            [
             1,
             "#f0f921"
            ]
           ]
          },
          "colorway": [
           "#636efa",
           "#EF553B",
           "#00cc96",
           "#ab63fa",
           "#FFA15A",
           "#19d3f3",
           "#FF6692",
           "#B6E880",
           "#FF97FF",
           "#FECB52"
          ],
          "font": {
           "color": "#2a3f5f"
          },
          "geo": {
           "bgcolor": "white",
           "lakecolor": "white",
           "landcolor": "white",
           "showlakes": true,
           "showland": true,
           "subunitcolor": "#C8D4E3"
          },
          "hoverlabel": {
           "align": "left"
          },
          "hovermode": "closest",
          "mapbox": {
           "style": "light"
          },
          "paper_bgcolor": "white",
          "plot_bgcolor": "white",
          "polar": {
           "angularaxis": {
            "gridcolor": "#EBF0F8",
            "linecolor": "#EBF0F8",
            "ticks": ""
           },
           "bgcolor": "white",
           "radialaxis": {
            "gridcolor": "#EBF0F8",
            "linecolor": "#EBF0F8",
            "ticks": ""
           }
          },
          "scene": {
           "xaxis": {
            "backgroundcolor": "white",
            "gridcolor": "#DFE8F3",
            "gridwidth": 2,
            "linecolor": "#EBF0F8",
            "showbackground": true,
            "ticks": "",
            "zerolinecolor": "#EBF0F8"
           },
           "yaxis": {
            "backgroundcolor": "white",
            "gridcolor": "#DFE8F3",
            "gridwidth": 2,
            "linecolor": "#EBF0F8",
            "showbackground": true,
            "ticks": "",
            "zerolinecolor": "#EBF0F8"
           },
           "zaxis": {
            "backgroundcolor": "white",
            "gridcolor": "#DFE8F3",
            "gridwidth": 2,
            "linecolor": "#EBF0F8",
            "showbackground": true,
            "ticks": "",
            "zerolinecolor": "#EBF0F8"
           }
          },
          "shapedefaults": {
           "line": {
            "color": "#2a3f5f"
           }
          },
          "ternary": {
           "aaxis": {
            "gridcolor": "#DFE8F3",
            "linecolor": "#A2B1C6",
            "ticks": ""
           },
           "baxis": {
            "gridcolor": "#DFE8F3",
            "linecolor": "#A2B1C6",
            "ticks": ""
           },
           "bgcolor": "white",
           "caxis": {
            "gridcolor": "#DFE8F3",
            "linecolor": "#A2B1C6",
            "ticks": ""
           }
          },
          "title": {
           "x": 0.05
          },
          "xaxis": {
           "automargin": true,
           "gridcolor": "#EBF0F8",
           "linecolor": "#EBF0F8",
           "ticks": "",
           "title": {
            "standoff": 15
           },
           "zerolinecolor": "#EBF0F8",
           "zerolinewidth": 2
          },
          "yaxis": {
           "automargin": true,
           "gridcolor": "#EBF0F8",
           "linecolor": "#EBF0F8",
           "ticks": "",
           "title": {
            "standoff": 15
           },
           "zerolinecolor": "#EBF0F8",
           "zerolinewidth": 2
          }
         }
        },
        "title": {
         "text": "TSLA Technical Indicators"
        },
        "xaxis": {
         "anchor": "y",
         "domain": [
          0,
          1
         ],
         "matches": "x3",
         "showticklabels": false
        },
        "xaxis2": {
         "anchor": "y2",
         "domain": [
          0,
          1
         ],
         "matches": "x3",
         "showticklabels": false
        },
        "xaxis3": {
         "anchor": "y3",
         "domain": [
          0,
          1
         ]
        },
        "yaxis": {
         "anchor": "x",
         "domain": [
          0.4600000000000001,
          1
         ]
        },
        "yaxis2": {
         "anchor": "x2",
         "domain": [
          0.23000000000000004,
          0.41000000000000003
         ]
        },
        "yaxis3": {
         "anchor": "x3",
         "domain": [
          0,
          0.18000000000000002
         ]
        }
       }
      }
     },
     "metadata": {},
     "output_type": "display_data"
    },
    {
     "name": "stdout",
     "output_type": "stream",
     "text": [
      "\n",
      "================================================================================\n",
      "DETAILED FUTURE PREDICTIONS FOR TSLA\n",
      "================================================================================\n",
      "Analysis Date: 2025-09-29 19:08:28\n",
      "Current Price: $448.64\n",
      "Last Trading Day: 2025-09-29 (Monday)\n",
      "\n",
      "Next 7 Trading Days:\n",
      "--------------------------------------------------------------------------------\n",
      "2025-09-30 (Tuesday): RF: $416.19 (-7.23%) | LSTM: $436.08 (-2.80%) | RF more volatile 📉\n",
      "2025-10-01 (Wednesday): RF: $416.89 (-7.08%) | LSTM: $435.62 (-2.90%) | RF more volatile 📉\n",
      "2025-10-02 (Thursday): RF: $416.92 (-7.07%) | LSTM: $434.99 (-3.04%) | RF more volatile 📉\n",
      "2025-10-03 (Friday): RF: $416.92 (-7.07%) | LSTM: $434.71 (-3.11%) | RF more volatile 📉\n",
      "2025-10-06 (Monday): RF: $416.92 (-7.07%) | LSTM: $434.98 (-3.05%) | RF more volatile 📉\n",
      "2025-10-07 (Tuesday): RF: $416.92 (-7.07%) | LSTM: $435.81 (-2.86%) | RF more volatile 📉\n",
      "2025-10-08 (Wednesday): RF: $416.92 (-7.07%) | LSTM: $437.13 (-2.57%) | RF more volatile 📉\n",
      "\n",
      "SUMMARY STATISTICS:\n",
      "RandomForest Average Change: -7.10%\n",
      "Predicted Range: $416.19 - $416.92\n",
      "Price Volatility: 0.16%\n",
      "LSTM Average Change: -2.90%\n",
      "\n",
      "Saving Models...\n",
      "RandomForest model saved as TSLA_rf_model.joblib\n",
      "Scaler saved as TSLA_scaler.joblib\n",
      "LSTM model saved as TSLA_lstm_model.keras\n",
      "LSTM scaler saved as TSLA_lstm_scaler.joblib\n",
      "\n",
      "Prediction completed for TSLA!\n",
      "\n",
      "================================================================================\n",
      "FINAL PREDICTION SUMMARY REPORT\n",
      "================================================================================\n",
      "\n",
      "📈 Tesla -> TSLA:\n",
      "   Current Price: $448.64\n",
      "   RandomForest - MAE: $21.47, R²: 0.6605\n",
      "   LSTM - MAE: $16.00\n",
      "Next Trading Day (2025-09-30): $416.19 (-7.23%)\n",
      "\n",
      "Analysis completed for 1 stocks!\n",
      "\n",
      "Available symbols for future analysis:\n",
      "🇺🇸 US Stocks: AAPL, MSFT, GOOGL, AMZN, TSLA, META, NFLX, NVDA\n",
      "🇮🇳 Indian Stocks: RELIANCE, TCS, INFY, L&T, HDFC, SBIN, WIPRO\n",
      "International: Use Yahoo Finance symbols\n",
      "\n",
      "Models and scalers have been saved for future use!\n",
      "Run the script again to analyze different stocks!\n"
     ]
    }
   ],
   "source": [
    "# Main execution block\n",
    "if __name__ == \"__main__\":\n",
    "    print(\"ENHANCED STOCK PRICE PREDICTION SYSTEM\")\n",
    "    print(\"=\"*60)\n",
    "    print(\"Features:\")\n",
    "    print(\"Market status checking\")\n",
    "    print(\"Enhanced date handling (weekend awareness)\")\n",
    "    print(\"Interactive prediction tables\")\n",
    "    print(\"Multiple model comparisons\")\n",
    "    print(\"Portfolio analysis\")\n",
    "    print(\"Professional visualizations\")\n",
    "    print(\"=\"*60)\n",
    "    \n",
    "    print(\"\\nYou can enter:\")\n",
    "    print(\"- US Stocks: AAPL, MSFT, GOOGL, TSLA, AMZN, etc.\")\n",
    "    print(\"- Indian Stocks: RELIANCE, TCS, INFY, L&T, HDFC, etc.\")\n",
    "    print(\"- Other: Use exact Yahoo Finance symbols\")\n",
    "    print(\"\\nEnter stock symbols (type 'done' when finished)\")\n",
    "    print(\"=\"*60)\n",
    "    \n",
    "    stocks_to_predict = []\n",
    "    while True:\n",
    "        symbol = input(\"\\nEnter stock symbol: \").strip()\n",
    "        if symbol.lower() == 'done':\n",
    "            break\n",
    "        if symbol:\n",
    "            stocks_to_predict.append(symbol)\n",
    "    \n",
    "    if not stocks_to_predict:\n",
    "        # Default stocks if none provided\n",
    "        stocks_to_predict = ['AAPL', 'MSFT', 'RELIANCE', 'TCS']\n",
    "        print(f\"\\nNo symbols entered. Using default stocks: {stocks_to_predict}\")\n",
    "    \n",
    "    # Choose analysis type\n",
    "    if len(stocks_to_predict) > 1:\n",
    "        analysis_type = input(f\"\\nChoose analysis type:\\n1. Individual analysis\\n2. Portfolio analysis\\nEnter choice (1/2): \").strip()\n",
    "        if analysis_type == '2':\n",
    "            all_results, portfolio_df = create_portfolio_analysis(stocks_to_predict, future_days=7)\n",
    "        else:\n",
    "            # Individual analysis\n",
    "            all_results = {}\n",
    "            for symbol_input in stocks_to_predict:\n",
    "                try:\n",
    "                    result = predict_stock_price_enhanced(symbol_input, future_days=7)\n",
    "                    if result is not None:\n",
    "                        all_results[symbol_input] = result\n",
    "                except Exception as e:\n",
    "                    print(f\"Error processing {symbol_input}: {str(e)}\")\n",
    "                    continue\n",
    "    else:\n",
    "        # Single stock analysis\n",
    "        all_results = {}\n",
    "        symbol_input = stocks_to_predict[0]\n",
    "        try:\n",
    "            result = predict_stock_price_enhanced(symbol_input, future_days=7)\n",
    "            if result is not None:\n",
    "                all_results[symbol_input] = result\n",
    "        except Exception as e:\n",
    "            print(f\"Error processing {symbol_input}: {str(e)}\")\n",
    "    \n",
    "    # Final summary report\n",
    "    print(f\"\\n{'='*80}\")\n",
    "    print(\"FINAL PREDICTION SUMMARY REPORT\")\n",
    "    print(f\"{'='*80}\")\n",
    "    \n",
    "    for symbol_input, results in all_results.items():\n",
    "        classical = results['classical_results']['RandomForest']\n",
    "        symbol_used = results['correct_symbol']\n",
    "        future_preds = results['future_predictions']\n",
    "        \n",
    "        print(f\"\\n📈 {symbol_input} -> {symbol_used}:\")\n",
    "        print(f\"   Current Price: ${results['current_price']:.2f}\")\n",
    "        print(f\"   RandomForest - MAE: ${classical['mae']:.2f}, R²: {classical['r2']:.4f}\")\n",
    "        \n",
    "        if results['lstm_results'] is not None:\n",
    "            lstm_mae = mean_absolute_error(\n",
    "                results['lstm_results']['actual'], \n",
    "                results['lstm_results']['predicted']\n",
    "            )\n",
    "            print(f\"   LSTM - MAE: ${lstm_mae:.2f}\")\n",
    "        \n",
    "        # Show next day prediction\n",
    "        if future_preds['dates']:\n",
    "            next_date = future_preds['dates'][0].strftime('%Y-%m-%d')\n",
    "            next_rf_pred = future_preds['rf_predictions'][0]\n",
    "            today_price = results['current_price']\n",
    "            change = ((next_rf_pred - today_price) / today_price) * 100\n",
    "            \n",
    "            print(f\"Next Trading Day ({next_date}): ${next_rf_pred:.2f} ({change:+.2f}%)\")\n",
    "    \n",
    "    print(f\"\\nAnalysis completed for {len(all_results)} stocks!\")\n",
    "    print(\"\\nAvailable symbols for future analysis:\")\n",
    "    print(\"🇺🇸 US Stocks: AAPL, MSFT, GOOGL, AMZN, TSLA, META, NFLX, NVDA\")\n",
    "    print(\"🇮🇳 Indian Stocks: RELIANCE, TCS, INFY, L&T, HDFC, SBIN, WIPRO\")\n",
    "    print(\"International: Use Yahoo Finance symbols\")\n",
    "    \n",
    "    print(f\"\\nModels and scalers have been saved for future use!\")\n",
    "    print(\"Run the script again to analyze different stocks!\")"
   ]
  }
 ],
 "metadata": {
  "kernelspec": {
   "display_name": "Python 3",
   "language": "python",
   "name": "python3"
  },
  "language_info": {
   "codemirror_mode": {
    "name": "ipython",
    "version": 3
   },
   "file_extension": ".py",
   "mimetype": "text/x-python",
   "name": "python",
   "nbconvert_exporter": "python",
   "pygments_lexer": "ipython3",
   "version": "3.12.0"
  }
 },
 "nbformat": 4,
 "nbformat_minor": 5
}
