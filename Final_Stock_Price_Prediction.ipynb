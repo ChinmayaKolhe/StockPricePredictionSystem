{
 "cells": [
  {
   "cell_type": "markdown",
   "id": "7d9889d9",
   "metadata": {},
   "source": [
    "# Stock Price Prediction System"
   ]
  },
  {
   "cell_type": "markdown",
   "id": "41a9cdd9",
   "metadata": {},
   "source": [
    "### Import necessary libraries"
   ]
  },
  {
   "cell_type": "code",
   "execution_count": 1,
   "id": "d9ff269d",
   "metadata": {},
   "outputs": [],
   "source": [
    "import pandas as pd\n",
    "import numpy as np\n",
    "import matplotlib.pyplot as plt\n",
    "import seaborn as sns\n",
    "from datetime import datetime, timedelta\n",
    "import warnings\n",
    "warnings.filterwarnings('ignore')"
   ]
  },
  {
   "cell_type": "markdown",
   "id": "be366448",
   "metadata": {},
   "source": [
    "### Machine Learning libraries"
   ]
  },
  {
   "cell_type": "code",
   "execution_count": 2,
   "id": "0466f208",
   "metadata": {},
   "outputs": [],
   "source": [
    "from sklearn.preprocessing import MinMaxScaler\n",
    "from sklearn.model_selection import train_test_split\n",
    "from sklearn.linear_model import LinearRegression\n",
    "from sklearn.ensemble import RandomForestRegressor\n",
    "from sklearn.metrics import mean_squared_error, mean_absolute_error, r2_score\n",
    "from sklearn.svm import SVR"
   ]
  },
  {
   "cell_type": "markdown",
   "id": "37a915d3",
   "metadata": {},
   "source": [
    "### Deep Learning libraries"
   ]
  },
  {
   "cell_type": "code",
   "execution_count": 3,
   "id": "39a7046c",
   "metadata": {},
   "outputs": [],
   "source": [
    "import tensorflow as tf\n",
    "from tensorflow.keras.models import Sequential\n",
    "from tensorflow.keras.layers import Dense, LSTM, Dropout"
   ]
  },
  {
   "cell_type": "markdown",
   "id": "54c27a98",
   "metadata": {},
   "source": [
    "### Technical Analysis library"
   ]
  },
  {
   "cell_type": "code",
   "execution_count": 4,
   "id": "008201fa",
   "metadata": {},
   "outputs": [],
   "source": [
    "import ta"
   ]
  },
  {
   "cell_type": "markdown",
   "id": "95f95453",
   "metadata": {},
   "source": [
    "### API libraries"
   ]
  },
  {
   "cell_type": "code",
   "execution_count": 5,
   "id": "901bbad1",
   "metadata": {},
   "outputs": [],
   "source": [
    "import yfinance as yf\n",
    "from alpha_vantage.timeseries import TimeSeries"
   ]
  },
  {
   "cell_type": "markdown",
   "id": "5b937ca2",
   "metadata": {},
   "source": [
    "### Visualization libraries"
   ]
  },
  {
   "cell_type": "code",
   "execution_count": 6,
   "id": "10611e41",
   "metadata": {},
   "outputs": [
    {
     "name": "stdout",
     "output_type": "stream",
     "text": [
      "All libraries imported successfully!\n"
     ]
    }
   ],
   "source": [
    "import mplfinance as mpf\n",
    "import plotly.graph_objects as go\n",
    "from plotly.subplots import make_subplots\n",
    "import plotly.express as px\n",
    "\n",
    "import joblib\n",
    "import os\n",
    "\n",
    "print(\"All libraries imported successfully!\")"
   ]
  },
  {
   "cell_type": "code",
   "execution_count": 7,
   "id": "00af6c57",
   "metadata": {},
   "outputs": [],
   "source": [
    "# Alpha Vantage API Key\n",
    "ALPHA_KEY = \"909ZVCBKRQTZNM6M\"  # set env var in production\n",
    "\n",
    "def get_market_status():\n",
    "    \"\"\"Check current market status and explain data availability\"\"\"\n",
    "    now = datetime.now()\n",
    "    current_time = now.strftime('%Y-%m-%d %H:%M:%S')\n",
    "    weekday = now.strftime('%A')\n",
    "    \n",
    "    print(f\"\\n{'='*60}\")\n",
    "    print(f\"MARKET STATUS CHECK\")\n",
    "    print(f\"{'='*60}\")\n",
    "    print(f\"Current Date/Time: {current_time}\")\n",
    "    print(f\"Today is: {weekday}\")\n",
    "    \n",
    "    # Check if it's weekend\n",
    "    if now.weekday() >= 5:  # Saturday = 5, Sunday = 6\n",
    "        print(f\"⚠️  Markets are CLOSED (Weekend)\")\n",
    "        print(f\"💡 Most recent trading day data available\")\n",
    "    else:\n",
    "        # Check if it's before market open (rough estimate - 9:30 AM EST)\n",
    "        if now.hour < 9 or (now.hour == 9 and now.minute < 30):\n",
    "            print(f\"🕐 Markets haven't opened yet today\")\n",
    "            print(f\"💡 Yesterday's data is the most recent\")\n",
    "        elif now.hour >= 16:  # After 4 PM EST (market close)\n",
    "            print(f\"🔔 Markets closed for the day\")\n",
    "            print(f\"💡 Today's data should be available\")\n",
    "        else:\n",
    "            print(f\"📈 Markets are currently OPEN\")\n",
    "            print(f\"💡 Real-time data available with some delay\")\n",
    "    \n",
    "    print(f\"{'='*60}\")"
   ]
  },
  {
   "cell_type": "code",
   "execution_count": 8,
   "id": "61320a96",
   "metadata": {},
   "outputs": [],
   "source": [
    "def fetch_yf(symbol, start=None, end=None, period='2y', interval='1d'):\n",
    "    \"\"\"Fetch using yfinance with safe column selection\"\"\"\n",
    "    try:\n",
    "        if start and end:\n",
    "            df = yf.download(symbol, start=start, end=end, interval=interval, progress=False)\n",
    "        else:\n",
    "            df = yf.download(symbol, period=period, interval=interval, progress=False)\n",
    "\n",
    "        # If no data is returned\n",
    "        if df.empty:\n",
    "            print(f\"No data found for symbol: {symbol}\")\n",
    "            return None\n",
    "\n",
    "        # If multiple tickers, yfinance returns MultiIndex columns -> select the symbol level\n",
    "        if isinstance(df.columns, pd.MultiIndex):\n",
    "            df = df.xs(symbol, axis=1, level=1)\n",
    "\n",
    "        # Some tickers don't have Adj Close — check before selecting\n",
    "        expected_cols = ['Open', 'High', 'Low', 'Close', 'Adj Close', 'Volume']\n",
    "        available_cols = [c for c in expected_cols if c in df.columns]\n",
    "\n",
    "        df = df[available_cols]  # only keep available columns\n",
    "        df.dropna(inplace=True)\n",
    "        \n",
    "        if df.empty:\n",
    "            print(f\"No data available after cleaning for symbol: {symbol}\")\n",
    "            return None\n",
    "            \n",
    "        print(f\"Successfully fetched data for {symbol}. Shape: {df.shape}\")\n",
    "        return df\n",
    "    except Exception as e:\n",
    "        print(f\"Error fetching data for {symbol}: {str(e)}\")\n",
    "        return None"
   ]
  },
  {
   "cell_type": "code",
   "execution_count": 9,
   "id": "0806de00",
   "metadata": {},
   "outputs": [],
   "source": [
    "def add_technical_indicators(df):\n",
    "    df = df.copy()\n",
    "    # Simple moving averages\n",
    "    df['SMA_10'] = df['Close'].rolling(10).mean()\n",
    "    df['SMA_50'] = df['Close'].rolling(50).mean()\n",
    "    # Exponential moving average\n",
    "    df['EMA_20'] = df['Close'].ewm(span=20, adjust=False).mean()\n",
    "    # RSI\n",
    "    df['RSI'] = ta.momentum.rsi(df['Close'], window=14)\n",
    "    # MACD\n",
    "    macd = ta.trend.MACD(df['Close'])\n",
    "    df['MACD'] = macd.macd()\n",
    "    df['MACD_SIGNAL'] = macd.macd_signal()\n",
    "    # Bollinger Bands\n",
    "    bb = ta.volatility.BollingerBands(df['Close'], window=20, window_dev=2)\n",
    "    df['BB_H'] = bb.bollinger_hband()\n",
    "    df['BB_L'] = bb.bollinger_lband()\n",
    "    df.dropna(inplace=True)\n",
    "    return df\n",
    "\n",
    "def prepare_supervised(df, feature_cols, target_col='Close', n_ahead=5):\n",
    "    df = df.copy()\n",
    "    df['Target'] = df[target_col].shift(-n_ahead)\n",
    "    df.dropna(inplace=True)\n",
    "    X = df[feature_cols].values\n",
    "    y = df['Target'].values\n",
    "    return X, y, df\n",
    "\n",
    "def train_and_eval_models(X_train, X_test, y_train, y_test):\n",
    "    results = {}\n",
    "    models = {\n",
    "        'LinearRegression': LinearRegression(),\n",
    "        'RandomForest': RandomForestRegressor(n_estimators=100, random_state=42),\n",
    "        'SVR': SVR(kernel='rbf', C=1.0, epsilon=0.01)\n",
    "    }\n",
    "    for name, m in models.items():\n",
    "        m.fit(X_train, y_train)\n",
    "        preds = m.predict(X_test)\n",
    "        results[name] = {\n",
    "            'model': m,\n",
    "            'mse': mean_squared_error(y_test, preds),\n",
    "            'mae': mean_absolute_error(y_test, preds),\n",
    "            'r2': r2_score(y_test, preds),\n",
    "            'predictions': preds\n",
    "        }\n",
    "    return results"
   ]
  },
  {
   "cell_type": "code",
   "execution_count": 10,
   "id": "7b5e71d6",
   "metadata": {},
   "outputs": [],
   "source": [
    "def create_sequences(data, seq_length=60):\n",
    "    X, y = [], []\n",
    "    for i in range(seq_length, len(data)):\n",
    "        X.append(data[i-seq_length:i])\n",
    "        y.append(data[i, 0])  # assuming first column is Close scaled\n",
    "    return np.array(X), np.array(y)\n",
    "\n",
    "def build_lstm(input_shape):\n",
    "    model = Sequential()\n",
    "    model.add(LSTM(64, return_sequences=True, input_shape=input_shape))\n",
    "    model.add(Dropout(0.2))\n",
    "    model.add(LSTM(32, return_sequences=False))\n",
    "    model.add(Dropout(0.2))\n",
    "    model.add(Dense(16, activation='relu'))\n",
    "    model.add(Dense(1))\n",
    "    model.compile(optimizer='adam', loss='mse', metrics=['mae'])\n",
    "    return model\n",
    "\n",
    "def generate_future_dates_enhanced(last_date, days_ahead=7, include_weekends_info=True):\n",
    "    \"\"\"\n",
    "    Enhanced future date generation with better weekend handling and information\n",
    "    \"\"\"\n",
    "    future_dates = []\n",
    "    skipped_dates = []\n",
    "    current_date = last_date + timedelta(days=1)\n",
    "    \n",
    "    print(f\"\\n📅 GENERATING FUTURE TRADING DATES\")\n",
    "    print(f\"Last trading day in data: {last_date.strftime('%Y-%m-%d (%A)')}\")\n",
    "    \n",
    "    days_checked = 0\n",
    "    while len(future_dates) < days_ahead and days_checked < days_ahead * 2:  # Safety limit\n",
    "        day_name = current_date.strftime('%A')\n",
    "        \n",
    "        # Skip weekends (Saturday=5, Sunday=6)\n",
    "        if current_date.weekday() < 5:  # Monday to Friday\n",
    "            future_dates.append(current_date)\n",
    "            print(f\"✅ {current_date.strftime('%Y-%m-%d')} ({day_name}) - Trading Day\")\n",
    "        else:\n",
    "            skipped_dates.append((current_date, day_name))\n",
    "            if include_weekends_info:\n",
    "                print(f\"⏭️  {current_date.strftime('%Y-%m-%d')} ({day_name}) - Skipped (Weekend)\")\n",
    "        \n",
    "        current_date += timedelta(days=1)\n",
    "        days_checked += 1\n",
    "    \n",
    "    print(f\"\\n📊 Generated {len(future_dates)} future trading days\")\n",
    "    if skipped_dates:\n",
    "        print(f\"🚫 Skipped {len(skipped_dates)} weekend days\")\n",
    "    \n",
    "    return future_dates[:days_ahead]"
   ]
  },
  {
   "cell_type": "code",
   "execution_count": 11,
   "id": "dba796da",
   "metadata": {},
   "outputs": [],
   "source": [
    "def predict_future_prices(model, scaler, df, feature_cols, days_ahead=7):\n",
    "    \"\"\"Predict future prices for the next N days\"\"\"\n",
    "    future_predictions = []\n",
    "    current_data = df[feature_cols].iloc[-1:].values.copy()\n",
    "    \n",
    "    for day in range(days_ahead):\n",
    "        # Scale the current data\n",
    "        current_data_scaled = scaler.transform(current_data)\n",
    "        \n",
    "        # Make prediction\n",
    "        prediction = model.predict(current_data_scaled)[0]\n",
    "        future_predictions.append(prediction)\n",
    "        \n",
    "        # Update the current data for next prediction (using the prediction as new Close price)\n",
    "        if day < days_ahead - 1:\n",
    "            current_data[0, 0] = prediction  # Update Close price\n",
    "    \n",
    "    return future_predictions\n",
    "\n",
    "def predict_future_lstm(model, scaler, df, sequence_length=60, days_ahead=7):\n",
    "    \"\"\"Predict future prices using LSTM model\"\"\"\n",
    "    # Get the last sequence\n",
    "    last_sequence = df[['Close', 'Volume']].values[-sequence_length:]\n",
    "    last_sequence_scaled = scaler.transform(last_sequence)\n",
    "    \n",
    "    future_predictions = []\n",
    "    current_sequence = last_sequence_scaled.copy()\n",
    "    \n",
    "    for day in range(days_ahead):\n",
    "        # Reshape for LSTM input\n",
    "        X_pred = current_sequence.reshape(1, sequence_length, 2)\n",
    "        \n",
    "        # Make prediction\n",
    "        prediction_scaled = model.predict(X_pred, verbose=0)[0, 0]\n",
    "        \n",
    "        # Inverse transform to get actual price\n",
    "        dummy_array = np.zeros((1, 2))\n",
    "        dummy_array[0, 0] = prediction_scaled\n",
    "        prediction_actual = scaler.inverse_transform(dummy_array)[0, 0]\n",
    "        \n",
    "        future_predictions.append(prediction_actual)\n",
    "        \n",
    "        # Update the sequence for next prediction\n",
    "        if day < days_ahead - 1:\n",
    "            new_row = np.array([[prediction_scaled, current_sequence[-1, 1]]])\n",
    "            current_sequence = np.vstack([current_sequence[1:], new_row])\n",
    "    \n",
    "    return future_predictions"
   ]
  },
  {
   "cell_type": "code",
   "execution_count": 12,
   "id": "a69384e2",
   "metadata": {},
   "outputs": [],
   "source": [
    "def create_future_predictions_table(symbol, today_price, future_dates, rf_predictions, lstm_predictions=None):\n",
    "    \"\"\"\n",
    "    Create a beautiful visualization table for future predictions\n",
    "    \"\"\"\n",
    "    # Prepare data for the table\n",
    "    table_data = []\n",
    "    \n",
    "    for i, date in enumerate(future_dates):\n",
    "        rf_pred = rf_predictions[i]\n",
    "        rf_change = ((rf_pred - today_price) / today_price) * 100\n",
    "        \n",
    "        row = {\n",
    "            'Date': date.strftime('%Y-%m-%d'),\n",
    "            'Day': date.strftime('%A'),\n",
    "            'Days_Ahead': i + 1,\n",
    "            'RF_Price': rf_pred,\n",
    "            'RF_Change_%': rf_change,\n",
    "            'RF_Direction': '📈' if rf_change > 0 else '📉' if rf_change < 0 else '➡️'\n",
    "        }\n",
    "        \n",
    "        if lstm_predictions:\n",
    "            lstm_pred = lstm_predictions[i]\n",
    "            lstm_change = ((lstm_pred - today_price) / today_price) * 100\n",
    "            row.update({\n",
    "                'LSTM_Price': lstm_pred,\n",
    "                'LSTM_Change_%': lstm_change,\n",
    "                'LSTM_Direction': '📈' if lstm_change > 0 else '📉' if lstm_change < 0 else '➡️'\n",
    "            })\n",
    "        \n",
    "        table_data.append(row)\n",
    "    \n",
    "    df_predictions = pd.DataFrame(table_data)\n",
    "    \n",
    "    # Create interactive table using Plotly\n",
    "    fig = go.Figure()\n",
    "    \n",
    "    # Prepare table data\n",
    "    if lstm_predictions:\n",
    "        header_values = ['Date', 'Day', 'Days<br>Ahead', \n",
    "                        'RF Price<br>($)', 'RF Change<br>(%)', 'RF<br>Trend',\n",
    "                        'LSTM Price<br>($)', 'LSTM Change<br>(%)', 'LSTM<br>Trend']\n",
    "        \n",
    "        cell_values = [\n",
    "            df_predictions['Date'].tolist(),\n",
    "            df_predictions['Day'].tolist(),\n",
    "            df_predictions['Days_Ahead'].tolist(),\n",
    "            [f\"${x:.2f}\" for x in df_predictions['RF_Price']],\n",
    "            [f\"{x:+.2f}%\" for x in df_predictions['RF_Change_%']],\n",
    "            df_predictions['RF_Direction'].tolist(),\n",
    "            [f\"${x:.2f}\" for x in df_predictions['LSTM_Price']],\n",
    "            [f\"{x:+.2f}%\" for x in df_predictions['LSTM_Change_%']],\n",
    "            df_predictions['LSTM_Direction'].tolist()\n",
    "        ]\n",
    "    else:\n",
    "        header_values = ['Date', 'Day', 'Days<br>Ahead', \n",
    "                        'RF Price<br>($)', 'RF Change<br>(%)', 'RF<br>Trend']\n",
    "        \n",
    "        cell_values = [\n",
    "            df_predictions['Date'].tolist(),\n",
    "            df_predictions['Day'].tolist(),\n",
    "            df_predictions['Days_Ahead'].tolist(),\n",
    "            [f\"${x:.2f}\" for x in df_predictions['RF_Price']],\n",
    "            [f\"{x:+.2f}%\" for x in df_predictions['RF_Change_%']],\n",
    "            df_predictions['RF_Direction'].tolist()\n",
    "        ]\n",
    "    \n",
    "    # Color cells based on positive/negative changes\n",
    "    def get_cell_colors(changes):\n",
    "        colors = []\n",
    "        for change in changes:\n",
    "            if change > 0:\n",
    "                colors.append('#d4edda')  # Light green for positive\n",
    "            elif change < 0:\n",
    "                colors.append('#f8d7da')  # Light red for negative\n",
    "            else:\n",
    "                colors.append('#fff3cd')  # Light yellow for neutral\n",
    "        return colors\n",
    "    # Create color arrays for each column\n",
    "    rf_colors = get_cell_colors(df_predictions['RF_Change_%'])\n",
    "    \n",
    "    if lstm_predictions:\n",
    "        lstm_colors = get_cell_colors(df_predictions['LSTM_Change_%'])\n",
    "        fill_colors = [['white'] * len(df_predictions),  # Date\n",
    "                      ['white'] * len(df_predictions),   # Day\n",
    "                      ['white'] * len(df_predictions),   # Days Ahead\n",
    "                      rf_colors,                         # RF Price\n",
    "                      rf_colors,                         # RF Change\n",
    "                      rf_colors,                         # RF Direction\n",
    "                      lstm_colors,                       # LSTM Price\n",
    "                      lstm_colors,                       # LSTM Change\n",
    "                      lstm_colors]                       # LSTM Direction\n",
    "    else:\n",
    "        fill_colors = [['white'] * len(df_predictions),  # Date\n",
    "                      ['white'] * len(df_predictions),   # Day\n",
    "                      ['white'] * len(df_predictions),   # Days Ahead\n",
    "                      rf_colors,                         # RF Price\n",
    "                      rf_colors,                         # RF Change\n",
    "                      rf_colors]                         # RF Direction\n",
    "    \n",
    "    fig.add_trace(go.Table(\n",
    "        header=dict(\n",
    "            values=header_values,\n",
    "            fill_color='#1f2937',\n",
    "            font=dict(color='white', size=14, family=\"Arial Black\"),\n",
    "            align='center',\n",
    "            height=40\n",
    "        ),\n",
    "        cells=dict(\n",
    "            values=cell_values,\n",
    "            fill_color=fill_colors,\n",
    "            font=dict(size=12),\n",
    "            align='center',\n",
    "            height=35\n",
    "        )\n",
    "    ))\n",
    "    \n",
    "    fig.update_layout(\n",
    "        title=dict(\n",
    "            text=f'{symbol} - Future Price Predictions Table<br><sub>Current Price: ${today_price:.2f}</sub>',\n",
    "            x=0.5,\n",
    "            font=dict(size=18, color='#1f2937')\n",
    "        ),\n",
    "        height=400,\n",
    "        margin=dict(l=20, r=20, t=80, b=20)\n",
    "    )\n",
    "    \n",
    "    return fig, df_predictions"
   ]
  },
  {
   "cell_type": "code",
   "execution_count": 13,
   "id": "c773f654",
   "metadata": {},
   "outputs": [],
   "source": [
    "def create_prediction_comparison_chart(symbol, today_price, future_dates, rf_predictions, lstm_predictions=None):\n",
    "    \"\"\"\n",
    "    Create a comparison chart for different model predictions\n",
    "    \"\"\"\n",
    "    fig = go.Figure()\n",
    "    \n",
    "    # Add current price as starting point\n",
    "    all_dates = [future_dates[0] - timedelta(days=1)] + future_dates\n",
    "    rf_prices = [today_price] + rf_predictions\n",
    "    \n",
    "    # Add RandomForest predictions\n",
    "    fig.add_trace(go.Scatter(\n",
    "        x=all_dates, \n",
    "        y=rf_prices,\n",
    "        name='RandomForest Prediction',\n",
    "        line=dict(color='#2E86AB', width=3),\n",
    "        marker=dict(size=8, symbol='circle')\n",
    "    ))\n",
    "    \n",
    "    # Add LSTM predictions if available\n",
    "    if lstm_predictions:\n",
    "        lstm_prices = [today_price] + lstm_predictions\n",
    "        fig.add_trace(go.Scatter(\n",
    "            x=all_dates, \n",
    "            y=lstm_prices,\n",
    "            name='LSTM Prediction',\n",
    "            line=dict(color='#F24236', width=3, dash='dot'),\n",
    "            marker=dict(size=8, symbol='diamond')\n",
    "        ))\n",
    "    \n",
    "    # Add current price marker\n",
    "    fig.add_trace(go.Scatter(\n",
    "        x=[all_dates[0]], \n",
    "        y=[today_price],\n",
    "        name='Current Price',\n",
    "        mode='markers',\n",
    "        marker=dict(size=15, color='green', symbol='star')\n",
    "    ))\n",
    "    \n",
    "    # Add horizontal line for current price reference\n",
    "    fig.add_hline(\n",
    "        y=today_price, \n",
    "        line_dash=\"dash\", \n",
    "        line_color=\"gray\", \n",
    "        annotation_text=f\"Current: ${today_price:.2f}\"\n",
    "    )\n",
    "    \n",
    "    fig.update_layout(\n",
    "        title=f'{symbol} - Future Price Predictions Comparison',\n",
    "        xaxis_title='Date',\n",
    "        yaxis_title='Price ($)',\n",
    "        template='plotly_white',\n",
    "        height=500,\n",
    "        hovermode='x unified'\n",
    "    )\n",
    "    \n",
    "    return fig\n"
   ]
  },
  {
   "cell_type": "code",
   "execution_count": 14,
   "id": "808a6a5a",
   "metadata": {},
   "outputs": [],
   "source": [
    "\n",
    "def create_professional_stock_visualization(df, actual_prices, predicted_prices, symbol, model_name, future_dates=None, future_prices=None):\n",
    "    # Create a subset of the dataframe for the validation period\n",
    "    val_dates = df.index[-len(actual_prices):]\n",
    "    \n",
    "    # Create subplots with secondary y-axis for volume\n",
    "    fig = make_subplots(\n",
    "        rows=2, cols=1,\n",
    "        shared_xaxes=True,\n",
    "        vertical_spacing=0.1,\n",
    "        subplot_titles=(f'{symbol} Price Prediction with {model_name}', 'Volume'),\n",
    "        row_width=[0.2, 0.7]\n",
    "    )\n",
    "    \n",
    "    # Add actual price line\n",
    "    fig.add_trace(\n",
    "        go.Scatter(x=val_dates, y=actual_prices, name=\"Actual Price\", \n",
    "                  line=dict(color='#2E86AB', width=2)),\n",
    "        row=1, col=1\n",
    "    )\n",
    "    \n",
    "    # Add predicted price line\n",
    "    fig.add_trace(\n",
    "        go.Scatter(x=val_dates, y=predicted_prices, name=\"Predicted Price\", \n",
    "                  line=dict(color='#F24236', width=2, dash='dot')),\n",
    "        row=1, col=1\n",
    "    )\n",
    "    \n",
    "    # Add future predictions if available\n",
    "    if future_dates is not None and future_prices is not None:\n",
    "        fig.add_trace(\n",
    "            go.Scatter(x=future_dates, y=future_prices, name=\"Future Prediction\", \n",
    "                      line=dict(color='#00FF00', width=3, dash='dash'),\n",
    "                      marker=dict(size=8, symbol='star')),\n",
    "            row=1, col=1\n",
    "        )\n",
    "    \n",
    "    # Add volume bar chart\n",
    "    fig.add_trace(\n",
    "        go.Bar(x=val_dates, y=df['Volume'].values[-len(actual_prices):], \n",
    "               name=\"Volume\", marker_color='#A23B72'),\n",
    "        row=2, col=1\n",
    "    )\n",
    "    \n",
    "    # Add moving averages if available\n",
    "    if 'SMA_50' in df.columns:\n",
    "        fig.add_trace(\n",
    "            go.Scatter(x=val_dates, y=df['SMA_50'].values[-len(actual_prices):], \n",
    "                       name=\"SMA 50\", line=dict(color='orange', width=1)),\n",
    "            row=1, col=1\n",
    "        )\n",
    "    \n",
    "    # Update layout\n",
    "    fig.update_layout(\n",
    "        title=f'{symbol} Stock Price Prediction with {model_name}',\n",
    "        yaxis_title='Price ($)',\n",
    "        xaxis_rangeslider_visible=False,\n",
    "        template='plotly_white',\n",
    "        height=700,\n",
    "        legend=dict(orientation=\"h\", yanchor=\"bottom\", y=1.02, xanchor=\"right\", x=1)\n",
    "    )\n",
    "    \n",
    "    # Update y-axis label\n",
    "    fig.update_yaxes(title_text=\"Price ($)\", row=1, col=1)\n",
    "    fig.update_yaxes(title_text=\"Volume\", row=2, col=1)\n",
    "    \n",
    "    # Add prediction accuracy annotation\n",
    "    mae = mean_absolute_error(actual_prices, predicted_prices)\n",
    "    mape = np.mean(np.abs((actual_prices - predicted_prices) / actual_prices)) * 100\n",
    "    \n",
    "    fig.add_annotation(\n",
    "        x=0.02, y=0.98,\n",
    "        xref=\"paper\", yref=\"paper\",\n",
    "        text=f\"MAE: ${mae:.2f}<br>MAPE: {mape:.2f}%\",\n",
    "        showarrow=False,\n",
    "        font=dict(size=12),\n",
    "        align=\"left\",\n",
    "        bordercolor=\"black\",\n",
    "        borderwidth=1,\n",
    "        borderpad=4,\n",
    "        bgcolor=\"white\",\n",
    "        opacity=0.8\n",
    "    )\n",
    "    \n",
    "    return fig"
   ]
  },
  {
   "cell_type": "code",
   "execution_count": 15,
   "id": "1a7af701",
   "metadata": {},
   "outputs": [],
   "source": [
    "def plot_technical_indicators(df, symbol):\n",
    "    fig = make_subplots(\n",
    "        rows=3, cols=1,\n",
    "        shared_xaxes=True,\n",
    "        vertical_spacing=0.05,\n",
    "        subplot_titles=('Price with Bollinger Bands', 'RSI', 'MACD'),\n",
    "        row_width=[0.2, 0.2, 0.6]\n",
    "    )\n",
    "    \n",
    "    # Price with Bollinger Bands\n",
    "    fig.add_trace(\n",
    "        go.Scatter(x=df.index, y=df['Close'], name=\"Close\", line=dict(color='#2E86AB')),\n",
    "        row=1, col=1\n",
    "    )\n",
    "    \n",
    "    if 'BB_H' in df.columns and 'BB_L' in df.columns:\n",
    "        fig.add_trace(\n",
    "            go.Scatter(x=df.index, y=df['BB_H'], name=\"Upper Band\", line=dict(color='gray', dash='dash')),\n",
    "            row=1, col=1\n",
    "        )\n",
    "        fig.add_trace(\n",
    "            go.Scatter(x=df.index, y=df['BB_L'], name=\"Lower Band\", line=dict(color='gray', dash='dash'),\n",
    "                      fill='tonexty', fillcolor='rgba(128,128,128,0.1)'),\n",
    "            row=1, col=1\n",
    "        )\n",
    "    \n",
    "    # RSI\n",
    "    if 'RSI' in df.columns:\n",
    "        fig.add_trace(\n",
    "            go.Scatter(x=df.index, y=df['RSI'], name=\"RSI\", line=dict(color='purple')),\n",
    "            row=2, col=1\n",
    "        )\n",
    "        # Add RSI overbought/oversold lines\n",
    "        fig.add_hline(y=70, line_dash=\"dash\", line_color=\"red\", row=2, col=1)\n",
    "        fig.add_hline(y=30, line_dash=\"dash\", line_color=\"green\", row=2, col=1)\n",
    "    \n",
    "    # MACD\n",
    "    if 'MACD' in df.columns and 'MACD_SIGNAL' in df.columns:\n",
    "        fig.add_trace(\n",
    "            go.Scatter(x=df.index, y=df['MACD'], name=\"MACD\", line=dict(color='blue')),\n",
    "            row=3, col=1\n",
    "        )\n",
    "        fig.add_trace(\n",
    "            go.Scatter(x=df.index, y=df['MACD_SIGNAL'], name=\"Signal\", line=dict(color='red')),\n",
    "            row=3, col=1\n",
    "        )\n",
    "    \n",
    "    fig.update_layout(\n",
    "        title=f'{symbol} Technical Indicators',\n",
    "        height=800,\n",
    "        showlegend=True,\n",
    "        template='plotly_white'\n",
    "    )\n",
    "    \n",
    "    return fig\n",
    "\n",
    "# Stock symbol mapping for common stocks\n",
    "STOCK_SYMBOL_MAP = {\n",
    "    # US Stocks\n",
    "    'AAPL': 'AAPL', 'APPLE': 'AAPL',\n",
    "    'MSFT': 'MSFT', 'MICROSOFT': 'MSFT',\n",
    "    'GOOGL': 'GOOGL', 'GOOGLE': 'GOOGL', 'ALPHABET': 'GOOGL',\n",
    "    'AMZN': 'AMZN', 'AMAZON': 'AMZN',\n",
    "    'TSLA': 'TSLA', 'TESLA': 'TSLA',\n",
    "    'META': 'META', 'FACEBOOK': 'META',\n",
    "    'NFLX': 'NFLX', 'NETFLIX': 'NFLX',\n",
    "    'NVDA': 'NVDA', 'NVIDIA': 'NVDA',\n",
    "    \n",
    "    # Indian Stocks (NSE)\n",
    "    'RELIANCE': 'RELIANCE.NS', 'L&T': 'LT.NS', 'LT': 'LT.NS', 'LARSEN': 'LT.NS',\n",
    "    'TCS': 'TCS.NS', 'INFY': 'INFY.NS', 'INFOSYS': 'INFY.NS',\n",
    "    'HDFC': 'HDFCBANK.NS', 'HDFCBANK': 'HDFCBANK.NS',\n",
    "    'ICICI': 'ICICIBANK.NS', 'ICICIBANK': 'ICICIBANK.NS',\n",
    "    'SBIN': 'SBIN.NS', 'SBI': 'SBIN.NS',\n",
    "    'WIPRO': 'WIPRO.NS', 'AXISBANK': 'AXISBANK.NS',\n",
    "    'KOTAKBANK': 'KOTAKBANK.NS', 'KOTAK': 'KOTAKBANK.NS',\n",
    "    'BHARTI': 'BHARTIARTL.NS', 'AIRTEL': 'BHARTIARTL.NS',\n",
    "    \n",
    "    # International Stocks\n",
    "    'SAMSUNG': '005930.KS', 'TOYOTA': 'TM', 'SONY': 'SONY',\n",
    "    'SHELL': 'SHEL', 'BP': 'BP', 'TOTAL': 'TTE'\n",
    "}\n"
   ]
  },
  {
   "cell_type": "code",
   "execution_count": 16,
   "id": "db179e97",
   "metadata": {},
   "outputs": [],
   "source": [
    "def get_correct_symbol(symbol_input):\n",
    "    \"\"\"Convert user input to correct Yahoo Finance symbol\"\"\"\n",
    "    symbol_input = symbol_input.upper().strip()\n",
    "    \n",
    "    # Check if input is already in the map\n",
    "    if symbol_input in STOCK_SYMBOL_MAP:\n",
    "        return STOCK_SYMBOL_MAP[symbol_input]\n",
    "    \n",
    "    # Check if it's a known Indian stock without .NS\n",
    "    if symbol_input + '.NS' in STOCK_SYMBOL_MAP.values():\n",
    "        return symbol_input + '.NS'\n",
    "    \n",
    "    # If it contains special characters, try to clean it\n",
    "    if '&' in symbol_input:\n",
    "        # Handle cases like \"L&T\"\n",
    "        cleaned = symbol_input.replace('&', '').replace(' ', '')\n",
    "        if cleaned in STOCK_SYMBOL_MAP:\n",
    "            return STOCK_SYMBOL_MAP[cleaned]\n",
    "    \n",
    "    # If no mapping found, return as is (user might know the exact symbol)\n",
    "    return symbol_input\n",
    "\n",
    "def suggest_symbols(partial_input):\n",
    "    \"\"\"Suggest possible symbols based on partial input\"\"\"\n",
    "    partial = partial_input.upper()\n",
    "    suggestions = []\n",
    "    \n",
    "    for name, symbol in STOCK_SYMBOL_MAP.items():\n",
    "        if partial in name.upper() or partial in symbol.upper():\n",
    "            suggestions.append((name, symbol))\n",
    "    \n",
    "    return suggestions[:5]  # Return top 5 suggestions\n",
    "\n",
    "def predict_stock_price_enhanced(symbol_input, period='3y', n_ahead=5, future_days=7):\n",
    "    \"\"\"\n",
    "    Enhanced stock prediction with better date handling and visualizations\n",
    "    \"\"\"\n",
    "    # Check market status first\n",
    "    get_market_status()\n",
    "    \n",
    "    # Get correct symbol format\n",
    "    symbol = get_correct_symbol(symbol_input)\n",
    "    \n",
    "    print(f\"\\n{'='*60}\")\n",
    "    print(f\"PREDICTING STOCK PRICE FOR: {symbol_input} -> {symbol}\")\n",
    "    print(f\"{'='*60}\")\n",
    "    \n",
    "    # Step 1: Fetch data with date information\n",
    "    df = fetch_yf(symbol, period=period)\n",
    "    if df is None:\n",
    "        print(f\"Could not fetch data for {symbol}. Please check the symbol and try again.\")\n",
    "        \n",
    "        # Suggest similar symbols\n",
    "        suggestions = suggest_symbols(symbol_input)\n",
    "        if suggestions:\n",
    "            print(f\"\\nDid you mean one of these?\")\n",
    "            for name, correct_symbol in suggestions:\n",
    "                print(f\"  {name} -> {correct_symbol}\")\n",
    "        \n",
    "        return None\n",
    "    \n",
    "    # Show data date range\n",
    "    print(f\"📊 Data Range: {df.index[0].strftime('%Y-%m-%d')} to {df.index[-1].strftime('%Y-%m-%d')}\")\n",
    "    print(f\"📈 Most recent price: ${df['Close'].iloc[-1]:.2f}\")\n",
    "    \n",
    "    # Step 2: Add technical indicators\n",
    "    df = add_technical_indicators(df)\n",
    "    print(f\"Data shape after technical indicators: {df.shape}\")\n",
    "    \n",
    "    # Step 3: Prepare features\n",
    "    features = ['Close','SMA_10','SMA_50','EMA_20','RSI','MACD','MACD_SIGNAL','BB_H','BB_L','Volume']\n",
    "    available_features = [f for f in features if f in df.columns]\n",
    "    df = df.dropna(subset=available_features)\n",
    "    \n",
    "    if len(df) < 100:\n",
    "        print(f\"Not enough data for {symbol}. Only {len(df)} records available.\")\n",
    "        return None\n",
    "    \n",
    "    # Step 4: Train models\n",
    "    print(\"\\n🤖 Training Classical Models...\")\n",
    "    X, y, df_supervised = prepare_supervised(df, feature_cols=available_features, n_ahead=n_ahead)\n",
    "    \n",
    "    X_train, X_test, y_train, y_test = train_test_split(X, y, test_size=0.2, shuffle=False)\n",
    "    \n",
    "    scaler = MinMaxScaler()\n",
    "    X_train_scaled = scaler.fit_transform(X_train)\n",
    "    X_test_scaled = scaler.transform(X_test)\n",
    "    \n",
    "    results = train_and_eval_models(X_train_scaled, X_test_scaled, y_train, y_test)\n",
    "    \n",
    "    print(\"\\n📊 Classical Models Performance:\")\n",
    "    for k, v in results.items():\n",
    "        print(f\"{k:15} MSE: {v['mse']:.4f}, MAE: {v['mae']:.4f}, R²: {v['r2']:.4f}\")\n",
    "    \n",
    "    # Step 5: LSTM Model\n",
    "    print(\"\\n🧠 Training LSTM Model...\")\n",
    "    lstm_df = df[['Close','Volume']].copy()\n",
    "    scaler_lstm = MinMaxScaler()\n",
    "    scaled = scaler_lstm.fit_transform(lstm_df)\n",
    "    \n",
    "    SEQ_LEN = 60\n",
    "    X_seq, y_seq = create_sequences(scaled, seq_length=SEQ_LEN)\n",
    "    \n",
    "    lstm_results = None\n",
    "    if len(X_seq) >= 100:\n",
    "        split = int(0.8 * len(X_seq))\n",
    "        X_tr, X_val = X_seq[:split], X_seq[split:]\n",
    "        y_tr, y_val = y_seq[:split], y_seq[split:]\n",
    "        \n",
    "        lstm = build_lstm(input_shape=(X_tr.shape[1], X_tr.shape[2]))\n",
    "        early = tf.keras.callbacks.EarlyStopping(monitor='val_loss', patience=8, restore_best_weights=True)\n",
    "        \n",
    "        history = lstm.fit(X_tr, y_tr, validation_data=(X_val, y_val), \n",
    "                          epochs=50, batch_size=32, callbacks=[early], verbose=0)\n",
    "        \n",
    "        val_preds = lstm.predict(X_val, verbose=0).flatten()\n",
    "        \n",
    "        y_val_un = scaler_lstm.inverse_transform(\n",
    "            np.concatenate([y_val.reshape(-1,1), np.zeros((len(y_val),1))], axis=1)\n",
    "        )[:,0]\n",
    "        preds_un = scaler_lstm.inverse_transform(\n",
    "            np.concatenate([val_preds.reshape(-1,1), np.zeros((len(val_preds),1))], axis=1)\n",
    "        )[:,0]\n",
    "        \n",
    "        lstm_mae = mean_absolute_error(y_val_un, preds_un)\n",
    "        lstm_mse = mean_squared_error(y_val_un, preds_un)\n",
    "        print(f\"LSTM Performance: MSE: {lstm_mse:.4f}, MAE: {lstm_mae:.4f}\")\n",
    "        \n",
    "        lstm_results = {\n",
    "            'actual': y_val_un,\n",
    "            'predicted': preds_un,\n",
    "            'model': lstm,\n",
    "            'scaler': scaler_lstm\n",
    "        }\n",
    "    else:\n",
    "        print(f\"Not enough sequences for LSTM training. Need at least 100, got {len(X_seq)}\")\n",
    "    \n",
    "    # Step 6: Enhanced Future Predictions\n",
    "    print(f\"\\n🔮 Generating {future_days}-Day Future Predictions...\")\n",
    "    \n",
    "    last_date = df.index[-1]\n",
    "    future_dates = generate_future_dates_enhanced(last_date, days_ahead=future_days)\n",
    "    \n",
    "    # Future predictions\n",
    "    rf_model = results['RandomForest']['model']\n",
    "    rf_future_predictions = predict_future_prices(rf_model, scaler, df, available_features, days_ahead=future_days)\n",
    "    \n",
    "    lstm_future_predictions = None\n",
    "    if lstm_results is not None:\n",
    "        lstm_future_predictions = predict_future_lstm(lstm_results['model'], lstm_results['scaler'], \n",
    "                                                     df, sequence_length=SEQ_LEN, days_ahead=future_days)\n",
    "    \n",
    "    # Step 7: Create Enhanced Visualizations\n",
    "    today_price = df['Close'].iloc[-1]\n",
    "    \n",
    "    print(\"\\n🎨 Creating Enhanced Visualizations...\")\n",
    "    \n",
    "    # 1. Future Predictions Table\n",
    "    table_fig, predictions_df = create_future_predictions_table(\n",
    "        symbol, today_price, future_dates, rf_future_predictions, lstm_future_predictions\n",
    "    )\n",
    "    table_fig.show()\n",
    "    \n",
    "    # 2. Comparison Chart\n",
    "    comparison_fig = create_prediction_comparison_chart(\n",
    "        symbol, today_price, future_dates, rf_future_predictions, lstm_future_predictions\n",
    "    )\n",
    "    comparison_fig.show()\n",
    "    \n",
    "    # 3. Classical models visualization with future predictions\n",
    "    best_classical = results['RandomForest']\n",
    "    classical_fig = create_professional_stock_visualization(\n",
    "        df, y_test, best_classical['predictions'], symbol, \"RandomForest\",\n",
    "        future_dates, rf_future_predictions\n",
    "    )\n",
    "    classical_fig.show()\n",
    "    \n",
    "    # 4. LSTM visualization if available\n",
    "    if lstm_results is not None:\n",
    "        lstm_fig = create_professional_stock_visualization(\n",
    "            df, lstm_results['actual'], lstm_results['predicted'], symbol, \"LSTM\",\n",
    "            future_dates, lstm_future_predictions\n",
    "        )\n",
    "        lstm_fig.show()\n",
    "    \n",
    "    # 5. Technical indicators visualization\n",
    "    tech_fig = plot_technical_indicators(df, symbol)\n",
    "    tech_fig.show()\n",
    "    \n",
    "    # Display detailed predictions in console\n",
    "    print(f\"\\n{'='*80}\")\n",
    "    print(f\"📈 DETAILED FUTURE PREDICTIONS FOR {symbol}\")\n",
    "    print(f\"{'='*80}\")\n",
    "    print(f\"📅 Analysis Date: {datetime.now().strftime('%Y-%m-%d %H:%M:%S')}\")\n",
    "    print(f\"💰 Current Price: ${today_price:.2f}\")\n",
    "    print(f\"📊 Last Trading Day: {last_date.strftime('%Y-%m-%d (%A)')}\")\n",
    "    print(f\"\\n🔮 Next {future_days} Trading Days:\")\n",
    "    print(\"-\" * 80)\n",
    "    \n",
    "    for i, date in enumerate(future_dates):\n",
    "        rf_pred = rf_future_predictions[i]\n",
    "        rf_change = ((rf_pred - today_price) / today_price) * 100\n",
    "        \n",
    "        print(f\"📅 {date.strftime('%Y-%m-%d (%A)')}: \", end=\"\")\n",
    "        print(f\"RF: ${rf_pred:.2f} ({rf_change:+.2f}%)\", end=\"\")\n",
    "        \n",
    "        if lstm_future_predictions:\n",
    "            lstm_pred = lstm_future_predictions[i]\n",
    "            lstm_change = ((lstm_pred - today_price) / today_price) * 100\n",
    "            print(f\" | LSTM: ${lstm_pred:.2f} ({lstm_change:+.2f}%)\", end=\"\")\n",
    "            \n",
    "            # Show which model is more bullish/bearish\n",
    "            if abs(rf_change) > abs(lstm_change):\n",
    "                stronger = \"RF more volatile\"\n",
    "            elif abs(lstm_change) > abs(rf_change):\n",
    "                stronger = \"LSTM more volatile\"\n",
    "            else:\n",
    "                stronger = \"Similar volatility\"\n",
    "            print(f\" | {stronger}\", end=\"\")\n",
    "        \n",
    "        # Add trend emoji\n",
    "        if rf_change > 2:\n",
    "            print(\" 🚀\")\n",
    "        elif rf_change > 0:\n",
    "            print(\" 📈\")\n",
    "        elif rf_change < -2:\n",
    "            print(\" 📉\")\n",
    "        elif rf_change < 0:\n",
    "            print(\" 🔻\")\n",
    "        else:\n",
    "            print(\" ➡️\")\n",
    "    \n",
    "    # Summary statistics\n",
    "    rf_avg_change = np.mean([((p - today_price) / today_price) * 100 for p in rf_future_predictions])\n",
    "    rf_max_price = max(rf_future_predictions)\n",
    "    rf_min_price = min(rf_future_predictions)\n",
    "    \n",
    "    print(f\"\\n📊 SUMMARY STATISTICS:\")\n",
    "    print(f\"   RandomForest Average Change: {rf_avg_change:+.2f}%\")\n",
    "    print(f\"   Predicted Range: ${rf_min_price:.2f} - ${rf_max_price:.2f}\")\n",
    "    print(f\"   Price Volatility: {((rf_max_price - rf_min_price) / today_price) * 100:.2f}%\")\n",
    "    \n",
    "    if lstm_future_predictions:\n",
    "        lstm_avg_change = np.mean([((p - today_price) / today_price) * 100 for p in lstm_future_predictions])\n",
    "        print(f\"   LSTM Average Change: {lstm_avg_change:+.2f}%\")\n",
    "    \n",
    "    # Step 8: Save models\n",
    "    print(\"\\n💾 Saving Models...\")\n",
    "    \n",
    "    # Save RandomForest model\n",
    "    rf_filename = f\"{symbol.replace('.', '_')}_rf_model.joblib\"\n",
    "    joblib.dump(results['RandomForest']['model'], rf_filename)\n",
    "    print(f\"RandomForest model saved as {rf_filename}\")\n",
    "    \n",
    "    # Save the MinMaxScaler used for classical models\n",
    "    scaler_filename = f\"{symbol.replace('.', '_')}_scaler.joblib\"\n",
    "    joblib.dump(scaler, scaler_filename)\n",
    "    print(f\"Scaler saved as {scaler_filename}\")\n",
    "    \n",
    "    # Save LSTM model and its scaler\n",
    "    if lstm_results is not None:\n",
    "        lstm_filename = f\"{symbol.replace('.', '_')}_lstm_model.keras\"\n",
    "        lstm_results['model'].save(lstm_filename)\n",
    "        print(f\"LSTM model saved as {lstm_filename}\")\n",
    "        \n",
    "        lstm_scaler_filename = f\"{symbol.replace('.', '_')}_lstm_scaler.joblib\"\n",
    "        joblib.dump(lstm_results['scaler'], lstm_scaler_filename)\n",
    "        print(f\"LSTM scaler saved as {lstm_scaler_filename}\")\n",
    "    \n",
    "    print(f\"\\n✅ Prediction completed for {symbol}!\")\n",
    "    \n",
    "    return {\n",
    "        'classical_results': results,\n",
    "        'lstm_results': lstm_results,\n",
    "        'dataframe': df,\n",
    "        'original_symbol': symbol_input,\n",
    "        'correct_symbol': symbol,\n",
    "        'future_predictions': {\n",
    "            'dates': future_dates,\n",
    "            'rf_predictions': rf_future_predictions,\n",
    "            'lstm_predictions': lstm_future_predictions\n",
    "        },\n",
    "        'predictions_table': predictions_df,\n",
    "        'current_price': today_price\n",
    "    }\n"
   ]
  },
  {
   "cell_type": "code",
   "execution_count": 17,
   "id": "d71ad866",
   "metadata": {},
   "outputs": [],
   "source": [
    "\n",
    "def create_portfolio_analysis(symbols_list, future_days=7):\n",
    "    \"\"\"\n",
    "    Analyze multiple stocks and create a portfolio comparison\n",
    "    \"\"\"\n",
    "    print(f\"\\n{'='*80}\")\n",
    "    print(f\"📊 PORTFOLIO ANALYSIS FOR MULTIPLE STOCKS\")\n",
    "    print(f\"{'='*80}\")\n",
    "    \n",
    "    portfolio_data = []\n",
    "    all_results = {}\n",
    "    \n",
    "    for symbol_input in symbols_list:\n",
    "        try:\n",
    "            print(f\"\\n🔄 Processing {symbol_input}...\")\n",
    "            result = predict_stock_price_enhanced(symbol_input, future_days=future_days)\n",
    "            if result is not None:\n",
    "                all_results[symbol_input] = result\n",
    "                \n",
    "                # Extract key data for portfolio comparison\n",
    "                current_price = result['current_price']\n",
    "                rf_predictions = result['future_predictions']['rf_predictions']\n",
    "                lstm_predictions = result['future_predictions']['lstm_predictions']\n",
    "                \n",
    "                # Calculate metrics\n",
    "                rf_avg_change = np.mean([((p - current_price) / current_price) * 100 for p in rf_predictions])\n",
    "                rf_volatility = np.std([((p - current_price) / current_price) * 100 for p in rf_predictions])\n",
    "                \n",
    "                portfolio_data.append({\n",
    "                    'Symbol': result['correct_symbol'],\n",
    "                    'Current_Price': current_price,\n",
    "                    'RF_Avg_Change_%': rf_avg_change,\n",
    "                    'RF_Volatility_%': rf_volatility,\n",
    "                    'Trend': '📈' if rf_avg_change > 0 else '📉' if rf_avg_change < 0 else '➡️'\n",
    "                })\n",
    "                \n",
    "        except Exception as e:\n",
    "            print(f\"❌ Error processing {symbol_input}: {str(e)}\")\n",
    "            continue\n",
    "    \n",
    "    if portfolio_data:\n",
    "        # Create portfolio comparison table\n",
    "        portfolio_df = pd.DataFrame(portfolio_data)\n",
    "        \n",
    "        # Create portfolio comparison visualization\n",
    "        fig = go.Figure()\n",
    "        \n",
    "        # Prepare portfolio table\n",
    "        header_values = ['Symbol', 'Current Price ($)', 'Avg Change (%)', 'Volatility (%)', 'Trend']\n",
    "        cell_values = [\n",
    "            portfolio_df['Symbol'].tolist(),\n",
    "            [f\"${x:.2f}\" for x in portfolio_df['Current_Price']],\n",
    "            [f\"{x:+.2f}%\" for x in portfolio_df['RF_Avg_Change_%']],\n",
    "            [f\"{x:.2f}%\" for x in portfolio_df['RF_Volatility_%']],\n",
    "            portfolio_df['Trend'].tolist()\n",
    "        ]\n",
    "        \n",
    "        # Color code based on performance\n",
    "        def get_portfolio_colors(changes):\n",
    "            colors = []\n",
    "            for change in changes:\n",
    "                if change > 1:\n",
    "                    colors.append('#d4edda')  # Light green for strong positive\n",
    "                elif change > 0:\n",
    "                    colors.append('#f0f9f0')  # Very light green for positive\n",
    "                elif change < -1:\n",
    "                    colors.append('#f8d7da')  # Light red for strong negative\n",
    "                elif change < 0:\n",
    "                    colors.append('#fdf2f2')  # Very light red for negative\n",
    "                else:\n",
    "                    colors.append('#fff3cd')  # Light yellow for neutral\n",
    "            return colors\n",
    "        \n",
    "        change_colors = get_portfolio_colors(portfolio_df['RF_Avg_Change_%'])\n",
    "        \n",
    "        fig.add_trace(go.Table(\n",
    "            header=dict(\n",
    "                values=header_values,\n",
    "                fill_color='#1f2937',\n",
    "                font=dict(color='white', size=14, family=\"Arial Black\"),\n",
    "                align='center',\n",
    "                height=40\n",
    "            ),\n",
    "            cells=dict(\n",
    "                values=cell_values,\n",
    "                fill_color=[['white'] * len(portfolio_df),  # Symbol\n",
    "                           ['white'] * len(portfolio_df),   # Current Price\n",
    "                           change_colors,                   # Avg Change\n",
    "                           ['white'] * len(portfolio_df),   # Volatility\n",
    "                           change_colors],                  # Trend\n",
    "                font=dict(size=12),\n",
    "                align='center',\n",
    "                height=35\n",
    "            )\n",
    "        ))\n",
    "        \n",
    "        fig.update_layout(\n",
    "            title='📊 Portfolio Analysis - Stock Performance Comparison',\n",
    "            height=300 + len(portfolio_df) * 35,\n",
    "            margin=dict(l=20, r=20, t=80, b=20)\n",
    "        )\n",
    "        \n",
    "        fig.show()\n",
    "        \n",
    "        # Display portfolio summary\n",
    "        print(f\"\\n{'='*60}\")\n",
    "        print(f\"📊 PORTFOLIO SUMMARY\")\n",
    "        print(f\"{'='*60}\")\n",
    "        print(f\"Total Stocks Analyzed: {len(portfolio_df)}\")\n",
    "        \n",
    "        # Best and worst performers\n",
    "        best_performer = portfolio_df.loc[portfolio_df['RF_Avg_Change_%'].idxmax()]\n",
    "        worst_performer = portfolio_df.loc[portfolio_df['RF_Avg_Change_%'].idxmin()]\n",
    "        \n",
    "        print(f\" Best Performer: {best_performer['Symbol']} ({best_performer['RF_Avg_Change_%']:+.2f}%)\")\n",
    "        print(f\" Worst Performer: {worst_performer['Symbol']} ({worst_performer['RF_Avg_Change_%']:+.2f}%)\")\n",
    "        \n",
    "        # Risk analysis\n",
    "        lowest_risk = portfolio_df.loc[portfolio_df['RF_Volatility_%'].idxmin()]\n",
    "        highest_risk = portfolio_df.loc[portfolio_df['RF_Volatility_%'].idxmax()]\n",
    "        \n",
    "        print(f\" Lowest Risk: {lowest_risk['Symbol']} ({lowest_risk['RF_Volatility_%']:.2f}% volatility)\")\n",
    "        print(f\" Highest Risk: {highest_risk['Symbol']} ({highest_risk['RF_Volatility_%']:.2f}% volatility)\")\n",
    "        \n",
    "        return all_results, portfolio_df\n",
    "    \n",
    "    return all_results, None\n"
   ]
  },
  {
   "cell_type": "code",
   "execution_count": 20,
   "id": "44917b4a",
   "metadata": {},
   "outputs": [
    {
     "name": "stdout",
     "output_type": "stream",
     "text": [
      "🚀 ENHANCED STOCK PRICE PREDICTION SYSTEM\n",
      "============================================================\n",
      "Features:\n",
      "✅ Market status checking\n",
      "✅ Enhanced date handling (weekend awareness)\n",
      "✅ Interactive prediction tables\n",
      "✅ Multiple model comparisons\n",
      "✅ Portfolio analysis\n",
      "✅ Professional visualizations\n",
      "============================================================\n",
      "\n",
      "You can enter:\n",
      "- US Stocks: AAPL, MSFT, GOOGL, TSLA, AMZN, etc.\n",
      "- Indian Stocks: RELIANCE, TCS, INFY, L&T, HDFC, etc.\n",
      "- Other: Use exact Yahoo Finance symbols\n",
      "\n",
      "Enter stock symbols (type 'done' when finished)\n",
      "============================================================\n"
     ]
    },
    {
     "name": "stdout",
     "output_type": "stream",
     "text": [
      "\n",
      "============================================================\n",
      "MARKET STATUS CHECK\n",
      "============================================================\n",
      "Current Date/Time: 2025-09-28 13:42:34\n",
      "Today is: Sunday\n",
      "⚠️  Markets are CLOSED (Weekend)\n",
      "💡 Most recent trading day data available\n",
      "============================================================\n",
      "\n",
      "============================================================\n",
      "PREDICTING STOCK PRICE FOR: TCS -> TCS.NS\n",
      "============================================================\n",
      "Successfully fetched data for TCS.NS. Shape: (744, 5)\n",
      "📊 Data Range: 2022-09-26 to 2025-09-26\n",
      "📈 Most recent price: $2899.10\n",
      "Data shape after technical indicators: (695, 13)\n",
      "\n",
      "🤖 Training Classical Models...\n",
      "\n",
      "📊 Classical Models Performance:\n",
      "LinearRegression MSE: 11540.1254, MAE: 82.0311, R²: 0.6450\n",
      "RandomForest    MSE: 13922.3589, MAE: 88.8116, R²: 0.5717\n",
      "SVR             MSE: 94596.1703, MAE: 263.7846, R²: -1.9103\n",
      "\n",
      "🧠 Training LSTM Model...\n",
      "LSTM Performance: MSE: 5861.9144, MAE: 56.5265\n",
      "\n",
      "🔮 Generating 7-Day Future Predictions...\n",
      "\n",
      "📅 GENERATING FUTURE TRADING DATES\n",
      "Last trading day in data: 2025-09-26 (Friday)\n",
      "⏭️  2025-09-27 (Saturday) - Skipped (Weekend)\n",
      "⏭️  2025-09-28 (Sunday) - Skipped (Weekend)\n",
      "✅ 2025-09-29 (Monday) - Trading Day\n",
      "✅ 2025-09-30 (Tuesday) - Trading Day\n",
      "✅ 2025-10-01 (Wednesday) - Trading Day\n",
      "✅ 2025-10-02 (Thursday) - Trading Day\n",
      "✅ 2025-10-03 (Friday) - Trading Day\n",
      "⏭️  2025-10-04 (Saturday) - Skipped (Weekend)\n",
      "⏭️  2025-10-05 (Sunday) - Skipped (Weekend)\n",
      "✅ 2025-10-06 (Monday) - Trading Day\n",
      "✅ 2025-10-07 (Tuesday) - Trading Day\n",
      "\n",
      "📊 Generated 7 future trading days\n",
      "🚫 Skipped 4 weekend days\n",
      "\n",
      "🎨 Creating Enhanced Visualizations...\n"
     ]
    },
    {
     "data": {
      "application/vnd.plotly.v1+json": {
       "config": {
        "plotlyServerURL": "https://plot.ly"
       },
       "data": [
        {
         "cells": {
          "align": "center",
          "fill": {
           "color": [
            [
             "white",
             "white",
             "white",
             "white",
             "white",
             "white",
             "white"
            ],
            [
             "white",
             "white",
             "white",
             "white",
             "white",
             "white",
             "white"
            ],
            [
             "white",
             "white",
             "white",
             "white",
             "white",
             "white",
             "white"
            ],
            [
             "#d4edda",
             "#d4edda",
             "#d4edda",
             "#d4edda",
             "#d4edda",
             "#d4edda",
             "#d4edda"
            ],
            [
             "#d4edda",
             "#d4edda",
             "#d4edda",
             "#d4edda",
             "#d4edda",
             "#d4edda",
             "#d4edda"
            ],
            [
             "#d4edda",
             "#d4edda",
             "#d4edda",
             "#d4edda",
             "#d4edda",
             "#d4edda",
             "#d4edda"
            ],
            [
             "#d4edda",
             "#d4edda",
             "#d4edda",
             "#d4edda",
             "#d4edda",
             "#d4edda",
             "#d4edda"
            ],
            [
             "#d4edda",
             "#d4edda",
             "#d4edda",
             "#d4edda",
             "#d4edda",
             "#d4edda",
             "#d4edda"
            ],
            [
             "#d4edda",
             "#d4edda",
             "#d4edda",
             "#d4edda",
             "#d4edda",
             "#d4edda",
             "#d4edda"
            ]
           ]
          },
          "font": {
           "size": 12
          },
          "height": 35,
          "values": [
           [
            "2025-09-29",
            "2025-09-30",
            "2025-10-01",
            "2025-10-02",
            "2025-10-03",
            "2025-10-06",
            "2025-10-07"
           ],
           [
            "Monday",
            "Tuesday",
            "Wednesday",
            "Thursday",
            "Friday",
            "Monday",
            "Tuesday"
           ],
           [
            1,
            2,
            3,
            4,
            5,
            6,
            7
           ],
           [
            "$3041.15",
            "$3035.24",
            "$3035.45",
            "$3035.45",
            "$3035.45",
            "$3035.45",
            "$3035.45"
           ],
           [
            "+4.90%",
            "+4.70%",
            "+4.70%",
            "+4.70%",
            "+4.70%",
            "+4.70%",
            "+4.70%"
           ],
           [
            "📈",
            "📈",
            "📈",
            "📈",
            "📈",
            "📈",
            "📈"
           ],
           [
            "$3064.30",
            "$3056.95",
            "$3053.12",
            "$3051.64",
            "$3052.09",
            "$3053.97",
            "$3056.37"
           ],
           [
            "+5.70%",
            "+5.44%",
            "+5.31%",
            "+5.26%",
            "+5.28%",
            "+5.34%",
            "+5.42%"
           ],
           [
            "📈",
            "📈",
            "📈",
            "📈",
            "📈",
            "📈",
            "📈"
           ]
          ]
         },
         "header": {
          "align": "center",
          "fill": {
           "color": "#1f2937"
          },
          "font": {
           "color": "white",
           "family": "Arial Black",
           "size": 14
          },
          "height": 40,
          "values": [
           "Date",
           "Day",
           "Days<br>Ahead",
           "RF Price<br>($)",
           "RF Change<br>(%)",
           "RF<br>Trend",
           "LSTM Price<br>($)",
           "LSTM Change<br>(%)",
           "LSTM<br>Trend"
          ]
         },
         "type": "table"
        }
       ],
       "layout": {
        "height": 400,
        "margin": {
         "b": 20,
         "l": 20,
         "r": 20,
         "t": 80
        },
        "template": {
         "data": {
          "bar": [
           {
            "error_x": {
             "color": "#2a3f5f"
            },
            "error_y": {
             "color": "#2a3f5f"
            },
            "marker": {
             "line": {
              "color": "#E5ECF6",
              "width": 0.5
             },
             "pattern": {
              "fillmode": "overlay",
              "size": 10,
              "solidity": 0.2
             }
            },
            "type": "bar"
           }
          ],
          "barpolar": [
           {
            "marker": {
             "line": {
              "color": "#E5ECF6",
              "width": 0.5
             },
             "pattern": {
              "fillmode": "overlay",
              "size": 10,
              "solidity": 0.2
             }
            },
            "type": "barpolar"
           }
          ],
          "carpet": [
           {
            "aaxis": {
             "endlinecolor": "#2a3f5f",
             "gridcolor": "white",
             "linecolor": "white",
             "minorgridcolor": "white",
             "startlinecolor": "#2a3f5f"
            },
            "baxis": {
             "endlinecolor": "#2a3f5f",
             "gridcolor": "white",
             "linecolor": "white",
             "minorgridcolor": "white",
             "startlinecolor": "#2a3f5f"
            },
            "type": "carpet"
           }
          ],
          "choropleth": [
           {
            "colorbar": {
             "outlinewidth": 0,
             "ticks": ""
            },
            "type": "choropleth"
           }
          ],
          "contour": [
           {
            "colorbar": {
             "outlinewidth": 0,
             "ticks": ""
            },
            "colorscale": [
             [
              0,
              "#0d0887"
             ],
             [
              0.1111111111111111,
              "#46039f"
             ],
             [
              0.2222222222222222,
              "#7201a8"
             ],
             [
              0.3333333333333333,
              "#9c179e"
             ],
             [
              0.4444444444444444,
              "#bd3786"
             ],
             [
              0.5555555555555556,
              "#d8576b"
             ],
             [
              0.6666666666666666,
              "#ed7953"
             ],
             [
              0.7777777777777778,
              "#fb9f3a"
             ],
             [
              0.8888888888888888,
              "#fdca26"
             ],
             [
              1,
              "#f0f921"
             ]
            ],
            "type": "contour"
           }
          ],
          "contourcarpet": [
           {
            "colorbar": {
             "outlinewidth": 0,
             "ticks": ""
            },
            "type": "contourcarpet"
           }
          ],
          "heatmap": [
           {
            "colorbar": {
             "outlinewidth": 0,
             "ticks": ""
            },
            "colorscale": [
             [
              0,
              "#0d0887"
             ],
             [
              0.1111111111111111,
              "#46039f"
             ],
             [
              0.2222222222222222,
              "#7201a8"
             ],
             [
              0.3333333333333333,
              "#9c179e"
             ],
             [
              0.4444444444444444,
              "#bd3786"
             ],
             [
              0.5555555555555556,
              "#d8576b"
             ],
             [
              0.6666666666666666,
              "#ed7953"
             ],
             [
              0.7777777777777778,
              "#fb9f3a"
             ],
             [
              0.8888888888888888,
              "#fdca26"
             ],
             [
              1,
              "#f0f921"
             ]
            ],
            "type": "heatmap"
           }
          ],
          "histogram": [
           {
            "marker": {
             "pattern": {
              "fillmode": "overlay",
              "size": 10,
              "solidity": 0.2
             }
            },
            "type": "histogram"
           }
          ],
          "histogram2d": [
           {
            "colorbar": {
             "outlinewidth": 0,
             "ticks": ""
            },
            "colorscale": [
             [
              0,
              "#0d0887"
             ],
             [
              0.1111111111111111,
              "#46039f"
             ],
             [
              0.2222222222222222,
              "#7201a8"
             ],
             [
              0.3333333333333333,
              "#9c179e"
             ],
             [
              0.4444444444444444,
              "#bd3786"
             ],
             [
              0.5555555555555556,
              "#d8576b"
             ],
             [
              0.6666666666666666,
              "#ed7953"
             ],
             [
              0.7777777777777778,
              "#fb9f3a"
             ],
             [
              0.8888888888888888,
              "#fdca26"
             ],
             [
              1,
              "#f0f921"
             ]
            ],
            "type": "histogram2d"
           }
          ],
          "histogram2dcontour": [
           {
            "colorbar": {
             "outlinewidth": 0,
             "ticks": ""
            },
            "colorscale": [
             [
              0,
              "#0d0887"
             ],
             [
              0.1111111111111111,
              "#46039f"
             ],
             [
              0.2222222222222222,
              "#7201a8"
             ],
             [
              0.3333333333333333,
              "#9c179e"
             ],
             [
              0.4444444444444444,
              "#bd3786"
             ],
             [
              0.5555555555555556,
              "#d8576b"
             ],
             [
              0.6666666666666666,
              "#ed7953"
             ],
             [
              0.7777777777777778,
              "#fb9f3a"
             ],
             [
              0.8888888888888888,
              "#fdca26"
             ],
             [
              1,
              "#f0f921"
             ]
            ],
            "type": "histogram2dcontour"
           }
          ],
          "mesh3d": [
           {
            "colorbar": {
             "outlinewidth": 0,
             "ticks": ""
            },
            "type": "mesh3d"
           }
          ],
          "parcoords": [
           {
            "line": {
             "colorbar": {
              "outlinewidth": 0,
              "ticks": ""
             }
            },
            "type": "parcoords"
           }
          ],
          "pie": [
           {
            "automargin": true,
            "type": "pie"
           }
          ],
          "scatter": [
           {
            "fillpattern": {
             "fillmode": "overlay",
             "size": 10,
             "solidity": 0.2
            },
            "type": "scatter"
           }
          ],
          "scatter3d": [
           {
            "line": {
             "colorbar": {
              "outlinewidth": 0,
              "ticks": ""
             }
            },
            "marker": {
             "colorbar": {
              "outlinewidth": 0,
              "ticks": ""
             }
            },
            "type": "scatter3d"
           }
          ],
          "scattercarpet": [
           {
            "marker": {
             "colorbar": {
              "outlinewidth": 0,
              "ticks": ""
             }
            },
            "type": "scattercarpet"
           }
          ],
          "scattergeo": [
           {
            "marker": {
             "colorbar": {
              "outlinewidth": 0,
              "ticks": ""
             }
            },
            "type": "scattergeo"
           }
          ],
          "scattergl": [
           {
            "marker": {
             "colorbar": {
              "outlinewidth": 0,
              "ticks": ""
             }
            },
            "type": "scattergl"
           }
          ],
          "scattermap": [
           {
            "marker": {
             "colorbar": {
              "outlinewidth": 0,
              "ticks": ""
             }
            },
            "type": "scattermap"
           }
          ],
          "scattermapbox": [
           {
            "marker": {
             "colorbar": {
              "outlinewidth": 0,
              "ticks": ""
             }
            },
            "type": "scattermapbox"
           }
          ],
          "scatterpolar": [
           {
            "marker": {
             "colorbar": {
              "outlinewidth": 0,
              "ticks": ""
             }
            },
            "type": "scatterpolar"
           }
          ],
          "scatterpolargl": [
           {
            "marker": {
             "colorbar": {
              "outlinewidth": 0,
              "ticks": ""
             }
            },
            "type": "scatterpolargl"
           }
          ],
          "scatterternary": [
           {
            "marker": {
             "colorbar": {
              "outlinewidth": 0,
              "ticks": ""
             }
            },
            "type": "scatterternary"
           }
          ],
          "surface": [
           {
            "colorbar": {
             "outlinewidth": 0,
             "ticks": ""
            },
            "colorscale": [
             [
              0,
              "#0d0887"
             ],
             [
              0.1111111111111111,
              "#46039f"
             ],
             [
              0.2222222222222222,
              "#7201a8"
             ],
             [
              0.3333333333333333,
              "#9c179e"
             ],
             [
              0.4444444444444444,
              "#bd3786"
             ],
             [
              0.5555555555555556,
              "#d8576b"
             ],
             [
              0.6666666666666666,
              "#ed7953"
             ],
             [
              0.7777777777777778,
              "#fb9f3a"
             ],
             [
              0.8888888888888888,
              "#fdca26"
             ],
             [
              1,
              "#f0f921"
             ]
            ],
            "type": "surface"
           }
          ],
          "table": [
           {
            "cells": {
             "fill": {
              "color": "#EBF0F8"
             },
             "line": {
              "color": "white"
             }
            },
            "header": {
             "fill": {
              "color": "#C8D4E3"
             },
             "line": {
              "color": "white"
             }
            },
            "type": "table"
           }
          ]
         },
         "layout": {
          "annotationdefaults": {
           "arrowcolor": "#2a3f5f",
           "arrowhead": 0,
           "arrowwidth": 1
          },
          "autotypenumbers": "strict",
          "coloraxis": {
           "colorbar": {
            "outlinewidth": 0,
            "ticks": ""
           }
          },
          "colorscale": {
           "diverging": [
            [
             0,
             "#8e0152"
            ],
            [
             0.1,
             "#c51b7d"
            ],
            [
             0.2,
             "#de77ae"
            ],
            [
             0.3,
             "#f1b6da"
            ],
            [
             0.4,
             "#fde0ef"
            ],
            [
             0.5,
             "#f7f7f7"
            ],
            [
             0.6,
             "#e6f5d0"
            ],
            [
             0.7,
             "#b8e186"
            ],
            [
             0.8,
             "#7fbc41"
            ],
            [
             0.9,
             "#4d9221"
            ],
            [
             1,
             "#276419"
            ]
           ],
           "sequential": [
            [
             0,
             "#0d0887"
            ],
            [
             0.1111111111111111,
             "#46039f"
            ],
            [
             0.2222222222222222,
             "#7201a8"
            ],
            [
             0.3333333333333333,
             "#9c179e"
            ],
            [
             0.4444444444444444,
             "#bd3786"
            ],
            [
             0.5555555555555556,
             "#d8576b"
            ],
            [
             0.6666666666666666,
             "#ed7953"
            ],
            [
             0.7777777777777778,
             "#fb9f3a"
            ],
            [
             0.8888888888888888,
             "#fdca26"
            ],
            [
             1,
             "#f0f921"
            ]
           ],
           "sequentialminus": [
            [
             0,
             "#0d0887"
            ],
            [
             0.1111111111111111,
             "#46039f"
            ],
            [
             0.2222222222222222,
             "#7201a8"
            ],
            [
             0.3333333333333333,
             "#9c179e"
            ],
            [
             0.4444444444444444,
             "#bd3786"
            ],
            [
             0.5555555555555556,
             "#d8576b"
            ],
            [
             0.6666666666666666,
             "#ed7953"
            ],
            [
             0.7777777777777778,
             "#fb9f3a"
            ],
            [
             0.8888888888888888,
             "#fdca26"
            ],
            [
             1,
             "#f0f921"
            ]
           ]
          },
          "colorway": [
           "#636efa",
           "#EF553B",
           "#00cc96",
           "#ab63fa",
           "#FFA15A",
           "#19d3f3",
           "#FF6692",
           "#B6E880",
           "#FF97FF",
           "#FECB52"
          ],
          "font": {
           "color": "#2a3f5f"
          },
          "geo": {
           "bgcolor": "white",
           "lakecolor": "white",
           "landcolor": "#E5ECF6",
           "showlakes": true,
           "showland": true,
           "subunitcolor": "white"
          },
          "hoverlabel": {
           "align": "left"
          },
          "hovermode": "closest",
          "mapbox": {
           "style": "light"
          },
          "paper_bgcolor": "white",
          "plot_bgcolor": "#E5ECF6",
          "polar": {
           "angularaxis": {
            "gridcolor": "white",
            "linecolor": "white",
            "ticks": ""
           },
           "bgcolor": "#E5ECF6",
           "radialaxis": {
            "gridcolor": "white",
            "linecolor": "white",
            "ticks": ""
           }
          },
          "scene": {
           "xaxis": {
            "backgroundcolor": "#E5ECF6",
            "gridcolor": "white",
            "gridwidth": 2,
            "linecolor": "white",
            "showbackground": true,
            "ticks": "",
            "zerolinecolor": "white"
           },
           "yaxis": {
            "backgroundcolor": "#E5ECF6",
            "gridcolor": "white",
            "gridwidth": 2,
            "linecolor": "white",
            "showbackground": true,
            "ticks": "",
            "zerolinecolor": "white"
           },
           "zaxis": {
            "backgroundcolor": "#E5ECF6",
            "gridcolor": "white",
            "gridwidth": 2,
            "linecolor": "white",
            "showbackground": true,
            "ticks": "",
            "zerolinecolor": "white"
           }
          },
          "shapedefaults": {
           "line": {
            "color": "#2a3f5f"
           }
          },
          "ternary": {
           "aaxis": {
            "gridcolor": "white",
            "linecolor": "white",
            "ticks": ""
           },
           "baxis": {
            "gridcolor": "white",
            "linecolor": "white",
            "ticks": ""
           },
           "bgcolor": "#E5ECF6",
           "caxis": {
            "gridcolor": "white",
            "linecolor": "white",
            "ticks": ""
           }
          },
          "title": {
           "x": 0.05
          },
          "xaxis": {
           "automargin": true,
           "gridcolor": "white",
           "linecolor": "white",
           "ticks": "",
           "title": {
            "standoff": 15
           },
           "zerolinecolor": "white",
           "zerolinewidth": 2
          },
          "yaxis": {
           "automargin": true,
           "gridcolor": "white",
           "linecolor": "white",
           "ticks": "",
           "title": {
            "standoff": 15
           },
           "zerolinecolor": "white",
           "zerolinewidth": 2
          }
         }
        },
        "title": {
         "font": {
          "color": "#1f2937",
          "size": 18
         },
         "text": "TCS.NS - Future Price Predictions Table<br><sub>Current Price: $2899.10</sub>",
         "x": 0.5
        }
       }
      }
     },
     "metadata": {},
     "output_type": "display_data"
    },
    {
     "data": {
      "application/vnd.plotly.v1+json": {
       "config": {
        "plotlyServerURL": "https://plot.ly"
       },
       "data": [
        {
         "line": {
          "color": "#2E86AB",
          "width": 3
         },
         "marker": {
          "size": 8,
          "symbol": "circle"
         },
         "name": "RandomForest Prediction",
         "type": "scatter",
         "x": [
          "2025-09-28T00:00:00",
          "2025-09-29T00:00:00",
          "2025-09-30T00:00:00",
          "2025-10-01T00:00:00",
          "2025-10-02T00:00:00",
          "2025-10-03T00:00:00",
          "2025-10-06T00:00:00",
          "2025-10-07T00:00:00"
         ],
         "y": [
          2899.10009765625,
          3041.14796875,
          3035.2374609375,
          3035.446115722656,
          3035.446115722656,
          3035.446115722656,
          3035.446115722656,
          3035.446115722656
         ]
        },
        {
         "line": {
          "color": "#F24236",
          "dash": "dot",
          "width": 3
         },
         "marker": {
          "size": 8,
          "symbol": "diamond"
         },
         "name": "LSTM Prediction",
         "type": "scatter",
         "x": [
          "2025-09-28T00:00:00",
          "2025-09-29T00:00:00",
          "2025-09-30T00:00:00",
          "2025-10-01T00:00:00",
          "2025-10-02T00:00:00",
          "2025-10-03T00:00:00",
          "2025-10-06T00:00:00",
          "2025-10-07T00:00:00"
         ],
         "y": [
          2899.10009765625,
          3064.3037220211627,
          3056.954598218319,
          3053.1235087945242,
          3051.638539659696,
          3052.0927886066493,
          3053.9700022067336,
          3056.3709685452923
         ]
        },
        {
         "marker": {
          "color": "green",
          "size": 15,
          "symbol": "star"
         },
         "mode": "markers",
         "name": "Current Price",
         "type": "scatter",
         "x": [
          "2025-09-28T00:00:00"
         ],
         "y": [
          2899.10009765625
         ]
        }
       ],
       "layout": {
        "annotations": [
         {
          "showarrow": false,
          "text": "Current: $2899.10",
          "x": 1,
          "xanchor": "right",
          "xref": "x domain",
          "y": 2899.10009765625,
          "yanchor": "bottom",
          "yref": "y"
         }
        ],
        "height": 500,
        "hovermode": "x unified",
        "shapes": [
         {
          "line": {
           "color": "gray",
           "dash": "dash"
          },
          "type": "line",
          "x0": 0,
          "x1": 1,
          "xref": "x domain",
          "y0": 2899.10009765625,
          "y1": 2899.10009765625,
          "yref": "y"
         }
        ],
        "template": {
         "data": {
          "bar": [
           {
            "error_x": {
             "color": "#2a3f5f"
            },
            "error_y": {
             "color": "#2a3f5f"
            },
            "marker": {
             "line": {
              "color": "white",
              "width": 0.5
             },
             "pattern": {
              "fillmode": "overlay",
              "size": 10,
              "solidity": 0.2
             }
            },
            "type": "bar"
           }
          ],
          "barpolar": [
           {
            "marker": {
             "line": {
              "color": "white",
              "width": 0.5
             },
             "pattern": {
              "fillmode": "overlay",
              "size": 10,
              "solidity": 0.2
             }
            },
            "type": "barpolar"
           }
          ],
          "carpet": [
           {
            "aaxis": {
             "endlinecolor": "#2a3f5f",
             "gridcolor": "#C8D4E3",
             "linecolor": "#C8D4E3",
             "minorgridcolor": "#C8D4E3",
             "startlinecolor": "#2a3f5f"
            },
            "baxis": {
             "endlinecolor": "#2a3f5f",
             "gridcolor": "#C8D4E3",
             "linecolor": "#C8D4E3",
             "minorgridcolor": "#C8D4E3",
             "startlinecolor": "#2a3f5f"
            },
            "type": "carpet"
           }
          ],
          "choropleth": [
           {
            "colorbar": {
             "outlinewidth": 0,
             "ticks": ""
            },
            "type": "choropleth"
           }
          ],
          "contour": [
           {
            "colorbar": {
             "outlinewidth": 0,
             "ticks": ""
            },
            "colorscale": [
             [
              0,
              "#0d0887"
             ],
             [
              0.1111111111111111,
              "#46039f"
             ],
             [
              0.2222222222222222,
              "#7201a8"
             ],
             [
              0.3333333333333333,
              "#9c179e"
             ],
             [
              0.4444444444444444,
              "#bd3786"
             ],
             [
              0.5555555555555556,
              "#d8576b"
             ],
             [
              0.6666666666666666,
              "#ed7953"
             ],
             [
              0.7777777777777778,
              "#fb9f3a"
             ],
             [
              0.8888888888888888,
              "#fdca26"
             ],
             [
              1,
              "#f0f921"
             ]
            ],
            "type": "contour"
           }
          ],
          "contourcarpet": [
           {
            "colorbar": {
             "outlinewidth": 0,
             "ticks": ""
            },
            "type": "contourcarpet"
           }
          ],
          "heatmap": [
           {
            "colorbar": {
             "outlinewidth": 0,
             "ticks": ""
            },
            "colorscale": [
             [
              0,
              "#0d0887"
             ],
             [
              0.1111111111111111,
              "#46039f"
             ],
             [
              0.2222222222222222,
              "#7201a8"
             ],
             [
              0.3333333333333333,
              "#9c179e"
             ],
             [
              0.4444444444444444,
              "#bd3786"
             ],
             [
              0.5555555555555556,
              "#d8576b"
             ],
             [
              0.6666666666666666,
              "#ed7953"
             ],
             [
              0.7777777777777778,
              "#fb9f3a"
             ],
             [
              0.8888888888888888,
              "#fdca26"
             ],
             [
              1,
              "#f0f921"
             ]
            ],
            "type": "heatmap"
           }
          ],
          "histogram": [
           {
            "marker": {
             "pattern": {
              "fillmode": "overlay",
              "size": 10,
              "solidity": 0.2
             }
            },
            "type": "histogram"
           }
          ],
          "histogram2d": [
           {
            "colorbar": {
             "outlinewidth": 0,
             "ticks": ""
            },
            "colorscale": [
             [
              0,
              "#0d0887"
             ],
             [
              0.1111111111111111,
              "#46039f"
             ],
             [
              0.2222222222222222,
              "#7201a8"
             ],
             [
              0.3333333333333333,
              "#9c179e"
             ],
             [
              0.4444444444444444,
              "#bd3786"
             ],
             [
              0.5555555555555556,
              "#d8576b"
             ],
             [
              0.6666666666666666,
              "#ed7953"
             ],
             [
              0.7777777777777778,
              "#fb9f3a"
             ],
             [
              0.8888888888888888,
              "#fdca26"
             ],
             [
              1,
              "#f0f921"
             ]
            ],
            "type": "histogram2d"
           }
          ],
          "histogram2dcontour": [
           {
            "colorbar": {
             "outlinewidth": 0,
             "ticks": ""
            },
            "colorscale": [
             [
              0,
              "#0d0887"
             ],
             [
              0.1111111111111111,
              "#46039f"
             ],
             [
              0.2222222222222222,
              "#7201a8"
             ],
             [
              0.3333333333333333,
              "#9c179e"
             ],
             [
              0.4444444444444444,
              "#bd3786"
             ],
             [
              0.5555555555555556,
              "#d8576b"
             ],
             [
              0.6666666666666666,
              "#ed7953"
             ],
             [
              0.7777777777777778,
              "#fb9f3a"
             ],
             [
              0.8888888888888888,
              "#fdca26"
             ],
             [
              1,
              "#f0f921"
             ]
            ],
            "type": "histogram2dcontour"
           }
          ],
          "mesh3d": [
           {
            "colorbar": {
             "outlinewidth": 0,
             "ticks": ""
            },
            "type": "mesh3d"
           }
          ],
          "parcoords": [
           {
            "line": {
             "colorbar": {
              "outlinewidth": 0,
              "ticks": ""
             }
            },
            "type": "parcoords"
           }
          ],
          "pie": [
           {
            "automargin": true,
            "type": "pie"
           }
          ],
          "scatter": [
           {
            "fillpattern": {
             "fillmode": "overlay",
             "size": 10,
             "solidity": 0.2
            },
            "type": "scatter"
           }
          ],
          "scatter3d": [
           {
            "line": {
             "colorbar": {
              "outlinewidth": 0,
              "ticks": ""
             }
            },
            "marker": {
             "colorbar": {
              "outlinewidth": 0,
              "ticks": ""
             }
            },
            "type": "scatter3d"
           }
          ],
          "scattercarpet": [
           {
            "marker": {
             "colorbar": {
              "outlinewidth": 0,
              "ticks": ""
             }
            },
            "type": "scattercarpet"
           }
          ],
          "scattergeo": [
           {
            "marker": {
             "colorbar": {
              "outlinewidth": 0,
              "ticks": ""
             }
            },
            "type": "scattergeo"
           }
          ],
          "scattergl": [
           {
            "marker": {
             "colorbar": {
              "outlinewidth": 0,
              "ticks": ""
             }
            },
            "type": "scattergl"
           }
          ],
          "scattermap": [
           {
            "marker": {
             "colorbar": {
              "outlinewidth": 0,
              "ticks": ""
             }
            },
            "type": "scattermap"
           }
          ],
          "scattermapbox": [
           {
            "marker": {
             "colorbar": {
              "outlinewidth": 0,
              "ticks": ""
             }
            },
            "type": "scattermapbox"
           }
          ],
          "scatterpolar": [
           {
            "marker": {
             "colorbar": {
              "outlinewidth": 0,
              "ticks": ""
             }
            },
            "type": "scatterpolar"
           }
          ],
          "scatterpolargl": [
           {
            "marker": {
             "colorbar": {
              "outlinewidth": 0,
              "ticks": ""
             }
            },
            "type": "scatterpolargl"
           }
          ],
          "scatterternary": [
           {
            "marker": {
             "colorbar": {
              "outlinewidth": 0,
              "ticks": ""
             }
            },
            "type": "scatterternary"
           }
          ],
          "surface": [
           {
            "colorbar": {
             "outlinewidth": 0,
             "ticks": ""
            },
            "colorscale": [
             [
              0,
              "#0d0887"
             ],
             [
              0.1111111111111111,
              "#46039f"
             ],
             [
              0.2222222222222222,
              "#7201a8"
             ],
             [
              0.3333333333333333,
              "#9c179e"
             ],
             [
              0.4444444444444444,
              "#bd3786"
             ],
             [
              0.5555555555555556,
              "#d8576b"
             ],
             [
              0.6666666666666666,
              "#ed7953"
             ],
             [
              0.7777777777777778,
              "#fb9f3a"
             ],
             [
              0.8888888888888888,
              "#fdca26"
             ],
             [
              1,
              "#f0f921"
             ]
            ],
            "type": "surface"
           }
          ],
          "table": [
           {
            "cells": {
             "fill": {
              "color": "#EBF0F8"
             },
             "line": {
              "color": "white"
             }
            },
            "header": {
             "fill": {
              "color": "#C8D4E3"
             },
             "line": {
              "color": "white"
             }
            },
            "type": "table"
           }
          ]
         },
         "layout": {
          "annotationdefaults": {
           "arrowcolor": "#2a3f5f",
           "arrowhead": 0,
           "arrowwidth": 1
          },
          "autotypenumbers": "strict",
          "coloraxis": {
           "colorbar": {
            "outlinewidth": 0,
            "ticks": ""
           }
          },
          "colorscale": {
           "diverging": [
            [
             0,
             "#8e0152"
            ],
            [
             0.1,
             "#c51b7d"
            ],
            [
             0.2,
             "#de77ae"
            ],
            [
             0.3,
             "#f1b6da"
            ],
            [
             0.4,
             "#fde0ef"
            ],
            [
             0.5,
             "#f7f7f7"
            ],
            [
             0.6,
             "#e6f5d0"
            ],
            [
             0.7,
             "#b8e186"
            ],
            [
             0.8,
             "#7fbc41"
            ],
            [
             0.9,
             "#4d9221"
            ],
            [
             1,
             "#276419"
            ]
           ],
           "sequential": [
            [
             0,
             "#0d0887"
            ],
            [
             0.1111111111111111,
             "#46039f"
            ],
            [
             0.2222222222222222,
             "#7201a8"
            ],
            [
             0.3333333333333333,
             "#9c179e"
            ],
            [
             0.4444444444444444,
             "#bd3786"
            ],
            [
             0.5555555555555556,
             "#d8576b"
            ],
            [
             0.6666666666666666,
             "#ed7953"
            ],
            [
             0.7777777777777778,
             "#fb9f3a"
            ],
            [
             0.8888888888888888,
             "#fdca26"
            ],
            [
             1,
             "#f0f921"
            ]
           ],
           "sequentialminus": [
            [
             0,
             "#0d0887"
            ],
            [
             0.1111111111111111,
             "#46039f"
            ],
            [
             0.2222222222222222,
             "#7201a8"
            ],
            [
             0.3333333333333333,
             "#9c179e"
            ],
            [
             0.4444444444444444,
             "#bd3786"
            ],
            [
             0.5555555555555556,
             "#d8576b"
            ],
            [
             0.6666666666666666,
             "#ed7953"
            ],
            [
             0.7777777777777778,
             "#fb9f3a"
            ],
            [
             0.8888888888888888,
             "#fdca26"
            ],
            [
             1,
             "#f0f921"
            ]
           ]
          },
          "colorway": [
           "#636efa",
           "#EF553B",
           "#00cc96",
           "#ab63fa",
           "#FFA15A",
           "#19d3f3",
           "#FF6692",
           "#B6E880",
           "#FF97FF",
           "#FECB52"
          ],
          "font": {
           "color": "#2a3f5f"
          },
          "geo": {
           "bgcolor": "white",
           "lakecolor": "white",
           "landcolor": "white",
           "showlakes": true,
           "showland": true,
           "subunitcolor": "#C8D4E3"
          },
          "hoverlabel": {
           "align": "left"
          },
          "hovermode": "closest",
          "mapbox": {
           "style": "light"
          },
          "paper_bgcolor": "white",
          "plot_bgcolor": "white",
          "polar": {
           "angularaxis": {
            "gridcolor": "#EBF0F8",
            "linecolor": "#EBF0F8",
            "ticks": ""
           },
           "bgcolor": "white",
           "radialaxis": {
            "gridcolor": "#EBF0F8",
            "linecolor": "#EBF0F8",
            "ticks": ""
           }
          },
          "scene": {
           "xaxis": {
            "backgroundcolor": "white",
            "gridcolor": "#DFE8F3",
            "gridwidth": 2,
            "linecolor": "#EBF0F8",
            "showbackground": true,
            "ticks": "",
            "zerolinecolor": "#EBF0F8"
           },
           "yaxis": {
            "backgroundcolor": "white",
            "gridcolor": "#DFE8F3",
            "gridwidth": 2,
            "linecolor": "#EBF0F8",
            "showbackground": true,
            "ticks": "",
            "zerolinecolor": "#EBF0F8"
           },
           "zaxis": {
            "backgroundcolor": "white",
            "gridcolor": "#DFE8F3",
            "gridwidth": 2,
            "linecolor": "#EBF0F8",
            "showbackground": true,
            "ticks": "",
            "zerolinecolor": "#EBF0F8"
           }
          },
          "shapedefaults": {
           "line": {
            "color": "#2a3f5f"
           }
          },
          "ternary": {
           "aaxis": {
            "gridcolor": "#DFE8F3",
            "linecolor": "#A2B1C6",
            "ticks": ""
           },
           "baxis": {
            "gridcolor": "#DFE8F3",
            "linecolor": "#A2B1C6",
            "ticks": ""
           },
           "bgcolor": "white",
           "caxis": {
            "gridcolor": "#DFE8F3",
            "linecolor": "#A2B1C6",
            "ticks": ""
           }
          },
          "title": {
           "x": 0.05
          },
          "xaxis": {
           "automargin": true,
           "gridcolor": "#EBF0F8",
           "linecolor": "#EBF0F8",
           "ticks": "",
           "title": {
            "standoff": 15
           },
           "zerolinecolor": "#EBF0F8",
           "zerolinewidth": 2
          },
          "yaxis": {
           "automargin": true,
           "gridcolor": "#EBF0F8",
           "linecolor": "#EBF0F8",
           "ticks": "",
           "title": {
            "standoff": 15
           },
           "zerolinecolor": "#EBF0F8",
           "zerolinewidth": 2
          }
         }
        },
        "title": {
         "text": "TCS.NS - Future Price Predictions Comparison"
        },
        "xaxis": {
         "title": {
          "text": "Date"
         }
        },
        "yaxis": {
         "title": {
          "text": "Price ($)"
         }
        }
       }
      }
     },
     "metadata": {},
     "output_type": "display_data"
    },
    {
     "data": {
      "application/vnd.plotly.v1+json": {
       "config": {
        "plotlyServerURL": "https://plot.ly"
       },
       "data": [
        {
         "line": {
          "color": "#2E86AB",
          "width": 2
         },
         "name": "Actual Price",
         "type": "scatter",
         "x": [
          "2025-03-10T00:00:00.000000000",
          "2025-03-11T00:00:00.000000000",
          "2025-03-12T00:00:00.000000000",
          "2025-03-13T00:00:00.000000000",
          "2025-03-17T00:00:00.000000000",
          "2025-03-18T00:00:00.000000000",
          "2025-03-19T00:00:00.000000000",
          "2025-03-20T00:00:00.000000000",
          "2025-03-21T00:00:00.000000000",
          "2025-03-24T00:00:00.000000000",
          "2025-03-25T00:00:00.000000000",
          "2025-03-26T00:00:00.000000000",
          "2025-03-27T00:00:00.000000000",
          "2025-03-28T00:00:00.000000000",
          "2025-04-01T00:00:00.000000000",
          "2025-04-02T00:00:00.000000000",
          "2025-04-03T00:00:00.000000000",
          "2025-04-04T00:00:00.000000000",
          "2025-04-07T00:00:00.000000000",
          "2025-04-08T00:00:00.000000000",
          "2025-04-09T00:00:00.000000000",
          "2025-04-11T00:00:00.000000000",
          "2025-04-15T00:00:00.000000000",
          "2025-04-16T00:00:00.000000000",
          "2025-04-17T00:00:00.000000000",
          "2025-04-21T00:00:00.000000000",
          "2025-04-22T00:00:00.000000000",
          "2025-04-23T00:00:00.000000000",
          "2025-04-24T00:00:00.000000000",
          "2025-04-25T00:00:00.000000000",
          "2025-04-28T00:00:00.000000000",
          "2025-04-29T00:00:00.000000000",
          "2025-04-30T00:00:00.000000000",
          "2025-05-02T00:00:00.000000000",
          "2025-05-05T00:00:00.000000000",
          "2025-05-06T00:00:00.000000000",
          "2025-05-07T00:00:00.000000000",
          "2025-05-08T00:00:00.000000000",
          "2025-05-09T00:00:00.000000000",
          "2025-05-12T00:00:00.000000000",
          "2025-05-13T00:00:00.000000000",
          "2025-05-14T00:00:00.000000000",
          "2025-05-15T00:00:00.000000000",
          "2025-05-16T00:00:00.000000000",
          "2025-05-19T00:00:00.000000000",
          "2025-05-20T00:00:00.000000000",
          "2025-05-21T00:00:00.000000000",
          "2025-05-22T00:00:00.000000000",
          "2025-05-23T00:00:00.000000000",
          "2025-05-26T00:00:00.000000000",
          "2025-05-27T00:00:00.000000000",
          "2025-05-28T00:00:00.000000000",
          "2025-05-29T00:00:00.000000000",
          "2025-05-30T00:00:00.000000000",
          "2025-06-02T00:00:00.000000000",
          "2025-06-03T00:00:00.000000000",
          "2025-06-04T00:00:00.000000000",
          "2025-06-05T00:00:00.000000000",
          "2025-06-06T00:00:00.000000000",
          "2025-06-09T00:00:00.000000000",
          "2025-06-10T00:00:00.000000000",
          "2025-06-11T00:00:00.000000000",
          "2025-06-12T00:00:00.000000000",
          "2025-06-13T00:00:00.000000000",
          "2025-06-16T00:00:00.000000000",
          "2025-06-17T00:00:00.000000000",
          "2025-06-18T00:00:00.000000000",
          "2025-06-19T00:00:00.000000000",
          "2025-06-20T00:00:00.000000000",
          "2025-06-23T00:00:00.000000000",
          "2025-06-24T00:00:00.000000000",
          "2025-06-25T00:00:00.000000000",
          "2025-06-26T00:00:00.000000000",
          "2025-06-27T00:00:00.000000000",
          "2025-06-30T00:00:00.000000000",
          "2025-07-01T00:00:00.000000000",
          "2025-07-02T00:00:00.000000000",
          "2025-07-03T00:00:00.000000000",
          "2025-07-04T00:00:00.000000000",
          "2025-07-07T00:00:00.000000000",
          "2025-07-08T00:00:00.000000000",
          "2025-07-09T00:00:00.000000000",
          "2025-07-10T00:00:00.000000000",
          "2025-07-11T00:00:00.000000000",
          "2025-07-14T00:00:00.000000000",
          "2025-07-15T00:00:00.000000000",
          "2025-07-16T00:00:00.000000000",
          "2025-07-17T00:00:00.000000000",
          "2025-07-18T00:00:00.000000000",
          "2025-07-21T00:00:00.000000000",
          "2025-07-22T00:00:00.000000000",
          "2025-07-23T00:00:00.000000000",
          "2025-07-24T00:00:00.000000000",
          "2025-07-25T00:00:00.000000000",
          "2025-07-28T00:00:00.000000000",
          "2025-07-29T00:00:00.000000000",
          "2025-07-30T00:00:00.000000000",
          "2025-07-31T00:00:00.000000000",
          "2025-08-01T00:00:00.000000000",
          "2025-08-04T00:00:00.000000000",
          "2025-08-05T00:00:00.000000000",
          "2025-08-06T00:00:00.000000000",
          "2025-08-07T00:00:00.000000000",
          "2025-08-08T00:00:00.000000000",
          "2025-08-11T00:00:00.000000000",
          "2025-08-12T00:00:00.000000000",
          "2025-08-13T00:00:00.000000000",
          "2025-08-14T00:00:00.000000000",
          "2025-08-18T00:00:00.000000000",
          "2025-08-19T00:00:00.000000000",
          "2025-08-20T00:00:00.000000000",
          "2025-08-21T00:00:00.000000000",
          "2025-08-22T00:00:00.000000000",
          "2025-08-25T00:00:00.000000000",
          "2025-08-26T00:00:00.000000000",
          "2025-08-27T00:00:00.000000000",
          "2025-08-28T00:00:00.000000000",
          "2025-08-29T00:00:00.000000000",
          "2025-09-01T00:00:00.000000000",
          "2025-09-02T00:00:00.000000000",
          "2025-09-03T00:00:00.000000000",
          "2025-09-04T00:00:00.000000000",
          "2025-09-05T00:00:00.000000000",
          "2025-09-08T00:00:00.000000000",
          "2025-09-09T00:00:00.000000000",
          "2025-09-10T00:00:00.000000000",
          "2025-09-11T00:00:00.000000000",
          "2025-09-12T00:00:00.000000000",
          "2025-09-15T00:00:00.000000000",
          "2025-09-16T00:00:00.000000000",
          "2025-09-17T00:00:00.000000000",
          "2025-09-18T00:00:00.000000000",
          "2025-09-19T00:00:00.000000000",
          "2025-09-22T00:00:00.000000000",
          "2025-09-23T00:00:00.000000000",
          "2025-09-24T00:00:00.000000000",
          "2025-09-25T00:00:00.000000000",
          "2025-09-26T00:00:00.000000000"
         ],
         "xaxis": "x",
         "y": {
          "bdata": "AAAAYPuzq0AAAACgoZerQAAAAKAcD6tAAAAAoLEYq0AAAACAUf6qQAAAAIBR/qpAAAAAQCL9qkAAAABgoH+rQAAAAMApnatAAAAAQKABrEAAAACghjqsQAAAAOAoD6xAAAAAwJUtrEAAAACglNSrQAAAACA6Z6tAAAAAgLFZq0AAAADAhEOqQAAAAMCKdqlAAAAAgHVEqUAAAACgzGmpQAAAAAA6DqlAAAAA4GTwqEAAAABAYxGpQAAAACD3Q6lAAAAA4I11qUAAAAAgZ6KpQAAAAGAtlKlAAAAAwPpWqkAAAADgdECqQAAAAMAgnKpAAAAAwDyTqkAAAAAgiMyqQAAAAKBjp6pAAAAAgIp6qkAAAAAAk6iqQAAAAADWs6pAAAAAAGaWqkAAAADg552qQAAAAGDqjKpAAAAA4Lvwq0AAAACAfyCrQAAAAAAUY6tAAAAAILigq0AAAADA+HurQAAAAIABKKtAAAAAIIH/qkAAAADg1TWrQAAAACBs1apAAAAAILUfq0AAAABAjkyrQAAAAGBLAKtAAAAAgFH+qkAAAAAAHP+qQAAAAICNuqpAAAAAIK+fqkAAAACgkUeqQAAAACDuUqpAAAAAgGU/qkAAAAAAglmqQAAAACCnpKpAAAAAIGD2qkAAAACAUAirQAAAAGArvapAAAAAgBfUqkAAAAAg8zirQAAAAEDSXqtAAAAAAHTfqkAAAADA1qiqQAAAAMAowKpAAAAAoD5sqkAAAACg3WWqQAAAAEBM0qpAAAAAgFHMqkAAAABg7MqqQAAAAOCU9KpAAAAAQDO0qkAAAACAcaeqQAAAAICYeqpAAAAAoHegqkAAAABgUpCqQAAAAOBbhapAAAAA4LVYqkAAAABgH1WqQAAAAEDobalAAAAAoJkXqUAAAACgmVKpQAAAAEAzQqlAAAAAYGYSqUAAAADAzOuoQAAAAGBmrKhAAAAAQDOvqEAAAABAM9aoQAAAAAAAmKhAAAAAoJl/qEAAAACgmQ6oQAAAAAAA4KdAAAAAQDPbp0AAAACgmbmnQAAAAAAAdqdAAAAAwMwEqEAAAADAzO+nQAAAAKCZsKdAAAAAAADOp0AAAADAzLinQAAAAKCZwadAAAAAwMy2p0AAAABgZrinQAAAAKCZnKdAAAAAYGaGp0AAAABgZpCnQAAAAEAzNahAAAAAQDM9qEAAAAAAANynQAAAAEAziahAAAAAYGaqqEAAAABgZqqoQAAAAGBmK6hAAAAAYGYZqEAAAABAM1GoQAAAAAAAT6hAAAAAAAAzqEAAAABgZi+oQAAAAKCZ0KdAAAAAAACWp0AAAADAzNKnQAAAAAAATKhAAAAAYGZoqEAAAADAzHqoQAAAAMDMT6hAAAAAYGaTqEAAAACgmcmoQAAAAGBm0ahAAAAAYGbCqEAAAACgmQOoQAAAAMDM7KdAAAAAwMy2p0AAAADAzBqnQAAAAEAzpqZA",
          "dtype": "f8"
         },
         "yaxis": "y"
        },
        {
         "line": {
          "color": "#F24236",
          "dash": "dot",
          "width": 2
         },
         "name": "Predicted Price",
         "type": "scatter",
         "x": [
          "2025-03-10T00:00:00.000000000",
          "2025-03-11T00:00:00.000000000",
          "2025-03-12T00:00:00.000000000",
          "2025-03-13T00:00:00.000000000",
          "2025-03-17T00:00:00.000000000",
          "2025-03-18T00:00:00.000000000",
          "2025-03-19T00:00:00.000000000",
          "2025-03-20T00:00:00.000000000",
          "2025-03-21T00:00:00.000000000",
          "2025-03-24T00:00:00.000000000",
          "2025-03-25T00:00:00.000000000",
          "2025-03-26T00:00:00.000000000",
          "2025-03-27T00:00:00.000000000",
          "2025-03-28T00:00:00.000000000",
          "2025-04-01T00:00:00.000000000",
          "2025-04-02T00:00:00.000000000",
          "2025-04-03T00:00:00.000000000",
          "2025-04-04T00:00:00.000000000",
          "2025-04-07T00:00:00.000000000",
          "2025-04-08T00:00:00.000000000",
          "2025-04-09T00:00:00.000000000",
          "2025-04-11T00:00:00.000000000",
          "2025-04-15T00:00:00.000000000",
          "2025-04-16T00:00:00.000000000",
          "2025-04-17T00:00:00.000000000",
          "2025-04-21T00:00:00.000000000",
          "2025-04-22T00:00:00.000000000",
          "2025-04-23T00:00:00.000000000",
          "2025-04-24T00:00:00.000000000",
          "2025-04-25T00:00:00.000000000",
          "2025-04-28T00:00:00.000000000",
          "2025-04-29T00:00:00.000000000",
          "2025-04-30T00:00:00.000000000",
          "2025-05-02T00:00:00.000000000",
          "2025-05-05T00:00:00.000000000",
          "2025-05-06T00:00:00.000000000",
          "2025-05-07T00:00:00.000000000",
          "2025-05-08T00:00:00.000000000",
          "2025-05-09T00:00:00.000000000",
          "2025-05-12T00:00:00.000000000",
          "2025-05-13T00:00:00.000000000",
          "2025-05-14T00:00:00.000000000",
          "2025-05-15T00:00:00.000000000",
          "2025-05-16T00:00:00.000000000",
          "2025-05-19T00:00:00.000000000",
          "2025-05-20T00:00:00.000000000",
          "2025-05-21T00:00:00.000000000",
          "2025-05-22T00:00:00.000000000",
          "2025-05-23T00:00:00.000000000",
          "2025-05-26T00:00:00.000000000",
          "2025-05-27T00:00:00.000000000",
          "2025-05-28T00:00:00.000000000",
          "2025-05-29T00:00:00.000000000",
          "2025-05-30T00:00:00.000000000",
          "2025-06-02T00:00:00.000000000",
          "2025-06-03T00:00:00.000000000",
          "2025-06-04T00:00:00.000000000",
          "2025-06-05T00:00:00.000000000",
          "2025-06-06T00:00:00.000000000",
          "2025-06-09T00:00:00.000000000",
          "2025-06-10T00:00:00.000000000",
          "2025-06-11T00:00:00.000000000",
          "2025-06-12T00:00:00.000000000",
          "2025-06-13T00:00:00.000000000",
          "2025-06-16T00:00:00.000000000",
          "2025-06-17T00:00:00.000000000",
          "2025-06-18T00:00:00.000000000",
          "2025-06-19T00:00:00.000000000",
          "2025-06-20T00:00:00.000000000",
          "2025-06-23T00:00:00.000000000",
          "2025-06-24T00:00:00.000000000",
          "2025-06-25T00:00:00.000000000",
          "2025-06-26T00:00:00.000000000",
          "2025-06-27T00:00:00.000000000",
          "2025-06-30T00:00:00.000000000",
          "2025-07-01T00:00:00.000000000",
          "2025-07-02T00:00:00.000000000",
          "2025-07-03T00:00:00.000000000",
          "2025-07-04T00:00:00.000000000",
          "2025-07-07T00:00:00.000000000",
          "2025-07-08T00:00:00.000000000",
          "2025-07-09T00:00:00.000000000",
          "2025-07-10T00:00:00.000000000",
          "2025-07-11T00:00:00.000000000",
          "2025-07-14T00:00:00.000000000",
          "2025-07-15T00:00:00.000000000",
          "2025-07-16T00:00:00.000000000",
          "2025-07-17T00:00:00.000000000",
          "2025-07-18T00:00:00.000000000",
          "2025-07-21T00:00:00.000000000",
          "2025-07-22T00:00:00.000000000",
          "2025-07-23T00:00:00.000000000",
          "2025-07-24T00:00:00.000000000",
          "2025-07-25T00:00:00.000000000",
          "2025-07-28T00:00:00.000000000",
          "2025-07-29T00:00:00.000000000",
          "2025-07-30T00:00:00.000000000",
          "2025-07-31T00:00:00.000000000",
          "2025-08-01T00:00:00.000000000",
          "2025-08-04T00:00:00.000000000",
          "2025-08-05T00:00:00.000000000",
          "2025-08-06T00:00:00.000000000",
          "2025-08-07T00:00:00.000000000",
          "2025-08-08T00:00:00.000000000",
          "2025-08-11T00:00:00.000000000",
          "2025-08-12T00:00:00.000000000",
          "2025-08-13T00:00:00.000000000",
          "2025-08-14T00:00:00.000000000",
          "2025-08-18T00:00:00.000000000",
          "2025-08-19T00:00:00.000000000",
          "2025-08-20T00:00:00.000000000",
          "2025-08-21T00:00:00.000000000",
          "2025-08-22T00:00:00.000000000",
          "2025-08-25T00:00:00.000000000",
          "2025-08-26T00:00:00.000000000",
          "2025-08-27T00:00:00.000000000",
          "2025-08-28T00:00:00.000000000",
          "2025-08-29T00:00:00.000000000",
          "2025-09-01T00:00:00.000000000",
          "2025-09-02T00:00:00.000000000",
          "2025-09-03T00:00:00.000000000",
          "2025-09-04T00:00:00.000000000",
          "2025-09-05T00:00:00.000000000",
          "2025-09-08T00:00:00.000000000",
          "2025-09-09T00:00:00.000000000",
          "2025-09-10T00:00:00.000000000",
          "2025-09-11T00:00:00.000000000",
          "2025-09-12T00:00:00.000000000",
          "2025-09-15T00:00:00.000000000",
          "2025-09-16T00:00:00.000000000",
          "2025-09-17T00:00:00.000000000",
          "2025-09-18T00:00:00.000000000",
          "2025-09-19T00:00:00.000000000",
          "2025-09-22T00:00:00.000000000",
          "2025-09-23T00:00:00.000000000",
          "2025-09-24T00:00:00.000000000",
          "2025-09-25T00:00:00.000000000",
          "2025-09-26T00:00:00.000000000"
         ],
         "xaxis": "x",
         "y": {
          "bdata": "j8L1eMqDq0DhehT+DImrQArXo+ixlKtASOF6JKcArECPwvUwEgqsQOF6FA5M/6tAj8L16B7Qq0DsUbj+d5urQPYoXAcOnatAcT0KN3Omq0D2KFxHoberQOxRuLbepqtAMzMzo6ewq0CPwvUgX/irQArXo3DPCKxASOF61FMkrEBSuB4lsTysQD0K11PGwaxArkfh2rqkrEAfhetJTJqrQHE9Cr/7lKtAFK5H0RQqqkApXI/6tCSqQI/C9WDBT6lApHA9ivIPqkDD9SgEEwGoQOxRuL5eCqhAexSun9IGqECPwvUAYDqpQGZmZjZpEqpAUrgezSPrqUDsUbju16OpQMP1KNSIAapArkfhykkuqkBmZmYeDN+qQClcj+rgk6pAcT0K3wkaq0AfheuJl+eqQOF6FP4nWqpAFK5Hod32qkBcj8KtM/2qQArXozg4nKpAAAAAGITnqkCamZnxjoSqQOF6FI6H4qxAZmZmNt8Sq0D2KFzXskirQOxRuLbiuKxAexSuV6fXq0B7FK4fgFurQOxRuAaxWatA16NwPU7eq0Bcj8KV76mrQAAAAIiE1KtArkfhksHZq0BmZmbOm6+rQIXrUWB0xKtA9ihcNyEHq0CF61GgP9GqQOxRuAZmrqpAmpmZcXS8qUCF61HIt9+pQK5H4bLC76lAXI/CXTLnqUCkcD0KcsuqQOxRuE7bHatAFK5HeY4Rq0ApXI+yI/6qQD0K11PGBqtA4XoUbtwZq0DXo3DV6jSrQLgehUNEJKtAj8L1uJXkqkDhehTmhhCrQEjherxgC6pAPQrX60oWqkAzMzOrujKrQI/C9ZBILatAmpmZ8XUaq0CamZmB60GrQOF6FB7TAKtASOF6nLDiqkApXI9SNzKqQAAAAHBg06pAw/UorJlEqkApXI9KBy6qQK5H4fIhAqpA9ihcDxwRqkBcj8KNu82pQHsUrk9x8adA9ihcP9G6qUDsUbiekBipQGZmZr6t56dAKVyP2mf5p0AK16NQbe+nQJqZmVHViKdAKVyPYmebp0DhehQ2K22nQAAAAAjXcadAZmZm1jd2p0AK16Pgh36nQD0K13vveadAmpmZAe55p0DsUbgWaImnQArXo3CtcadAzczMVOaGp0BmZmZWQ8OnQAAAAJggjKdAH4XrYfyep0A9CtfTN7anQOxRuI5xtqdAKVyPSji5p0AK16PoSbKnQMP1KETmuKdAmpmZObnLp0CamZlpJbmnQEjhelQRnKdAAAAAoLfhp0Afhet5kHSnQLgehasRgKdArkfhAipoqEAfhevJo3yoQK5H4VpAnahAw/UohD6RqEDD9ShE6LmoQClcj0KBs6hAPQrXw8itqEAfhetxkK2oQJqZmXEfNqhAj8L1oAHkp0A9CtdzYYaoQDMzM6v5wqhASOF6bCHKqEC4HoW7CbKoQEjhekxoyqhAw/UoJGnSqEAfhetZbeeoQJqZmbFszqhA",
          "dtype": "f8"
         },
         "yaxis": "y"
        },
        {
         "line": {
          "color": "#00FF00",
          "dash": "dash",
          "width": 3
         },
         "marker": {
          "size": 8,
          "symbol": "star"
         },
         "name": "Future Prediction",
         "type": "scatter",
         "x": [
          "2025-09-29T00:00:00",
          "2025-09-30T00:00:00",
          "2025-10-01T00:00:00",
          "2025-10-02T00:00:00",
          "2025-10-03T00:00:00",
          "2025-10-06T00:00:00",
          "2025-10-07T00:00:00"
         ],
         "xaxis": "x",
         "y": [
          3041.14796875,
          3035.2374609375,
          3035.446115722656,
          3035.446115722656,
          3035.446115722656,
          3035.446115722656,
          3035.446115722656
         ],
         "yaxis": "y"
        },
        {
         "marker": {
          "color": "#A23B72"
         },
         "name": "Volume",
         "type": "bar",
         "x": [
          "2025-03-10T00:00:00.000000000",
          "2025-03-11T00:00:00.000000000",
          "2025-03-12T00:00:00.000000000",
          "2025-03-13T00:00:00.000000000",
          "2025-03-17T00:00:00.000000000",
          "2025-03-18T00:00:00.000000000",
          "2025-03-19T00:00:00.000000000",
          "2025-03-20T00:00:00.000000000",
          "2025-03-21T00:00:00.000000000",
          "2025-03-24T00:00:00.000000000",
          "2025-03-25T00:00:00.000000000",
          "2025-03-26T00:00:00.000000000",
          "2025-03-27T00:00:00.000000000",
          "2025-03-28T00:00:00.000000000",
          "2025-04-01T00:00:00.000000000",
          "2025-04-02T00:00:00.000000000",
          "2025-04-03T00:00:00.000000000",
          "2025-04-04T00:00:00.000000000",
          "2025-04-07T00:00:00.000000000",
          "2025-04-08T00:00:00.000000000",
          "2025-04-09T00:00:00.000000000",
          "2025-04-11T00:00:00.000000000",
          "2025-04-15T00:00:00.000000000",
          "2025-04-16T00:00:00.000000000",
          "2025-04-17T00:00:00.000000000",
          "2025-04-21T00:00:00.000000000",
          "2025-04-22T00:00:00.000000000",
          "2025-04-23T00:00:00.000000000",
          "2025-04-24T00:00:00.000000000",
          "2025-04-25T00:00:00.000000000",
          "2025-04-28T00:00:00.000000000",
          "2025-04-29T00:00:00.000000000",
          "2025-04-30T00:00:00.000000000",
          "2025-05-02T00:00:00.000000000",
          "2025-05-05T00:00:00.000000000",
          "2025-05-06T00:00:00.000000000",
          "2025-05-07T00:00:00.000000000",
          "2025-05-08T00:00:00.000000000",
          "2025-05-09T00:00:00.000000000",
          "2025-05-12T00:00:00.000000000",
          "2025-05-13T00:00:00.000000000",
          "2025-05-14T00:00:00.000000000",
          "2025-05-15T00:00:00.000000000",
          "2025-05-16T00:00:00.000000000",
          "2025-05-19T00:00:00.000000000",
          "2025-05-20T00:00:00.000000000",
          "2025-05-21T00:00:00.000000000",
          "2025-05-22T00:00:00.000000000",
          "2025-05-23T00:00:00.000000000",
          "2025-05-26T00:00:00.000000000",
          "2025-05-27T00:00:00.000000000",
          "2025-05-28T00:00:00.000000000",
          "2025-05-29T00:00:00.000000000",
          "2025-05-30T00:00:00.000000000",
          "2025-06-02T00:00:00.000000000",
          "2025-06-03T00:00:00.000000000",
          "2025-06-04T00:00:00.000000000",
          "2025-06-05T00:00:00.000000000",
          "2025-06-06T00:00:00.000000000",
          "2025-06-09T00:00:00.000000000",
          "2025-06-10T00:00:00.000000000",
          "2025-06-11T00:00:00.000000000",
          "2025-06-12T00:00:00.000000000",
          "2025-06-13T00:00:00.000000000",
          "2025-06-16T00:00:00.000000000",
          "2025-06-17T00:00:00.000000000",
          "2025-06-18T00:00:00.000000000",
          "2025-06-19T00:00:00.000000000",
          "2025-06-20T00:00:00.000000000",
          "2025-06-23T00:00:00.000000000",
          "2025-06-24T00:00:00.000000000",
          "2025-06-25T00:00:00.000000000",
          "2025-06-26T00:00:00.000000000",
          "2025-06-27T00:00:00.000000000",
          "2025-06-30T00:00:00.000000000",
          "2025-07-01T00:00:00.000000000",
          "2025-07-02T00:00:00.000000000",
          "2025-07-03T00:00:00.000000000",
          "2025-07-04T00:00:00.000000000",
          "2025-07-07T00:00:00.000000000",
          "2025-07-08T00:00:00.000000000",
          "2025-07-09T00:00:00.000000000",
          "2025-07-10T00:00:00.000000000",
          "2025-07-11T00:00:00.000000000",
          "2025-07-14T00:00:00.000000000",
          "2025-07-15T00:00:00.000000000",
          "2025-07-16T00:00:00.000000000",
          "2025-07-17T00:00:00.000000000",
          "2025-07-18T00:00:00.000000000",
          "2025-07-21T00:00:00.000000000",
          "2025-07-22T00:00:00.000000000",
          "2025-07-23T00:00:00.000000000",
          "2025-07-24T00:00:00.000000000",
          "2025-07-25T00:00:00.000000000",
          "2025-07-28T00:00:00.000000000",
          "2025-07-29T00:00:00.000000000",
          "2025-07-30T00:00:00.000000000",
          "2025-07-31T00:00:00.000000000",
          "2025-08-01T00:00:00.000000000",
          "2025-08-04T00:00:00.000000000",
          "2025-08-05T00:00:00.000000000",
          "2025-08-06T00:00:00.000000000",
          "2025-08-07T00:00:00.000000000",
          "2025-08-08T00:00:00.000000000",
          "2025-08-11T00:00:00.000000000",
          "2025-08-12T00:00:00.000000000",
          "2025-08-13T00:00:00.000000000",
          "2025-08-14T00:00:00.000000000",
          "2025-08-18T00:00:00.000000000",
          "2025-08-19T00:00:00.000000000",
          "2025-08-20T00:00:00.000000000",
          "2025-08-21T00:00:00.000000000",
          "2025-08-22T00:00:00.000000000",
          "2025-08-25T00:00:00.000000000",
          "2025-08-26T00:00:00.000000000",
          "2025-08-27T00:00:00.000000000",
          "2025-08-28T00:00:00.000000000",
          "2025-08-29T00:00:00.000000000",
          "2025-09-01T00:00:00.000000000",
          "2025-09-02T00:00:00.000000000",
          "2025-09-03T00:00:00.000000000",
          "2025-09-04T00:00:00.000000000",
          "2025-09-05T00:00:00.000000000",
          "2025-09-08T00:00:00.000000000",
          "2025-09-09T00:00:00.000000000",
          "2025-09-10T00:00:00.000000000",
          "2025-09-11T00:00:00.000000000",
          "2025-09-12T00:00:00.000000000",
          "2025-09-15T00:00:00.000000000",
          "2025-09-16T00:00:00.000000000",
          "2025-09-17T00:00:00.000000000",
          "2025-09-18T00:00:00.000000000",
          "2025-09-19T00:00:00.000000000",
          "2025-09-22T00:00:00.000000000",
          "2025-09-23T00:00:00.000000000",
          "2025-09-24T00:00:00.000000000",
          "2025-09-25T00:00:00.000000000",
          "2025-09-26T00:00:00.000000000"
         ],
         "xaxis": "x2",
         "y": {
          "bdata": "UlQPALpyHgAXbzAATNUZAFoPKQAAAAAA7I4uAAhqKwCFgT8A//4bAJ7XLwBjdxoA2pQmAE9PHwB99CcA2esaAN09RQD3IlEA0xJlADbNVAC5oC0AYXlsAGCXNQAHYiQAer4sALIfJQDiWykAcxM2AI9dIgDP2ikA0E8YAFwVGAD03SoAoUUaAFuZEwDbNhQACIoWAOfPJgCtoSYAxgEiAGe8LgBLVyAAqiQ2AKduGQChtyYAZhofAJn5FQDPCh8A23ETAC7DDgBgpyUAFakSAGilMABN8jMAUaYcAH11KwCn1CYAq7I2AHaXHwCWORoAouwkACVxKwDm8z0AvT0hAAiDHQDEOSAAhyQpAIDIKACQ4CMA3agvACjtMwAD0hoAgu4rAAEjGwC/ZxYADz4kAJkoLwAeoiYASO0QAAYDGQD6eiMA+gwfAIRPLgBegnQAKeA7AKmIJwC9xCYAOPosAMVgNAD6qDoAVMwwADtXHQD6xywA1TInAIl9MwCgBEkAefIrADNLLQDXVh8A1HAmADxrHQDpsBYA5M0mAJwlKgA3wBwAGD4zAEbHIABe/zIASfIsAKByKAAmkUsABkwxAL9RGAAynjQAsUJUAAAAAAATjC8ALaoiAI4GEwANWCEAXnYbAK+aFgCHwSoAixIoANX7JQDEuh8AlokiAP8UFgC7bxoAdUQnAF/mJACyLSgAPstKANV2NwANfTAAcs4YABnnSwCsCTwA",
          "dtype": "i4"
         },
         "yaxis": "y2"
        },
        {
         "line": {
          "color": "orange",
          "width": 1
         },
         "name": "SMA 50",
         "type": "scatter",
         "x": [
          "2025-03-10T00:00:00.000000000",
          "2025-03-11T00:00:00.000000000",
          "2025-03-12T00:00:00.000000000",
          "2025-03-13T00:00:00.000000000",
          "2025-03-17T00:00:00.000000000",
          "2025-03-18T00:00:00.000000000",
          "2025-03-19T00:00:00.000000000",
          "2025-03-20T00:00:00.000000000",
          "2025-03-21T00:00:00.000000000",
          "2025-03-24T00:00:00.000000000",
          "2025-03-25T00:00:00.000000000",
          "2025-03-26T00:00:00.000000000",
          "2025-03-27T00:00:00.000000000",
          "2025-03-28T00:00:00.000000000",
          "2025-04-01T00:00:00.000000000",
          "2025-04-02T00:00:00.000000000",
          "2025-04-03T00:00:00.000000000",
          "2025-04-04T00:00:00.000000000",
          "2025-04-07T00:00:00.000000000",
          "2025-04-08T00:00:00.000000000",
          "2025-04-09T00:00:00.000000000",
          "2025-04-11T00:00:00.000000000",
          "2025-04-15T00:00:00.000000000",
          "2025-04-16T00:00:00.000000000",
          "2025-04-17T00:00:00.000000000",
          "2025-04-21T00:00:00.000000000",
          "2025-04-22T00:00:00.000000000",
          "2025-04-23T00:00:00.000000000",
          "2025-04-24T00:00:00.000000000",
          "2025-04-25T00:00:00.000000000",
          "2025-04-28T00:00:00.000000000",
          "2025-04-29T00:00:00.000000000",
          "2025-04-30T00:00:00.000000000",
          "2025-05-02T00:00:00.000000000",
          "2025-05-05T00:00:00.000000000",
          "2025-05-06T00:00:00.000000000",
          "2025-05-07T00:00:00.000000000",
          "2025-05-08T00:00:00.000000000",
          "2025-05-09T00:00:00.000000000",
          "2025-05-12T00:00:00.000000000",
          "2025-05-13T00:00:00.000000000",
          "2025-05-14T00:00:00.000000000",
          "2025-05-15T00:00:00.000000000",
          "2025-05-16T00:00:00.000000000",
          "2025-05-19T00:00:00.000000000",
          "2025-05-20T00:00:00.000000000",
          "2025-05-21T00:00:00.000000000",
          "2025-05-22T00:00:00.000000000",
          "2025-05-23T00:00:00.000000000",
          "2025-05-26T00:00:00.000000000",
          "2025-05-27T00:00:00.000000000",
          "2025-05-28T00:00:00.000000000",
          "2025-05-29T00:00:00.000000000",
          "2025-05-30T00:00:00.000000000",
          "2025-06-02T00:00:00.000000000",
          "2025-06-03T00:00:00.000000000",
          "2025-06-04T00:00:00.000000000",
          "2025-06-05T00:00:00.000000000",
          "2025-06-06T00:00:00.000000000",
          "2025-06-09T00:00:00.000000000",
          "2025-06-10T00:00:00.000000000",
          "2025-06-11T00:00:00.000000000",
          "2025-06-12T00:00:00.000000000",
          "2025-06-13T00:00:00.000000000",
          "2025-06-16T00:00:00.000000000",
          "2025-06-17T00:00:00.000000000",
          "2025-06-18T00:00:00.000000000",
          "2025-06-19T00:00:00.000000000",
          "2025-06-20T00:00:00.000000000",
          "2025-06-23T00:00:00.000000000",
          "2025-06-24T00:00:00.000000000",
          "2025-06-25T00:00:00.000000000",
          "2025-06-26T00:00:00.000000000",
          "2025-06-27T00:00:00.000000000",
          "2025-06-30T00:00:00.000000000",
          "2025-07-01T00:00:00.000000000",
          "2025-07-02T00:00:00.000000000",
          "2025-07-03T00:00:00.000000000",
          "2025-07-04T00:00:00.000000000",
          "2025-07-07T00:00:00.000000000",
          "2025-07-08T00:00:00.000000000",
          "2025-07-09T00:00:00.000000000",
          "2025-07-10T00:00:00.000000000",
          "2025-07-11T00:00:00.000000000",
          "2025-07-14T00:00:00.000000000",
          "2025-07-15T00:00:00.000000000",
          "2025-07-16T00:00:00.000000000",
          "2025-07-17T00:00:00.000000000",
          "2025-07-18T00:00:00.000000000",
          "2025-07-21T00:00:00.000000000",
          "2025-07-22T00:00:00.000000000",
          "2025-07-23T00:00:00.000000000",
          "2025-07-24T00:00:00.000000000",
          "2025-07-25T00:00:00.000000000",
          "2025-07-28T00:00:00.000000000",
          "2025-07-29T00:00:00.000000000",
          "2025-07-30T00:00:00.000000000",
          "2025-07-31T00:00:00.000000000",
          "2025-08-01T00:00:00.000000000",
          "2025-08-04T00:00:00.000000000",
          "2025-08-05T00:00:00.000000000",
          "2025-08-06T00:00:00.000000000",
          "2025-08-07T00:00:00.000000000",
          "2025-08-08T00:00:00.000000000",
          "2025-08-11T00:00:00.000000000",
          "2025-08-12T00:00:00.000000000",
          "2025-08-13T00:00:00.000000000",
          "2025-08-14T00:00:00.000000000",
          "2025-08-18T00:00:00.000000000",
          "2025-08-19T00:00:00.000000000",
          "2025-08-20T00:00:00.000000000",
          "2025-08-21T00:00:00.000000000",
          "2025-08-22T00:00:00.000000000",
          "2025-08-25T00:00:00.000000000",
          "2025-08-26T00:00:00.000000000",
          "2025-08-27T00:00:00.000000000",
          "2025-08-28T00:00:00.000000000",
          "2025-08-29T00:00:00.000000000",
          "2025-09-01T00:00:00.000000000",
          "2025-09-02T00:00:00.000000000",
          "2025-09-03T00:00:00.000000000",
          "2025-09-04T00:00:00.000000000",
          "2025-09-05T00:00:00.000000000",
          "2025-09-08T00:00:00.000000000",
          "2025-09-09T00:00:00.000000000",
          "2025-09-10T00:00:00.000000000",
          "2025-09-11T00:00:00.000000000",
          "2025-09-12T00:00:00.000000000",
          "2025-09-15T00:00:00.000000000",
          "2025-09-16T00:00:00.000000000",
          "2025-09-17T00:00:00.000000000",
          "2025-09-18T00:00:00.000000000",
          "2025-09-19T00:00:00.000000000",
          "2025-09-22T00:00:00.000000000",
          "2025-09-23T00:00:00.000000000",
          "2025-09-24T00:00:00.000000000",
          "2025-09-25T00:00:00.000000000",
          "2025-09-26T00:00:00.000000000"
         ],
         "xaxis": "x",
         "y": {
          "bdata": "exSux9yUrkBmZmZGuICuQM3MzKwmaa5ApHA9WkdPrkC4HoVr3jeuQOxRuO6mIK5ApHA9egoMrkApXI/S4fatQArXo0AO5a1AKVyPUkzMrUBSuB7lrLOtQOF6FD55nK1Aj8L1WDqFrUBcj8K16G2tQPYoXH8/V61AuB6FWydCrUDhehROJymtQEjhelRIB61AexSut9nkrEDsUbh+5MKsQM3MzHyMoqxArkfhGpeCrECF61HI8GCsQD0K1+NKQKxAcT0K9yUgrEAfheuxcwKsQM3MzBym5KtAw/UofDnJq0AK16Pg+q2rQHsUrhfmlKtAMzMzc799q0B7FK7HcWerQJqZmWlMU6tAj8L1+Mg+q0BxPQrXxSyrQD0K14MCGqtApHA9etsHq0DXo3B9F/eqQMP1KMyB6apACtejcDnjqkBmZmYmhNiqQOxRuH6A06pAMzMzQ4rRqkCF61HYg8+qQDMzM3Pr0KpA7FG4jiDRqkBcj8JV4dCqQPYoXL8czqpAMzMzs6zKqkC4HoUrwceqQLgehSspxKpAUrgeNRjBqkBmZmZGxsCqQFyPwkXkvqpA7FG4vv+8qkAUrkcRWLmqQAAAAKDwtapAw/UoDImvqkDsUbjuD6mqQArXozAVoqpApHA9ipmbqkBcj8LFV5aqQMP1KHz5jqpAMzMzQ9iJqkApXI9S64iqQD0K15MFiapAZmZm9iOMqkA9CtczRJKqQEjhekTcmapAH4XrgQefqkAK16Pw5qWqQJqZmUmKr6pAexSuF2a4qkDD9SjMN8CqQFyPwuXgx6pA16NwvVrNqkCkcD0a3NKqQFK4HnWS06pAhetRCH7VqkBcj8KVQdWqQHE9Cof61KpAXI/ChanSqkAUrkdRBNGqQJqZmemky6pAzczM7J/DqkC4HoVbj7yqQK5H4YrBtapA16NwjditqkC4HoXrgKWqQD0K1+PGlKpA16NwXUWIqkAUrkehNnuqQD0K19Ota6pA7FG4PmRcqkAfhesBhkyqQLgehYuIPKpAUrgeVVwrqkCPwvW4cRuqQI/C9aiwCKpAw/UoHOX3qUD2KFx/NOipQLgehWtK16lAH4Xr0fLGqUD2KFyvjbepQM3MzCzfqKlASOF6hLybqUAfhevhZ46pQM3MzOzogKlAzczMnHJyqUAfhevBrmKpQClcj0KUVKlAAAAA4EZGqUAUrkeRiDepQOxRuK7LK6lAMzMzY7QeqUAK16Mw2xCpQArXo+ADA6lAexSuB+j1qECuR+F6cumoQOxRuE6f3qhA9ihcb13TqEBSuB713cWoQIXrUbiXtqhAexSulyymqECF61F4I5aoQGZmZobQiahA16NwTVB+qECF61HoE3SoQDMzM3M5aKhAUrgexQteqECamZm5K1WoQHE9CjdYTahAZmZmRkpFqEAzMzNDCz6oQHsUrmcROKhAzczM/NQvqEAUrkfRzSSoQFK4HmVmGKhA",
          "dtype": "f8"
         },
         "yaxis": "y"
        }
       ],
       "layout": {
        "annotations": [
         {
          "font": {
           "size": 16
          },
          "showarrow": false,
          "text": "TCS.NS Price Prediction with RandomForest",
          "x": 0.5,
          "xanchor": "center",
          "xref": "paper",
          "y": 1,
          "yanchor": "bottom",
          "yref": "paper"
         },
         {
          "font": {
           "size": 16
          },
          "showarrow": false,
          "text": "Volume",
          "x": 0.5,
          "xanchor": "center",
          "xref": "paper",
          "y": 0.20000000000000004,
          "yanchor": "bottom",
          "yref": "paper"
         },
         {
          "align": "left",
          "bgcolor": "white",
          "bordercolor": "black",
          "borderpad": 4,
          "borderwidth": 1,
          "font": {
           "size": 12
          },
          "opacity": 0.8,
          "showarrow": false,
          "text": "MAE: $88.81<br>MAPE: 2.70%",
          "x": 0.02,
          "xref": "paper",
          "y": 0.98,
          "yref": "paper"
         }
        ],
        "height": 700,
        "legend": {
         "orientation": "h",
         "x": 1,
         "xanchor": "right",
         "y": 1.02,
         "yanchor": "bottom"
        },
        "template": {
         "data": {
          "bar": [
           {
            "error_x": {
             "color": "#2a3f5f"
            },
            "error_y": {
             "color": "#2a3f5f"
            },
            "marker": {
             "line": {
              "color": "white",
              "width": 0.5
             },
             "pattern": {
              "fillmode": "overlay",
              "size": 10,
              "solidity": 0.2
             }
            },
            "type": "bar"
           }
          ],
          "barpolar": [
           {
            "marker": {
             "line": {
              "color": "white",
              "width": 0.5
             },
             "pattern": {
              "fillmode": "overlay",
              "size": 10,
              "solidity": 0.2
             }
            },
            "type": "barpolar"
           }
          ],
          "carpet": [
           {
            "aaxis": {
             "endlinecolor": "#2a3f5f",
             "gridcolor": "#C8D4E3",
             "linecolor": "#C8D4E3",
             "minorgridcolor": "#C8D4E3",
             "startlinecolor": "#2a3f5f"
            },
            "baxis": {
             "endlinecolor": "#2a3f5f",
             "gridcolor": "#C8D4E3",
             "linecolor": "#C8D4E3",
             "minorgridcolor": "#C8D4E3",
             "startlinecolor": "#2a3f5f"
            },
            "type": "carpet"
           }
          ],
          "choropleth": [
           {
            "colorbar": {
             "outlinewidth": 0,
             "ticks": ""
            },
            "type": "choropleth"
           }
          ],
          "contour": [
           {
            "colorbar": {
             "outlinewidth": 0,
             "ticks": ""
            },
            "colorscale": [
             [
              0,
              "#0d0887"
             ],
             [
              0.1111111111111111,
              "#46039f"
             ],
             [
              0.2222222222222222,
              "#7201a8"
             ],
             [
              0.3333333333333333,
              "#9c179e"
             ],
             [
              0.4444444444444444,
              "#bd3786"
             ],
             [
              0.5555555555555556,
              "#d8576b"
             ],
             [
              0.6666666666666666,
              "#ed7953"
             ],
             [
              0.7777777777777778,
              "#fb9f3a"
             ],
             [
              0.8888888888888888,
              "#fdca26"
             ],
             [
              1,
              "#f0f921"
             ]
            ],
            "type": "contour"
           }
          ],
          "contourcarpet": [
           {
            "colorbar": {
             "outlinewidth": 0,
             "ticks": ""
            },
            "type": "contourcarpet"
           }
          ],
          "heatmap": [
           {
            "colorbar": {
             "outlinewidth": 0,
             "ticks": ""
            },
            "colorscale": [
             [
              0,
              "#0d0887"
             ],
             [
              0.1111111111111111,
              "#46039f"
             ],
             [
              0.2222222222222222,
              "#7201a8"
             ],
             [
              0.3333333333333333,
              "#9c179e"
             ],
             [
              0.4444444444444444,
              "#bd3786"
             ],
             [
              0.5555555555555556,
              "#d8576b"
             ],
             [
              0.6666666666666666,
              "#ed7953"
             ],
             [
              0.7777777777777778,
              "#fb9f3a"
             ],
             [
              0.8888888888888888,
              "#fdca26"
             ],
             [
              1,
              "#f0f921"
             ]
            ],
            "type": "heatmap"
           }
          ],
          "histogram": [
           {
            "marker": {
             "pattern": {
              "fillmode": "overlay",
              "size": 10,
              "solidity": 0.2
             }
            },
            "type": "histogram"
           }
          ],
          "histogram2d": [
           {
            "colorbar": {
             "outlinewidth": 0,
             "ticks": ""
            },
            "colorscale": [
             [
              0,
              "#0d0887"
             ],
             [
              0.1111111111111111,
              "#46039f"
             ],
             [
              0.2222222222222222,
              "#7201a8"
             ],
             [
              0.3333333333333333,
              "#9c179e"
             ],
             [
              0.4444444444444444,
              "#bd3786"
             ],
             [
              0.5555555555555556,
              "#d8576b"
             ],
             [
              0.6666666666666666,
              "#ed7953"
             ],
             [
              0.7777777777777778,
              "#fb9f3a"
             ],
             [
              0.8888888888888888,
              "#fdca26"
             ],
             [
              1,
              "#f0f921"
             ]
            ],
            "type": "histogram2d"
           }
          ],
          "histogram2dcontour": [
           {
            "colorbar": {
             "outlinewidth": 0,
             "ticks": ""
            },
            "colorscale": [
             [
              0,
              "#0d0887"
             ],
             [
              0.1111111111111111,
              "#46039f"
             ],
             [
              0.2222222222222222,
              "#7201a8"
             ],
             [
              0.3333333333333333,
              "#9c179e"
             ],
             [
              0.4444444444444444,
              "#bd3786"
             ],
             [
              0.5555555555555556,
              "#d8576b"
             ],
             [
              0.6666666666666666,
              "#ed7953"
             ],
             [
              0.7777777777777778,
              "#fb9f3a"
             ],
             [
              0.8888888888888888,
              "#fdca26"
             ],
             [
              1,
              "#f0f921"
             ]
            ],
            "type": "histogram2dcontour"
           }
          ],
          "mesh3d": [
           {
            "colorbar": {
             "outlinewidth": 0,
             "ticks": ""
            },
            "type": "mesh3d"
           }
          ],
          "parcoords": [
           {
            "line": {
             "colorbar": {
              "outlinewidth": 0,
              "ticks": ""
             }
            },
            "type": "parcoords"
           }
          ],
          "pie": [
           {
            "automargin": true,
            "type": "pie"
           }
          ],
          "scatter": [
           {
            "fillpattern": {
             "fillmode": "overlay",
             "size": 10,
             "solidity": 0.2
            },
            "type": "scatter"
           }
          ],
          "scatter3d": [
           {
            "line": {
             "colorbar": {
              "outlinewidth": 0,
              "ticks": ""
             }
            },
            "marker": {
             "colorbar": {
              "outlinewidth": 0,
              "ticks": ""
             }
            },
            "type": "scatter3d"
           }
          ],
          "scattercarpet": [
           {
            "marker": {
             "colorbar": {
              "outlinewidth": 0,
              "ticks": ""
             }
            },
            "type": "scattercarpet"
           }
          ],
          "scattergeo": [
           {
            "marker": {
             "colorbar": {
              "outlinewidth": 0,
              "ticks": ""
             }
            },
            "type": "scattergeo"
           }
          ],
          "scattergl": [
           {
            "marker": {
             "colorbar": {
              "outlinewidth": 0,
              "ticks": ""
             }
            },
            "type": "scattergl"
           }
          ],
          "scattermap": [
           {
            "marker": {
             "colorbar": {
              "outlinewidth": 0,
              "ticks": ""
             }
            },
            "type": "scattermap"
           }
          ],
          "scattermapbox": [
           {
            "marker": {
             "colorbar": {
              "outlinewidth": 0,
              "ticks": ""
             }
            },
            "type": "scattermapbox"
           }
          ],
          "scatterpolar": [
           {
            "marker": {
             "colorbar": {
              "outlinewidth": 0,
              "ticks": ""
             }
            },
            "type": "scatterpolar"
           }
          ],
          "scatterpolargl": [
           {
            "marker": {
             "colorbar": {
              "outlinewidth": 0,
              "ticks": ""
             }
            },
            "type": "scatterpolargl"
           }
          ],
          "scatterternary": [
           {
            "marker": {
             "colorbar": {
              "outlinewidth": 0,
              "ticks": ""
             }
            },
            "type": "scatterternary"
           }
          ],
          "surface": [
           {
            "colorbar": {
             "outlinewidth": 0,
             "ticks": ""
            },
            "colorscale": [
             [
              0,
              "#0d0887"
             ],
             [
              0.1111111111111111,
              "#46039f"
             ],
             [
              0.2222222222222222,
              "#7201a8"
             ],
             [
              0.3333333333333333,
              "#9c179e"
             ],
             [
              0.4444444444444444,
              "#bd3786"
             ],
             [
              0.5555555555555556,
              "#d8576b"
             ],
             [
              0.6666666666666666,
              "#ed7953"
             ],
             [
              0.7777777777777778,
              "#fb9f3a"
             ],
             [
              0.8888888888888888,
              "#fdca26"
             ],
             [
              1,
              "#f0f921"
             ]
            ],
            "type": "surface"
           }
          ],
          "table": [
           {
            "cells": {
             "fill": {
              "color": "#EBF0F8"
             },
             "line": {
              "color": "white"
             }
            },
            "header": {
             "fill": {
              "color": "#C8D4E3"
             },
             "line": {
              "color": "white"
             }
            },
            "type": "table"
           }
          ]
         },
         "layout": {
          "annotationdefaults": {
           "arrowcolor": "#2a3f5f",
           "arrowhead": 0,
           "arrowwidth": 1
          },
          "autotypenumbers": "strict",
          "coloraxis": {
           "colorbar": {
            "outlinewidth": 0,
            "ticks": ""
           }
          },
          "colorscale": {
           "diverging": [
            [
             0,
             "#8e0152"
            ],
            [
             0.1,
             "#c51b7d"
            ],
            [
             0.2,
             "#de77ae"
            ],
            [
             0.3,
             "#f1b6da"
            ],
            [
             0.4,
             "#fde0ef"
            ],
            [
             0.5,
             "#f7f7f7"
            ],
            [
             0.6,
             "#e6f5d0"
            ],
            [
             0.7,
             "#b8e186"
            ],
            [
             0.8,
             "#7fbc41"
            ],
            [
             0.9,
             "#4d9221"
            ],
            [
             1,
             "#276419"
            ]
           ],
           "sequential": [
            [
             0,
             "#0d0887"
            ],
            [
             0.1111111111111111,
             "#46039f"
            ],
            [
             0.2222222222222222,
             "#7201a8"
            ],
            [
             0.3333333333333333,
             "#9c179e"
            ],
            [
             0.4444444444444444,
             "#bd3786"
            ],
            [
             0.5555555555555556,
             "#d8576b"
            ],
            [
             0.6666666666666666,
             "#ed7953"
            ],
            [
             0.7777777777777778,
             "#fb9f3a"
            ],
            [
             0.8888888888888888,
             "#fdca26"
            ],
            [
             1,
             "#f0f921"
            ]
           ],
           "sequentialminus": [
            [
             0,
             "#0d0887"
            ],
            [
             0.1111111111111111,
             "#46039f"
            ],
            [
             0.2222222222222222,
             "#7201a8"
            ],
            [
             0.3333333333333333,
             "#9c179e"
            ],
            [
             0.4444444444444444,
             "#bd3786"
            ],
            [
             0.5555555555555556,
             "#d8576b"
            ],
            [
             0.6666666666666666,
             "#ed7953"
            ],
            [
             0.7777777777777778,
             "#fb9f3a"
            ],
            [
             0.8888888888888888,
             "#fdca26"
            ],
            [
             1,
             "#f0f921"
            ]
           ]
          },
          "colorway": [
           "#636efa",
           "#EF553B",
           "#00cc96",
           "#ab63fa",
           "#FFA15A",
           "#19d3f3",
           "#FF6692",
           "#B6E880",
           "#FF97FF",
           "#FECB52"
          ],
          "font": {
           "color": "#2a3f5f"
          },
          "geo": {
           "bgcolor": "white",
           "lakecolor": "white",
           "landcolor": "white",
           "showlakes": true,
           "showland": true,
           "subunitcolor": "#C8D4E3"
          },
          "hoverlabel": {
           "align": "left"
          },
          "hovermode": "closest",
          "mapbox": {
           "style": "light"
          },
          "paper_bgcolor": "white",
          "plot_bgcolor": "white",
          "polar": {
           "angularaxis": {
            "gridcolor": "#EBF0F8",
            "linecolor": "#EBF0F8",
            "ticks": ""
           },
           "bgcolor": "white",
           "radialaxis": {
            "gridcolor": "#EBF0F8",
            "linecolor": "#EBF0F8",
            "ticks": ""
           }
          },
          "scene": {
           "xaxis": {
            "backgroundcolor": "white",
            "gridcolor": "#DFE8F3",
            "gridwidth": 2,
            "linecolor": "#EBF0F8",
            "showbackground": true,
            "ticks": "",
            "zerolinecolor": "#EBF0F8"
           },
           "yaxis": {
            "backgroundcolor": "white",
            "gridcolor": "#DFE8F3",
            "gridwidth": 2,
            "linecolor": "#EBF0F8",
            "showbackground": true,
            "ticks": "",
            "zerolinecolor": "#EBF0F8"
           },
           "zaxis": {
            "backgroundcolor": "white",
            "gridcolor": "#DFE8F3",
            "gridwidth": 2,
            "linecolor": "#EBF0F8",
            "showbackground": true,
            "ticks": "",
            "zerolinecolor": "#EBF0F8"
           }
          },
          "shapedefaults": {
           "line": {
            "color": "#2a3f5f"
           }
          },
          "ternary": {
           "aaxis": {
            "gridcolor": "#DFE8F3",
            "linecolor": "#A2B1C6",
            "ticks": ""
           },
           "baxis": {
            "gridcolor": "#DFE8F3",
            "linecolor": "#A2B1C6",
            "ticks": ""
           },
           "bgcolor": "white",
           "caxis": {
            "gridcolor": "#DFE8F3",
            "linecolor": "#A2B1C6",
            "ticks": ""
           }
          },
          "title": {
           "x": 0.05
          },
          "xaxis": {
           "automargin": true,
           "gridcolor": "#EBF0F8",
           "linecolor": "#EBF0F8",
           "ticks": "",
           "title": {
            "standoff": 15
           },
           "zerolinecolor": "#EBF0F8",
           "zerolinewidth": 2
          },
          "yaxis": {
           "automargin": true,
           "gridcolor": "#EBF0F8",
           "linecolor": "#EBF0F8",
           "ticks": "",
           "title": {
            "standoff": 15
           },
           "zerolinecolor": "#EBF0F8",
           "zerolinewidth": 2
          }
         }
        },
        "title": {
         "text": "TCS.NS Stock Price Prediction with RandomForest"
        },
        "xaxis": {
         "anchor": "y",
         "domain": [
          0,
          1
         ],
         "matches": "x2",
         "rangeslider": {
          "visible": false
         },
         "showticklabels": false
        },
        "xaxis2": {
         "anchor": "y2",
         "domain": [
          0,
          1
         ]
        },
        "yaxis": {
         "anchor": "x",
         "domain": [
          0.30000000000000004,
          1
         ],
         "title": {
          "text": "Price ($)"
         }
        },
        "yaxis2": {
         "anchor": "x2",
         "domain": [
          0,
          0.20000000000000004
         ],
         "title": {
          "text": "Volume"
         }
        }
       }
      }
     },
     "metadata": {},
     "output_type": "display_data"
    },
    {
     "data": {
      "application/vnd.plotly.v1+json": {
       "config": {
        "plotlyServerURL": "https://plot.ly"
       },
       "data": [
        {
         "line": {
          "color": "#2E86AB",
          "width": 2
         },
         "name": "Actual Price",
         "type": "scatter",
         "x": [
          "2025-03-26T00:00:00.000000000",
          "2025-03-27T00:00:00.000000000",
          "2025-03-28T00:00:00.000000000",
          "2025-04-01T00:00:00.000000000",
          "2025-04-02T00:00:00.000000000",
          "2025-04-03T00:00:00.000000000",
          "2025-04-04T00:00:00.000000000",
          "2025-04-07T00:00:00.000000000",
          "2025-04-08T00:00:00.000000000",
          "2025-04-09T00:00:00.000000000",
          "2025-04-11T00:00:00.000000000",
          "2025-04-15T00:00:00.000000000",
          "2025-04-16T00:00:00.000000000",
          "2025-04-17T00:00:00.000000000",
          "2025-04-21T00:00:00.000000000",
          "2025-04-22T00:00:00.000000000",
          "2025-04-23T00:00:00.000000000",
          "2025-04-24T00:00:00.000000000",
          "2025-04-25T00:00:00.000000000",
          "2025-04-28T00:00:00.000000000",
          "2025-04-29T00:00:00.000000000",
          "2025-04-30T00:00:00.000000000",
          "2025-05-02T00:00:00.000000000",
          "2025-05-05T00:00:00.000000000",
          "2025-05-06T00:00:00.000000000",
          "2025-05-07T00:00:00.000000000",
          "2025-05-08T00:00:00.000000000",
          "2025-05-09T00:00:00.000000000",
          "2025-05-12T00:00:00.000000000",
          "2025-05-13T00:00:00.000000000",
          "2025-05-14T00:00:00.000000000",
          "2025-05-15T00:00:00.000000000",
          "2025-05-16T00:00:00.000000000",
          "2025-05-19T00:00:00.000000000",
          "2025-05-20T00:00:00.000000000",
          "2025-05-21T00:00:00.000000000",
          "2025-05-22T00:00:00.000000000",
          "2025-05-23T00:00:00.000000000",
          "2025-05-26T00:00:00.000000000",
          "2025-05-27T00:00:00.000000000",
          "2025-05-28T00:00:00.000000000",
          "2025-05-29T00:00:00.000000000",
          "2025-05-30T00:00:00.000000000",
          "2025-06-02T00:00:00.000000000",
          "2025-06-03T00:00:00.000000000",
          "2025-06-04T00:00:00.000000000",
          "2025-06-05T00:00:00.000000000",
          "2025-06-06T00:00:00.000000000",
          "2025-06-09T00:00:00.000000000",
          "2025-06-10T00:00:00.000000000",
          "2025-06-11T00:00:00.000000000",
          "2025-06-12T00:00:00.000000000",
          "2025-06-13T00:00:00.000000000",
          "2025-06-16T00:00:00.000000000",
          "2025-06-17T00:00:00.000000000",
          "2025-06-18T00:00:00.000000000",
          "2025-06-19T00:00:00.000000000",
          "2025-06-20T00:00:00.000000000",
          "2025-06-23T00:00:00.000000000",
          "2025-06-24T00:00:00.000000000",
          "2025-06-25T00:00:00.000000000",
          "2025-06-26T00:00:00.000000000",
          "2025-06-27T00:00:00.000000000",
          "2025-06-30T00:00:00.000000000",
          "2025-07-01T00:00:00.000000000",
          "2025-07-02T00:00:00.000000000",
          "2025-07-03T00:00:00.000000000",
          "2025-07-04T00:00:00.000000000",
          "2025-07-07T00:00:00.000000000",
          "2025-07-08T00:00:00.000000000",
          "2025-07-09T00:00:00.000000000",
          "2025-07-10T00:00:00.000000000",
          "2025-07-11T00:00:00.000000000",
          "2025-07-14T00:00:00.000000000",
          "2025-07-15T00:00:00.000000000",
          "2025-07-16T00:00:00.000000000",
          "2025-07-17T00:00:00.000000000",
          "2025-07-18T00:00:00.000000000",
          "2025-07-21T00:00:00.000000000",
          "2025-07-22T00:00:00.000000000",
          "2025-07-23T00:00:00.000000000",
          "2025-07-24T00:00:00.000000000",
          "2025-07-25T00:00:00.000000000",
          "2025-07-28T00:00:00.000000000",
          "2025-07-29T00:00:00.000000000",
          "2025-07-30T00:00:00.000000000",
          "2025-07-31T00:00:00.000000000",
          "2025-08-01T00:00:00.000000000",
          "2025-08-04T00:00:00.000000000",
          "2025-08-05T00:00:00.000000000",
          "2025-08-06T00:00:00.000000000",
          "2025-08-07T00:00:00.000000000",
          "2025-08-08T00:00:00.000000000",
          "2025-08-11T00:00:00.000000000",
          "2025-08-12T00:00:00.000000000",
          "2025-08-13T00:00:00.000000000",
          "2025-08-14T00:00:00.000000000",
          "2025-08-18T00:00:00.000000000",
          "2025-08-19T00:00:00.000000000",
          "2025-08-20T00:00:00.000000000",
          "2025-08-21T00:00:00.000000000",
          "2025-08-22T00:00:00.000000000",
          "2025-08-25T00:00:00.000000000",
          "2025-08-26T00:00:00.000000000",
          "2025-08-27T00:00:00.000000000",
          "2025-08-28T00:00:00.000000000",
          "2025-08-29T00:00:00.000000000",
          "2025-09-01T00:00:00.000000000",
          "2025-09-02T00:00:00.000000000",
          "2025-09-03T00:00:00.000000000",
          "2025-09-04T00:00:00.000000000",
          "2025-09-05T00:00:00.000000000",
          "2025-09-08T00:00:00.000000000",
          "2025-09-09T00:00:00.000000000",
          "2025-09-10T00:00:00.000000000",
          "2025-09-11T00:00:00.000000000",
          "2025-09-12T00:00:00.000000000",
          "2025-09-15T00:00:00.000000000",
          "2025-09-16T00:00:00.000000000",
          "2025-09-17T00:00:00.000000000",
          "2025-09-18T00:00:00.000000000",
          "2025-09-19T00:00:00.000000000",
          "2025-09-22T00:00:00.000000000",
          "2025-09-23T00:00:00.000000000",
          "2025-09-24T00:00:00.000000000",
          "2025-09-25T00:00:00.000000000",
          "2025-09-26T00:00:00.000000000"
         ],
         "xaxis": "x",
         "y": {
          "bdata": "AAAA4CgPrEAAAADAlS2sQP///5+U1KtA////Hzpnq0AAAACAsVmrQAAAAMCEQ6pAAQAAwIp2qUAAAACAdUSpQAAAAKDMaalAAAAAADoOqUAAAADgZPCoQAAAAEBjEalAAAAAIPdDqUAAAADgjXWpQAAAACBnoqlAAAAAYC2UqUD///+/+laqQAAAAOB0QKpAAAAAwCCcqkAAAADAPJOqQAAAACCIzKpAAAAAoGOnqkAAAACAinqqQAAAAACTqKpA/////9WzqkAAAAAAZpaqQAEAAODnnapAAAAAYOqMqkABAADgu/CrQP///39/IKtAAAAAABRjq0AAAAAguKCrQAEAAMD4e6tAAAAAgAEoq0AAAAAggf+qQAAAAODVNatAAAAAIGzVqkAAAAAgtR+rQP///z+OTKtAAQAAYEsAq0AAAACAUf6qQAEAAAAc/6pAAAAAgI26qkD///8fr5+qQAEAAKCRR6pAAAAAIO5SqkAAAACAZT+qQP////+BWapAAAAAIKekqkAAAAAgYPaqQAEAAIBQCKtA////Xyu9qkD///9/F9SqQAEAACDzOKtAAAAAQNJeq0ABAAAAdN+qQAAAAMDWqKpAAAAAwCjAqkAAAACgPmyqQAAAAKDdZapA////P0zSqkAAAACAUcyqQP///1/syqpAAAAA4JT0qkAAAABAM7SqQAEAAIBxp6pAAAAAgJh6qkD///+fd6CqQAAAAGBSkKpAAAAA4FuFqkD////ftViqQAEAAGAfVapAAAAAQOhtqUAAAACgmRepQAEAAKCZUqlA////PzNCqUAAAABgZhKpQAAAAMDM66hAAAAAYGasqEAAAABAM6+oQAEAAEAz1qhAAAAAAACYqEAAAACgmX+oQAAAAKCZDqhAAAAAAADgp0AAAABAM9unQAAAAKCZuadAAAAAAAB2p0AAAADAzASoQAAAAMDM76dAAAAAoJmwp0AAAAAAAM6nQAAAAMDMuKdAAAAAoJnBp0AAAADAzLanQAAAAGBmuKdAAAAAoJmcp0AAAABgZoanQAAAAGBmkKdAAAAAQDM1qEAAAABAMz2oQAAAAAAA3KdAAAAAQDOJqEAAAABgZqqoQAAAAGBmqqhAAAAAYGYrqEAAAABgZhmoQAAAAEAzUahAAAAAAABPqEAAAAAAADOoQAAAAGBmL6hAAAAAoJnQp0AAAAAAAJanQAAAAMDM0qdAAAAAAABMqEAAAABgZmioQAAAAMDMeqhAAAAAwMxPqEAAAABgZpOoQP///5+ZyahAAQAAYGbRqEAAAABgZsKoQAAAAKCZA6hAAAAAwMzsp0AAAADAzLanQAAAAMDMGqdAAAAAQDOmpkA=",
          "dtype": "f8"
         },
         "yaxis": "y"
        },
        {
         "line": {
          "color": "#F24236",
          "dash": "dot",
          "width": 2
         },
         "name": "Predicted Price",
         "type": "scatter",
         "x": [
          "2025-03-26T00:00:00.000000000",
          "2025-03-27T00:00:00.000000000",
          "2025-03-28T00:00:00.000000000",
          "2025-04-01T00:00:00.000000000",
          "2025-04-02T00:00:00.000000000",
          "2025-04-03T00:00:00.000000000",
          "2025-04-04T00:00:00.000000000",
          "2025-04-07T00:00:00.000000000",
          "2025-04-08T00:00:00.000000000",
          "2025-04-09T00:00:00.000000000",
          "2025-04-11T00:00:00.000000000",
          "2025-04-15T00:00:00.000000000",
          "2025-04-16T00:00:00.000000000",
          "2025-04-17T00:00:00.000000000",
          "2025-04-21T00:00:00.000000000",
          "2025-04-22T00:00:00.000000000",
          "2025-04-23T00:00:00.000000000",
          "2025-04-24T00:00:00.000000000",
          "2025-04-25T00:00:00.000000000",
          "2025-04-28T00:00:00.000000000",
          "2025-04-29T00:00:00.000000000",
          "2025-04-30T00:00:00.000000000",
          "2025-05-02T00:00:00.000000000",
          "2025-05-05T00:00:00.000000000",
          "2025-05-06T00:00:00.000000000",
          "2025-05-07T00:00:00.000000000",
          "2025-05-08T00:00:00.000000000",
          "2025-05-09T00:00:00.000000000",
          "2025-05-12T00:00:00.000000000",
          "2025-05-13T00:00:00.000000000",
          "2025-05-14T00:00:00.000000000",
          "2025-05-15T00:00:00.000000000",
          "2025-05-16T00:00:00.000000000",
          "2025-05-19T00:00:00.000000000",
          "2025-05-20T00:00:00.000000000",
          "2025-05-21T00:00:00.000000000",
          "2025-05-22T00:00:00.000000000",
          "2025-05-23T00:00:00.000000000",
          "2025-05-26T00:00:00.000000000",
          "2025-05-27T00:00:00.000000000",
          "2025-05-28T00:00:00.000000000",
          "2025-05-29T00:00:00.000000000",
          "2025-05-30T00:00:00.000000000",
          "2025-06-02T00:00:00.000000000",
          "2025-06-03T00:00:00.000000000",
          "2025-06-04T00:00:00.000000000",
          "2025-06-05T00:00:00.000000000",
          "2025-06-06T00:00:00.000000000",
          "2025-06-09T00:00:00.000000000",
          "2025-06-10T00:00:00.000000000",
          "2025-06-11T00:00:00.000000000",
          "2025-06-12T00:00:00.000000000",
          "2025-06-13T00:00:00.000000000",
          "2025-06-16T00:00:00.000000000",
          "2025-06-17T00:00:00.000000000",
          "2025-06-18T00:00:00.000000000",
          "2025-06-19T00:00:00.000000000",
          "2025-06-20T00:00:00.000000000",
          "2025-06-23T00:00:00.000000000",
          "2025-06-24T00:00:00.000000000",
          "2025-06-25T00:00:00.000000000",
          "2025-06-26T00:00:00.000000000",
          "2025-06-27T00:00:00.000000000",
          "2025-06-30T00:00:00.000000000",
          "2025-07-01T00:00:00.000000000",
          "2025-07-02T00:00:00.000000000",
          "2025-07-03T00:00:00.000000000",
          "2025-07-04T00:00:00.000000000",
          "2025-07-07T00:00:00.000000000",
          "2025-07-08T00:00:00.000000000",
          "2025-07-09T00:00:00.000000000",
          "2025-07-10T00:00:00.000000000",
          "2025-07-11T00:00:00.000000000",
          "2025-07-14T00:00:00.000000000",
          "2025-07-15T00:00:00.000000000",
          "2025-07-16T00:00:00.000000000",
          "2025-07-17T00:00:00.000000000",
          "2025-07-18T00:00:00.000000000",
          "2025-07-21T00:00:00.000000000",
          "2025-07-22T00:00:00.000000000",
          "2025-07-23T00:00:00.000000000",
          "2025-07-24T00:00:00.000000000",
          "2025-07-25T00:00:00.000000000",
          "2025-07-28T00:00:00.000000000",
          "2025-07-29T00:00:00.000000000",
          "2025-07-30T00:00:00.000000000",
          "2025-07-31T00:00:00.000000000",
          "2025-08-01T00:00:00.000000000",
          "2025-08-04T00:00:00.000000000",
          "2025-08-05T00:00:00.000000000",
          "2025-08-06T00:00:00.000000000",
          "2025-08-07T00:00:00.000000000",
          "2025-08-08T00:00:00.000000000",
          "2025-08-11T00:00:00.000000000",
          "2025-08-12T00:00:00.000000000",
          "2025-08-13T00:00:00.000000000",
          "2025-08-14T00:00:00.000000000",
          "2025-08-18T00:00:00.000000000",
          "2025-08-19T00:00:00.000000000",
          "2025-08-20T00:00:00.000000000",
          "2025-08-21T00:00:00.000000000",
          "2025-08-22T00:00:00.000000000",
          "2025-08-25T00:00:00.000000000",
          "2025-08-26T00:00:00.000000000",
          "2025-08-27T00:00:00.000000000",
          "2025-08-28T00:00:00.000000000",
          "2025-08-29T00:00:00.000000000",
          "2025-09-01T00:00:00.000000000",
          "2025-09-02T00:00:00.000000000",
          "2025-09-03T00:00:00.000000000",
          "2025-09-04T00:00:00.000000000",
          "2025-09-05T00:00:00.000000000",
          "2025-09-08T00:00:00.000000000",
          "2025-09-09T00:00:00.000000000",
          "2025-09-10T00:00:00.000000000",
          "2025-09-11T00:00:00.000000000",
          "2025-09-12T00:00:00.000000000",
          "2025-09-15T00:00:00.000000000",
          "2025-09-16T00:00:00.000000000",
          "2025-09-17T00:00:00.000000000",
          "2025-09-18T00:00:00.000000000",
          "2025-09-19T00:00:00.000000000",
          "2025-09-22T00:00:00.000000000",
          "2025-09-23T00:00:00.000000000",
          "2025-09-24T00:00:00.000000000",
          "2025-09-25T00:00:00.000000000",
          "2025-09-26T00:00:00.000000000"
         ],
         "xaxis": "x",
         "y": {
          "bdata": "gC0Qs3FOq0AAZFP+6nmrQACso12zoqtAgP4oahy3q0CARgDEk7GrQAAjt0PlmatAACyX5dxeq0AARlAnqfyqQIAJM0jJjapAgMlny6kgqkAgslNmpbCpQGCfZLblTqlAoB46svD9qECg2eJmocOoQADx234TpKhA4HSI+zSfqEBAvMfSVquoQIBPfKiW3KhAYLH8FsUYqUBAph9jPmKpQGA/8rsfqKlAAMpcMKbsqUCA20qecyiqQICJOqf0TqpAgGywmxhqqkAAtGymzn2qQIBnDDwciKpAACeFUs6PqkAAn+f7O5KqQADwbmv5u6pAACiauN3dqkAACTc1cfyqQIDkRh4rIatAgHuWaNM4q0AAmZtu/D6rQIA1k2qCM6tAgLC2XC4lq0CA+cvIvQyrQICjnpwe+apAAOlKLQLwqkCAu5XH1OiqQIDGNhuE36pAgHiBPs/bqkAAwF7lktGqQICQ1YqYvKpAAGjVnOScqkCAIEGni3qqQACzHUrsWapAgGA1BcA8qkCAFxbItS2qQICOMCc3NKpAgNE3UopLqkAAiEgGXGKqQABF3tSSc6pAAFaPkVeMqkCACK1NP6yqQIBvMEAovqpAgPlKT9e+qkAAmq8RkbeqQICcnPg5pKpAAA3kpI2LqkCAOfxHXXuqQAAII/+zdKpAgI4avkNxqkCAAIwIuHWqQIAo8MZqeapAACRzskJ8qkAAxRiugnaqQAAtbj0ybqpAgNkG3iRmqkAAOPu531+qQACqzOTrVKpAgJyYc3tKqkCAe+J35y2qQMCySy0t8qlAgOSexbexqUCgEi2EtnOpQGD9ASUzOqlAgOT8soIGqUBgA8HSYNWoQEDk5WzWqahAwA1BT+WIqEAg0pkLLW6oQMCYXPBgV6hA4PekhyNCqEBAW9vflyqoQMB7M1zIEKhA0FHGb/X8p0DQOoJwkOenQEC9tPc54KdAcFtKwqLfp0CALHght9+nQIDNhtPD4adAYAsUOUrkp0BgmXW9DuenQMDCrJ7F6adAMAxEEujrp0Bw1lgUVO2nQIDZPb3U7KdAYKOS2nLrp0CgALjzufCnQEBgyIml+KdAsLd37QT9p0CANlyq5wWoQCBPL1GOEqhAQPw9dikfqEAwz9Ou8yqoQICH7xW4LahAMPKLmRQtqEDgtSVN5iyoQMDDsU73KahAsEppxbcmqEDgo5i7hh+oQJBpEseREqhAQHyKMI8GqECgE7v7EgOoQJBDPp23BqhAgIIsE/kOqEAgh6rILBeoQLAHsvZrI6hA4BtfmP06qEAAyJnD7FmoQIAhf8WfeqhAACJW5rl8qEDArM2TxGeoQABBFZDzPqhAsNWgscoZqEA=",
          "dtype": "f8"
         },
         "yaxis": "y"
        },
        {
         "line": {
          "color": "#00FF00",
          "dash": "dash",
          "width": 3
         },
         "marker": {
          "size": 8,
          "symbol": "star"
         },
         "name": "Future Prediction",
         "type": "scatter",
         "x": [
          "2025-09-29T00:00:00",
          "2025-09-30T00:00:00",
          "2025-10-01T00:00:00",
          "2025-10-02T00:00:00",
          "2025-10-03T00:00:00",
          "2025-10-06T00:00:00",
          "2025-10-07T00:00:00"
         ],
         "xaxis": "x",
         "y": [
          3064.3037220211627,
          3056.954598218319,
          3053.1235087945242,
          3051.638539659696,
          3052.0927886066493,
          3053.9700022067336,
          3056.3709685452923
         ],
         "yaxis": "y"
        },
        {
         "marker": {
          "color": "#A23B72"
         },
         "name": "Volume",
         "type": "bar",
         "x": [
          "2025-03-26T00:00:00.000000000",
          "2025-03-27T00:00:00.000000000",
          "2025-03-28T00:00:00.000000000",
          "2025-04-01T00:00:00.000000000",
          "2025-04-02T00:00:00.000000000",
          "2025-04-03T00:00:00.000000000",
          "2025-04-04T00:00:00.000000000",
          "2025-04-07T00:00:00.000000000",
          "2025-04-08T00:00:00.000000000",
          "2025-04-09T00:00:00.000000000",
          "2025-04-11T00:00:00.000000000",
          "2025-04-15T00:00:00.000000000",
          "2025-04-16T00:00:00.000000000",
          "2025-04-17T00:00:00.000000000",
          "2025-04-21T00:00:00.000000000",
          "2025-04-22T00:00:00.000000000",
          "2025-04-23T00:00:00.000000000",
          "2025-04-24T00:00:00.000000000",
          "2025-04-25T00:00:00.000000000",
          "2025-04-28T00:00:00.000000000",
          "2025-04-29T00:00:00.000000000",
          "2025-04-30T00:00:00.000000000",
          "2025-05-02T00:00:00.000000000",
          "2025-05-05T00:00:00.000000000",
          "2025-05-06T00:00:00.000000000",
          "2025-05-07T00:00:00.000000000",
          "2025-05-08T00:00:00.000000000",
          "2025-05-09T00:00:00.000000000",
          "2025-05-12T00:00:00.000000000",
          "2025-05-13T00:00:00.000000000",
          "2025-05-14T00:00:00.000000000",
          "2025-05-15T00:00:00.000000000",
          "2025-05-16T00:00:00.000000000",
          "2025-05-19T00:00:00.000000000",
          "2025-05-20T00:00:00.000000000",
          "2025-05-21T00:00:00.000000000",
          "2025-05-22T00:00:00.000000000",
          "2025-05-23T00:00:00.000000000",
          "2025-05-26T00:00:00.000000000",
          "2025-05-27T00:00:00.000000000",
          "2025-05-28T00:00:00.000000000",
          "2025-05-29T00:00:00.000000000",
          "2025-05-30T00:00:00.000000000",
          "2025-06-02T00:00:00.000000000",
          "2025-06-03T00:00:00.000000000",
          "2025-06-04T00:00:00.000000000",
          "2025-06-05T00:00:00.000000000",
          "2025-06-06T00:00:00.000000000",
          "2025-06-09T00:00:00.000000000",
          "2025-06-10T00:00:00.000000000",
          "2025-06-11T00:00:00.000000000",
          "2025-06-12T00:00:00.000000000",
          "2025-06-13T00:00:00.000000000",
          "2025-06-16T00:00:00.000000000",
          "2025-06-17T00:00:00.000000000",
          "2025-06-18T00:00:00.000000000",
          "2025-06-19T00:00:00.000000000",
          "2025-06-20T00:00:00.000000000",
          "2025-06-23T00:00:00.000000000",
          "2025-06-24T00:00:00.000000000",
          "2025-06-25T00:00:00.000000000",
          "2025-06-26T00:00:00.000000000",
          "2025-06-27T00:00:00.000000000",
          "2025-06-30T00:00:00.000000000",
          "2025-07-01T00:00:00.000000000",
          "2025-07-02T00:00:00.000000000",
          "2025-07-03T00:00:00.000000000",
          "2025-07-04T00:00:00.000000000",
          "2025-07-07T00:00:00.000000000",
          "2025-07-08T00:00:00.000000000",
          "2025-07-09T00:00:00.000000000",
          "2025-07-10T00:00:00.000000000",
          "2025-07-11T00:00:00.000000000",
          "2025-07-14T00:00:00.000000000",
          "2025-07-15T00:00:00.000000000",
          "2025-07-16T00:00:00.000000000",
          "2025-07-17T00:00:00.000000000",
          "2025-07-18T00:00:00.000000000",
          "2025-07-21T00:00:00.000000000",
          "2025-07-22T00:00:00.000000000",
          "2025-07-23T00:00:00.000000000",
          "2025-07-24T00:00:00.000000000",
          "2025-07-25T00:00:00.000000000",
          "2025-07-28T00:00:00.000000000",
          "2025-07-29T00:00:00.000000000",
          "2025-07-30T00:00:00.000000000",
          "2025-07-31T00:00:00.000000000",
          "2025-08-01T00:00:00.000000000",
          "2025-08-04T00:00:00.000000000",
          "2025-08-05T00:00:00.000000000",
          "2025-08-06T00:00:00.000000000",
          "2025-08-07T00:00:00.000000000",
          "2025-08-08T00:00:00.000000000",
          "2025-08-11T00:00:00.000000000",
          "2025-08-12T00:00:00.000000000",
          "2025-08-13T00:00:00.000000000",
          "2025-08-14T00:00:00.000000000",
          "2025-08-18T00:00:00.000000000",
          "2025-08-19T00:00:00.000000000",
          "2025-08-20T00:00:00.000000000",
          "2025-08-21T00:00:00.000000000",
          "2025-08-22T00:00:00.000000000",
          "2025-08-25T00:00:00.000000000",
          "2025-08-26T00:00:00.000000000",
          "2025-08-27T00:00:00.000000000",
          "2025-08-28T00:00:00.000000000",
          "2025-08-29T00:00:00.000000000",
          "2025-09-01T00:00:00.000000000",
          "2025-09-02T00:00:00.000000000",
          "2025-09-03T00:00:00.000000000",
          "2025-09-04T00:00:00.000000000",
          "2025-09-05T00:00:00.000000000",
          "2025-09-08T00:00:00.000000000",
          "2025-09-09T00:00:00.000000000",
          "2025-09-10T00:00:00.000000000",
          "2025-09-11T00:00:00.000000000",
          "2025-09-12T00:00:00.000000000",
          "2025-09-15T00:00:00.000000000",
          "2025-09-16T00:00:00.000000000",
          "2025-09-17T00:00:00.000000000",
          "2025-09-18T00:00:00.000000000",
          "2025-09-19T00:00:00.000000000",
          "2025-09-22T00:00:00.000000000",
          "2025-09-23T00:00:00.000000000",
          "2025-09-24T00:00:00.000000000",
          "2025-09-25T00:00:00.000000000",
          "2025-09-26T00:00:00.000000000"
         ],
         "xaxis": "x2",
         "y": {
          "bdata": "Y3caANqUJgBPTx8AffQnANnrGgDdPUUA9yJRANMSZQA2zVQAuaAtAGF5bABglzUAB2IkAHq+LACyHyUA4lspAHMTNgCPXSIAz9opANBPGABcFRgA9N0qAKFFGgBbmRMA2zYUAAiKFgDnzyYAraEmAMYBIgBnvC4AS1cgAKokNgCnbhkAobcmAGYaHwCZ+RUAzwofANtxEwAuww4AYKclABWpEgBopTAATfIzAFGmHAB9dSsAp9QmAKuyNgB2lx8AljkaAKLsJAAlcSsA5vM9AL09IQAIgx0AxDkgAIckKQCAyCgAkOAjAN2oLwAo7TMAA9IaAILuKwABIxsAv2cWAA8+JACZKC8AHqImAEjtEAAGAxkA+nojAPoMHwCETy4AXoJ0ACngOwCpiCcAvcQmADj6LADFYDQA+qg6AFTMMAA7Vx0A+scsANUyJwCJfTMAoARJAHnyKwAzSy0A11YfANRwJgA8ax0A6bAWAOTNJgCcJSoAN8AcABg+MwBGxyAAXv8yAEnyLACgcigAJpFLAAZMMQC/URgAMp40ALFCVAAAAAAAE4wvAC2qIgCOBhMADVghAF52GwCvmhYAh8EqAIsSKADV+yUAxLofAJaJIgD/FBYAu28aAHVEJwBf5iQAsi0oAD7LSgDVdjcADX0wAHLOGAAZ50sArAk8AA==",
          "dtype": "i4"
         },
         "yaxis": "y2"
        },
        {
         "line": {
          "color": "orange",
          "width": 1
         },
         "name": "SMA 50",
         "type": "scatter",
         "x": [
          "2025-03-26T00:00:00.000000000",
          "2025-03-27T00:00:00.000000000",
          "2025-03-28T00:00:00.000000000",
          "2025-04-01T00:00:00.000000000",
          "2025-04-02T00:00:00.000000000",
          "2025-04-03T00:00:00.000000000",
          "2025-04-04T00:00:00.000000000",
          "2025-04-07T00:00:00.000000000",
          "2025-04-08T00:00:00.000000000",
          "2025-04-09T00:00:00.000000000",
          "2025-04-11T00:00:00.000000000",
          "2025-04-15T00:00:00.000000000",
          "2025-04-16T00:00:00.000000000",
          "2025-04-17T00:00:00.000000000",
          "2025-04-21T00:00:00.000000000",
          "2025-04-22T00:00:00.000000000",
          "2025-04-23T00:00:00.000000000",
          "2025-04-24T00:00:00.000000000",
          "2025-04-25T00:00:00.000000000",
          "2025-04-28T00:00:00.000000000",
          "2025-04-29T00:00:00.000000000",
          "2025-04-30T00:00:00.000000000",
          "2025-05-02T00:00:00.000000000",
          "2025-05-05T00:00:00.000000000",
          "2025-05-06T00:00:00.000000000",
          "2025-05-07T00:00:00.000000000",
          "2025-05-08T00:00:00.000000000",
          "2025-05-09T00:00:00.000000000",
          "2025-05-12T00:00:00.000000000",
          "2025-05-13T00:00:00.000000000",
          "2025-05-14T00:00:00.000000000",
          "2025-05-15T00:00:00.000000000",
          "2025-05-16T00:00:00.000000000",
          "2025-05-19T00:00:00.000000000",
          "2025-05-20T00:00:00.000000000",
          "2025-05-21T00:00:00.000000000",
          "2025-05-22T00:00:00.000000000",
          "2025-05-23T00:00:00.000000000",
          "2025-05-26T00:00:00.000000000",
          "2025-05-27T00:00:00.000000000",
          "2025-05-28T00:00:00.000000000",
          "2025-05-29T00:00:00.000000000",
          "2025-05-30T00:00:00.000000000",
          "2025-06-02T00:00:00.000000000",
          "2025-06-03T00:00:00.000000000",
          "2025-06-04T00:00:00.000000000",
          "2025-06-05T00:00:00.000000000",
          "2025-06-06T00:00:00.000000000",
          "2025-06-09T00:00:00.000000000",
          "2025-06-10T00:00:00.000000000",
          "2025-06-11T00:00:00.000000000",
          "2025-06-12T00:00:00.000000000",
          "2025-06-13T00:00:00.000000000",
          "2025-06-16T00:00:00.000000000",
          "2025-06-17T00:00:00.000000000",
          "2025-06-18T00:00:00.000000000",
          "2025-06-19T00:00:00.000000000",
          "2025-06-20T00:00:00.000000000",
          "2025-06-23T00:00:00.000000000",
          "2025-06-24T00:00:00.000000000",
          "2025-06-25T00:00:00.000000000",
          "2025-06-26T00:00:00.000000000",
          "2025-06-27T00:00:00.000000000",
          "2025-06-30T00:00:00.000000000",
          "2025-07-01T00:00:00.000000000",
          "2025-07-02T00:00:00.000000000",
          "2025-07-03T00:00:00.000000000",
          "2025-07-04T00:00:00.000000000",
          "2025-07-07T00:00:00.000000000",
          "2025-07-08T00:00:00.000000000",
          "2025-07-09T00:00:00.000000000",
          "2025-07-10T00:00:00.000000000",
          "2025-07-11T00:00:00.000000000",
          "2025-07-14T00:00:00.000000000",
          "2025-07-15T00:00:00.000000000",
          "2025-07-16T00:00:00.000000000",
          "2025-07-17T00:00:00.000000000",
          "2025-07-18T00:00:00.000000000",
          "2025-07-21T00:00:00.000000000",
          "2025-07-22T00:00:00.000000000",
          "2025-07-23T00:00:00.000000000",
          "2025-07-24T00:00:00.000000000",
          "2025-07-25T00:00:00.000000000",
          "2025-07-28T00:00:00.000000000",
          "2025-07-29T00:00:00.000000000",
          "2025-07-30T00:00:00.000000000",
          "2025-07-31T00:00:00.000000000",
          "2025-08-01T00:00:00.000000000",
          "2025-08-04T00:00:00.000000000",
          "2025-08-05T00:00:00.000000000",
          "2025-08-06T00:00:00.000000000",
          "2025-08-07T00:00:00.000000000",
          "2025-08-08T00:00:00.000000000",
          "2025-08-11T00:00:00.000000000",
          "2025-08-12T00:00:00.000000000",
          "2025-08-13T00:00:00.000000000",
          "2025-08-14T00:00:00.000000000",
          "2025-08-18T00:00:00.000000000",
          "2025-08-19T00:00:00.000000000",
          "2025-08-20T00:00:00.000000000",
          "2025-08-21T00:00:00.000000000",
          "2025-08-22T00:00:00.000000000",
          "2025-08-25T00:00:00.000000000",
          "2025-08-26T00:00:00.000000000",
          "2025-08-27T00:00:00.000000000",
          "2025-08-28T00:00:00.000000000",
          "2025-08-29T00:00:00.000000000",
          "2025-09-01T00:00:00.000000000",
          "2025-09-02T00:00:00.000000000",
          "2025-09-03T00:00:00.000000000",
          "2025-09-04T00:00:00.000000000",
          "2025-09-05T00:00:00.000000000",
          "2025-09-08T00:00:00.000000000",
          "2025-09-09T00:00:00.000000000",
          "2025-09-10T00:00:00.000000000",
          "2025-09-11T00:00:00.000000000",
          "2025-09-12T00:00:00.000000000",
          "2025-09-15T00:00:00.000000000",
          "2025-09-16T00:00:00.000000000",
          "2025-09-17T00:00:00.000000000",
          "2025-09-18T00:00:00.000000000",
          "2025-09-19T00:00:00.000000000",
          "2025-09-22T00:00:00.000000000",
          "2025-09-23T00:00:00.000000000",
          "2025-09-24T00:00:00.000000000",
          "2025-09-25T00:00:00.000000000",
          "2025-09-26T00:00:00.000000000"
         ],
         "xaxis": "x",
         "y": {
          "bdata": "4XoUPnmcrUCPwvVYOoWtQFyPwrXoba1A9ihcfz9XrUC4HoVbJ0KtQOF6FE4nKa1ASOF6VEgHrUB7FK632eSsQOxRuH7kwqxAzczMfIyirECuR+Eal4KsQIXrUcjwYKxAPQrX40pArEBxPQr3JSCsQB+F67FzAqxAzczMHKbkq0DD9Sh8OcmrQArXo+D6ratAexSuF+aUq0AzMzNzv32rQHsUrsdxZ6tAmpmZaUxTq0CPwvX4yD6rQHE9CtfFLKtAPQrXgwIaq0CkcD162werQNejcH0X96pAw/UozIHpqkAK16NwOeOqQGZmZiaE2KpA7FG4foDTqkAzMzNDitGqQIXrUdiDz6pAMzMzc+vQqkDsUbiOINGqQFyPwlXh0KpA9ihcvxzOqkAzMzOzrMqqQLgehSvBx6pAuB6FKynEqkBSuB41GMGqQGZmZkbGwKpAXI/CReS+qkDsUbi+/7yqQBSuRxFYuapAAAAAoPC1qkDD9SgMia+qQOxRuO4PqapACtejMBWiqkCkcD2KmZuqQFyPwsVXlqpAw/UofPmOqkAzMzND2ImqQClcj1LriKpAPQrXkwWJqkBmZmb2I4yqQD0K1zNEkqpASOF6RNyZqkAfheuBB5+qQArXo/DmpapAmpmZSYqvqkB7FK4XZriqQMP1KMw3wKpAXI/C5eDHqkDXo3C9Ws2qQKRwPRrc0qpAUrgedZLTqkCF61EIftWqQFyPwpVB1apAcT0Kh/rUqkBcj8KFqdKqQBSuR1EE0apAmpmZ6aTLqkDNzMzsn8OqQLgehVuPvKpArkfhisG1qkDXo3CN2K2qQLgeheuApapAPQrX48aUqkDXo3BdRYiqQBSuR6E2e6pAPQrX061rqkDsUbg+ZFyqQB+F6wGGTKpAuB6Fi4g8qkBSuB5VXCuqQI/C9bhxG6pAj8L1qLAIqkDD9Sgc5fepQPYoXH806KlAuB6Fa0rXqUAfhevR8sapQPYoXK+Nt6lAzczMLN+oqUBI4XqEvJupQB+F6+FnjqlAzczM7OiAqUDNzMyccnKpQB+F68GuYqlAKVyPQpRUqUAAAADgRkapQBSuR5GIN6lA7FG4rssrqUAzMzNjtB6pQArXozDbEKlACtej4AMDqUB7FK4H6PWoQK5H4Xpy6ahA7FG4Tp/eqED2KFxvXdOoQFK4HvXdxahAhetRuJe2qEB7FK6XLKaoQIXrUXgjlqhAZmZmhtCJqEDXo3BNUH6oQIXrUegTdKhAMzMzczloqEBSuB7FC16oQJqZmbkrVahAcT0KN1hNqEBmZmZGSkWoQDMzM0MLPqhAexSuZxE4qEDNzMz81C+oQBSuR9HNJKhAUrgeZWYYqEA=",
          "dtype": "f8"
         },
         "yaxis": "y"
        }
       ],
       "layout": {
        "annotations": [
         {
          "font": {
           "size": 16
          },
          "showarrow": false,
          "text": "TCS.NS Price Prediction with LSTM",
          "x": 0.5,
          "xanchor": "center",
          "xref": "paper",
          "y": 1,
          "yanchor": "bottom",
          "yref": "paper"
         },
         {
          "font": {
           "size": 16
          },
          "showarrow": false,
          "text": "Volume",
          "x": 0.5,
          "xanchor": "center",
          "xref": "paper",
          "y": 0.20000000000000004,
          "yanchor": "bottom",
          "yref": "paper"
         },
         {
          "align": "left",
          "bgcolor": "white",
          "bordercolor": "black",
          "borderpad": 4,
          "borderwidth": 1,
          "font": {
           "size": 12
          },
          "opacity": 0.8,
          "showarrow": false,
          "text": "MAE: $56.53<br>MAPE: 1.73%",
          "x": 0.02,
          "xref": "paper",
          "y": 0.98,
          "yref": "paper"
         }
        ],
        "height": 700,
        "legend": {
         "orientation": "h",
         "x": 1,
         "xanchor": "right",
         "y": 1.02,
         "yanchor": "bottom"
        },
        "template": {
         "data": {
          "bar": [
           {
            "error_x": {
             "color": "#2a3f5f"
            },
            "error_y": {
             "color": "#2a3f5f"
            },
            "marker": {
             "line": {
              "color": "white",
              "width": 0.5
             },
             "pattern": {
              "fillmode": "overlay",
              "size": 10,
              "solidity": 0.2
             }
            },
            "type": "bar"
           }
          ],
          "barpolar": [
           {
            "marker": {
             "line": {
              "color": "white",
              "width": 0.5
             },
             "pattern": {
              "fillmode": "overlay",
              "size": 10,
              "solidity": 0.2
             }
            },
            "type": "barpolar"
           }
          ],
          "carpet": [
           {
            "aaxis": {
             "endlinecolor": "#2a3f5f",
             "gridcolor": "#C8D4E3",
             "linecolor": "#C8D4E3",
             "minorgridcolor": "#C8D4E3",
             "startlinecolor": "#2a3f5f"
            },
            "baxis": {
             "endlinecolor": "#2a3f5f",
             "gridcolor": "#C8D4E3",
             "linecolor": "#C8D4E3",
             "minorgridcolor": "#C8D4E3",
             "startlinecolor": "#2a3f5f"
            },
            "type": "carpet"
           }
          ],
          "choropleth": [
           {
            "colorbar": {
             "outlinewidth": 0,
             "ticks": ""
            },
            "type": "choropleth"
           }
          ],
          "contour": [
           {
            "colorbar": {
             "outlinewidth": 0,
             "ticks": ""
            },
            "colorscale": [
             [
              0,
              "#0d0887"
             ],
             [
              0.1111111111111111,
              "#46039f"
             ],
             [
              0.2222222222222222,
              "#7201a8"
             ],
             [
              0.3333333333333333,
              "#9c179e"
             ],
             [
              0.4444444444444444,
              "#bd3786"
             ],
             [
              0.5555555555555556,
              "#d8576b"
             ],
             [
              0.6666666666666666,
              "#ed7953"
             ],
             [
              0.7777777777777778,
              "#fb9f3a"
             ],
             [
              0.8888888888888888,
              "#fdca26"
             ],
             [
              1,
              "#f0f921"
             ]
            ],
            "type": "contour"
           }
          ],
          "contourcarpet": [
           {
            "colorbar": {
             "outlinewidth": 0,
             "ticks": ""
            },
            "type": "contourcarpet"
           }
          ],
          "heatmap": [
           {
            "colorbar": {
             "outlinewidth": 0,
             "ticks": ""
            },
            "colorscale": [
             [
              0,
              "#0d0887"
             ],
             [
              0.1111111111111111,
              "#46039f"
             ],
             [
              0.2222222222222222,
              "#7201a8"
             ],
             [
              0.3333333333333333,
              "#9c179e"
             ],
             [
              0.4444444444444444,
              "#bd3786"
             ],
             [
              0.5555555555555556,
              "#d8576b"
             ],
             [
              0.6666666666666666,
              "#ed7953"
             ],
             [
              0.7777777777777778,
              "#fb9f3a"
             ],
             [
              0.8888888888888888,
              "#fdca26"
             ],
             [
              1,
              "#f0f921"
             ]
            ],
            "type": "heatmap"
           }
          ],
          "histogram": [
           {
            "marker": {
             "pattern": {
              "fillmode": "overlay",
              "size": 10,
              "solidity": 0.2
             }
            },
            "type": "histogram"
           }
          ],
          "histogram2d": [
           {
            "colorbar": {
             "outlinewidth": 0,
             "ticks": ""
            },
            "colorscale": [
             [
              0,
              "#0d0887"
             ],
             [
              0.1111111111111111,
              "#46039f"
             ],
             [
              0.2222222222222222,
              "#7201a8"
             ],
             [
              0.3333333333333333,
              "#9c179e"
             ],
             [
              0.4444444444444444,
              "#bd3786"
             ],
             [
              0.5555555555555556,
              "#d8576b"
             ],
             [
              0.6666666666666666,
              "#ed7953"
             ],
             [
              0.7777777777777778,
              "#fb9f3a"
             ],
             [
              0.8888888888888888,
              "#fdca26"
             ],
             [
              1,
              "#f0f921"
             ]
            ],
            "type": "histogram2d"
           }
          ],
          "histogram2dcontour": [
           {
            "colorbar": {
             "outlinewidth": 0,
             "ticks": ""
            },
            "colorscale": [
             [
              0,
              "#0d0887"
             ],
             [
              0.1111111111111111,
              "#46039f"
             ],
             [
              0.2222222222222222,
              "#7201a8"
             ],
             [
              0.3333333333333333,
              "#9c179e"
             ],
             [
              0.4444444444444444,
              "#bd3786"
             ],
             [
              0.5555555555555556,
              "#d8576b"
             ],
             [
              0.6666666666666666,
              "#ed7953"
             ],
             [
              0.7777777777777778,
              "#fb9f3a"
             ],
             [
              0.8888888888888888,
              "#fdca26"
             ],
             [
              1,
              "#f0f921"
             ]
            ],
            "type": "histogram2dcontour"
           }
          ],
          "mesh3d": [
           {
            "colorbar": {
             "outlinewidth": 0,
             "ticks": ""
            },
            "type": "mesh3d"
           }
          ],
          "parcoords": [
           {
            "line": {
             "colorbar": {
              "outlinewidth": 0,
              "ticks": ""
             }
            },
            "type": "parcoords"
           }
          ],
          "pie": [
           {
            "automargin": true,
            "type": "pie"
           }
          ],
          "scatter": [
           {
            "fillpattern": {
             "fillmode": "overlay",
             "size": 10,
             "solidity": 0.2
            },
            "type": "scatter"
           }
          ],
          "scatter3d": [
           {
            "line": {
             "colorbar": {
              "outlinewidth": 0,
              "ticks": ""
             }
            },
            "marker": {
             "colorbar": {
              "outlinewidth": 0,
              "ticks": ""
             }
            },
            "type": "scatter3d"
           }
          ],
          "scattercarpet": [
           {
            "marker": {
             "colorbar": {
              "outlinewidth": 0,
              "ticks": ""
             }
            },
            "type": "scattercarpet"
           }
          ],
          "scattergeo": [
           {
            "marker": {
             "colorbar": {
              "outlinewidth": 0,
              "ticks": ""
             }
            },
            "type": "scattergeo"
           }
          ],
          "scattergl": [
           {
            "marker": {
             "colorbar": {
              "outlinewidth": 0,
              "ticks": ""
             }
            },
            "type": "scattergl"
           }
          ],
          "scattermap": [
           {
            "marker": {
             "colorbar": {
              "outlinewidth": 0,
              "ticks": ""
             }
            },
            "type": "scattermap"
           }
          ],
          "scattermapbox": [
           {
            "marker": {
             "colorbar": {
              "outlinewidth": 0,
              "ticks": ""
             }
            },
            "type": "scattermapbox"
           }
          ],
          "scatterpolar": [
           {
            "marker": {
             "colorbar": {
              "outlinewidth": 0,
              "ticks": ""
             }
            },
            "type": "scatterpolar"
           }
          ],
          "scatterpolargl": [
           {
            "marker": {
             "colorbar": {
              "outlinewidth": 0,
              "ticks": ""
             }
            },
            "type": "scatterpolargl"
           }
          ],
          "scatterternary": [
           {
            "marker": {
             "colorbar": {
              "outlinewidth": 0,
              "ticks": ""
             }
            },
            "type": "scatterternary"
           }
          ],
          "surface": [
           {
            "colorbar": {
             "outlinewidth": 0,
             "ticks": ""
            },
            "colorscale": [
             [
              0,
              "#0d0887"
             ],
             [
              0.1111111111111111,
              "#46039f"
             ],
             [
              0.2222222222222222,
              "#7201a8"
             ],
             [
              0.3333333333333333,
              "#9c179e"
             ],
             [
              0.4444444444444444,
              "#bd3786"
             ],
             [
              0.5555555555555556,
              "#d8576b"
             ],
             [
              0.6666666666666666,
              "#ed7953"
             ],
             [
              0.7777777777777778,
              "#fb9f3a"
             ],
             [
              0.8888888888888888,
              "#fdca26"
             ],
             [
              1,
              "#f0f921"
             ]
            ],
            "type": "surface"
           }
          ],
          "table": [
           {
            "cells": {
             "fill": {
              "color": "#EBF0F8"
             },
             "line": {
              "color": "white"
             }
            },
            "header": {
             "fill": {
              "color": "#C8D4E3"
             },
             "line": {
              "color": "white"
             }
            },
            "type": "table"
           }
          ]
         },
         "layout": {
          "annotationdefaults": {
           "arrowcolor": "#2a3f5f",
           "arrowhead": 0,
           "arrowwidth": 1
          },
          "autotypenumbers": "strict",
          "coloraxis": {
           "colorbar": {
            "outlinewidth": 0,
            "ticks": ""
           }
          },
          "colorscale": {
           "diverging": [
            [
             0,
             "#8e0152"
            ],
            [
             0.1,
             "#c51b7d"
            ],
            [
             0.2,
             "#de77ae"
            ],
            [
             0.3,
             "#f1b6da"
            ],
            [
             0.4,
             "#fde0ef"
            ],
            [
             0.5,
             "#f7f7f7"
            ],
            [
             0.6,
             "#e6f5d0"
            ],
            [
             0.7,
             "#b8e186"
            ],
            [
             0.8,
             "#7fbc41"
            ],
            [
             0.9,
             "#4d9221"
            ],
            [
             1,
             "#276419"
            ]
           ],
           "sequential": [
            [
             0,
             "#0d0887"
            ],
            [
             0.1111111111111111,
             "#46039f"
            ],
            [
             0.2222222222222222,
             "#7201a8"
            ],
            [
             0.3333333333333333,
             "#9c179e"
            ],
            [
             0.4444444444444444,
             "#bd3786"
            ],
            [
             0.5555555555555556,
             "#d8576b"
            ],
            [
             0.6666666666666666,
             "#ed7953"
            ],
            [
             0.7777777777777778,
             "#fb9f3a"
            ],
            [
             0.8888888888888888,
             "#fdca26"
            ],
            [
             1,
             "#f0f921"
            ]
           ],
           "sequentialminus": [
            [
             0,
             "#0d0887"
            ],
            [
             0.1111111111111111,
             "#46039f"
            ],
            [
             0.2222222222222222,
             "#7201a8"
            ],
            [
             0.3333333333333333,
             "#9c179e"
            ],
            [
             0.4444444444444444,
             "#bd3786"
            ],
            [
             0.5555555555555556,
             "#d8576b"
            ],
            [
             0.6666666666666666,
             "#ed7953"
            ],
            [
             0.7777777777777778,
             "#fb9f3a"
            ],
            [
             0.8888888888888888,
             "#fdca26"
            ],
            [
             1,
             "#f0f921"
            ]
           ]
          },
          "colorway": [
           "#636efa",
           "#EF553B",
           "#00cc96",
           "#ab63fa",
           "#FFA15A",
           "#19d3f3",
           "#FF6692",
           "#B6E880",
           "#FF97FF",
           "#FECB52"
          ],
          "font": {
           "color": "#2a3f5f"
          },
          "geo": {
           "bgcolor": "white",
           "lakecolor": "white",
           "landcolor": "white",
           "showlakes": true,
           "showland": true,
           "subunitcolor": "#C8D4E3"
          },
          "hoverlabel": {
           "align": "left"
          },
          "hovermode": "closest",
          "mapbox": {
           "style": "light"
          },
          "paper_bgcolor": "white",
          "plot_bgcolor": "white",
          "polar": {
           "angularaxis": {
            "gridcolor": "#EBF0F8",
            "linecolor": "#EBF0F8",
            "ticks": ""
           },
           "bgcolor": "white",
           "radialaxis": {
            "gridcolor": "#EBF0F8",
            "linecolor": "#EBF0F8",
            "ticks": ""
           }
          },
          "scene": {
           "xaxis": {
            "backgroundcolor": "white",
            "gridcolor": "#DFE8F3",
            "gridwidth": 2,
            "linecolor": "#EBF0F8",
            "showbackground": true,
            "ticks": "",
            "zerolinecolor": "#EBF0F8"
           },
           "yaxis": {
            "backgroundcolor": "white",
            "gridcolor": "#DFE8F3",
            "gridwidth": 2,
            "linecolor": "#EBF0F8",
            "showbackground": true,
            "ticks": "",
            "zerolinecolor": "#EBF0F8"
           },
           "zaxis": {
            "backgroundcolor": "white",
            "gridcolor": "#DFE8F3",
            "gridwidth": 2,
            "linecolor": "#EBF0F8",
            "showbackground": true,
            "ticks": "",
            "zerolinecolor": "#EBF0F8"
           }
          },
          "shapedefaults": {
           "line": {
            "color": "#2a3f5f"
           }
          },
          "ternary": {
           "aaxis": {
            "gridcolor": "#DFE8F3",
            "linecolor": "#A2B1C6",
            "ticks": ""
           },
           "baxis": {
            "gridcolor": "#DFE8F3",
            "linecolor": "#A2B1C6",
            "ticks": ""
           },
           "bgcolor": "white",
           "caxis": {
            "gridcolor": "#DFE8F3",
            "linecolor": "#A2B1C6",
            "ticks": ""
           }
          },
          "title": {
           "x": 0.05
          },
          "xaxis": {
           "automargin": true,
           "gridcolor": "#EBF0F8",
           "linecolor": "#EBF0F8",
           "ticks": "",
           "title": {
            "standoff": 15
           },
           "zerolinecolor": "#EBF0F8",
           "zerolinewidth": 2
          },
          "yaxis": {
           "automargin": true,
           "gridcolor": "#EBF0F8",
           "linecolor": "#EBF0F8",
           "ticks": "",
           "title": {
            "standoff": 15
           },
           "zerolinecolor": "#EBF0F8",
           "zerolinewidth": 2
          }
         }
        },
        "title": {
         "text": "TCS.NS Stock Price Prediction with LSTM"
        },
        "xaxis": {
         "anchor": "y",
         "domain": [
          0,
          1
         ],
         "matches": "x2",
         "rangeslider": {
          "visible": false
         },
         "showticklabels": false
        },
        "xaxis2": {
         "anchor": "y2",
         "domain": [
          0,
          1
         ]
        },
        "yaxis": {
         "anchor": "x",
         "domain": [
          0.30000000000000004,
          1
         ],
         "title": {
          "text": "Price ($)"
         }
        },
        "yaxis2": {
         "anchor": "x2",
         "domain": [
          0,
          0.20000000000000004
         ],
         "title": {
          "text": "Volume"
         }
        }
       }
      }
     },
     "metadata": {},
     "output_type": "display_data"
    },
    {
     "data": {
      "application/vnd.plotly.v1+json": {
       "config": {
        "plotlyServerURL": "https://plot.ly"
       },
       "data": [
        {
         "line": {
          "color": "#2E86AB"
         },
         "name": "Close",
         "type": "scatter",
         "x": [
          "2022-12-07T00:00:00.000000000",
          "2022-12-08T00:00:00.000000000",
          "2022-12-09T00:00:00.000000000",
          "2022-12-12T00:00:00.000000000",
          "2022-12-13T00:00:00.000000000",
          "2022-12-14T00:00:00.000000000",
          "2022-12-15T00:00:00.000000000",
          "2022-12-16T00:00:00.000000000",
          "2022-12-19T00:00:00.000000000",
          "2022-12-20T00:00:00.000000000",
          "2022-12-21T00:00:00.000000000",
          "2022-12-22T00:00:00.000000000",
          "2022-12-23T00:00:00.000000000",
          "2022-12-26T00:00:00.000000000",
          "2022-12-27T00:00:00.000000000",
          "2022-12-28T00:00:00.000000000",
          "2022-12-29T00:00:00.000000000",
          "2022-12-30T00:00:00.000000000",
          "2023-01-02T00:00:00.000000000",
          "2023-01-03T00:00:00.000000000",
          "2023-01-04T00:00:00.000000000",
          "2023-01-05T00:00:00.000000000",
          "2023-01-06T00:00:00.000000000",
          "2023-01-09T00:00:00.000000000",
          "2023-01-10T00:00:00.000000000",
          "2023-01-11T00:00:00.000000000",
          "2023-01-12T00:00:00.000000000",
          "2023-01-13T00:00:00.000000000",
          "2023-01-16T00:00:00.000000000",
          "2023-01-17T00:00:00.000000000",
          "2023-01-18T00:00:00.000000000",
          "2023-01-19T00:00:00.000000000",
          "2023-01-20T00:00:00.000000000",
          "2023-01-23T00:00:00.000000000",
          "2023-01-24T00:00:00.000000000",
          "2023-01-25T00:00:00.000000000",
          "2023-01-27T00:00:00.000000000",
          "2023-01-30T00:00:00.000000000",
          "2023-01-31T00:00:00.000000000",
          "2023-02-01T00:00:00.000000000",
          "2023-02-02T00:00:00.000000000",
          "2023-02-03T00:00:00.000000000",
          "2023-02-06T00:00:00.000000000",
          "2023-02-07T00:00:00.000000000",
          "2023-02-08T00:00:00.000000000",
          "2023-02-09T00:00:00.000000000",
          "2023-02-10T00:00:00.000000000",
          "2023-02-13T00:00:00.000000000",
          "2023-02-14T00:00:00.000000000",
          "2023-02-15T00:00:00.000000000",
          "2023-02-16T00:00:00.000000000",
          "2023-02-17T00:00:00.000000000",
          "2023-02-20T00:00:00.000000000",
          "2023-02-21T00:00:00.000000000",
          "2023-02-22T00:00:00.000000000",
          "2023-02-23T00:00:00.000000000",
          "2023-02-24T00:00:00.000000000",
          "2023-02-27T00:00:00.000000000",
          "2023-02-28T00:00:00.000000000",
          "2023-03-01T00:00:00.000000000",
          "2023-03-02T00:00:00.000000000",
          "2023-03-03T00:00:00.000000000",
          "2023-03-06T00:00:00.000000000",
          "2023-03-08T00:00:00.000000000",
          "2023-03-09T00:00:00.000000000",
          "2023-03-10T00:00:00.000000000",
          "2023-03-13T00:00:00.000000000",
          "2023-03-14T00:00:00.000000000",
          "2023-03-15T00:00:00.000000000",
          "2023-03-16T00:00:00.000000000",
          "2023-03-17T00:00:00.000000000",
          "2023-03-20T00:00:00.000000000",
          "2023-03-21T00:00:00.000000000",
          "2023-03-22T00:00:00.000000000",
          "2023-03-23T00:00:00.000000000",
          "2023-03-24T00:00:00.000000000",
          "2023-03-27T00:00:00.000000000",
          "2023-03-28T00:00:00.000000000",
          "2023-03-29T00:00:00.000000000",
          "2023-03-31T00:00:00.000000000",
          "2023-04-03T00:00:00.000000000",
          "2023-04-05T00:00:00.000000000",
          "2023-04-06T00:00:00.000000000",
          "2023-04-10T00:00:00.000000000",
          "2023-04-11T00:00:00.000000000",
          "2023-04-12T00:00:00.000000000",
          "2023-04-13T00:00:00.000000000",
          "2023-04-17T00:00:00.000000000",
          "2023-04-18T00:00:00.000000000",
          "2023-04-19T00:00:00.000000000",
          "2023-04-20T00:00:00.000000000",
          "2023-04-21T00:00:00.000000000",
          "2023-04-24T00:00:00.000000000",
          "2023-04-25T00:00:00.000000000",
          "2023-04-26T00:00:00.000000000",
          "2023-04-27T00:00:00.000000000",
          "2023-04-28T00:00:00.000000000",
          "2023-05-02T00:00:00.000000000",
          "2023-05-03T00:00:00.000000000",
          "2023-05-04T00:00:00.000000000",
          "2023-05-05T00:00:00.000000000",
          "2023-05-08T00:00:00.000000000",
          "2023-05-09T00:00:00.000000000",
          "2023-05-10T00:00:00.000000000",
          "2023-05-11T00:00:00.000000000",
          "2023-05-12T00:00:00.000000000",
          "2023-05-15T00:00:00.000000000",
          "2023-05-16T00:00:00.000000000",
          "2023-05-17T00:00:00.000000000",
          "2023-05-18T00:00:00.000000000",
          "2023-05-19T00:00:00.000000000",
          "2023-05-22T00:00:00.000000000",
          "2023-05-23T00:00:00.000000000",
          "2023-05-24T00:00:00.000000000",
          "2023-05-25T00:00:00.000000000",
          "2023-05-26T00:00:00.000000000",
          "2023-05-29T00:00:00.000000000",
          "2023-05-30T00:00:00.000000000",
          "2023-05-31T00:00:00.000000000",
          "2023-06-01T00:00:00.000000000",
          "2023-06-02T00:00:00.000000000",
          "2023-06-05T00:00:00.000000000",
          "2023-06-06T00:00:00.000000000",
          "2023-06-07T00:00:00.000000000",
          "2023-06-08T00:00:00.000000000",
          "2023-06-09T00:00:00.000000000",
          "2023-06-12T00:00:00.000000000",
          "2023-06-13T00:00:00.000000000",
          "2023-06-14T00:00:00.000000000",
          "2023-06-15T00:00:00.000000000",
          "2023-06-16T00:00:00.000000000",
          "2023-06-19T00:00:00.000000000",
          "2023-06-20T00:00:00.000000000",
          "2023-06-21T00:00:00.000000000",
          "2023-06-22T00:00:00.000000000",
          "2023-06-23T00:00:00.000000000",
          "2023-06-26T00:00:00.000000000",
          "2023-06-27T00:00:00.000000000",
          "2023-06-28T00:00:00.000000000",
          "2023-06-30T00:00:00.000000000",
          "2023-07-03T00:00:00.000000000",
          "2023-07-04T00:00:00.000000000",
          "2023-07-05T00:00:00.000000000",
          "2023-07-06T00:00:00.000000000",
          "2023-07-07T00:00:00.000000000",
          "2023-07-10T00:00:00.000000000",
          "2023-07-11T00:00:00.000000000",
          "2023-07-12T00:00:00.000000000",
          "2023-07-13T00:00:00.000000000",
          "2023-07-14T00:00:00.000000000",
          "2023-07-17T00:00:00.000000000",
          "2023-07-18T00:00:00.000000000",
          "2023-07-19T00:00:00.000000000",
          "2023-07-20T00:00:00.000000000",
          "2023-07-21T00:00:00.000000000",
          "2023-07-24T00:00:00.000000000",
          "2023-07-25T00:00:00.000000000",
          "2023-07-26T00:00:00.000000000",
          "2023-07-27T00:00:00.000000000",
          "2023-07-28T00:00:00.000000000",
          "2023-07-31T00:00:00.000000000",
          "2023-08-01T00:00:00.000000000",
          "2023-08-02T00:00:00.000000000",
          "2023-08-03T00:00:00.000000000",
          "2023-08-04T00:00:00.000000000",
          "2023-08-07T00:00:00.000000000",
          "2023-08-08T00:00:00.000000000",
          "2023-08-09T00:00:00.000000000",
          "2023-08-10T00:00:00.000000000",
          "2023-08-11T00:00:00.000000000",
          "2023-08-14T00:00:00.000000000",
          "2023-08-16T00:00:00.000000000",
          "2023-08-17T00:00:00.000000000",
          "2023-08-18T00:00:00.000000000",
          "2023-08-21T00:00:00.000000000",
          "2023-08-22T00:00:00.000000000",
          "2023-08-23T00:00:00.000000000",
          "2023-08-24T00:00:00.000000000",
          "2023-08-25T00:00:00.000000000",
          "2023-08-28T00:00:00.000000000",
          "2023-08-29T00:00:00.000000000",
          "2023-08-30T00:00:00.000000000",
          "2023-08-31T00:00:00.000000000",
          "2023-09-01T00:00:00.000000000",
          "2023-09-04T00:00:00.000000000",
          "2023-09-05T00:00:00.000000000",
          "2023-09-06T00:00:00.000000000",
          "2023-09-07T00:00:00.000000000",
          "2023-09-08T00:00:00.000000000",
          "2023-09-11T00:00:00.000000000",
          "2023-09-12T00:00:00.000000000",
          "2023-09-13T00:00:00.000000000",
          "2023-09-14T00:00:00.000000000",
          "2023-09-15T00:00:00.000000000",
          "2023-09-18T00:00:00.000000000",
          "2023-09-20T00:00:00.000000000",
          "2023-09-21T00:00:00.000000000",
          "2023-09-22T00:00:00.000000000",
          "2023-09-25T00:00:00.000000000",
          "2023-09-26T00:00:00.000000000",
          "2023-09-27T00:00:00.000000000",
          "2023-09-28T00:00:00.000000000",
          "2023-09-29T00:00:00.000000000",
          "2023-10-03T00:00:00.000000000",
          "2023-10-04T00:00:00.000000000",
          "2023-10-05T00:00:00.000000000",
          "2023-10-06T00:00:00.000000000",
          "2023-10-09T00:00:00.000000000",
          "2023-10-10T00:00:00.000000000",
          "2023-10-11T00:00:00.000000000",
          "2023-10-12T00:00:00.000000000",
          "2023-10-13T00:00:00.000000000",
          "2023-10-16T00:00:00.000000000",
          "2023-10-17T00:00:00.000000000",
          "2023-10-18T00:00:00.000000000",
          "2023-10-19T00:00:00.000000000",
          "2023-10-20T00:00:00.000000000",
          "2023-10-23T00:00:00.000000000",
          "2023-10-25T00:00:00.000000000",
          "2023-10-26T00:00:00.000000000",
          "2023-10-27T00:00:00.000000000",
          "2023-10-30T00:00:00.000000000",
          "2023-10-31T00:00:00.000000000",
          "2023-11-01T00:00:00.000000000",
          "2023-11-02T00:00:00.000000000",
          "2023-11-03T00:00:00.000000000",
          "2023-11-06T00:00:00.000000000",
          "2023-11-07T00:00:00.000000000",
          "2023-11-08T00:00:00.000000000",
          "2023-11-09T00:00:00.000000000",
          "2023-11-10T00:00:00.000000000",
          "2023-11-13T00:00:00.000000000",
          "2023-11-15T00:00:00.000000000",
          "2023-11-16T00:00:00.000000000",
          "2023-11-17T00:00:00.000000000",
          "2023-11-20T00:00:00.000000000",
          "2023-11-21T00:00:00.000000000",
          "2023-11-22T00:00:00.000000000",
          "2023-11-23T00:00:00.000000000",
          "2023-11-24T00:00:00.000000000",
          "2023-11-28T00:00:00.000000000",
          "2023-11-29T00:00:00.000000000",
          "2023-11-30T00:00:00.000000000",
          "2023-12-01T00:00:00.000000000",
          "2023-12-04T00:00:00.000000000",
          "2023-12-05T00:00:00.000000000",
          "2023-12-06T00:00:00.000000000",
          "2023-12-07T00:00:00.000000000",
          "2023-12-08T00:00:00.000000000",
          "2023-12-11T00:00:00.000000000",
          "2023-12-12T00:00:00.000000000",
          "2023-12-13T00:00:00.000000000",
          "2023-12-14T00:00:00.000000000",
          "2023-12-15T00:00:00.000000000",
          "2023-12-18T00:00:00.000000000",
          "2023-12-19T00:00:00.000000000",
          "2023-12-20T00:00:00.000000000",
          "2023-12-21T00:00:00.000000000",
          "2023-12-22T00:00:00.000000000",
          "2023-12-26T00:00:00.000000000",
          "2023-12-27T00:00:00.000000000",
          "2023-12-28T00:00:00.000000000",
          "2023-12-29T00:00:00.000000000",
          "2024-01-01T00:00:00.000000000",
          "2024-01-02T00:00:00.000000000",
          "2024-01-03T00:00:00.000000000",
          "2024-01-04T00:00:00.000000000",
          "2024-01-05T00:00:00.000000000",
          "2024-01-08T00:00:00.000000000",
          "2024-01-09T00:00:00.000000000",
          "2024-01-10T00:00:00.000000000",
          "2024-01-11T00:00:00.000000000",
          "2024-01-12T00:00:00.000000000",
          "2024-01-15T00:00:00.000000000",
          "2024-01-16T00:00:00.000000000",
          "2024-01-17T00:00:00.000000000",
          "2024-01-18T00:00:00.000000000",
          "2024-01-19T00:00:00.000000000",
          "2024-01-23T00:00:00.000000000",
          "2024-01-24T00:00:00.000000000",
          "2024-01-25T00:00:00.000000000",
          "2024-01-29T00:00:00.000000000",
          "2024-01-30T00:00:00.000000000",
          "2024-01-31T00:00:00.000000000",
          "2024-02-01T00:00:00.000000000",
          "2024-02-02T00:00:00.000000000",
          "2024-02-05T00:00:00.000000000",
          "2024-02-06T00:00:00.000000000",
          "2024-02-07T00:00:00.000000000",
          "2024-02-08T00:00:00.000000000",
          "2024-02-09T00:00:00.000000000",
          "2024-02-12T00:00:00.000000000",
          "2024-02-13T00:00:00.000000000",
          "2024-02-14T00:00:00.000000000",
          "2024-02-15T00:00:00.000000000",
          "2024-02-16T00:00:00.000000000",
          "2024-02-19T00:00:00.000000000",
          "2024-02-20T00:00:00.000000000",
          "2024-02-21T00:00:00.000000000",
          "2024-02-22T00:00:00.000000000",
          "2024-02-23T00:00:00.000000000",
          "2024-02-26T00:00:00.000000000",
          "2024-02-27T00:00:00.000000000",
          "2024-02-28T00:00:00.000000000",
          "2024-02-29T00:00:00.000000000",
          "2024-03-01T00:00:00.000000000",
          "2024-03-04T00:00:00.000000000",
          "2024-03-05T00:00:00.000000000",
          "2024-03-06T00:00:00.000000000",
          "2024-03-07T00:00:00.000000000",
          "2024-03-11T00:00:00.000000000",
          "2024-03-12T00:00:00.000000000",
          "2024-03-13T00:00:00.000000000",
          "2024-03-14T00:00:00.000000000",
          "2024-03-15T00:00:00.000000000",
          "2024-03-18T00:00:00.000000000",
          "2024-03-19T00:00:00.000000000",
          "2024-03-20T00:00:00.000000000",
          "2024-03-21T00:00:00.000000000",
          "2024-03-22T00:00:00.000000000",
          "2024-03-26T00:00:00.000000000",
          "2024-03-27T00:00:00.000000000",
          "2024-03-28T00:00:00.000000000",
          "2024-04-01T00:00:00.000000000",
          "2024-04-02T00:00:00.000000000",
          "2024-04-03T00:00:00.000000000",
          "2024-04-04T00:00:00.000000000",
          "2024-04-05T00:00:00.000000000",
          "2024-04-08T00:00:00.000000000",
          "2024-04-09T00:00:00.000000000",
          "2024-04-10T00:00:00.000000000",
          "2024-04-12T00:00:00.000000000",
          "2024-04-15T00:00:00.000000000",
          "2024-04-16T00:00:00.000000000",
          "2024-04-18T00:00:00.000000000",
          "2024-04-19T00:00:00.000000000",
          "2024-04-22T00:00:00.000000000",
          "2024-04-23T00:00:00.000000000",
          "2024-04-24T00:00:00.000000000",
          "2024-04-25T00:00:00.000000000",
          "2024-04-26T00:00:00.000000000",
          "2024-04-29T00:00:00.000000000",
          "2024-04-30T00:00:00.000000000",
          "2024-05-02T00:00:00.000000000",
          "2024-05-03T00:00:00.000000000",
          "2024-05-06T00:00:00.000000000",
          "2024-05-07T00:00:00.000000000",
          "2024-05-08T00:00:00.000000000",
          "2024-05-09T00:00:00.000000000",
          "2024-05-10T00:00:00.000000000",
          "2024-05-13T00:00:00.000000000",
          "2024-05-14T00:00:00.000000000",
          "2024-05-15T00:00:00.000000000",
          "2024-05-16T00:00:00.000000000",
          "2024-05-17T00:00:00.000000000",
          "2024-05-21T00:00:00.000000000",
          "2024-05-22T00:00:00.000000000",
          "2024-05-23T00:00:00.000000000",
          "2024-05-24T00:00:00.000000000",
          "2024-05-27T00:00:00.000000000",
          "2024-05-28T00:00:00.000000000",
          "2024-05-29T00:00:00.000000000",
          "2024-05-30T00:00:00.000000000",
          "2024-05-31T00:00:00.000000000",
          "2024-06-03T00:00:00.000000000",
          "2024-06-04T00:00:00.000000000",
          "2024-06-05T00:00:00.000000000",
          "2024-06-06T00:00:00.000000000",
          "2024-06-07T00:00:00.000000000",
          "2024-06-10T00:00:00.000000000",
          "2024-06-11T00:00:00.000000000",
          "2024-06-12T00:00:00.000000000",
          "2024-06-13T00:00:00.000000000",
          "2024-06-14T00:00:00.000000000",
          "2024-06-18T00:00:00.000000000",
          "2024-06-19T00:00:00.000000000",
          "2024-06-20T00:00:00.000000000",
          "2024-06-21T00:00:00.000000000",
          "2024-06-24T00:00:00.000000000",
          "2024-06-25T00:00:00.000000000",
          "2024-06-26T00:00:00.000000000",
          "2024-06-27T00:00:00.000000000",
          "2024-06-28T00:00:00.000000000",
          "2024-07-01T00:00:00.000000000",
          "2024-07-02T00:00:00.000000000",
          "2024-07-03T00:00:00.000000000",
          "2024-07-04T00:00:00.000000000",
          "2024-07-05T00:00:00.000000000",
          "2024-07-08T00:00:00.000000000",
          "2024-07-09T00:00:00.000000000",
          "2024-07-10T00:00:00.000000000",
          "2024-07-11T00:00:00.000000000",
          "2024-07-12T00:00:00.000000000",
          "2024-07-15T00:00:00.000000000",
          "2024-07-16T00:00:00.000000000",
          "2024-07-18T00:00:00.000000000",
          "2024-07-19T00:00:00.000000000",
          "2024-07-22T00:00:00.000000000",
          "2024-07-23T00:00:00.000000000",
          "2024-07-24T00:00:00.000000000",
          "2024-07-25T00:00:00.000000000",
          "2024-07-26T00:00:00.000000000",
          "2024-07-29T00:00:00.000000000",
          "2024-07-30T00:00:00.000000000",
          "2024-07-31T00:00:00.000000000",
          "2024-08-01T00:00:00.000000000",
          "2024-08-02T00:00:00.000000000",
          "2024-08-05T00:00:00.000000000",
          "2024-08-06T00:00:00.000000000",
          "2024-08-07T00:00:00.000000000",
          "2024-08-08T00:00:00.000000000",
          "2024-08-09T00:00:00.000000000",
          "2024-08-12T00:00:00.000000000",
          "2024-08-13T00:00:00.000000000",
          "2024-08-14T00:00:00.000000000",
          "2024-08-16T00:00:00.000000000",
          "2024-08-19T00:00:00.000000000",
          "2024-08-20T00:00:00.000000000",
          "2024-08-21T00:00:00.000000000",
          "2024-08-22T00:00:00.000000000",
          "2024-08-23T00:00:00.000000000",
          "2024-08-26T00:00:00.000000000",
          "2024-08-27T00:00:00.000000000",
          "2024-08-28T00:00:00.000000000",
          "2024-08-29T00:00:00.000000000",
          "2024-08-30T00:00:00.000000000",
          "2024-09-02T00:00:00.000000000",
          "2024-09-03T00:00:00.000000000",
          "2024-09-04T00:00:00.000000000",
          "2024-09-05T00:00:00.000000000",
          "2024-09-06T00:00:00.000000000",
          "2024-09-09T00:00:00.000000000",
          "2024-09-10T00:00:00.000000000",
          "2024-09-11T00:00:00.000000000",
          "2024-09-12T00:00:00.000000000",
          "2024-09-13T00:00:00.000000000",
          "2024-09-16T00:00:00.000000000",
          "2024-09-17T00:00:00.000000000",
          "2024-09-18T00:00:00.000000000",
          "2024-09-19T00:00:00.000000000",
          "2024-09-20T00:00:00.000000000",
          "2024-09-23T00:00:00.000000000",
          "2024-09-24T00:00:00.000000000",
          "2024-09-25T00:00:00.000000000",
          "2024-09-26T00:00:00.000000000",
          "2024-09-27T00:00:00.000000000",
          "2024-09-30T00:00:00.000000000",
          "2024-10-01T00:00:00.000000000",
          "2024-10-03T00:00:00.000000000",
          "2024-10-04T00:00:00.000000000",
          "2024-10-07T00:00:00.000000000",
          "2024-10-08T00:00:00.000000000",
          "2024-10-09T00:00:00.000000000",
          "2024-10-10T00:00:00.000000000",
          "2024-10-11T00:00:00.000000000",
          "2024-10-14T00:00:00.000000000",
          "2024-10-15T00:00:00.000000000",
          "2024-10-16T00:00:00.000000000",
          "2024-10-17T00:00:00.000000000",
          "2024-10-18T00:00:00.000000000",
          "2024-10-21T00:00:00.000000000",
          "2024-10-22T00:00:00.000000000",
          "2024-10-23T00:00:00.000000000",
          "2024-10-24T00:00:00.000000000",
          "2024-10-25T00:00:00.000000000",
          "2024-10-28T00:00:00.000000000",
          "2024-10-29T00:00:00.000000000",
          "2024-10-30T00:00:00.000000000",
          "2024-10-31T00:00:00.000000000",
          "2024-11-01T00:00:00.000000000",
          "2024-11-04T00:00:00.000000000",
          "2024-11-05T00:00:00.000000000",
          "2024-11-06T00:00:00.000000000",
          "2024-11-07T00:00:00.000000000",
          "2024-11-08T00:00:00.000000000",
          "2024-11-11T00:00:00.000000000",
          "2024-11-12T00:00:00.000000000",
          "2024-11-13T00:00:00.000000000",
          "2024-11-14T00:00:00.000000000",
          "2024-11-18T00:00:00.000000000",
          "2024-11-19T00:00:00.000000000",
          "2024-11-21T00:00:00.000000000",
          "2024-11-22T00:00:00.000000000",
          "2024-11-25T00:00:00.000000000",
          "2024-11-26T00:00:00.000000000",
          "2024-11-27T00:00:00.000000000",
          "2024-11-28T00:00:00.000000000",
          "2024-11-29T00:00:00.000000000",
          "2024-12-02T00:00:00.000000000",
          "2024-12-03T00:00:00.000000000",
          "2024-12-04T00:00:00.000000000",
          "2024-12-05T00:00:00.000000000",
          "2024-12-06T00:00:00.000000000",
          "2024-12-09T00:00:00.000000000",
          "2024-12-10T00:00:00.000000000",
          "2024-12-11T00:00:00.000000000",
          "2024-12-12T00:00:00.000000000",
          "2024-12-13T00:00:00.000000000",
          "2024-12-16T00:00:00.000000000",
          "2024-12-17T00:00:00.000000000",
          "2024-12-18T00:00:00.000000000",
          "2024-12-19T00:00:00.000000000",
          "2024-12-20T00:00:00.000000000",
          "2024-12-23T00:00:00.000000000",
          "2024-12-24T00:00:00.000000000",
          "2024-12-26T00:00:00.000000000",
          "2024-12-27T00:00:00.000000000",
          "2024-12-30T00:00:00.000000000",
          "2024-12-31T00:00:00.000000000",
          "2025-01-01T00:00:00.000000000",
          "2025-01-02T00:00:00.000000000",
          "2025-01-03T00:00:00.000000000",
          "2025-01-06T00:00:00.000000000",
          "2025-01-07T00:00:00.000000000",
          "2025-01-08T00:00:00.000000000",
          "2025-01-09T00:00:00.000000000",
          "2025-01-10T00:00:00.000000000",
          "2025-01-13T00:00:00.000000000",
          "2025-01-14T00:00:00.000000000",
          "2025-01-15T00:00:00.000000000",
          "2025-01-16T00:00:00.000000000",
          "2025-01-17T00:00:00.000000000",
          "2025-01-20T00:00:00.000000000",
          "2025-01-21T00:00:00.000000000",
          "2025-01-22T00:00:00.000000000",
          "2025-01-23T00:00:00.000000000",
          "2025-01-24T00:00:00.000000000",
          "2025-01-27T00:00:00.000000000",
          "2025-01-28T00:00:00.000000000",
          "2025-01-29T00:00:00.000000000",
          "2025-01-30T00:00:00.000000000",
          "2025-01-31T00:00:00.000000000",
          "2025-02-01T00:00:00.000000000",
          "2025-02-03T00:00:00.000000000",
          "2025-02-04T00:00:00.000000000",
          "2025-02-05T00:00:00.000000000",
          "2025-02-06T00:00:00.000000000",
          "2025-02-07T00:00:00.000000000",
          "2025-02-10T00:00:00.000000000",
          "2025-02-11T00:00:00.000000000",
          "2025-02-12T00:00:00.000000000",
          "2025-02-13T00:00:00.000000000",
          "2025-02-14T00:00:00.000000000",
          "2025-02-17T00:00:00.000000000",
          "2025-02-18T00:00:00.000000000",
          "2025-02-19T00:00:00.000000000",
          "2025-02-20T00:00:00.000000000",
          "2025-02-21T00:00:00.000000000",
          "2025-02-24T00:00:00.000000000",
          "2025-02-25T00:00:00.000000000",
          "2025-02-27T00:00:00.000000000",
          "2025-02-28T00:00:00.000000000",
          "2025-03-03T00:00:00.000000000",
          "2025-03-04T00:00:00.000000000",
          "2025-03-05T00:00:00.000000000",
          "2025-03-06T00:00:00.000000000",
          "2025-03-07T00:00:00.000000000",
          "2025-03-10T00:00:00.000000000",
          "2025-03-11T00:00:00.000000000",
          "2025-03-12T00:00:00.000000000",
          "2025-03-13T00:00:00.000000000",
          "2025-03-17T00:00:00.000000000",
          "2025-03-18T00:00:00.000000000",
          "2025-03-19T00:00:00.000000000",
          "2025-03-20T00:00:00.000000000",
          "2025-03-21T00:00:00.000000000",
          "2025-03-24T00:00:00.000000000",
          "2025-03-25T00:00:00.000000000",
          "2025-03-26T00:00:00.000000000",
          "2025-03-27T00:00:00.000000000",
          "2025-03-28T00:00:00.000000000",
          "2025-04-01T00:00:00.000000000",
          "2025-04-02T00:00:00.000000000",
          "2025-04-03T00:00:00.000000000",
          "2025-04-04T00:00:00.000000000",
          "2025-04-07T00:00:00.000000000",
          "2025-04-08T00:00:00.000000000",
          "2025-04-09T00:00:00.000000000",
          "2025-04-11T00:00:00.000000000",
          "2025-04-15T00:00:00.000000000",
          "2025-04-16T00:00:00.000000000",
          "2025-04-17T00:00:00.000000000",
          "2025-04-21T00:00:00.000000000",
          "2025-04-22T00:00:00.000000000",
          "2025-04-23T00:00:00.000000000",
          "2025-04-24T00:00:00.000000000",
          "2025-04-25T00:00:00.000000000",
          "2025-04-28T00:00:00.000000000",
          "2025-04-29T00:00:00.000000000",
          "2025-04-30T00:00:00.000000000",
          "2025-05-02T00:00:00.000000000",
          "2025-05-05T00:00:00.000000000",
          "2025-05-06T00:00:00.000000000",
          "2025-05-07T00:00:00.000000000",
          "2025-05-08T00:00:00.000000000",
          "2025-05-09T00:00:00.000000000",
          "2025-05-12T00:00:00.000000000",
          "2025-05-13T00:00:00.000000000",
          "2025-05-14T00:00:00.000000000",
          "2025-05-15T00:00:00.000000000",
          "2025-05-16T00:00:00.000000000",
          "2025-05-19T00:00:00.000000000",
          "2025-05-20T00:00:00.000000000",
          "2025-05-21T00:00:00.000000000",
          "2025-05-22T00:00:00.000000000",
          "2025-05-23T00:00:00.000000000",
          "2025-05-26T00:00:00.000000000",
          "2025-05-27T00:00:00.000000000",
          "2025-05-28T00:00:00.000000000",
          "2025-05-29T00:00:00.000000000",
          "2025-05-30T00:00:00.000000000",
          "2025-06-02T00:00:00.000000000",
          "2025-06-03T00:00:00.000000000",
          "2025-06-04T00:00:00.000000000",
          "2025-06-05T00:00:00.000000000",
          "2025-06-06T00:00:00.000000000",
          "2025-06-09T00:00:00.000000000",
          "2025-06-10T00:00:00.000000000",
          "2025-06-11T00:00:00.000000000",
          "2025-06-12T00:00:00.000000000",
          "2025-06-13T00:00:00.000000000",
          "2025-06-16T00:00:00.000000000",
          "2025-06-17T00:00:00.000000000",
          "2025-06-18T00:00:00.000000000",
          "2025-06-19T00:00:00.000000000",
          "2025-06-20T00:00:00.000000000",
          "2025-06-23T00:00:00.000000000",
          "2025-06-24T00:00:00.000000000",
          "2025-06-25T00:00:00.000000000",
          "2025-06-26T00:00:00.000000000",
          "2025-06-27T00:00:00.000000000",
          "2025-06-30T00:00:00.000000000",
          "2025-07-01T00:00:00.000000000",
          "2025-07-02T00:00:00.000000000",
          "2025-07-03T00:00:00.000000000",
          "2025-07-04T00:00:00.000000000",
          "2025-07-07T00:00:00.000000000",
          "2025-07-08T00:00:00.000000000",
          "2025-07-09T00:00:00.000000000",
          "2025-07-10T00:00:00.000000000",
          "2025-07-11T00:00:00.000000000",
          "2025-07-14T00:00:00.000000000",
          "2025-07-15T00:00:00.000000000",
          "2025-07-16T00:00:00.000000000",
          "2025-07-17T00:00:00.000000000",
          "2025-07-18T00:00:00.000000000",
          "2025-07-21T00:00:00.000000000",
          "2025-07-22T00:00:00.000000000",
          "2025-07-23T00:00:00.000000000",
          "2025-07-24T00:00:00.000000000",
          "2025-07-25T00:00:00.000000000",
          "2025-07-28T00:00:00.000000000",
          "2025-07-29T00:00:00.000000000",
          "2025-07-30T00:00:00.000000000",
          "2025-07-31T00:00:00.000000000",
          "2025-08-01T00:00:00.000000000",
          "2025-08-04T00:00:00.000000000",
          "2025-08-05T00:00:00.000000000",
          "2025-08-06T00:00:00.000000000",
          "2025-08-07T00:00:00.000000000",
          "2025-08-08T00:00:00.000000000",
          "2025-08-11T00:00:00.000000000",
          "2025-08-12T00:00:00.000000000",
          "2025-08-13T00:00:00.000000000",
          "2025-08-14T00:00:00.000000000",
          "2025-08-18T00:00:00.000000000",
          "2025-08-19T00:00:00.000000000",
          "2025-08-20T00:00:00.000000000",
          "2025-08-21T00:00:00.000000000",
          "2025-08-22T00:00:00.000000000",
          "2025-08-25T00:00:00.000000000",
          "2025-08-26T00:00:00.000000000",
          "2025-08-27T00:00:00.000000000",
          "2025-08-28T00:00:00.000000000",
          "2025-08-29T00:00:00.000000000",
          "2025-09-01T00:00:00.000000000",
          "2025-09-02T00:00:00.000000000",
          "2025-09-03T00:00:00.000000000",
          "2025-09-04T00:00:00.000000000",
          "2025-09-05T00:00:00.000000000",
          "2025-09-08T00:00:00.000000000",
          "2025-09-09T00:00:00.000000000",
          "2025-09-10T00:00:00.000000000",
          "2025-09-11T00:00:00.000000000",
          "2025-09-12T00:00:00.000000000",
          "2025-09-15T00:00:00.000000000",
          "2025-09-16T00:00:00.000000000",
          "2025-09-17T00:00:00.000000000",
          "2025-09-18T00:00:00.000000000",
          "2025-09-19T00:00:00.000000000",
          "2025-09-22T00:00:00.000000000",
          "2025-09-23T00:00:00.000000000",
          "2025-09-24T00:00:00.000000000",
          "2025-09-25T00:00:00.000000000",
          "2025-09-26T00:00:00.000000000"
         ],
         "xaxis": "x",
         "y": {
          "bdata": "AAAAoOBGqUAAAADAWw2pQAAAAMC4nqhAAAAAgKmSqEAAAADACuqoQAAAAMCvKalAAAAAYFy2qEAAAADAOjqoQAAAAGAc8adAAAAA4E9BqEAAAACAZnCoQAAAAKB1X6hAAAAAwHMjqEAAAACgcVKoQAAAAKATX6hAAAAAgHtaqEAAAABgyHCoQAAAAMC3WahAAAAAAM9iqEAAAADgUsKoQAAAAOCjyKhAAAAAoNjBqEAAAACASwOoQAAAACDJ0qhAAAAAIJGSqEAAAADAiOOoQAAAAEBZ7qhAAAAAAEw7qUAAAACA8PyoQAAAAEAIUqlAAAAAAEpoqUAAAACA3UepQAAAAICtNKlAAAAAgBCYqUAAAADgH8GpQAAAAICOtKlAAAAAQK2QqUAAAAAACrypQAAAAAA8LKlAAAAAQH+LqUAAAAAAXe+pQAAAAEBiGapAAAAAIIDuqUAAAAAArQaqQAAAAKDoYapAAAAAQLiJqkAAAACgY4OqQAAAAACTGapAAAAAIIk7qkAAAACA9mKqQAAAAOC4qqpAAAAAwIw9qkAAAADg+SKqQAAAAABU3alAAAAAYHN+qUAAAABA9JWpQAAAAABXfKlAAAAA4Lf4qEAAAADAQ9SoQAAAACAKYKlAAAAAoMPkqEAAAABAewypQAAAAEB3RalAAAAAgA5pqUAAAAAAUAKpQAAAAIAW96hAAAAAAPqYqEAAAAAgbRioQAAAAMCh+adAAAAAQPbep0AAAACgBtSnQAAAACD0jqdAAAAAQJRHp0AAAABA+HanQAAAAIAra6dAAAAAYDVjp0AAAABgqWanQAAAAMBhWqdAAAAA4IKGp0AAAADADweoQAAAACC++6dAAAAA4BpIqEAAAABAdSOoQAAAAMBidahAAAAAYDgWqEAAAACgp0uoQAAAAGBZ5qdAAAAAgKmHp0AAAAAg4HanQAAAAMDrJ6dAAAAAwBVFp0AAAABgoLCnQAAAAEBky6dAAAAAwLHNp0AAAACAMfinQAAAACCf5KdAAAAAIK0gqEAAAAAg9yCoQAAAACAt1adAAAAAQHUjqEAAAABApTaoQAAAAODTXKhAAAAA4HibqEAAAABgSKKoQAAAAGBcmahAAAAAoEyKqEAAAACAXWWoQAAAACBQa6hAAAAAQG8MqEAAAABgdPunQAAAAICVJ6hAAAAAQB25qEAAAADg8rWoQAAAAKAJwqhAAAAAYCOvqEAAAAAAD/OoQAAAAKCn4qhAAAAAALHaqEAAAACgdqeoQAAAAECo6ahAAAAAwFrGqEAAAADgT6aoQAAAACC3OahAAAAAYHOLqEAAAACgrUGoQAAAAOCVDahAAAAAYLpVqEAAAACglk+oQAAAAMCwXahAAAAAYOlIqEAAAAAA4/inQAAAAKCBPahAAAAAQPJeqEAAAACg5pmoQAAAAIDSc6hAAAAA4AFJqEAAAADgZRWoQAAAACBIJKhAAAAAgERHqEAAAABADO+oQAAAAAAotahAAAAAIM77qEAAAACgQhGpQAAAAGD2FqlAAAAAoDwjqUAAAABgerSoQAAAAGBZtahAAAAAIDCdqEAAAABAFDmpQAAAAGCaiapAAAAAID5dqkAAAACgMmeqQAAAAABlM6pAAAAAQME3qkAAAADgpX+pQAAAAEDosqlAAAAAQG+7qUAAAABgaKapQAAAAMASt6lAAAAA4KVmqUAAAADApuapQAAAAODzIapAAAAAANwLqkAAAAAA/LypQAAAAOB6EapAAAAAwPdfqkAAAAAg50WqQAAAAEA0NqpAAAAAgKsOqkAAAACgpxuqQAAAAICwHapAAAAAQEIuqkAAAABAXQKqQAAAAMBSfalAAAAAgEfAqUAAAADgfJqpQAAAAKCwualAAAAAYFelqUAAAACA15ipQAAAAMCyjalAAAAAYNyOqUAAAAAAi6upQAAAAIBcaalAAAAAwMWUqUAAAAAA7+CpQAAAAOD19alAAAAAAAf3qUAAAACAJyiqQAAAACBIDqpAAAAAwGBZqkAAAAAgdxurQAAAAIBeAqtAAAAAwEDzqkAAAABAYT2rQAAAAKCXTKtAAAAAQGZMq0AAAADgLySrQAAAAIC/R6tAAAAAgGQUq0AAAABA9iSrQAAAAGDwK6tAAAAAIBnGqkAAAADgTbaqQAAAAAC4mapAAAAAYAnIqkAAAAAgCSyrQAAAAMAlaqtAAAAAAP+Kq0AAAACArnirQAAAAEDcU6tAAAAAoFbRqkAAAAAALwirQAAAAIB8rapAAAAAYIqMqkAAAABgK2aqQAAAAOBBOqpAAAAAANeFqkAAAABA2uGpQAAAAGDluqlAAAAA4DxTqUAAAADg026pQAAAACB0pKlAAAAAgGmRqUAAAACgYkepQAAAAECbgKlAAAAA4LpuqUAAAADgwaepQAAAAEC3lKlAAAAAgEiqqUAAAAAAB2ipQAAAAEDTTKlAAAAAgCJJqUAAAABgfNapQAAAAEBAjKpAAAAAoDCVqkAAAAAgg7aqQAAAACA/pKpAAAAAYALLqkAAAABAdaCqQAAAAEATPapAAAAAQG5WqkAAAAAgJauqQAAAAABWeKpAAAAAgBCnqkAAAACAnqiqQAAAAODTzapAAAAAgLFaq0AAAABArW+rQAAAAMCahqtAAAAAoBSmq0AAAADg0N6rQAAAAMAxRqtAAAAAQGTVq0AAAAAg2E2tQAAAAMBYSq1AAAAAoMz2rEAAAABgj7CsQAAAAAAJv6xAAAAAgPQFrUAAAABgrc6sQAAAAKAV7axAAAAAwCDXrEAAAADAf8qsQAAAAADk7KxAAAAAIK62rEAAAADA/gSsQAAAAKCE1KtAAAAAAKperEAAAACg3OqrQAAAAGBmAaxAAAAAwGEurEAAAAAgGVqsQAAAAKAzeK1AAAAAAAGhrUAAAABgbU6tQAAAAOCye61AAAAAQKyerUAAAACg+f6tQAAAAGDUWa1AAAAAIMs5rUAAAADAcvysQAAAAEBW6qxAAAAA4HXprEAAAABgcwetQAAAAEDYUa1AAAAA4EAsrkAAAADg4jmuQAAAAGC9dq9AAAAAgE0Qr0AAAAAgCnOvQAAAAMBCcq9AAAAAoPFYr0AAAACgB5GvQAAAAEDTMK9AAAAAwNw2r0AAAABgvmevQAAAAOAHOK9AAAAAwJKprkAAAACAVF2uQAAAACCCF69AAAAA4FjTrkAAAACg7W+uQAAAAAAzOa9AAAAAAIlVr0AAAACgFievQAAAAMCgJa9AAAAAQAsLr0AAAACAcoWuQAAAACAb665AAAAAAGFBr0AAAABAKFyvQAAAAMBI5K9AAAAAYA6Qr0AAAADgFgGwQAAAAOBuDLBAAAAAgN+Wr0AAAAAgrUGuQAAAAEA2Na5AAAAAYDQ5rkAAAABAXcCtQAAAAGBRf61AAAAAgAo4rUAAAAAg+3ytQAAAAKDBy61AAAAAYJaLrUAAAABgQAeuQAAAAGBPdK5AAAAAIHlFrkAAAAAAbTiuQAAAAIDKBa5AAAAAgP1PrkAAAAAgnHCuQAAAAGBf+61AAAAAQCp2rUAAAAAAImGtQAAAAOBpG61AAAAAIDJmrUAAAACA3XmtQAAAAMDbJK1AAAAAIAxOrUAAAADg9xGtQAAAAOAZca1AAAAAwJoQrUAAAAAgqmOtQAAAAMDoPK1AAAAAgCHUrUAAAACA40SuQAAAAID+QK5AAAAAwF8grkAAAADAQZ+tQAAAAOA5CK5AAAAAQHmtrUAAAAAg94StQAAAAMAz5K1AAAAAoBFhrUAAAABAzUWtQAAAAODyXK1AAAAAgH3VrUAAAAAAR3+tQAAAAMB4eq1AAAAAIHJsrUAAAAAgViWtQAAAAEDUoKxAAAAAYAchrEAAAADAml+sQAAAAEBwd6xAAAAAwCG1rEAAAABgz1mtQAAAAKB41q1AAAAA4FKRrUAAAACgYIStQAAAACBDXK1AAAAAYHq3rUAAAAAADF2tQAAAACDMO61AAAAA4IIhrUAAAACAKgWtQAAAAIBDM61AAAAAwCE/rUAAAADgmWmtQAAAAKC7i61AAAAAIFQlrkAAAAAAe+qtQAAAAAC9e65AAAAAQKLIrkAAAADAVWKuQAAAAOCYz65AAAAAIKa9rkAAAADAKZmuQAAAAAAPiq5AAAAAwEn0rUAAAABg1BCuQAAAAACsB7BAAAAAAGnyr0AAAAAARwKwQAAAAAC/iLBAAAAAQKaFsEAAAACA2nawQAAAAMCZhbBAAAAAIG+JsEAAAADgaJmwQAAAAKCn2bBAAAAA4ATTsEAAAAAAicOwQAAAAGAy17BAAAAAgL/isEAAAABgoHKwQAAAACCV6a9AAAAAIKsEsEAAAABgbCGwQAAAAKD+BbBAAAAAwD49sEAAAABgtBywQAAAAKD7HbBAAAAA4J5+sEAAAACgYPWwQAAAAOATPrFAAAAAQNBesUAAAACgiXqxQAAAAODfSbFAAAAAIGsksUAAAAAgUUqxQAAAAEAbRbFAAAAAANtNsUAAAABAglOxQAAAAOC/fLFAAAAAIJpcsUAAAACgDFSxQAAAAGCCM7FAAAAA4EMwsUAAAACgYx2xQAAAAMBPFrFAAAAAIKBPsUAAAACAmzOxQAAAACBPWbFAAAAAYCBesUAAAABA71SxQAAAAGB2TbFAAAAA4KiwsEAAAABggX+wQAAAAABydLBAAAAAwFJksEAAAAAgE2ewQAAAAKB3arBAAAAAwOp7sEAAAADg14uwQAAAAMBSZLBAAAAAIGV3sEAAAACALUGwQAAAAABZVLBAAAAAgJlosEAAAACgVFWwQAAAACAJVbBAAAAAAOs7sEAAAACgFN6vQAAAAKBnxa9AAAAAAGCer0AAAAAganOvQAAAACAKj69AAAAA4HC+r0AAAACgS2mvQAAAAGB26q5AAAAAYH1Or0AAAACAUiqvQAAAAMBXPa9AAAAAAPp+r0AAAACgOmCvQAAAAIDBcq9AAAAAYLqNrkAAAABgxayuQAAAAKBAha5AAAAAwHGTrkAAAADAKN+vQAAAACBV9a9AAAAAoKXtr0AAAAAAximwQAAAAOB9KLBAAAAAwD/0r0AAAACAeuuvQAAAAMBY8q5AAAAAYN0Zr0AAAACgf1uvQAAAAOABV7BAAAAAAHycsEAAAADgicGwQAAAAECurbBAAAAAYE1XsEAAAABA4HCwQAAAAKCXdrBAAAAAIFCQsEAAAADANsOwQAAAAKBFL7FAAAAA4P0csUAAAACgiyOxQAAAAMA6ELFAAAAAIDQLsUAAAAAATiaxQAAAAMD6OLFAAAAAoCH/sEAAAACAsKmwQAAAAEDCvLBAAAAAIOlxsEAAAADgyA2wQAAAAID1AbBAAAAAANoWsEAAAABAmgywQAAAAABqCLBAAAAAwHMCsEAAAADgwoavQAAAAKCMqa9AAAAA4CcTsEAAAAAg0JCvQAAAAOAnh69AAAAAALEDr0AAAAAgkaGvQAAAAEB8GK9AAAAAYMBrsEAAAAAA1YSwQAAAAMCfS7BAAAAAQO9bsEAAAABAQzGwQAAAAMBG1K9AAAAAgGh4r0AAAABghyWvQAAAAMALCrBAAAAAIBD+r0AAAADg2AWwQAAAAGBqX69AAAAAAFIur0AAAABg36OvQAAAAMBdpK9AAAAAIMS8r0AAAACgOG+vQAAAAIBUZq9AAAAAIDKyr0AAAABAr5KvQAAAAAAwgq9AAAAA4MgYr0AAAACgsyevQAAAAACwlq5AAAAAgDZ8rkAAAACgLy2uQAAAAED8Xa5AAAAA4AUirkAAAABAL+StQAAAAAAnNK1AAAAAwN0qrUAAAAAA6DetQAAAAMDKXaxAAAAAwM8CrEAAAACgOeGrQAAAAEDF4apAAAAAwCH1qkAAAAAAL0KrQAAAAIDRX6tAAAAAgJfLq0AAAADAjt6rQAAAAGD7s6tAAAAAoKGXq0AAAACgHA+rQAAAAKCxGKtAAAAAgFH+qkAAAACAUf6qQAAAAEAi/apAAAAAYKB/q0AAAADAKZ2rQAAAAECgAaxAAAAAoIY6rEAAAADgKA+sQAAAAMCVLaxAAAAAoJTUq0AAAAAgOmerQAAAAICxWatAAAAAwIRDqkAAAADAinapQAAAAIB1RKlAAAAAoMxpqUAAAAAAOg6pQAAAAOBk8KhAAAAAQGMRqUAAAAAg90OpQAAAAOCNdalAAAAAIGeiqUAAAABgLZSpQAAAAMD6VqpAAAAA4HRAqkAAAADAIJyqQAAAAMA8k6pAAAAAIIjMqkAAAACgY6eqQAAAAICKeqpAAAAAAJOoqkAAAAAA1rOqQAAAAABmlqpAAAAA4OedqkAAAABg6oyqQAAAAOC78KtAAAAAgH8gq0AAAAAAFGOrQAAAACC4oKtAAAAAwPh7q0AAAACAASirQAAAACCB/6pAAAAA4NU1q0AAAAAgbNWqQAAAACC1H6tAAAAAQI5Mq0AAAABgSwCrQAAAAIBR/qpAAAAAABz/qkAAAACAjbqqQAAAACCvn6pAAAAAoJFHqkAAAAAg7lKqQAAAAIBlP6pAAAAAAIJZqkAAAAAgp6SqQAAAACBg9qpAAAAAgFAIq0AAAABgK72qQAAAAIAX1KpAAAAAIPM4q0AAAABA0l6rQAAAAAB036pAAAAAwNaoqkAAAADAKMCqQAAAAKA+bKpAAAAAoN1lqkAAAABATNKqQAAAAIBRzKpAAAAAYOzKqkAAAADglPSqQAAAAEAztKpAAAAAgHGnqkAAAACAmHqqQAAAAKB3oKpAAAAAYFKQqkAAAADgW4WqQAAAAOC1WKpAAAAAYB9VqkAAAABA6G2pQAAAAKCZF6lAAAAAoJlSqUAAAABAM0KpQAAAAGBmEqlAAAAAwMzrqEAAAABgZqyoQAAAAEAzr6hAAAAAQDPWqEAAAAAAAJioQAAAAKCZf6hAAAAAoJkOqEAAAAAAAOCnQAAAAEAz26dAAAAAoJm5p0AAAAAAAHanQAAAAMDMBKhAAAAAwMzvp0AAAACgmbCnQAAAAAAAzqdAAAAAwMy4p0AAAACgmcGnQAAAAMDMtqdAAAAAYGa4p0AAAACgmZynQAAAAGBmhqdAAAAAYGaQp0AAAABAMzWoQAAAAEAzPahAAAAAAADcp0AAAABAM4moQAAAAGBmqqhAAAAAYGaqqEAAAABgZiuoQAAAAGBmGahAAAAAQDNRqEAAAAAAAE+oQAAAAAAAM6hAAAAAYGYvqEAAAACgmdCnQAAAAAAAlqdAAAAAwMzSp0AAAAAAAEyoQAAAAGBmaKhAAAAAwMx6qEAAAADAzE+oQAAAAGBmk6hAAAAAoJnJqEAAAABgZtGoQAAAAGBmwqhAAAAAoJkDqEAAAADAzOynQAAAAMDMtqdAAAAAwMwap0AAAABAM6amQA==",
          "dtype": "f8"
         },
         "yaxis": "y"
        },
        {
         "line": {
          "color": "gray",
          "dash": "dash"
         },
         "name": "Upper Band",
         "type": "scatter",
         "x": [
          "2022-12-07T00:00:00.000000000",
          "2022-12-08T00:00:00.000000000",
          "2022-12-09T00:00:00.000000000",
          "2022-12-12T00:00:00.000000000",
          "2022-12-13T00:00:00.000000000",
          "2022-12-14T00:00:00.000000000",
          "2022-12-15T00:00:00.000000000",
          "2022-12-16T00:00:00.000000000",
          "2022-12-19T00:00:00.000000000",
          "2022-12-20T00:00:00.000000000",
          "2022-12-21T00:00:00.000000000",
          "2022-12-22T00:00:00.000000000",
          "2022-12-23T00:00:00.000000000",
          "2022-12-26T00:00:00.000000000",
          "2022-12-27T00:00:00.000000000",
          "2022-12-28T00:00:00.000000000",
          "2022-12-29T00:00:00.000000000",
          "2022-12-30T00:00:00.000000000",
          "2023-01-02T00:00:00.000000000",
          "2023-01-03T00:00:00.000000000",
          "2023-01-04T00:00:00.000000000",
          "2023-01-05T00:00:00.000000000",
          "2023-01-06T00:00:00.000000000",
          "2023-01-09T00:00:00.000000000",
          "2023-01-10T00:00:00.000000000",
          "2023-01-11T00:00:00.000000000",
          "2023-01-12T00:00:00.000000000",
          "2023-01-13T00:00:00.000000000",
          "2023-01-16T00:00:00.000000000",
          "2023-01-17T00:00:00.000000000",
          "2023-01-18T00:00:00.000000000",
          "2023-01-19T00:00:00.000000000",
          "2023-01-20T00:00:00.000000000",
          "2023-01-23T00:00:00.000000000",
          "2023-01-24T00:00:00.000000000",
          "2023-01-25T00:00:00.000000000",
          "2023-01-27T00:00:00.000000000",
          "2023-01-30T00:00:00.000000000",
          "2023-01-31T00:00:00.000000000",
          "2023-02-01T00:00:00.000000000",
          "2023-02-02T00:00:00.000000000",
          "2023-02-03T00:00:00.000000000",
          "2023-02-06T00:00:00.000000000",
          "2023-02-07T00:00:00.000000000",
          "2023-02-08T00:00:00.000000000",
          "2023-02-09T00:00:00.000000000",
          "2023-02-10T00:00:00.000000000",
          "2023-02-13T00:00:00.000000000",
          "2023-02-14T00:00:00.000000000",
          "2023-02-15T00:00:00.000000000",
          "2023-02-16T00:00:00.000000000",
          "2023-02-17T00:00:00.000000000",
          "2023-02-20T00:00:00.000000000",
          "2023-02-21T00:00:00.000000000",
          "2023-02-22T00:00:00.000000000",
          "2023-02-23T00:00:00.000000000",
          "2023-02-24T00:00:00.000000000",
          "2023-02-27T00:00:00.000000000",
          "2023-02-28T00:00:00.000000000",
          "2023-03-01T00:00:00.000000000",
          "2023-03-02T00:00:00.000000000",
          "2023-03-03T00:00:00.000000000",
          "2023-03-06T00:00:00.000000000",
          "2023-03-08T00:00:00.000000000",
          "2023-03-09T00:00:00.000000000",
          "2023-03-10T00:00:00.000000000",
          "2023-03-13T00:00:00.000000000",
          "2023-03-14T00:00:00.000000000",
          "2023-03-15T00:00:00.000000000",
          "2023-03-16T00:00:00.000000000",
          "2023-03-17T00:00:00.000000000",
          "2023-03-20T00:00:00.000000000",
          "2023-03-21T00:00:00.000000000",
          "2023-03-22T00:00:00.000000000",
          "2023-03-23T00:00:00.000000000",
          "2023-03-24T00:00:00.000000000",
          "2023-03-27T00:00:00.000000000",
          "2023-03-28T00:00:00.000000000",
          "2023-03-29T00:00:00.000000000",
          "2023-03-31T00:00:00.000000000",
          "2023-04-03T00:00:00.000000000",
          "2023-04-05T00:00:00.000000000",
          "2023-04-06T00:00:00.000000000",
          "2023-04-10T00:00:00.000000000",
          "2023-04-11T00:00:00.000000000",
          "2023-04-12T00:00:00.000000000",
          "2023-04-13T00:00:00.000000000",
          "2023-04-17T00:00:00.000000000",
          "2023-04-18T00:00:00.000000000",
          "2023-04-19T00:00:00.000000000",
          "2023-04-20T00:00:00.000000000",
          "2023-04-21T00:00:00.000000000",
          "2023-04-24T00:00:00.000000000",
          "2023-04-25T00:00:00.000000000",
          "2023-04-26T00:00:00.000000000",
          "2023-04-27T00:00:00.000000000",
          "2023-04-28T00:00:00.000000000",
          "2023-05-02T00:00:00.000000000",
          "2023-05-03T00:00:00.000000000",
          "2023-05-04T00:00:00.000000000",
          "2023-05-05T00:00:00.000000000",
          "2023-05-08T00:00:00.000000000",
          "2023-05-09T00:00:00.000000000",
          "2023-05-10T00:00:00.000000000",
          "2023-05-11T00:00:00.000000000",
          "2023-05-12T00:00:00.000000000",
          "2023-05-15T00:00:00.000000000",
          "2023-05-16T00:00:00.000000000",
          "2023-05-17T00:00:00.000000000",
          "2023-05-18T00:00:00.000000000",
          "2023-05-19T00:00:00.000000000",
          "2023-05-22T00:00:00.000000000",
          "2023-05-23T00:00:00.000000000",
          "2023-05-24T00:00:00.000000000",
          "2023-05-25T00:00:00.000000000",
          "2023-05-26T00:00:00.000000000",
          "2023-05-29T00:00:00.000000000",
          "2023-05-30T00:00:00.000000000",
          "2023-05-31T00:00:00.000000000",
          "2023-06-01T00:00:00.000000000",
          "2023-06-02T00:00:00.000000000",
          "2023-06-05T00:00:00.000000000",
          "2023-06-06T00:00:00.000000000",
          "2023-06-07T00:00:00.000000000",
          "2023-06-08T00:00:00.000000000",
          "2023-06-09T00:00:00.000000000",
          "2023-06-12T00:00:00.000000000",
          "2023-06-13T00:00:00.000000000",
          "2023-06-14T00:00:00.000000000",
          "2023-06-15T00:00:00.000000000",
          "2023-06-16T00:00:00.000000000",
          "2023-06-19T00:00:00.000000000",
          "2023-06-20T00:00:00.000000000",
          "2023-06-21T00:00:00.000000000",
          "2023-06-22T00:00:00.000000000",
          "2023-06-23T00:00:00.000000000",
          "2023-06-26T00:00:00.000000000",
          "2023-06-27T00:00:00.000000000",
          "2023-06-28T00:00:00.000000000",
          "2023-06-30T00:00:00.000000000",
          "2023-07-03T00:00:00.000000000",
          "2023-07-04T00:00:00.000000000",
          "2023-07-05T00:00:00.000000000",
          "2023-07-06T00:00:00.000000000",
          "2023-07-07T00:00:00.000000000",
          "2023-07-10T00:00:00.000000000",
          "2023-07-11T00:00:00.000000000",
          "2023-07-12T00:00:00.000000000",
          "2023-07-13T00:00:00.000000000",
          "2023-07-14T00:00:00.000000000",
          "2023-07-17T00:00:00.000000000",
          "2023-07-18T00:00:00.000000000",
          "2023-07-19T00:00:00.000000000",
          "2023-07-20T00:00:00.000000000",
          "2023-07-21T00:00:00.000000000",
          "2023-07-24T00:00:00.000000000",
          "2023-07-25T00:00:00.000000000",
          "2023-07-26T00:00:00.000000000",
          "2023-07-27T00:00:00.000000000",
          "2023-07-28T00:00:00.000000000",
          "2023-07-31T00:00:00.000000000",
          "2023-08-01T00:00:00.000000000",
          "2023-08-02T00:00:00.000000000",
          "2023-08-03T00:00:00.000000000",
          "2023-08-04T00:00:00.000000000",
          "2023-08-07T00:00:00.000000000",
          "2023-08-08T00:00:00.000000000",
          "2023-08-09T00:00:00.000000000",
          "2023-08-10T00:00:00.000000000",
          "2023-08-11T00:00:00.000000000",
          "2023-08-14T00:00:00.000000000",
          "2023-08-16T00:00:00.000000000",
          "2023-08-17T00:00:00.000000000",
          "2023-08-18T00:00:00.000000000",
          "2023-08-21T00:00:00.000000000",
          "2023-08-22T00:00:00.000000000",
          "2023-08-23T00:00:00.000000000",
          "2023-08-24T00:00:00.000000000",
          "2023-08-25T00:00:00.000000000",
          "2023-08-28T00:00:00.000000000",
          "2023-08-29T00:00:00.000000000",
          "2023-08-30T00:00:00.000000000",
          "2023-08-31T00:00:00.000000000",
          "2023-09-01T00:00:00.000000000",
          "2023-09-04T00:00:00.000000000",
          "2023-09-05T00:00:00.000000000",
          "2023-09-06T00:00:00.000000000",
          "2023-09-07T00:00:00.000000000",
          "2023-09-08T00:00:00.000000000",
          "2023-09-11T00:00:00.000000000",
          "2023-09-12T00:00:00.000000000",
          "2023-09-13T00:00:00.000000000",
          "2023-09-14T00:00:00.000000000",
          "2023-09-15T00:00:00.000000000",
          "2023-09-18T00:00:00.000000000",
          "2023-09-20T00:00:00.000000000",
          "2023-09-21T00:00:00.000000000",
          "2023-09-22T00:00:00.000000000",
          "2023-09-25T00:00:00.000000000",
          "2023-09-26T00:00:00.000000000",
          "2023-09-27T00:00:00.000000000",
          "2023-09-28T00:00:00.000000000",
          "2023-09-29T00:00:00.000000000",
          "2023-10-03T00:00:00.000000000",
          "2023-10-04T00:00:00.000000000",
          "2023-10-05T00:00:00.000000000",
          "2023-10-06T00:00:00.000000000",
          "2023-10-09T00:00:00.000000000",
          "2023-10-10T00:00:00.000000000",
          "2023-10-11T00:00:00.000000000",
          "2023-10-12T00:00:00.000000000",
          "2023-10-13T00:00:00.000000000",
          "2023-10-16T00:00:00.000000000",
          "2023-10-17T00:00:00.000000000",
          "2023-10-18T00:00:00.000000000",
          "2023-10-19T00:00:00.000000000",
          "2023-10-20T00:00:00.000000000",
          "2023-10-23T00:00:00.000000000",
          "2023-10-25T00:00:00.000000000",
          "2023-10-26T00:00:00.000000000",
          "2023-10-27T00:00:00.000000000",
          "2023-10-30T00:00:00.000000000",
          "2023-10-31T00:00:00.000000000",
          "2023-11-01T00:00:00.000000000",
          "2023-11-02T00:00:00.000000000",
          "2023-11-03T00:00:00.000000000",
          "2023-11-06T00:00:00.000000000",
          "2023-11-07T00:00:00.000000000",
          "2023-11-08T00:00:00.000000000",
          "2023-11-09T00:00:00.000000000",
          "2023-11-10T00:00:00.000000000",
          "2023-11-13T00:00:00.000000000",
          "2023-11-15T00:00:00.000000000",
          "2023-11-16T00:00:00.000000000",
          "2023-11-17T00:00:00.000000000",
          "2023-11-20T00:00:00.000000000",
          "2023-11-21T00:00:00.000000000",
          "2023-11-22T00:00:00.000000000",
          "2023-11-23T00:00:00.000000000",
          "2023-11-24T00:00:00.000000000",
          "2023-11-28T00:00:00.000000000",
          "2023-11-29T00:00:00.000000000",
          "2023-11-30T00:00:00.000000000",
          "2023-12-01T00:00:00.000000000",
          "2023-12-04T00:00:00.000000000",
          "2023-12-05T00:00:00.000000000",
          "2023-12-06T00:00:00.000000000",
          "2023-12-07T00:00:00.000000000",
          "2023-12-08T00:00:00.000000000",
          "2023-12-11T00:00:00.000000000",
          "2023-12-12T00:00:00.000000000",
          "2023-12-13T00:00:00.000000000",
          "2023-12-14T00:00:00.000000000",
          "2023-12-15T00:00:00.000000000",
          "2023-12-18T00:00:00.000000000",
          "2023-12-19T00:00:00.000000000",
          "2023-12-20T00:00:00.000000000",
          "2023-12-21T00:00:00.000000000",
          "2023-12-22T00:00:00.000000000",
          "2023-12-26T00:00:00.000000000",
          "2023-12-27T00:00:00.000000000",
          "2023-12-28T00:00:00.000000000",
          "2023-12-29T00:00:00.000000000",
          "2024-01-01T00:00:00.000000000",
          "2024-01-02T00:00:00.000000000",
          "2024-01-03T00:00:00.000000000",
          "2024-01-04T00:00:00.000000000",
          "2024-01-05T00:00:00.000000000",
          "2024-01-08T00:00:00.000000000",
          "2024-01-09T00:00:00.000000000",
          "2024-01-10T00:00:00.000000000",
          "2024-01-11T00:00:00.000000000",
          "2024-01-12T00:00:00.000000000",
          "2024-01-15T00:00:00.000000000",
          "2024-01-16T00:00:00.000000000",
          "2024-01-17T00:00:00.000000000",
          "2024-01-18T00:00:00.000000000",
          "2024-01-19T00:00:00.000000000",
          "2024-01-23T00:00:00.000000000",
          "2024-01-24T00:00:00.000000000",
          "2024-01-25T00:00:00.000000000",
          "2024-01-29T00:00:00.000000000",
          "2024-01-30T00:00:00.000000000",
          "2024-01-31T00:00:00.000000000",
          "2024-02-01T00:00:00.000000000",
          "2024-02-02T00:00:00.000000000",
          "2024-02-05T00:00:00.000000000",
          "2024-02-06T00:00:00.000000000",
          "2024-02-07T00:00:00.000000000",
          "2024-02-08T00:00:00.000000000",
          "2024-02-09T00:00:00.000000000",
          "2024-02-12T00:00:00.000000000",
          "2024-02-13T00:00:00.000000000",
          "2024-02-14T00:00:00.000000000",
          "2024-02-15T00:00:00.000000000",
          "2024-02-16T00:00:00.000000000",
          "2024-02-19T00:00:00.000000000",
          "2024-02-20T00:00:00.000000000",
          "2024-02-21T00:00:00.000000000",
          "2024-02-22T00:00:00.000000000",
          "2024-02-23T00:00:00.000000000",
          "2024-02-26T00:00:00.000000000",
          "2024-02-27T00:00:00.000000000",
          "2024-02-28T00:00:00.000000000",
          "2024-02-29T00:00:00.000000000",
          "2024-03-01T00:00:00.000000000",
          "2024-03-04T00:00:00.000000000",
          "2024-03-05T00:00:00.000000000",
          "2024-03-06T00:00:00.000000000",
          "2024-03-07T00:00:00.000000000",
          "2024-03-11T00:00:00.000000000",
          "2024-03-12T00:00:00.000000000",
          "2024-03-13T00:00:00.000000000",
          "2024-03-14T00:00:00.000000000",
          "2024-03-15T00:00:00.000000000",
          "2024-03-18T00:00:00.000000000",
          "2024-03-19T00:00:00.000000000",
          "2024-03-20T00:00:00.000000000",
          "2024-03-21T00:00:00.000000000",
          "2024-03-22T00:00:00.000000000",
          "2024-03-26T00:00:00.000000000",
          "2024-03-27T00:00:00.000000000",
          "2024-03-28T00:00:00.000000000",
          "2024-04-01T00:00:00.000000000",
          "2024-04-02T00:00:00.000000000",
          "2024-04-03T00:00:00.000000000",
          "2024-04-04T00:00:00.000000000",
          "2024-04-05T00:00:00.000000000",
          "2024-04-08T00:00:00.000000000",
          "2024-04-09T00:00:00.000000000",
          "2024-04-10T00:00:00.000000000",
          "2024-04-12T00:00:00.000000000",
          "2024-04-15T00:00:00.000000000",
          "2024-04-16T00:00:00.000000000",
          "2024-04-18T00:00:00.000000000",
          "2024-04-19T00:00:00.000000000",
          "2024-04-22T00:00:00.000000000",
          "2024-04-23T00:00:00.000000000",
          "2024-04-24T00:00:00.000000000",
          "2024-04-25T00:00:00.000000000",
          "2024-04-26T00:00:00.000000000",
          "2024-04-29T00:00:00.000000000",
          "2024-04-30T00:00:00.000000000",
          "2024-05-02T00:00:00.000000000",
          "2024-05-03T00:00:00.000000000",
          "2024-05-06T00:00:00.000000000",
          "2024-05-07T00:00:00.000000000",
          "2024-05-08T00:00:00.000000000",
          "2024-05-09T00:00:00.000000000",
          "2024-05-10T00:00:00.000000000",
          "2024-05-13T00:00:00.000000000",
          "2024-05-14T00:00:00.000000000",
          "2024-05-15T00:00:00.000000000",
          "2024-05-16T00:00:00.000000000",
          "2024-05-17T00:00:00.000000000",
          "2024-05-21T00:00:00.000000000",
          "2024-05-22T00:00:00.000000000",
          "2024-05-23T00:00:00.000000000",
          "2024-05-24T00:00:00.000000000",
          "2024-05-27T00:00:00.000000000",
          "2024-05-28T00:00:00.000000000",
          "2024-05-29T00:00:00.000000000",
          "2024-05-30T00:00:00.000000000",
          "2024-05-31T00:00:00.000000000",
          "2024-06-03T00:00:00.000000000",
          "2024-06-04T00:00:00.000000000",
          "2024-06-05T00:00:00.000000000",
          "2024-06-06T00:00:00.000000000",
          "2024-06-07T00:00:00.000000000",
          "2024-06-10T00:00:00.000000000",
          "2024-06-11T00:00:00.000000000",
          "2024-06-12T00:00:00.000000000",
          "2024-06-13T00:00:00.000000000",
          "2024-06-14T00:00:00.000000000",
          "2024-06-18T00:00:00.000000000",
          "2024-06-19T00:00:00.000000000",
          "2024-06-20T00:00:00.000000000",
          "2024-06-21T00:00:00.000000000",
          "2024-06-24T00:00:00.000000000",
          "2024-06-25T00:00:00.000000000",
          "2024-06-26T00:00:00.000000000",
          "2024-06-27T00:00:00.000000000",
          "2024-06-28T00:00:00.000000000",
          "2024-07-01T00:00:00.000000000",
          "2024-07-02T00:00:00.000000000",
          "2024-07-03T00:00:00.000000000",
          "2024-07-04T00:00:00.000000000",
          "2024-07-05T00:00:00.000000000",
          "2024-07-08T00:00:00.000000000",
          "2024-07-09T00:00:00.000000000",
          "2024-07-10T00:00:00.000000000",
          "2024-07-11T00:00:00.000000000",
          "2024-07-12T00:00:00.000000000",
          "2024-07-15T00:00:00.000000000",
          "2024-07-16T00:00:00.000000000",
          "2024-07-18T00:00:00.000000000",
          "2024-07-19T00:00:00.000000000",
          "2024-07-22T00:00:00.000000000",
          "2024-07-23T00:00:00.000000000",
          "2024-07-24T00:00:00.000000000",
          "2024-07-25T00:00:00.000000000",
          "2024-07-26T00:00:00.000000000",
          "2024-07-29T00:00:00.000000000",
          "2024-07-30T00:00:00.000000000",
          "2024-07-31T00:00:00.000000000",
          "2024-08-01T00:00:00.000000000",
          "2024-08-02T00:00:00.000000000",
          "2024-08-05T00:00:00.000000000",
          "2024-08-06T00:00:00.000000000",
          "2024-08-07T00:00:00.000000000",
          "2024-08-08T00:00:00.000000000",
          "2024-08-09T00:00:00.000000000",
          "2024-08-12T00:00:00.000000000",
          "2024-08-13T00:00:00.000000000",
          "2024-08-14T00:00:00.000000000",
          "2024-08-16T00:00:00.000000000",
          "2024-08-19T00:00:00.000000000",
          "2024-08-20T00:00:00.000000000",
          "2024-08-21T00:00:00.000000000",
          "2024-08-22T00:00:00.000000000",
          "2024-08-23T00:00:00.000000000",
          "2024-08-26T00:00:00.000000000",
          "2024-08-27T00:00:00.000000000",
          "2024-08-28T00:00:00.000000000",
          "2024-08-29T00:00:00.000000000",
          "2024-08-30T00:00:00.000000000",
          "2024-09-02T00:00:00.000000000",
          "2024-09-03T00:00:00.000000000",
          "2024-09-04T00:00:00.000000000",
          "2024-09-05T00:00:00.000000000",
          "2024-09-06T00:00:00.000000000",
          "2024-09-09T00:00:00.000000000",
          "2024-09-10T00:00:00.000000000",
          "2024-09-11T00:00:00.000000000",
          "2024-09-12T00:00:00.000000000",
          "2024-09-13T00:00:00.000000000",
          "2024-09-16T00:00:00.000000000",
          "2024-09-17T00:00:00.000000000",
          "2024-09-18T00:00:00.000000000",
          "2024-09-19T00:00:00.000000000",
          "2024-09-20T00:00:00.000000000",
          "2024-09-23T00:00:00.000000000",
          "2024-09-24T00:00:00.000000000",
          "2024-09-25T00:00:00.000000000",
          "2024-09-26T00:00:00.000000000",
          "2024-09-27T00:00:00.000000000",
          "2024-09-30T00:00:00.000000000",
          "2024-10-01T00:00:00.000000000",
          "2024-10-03T00:00:00.000000000",
          "2024-10-04T00:00:00.000000000",
          "2024-10-07T00:00:00.000000000",
          "2024-10-08T00:00:00.000000000",
          "2024-10-09T00:00:00.000000000",
          "2024-10-10T00:00:00.000000000",
          "2024-10-11T00:00:00.000000000",
          "2024-10-14T00:00:00.000000000",
          "2024-10-15T00:00:00.000000000",
          "2024-10-16T00:00:00.000000000",
          "2024-10-17T00:00:00.000000000",
          "2024-10-18T00:00:00.000000000",
          "2024-10-21T00:00:00.000000000",
          "2024-10-22T00:00:00.000000000",
          "2024-10-23T00:00:00.000000000",
          "2024-10-24T00:00:00.000000000",
          "2024-10-25T00:00:00.000000000",
          "2024-10-28T00:00:00.000000000",
          "2024-10-29T00:00:00.000000000",
          "2024-10-30T00:00:00.000000000",
          "2024-10-31T00:00:00.000000000",
          "2024-11-01T00:00:00.000000000",
          "2024-11-04T00:00:00.000000000",
          "2024-11-05T00:00:00.000000000",
          "2024-11-06T00:00:00.000000000",
          "2024-11-07T00:00:00.000000000",
          "2024-11-08T00:00:00.000000000",
          "2024-11-11T00:00:00.000000000",
          "2024-11-12T00:00:00.000000000",
          "2024-11-13T00:00:00.000000000",
          "2024-11-14T00:00:00.000000000",
          "2024-11-18T00:00:00.000000000",
          "2024-11-19T00:00:00.000000000",
          "2024-11-21T00:00:00.000000000",
          "2024-11-22T00:00:00.000000000",
          "2024-11-25T00:00:00.000000000",
          "2024-11-26T00:00:00.000000000",
          "2024-11-27T00:00:00.000000000",
          "2024-11-28T00:00:00.000000000",
          "2024-11-29T00:00:00.000000000",
          "2024-12-02T00:00:00.000000000",
          "2024-12-03T00:00:00.000000000",
          "2024-12-04T00:00:00.000000000",
          "2024-12-05T00:00:00.000000000",
          "2024-12-06T00:00:00.000000000",
          "2024-12-09T00:00:00.000000000",
          "2024-12-10T00:00:00.000000000",
          "2024-12-11T00:00:00.000000000",
          "2024-12-12T00:00:00.000000000",
          "2024-12-13T00:00:00.000000000",
          "2024-12-16T00:00:00.000000000",
          "2024-12-17T00:00:00.000000000",
          "2024-12-18T00:00:00.000000000",
          "2024-12-19T00:00:00.000000000",
          "2024-12-20T00:00:00.000000000",
          "2024-12-23T00:00:00.000000000",
          "2024-12-24T00:00:00.000000000",
          "2024-12-26T00:00:00.000000000",
          "2024-12-27T00:00:00.000000000",
          "2024-12-30T00:00:00.000000000",
          "2024-12-31T00:00:00.000000000",
          "2025-01-01T00:00:00.000000000",
          "2025-01-02T00:00:00.000000000",
          "2025-01-03T00:00:00.000000000",
          "2025-01-06T00:00:00.000000000",
          "2025-01-07T00:00:00.000000000",
          "2025-01-08T00:00:00.000000000",
          "2025-01-09T00:00:00.000000000",
          "2025-01-10T00:00:00.000000000",
          "2025-01-13T00:00:00.000000000",
          "2025-01-14T00:00:00.000000000",
          "2025-01-15T00:00:00.000000000",
          "2025-01-16T00:00:00.000000000",
          "2025-01-17T00:00:00.000000000",
          "2025-01-20T00:00:00.000000000",
          "2025-01-21T00:00:00.000000000",
          "2025-01-22T00:00:00.000000000",
          "2025-01-23T00:00:00.000000000",
          "2025-01-24T00:00:00.000000000",
          "2025-01-27T00:00:00.000000000",
          "2025-01-28T00:00:00.000000000",
          "2025-01-29T00:00:00.000000000",
          "2025-01-30T00:00:00.000000000",
          "2025-01-31T00:00:00.000000000",
          "2025-02-01T00:00:00.000000000",
          "2025-02-03T00:00:00.000000000",
          "2025-02-04T00:00:00.000000000",
          "2025-02-05T00:00:00.000000000",
          "2025-02-06T00:00:00.000000000",
          "2025-02-07T00:00:00.000000000",
          "2025-02-10T00:00:00.000000000",
          "2025-02-11T00:00:00.000000000",
          "2025-02-12T00:00:00.000000000",
          "2025-02-13T00:00:00.000000000",
          "2025-02-14T00:00:00.000000000",
          "2025-02-17T00:00:00.000000000",
          "2025-02-18T00:00:00.000000000",
          "2025-02-19T00:00:00.000000000",
          "2025-02-20T00:00:00.000000000",
          "2025-02-21T00:00:00.000000000",
          "2025-02-24T00:00:00.000000000",
          "2025-02-25T00:00:00.000000000",
          "2025-02-27T00:00:00.000000000",
          "2025-02-28T00:00:00.000000000",
          "2025-03-03T00:00:00.000000000",
          "2025-03-04T00:00:00.000000000",
          "2025-03-05T00:00:00.000000000",
          "2025-03-06T00:00:00.000000000",
          "2025-03-07T00:00:00.000000000",
          "2025-03-10T00:00:00.000000000",
          "2025-03-11T00:00:00.000000000",
          "2025-03-12T00:00:00.000000000",
          "2025-03-13T00:00:00.000000000",
          "2025-03-17T00:00:00.000000000",
          "2025-03-18T00:00:00.000000000",
          "2025-03-19T00:00:00.000000000",
          "2025-03-20T00:00:00.000000000",
          "2025-03-21T00:00:00.000000000",
          "2025-03-24T00:00:00.000000000",
          "2025-03-25T00:00:00.000000000",
          "2025-03-26T00:00:00.000000000",
          "2025-03-27T00:00:00.000000000",
          "2025-03-28T00:00:00.000000000",
          "2025-04-01T00:00:00.000000000",
          "2025-04-02T00:00:00.000000000",
          "2025-04-03T00:00:00.000000000",
          "2025-04-04T00:00:00.000000000",
          "2025-04-07T00:00:00.000000000",
          "2025-04-08T00:00:00.000000000",
          "2025-04-09T00:00:00.000000000",
          "2025-04-11T00:00:00.000000000",
          "2025-04-15T00:00:00.000000000",
          "2025-04-16T00:00:00.000000000",
          "2025-04-17T00:00:00.000000000",
          "2025-04-21T00:00:00.000000000",
          "2025-04-22T00:00:00.000000000",
          "2025-04-23T00:00:00.000000000",
          "2025-04-24T00:00:00.000000000",
          "2025-04-25T00:00:00.000000000",
          "2025-04-28T00:00:00.000000000",
          "2025-04-29T00:00:00.000000000",
          "2025-04-30T00:00:00.000000000",
          "2025-05-02T00:00:00.000000000",
          "2025-05-05T00:00:00.000000000",
          "2025-05-06T00:00:00.000000000",
          "2025-05-07T00:00:00.000000000",
          "2025-05-08T00:00:00.000000000",
          "2025-05-09T00:00:00.000000000",
          "2025-05-12T00:00:00.000000000",
          "2025-05-13T00:00:00.000000000",
          "2025-05-14T00:00:00.000000000",
          "2025-05-15T00:00:00.000000000",
          "2025-05-16T00:00:00.000000000",
          "2025-05-19T00:00:00.000000000",
          "2025-05-20T00:00:00.000000000",
          "2025-05-21T00:00:00.000000000",
          "2025-05-22T00:00:00.000000000",
          "2025-05-23T00:00:00.000000000",
          "2025-05-26T00:00:00.000000000",
          "2025-05-27T00:00:00.000000000",
          "2025-05-28T00:00:00.000000000",
          "2025-05-29T00:00:00.000000000",
          "2025-05-30T00:00:00.000000000",
          "2025-06-02T00:00:00.000000000",
          "2025-06-03T00:00:00.000000000",
          "2025-06-04T00:00:00.000000000",
          "2025-06-05T00:00:00.000000000",
          "2025-06-06T00:00:00.000000000",
          "2025-06-09T00:00:00.000000000",
          "2025-06-10T00:00:00.000000000",
          "2025-06-11T00:00:00.000000000",
          "2025-06-12T00:00:00.000000000",
          "2025-06-13T00:00:00.000000000",
          "2025-06-16T00:00:00.000000000",
          "2025-06-17T00:00:00.000000000",
          "2025-06-18T00:00:00.000000000",
          "2025-06-19T00:00:00.000000000",
          "2025-06-20T00:00:00.000000000",
          "2025-06-23T00:00:00.000000000",
          "2025-06-24T00:00:00.000000000",
          "2025-06-25T00:00:00.000000000",
          "2025-06-26T00:00:00.000000000",
          "2025-06-27T00:00:00.000000000",
          "2025-06-30T00:00:00.000000000",
          "2025-07-01T00:00:00.000000000",
          "2025-07-02T00:00:00.000000000",
          "2025-07-03T00:00:00.000000000",
          "2025-07-04T00:00:00.000000000",
          "2025-07-07T00:00:00.000000000",
          "2025-07-08T00:00:00.000000000",
          "2025-07-09T00:00:00.000000000",
          "2025-07-10T00:00:00.000000000",
          "2025-07-11T00:00:00.000000000",
          "2025-07-14T00:00:00.000000000",
          "2025-07-15T00:00:00.000000000",
          "2025-07-16T00:00:00.000000000",
          "2025-07-17T00:00:00.000000000",
          "2025-07-18T00:00:00.000000000",
          "2025-07-21T00:00:00.000000000",
          "2025-07-22T00:00:00.000000000",
          "2025-07-23T00:00:00.000000000",
          "2025-07-24T00:00:00.000000000",
          "2025-07-25T00:00:00.000000000",
          "2025-07-28T00:00:00.000000000",
          "2025-07-29T00:00:00.000000000",
          "2025-07-30T00:00:00.000000000",
          "2025-07-31T00:00:00.000000000",
          "2025-08-01T00:00:00.000000000",
          "2025-08-04T00:00:00.000000000",
          "2025-08-05T00:00:00.000000000",
          "2025-08-06T00:00:00.000000000",
          "2025-08-07T00:00:00.000000000",
          "2025-08-08T00:00:00.000000000",
          "2025-08-11T00:00:00.000000000",
          "2025-08-12T00:00:00.000000000",
          "2025-08-13T00:00:00.000000000",
          "2025-08-14T00:00:00.000000000",
          "2025-08-18T00:00:00.000000000",
          "2025-08-19T00:00:00.000000000",
          "2025-08-20T00:00:00.000000000",
          "2025-08-21T00:00:00.000000000",
          "2025-08-22T00:00:00.000000000",
          "2025-08-25T00:00:00.000000000",
          "2025-08-26T00:00:00.000000000",
          "2025-08-27T00:00:00.000000000",
          "2025-08-28T00:00:00.000000000",
          "2025-08-29T00:00:00.000000000",
          "2025-09-01T00:00:00.000000000",
          "2025-09-02T00:00:00.000000000",
          "2025-09-03T00:00:00.000000000",
          "2025-09-04T00:00:00.000000000",
          "2025-09-05T00:00:00.000000000",
          "2025-09-08T00:00:00.000000000",
          "2025-09-09T00:00:00.000000000",
          "2025-09-10T00:00:00.000000000",
          "2025-09-11T00:00:00.000000000",
          "2025-09-12T00:00:00.000000000",
          "2025-09-15T00:00:00.000000000",
          "2025-09-16T00:00:00.000000000",
          "2025-09-17T00:00:00.000000000",
          "2025-09-18T00:00:00.000000000",
          "2025-09-19T00:00:00.000000000",
          "2025-09-22T00:00:00.000000000",
          "2025-09-23T00:00:00.000000000",
          "2025-09-24T00:00:00.000000000",
          "2025-09-25T00:00:00.000000000",
          "2025-09-26T00:00:00.000000000"
         ],
         "xaxis": "x",
         "y": {
          "bdata": "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",
          "dtype": "f8"
         },
         "yaxis": "y"
        },
        {
         "fill": "tonexty",
         "fillcolor": "rgba(128,128,128,0.1)",
         "line": {
          "color": "gray",
          "dash": "dash"
         },
         "name": "Lower Band",
         "type": "scatter",
         "x": [
          "2022-12-07T00:00:00.000000000",
          "2022-12-08T00:00:00.000000000",
          "2022-12-09T00:00:00.000000000",
          "2022-12-12T00:00:00.000000000",
          "2022-12-13T00:00:00.000000000",
          "2022-12-14T00:00:00.000000000",
          "2022-12-15T00:00:00.000000000",
          "2022-12-16T00:00:00.000000000",
          "2022-12-19T00:00:00.000000000",
          "2022-12-20T00:00:00.000000000",
          "2022-12-21T00:00:00.000000000",
          "2022-12-22T00:00:00.000000000",
          "2022-12-23T00:00:00.000000000",
          "2022-12-26T00:00:00.000000000",
          "2022-12-27T00:00:00.000000000",
          "2022-12-28T00:00:00.000000000",
          "2022-12-29T00:00:00.000000000",
          "2022-12-30T00:00:00.000000000",
          "2023-01-02T00:00:00.000000000",
          "2023-01-03T00:00:00.000000000",
          "2023-01-04T00:00:00.000000000",
          "2023-01-05T00:00:00.000000000",
          "2023-01-06T00:00:00.000000000",
          "2023-01-09T00:00:00.000000000",
          "2023-01-10T00:00:00.000000000",
          "2023-01-11T00:00:00.000000000",
          "2023-01-12T00:00:00.000000000",
          "2023-01-13T00:00:00.000000000",
          "2023-01-16T00:00:00.000000000",
          "2023-01-17T00:00:00.000000000",
          "2023-01-18T00:00:00.000000000",
          "2023-01-19T00:00:00.000000000",
          "2023-01-20T00:00:00.000000000",
          "2023-01-23T00:00:00.000000000",
          "2023-01-24T00:00:00.000000000",
          "2023-01-25T00:00:00.000000000",
          "2023-01-27T00:00:00.000000000",
          "2023-01-30T00:00:00.000000000",
          "2023-01-31T00:00:00.000000000",
          "2023-02-01T00:00:00.000000000",
          "2023-02-02T00:00:00.000000000",
          "2023-02-03T00:00:00.000000000",
          "2023-02-06T00:00:00.000000000",
          "2023-02-07T00:00:00.000000000",
          "2023-02-08T00:00:00.000000000",
          "2023-02-09T00:00:00.000000000",
          "2023-02-10T00:00:00.000000000",
          "2023-02-13T00:00:00.000000000",
          "2023-02-14T00:00:00.000000000",
          "2023-02-15T00:00:00.000000000",
          "2023-02-16T00:00:00.000000000",
          "2023-02-17T00:00:00.000000000",
          "2023-02-20T00:00:00.000000000",
          "2023-02-21T00:00:00.000000000",
          "2023-02-22T00:00:00.000000000",
          "2023-02-23T00:00:00.000000000",
          "2023-02-24T00:00:00.000000000",
          "2023-02-27T00:00:00.000000000",
          "2023-02-28T00:00:00.000000000",
          "2023-03-01T00:00:00.000000000",
          "2023-03-02T00:00:00.000000000",
          "2023-03-03T00:00:00.000000000",
          "2023-03-06T00:00:00.000000000",
          "2023-03-08T00:00:00.000000000",
          "2023-03-09T00:00:00.000000000",
          "2023-03-10T00:00:00.000000000",
          "2023-03-13T00:00:00.000000000",
          "2023-03-14T00:00:00.000000000",
          "2023-03-15T00:00:00.000000000",
          "2023-03-16T00:00:00.000000000",
          "2023-03-17T00:00:00.000000000",
          "2023-03-20T00:00:00.000000000",
          "2023-03-21T00:00:00.000000000",
          "2023-03-22T00:00:00.000000000",
          "2023-03-23T00:00:00.000000000",
          "2023-03-24T00:00:00.000000000",
          "2023-03-27T00:00:00.000000000",
          "2023-03-28T00:00:00.000000000",
          "2023-03-29T00:00:00.000000000",
          "2023-03-31T00:00:00.000000000",
          "2023-04-03T00:00:00.000000000",
          "2023-04-05T00:00:00.000000000",
          "2023-04-06T00:00:00.000000000",
          "2023-04-10T00:00:00.000000000",
          "2023-04-11T00:00:00.000000000",
          "2023-04-12T00:00:00.000000000",
          "2023-04-13T00:00:00.000000000",
          "2023-04-17T00:00:00.000000000",
          "2023-04-18T00:00:00.000000000",
          "2023-04-19T00:00:00.000000000",
          "2023-04-20T00:00:00.000000000",
          "2023-04-21T00:00:00.000000000",
          "2023-04-24T00:00:00.000000000",
          "2023-04-25T00:00:00.000000000",
          "2023-04-26T00:00:00.000000000",
          "2023-04-27T00:00:00.000000000",
          "2023-04-28T00:00:00.000000000",
          "2023-05-02T00:00:00.000000000",
          "2023-05-03T00:00:00.000000000",
          "2023-05-04T00:00:00.000000000",
          "2023-05-05T00:00:00.000000000",
          "2023-05-08T00:00:00.000000000",
          "2023-05-09T00:00:00.000000000",
          "2023-05-10T00:00:00.000000000",
          "2023-05-11T00:00:00.000000000",
          "2023-05-12T00:00:00.000000000",
          "2023-05-15T00:00:00.000000000",
          "2023-05-16T00:00:00.000000000",
          "2023-05-17T00:00:00.000000000",
          "2023-05-18T00:00:00.000000000",
          "2023-05-19T00:00:00.000000000",
          "2023-05-22T00:00:00.000000000",
          "2023-05-23T00:00:00.000000000",
          "2023-05-24T00:00:00.000000000",
          "2023-05-25T00:00:00.000000000",
          "2023-05-26T00:00:00.000000000",
          "2023-05-29T00:00:00.000000000",
          "2023-05-30T00:00:00.000000000",
          "2023-05-31T00:00:00.000000000",
          "2023-06-01T00:00:00.000000000",
          "2023-06-02T00:00:00.000000000",
          "2023-06-05T00:00:00.000000000",
          "2023-06-06T00:00:00.000000000",
          "2023-06-07T00:00:00.000000000",
          "2023-06-08T00:00:00.000000000",
          "2023-06-09T00:00:00.000000000",
          "2023-06-12T00:00:00.000000000",
          "2023-06-13T00:00:00.000000000",
          "2023-06-14T00:00:00.000000000",
          "2023-06-15T00:00:00.000000000",
          "2023-06-16T00:00:00.000000000",
          "2023-06-19T00:00:00.000000000",
          "2023-06-20T00:00:00.000000000",
          "2023-06-21T00:00:00.000000000",
          "2023-06-22T00:00:00.000000000",
          "2023-06-23T00:00:00.000000000",
          "2023-06-26T00:00:00.000000000",
          "2023-06-27T00:00:00.000000000",
          "2023-06-28T00:00:00.000000000",
          "2023-06-30T00:00:00.000000000",
          "2023-07-03T00:00:00.000000000",
          "2023-07-04T00:00:00.000000000",
          "2023-07-05T00:00:00.000000000",
          "2023-07-06T00:00:00.000000000",
          "2023-07-07T00:00:00.000000000",
          "2023-07-10T00:00:00.000000000",
          "2023-07-11T00:00:00.000000000",
          "2023-07-12T00:00:00.000000000",
          "2023-07-13T00:00:00.000000000",
          "2023-07-14T00:00:00.000000000",
          "2023-07-17T00:00:00.000000000",
          "2023-07-18T00:00:00.000000000",
          "2023-07-19T00:00:00.000000000",
          "2023-07-20T00:00:00.000000000",
          "2023-07-21T00:00:00.000000000",
          "2023-07-24T00:00:00.000000000",
          "2023-07-25T00:00:00.000000000",
          "2023-07-26T00:00:00.000000000",
          "2023-07-27T00:00:00.000000000",
          "2023-07-28T00:00:00.000000000",
          "2023-07-31T00:00:00.000000000",
          "2023-08-01T00:00:00.000000000",
          "2023-08-02T00:00:00.000000000",
          "2023-08-03T00:00:00.000000000",
          "2023-08-04T00:00:00.000000000",
          "2023-08-07T00:00:00.000000000",
          "2023-08-08T00:00:00.000000000",
          "2023-08-09T00:00:00.000000000",
          "2023-08-10T00:00:00.000000000",
          "2023-08-11T00:00:00.000000000",
          "2023-08-14T00:00:00.000000000",
          "2023-08-16T00:00:00.000000000",
          "2023-08-17T00:00:00.000000000",
          "2023-08-18T00:00:00.000000000",
          "2023-08-21T00:00:00.000000000",
          "2023-08-22T00:00:00.000000000",
          "2023-08-23T00:00:00.000000000",
          "2023-08-24T00:00:00.000000000",
          "2023-08-25T00:00:00.000000000",
          "2023-08-28T00:00:00.000000000",
          "2023-08-29T00:00:00.000000000",
          "2023-08-30T00:00:00.000000000",
          "2023-08-31T00:00:00.000000000",
          "2023-09-01T00:00:00.000000000",
          "2023-09-04T00:00:00.000000000",
          "2023-09-05T00:00:00.000000000",
          "2023-09-06T00:00:00.000000000",
          "2023-09-07T00:00:00.000000000",
          "2023-09-08T00:00:00.000000000",
          "2023-09-11T00:00:00.000000000",
          "2023-09-12T00:00:00.000000000",
          "2023-09-13T00:00:00.000000000",
          "2023-09-14T00:00:00.000000000",
          "2023-09-15T00:00:00.000000000",
          "2023-09-18T00:00:00.000000000",
          "2023-09-20T00:00:00.000000000",
          "2023-09-21T00:00:00.000000000",
          "2023-09-22T00:00:00.000000000",
          "2023-09-25T00:00:00.000000000",
          "2023-09-26T00:00:00.000000000",
          "2023-09-27T00:00:00.000000000",
          "2023-09-28T00:00:00.000000000",
          "2023-09-29T00:00:00.000000000",
          "2023-10-03T00:00:00.000000000",
          "2023-10-04T00:00:00.000000000",
          "2023-10-05T00:00:00.000000000",
          "2023-10-06T00:00:00.000000000",
          "2023-10-09T00:00:00.000000000",
          "2023-10-10T00:00:00.000000000",
          "2023-10-11T00:00:00.000000000",
          "2023-10-12T00:00:00.000000000",
          "2023-10-13T00:00:00.000000000",
          "2023-10-16T00:00:00.000000000",
          "2023-10-17T00:00:00.000000000",
          "2023-10-18T00:00:00.000000000",
          "2023-10-19T00:00:00.000000000",
          "2023-10-20T00:00:00.000000000",
          "2023-10-23T00:00:00.000000000",
          "2023-10-25T00:00:00.000000000",
          "2023-10-26T00:00:00.000000000",
          "2023-10-27T00:00:00.000000000",
          "2023-10-30T00:00:00.000000000",
          "2023-10-31T00:00:00.000000000",
          "2023-11-01T00:00:00.000000000",
          "2023-11-02T00:00:00.000000000",
          "2023-11-03T00:00:00.000000000",
          "2023-11-06T00:00:00.000000000",
          "2023-11-07T00:00:00.000000000",
          "2023-11-08T00:00:00.000000000",
          "2023-11-09T00:00:00.000000000",
          "2023-11-10T00:00:00.000000000",
          "2023-11-13T00:00:00.000000000",
          "2023-11-15T00:00:00.000000000",
          "2023-11-16T00:00:00.000000000",
          "2023-11-17T00:00:00.000000000",
          "2023-11-20T00:00:00.000000000",
          "2023-11-21T00:00:00.000000000",
          "2023-11-22T00:00:00.000000000",
          "2023-11-23T00:00:00.000000000",
          "2023-11-24T00:00:00.000000000",
          "2023-11-28T00:00:00.000000000",
          "2023-11-29T00:00:00.000000000",
          "2023-11-30T00:00:00.000000000",
          "2023-12-01T00:00:00.000000000",
          "2023-12-04T00:00:00.000000000",
          "2023-12-05T00:00:00.000000000",
          "2023-12-06T00:00:00.000000000",
          "2023-12-07T00:00:00.000000000",
          "2023-12-08T00:00:00.000000000",
          "2023-12-11T00:00:00.000000000",
          "2023-12-12T00:00:00.000000000",
          "2023-12-13T00:00:00.000000000",
          "2023-12-14T00:00:00.000000000",
          "2023-12-15T00:00:00.000000000",
          "2023-12-18T00:00:00.000000000",
          "2023-12-19T00:00:00.000000000",
          "2023-12-20T00:00:00.000000000",
          "2023-12-21T00:00:00.000000000",
          "2023-12-22T00:00:00.000000000",
          "2023-12-26T00:00:00.000000000",
          "2023-12-27T00:00:00.000000000",
          "2023-12-28T00:00:00.000000000",
          "2023-12-29T00:00:00.000000000",
          "2024-01-01T00:00:00.000000000",
          "2024-01-02T00:00:00.000000000",
          "2024-01-03T00:00:00.000000000",
          "2024-01-04T00:00:00.000000000",
          "2024-01-05T00:00:00.000000000",
          "2024-01-08T00:00:00.000000000",
          "2024-01-09T00:00:00.000000000",
          "2024-01-10T00:00:00.000000000",
          "2024-01-11T00:00:00.000000000",
          "2024-01-12T00:00:00.000000000",
          "2024-01-15T00:00:00.000000000",
          "2024-01-16T00:00:00.000000000",
          "2024-01-17T00:00:00.000000000",
          "2024-01-18T00:00:00.000000000",
          "2024-01-19T00:00:00.000000000",
          "2024-01-23T00:00:00.000000000",
          "2024-01-24T00:00:00.000000000",
          "2024-01-25T00:00:00.000000000",
          "2024-01-29T00:00:00.000000000",
          "2024-01-30T00:00:00.000000000",
          "2024-01-31T00:00:00.000000000",
          "2024-02-01T00:00:00.000000000",
          "2024-02-02T00:00:00.000000000",
          "2024-02-05T00:00:00.000000000",
          "2024-02-06T00:00:00.000000000",
          "2024-02-07T00:00:00.000000000",
          "2024-02-08T00:00:00.000000000",
          "2024-02-09T00:00:00.000000000",
          "2024-02-12T00:00:00.000000000",
          "2024-02-13T00:00:00.000000000",
          "2024-02-14T00:00:00.000000000",
          "2024-02-15T00:00:00.000000000",
          "2024-02-16T00:00:00.000000000",
          "2024-02-19T00:00:00.000000000",
          "2024-02-20T00:00:00.000000000",
          "2024-02-21T00:00:00.000000000",
          "2024-02-22T00:00:00.000000000",
          "2024-02-23T00:00:00.000000000",
          "2024-02-26T00:00:00.000000000",
          "2024-02-27T00:00:00.000000000",
          "2024-02-28T00:00:00.000000000",
          "2024-02-29T00:00:00.000000000",
          "2024-03-01T00:00:00.000000000",
          "2024-03-04T00:00:00.000000000",
          "2024-03-05T00:00:00.000000000",
          "2024-03-06T00:00:00.000000000",
          "2024-03-07T00:00:00.000000000",
          "2024-03-11T00:00:00.000000000",
          "2024-03-12T00:00:00.000000000",
          "2024-03-13T00:00:00.000000000",
          "2024-03-14T00:00:00.000000000",
          "2024-03-15T00:00:00.000000000",
          "2024-03-18T00:00:00.000000000",
          "2024-03-19T00:00:00.000000000",
          "2024-03-20T00:00:00.000000000",
          "2024-03-21T00:00:00.000000000",
          "2024-03-22T00:00:00.000000000",
          "2024-03-26T00:00:00.000000000",
          "2024-03-27T00:00:00.000000000",
          "2024-03-28T00:00:00.000000000",
          "2024-04-01T00:00:00.000000000",
          "2024-04-02T00:00:00.000000000",
          "2024-04-03T00:00:00.000000000",
          "2024-04-04T00:00:00.000000000",
          "2024-04-05T00:00:00.000000000",
          "2024-04-08T00:00:00.000000000",
          "2024-04-09T00:00:00.000000000",
          "2024-04-10T00:00:00.000000000",
          "2024-04-12T00:00:00.000000000",
          "2024-04-15T00:00:00.000000000",
          "2024-04-16T00:00:00.000000000",
          "2024-04-18T00:00:00.000000000",
          "2024-04-19T00:00:00.000000000",
          "2024-04-22T00:00:00.000000000",
          "2024-04-23T00:00:00.000000000",
          "2024-04-24T00:00:00.000000000",
          "2024-04-25T00:00:00.000000000",
          "2024-04-26T00:00:00.000000000",
          "2024-04-29T00:00:00.000000000",
          "2024-04-30T00:00:00.000000000",
          "2024-05-02T00:00:00.000000000",
          "2024-05-03T00:00:00.000000000",
          "2024-05-06T00:00:00.000000000",
          "2024-05-07T00:00:00.000000000",
          "2024-05-08T00:00:00.000000000",
          "2024-05-09T00:00:00.000000000",
          "2024-05-10T00:00:00.000000000",
          "2024-05-13T00:00:00.000000000",
          "2024-05-14T00:00:00.000000000",
          "2024-05-15T00:00:00.000000000",
          "2024-05-16T00:00:00.000000000",
          "2024-05-17T00:00:00.000000000",
          "2024-05-21T00:00:00.000000000",
          "2024-05-22T00:00:00.000000000",
          "2024-05-23T00:00:00.000000000",
          "2024-05-24T00:00:00.000000000",
          "2024-05-27T00:00:00.000000000",
          "2024-05-28T00:00:00.000000000",
          "2024-05-29T00:00:00.000000000",
          "2024-05-30T00:00:00.000000000",
          "2024-05-31T00:00:00.000000000",
          "2024-06-03T00:00:00.000000000",
          "2024-06-04T00:00:00.000000000",
          "2024-06-05T00:00:00.000000000",
          "2024-06-06T00:00:00.000000000",
          "2024-06-07T00:00:00.000000000",
          "2024-06-10T00:00:00.000000000",
          "2024-06-11T00:00:00.000000000",
          "2024-06-12T00:00:00.000000000",
          "2024-06-13T00:00:00.000000000",
          "2024-06-14T00:00:00.000000000",
          "2024-06-18T00:00:00.000000000",
          "2024-06-19T00:00:00.000000000",
          "2024-06-20T00:00:00.000000000",
          "2024-06-21T00:00:00.000000000",
          "2024-06-24T00:00:00.000000000",
          "2024-06-25T00:00:00.000000000",
          "2024-06-26T00:00:00.000000000",
          "2024-06-27T00:00:00.000000000",
          "2024-06-28T00:00:00.000000000",
          "2024-07-01T00:00:00.000000000",
          "2024-07-02T00:00:00.000000000",
          "2024-07-03T00:00:00.000000000",
          "2024-07-04T00:00:00.000000000",
          "2024-07-05T00:00:00.000000000",
          "2024-07-08T00:00:00.000000000",
          "2024-07-09T00:00:00.000000000",
          "2024-07-10T00:00:00.000000000",
          "2024-07-11T00:00:00.000000000",
          "2024-07-12T00:00:00.000000000",
          "2024-07-15T00:00:00.000000000",
          "2024-07-16T00:00:00.000000000",
          "2024-07-18T00:00:00.000000000",
          "2024-07-19T00:00:00.000000000",
          "2024-07-22T00:00:00.000000000",
          "2024-07-23T00:00:00.000000000",
          "2024-07-24T00:00:00.000000000",
          "2024-07-25T00:00:00.000000000",
          "2024-07-26T00:00:00.000000000",
          "2024-07-29T00:00:00.000000000",
          "2024-07-30T00:00:00.000000000",
          "2024-07-31T00:00:00.000000000",
          "2024-08-01T00:00:00.000000000",
          "2024-08-02T00:00:00.000000000",
          "2024-08-05T00:00:00.000000000",
          "2024-08-06T00:00:00.000000000",
          "2024-08-07T00:00:00.000000000",
          "2024-08-08T00:00:00.000000000",
          "2024-08-09T00:00:00.000000000",
          "2024-08-12T00:00:00.000000000",
          "2024-08-13T00:00:00.000000000",
          "2024-08-14T00:00:00.000000000",
          "2024-08-16T00:00:00.000000000",
          "2024-08-19T00:00:00.000000000",
          "2024-08-20T00:00:00.000000000",
          "2024-08-21T00:00:00.000000000",
          "2024-08-22T00:00:00.000000000",
          "2024-08-23T00:00:00.000000000",
          "2024-08-26T00:00:00.000000000",
          "2024-08-27T00:00:00.000000000",
          "2024-08-28T00:00:00.000000000",
          "2024-08-29T00:00:00.000000000",
          "2024-08-30T00:00:00.000000000",
          "2024-09-02T00:00:00.000000000",
          "2024-09-03T00:00:00.000000000",
          "2024-09-04T00:00:00.000000000",
          "2024-09-05T00:00:00.000000000",
          "2024-09-06T00:00:00.000000000",
          "2024-09-09T00:00:00.000000000",
          "2024-09-10T00:00:00.000000000",
          "2024-09-11T00:00:00.000000000",
          "2024-09-12T00:00:00.000000000",
          "2024-09-13T00:00:00.000000000",
          "2024-09-16T00:00:00.000000000",
          "2024-09-17T00:00:00.000000000",
          "2024-09-18T00:00:00.000000000",
          "2024-09-19T00:00:00.000000000",
          "2024-09-20T00:00:00.000000000",
          "2024-09-23T00:00:00.000000000",
          "2024-09-24T00:00:00.000000000",
          "2024-09-25T00:00:00.000000000",
          "2024-09-26T00:00:00.000000000",
          "2024-09-27T00:00:00.000000000",
          "2024-09-30T00:00:00.000000000",
          "2024-10-01T00:00:00.000000000",
          "2024-10-03T00:00:00.000000000",
          "2024-10-04T00:00:00.000000000",
          "2024-10-07T00:00:00.000000000",
          "2024-10-08T00:00:00.000000000",
          "2024-10-09T00:00:00.000000000",
          "2024-10-10T00:00:00.000000000",
          "2024-10-11T00:00:00.000000000",
          "2024-10-14T00:00:00.000000000",
          "2024-10-15T00:00:00.000000000",
          "2024-10-16T00:00:00.000000000",
          "2024-10-17T00:00:00.000000000",
          "2024-10-18T00:00:00.000000000",
          "2024-10-21T00:00:00.000000000",
          "2024-10-22T00:00:00.000000000",
          "2024-10-23T00:00:00.000000000",
          "2024-10-24T00:00:00.000000000",
          "2024-10-25T00:00:00.000000000",
          "2024-10-28T00:00:00.000000000",
          "2024-10-29T00:00:00.000000000",
          "2024-10-30T00:00:00.000000000",
          "2024-10-31T00:00:00.000000000",
          "2024-11-01T00:00:00.000000000",
          "2024-11-04T00:00:00.000000000",
          "2024-11-05T00:00:00.000000000",
          "2024-11-06T00:00:00.000000000",
          "2024-11-07T00:00:00.000000000",
          "2024-11-08T00:00:00.000000000",
          "2024-11-11T00:00:00.000000000",
          "2024-11-12T00:00:00.000000000",
          "2024-11-13T00:00:00.000000000",
          "2024-11-14T00:00:00.000000000",
          "2024-11-18T00:00:00.000000000",
          "2024-11-19T00:00:00.000000000",
          "2024-11-21T00:00:00.000000000",
          "2024-11-22T00:00:00.000000000",
          "2024-11-25T00:00:00.000000000",
          "2024-11-26T00:00:00.000000000",
          "2024-11-27T00:00:00.000000000",
          "2024-11-28T00:00:00.000000000",
          "2024-11-29T00:00:00.000000000",
          "2024-12-02T00:00:00.000000000",
          "2024-12-03T00:00:00.000000000",
          "2024-12-04T00:00:00.000000000",
          "2024-12-05T00:00:00.000000000",
          "2024-12-06T00:00:00.000000000",
          "2024-12-09T00:00:00.000000000",
          "2024-12-10T00:00:00.000000000",
          "2024-12-11T00:00:00.000000000",
          "2024-12-12T00:00:00.000000000",
          "2024-12-13T00:00:00.000000000",
          "2024-12-16T00:00:00.000000000",
          "2024-12-17T00:00:00.000000000",
          "2024-12-18T00:00:00.000000000",
          "2024-12-19T00:00:00.000000000",
          "2024-12-20T00:00:00.000000000",
          "2024-12-23T00:00:00.000000000",
          "2024-12-24T00:00:00.000000000",
          "2024-12-26T00:00:00.000000000",
          "2024-12-27T00:00:00.000000000",
          "2024-12-30T00:00:00.000000000",
          "2024-12-31T00:00:00.000000000",
          "2025-01-01T00:00:00.000000000",
          "2025-01-02T00:00:00.000000000",
          "2025-01-03T00:00:00.000000000",
          "2025-01-06T00:00:00.000000000",
          "2025-01-07T00:00:00.000000000",
          "2025-01-08T00:00:00.000000000",
          "2025-01-09T00:00:00.000000000",
          "2025-01-10T00:00:00.000000000",
          "2025-01-13T00:00:00.000000000",
          "2025-01-14T00:00:00.000000000",
          "2025-01-15T00:00:00.000000000",
          "2025-01-16T00:00:00.000000000",
          "2025-01-17T00:00:00.000000000",
          "2025-01-20T00:00:00.000000000",
          "2025-01-21T00:00:00.000000000",
          "2025-01-22T00:00:00.000000000",
          "2025-01-23T00:00:00.000000000",
          "2025-01-24T00:00:00.000000000",
          "2025-01-27T00:00:00.000000000",
          "2025-01-28T00:00:00.000000000",
          "2025-01-29T00:00:00.000000000",
          "2025-01-30T00:00:00.000000000",
          "2025-01-31T00:00:00.000000000",
          "2025-02-01T00:00:00.000000000",
          "2025-02-03T00:00:00.000000000",
          "2025-02-04T00:00:00.000000000",
          "2025-02-05T00:00:00.000000000",
          "2025-02-06T00:00:00.000000000",
          "2025-02-07T00:00:00.000000000",
          "2025-02-10T00:00:00.000000000",
          "2025-02-11T00:00:00.000000000",
          "2025-02-12T00:00:00.000000000",
          "2025-02-13T00:00:00.000000000",
          "2025-02-14T00:00:00.000000000",
          "2025-02-17T00:00:00.000000000",
          "2025-02-18T00:00:00.000000000",
          "2025-02-19T00:00:00.000000000",
          "2025-02-20T00:00:00.000000000",
          "2025-02-21T00:00:00.000000000",
          "2025-02-24T00:00:00.000000000",
          "2025-02-25T00:00:00.000000000",
          "2025-02-27T00:00:00.000000000",
          "2025-02-28T00:00:00.000000000",
          "2025-03-03T00:00:00.000000000",
          "2025-03-04T00:00:00.000000000",
          "2025-03-05T00:00:00.000000000",
          "2025-03-06T00:00:00.000000000",
          "2025-03-07T00:00:00.000000000",
          "2025-03-10T00:00:00.000000000",
          "2025-03-11T00:00:00.000000000",
          "2025-03-12T00:00:00.000000000",
          "2025-03-13T00:00:00.000000000",
          "2025-03-17T00:00:00.000000000",
          "2025-03-18T00:00:00.000000000",
          "2025-03-19T00:00:00.000000000",
          "2025-03-20T00:00:00.000000000",
          "2025-03-21T00:00:00.000000000",
          "2025-03-24T00:00:00.000000000",
          "2025-03-25T00:00:00.000000000",
          "2025-03-26T00:00:00.000000000",
          "2025-03-27T00:00:00.000000000",
          "2025-03-28T00:00:00.000000000",
          "2025-04-01T00:00:00.000000000",
          "2025-04-02T00:00:00.000000000",
          "2025-04-03T00:00:00.000000000",
          "2025-04-04T00:00:00.000000000",
          "2025-04-07T00:00:00.000000000",
          "2025-04-08T00:00:00.000000000",
          "2025-04-09T00:00:00.000000000",
          "2025-04-11T00:00:00.000000000",
          "2025-04-15T00:00:00.000000000",
          "2025-04-16T00:00:00.000000000",
          "2025-04-17T00:00:00.000000000",
          "2025-04-21T00:00:00.000000000",
          "2025-04-22T00:00:00.000000000",
          "2025-04-23T00:00:00.000000000",
          "2025-04-24T00:00:00.000000000",
          "2025-04-25T00:00:00.000000000",
          "2025-04-28T00:00:00.000000000",
          "2025-04-29T00:00:00.000000000",
          "2025-04-30T00:00:00.000000000",
          "2025-05-02T00:00:00.000000000",
          "2025-05-05T00:00:00.000000000",
          "2025-05-06T00:00:00.000000000",
          "2025-05-07T00:00:00.000000000",
          "2025-05-08T00:00:00.000000000",
          "2025-05-09T00:00:00.000000000",
          "2025-05-12T00:00:00.000000000",
          "2025-05-13T00:00:00.000000000",
          "2025-05-14T00:00:00.000000000",
          "2025-05-15T00:00:00.000000000",
          "2025-05-16T00:00:00.000000000",
          "2025-05-19T00:00:00.000000000",
          "2025-05-20T00:00:00.000000000",
          "2025-05-21T00:00:00.000000000",
          "2025-05-22T00:00:00.000000000",
          "2025-05-23T00:00:00.000000000",
          "2025-05-26T00:00:00.000000000",
          "2025-05-27T00:00:00.000000000",
          "2025-05-28T00:00:00.000000000",
          "2025-05-29T00:00:00.000000000",
          "2025-05-30T00:00:00.000000000",
          "2025-06-02T00:00:00.000000000",
          "2025-06-03T00:00:00.000000000",
          "2025-06-04T00:00:00.000000000",
          "2025-06-05T00:00:00.000000000",
          "2025-06-06T00:00:00.000000000",
          "2025-06-09T00:00:00.000000000",
          "2025-06-10T00:00:00.000000000",
          "2025-06-11T00:00:00.000000000",
          "2025-06-12T00:00:00.000000000",
          "2025-06-13T00:00:00.000000000",
          "2025-06-16T00:00:00.000000000",
          "2025-06-17T00:00:00.000000000",
          "2025-06-18T00:00:00.000000000",
          "2025-06-19T00:00:00.000000000",
          "2025-06-20T00:00:00.000000000",
          "2025-06-23T00:00:00.000000000",
          "2025-06-24T00:00:00.000000000",
          "2025-06-25T00:00:00.000000000",
          "2025-06-26T00:00:00.000000000",
          "2025-06-27T00:00:00.000000000",
          "2025-06-30T00:00:00.000000000",
          "2025-07-01T00:00:00.000000000",
          "2025-07-02T00:00:00.000000000",
          "2025-07-03T00:00:00.000000000",
          "2025-07-04T00:00:00.000000000",
          "2025-07-07T00:00:00.000000000",
          "2025-07-08T00:00:00.000000000",
          "2025-07-09T00:00:00.000000000",
          "2025-07-10T00:00:00.000000000",
          "2025-07-11T00:00:00.000000000",
          "2025-07-14T00:00:00.000000000",
          "2025-07-15T00:00:00.000000000",
          "2025-07-16T00:00:00.000000000",
          "2025-07-17T00:00:00.000000000",
          "2025-07-18T00:00:00.000000000",
          "2025-07-21T00:00:00.000000000",
          "2025-07-22T00:00:00.000000000",
          "2025-07-23T00:00:00.000000000",
          "2025-07-24T00:00:00.000000000",
          "2025-07-25T00:00:00.000000000",
          "2025-07-28T00:00:00.000000000",
          "2025-07-29T00:00:00.000000000",
          "2025-07-30T00:00:00.000000000",
          "2025-07-31T00:00:00.000000000",
          "2025-08-01T00:00:00.000000000",
          "2025-08-04T00:00:00.000000000",
          "2025-08-05T00:00:00.000000000",
          "2025-08-06T00:00:00.000000000",
          "2025-08-07T00:00:00.000000000",
          "2025-08-08T00:00:00.000000000",
          "2025-08-11T00:00:00.000000000",
          "2025-08-12T00:00:00.000000000",
          "2025-08-13T00:00:00.000000000",
          "2025-08-14T00:00:00.000000000",
          "2025-08-18T00:00:00.000000000",
          "2025-08-19T00:00:00.000000000",
          "2025-08-20T00:00:00.000000000",
          "2025-08-21T00:00:00.000000000",
          "2025-08-22T00:00:00.000000000",
          "2025-08-25T00:00:00.000000000",
          "2025-08-26T00:00:00.000000000",
          "2025-08-27T00:00:00.000000000",
          "2025-08-28T00:00:00.000000000",
          "2025-08-29T00:00:00.000000000",
          "2025-09-01T00:00:00.000000000",
          "2025-09-02T00:00:00.000000000",
          "2025-09-03T00:00:00.000000000",
          "2025-09-04T00:00:00.000000000",
          "2025-09-05T00:00:00.000000000",
          "2025-09-08T00:00:00.000000000",
          "2025-09-09T00:00:00.000000000",
          "2025-09-10T00:00:00.000000000",
          "2025-09-11T00:00:00.000000000",
          "2025-09-12T00:00:00.000000000",
          "2025-09-15T00:00:00.000000000",
          "2025-09-16T00:00:00.000000000",
          "2025-09-17T00:00:00.000000000",
          "2025-09-18T00:00:00.000000000",
          "2025-09-19T00:00:00.000000000",
          "2025-09-22T00:00:00.000000000",
          "2025-09-23T00:00:00.000000000",
          "2025-09-24T00:00:00.000000000",
          "2025-09-25T00:00:00.000000000",
          "2025-09-26T00:00:00.000000000"
         ],
         "xaxis": "x",
         "y": {
          "bdata": "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",
          "dtype": "f8"
         },
         "yaxis": "y"
        },
        {
         "line": {
          "color": "purple"
         },
         "name": "RSI",
         "type": "scatter",
         "x": [
          "2022-12-07T00:00:00.000000000",
          "2022-12-08T00:00:00.000000000",
          "2022-12-09T00:00:00.000000000",
          "2022-12-12T00:00:00.000000000",
          "2022-12-13T00:00:00.000000000",
          "2022-12-14T00:00:00.000000000",
          "2022-12-15T00:00:00.000000000",
          "2022-12-16T00:00:00.000000000",
          "2022-12-19T00:00:00.000000000",
          "2022-12-20T00:00:00.000000000",
          "2022-12-21T00:00:00.000000000",
          "2022-12-22T00:00:00.000000000",
          "2022-12-23T00:00:00.000000000",
          "2022-12-26T00:00:00.000000000",
          "2022-12-27T00:00:00.000000000",
          "2022-12-28T00:00:00.000000000",
          "2022-12-29T00:00:00.000000000",
          "2022-12-30T00:00:00.000000000",
          "2023-01-02T00:00:00.000000000",
          "2023-01-03T00:00:00.000000000",
          "2023-01-04T00:00:00.000000000",
          "2023-01-05T00:00:00.000000000",
          "2023-01-06T00:00:00.000000000",
          "2023-01-09T00:00:00.000000000",
          "2023-01-10T00:00:00.000000000",
          "2023-01-11T00:00:00.000000000",
          "2023-01-12T00:00:00.000000000",
          "2023-01-13T00:00:00.000000000",
          "2023-01-16T00:00:00.000000000",
          "2023-01-17T00:00:00.000000000",
          "2023-01-18T00:00:00.000000000",
          "2023-01-19T00:00:00.000000000",
          "2023-01-20T00:00:00.000000000",
          "2023-01-23T00:00:00.000000000",
          "2023-01-24T00:00:00.000000000",
          "2023-01-25T00:00:00.000000000",
          "2023-01-27T00:00:00.000000000",
          "2023-01-30T00:00:00.000000000",
          "2023-01-31T00:00:00.000000000",
          "2023-02-01T00:00:00.000000000",
          "2023-02-02T00:00:00.000000000",
          "2023-02-03T00:00:00.000000000",
          "2023-02-06T00:00:00.000000000",
          "2023-02-07T00:00:00.000000000",
          "2023-02-08T00:00:00.000000000",
          "2023-02-09T00:00:00.000000000",
          "2023-02-10T00:00:00.000000000",
          "2023-02-13T00:00:00.000000000",
          "2023-02-14T00:00:00.000000000",
          "2023-02-15T00:00:00.000000000",
          "2023-02-16T00:00:00.000000000",
          "2023-02-17T00:00:00.000000000",
          "2023-02-20T00:00:00.000000000",
          "2023-02-21T00:00:00.000000000",
          "2023-02-22T00:00:00.000000000",
          "2023-02-23T00:00:00.000000000",
          "2023-02-24T00:00:00.000000000",
          "2023-02-27T00:00:00.000000000",
          "2023-02-28T00:00:00.000000000",
          "2023-03-01T00:00:00.000000000",
          "2023-03-02T00:00:00.000000000",
          "2023-03-03T00:00:00.000000000",
          "2023-03-06T00:00:00.000000000",
          "2023-03-08T00:00:00.000000000",
          "2023-03-09T00:00:00.000000000",
          "2023-03-10T00:00:00.000000000",
          "2023-03-13T00:00:00.000000000",
          "2023-03-14T00:00:00.000000000",
          "2023-03-15T00:00:00.000000000",
          "2023-03-16T00:00:00.000000000",
          "2023-03-17T00:00:00.000000000",
          "2023-03-20T00:00:00.000000000",
          "2023-03-21T00:00:00.000000000",
          "2023-03-22T00:00:00.000000000",
          "2023-03-23T00:00:00.000000000",
          "2023-03-24T00:00:00.000000000",
          "2023-03-27T00:00:00.000000000",
          "2023-03-28T00:00:00.000000000",
          "2023-03-29T00:00:00.000000000",
          "2023-03-31T00:00:00.000000000",
          "2023-04-03T00:00:00.000000000",
          "2023-04-05T00:00:00.000000000",
          "2023-04-06T00:00:00.000000000",
          "2023-04-10T00:00:00.000000000",
          "2023-04-11T00:00:00.000000000",
          "2023-04-12T00:00:00.000000000",
          "2023-04-13T00:00:00.000000000",
          "2023-04-17T00:00:00.000000000",
          "2023-04-18T00:00:00.000000000",
          "2023-04-19T00:00:00.000000000",
          "2023-04-20T00:00:00.000000000",
          "2023-04-21T00:00:00.000000000",
          "2023-04-24T00:00:00.000000000",
          "2023-04-25T00:00:00.000000000",
          "2023-04-26T00:00:00.000000000",
          "2023-04-27T00:00:00.000000000",
          "2023-04-28T00:00:00.000000000",
          "2023-05-02T00:00:00.000000000",
          "2023-05-03T00:00:00.000000000",
          "2023-05-04T00:00:00.000000000",
          "2023-05-05T00:00:00.000000000",
          "2023-05-08T00:00:00.000000000",
          "2023-05-09T00:00:00.000000000",
          "2023-05-10T00:00:00.000000000",
          "2023-05-11T00:00:00.000000000",
          "2023-05-12T00:00:00.000000000",
          "2023-05-15T00:00:00.000000000",
          "2023-05-16T00:00:00.000000000",
          "2023-05-17T00:00:00.000000000",
          "2023-05-18T00:00:00.000000000",
          "2023-05-19T00:00:00.000000000",
          "2023-05-22T00:00:00.000000000",
          "2023-05-23T00:00:00.000000000",
          "2023-05-24T00:00:00.000000000",
          "2023-05-25T00:00:00.000000000",
          "2023-05-26T00:00:00.000000000",
          "2023-05-29T00:00:00.000000000",
          "2023-05-30T00:00:00.000000000",
          "2023-05-31T00:00:00.000000000",
          "2023-06-01T00:00:00.000000000",
          "2023-06-02T00:00:00.000000000",
          "2023-06-05T00:00:00.000000000",
          "2023-06-06T00:00:00.000000000",
          "2023-06-07T00:00:00.000000000",
          "2023-06-08T00:00:00.000000000",
          "2023-06-09T00:00:00.000000000",
          "2023-06-12T00:00:00.000000000",
          "2023-06-13T00:00:00.000000000",
          "2023-06-14T00:00:00.000000000",
          "2023-06-15T00:00:00.000000000",
          "2023-06-16T00:00:00.000000000",
          "2023-06-19T00:00:00.000000000",
          "2023-06-20T00:00:00.000000000",
          "2023-06-21T00:00:00.000000000",
          "2023-06-22T00:00:00.000000000",
          "2023-06-23T00:00:00.000000000",
          "2023-06-26T00:00:00.000000000",
          "2023-06-27T00:00:00.000000000",
          "2023-06-28T00:00:00.000000000",
          "2023-06-30T00:00:00.000000000",
          "2023-07-03T00:00:00.000000000",
          "2023-07-04T00:00:00.000000000",
          "2023-07-05T00:00:00.000000000",
          "2023-07-06T00:00:00.000000000",
          "2023-07-07T00:00:00.000000000",
          "2023-07-10T00:00:00.000000000",
          "2023-07-11T00:00:00.000000000",
          "2023-07-12T00:00:00.000000000",
          "2023-07-13T00:00:00.000000000",
          "2023-07-14T00:00:00.000000000",
          "2023-07-17T00:00:00.000000000",
          "2023-07-18T00:00:00.000000000",
          "2023-07-19T00:00:00.000000000",
          "2023-07-20T00:00:00.000000000",
          "2023-07-21T00:00:00.000000000",
          "2023-07-24T00:00:00.000000000",
          "2023-07-25T00:00:00.000000000",
          "2023-07-26T00:00:00.000000000",
          "2023-07-27T00:00:00.000000000",
          "2023-07-28T00:00:00.000000000",
          "2023-07-31T00:00:00.000000000",
          "2023-08-01T00:00:00.000000000",
          "2023-08-02T00:00:00.000000000",
          "2023-08-03T00:00:00.000000000",
          "2023-08-04T00:00:00.000000000",
          "2023-08-07T00:00:00.000000000",
          "2023-08-08T00:00:00.000000000",
          "2023-08-09T00:00:00.000000000",
          "2023-08-10T00:00:00.000000000",
          "2023-08-11T00:00:00.000000000",
          "2023-08-14T00:00:00.000000000",
          "2023-08-16T00:00:00.000000000",
          "2023-08-17T00:00:00.000000000",
          "2023-08-18T00:00:00.000000000",
          "2023-08-21T00:00:00.000000000",
          "2023-08-22T00:00:00.000000000",
          "2023-08-23T00:00:00.000000000",
          "2023-08-24T00:00:00.000000000",
          "2023-08-25T00:00:00.000000000",
          "2023-08-28T00:00:00.000000000",
          "2023-08-29T00:00:00.000000000",
          "2023-08-30T00:00:00.000000000",
          "2023-08-31T00:00:00.000000000",
          "2023-09-01T00:00:00.000000000",
          "2023-09-04T00:00:00.000000000",
          "2023-09-05T00:00:00.000000000",
          "2023-09-06T00:00:00.000000000",
          "2023-09-07T00:00:00.000000000",
          "2023-09-08T00:00:00.000000000",
          "2023-09-11T00:00:00.000000000",
          "2023-09-12T00:00:00.000000000",
          "2023-09-13T00:00:00.000000000",
          "2023-09-14T00:00:00.000000000",
          "2023-09-15T00:00:00.000000000",
          "2023-09-18T00:00:00.000000000",
          "2023-09-20T00:00:00.000000000",
          "2023-09-21T00:00:00.000000000",
          "2023-09-22T00:00:00.000000000",
          "2023-09-25T00:00:00.000000000",
          "2023-09-26T00:00:00.000000000",
          "2023-09-27T00:00:00.000000000",
          "2023-09-28T00:00:00.000000000",
          "2023-09-29T00:00:00.000000000",
          "2023-10-03T00:00:00.000000000",
          "2023-10-04T00:00:00.000000000",
          "2023-10-05T00:00:00.000000000",
          "2023-10-06T00:00:00.000000000",
          "2023-10-09T00:00:00.000000000",
          "2023-10-10T00:00:00.000000000",
          "2023-10-11T00:00:00.000000000",
          "2023-10-12T00:00:00.000000000",
          "2023-10-13T00:00:00.000000000",
          "2023-10-16T00:00:00.000000000",
          "2023-10-17T00:00:00.000000000",
          "2023-10-18T00:00:00.000000000",
          "2023-10-19T00:00:00.000000000",
          "2023-10-20T00:00:00.000000000",
          "2023-10-23T00:00:00.000000000",
          "2023-10-25T00:00:00.000000000",
          "2023-10-26T00:00:00.000000000",
          "2023-10-27T00:00:00.000000000",
          "2023-10-30T00:00:00.000000000",
          "2023-10-31T00:00:00.000000000",
          "2023-11-01T00:00:00.000000000",
          "2023-11-02T00:00:00.000000000",
          "2023-11-03T00:00:00.000000000",
          "2023-11-06T00:00:00.000000000",
          "2023-11-07T00:00:00.000000000",
          "2023-11-08T00:00:00.000000000",
          "2023-11-09T00:00:00.000000000",
          "2023-11-10T00:00:00.000000000",
          "2023-11-13T00:00:00.000000000",
          "2023-11-15T00:00:00.000000000",
          "2023-11-16T00:00:00.000000000",
          "2023-11-17T00:00:00.000000000",
          "2023-11-20T00:00:00.000000000",
          "2023-11-21T00:00:00.000000000",
          "2023-11-22T00:00:00.000000000",
          "2023-11-23T00:00:00.000000000",
          "2023-11-24T00:00:00.000000000",
          "2023-11-28T00:00:00.000000000",
          "2023-11-29T00:00:00.000000000",
          "2023-11-30T00:00:00.000000000",
          "2023-12-01T00:00:00.000000000",
          "2023-12-04T00:00:00.000000000",
          "2023-12-05T00:00:00.000000000",
          "2023-12-06T00:00:00.000000000",
          "2023-12-07T00:00:00.000000000",
          "2023-12-08T00:00:00.000000000",
          "2023-12-11T00:00:00.000000000",
          "2023-12-12T00:00:00.000000000",
          "2023-12-13T00:00:00.000000000",
          "2023-12-14T00:00:00.000000000",
          "2023-12-15T00:00:00.000000000",
          "2023-12-18T00:00:00.000000000",
          "2023-12-19T00:00:00.000000000",
          "2023-12-20T00:00:00.000000000",
          "2023-12-21T00:00:00.000000000",
          "2023-12-22T00:00:00.000000000",
          "2023-12-26T00:00:00.000000000",
          "2023-12-27T00:00:00.000000000",
          "2023-12-28T00:00:00.000000000",
          "2023-12-29T00:00:00.000000000",
          "2024-01-01T00:00:00.000000000",
          "2024-01-02T00:00:00.000000000",
          "2024-01-03T00:00:00.000000000",
          "2024-01-04T00:00:00.000000000",
          "2024-01-05T00:00:00.000000000",
          "2024-01-08T00:00:00.000000000",
          "2024-01-09T00:00:00.000000000",
          "2024-01-10T00:00:00.000000000",
          "2024-01-11T00:00:00.000000000",
          "2024-01-12T00:00:00.000000000",
          "2024-01-15T00:00:00.000000000",
          "2024-01-16T00:00:00.000000000",
          "2024-01-17T00:00:00.000000000",
          "2024-01-18T00:00:00.000000000",
          "2024-01-19T00:00:00.000000000",
          "2024-01-23T00:00:00.000000000",
          "2024-01-24T00:00:00.000000000",
          "2024-01-25T00:00:00.000000000",
          "2024-01-29T00:00:00.000000000",
          "2024-01-30T00:00:00.000000000",
          "2024-01-31T00:00:00.000000000",
          "2024-02-01T00:00:00.000000000",
          "2024-02-02T00:00:00.000000000",
          "2024-02-05T00:00:00.000000000",
          "2024-02-06T00:00:00.000000000",
          "2024-02-07T00:00:00.000000000",
          "2024-02-08T00:00:00.000000000",
          "2024-02-09T00:00:00.000000000",
          "2024-02-12T00:00:00.000000000",
          "2024-02-13T00:00:00.000000000",
          "2024-02-14T00:00:00.000000000",
          "2024-02-15T00:00:00.000000000",
          "2024-02-16T00:00:00.000000000",
          "2024-02-19T00:00:00.000000000",
          "2024-02-20T00:00:00.000000000",
          "2024-02-21T00:00:00.000000000",
          "2024-02-22T00:00:00.000000000",
          "2024-02-23T00:00:00.000000000",
          "2024-02-26T00:00:00.000000000",
          "2024-02-27T00:00:00.000000000",
          "2024-02-28T00:00:00.000000000",
          "2024-02-29T00:00:00.000000000",
          "2024-03-01T00:00:00.000000000",
          "2024-03-04T00:00:00.000000000",
          "2024-03-05T00:00:00.000000000",
          "2024-03-06T00:00:00.000000000",
          "2024-03-07T00:00:00.000000000",
          "2024-03-11T00:00:00.000000000",
          "2024-03-12T00:00:00.000000000",
          "2024-03-13T00:00:00.000000000",
          "2024-03-14T00:00:00.000000000",
          "2024-03-15T00:00:00.000000000",
          "2024-03-18T00:00:00.000000000",
          "2024-03-19T00:00:00.000000000",
          "2024-03-20T00:00:00.000000000",
          "2024-03-21T00:00:00.000000000",
          "2024-03-22T00:00:00.000000000",
          "2024-03-26T00:00:00.000000000",
          "2024-03-27T00:00:00.000000000",
          "2024-03-28T00:00:00.000000000",
          "2024-04-01T00:00:00.000000000",
          "2024-04-02T00:00:00.000000000",
          "2024-04-03T00:00:00.000000000",
          "2024-04-04T00:00:00.000000000",
          "2024-04-05T00:00:00.000000000",
          "2024-04-08T00:00:00.000000000",
          "2024-04-09T00:00:00.000000000",
          "2024-04-10T00:00:00.000000000",
          "2024-04-12T00:00:00.000000000",
          "2024-04-15T00:00:00.000000000",
          "2024-04-16T00:00:00.000000000",
          "2024-04-18T00:00:00.000000000",
          "2024-04-19T00:00:00.000000000",
          "2024-04-22T00:00:00.000000000",
          "2024-04-23T00:00:00.000000000",
          "2024-04-24T00:00:00.000000000",
          "2024-04-25T00:00:00.000000000",
          "2024-04-26T00:00:00.000000000",
          "2024-04-29T00:00:00.000000000",
          "2024-04-30T00:00:00.000000000",
          "2024-05-02T00:00:00.000000000",
          "2024-05-03T00:00:00.000000000",
          "2024-05-06T00:00:00.000000000",
          "2024-05-07T00:00:00.000000000",
          "2024-05-08T00:00:00.000000000",
          "2024-05-09T00:00:00.000000000",
          "2024-05-10T00:00:00.000000000",
          "2024-05-13T00:00:00.000000000",
          "2024-05-14T00:00:00.000000000",
          "2024-05-15T00:00:00.000000000",
          "2024-05-16T00:00:00.000000000",
          "2024-05-17T00:00:00.000000000",
          "2024-05-21T00:00:00.000000000",
          "2024-05-22T00:00:00.000000000",
          "2024-05-23T00:00:00.000000000",
          "2024-05-24T00:00:00.000000000",
          "2024-05-27T00:00:00.000000000",
          "2024-05-28T00:00:00.000000000",
          "2024-05-29T00:00:00.000000000",
          "2024-05-30T00:00:00.000000000",
          "2024-05-31T00:00:00.000000000",
          "2024-06-03T00:00:00.000000000",
          "2024-06-04T00:00:00.000000000",
          "2024-06-05T00:00:00.000000000",
          "2024-06-06T00:00:00.000000000",
          "2024-06-07T00:00:00.000000000",
          "2024-06-10T00:00:00.000000000",
          "2024-06-11T00:00:00.000000000",
          "2024-06-12T00:00:00.000000000",
          "2024-06-13T00:00:00.000000000",
          "2024-06-14T00:00:00.000000000",
          "2024-06-18T00:00:00.000000000",
          "2024-06-19T00:00:00.000000000",
          "2024-06-20T00:00:00.000000000",
          "2024-06-21T00:00:00.000000000",
          "2024-06-24T00:00:00.000000000",
          "2024-06-25T00:00:00.000000000",
          "2024-06-26T00:00:00.000000000",
          "2024-06-27T00:00:00.000000000",
          "2024-06-28T00:00:00.000000000",
          "2024-07-01T00:00:00.000000000",
          "2024-07-02T00:00:00.000000000",
          "2024-07-03T00:00:00.000000000",
          "2024-07-04T00:00:00.000000000",
          "2024-07-05T00:00:00.000000000",
          "2024-07-08T00:00:00.000000000",
          "2024-07-09T00:00:00.000000000",
          "2024-07-10T00:00:00.000000000",
          "2024-07-11T00:00:00.000000000",
          "2024-07-12T00:00:00.000000000",
          "2024-07-15T00:00:00.000000000",
          "2024-07-16T00:00:00.000000000",
          "2024-07-18T00:00:00.000000000",
          "2024-07-19T00:00:00.000000000",
          "2024-07-22T00:00:00.000000000",
          "2024-07-23T00:00:00.000000000",
          "2024-07-24T00:00:00.000000000",
          "2024-07-25T00:00:00.000000000",
          "2024-07-26T00:00:00.000000000",
          "2024-07-29T00:00:00.000000000",
          "2024-07-30T00:00:00.000000000",
          "2024-07-31T00:00:00.000000000",
          "2024-08-01T00:00:00.000000000",
          "2024-08-02T00:00:00.000000000",
          "2024-08-05T00:00:00.000000000",
          "2024-08-06T00:00:00.000000000",
          "2024-08-07T00:00:00.000000000",
          "2024-08-08T00:00:00.000000000",
          "2024-08-09T00:00:00.000000000",
          "2024-08-12T00:00:00.000000000",
          "2024-08-13T00:00:00.000000000",
          "2024-08-14T00:00:00.000000000",
          "2024-08-16T00:00:00.000000000",
          "2024-08-19T00:00:00.000000000",
          "2024-08-20T00:00:00.000000000",
          "2024-08-21T00:00:00.000000000",
          "2024-08-22T00:00:00.000000000",
          "2024-08-23T00:00:00.000000000",
          "2024-08-26T00:00:00.000000000",
          "2024-08-27T00:00:00.000000000",
          "2024-08-28T00:00:00.000000000",
          "2024-08-29T00:00:00.000000000",
          "2024-08-30T00:00:00.000000000",
          "2024-09-02T00:00:00.000000000",
          "2024-09-03T00:00:00.000000000",
          "2024-09-04T00:00:00.000000000",
          "2024-09-05T00:00:00.000000000",
          "2024-09-06T00:00:00.000000000",
          "2024-09-09T00:00:00.000000000",
          "2024-09-10T00:00:00.000000000",
          "2024-09-11T00:00:00.000000000",
          "2024-09-12T00:00:00.000000000",
          "2024-09-13T00:00:00.000000000",
          "2024-09-16T00:00:00.000000000",
          "2024-09-17T00:00:00.000000000",
          "2024-09-18T00:00:00.000000000",
          "2024-09-19T00:00:00.000000000",
          "2024-09-20T00:00:00.000000000",
          "2024-09-23T00:00:00.000000000",
          "2024-09-24T00:00:00.000000000",
          "2024-09-25T00:00:00.000000000",
          "2024-09-26T00:00:00.000000000",
          "2024-09-27T00:00:00.000000000",
          "2024-09-30T00:00:00.000000000",
          "2024-10-01T00:00:00.000000000",
          "2024-10-03T00:00:00.000000000",
          "2024-10-04T00:00:00.000000000",
          "2024-10-07T00:00:00.000000000",
          "2024-10-08T00:00:00.000000000",
          "2024-10-09T00:00:00.000000000",
          "2024-10-10T00:00:00.000000000",
          "2024-10-11T00:00:00.000000000",
          "2024-10-14T00:00:00.000000000",
          "2024-10-15T00:00:00.000000000",
          "2024-10-16T00:00:00.000000000",
          "2024-10-17T00:00:00.000000000",
          "2024-10-18T00:00:00.000000000",
          "2024-10-21T00:00:00.000000000",
          "2024-10-22T00:00:00.000000000",
          "2024-10-23T00:00:00.000000000",
          "2024-10-24T00:00:00.000000000",
          "2024-10-25T00:00:00.000000000",
          "2024-10-28T00:00:00.000000000",
          "2024-10-29T00:00:00.000000000",
          "2024-10-30T00:00:00.000000000",
          "2024-10-31T00:00:00.000000000",
          "2024-11-01T00:00:00.000000000",
          "2024-11-04T00:00:00.000000000",
          "2024-11-05T00:00:00.000000000",
          "2024-11-06T00:00:00.000000000",
          "2024-11-07T00:00:00.000000000",
          "2024-11-08T00:00:00.000000000",
          "2024-11-11T00:00:00.000000000",
          "2024-11-12T00:00:00.000000000",
          "2024-11-13T00:00:00.000000000",
          "2024-11-14T00:00:00.000000000",
          "2024-11-18T00:00:00.000000000",
          "2024-11-19T00:00:00.000000000",
          "2024-11-21T00:00:00.000000000",
          "2024-11-22T00:00:00.000000000",
          "2024-11-25T00:00:00.000000000",
          "2024-11-26T00:00:00.000000000",
          "2024-11-27T00:00:00.000000000",
          "2024-11-28T00:00:00.000000000",
          "2024-11-29T00:00:00.000000000",
          "2024-12-02T00:00:00.000000000",
          "2024-12-03T00:00:00.000000000",
          "2024-12-04T00:00:00.000000000",
          "2024-12-05T00:00:00.000000000",
          "2024-12-06T00:00:00.000000000",
          "2024-12-09T00:00:00.000000000",
          "2024-12-10T00:00:00.000000000",
          "2024-12-11T00:00:00.000000000",
          "2024-12-12T00:00:00.000000000",
          "2024-12-13T00:00:00.000000000",
          "2024-12-16T00:00:00.000000000",
          "2024-12-17T00:00:00.000000000",
          "2024-12-18T00:00:00.000000000",
          "2024-12-19T00:00:00.000000000",
          "2024-12-20T00:00:00.000000000",
          "2024-12-23T00:00:00.000000000",
          "2024-12-24T00:00:00.000000000",
          "2024-12-26T00:00:00.000000000",
          "2024-12-27T00:00:00.000000000",
          "2024-12-30T00:00:00.000000000",
          "2024-12-31T00:00:00.000000000",
          "2025-01-01T00:00:00.000000000",
          "2025-01-02T00:00:00.000000000",
          "2025-01-03T00:00:00.000000000",
          "2025-01-06T00:00:00.000000000",
          "2025-01-07T00:00:00.000000000",
          "2025-01-08T00:00:00.000000000",
          "2025-01-09T00:00:00.000000000",
          "2025-01-10T00:00:00.000000000",
          "2025-01-13T00:00:00.000000000",
          "2025-01-14T00:00:00.000000000",
          "2025-01-15T00:00:00.000000000",
          "2025-01-16T00:00:00.000000000",
          "2025-01-17T00:00:00.000000000",
          "2025-01-20T00:00:00.000000000",
          "2025-01-21T00:00:00.000000000",
          "2025-01-22T00:00:00.000000000",
          "2025-01-23T00:00:00.000000000",
          "2025-01-24T00:00:00.000000000",
          "2025-01-27T00:00:00.000000000",
          "2025-01-28T00:00:00.000000000",
          "2025-01-29T00:00:00.000000000",
          "2025-01-30T00:00:00.000000000",
          "2025-01-31T00:00:00.000000000",
          "2025-02-01T00:00:00.000000000",
          "2025-02-03T00:00:00.000000000",
          "2025-02-04T00:00:00.000000000",
          "2025-02-05T00:00:00.000000000",
          "2025-02-06T00:00:00.000000000",
          "2025-02-07T00:00:00.000000000",
          "2025-02-10T00:00:00.000000000",
          "2025-02-11T00:00:00.000000000",
          "2025-02-12T00:00:00.000000000",
          "2025-02-13T00:00:00.000000000",
          "2025-02-14T00:00:00.000000000",
          "2025-02-17T00:00:00.000000000",
          "2025-02-18T00:00:00.000000000",
          "2025-02-19T00:00:00.000000000",
          "2025-02-20T00:00:00.000000000",
          "2025-02-21T00:00:00.000000000",
          "2025-02-24T00:00:00.000000000",
          "2025-02-25T00:00:00.000000000",
          "2025-02-27T00:00:00.000000000",
          "2025-02-28T00:00:00.000000000",
          "2025-03-03T00:00:00.000000000",
          "2025-03-04T00:00:00.000000000",
          "2025-03-05T00:00:00.000000000",
          "2025-03-06T00:00:00.000000000",
          "2025-03-07T00:00:00.000000000",
          "2025-03-10T00:00:00.000000000",
          "2025-03-11T00:00:00.000000000",
          "2025-03-12T00:00:00.000000000",
          "2025-03-13T00:00:00.000000000",
          "2025-03-17T00:00:00.000000000",
          "2025-03-18T00:00:00.000000000",
          "2025-03-19T00:00:00.000000000",
          "2025-03-20T00:00:00.000000000",
          "2025-03-21T00:00:00.000000000",
          "2025-03-24T00:00:00.000000000",
          "2025-03-25T00:00:00.000000000",
          "2025-03-26T00:00:00.000000000",
          "2025-03-27T00:00:00.000000000",
          "2025-03-28T00:00:00.000000000",
          "2025-04-01T00:00:00.000000000",
          "2025-04-02T00:00:00.000000000",
          "2025-04-03T00:00:00.000000000",
          "2025-04-04T00:00:00.000000000",
          "2025-04-07T00:00:00.000000000",
          "2025-04-08T00:00:00.000000000",
          "2025-04-09T00:00:00.000000000",
          "2025-04-11T00:00:00.000000000",
          "2025-04-15T00:00:00.000000000",
          "2025-04-16T00:00:00.000000000",
          "2025-04-17T00:00:00.000000000",
          "2025-04-21T00:00:00.000000000",
          "2025-04-22T00:00:00.000000000",
          "2025-04-23T00:00:00.000000000",
          "2025-04-24T00:00:00.000000000",
          "2025-04-25T00:00:00.000000000",
          "2025-04-28T00:00:00.000000000",
          "2025-04-29T00:00:00.000000000",
          "2025-04-30T00:00:00.000000000",
          "2025-05-02T00:00:00.000000000",
          "2025-05-05T00:00:00.000000000",
          "2025-05-06T00:00:00.000000000",
          "2025-05-07T00:00:00.000000000",
          "2025-05-08T00:00:00.000000000",
          "2025-05-09T00:00:00.000000000",
          "2025-05-12T00:00:00.000000000",
          "2025-05-13T00:00:00.000000000",
          "2025-05-14T00:00:00.000000000",
          "2025-05-15T00:00:00.000000000",
          "2025-05-16T00:00:00.000000000",
          "2025-05-19T00:00:00.000000000",
          "2025-05-20T00:00:00.000000000",
          "2025-05-21T00:00:00.000000000",
          "2025-05-22T00:00:00.000000000",
          "2025-05-23T00:00:00.000000000",
          "2025-05-26T00:00:00.000000000",
          "2025-05-27T00:00:00.000000000",
          "2025-05-28T00:00:00.000000000",
          "2025-05-29T00:00:00.000000000",
          "2025-05-30T00:00:00.000000000",
          "2025-06-02T00:00:00.000000000",
          "2025-06-03T00:00:00.000000000",
          "2025-06-04T00:00:00.000000000",
          "2025-06-05T00:00:00.000000000",
          "2025-06-06T00:00:00.000000000",
          "2025-06-09T00:00:00.000000000",
          "2025-06-10T00:00:00.000000000",
          "2025-06-11T00:00:00.000000000",
          "2025-06-12T00:00:00.000000000",
          "2025-06-13T00:00:00.000000000",
          "2025-06-16T00:00:00.000000000",
          "2025-06-17T00:00:00.000000000",
          "2025-06-18T00:00:00.000000000",
          "2025-06-19T00:00:00.000000000",
          "2025-06-20T00:00:00.000000000",
          "2025-06-23T00:00:00.000000000",
          "2025-06-24T00:00:00.000000000",
          "2025-06-25T00:00:00.000000000",
          "2025-06-26T00:00:00.000000000",
          "2025-06-27T00:00:00.000000000",
          "2025-06-30T00:00:00.000000000",
          "2025-07-01T00:00:00.000000000",
          "2025-07-02T00:00:00.000000000",
          "2025-07-03T00:00:00.000000000",
          "2025-07-04T00:00:00.000000000",
          "2025-07-07T00:00:00.000000000",
          "2025-07-08T00:00:00.000000000",
          "2025-07-09T00:00:00.000000000",
          "2025-07-10T00:00:00.000000000",
          "2025-07-11T00:00:00.000000000",
          "2025-07-14T00:00:00.000000000",
          "2025-07-15T00:00:00.000000000",
          "2025-07-16T00:00:00.000000000",
          "2025-07-17T00:00:00.000000000",
          "2025-07-18T00:00:00.000000000",
          "2025-07-21T00:00:00.000000000",
          "2025-07-22T00:00:00.000000000",
          "2025-07-23T00:00:00.000000000",
          "2025-07-24T00:00:00.000000000",
          "2025-07-25T00:00:00.000000000",
          "2025-07-28T00:00:00.000000000",
          "2025-07-29T00:00:00.000000000",
          "2025-07-30T00:00:00.000000000",
          "2025-07-31T00:00:00.000000000",
          "2025-08-01T00:00:00.000000000",
          "2025-08-04T00:00:00.000000000",
          "2025-08-05T00:00:00.000000000",
          "2025-08-06T00:00:00.000000000",
          "2025-08-07T00:00:00.000000000",
          "2025-08-08T00:00:00.000000000",
          "2025-08-11T00:00:00.000000000",
          "2025-08-12T00:00:00.000000000",
          "2025-08-13T00:00:00.000000000",
          "2025-08-14T00:00:00.000000000",
          "2025-08-18T00:00:00.000000000",
          "2025-08-19T00:00:00.000000000",
          "2025-08-20T00:00:00.000000000",
          "2025-08-21T00:00:00.000000000",
          "2025-08-22T00:00:00.000000000",
          "2025-08-25T00:00:00.000000000",
          "2025-08-26T00:00:00.000000000",
          "2025-08-27T00:00:00.000000000",
          "2025-08-28T00:00:00.000000000",
          "2025-08-29T00:00:00.000000000",
          "2025-09-01T00:00:00.000000000",
          "2025-09-02T00:00:00.000000000",
          "2025-09-03T00:00:00.000000000",
          "2025-09-04T00:00:00.000000000",
          "2025-09-05T00:00:00.000000000",
          "2025-09-08T00:00:00.000000000",
          "2025-09-09T00:00:00.000000000",
          "2025-09-10T00:00:00.000000000",
          "2025-09-11T00:00:00.000000000",
          "2025-09-12T00:00:00.000000000",
          "2025-09-15T00:00:00.000000000",
          "2025-09-16T00:00:00.000000000",
          "2025-09-17T00:00:00.000000000",
          "2025-09-18T00:00:00.000000000",
          "2025-09-19T00:00:00.000000000",
          "2025-09-22T00:00:00.000000000",
          "2025-09-23T00:00:00.000000000",
          "2025-09-24T00:00:00.000000000",
          "2025-09-25T00:00:00.000000000",
          "2025-09-26T00:00:00.000000000"
         ],
         "xaxis": "x2",
         "y": {
          "bdata": "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",
          "dtype": "f8"
         },
         "yaxis": "y2"
        },
        {
         "line": {
          "color": "blue"
         },
         "name": "MACD",
         "type": "scatter",
         "x": [
          "2022-12-07T00:00:00.000000000",
          "2022-12-08T00:00:00.000000000",
          "2022-12-09T00:00:00.000000000",
          "2022-12-12T00:00:00.000000000",
          "2022-12-13T00:00:00.000000000",
          "2022-12-14T00:00:00.000000000",
          "2022-12-15T00:00:00.000000000",
          "2022-12-16T00:00:00.000000000",
          "2022-12-19T00:00:00.000000000",
          "2022-12-20T00:00:00.000000000",
          "2022-12-21T00:00:00.000000000",
          "2022-12-22T00:00:00.000000000",
          "2022-12-23T00:00:00.000000000",
          "2022-12-26T00:00:00.000000000",
          "2022-12-27T00:00:00.000000000",
          "2022-12-28T00:00:00.000000000",
          "2022-12-29T00:00:00.000000000",
          "2022-12-30T00:00:00.000000000",
          "2023-01-02T00:00:00.000000000",
          "2023-01-03T00:00:00.000000000",
          "2023-01-04T00:00:00.000000000",
          "2023-01-05T00:00:00.000000000",
          "2023-01-06T00:00:00.000000000",
          "2023-01-09T00:00:00.000000000",
          "2023-01-10T00:00:00.000000000",
          "2023-01-11T00:00:00.000000000",
          "2023-01-12T00:00:00.000000000",
          "2023-01-13T00:00:00.000000000",
          "2023-01-16T00:00:00.000000000",
          "2023-01-17T00:00:00.000000000",
          "2023-01-18T00:00:00.000000000",
          "2023-01-19T00:00:00.000000000",
          "2023-01-20T00:00:00.000000000",
          "2023-01-23T00:00:00.000000000",
          "2023-01-24T00:00:00.000000000",
          "2023-01-25T00:00:00.000000000",
          "2023-01-27T00:00:00.000000000",
          "2023-01-30T00:00:00.000000000",
          "2023-01-31T00:00:00.000000000",
          "2023-02-01T00:00:00.000000000",
          "2023-02-02T00:00:00.000000000",
          "2023-02-03T00:00:00.000000000",
          "2023-02-06T00:00:00.000000000",
          "2023-02-07T00:00:00.000000000",
          "2023-02-08T00:00:00.000000000",
          "2023-02-09T00:00:00.000000000",
          "2023-02-10T00:00:00.000000000",
          "2023-02-13T00:00:00.000000000",
          "2023-02-14T00:00:00.000000000",
          "2023-02-15T00:00:00.000000000",
          "2023-02-16T00:00:00.000000000",
          "2023-02-17T00:00:00.000000000",
          "2023-02-20T00:00:00.000000000",
          "2023-02-21T00:00:00.000000000",
          "2023-02-22T00:00:00.000000000",
          "2023-02-23T00:00:00.000000000",
          "2023-02-24T00:00:00.000000000",
          "2023-02-27T00:00:00.000000000",
          "2023-02-28T00:00:00.000000000",
          "2023-03-01T00:00:00.000000000",
          "2023-03-02T00:00:00.000000000",
          "2023-03-03T00:00:00.000000000",
          "2023-03-06T00:00:00.000000000",
          "2023-03-08T00:00:00.000000000",
          "2023-03-09T00:00:00.000000000",
          "2023-03-10T00:00:00.000000000",
          "2023-03-13T00:00:00.000000000",
          "2023-03-14T00:00:00.000000000",
          "2023-03-15T00:00:00.000000000",
          "2023-03-16T00:00:00.000000000",
          "2023-03-17T00:00:00.000000000",
          "2023-03-20T00:00:00.000000000",
          "2023-03-21T00:00:00.000000000",
          "2023-03-22T00:00:00.000000000",
          "2023-03-23T00:00:00.000000000",
          "2023-03-24T00:00:00.000000000",
          "2023-03-27T00:00:00.000000000",
          "2023-03-28T00:00:00.000000000",
          "2023-03-29T00:00:00.000000000",
          "2023-03-31T00:00:00.000000000",
          "2023-04-03T00:00:00.000000000",
          "2023-04-05T00:00:00.000000000",
          "2023-04-06T00:00:00.000000000",
          "2023-04-10T00:00:00.000000000",
          "2023-04-11T00:00:00.000000000",
          "2023-04-12T00:00:00.000000000",
          "2023-04-13T00:00:00.000000000",
          "2023-04-17T00:00:00.000000000",
          "2023-04-18T00:00:00.000000000",
          "2023-04-19T00:00:00.000000000",
          "2023-04-20T00:00:00.000000000",
          "2023-04-21T00:00:00.000000000",
          "2023-04-24T00:00:00.000000000",
          "2023-04-25T00:00:00.000000000",
          "2023-04-26T00:00:00.000000000",
          "2023-04-27T00:00:00.000000000",
          "2023-04-28T00:00:00.000000000",
          "2023-05-02T00:00:00.000000000",
          "2023-05-03T00:00:00.000000000",
          "2023-05-04T00:00:00.000000000",
          "2023-05-05T00:00:00.000000000",
          "2023-05-08T00:00:00.000000000",
          "2023-05-09T00:00:00.000000000",
          "2023-05-10T00:00:00.000000000",
          "2023-05-11T00:00:00.000000000",
          "2023-05-12T00:00:00.000000000",
          "2023-05-15T00:00:00.000000000",
          "2023-05-16T00:00:00.000000000",
          "2023-05-17T00:00:00.000000000",
          "2023-05-18T00:00:00.000000000",
          "2023-05-19T00:00:00.000000000",
          "2023-05-22T00:00:00.000000000",
          "2023-05-23T00:00:00.000000000",
          "2023-05-24T00:00:00.000000000",
          "2023-05-25T00:00:00.000000000",
          "2023-05-26T00:00:00.000000000",
          "2023-05-29T00:00:00.000000000",
          "2023-05-30T00:00:00.000000000",
          "2023-05-31T00:00:00.000000000",
          "2023-06-01T00:00:00.000000000",
          "2023-06-02T00:00:00.000000000",
          "2023-06-05T00:00:00.000000000",
          "2023-06-06T00:00:00.000000000",
          "2023-06-07T00:00:00.000000000",
          "2023-06-08T00:00:00.000000000",
          "2023-06-09T00:00:00.000000000",
          "2023-06-12T00:00:00.000000000",
          "2023-06-13T00:00:00.000000000",
          "2023-06-14T00:00:00.000000000",
          "2023-06-15T00:00:00.000000000",
          "2023-06-16T00:00:00.000000000",
          "2023-06-19T00:00:00.000000000",
          "2023-06-20T00:00:00.000000000",
          "2023-06-21T00:00:00.000000000",
          "2023-06-22T00:00:00.000000000",
          "2023-06-23T00:00:00.000000000",
          "2023-06-26T00:00:00.000000000",
          "2023-06-27T00:00:00.000000000",
          "2023-06-28T00:00:00.000000000",
          "2023-06-30T00:00:00.000000000",
          "2023-07-03T00:00:00.000000000",
          "2023-07-04T00:00:00.000000000",
          "2023-07-05T00:00:00.000000000",
          "2023-07-06T00:00:00.000000000",
          "2023-07-07T00:00:00.000000000",
          "2023-07-10T00:00:00.000000000",
          "2023-07-11T00:00:00.000000000",
          "2023-07-12T00:00:00.000000000",
          "2023-07-13T00:00:00.000000000",
          "2023-07-14T00:00:00.000000000",
          "2023-07-17T00:00:00.000000000",
          "2023-07-18T00:00:00.000000000",
          "2023-07-19T00:00:00.000000000",
          "2023-07-20T00:00:00.000000000",
          "2023-07-21T00:00:00.000000000",
          "2023-07-24T00:00:00.000000000",
          "2023-07-25T00:00:00.000000000",
          "2023-07-26T00:00:00.000000000",
          "2023-07-27T00:00:00.000000000",
          "2023-07-28T00:00:00.000000000",
          "2023-07-31T00:00:00.000000000",
          "2023-08-01T00:00:00.000000000",
          "2023-08-02T00:00:00.000000000",
          "2023-08-03T00:00:00.000000000",
          "2023-08-04T00:00:00.000000000",
          "2023-08-07T00:00:00.000000000",
          "2023-08-08T00:00:00.000000000",
          "2023-08-09T00:00:00.000000000",
          "2023-08-10T00:00:00.000000000",
          "2023-08-11T00:00:00.000000000",
          "2023-08-14T00:00:00.000000000",
          "2023-08-16T00:00:00.000000000",
          "2023-08-17T00:00:00.000000000",
          "2023-08-18T00:00:00.000000000",
          "2023-08-21T00:00:00.000000000",
          "2023-08-22T00:00:00.000000000",
          "2023-08-23T00:00:00.000000000",
          "2023-08-24T00:00:00.000000000",
          "2023-08-25T00:00:00.000000000",
          "2023-08-28T00:00:00.000000000",
          "2023-08-29T00:00:00.000000000",
          "2023-08-30T00:00:00.000000000",
          "2023-08-31T00:00:00.000000000",
          "2023-09-01T00:00:00.000000000",
          "2023-09-04T00:00:00.000000000",
          "2023-09-05T00:00:00.000000000",
          "2023-09-06T00:00:00.000000000",
          "2023-09-07T00:00:00.000000000",
          "2023-09-08T00:00:00.000000000",
          "2023-09-11T00:00:00.000000000",
          "2023-09-12T00:00:00.000000000",
          "2023-09-13T00:00:00.000000000",
          "2023-09-14T00:00:00.000000000",
          "2023-09-15T00:00:00.000000000",
          "2023-09-18T00:00:00.000000000",
          "2023-09-20T00:00:00.000000000",
          "2023-09-21T00:00:00.000000000",
          "2023-09-22T00:00:00.000000000",
          "2023-09-25T00:00:00.000000000",
          "2023-09-26T00:00:00.000000000",
          "2023-09-27T00:00:00.000000000",
          "2023-09-28T00:00:00.000000000",
          "2023-09-29T00:00:00.000000000",
          "2023-10-03T00:00:00.000000000",
          "2023-10-04T00:00:00.000000000",
          "2023-10-05T00:00:00.000000000",
          "2023-10-06T00:00:00.000000000",
          "2023-10-09T00:00:00.000000000",
          "2023-10-10T00:00:00.000000000",
          "2023-10-11T00:00:00.000000000",
          "2023-10-12T00:00:00.000000000",
          "2023-10-13T00:00:00.000000000",
          "2023-10-16T00:00:00.000000000",
          "2023-10-17T00:00:00.000000000",
          "2023-10-18T00:00:00.000000000",
          "2023-10-19T00:00:00.000000000",
          "2023-10-20T00:00:00.000000000",
          "2023-10-23T00:00:00.000000000",
          "2023-10-25T00:00:00.000000000",
          "2023-10-26T00:00:00.000000000",
          "2023-10-27T00:00:00.000000000",
          "2023-10-30T00:00:00.000000000",
          "2023-10-31T00:00:00.000000000",
          "2023-11-01T00:00:00.000000000",
          "2023-11-02T00:00:00.000000000",
          "2023-11-03T00:00:00.000000000",
          "2023-11-06T00:00:00.000000000",
          "2023-11-07T00:00:00.000000000",
          "2023-11-08T00:00:00.000000000",
          "2023-11-09T00:00:00.000000000",
          "2023-11-10T00:00:00.000000000",
          "2023-11-13T00:00:00.000000000",
          "2023-11-15T00:00:00.000000000",
          "2023-11-16T00:00:00.000000000",
          "2023-11-17T00:00:00.000000000",
          "2023-11-20T00:00:00.000000000",
          "2023-11-21T00:00:00.000000000",
          "2023-11-22T00:00:00.000000000",
          "2023-11-23T00:00:00.000000000",
          "2023-11-24T00:00:00.000000000",
          "2023-11-28T00:00:00.000000000",
          "2023-11-29T00:00:00.000000000",
          "2023-11-30T00:00:00.000000000",
          "2023-12-01T00:00:00.000000000",
          "2023-12-04T00:00:00.000000000",
          "2023-12-05T00:00:00.000000000",
          "2023-12-06T00:00:00.000000000",
          "2023-12-07T00:00:00.000000000",
          "2023-12-08T00:00:00.000000000",
          "2023-12-11T00:00:00.000000000",
          "2023-12-12T00:00:00.000000000",
          "2023-12-13T00:00:00.000000000",
          "2023-12-14T00:00:00.000000000",
          "2023-12-15T00:00:00.000000000",
          "2023-12-18T00:00:00.000000000",
          "2023-12-19T00:00:00.000000000",
          "2023-12-20T00:00:00.000000000",
          "2023-12-21T00:00:00.000000000",
          "2023-12-22T00:00:00.000000000",
          "2023-12-26T00:00:00.000000000",
          "2023-12-27T00:00:00.000000000",
          "2023-12-28T00:00:00.000000000",
          "2023-12-29T00:00:00.000000000",
          "2024-01-01T00:00:00.000000000",
          "2024-01-02T00:00:00.000000000",
          "2024-01-03T00:00:00.000000000",
          "2024-01-04T00:00:00.000000000",
          "2024-01-05T00:00:00.000000000",
          "2024-01-08T00:00:00.000000000",
          "2024-01-09T00:00:00.000000000",
          "2024-01-10T00:00:00.000000000",
          "2024-01-11T00:00:00.000000000",
          "2024-01-12T00:00:00.000000000",
          "2024-01-15T00:00:00.000000000",
          "2024-01-16T00:00:00.000000000",
          "2024-01-17T00:00:00.000000000",
          "2024-01-18T00:00:00.000000000",
          "2024-01-19T00:00:00.000000000",
          "2024-01-23T00:00:00.000000000",
          "2024-01-24T00:00:00.000000000",
          "2024-01-25T00:00:00.000000000",
          "2024-01-29T00:00:00.000000000",
          "2024-01-30T00:00:00.000000000",
          "2024-01-31T00:00:00.000000000",
          "2024-02-01T00:00:00.000000000",
          "2024-02-02T00:00:00.000000000",
          "2024-02-05T00:00:00.000000000",
          "2024-02-06T00:00:00.000000000",
          "2024-02-07T00:00:00.000000000",
          "2024-02-08T00:00:00.000000000",
          "2024-02-09T00:00:00.000000000",
          "2024-02-12T00:00:00.000000000",
          "2024-02-13T00:00:00.000000000",
          "2024-02-14T00:00:00.000000000",
          "2024-02-15T00:00:00.000000000",
          "2024-02-16T00:00:00.000000000",
          "2024-02-19T00:00:00.000000000",
          "2024-02-20T00:00:00.000000000",
          "2024-02-21T00:00:00.000000000",
          "2024-02-22T00:00:00.000000000",
          "2024-02-23T00:00:00.000000000",
          "2024-02-26T00:00:00.000000000",
          "2024-02-27T00:00:00.000000000",
          "2024-02-28T00:00:00.000000000",
          "2024-02-29T00:00:00.000000000",
          "2024-03-01T00:00:00.000000000",
          "2024-03-04T00:00:00.000000000",
          "2024-03-05T00:00:00.000000000",
          "2024-03-06T00:00:00.000000000",
          "2024-03-07T00:00:00.000000000",
          "2024-03-11T00:00:00.000000000",
          "2024-03-12T00:00:00.000000000",
          "2024-03-13T00:00:00.000000000",
          "2024-03-14T00:00:00.000000000",
          "2024-03-15T00:00:00.000000000",
          "2024-03-18T00:00:00.000000000",
          "2024-03-19T00:00:00.000000000",
          "2024-03-20T00:00:00.000000000",
          "2024-03-21T00:00:00.000000000",
          "2024-03-22T00:00:00.000000000",
          "2024-03-26T00:00:00.000000000",
          "2024-03-27T00:00:00.000000000",
          "2024-03-28T00:00:00.000000000",
          "2024-04-01T00:00:00.000000000",
          "2024-04-02T00:00:00.000000000",
          "2024-04-03T00:00:00.000000000",
          "2024-04-04T00:00:00.000000000",
          "2024-04-05T00:00:00.000000000",
          "2024-04-08T00:00:00.000000000",
          "2024-04-09T00:00:00.000000000",
          "2024-04-10T00:00:00.000000000",
          "2024-04-12T00:00:00.000000000",
          "2024-04-15T00:00:00.000000000",
          "2024-04-16T00:00:00.000000000",
          "2024-04-18T00:00:00.000000000",
          "2024-04-19T00:00:00.000000000",
          "2024-04-22T00:00:00.000000000",
          "2024-04-23T00:00:00.000000000",
          "2024-04-24T00:00:00.000000000",
          "2024-04-25T00:00:00.000000000",
          "2024-04-26T00:00:00.000000000",
          "2024-04-29T00:00:00.000000000",
          "2024-04-30T00:00:00.000000000",
          "2024-05-02T00:00:00.000000000",
          "2024-05-03T00:00:00.000000000",
          "2024-05-06T00:00:00.000000000",
          "2024-05-07T00:00:00.000000000",
          "2024-05-08T00:00:00.000000000",
          "2024-05-09T00:00:00.000000000",
          "2024-05-10T00:00:00.000000000",
          "2024-05-13T00:00:00.000000000",
          "2024-05-14T00:00:00.000000000",
          "2024-05-15T00:00:00.000000000",
          "2024-05-16T00:00:00.000000000",
          "2024-05-17T00:00:00.000000000",
          "2024-05-21T00:00:00.000000000",
          "2024-05-22T00:00:00.000000000",
          "2024-05-23T00:00:00.000000000",
          "2024-05-24T00:00:00.000000000",
          "2024-05-27T00:00:00.000000000",
          "2024-05-28T00:00:00.000000000",
          "2024-05-29T00:00:00.000000000",
          "2024-05-30T00:00:00.000000000",
          "2024-05-31T00:00:00.000000000",
          "2024-06-03T00:00:00.000000000",
          "2024-06-04T00:00:00.000000000",
          "2024-06-05T00:00:00.000000000",
          "2024-06-06T00:00:00.000000000",
          "2024-06-07T00:00:00.000000000",
          "2024-06-10T00:00:00.000000000",
          "2024-06-11T00:00:00.000000000",
          "2024-06-12T00:00:00.000000000",
          "2024-06-13T00:00:00.000000000",
          "2024-06-14T00:00:00.000000000",
          "2024-06-18T00:00:00.000000000",
          "2024-06-19T00:00:00.000000000",
          "2024-06-20T00:00:00.000000000",
          "2024-06-21T00:00:00.000000000",
          "2024-06-24T00:00:00.000000000",
          "2024-06-25T00:00:00.000000000",
          "2024-06-26T00:00:00.000000000",
          "2024-06-27T00:00:00.000000000",
          "2024-06-28T00:00:00.000000000",
          "2024-07-01T00:00:00.000000000",
          "2024-07-02T00:00:00.000000000",
          "2024-07-03T00:00:00.000000000",
          "2024-07-04T00:00:00.000000000",
          "2024-07-05T00:00:00.000000000",
          "2024-07-08T00:00:00.000000000",
          "2024-07-09T00:00:00.000000000",
          "2024-07-10T00:00:00.000000000",
          "2024-07-11T00:00:00.000000000",
          "2024-07-12T00:00:00.000000000",
          "2024-07-15T00:00:00.000000000",
          "2024-07-16T00:00:00.000000000",
          "2024-07-18T00:00:00.000000000",
          "2024-07-19T00:00:00.000000000",
          "2024-07-22T00:00:00.000000000",
          "2024-07-23T00:00:00.000000000",
          "2024-07-24T00:00:00.000000000",
          "2024-07-25T00:00:00.000000000",
          "2024-07-26T00:00:00.000000000",
          "2024-07-29T00:00:00.000000000",
          "2024-07-30T00:00:00.000000000",
          "2024-07-31T00:00:00.000000000",
          "2024-08-01T00:00:00.000000000",
          "2024-08-02T00:00:00.000000000",
          "2024-08-05T00:00:00.000000000",
          "2024-08-06T00:00:00.000000000",
          "2024-08-07T00:00:00.000000000",
          "2024-08-08T00:00:00.000000000",
          "2024-08-09T00:00:00.000000000",
          "2024-08-12T00:00:00.000000000",
          "2024-08-13T00:00:00.000000000",
          "2024-08-14T00:00:00.000000000",
          "2024-08-16T00:00:00.000000000",
          "2024-08-19T00:00:00.000000000",
          "2024-08-20T00:00:00.000000000",
          "2024-08-21T00:00:00.000000000",
          "2024-08-22T00:00:00.000000000",
          "2024-08-23T00:00:00.000000000",
          "2024-08-26T00:00:00.000000000",
          "2024-08-27T00:00:00.000000000",
          "2024-08-28T00:00:00.000000000",
          "2024-08-29T00:00:00.000000000",
          "2024-08-30T00:00:00.000000000",
          "2024-09-02T00:00:00.000000000",
          "2024-09-03T00:00:00.000000000",
          "2024-09-04T00:00:00.000000000",
          "2024-09-05T00:00:00.000000000",
          "2024-09-06T00:00:00.000000000",
          "2024-09-09T00:00:00.000000000",
          "2024-09-10T00:00:00.000000000",
          "2024-09-11T00:00:00.000000000",
          "2024-09-12T00:00:00.000000000",
          "2024-09-13T00:00:00.000000000",
          "2024-09-16T00:00:00.000000000",
          "2024-09-17T00:00:00.000000000",
          "2024-09-18T00:00:00.000000000",
          "2024-09-19T00:00:00.000000000",
          "2024-09-20T00:00:00.000000000",
          "2024-09-23T00:00:00.000000000",
          "2024-09-24T00:00:00.000000000",
          "2024-09-25T00:00:00.000000000",
          "2024-09-26T00:00:00.000000000",
          "2024-09-27T00:00:00.000000000",
          "2024-09-30T00:00:00.000000000",
          "2024-10-01T00:00:00.000000000",
          "2024-10-03T00:00:00.000000000",
          "2024-10-04T00:00:00.000000000",
          "2024-10-07T00:00:00.000000000",
          "2024-10-08T00:00:00.000000000",
          "2024-10-09T00:00:00.000000000",
          "2024-10-10T00:00:00.000000000",
          "2024-10-11T00:00:00.000000000",
          "2024-10-14T00:00:00.000000000",
          "2024-10-15T00:00:00.000000000",
          "2024-10-16T00:00:00.000000000",
          "2024-10-17T00:00:00.000000000",
          "2024-10-18T00:00:00.000000000",
          "2024-10-21T00:00:00.000000000",
          "2024-10-22T00:00:00.000000000",
          "2024-10-23T00:00:00.000000000",
          "2024-10-24T00:00:00.000000000",
          "2024-10-25T00:00:00.000000000",
          "2024-10-28T00:00:00.000000000",
          "2024-10-29T00:00:00.000000000",
          "2024-10-30T00:00:00.000000000",
          "2024-10-31T00:00:00.000000000",
          "2024-11-01T00:00:00.000000000",
          "2024-11-04T00:00:00.000000000",
          "2024-11-05T00:00:00.000000000",
          "2024-11-06T00:00:00.000000000",
          "2024-11-07T00:00:00.000000000",
          "2024-11-08T00:00:00.000000000",
          "2024-11-11T00:00:00.000000000",
          "2024-11-12T00:00:00.000000000",
          "2024-11-13T00:00:00.000000000",
          "2024-11-14T00:00:00.000000000",
          "2024-11-18T00:00:00.000000000",
          "2024-11-19T00:00:00.000000000",
          "2024-11-21T00:00:00.000000000",
          "2024-11-22T00:00:00.000000000",
          "2024-11-25T00:00:00.000000000",
          "2024-11-26T00:00:00.000000000",
          "2024-11-27T00:00:00.000000000",
          "2024-11-28T00:00:00.000000000",
          "2024-11-29T00:00:00.000000000",
          "2024-12-02T00:00:00.000000000",
          "2024-12-03T00:00:00.000000000",
          "2024-12-04T00:00:00.000000000",
          "2024-12-05T00:00:00.000000000",
          "2024-12-06T00:00:00.000000000",
          "2024-12-09T00:00:00.000000000",
          "2024-12-10T00:00:00.000000000",
          "2024-12-11T00:00:00.000000000",
          "2024-12-12T00:00:00.000000000",
          "2024-12-13T00:00:00.000000000",
          "2024-12-16T00:00:00.000000000",
          "2024-12-17T00:00:00.000000000",
          "2024-12-18T00:00:00.000000000",
          "2024-12-19T00:00:00.000000000",
          "2024-12-20T00:00:00.000000000",
          "2024-12-23T00:00:00.000000000",
          "2024-12-24T00:00:00.000000000",
          "2024-12-26T00:00:00.000000000",
          "2024-12-27T00:00:00.000000000",
          "2024-12-30T00:00:00.000000000",
          "2024-12-31T00:00:00.000000000",
          "2025-01-01T00:00:00.000000000",
          "2025-01-02T00:00:00.000000000",
          "2025-01-03T00:00:00.000000000",
          "2025-01-06T00:00:00.000000000",
          "2025-01-07T00:00:00.000000000",
          "2025-01-08T00:00:00.000000000",
          "2025-01-09T00:00:00.000000000",
          "2025-01-10T00:00:00.000000000",
          "2025-01-13T00:00:00.000000000",
          "2025-01-14T00:00:00.000000000",
          "2025-01-15T00:00:00.000000000",
          "2025-01-16T00:00:00.000000000",
          "2025-01-17T00:00:00.000000000",
          "2025-01-20T00:00:00.000000000",
          "2025-01-21T00:00:00.000000000",
          "2025-01-22T00:00:00.000000000",
          "2025-01-23T00:00:00.000000000",
          "2025-01-24T00:00:00.000000000",
          "2025-01-27T00:00:00.000000000",
          "2025-01-28T00:00:00.000000000",
          "2025-01-29T00:00:00.000000000",
          "2025-01-30T00:00:00.000000000",
          "2025-01-31T00:00:00.000000000",
          "2025-02-01T00:00:00.000000000",
          "2025-02-03T00:00:00.000000000",
          "2025-02-04T00:00:00.000000000",
          "2025-02-05T00:00:00.000000000",
          "2025-02-06T00:00:00.000000000",
          "2025-02-07T00:00:00.000000000",
          "2025-02-10T00:00:00.000000000",
          "2025-02-11T00:00:00.000000000",
          "2025-02-12T00:00:00.000000000",
          "2025-02-13T00:00:00.000000000",
          "2025-02-14T00:00:00.000000000",
          "2025-02-17T00:00:00.000000000",
          "2025-02-18T00:00:00.000000000",
          "2025-02-19T00:00:00.000000000",
          "2025-02-20T00:00:00.000000000",
          "2025-02-21T00:00:00.000000000",
          "2025-02-24T00:00:00.000000000",
          "2025-02-25T00:00:00.000000000",
          "2025-02-27T00:00:00.000000000",
          "2025-02-28T00:00:00.000000000",
          "2025-03-03T00:00:00.000000000",
          "2025-03-04T00:00:00.000000000",
          "2025-03-05T00:00:00.000000000",
          "2025-03-06T00:00:00.000000000",
          "2025-03-07T00:00:00.000000000",
          "2025-03-10T00:00:00.000000000",
          "2025-03-11T00:00:00.000000000",
          "2025-03-12T00:00:00.000000000",
          "2025-03-13T00:00:00.000000000",
          "2025-03-17T00:00:00.000000000",
          "2025-03-18T00:00:00.000000000",
          "2025-03-19T00:00:00.000000000",
          "2025-03-20T00:00:00.000000000",
          "2025-03-21T00:00:00.000000000",
          "2025-03-24T00:00:00.000000000",
          "2025-03-25T00:00:00.000000000",
          "2025-03-26T00:00:00.000000000",
          "2025-03-27T00:00:00.000000000",
          "2025-03-28T00:00:00.000000000",
          "2025-04-01T00:00:00.000000000",
          "2025-04-02T00:00:00.000000000",
          "2025-04-03T00:00:00.000000000",
          "2025-04-04T00:00:00.000000000",
          "2025-04-07T00:00:00.000000000",
          "2025-04-08T00:00:00.000000000",
          "2025-04-09T00:00:00.000000000",
          "2025-04-11T00:00:00.000000000",
          "2025-04-15T00:00:00.000000000",
          "2025-04-16T00:00:00.000000000",
          "2025-04-17T00:00:00.000000000",
          "2025-04-21T00:00:00.000000000",
          "2025-04-22T00:00:00.000000000",
          "2025-04-23T00:00:00.000000000",
          "2025-04-24T00:00:00.000000000",
          "2025-04-25T00:00:00.000000000",
          "2025-04-28T00:00:00.000000000",
          "2025-04-29T00:00:00.000000000",
          "2025-04-30T00:00:00.000000000",
          "2025-05-02T00:00:00.000000000",
          "2025-05-05T00:00:00.000000000",
          "2025-05-06T00:00:00.000000000",
          "2025-05-07T00:00:00.000000000",
          "2025-05-08T00:00:00.000000000",
          "2025-05-09T00:00:00.000000000",
          "2025-05-12T00:00:00.000000000",
          "2025-05-13T00:00:00.000000000",
          "2025-05-14T00:00:00.000000000",
          "2025-05-15T00:00:00.000000000",
          "2025-05-16T00:00:00.000000000",
          "2025-05-19T00:00:00.000000000",
          "2025-05-20T00:00:00.000000000",
          "2025-05-21T00:00:00.000000000",
          "2025-05-22T00:00:00.000000000",
          "2025-05-23T00:00:00.000000000",
          "2025-05-26T00:00:00.000000000",
          "2025-05-27T00:00:00.000000000",
          "2025-05-28T00:00:00.000000000",
          "2025-05-29T00:00:00.000000000",
          "2025-05-30T00:00:00.000000000",
          "2025-06-02T00:00:00.000000000",
          "2025-06-03T00:00:00.000000000",
          "2025-06-04T00:00:00.000000000",
          "2025-06-05T00:00:00.000000000",
          "2025-06-06T00:00:00.000000000",
          "2025-06-09T00:00:00.000000000",
          "2025-06-10T00:00:00.000000000",
          "2025-06-11T00:00:00.000000000",
          "2025-06-12T00:00:00.000000000",
          "2025-06-13T00:00:00.000000000",
          "2025-06-16T00:00:00.000000000",
          "2025-06-17T00:00:00.000000000",
          "2025-06-18T00:00:00.000000000",
          "2025-06-19T00:00:00.000000000",
          "2025-06-20T00:00:00.000000000",
          "2025-06-23T00:00:00.000000000",
          "2025-06-24T00:00:00.000000000",
          "2025-06-25T00:00:00.000000000",
          "2025-06-26T00:00:00.000000000",
          "2025-06-27T00:00:00.000000000",
          "2025-06-30T00:00:00.000000000",
          "2025-07-01T00:00:00.000000000",
          "2025-07-02T00:00:00.000000000",
          "2025-07-03T00:00:00.000000000",
          "2025-07-04T00:00:00.000000000",
          "2025-07-07T00:00:00.000000000",
          "2025-07-08T00:00:00.000000000",
          "2025-07-09T00:00:00.000000000",
          "2025-07-10T00:00:00.000000000",
          "2025-07-11T00:00:00.000000000",
          "2025-07-14T00:00:00.000000000",
          "2025-07-15T00:00:00.000000000",
          "2025-07-16T00:00:00.000000000",
          "2025-07-17T00:00:00.000000000",
          "2025-07-18T00:00:00.000000000",
          "2025-07-21T00:00:00.000000000",
          "2025-07-22T00:00:00.000000000",
          "2025-07-23T00:00:00.000000000",
          "2025-07-24T00:00:00.000000000",
          "2025-07-25T00:00:00.000000000",
          "2025-07-28T00:00:00.000000000",
          "2025-07-29T00:00:00.000000000",
          "2025-07-30T00:00:00.000000000",
          "2025-07-31T00:00:00.000000000",
          "2025-08-01T00:00:00.000000000",
          "2025-08-04T00:00:00.000000000",
          "2025-08-05T00:00:00.000000000",
          "2025-08-06T00:00:00.000000000",
          "2025-08-07T00:00:00.000000000",
          "2025-08-08T00:00:00.000000000",
          "2025-08-11T00:00:00.000000000",
          "2025-08-12T00:00:00.000000000",
          "2025-08-13T00:00:00.000000000",
          "2025-08-14T00:00:00.000000000",
          "2025-08-18T00:00:00.000000000",
          "2025-08-19T00:00:00.000000000",
          "2025-08-20T00:00:00.000000000",
          "2025-08-21T00:00:00.000000000",
          "2025-08-22T00:00:00.000000000",
          "2025-08-25T00:00:00.000000000",
          "2025-08-26T00:00:00.000000000",
          "2025-08-27T00:00:00.000000000",
          "2025-08-28T00:00:00.000000000",
          "2025-08-29T00:00:00.000000000",
          "2025-09-01T00:00:00.000000000",
          "2025-09-02T00:00:00.000000000",
          "2025-09-03T00:00:00.000000000",
          "2025-09-04T00:00:00.000000000",
          "2025-09-05T00:00:00.000000000",
          "2025-09-08T00:00:00.000000000",
          "2025-09-09T00:00:00.000000000",
          "2025-09-10T00:00:00.000000000",
          "2025-09-11T00:00:00.000000000",
          "2025-09-12T00:00:00.000000000",
          "2025-09-15T00:00:00.000000000",
          "2025-09-16T00:00:00.000000000",
          "2025-09-17T00:00:00.000000000",
          "2025-09-18T00:00:00.000000000",
          "2025-09-19T00:00:00.000000000",
          "2025-09-22T00:00:00.000000000",
          "2025-09-23T00:00:00.000000000",
          "2025-09-24T00:00:00.000000000",
          "2025-09-25T00:00:00.000000000",
          "2025-09-26T00:00:00.000000000"
         ],
         "xaxis": "x3",
         "y": {
          "bdata": "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",
          "dtype": "f8"
         },
         "yaxis": "y3"
        },
        {
         "line": {
          "color": "red"
         },
         "name": "Signal",
         "type": "scatter",
         "x": [
          "2022-12-07T00:00:00.000000000",
          "2022-12-08T00:00:00.000000000",
          "2022-12-09T00:00:00.000000000",
          "2022-12-12T00:00:00.000000000",
          "2022-12-13T00:00:00.000000000",
          "2022-12-14T00:00:00.000000000",
          "2022-12-15T00:00:00.000000000",
          "2022-12-16T00:00:00.000000000",
          "2022-12-19T00:00:00.000000000",
          "2022-12-20T00:00:00.000000000",
          "2022-12-21T00:00:00.000000000",
          "2022-12-22T00:00:00.000000000",
          "2022-12-23T00:00:00.000000000",
          "2022-12-26T00:00:00.000000000",
          "2022-12-27T00:00:00.000000000",
          "2022-12-28T00:00:00.000000000",
          "2022-12-29T00:00:00.000000000",
          "2022-12-30T00:00:00.000000000",
          "2023-01-02T00:00:00.000000000",
          "2023-01-03T00:00:00.000000000",
          "2023-01-04T00:00:00.000000000",
          "2023-01-05T00:00:00.000000000",
          "2023-01-06T00:00:00.000000000",
          "2023-01-09T00:00:00.000000000",
          "2023-01-10T00:00:00.000000000",
          "2023-01-11T00:00:00.000000000",
          "2023-01-12T00:00:00.000000000",
          "2023-01-13T00:00:00.000000000",
          "2023-01-16T00:00:00.000000000",
          "2023-01-17T00:00:00.000000000",
          "2023-01-18T00:00:00.000000000",
          "2023-01-19T00:00:00.000000000",
          "2023-01-20T00:00:00.000000000",
          "2023-01-23T00:00:00.000000000",
          "2023-01-24T00:00:00.000000000",
          "2023-01-25T00:00:00.000000000",
          "2023-01-27T00:00:00.000000000",
          "2023-01-30T00:00:00.000000000",
          "2023-01-31T00:00:00.000000000",
          "2023-02-01T00:00:00.000000000",
          "2023-02-02T00:00:00.000000000",
          "2023-02-03T00:00:00.000000000",
          "2023-02-06T00:00:00.000000000",
          "2023-02-07T00:00:00.000000000",
          "2023-02-08T00:00:00.000000000",
          "2023-02-09T00:00:00.000000000",
          "2023-02-10T00:00:00.000000000",
          "2023-02-13T00:00:00.000000000",
          "2023-02-14T00:00:00.000000000",
          "2023-02-15T00:00:00.000000000",
          "2023-02-16T00:00:00.000000000",
          "2023-02-17T00:00:00.000000000",
          "2023-02-20T00:00:00.000000000",
          "2023-02-21T00:00:00.000000000",
          "2023-02-22T00:00:00.000000000",
          "2023-02-23T00:00:00.000000000",
          "2023-02-24T00:00:00.000000000",
          "2023-02-27T00:00:00.000000000",
          "2023-02-28T00:00:00.000000000",
          "2023-03-01T00:00:00.000000000",
          "2023-03-02T00:00:00.000000000",
          "2023-03-03T00:00:00.000000000",
          "2023-03-06T00:00:00.000000000",
          "2023-03-08T00:00:00.000000000",
          "2023-03-09T00:00:00.000000000",
          "2023-03-10T00:00:00.000000000",
          "2023-03-13T00:00:00.000000000",
          "2023-03-14T00:00:00.000000000",
          "2023-03-15T00:00:00.000000000",
          "2023-03-16T00:00:00.000000000",
          "2023-03-17T00:00:00.000000000",
          "2023-03-20T00:00:00.000000000",
          "2023-03-21T00:00:00.000000000",
          "2023-03-22T00:00:00.000000000",
          "2023-03-23T00:00:00.000000000",
          "2023-03-24T00:00:00.000000000",
          "2023-03-27T00:00:00.000000000",
          "2023-03-28T00:00:00.000000000",
          "2023-03-29T00:00:00.000000000",
          "2023-03-31T00:00:00.000000000",
          "2023-04-03T00:00:00.000000000",
          "2023-04-05T00:00:00.000000000",
          "2023-04-06T00:00:00.000000000",
          "2023-04-10T00:00:00.000000000",
          "2023-04-11T00:00:00.000000000",
          "2023-04-12T00:00:00.000000000",
          "2023-04-13T00:00:00.000000000",
          "2023-04-17T00:00:00.000000000",
          "2023-04-18T00:00:00.000000000",
          "2023-04-19T00:00:00.000000000",
          "2023-04-20T00:00:00.000000000",
          "2023-04-21T00:00:00.000000000",
          "2023-04-24T00:00:00.000000000",
          "2023-04-25T00:00:00.000000000",
          "2023-04-26T00:00:00.000000000",
          "2023-04-27T00:00:00.000000000",
          "2023-04-28T00:00:00.000000000",
          "2023-05-02T00:00:00.000000000",
          "2023-05-03T00:00:00.000000000",
          "2023-05-04T00:00:00.000000000",
          "2023-05-05T00:00:00.000000000",
          "2023-05-08T00:00:00.000000000",
          "2023-05-09T00:00:00.000000000",
          "2023-05-10T00:00:00.000000000",
          "2023-05-11T00:00:00.000000000",
          "2023-05-12T00:00:00.000000000",
          "2023-05-15T00:00:00.000000000",
          "2023-05-16T00:00:00.000000000",
          "2023-05-17T00:00:00.000000000",
          "2023-05-18T00:00:00.000000000",
          "2023-05-19T00:00:00.000000000",
          "2023-05-22T00:00:00.000000000",
          "2023-05-23T00:00:00.000000000",
          "2023-05-24T00:00:00.000000000",
          "2023-05-25T00:00:00.000000000",
          "2023-05-26T00:00:00.000000000",
          "2023-05-29T00:00:00.000000000",
          "2023-05-30T00:00:00.000000000",
          "2023-05-31T00:00:00.000000000",
          "2023-06-01T00:00:00.000000000",
          "2023-06-02T00:00:00.000000000",
          "2023-06-05T00:00:00.000000000",
          "2023-06-06T00:00:00.000000000",
          "2023-06-07T00:00:00.000000000",
          "2023-06-08T00:00:00.000000000",
          "2023-06-09T00:00:00.000000000",
          "2023-06-12T00:00:00.000000000",
          "2023-06-13T00:00:00.000000000",
          "2023-06-14T00:00:00.000000000",
          "2023-06-15T00:00:00.000000000",
          "2023-06-16T00:00:00.000000000",
          "2023-06-19T00:00:00.000000000",
          "2023-06-20T00:00:00.000000000",
          "2023-06-21T00:00:00.000000000",
          "2023-06-22T00:00:00.000000000",
          "2023-06-23T00:00:00.000000000",
          "2023-06-26T00:00:00.000000000",
          "2023-06-27T00:00:00.000000000",
          "2023-06-28T00:00:00.000000000",
          "2023-06-30T00:00:00.000000000",
          "2023-07-03T00:00:00.000000000",
          "2023-07-04T00:00:00.000000000",
          "2023-07-05T00:00:00.000000000",
          "2023-07-06T00:00:00.000000000",
          "2023-07-07T00:00:00.000000000",
          "2023-07-10T00:00:00.000000000",
          "2023-07-11T00:00:00.000000000",
          "2023-07-12T00:00:00.000000000",
          "2023-07-13T00:00:00.000000000",
          "2023-07-14T00:00:00.000000000",
          "2023-07-17T00:00:00.000000000",
          "2023-07-18T00:00:00.000000000",
          "2023-07-19T00:00:00.000000000",
          "2023-07-20T00:00:00.000000000",
          "2023-07-21T00:00:00.000000000",
          "2023-07-24T00:00:00.000000000",
          "2023-07-25T00:00:00.000000000",
          "2023-07-26T00:00:00.000000000",
          "2023-07-27T00:00:00.000000000",
          "2023-07-28T00:00:00.000000000",
          "2023-07-31T00:00:00.000000000",
          "2023-08-01T00:00:00.000000000",
          "2023-08-02T00:00:00.000000000",
          "2023-08-03T00:00:00.000000000",
          "2023-08-04T00:00:00.000000000",
          "2023-08-07T00:00:00.000000000",
          "2023-08-08T00:00:00.000000000",
          "2023-08-09T00:00:00.000000000",
          "2023-08-10T00:00:00.000000000",
          "2023-08-11T00:00:00.000000000",
          "2023-08-14T00:00:00.000000000",
          "2023-08-16T00:00:00.000000000",
          "2023-08-17T00:00:00.000000000",
          "2023-08-18T00:00:00.000000000",
          "2023-08-21T00:00:00.000000000",
          "2023-08-22T00:00:00.000000000",
          "2023-08-23T00:00:00.000000000",
          "2023-08-24T00:00:00.000000000",
          "2023-08-25T00:00:00.000000000",
          "2023-08-28T00:00:00.000000000",
          "2023-08-29T00:00:00.000000000",
          "2023-08-30T00:00:00.000000000",
          "2023-08-31T00:00:00.000000000",
          "2023-09-01T00:00:00.000000000",
          "2023-09-04T00:00:00.000000000",
          "2023-09-05T00:00:00.000000000",
          "2023-09-06T00:00:00.000000000",
          "2023-09-07T00:00:00.000000000",
          "2023-09-08T00:00:00.000000000",
          "2023-09-11T00:00:00.000000000",
          "2023-09-12T00:00:00.000000000",
          "2023-09-13T00:00:00.000000000",
          "2023-09-14T00:00:00.000000000",
          "2023-09-15T00:00:00.000000000",
          "2023-09-18T00:00:00.000000000",
          "2023-09-20T00:00:00.000000000",
          "2023-09-21T00:00:00.000000000",
          "2023-09-22T00:00:00.000000000",
          "2023-09-25T00:00:00.000000000",
          "2023-09-26T00:00:00.000000000",
          "2023-09-27T00:00:00.000000000",
          "2023-09-28T00:00:00.000000000",
          "2023-09-29T00:00:00.000000000",
          "2023-10-03T00:00:00.000000000",
          "2023-10-04T00:00:00.000000000",
          "2023-10-05T00:00:00.000000000",
          "2023-10-06T00:00:00.000000000",
          "2023-10-09T00:00:00.000000000",
          "2023-10-10T00:00:00.000000000",
          "2023-10-11T00:00:00.000000000",
          "2023-10-12T00:00:00.000000000",
          "2023-10-13T00:00:00.000000000",
          "2023-10-16T00:00:00.000000000",
          "2023-10-17T00:00:00.000000000",
          "2023-10-18T00:00:00.000000000",
          "2023-10-19T00:00:00.000000000",
          "2023-10-20T00:00:00.000000000",
          "2023-10-23T00:00:00.000000000",
          "2023-10-25T00:00:00.000000000",
          "2023-10-26T00:00:00.000000000",
          "2023-10-27T00:00:00.000000000",
          "2023-10-30T00:00:00.000000000",
          "2023-10-31T00:00:00.000000000",
          "2023-11-01T00:00:00.000000000",
          "2023-11-02T00:00:00.000000000",
          "2023-11-03T00:00:00.000000000",
          "2023-11-06T00:00:00.000000000",
          "2023-11-07T00:00:00.000000000",
          "2023-11-08T00:00:00.000000000",
          "2023-11-09T00:00:00.000000000",
          "2023-11-10T00:00:00.000000000",
          "2023-11-13T00:00:00.000000000",
          "2023-11-15T00:00:00.000000000",
          "2023-11-16T00:00:00.000000000",
          "2023-11-17T00:00:00.000000000",
          "2023-11-20T00:00:00.000000000",
          "2023-11-21T00:00:00.000000000",
          "2023-11-22T00:00:00.000000000",
          "2023-11-23T00:00:00.000000000",
          "2023-11-24T00:00:00.000000000",
          "2023-11-28T00:00:00.000000000",
          "2023-11-29T00:00:00.000000000",
          "2023-11-30T00:00:00.000000000",
          "2023-12-01T00:00:00.000000000",
          "2023-12-04T00:00:00.000000000",
          "2023-12-05T00:00:00.000000000",
          "2023-12-06T00:00:00.000000000",
          "2023-12-07T00:00:00.000000000",
          "2023-12-08T00:00:00.000000000",
          "2023-12-11T00:00:00.000000000",
          "2023-12-12T00:00:00.000000000",
          "2023-12-13T00:00:00.000000000",
          "2023-12-14T00:00:00.000000000",
          "2023-12-15T00:00:00.000000000",
          "2023-12-18T00:00:00.000000000",
          "2023-12-19T00:00:00.000000000",
          "2023-12-20T00:00:00.000000000",
          "2023-12-21T00:00:00.000000000",
          "2023-12-22T00:00:00.000000000",
          "2023-12-26T00:00:00.000000000",
          "2023-12-27T00:00:00.000000000",
          "2023-12-28T00:00:00.000000000",
          "2023-12-29T00:00:00.000000000",
          "2024-01-01T00:00:00.000000000",
          "2024-01-02T00:00:00.000000000",
          "2024-01-03T00:00:00.000000000",
          "2024-01-04T00:00:00.000000000",
          "2024-01-05T00:00:00.000000000",
          "2024-01-08T00:00:00.000000000",
          "2024-01-09T00:00:00.000000000",
          "2024-01-10T00:00:00.000000000",
          "2024-01-11T00:00:00.000000000",
          "2024-01-12T00:00:00.000000000",
          "2024-01-15T00:00:00.000000000",
          "2024-01-16T00:00:00.000000000",
          "2024-01-17T00:00:00.000000000",
          "2024-01-18T00:00:00.000000000",
          "2024-01-19T00:00:00.000000000",
          "2024-01-23T00:00:00.000000000",
          "2024-01-24T00:00:00.000000000",
          "2024-01-25T00:00:00.000000000",
          "2024-01-29T00:00:00.000000000",
          "2024-01-30T00:00:00.000000000",
          "2024-01-31T00:00:00.000000000",
          "2024-02-01T00:00:00.000000000",
          "2024-02-02T00:00:00.000000000",
          "2024-02-05T00:00:00.000000000",
          "2024-02-06T00:00:00.000000000",
          "2024-02-07T00:00:00.000000000",
          "2024-02-08T00:00:00.000000000",
          "2024-02-09T00:00:00.000000000",
          "2024-02-12T00:00:00.000000000",
          "2024-02-13T00:00:00.000000000",
          "2024-02-14T00:00:00.000000000",
          "2024-02-15T00:00:00.000000000",
          "2024-02-16T00:00:00.000000000",
          "2024-02-19T00:00:00.000000000",
          "2024-02-20T00:00:00.000000000",
          "2024-02-21T00:00:00.000000000",
          "2024-02-22T00:00:00.000000000",
          "2024-02-23T00:00:00.000000000",
          "2024-02-26T00:00:00.000000000",
          "2024-02-27T00:00:00.000000000",
          "2024-02-28T00:00:00.000000000",
          "2024-02-29T00:00:00.000000000",
          "2024-03-01T00:00:00.000000000",
          "2024-03-04T00:00:00.000000000",
          "2024-03-05T00:00:00.000000000",
          "2024-03-06T00:00:00.000000000",
          "2024-03-07T00:00:00.000000000",
          "2024-03-11T00:00:00.000000000",
          "2024-03-12T00:00:00.000000000",
          "2024-03-13T00:00:00.000000000",
          "2024-03-14T00:00:00.000000000",
          "2024-03-15T00:00:00.000000000",
          "2024-03-18T00:00:00.000000000",
          "2024-03-19T00:00:00.000000000",
          "2024-03-20T00:00:00.000000000",
          "2024-03-21T00:00:00.000000000",
          "2024-03-22T00:00:00.000000000",
          "2024-03-26T00:00:00.000000000",
          "2024-03-27T00:00:00.000000000",
          "2024-03-28T00:00:00.000000000",
          "2024-04-01T00:00:00.000000000",
          "2024-04-02T00:00:00.000000000",
          "2024-04-03T00:00:00.000000000",
          "2024-04-04T00:00:00.000000000",
          "2024-04-05T00:00:00.000000000",
          "2024-04-08T00:00:00.000000000",
          "2024-04-09T00:00:00.000000000",
          "2024-04-10T00:00:00.000000000",
          "2024-04-12T00:00:00.000000000",
          "2024-04-15T00:00:00.000000000",
          "2024-04-16T00:00:00.000000000",
          "2024-04-18T00:00:00.000000000",
          "2024-04-19T00:00:00.000000000",
          "2024-04-22T00:00:00.000000000",
          "2024-04-23T00:00:00.000000000",
          "2024-04-24T00:00:00.000000000",
          "2024-04-25T00:00:00.000000000",
          "2024-04-26T00:00:00.000000000",
          "2024-04-29T00:00:00.000000000",
          "2024-04-30T00:00:00.000000000",
          "2024-05-02T00:00:00.000000000",
          "2024-05-03T00:00:00.000000000",
          "2024-05-06T00:00:00.000000000",
          "2024-05-07T00:00:00.000000000",
          "2024-05-08T00:00:00.000000000",
          "2024-05-09T00:00:00.000000000",
          "2024-05-10T00:00:00.000000000",
          "2024-05-13T00:00:00.000000000",
          "2024-05-14T00:00:00.000000000",
          "2024-05-15T00:00:00.000000000",
          "2024-05-16T00:00:00.000000000",
          "2024-05-17T00:00:00.000000000",
          "2024-05-21T00:00:00.000000000",
          "2024-05-22T00:00:00.000000000",
          "2024-05-23T00:00:00.000000000",
          "2024-05-24T00:00:00.000000000",
          "2024-05-27T00:00:00.000000000",
          "2024-05-28T00:00:00.000000000",
          "2024-05-29T00:00:00.000000000",
          "2024-05-30T00:00:00.000000000",
          "2024-05-31T00:00:00.000000000",
          "2024-06-03T00:00:00.000000000",
          "2024-06-04T00:00:00.000000000",
          "2024-06-05T00:00:00.000000000",
          "2024-06-06T00:00:00.000000000",
          "2024-06-07T00:00:00.000000000",
          "2024-06-10T00:00:00.000000000",
          "2024-06-11T00:00:00.000000000",
          "2024-06-12T00:00:00.000000000",
          "2024-06-13T00:00:00.000000000",
          "2024-06-14T00:00:00.000000000",
          "2024-06-18T00:00:00.000000000",
          "2024-06-19T00:00:00.000000000",
          "2024-06-20T00:00:00.000000000",
          "2024-06-21T00:00:00.000000000",
          "2024-06-24T00:00:00.000000000",
          "2024-06-25T00:00:00.000000000",
          "2024-06-26T00:00:00.000000000",
          "2024-06-27T00:00:00.000000000",
          "2024-06-28T00:00:00.000000000",
          "2024-07-01T00:00:00.000000000",
          "2024-07-02T00:00:00.000000000",
          "2024-07-03T00:00:00.000000000",
          "2024-07-04T00:00:00.000000000",
          "2024-07-05T00:00:00.000000000",
          "2024-07-08T00:00:00.000000000",
          "2024-07-09T00:00:00.000000000",
          "2024-07-10T00:00:00.000000000",
          "2024-07-11T00:00:00.000000000",
          "2024-07-12T00:00:00.000000000",
          "2024-07-15T00:00:00.000000000",
          "2024-07-16T00:00:00.000000000",
          "2024-07-18T00:00:00.000000000",
          "2024-07-19T00:00:00.000000000",
          "2024-07-22T00:00:00.000000000",
          "2024-07-23T00:00:00.000000000",
          "2024-07-24T00:00:00.000000000",
          "2024-07-25T00:00:00.000000000",
          "2024-07-26T00:00:00.000000000",
          "2024-07-29T00:00:00.000000000",
          "2024-07-30T00:00:00.000000000",
          "2024-07-31T00:00:00.000000000",
          "2024-08-01T00:00:00.000000000",
          "2024-08-02T00:00:00.000000000",
          "2024-08-05T00:00:00.000000000",
          "2024-08-06T00:00:00.000000000",
          "2024-08-07T00:00:00.000000000",
          "2024-08-08T00:00:00.000000000",
          "2024-08-09T00:00:00.000000000",
          "2024-08-12T00:00:00.000000000",
          "2024-08-13T00:00:00.000000000",
          "2024-08-14T00:00:00.000000000",
          "2024-08-16T00:00:00.000000000",
          "2024-08-19T00:00:00.000000000",
          "2024-08-20T00:00:00.000000000",
          "2024-08-21T00:00:00.000000000",
          "2024-08-22T00:00:00.000000000",
          "2024-08-23T00:00:00.000000000",
          "2024-08-26T00:00:00.000000000",
          "2024-08-27T00:00:00.000000000",
          "2024-08-28T00:00:00.000000000",
          "2024-08-29T00:00:00.000000000",
          "2024-08-30T00:00:00.000000000",
          "2024-09-02T00:00:00.000000000",
          "2024-09-03T00:00:00.000000000",
          "2024-09-04T00:00:00.000000000",
          "2024-09-05T00:00:00.000000000",
          "2024-09-06T00:00:00.000000000",
          "2024-09-09T00:00:00.000000000",
          "2024-09-10T00:00:00.000000000",
          "2024-09-11T00:00:00.000000000",
          "2024-09-12T00:00:00.000000000",
          "2024-09-13T00:00:00.000000000",
          "2024-09-16T00:00:00.000000000",
          "2024-09-17T00:00:00.000000000",
          "2024-09-18T00:00:00.000000000",
          "2024-09-19T00:00:00.000000000",
          "2024-09-20T00:00:00.000000000",
          "2024-09-23T00:00:00.000000000",
          "2024-09-24T00:00:00.000000000",
          "2024-09-25T00:00:00.000000000",
          "2024-09-26T00:00:00.000000000",
          "2024-09-27T00:00:00.000000000",
          "2024-09-30T00:00:00.000000000",
          "2024-10-01T00:00:00.000000000",
          "2024-10-03T00:00:00.000000000",
          "2024-10-04T00:00:00.000000000",
          "2024-10-07T00:00:00.000000000",
          "2024-10-08T00:00:00.000000000",
          "2024-10-09T00:00:00.000000000",
          "2024-10-10T00:00:00.000000000",
          "2024-10-11T00:00:00.000000000",
          "2024-10-14T00:00:00.000000000",
          "2024-10-15T00:00:00.000000000",
          "2024-10-16T00:00:00.000000000",
          "2024-10-17T00:00:00.000000000",
          "2024-10-18T00:00:00.000000000",
          "2024-10-21T00:00:00.000000000",
          "2024-10-22T00:00:00.000000000",
          "2024-10-23T00:00:00.000000000",
          "2024-10-24T00:00:00.000000000",
          "2024-10-25T00:00:00.000000000",
          "2024-10-28T00:00:00.000000000",
          "2024-10-29T00:00:00.000000000",
          "2024-10-30T00:00:00.000000000",
          "2024-10-31T00:00:00.000000000",
          "2024-11-01T00:00:00.000000000",
          "2024-11-04T00:00:00.000000000",
          "2024-11-05T00:00:00.000000000",
          "2024-11-06T00:00:00.000000000",
          "2024-11-07T00:00:00.000000000",
          "2024-11-08T00:00:00.000000000",
          "2024-11-11T00:00:00.000000000",
          "2024-11-12T00:00:00.000000000",
          "2024-11-13T00:00:00.000000000",
          "2024-11-14T00:00:00.000000000",
          "2024-11-18T00:00:00.000000000",
          "2024-11-19T00:00:00.000000000",
          "2024-11-21T00:00:00.000000000",
          "2024-11-22T00:00:00.000000000",
          "2024-11-25T00:00:00.000000000",
          "2024-11-26T00:00:00.000000000",
          "2024-11-27T00:00:00.000000000",
          "2024-11-28T00:00:00.000000000",
          "2024-11-29T00:00:00.000000000",
          "2024-12-02T00:00:00.000000000",
          "2024-12-03T00:00:00.000000000",
          "2024-12-04T00:00:00.000000000",
          "2024-12-05T00:00:00.000000000",
          "2024-12-06T00:00:00.000000000",
          "2024-12-09T00:00:00.000000000",
          "2024-12-10T00:00:00.000000000",
          "2024-12-11T00:00:00.000000000",
          "2024-12-12T00:00:00.000000000",
          "2024-12-13T00:00:00.000000000",
          "2024-12-16T00:00:00.000000000",
          "2024-12-17T00:00:00.000000000",
          "2024-12-18T00:00:00.000000000",
          "2024-12-19T00:00:00.000000000",
          "2024-12-20T00:00:00.000000000",
          "2024-12-23T00:00:00.000000000",
          "2024-12-24T00:00:00.000000000",
          "2024-12-26T00:00:00.000000000",
          "2024-12-27T00:00:00.000000000",
          "2024-12-30T00:00:00.000000000",
          "2024-12-31T00:00:00.000000000",
          "2025-01-01T00:00:00.000000000",
          "2025-01-02T00:00:00.000000000",
          "2025-01-03T00:00:00.000000000",
          "2025-01-06T00:00:00.000000000",
          "2025-01-07T00:00:00.000000000",
          "2025-01-08T00:00:00.000000000",
          "2025-01-09T00:00:00.000000000",
          "2025-01-10T00:00:00.000000000",
          "2025-01-13T00:00:00.000000000",
          "2025-01-14T00:00:00.000000000",
          "2025-01-15T00:00:00.000000000",
          "2025-01-16T00:00:00.000000000",
          "2025-01-17T00:00:00.000000000",
          "2025-01-20T00:00:00.000000000",
          "2025-01-21T00:00:00.000000000",
          "2025-01-22T00:00:00.000000000",
          "2025-01-23T00:00:00.000000000",
          "2025-01-24T00:00:00.000000000",
          "2025-01-27T00:00:00.000000000",
          "2025-01-28T00:00:00.000000000",
          "2025-01-29T00:00:00.000000000",
          "2025-01-30T00:00:00.000000000",
          "2025-01-31T00:00:00.000000000",
          "2025-02-01T00:00:00.000000000",
          "2025-02-03T00:00:00.000000000",
          "2025-02-04T00:00:00.000000000",
          "2025-02-05T00:00:00.000000000",
          "2025-02-06T00:00:00.000000000",
          "2025-02-07T00:00:00.000000000",
          "2025-02-10T00:00:00.000000000",
          "2025-02-11T00:00:00.000000000",
          "2025-02-12T00:00:00.000000000",
          "2025-02-13T00:00:00.000000000",
          "2025-02-14T00:00:00.000000000",
          "2025-02-17T00:00:00.000000000",
          "2025-02-18T00:00:00.000000000",
          "2025-02-19T00:00:00.000000000",
          "2025-02-20T00:00:00.000000000",
          "2025-02-21T00:00:00.000000000",
          "2025-02-24T00:00:00.000000000",
          "2025-02-25T00:00:00.000000000",
          "2025-02-27T00:00:00.000000000",
          "2025-02-28T00:00:00.000000000",
          "2025-03-03T00:00:00.000000000",
          "2025-03-04T00:00:00.000000000",
          "2025-03-05T00:00:00.000000000",
          "2025-03-06T00:00:00.000000000",
          "2025-03-07T00:00:00.000000000",
          "2025-03-10T00:00:00.000000000",
          "2025-03-11T00:00:00.000000000",
          "2025-03-12T00:00:00.000000000",
          "2025-03-13T00:00:00.000000000",
          "2025-03-17T00:00:00.000000000",
          "2025-03-18T00:00:00.000000000",
          "2025-03-19T00:00:00.000000000",
          "2025-03-20T00:00:00.000000000",
          "2025-03-21T00:00:00.000000000",
          "2025-03-24T00:00:00.000000000",
          "2025-03-25T00:00:00.000000000",
          "2025-03-26T00:00:00.000000000",
          "2025-03-27T00:00:00.000000000",
          "2025-03-28T00:00:00.000000000",
          "2025-04-01T00:00:00.000000000",
          "2025-04-02T00:00:00.000000000",
          "2025-04-03T00:00:00.000000000",
          "2025-04-04T00:00:00.000000000",
          "2025-04-07T00:00:00.000000000",
          "2025-04-08T00:00:00.000000000",
          "2025-04-09T00:00:00.000000000",
          "2025-04-11T00:00:00.000000000",
          "2025-04-15T00:00:00.000000000",
          "2025-04-16T00:00:00.000000000",
          "2025-04-17T00:00:00.000000000",
          "2025-04-21T00:00:00.000000000",
          "2025-04-22T00:00:00.000000000",
          "2025-04-23T00:00:00.000000000",
          "2025-04-24T00:00:00.000000000",
          "2025-04-25T00:00:00.000000000",
          "2025-04-28T00:00:00.000000000",
          "2025-04-29T00:00:00.000000000",
          "2025-04-30T00:00:00.000000000",
          "2025-05-02T00:00:00.000000000",
          "2025-05-05T00:00:00.000000000",
          "2025-05-06T00:00:00.000000000",
          "2025-05-07T00:00:00.000000000",
          "2025-05-08T00:00:00.000000000",
          "2025-05-09T00:00:00.000000000",
          "2025-05-12T00:00:00.000000000",
          "2025-05-13T00:00:00.000000000",
          "2025-05-14T00:00:00.000000000",
          "2025-05-15T00:00:00.000000000",
          "2025-05-16T00:00:00.000000000",
          "2025-05-19T00:00:00.000000000",
          "2025-05-20T00:00:00.000000000",
          "2025-05-21T00:00:00.000000000",
          "2025-05-22T00:00:00.000000000",
          "2025-05-23T00:00:00.000000000",
          "2025-05-26T00:00:00.000000000",
          "2025-05-27T00:00:00.000000000",
          "2025-05-28T00:00:00.000000000",
          "2025-05-29T00:00:00.000000000",
          "2025-05-30T00:00:00.000000000",
          "2025-06-02T00:00:00.000000000",
          "2025-06-03T00:00:00.000000000",
          "2025-06-04T00:00:00.000000000",
          "2025-06-05T00:00:00.000000000",
          "2025-06-06T00:00:00.000000000",
          "2025-06-09T00:00:00.000000000",
          "2025-06-10T00:00:00.000000000",
          "2025-06-11T00:00:00.000000000",
          "2025-06-12T00:00:00.000000000",
          "2025-06-13T00:00:00.000000000",
          "2025-06-16T00:00:00.000000000",
          "2025-06-17T00:00:00.000000000",
          "2025-06-18T00:00:00.000000000",
          "2025-06-19T00:00:00.000000000",
          "2025-06-20T00:00:00.000000000",
          "2025-06-23T00:00:00.000000000",
          "2025-06-24T00:00:00.000000000",
          "2025-06-25T00:00:00.000000000",
          "2025-06-26T00:00:00.000000000",
          "2025-06-27T00:00:00.000000000",
          "2025-06-30T00:00:00.000000000",
          "2025-07-01T00:00:00.000000000",
          "2025-07-02T00:00:00.000000000",
          "2025-07-03T00:00:00.000000000",
          "2025-07-04T00:00:00.000000000",
          "2025-07-07T00:00:00.000000000",
          "2025-07-08T00:00:00.000000000",
          "2025-07-09T00:00:00.000000000",
          "2025-07-10T00:00:00.000000000",
          "2025-07-11T00:00:00.000000000",
          "2025-07-14T00:00:00.000000000",
          "2025-07-15T00:00:00.000000000",
          "2025-07-16T00:00:00.000000000",
          "2025-07-17T00:00:00.000000000",
          "2025-07-18T00:00:00.000000000",
          "2025-07-21T00:00:00.000000000",
          "2025-07-22T00:00:00.000000000",
          "2025-07-23T00:00:00.000000000",
          "2025-07-24T00:00:00.000000000",
          "2025-07-25T00:00:00.000000000",
          "2025-07-28T00:00:00.000000000",
          "2025-07-29T00:00:00.000000000",
          "2025-07-30T00:00:00.000000000",
          "2025-07-31T00:00:00.000000000",
          "2025-08-01T00:00:00.000000000",
          "2025-08-04T00:00:00.000000000",
          "2025-08-05T00:00:00.000000000",
          "2025-08-06T00:00:00.000000000",
          "2025-08-07T00:00:00.000000000",
          "2025-08-08T00:00:00.000000000",
          "2025-08-11T00:00:00.000000000",
          "2025-08-12T00:00:00.000000000",
          "2025-08-13T00:00:00.000000000",
          "2025-08-14T00:00:00.000000000",
          "2025-08-18T00:00:00.000000000",
          "2025-08-19T00:00:00.000000000",
          "2025-08-20T00:00:00.000000000",
          "2025-08-21T00:00:00.000000000",
          "2025-08-22T00:00:00.000000000",
          "2025-08-25T00:00:00.000000000",
          "2025-08-26T00:00:00.000000000",
          "2025-08-27T00:00:00.000000000",
          "2025-08-28T00:00:00.000000000",
          "2025-08-29T00:00:00.000000000",
          "2025-09-01T00:00:00.000000000",
          "2025-09-02T00:00:00.000000000",
          "2025-09-03T00:00:00.000000000",
          "2025-09-04T00:00:00.000000000",
          "2025-09-05T00:00:00.000000000",
          "2025-09-08T00:00:00.000000000",
          "2025-09-09T00:00:00.000000000",
          "2025-09-10T00:00:00.000000000",
          "2025-09-11T00:00:00.000000000",
          "2025-09-12T00:00:00.000000000",
          "2025-09-15T00:00:00.000000000",
          "2025-09-16T00:00:00.000000000",
          "2025-09-17T00:00:00.000000000",
          "2025-09-18T00:00:00.000000000",
          "2025-09-19T00:00:00.000000000",
          "2025-09-22T00:00:00.000000000",
          "2025-09-23T00:00:00.000000000",
          "2025-09-24T00:00:00.000000000",
          "2025-09-25T00:00:00.000000000",
          "2025-09-26T00:00:00.000000000"
         ],
         "xaxis": "x3",
         "y": {
          "bdata": "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",
          "dtype": "f8"
         },
         "yaxis": "y3"
        }
       ],
       "layout": {
        "annotations": [
         {
          "font": {
           "size": 16
          },
          "showarrow": false,
          "text": "Price with Bollinger Bands",
          "x": 0.5,
          "xanchor": "center",
          "xref": "paper",
          "y": 1,
          "yanchor": "bottom",
          "yref": "paper"
         },
         {
          "font": {
           "size": 16
          },
          "showarrow": false,
          "text": "RSI",
          "x": 0.5,
          "xanchor": "center",
          "xref": "paper",
          "y": 0.41000000000000003,
          "yanchor": "bottom",
          "yref": "paper"
         },
         {
          "font": {
           "size": 16
          },
          "showarrow": false,
          "text": "MACD",
          "x": 0.5,
          "xanchor": "center",
          "xref": "paper",
          "y": 0.18000000000000002,
          "yanchor": "bottom",
          "yref": "paper"
         }
        ],
        "height": 800,
        "shapes": [
         {
          "line": {
           "color": "red",
           "dash": "dash"
          },
          "type": "line",
          "x0": 0,
          "x1": 1,
          "xref": "x2 domain",
          "y0": 70,
          "y1": 70,
          "yref": "y2"
         },
         {
          "line": {
           "color": "green",
           "dash": "dash"
          },
          "type": "line",
          "x0": 0,
          "x1": 1,
          "xref": "x2 domain",
          "y0": 30,
          "y1": 30,
          "yref": "y2"
         }
        ],
        "showlegend": true,
        "template": {
         "data": {
          "bar": [
           {
            "error_x": {
             "color": "#2a3f5f"
            },
            "error_y": {
             "color": "#2a3f5f"
            },
            "marker": {
             "line": {
              "color": "white",
              "width": 0.5
             },
             "pattern": {
              "fillmode": "overlay",
              "size": 10,
              "solidity": 0.2
             }
            },
            "type": "bar"
           }
          ],
          "barpolar": [
           {
            "marker": {
             "line": {
              "color": "white",
              "width": 0.5
             },
             "pattern": {
              "fillmode": "overlay",
              "size": 10,
              "solidity": 0.2
             }
            },
            "type": "barpolar"
           }
          ],
          "carpet": [
           {
            "aaxis": {
             "endlinecolor": "#2a3f5f",
             "gridcolor": "#C8D4E3",
             "linecolor": "#C8D4E3",
             "minorgridcolor": "#C8D4E3",
             "startlinecolor": "#2a3f5f"
            },
            "baxis": {
             "endlinecolor": "#2a3f5f",
             "gridcolor": "#C8D4E3",
             "linecolor": "#C8D4E3",
             "minorgridcolor": "#C8D4E3",
             "startlinecolor": "#2a3f5f"
            },
            "type": "carpet"
           }
          ],
          "choropleth": [
           {
            "colorbar": {
             "outlinewidth": 0,
             "ticks": ""
            },
            "type": "choropleth"
           }
          ],
          "contour": [
           {
            "colorbar": {
             "outlinewidth": 0,
             "ticks": ""
            },
            "colorscale": [
             [
              0,
              "#0d0887"
             ],
             [
              0.1111111111111111,
              "#46039f"
             ],
             [
              0.2222222222222222,
              "#7201a8"
             ],
             [
              0.3333333333333333,
              "#9c179e"
             ],
             [
              0.4444444444444444,
              "#bd3786"
             ],
             [
              0.5555555555555556,
              "#d8576b"
             ],
             [
              0.6666666666666666,
              "#ed7953"
             ],
             [
              0.7777777777777778,
              "#fb9f3a"
             ],
             [
              0.8888888888888888,
              "#fdca26"
             ],
             [
              1,
              "#f0f921"
             ]
            ],
            "type": "contour"
           }
          ],
          "contourcarpet": [
           {
            "colorbar": {
             "outlinewidth": 0,
             "ticks": ""
            },
            "type": "contourcarpet"
           }
          ],
          "heatmap": [
           {
            "colorbar": {
             "outlinewidth": 0,
             "ticks": ""
            },
            "colorscale": [
             [
              0,
              "#0d0887"
             ],
             [
              0.1111111111111111,
              "#46039f"
             ],
             [
              0.2222222222222222,
              "#7201a8"
             ],
             [
              0.3333333333333333,
              "#9c179e"
             ],
             [
              0.4444444444444444,
              "#bd3786"
             ],
             [
              0.5555555555555556,
              "#d8576b"
             ],
             [
              0.6666666666666666,
              "#ed7953"
             ],
             [
              0.7777777777777778,
              "#fb9f3a"
             ],
             [
              0.8888888888888888,
              "#fdca26"
             ],
             [
              1,
              "#f0f921"
             ]
            ],
            "type": "heatmap"
           }
          ],
          "histogram": [
           {
            "marker": {
             "pattern": {
              "fillmode": "overlay",
              "size": 10,
              "solidity": 0.2
             }
            },
            "type": "histogram"
           }
          ],
          "histogram2d": [
           {
            "colorbar": {
             "outlinewidth": 0,
             "ticks": ""
            },
            "colorscale": [
             [
              0,
              "#0d0887"
             ],
             [
              0.1111111111111111,
              "#46039f"
             ],
             [
              0.2222222222222222,
              "#7201a8"
             ],
             [
              0.3333333333333333,
              "#9c179e"
             ],
             [
              0.4444444444444444,
              "#bd3786"
             ],
             [
              0.5555555555555556,
              "#d8576b"
             ],
             [
              0.6666666666666666,
              "#ed7953"
             ],
             [
              0.7777777777777778,
              "#fb9f3a"
             ],
             [
              0.8888888888888888,
              "#fdca26"
             ],
             [
              1,
              "#f0f921"
             ]
            ],
            "type": "histogram2d"
           }
          ],
          "histogram2dcontour": [
           {
            "colorbar": {
             "outlinewidth": 0,
             "ticks": ""
            },
            "colorscale": [
             [
              0,
              "#0d0887"
             ],
             [
              0.1111111111111111,
              "#46039f"
             ],
             [
              0.2222222222222222,
              "#7201a8"
             ],
             [
              0.3333333333333333,
              "#9c179e"
             ],
             [
              0.4444444444444444,
              "#bd3786"
             ],
             [
              0.5555555555555556,
              "#d8576b"
             ],
             [
              0.6666666666666666,
              "#ed7953"
             ],
             [
              0.7777777777777778,
              "#fb9f3a"
             ],
             [
              0.8888888888888888,
              "#fdca26"
             ],
             [
              1,
              "#f0f921"
             ]
            ],
            "type": "histogram2dcontour"
           }
          ],
          "mesh3d": [
           {
            "colorbar": {
             "outlinewidth": 0,
             "ticks": ""
            },
            "type": "mesh3d"
           }
          ],
          "parcoords": [
           {
            "line": {
             "colorbar": {
              "outlinewidth": 0,
              "ticks": ""
             }
            },
            "type": "parcoords"
           }
          ],
          "pie": [
           {
            "automargin": true,
            "type": "pie"
           }
          ],
          "scatter": [
           {
            "fillpattern": {
             "fillmode": "overlay",
             "size": 10,
             "solidity": 0.2
            },
            "type": "scatter"
           }
          ],
          "scatter3d": [
           {
            "line": {
             "colorbar": {
              "outlinewidth": 0,
              "ticks": ""
             }
            },
            "marker": {
             "colorbar": {
              "outlinewidth": 0,
              "ticks": ""
             }
            },
            "type": "scatter3d"
           }
          ],
          "scattercarpet": [
           {
            "marker": {
             "colorbar": {
              "outlinewidth": 0,
              "ticks": ""
             }
            },
            "type": "scattercarpet"
           }
          ],
          "scattergeo": [
           {
            "marker": {
             "colorbar": {
              "outlinewidth": 0,
              "ticks": ""
             }
            },
            "type": "scattergeo"
           }
          ],
          "scattergl": [
           {
            "marker": {
             "colorbar": {
              "outlinewidth": 0,
              "ticks": ""
             }
            },
            "type": "scattergl"
           }
          ],
          "scattermap": [
           {
            "marker": {
             "colorbar": {
              "outlinewidth": 0,
              "ticks": ""
             }
            },
            "type": "scattermap"
           }
          ],
          "scattermapbox": [
           {
            "marker": {
             "colorbar": {
              "outlinewidth": 0,
              "ticks": ""
             }
            },
            "type": "scattermapbox"
           }
          ],
          "scatterpolar": [
           {
            "marker": {
             "colorbar": {
              "outlinewidth": 0,
              "ticks": ""
             }
            },
            "type": "scatterpolar"
           }
          ],
          "scatterpolargl": [
           {
            "marker": {
             "colorbar": {
              "outlinewidth": 0,
              "ticks": ""
             }
            },
            "type": "scatterpolargl"
           }
          ],
          "scatterternary": [
           {
            "marker": {
             "colorbar": {
              "outlinewidth": 0,
              "ticks": ""
             }
            },
            "type": "scatterternary"
           }
          ],
          "surface": [
           {
            "colorbar": {
             "outlinewidth": 0,
             "ticks": ""
            },
            "colorscale": [
             [
              0,
              "#0d0887"
             ],
             [
              0.1111111111111111,
              "#46039f"
             ],
             [
              0.2222222222222222,
              "#7201a8"
             ],
             [
              0.3333333333333333,
              "#9c179e"
             ],
             [
              0.4444444444444444,
              "#bd3786"
             ],
             [
              0.5555555555555556,
              "#d8576b"
             ],
             [
              0.6666666666666666,
              "#ed7953"
             ],
             [
              0.7777777777777778,
              "#fb9f3a"
             ],
             [
              0.8888888888888888,
              "#fdca26"
             ],
             [
              1,
              "#f0f921"
             ]
            ],
            "type": "surface"
           }
          ],
          "table": [
           {
            "cells": {
             "fill": {
              "color": "#EBF0F8"
             },
             "line": {
              "color": "white"
             }
            },
            "header": {
             "fill": {
              "color": "#C8D4E3"
             },
             "line": {
              "color": "white"
             }
            },
            "type": "table"
           }
          ]
         },
         "layout": {
          "annotationdefaults": {
           "arrowcolor": "#2a3f5f",
           "arrowhead": 0,
           "arrowwidth": 1
          },
          "autotypenumbers": "strict",
          "coloraxis": {
           "colorbar": {
            "outlinewidth": 0,
            "ticks": ""
           }
          },
          "colorscale": {
           "diverging": [
            [
             0,
             "#8e0152"
            ],
            [
             0.1,
             "#c51b7d"
            ],
            [
             0.2,
             "#de77ae"
            ],
            [
             0.3,
             "#f1b6da"
            ],
            [
             0.4,
             "#fde0ef"
            ],
            [
             0.5,
             "#f7f7f7"
            ],
            [
             0.6,
             "#e6f5d0"
            ],
            [
             0.7,
             "#b8e186"
            ],
            [
             0.8,
             "#7fbc41"
            ],
            [
             0.9,
             "#4d9221"
            ],
            [
             1,
             "#276419"
            ]
           ],
           "sequential": [
            [
             0,
             "#0d0887"
            ],
            [
             0.1111111111111111,
             "#46039f"
            ],
            [
             0.2222222222222222,
             "#7201a8"
            ],
            [
             0.3333333333333333,
             "#9c179e"
            ],
            [
             0.4444444444444444,
             "#bd3786"
            ],
            [
             0.5555555555555556,
             "#d8576b"
            ],
            [
             0.6666666666666666,
             "#ed7953"
            ],
            [
             0.7777777777777778,
             "#fb9f3a"
            ],
            [
             0.8888888888888888,
             "#fdca26"
            ],
            [
             1,
             "#f0f921"
            ]
           ],
           "sequentialminus": [
            [
             0,
             "#0d0887"
            ],
            [
             0.1111111111111111,
             "#46039f"
            ],
            [
             0.2222222222222222,
             "#7201a8"
            ],
            [
             0.3333333333333333,
             "#9c179e"
            ],
            [
             0.4444444444444444,
             "#bd3786"
            ],
            [
             0.5555555555555556,
             "#d8576b"
            ],
            [
             0.6666666666666666,
             "#ed7953"
            ],
            [
             0.7777777777777778,
             "#fb9f3a"
            ],
            [
             0.8888888888888888,
             "#fdca26"
            ],
            [
             1,
             "#f0f921"
            ]
           ]
          },
          "colorway": [
           "#636efa",
           "#EF553B",
           "#00cc96",
           "#ab63fa",
           "#FFA15A",
           "#19d3f3",
           "#FF6692",
           "#B6E880",
           "#FF97FF",
           "#FECB52"
          ],
          "font": {
           "color": "#2a3f5f"
          },
          "geo": {
           "bgcolor": "white",
           "lakecolor": "white",
           "landcolor": "white",
           "showlakes": true,
           "showland": true,
           "subunitcolor": "#C8D4E3"
          },
          "hoverlabel": {
           "align": "left"
          },
          "hovermode": "closest",
          "mapbox": {
           "style": "light"
          },
          "paper_bgcolor": "white",
          "plot_bgcolor": "white",
          "polar": {
           "angularaxis": {
            "gridcolor": "#EBF0F8",
            "linecolor": "#EBF0F8",
            "ticks": ""
           },
           "bgcolor": "white",
           "radialaxis": {
            "gridcolor": "#EBF0F8",
            "linecolor": "#EBF0F8",
            "ticks": ""
           }
          },
          "scene": {
           "xaxis": {
            "backgroundcolor": "white",
            "gridcolor": "#DFE8F3",
            "gridwidth": 2,
            "linecolor": "#EBF0F8",
            "showbackground": true,
            "ticks": "",
            "zerolinecolor": "#EBF0F8"
           },
           "yaxis": {
            "backgroundcolor": "white",
            "gridcolor": "#DFE8F3",
            "gridwidth": 2,
            "linecolor": "#EBF0F8",
            "showbackground": true,
            "ticks": "",
            "zerolinecolor": "#EBF0F8"
           },
           "zaxis": {
            "backgroundcolor": "white",
            "gridcolor": "#DFE8F3",
            "gridwidth": 2,
            "linecolor": "#EBF0F8",
            "showbackground": true,
            "ticks": "",
            "zerolinecolor": "#EBF0F8"
           }
          },
          "shapedefaults": {
           "line": {
            "color": "#2a3f5f"
           }
          },
          "ternary": {
           "aaxis": {
            "gridcolor": "#DFE8F3",
            "linecolor": "#A2B1C6",
            "ticks": ""
           },
           "baxis": {
            "gridcolor": "#DFE8F3",
            "linecolor": "#A2B1C6",
            "ticks": ""
           },
           "bgcolor": "white",
           "caxis": {
            "gridcolor": "#DFE8F3",
            "linecolor": "#A2B1C6",
            "ticks": ""
           }
          },
          "title": {
           "x": 0.05
          },
          "xaxis": {
           "automargin": true,
           "gridcolor": "#EBF0F8",
           "linecolor": "#EBF0F8",
           "ticks": "",
           "title": {
            "standoff": 15
           },
           "zerolinecolor": "#EBF0F8",
           "zerolinewidth": 2
          },
          "yaxis": {
           "automargin": true,
           "gridcolor": "#EBF0F8",
           "linecolor": "#EBF0F8",
           "ticks": "",
           "title": {
            "standoff": 15
           },
           "zerolinecolor": "#EBF0F8",
           "zerolinewidth": 2
          }
         }
        },
        "title": {
         "text": "TCS.NS Technical Indicators"
        },
        "xaxis": {
         "anchor": "y",
         "domain": [
          0,
          1
         ],
         "matches": "x3",
         "showticklabels": false
        },
        "xaxis2": {
         "anchor": "y2",
         "domain": [
          0,
          1
         ],
         "matches": "x3",
         "showticklabels": false
        },
        "xaxis3": {
         "anchor": "y3",
         "domain": [
          0,
          1
         ]
        },
        "yaxis": {
         "anchor": "x",
         "domain": [
          0.4600000000000001,
          1
         ]
        },
        "yaxis2": {
         "anchor": "x2",
         "domain": [
          0.23000000000000004,
          0.41000000000000003
         ]
        },
        "yaxis3": {
         "anchor": "x3",
         "domain": [
          0,
          0.18000000000000002
         ]
        }
       }
      }
     },
     "metadata": {},
     "output_type": "display_data"
    },
    {
     "name": "stdout",
     "output_type": "stream",
     "text": [
      "\n",
      "================================================================================\n",
      "📈 DETAILED FUTURE PREDICTIONS FOR TCS.NS\n",
      "================================================================================\n",
      "📅 Analysis Date: 2025-09-28 13:43:47\n",
      "💰 Current Price: $2899.10\n",
      "📊 Last Trading Day: 2025-09-26 (Friday)\n",
      "\n",
      "🔮 Next 7 Trading Days:\n",
      "--------------------------------------------------------------------------------\n",
      "📅 2025-09-29 (Monday): RF: $3041.15 (+4.90%) | LSTM: $3064.30 (+5.70%) | LSTM more volatile 🚀\n",
      "📅 2025-09-30 (Tuesday): RF: $3035.24 (+4.70%) | LSTM: $3056.95 (+5.44%) | LSTM more volatile 🚀\n",
      "📅 2025-10-01 (Wednesday): RF: $3035.45 (+4.70%) | LSTM: $3053.12 (+5.31%) | LSTM more volatile 🚀\n",
      "📅 2025-10-02 (Thursday): RF: $3035.45 (+4.70%) | LSTM: $3051.64 (+5.26%) | LSTM more volatile 🚀\n",
      "📅 2025-10-03 (Friday): RF: $3035.45 (+4.70%) | LSTM: $3052.09 (+5.28%) | LSTM more volatile 🚀\n",
      "📅 2025-10-06 (Monday): RF: $3035.45 (+4.70%) | LSTM: $3053.97 (+5.34%) | LSTM more volatile 🚀\n",
      "📅 2025-10-07 (Tuesday): RF: $3035.45 (+4.70%) | LSTM: $3056.37 (+5.42%) | LSTM more volatile 🚀\n",
      "\n",
      "📊 SUMMARY STATISTICS:\n",
      "   RandomForest Average Change: +4.73%\n",
      "   Predicted Range: $3035.24 - $3041.15\n",
      "   Price Volatility: 0.20%\n",
      "   LSTM Average Change: +5.39%\n",
      "\n",
      "💾 Saving Models...\n",
      "RandomForest model saved as TCS_NS_rf_model.joblib\n",
      "Scaler saved as TCS_NS_scaler.joblib\n",
      "LSTM model saved as TCS_NS_lstm_model.keras\n",
      "LSTM scaler saved as TCS_NS_lstm_scaler.joblib\n",
      "\n",
      "✅ Prediction completed for TCS.NS!\n",
      "\n",
      "================================================================================\n",
      "📊 FINAL PREDICTION SUMMARY REPORT\n",
      "================================================================================\n",
      "\n",
      "📈 TCS -> TCS.NS:\n",
      "   Current Price: $2899.10\n",
      "   RandomForest - MAE: $88.81, R²: 0.5717\n",
      "   LSTM - MAE: $56.53\n",
      "   Next Trading Day (2025-09-29): $3041.15 (+4.90%)\n",
      "\n",
      "Analysis completed for 1 stocks!\n",
      "\n",
      "Available symbols for future analysis:\n",
      "🇺🇸 US Stocks: AAPL, MSFT, GOOGL, AMZN, TSLA, META, NFLX, NVDA\n",
      "🇮🇳 Indian Stocks: RELIANCE, TCS, INFY, L&T, HDFC, SBIN, WIPRO\n",
      "International: Use Yahoo Finance symbols\n",
      "\n",
      "Models and scalers have been saved for future use!\n",
      "Run the script again to analyze different stocks!\n"
     ]
    }
   ],
   "source": [
    "# Main execution block\n",
    "if __name__ == \"__main__\":\n",
    "    print(\"🚀 ENHANCED STOCK PRICE PREDICTION SYSTEM\")\n",
    "    print(\"=\"*60)\n",
    "    print(\"Features:\")\n",
    "    print(\"✅ Market status checking\")\n",
    "    print(\"✅ Enhanced date handling (weekend awareness)\")\n",
    "    print(\"✅ Interactive prediction tables\")\n",
    "    print(\"✅ Multiple model comparisons\")\n",
    "    print(\"✅ Portfolio analysis\")\n",
    "    print(\"✅ Professional visualizations\")\n",
    "    print(\"=\"*60)\n",
    "    \n",
    "    print(\"\\nYou can enter:\")\n",
    "    print(\"- US Stocks: AAPL, MSFT, GOOGL, TSLA, AMZN, etc.\")\n",
    "    print(\"- Indian Stocks: RELIANCE, TCS, INFY, L&T, HDFC, etc.\")\n",
    "    print(\"- Other: Use exact Yahoo Finance symbols\")\n",
    "    print(\"\\nEnter stock symbols (type 'done' when finished)\")\n",
    "    print(\"=\"*60)\n",
    "    \n",
    "    stocks_to_predict = []\n",
    "    while True:\n",
    "        symbol = input(\"\\nEnter stock symbol: \").strip()\n",
    "        if symbol.lower() == 'done':\n",
    "            break\n",
    "        if symbol:\n",
    "            stocks_to_predict.append(symbol)\n",
    "    \n",
    "    if not stocks_to_predict:\n",
    "        # Default stocks if none provided\n",
    "        stocks_to_predict = ['AAPL', 'MSFT', 'RELIANCE', 'TCS']\n",
    "        print(f\"\\nNo symbols entered. Using default stocks: {stocks_to_predict}\")\n",
    "    \n",
    "    # Choose analysis type\n",
    "    if len(stocks_to_predict) > 1:\n",
    "        analysis_type = input(f\"\\nChoose analysis type:\\n1. Individual analysis\\n2. Portfolio analysis\\nEnter choice (1/2): \").strip()\n",
    "        if analysis_type == '2':\n",
    "            all_results, portfolio_df = create_portfolio_analysis(stocks_to_predict, future_days=7)\n",
    "        else:\n",
    "            # Individual analysis\n",
    "            all_results = {}\n",
    "            for symbol_input in stocks_to_predict:\n",
    "                try:\n",
    "                    result = predict_stock_price_enhanced(symbol_input, future_days=7)\n",
    "                    if result is not None:\n",
    "                        all_results[symbol_input] = result\n",
    "                except Exception as e:\n",
    "                    print(f\"Error processing {symbol_input}: {str(e)}\")\n",
    "                    continue\n",
    "    else:\n",
    "        # Single stock analysis\n",
    "        all_results = {}\n",
    "        symbol_input = stocks_to_predict[0]\n",
    "        try:\n",
    "            result = predict_stock_price_enhanced(symbol_input, future_days=7)\n",
    "            if result is not None:\n",
    "                all_results[symbol_input] = result\n",
    "        except Exception as e:\n",
    "            print(f\"Error processing {symbol_input}: {str(e)}\")\n",
    "    \n",
    "    # Final summary report\n",
    "    print(f\"\\n{'='*80}\")\n",
    "    print(\"📊 FINAL PREDICTION SUMMARY REPORT\")\n",
    "    print(f\"{'='*80}\")\n",
    "    \n",
    "    for symbol_input, results in all_results.items():\n",
    "        classical = results['classical_results']['RandomForest']\n",
    "        symbol_used = results['correct_symbol']\n",
    "        future_preds = results['future_predictions']\n",
    "        \n",
    "        print(f\"\\n📈 {symbol_input} -> {symbol_used}:\")\n",
    "        print(f\"   Current Price: ${results['current_price']:.2f}\")\n",
    "        print(f\"   RandomForest - MAE: ${classical['mae']:.2f}, R²: {classical['r2']:.4f}\")\n",
    "        \n",
    "        if results['lstm_results'] is not None:\n",
    "            lstm_mae = mean_absolute_error(\n",
    "                results['lstm_results']['actual'], \n",
    "                results['lstm_results']['predicted']\n",
    "            )\n",
    "            print(f\"   LSTM - MAE: ${lstm_mae:.2f}\")\n",
    "        \n",
    "        # Show next day prediction\n",
    "        if future_preds['dates']:\n",
    "            next_date = future_preds['dates'][0].strftime('%Y-%m-%d')\n",
    "            next_rf_pred = future_preds['rf_predictions'][0]\n",
    "            today_price = results['current_price']\n",
    "            change = ((next_rf_pred - today_price) / today_price) * 100\n",
    "            \n",
    "            print(f\"   Next Trading Day ({next_date}): ${next_rf_pred:.2f} ({change:+.2f}%)\")\n",
    "    \n",
    "    print(f\"\\nAnalysis completed for {len(all_results)} stocks!\")\n",
    "    print(\"\\nAvailable symbols for future analysis:\")\n",
    "    print(\"🇺🇸 US Stocks: AAPL, MSFT, GOOGL, AMZN, TSLA, META, NFLX, NVDA\")\n",
    "    print(\"🇮🇳 Indian Stocks: RELIANCE, TCS, INFY, L&T, HDFC, SBIN, WIPRO\")\n",
    "    print(\"International: Use Yahoo Finance symbols\")\n",
    "    \n",
    "    print(f\"\\nModels and scalers have been saved for future use!\")\n",
    "    print(\"Run the script again to analyze different stocks!\")"
   ]
  }
 ],
 "metadata": {
  "kernelspec": {
   "display_name": "Python 3",
   "language": "python",
   "name": "python3"
  },
  "language_info": {
   "codemirror_mode": {
    "name": "ipython",
    "version": 3
   },
   "file_extension": ".py",
   "mimetype": "text/x-python",
   "name": "python",
   "nbconvert_exporter": "python",
   "pygments_lexer": "ipython3",
   "version": "3.12.0"
  }
 },
 "nbformat": 4,
 "nbformat_minor": 5
}
