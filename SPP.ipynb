{
 "cells": [
  {
   "cell_type": "markdown",
   "id": "e74b60b8",
   "metadata": {},
   "source": [
    "### Stock Price Prediction System\n",
    "##### Accepts stock symbols like AAPL, TSLA, RELIANCE.NS, INFY.NS.\n",
    "##### Uses Yahoo Finance (yfinance) to fetch historical stock data (last 3 years by default).\n",
    "##### Handles multiple exchanges: US Stocks, Indian Stocks, Etc."
   ]
  },
  {
   "cell_type": "code",
   "execution_count": 13,
   "id": "2f18c234",
   "metadata": {},
   "outputs": [],
   "source": [
    "import pandas as pd\n",
    "import numpy as np\n",
    "import matplotlib.pyplot as plt\n",
    "import warnings\n",
    "warnings.filterwarnings('ignore')\n",
    "\n",
    "from datetime import datetime, timedelta\n",
    "import yfinance as yf\n",
    "import ta"
   ]
  },
  {
   "cell_type": "markdown",
   "id": "da556796",
   "metadata": {},
   "source": [
    "#### Machine Learning Models"
   ]
  },
  {
   "cell_type": "code",
   "execution_count": 14,
   "id": "b3f4ec72",
   "metadata": {},
   "outputs": [],
   "source": [
    "from sklearn.preprocessing import MinMaxScaler, StandardScaler\n",
    "from sklearn.ensemble import RandomForestRegressor\n",
    "from sklearn.svm import SVR\n",
    "from sklearn.metrics import mean_squared_error, mean_absolute_error, r2_score\n",
    "from sklearn.model_selection import train_test_split\n"
   ]
  },
  {
   "cell_type": "markdown",
   "id": "fd91fe31",
   "metadata": {},
   "source": [
    "#### Deep Learning Models"
   ]
  },
  {
   "cell_type": "code",
   "execution_count": 15,
   "id": "7187727f",
   "metadata": {},
   "outputs": [],
   "source": [
    "import tensorflow as tf\n",
    "from tensorflow.keras.models import Sequential\n",
    "from tensorflow.keras.layers import Dense, LSTM, Dropout\n",
    "from tensorflow.keras.callbacks import EarlyStopping"
   ]
  },
  {
   "cell_type": "markdown",
   "id": "6267b55a",
   "metadata": {},
   "source": [
    "#### Visualization Libraries"
   ]
  },
  {
   "cell_type": "code",
   "execution_count": 16,
   "id": "3a8fd688",
   "metadata": {},
   "outputs": [],
   "source": [
    "import plotly.graph_objects as go\n",
    "from plotly.subplots import make_subplots\n",
    "import plotly.express as px"
   ]
  },
  {
   "cell_type": "markdown",
   "id": "06a50d93",
   "metadata": {},
   "source": [
    "#### Suppress TensorFlow warnings"
   ]
  },
  {
   "cell_type": "code",
   "execution_count": 17,
   "id": "ea579981",
   "metadata": {},
   "outputs": [
    {
     "name": "stdout",
     "output_type": "stream",
     "text": [
      "Focused Stock Prediction System - RF | LSTM | SVR\n",
      "============================================================\n"
     ]
    }
   ],
   "source": [
    "import os\n",
    "os.environ['TF_CPP_MIN_LOG_LEVEL'] = '2'\n",
    "tf.get_logger().setLevel('ERROR')\n",
    "\n",
    "print(\"Focused Stock Prediction System - RF | LSTM | SVR\")\n",
    "print(\"=\" * 60)"
   ]
  },
  {
   "cell_type": "markdown",
   "id": "b5d04f4c",
   "metadata": {},
   "source": [
    "#### Stock Handling (Symbols & Currencies)\n",
    "#### Data Fetching & Preparation\n",
    "#### Feature Engineering\n",
    "#### Model Training\n",
    "#### Model Evaluation\n",
    "#### Future Predictions (7-Day Forecast)\n",
    "#### Visualization Dashboards\n"
   ]
  },
  {
   "cell_type": "code",
   "execution_count": 18,
   "id": "5b36f216",
   "metadata": {},
   "outputs": [],
   "source": [
    "class FocusedStockPredictor:\n",
    "    def __init__(self):\n",
    "        self.models = {}\n",
    "        self.scalers = {}\n",
    "        self.results = {}\n",
    "        self.lstm_scaler = None\n",
    "        self.lstm_model = None\n",
    "        self.currency_info = {}\n",
    "        \n",
    "        # Enhanced stock symbol mapping with currency info\n",
    "        self.STOCK_SYMBOL_MAP = {\n",
    "            # US Stocks (USD)\n",
    "            'AAPL': 'AAPL', 'APPLE': 'AAPL',\n",
    "            'MSFT': 'MSFT', 'MICROSOFT': 'MSFT',\n",
    "            'GOOGL': 'GOOGL', 'GOOGLE': 'GOOGL', 'ALPHABET': 'GOOGL',\n",
    "            'AMZN': 'AMZN', 'AMAZON': 'AMZN',\n",
    "            'TSLA': 'TSLA', 'TESLA': 'TSLA',\n",
    "            'META': 'META', 'FACEBOOK': 'META',\n",
    "            'NFLX': 'NFLX', 'NETFLIX': 'NFLX',\n",
    "            'NVDA': 'NVDA', 'NVIDIA': 'NVDA',\n",
    "            'JPM': 'JPM', 'JPMORGAN': 'JPM',\n",
    "            'V': 'V', 'VISA': 'V',\n",
    "            'JNJ': 'JNJ', 'JOHNSON': 'JNJ',\n",
    "            'WMT': 'WMT', 'WALMART': 'WMT',\n",
    "            'PG': 'PG', 'PROCTER': 'PG',\n",
    "            'UNH': 'UNH', 'UNITEDHEALTH': 'UNH',\n",
    "            'HD': 'HD', 'HOMEDEPOT': 'HD',\n",
    "            'MA': 'MA', 'MASTERCARD': 'MA',\n",
    "            'BAC': 'BAC', 'BANKOFAMERICA': 'BAC',\n",
    "            'DIS': 'DIS', 'DISNEY': 'DIS',\n",
    "            'ADBE': 'ADBE', 'ADOBE': 'ADBE',\n",
    "            'CRM': 'CRM', 'SALESFORCE': 'CRM',\n",
    "            'PYPL': 'PYPL', 'PAYPAL': 'PYPL',\n",
    "\n",
    "            # Indian Stocks (NSE) - INR\n",
    "            'RELIANCE': 'RELIANCE.NS', \n",
    "            'TCS': 'TCS.NS', \n",
    "            'INFY': 'INFY.NS', 'INFOSYS': 'INFY.NS',\n",
    "            'HDFC': 'HDFCBANK.NS', 'HDFCBANK': 'HDFCBANK.NS',\n",
    "            'ICICI': 'ICICIBANK.NS', 'ICICIBANK': 'ICICIBANK.NS',\n",
    "            'SBIN': 'SBIN.NS', 'SBI': 'SBIN.NS',\n",
    "            'WIPRO': 'WIPRO.NS',\n",
    "            'LT': 'LT.NS', 'L&T': 'LT.NS', 'LARSEN': 'LT.NS',\n",
    "            'AXISBANK': 'AXISBANK.NS',\n",
    "            'KOTAKBANK': 'KOTAKBANK.NS', 'KOTAK': 'KOTAKBANK.NS',\n",
    "            'BHARTI': 'BHARTIARTL.NS', 'AIRTEL': 'BHARTIARTL.NS',\n",
    "            'ITC': 'ITC.NS',\n",
    "            'HINDUNILVR': 'HINDUNILVR.NS', 'HUL': 'HINDUNILVR.NS',\n",
    "            'MARUTI': 'MARUTI.NS',\n",
    "            'ASIANPAINT': 'ASIANPAINT.NS',\n",
    "            'BAJFINANCE': 'BAJFINANCE.NS',\n",
    "            'TITAN': 'TITAN.NS',\n",
    "            'ADANIPORTS': 'ADANIPORTS.NS',\n",
    "            'HCLTECH': 'HCLTECH.NS',\n",
    "            'ONGC': 'ONGC.NS',\n",
    "            'NTPC': 'NTPC.NS',\n",
    "            'COALINDIA': 'COALINDIA.NS',\n",
    "\n",
    "            # International Stocks\n",
    "            'SAMSUNG': '005930.KS',  # Korean Won (KRW)\n",
    "            'TOYOTA': 'TM',  # USD\n",
    "            'SONY': 'SONY',  # USD\n",
    "            'SHELL': 'SHEL',  # USD\n",
    "            'BP': 'BP',  # USD\n",
    "            'TOTAL': 'TTE',  # USD\n",
    "            'NESTLE': 'NESN.SW',  # Swiss Franc (CHF)\n",
    "            'ASML': 'ASML',  # USD\n",
    "            'SAP': 'SAP',  # USD\n",
    "            'BABA': 'BABA', 'ALIBABA': 'BABA'  # USD\n",
    "        }\n",
    "        \n",
    "        # Currency mapping\n",
    "        self.CURRENCY_MAP = {\n",
    "            # US stocks and most international\n",
    "            '.NS': '₹',  # Indian Rupee\n",
    "            '.KS': '₩',  # Korean Won\n",
    "            '.SW': 'CHF ',  # Swiss Franc\n",
    "            '.L': '£',    # British Pound\n",
    "            '.DE': '€',   # Euro (Germany)\n",
    "            '.PA': '€',   # Euro (France)\n",
    "            '.AS': '€',   # Euro (Netherlands)\n",
    "            '.BR': '€',   # Euro (Belgium)\n",
    "            '.MI': '€',   # Euro (Italy)\n",
    "            '.MC': '€',   # Euro (Spain)\n",
    "            '.VI': '€',   # Euro (Austria)\n",
    "            '.ST': 'kr',  # Swedish Krona\n",
    "            '.CO': 'kr',  # Danish Krone\n",
    "            '.OL': 'kr',  # Norwegian Krone\n",
    "            '.HE': '€',   # Euro (Finland)\n",
    "            '.TL': '€',   # Euro (Portugal)\n",
    "            '.IR': '€',   # Euro (Ireland)\n",
    "            '.SG': 'S$',  # Singapore Dollar\n",
    "            '.HK': 'HK$', # Hong Kong Dollar\n",
    "            '.TW': 'NT$', # Taiwan Dollar\n",
    "            '.T': '¥',    # Japanese Yen\n",
    "            '.AX': 'A$',  # Australian Dollar\n",
    "            '.NZ': 'NZ$', # New Zealand Dollar\n",
    "            '.V': 'C$',   # Canadian Dollar\n",
    "            '.TO': 'C$',  # Canadian Dollar\n",
    "            '.SA': 'SR',  # Saudi Riyal\n",
    "            '.SR': 'SAR', # Saudi Riyal\n",
    "        }\n",
    "        \n",
    "        # Default currency for symbols without specific mapping\n",
    "        self.DEFAULT_CURRENCY = '$'\n",
    "    \n",
    "    def get_currency_symbol(self, symbol):\n",
    "        \"\"\"Get currency symbol based on stock symbol\"\"\"\n",
    "        # Check for country-specific suffixes\n",
    "        for suffix, currency in self.CURRENCY_MAP.items():\n",
    "            if symbol.endswith(suffix):\n",
    "                return currency\n",
    "        \n",
    "        # For US stocks and others without specific suffixes, default to USD\n",
    "        return self.DEFAULT_CURRENCY\n",
    "    \n",
    "    def format_currency(self, value, currency_symbol):\n",
    "        \"\"\"Format currency value with appropriate symbol\"\"\"\n",
    "        if currency_symbol in ['₹', '₩', '¥']:\n",
    "            # These symbols typically come before the number\n",
    "            return f\"{currency_symbol}{value:,.2f}\"\n",
    "        elif currency_symbol in ['$', '£', '€', 'C$', 'A$', 'NZ$', 'S$', 'HK$', 'NT$']:\n",
    "            return f\"{currency_symbol}{value:,.2f}\"\n",
    "        else:\n",
    "            # For others like 'kr', 'CHF', 'SR' - symbol after the number\n",
    "            return f\"{value:,.2f} {currency_symbol}\"\n",
    "    \n",
    "    def get_correct_symbol(self, symbol_input):\n",
    "        \"\"\"Convert user input to correct Yahoo Finance symbol\"\"\"\n",
    "        symbol_input = symbol_input.upper().strip()\n",
    "        \n",
    "        # Check if input is in our mapping\n",
    "        if symbol_input in self.STOCK_SYMBOL_MAP:\n",
    "            return self.STOCK_SYMBOL_MAP[symbol_input]\n",
    "        \n",
    "        # Check if it's already a valid symbol format\n",
    "        if '.' in symbol_input or symbol_input in ['V', 'MA']:  # Handle single letter symbols\n",
    "            return symbol_input\n",
    "        \n",
    "        # Try with .NS for Indian stocks (common pattern)\n",
    "        if symbol_input + '.NS' in self.STOCK_SYMBOL_MAP.values():\n",
    "            return symbol_input + '.NS'\n",
    "        \n",
    "        # If no mapping found, return as-is (user might know exact symbol)\n",
    "        return symbol_input\n",
    "    \n",
    "    def get_symbol_suggestions(self, user_input):\n",
    "        \"\"\"Get symbol suggestions based on user input\"\"\"\n",
    "        user_input = user_input.upper().strip()\n",
    "        suggestions = []\n",
    "        \n",
    "        for name, symbol in self.STOCK_SYMBOL_MAP.items():\n",
    "            if user_input in name or user_input in symbol:\n",
    "                suggestions.append((name, symbol))\n",
    "        \n",
    "        return suggestions[:10]  # Return top 10 suggestions\n",
    "    \n",
    "    def fetch_and_prepare_data(self, symbol, period='3y'):\n",
    "        \n",
    "        # Convert to correct symbol format\n",
    "        correct_symbol = self.get_correct_symbol(symbol)\n",
    "        print(f\"Fetching data for {symbol} -> {correct_symbol}...\")\n",
    "        \n",
    "        try:\n",
    "            # Fetch data\n",
    "            df = yf.download(correct_symbol, period=period, progress=False)\n",
    "            \n",
    "            if df.empty:\n",
    "                # Try alternative approach\n",
    "                print(\"Trying alternative data fetch method...\")\n",
    "                ticker = yf.Ticker(correct_symbol)\n",
    "                df = ticker.history(period=period)\n",
    "                \n",
    "            if df.empty:\n",
    "                raise ValueError(f\"No data found for symbol: {symbol} (tried: {correct_symbol})\")\n",
    "            \n",
    "            # Handle MultiIndex columns\n",
    "            if isinstance(df.columns, pd.MultiIndex):\n",
    "                df = df.xs(correct_symbol, axis=1, level=1)\n",
    "            \n",
    "            print(f\"Fetched {len(df)} records from {df.index[0].date()} to {df.index[-1].date()}\")\n",
    "            \n",
    "            # Store currency info for this symbol\n",
    "            self.currency_info[symbol] = self.get_currency_symbol(correct_symbol)\n",
    "            print(f\"Currency detected: {self.currency_info[symbol]}\")\n",
    "            \n",
    "            # Add technical indicators\n",
    "            print(\"Adding technical indicators...\")\n",
    "            \n",
    "            # Moving averages\n",
    "            df['SMA_10'] = df['Close'].rolling(10).mean()\n",
    "            df['SMA_20'] = df['Close'].rolling(20).mean()\n",
    "            df['SMA_50'] = df['Close'].rolling(50).mean()\n",
    "            df['EMA_12'] = df['Close'].ewm(span=12).mean()\n",
    "            df['EMA_26'] = df['Close'].ewm(span=26).mean()\n",
    "            \n",
    "            # Technical indicators using ta library\n",
    "            close_series = df['Close'].squeeze()\n",
    "            high_series = df['High'].squeeze()\n",
    "            low_series = df['Low'].squeeze()\n",
    "            volume_series = df['Volume'].squeeze()\n",
    "            \n",
    "            df['RSI'] = ta.momentum.rsi(close_series, window=14)\n",
    "            \n",
    "            # MACD\n",
    "            macd = ta.trend.MACD(close_series)\n",
    "            df['MACD'] = macd.macd()\n",
    "            df['MACD_Signal'] = macd.macd_signal()\n",
    "            \n",
    "            # Bollinger Bands\n",
    "            bb = ta.volatility.BollingerBands(close_series, window=20, window_dev=2)\n",
    "            df['BB_High'] = bb.bollinger_hband()\n",
    "            df['BB_Low'] = bb.bollinger_lband()\n",
    "            df['BB_Mid'] = bb.bollinger_mavg()\n",
    "            \n",
    "            # Additional features\n",
    "            df['Price_Change'] = df['Close'].pct_change()\n",
    "            df['High_Low_Ratio'] = df['High'] / df['Low']\n",
    "            df['Volume_MA'] = df['Volume'].rolling(20).mean()\n",
    "            \n",
    "            # Lagged features\n",
    "            for lag in [1, 2, 3, 5]:\n",
    "                df[f'Close_Lag_{lag}'] = df['Close'].shift(lag)\n",
    "            \n",
    "            # Remove NaN values\n",
    "            df = df.dropna()\n",
    "            \n",
    "            if len(df) < 100:\n",
    "                raise ValueError(f\"Insufficient data after cleaning: {len(df)} records\")\n",
    "            \n",
    "            print(f\"Technical indicators added. Final dataset: {len(df)} records\")\n",
    "            return df\n",
    "            \n",
    "        except Exception as e:\n",
    "            # Provide helpful error message with suggestions\n",
    "            suggestions = self.get_symbol_suggestions(symbol)\n",
    "            if suggestions:\n",
    "                print(f\"Did you mean one of these?\")\n",
    "                for i, (name, sym) in enumerate(suggestions[:5], 1):\n",
    "                    print(f\"   {i}. {name} -> {sym}\")\n",
    "            raise ValueError(f\"Error fetching data for {symbol}: {str(e)}\")\n",
    "    \n",
    "    def prepare_features_for_ml(self, df, target_col='Close', n_ahead=1):\n",
    "        \n",
    "        print(f\"Preparing features for ML models (predicting {n_ahead} day ahead)...\")\n",
    "        \n",
    "        # Select features\n",
    "        feature_cols = [\n",
    "            'Close', 'Volume', 'SMA_10', 'SMA_20', 'SMA_50', 'EMA_12', 'EMA_26',\n",
    "            'RSI', 'MACD', 'MACD_Signal', 'BB_High', 'BB_Low', 'BB_Mid',\n",
    "            'Price_Change', 'High_Low_Ratio', 'Volume_MA',\n",
    "            'Close_Lag_1', 'Close_Lag_2', 'Close_Lag_3', 'Close_Lag_5'\n",
    "        ]\n",
    "        \n",
    "        # Ensure all features exist\n",
    "        available_features = [col for col in feature_cols if col in df.columns]\n",
    "        \n",
    "        # Create target variable\n",
    "        df_ml = df.copy()\n",
    "        df_ml['Target'] = df_ml[target_col].shift(-n_ahead)\n",
    "        df_ml = df_ml.dropna()\n",
    "        \n",
    "        X = df_ml[available_features]\n",
    "        y = df_ml['Target']\n",
    "        \n",
    "        print(f\"Features: {len(available_features)}, Samples: {len(X)}\")\n",
    "        return X, y, available_features\n",
    "    \n",
    "    def prepare_lstm_data(self, df, sequence_length=60):\n",
    "\n",
    "        print(f\"Preparing LSTM data with sequence length: {sequence_length}\")\n",
    "        \n",
    "        # Use Close and Volume for LSTM\n",
    "        lstm_features = ['Close', 'Volume']\n",
    "        lstm_data = df[lstm_features].values\n",
    "        \n",
    "        # Scale the data\n",
    "        self.lstm_scaler = MinMaxScaler()\n",
    "        scaled_data = self.lstm_scaler.fit_transform(lstm_data)\n",
    "        \n",
    "        # Create sequences\n",
    "        X, y = [], []\n",
    "        for i in range(sequence_length, len(scaled_data)):\n",
    "            X.append(scaled_data[i-sequence_length:i])\n",
    "            y.append(scaled_data[i, 0])  # Predict Close price (index 0)\n",
    "        \n",
    "        X, y = np.array(X), np.array(y)\n",
    "        \n",
    "        print(f\"LSTM sequences created: {len(X)} samples\")\n",
    "        return X, y\n",
    "    \n",
    "    def train_models(self, X_ml, y_ml, X_lstm, y_lstm):\n",
    "    \n",
    "        print(\"Training models...\")\n",
    "        \n",
    "        # Split ML data\n",
    "        X_train_ml, X_test_ml, y_train_ml, y_test_ml = train_test_split(\n",
    "            X_ml, y_ml, test_size=0.2, shuffle=False, random_state=42\n",
    "        )\n",
    "        \n",
    "        # Split LSTM data\n",
    "        split_idx = int(len(X_lstm) * 0.8)\n",
    "        X_train_lstm = X_lstm[:split_idx]\n",
    "        X_test_lstm = X_lstm[split_idx:]\n",
    "        y_train_lstm = y_lstm[:split_idx]\n",
    "        y_test_lstm = y_lstm[split_idx:]\n",
    "        \n",
    "        print(f\"ML Training: {len(X_train_ml)}, Testing: {len(X_test_ml)}\")\n",
    "        print(f\"LSTM Training: {len(X_train_lstm)}, Testing: {len(X_test_lstm)}\")\n",
    "        \n",
    "        # === Random Forest ===\n",
    "        print(\"Training Random Forest...\")\n",
    "        rf_scaler = StandardScaler()\n",
    "        X_train_rf_scaled = rf_scaler.fit_transform(X_train_ml)\n",
    "        X_test_rf_scaled = rf_scaler.transform(X_test_ml)\n",
    "        \n",
    "        rf_model = RandomForestRegressor(\n",
    "            n_estimators=200, \n",
    "            max_depth=20, \n",
    "            min_samples_split=5,\n",
    "            random_state=42\n",
    "        )\n",
    "        rf_model.fit(X_train_rf_scaled, y_train_ml)\n",
    "        rf_pred = rf_model.predict(X_test_rf_scaled)\n",
    "        \n",
    "        self.models['Random_Forest'] = rf_model\n",
    "        self.scalers['Random_Forest'] = rf_scaler\n",
    "        \n",
    "        # === SVR ===\n",
    "        print(\"Training SVR...\")\n",
    "        svr_scaler = StandardScaler()\n",
    "        X_train_svr_scaled = svr_scaler.fit_transform(X_train_ml)\n",
    "        X_test_svr_scaled = svr_scaler.transform(X_test_ml)\n",
    "        \n",
    "        svr_model = SVR(kernel='rbf', C=100, gamma='scale', epsilon=0.01)\n",
    "        svr_model.fit(X_train_svr_scaled, y_train_ml)\n",
    "        svr_pred = svr_model.predict(X_test_svr_scaled)\n",
    "        \n",
    "        self.models['SVR'] = svr_model\n",
    "        self.scalers['SVR'] = svr_scaler\n",
    "        \n",
    "        # === LSTM ===\n",
    "        print(\"Training LSTM...\")\n",
    "        \n",
    "        # Build LSTM model\n",
    "        self.lstm_model = Sequential([\n",
    "            LSTM(100, return_sequences=True, input_shape=(X_train_lstm.shape[1], X_train_lstm.shape[2])),\n",
    "            Dropout(0.2),\n",
    "            LSTM(50, return_sequences=False),\n",
    "            Dropout(0.2),\n",
    "            Dense(25),\n",
    "            Dense(1)\n",
    "        ])\n",
    "        \n",
    "        self.lstm_model.compile(optimizer='adam', loss='mse', metrics=['mae'])\n",
    "        \n",
    "        early_stopping = EarlyStopping(monitor='val_loss', patience=10, restore_best_weights=True)\n",
    "        \n",
    "        history = self.lstm_model.fit(\n",
    "            X_train_lstm, y_train_lstm,\n",
    "            validation_data=(X_test_lstm, y_test_lstm),\n",
    "            epochs=100,\n",
    "            batch_size=32,\n",
    "            callbacks=[early_stopping],\n",
    "            verbose=0\n",
    "        )\n",
    "        \n",
    "        lstm_pred_scaled = self.lstm_model.predict(X_test_lstm, verbose=0)\n",
    "        \n",
    "        # Inverse transform LSTM predictions\n",
    "        lstm_pred_full = np.zeros((len(lstm_pred_scaled), 2))\n",
    "        lstm_pred_full[:, 0] = lstm_pred_scaled.flatten()\n",
    "        lstm_pred = self.lstm_scaler.inverse_transform(lstm_pred_full)[:, 0]\n",
    "        \n",
    "        # Inverse transform actual values for LSTM\n",
    "        y_test_lstm_full = np.zeros((len(y_test_lstm), 2))\n",
    "        y_test_lstm_full[:, 0] = y_test_lstm\n",
    "        y_test_lstm_actual = self.lstm_scaler.inverse_transform(y_test_lstm_full)[:, 0]\n",
    "        \n",
    "        # Calculate metrics for all models\n",
    "        self.results = {\n",
    "            'Random_Forest': self._calculate_metrics(y_test_ml, rf_pred, 'Random Forest'),\n",
    "            'SVR': self._calculate_metrics(y_test_ml, svr_pred, 'SVR'),\n",
    "            'LSTM': self._calculate_metrics(y_test_lstm_actual, lstm_pred, 'LSTM')\n",
    "        }\n",
    "        \n",
    "        # Store predictions and actual values\n",
    "        self.results['Random_Forest']['predictions'] = rf_pred\n",
    "        self.results['Random_Forest']['actual'] = y_test_ml.values\n",
    "        \n",
    "        self.results['SVR']['predictions'] = svr_pred\n",
    "        self.results['SVR']['actual'] = y_test_ml.values\n",
    "        \n",
    "        self.results['LSTM']['predictions'] = lstm_pred\n",
    "        self.results['LSTM']['actual'] = y_test_lstm_actual\n",
    "        \n",
    "        print(\"All models trained successfully!\")\n",
    "        \n",
    "    def _calculate_metrics(self, y_true, y_pred, model_name):\n",
    "        mae = mean_absolute_error(y_true, y_pred)\n",
    "        mse = mean_squared_error(y_true, y_pred)\n",
    "        rmse = np.sqrt(mse)\n",
    "        r2 = r2_score(y_true, y_pred)\n",
    "        \n",
    "        # Directional accuracy\n",
    "        if len(y_true) > 1:\n",
    "            y_true_direction = np.diff(y_true) > 0\n",
    "            y_pred_direction = np.diff(y_pred) > 0\n",
    "            directional_accuracy = np.mean(y_true_direction == y_pred_direction) * 100\n",
    "        else:\n",
    "            directional_accuracy = 0\n",
    "        \n",
    "        print(f\"{model_name:12} - MAE: {mae:6.2f} | RMSE: {rmse:6.2f} | R²: {r2:6.3f} | Dir.Acc: {directional_accuracy:5.1f}%\")\n",
    "        \n",
    "        return {\n",
    "            'mae': mae,\n",
    "            'mse': mse,\n",
    "            'rmse': rmse,\n",
    "            'r2': r2,\n",
    "            'directional_accuracy': directional_accuracy\n",
    "        }\n",
    "    \n",
    "    def predict_future_7_days(self, df, feature_cols):\n",
    "        \n",
    "        print(\"Generating 7-day future predictions...\")\n",
    "        \n",
    "        future_predictions = {'Random_Forest': [], 'SVR': [], 'LSTM': []}\n",
    "        \n",
    "        # Generate future dates (excluding weekends)\n",
    "        last_date = df.index[-1]\n",
    "        future_dates = []\n",
    "        current_date = last_date + timedelta(days=1)\n",
    "        \n",
    "        while len(future_dates) < 7:\n",
    "            if current_date.weekday() < 5:  # Monday to Friday\n",
    "                future_dates.append(current_date)\n",
    "            current_date += timedelta(days=1)\n",
    "        \n",
    "        # === Random Forest & SVR Predictions ===\n",
    "        current_data = df.iloc[-1:][feature_cols].copy()\n",
    "        \n",
    "        for day in range(7):\n",
    "            # Scale current data\n",
    "            rf_scaled = self.scalers['Random_Forest'].transform(current_data)\n",
    "            svr_scaled = self.scalers['SVR'].transform(current_data)\n",
    "            \n",
    "            # Make predictions\n",
    "            rf_pred = self.models['Random_Forest'].predict(rf_scaled)[0]\n",
    "            svr_pred = self.models['SVR'].predict(svr_scaled)[0]\n",
    "            \n",
    "            future_predictions['Random_Forest'].append(rf_pred)\n",
    "            future_predictions['SVR'].append(svr_pred)\n",
    "            \n",
    "            # Update current_data for next prediction\n",
    "            if day < 6:\n",
    "                # Update Close price and some dependent features\n",
    "                current_data.iloc[0, current_data.columns.get_loc('Close')] = rf_pred\n",
    "                \n",
    "                # Update some lagged features (simplified)\n",
    "                if 'Close_Lag_1' in current_data.columns:\n",
    "                    current_data.iloc[0, current_data.columns.get_loc('Close_Lag_1')] = rf_pred\n",
    "        \n",
    "        # === LSTM Predictions ===\n",
    "        lstm_features = ['Close', 'Volume']\n",
    "        last_sequence = df[lstm_features].values[-60:]  # Last 60 days\n",
    "        last_sequence_scaled = self.lstm_scaler.transform(last_sequence)\n",
    "        \n",
    "        current_sequence = last_sequence_scaled.copy()\n",
    "        \n",
    "        for day in range(7):\n",
    "            # Reshape for LSTM\n",
    "            X_pred = current_sequence.reshape(1, 60, 2)\n",
    "            \n",
    "            # Make prediction\n",
    "            pred_scaled = self.lstm_model.predict(X_pred, verbose=0)[0, 0]\n",
    "            \n",
    "            # Inverse transform\n",
    "            pred_full = np.zeros((1, 2))\n",
    "            pred_full[0, 0] = pred_scaled\n",
    "            pred_actual = self.lstm_scaler.inverse_transform(pred_full)[0, 0]\n",
    "            \n",
    "            future_predictions['LSTM'].append(pred_actual)\n",
    "            \n",
    "            # Update sequence for next prediction\n",
    "            if day < 6:\n",
    "                new_row = np.array([[pred_scaled, current_sequence[-1, 1]]])  # Use last volume\n",
    "                current_sequence = np.vstack([current_sequence[1:], new_row])\n",
    "        \n",
    "        return future_dates, future_predictions\n",
    "    \n",
    "    def create_accuracy_comparison_dashboard(self):\n",
    "    \n",
    "        print(\"Creating accuracy comparison dashboard...\")\n",
    "        \n",
    "        # Prepare comparison data\n",
    "        comparison_data = []\n",
    "        for model_name, metrics in self.results.items():\n",
    "            comparison_data.append({\n",
    "                'Model': model_name,\n",
    "                'MAE': metrics['mae'],\n",
    "                'RMSE': metrics['rmse'],\n",
    "                'R²': metrics['r2'],\n",
    "                'Directional_Accuracy': metrics['directional_accuracy']\n",
    "            })\n",
    "        \n",
    "        df_comp = pd.DataFrame(comparison_data)\n",
    "        \n",
    "        # Create subplots\n",
    "        fig = make_subplots(\n",
    "            rows=2, cols=2,\n",
    "            subplot_titles=('Mean Absolute Error (Lower = Better)', \n",
    "                          'R² Score (Higher = Better)',\n",
    "                          'Directional Accuracy (%)', \n",
    "                          'Performance Ranking'),\n",
    "            specs=[[{\"type\": \"bar\"}, {\"type\": \"bar\"}],\n",
    "                   [{\"type\": \"bar\"}, {\"type\": \"table\"}]]\n",
    "        )\n",
    "        \n",
    "        # Colors for each model\n",
    "        colors = ['#FF6B6B', '#4ECDC4', '#45B7D1']\n",
    "        \n",
    "        # MAE comparison\n",
    "        fig.add_trace(\n",
    "            go.Bar(x=df_comp['Model'], y=df_comp['MAE'],\n",
    "                   name='MAE', marker_color=colors),\n",
    "            row=1, col=1\n",
    "        )\n",
    "        \n",
    "        # R² comparison\n",
    "        fig.add_trace(\n",
    "            go.Bar(x=df_comp['Model'], y=df_comp['R²'],\n",
    "                   name='R²', marker_color=colors),\n",
    "            row=1, col=2\n",
    "        )\n",
    "        \n",
    "        # Directional accuracy\n",
    "        fig.add_trace(\n",
    "            go.Bar(x=df_comp['Model'], y=df_comp['Directional_Accuracy'],\n",
    "                   name='Directional Accuracy', marker_color=colors),\n",
    "            row=2, col=1\n",
    "        )\n",
    "        \n",
    "        # Ranking table\n",
    "        df_comp_sorted = df_comp.sort_values('MAE')  # Sort by MAE (lower is better)\n",
    "        \n",
    "        # Assign rankings\n",
    "        rankings = ['1st', '2nd', '3rd']\n",
    "        \n",
    "        fig.add_trace(\n",
    "            go.Table(\n",
    "                header=dict(\n",
    "                    values=['Rank', 'Model', 'MAE', 'R²', 'Dir.Acc%'],\n",
    "                    fill_color='#2C3E50',\n",
    "                    font=dict(color='white', size=14, family=\"Arial Black\"),\n",
    "                    align='center',\n",
    "                    height=40\n",
    "                ),\n",
    "                cells=dict(\n",
    "                    values=[\n",
    "                        rankings,\n",
    "                        df_comp_sorted['Model'].tolist(),\n",
    "                        [f\"{x:.2f}\" for x in df_comp_sorted['MAE']],\n",
    "                        [f\"{x:.3f}\" for x in df_comp_sorted['R²']],\n",
    "                        [f\"{x:.1f}%\" for x in df_comp_sorted['Directional_Accuracy']]\n",
    "                    ],\n",
    "                    fill_color=[['#FFD700', '#C0C0C0', '#CD7F32']],  # Gold, Silver, Bronze\n",
    "                    font=dict(size=12),\n",
    "                    align='center',\n",
    "                    height=35\n",
    "                )\n",
    "            ),\n",
    "            row=2, col=2\n",
    "        )\n",
    "        \n",
    "        fig.update_layout(\n",
    "            title_text=\"Model Performance Comparison Dashboard\",\n",
    "            title_x=0.5,\n",
    "            title_font_size=20,\n",
    "            height=700,\n",
    "            showlegend=False,\n",
    "            template='plotly_white'\n",
    "        )\n",
    "        \n",
    "        fig.show()\n",
    "        \n",
    "        return df_comp_sorted\n",
    "    \n",
    "    def create_predictions_comparison_chart(self, symbol, current_price, future_dates, future_predictions):\n",
    "       \n",
    "        print(\"Creating predictions comparison chart...\")\n",
    "        \n",
    "        currency_symbol = self.currency_info.get(symbol, self.DEFAULT_CURRENCY)\n",
    "        \n",
    "        fig = go.Figure()\n",
    "        \n",
    "        # Add current price as starting point\n",
    "        all_dates = [future_dates[0] - timedelta(days=1)] + future_dates\n",
    "        \n",
    "        # Colors for each model\n",
    "        colors = {'Random_Forest': '#FF6B6B', 'SVR': '#4ECDC4', 'LSTM': '#45B7D1'}\n",
    "        \n",
    "        for model_name, predictions in future_predictions.items():\n",
    "            all_prices = [current_price] + predictions\n",
    "            \n",
    "            fig.add_trace(\n",
    "                go.Scatter(\n",
    "                    x=all_dates,\n",
    "                    y=all_prices,\n",
    "                    mode='lines+markers',\n",
    "                    name=f'{model_name}',\n",
    "                    line=dict(color=colors[model_name], width=3),\n",
    "                    marker=dict(size=8)\n",
    "                )\n",
    "            )\n",
    "        \n",
    "        # Add current price marker\n",
    "        fig.add_trace(\n",
    "            go.Scatter(\n",
    "                x=[all_dates[0]],\n",
    "                y=[current_price],\n",
    "                mode='markers',\n",
    "                name='Current Price',\n",
    "                marker=dict(size=15, color='black', symbol='star')\n",
    "            )\n",
    "        )\n",
    "        \n",
    "        # Add horizontal line for current price reference\n",
    "        current_price_formatted = self.format_currency(current_price, currency_symbol)\n",
    "        fig.add_hline(\n",
    "            y=current_price,\n",
    "            line_dash=\"dash\",\n",
    "            line_color=\"gray\",\n",
    "            annotation_text=f\"Current: {current_price_formatted}\"\n",
    "        )\n",
    "        \n",
    "        fig.update_layout(\n",
    "            title=f'{symbol} - 7-Day Price Predictions Comparison',\n",
    "            xaxis_title='Date',\n",
    "            yaxis_title=f'Price ({currency_symbol})',\n",
    "            template='plotly_white',\n",
    "            height=600,\n",
    "            hovermode='x unified',\n",
    "            legend=dict(\n",
    "                orientation=\"h\",\n",
    "                yanchor=\"bottom\",\n",
    "                y=1.02,\n",
    "                xanchor=\"right\",\n",
    "                x=1\n",
    "            )\n",
    "        )\n",
    "        \n",
    "        fig.show()\n",
    "        \n",
    "    def create_model_predictions_vs_actual(self, df, symbol):\n",
    "        \n",
    "        print(\"Creating actual vs predicted comparison...\")\n",
    "        \n",
    "        currency_symbol = self.currency_info.get(symbol, self.DEFAULT_CURRENCY)\n",
    "        \n",
    "        fig = make_subplots(\n",
    "            rows=1, cols=3,\n",
    "            subplot_titles=('Random Forest', 'SVR', 'LSTM')\n",
    "        )\n",
    "        \n",
    "        colors = ['#FF6B6B', '#4ECDC4', '#45B7D1']\n",
    "        \n",
    "        # Calculate test date ranges\n",
    "        total_samples = len(df)\n",
    "        test_size_ml = int(total_samples * 0.2)\n",
    "        \n",
    "        # ML models use last 20% of data\n",
    "        ml_test_dates = df.index[-test_size_ml:]\n",
    "        \n",
    "        # LSTM uses last 20% of sequences (after removing first 60 for sequence creation)\n",
    "        sequence_length = 60\n",
    "        available_sequences = total_samples - sequence_length\n",
    "        test_size_lstm = int(available_sequences * 0.2)\n",
    "        lstm_test_dates = df.index[sequence_length:][-test_size_lstm:]\n",
    "        \n",
    "        for i, (model_name, result) in enumerate(self.results.items()):\n",
    "            actual = result['actual']\n",
    "            predicted = result['predictions']\n",
    "            \n",
    "            # Assign dates based on model type\n",
    "            if model_name in ['Random_Forest', 'SVR']:\n",
    "                dates = ml_test_dates[:len(actual)]\n",
    "            else:  # LSTM\n",
    "                dates = lstm_test_dates[:len(actual)]\n",
    "            \n",
    "            # Ensure we have matching lengths\n",
    "            min_length = min(len(dates), len(actual), len(predicted))\n",
    "            dates = dates[:min_length]\n",
    "            actual = actual[:min_length]\n",
    "            predicted = predicted[:min_length]\n",
    "            \n",
    "            # Add traces\n",
    "            fig.add_trace(\n",
    "                go.Scatter(\n",
    "                    x=dates, \n",
    "                    y=actual, \n",
    "                    name=f'{model_name} Actual',\n",
    "                    line=dict(color='black', width=3),\n",
    "                    hovertemplate=f'Date: %{{x|%Y-%m-%d}}<br>Actual Price: {currency_symbol}%{{y:.2f}}<extra></extra>',\n",
    "                    legendgroup=model_name\n",
    "                ),\n",
    "                row=1, col=i+1\n",
    "            )\n",
    "            \n",
    "            fig.add_trace(\n",
    "                go.Scatter(\n",
    "                    x=dates, \n",
    "                    y=predicted, \n",
    "                    name=f'{model_name} Predicted',\n",
    "                    line=dict(color=colors[i], width=2, dash='dot'),\n",
    "                    hovertemplate=f'Date: %{{x|%Y-%m-%d}}<br>Predicted Price: {currency_symbol}%{{y:.2f}}<extra></extra>',\n",
    "                    legendgroup=model_name\n",
    "                ),\n",
    "                row=1, col=i+1\n",
    "            )\n",
    "            \n",
    "            # Update subplot titles with date range\n",
    "            if len(dates) > 0:\n",
    "                start_date = dates[0].strftime('%d %b %Y')\n",
    "                end_date = dates[-1].strftime('%d %b %Y')\n",
    "                fig.layout.annotations[i].text = f'{model_name}<br>{start_date} to {end_date}'\n",
    "        \n",
    "        fig.update_layout(\n",
    "            title='Model Predictions vs Actual Prices',\n",
    "            height=500,\n",
    "            template='plotly_white',\n",
    "            showlegend=True,\n",
    "            hovermode='x unified',\n",
    "            legend=dict(\n",
    "                orientation=\"h\",\n",
    "                yanchor=\"bottom\",\n",
    "                y=1.02,\n",
    "                xanchor=\"center\",\n",
    "                x=0.5\n",
    "            )\n",
    "        )\n",
    "        \n",
    "        # Update axes\n",
    "        fig.update_xaxes(\n",
    "            title_text=\"Date\",\n",
    "            tickformat='%b %d',\n",
    "            tickangle=45,\n",
    "            tickmode='auto',\n",
    "            nticks=6\n",
    "        )\n",
    "        \n",
    "        fig.update_yaxes(\n",
    "            title_text=f\"Price ({currency_symbol})\",\n",
    "        )\n",
    "        \n",
    "        fig.show()"
   ]
  },
  {
   "cell_type": "markdown",
   "id": "34b59a24",
   "metadata": {},
   "source": [
    "### Main Function"
   ]
  },
  {
   "cell_type": "code",
   "execution_count": 19,
   "id": "33661b5d",
   "metadata": {},
   "outputs": [
    {
     "name": "stdout",
     "output_type": "stream",
     "text": [
      "Welcome to Focused Stock Prediction System!\n",
      "Models: Random Forest | LSTM | SVR\n",
      "Supports: US, Indian & International Stocks\n",
      "============================================================\n",
      "Did you mean one of these?\n",
      "   1. INFOSYS -> INFY.NS\n",
      "Fetching data for INFOSYS -> INFY.NS...\n",
      "Fetched 743 records from 2022-10-03 to 2025-10-03\n",
      "Currency detected: ₹\n",
      "Adding technical indicators...\n",
      "Technical indicators added. Final dataset: 694 records\n",
      "Current INFOSYS Price: ₹1,441.50\n",
      "Preparing features for ML models (predicting 1 day ahead)...\n",
      "Features: 20, Samples: 693\n",
      "Preparing LSTM data with sequence length: 60\n",
      "LSTM sequences created: 634 samples\n",
      "Training models...\n",
      "ML Training: 554, Testing: 139\n",
      "LSTM Training: 507, Testing: 127\n",
      "Training Random Forest...\n",
      "Training SVR...\n",
      "Training LSTM...\n",
      "Random Forest - MAE:  22.39 | RMSE:  28.88 | R²:  0.815 | Dir.Acc:  43.5%\n",
      "SVR          - MAE:  19.33 | RMSE:  28.99 | R²:  0.814 | Dir.Acc:  49.3%\n",
      "LSTM         - MAE:  20.23 | RMSE:  27.47 | R²:  0.839 | Dir.Acc:  53.2%\n",
      "All models trained successfully!\n",
      "Generating 7-day future predictions...\n",
      "Creating accuracy comparison dashboard...\n"
     ]
    },
    {
     "data": {
      "application/vnd.plotly.v1+json": {
       "config": {
        "plotlyServerURL": "https://plot.ly"
       },
       "data": [
        {
         "marker": {
          "color": [
           "#FF6B6B",
           "#4ECDC4",
           "#45B7D1"
          ]
         },
         "name": "MAE",
         "type": "bar",
         "x": [
          "Random_Forest",
          "SVR",
          "LSTM"
         ],
         "xaxis": "x",
         "y": {
          "bdata": "9g/NFIxkNkClFM6mSlUzQI+XVYCNOzRA",
          "dtype": "f8"
         },
         "yaxis": "y"
        },
        {
         "marker": {
          "color": [
           "#FF6B6B",
           "#4ECDC4",
           "#45B7D1"
          ]
         },
         "name": "R²",
         "type": "bar",
         "x": [
          "Random_Forest",
          "SVR",
          "LSTM"
         ],
         "xaxis": "x2",
         "y": {
          "bdata": "tN4JNdwW6j9mxxs/uwvqP/zgYYRy2+o/",
          "dtype": "f8"
         },
         "yaxis": "y2"
        },
        {
         "marker": {
          "color": [
           "#FF6B6B",
           "#4ECDC4",
           "#45B7D1"
          ]
         },
         "name": "Directional Accuracy",
         "type": "bar",
         "x": [
          "Random_Forest",
          "SVR",
          "LSTM"
         ],
         "xaxis": "x3",
         "y": {
          "bdata": "nN70pje9RUBL/IwSP6NIQGZZlmVZlkpA",
          "dtype": "f8"
         },
         "yaxis": "y3"
        },
        {
         "cells": {
          "align": "center",
          "fill": {
           "color": [
            [
             "#FFD700",
             "#C0C0C0",
             "#CD7F32"
            ]
           ]
          },
          "font": {
           "size": 12
          },
          "height": 35,
          "values": [
           [
            "1st",
            "2nd",
            "3rd"
           ],
           [
            "SVR",
            "LSTM",
            "Random_Forest"
           ],
           [
            "19.33",
            "20.23",
            "22.39"
           ],
           [
            "0.814",
            "0.839",
            "0.815"
           ],
           [
            "49.3%",
            "53.2%",
            "43.5%"
           ]
          ]
         },
         "domain": {
          "x": [
           0.55,
           1
          ],
          "y": [
           0,
           0.375
          ]
         },
         "header": {
          "align": "center",
          "fill": {
           "color": "#2C3E50"
          },
          "font": {
           "color": "white",
           "family": "Arial Black",
           "size": 14
          },
          "height": 40,
          "values": [
           "Rank",
           "Model",
           "MAE",
           "R²",
           "Dir.Acc%"
          ]
         },
         "type": "table"
        }
       ],
       "layout": {
        "annotations": [
         {
          "font": {
           "size": 16
          },
          "showarrow": false,
          "text": "Mean Absolute Error (Lower = Better)",
          "x": 0.225,
          "xanchor": "center",
          "xref": "paper",
          "y": 1,
          "yanchor": "bottom",
          "yref": "paper"
         },
         {
          "font": {
           "size": 16
          },
          "showarrow": false,
          "text": "R² Score (Higher = Better)",
          "x": 0.775,
          "xanchor": "center",
          "xref": "paper",
          "y": 1,
          "yanchor": "bottom",
          "yref": "paper"
         },
         {
          "font": {
           "size": 16
          },
          "showarrow": false,
          "text": "Directional Accuracy (%)",
          "x": 0.225,
          "xanchor": "center",
          "xref": "paper",
          "y": 0.375,
          "yanchor": "bottom",
          "yref": "paper"
         },
         {
          "font": {
           "size": 16
          },
          "showarrow": false,
          "text": "Performance Ranking",
          "x": 0.775,
          "xanchor": "center",
          "xref": "paper",
          "y": 0.375,
          "yanchor": "bottom",
          "yref": "paper"
         }
        ],
        "height": 700,
        "showlegend": false,
        "template": {
         "data": {
          "bar": [
           {
            "error_x": {
             "color": "#2a3f5f"
            },
            "error_y": {
             "color": "#2a3f5f"
            },
            "marker": {
             "line": {
              "color": "white",
              "width": 0.5
             },
             "pattern": {
              "fillmode": "overlay",
              "size": 10,
              "solidity": 0.2
             }
            },
            "type": "bar"
           }
          ],
          "barpolar": [
           {
            "marker": {
             "line": {
              "color": "white",
              "width": 0.5
             },
             "pattern": {
              "fillmode": "overlay",
              "size": 10,
              "solidity": 0.2
             }
            },
            "type": "barpolar"
           }
          ],
          "carpet": [
           {
            "aaxis": {
             "endlinecolor": "#2a3f5f",
             "gridcolor": "#C8D4E3",
             "linecolor": "#C8D4E3",
             "minorgridcolor": "#C8D4E3",
             "startlinecolor": "#2a3f5f"
            },
            "baxis": {
             "endlinecolor": "#2a3f5f",
             "gridcolor": "#C8D4E3",
             "linecolor": "#C8D4E3",
             "minorgridcolor": "#C8D4E3",
             "startlinecolor": "#2a3f5f"
            },
            "type": "carpet"
           }
          ],
          "choropleth": [
           {
            "colorbar": {
             "outlinewidth": 0,
             "ticks": ""
            },
            "type": "choropleth"
           }
          ],
          "contour": [
           {
            "colorbar": {
             "outlinewidth": 0,
             "ticks": ""
            },
            "colorscale": [
             [
              0,
              "#0d0887"
             ],
             [
              0.1111111111111111,
              "#46039f"
             ],
             [
              0.2222222222222222,
              "#7201a8"
             ],
             [
              0.3333333333333333,
              "#9c179e"
             ],
             [
              0.4444444444444444,
              "#bd3786"
             ],
             [
              0.5555555555555556,
              "#d8576b"
             ],
             [
              0.6666666666666666,
              "#ed7953"
             ],
             [
              0.7777777777777778,
              "#fb9f3a"
             ],
             [
              0.8888888888888888,
              "#fdca26"
             ],
             [
              1,
              "#f0f921"
             ]
            ],
            "type": "contour"
           }
          ],
          "contourcarpet": [
           {
            "colorbar": {
             "outlinewidth": 0,
             "ticks": ""
            },
            "type": "contourcarpet"
           }
          ],
          "heatmap": [
           {
            "colorbar": {
             "outlinewidth": 0,
             "ticks": ""
            },
            "colorscale": [
             [
              0,
              "#0d0887"
             ],
             [
              0.1111111111111111,
              "#46039f"
             ],
             [
              0.2222222222222222,
              "#7201a8"
             ],
             [
              0.3333333333333333,
              "#9c179e"
             ],
             [
              0.4444444444444444,
              "#bd3786"
             ],
             [
              0.5555555555555556,
              "#d8576b"
             ],
             [
              0.6666666666666666,
              "#ed7953"
             ],
             [
              0.7777777777777778,
              "#fb9f3a"
             ],
             [
              0.8888888888888888,
              "#fdca26"
             ],
             [
              1,
              "#f0f921"
             ]
            ],
            "type": "heatmap"
           }
          ],
          "histogram": [
           {
            "marker": {
             "pattern": {
              "fillmode": "overlay",
              "size": 10,
              "solidity": 0.2
             }
            },
            "type": "histogram"
           }
          ],
          "histogram2d": [
           {
            "colorbar": {
             "outlinewidth": 0,
             "ticks": ""
            },
            "colorscale": [
             [
              0,
              "#0d0887"
             ],
             [
              0.1111111111111111,
              "#46039f"
             ],
             [
              0.2222222222222222,
              "#7201a8"
             ],
             [
              0.3333333333333333,
              "#9c179e"
             ],
             [
              0.4444444444444444,
              "#bd3786"
             ],
             [
              0.5555555555555556,
              "#d8576b"
             ],
             [
              0.6666666666666666,
              "#ed7953"
             ],
             [
              0.7777777777777778,
              "#fb9f3a"
             ],
             [
              0.8888888888888888,
              "#fdca26"
             ],
             [
              1,
              "#f0f921"
             ]
            ],
            "type": "histogram2d"
           }
          ],
          "histogram2dcontour": [
           {
            "colorbar": {
             "outlinewidth": 0,
             "ticks": ""
            },
            "colorscale": [
             [
              0,
              "#0d0887"
             ],
             [
              0.1111111111111111,
              "#46039f"
             ],
             [
              0.2222222222222222,
              "#7201a8"
             ],
             [
              0.3333333333333333,
              "#9c179e"
             ],
             [
              0.4444444444444444,
              "#bd3786"
             ],
             [
              0.5555555555555556,
              "#d8576b"
             ],
             [
              0.6666666666666666,
              "#ed7953"
             ],
             [
              0.7777777777777778,
              "#fb9f3a"
             ],
             [
              0.8888888888888888,
              "#fdca26"
             ],
             [
              1,
              "#f0f921"
             ]
            ],
            "type": "histogram2dcontour"
           }
          ],
          "mesh3d": [
           {
            "colorbar": {
             "outlinewidth": 0,
             "ticks": ""
            },
            "type": "mesh3d"
           }
          ],
          "parcoords": [
           {
            "line": {
             "colorbar": {
              "outlinewidth": 0,
              "ticks": ""
             }
            },
            "type": "parcoords"
           }
          ],
          "pie": [
           {
            "automargin": true,
            "type": "pie"
           }
          ],
          "scatter": [
           {
            "fillpattern": {
             "fillmode": "overlay",
             "size": 10,
             "solidity": 0.2
            },
            "type": "scatter"
           }
          ],
          "scatter3d": [
           {
            "line": {
             "colorbar": {
              "outlinewidth": 0,
              "ticks": ""
             }
            },
            "marker": {
             "colorbar": {
              "outlinewidth": 0,
              "ticks": ""
             }
            },
            "type": "scatter3d"
           }
          ],
          "scattercarpet": [
           {
            "marker": {
             "colorbar": {
              "outlinewidth": 0,
              "ticks": ""
             }
            },
            "type": "scattercarpet"
           }
          ],
          "scattergeo": [
           {
            "marker": {
             "colorbar": {
              "outlinewidth": 0,
              "ticks": ""
             }
            },
            "type": "scattergeo"
           }
          ],
          "scattergl": [
           {
            "marker": {
             "colorbar": {
              "outlinewidth": 0,
              "ticks": ""
             }
            },
            "type": "scattergl"
           }
          ],
          "scattermap": [
           {
            "marker": {
             "colorbar": {
              "outlinewidth": 0,
              "ticks": ""
             }
            },
            "type": "scattermap"
           }
          ],
          "scattermapbox": [
           {
            "marker": {
             "colorbar": {
              "outlinewidth": 0,
              "ticks": ""
             }
            },
            "type": "scattermapbox"
           }
          ],
          "scatterpolar": [
           {
            "marker": {
             "colorbar": {
              "outlinewidth": 0,
              "ticks": ""
             }
            },
            "type": "scatterpolar"
           }
          ],
          "scatterpolargl": [
           {
            "marker": {
             "colorbar": {
              "outlinewidth": 0,
              "ticks": ""
             }
            },
            "type": "scatterpolargl"
           }
          ],
          "scatterternary": [
           {
            "marker": {
             "colorbar": {
              "outlinewidth": 0,
              "ticks": ""
             }
            },
            "type": "scatterternary"
           }
          ],
          "surface": [
           {
            "colorbar": {
             "outlinewidth": 0,
             "ticks": ""
            },
            "colorscale": [
             [
              0,
              "#0d0887"
             ],
             [
              0.1111111111111111,
              "#46039f"
             ],
             [
              0.2222222222222222,
              "#7201a8"
             ],
             [
              0.3333333333333333,
              "#9c179e"
             ],
             [
              0.4444444444444444,
              "#bd3786"
             ],
             [
              0.5555555555555556,
              "#d8576b"
             ],
             [
              0.6666666666666666,
              "#ed7953"
             ],
             [
              0.7777777777777778,
              "#fb9f3a"
             ],
             [
              0.8888888888888888,
              "#fdca26"
             ],
             [
              1,
              "#f0f921"
             ]
            ],
            "type": "surface"
           }
          ],
          "table": [
           {
            "cells": {
             "fill": {
              "color": "#EBF0F8"
             },
             "line": {
              "color": "white"
             }
            },
            "header": {
             "fill": {
              "color": "#C8D4E3"
             },
             "line": {
              "color": "white"
             }
            },
            "type": "table"
           }
          ]
         },
         "layout": {
          "annotationdefaults": {
           "arrowcolor": "#2a3f5f",
           "arrowhead": 0,
           "arrowwidth": 1
          },
          "autotypenumbers": "strict",
          "coloraxis": {
           "colorbar": {
            "outlinewidth": 0,
            "ticks": ""
           }
          },
          "colorscale": {
           "diverging": [
            [
             0,
             "#8e0152"
            ],
            [
             0.1,
             "#c51b7d"
            ],
            [
             0.2,
             "#de77ae"
            ],
            [
             0.3,
             "#f1b6da"
            ],
            [
             0.4,
             "#fde0ef"
            ],
            [
             0.5,
             "#f7f7f7"
            ],
            [
             0.6,
             "#e6f5d0"
            ],
            [
             0.7,
             "#b8e186"
            ],
            [
             0.8,
             "#7fbc41"
            ],
            [
             0.9,
             "#4d9221"
            ],
            [
             1,
             "#276419"
            ]
           ],
           "sequential": [
            [
             0,
             "#0d0887"
            ],
            [
             0.1111111111111111,
             "#46039f"
            ],
            [
             0.2222222222222222,
             "#7201a8"
            ],
            [
             0.3333333333333333,
             "#9c179e"
            ],
            [
             0.4444444444444444,
             "#bd3786"
            ],
            [
             0.5555555555555556,
             "#d8576b"
            ],
            [
             0.6666666666666666,
             "#ed7953"
            ],
            [
             0.7777777777777778,
             "#fb9f3a"
            ],
            [
             0.8888888888888888,
             "#fdca26"
            ],
            [
             1,
             "#f0f921"
            ]
           ],
           "sequentialminus": [
            [
             0,
             "#0d0887"
            ],
            [
             0.1111111111111111,
             "#46039f"
            ],
            [
             0.2222222222222222,
             "#7201a8"
            ],
            [
             0.3333333333333333,
             "#9c179e"
            ],
            [
             0.4444444444444444,
             "#bd3786"
            ],
            [
             0.5555555555555556,
             "#d8576b"
            ],
            [
             0.6666666666666666,
             "#ed7953"
            ],
            [
             0.7777777777777778,
             "#fb9f3a"
            ],
            [
             0.8888888888888888,
             "#fdca26"
            ],
            [
             1,
             "#f0f921"
            ]
           ]
          },
          "colorway": [
           "#636efa",
           "#EF553B",
           "#00cc96",
           "#ab63fa",
           "#FFA15A",
           "#19d3f3",
           "#FF6692",
           "#B6E880",
           "#FF97FF",
           "#FECB52"
          ],
          "font": {
           "color": "#2a3f5f"
          },
          "geo": {
           "bgcolor": "white",
           "lakecolor": "white",
           "landcolor": "white",
           "showlakes": true,
           "showland": true,
           "subunitcolor": "#C8D4E3"
          },
          "hoverlabel": {
           "align": "left"
          },
          "hovermode": "closest",
          "mapbox": {
           "style": "light"
          },
          "paper_bgcolor": "white",
          "plot_bgcolor": "white",
          "polar": {
           "angularaxis": {
            "gridcolor": "#EBF0F8",
            "linecolor": "#EBF0F8",
            "ticks": ""
           },
           "bgcolor": "white",
           "radialaxis": {
            "gridcolor": "#EBF0F8",
            "linecolor": "#EBF0F8",
            "ticks": ""
           }
          },
          "scene": {
           "xaxis": {
            "backgroundcolor": "white",
            "gridcolor": "#DFE8F3",
            "gridwidth": 2,
            "linecolor": "#EBF0F8",
            "showbackground": true,
            "ticks": "",
            "zerolinecolor": "#EBF0F8"
           },
           "yaxis": {
            "backgroundcolor": "white",
            "gridcolor": "#DFE8F3",
            "gridwidth": 2,
            "linecolor": "#EBF0F8",
            "showbackground": true,
            "ticks": "",
            "zerolinecolor": "#EBF0F8"
           },
           "zaxis": {
            "backgroundcolor": "white",
            "gridcolor": "#DFE8F3",
            "gridwidth": 2,
            "linecolor": "#EBF0F8",
            "showbackground": true,
            "ticks": "",
            "zerolinecolor": "#EBF0F8"
           }
          },
          "shapedefaults": {
           "line": {
            "color": "#2a3f5f"
           }
          },
          "ternary": {
           "aaxis": {
            "gridcolor": "#DFE8F3",
            "linecolor": "#A2B1C6",
            "ticks": ""
           },
           "baxis": {
            "gridcolor": "#DFE8F3",
            "linecolor": "#A2B1C6",
            "ticks": ""
           },
           "bgcolor": "white",
           "caxis": {
            "gridcolor": "#DFE8F3",
            "linecolor": "#A2B1C6",
            "ticks": ""
           }
          },
          "title": {
           "x": 0.05
          },
          "xaxis": {
           "automargin": true,
           "gridcolor": "#EBF0F8",
           "linecolor": "#EBF0F8",
           "ticks": "",
           "title": {
            "standoff": 15
           },
           "zerolinecolor": "#EBF0F8",
           "zerolinewidth": 2
          },
          "yaxis": {
           "automargin": true,
           "gridcolor": "#EBF0F8",
           "linecolor": "#EBF0F8",
           "ticks": "",
           "title": {
            "standoff": 15
           },
           "zerolinecolor": "#EBF0F8",
           "zerolinewidth": 2
          }
         }
        },
        "title": {
         "font": {
          "size": 20
         },
         "text": "Model Performance Comparison Dashboard",
         "x": 0.5
        },
        "xaxis": {
         "anchor": "y",
         "domain": [
          0,
          0.45
         ]
        },
        "xaxis2": {
         "anchor": "y2",
         "domain": [
          0.55,
          1
         ]
        },
        "xaxis3": {
         "anchor": "y3",
         "domain": [
          0,
          0.45
         ]
        },
        "yaxis": {
         "anchor": "x",
         "domain": [
          0.625,
          1
         ]
        },
        "yaxis2": {
         "anchor": "x2",
         "domain": [
          0.625,
          1
         ]
        },
        "yaxis3": {
         "anchor": "x3",
         "domain": [
          0,
          0.375
         ]
        }
       }
      }
     },
     "metadata": {},
     "output_type": "display_data"
    },
    {
     "name": "stdout",
     "output_type": "stream",
     "text": [
      "Creating predictions comparison chart...\n"
     ]
    },
    {
     "data": {
      "application/vnd.plotly.v1+json": {
       "config": {
        "plotlyServerURL": "https://plot.ly"
       },
       "data": [
        {
         "line": {
          "color": "#FF6B6B",
          "width": 3
         },
         "marker": {
          "size": 8
         },
         "mode": "lines+markers",
         "name": "Random_Forest",
         "type": "scatter",
         "x": [
          "2025-10-05T00:00:00",
          "2025-10-06T00:00:00",
          "2025-10-07T00:00:00",
          "2025-10-08T00:00:00",
          "2025-10-09T00:00:00",
          "2025-10-10T00:00:00",
          "2025-10-13T00:00:00",
          "2025-10-14T00:00:00"
         ],
         "y": [
          1441.5,
          1434.1680451645434,
          1427.6304230692583,
          1424.4579506909913,
          1418.7289208268774,
          1413.3937050815155,
          1410.574754419478,
          1405.7750988594041
         ]
        },
        {
         "line": {
          "color": "#4ECDC4",
          "width": 3
         },
         "marker": {
          "size": 8
         },
         "mode": "lines+markers",
         "name": "SVR",
         "type": "scatter",
         "x": [
          "2025-10-05T00:00:00",
          "2025-10-06T00:00:00",
          "2025-10-07T00:00:00",
          "2025-10-08T00:00:00",
          "2025-10-09T00:00:00",
          "2025-10-10T00:00:00",
          "2025-10-13T00:00:00",
          "2025-10-14T00:00:00"
         ],
         "y": [
          1441.5,
          1448.827467082699,
          1446.2695623792363,
          1444.5147269539043,
          1443.667104179738,
          1442.1432733067109,
          1440.7324852261593,
          1439.9904380708247
         ]
        },
        {
         "line": {
          "color": "#45B7D1",
          "width": 3
         },
         "marker": {
          "size": 8
         },
         "mode": "lines+markers",
         "name": "LSTM",
         "type": "scatter",
         "x": [
          "2025-10-05T00:00:00",
          "2025-10-06T00:00:00",
          "2025-10-07T00:00:00",
          "2025-10-08T00:00:00",
          "2025-10-09T00:00:00",
          "2025-10-10T00:00:00",
          "2025-10-13T00:00:00",
          "2025-10-14T00:00:00"
         ],
         "y": [
          1441.5,
          1446.9387734006013,
          1449.9278085041951,
          1452.4669345542097,
          1454.2924754439337,
          1455.6099202572768,
          1456.714045485969,
          1457.84695642336
         ]
        },
        {
         "marker": {
          "color": "black",
          "size": 15,
          "symbol": "star"
         },
         "mode": "markers",
         "name": "Current Price",
         "type": "scatter",
         "x": [
          "2025-10-05T00:00:00"
         ],
         "y": [
          1441.5
         ]
        }
       ],
       "layout": {
        "annotations": [
         {
          "showarrow": false,
          "text": "Current: ₹1,441.50",
          "x": 1,
          "xanchor": "right",
          "xref": "x domain",
          "y": 1441.5,
          "yanchor": "bottom",
          "yref": "y"
         }
        ],
        "height": 600,
        "hovermode": "x unified",
        "legend": {
         "orientation": "h",
         "x": 1,
         "xanchor": "right",
         "y": 1.02,
         "yanchor": "bottom"
        },
        "shapes": [
         {
          "line": {
           "color": "gray",
           "dash": "dash"
          },
          "type": "line",
          "x0": 0,
          "x1": 1,
          "xref": "x domain",
          "y0": 1441.5,
          "y1": 1441.5,
          "yref": "y"
         }
        ],
        "template": {
         "data": {
          "bar": [
           {
            "error_x": {
             "color": "#2a3f5f"
            },
            "error_y": {
             "color": "#2a3f5f"
            },
            "marker": {
             "line": {
              "color": "white",
              "width": 0.5
             },
             "pattern": {
              "fillmode": "overlay",
              "size": 10,
              "solidity": 0.2
             }
            },
            "type": "bar"
           }
          ],
          "barpolar": [
           {
            "marker": {
             "line": {
              "color": "white",
              "width": 0.5
             },
             "pattern": {
              "fillmode": "overlay",
              "size": 10,
              "solidity": 0.2
             }
            },
            "type": "barpolar"
           }
          ],
          "carpet": [
           {
            "aaxis": {
             "endlinecolor": "#2a3f5f",
             "gridcolor": "#C8D4E3",
             "linecolor": "#C8D4E3",
             "minorgridcolor": "#C8D4E3",
             "startlinecolor": "#2a3f5f"
            },
            "baxis": {
             "endlinecolor": "#2a3f5f",
             "gridcolor": "#C8D4E3",
             "linecolor": "#C8D4E3",
             "minorgridcolor": "#C8D4E3",
             "startlinecolor": "#2a3f5f"
            },
            "type": "carpet"
           }
          ],
          "choropleth": [
           {
            "colorbar": {
             "outlinewidth": 0,
             "ticks": ""
            },
            "type": "choropleth"
           }
          ],
          "contour": [
           {
            "colorbar": {
             "outlinewidth": 0,
             "ticks": ""
            },
            "colorscale": [
             [
              0,
              "#0d0887"
             ],
             [
              0.1111111111111111,
              "#46039f"
             ],
             [
              0.2222222222222222,
              "#7201a8"
             ],
             [
              0.3333333333333333,
              "#9c179e"
             ],
             [
              0.4444444444444444,
              "#bd3786"
             ],
             [
              0.5555555555555556,
              "#d8576b"
             ],
             [
              0.6666666666666666,
              "#ed7953"
             ],
             [
              0.7777777777777778,
              "#fb9f3a"
             ],
             [
              0.8888888888888888,
              "#fdca26"
             ],
             [
              1,
              "#f0f921"
             ]
            ],
            "type": "contour"
           }
          ],
          "contourcarpet": [
           {
            "colorbar": {
             "outlinewidth": 0,
             "ticks": ""
            },
            "type": "contourcarpet"
           }
          ],
          "heatmap": [
           {
            "colorbar": {
             "outlinewidth": 0,
             "ticks": ""
            },
            "colorscale": [
             [
              0,
              "#0d0887"
             ],
             [
              0.1111111111111111,
              "#46039f"
             ],
             [
              0.2222222222222222,
              "#7201a8"
             ],
             [
              0.3333333333333333,
              "#9c179e"
             ],
             [
              0.4444444444444444,
              "#bd3786"
             ],
             [
              0.5555555555555556,
              "#d8576b"
             ],
             [
              0.6666666666666666,
              "#ed7953"
             ],
             [
              0.7777777777777778,
              "#fb9f3a"
             ],
             [
              0.8888888888888888,
              "#fdca26"
             ],
             [
              1,
              "#f0f921"
             ]
            ],
            "type": "heatmap"
           }
          ],
          "histogram": [
           {
            "marker": {
             "pattern": {
              "fillmode": "overlay",
              "size": 10,
              "solidity": 0.2
             }
            },
            "type": "histogram"
           }
          ],
          "histogram2d": [
           {
            "colorbar": {
             "outlinewidth": 0,
             "ticks": ""
            },
            "colorscale": [
             [
              0,
              "#0d0887"
             ],
             [
              0.1111111111111111,
              "#46039f"
             ],
             [
              0.2222222222222222,
              "#7201a8"
             ],
             [
              0.3333333333333333,
              "#9c179e"
             ],
             [
              0.4444444444444444,
              "#bd3786"
             ],
             [
              0.5555555555555556,
              "#d8576b"
             ],
             [
              0.6666666666666666,
              "#ed7953"
             ],
             [
              0.7777777777777778,
              "#fb9f3a"
             ],
             [
              0.8888888888888888,
              "#fdca26"
             ],
             [
              1,
              "#f0f921"
             ]
            ],
            "type": "histogram2d"
           }
          ],
          "histogram2dcontour": [
           {
            "colorbar": {
             "outlinewidth": 0,
             "ticks": ""
            },
            "colorscale": [
             [
              0,
              "#0d0887"
             ],
             [
              0.1111111111111111,
              "#46039f"
             ],
             [
              0.2222222222222222,
              "#7201a8"
             ],
             [
              0.3333333333333333,
              "#9c179e"
             ],
             [
              0.4444444444444444,
              "#bd3786"
             ],
             [
              0.5555555555555556,
              "#d8576b"
             ],
             [
              0.6666666666666666,
              "#ed7953"
             ],
             [
              0.7777777777777778,
              "#fb9f3a"
             ],
             [
              0.8888888888888888,
              "#fdca26"
             ],
             [
              1,
              "#f0f921"
             ]
            ],
            "type": "histogram2dcontour"
           }
          ],
          "mesh3d": [
           {
            "colorbar": {
             "outlinewidth": 0,
             "ticks": ""
            },
            "type": "mesh3d"
           }
          ],
          "parcoords": [
           {
            "line": {
             "colorbar": {
              "outlinewidth": 0,
              "ticks": ""
             }
            },
            "type": "parcoords"
           }
          ],
          "pie": [
           {
            "automargin": true,
            "type": "pie"
           }
          ],
          "scatter": [
           {
            "fillpattern": {
             "fillmode": "overlay",
             "size": 10,
             "solidity": 0.2
            },
            "type": "scatter"
           }
          ],
          "scatter3d": [
           {
            "line": {
             "colorbar": {
              "outlinewidth": 0,
              "ticks": ""
             }
            },
            "marker": {
             "colorbar": {
              "outlinewidth": 0,
              "ticks": ""
             }
            },
            "type": "scatter3d"
           }
          ],
          "scattercarpet": [
           {
            "marker": {
             "colorbar": {
              "outlinewidth": 0,
              "ticks": ""
             }
            },
            "type": "scattercarpet"
           }
          ],
          "scattergeo": [
           {
            "marker": {
             "colorbar": {
              "outlinewidth": 0,
              "ticks": ""
             }
            },
            "type": "scattergeo"
           }
          ],
          "scattergl": [
           {
            "marker": {
             "colorbar": {
              "outlinewidth": 0,
              "ticks": ""
             }
            },
            "type": "scattergl"
           }
          ],
          "scattermap": [
           {
            "marker": {
             "colorbar": {
              "outlinewidth": 0,
              "ticks": ""
             }
            },
            "type": "scattermap"
           }
          ],
          "scattermapbox": [
           {
            "marker": {
             "colorbar": {
              "outlinewidth": 0,
              "ticks": ""
             }
            },
            "type": "scattermapbox"
           }
          ],
          "scatterpolar": [
           {
            "marker": {
             "colorbar": {
              "outlinewidth": 0,
              "ticks": ""
             }
            },
            "type": "scatterpolar"
           }
          ],
          "scatterpolargl": [
           {
            "marker": {
             "colorbar": {
              "outlinewidth": 0,
              "ticks": ""
             }
            },
            "type": "scatterpolargl"
           }
          ],
          "scatterternary": [
           {
            "marker": {
             "colorbar": {
              "outlinewidth": 0,
              "ticks": ""
             }
            },
            "type": "scatterternary"
           }
          ],
          "surface": [
           {
            "colorbar": {
             "outlinewidth": 0,
             "ticks": ""
            },
            "colorscale": [
             [
              0,
              "#0d0887"
             ],
             [
              0.1111111111111111,
              "#46039f"
             ],
             [
              0.2222222222222222,
              "#7201a8"
             ],
             [
              0.3333333333333333,
              "#9c179e"
             ],
             [
              0.4444444444444444,
              "#bd3786"
             ],
             [
              0.5555555555555556,
              "#d8576b"
             ],
             [
              0.6666666666666666,
              "#ed7953"
             ],
             [
              0.7777777777777778,
              "#fb9f3a"
             ],
             [
              0.8888888888888888,
              "#fdca26"
             ],
             [
              1,
              "#f0f921"
             ]
            ],
            "type": "surface"
           }
          ],
          "table": [
           {
            "cells": {
             "fill": {
              "color": "#EBF0F8"
             },
             "line": {
              "color": "white"
             }
            },
            "header": {
             "fill": {
              "color": "#C8D4E3"
             },
             "line": {
              "color": "white"
             }
            },
            "type": "table"
           }
          ]
         },
         "layout": {
          "annotationdefaults": {
           "arrowcolor": "#2a3f5f",
           "arrowhead": 0,
           "arrowwidth": 1
          },
          "autotypenumbers": "strict",
          "coloraxis": {
           "colorbar": {
            "outlinewidth": 0,
            "ticks": ""
           }
          },
          "colorscale": {
           "diverging": [
            [
             0,
             "#8e0152"
            ],
            [
             0.1,
             "#c51b7d"
            ],
            [
             0.2,
             "#de77ae"
            ],
            [
             0.3,
             "#f1b6da"
            ],
            [
             0.4,
             "#fde0ef"
            ],
            [
             0.5,
             "#f7f7f7"
            ],
            [
             0.6,
             "#e6f5d0"
            ],
            [
             0.7,
             "#b8e186"
            ],
            [
             0.8,
             "#7fbc41"
            ],
            [
             0.9,
             "#4d9221"
            ],
            [
             1,
             "#276419"
            ]
           ],
           "sequential": [
            [
             0,
             "#0d0887"
            ],
            [
             0.1111111111111111,
             "#46039f"
            ],
            [
             0.2222222222222222,
             "#7201a8"
            ],
            [
             0.3333333333333333,
             "#9c179e"
            ],
            [
             0.4444444444444444,
             "#bd3786"
            ],
            [
             0.5555555555555556,
             "#d8576b"
            ],
            [
             0.6666666666666666,
             "#ed7953"
            ],
            [
             0.7777777777777778,
             "#fb9f3a"
            ],
            [
             0.8888888888888888,
             "#fdca26"
            ],
            [
             1,
             "#f0f921"
            ]
           ],
           "sequentialminus": [
            [
             0,
             "#0d0887"
            ],
            [
             0.1111111111111111,
             "#46039f"
            ],
            [
             0.2222222222222222,
             "#7201a8"
            ],
            [
             0.3333333333333333,
             "#9c179e"
            ],
            [
             0.4444444444444444,
             "#bd3786"
            ],
            [
             0.5555555555555556,
             "#d8576b"
            ],
            [
             0.6666666666666666,
             "#ed7953"
            ],
            [
             0.7777777777777778,
             "#fb9f3a"
            ],
            [
             0.8888888888888888,
             "#fdca26"
            ],
            [
             1,
             "#f0f921"
            ]
           ]
          },
          "colorway": [
           "#636efa",
           "#EF553B",
           "#00cc96",
           "#ab63fa",
           "#FFA15A",
           "#19d3f3",
           "#FF6692",
           "#B6E880",
           "#FF97FF",
           "#FECB52"
          ],
          "font": {
           "color": "#2a3f5f"
          },
          "geo": {
           "bgcolor": "white",
           "lakecolor": "white",
           "landcolor": "white",
           "showlakes": true,
           "showland": true,
           "subunitcolor": "#C8D4E3"
          },
          "hoverlabel": {
           "align": "left"
          },
          "hovermode": "closest",
          "mapbox": {
           "style": "light"
          },
          "paper_bgcolor": "white",
          "plot_bgcolor": "white",
          "polar": {
           "angularaxis": {
            "gridcolor": "#EBF0F8",
            "linecolor": "#EBF0F8",
            "ticks": ""
           },
           "bgcolor": "white",
           "radialaxis": {
            "gridcolor": "#EBF0F8",
            "linecolor": "#EBF0F8",
            "ticks": ""
           }
          },
          "scene": {
           "xaxis": {
            "backgroundcolor": "white",
            "gridcolor": "#DFE8F3",
            "gridwidth": 2,
            "linecolor": "#EBF0F8",
            "showbackground": true,
            "ticks": "",
            "zerolinecolor": "#EBF0F8"
           },
           "yaxis": {
            "backgroundcolor": "white",
            "gridcolor": "#DFE8F3",
            "gridwidth": 2,
            "linecolor": "#EBF0F8",
            "showbackground": true,
            "ticks": "",
            "zerolinecolor": "#EBF0F8"
           },
           "zaxis": {
            "backgroundcolor": "white",
            "gridcolor": "#DFE8F3",
            "gridwidth": 2,
            "linecolor": "#EBF0F8",
            "showbackground": true,
            "ticks": "",
            "zerolinecolor": "#EBF0F8"
           }
          },
          "shapedefaults": {
           "line": {
            "color": "#2a3f5f"
           }
          },
          "ternary": {
           "aaxis": {
            "gridcolor": "#DFE8F3",
            "linecolor": "#A2B1C6",
            "ticks": ""
           },
           "baxis": {
            "gridcolor": "#DFE8F3",
            "linecolor": "#A2B1C6",
            "ticks": ""
           },
           "bgcolor": "white",
           "caxis": {
            "gridcolor": "#DFE8F3",
            "linecolor": "#A2B1C6",
            "ticks": ""
           }
          },
          "title": {
           "x": 0.05
          },
          "xaxis": {
           "automargin": true,
           "gridcolor": "#EBF0F8",
           "linecolor": "#EBF0F8",
           "ticks": "",
           "title": {
            "standoff": 15
           },
           "zerolinecolor": "#EBF0F8",
           "zerolinewidth": 2
          },
          "yaxis": {
           "automargin": true,
           "gridcolor": "#EBF0F8",
           "linecolor": "#EBF0F8",
           "ticks": "",
           "title": {
            "standoff": 15
           },
           "zerolinecolor": "#EBF0F8",
           "zerolinewidth": 2
          }
         }
        },
        "title": {
         "text": "INFOSYS - 7-Day Price Predictions Comparison"
        },
        "xaxis": {
         "title": {
          "text": "Date"
         }
        },
        "yaxis": {
         "title": {
          "text": "Price (₹)"
         }
        }
       }
      }
     },
     "metadata": {},
     "output_type": "display_data"
    },
    {
     "name": "stdout",
     "output_type": "stream",
     "text": [
      "Creating actual vs predicted comparison...\n"
     ]
    },
    {
     "data": {
      "application/vnd.plotly.v1+json": {
       "config": {
        "plotlyServerURL": "https://plot.ly"
       },
       "data": [
        {
         "hovertemplate": "Date: %{x|%Y-%m-%d}<br>Actual Price: ₹%{y:.2f}<extra></extra>",
         "legendgroup": "Random_Forest",
         "line": {
          "color": "black",
          "width": 3
         },
         "name": "Random_Forest Actual",
         "type": "scatter",
         "x": [
          "2025-03-17T00:00:00.000000000",
          "2025-03-18T00:00:00.000000000",
          "2025-03-19T00:00:00.000000000",
          "2025-03-20T00:00:00.000000000",
          "2025-03-21T00:00:00.000000000",
          "2025-03-24T00:00:00.000000000",
          "2025-03-25T00:00:00.000000000",
          "2025-03-26T00:00:00.000000000",
          "2025-03-27T00:00:00.000000000",
          "2025-03-28T00:00:00.000000000",
          "2025-04-01T00:00:00.000000000",
          "2025-04-02T00:00:00.000000000",
          "2025-04-03T00:00:00.000000000",
          "2025-04-04T00:00:00.000000000",
          "2025-04-07T00:00:00.000000000",
          "2025-04-08T00:00:00.000000000",
          "2025-04-09T00:00:00.000000000",
          "2025-04-11T00:00:00.000000000",
          "2025-04-15T00:00:00.000000000",
          "2025-04-16T00:00:00.000000000",
          "2025-04-17T00:00:00.000000000",
          "2025-04-21T00:00:00.000000000",
          "2025-04-22T00:00:00.000000000",
          "2025-04-23T00:00:00.000000000",
          "2025-04-24T00:00:00.000000000",
          "2025-04-25T00:00:00.000000000",
          "2025-04-28T00:00:00.000000000",
          "2025-04-29T00:00:00.000000000",
          "2025-04-30T00:00:00.000000000",
          "2025-05-02T00:00:00.000000000",
          "2025-05-05T00:00:00.000000000",
          "2025-05-06T00:00:00.000000000",
          "2025-05-07T00:00:00.000000000",
          "2025-05-08T00:00:00.000000000",
          "2025-05-09T00:00:00.000000000",
          "2025-05-12T00:00:00.000000000",
          "2025-05-13T00:00:00.000000000",
          "2025-05-14T00:00:00.000000000",
          "2025-05-15T00:00:00.000000000",
          "2025-05-16T00:00:00.000000000",
          "2025-05-19T00:00:00.000000000",
          "2025-05-20T00:00:00.000000000",
          "2025-05-21T00:00:00.000000000",
          "2025-05-22T00:00:00.000000000",
          "2025-05-23T00:00:00.000000000",
          "2025-05-26T00:00:00.000000000",
          "2025-05-27T00:00:00.000000000",
          "2025-05-28T00:00:00.000000000",
          "2025-05-29T00:00:00.000000000",
          "2025-05-30T00:00:00.000000000",
          "2025-06-02T00:00:00.000000000",
          "2025-06-03T00:00:00.000000000",
          "2025-06-04T00:00:00.000000000",
          "2025-06-05T00:00:00.000000000",
          "2025-06-06T00:00:00.000000000",
          "2025-06-09T00:00:00.000000000",
          "2025-06-10T00:00:00.000000000",
          "2025-06-11T00:00:00.000000000",
          "2025-06-12T00:00:00.000000000",
          "2025-06-13T00:00:00.000000000",
          "2025-06-16T00:00:00.000000000",
          "2025-06-17T00:00:00.000000000",
          "2025-06-18T00:00:00.000000000",
          "2025-06-19T00:00:00.000000000",
          "2025-06-20T00:00:00.000000000",
          "2025-06-23T00:00:00.000000000",
          "2025-06-24T00:00:00.000000000",
          "2025-06-25T00:00:00.000000000",
          "2025-06-26T00:00:00.000000000",
          "2025-06-27T00:00:00.000000000",
          "2025-06-30T00:00:00.000000000",
          "2025-07-01T00:00:00.000000000",
          "2025-07-02T00:00:00.000000000",
          "2025-07-03T00:00:00.000000000",
          "2025-07-04T00:00:00.000000000",
          "2025-07-07T00:00:00.000000000",
          "2025-07-08T00:00:00.000000000",
          "2025-07-09T00:00:00.000000000",
          "2025-07-10T00:00:00.000000000",
          "2025-07-11T00:00:00.000000000",
          "2025-07-14T00:00:00.000000000",
          "2025-07-15T00:00:00.000000000",
          "2025-07-16T00:00:00.000000000",
          "2025-07-17T00:00:00.000000000",
          "2025-07-18T00:00:00.000000000",
          "2025-07-21T00:00:00.000000000",
          "2025-07-22T00:00:00.000000000",
          "2025-07-23T00:00:00.000000000",
          "2025-07-24T00:00:00.000000000",
          "2025-07-25T00:00:00.000000000",
          "2025-07-28T00:00:00.000000000",
          "2025-07-29T00:00:00.000000000",
          "2025-07-30T00:00:00.000000000",
          "2025-07-31T00:00:00.000000000",
          "2025-08-01T00:00:00.000000000",
          "2025-08-04T00:00:00.000000000",
          "2025-08-05T00:00:00.000000000",
          "2025-08-06T00:00:00.000000000",
          "2025-08-07T00:00:00.000000000",
          "2025-08-08T00:00:00.000000000",
          "2025-08-11T00:00:00.000000000",
          "2025-08-12T00:00:00.000000000",
          "2025-08-13T00:00:00.000000000",
          "2025-08-14T00:00:00.000000000",
          "2025-08-18T00:00:00.000000000",
          "2025-08-19T00:00:00.000000000",
          "2025-08-20T00:00:00.000000000",
          "2025-08-21T00:00:00.000000000",
          "2025-08-22T00:00:00.000000000",
          "2025-08-25T00:00:00.000000000",
          "2025-08-26T00:00:00.000000000",
          "2025-08-27T00:00:00.000000000",
          "2025-08-28T00:00:00.000000000",
          "2025-08-29T00:00:00.000000000",
          "2025-09-01T00:00:00.000000000",
          "2025-09-02T00:00:00.000000000",
          "2025-09-03T00:00:00.000000000",
          "2025-09-04T00:00:00.000000000",
          "2025-09-05T00:00:00.000000000",
          "2025-09-08T00:00:00.000000000",
          "2025-09-09T00:00:00.000000000",
          "2025-09-10T00:00:00.000000000",
          "2025-09-11T00:00:00.000000000",
          "2025-09-12T00:00:00.000000000",
          "2025-09-15T00:00:00.000000000",
          "2025-09-16T00:00:00.000000000",
          "2025-09-17T00:00:00.000000000",
          "2025-09-18T00:00:00.000000000",
          "2025-09-19T00:00:00.000000000",
          "2025-09-22T00:00:00.000000000",
          "2025-09-23T00:00:00.000000000",
          "2025-09-24T00:00:00.000000000",
          "2025-09-25T00:00:00.000000000",
          "2025-09-26T00:00:00.000000000",
          "2025-09-29T00:00:00.000000000",
          "2025-09-30T00:00:00.000000000",
          "2025-10-01T00:00:00.000000000",
          "2025-10-03T00:00:00.000000000"
         ],
         "xaxis": "x",
         "y": {
          "bdata": "AAAAALhXmEAAAAAA9H+YQAAAAAD0f5hAAAAAwCVymEAAAADAieSYQAAAAIDQiZhAAAAAYJqKmEAAAADgaxeZQAAAAAAIpZhAAAAAQDS1mEAAAAAAbjOYQAAAAKBHhZdAAAAAQJHil0AAAADg8Q6XQAAAAMAIXpZAAAAAIHuFlUAAAAAA5wOWQAAAACDloJVAAAAAgJO3lUAAAACA2/iVQAAAAED5xZVAAAAA4DfflUAAAABgeFuWQAAAAEA87JVAAAAAYL65lkAAAAAg8KuWQAAAAECmzpZAAAAA4CTWlkAAAADA4xKXQAAAACAlHZdAAAAAwPc3l0AAAABgrD6XQAAAAMAcSpdAAAAAgH09l0AAAADgt0mXQAAAAKC6OpdAAAAA4E4RmUAAAADgVyuYQAAAAAA5iZhAAAAAoHramEAAAACAXH+YQAAAAMChCJhAAAAAgMkLmEAAAADg8iqYQAAAAEAd2JdAAAAAwFocmEAAAABgSFqYQAAAAKBCMZhAAAAAQPc3mEAAAABgZm6YQAAAAMDMaphAAAAAQDNHmEAAAAAAAByYQAAAAMDMPJhAAAAAQDNJmEAAAABAM2+YQAAAAKCZk5hAAAAAAADwmEAAAABgZnyZQAAAAGBmIplAAAAAAAAImUAAAABAM1+ZQAAAAKCZn5lAAAAAoJmDmUAAAACgmUmZQAAAAKCZW5lAAAAAAADAmEAAAABgZraYQAAAAKCZO5lAAAAAAABAmUAAAAAAACCZQAAAAEAzB5lAAAAAQDMbmUAAAAAAACqZQAAAAMDMSplAAAAAwMyimUAAAAAAAGyZQAAAAMDMmplAAAAAwMyGmUAAAABAMz+ZQAAAAKCZ65hAAAAAQDOJmEAAAABgZsaYQAAAAKCZH5lAAAAAAAC+mEAAAABgZsiYQAAAAEAzwZhAAAAAoJmLmEAAAAAAAJqYQAAAAAAAQphAAAAAwMyul0AAAAAAALCXQAAAAMDMppdAAAAAAAC8l0AAAAAAAJSXQAAAAGBm9pZAAAAAAAAil0AAAABAM9GWQAAAAMDMcpZAAAAAoJlzlkAAAABgZjyWQAAAAMDMUJZAAAAAYGZAlkAAAABgZkqWQAAAAMDMnpZAAAAAQDNvlkAAAAAAAICWQAAAAMDMYJdAAAAAoJlhl0AAAAAAAD6XQAAAAGBm8JdAAAAAYGbml0AAAABgZuaXQAAAAGBmcJdAAAAAYGb2lkAAAACgmW2XQAAAAMDMapdAAAAAYGYcl0AAAAAAANyWQAAAAGBmkpZAAAAAoJljlkAAAABAM4GXQAAAAGBm8pdAAAAAwMyWl0AAAABgZtaXQAAAAKCZkZdAAAAAQDOdl0AAAACgmcmXQAAAAGBmEphAAAAAwMwQmEAAAAAAAG6XQAAAAAAAZpdAAAAAYGZal0AAAABAMzOXQAAAAKCZo5ZAAAAAQDOHlkAAAABAM4eWQAAAAEAzl5ZA",
          "dtype": "f8"
         },
         "yaxis": "y"
        },
        {
         "hovertemplate": "Date: %{x|%Y-%m-%d}<br>Predicted Price: ₹%{y:.2f}<extra></extra>",
         "legendgroup": "Random_Forest",
         "line": {
          "color": "#FF6B6B",
          "dash": "dot",
          "width": 2
         },
         "name": "Random_Forest Predicted",
         "type": "scatter",
         "x": [
          "2025-03-17T00:00:00.000000000",
          "2025-03-18T00:00:00.000000000",
          "2025-03-19T00:00:00.000000000",
          "2025-03-20T00:00:00.000000000",
          "2025-03-21T00:00:00.000000000",
          "2025-03-24T00:00:00.000000000",
          "2025-03-25T00:00:00.000000000",
          "2025-03-26T00:00:00.000000000",
          "2025-03-27T00:00:00.000000000",
          "2025-03-28T00:00:00.000000000",
          "2025-04-01T00:00:00.000000000",
          "2025-04-02T00:00:00.000000000",
          "2025-04-03T00:00:00.000000000",
          "2025-04-04T00:00:00.000000000",
          "2025-04-07T00:00:00.000000000",
          "2025-04-08T00:00:00.000000000",
          "2025-04-09T00:00:00.000000000",
          "2025-04-11T00:00:00.000000000",
          "2025-04-15T00:00:00.000000000",
          "2025-04-16T00:00:00.000000000",
          "2025-04-17T00:00:00.000000000",
          "2025-04-21T00:00:00.000000000",
          "2025-04-22T00:00:00.000000000",
          "2025-04-23T00:00:00.000000000",
          "2025-04-24T00:00:00.000000000",
          "2025-04-25T00:00:00.000000000",
          "2025-04-28T00:00:00.000000000",
          "2025-04-29T00:00:00.000000000",
          "2025-04-30T00:00:00.000000000",
          "2025-05-02T00:00:00.000000000",
          "2025-05-05T00:00:00.000000000",
          "2025-05-06T00:00:00.000000000",
          "2025-05-07T00:00:00.000000000",
          "2025-05-08T00:00:00.000000000",
          "2025-05-09T00:00:00.000000000",
          "2025-05-12T00:00:00.000000000",
          "2025-05-13T00:00:00.000000000",
          "2025-05-14T00:00:00.000000000",
          "2025-05-15T00:00:00.000000000",
          "2025-05-16T00:00:00.000000000",
          "2025-05-19T00:00:00.000000000",
          "2025-05-20T00:00:00.000000000",
          "2025-05-21T00:00:00.000000000",
          "2025-05-22T00:00:00.000000000",
          "2025-05-23T00:00:00.000000000",
          "2025-05-26T00:00:00.000000000",
          "2025-05-27T00:00:00.000000000",
          "2025-05-28T00:00:00.000000000",
          "2025-05-29T00:00:00.000000000",
          "2025-05-30T00:00:00.000000000",
          "2025-06-02T00:00:00.000000000",
          "2025-06-03T00:00:00.000000000",
          "2025-06-04T00:00:00.000000000",
          "2025-06-05T00:00:00.000000000",
          "2025-06-06T00:00:00.000000000",
          "2025-06-09T00:00:00.000000000",
          "2025-06-10T00:00:00.000000000",
          "2025-06-11T00:00:00.000000000",
          "2025-06-12T00:00:00.000000000",
          "2025-06-13T00:00:00.000000000",
          "2025-06-16T00:00:00.000000000",
          "2025-06-17T00:00:00.000000000",
          "2025-06-18T00:00:00.000000000",
          "2025-06-19T00:00:00.000000000",
          "2025-06-20T00:00:00.000000000",
          "2025-06-23T00:00:00.000000000",
          "2025-06-24T00:00:00.000000000",
          "2025-06-25T00:00:00.000000000",
          "2025-06-26T00:00:00.000000000",
          "2025-06-27T00:00:00.000000000",
          "2025-06-30T00:00:00.000000000",
          "2025-07-01T00:00:00.000000000",
          "2025-07-02T00:00:00.000000000",
          "2025-07-03T00:00:00.000000000",
          "2025-07-04T00:00:00.000000000",
          "2025-07-07T00:00:00.000000000",
          "2025-07-08T00:00:00.000000000",
          "2025-07-09T00:00:00.000000000",
          "2025-07-10T00:00:00.000000000",
          "2025-07-11T00:00:00.000000000",
          "2025-07-14T00:00:00.000000000",
          "2025-07-15T00:00:00.000000000",
          "2025-07-16T00:00:00.000000000",
          "2025-07-17T00:00:00.000000000",
          "2025-07-18T00:00:00.000000000",
          "2025-07-21T00:00:00.000000000",
          "2025-07-22T00:00:00.000000000",
          "2025-07-23T00:00:00.000000000",
          "2025-07-24T00:00:00.000000000",
          "2025-07-25T00:00:00.000000000",
          "2025-07-28T00:00:00.000000000",
          "2025-07-29T00:00:00.000000000",
          "2025-07-30T00:00:00.000000000",
          "2025-07-31T00:00:00.000000000",
          "2025-08-01T00:00:00.000000000",
          "2025-08-04T00:00:00.000000000",
          "2025-08-05T00:00:00.000000000",
          "2025-08-06T00:00:00.000000000",
          "2025-08-07T00:00:00.000000000",
          "2025-08-08T00:00:00.000000000",
          "2025-08-11T00:00:00.000000000",
          "2025-08-12T00:00:00.000000000",
          "2025-08-13T00:00:00.000000000",
          "2025-08-14T00:00:00.000000000",
          "2025-08-18T00:00:00.000000000",
          "2025-08-19T00:00:00.000000000",
          "2025-08-20T00:00:00.000000000",
          "2025-08-21T00:00:00.000000000",
          "2025-08-22T00:00:00.000000000",
          "2025-08-25T00:00:00.000000000",
          "2025-08-26T00:00:00.000000000",
          "2025-08-27T00:00:00.000000000",
          "2025-08-28T00:00:00.000000000",
          "2025-08-29T00:00:00.000000000",
          "2025-09-01T00:00:00.000000000",
          "2025-09-02T00:00:00.000000000",
          "2025-09-03T00:00:00.000000000",
          "2025-09-04T00:00:00.000000000",
          "2025-09-05T00:00:00.000000000",
          "2025-09-08T00:00:00.000000000",
          "2025-09-09T00:00:00.000000000",
          "2025-09-10T00:00:00.000000000",
          "2025-09-11T00:00:00.000000000",
          "2025-09-12T00:00:00.000000000",
          "2025-09-15T00:00:00.000000000",
          "2025-09-16T00:00:00.000000000",
          "2025-09-17T00:00:00.000000000",
          "2025-09-18T00:00:00.000000000",
          "2025-09-19T00:00:00.000000000",
          "2025-09-22T00:00:00.000000000",
          "2025-09-23T00:00:00.000000000",
          "2025-09-24T00:00:00.000000000",
          "2025-09-25T00:00:00.000000000",
          "2025-09-26T00:00:00.000000000",
          "2025-09-29T00:00:00.000000000",
          "2025-09-30T00:00:00.000000000",
          "2025-10-01T00:00:00.000000000",
          "2025-10-03T00:00:00.000000000"
         ],
         "xaxis": "x",
         "y": {
          "bdata": "DbCvCFlAmED3HnMLizeYQBaodWIIM5hAEhNt/lU1mEAk3VW8aTKYQPa/5WtXr5hAoe+jr4pDmEASdFZ0JTSYQE8F/Mg5xJhADOkVYM+ImECtC1KnHJ6YQJ+FormFJJhAKvSjzcIll0As62bkefuXQDhxt7LcKJdAfDmIuchTlkBstEYp332VQGXBAcDX6ZVAe/8vyH+IlUBar/qPiaaVQKlVJ6I55pVApnFISRKtlUAyBJUwAeCVQJICHHUKfZZAdsnZCa27lUDvf+SfQBqXQCPYkoVQjJZAf7YG/KYKl0CITaWYZqmWQAMjWQ/f35ZAL9X2glDslkB73WEt3ROXQBLvQmOYE5dANpYVy6wFl0D/Odhmeg6XQE/F8rAVDpdAJgGxO44Nl0ADPO7uWrqYQJGo1V/qWZhAAUUK1BRlmEA/EY+OfqmYQAzHRwVfdphAGowOuG0emEDxz8FqByqYQHI+FV3LYphAH3km+q4EmEDmaLcemjyYQAAuE0S2b5hAtxVM8PBrmECpc16v7G+YQBxStiVxZZhAGgRW/jtmmEDb0xlgHV+YQHh1dpy4QZhAZuTa35hgmEBKZJG/zFyYQCXkMn0gWphAdh7dYW5hmEA/fAbS7LqYQHqCxqxL9phALtUT3hPemEDNJz8BDuaYQEA6gO+xDZlAPxbzqekkmUDxY+Az2SOZQGregLfxFplAxSnIGIormUC0PpzMFe+YQEpbltZA4phASfv9H2L+mEBp9qv0twmZQAOY0tp0/phAsxdNA98BmUB/+GswMACZQICJ3cnm7JhA6N5ceI7ymEB2qqxkKAGZQH1ySeCR9phAOnKhEtcBmUBb57CcmAaZQLH+N2Fa5JhAKazPa07LmEBXTHelazqYQEWh1MsolJhAoF1dl2PKmEBEXTg0HZyYQLcg5VV0ophAr44JmnKXmEAz6UQrXjOYQNMORx0rL5hAVriabfAgmEAoR5EoTUmXQNa02/bpRZdA+BoaD1Anl0DpAmZlRy2XQMFeI16aG5dAIJI7KjLMlkAsCSLStMyWQOi9utUHlZZA3CWRjniXlkAus6gcen2WQBxdz2SkRZZAGMIV3v9YlkBb3pht5z6WQKqL5EhAPJZA/J0C5l4Jl0Do8nDSap2WQO/xzIZAZ5ZAIBh7CLMOl0AU60QGieqWQCUe3dFr/pZAjSW/+Xs5mEDBCqdG6DeYQO1kNW7sFZhA1lu90cATl0DRXIWhJNeWQFjBcIMSCZdAkq+R3H0Cl0BGK4EspNyWQEnlY/+4wZZAWI6JyaMAl0AXNCgD2WaWQM0rnNSWC5dAZmsI7NwSmEANTHj7dxyXQEEQBJmz8JdATc2gx94kl0CqBFRmLSWXQEYcYgp4YpdABDXLX+wkmEDssgBV3hyYQGkp1MozFZdAgVtBG7IFl0BxMqZC2QCXQBy7/qkgA5dAbY8+dDIIl0A35bnSwH+WQMx3mwPtcJZA",
          "dtype": "f8"
         },
         "yaxis": "y"
        },
        {
         "hovertemplate": "Date: %{x|%Y-%m-%d}<br>Actual Price: ₹%{y:.2f}<extra></extra>",
         "legendgroup": "SVR",
         "line": {
          "color": "black",
          "width": 3
         },
         "name": "SVR Actual",
         "type": "scatter",
         "x": [
          "2025-03-17T00:00:00.000000000",
          "2025-03-18T00:00:00.000000000",
          "2025-03-19T00:00:00.000000000",
          "2025-03-20T00:00:00.000000000",
          "2025-03-21T00:00:00.000000000",
          "2025-03-24T00:00:00.000000000",
          "2025-03-25T00:00:00.000000000",
          "2025-03-26T00:00:00.000000000",
          "2025-03-27T00:00:00.000000000",
          "2025-03-28T00:00:00.000000000",
          "2025-04-01T00:00:00.000000000",
          "2025-04-02T00:00:00.000000000",
          "2025-04-03T00:00:00.000000000",
          "2025-04-04T00:00:00.000000000",
          "2025-04-07T00:00:00.000000000",
          "2025-04-08T00:00:00.000000000",
          "2025-04-09T00:00:00.000000000",
          "2025-04-11T00:00:00.000000000",
          "2025-04-15T00:00:00.000000000",
          "2025-04-16T00:00:00.000000000",
          "2025-04-17T00:00:00.000000000",
          "2025-04-21T00:00:00.000000000",
          "2025-04-22T00:00:00.000000000",
          "2025-04-23T00:00:00.000000000",
          "2025-04-24T00:00:00.000000000",
          "2025-04-25T00:00:00.000000000",
          "2025-04-28T00:00:00.000000000",
          "2025-04-29T00:00:00.000000000",
          "2025-04-30T00:00:00.000000000",
          "2025-05-02T00:00:00.000000000",
          "2025-05-05T00:00:00.000000000",
          "2025-05-06T00:00:00.000000000",
          "2025-05-07T00:00:00.000000000",
          "2025-05-08T00:00:00.000000000",
          "2025-05-09T00:00:00.000000000",
          "2025-05-12T00:00:00.000000000",
          "2025-05-13T00:00:00.000000000",
          "2025-05-14T00:00:00.000000000",
          "2025-05-15T00:00:00.000000000",
          "2025-05-16T00:00:00.000000000",
          "2025-05-19T00:00:00.000000000",
          "2025-05-20T00:00:00.000000000",
          "2025-05-21T00:00:00.000000000",
          "2025-05-22T00:00:00.000000000",
          "2025-05-23T00:00:00.000000000",
          "2025-05-26T00:00:00.000000000",
          "2025-05-27T00:00:00.000000000",
          "2025-05-28T00:00:00.000000000",
          "2025-05-29T00:00:00.000000000",
          "2025-05-30T00:00:00.000000000",
          "2025-06-02T00:00:00.000000000",
          "2025-06-03T00:00:00.000000000",
          "2025-06-04T00:00:00.000000000",
          "2025-06-05T00:00:00.000000000",
          "2025-06-06T00:00:00.000000000",
          "2025-06-09T00:00:00.000000000",
          "2025-06-10T00:00:00.000000000",
          "2025-06-11T00:00:00.000000000",
          "2025-06-12T00:00:00.000000000",
          "2025-06-13T00:00:00.000000000",
          "2025-06-16T00:00:00.000000000",
          "2025-06-17T00:00:00.000000000",
          "2025-06-18T00:00:00.000000000",
          "2025-06-19T00:00:00.000000000",
          "2025-06-20T00:00:00.000000000",
          "2025-06-23T00:00:00.000000000",
          "2025-06-24T00:00:00.000000000",
          "2025-06-25T00:00:00.000000000",
          "2025-06-26T00:00:00.000000000",
          "2025-06-27T00:00:00.000000000",
          "2025-06-30T00:00:00.000000000",
          "2025-07-01T00:00:00.000000000",
          "2025-07-02T00:00:00.000000000",
          "2025-07-03T00:00:00.000000000",
          "2025-07-04T00:00:00.000000000",
          "2025-07-07T00:00:00.000000000",
          "2025-07-08T00:00:00.000000000",
          "2025-07-09T00:00:00.000000000",
          "2025-07-10T00:00:00.000000000",
          "2025-07-11T00:00:00.000000000",
          "2025-07-14T00:00:00.000000000",
          "2025-07-15T00:00:00.000000000",
          "2025-07-16T00:00:00.000000000",
          "2025-07-17T00:00:00.000000000",
          "2025-07-18T00:00:00.000000000",
          "2025-07-21T00:00:00.000000000",
          "2025-07-22T00:00:00.000000000",
          "2025-07-23T00:00:00.000000000",
          "2025-07-24T00:00:00.000000000",
          "2025-07-25T00:00:00.000000000",
          "2025-07-28T00:00:00.000000000",
          "2025-07-29T00:00:00.000000000",
          "2025-07-30T00:00:00.000000000",
          "2025-07-31T00:00:00.000000000",
          "2025-08-01T00:00:00.000000000",
          "2025-08-04T00:00:00.000000000",
          "2025-08-05T00:00:00.000000000",
          "2025-08-06T00:00:00.000000000",
          "2025-08-07T00:00:00.000000000",
          "2025-08-08T00:00:00.000000000",
          "2025-08-11T00:00:00.000000000",
          "2025-08-12T00:00:00.000000000",
          "2025-08-13T00:00:00.000000000",
          "2025-08-14T00:00:00.000000000",
          "2025-08-18T00:00:00.000000000",
          "2025-08-19T00:00:00.000000000",
          "2025-08-20T00:00:00.000000000",
          "2025-08-21T00:00:00.000000000",
          "2025-08-22T00:00:00.000000000",
          "2025-08-25T00:00:00.000000000",
          "2025-08-26T00:00:00.000000000",
          "2025-08-27T00:00:00.000000000",
          "2025-08-28T00:00:00.000000000",
          "2025-08-29T00:00:00.000000000",
          "2025-09-01T00:00:00.000000000",
          "2025-09-02T00:00:00.000000000",
          "2025-09-03T00:00:00.000000000",
          "2025-09-04T00:00:00.000000000",
          "2025-09-05T00:00:00.000000000",
          "2025-09-08T00:00:00.000000000",
          "2025-09-09T00:00:00.000000000",
          "2025-09-10T00:00:00.000000000",
          "2025-09-11T00:00:00.000000000",
          "2025-09-12T00:00:00.000000000",
          "2025-09-15T00:00:00.000000000",
          "2025-09-16T00:00:00.000000000",
          "2025-09-17T00:00:00.000000000",
          "2025-09-18T00:00:00.000000000",
          "2025-09-19T00:00:00.000000000",
          "2025-09-22T00:00:00.000000000",
          "2025-09-23T00:00:00.000000000",
          "2025-09-24T00:00:00.000000000",
          "2025-09-25T00:00:00.000000000",
          "2025-09-26T00:00:00.000000000",
          "2025-09-29T00:00:00.000000000",
          "2025-09-30T00:00:00.000000000",
          "2025-10-01T00:00:00.000000000",
          "2025-10-03T00:00:00.000000000"
         ],
         "xaxis": "x2",
         "y": {
          "bdata": "AAAAALhXmEAAAAAA9H+YQAAAAAD0f5hAAAAAwCVymEAAAADAieSYQAAAAIDQiZhAAAAAYJqKmEAAAADgaxeZQAAAAAAIpZhAAAAAQDS1mEAAAAAAbjOYQAAAAKBHhZdAAAAAQJHil0AAAADg8Q6XQAAAAMAIXpZAAAAAIHuFlUAAAAAA5wOWQAAAACDloJVAAAAAgJO3lUAAAACA2/iVQAAAAED5xZVAAAAA4DfflUAAAABgeFuWQAAAAEA87JVAAAAAYL65lkAAAAAg8KuWQAAAAECmzpZAAAAA4CTWlkAAAADA4xKXQAAAACAlHZdAAAAAwPc3l0AAAABgrD6XQAAAAMAcSpdAAAAAgH09l0AAAADgt0mXQAAAAKC6OpdAAAAA4E4RmUAAAADgVyuYQAAAAAA5iZhAAAAAoHramEAAAACAXH+YQAAAAMChCJhAAAAAgMkLmEAAAADg8iqYQAAAAEAd2JdAAAAAwFocmEAAAABgSFqYQAAAAKBCMZhAAAAAQPc3mEAAAABgZm6YQAAAAMDMaphAAAAAQDNHmEAAAAAAAByYQAAAAMDMPJhAAAAAQDNJmEAAAABAM2+YQAAAAKCZk5hAAAAAAADwmEAAAABgZnyZQAAAAGBmIplAAAAAAAAImUAAAABAM1+ZQAAAAKCZn5lAAAAAoJmDmUAAAACgmUmZQAAAAKCZW5lAAAAAAADAmEAAAABgZraYQAAAAKCZO5lAAAAAAABAmUAAAAAAACCZQAAAAEAzB5lAAAAAQDMbmUAAAAAAACqZQAAAAMDMSplAAAAAwMyimUAAAAAAAGyZQAAAAMDMmplAAAAAwMyGmUAAAABAMz+ZQAAAAKCZ65hAAAAAQDOJmEAAAABgZsaYQAAAAKCZH5lAAAAAAAC+mEAAAABgZsiYQAAAAEAzwZhAAAAAoJmLmEAAAAAAAJqYQAAAAAAAQphAAAAAwMyul0AAAAAAALCXQAAAAMDMppdAAAAAAAC8l0AAAAAAAJSXQAAAAGBm9pZAAAAAAAAil0AAAABAM9GWQAAAAMDMcpZAAAAAoJlzlkAAAABgZjyWQAAAAMDMUJZAAAAAYGZAlkAAAABgZkqWQAAAAMDMnpZAAAAAQDNvlkAAAAAAAICWQAAAAMDMYJdAAAAAoJlhl0AAAAAAAD6XQAAAAGBm8JdAAAAAYGbml0AAAABgZuaXQAAAAGBmcJdAAAAAYGb2lkAAAACgmW2XQAAAAMDMapdAAAAAYGYcl0AAAAAAANyWQAAAAGBmkpZAAAAAoJljlkAAAABAM4GXQAAAAGBm8pdAAAAAwMyWl0AAAABgZtaXQAAAAKCZkZdAAAAAQDOdl0AAAACgmcmXQAAAAGBmEphAAAAAwMwQmEAAAAAAAG6XQAAAAAAAZpdAAAAAYGZal0AAAABAMzOXQAAAAKCZo5ZAAAAAQDOHlkAAAABAM4eWQAAAAEAzl5ZA",
          "dtype": "f8"
         },
         "yaxis": "y2"
        },
        {
         "hovertemplate": "Date: %{x|%Y-%m-%d}<br>Predicted Price: ₹%{y:.2f}<extra></extra>",
         "legendgroup": "SVR",
         "line": {
          "color": "#4ECDC4",
          "dash": "dot",
          "width": 2
         },
         "name": "SVR Predicted",
         "type": "scatter",
         "x": [
          "2025-03-17T00:00:00.000000000",
          "2025-03-18T00:00:00.000000000",
          "2025-03-19T00:00:00.000000000",
          "2025-03-20T00:00:00.000000000",
          "2025-03-21T00:00:00.000000000",
          "2025-03-24T00:00:00.000000000",
          "2025-03-25T00:00:00.000000000",
          "2025-03-26T00:00:00.000000000",
          "2025-03-27T00:00:00.000000000",
          "2025-03-28T00:00:00.000000000",
          "2025-04-01T00:00:00.000000000",
          "2025-04-02T00:00:00.000000000",
          "2025-04-03T00:00:00.000000000",
          "2025-04-04T00:00:00.000000000",
          "2025-04-07T00:00:00.000000000",
          "2025-04-08T00:00:00.000000000",
          "2025-04-09T00:00:00.000000000",
          "2025-04-11T00:00:00.000000000",
          "2025-04-15T00:00:00.000000000",
          "2025-04-16T00:00:00.000000000",
          "2025-04-17T00:00:00.000000000",
          "2025-04-21T00:00:00.000000000",
          "2025-04-22T00:00:00.000000000",
          "2025-04-23T00:00:00.000000000",
          "2025-04-24T00:00:00.000000000",
          "2025-04-25T00:00:00.000000000",
          "2025-04-28T00:00:00.000000000",
          "2025-04-29T00:00:00.000000000",
          "2025-04-30T00:00:00.000000000",
          "2025-05-02T00:00:00.000000000",
          "2025-05-05T00:00:00.000000000",
          "2025-05-06T00:00:00.000000000",
          "2025-05-07T00:00:00.000000000",
          "2025-05-08T00:00:00.000000000",
          "2025-05-09T00:00:00.000000000",
          "2025-05-12T00:00:00.000000000",
          "2025-05-13T00:00:00.000000000",
          "2025-05-14T00:00:00.000000000",
          "2025-05-15T00:00:00.000000000",
          "2025-05-16T00:00:00.000000000",
          "2025-05-19T00:00:00.000000000",
          "2025-05-20T00:00:00.000000000",
          "2025-05-21T00:00:00.000000000",
          "2025-05-22T00:00:00.000000000",
          "2025-05-23T00:00:00.000000000",
          "2025-05-26T00:00:00.000000000",
          "2025-05-27T00:00:00.000000000",
          "2025-05-28T00:00:00.000000000",
          "2025-05-29T00:00:00.000000000",
          "2025-05-30T00:00:00.000000000",
          "2025-06-02T00:00:00.000000000",
          "2025-06-03T00:00:00.000000000",
          "2025-06-04T00:00:00.000000000",
          "2025-06-05T00:00:00.000000000",
          "2025-06-06T00:00:00.000000000",
          "2025-06-09T00:00:00.000000000",
          "2025-06-10T00:00:00.000000000",
          "2025-06-11T00:00:00.000000000",
          "2025-06-12T00:00:00.000000000",
          "2025-06-13T00:00:00.000000000",
          "2025-06-16T00:00:00.000000000",
          "2025-06-17T00:00:00.000000000",
          "2025-06-18T00:00:00.000000000",
          "2025-06-19T00:00:00.000000000",
          "2025-06-20T00:00:00.000000000",
          "2025-06-23T00:00:00.000000000",
          "2025-06-24T00:00:00.000000000",
          "2025-06-25T00:00:00.000000000",
          "2025-06-26T00:00:00.000000000",
          "2025-06-27T00:00:00.000000000",
          "2025-06-30T00:00:00.000000000",
          "2025-07-01T00:00:00.000000000",
          "2025-07-02T00:00:00.000000000",
          "2025-07-03T00:00:00.000000000",
          "2025-07-04T00:00:00.000000000",
          "2025-07-07T00:00:00.000000000",
          "2025-07-08T00:00:00.000000000",
          "2025-07-09T00:00:00.000000000",
          "2025-07-10T00:00:00.000000000",
          "2025-07-11T00:00:00.000000000",
          "2025-07-14T00:00:00.000000000",
          "2025-07-15T00:00:00.000000000",
          "2025-07-16T00:00:00.000000000",
          "2025-07-17T00:00:00.000000000",
          "2025-07-18T00:00:00.000000000",
          "2025-07-21T00:00:00.000000000",
          "2025-07-22T00:00:00.000000000",
          "2025-07-23T00:00:00.000000000",
          "2025-07-24T00:00:00.000000000",
          "2025-07-25T00:00:00.000000000",
          "2025-07-28T00:00:00.000000000",
          "2025-07-29T00:00:00.000000000",
          "2025-07-30T00:00:00.000000000",
          "2025-07-31T00:00:00.000000000",
          "2025-08-01T00:00:00.000000000",
          "2025-08-04T00:00:00.000000000",
          "2025-08-05T00:00:00.000000000",
          "2025-08-06T00:00:00.000000000",
          "2025-08-07T00:00:00.000000000",
          "2025-08-08T00:00:00.000000000",
          "2025-08-11T00:00:00.000000000",
          "2025-08-12T00:00:00.000000000",
          "2025-08-13T00:00:00.000000000",
          "2025-08-14T00:00:00.000000000",
          "2025-08-18T00:00:00.000000000",
          "2025-08-19T00:00:00.000000000",
          "2025-08-20T00:00:00.000000000",
          "2025-08-21T00:00:00.000000000",
          "2025-08-22T00:00:00.000000000",
          "2025-08-25T00:00:00.000000000",
          "2025-08-26T00:00:00.000000000",
          "2025-08-27T00:00:00.000000000",
          "2025-08-28T00:00:00.000000000",
          "2025-08-29T00:00:00.000000000",
          "2025-09-01T00:00:00.000000000",
          "2025-09-02T00:00:00.000000000",
          "2025-09-03T00:00:00.000000000",
          "2025-09-04T00:00:00.000000000",
          "2025-09-05T00:00:00.000000000",
          "2025-09-08T00:00:00.000000000",
          "2025-09-09T00:00:00.000000000",
          "2025-09-10T00:00:00.000000000",
          "2025-09-11T00:00:00.000000000",
          "2025-09-12T00:00:00.000000000",
          "2025-09-15T00:00:00.000000000",
          "2025-09-16T00:00:00.000000000",
          "2025-09-17T00:00:00.000000000",
          "2025-09-18T00:00:00.000000000",
          "2025-09-19T00:00:00.000000000",
          "2025-09-22T00:00:00.000000000",
          "2025-09-23T00:00:00.000000000",
          "2025-09-24T00:00:00.000000000",
          "2025-09-25T00:00:00.000000000",
          "2025-09-26T00:00:00.000000000",
          "2025-09-29T00:00:00.000000000",
          "2025-09-30T00:00:00.000000000",
          "2025-10-01T00:00:00.000000000",
          "2025-10-03T00:00:00.000000000"
         ],
         "xaxis": "x2",
         "y": {
          "bdata": "5YwlYnOPmECjvSIIbHqYQOidiugkbphAyeNNk/igmEC1ncdMcD6YQO3EzDEYiZhAFAbPjg38l0BB662XliGYQDfOfkFHlZhAhvWTSH8xmEB9vr86oEaYQFMXST629pdAiG58xLdml0BUkZJwZReYQDmfHZh2KJdAW4uGcb4Sl0C2hhJtd++XQOgCA/ib8ZZA2FE57ceLlkD4xd1dQHqWQFN3BiOMk5ZATuyvgalFlkA3/6ww2Y6WQKH0ECM5FZdApMaKU2dylkDObr62ehmXQDM7t0rfzZZAbbHUQ8/dlkChk3Iw5/OWQAKDf9JQEpdALw0eME4el0AVC50s1jqXQHsHQAb9SZdAEyo+ijNTl0DLBaaqKkmXQPw9m0V6VpdAlOfnuDlDl0DRdyN7liiYQHKJfSOihpdAzQMFZ31amEBrTX11NWqYQL5RhrJPNphAn0HGVakJmED/VLZmlhCYQBfBw+9nF5hAMG2CWXvMl0B4S4D/PRyYQD3gu4VdKphAfg98eC8NmEBdMUgHsBWYQP4XnsLRXZhAgoFUdFVWmECUeDh17TCYQMp9XNY8HJhA09FomxhDmEDBeU+dclCYQN5l/5JBbphAvDSRcEZ0mEDsVR98LOyYQD5bfXKCTplAgvrOXqrjmEAf6czTxfaYQNNnDfPWRJlACglBeF6PmUArLjwanGmZQB2CmgXCMplAxU+U/F+CmUD4n7p8tdaYQE1aUnnS3ZhAiw6xTztbmUDc8+p+5UGZQGAQH+6BMplAsA3qnpATmUC/Wd6L2h2ZQBtO6bkURZlAQN3oBdhjmUD3njuyULaZQJ8qkTLFYZlAPQSgDUW6mUAM/hDb4omZQF6qLvtuRJlA4pxyUVj5mEB2DYAj5ZGYQGfWYRSt0ZhAwHLdAiQkmUBlFbAg8KyYQGqXHZyexJhA1wTZPQSmmEBMAcocHmmYQAZKVusZd5hAbGGEkc7Yl0DymnlpMn2XQFGhiL8tkZdAtR1dkY+Gl0A8kHT8XK2XQNpv9wj/RZdAmq92Xs61lkCk9dDEEv+WQKSe3CJtlpZA59ldudxIlkA+If1IuUyWQEn3hGi+PZZAMLxzY1dZlkD+8ibuvRaWQOuQmpVoUZZAXne26QddlkAhQiMkOiqWQH60D0f6iJZAp08055N5l0Cry1oqbkqXQB3tEg43QZdA53nkkqvnl0B4EgKljIeXQFFzfbPGrZdAak2z5Nxxl0B0zZKQ8P2WQDcIa9rAopdATvumqWRnl0D5s1YNhx2XQKZ8tCpb45ZAM1/lXvmWlkDH/FJc5W+WQE3/mH6Dz5dAR7woCYLOl0AR/wsD4mGXQOIg5vioyJdAa2I0++5vl0AOr4TmpbWXQK6f8TgvyJdAi7OxVV0YmED4tLkHr/KXQIxVSlhKQZdAh2UYmeWIl0B6Jg1GLG+XQDpFe/zbQZdAGhthDVnHlkDoUB4NyZ+WQKaLJv1Yt5ZA",
          "dtype": "f8"
         },
         "yaxis": "y2"
        },
        {
         "hovertemplate": "Date: %{x|%Y-%m-%d}<br>Actual Price: ₹%{y:.2f}<extra></extra>",
         "legendgroup": "LSTM",
         "line": {
          "color": "black",
          "width": 3
         },
         "name": "LSTM Actual",
         "type": "scatter",
         "x": [
          "2025-04-03T00:00:00.000000000",
          "2025-04-04T00:00:00.000000000",
          "2025-04-07T00:00:00.000000000",
          "2025-04-08T00:00:00.000000000",
          "2025-04-09T00:00:00.000000000",
          "2025-04-11T00:00:00.000000000",
          "2025-04-15T00:00:00.000000000",
          "2025-04-16T00:00:00.000000000",
          "2025-04-17T00:00:00.000000000",
          "2025-04-21T00:00:00.000000000",
          "2025-04-22T00:00:00.000000000",
          "2025-04-23T00:00:00.000000000",
          "2025-04-24T00:00:00.000000000",
          "2025-04-25T00:00:00.000000000",
          "2025-04-28T00:00:00.000000000",
          "2025-04-29T00:00:00.000000000",
          "2025-04-30T00:00:00.000000000",
          "2025-05-02T00:00:00.000000000",
          "2025-05-05T00:00:00.000000000",
          "2025-05-06T00:00:00.000000000",
          "2025-05-07T00:00:00.000000000",
          "2025-05-08T00:00:00.000000000",
          "2025-05-09T00:00:00.000000000",
          "2025-05-12T00:00:00.000000000",
          "2025-05-13T00:00:00.000000000",
          "2025-05-14T00:00:00.000000000",
          "2025-05-15T00:00:00.000000000",
          "2025-05-16T00:00:00.000000000",
          "2025-05-19T00:00:00.000000000",
          "2025-05-20T00:00:00.000000000",
          "2025-05-21T00:00:00.000000000",
          "2025-05-22T00:00:00.000000000",
          "2025-05-23T00:00:00.000000000",
          "2025-05-26T00:00:00.000000000",
          "2025-05-27T00:00:00.000000000",
          "2025-05-28T00:00:00.000000000",
          "2025-05-29T00:00:00.000000000",
          "2025-05-30T00:00:00.000000000",
          "2025-06-02T00:00:00.000000000",
          "2025-06-03T00:00:00.000000000",
          "2025-06-04T00:00:00.000000000",
          "2025-06-05T00:00:00.000000000",
          "2025-06-06T00:00:00.000000000",
          "2025-06-09T00:00:00.000000000",
          "2025-06-10T00:00:00.000000000",
          "2025-06-11T00:00:00.000000000",
          "2025-06-12T00:00:00.000000000",
          "2025-06-13T00:00:00.000000000",
          "2025-06-16T00:00:00.000000000",
          "2025-06-17T00:00:00.000000000",
          "2025-06-18T00:00:00.000000000",
          "2025-06-19T00:00:00.000000000",
          "2025-06-20T00:00:00.000000000",
          "2025-06-23T00:00:00.000000000",
          "2025-06-24T00:00:00.000000000",
          "2025-06-25T00:00:00.000000000",
          "2025-06-26T00:00:00.000000000",
          "2025-06-27T00:00:00.000000000",
          "2025-06-30T00:00:00.000000000",
          "2025-07-01T00:00:00.000000000",
          "2025-07-02T00:00:00.000000000",
          "2025-07-03T00:00:00.000000000",
          "2025-07-04T00:00:00.000000000",
          "2025-07-07T00:00:00.000000000",
          "2025-07-08T00:00:00.000000000",
          "2025-07-09T00:00:00.000000000",
          "2025-07-10T00:00:00.000000000",
          "2025-07-11T00:00:00.000000000",
          "2025-07-14T00:00:00.000000000",
          "2025-07-15T00:00:00.000000000",
          "2025-07-16T00:00:00.000000000",
          "2025-07-17T00:00:00.000000000",
          "2025-07-18T00:00:00.000000000",
          "2025-07-21T00:00:00.000000000",
          "2025-07-22T00:00:00.000000000",
          "2025-07-23T00:00:00.000000000",
          "2025-07-24T00:00:00.000000000",
          "2025-07-25T00:00:00.000000000",
          "2025-07-28T00:00:00.000000000",
          "2025-07-29T00:00:00.000000000",
          "2025-07-30T00:00:00.000000000",
          "2025-07-31T00:00:00.000000000",
          "2025-08-01T00:00:00.000000000",
          "2025-08-04T00:00:00.000000000",
          "2025-08-05T00:00:00.000000000",
          "2025-08-06T00:00:00.000000000",
          "2025-08-07T00:00:00.000000000",
          "2025-08-08T00:00:00.000000000",
          "2025-08-11T00:00:00.000000000",
          "2025-08-12T00:00:00.000000000",
          "2025-08-13T00:00:00.000000000",
          "2025-08-14T00:00:00.000000000",
          "2025-08-18T00:00:00.000000000",
          "2025-08-19T00:00:00.000000000",
          "2025-08-20T00:00:00.000000000",
          "2025-08-21T00:00:00.000000000",
          "2025-08-22T00:00:00.000000000",
          "2025-08-25T00:00:00.000000000",
          "2025-08-26T00:00:00.000000000",
          "2025-08-27T00:00:00.000000000",
          "2025-08-28T00:00:00.000000000",
          "2025-08-29T00:00:00.000000000",
          "2025-09-01T00:00:00.000000000",
          "2025-09-02T00:00:00.000000000",
          "2025-09-03T00:00:00.000000000",
          "2025-09-04T00:00:00.000000000",
          "2025-09-05T00:00:00.000000000",
          "2025-09-08T00:00:00.000000000",
          "2025-09-09T00:00:00.000000000",
          "2025-09-10T00:00:00.000000000",
          "2025-09-11T00:00:00.000000000",
          "2025-09-12T00:00:00.000000000",
          "2025-09-15T00:00:00.000000000",
          "2025-09-16T00:00:00.000000000",
          "2025-09-17T00:00:00.000000000",
          "2025-09-18T00:00:00.000000000",
          "2025-09-19T00:00:00.000000000",
          "2025-09-22T00:00:00.000000000",
          "2025-09-23T00:00:00.000000000",
          "2025-09-24T00:00:00.000000000",
          "2025-09-25T00:00:00.000000000",
          "2025-09-26T00:00:00.000000000",
          "2025-09-29T00:00:00.000000000",
          "2025-09-30T00:00:00.000000000",
          "2025-10-01T00:00:00.000000000",
          "2025-10-03T00:00:00.000000000"
         ],
         "xaxis": "x3",
         "y": {
          "bdata": "AAAAQJHil0AAAADg8Q6XQAAAAMAIXpZAAAAAIHuFlUAAAAAA5wOWQAAAACDloJVAAAAAgJO3lUAAAACA2/iVQAAAAED5xZVAAAAA4DfflUAAAABgeFuWQAAAAEA87JVAAAAAYL65lkAAAAAg8KuWQAAAAECmzpZAAAAA4CTWlkAAAADA4xKXQAAAACAlHZdAAAAAwPc3l0AAAABgrD6XQAAAAMAcSpdAAAAAgH09l0AAAADgt0mXQAAAAKC6OpdAAAAA4E4RmUAAAADgVyuYQAAAAAA5iZhAAAAAoHramEAAAACAXH+YQAAAAMChCJhAAAAAgMkLmEAAAADg8iqYQAAAAEAd2JdAAAAAwFocmEAAAABgSFqYQAAAAKBCMZhAAAAAQPc3mEAAAABgZm6YQAAAAMDMaphAAAAAQDNHmEAAAAAAAByYQAAAAMDMPJhAAAAAQDNJmEAAAABAM2+YQAAAAKCZk5hAAAAAAADwmEAAAABgZnyZQAAAAGBmIplAAAAAAAAImUAAAABAM1+ZQAAAAKCZn5lAAAAAoJmDmUAAAACgmUmZQAAAAKCZW5lAAAAAAADAmEAAAABgZraYQAAAAKCZO5lAAAAAAABAmUAAAAAAACCZQAAAAEAzB5lAAAAAQDMbmUAAAAAAACqZQAAAAMDMSplAAAAAwMyimUAAAAAAAGyZQAAAAMDMmplAAAAAwMyGmUAAAABAMz+ZQAAAAKCZ65hAAAAAQDOJmEAAAABgZsaYQAAAAKCZH5lAAAAAAAC+mEAAAABgZsiYQAAAAEAzwZhAAAAAoJmLmEAAAAAAAJqYQAAAAAAAQphAAAAAwMyul0AAAAAAALCXQAAAAMDMppdAAAAAAAC8l0AAAAAAAJSXQAAAAGBm9pZAAAAAAAAil0AAAABAM9GWQAAAAMDMcpZAAAAAoJlzlkAAAABgZjyWQAAAAMDMUJZAAAAAYGZAlkAAAABgZkqWQAAAAMDMnpZAAAAAQDNvlkAAAAAAAICWQAAAAMDMYJdAAAAAoJlhl0AAAAAAAD6XQAAAAGBm8JdAAAAAYGbml0AAAABgZuaXQAAAAGBmcJdAAAAAYGb2lkAAAACgmW2XQAAAAMDMapdAAAAAYGYcl0AAAAAAANyWQAAAAGBmkpZAAAAAoJljlkAAAABAM4GXQAAAAGBm8pdAAAAAwMyWl0AAAABgZtaXQAAAAKCZkZdAAAAAQDOdl0AAAACgmcmXQAAAAGBmEphAAAAAwMwQmEAAAAAAAG6XQAAAAAAAZpdAAAAAYGZal0AAAABAMzOXQAAAAKCZo5ZAAAAAQDOHlkAAAABAM4eWQAAAAEAzl5ZA",
          "dtype": "f8"
         },
         "yaxis": "y3"
        },
        {
         "hovertemplate": "Date: %{x|%Y-%m-%d}<br>Predicted Price: ₹%{y:.2f}<extra></extra>",
         "legendgroup": "LSTM",
         "line": {
          "color": "#45B7D1",
          "dash": "dot",
          "width": 2
         },
         "name": "LSTM Predicted",
         "type": "scatter",
         "x": [
          "2025-04-03T00:00:00.000000000",
          "2025-04-04T00:00:00.000000000",
          "2025-04-07T00:00:00.000000000",
          "2025-04-08T00:00:00.000000000",
          "2025-04-09T00:00:00.000000000",
          "2025-04-11T00:00:00.000000000",
          "2025-04-15T00:00:00.000000000",
          "2025-04-16T00:00:00.000000000",
          "2025-04-17T00:00:00.000000000",
          "2025-04-21T00:00:00.000000000",
          "2025-04-22T00:00:00.000000000",
          "2025-04-23T00:00:00.000000000",
          "2025-04-24T00:00:00.000000000",
          "2025-04-25T00:00:00.000000000",
          "2025-04-28T00:00:00.000000000",
          "2025-04-29T00:00:00.000000000",
          "2025-04-30T00:00:00.000000000",
          "2025-05-02T00:00:00.000000000",
          "2025-05-05T00:00:00.000000000",
          "2025-05-06T00:00:00.000000000",
          "2025-05-07T00:00:00.000000000",
          "2025-05-08T00:00:00.000000000",
          "2025-05-09T00:00:00.000000000",
          "2025-05-12T00:00:00.000000000",
          "2025-05-13T00:00:00.000000000",
          "2025-05-14T00:00:00.000000000",
          "2025-05-15T00:00:00.000000000",
          "2025-05-16T00:00:00.000000000",
          "2025-05-19T00:00:00.000000000",
          "2025-05-20T00:00:00.000000000",
          "2025-05-21T00:00:00.000000000",
          "2025-05-22T00:00:00.000000000",
          "2025-05-23T00:00:00.000000000",
          "2025-05-26T00:00:00.000000000",
          "2025-05-27T00:00:00.000000000",
          "2025-05-28T00:00:00.000000000",
          "2025-05-29T00:00:00.000000000",
          "2025-05-30T00:00:00.000000000",
          "2025-06-02T00:00:00.000000000",
          "2025-06-03T00:00:00.000000000",
          "2025-06-04T00:00:00.000000000",
          "2025-06-05T00:00:00.000000000",
          "2025-06-06T00:00:00.000000000",
          "2025-06-09T00:00:00.000000000",
          "2025-06-10T00:00:00.000000000",
          "2025-06-11T00:00:00.000000000",
          "2025-06-12T00:00:00.000000000",
          "2025-06-13T00:00:00.000000000",
          "2025-06-16T00:00:00.000000000",
          "2025-06-17T00:00:00.000000000",
          "2025-06-18T00:00:00.000000000",
          "2025-06-19T00:00:00.000000000",
          "2025-06-20T00:00:00.000000000",
          "2025-06-23T00:00:00.000000000",
          "2025-06-24T00:00:00.000000000",
          "2025-06-25T00:00:00.000000000",
          "2025-06-26T00:00:00.000000000",
          "2025-06-27T00:00:00.000000000",
          "2025-06-30T00:00:00.000000000",
          "2025-07-01T00:00:00.000000000",
          "2025-07-02T00:00:00.000000000",
          "2025-07-03T00:00:00.000000000",
          "2025-07-04T00:00:00.000000000",
          "2025-07-07T00:00:00.000000000",
          "2025-07-08T00:00:00.000000000",
          "2025-07-09T00:00:00.000000000",
          "2025-07-10T00:00:00.000000000",
          "2025-07-11T00:00:00.000000000",
          "2025-07-14T00:00:00.000000000",
          "2025-07-15T00:00:00.000000000",
          "2025-07-16T00:00:00.000000000",
          "2025-07-17T00:00:00.000000000",
          "2025-07-18T00:00:00.000000000",
          "2025-07-21T00:00:00.000000000",
          "2025-07-22T00:00:00.000000000",
          "2025-07-23T00:00:00.000000000",
          "2025-07-24T00:00:00.000000000",
          "2025-07-25T00:00:00.000000000",
          "2025-07-28T00:00:00.000000000",
          "2025-07-29T00:00:00.000000000",
          "2025-07-30T00:00:00.000000000",
          "2025-07-31T00:00:00.000000000",
          "2025-08-01T00:00:00.000000000",
          "2025-08-04T00:00:00.000000000",
          "2025-08-05T00:00:00.000000000",
          "2025-08-06T00:00:00.000000000",
          "2025-08-07T00:00:00.000000000",
          "2025-08-08T00:00:00.000000000",
          "2025-08-11T00:00:00.000000000",
          "2025-08-12T00:00:00.000000000",
          "2025-08-13T00:00:00.000000000",
          "2025-08-14T00:00:00.000000000",
          "2025-08-18T00:00:00.000000000",
          "2025-08-19T00:00:00.000000000",
          "2025-08-20T00:00:00.000000000",
          "2025-08-21T00:00:00.000000000",
          "2025-08-22T00:00:00.000000000",
          "2025-08-25T00:00:00.000000000",
          "2025-08-26T00:00:00.000000000",
          "2025-08-27T00:00:00.000000000",
          "2025-08-28T00:00:00.000000000",
          "2025-08-29T00:00:00.000000000",
          "2025-09-01T00:00:00.000000000",
          "2025-09-02T00:00:00.000000000",
          "2025-09-03T00:00:00.000000000",
          "2025-09-04T00:00:00.000000000",
          "2025-09-05T00:00:00.000000000",
          "2025-09-08T00:00:00.000000000",
          "2025-09-09T00:00:00.000000000",
          "2025-09-10T00:00:00.000000000",
          "2025-09-11T00:00:00.000000000",
          "2025-09-12T00:00:00.000000000",
          "2025-09-15T00:00:00.000000000",
          "2025-09-16T00:00:00.000000000",
          "2025-09-17T00:00:00.000000000",
          "2025-09-18T00:00:00.000000000",
          "2025-09-19T00:00:00.000000000",
          "2025-09-22T00:00:00.000000000",
          "2025-09-23T00:00:00.000000000",
          "2025-09-24T00:00:00.000000000",
          "2025-09-25T00:00:00.000000000",
          "2025-09-26T00:00:00.000000000",
          "2025-09-29T00:00:00.000000000",
          "2025-09-30T00:00:00.000000000",
          "2025-10-01T00:00:00.000000000",
          "2025-10-03T00:00:00.000000000"
         ],
         "xaxis": "x3",
         "y": {
          "bdata": "kJJx4y7+l0BAEqlLS8qXQJDgaBVkcZdAcA5WR5D2lkCgKxAE5y+WQOBe0R7225VAgFwjJna8lUDg0QauL7CVQNC2mLWFyZVAIFUWyN/RlUAw3cnZStCVQJCnj0uL7pVA8KzM2doAlkDgI+qM0TuWQECTk4+4eJZAsLJZ6m2llkBQpJoU98OWQGBR3WJp3pZAIJEVddP0lkCAmsOVnw2XQABMj/joKpdAcLzE0/tDl0BgbNYRrE2XQABKSqAAT5dA8Ott3MNWl0Awr6etC+GXQBBqVOyLMJhAQB8zmhKDmECAA6k5fcSYQICtz9UG3ZhAIHXuMI2rmECAK75XtnOYQMCFzgcVW5hAoIY8OO81mEBwl1EYAC+YQPBFxwtbS5hAcFhfXexTmECAMBOxRF6YQKAWRynnaZhAgPO3n5ZpmEAAAq/fH3KYQMD8JK/6YphAIGilVxJcmECA8P71sVWYQECEJ3GvYphAwFQhpq98mEDA9wpT+qGYQGCXXNU865hAgI7TWYgRmUCA/uhwHR6ZQADoDUI2OJlA4Ekd9VhcmUCg7fQvvnKZQIDALqVFaZlAoPGfTU5TmUBgxqTjdBSZQED2bjqX2ZhAQH0VCADgmECAvnF7lAKZQKCb22YaFZlAYLp3nwIamUDAEY2BqSCZQIBe9M93HplAoMgdrsEsmUAgUnOCQFiZQGBo3YQYb5lAgPyCuL2AmUAggQlB5IOZQKCB2yIEaZlAoENBRSkmmUBA8RpGO9eYQMBxSiNQt5hAwGKseu7SmEBge8Y/q9mYQOApFsAC3ZhAwOe8AyTbmEBgNVW72bmYQGC0ggm2nphAQD28Ng9mmEBAbQYw8RSYQGDV6qgK4JdA0L7S19q9l0AA1vIdkLSXQOA0YHu9pZdAQCbb3pJjl0Dgm3SccTCXQJC7BEVc95ZAMIdH5yWylkCwNmID84CWQGDHoBX4VZZAIFfoextJlkCgrrEgHzuWQLAXDOeLM5ZAMIPWR2FElkAgMIDId1yWQDBccdCcd5ZAoD+tLdi6lkAgFGA6SgWXQGDwyDt0MJdAoFlu+iZrl0BQ46m1SI6XQJDB1xX/yJdAgDVyCRPCl0CANRpA13eXQADGNaRGW5dAEDJOGtxXl0DAxCWt80qXQGBldBScKZdA8GZy0ND3lkBQhO1/icaWQPBB5zTb45ZAwKQHMfZRl0CADcokEJ+XQHDQOiW3zZdAwPWSJRfel0Ag1mdPldWXQFCxE4eN25dA8K0ysl3tl0Bwy1VOhvaXQBBdST82w5dAsASLhsOal0DAbuvlM4iXQCBa/g4QZpdAUHoAmwMfl0BgO06kh9GWQPAxQ+Yto5ZA",
          "dtype": "f8"
         },
         "yaxis": "y3"
        }
       ],
       "layout": {
        "annotations": [
         {
          "font": {
           "size": 16
          },
          "showarrow": false,
          "text": "Random_Forest<br>17 Mar 2025 to 03 Oct 2025",
          "x": 0.14444444444444446,
          "xanchor": "center",
          "xref": "paper",
          "y": 1,
          "yanchor": "bottom",
          "yref": "paper"
         },
         {
          "font": {
           "size": 16
          },
          "showarrow": false,
          "text": "SVR<br>17 Mar 2025 to 03 Oct 2025",
          "x": 0.5,
          "xanchor": "center",
          "xref": "paper",
          "y": 1,
          "yanchor": "bottom",
          "yref": "paper"
         },
         {
          "font": {
           "size": 16
          },
          "showarrow": false,
          "text": "LSTM<br>03 Apr 2025 to 03 Oct 2025",
          "x": 0.8555555555555556,
          "xanchor": "center",
          "xref": "paper",
          "y": 1,
          "yanchor": "bottom",
          "yref": "paper"
         }
        ],
        "height": 500,
        "hovermode": "x unified",
        "legend": {
         "orientation": "h",
         "x": 0.5,
         "xanchor": "center",
         "y": 1.02,
         "yanchor": "bottom"
        },
        "showlegend": true,
        "template": {
         "data": {
          "bar": [
           {
            "error_x": {
             "color": "#2a3f5f"
            },
            "error_y": {
             "color": "#2a3f5f"
            },
            "marker": {
             "line": {
              "color": "white",
              "width": 0.5
             },
             "pattern": {
              "fillmode": "overlay",
              "size": 10,
              "solidity": 0.2
             }
            },
            "type": "bar"
           }
          ],
          "barpolar": [
           {
            "marker": {
             "line": {
              "color": "white",
              "width": 0.5
             },
             "pattern": {
              "fillmode": "overlay",
              "size": 10,
              "solidity": 0.2
             }
            },
            "type": "barpolar"
           }
          ],
          "carpet": [
           {
            "aaxis": {
             "endlinecolor": "#2a3f5f",
             "gridcolor": "#C8D4E3",
             "linecolor": "#C8D4E3",
             "minorgridcolor": "#C8D4E3",
             "startlinecolor": "#2a3f5f"
            },
            "baxis": {
             "endlinecolor": "#2a3f5f",
             "gridcolor": "#C8D4E3",
             "linecolor": "#C8D4E3",
             "minorgridcolor": "#C8D4E3",
             "startlinecolor": "#2a3f5f"
            },
            "type": "carpet"
           }
          ],
          "choropleth": [
           {
            "colorbar": {
             "outlinewidth": 0,
             "ticks": ""
            },
            "type": "choropleth"
           }
          ],
          "contour": [
           {
            "colorbar": {
             "outlinewidth": 0,
             "ticks": ""
            },
            "colorscale": [
             [
              0,
              "#0d0887"
             ],
             [
              0.1111111111111111,
              "#46039f"
             ],
             [
              0.2222222222222222,
              "#7201a8"
             ],
             [
              0.3333333333333333,
              "#9c179e"
             ],
             [
              0.4444444444444444,
              "#bd3786"
             ],
             [
              0.5555555555555556,
              "#d8576b"
             ],
             [
              0.6666666666666666,
              "#ed7953"
             ],
             [
              0.7777777777777778,
              "#fb9f3a"
             ],
             [
              0.8888888888888888,
              "#fdca26"
             ],
             [
              1,
              "#f0f921"
             ]
            ],
            "type": "contour"
           }
          ],
          "contourcarpet": [
           {
            "colorbar": {
             "outlinewidth": 0,
             "ticks": ""
            },
            "type": "contourcarpet"
           }
          ],
          "heatmap": [
           {
            "colorbar": {
             "outlinewidth": 0,
             "ticks": ""
            },
            "colorscale": [
             [
              0,
              "#0d0887"
             ],
             [
              0.1111111111111111,
              "#46039f"
             ],
             [
              0.2222222222222222,
              "#7201a8"
             ],
             [
              0.3333333333333333,
              "#9c179e"
             ],
             [
              0.4444444444444444,
              "#bd3786"
             ],
             [
              0.5555555555555556,
              "#d8576b"
             ],
             [
              0.6666666666666666,
              "#ed7953"
             ],
             [
              0.7777777777777778,
              "#fb9f3a"
             ],
             [
              0.8888888888888888,
              "#fdca26"
             ],
             [
              1,
              "#f0f921"
             ]
            ],
            "type": "heatmap"
           }
          ],
          "histogram": [
           {
            "marker": {
             "pattern": {
              "fillmode": "overlay",
              "size": 10,
              "solidity": 0.2
             }
            },
            "type": "histogram"
           }
          ],
          "histogram2d": [
           {
            "colorbar": {
             "outlinewidth": 0,
             "ticks": ""
            },
            "colorscale": [
             [
              0,
              "#0d0887"
             ],
             [
              0.1111111111111111,
              "#46039f"
             ],
             [
              0.2222222222222222,
              "#7201a8"
             ],
             [
              0.3333333333333333,
              "#9c179e"
             ],
             [
              0.4444444444444444,
              "#bd3786"
             ],
             [
              0.5555555555555556,
              "#d8576b"
             ],
             [
              0.6666666666666666,
              "#ed7953"
             ],
             [
              0.7777777777777778,
              "#fb9f3a"
             ],
             [
              0.8888888888888888,
              "#fdca26"
             ],
             [
              1,
              "#f0f921"
             ]
            ],
            "type": "histogram2d"
           }
          ],
          "histogram2dcontour": [
           {
            "colorbar": {
             "outlinewidth": 0,
             "ticks": ""
            },
            "colorscale": [
             [
              0,
              "#0d0887"
             ],
             [
              0.1111111111111111,
              "#46039f"
             ],
             [
              0.2222222222222222,
              "#7201a8"
             ],
             [
              0.3333333333333333,
              "#9c179e"
             ],
             [
              0.4444444444444444,
              "#bd3786"
             ],
             [
              0.5555555555555556,
              "#d8576b"
             ],
             [
              0.6666666666666666,
              "#ed7953"
             ],
             [
              0.7777777777777778,
              "#fb9f3a"
             ],
             [
              0.8888888888888888,
              "#fdca26"
             ],
             [
              1,
              "#f0f921"
             ]
            ],
            "type": "histogram2dcontour"
           }
          ],
          "mesh3d": [
           {
            "colorbar": {
             "outlinewidth": 0,
             "ticks": ""
            },
            "type": "mesh3d"
           }
          ],
          "parcoords": [
           {
            "line": {
             "colorbar": {
              "outlinewidth": 0,
              "ticks": ""
             }
            },
            "type": "parcoords"
           }
          ],
          "pie": [
           {
            "automargin": true,
            "type": "pie"
           }
          ],
          "scatter": [
           {
            "fillpattern": {
             "fillmode": "overlay",
             "size": 10,
             "solidity": 0.2
            },
            "type": "scatter"
           }
          ],
          "scatter3d": [
           {
            "line": {
             "colorbar": {
              "outlinewidth": 0,
              "ticks": ""
             }
            },
            "marker": {
             "colorbar": {
              "outlinewidth": 0,
              "ticks": ""
             }
            },
            "type": "scatter3d"
           }
          ],
          "scattercarpet": [
           {
            "marker": {
             "colorbar": {
              "outlinewidth": 0,
              "ticks": ""
             }
            },
            "type": "scattercarpet"
           }
          ],
          "scattergeo": [
           {
            "marker": {
             "colorbar": {
              "outlinewidth": 0,
              "ticks": ""
             }
            },
            "type": "scattergeo"
           }
          ],
          "scattergl": [
           {
            "marker": {
             "colorbar": {
              "outlinewidth": 0,
              "ticks": ""
             }
            },
            "type": "scattergl"
           }
          ],
          "scattermap": [
           {
            "marker": {
             "colorbar": {
              "outlinewidth": 0,
              "ticks": ""
             }
            },
            "type": "scattermap"
           }
          ],
          "scattermapbox": [
           {
            "marker": {
             "colorbar": {
              "outlinewidth": 0,
              "ticks": ""
             }
            },
            "type": "scattermapbox"
           }
          ],
          "scatterpolar": [
           {
            "marker": {
             "colorbar": {
              "outlinewidth": 0,
              "ticks": ""
             }
            },
            "type": "scatterpolar"
           }
          ],
          "scatterpolargl": [
           {
            "marker": {
             "colorbar": {
              "outlinewidth": 0,
              "ticks": ""
             }
            },
            "type": "scatterpolargl"
           }
          ],
          "scatterternary": [
           {
            "marker": {
             "colorbar": {
              "outlinewidth": 0,
              "ticks": ""
             }
            },
            "type": "scatterternary"
           }
          ],
          "surface": [
           {
            "colorbar": {
             "outlinewidth": 0,
             "ticks": ""
            },
            "colorscale": [
             [
              0,
              "#0d0887"
             ],
             [
              0.1111111111111111,
              "#46039f"
             ],
             [
              0.2222222222222222,
              "#7201a8"
             ],
             [
              0.3333333333333333,
              "#9c179e"
             ],
             [
              0.4444444444444444,
              "#bd3786"
             ],
             [
              0.5555555555555556,
              "#d8576b"
             ],
             [
              0.6666666666666666,
              "#ed7953"
             ],
             [
              0.7777777777777778,
              "#fb9f3a"
             ],
             [
              0.8888888888888888,
              "#fdca26"
             ],
             [
              1,
              "#f0f921"
             ]
            ],
            "type": "surface"
           }
          ],
          "table": [
           {
            "cells": {
             "fill": {
              "color": "#EBF0F8"
             },
             "line": {
              "color": "white"
             }
            },
            "header": {
             "fill": {
              "color": "#C8D4E3"
             },
             "line": {
              "color": "white"
             }
            },
            "type": "table"
           }
          ]
         },
         "layout": {
          "annotationdefaults": {
           "arrowcolor": "#2a3f5f",
           "arrowhead": 0,
           "arrowwidth": 1
          },
          "autotypenumbers": "strict",
          "coloraxis": {
           "colorbar": {
            "outlinewidth": 0,
            "ticks": ""
           }
          },
          "colorscale": {
           "diverging": [
            [
             0,
             "#8e0152"
            ],
            [
             0.1,
             "#c51b7d"
            ],
            [
             0.2,
             "#de77ae"
            ],
            [
             0.3,
             "#f1b6da"
            ],
            [
             0.4,
             "#fde0ef"
            ],
            [
             0.5,
             "#f7f7f7"
            ],
            [
             0.6,
             "#e6f5d0"
            ],
            [
             0.7,
             "#b8e186"
            ],
            [
             0.8,
             "#7fbc41"
            ],
            [
             0.9,
             "#4d9221"
            ],
            [
             1,
             "#276419"
            ]
           ],
           "sequential": [
            [
             0,
             "#0d0887"
            ],
            [
             0.1111111111111111,
             "#46039f"
            ],
            [
             0.2222222222222222,
             "#7201a8"
            ],
            [
             0.3333333333333333,
             "#9c179e"
            ],
            [
             0.4444444444444444,
             "#bd3786"
            ],
            [
             0.5555555555555556,
             "#d8576b"
            ],
            [
             0.6666666666666666,
             "#ed7953"
            ],
            [
             0.7777777777777778,
             "#fb9f3a"
            ],
            [
             0.8888888888888888,
             "#fdca26"
            ],
            [
             1,
             "#f0f921"
            ]
           ],
           "sequentialminus": [
            [
             0,
             "#0d0887"
            ],
            [
             0.1111111111111111,
             "#46039f"
            ],
            [
             0.2222222222222222,
             "#7201a8"
            ],
            [
             0.3333333333333333,
             "#9c179e"
            ],
            [
             0.4444444444444444,
             "#bd3786"
            ],
            [
             0.5555555555555556,
             "#d8576b"
            ],
            [
             0.6666666666666666,
             "#ed7953"
            ],
            [
             0.7777777777777778,
             "#fb9f3a"
            ],
            [
             0.8888888888888888,
             "#fdca26"
            ],
            [
             1,
             "#f0f921"
            ]
           ]
          },
          "colorway": [
           "#636efa",
           "#EF553B",
           "#00cc96",
           "#ab63fa",
           "#FFA15A",
           "#19d3f3",
           "#FF6692",
           "#B6E880",
           "#FF97FF",
           "#FECB52"
          ],
          "font": {
           "color": "#2a3f5f"
          },
          "geo": {
           "bgcolor": "white",
           "lakecolor": "white",
           "landcolor": "white",
           "showlakes": true,
           "showland": true,
           "subunitcolor": "#C8D4E3"
          },
          "hoverlabel": {
           "align": "left"
          },
          "hovermode": "closest",
          "mapbox": {
           "style": "light"
          },
          "paper_bgcolor": "white",
          "plot_bgcolor": "white",
          "polar": {
           "angularaxis": {
            "gridcolor": "#EBF0F8",
            "linecolor": "#EBF0F8",
            "ticks": ""
           },
           "bgcolor": "white",
           "radialaxis": {
            "gridcolor": "#EBF0F8",
            "linecolor": "#EBF0F8",
            "ticks": ""
           }
          },
          "scene": {
           "xaxis": {
            "backgroundcolor": "white",
            "gridcolor": "#DFE8F3",
            "gridwidth": 2,
            "linecolor": "#EBF0F8",
            "showbackground": true,
            "ticks": "",
            "zerolinecolor": "#EBF0F8"
           },
           "yaxis": {
            "backgroundcolor": "white",
            "gridcolor": "#DFE8F3",
            "gridwidth": 2,
            "linecolor": "#EBF0F8",
            "showbackground": true,
            "ticks": "",
            "zerolinecolor": "#EBF0F8"
           },
           "zaxis": {
            "backgroundcolor": "white",
            "gridcolor": "#DFE8F3",
            "gridwidth": 2,
            "linecolor": "#EBF0F8",
            "showbackground": true,
            "ticks": "",
            "zerolinecolor": "#EBF0F8"
           }
          },
          "shapedefaults": {
           "line": {
            "color": "#2a3f5f"
           }
          },
          "ternary": {
           "aaxis": {
            "gridcolor": "#DFE8F3",
            "linecolor": "#A2B1C6",
            "ticks": ""
           },
           "baxis": {
            "gridcolor": "#DFE8F3",
            "linecolor": "#A2B1C6",
            "ticks": ""
           },
           "bgcolor": "white",
           "caxis": {
            "gridcolor": "#DFE8F3",
            "linecolor": "#A2B1C6",
            "ticks": ""
           }
          },
          "title": {
           "x": 0.05
          },
          "xaxis": {
           "automargin": true,
           "gridcolor": "#EBF0F8",
           "linecolor": "#EBF0F8",
           "ticks": "",
           "title": {
            "standoff": 15
           },
           "zerolinecolor": "#EBF0F8",
           "zerolinewidth": 2
          },
          "yaxis": {
           "automargin": true,
           "gridcolor": "#EBF0F8",
           "linecolor": "#EBF0F8",
           "ticks": "",
           "title": {
            "standoff": 15
           },
           "zerolinecolor": "#EBF0F8",
           "zerolinewidth": 2
          }
         }
        },
        "title": {
         "text": "Model Predictions vs Actual Prices"
        },
        "xaxis": {
         "anchor": "y",
         "domain": [
          0,
          0.2888888888888889
         ],
         "nticks": 6,
         "tickangle": 45,
         "tickformat": "%b %d",
         "tickmode": "auto",
         "title": {
          "text": "Date"
         }
        },
        "xaxis2": {
         "anchor": "y2",
         "domain": [
          0.35555555555555557,
          0.6444444444444445
         ],
         "nticks": 6,
         "tickangle": 45,
         "tickformat": "%b %d",
         "tickmode": "auto",
         "title": {
          "text": "Date"
         }
        },
        "xaxis3": {
         "anchor": "y3",
         "domain": [
          0.7111111111111111,
          1
         ],
         "nticks": 6,
         "tickangle": 45,
         "tickformat": "%b %d",
         "tickmode": "auto",
         "title": {
          "text": "Date"
         }
        },
        "yaxis": {
         "anchor": "x",
         "domain": [
          0,
          1
         ],
         "title": {
          "text": "Price (₹)"
         }
        },
        "yaxis2": {
         "anchor": "x2",
         "domain": [
          0,
          1
         ],
         "title": {
          "text": "Price (₹)"
         }
        },
        "yaxis3": {
         "anchor": "x3",
         "domain": [
          0,
          1
         ],
         "title": {
          "text": "Price (₹)"
         }
        }
       }
      }
     },
     "metadata": {},
     "output_type": "display_data"
    },
    {
     "name": "stdout",
     "output_type": "stream",
     "text": [
      "\n",
      "================================================================================\n",
      "DETAILED RESULTS SUMMARY\n",
      "================================================================================\n",
      "Stock: INFOSYS\n",
      "Current Price: ₹1,441.50\n",
      "Currency: ₹\n",
      "Analysis Date: 2025-10-03 09:51\n",
      "MODEL ACCURACY RANKING:\n",
      "1st SVR          - MAE: ₹ 19.33 | R²:  0.814 | Dir.Acc:  49.3%\n",
      "2nd LSTM         - MAE: ₹ 20.23 | R²:  0.839 | Dir.Acc:  53.2%\n",
      "3rd Random_Forest - MAE: ₹ 22.39 | R²:  0.815 | Dir.Acc:  43.5%\n",
      "7-DAY FUTURE PREDICTIONS:\n",
      "------------------------------------------------------------\n",
      "2025-10-06 (Mon):\n",
      "RF:    ₹1,434.17 ( -0.5%)\n",
      "SVR:    ₹1,448.83 ( +0.5%)\n",
      "LSTM:    ₹1,446.94 ( +0.4%)\n",
      "\n",
      "2025-10-07 (Tue):\n",
      "RF:    ₹1,427.63 ( -1.0%)\n",
      "SVR:    ₹1,446.27 ( +0.3%)\n",
      "LSTM:    ₹1,449.93 ( +0.6%)\n",
      "\n",
      "2025-10-08 (Wed):\n",
      "RF:    ₹1,424.46 ( -1.2%)\n",
      "SVR:    ₹1,444.51 ( +0.2%)\n",
      "LSTM:    ₹1,452.47 ( +0.8%)\n",
      "\n",
      "2025-10-09 (Thu):\n",
      "RF:    ₹1,418.73 ( -1.6%)\n",
      "SVR:    ₹1,443.67 ( +0.2%)\n",
      "LSTM:    ₹1,454.29 ( +0.9%)\n",
      "\n",
      "2025-10-10 (Fri):\n",
      "RF:    ₹1,413.39 ( -1.9%)\n",
      "SVR:    ₹1,442.14 ( +0.0%)\n",
      "LSTM:    ₹1,455.61 ( +1.0%)\n",
      "\n",
      "2025-10-13 (Mon):\n",
      "RF:    ₹1,410.57 ( -2.1%)\n",
      "SVR:    ₹1,440.73 ( -0.1%)\n",
      "LSTM:    ₹1,456.71 ( +1.1%)\n",
      "\n",
      "2025-10-14 (Tue):\n",
      "RF:    ₹1,405.78 ( -2.5%)\n",
      "SVR:    ₹1,439.99 ( -0.1%)\n",
      "LSTM:    ₹1,457.85 ( +1.1%)\n",
      "\n",
      "7-DAY AVERAGE PREDICTIONS:\n",
      "Random Forest: ₹1,419.25 (-1.5%)\n",
      "SVR: ₹1,443.74 (+0.2%)\n",
      "LSTM: ₹1,453.40 (+0.8%)\n",
      "Analysis completed successfully for INFOSYS!\n"
     ]
    }
   ],
   "source": [
    "def main():\n",
    "    \n",
    "    print(\"Welcome to Focused Stock Prediction System!\")\n",
    "    print(\"Models: Random Forest | LSTM | SVR\")\n",
    "    print(\"Supports: US, Indian & International Stocks\")\n",
    "    print(\"=\" * 60)\n",
    "    \n",
    "    # Get user input\n",
    "    symbol = input(\"Enter stock symbol (e.g., AAPL, INFOSYS, NVDA, TCS): \").strip().upper()\n",
    "    \n",
    "    if not symbol:\n",
    "        symbol = \"AAPL\"  # Default\n",
    "        print(f\"Using default symbol: {symbol}\")\n",
    "    \n",
    "    try:\n",
    "        # Initialize predictor\n",
    "        predictor = FocusedStockPredictor()\n",
    "        \n",
    "        # Get symbol suggestions if needed\n",
    "        suggestions = predictor.get_symbol_suggestions(symbol)\n",
    "        if suggestions and symbol not in [s[1] for s in suggestions]:\n",
    "            print(f\"Did you mean one of these?\")\n",
    "            for i, (name, sym) in enumerate(suggestions[:5], 1):\n",
    "                print(f\"   {i}. {name} -> {sym}\")\n",
    "        \n",
    "        # Step 1: Fetch and prepare data\n",
    "        df = predictor.fetch_and_prepare_data(symbol)\n",
    "        current_price = float(df['Close'].iloc[-1])\n",
    "        \n",
    "        currency_symbol = predictor.currency_info.get(symbol, predictor.DEFAULT_CURRENCY)\n",
    "        current_price_formatted = predictor.format_currency(current_price, currency_symbol)\n",
    "        \n",
    "        print(f\"Current {symbol} Price: {current_price_formatted}\")\n",
    "        \n",
    "        # Step 2: Prepare features\n",
    "        X_ml, y_ml, feature_cols = predictor.prepare_features_for_ml(df)\n",
    "        X_lstm, y_lstm = predictor.prepare_lstm_data(df)\n",
    "        \n",
    "        # Step 3: Train models\n",
    "        predictor.train_models(X_ml, y_ml, X_lstm, y_lstm)\n",
    "        \n",
    "        # Step 4: Generate 7-day predictions\n",
    "        future_dates, future_predictions = predictor.predict_future_7_days(df, feature_cols)\n",
    "        \n",
    "        # Step 5: Create visualizations\n",
    "        comparison_df = predictor.create_accuracy_comparison_dashboard()\n",
    "        predictor.create_predictions_comparison_chart(symbol, current_price, future_dates, future_predictions)\n",
    "        predictor.create_model_predictions_vs_actual(df, symbol)\n",
    "        \n",
    "        # Step 6: Print detailed results\n",
    "        print(\"\\n\" + \"=\"*80)\n",
    "        print(\"DETAILED RESULTS SUMMARY\")\n",
    "        print(\"=\"*80)\n",
    "        \n",
    "        print(f\"Stock: {symbol}\")\n",
    "        print(f\"Current Price: {current_price_formatted}\")\n",
    "        print(f\"Currency: {currency_symbol}\")\n",
    "        print(f\"Analysis Date: {datetime.now().strftime('%Y-%m-%d %H:%M')}\")\n",
    "        \n",
    "        print(f\"MODEL ACCURACY RANKING:\")\n",
    "        for i, (_, row) in enumerate(comparison_df.iterrows(), 1):\n",
    "            rank_symbol = \"1st\" if i == 1 else \"2nd\" if i == 2 else \"3rd\"\n",
    "            print(f\"{rank_symbol:3} {row['Model']:12} - MAE: {currency_symbol}{row['MAE']:6.2f} | R²: {row['R²']:6.3f} | Dir.Acc: {row['Directional_Accuracy']:5.1f}%\")\n",
    "        \n",
    "        print(f\"7-DAY FUTURE PREDICTIONS:\")\n",
    "        print(\"-\" * 60)\n",
    "        \n",
    "        for i, date in enumerate(future_dates):\n",
    "            rf_pred = future_predictions['Random_Forest'][i]\n",
    "            svr_pred = future_predictions['SVR'][i]\n",
    "            lstm_pred = future_predictions['LSTM'][i]\n",
    "            \n",
    "            rf_change = ((rf_pred - current_price) / current_price) * 100\n",
    "            svr_change = ((svr_pred - current_price) / current_price) * 100\n",
    "            lstm_change = ((lstm_pred - current_price) / current_price) * 100\n",
    "            \n",
    "            rf_formatted = predictor.format_currency(rf_pred, currency_symbol)\n",
    "            svr_formatted = predictor.format_currency(svr_pred, currency_symbol)\n",
    "            lstm_formatted = predictor.format_currency(lstm_pred, currency_symbol)\n",
    "            \n",
    "            print(f\"{date.strftime('%Y-%m-%d (%a)')}:\")\n",
    "            print(f\"RF: {rf_formatted:>12} ({rf_change:+5.1f}%)\")\n",
    "            print(f\"SVR: {svr_formatted:>12} ({svr_change:+5.1f}%)\")\n",
    "            print(f\"LSTM: {lstm_formatted:>12} ({lstm_change:+5.1f}%)\")\n",
    "            print()\n",
    "        \n",
    "        # Average predictions\n",
    "        rf_avg = np.mean(future_predictions['Random_Forest'])\n",
    "        svr_avg = np.mean(future_predictions['SVR'])\n",
    "        lstm_avg = np.mean(future_predictions['LSTM'])\n",
    "        \n",
    "        rf_avg_formatted = predictor.format_currency(rf_avg, currency_symbol)\n",
    "        svr_avg_formatted = predictor.format_currency(svr_avg, currency_symbol)\n",
    "        lstm_avg_formatted = predictor.format_currency(lstm_avg, currency_symbol)\n",
    "        \n",
    "        print(f\"7-DAY AVERAGE PREDICTIONS:\")\n",
    "        print(f\"Random Forest: {rf_avg_formatted} ({((rf_avg-current_price)/current_price)*100:+.1f}%)\")\n",
    "        print(f\"SVR: {svr_avg_formatted} ({((svr_avg-current_price)/current_price)*100:+.1f}%)\")\n",
    "        print(f\"LSTM: {lstm_avg_formatted} ({((lstm_avg-current_price)/current_price)*100:+.1f}%)\")\n",
    "        \n",
    "        print(f\"Analysis completed successfully for {symbol}!\")\n",
    "        \n",
    "    except Exception as e:\n",
    "        print(f\"Error: {str(e)}\")\n",
    "        print(\"TIPS:\")\n",
    "        print(\"• For Indian stocks, use company names like 'INFOSYS', 'TCS', 'RELIANCE'\")\n",
    "        print(\"• For US stocks, use symbols like 'AAPL', 'TSLA', 'NVDA'\")\n",
    "        print(\"• Make sure the stock is actively traded\")\n",
    "        import traceback\n",
    "        traceback.print_exc()\n",
    "\n",
    "if __name__ == \"__main__\":\n",
    "    main()"
   ]
  }
 ],
 "metadata": {
  "kernelspec": {
   "display_name": "Python 3",
   "language": "python",
   "name": "python3"
  },
  "language_info": {
   "codemirror_mode": {
    "name": "ipython",
    "version": 3
   },
   "file_extension": ".py",
   "mimetype": "text/x-python",
   "name": "python",
   "nbconvert_exporter": "python",
   "pygments_lexer": "ipython3",
   "version": "3.12.0"
  }
 },
 "nbformat": 4,
 "nbformat_minor": 5
}
