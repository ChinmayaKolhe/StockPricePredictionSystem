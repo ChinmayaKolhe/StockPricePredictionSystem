{
 "cells": [
  {
   "cell_type": "code",
   "execution_count": 21,
   "id": "b7f2a949",
   "metadata": {},
   "outputs": [
    {
     "name": "stdout",
     "output_type": "stream",
     "text": [
      "======================================================================\n",
      "ENHANCED STOCK PREDICTION SYSTEM\n",
      "Models: Random Forest | SVR | LSTM\n",
      "======================================================================\n",
      "\n",
      "\n",
      "Fetching historical data for TCS...\n",
      "Fetching 15 years of data for TCS -> TCS.NS...\n",
      "Successfully fetched 3699 records from 2010-10-11 to 2025-10-06\n",
      "Currency: INR \n",
      "Computing advanced technical indicators...\n",
      "Dropped 199 rows with NaN values\n",
      "Final dataset: 3500 records with 80 features\n",
      "\n",
      "Current TCS Price: INR 2988.40\n",
      "Dataset Size: 3500 trading days\n",
      "Date Range: 2011-07-27 to 2025-10-06\n",
      "Preparing enhanced features for ML (predicting 1 days ahead)...\n",
      "Selected 80 features from 3499 samples\n",
      "Preparing LSTM data with sequence length: 60\n",
      "Using 13 features for LSTM\n",
      "LSTM sequences created: 3440 samples with shape (3440, 60, 13)\n",
      "\n",
      "======================================================================\n",
      "TRAINING MODELS WITH ENHANCED PARAMETERS\n",
      "======================================================================\n",
      "ML Training: 2799, Testing: 700\n",
      "LSTM Training: 2752, Testing: 688\n",
      "\n",
      "[1/3] Training Enhanced Random Forest...\n",
      "[2/3] Training Enhanced SVR...\n",
      "[3/3] Training Enhanced Bidirectional LSTM...\n",
      "\n",
      "======================================================================\n",
      "MODEL PERFORMANCE METRICS\n",
      "======================================================================\n",
      "Model                MAE          RMSE         R2         Dir. Acc. \n",
      "----------------------------------------------------------------------\n",
      "Random_Forest        240.39       365.15       0.198      53.4      %\n",
      "SVR                  483.92       700.98       -1.955     52.8      %\n",
      "LSTM                 321.80       392.87       0.062      50.7      %\n",
      "======================================================================\n",
      "Training completed successfully!\n",
      "\n",
      "\n",
      "Generating 7-day future predictions...\n",
      "7-day predictions generated for all models\n",
      "\n",
      "Generating visualizations...\n",
      "Creating performance dashboard...\n"
     ]
    },
    {
     "data": {
      "application/vnd.plotly.v1+json": {
       "config": {
        "plotlyServerURL": "https://plot.ly"
       },
       "data": [
        {
         "marker": {
          "color": [
           "#3498db",
           "#e74c3c",
           "#2ecc71"
          ]
         },
         "name": "MAE",
         "text": {
          "bdata": "FK5H4XoMbkAfhetRuD5+QM3MzMzMHHRA",
          "dtype": "f8"
         },
         "textposition": "outside",
         "type": "bar",
         "x": [
          "Random_Forest",
          "SVR",
          "LSTM"
         ],
         "xaxis": "x",
         "y": {
          "bdata": "spYfYoMMbkBSPvQAwj5+QJMqwSrMHHRA",
          "dtype": "f8"
         },
         "yaxis": "y"
        },
        {
         "marker": {
          "color": [
           "#3498db",
           "#e74c3c",
           "#2ecc71"
          ]
         },
         "name": "R2",
         "text": {
          "bdata": "8tJNYhBYyT9I4XoUrkf/v1g5tMh2vq8/",
          "dtype": "f8"
         },
         "textposition": "outside",
         "type": "bar",
         "x": [
          "Random_Forest",
          "SVR",
          "LSTM"
         ],
         "xaxis": "x2",
         "y": {
          "bdata": "pDClgEpeyT9YWfqQfkf/v0AU4MRq3a8/",
          "dtype": "f8"
         },
         "yaxis": "y2"
        },
        {
         "marker": {
          "color": [
           "#3498db",
           "#e74c3c",
           "#2ecc71"
          ]
         },
         "name": "Directional Accuracy",
         "text": {
          "bdata": "MzMzMzOzSkBmZmZmZmZKQJqZmZmZWUlA",
          "dtype": "f8"
         },
         "textposition": "outside",
         "type": "bar",
         "x": [
          "Random_Forest",
          "SVR",
          "LSTM"
         ],
         "xaxis": "x3",
         "y": {
          "bdata": "TR0QPFSuSkCnKCPgFGVKQLC6ZcHXU0lA",
          "dtype": "f8"
         },
         "yaxis": "y3"
        },
        {
         "cells": {
          "align": "center",
          "fill": {
           "color": [
            [
             "#27ae60",
             "#f39c12",
             "#e74c3c"
            ]
           ]
          },
          "font": {
           "size": 12
          },
          "height": 30,
          "values": [
           [
            "1st",
            "2nd",
            "3rd"
           ],
           [
            "Random_Forest",
            "LSTM",
            "SVR"
           ],
           [
            240.39,
            321.8,
            483.92
           ],
           [
            365.15,
            392.87,
            700.98
           ],
           [
            0.198,
            0.062,
            -1.955
           ],
           [
            53.4,
            50.7,
            52.8
           ]
          ]
         },
         "domain": {
          "x": [
           0.55,
           1
          ],
          "y": [
           0,
           0.375
          ]
         },
         "header": {
          "align": "center",
          "fill": {
           "color": "#34495e"
          },
          "font": {
           "color": "white",
           "size": 13
          },
          "height": 35,
          "values": [
           "Rank",
           "Model",
           "MAE",
           "RMSE",
           "R2",
           "Dir. Acc (%)"
          ]
         },
         "type": "table"
        }
       ],
       "layout": {
        "annotations": [
         {
          "font": {
           "size": 16
          },
          "showarrow": false,
          "text": "Mean Absolute Error (Lower = Better)",
          "x": 0.225,
          "xanchor": "center",
          "xref": "paper",
          "y": 1,
          "yanchor": "bottom",
          "yref": "paper"
         },
         {
          "font": {
           "size": 16
          },
          "showarrow": false,
          "text": "R-Squared Score (Higher = Better)",
          "x": 0.775,
          "xanchor": "center",
          "xref": "paper",
          "y": 1,
          "yanchor": "bottom",
          "yref": "paper"
         },
         {
          "font": {
           "size": 16
          },
          "showarrow": false,
          "text": "Directional Accuracy (%)",
          "x": 0.225,
          "xanchor": "center",
          "xref": "paper",
          "y": 0.375,
          "yanchor": "bottom",
          "yref": "paper"
         },
         {
          "font": {
           "size": 16
          },
          "showarrow": false,
          "text": "Model Rankings",
          "x": 0.775,
          "xanchor": "center",
          "xref": "paper",
          "y": 0.375,
          "yanchor": "bottom",
          "yref": "paper"
         }
        ],
        "height": 700,
        "showlegend": false,
        "template": {
         "data": {
          "bar": [
           {
            "error_x": {
             "color": "#2a3f5f"
            },
            "error_y": {
             "color": "#2a3f5f"
            },
            "marker": {
             "line": {
              "color": "white",
              "width": 0.5
             },
             "pattern": {
              "fillmode": "overlay",
              "size": 10,
              "solidity": 0.2
             }
            },
            "type": "bar"
           }
          ],
          "barpolar": [
           {
            "marker": {
             "line": {
              "color": "white",
              "width": 0.5
             },
             "pattern": {
              "fillmode": "overlay",
              "size": 10,
              "solidity": 0.2
             }
            },
            "type": "barpolar"
           }
          ],
          "carpet": [
           {
            "aaxis": {
             "endlinecolor": "#2a3f5f",
             "gridcolor": "#C8D4E3",
             "linecolor": "#C8D4E3",
             "minorgridcolor": "#C8D4E3",
             "startlinecolor": "#2a3f5f"
            },
            "baxis": {
             "endlinecolor": "#2a3f5f",
             "gridcolor": "#C8D4E3",
             "linecolor": "#C8D4E3",
             "minorgridcolor": "#C8D4E3",
             "startlinecolor": "#2a3f5f"
            },
            "type": "carpet"
           }
          ],
          "choropleth": [
           {
            "colorbar": {
             "outlinewidth": 0,
             "ticks": ""
            },
            "type": "choropleth"
           }
          ],
          "contour": [
           {
            "colorbar": {
             "outlinewidth": 0,
             "ticks": ""
            },
            "colorscale": [
             [
              0,
              "#0d0887"
             ],
             [
              0.1111111111111111,
              "#46039f"
             ],
             [
              0.2222222222222222,
              "#7201a8"
             ],
             [
              0.3333333333333333,
              "#9c179e"
             ],
             [
              0.4444444444444444,
              "#bd3786"
             ],
             [
              0.5555555555555556,
              "#d8576b"
             ],
             [
              0.6666666666666666,
              "#ed7953"
             ],
             [
              0.7777777777777778,
              "#fb9f3a"
             ],
             [
              0.8888888888888888,
              "#fdca26"
             ],
             [
              1,
              "#f0f921"
             ]
            ],
            "type": "contour"
           }
          ],
          "contourcarpet": [
           {
            "colorbar": {
             "outlinewidth": 0,
             "ticks": ""
            },
            "type": "contourcarpet"
           }
          ],
          "heatmap": [
           {
            "colorbar": {
             "outlinewidth": 0,
             "ticks": ""
            },
            "colorscale": [
             [
              0,
              "#0d0887"
             ],
             [
              0.1111111111111111,
              "#46039f"
             ],
             [
              0.2222222222222222,
              "#7201a8"
             ],
             [
              0.3333333333333333,
              "#9c179e"
             ],
             [
              0.4444444444444444,
              "#bd3786"
             ],
             [
              0.5555555555555556,
              "#d8576b"
             ],
             [
              0.6666666666666666,
              "#ed7953"
             ],
             [
              0.7777777777777778,
              "#fb9f3a"
             ],
             [
              0.8888888888888888,
              "#fdca26"
             ],
             [
              1,
              "#f0f921"
             ]
            ],
            "type": "heatmap"
           }
          ],
          "histogram": [
           {
            "marker": {
             "pattern": {
              "fillmode": "overlay",
              "size": 10,
              "solidity": 0.2
             }
            },
            "type": "histogram"
           }
          ],
          "histogram2d": [
           {
            "colorbar": {
             "outlinewidth": 0,
             "ticks": ""
            },
            "colorscale": [
             [
              0,
              "#0d0887"
             ],
             [
              0.1111111111111111,
              "#46039f"
             ],
             [
              0.2222222222222222,
              "#7201a8"
             ],
             [
              0.3333333333333333,
              "#9c179e"
             ],
             [
              0.4444444444444444,
              "#bd3786"
             ],
             [
              0.5555555555555556,
              "#d8576b"
             ],
             [
              0.6666666666666666,
              "#ed7953"
             ],
             [
              0.7777777777777778,
              "#fb9f3a"
             ],
             [
              0.8888888888888888,
              "#fdca26"
             ],
             [
              1,
              "#f0f921"
             ]
            ],
            "type": "histogram2d"
           }
          ],
          "histogram2dcontour": [
           {
            "colorbar": {
             "outlinewidth": 0,
             "ticks": ""
            },
            "colorscale": [
             [
              0,
              "#0d0887"
             ],
             [
              0.1111111111111111,
              "#46039f"
             ],
             [
              0.2222222222222222,
              "#7201a8"
             ],
             [
              0.3333333333333333,
              "#9c179e"
             ],
             [
              0.4444444444444444,
              "#bd3786"
             ],
             [
              0.5555555555555556,
              "#d8576b"
             ],
             [
              0.6666666666666666,
              "#ed7953"
             ],
             [
              0.7777777777777778,
              "#fb9f3a"
             ],
             [
              0.8888888888888888,
              "#fdca26"
             ],
             [
              1,
              "#f0f921"
             ]
            ],
            "type": "histogram2dcontour"
           }
          ],
          "mesh3d": [
           {
            "colorbar": {
             "outlinewidth": 0,
             "ticks": ""
            },
            "type": "mesh3d"
           }
          ],
          "parcoords": [
           {
            "line": {
             "colorbar": {
              "outlinewidth": 0,
              "ticks": ""
             }
            },
            "type": "parcoords"
           }
          ],
          "pie": [
           {
            "automargin": true,
            "type": "pie"
           }
          ],
          "scatter": [
           {
            "fillpattern": {
             "fillmode": "overlay",
             "size": 10,
             "solidity": 0.2
            },
            "type": "scatter"
           }
          ],
          "scatter3d": [
           {
            "line": {
             "colorbar": {
              "outlinewidth": 0,
              "ticks": ""
             }
            },
            "marker": {
             "colorbar": {
              "outlinewidth": 0,
              "ticks": ""
             }
            },
            "type": "scatter3d"
           }
          ],
          "scattercarpet": [
           {
            "marker": {
             "colorbar": {
              "outlinewidth": 0,
              "ticks": ""
             }
            },
            "type": "scattercarpet"
           }
          ],
          "scattergeo": [
           {
            "marker": {
             "colorbar": {
              "outlinewidth": 0,
              "ticks": ""
             }
            },
            "type": "scattergeo"
           }
          ],
          "scattergl": [
           {
            "marker": {
             "colorbar": {
              "outlinewidth": 0,
              "ticks": ""
             }
            },
            "type": "scattergl"
           }
          ],
          "scattermap": [
           {
            "marker": {
             "colorbar": {
              "outlinewidth": 0,
              "ticks": ""
             }
            },
            "type": "scattermap"
           }
          ],
          "scattermapbox": [
           {
            "marker": {
             "colorbar": {
              "outlinewidth": 0,
              "ticks": ""
             }
            },
            "type": "scattermapbox"
           }
          ],
          "scatterpolar": [
           {
            "marker": {
             "colorbar": {
              "outlinewidth": 0,
              "ticks": ""
             }
            },
            "type": "scatterpolar"
           }
          ],
          "scatterpolargl": [
           {
            "marker": {
             "colorbar": {
              "outlinewidth": 0,
              "ticks": ""
             }
            },
            "type": "scatterpolargl"
           }
          ],
          "scatterternary": [
           {
            "marker": {
             "colorbar": {
              "outlinewidth": 0,
              "ticks": ""
             }
            },
            "type": "scatterternary"
           }
          ],
          "surface": [
           {
            "colorbar": {
             "outlinewidth": 0,
             "ticks": ""
            },
            "colorscale": [
             [
              0,
              "#0d0887"
             ],
             [
              0.1111111111111111,
              "#46039f"
             ],
             [
              0.2222222222222222,
              "#7201a8"
             ],
             [
              0.3333333333333333,
              "#9c179e"
             ],
             [
              0.4444444444444444,
              "#bd3786"
             ],
             [
              0.5555555555555556,
              "#d8576b"
             ],
             [
              0.6666666666666666,
              "#ed7953"
             ],
             [
              0.7777777777777778,
              "#fb9f3a"
             ],
             [
              0.8888888888888888,
              "#fdca26"
             ],
             [
              1,
              "#f0f921"
             ]
            ],
            "type": "surface"
           }
          ],
          "table": [
           {
            "cells": {
             "fill": {
              "color": "#EBF0F8"
             },
             "line": {
              "color": "white"
             }
            },
            "header": {
             "fill": {
              "color": "#C8D4E3"
             },
             "line": {
              "color": "white"
             }
            },
            "type": "table"
           }
          ]
         },
         "layout": {
          "annotationdefaults": {
           "arrowcolor": "#2a3f5f",
           "arrowhead": 0,
           "arrowwidth": 1
          },
          "autotypenumbers": "strict",
          "coloraxis": {
           "colorbar": {
            "outlinewidth": 0,
            "ticks": ""
           }
          },
          "colorscale": {
           "diverging": [
            [
             0,
             "#8e0152"
            ],
            [
             0.1,
             "#c51b7d"
            ],
            [
             0.2,
             "#de77ae"
            ],
            [
             0.3,
             "#f1b6da"
            ],
            [
             0.4,
             "#fde0ef"
            ],
            [
             0.5,
             "#f7f7f7"
            ],
            [
             0.6,
             "#e6f5d0"
            ],
            [
             0.7,
             "#b8e186"
            ],
            [
             0.8,
             "#7fbc41"
            ],
            [
             0.9,
             "#4d9221"
            ],
            [
             1,
             "#276419"
            ]
           ],
           "sequential": [
            [
             0,
             "#0d0887"
            ],
            [
             0.1111111111111111,
             "#46039f"
            ],
            [
             0.2222222222222222,
             "#7201a8"
            ],
            [
             0.3333333333333333,
             "#9c179e"
            ],
            [
             0.4444444444444444,
             "#bd3786"
            ],
            [
             0.5555555555555556,
             "#d8576b"
            ],
            [
             0.6666666666666666,
             "#ed7953"
            ],
            [
             0.7777777777777778,
             "#fb9f3a"
            ],
            [
             0.8888888888888888,
             "#fdca26"
            ],
            [
             1,
             "#f0f921"
            ]
           ],
           "sequentialminus": [
            [
             0,
             "#0d0887"
            ],
            [
             0.1111111111111111,
             "#46039f"
            ],
            [
             0.2222222222222222,
             "#7201a8"
            ],
            [
             0.3333333333333333,
             "#9c179e"
            ],
            [
             0.4444444444444444,
             "#bd3786"
            ],
            [
             0.5555555555555556,
             "#d8576b"
            ],
            [
             0.6666666666666666,
             "#ed7953"
            ],
            [
             0.7777777777777778,
             "#fb9f3a"
            ],
            [
             0.8888888888888888,
             "#fdca26"
            ],
            [
             1,
             "#f0f921"
            ]
           ]
          },
          "colorway": [
           "#636efa",
           "#EF553B",
           "#00cc96",
           "#ab63fa",
           "#FFA15A",
           "#19d3f3",
           "#FF6692",
           "#B6E880",
           "#FF97FF",
           "#FECB52"
          ],
          "font": {
           "color": "#2a3f5f"
          },
          "geo": {
           "bgcolor": "white",
           "lakecolor": "white",
           "landcolor": "white",
           "showlakes": true,
           "showland": true,
           "subunitcolor": "#C8D4E3"
          },
          "hoverlabel": {
           "align": "left"
          },
          "hovermode": "closest",
          "mapbox": {
           "style": "light"
          },
          "paper_bgcolor": "white",
          "plot_bgcolor": "white",
          "polar": {
           "angularaxis": {
            "gridcolor": "#EBF0F8",
            "linecolor": "#EBF0F8",
            "ticks": ""
           },
           "bgcolor": "white",
           "radialaxis": {
            "gridcolor": "#EBF0F8",
            "linecolor": "#EBF0F8",
            "ticks": ""
           }
          },
          "scene": {
           "xaxis": {
            "backgroundcolor": "white",
            "gridcolor": "#DFE8F3",
            "gridwidth": 2,
            "linecolor": "#EBF0F8",
            "showbackground": true,
            "ticks": "",
            "zerolinecolor": "#EBF0F8"
           },
           "yaxis": {
            "backgroundcolor": "white",
            "gridcolor": "#DFE8F3",
            "gridwidth": 2,
            "linecolor": "#EBF0F8",
            "showbackground": true,
            "ticks": "",
            "zerolinecolor": "#EBF0F8"
           },
           "zaxis": {
            "backgroundcolor": "white",
            "gridcolor": "#DFE8F3",
            "gridwidth": 2,
            "linecolor": "#EBF0F8",
            "showbackground": true,
            "ticks": "",
            "zerolinecolor": "#EBF0F8"
           }
          },
          "shapedefaults": {
           "line": {
            "color": "#2a3f5f"
           }
          },
          "ternary": {
           "aaxis": {
            "gridcolor": "#DFE8F3",
            "linecolor": "#A2B1C6",
            "ticks": ""
           },
           "baxis": {
            "gridcolor": "#DFE8F3",
            "linecolor": "#A2B1C6",
            "ticks": ""
           },
           "bgcolor": "white",
           "caxis": {
            "gridcolor": "#DFE8F3",
            "linecolor": "#A2B1C6",
            "ticks": ""
           }
          },
          "title": {
           "x": 0.05
          },
          "xaxis": {
           "automargin": true,
           "gridcolor": "#EBF0F8",
           "linecolor": "#EBF0F8",
           "ticks": "",
           "title": {
            "standoff": 15
           },
           "zerolinecolor": "#EBF0F8",
           "zerolinewidth": 2
          },
          "yaxis": {
           "automargin": true,
           "gridcolor": "#EBF0F8",
           "linecolor": "#EBF0F8",
           "ticks": "",
           "title": {
            "standoff": 15
           },
           "zerolinecolor": "#EBF0F8",
           "zerolinewidth": 2
          }
         }
        },
        "title": {
         "font": {
          "size": 18
         },
         "text": "TCS - Model Performance Comparison",
         "x": 0.5
        },
        "xaxis": {
         "anchor": "y",
         "domain": [
          0,
          0.45
         ]
        },
        "xaxis2": {
         "anchor": "y2",
         "domain": [
          0.55,
          1
         ]
        },
        "xaxis3": {
         "anchor": "y3",
         "domain": [
          0,
          0.45
         ]
        },
        "yaxis": {
         "anchor": "x",
         "domain": [
          0.625,
          1
         ],
         "title": {
          "text": "Value"
         }
        },
        "yaxis2": {
         "anchor": "x2",
         "domain": [
          0.625,
          1
         ],
         "title": {
          "text": "Score"
         }
        },
        "yaxis3": {
         "anchor": "x3",
         "domain": [
          0,
          0.375
         ],
         "title": {
          "text": "Accuracy (%)"
         }
        }
       }
      }
     },
     "metadata": {},
     "output_type": "display_data"
    },
    {
     "name": "stdout",
     "output_type": "stream",
     "text": [
      "Creating predictions chart...\n"
     ]
    },
    {
     "data": {
      "application/vnd.plotly.v1+json": {
       "config": {
        "plotlyServerURL": "https://plot.ly"
       },
       "data": [
        {
         "hovertemplate": "Random_Forest<br>Date: %{x|%Y-%m-%d}<br>Price: INR %{y:.2f}<extra></extra>",
         "line": {
          "color": "#3498db",
          "width": 3
         },
         "marker": {
          "size": 10
         },
         "mode": "lines+markers",
         "name": "Random_Forest",
         "type": "scatter",
         "x": [
          "2025-10-06T00:00:00",
          "2025-10-07T00:00:00",
          "2025-10-08T00:00:00",
          "2025-10-09T00:00:00",
          "2025-10-10T00:00:00",
          "2025-10-13T00:00:00",
          "2025-10-14T00:00:00",
          "2025-10-15T00:00:00"
         ],
         "y": [
          2988.39990234375,
          2947.5294165843184,
          2942.506948558989,
          2940.964327502054,
          2940.964327502054,
          2940.964327502054,
          2940.964327502054,
          2940.964327502054
         ]
        },
        {
         "hovertemplate": "SVR<br>Date: %{x|%Y-%m-%d}<br>Price: INR %{y:.2f}<extra></extra>",
         "line": {
          "color": "#e74c3c",
          "width": 3
         },
         "marker": {
          "size": 10
         },
         "mode": "lines+markers",
         "name": "SVR",
         "type": "scatter",
         "x": [
          "2025-10-06T00:00:00",
          "2025-10-07T00:00:00",
          "2025-10-08T00:00:00",
          "2025-10-09T00:00:00",
          "2025-10-10T00:00:00",
          "2025-10-13T00:00:00",
          "2025-10-14T00:00:00",
          "2025-10-15T00:00:00"
         ],
         "y": [
          2988.39990234375,
          2896.235559643962,
          2895.2052140997444,
          2895.073598443664,
          2895.032954030047,
          2895.032954030047,
          2895.032954030047,
          2895.032954030047
         ]
        },
        {
         "hovertemplate": "LSTM<br>Date: %{x|%Y-%m-%d}<br>Price: INR %{y:.2f}<extra></extra>",
         "line": {
          "color": "#2ecc71",
          "width": 3
         },
         "marker": {
          "size": 10
         },
         "mode": "lines+markers",
         "name": "LSTM",
         "type": "scatter",
         "x": [
          "2025-10-06T00:00:00",
          "2025-10-07T00:00:00",
          "2025-10-08T00:00:00",
          "2025-10-09T00:00:00",
          "2025-10-10T00:00:00",
          "2025-10-13T00:00:00",
          "2025-10-14T00:00:00",
          "2025-10-15T00:00:00"
         ],
         "y": [
          2988.39990234375,
          3381.2494834067224,
          3386.6843754947954,
          3388.84049394001,
          3390.3170085047864,
          3391.2717016877564,
          3391.8475714523506,
          3392.163378819045
         ]
        },
        {
         "hovertemplate": "Current<br>Price: INR 2988.40<extra></extra>",
         "marker": {
          "color": "black",
          "size": 18,
          "symbol": "star"
         },
         "mode": "markers",
         "name": "Current Price",
         "type": "scatter",
         "x": [
          "2025-10-06T00:00:00"
         ],
         "y": [
          2988.39990234375
         ]
        }
       ],
       "layout": {
        "annotations": [
         {
          "showarrow": false,
          "text": "Current: INR 2988.40",
          "x": 1,
          "xanchor": "left",
          "xref": "x domain",
          "y": 2988.39990234375,
          "yanchor": "middle",
          "yref": "y"
         }
        ],
        "height": 600,
        "hovermode": "x unified",
        "legend": {
         "orientation": "h",
         "x": 1,
         "xanchor": "right",
         "y": 1.02,
         "yanchor": "bottom"
        },
        "shapes": [
         {
          "line": {
           "color": "gray",
           "dash": "dash"
          },
          "opacity": 0.5,
          "type": "line",
          "x0": 0,
          "x1": 1,
          "xref": "x domain",
          "y0": 2988.39990234375,
          "y1": 2988.39990234375,
          "yref": "y"
         }
        ],
        "template": {
         "data": {
          "bar": [
           {
            "error_x": {
             "color": "#2a3f5f"
            },
            "error_y": {
             "color": "#2a3f5f"
            },
            "marker": {
             "line": {
              "color": "white",
              "width": 0.5
             },
             "pattern": {
              "fillmode": "overlay",
              "size": 10,
              "solidity": 0.2
             }
            },
            "type": "bar"
           }
          ],
          "barpolar": [
           {
            "marker": {
             "line": {
              "color": "white",
              "width": 0.5
             },
             "pattern": {
              "fillmode": "overlay",
              "size": 10,
              "solidity": 0.2
             }
            },
            "type": "barpolar"
           }
          ],
          "carpet": [
           {
            "aaxis": {
             "endlinecolor": "#2a3f5f",
             "gridcolor": "#C8D4E3",
             "linecolor": "#C8D4E3",
             "minorgridcolor": "#C8D4E3",
             "startlinecolor": "#2a3f5f"
            },
            "baxis": {
             "endlinecolor": "#2a3f5f",
             "gridcolor": "#C8D4E3",
             "linecolor": "#C8D4E3",
             "minorgridcolor": "#C8D4E3",
             "startlinecolor": "#2a3f5f"
            },
            "type": "carpet"
           }
          ],
          "choropleth": [
           {
            "colorbar": {
             "outlinewidth": 0,
             "ticks": ""
            },
            "type": "choropleth"
           }
          ],
          "contour": [
           {
            "colorbar": {
             "outlinewidth": 0,
             "ticks": ""
            },
            "colorscale": [
             [
              0,
              "#0d0887"
             ],
             [
              0.1111111111111111,
              "#46039f"
             ],
             [
              0.2222222222222222,
              "#7201a8"
             ],
             [
              0.3333333333333333,
              "#9c179e"
             ],
             [
              0.4444444444444444,
              "#bd3786"
             ],
             [
              0.5555555555555556,
              "#d8576b"
             ],
             [
              0.6666666666666666,
              "#ed7953"
             ],
             [
              0.7777777777777778,
              "#fb9f3a"
             ],
             [
              0.8888888888888888,
              "#fdca26"
             ],
             [
              1,
              "#f0f921"
             ]
            ],
            "type": "contour"
           }
          ],
          "contourcarpet": [
           {
            "colorbar": {
             "outlinewidth": 0,
             "ticks": ""
            },
            "type": "contourcarpet"
           }
          ],
          "heatmap": [
           {
            "colorbar": {
             "outlinewidth": 0,
             "ticks": ""
            },
            "colorscale": [
             [
              0,
              "#0d0887"
             ],
             [
              0.1111111111111111,
              "#46039f"
             ],
             [
              0.2222222222222222,
              "#7201a8"
             ],
             [
              0.3333333333333333,
              "#9c179e"
             ],
             [
              0.4444444444444444,
              "#bd3786"
             ],
             [
              0.5555555555555556,
              "#d8576b"
             ],
             [
              0.6666666666666666,
              "#ed7953"
             ],
             [
              0.7777777777777778,
              "#fb9f3a"
             ],
             [
              0.8888888888888888,
              "#fdca26"
             ],
             [
              1,
              "#f0f921"
             ]
            ],
            "type": "heatmap"
           }
          ],
          "histogram": [
           {
            "marker": {
             "pattern": {
              "fillmode": "overlay",
              "size": 10,
              "solidity": 0.2
             }
            },
            "type": "histogram"
           }
          ],
          "histogram2d": [
           {
            "colorbar": {
             "outlinewidth": 0,
             "ticks": ""
            },
            "colorscale": [
             [
              0,
              "#0d0887"
             ],
             [
              0.1111111111111111,
              "#46039f"
             ],
             [
              0.2222222222222222,
              "#7201a8"
             ],
             [
              0.3333333333333333,
              "#9c179e"
             ],
             [
              0.4444444444444444,
              "#bd3786"
             ],
             [
              0.5555555555555556,
              "#d8576b"
             ],
             [
              0.6666666666666666,
              "#ed7953"
             ],
             [
              0.7777777777777778,
              "#fb9f3a"
             ],
             [
              0.8888888888888888,
              "#fdca26"
             ],
             [
              1,
              "#f0f921"
             ]
            ],
            "type": "histogram2d"
           }
          ],
          "histogram2dcontour": [
           {
            "colorbar": {
             "outlinewidth": 0,
             "ticks": ""
            },
            "colorscale": [
             [
              0,
              "#0d0887"
             ],
             [
              0.1111111111111111,
              "#46039f"
             ],
             [
              0.2222222222222222,
              "#7201a8"
             ],
             [
              0.3333333333333333,
              "#9c179e"
             ],
             [
              0.4444444444444444,
              "#bd3786"
             ],
             [
              0.5555555555555556,
              "#d8576b"
             ],
             [
              0.6666666666666666,
              "#ed7953"
             ],
             [
              0.7777777777777778,
              "#fb9f3a"
             ],
             [
              0.8888888888888888,
              "#fdca26"
             ],
             [
              1,
              "#f0f921"
             ]
            ],
            "type": "histogram2dcontour"
           }
          ],
          "mesh3d": [
           {
            "colorbar": {
             "outlinewidth": 0,
             "ticks": ""
            },
            "type": "mesh3d"
           }
          ],
          "parcoords": [
           {
            "line": {
             "colorbar": {
              "outlinewidth": 0,
              "ticks": ""
             }
            },
            "type": "parcoords"
           }
          ],
          "pie": [
           {
            "automargin": true,
            "type": "pie"
           }
          ],
          "scatter": [
           {
            "fillpattern": {
             "fillmode": "overlay",
             "size": 10,
             "solidity": 0.2
            },
            "type": "scatter"
           }
          ],
          "scatter3d": [
           {
            "line": {
             "colorbar": {
              "outlinewidth": 0,
              "ticks": ""
             }
            },
            "marker": {
             "colorbar": {
              "outlinewidth": 0,
              "ticks": ""
             }
            },
            "type": "scatter3d"
           }
          ],
          "scattercarpet": [
           {
            "marker": {
             "colorbar": {
              "outlinewidth": 0,
              "ticks": ""
             }
            },
            "type": "scattercarpet"
           }
          ],
          "scattergeo": [
           {
            "marker": {
             "colorbar": {
              "outlinewidth": 0,
              "ticks": ""
             }
            },
            "type": "scattergeo"
           }
          ],
          "scattergl": [
           {
            "marker": {
             "colorbar": {
              "outlinewidth": 0,
              "ticks": ""
             }
            },
            "type": "scattergl"
           }
          ],
          "scattermap": [
           {
            "marker": {
             "colorbar": {
              "outlinewidth": 0,
              "ticks": ""
             }
            },
            "type": "scattermap"
           }
          ],
          "scattermapbox": [
           {
            "marker": {
             "colorbar": {
              "outlinewidth": 0,
              "ticks": ""
             }
            },
            "type": "scattermapbox"
           }
          ],
          "scatterpolar": [
           {
            "marker": {
             "colorbar": {
              "outlinewidth": 0,
              "ticks": ""
             }
            },
            "type": "scatterpolar"
           }
          ],
          "scatterpolargl": [
           {
            "marker": {
             "colorbar": {
              "outlinewidth": 0,
              "ticks": ""
             }
            },
            "type": "scatterpolargl"
           }
          ],
          "scatterternary": [
           {
            "marker": {
             "colorbar": {
              "outlinewidth": 0,
              "ticks": ""
             }
            },
            "type": "scatterternary"
           }
          ],
          "surface": [
           {
            "colorbar": {
             "outlinewidth": 0,
             "ticks": ""
            },
            "colorscale": [
             [
              0,
              "#0d0887"
             ],
             [
              0.1111111111111111,
              "#46039f"
             ],
             [
              0.2222222222222222,
              "#7201a8"
             ],
             [
              0.3333333333333333,
              "#9c179e"
             ],
             [
              0.4444444444444444,
              "#bd3786"
             ],
             [
              0.5555555555555556,
              "#d8576b"
             ],
             [
              0.6666666666666666,
              "#ed7953"
             ],
             [
              0.7777777777777778,
              "#fb9f3a"
             ],
             [
              0.8888888888888888,
              "#fdca26"
             ],
             [
              1,
              "#f0f921"
             ]
            ],
            "type": "surface"
           }
          ],
          "table": [
           {
            "cells": {
             "fill": {
              "color": "#EBF0F8"
             },
             "line": {
              "color": "white"
             }
            },
            "header": {
             "fill": {
              "color": "#C8D4E3"
             },
             "line": {
              "color": "white"
             }
            },
            "type": "table"
           }
          ]
         },
         "layout": {
          "annotationdefaults": {
           "arrowcolor": "#2a3f5f",
           "arrowhead": 0,
           "arrowwidth": 1
          },
          "autotypenumbers": "strict",
          "coloraxis": {
           "colorbar": {
            "outlinewidth": 0,
            "ticks": ""
           }
          },
          "colorscale": {
           "diverging": [
            [
             0,
             "#8e0152"
            ],
            [
             0.1,
             "#c51b7d"
            ],
            [
             0.2,
             "#de77ae"
            ],
            [
             0.3,
             "#f1b6da"
            ],
            [
             0.4,
             "#fde0ef"
            ],
            [
             0.5,
             "#f7f7f7"
            ],
            [
             0.6,
             "#e6f5d0"
            ],
            [
             0.7,
             "#b8e186"
            ],
            [
             0.8,
             "#7fbc41"
            ],
            [
             0.9,
             "#4d9221"
            ],
            [
             1,
             "#276419"
            ]
           ],
           "sequential": [
            [
             0,
             "#0d0887"
            ],
            [
             0.1111111111111111,
             "#46039f"
            ],
            [
             0.2222222222222222,
             "#7201a8"
            ],
            [
             0.3333333333333333,
             "#9c179e"
            ],
            [
             0.4444444444444444,
             "#bd3786"
            ],
            [
             0.5555555555555556,
             "#d8576b"
            ],
            [
             0.6666666666666666,
             "#ed7953"
            ],
            [
             0.7777777777777778,
             "#fb9f3a"
            ],
            [
             0.8888888888888888,
             "#fdca26"
            ],
            [
             1,
             "#f0f921"
            ]
           ],
           "sequentialminus": [
            [
             0,
             "#0d0887"
            ],
            [
             0.1111111111111111,
             "#46039f"
            ],
            [
             0.2222222222222222,
             "#7201a8"
            ],
            [
             0.3333333333333333,
             "#9c179e"
            ],
            [
             0.4444444444444444,
             "#bd3786"
            ],
            [
             0.5555555555555556,
             "#d8576b"
            ],
            [
             0.6666666666666666,
             "#ed7953"
            ],
            [
             0.7777777777777778,
             "#fb9f3a"
            ],
            [
             0.8888888888888888,
             "#fdca26"
            ],
            [
             1,
             "#f0f921"
            ]
           ]
          },
          "colorway": [
           "#636efa",
           "#EF553B",
           "#00cc96",
           "#ab63fa",
           "#FFA15A",
           "#19d3f3",
           "#FF6692",
           "#B6E880",
           "#FF97FF",
           "#FECB52"
          ],
          "font": {
           "color": "#2a3f5f"
          },
          "geo": {
           "bgcolor": "white",
           "lakecolor": "white",
           "landcolor": "white",
           "showlakes": true,
           "showland": true,
           "subunitcolor": "#C8D4E3"
          },
          "hoverlabel": {
           "align": "left"
          },
          "hovermode": "closest",
          "mapbox": {
           "style": "light"
          },
          "paper_bgcolor": "white",
          "plot_bgcolor": "white",
          "polar": {
           "angularaxis": {
            "gridcolor": "#EBF0F8",
            "linecolor": "#EBF0F8",
            "ticks": ""
           },
           "bgcolor": "white",
           "radialaxis": {
            "gridcolor": "#EBF0F8",
            "linecolor": "#EBF0F8",
            "ticks": ""
           }
          },
          "scene": {
           "xaxis": {
            "backgroundcolor": "white",
            "gridcolor": "#DFE8F3",
            "gridwidth": 2,
            "linecolor": "#EBF0F8",
            "showbackground": true,
            "ticks": "",
            "zerolinecolor": "#EBF0F8"
           },
           "yaxis": {
            "backgroundcolor": "white",
            "gridcolor": "#DFE8F3",
            "gridwidth": 2,
            "linecolor": "#EBF0F8",
            "showbackground": true,
            "ticks": "",
            "zerolinecolor": "#EBF0F8"
           },
           "zaxis": {
            "backgroundcolor": "white",
            "gridcolor": "#DFE8F3",
            "gridwidth": 2,
            "linecolor": "#EBF0F8",
            "showbackground": true,
            "ticks": "",
            "zerolinecolor": "#EBF0F8"
           }
          },
          "shapedefaults": {
           "line": {
            "color": "#2a3f5f"
           }
          },
          "ternary": {
           "aaxis": {
            "gridcolor": "#DFE8F3",
            "linecolor": "#A2B1C6",
            "ticks": ""
           },
           "baxis": {
            "gridcolor": "#DFE8F3",
            "linecolor": "#A2B1C6",
            "ticks": ""
           },
           "bgcolor": "white",
           "caxis": {
            "gridcolor": "#DFE8F3",
            "linecolor": "#A2B1C6",
            "ticks": ""
           }
          },
          "title": {
           "x": 0.05
          },
          "xaxis": {
           "automargin": true,
           "gridcolor": "#EBF0F8",
           "linecolor": "#EBF0F8",
           "ticks": "",
           "title": {
            "standoff": 15
           },
           "zerolinecolor": "#EBF0F8",
           "zerolinewidth": 2
          },
          "yaxis": {
           "automargin": true,
           "gridcolor": "#EBF0F8",
           "linecolor": "#EBF0F8",
           "ticks": "",
           "title": {
            "standoff": 15
           },
           "zerolinecolor": "#EBF0F8",
           "zerolinewidth": 2
          }
         }
        },
        "title": {
         "text": "TCS - 7-Day Price Predictions (RF | SVR | LSTM)"
        },
        "xaxis": {
         "tickformat": "%b %d, %Y",
         "title": {
          "text": "Date"
         }
        },
        "yaxis": {
         "title": {
          "text": "Price (INR )"
         }
        }
       }
      }
     },
     "metadata": {},
     "output_type": "display_data"
    },
    {
     "name": "stdout",
     "output_type": "stream",
     "text": [
      "Creating actual vs predicted comparison...\n"
     ]
    },
    {
     "data": {
      "application/vnd.plotly.v1+json": {
       "config": {
        "plotlyServerURL": "https://plot.ly"
       },
       "data": [
        {
         "hovertemplate": "Actual: INR %{y:.2f}<extra></extra>",
         "line": {
          "color": "black",
          "width": 2
         },
         "name": "Actual",
         "showlegend": true,
         "type": "scatter",
         "x": [
          "2022-12-08T00:00:00.000000000",
          "2022-12-09T00:00:00.000000000",
          "2022-12-12T00:00:00.000000000",
          "2022-12-13T00:00:00.000000000",
          "2022-12-14T00:00:00.000000000",
          "2022-12-15T00:00:00.000000000",
          "2022-12-16T00:00:00.000000000",
          "2022-12-19T00:00:00.000000000",
          "2022-12-20T00:00:00.000000000",
          "2022-12-21T00:00:00.000000000",
          "2022-12-22T00:00:00.000000000",
          "2022-12-23T00:00:00.000000000",
          "2022-12-26T00:00:00.000000000",
          "2022-12-27T00:00:00.000000000",
          "2022-12-28T00:00:00.000000000",
          "2022-12-29T00:00:00.000000000",
          "2022-12-30T00:00:00.000000000",
          "2023-01-02T00:00:00.000000000",
          "2023-01-03T00:00:00.000000000",
          "2023-01-04T00:00:00.000000000",
          "2023-01-05T00:00:00.000000000",
          "2023-01-06T00:00:00.000000000",
          "2023-01-09T00:00:00.000000000",
          "2023-01-10T00:00:00.000000000",
          "2023-01-11T00:00:00.000000000",
          "2023-01-12T00:00:00.000000000",
          "2023-01-13T00:00:00.000000000",
          "2023-01-16T00:00:00.000000000",
          "2023-01-17T00:00:00.000000000",
          "2023-01-18T00:00:00.000000000",
          "2023-01-19T00:00:00.000000000",
          "2023-01-20T00:00:00.000000000",
          "2023-01-23T00:00:00.000000000",
          "2023-01-24T00:00:00.000000000",
          "2023-01-25T00:00:00.000000000",
          "2023-01-27T00:00:00.000000000",
          "2023-01-30T00:00:00.000000000",
          "2023-01-31T00:00:00.000000000",
          "2023-02-01T00:00:00.000000000",
          "2023-02-02T00:00:00.000000000",
          "2023-02-03T00:00:00.000000000",
          "2023-02-06T00:00:00.000000000",
          "2023-02-07T00:00:00.000000000",
          "2023-02-08T00:00:00.000000000",
          "2023-02-09T00:00:00.000000000",
          "2023-02-10T00:00:00.000000000",
          "2023-02-13T00:00:00.000000000",
          "2023-02-14T00:00:00.000000000",
          "2023-02-15T00:00:00.000000000",
          "2023-02-16T00:00:00.000000000",
          "2023-02-17T00:00:00.000000000",
          "2023-02-20T00:00:00.000000000",
          "2023-02-21T00:00:00.000000000",
          "2023-02-22T00:00:00.000000000",
          "2023-02-23T00:00:00.000000000",
          "2023-02-24T00:00:00.000000000",
          "2023-02-27T00:00:00.000000000",
          "2023-02-28T00:00:00.000000000",
          "2023-03-01T00:00:00.000000000",
          "2023-03-02T00:00:00.000000000",
          "2023-03-03T00:00:00.000000000",
          "2023-03-06T00:00:00.000000000",
          "2023-03-08T00:00:00.000000000",
          "2023-03-09T00:00:00.000000000",
          "2023-03-10T00:00:00.000000000",
          "2023-03-13T00:00:00.000000000",
          "2023-03-14T00:00:00.000000000",
          "2023-03-15T00:00:00.000000000",
          "2023-03-16T00:00:00.000000000",
          "2023-03-17T00:00:00.000000000",
          "2023-03-20T00:00:00.000000000",
          "2023-03-21T00:00:00.000000000",
          "2023-03-22T00:00:00.000000000",
          "2023-03-23T00:00:00.000000000",
          "2023-03-24T00:00:00.000000000",
          "2023-03-27T00:00:00.000000000",
          "2023-03-28T00:00:00.000000000",
          "2023-03-29T00:00:00.000000000",
          "2023-03-31T00:00:00.000000000",
          "2023-04-03T00:00:00.000000000",
          "2023-04-05T00:00:00.000000000",
          "2023-04-06T00:00:00.000000000",
          "2023-04-10T00:00:00.000000000",
          "2023-04-11T00:00:00.000000000",
          "2023-04-12T00:00:00.000000000",
          "2023-04-13T00:00:00.000000000",
          "2023-04-17T00:00:00.000000000",
          "2023-04-18T00:00:00.000000000",
          "2023-04-19T00:00:00.000000000",
          "2023-04-20T00:00:00.000000000",
          "2023-04-21T00:00:00.000000000",
          "2023-04-24T00:00:00.000000000",
          "2023-04-25T00:00:00.000000000",
          "2023-04-26T00:00:00.000000000",
          "2023-04-27T00:00:00.000000000",
          "2023-04-28T00:00:00.000000000",
          "2023-05-02T00:00:00.000000000",
          "2023-05-03T00:00:00.000000000",
          "2023-05-04T00:00:00.000000000",
          "2023-05-05T00:00:00.000000000",
          "2023-05-08T00:00:00.000000000",
          "2023-05-09T00:00:00.000000000",
          "2023-05-10T00:00:00.000000000",
          "2023-05-11T00:00:00.000000000",
          "2023-05-12T00:00:00.000000000",
          "2023-05-15T00:00:00.000000000",
          "2023-05-16T00:00:00.000000000",
          "2023-05-17T00:00:00.000000000",
          "2023-05-18T00:00:00.000000000",
          "2023-05-19T00:00:00.000000000",
          "2023-05-22T00:00:00.000000000",
          "2023-05-23T00:00:00.000000000",
          "2023-05-24T00:00:00.000000000",
          "2023-05-25T00:00:00.000000000",
          "2023-05-26T00:00:00.000000000",
          "2023-05-29T00:00:00.000000000",
          "2023-05-30T00:00:00.000000000",
          "2023-05-31T00:00:00.000000000",
          "2023-06-01T00:00:00.000000000",
          "2023-06-02T00:00:00.000000000",
          "2023-06-05T00:00:00.000000000",
          "2023-06-06T00:00:00.000000000",
          "2023-06-07T00:00:00.000000000",
          "2023-06-08T00:00:00.000000000",
          "2023-06-09T00:00:00.000000000",
          "2023-06-12T00:00:00.000000000",
          "2023-06-13T00:00:00.000000000",
          "2023-06-14T00:00:00.000000000",
          "2023-06-15T00:00:00.000000000",
          "2023-06-16T00:00:00.000000000",
          "2023-06-19T00:00:00.000000000",
          "2023-06-20T00:00:00.000000000",
          "2023-06-21T00:00:00.000000000",
          "2023-06-22T00:00:00.000000000",
          "2023-06-23T00:00:00.000000000",
          "2023-06-26T00:00:00.000000000",
          "2023-06-27T00:00:00.000000000",
          "2023-06-28T00:00:00.000000000",
          "2023-06-30T00:00:00.000000000",
          "2023-07-03T00:00:00.000000000",
          "2023-07-04T00:00:00.000000000",
          "2023-07-05T00:00:00.000000000",
          "2023-07-06T00:00:00.000000000",
          "2023-07-07T00:00:00.000000000",
          "2023-07-10T00:00:00.000000000",
          "2023-07-11T00:00:00.000000000",
          "2023-07-12T00:00:00.000000000",
          "2023-07-13T00:00:00.000000000",
          "2023-07-14T00:00:00.000000000",
          "2023-07-17T00:00:00.000000000",
          "2023-07-18T00:00:00.000000000",
          "2023-07-19T00:00:00.000000000",
          "2023-07-20T00:00:00.000000000",
          "2023-07-21T00:00:00.000000000",
          "2023-07-24T00:00:00.000000000",
          "2023-07-25T00:00:00.000000000",
          "2023-07-26T00:00:00.000000000",
          "2023-07-27T00:00:00.000000000",
          "2023-07-28T00:00:00.000000000",
          "2023-07-31T00:00:00.000000000",
          "2023-08-01T00:00:00.000000000",
          "2023-08-02T00:00:00.000000000",
          "2023-08-03T00:00:00.000000000",
          "2023-08-04T00:00:00.000000000",
          "2023-08-07T00:00:00.000000000",
          "2023-08-08T00:00:00.000000000",
          "2023-08-09T00:00:00.000000000",
          "2023-08-10T00:00:00.000000000",
          "2023-08-11T00:00:00.000000000",
          "2023-08-14T00:00:00.000000000",
          "2023-08-16T00:00:00.000000000",
          "2023-08-17T00:00:00.000000000",
          "2023-08-18T00:00:00.000000000",
          "2023-08-21T00:00:00.000000000",
          "2023-08-22T00:00:00.000000000",
          "2023-08-23T00:00:00.000000000",
          "2023-08-24T00:00:00.000000000",
          "2023-08-25T00:00:00.000000000",
          "2023-08-28T00:00:00.000000000",
          "2023-08-29T00:00:00.000000000",
          "2023-08-30T00:00:00.000000000",
          "2023-08-31T00:00:00.000000000",
          "2023-09-01T00:00:00.000000000",
          "2023-09-04T00:00:00.000000000",
          "2023-09-05T00:00:00.000000000",
          "2023-09-06T00:00:00.000000000",
          "2023-09-07T00:00:00.000000000",
          "2023-09-08T00:00:00.000000000",
          "2023-09-11T00:00:00.000000000",
          "2023-09-12T00:00:00.000000000",
          "2023-09-13T00:00:00.000000000",
          "2023-09-14T00:00:00.000000000",
          "2023-09-15T00:00:00.000000000",
          "2023-09-18T00:00:00.000000000",
          "2023-09-20T00:00:00.000000000",
          "2023-09-21T00:00:00.000000000",
          "2023-09-22T00:00:00.000000000",
          "2023-09-25T00:00:00.000000000",
          "2023-09-26T00:00:00.000000000",
          "2023-09-27T00:00:00.000000000",
          "2023-09-28T00:00:00.000000000",
          "2023-09-29T00:00:00.000000000",
          "2023-10-03T00:00:00.000000000",
          "2023-10-04T00:00:00.000000000",
          "2023-10-05T00:00:00.000000000",
          "2023-10-06T00:00:00.000000000",
          "2023-10-09T00:00:00.000000000",
          "2023-10-10T00:00:00.000000000",
          "2023-10-11T00:00:00.000000000",
          "2023-10-12T00:00:00.000000000",
          "2023-10-13T00:00:00.000000000",
          "2023-10-16T00:00:00.000000000",
          "2023-10-17T00:00:00.000000000",
          "2023-10-18T00:00:00.000000000",
          "2023-10-19T00:00:00.000000000",
          "2023-10-20T00:00:00.000000000",
          "2023-10-23T00:00:00.000000000",
          "2023-10-25T00:00:00.000000000",
          "2023-10-26T00:00:00.000000000",
          "2023-10-27T00:00:00.000000000",
          "2023-10-30T00:00:00.000000000",
          "2023-10-31T00:00:00.000000000",
          "2023-11-01T00:00:00.000000000",
          "2023-11-02T00:00:00.000000000",
          "2023-11-03T00:00:00.000000000",
          "2023-11-06T00:00:00.000000000",
          "2023-11-07T00:00:00.000000000",
          "2023-11-08T00:00:00.000000000",
          "2023-11-09T00:00:00.000000000",
          "2023-11-10T00:00:00.000000000",
          "2023-11-13T00:00:00.000000000",
          "2023-11-15T00:00:00.000000000",
          "2023-11-16T00:00:00.000000000",
          "2023-11-17T00:00:00.000000000",
          "2023-11-20T00:00:00.000000000",
          "2023-11-21T00:00:00.000000000",
          "2023-11-22T00:00:00.000000000",
          "2023-11-23T00:00:00.000000000",
          "2023-11-24T00:00:00.000000000",
          "2023-11-28T00:00:00.000000000",
          "2023-11-29T00:00:00.000000000",
          "2023-11-30T00:00:00.000000000",
          "2023-12-01T00:00:00.000000000",
          "2023-12-04T00:00:00.000000000",
          "2023-12-05T00:00:00.000000000",
          "2023-12-06T00:00:00.000000000",
          "2023-12-07T00:00:00.000000000",
          "2023-12-08T00:00:00.000000000",
          "2023-12-11T00:00:00.000000000",
          "2023-12-12T00:00:00.000000000",
          "2023-12-13T00:00:00.000000000",
          "2023-12-14T00:00:00.000000000",
          "2023-12-15T00:00:00.000000000",
          "2023-12-18T00:00:00.000000000",
          "2023-12-19T00:00:00.000000000",
          "2023-12-20T00:00:00.000000000",
          "2023-12-21T00:00:00.000000000",
          "2023-12-22T00:00:00.000000000",
          "2023-12-26T00:00:00.000000000",
          "2023-12-27T00:00:00.000000000",
          "2023-12-28T00:00:00.000000000",
          "2023-12-29T00:00:00.000000000",
          "2024-01-01T00:00:00.000000000",
          "2024-01-02T00:00:00.000000000",
          "2024-01-03T00:00:00.000000000",
          "2024-01-04T00:00:00.000000000",
          "2024-01-05T00:00:00.000000000",
          "2024-01-08T00:00:00.000000000",
          "2024-01-09T00:00:00.000000000",
          "2024-01-10T00:00:00.000000000",
          "2024-01-11T00:00:00.000000000",
          "2024-01-12T00:00:00.000000000",
          "2024-01-15T00:00:00.000000000",
          "2024-01-16T00:00:00.000000000",
          "2024-01-17T00:00:00.000000000",
          "2024-01-18T00:00:00.000000000",
          "2024-01-19T00:00:00.000000000",
          "2024-01-23T00:00:00.000000000",
          "2024-01-24T00:00:00.000000000",
          "2024-01-25T00:00:00.000000000",
          "2024-01-29T00:00:00.000000000",
          "2024-01-30T00:00:00.000000000",
          "2024-01-31T00:00:00.000000000",
          "2024-02-01T00:00:00.000000000",
          "2024-02-02T00:00:00.000000000",
          "2024-02-05T00:00:00.000000000",
          "2024-02-06T00:00:00.000000000",
          "2024-02-07T00:00:00.000000000",
          "2024-02-08T00:00:00.000000000",
          "2024-02-09T00:00:00.000000000",
          "2024-02-12T00:00:00.000000000",
          "2024-02-13T00:00:00.000000000",
          "2024-02-14T00:00:00.000000000",
          "2024-02-15T00:00:00.000000000",
          "2024-02-16T00:00:00.000000000",
          "2024-02-19T00:00:00.000000000",
          "2024-02-20T00:00:00.000000000",
          "2024-02-21T00:00:00.000000000",
          "2024-02-22T00:00:00.000000000",
          "2024-02-23T00:00:00.000000000",
          "2024-02-26T00:00:00.000000000",
          "2024-02-27T00:00:00.000000000",
          "2024-02-28T00:00:00.000000000",
          "2024-02-29T00:00:00.000000000",
          "2024-03-01T00:00:00.000000000",
          "2024-03-04T00:00:00.000000000",
          "2024-03-05T00:00:00.000000000",
          "2024-03-06T00:00:00.000000000",
          "2024-03-07T00:00:00.000000000",
          "2024-03-11T00:00:00.000000000",
          "2024-03-12T00:00:00.000000000",
          "2024-03-13T00:00:00.000000000",
          "2024-03-14T00:00:00.000000000",
          "2024-03-15T00:00:00.000000000",
          "2024-03-18T00:00:00.000000000",
          "2024-03-19T00:00:00.000000000",
          "2024-03-20T00:00:00.000000000",
          "2024-03-21T00:00:00.000000000",
          "2024-03-22T00:00:00.000000000",
          "2024-03-26T00:00:00.000000000",
          "2024-03-27T00:00:00.000000000",
          "2024-03-28T00:00:00.000000000",
          "2024-04-01T00:00:00.000000000",
          "2024-04-02T00:00:00.000000000",
          "2024-04-03T00:00:00.000000000",
          "2024-04-04T00:00:00.000000000",
          "2024-04-05T00:00:00.000000000",
          "2024-04-08T00:00:00.000000000",
          "2024-04-09T00:00:00.000000000",
          "2024-04-10T00:00:00.000000000",
          "2024-04-12T00:00:00.000000000",
          "2024-04-15T00:00:00.000000000",
          "2024-04-16T00:00:00.000000000",
          "2024-04-18T00:00:00.000000000",
          "2024-04-19T00:00:00.000000000",
          "2024-04-22T00:00:00.000000000",
          "2024-04-23T00:00:00.000000000",
          "2024-04-24T00:00:00.000000000",
          "2024-04-25T00:00:00.000000000",
          "2024-04-26T00:00:00.000000000",
          "2024-04-29T00:00:00.000000000",
          "2024-04-30T00:00:00.000000000",
          "2024-05-02T00:00:00.000000000",
          "2024-05-03T00:00:00.000000000",
          "2024-05-06T00:00:00.000000000",
          "2024-05-07T00:00:00.000000000",
          "2024-05-08T00:00:00.000000000",
          "2024-05-09T00:00:00.000000000",
          "2024-05-10T00:00:00.000000000",
          "2024-05-13T00:00:00.000000000",
          "2024-05-14T00:00:00.000000000",
          "2024-05-15T00:00:00.000000000",
          "2024-05-16T00:00:00.000000000",
          "2024-05-17T00:00:00.000000000",
          "2024-05-21T00:00:00.000000000",
          "2024-05-22T00:00:00.000000000",
          "2024-05-23T00:00:00.000000000",
          "2024-05-24T00:00:00.000000000",
          "2024-05-27T00:00:00.000000000",
          "2024-05-28T00:00:00.000000000",
          "2024-05-29T00:00:00.000000000",
          "2024-05-30T00:00:00.000000000",
          "2024-05-31T00:00:00.000000000",
          "2024-06-03T00:00:00.000000000",
          "2024-06-04T00:00:00.000000000",
          "2024-06-05T00:00:00.000000000",
          "2024-06-06T00:00:00.000000000",
          "2024-06-07T00:00:00.000000000",
          "2024-06-10T00:00:00.000000000",
          "2024-06-11T00:00:00.000000000",
          "2024-06-12T00:00:00.000000000",
          "2024-06-13T00:00:00.000000000",
          "2024-06-14T00:00:00.000000000",
          "2024-06-18T00:00:00.000000000",
          "2024-06-19T00:00:00.000000000",
          "2024-06-20T00:00:00.000000000",
          "2024-06-21T00:00:00.000000000",
          "2024-06-24T00:00:00.000000000",
          "2024-06-25T00:00:00.000000000",
          "2024-06-26T00:00:00.000000000",
          "2024-06-27T00:00:00.000000000",
          "2024-06-28T00:00:00.000000000",
          "2024-07-01T00:00:00.000000000",
          "2024-07-02T00:00:00.000000000",
          "2024-07-03T00:00:00.000000000",
          "2024-07-04T00:00:00.000000000",
          "2024-07-05T00:00:00.000000000",
          "2024-07-08T00:00:00.000000000",
          "2024-07-09T00:00:00.000000000",
          "2024-07-10T00:00:00.000000000",
          "2024-07-11T00:00:00.000000000",
          "2024-07-12T00:00:00.000000000",
          "2024-07-15T00:00:00.000000000",
          "2024-07-16T00:00:00.000000000",
          "2024-07-18T00:00:00.000000000",
          "2024-07-19T00:00:00.000000000",
          "2024-07-22T00:00:00.000000000",
          "2024-07-23T00:00:00.000000000",
          "2024-07-24T00:00:00.000000000",
          "2024-07-25T00:00:00.000000000",
          "2024-07-26T00:00:00.000000000",
          "2024-07-29T00:00:00.000000000",
          "2024-07-30T00:00:00.000000000",
          "2024-07-31T00:00:00.000000000",
          "2024-08-01T00:00:00.000000000",
          "2024-08-02T00:00:00.000000000",
          "2024-08-05T00:00:00.000000000",
          "2024-08-06T00:00:00.000000000",
          "2024-08-07T00:00:00.000000000",
          "2024-08-08T00:00:00.000000000",
          "2024-08-09T00:00:00.000000000",
          "2024-08-12T00:00:00.000000000",
          "2024-08-13T00:00:00.000000000",
          "2024-08-14T00:00:00.000000000",
          "2024-08-16T00:00:00.000000000",
          "2024-08-19T00:00:00.000000000",
          "2024-08-20T00:00:00.000000000",
          "2024-08-21T00:00:00.000000000",
          "2024-08-22T00:00:00.000000000",
          "2024-08-23T00:00:00.000000000",
          "2024-08-26T00:00:00.000000000",
          "2024-08-27T00:00:00.000000000",
          "2024-08-28T00:00:00.000000000",
          "2024-08-29T00:00:00.000000000",
          "2024-08-30T00:00:00.000000000",
          "2024-09-02T00:00:00.000000000",
          "2024-09-03T00:00:00.000000000",
          "2024-09-04T00:00:00.000000000",
          "2024-09-05T00:00:00.000000000",
          "2024-09-06T00:00:00.000000000",
          "2024-09-09T00:00:00.000000000",
          "2024-09-10T00:00:00.000000000",
          "2024-09-11T00:00:00.000000000",
          "2024-09-12T00:00:00.000000000",
          "2024-09-13T00:00:00.000000000",
          "2024-09-16T00:00:00.000000000",
          "2024-09-17T00:00:00.000000000",
          "2024-09-18T00:00:00.000000000",
          "2024-09-19T00:00:00.000000000",
          "2024-09-20T00:00:00.000000000",
          "2024-09-23T00:00:00.000000000",
          "2024-09-24T00:00:00.000000000",
          "2024-09-25T00:00:00.000000000",
          "2024-09-26T00:00:00.000000000",
          "2024-09-27T00:00:00.000000000",
          "2024-09-30T00:00:00.000000000",
          "2024-10-01T00:00:00.000000000",
          "2024-10-03T00:00:00.000000000",
          "2024-10-04T00:00:00.000000000",
          "2024-10-07T00:00:00.000000000",
          "2024-10-08T00:00:00.000000000",
          "2024-10-09T00:00:00.000000000",
          "2024-10-10T00:00:00.000000000",
          "2024-10-11T00:00:00.000000000",
          "2024-10-14T00:00:00.000000000",
          "2024-10-15T00:00:00.000000000",
          "2024-10-16T00:00:00.000000000",
          "2024-10-17T00:00:00.000000000",
          "2024-10-18T00:00:00.000000000",
          "2024-10-21T00:00:00.000000000",
          "2024-10-22T00:00:00.000000000",
          "2024-10-23T00:00:00.000000000",
          "2024-10-24T00:00:00.000000000",
          "2024-10-25T00:00:00.000000000",
          "2024-10-28T00:00:00.000000000",
          "2024-10-29T00:00:00.000000000",
          "2024-10-30T00:00:00.000000000",
          "2024-10-31T00:00:00.000000000",
          "2024-11-01T00:00:00.000000000",
          "2024-11-04T00:00:00.000000000",
          "2024-11-05T00:00:00.000000000",
          "2024-11-06T00:00:00.000000000",
          "2024-11-07T00:00:00.000000000",
          "2024-11-08T00:00:00.000000000",
          "2024-11-11T00:00:00.000000000",
          "2024-11-12T00:00:00.000000000",
          "2024-11-13T00:00:00.000000000",
          "2024-11-14T00:00:00.000000000",
          "2024-11-18T00:00:00.000000000",
          "2024-11-19T00:00:00.000000000",
          "2024-11-21T00:00:00.000000000",
          "2024-11-22T00:00:00.000000000",
          "2024-11-25T00:00:00.000000000",
          "2024-11-26T00:00:00.000000000",
          "2024-11-27T00:00:00.000000000",
          "2024-11-28T00:00:00.000000000",
          "2024-11-29T00:00:00.000000000",
          "2024-12-02T00:00:00.000000000",
          "2024-12-03T00:00:00.000000000",
          "2024-12-04T00:00:00.000000000",
          "2024-12-05T00:00:00.000000000",
          "2024-12-06T00:00:00.000000000",
          "2024-12-09T00:00:00.000000000",
          "2024-12-10T00:00:00.000000000",
          "2024-12-11T00:00:00.000000000",
          "2024-12-12T00:00:00.000000000",
          "2024-12-13T00:00:00.000000000",
          "2024-12-16T00:00:00.000000000",
          "2024-12-17T00:00:00.000000000",
          "2024-12-18T00:00:00.000000000",
          "2024-12-19T00:00:00.000000000",
          "2024-12-20T00:00:00.000000000",
          "2024-12-23T00:00:00.000000000",
          "2024-12-24T00:00:00.000000000",
          "2024-12-26T00:00:00.000000000",
          "2024-12-27T00:00:00.000000000",
          "2024-12-30T00:00:00.000000000",
          "2024-12-31T00:00:00.000000000",
          "2025-01-01T00:00:00.000000000",
          "2025-01-02T00:00:00.000000000",
          "2025-01-03T00:00:00.000000000",
          "2025-01-06T00:00:00.000000000",
          "2025-01-07T00:00:00.000000000",
          "2025-01-08T00:00:00.000000000",
          "2025-01-09T00:00:00.000000000",
          "2025-01-10T00:00:00.000000000",
          "2025-01-13T00:00:00.000000000",
          "2025-01-14T00:00:00.000000000",
          "2025-01-15T00:00:00.000000000",
          "2025-01-16T00:00:00.000000000",
          "2025-01-17T00:00:00.000000000",
          "2025-01-20T00:00:00.000000000",
          "2025-01-21T00:00:00.000000000",
          "2025-01-22T00:00:00.000000000",
          "2025-01-23T00:00:00.000000000",
          "2025-01-24T00:00:00.000000000",
          "2025-01-27T00:00:00.000000000",
          "2025-01-28T00:00:00.000000000",
          "2025-01-29T00:00:00.000000000",
          "2025-01-30T00:00:00.000000000",
          "2025-01-31T00:00:00.000000000",
          "2025-02-01T00:00:00.000000000",
          "2025-02-03T00:00:00.000000000",
          "2025-02-04T00:00:00.000000000",
          "2025-02-05T00:00:00.000000000",
          "2025-02-06T00:00:00.000000000",
          "2025-02-07T00:00:00.000000000",
          "2025-02-10T00:00:00.000000000",
          "2025-02-11T00:00:00.000000000",
          "2025-02-12T00:00:00.000000000",
          "2025-02-13T00:00:00.000000000",
          "2025-02-14T00:00:00.000000000",
          "2025-02-17T00:00:00.000000000",
          "2025-02-18T00:00:00.000000000",
          "2025-02-19T00:00:00.000000000",
          "2025-02-20T00:00:00.000000000",
          "2025-02-21T00:00:00.000000000",
          "2025-02-24T00:00:00.000000000",
          "2025-02-25T00:00:00.000000000",
          "2025-02-27T00:00:00.000000000",
          "2025-02-28T00:00:00.000000000",
          "2025-03-03T00:00:00.000000000",
          "2025-03-04T00:00:00.000000000",
          "2025-03-05T00:00:00.000000000",
          "2025-03-06T00:00:00.000000000",
          "2025-03-07T00:00:00.000000000",
          "2025-03-10T00:00:00.000000000",
          "2025-03-11T00:00:00.000000000",
          "2025-03-12T00:00:00.000000000",
          "2025-03-13T00:00:00.000000000",
          "2025-03-17T00:00:00.000000000",
          "2025-03-18T00:00:00.000000000",
          "2025-03-19T00:00:00.000000000",
          "2025-03-20T00:00:00.000000000",
          "2025-03-21T00:00:00.000000000",
          "2025-03-24T00:00:00.000000000",
          "2025-03-25T00:00:00.000000000",
          "2025-03-26T00:00:00.000000000",
          "2025-03-27T00:00:00.000000000",
          "2025-03-28T00:00:00.000000000",
          "2025-04-01T00:00:00.000000000",
          "2025-04-02T00:00:00.000000000",
          "2025-04-03T00:00:00.000000000",
          "2025-04-04T00:00:00.000000000",
          "2025-04-07T00:00:00.000000000",
          "2025-04-08T00:00:00.000000000",
          "2025-04-09T00:00:00.000000000",
          "2025-04-11T00:00:00.000000000",
          "2025-04-15T00:00:00.000000000",
          "2025-04-16T00:00:00.000000000",
          "2025-04-17T00:00:00.000000000",
          "2025-04-21T00:00:00.000000000",
          "2025-04-22T00:00:00.000000000",
          "2025-04-23T00:00:00.000000000",
          "2025-04-24T00:00:00.000000000",
          "2025-04-25T00:00:00.000000000",
          "2025-04-28T00:00:00.000000000",
          "2025-04-29T00:00:00.000000000",
          "2025-04-30T00:00:00.000000000",
          "2025-05-02T00:00:00.000000000",
          "2025-05-05T00:00:00.000000000",
          "2025-05-06T00:00:00.000000000",
          "2025-05-07T00:00:00.000000000",
          "2025-05-08T00:00:00.000000000",
          "2025-05-09T00:00:00.000000000",
          "2025-05-12T00:00:00.000000000",
          "2025-05-13T00:00:00.000000000",
          "2025-05-14T00:00:00.000000000",
          "2025-05-15T00:00:00.000000000",
          "2025-05-16T00:00:00.000000000",
          "2025-05-19T00:00:00.000000000",
          "2025-05-20T00:00:00.000000000",
          "2025-05-21T00:00:00.000000000",
          "2025-05-22T00:00:00.000000000",
          "2025-05-23T00:00:00.000000000",
          "2025-05-26T00:00:00.000000000",
          "2025-05-27T00:00:00.000000000",
          "2025-05-28T00:00:00.000000000",
          "2025-05-29T00:00:00.000000000",
          "2025-05-30T00:00:00.000000000",
          "2025-06-02T00:00:00.000000000",
          "2025-06-03T00:00:00.000000000",
          "2025-06-04T00:00:00.000000000",
          "2025-06-05T00:00:00.000000000",
          "2025-06-06T00:00:00.000000000",
          "2025-06-09T00:00:00.000000000",
          "2025-06-10T00:00:00.000000000",
          "2025-06-11T00:00:00.000000000",
          "2025-06-12T00:00:00.000000000",
          "2025-06-13T00:00:00.000000000",
          "2025-06-16T00:00:00.000000000",
          "2025-06-17T00:00:00.000000000",
          "2025-06-18T00:00:00.000000000",
          "2025-06-19T00:00:00.000000000",
          "2025-06-20T00:00:00.000000000",
          "2025-06-23T00:00:00.000000000",
          "2025-06-24T00:00:00.000000000",
          "2025-06-25T00:00:00.000000000",
          "2025-06-26T00:00:00.000000000",
          "2025-06-27T00:00:00.000000000",
          "2025-06-30T00:00:00.000000000",
          "2025-07-01T00:00:00.000000000",
          "2025-07-02T00:00:00.000000000",
          "2025-07-03T00:00:00.000000000",
          "2025-07-04T00:00:00.000000000",
          "2025-07-07T00:00:00.000000000",
          "2025-07-08T00:00:00.000000000",
          "2025-07-09T00:00:00.000000000",
          "2025-07-10T00:00:00.000000000",
          "2025-07-11T00:00:00.000000000",
          "2025-07-14T00:00:00.000000000",
          "2025-07-15T00:00:00.000000000",
          "2025-07-16T00:00:00.000000000",
          "2025-07-17T00:00:00.000000000",
          "2025-07-18T00:00:00.000000000",
          "2025-07-21T00:00:00.000000000",
          "2025-07-22T00:00:00.000000000",
          "2025-07-23T00:00:00.000000000",
          "2025-07-24T00:00:00.000000000",
          "2025-07-25T00:00:00.000000000",
          "2025-07-28T00:00:00.000000000",
          "2025-07-29T00:00:00.000000000",
          "2025-07-30T00:00:00.000000000",
          "2025-07-31T00:00:00.000000000",
          "2025-08-01T00:00:00.000000000",
          "2025-08-04T00:00:00.000000000",
          "2025-08-05T00:00:00.000000000",
          "2025-08-06T00:00:00.000000000",
          "2025-08-07T00:00:00.000000000",
          "2025-08-08T00:00:00.000000000",
          "2025-08-11T00:00:00.000000000",
          "2025-08-12T00:00:00.000000000",
          "2025-08-13T00:00:00.000000000",
          "2025-08-14T00:00:00.000000000",
          "2025-08-18T00:00:00.000000000",
          "2025-08-19T00:00:00.000000000",
          "2025-08-20T00:00:00.000000000",
          "2025-08-21T00:00:00.000000000",
          "2025-08-22T00:00:00.000000000",
          "2025-08-25T00:00:00.000000000",
          "2025-08-26T00:00:00.000000000",
          "2025-08-27T00:00:00.000000000",
          "2025-08-28T00:00:00.000000000",
          "2025-08-29T00:00:00.000000000",
          "2025-09-01T00:00:00.000000000",
          "2025-09-02T00:00:00.000000000",
          "2025-09-03T00:00:00.000000000",
          "2025-09-04T00:00:00.000000000",
          "2025-09-05T00:00:00.000000000",
          "2025-09-08T00:00:00.000000000",
          "2025-09-09T00:00:00.000000000",
          "2025-09-10T00:00:00.000000000",
          "2025-09-11T00:00:00.000000000",
          "2025-09-12T00:00:00.000000000",
          "2025-09-15T00:00:00.000000000",
          "2025-09-16T00:00:00.000000000",
          "2025-09-17T00:00:00.000000000",
          "2025-09-18T00:00:00.000000000",
          "2025-09-19T00:00:00.000000000",
          "2025-09-22T00:00:00.000000000",
          "2025-09-23T00:00:00.000000000",
          "2025-09-24T00:00:00.000000000",
          "2025-09-25T00:00:00.000000000",
          "2025-09-26T00:00:00.000000000",
          "2025-09-29T00:00:00.000000000",
          "2025-09-30T00:00:00.000000000",
          "2025-10-01T00:00:00.000000000",
          "2025-10-02T00:00:00.000000000",
          "2025-10-03T00:00:00.000000000",
          "2025-10-06T00:00:00.000000000"
         ],
         "xaxis": "x",
         "y": {
          "bdata": "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",
          "dtype": "f8"
         },
         "yaxis": "y"
        },
        {
         "hovertemplate": "Predicted: INR %{y:.2f}<extra></extra>",
         "line": {
          "color": "#3498db",
          "dash": "dot",
          "width": 2
         },
         "name": "Predicted",
         "showlegend": true,
         "type": "scatter",
         "x": [
          "2022-12-08T00:00:00.000000000",
          "2022-12-09T00:00:00.000000000",
          "2022-12-12T00:00:00.000000000",
          "2022-12-13T00:00:00.000000000",
          "2022-12-14T00:00:00.000000000",
          "2022-12-15T00:00:00.000000000",
          "2022-12-16T00:00:00.000000000",
          "2022-12-19T00:00:00.000000000",
          "2022-12-20T00:00:00.000000000",
          "2022-12-21T00:00:00.000000000",
          "2022-12-22T00:00:00.000000000",
          "2022-12-23T00:00:00.000000000",
          "2022-12-26T00:00:00.000000000",
          "2022-12-27T00:00:00.000000000",
          "2022-12-28T00:00:00.000000000",
          "2022-12-29T00:00:00.000000000",
          "2022-12-30T00:00:00.000000000",
          "2023-01-02T00:00:00.000000000",
          "2023-01-03T00:00:00.000000000",
          "2023-01-04T00:00:00.000000000",
          "2023-01-05T00:00:00.000000000",
          "2023-01-06T00:00:00.000000000",
          "2023-01-09T00:00:00.000000000",
          "2023-01-10T00:00:00.000000000",
          "2023-01-11T00:00:00.000000000",
          "2023-01-12T00:00:00.000000000",
          "2023-01-13T00:00:00.000000000",
          "2023-01-16T00:00:00.000000000",
          "2023-01-17T00:00:00.000000000",
          "2023-01-18T00:00:00.000000000",
          "2023-01-19T00:00:00.000000000",
          "2023-01-20T00:00:00.000000000",
          "2023-01-23T00:00:00.000000000",
          "2023-01-24T00:00:00.000000000",
          "2023-01-25T00:00:00.000000000",
          "2023-01-27T00:00:00.000000000",
          "2023-01-30T00:00:00.000000000",
          "2023-01-31T00:00:00.000000000",
          "2023-02-01T00:00:00.000000000",
          "2023-02-02T00:00:00.000000000",
          "2023-02-03T00:00:00.000000000",
          "2023-02-06T00:00:00.000000000",
          "2023-02-07T00:00:00.000000000",
          "2023-02-08T00:00:00.000000000",
          "2023-02-09T00:00:00.000000000",
          "2023-02-10T00:00:00.000000000",
          "2023-02-13T00:00:00.000000000",
          "2023-02-14T00:00:00.000000000",
          "2023-02-15T00:00:00.000000000",
          "2023-02-16T00:00:00.000000000",
          "2023-02-17T00:00:00.000000000",
          "2023-02-20T00:00:00.000000000",
          "2023-02-21T00:00:00.000000000",
          "2023-02-22T00:00:00.000000000",
          "2023-02-23T00:00:00.000000000",
          "2023-02-24T00:00:00.000000000",
          "2023-02-27T00:00:00.000000000",
          "2023-02-28T00:00:00.000000000",
          "2023-03-01T00:00:00.000000000",
          "2023-03-02T00:00:00.000000000",
          "2023-03-03T00:00:00.000000000",
          "2023-03-06T00:00:00.000000000",
          "2023-03-08T00:00:00.000000000",
          "2023-03-09T00:00:00.000000000",
          "2023-03-10T00:00:00.000000000",
          "2023-03-13T00:00:00.000000000",
          "2023-03-14T00:00:00.000000000",
          "2023-03-15T00:00:00.000000000",
          "2023-03-16T00:00:00.000000000",
          "2023-03-17T00:00:00.000000000",
          "2023-03-20T00:00:00.000000000",
          "2023-03-21T00:00:00.000000000",
          "2023-03-22T00:00:00.000000000",
          "2023-03-23T00:00:00.000000000",
          "2023-03-24T00:00:00.000000000",
          "2023-03-27T00:00:00.000000000",
          "2023-03-28T00:00:00.000000000",
          "2023-03-29T00:00:00.000000000",
          "2023-03-31T00:00:00.000000000",
          "2023-04-03T00:00:00.000000000",
          "2023-04-05T00:00:00.000000000",
          "2023-04-06T00:00:00.000000000",
          "2023-04-10T00:00:00.000000000",
          "2023-04-11T00:00:00.000000000",
          "2023-04-12T00:00:00.000000000",
          "2023-04-13T00:00:00.000000000",
          "2023-04-17T00:00:00.000000000",
          "2023-04-18T00:00:00.000000000",
          "2023-04-19T00:00:00.000000000",
          "2023-04-20T00:00:00.000000000",
          "2023-04-21T00:00:00.000000000",
          "2023-04-24T00:00:00.000000000",
          "2023-04-25T00:00:00.000000000",
          "2023-04-26T00:00:00.000000000",
          "2023-04-27T00:00:00.000000000",
          "2023-04-28T00:00:00.000000000",
          "2023-05-02T00:00:00.000000000",
          "2023-05-03T00:00:00.000000000",
          "2023-05-04T00:00:00.000000000",
          "2023-05-05T00:00:00.000000000",
          "2023-05-08T00:00:00.000000000",
          "2023-05-09T00:00:00.000000000",
          "2023-05-10T00:00:00.000000000",
          "2023-05-11T00:00:00.000000000",
          "2023-05-12T00:00:00.000000000",
          "2023-05-15T00:00:00.000000000",
          "2023-05-16T00:00:00.000000000",
          "2023-05-17T00:00:00.000000000",
          "2023-05-18T00:00:00.000000000",
          "2023-05-19T00:00:00.000000000",
          "2023-05-22T00:00:00.000000000",
          "2023-05-23T00:00:00.000000000",
          "2023-05-24T00:00:00.000000000",
          "2023-05-25T00:00:00.000000000",
          "2023-05-26T00:00:00.000000000",
          "2023-05-29T00:00:00.000000000",
          "2023-05-30T00:00:00.000000000",
          "2023-05-31T00:00:00.000000000",
          "2023-06-01T00:00:00.000000000",
          "2023-06-02T00:00:00.000000000",
          "2023-06-05T00:00:00.000000000",
          "2023-06-06T00:00:00.000000000",
          "2023-06-07T00:00:00.000000000",
          "2023-06-08T00:00:00.000000000",
          "2023-06-09T00:00:00.000000000",
          "2023-06-12T00:00:00.000000000",
          "2023-06-13T00:00:00.000000000",
          "2023-06-14T00:00:00.000000000",
          "2023-06-15T00:00:00.000000000",
          "2023-06-16T00:00:00.000000000",
          "2023-06-19T00:00:00.000000000",
          "2023-06-20T00:00:00.000000000",
          "2023-06-21T00:00:00.000000000",
          "2023-06-22T00:00:00.000000000",
          "2023-06-23T00:00:00.000000000",
          "2023-06-26T00:00:00.000000000",
          "2023-06-27T00:00:00.000000000",
          "2023-06-28T00:00:00.000000000",
          "2023-06-30T00:00:00.000000000",
          "2023-07-03T00:00:00.000000000",
          "2023-07-04T00:00:00.000000000",
          "2023-07-05T00:00:00.000000000",
          "2023-07-06T00:00:00.000000000",
          "2023-07-07T00:00:00.000000000",
          "2023-07-10T00:00:00.000000000",
          "2023-07-11T00:00:00.000000000",
          "2023-07-12T00:00:00.000000000",
          "2023-07-13T00:00:00.000000000",
          "2023-07-14T00:00:00.000000000",
          "2023-07-17T00:00:00.000000000",
          "2023-07-18T00:00:00.000000000",
          "2023-07-19T00:00:00.000000000",
          "2023-07-20T00:00:00.000000000",
          "2023-07-21T00:00:00.000000000",
          "2023-07-24T00:00:00.000000000",
          "2023-07-25T00:00:00.000000000",
          "2023-07-26T00:00:00.000000000",
          "2023-07-27T00:00:00.000000000",
          "2023-07-28T00:00:00.000000000",
          "2023-07-31T00:00:00.000000000",
          "2023-08-01T00:00:00.000000000",
          "2023-08-02T00:00:00.000000000",
          "2023-08-03T00:00:00.000000000",
          "2023-08-04T00:00:00.000000000",
          "2023-08-07T00:00:00.000000000",
          "2023-08-08T00:00:00.000000000",
          "2023-08-09T00:00:00.000000000",
          "2023-08-10T00:00:00.000000000",
          "2023-08-11T00:00:00.000000000",
          "2023-08-14T00:00:00.000000000",
          "2023-08-16T00:00:00.000000000",
          "2023-08-17T00:00:00.000000000",
          "2023-08-18T00:00:00.000000000",
          "2023-08-21T00:00:00.000000000",
          "2023-08-22T00:00:00.000000000",
          "2023-08-23T00:00:00.000000000",
          "2023-08-24T00:00:00.000000000",
          "2023-08-25T00:00:00.000000000",
          "2023-08-28T00:00:00.000000000",
          "2023-08-29T00:00:00.000000000",
          "2023-08-30T00:00:00.000000000",
          "2023-08-31T00:00:00.000000000",
          "2023-09-01T00:00:00.000000000",
          "2023-09-04T00:00:00.000000000",
          "2023-09-05T00:00:00.000000000",
          "2023-09-06T00:00:00.000000000",
          "2023-09-07T00:00:00.000000000",
          "2023-09-08T00:00:00.000000000",
          "2023-09-11T00:00:00.000000000",
          "2023-09-12T00:00:00.000000000",
          "2023-09-13T00:00:00.000000000",
          "2023-09-14T00:00:00.000000000",
          "2023-09-15T00:00:00.000000000",
          "2023-09-18T00:00:00.000000000",
          "2023-09-20T00:00:00.000000000",
          "2023-09-21T00:00:00.000000000",
          "2023-09-22T00:00:00.000000000",
          "2023-09-25T00:00:00.000000000",
          "2023-09-26T00:00:00.000000000",
          "2023-09-27T00:00:00.000000000",
          "2023-09-28T00:00:00.000000000",
          "2023-09-29T00:00:00.000000000",
          "2023-10-03T00:00:00.000000000",
          "2023-10-04T00:00:00.000000000",
          "2023-10-05T00:00:00.000000000",
          "2023-10-06T00:00:00.000000000",
          "2023-10-09T00:00:00.000000000",
          "2023-10-10T00:00:00.000000000",
          "2023-10-11T00:00:00.000000000",
          "2023-10-12T00:00:00.000000000",
          "2023-10-13T00:00:00.000000000",
          "2023-10-16T00:00:00.000000000",
          "2023-10-17T00:00:00.000000000",
          "2023-10-18T00:00:00.000000000",
          "2023-10-19T00:00:00.000000000",
          "2023-10-20T00:00:00.000000000",
          "2023-10-23T00:00:00.000000000",
          "2023-10-25T00:00:00.000000000",
          "2023-10-26T00:00:00.000000000",
          "2023-10-27T00:00:00.000000000",
          "2023-10-30T00:00:00.000000000",
          "2023-10-31T00:00:00.000000000",
          "2023-11-01T00:00:00.000000000",
          "2023-11-02T00:00:00.000000000",
          "2023-11-03T00:00:00.000000000",
          "2023-11-06T00:00:00.000000000",
          "2023-11-07T00:00:00.000000000",
          "2023-11-08T00:00:00.000000000",
          "2023-11-09T00:00:00.000000000",
          "2023-11-10T00:00:00.000000000",
          "2023-11-13T00:00:00.000000000",
          "2023-11-15T00:00:00.000000000",
          "2023-11-16T00:00:00.000000000",
          "2023-11-17T00:00:00.000000000",
          "2023-11-20T00:00:00.000000000",
          "2023-11-21T00:00:00.000000000",
          "2023-11-22T00:00:00.000000000",
          "2023-11-23T00:00:00.000000000",
          "2023-11-24T00:00:00.000000000",
          "2023-11-28T00:00:00.000000000",
          "2023-11-29T00:00:00.000000000",
          "2023-11-30T00:00:00.000000000",
          "2023-12-01T00:00:00.000000000",
          "2023-12-04T00:00:00.000000000",
          "2023-12-05T00:00:00.000000000",
          "2023-12-06T00:00:00.000000000",
          "2023-12-07T00:00:00.000000000",
          "2023-12-08T00:00:00.000000000",
          "2023-12-11T00:00:00.000000000",
          "2023-12-12T00:00:00.000000000",
          "2023-12-13T00:00:00.000000000",
          "2023-12-14T00:00:00.000000000",
          "2023-12-15T00:00:00.000000000",
          "2023-12-18T00:00:00.000000000",
          "2023-12-19T00:00:00.000000000",
          "2023-12-20T00:00:00.000000000",
          "2023-12-21T00:00:00.000000000",
          "2023-12-22T00:00:00.000000000",
          "2023-12-26T00:00:00.000000000",
          "2023-12-27T00:00:00.000000000",
          "2023-12-28T00:00:00.000000000",
          "2023-12-29T00:00:00.000000000",
          "2024-01-01T00:00:00.000000000",
          "2024-01-02T00:00:00.000000000",
          "2024-01-03T00:00:00.000000000",
          "2024-01-04T00:00:00.000000000",
          "2024-01-05T00:00:00.000000000",
          "2024-01-08T00:00:00.000000000",
          "2024-01-09T00:00:00.000000000",
          "2024-01-10T00:00:00.000000000",
          "2024-01-11T00:00:00.000000000",
          "2024-01-12T00:00:00.000000000",
          "2024-01-15T00:00:00.000000000",
          "2024-01-16T00:00:00.000000000",
          "2024-01-17T00:00:00.000000000",
          "2024-01-18T00:00:00.000000000",
          "2024-01-19T00:00:00.000000000",
          "2024-01-23T00:00:00.000000000",
          "2024-01-24T00:00:00.000000000",
          "2024-01-25T00:00:00.000000000",
          "2024-01-29T00:00:00.000000000",
          "2024-01-30T00:00:00.000000000",
          "2024-01-31T00:00:00.000000000",
          "2024-02-01T00:00:00.000000000",
          "2024-02-02T00:00:00.000000000",
          "2024-02-05T00:00:00.000000000",
          "2024-02-06T00:00:00.000000000",
          "2024-02-07T00:00:00.000000000",
          "2024-02-08T00:00:00.000000000",
          "2024-02-09T00:00:00.000000000",
          "2024-02-12T00:00:00.000000000",
          "2024-02-13T00:00:00.000000000",
          "2024-02-14T00:00:00.000000000",
          "2024-02-15T00:00:00.000000000",
          "2024-02-16T00:00:00.000000000",
          "2024-02-19T00:00:00.000000000",
          "2024-02-20T00:00:00.000000000",
          "2024-02-21T00:00:00.000000000",
          "2024-02-22T00:00:00.000000000",
          "2024-02-23T00:00:00.000000000",
          "2024-02-26T00:00:00.000000000",
          "2024-02-27T00:00:00.000000000",
          "2024-02-28T00:00:00.000000000",
          "2024-02-29T00:00:00.000000000",
          "2024-03-01T00:00:00.000000000",
          "2024-03-04T00:00:00.000000000",
          "2024-03-05T00:00:00.000000000",
          "2024-03-06T00:00:00.000000000",
          "2024-03-07T00:00:00.000000000",
          "2024-03-11T00:00:00.000000000",
          "2024-03-12T00:00:00.000000000",
          "2024-03-13T00:00:00.000000000",
          "2024-03-14T00:00:00.000000000",
          "2024-03-15T00:00:00.000000000",
          "2024-03-18T00:00:00.000000000",
          "2024-03-19T00:00:00.000000000",
          "2024-03-20T00:00:00.000000000",
          "2024-03-21T00:00:00.000000000",
          "2024-03-22T00:00:00.000000000",
          "2024-03-26T00:00:00.000000000",
          "2024-03-27T00:00:00.000000000",
          "2024-03-28T00:00:00.000000000",
          "2024-04-01T00:00:00.000000000",
          "2024-04-02T00:00:00.000000000",
          "2024-04-03T00:00:00.000000000",
          "2024-04-04T00:00:00.000000000",
          "2024-04-05T00:00:00.000000000",
          "2024-04-08T00:00:00.000000000",
          "2024-04-09T00:00:00.000000000",
          "2024-04-10T00:00:00.000000000",
          "2024-04-12T00:00:00.000000000",
          "2024-04-15T00:00:00.000000000",
          "2024-04-16T00:00:00.000000000",
          "2024-04-18T00:00:00.000000000",
          "2024-04-19T00:00:00.000000000",
          "2024-04-22T00:00:00.000000000",
          "2024-04-23T00:00:00.000000000",
          "2024-04-24T00:00:00.000000000",
          "2024-04-25T00:00:00.000000000",
          "2024-04-26T00:00:00.000000000",
          "2024-04-29T00:00:00.000000000",
          "2024-04-30T00:00:00.000000000",
          "2024-05-02T00:00:00.000000000",
          "2024-05-03T00:00:00.000000000",
          "2024-05-06T00:00:00.000000000",
          "2024-05-07T00:00:00.000000000",
          "2024-05-08T00:00:00.000000000",
          "2024-05-09T00:00:00.000000000",
          "2024-05-10T00:00:00.000000000",
          "2024-05-13T00:00:00.000000000",
          "2024-05-14T00:00:00.000000000",
          "2024-05-15T00:00:00.000000000",
          "2024-05-16T00:00:00.000000000",
          "2024-05-17T00:00:00.000000000",
          "2024-05-21T00:00:00.000000000",
          "2024-05-22T00:00:00.000000000",
          "2024-05-23T00:00:00.000000000",
          "2024-05-24T00:00:00.000000000",
          "2024-05-27T00:00:00.000000000",
          "2024-05-28T00:00:00.000000000",
          "2024-05-29T00:00:00.000000000",
          "2024-05-30T00:00:00.000000000",
          "2024-05-31T00:00:00.000000000",
          "2024-06-03T00:00:00.000000000",
          "2024-06-04T00:00:00.000000000",
          "2024-06-05T00:00:00.000000000",
          "2024-06-06T00:00:00.000000000",
          "2024-06-07T00:00:00.000000000",
          "2024-06-10T00:00:00.000000000",
          "2024-06-11T00:00:00.000000000",
          "2024-06-12T00:00:00.000000000",
          "2024-06-13T00:00:00.000000000",
          "2024-06-14T00:00:00.000000000",
          "2024-06-18T00:00:00.000000000",
          "2024-06-19T00:00:00.000000000",
          "2024-06-20T00:00:00.000000000",
          "2024-06-21T00:00:00.000000000",
          "2024-06-24T00:00:00.000000000",
          "2024-06-25T00:00:00.000000000",
          "2024-06-26T00:00:00.000000000",
          "2024-06-27T00:00:00.000000000",
          "2024-06-28T00:00:00.000000000",
          "2024-07-01T00:00:00.000000000",
          "2024-07-02T00:00:00.000000000",
          "2024-07-03T00:00:00.000000000",
          "2024-07-04T00:00:00.000000000",
          "2024-07-05T00:00:00.000000000",
          "2024-07-08T00:00:00.000000000",
          "2024-07-09T00:00:00.000000000",
          "2024-07-10T00:00:00.000000000",
          "2024-07-11T00:00:00.000000000",
          "2024-07-12T00:00:00.000000000",
          "2024-07-15T00:00:00.000000000",
          "2024-07-16T00:00:00.000000000",
          "2024-07-18T00:00:00.000000000",
          "2024-07-19T00:00:00.000000000",
          "2024-07-22T00:00:00.000000000",
          "2024-07-23T00:00:00.000000000",
          "2024-07-24T00:00:00.000000000",
          "2024-07-25T00:00:00.000000000",
          "2024-07-26T00:00:00.000000000",
          "2024-07-29T00:00:00.000000000",
          "2024-07-30T00:00:00.000000000",
          "2024-07-31T00:00:00.000000000",
          "2024-08-01T00:00:00.000000000",
          "2024-08-02T00:00:00.000000000",
          "2024-08-05T00:00:00.000000000",
          "2024-08-06T00:00:00.000000000",
          "2024-08-07T00:00:00.000000000",
          "2024-08-08T00:00:00.000000000",
          "2024-08-09T00:00:00.000000000",
          "2024-08-12T00:00:00.000000000",
          "2024-08-13T00:00:00.000000000",
          "2024-08-14T00:00:00.000000000",
          "2024-08-16T00:00:00.000000000",
          "2024-08-19T00:00:00.000000000",
          "2024-08-20T00:00:00.000000000",
          "2024-08-21T00:00:00.000000000",
          "2024-08-22T00:00:00.000000000",
          "2024-08-23T00:00:00.000000000",
          "2024-08-26T00:00:00.000000000",
          "2024-08-27T00:00:00.000000000",
          "2024-08-28T00:00:00.000000000",
          "2024-08-29T00:00:00.000000000",
          "2024-08-30T00:00:00.000000000",
          "2024-09-02T00:00:00.000000000",
          "2024-09-03T00:00:00.000000000",
          "2024-09-04T00:00:00.000000000",
          "2024-09-05T00:00:00.000000000",
          "2024-09-06T00:00:00.000000000",
          "2024-09-09T00:00:00.000000000",
          "2024-09-10T00:00:00.000000000",
          "2024-09-11T00:00:00.000000000",
          "2024-09-12T00:00:00.000000000",
          "2024-09-13T00:00:00.000000000",
          "2024-09-16T00:00:00.000000000",
          "2024-09-17T00:00:00.000000000",
          "2024-09-18T00:00:00.000000000",
          "2024-09-19T00:00:00.000000000",
          "2024-09-20T00:00:00.000000000",
          "2024-09-23T00:00:00.000000000",
          "2024-09-24T00:00:00.000000000",
          "2024-09-25T00:00:00.000000000",
          "2024-09-26T00:00:00.000000000",
          "2024-09-27T00:00:00.000000000",
          "2024-09-30T00:00:00.000000000",
          "2024-10-01T00:00:00.000000000",
          "2024-10-03T00:00:00.000000000",
          "2024-10-04T00:00:00.000000000",
          "2024-10-07T00:00:00.000000000",
          "2024-10-08T00:00:00.000000000",
          "2024-10-09T00:00:00.000000000",
          "2024-10-10T00:00:00.000000000",
          "2024-10-11T00:00:00.000000000",
          "2024-10-14T00:00:00.000000000",
          "2024-10-15T00:00:00.000000000",
          "2024-10-16T00:00:00.000000000",
          "2024-10-17T00:00:00.000000000",
          "2024-10-18T00:00:00.000000000",
          "2024-10-21T00:00:00.000000000",
          "2024-10-22T00:00:00.000000000",
          "2024-10-23T00:00:00.000000000",
          "2024-10-24T00:00:00.000000000",
          "2024-10-25T00:00:00.000000000",
          "2024-10-28T00:00:00.000000000",
          "2024-10-29T00:00:00.000000000",
          "2024-10-30T00:00:00.000000000",
          "2024-10-31T00:00:00.000000000",
          "2024-11-01T00:00:00.000000000",
          "2024-11-04T00:00:00.000000000",
          "2024-11-05T00:00:00.000000000",
          "2024-11-06T00:00:00.000000000",
          "2024-11-07T00:00:00.000000000",
          "2024-11-08T00:00:00.000000000",
          "2024-11-11T00:00:00.000000000",
          "2024-11-12T00:00:00.000000000",
          "2024-11-13T00:00:00.000000000",
          "2024-11-14T00:00:00.000000000",
          "2024-11-18T00:00:00.000000000",
          "2024-11-19T00:00:00.000000000",
          "2024-11-21T00:00:00.000000000",
          "2024-11-22T00:00:00.000000000",
          "2024-11-25T00:00:00.000000000",
          "2024-11-26T00:00:00.000000000",
          "2024-11-27T00:00:00.000000000",
          "2024-11-28T00:00:00.000000000",
          "2024-11-29T00:00:00.000000000",
          "2024-12-02T00:00:00.000000000",
          "2024-12-03T00:00:00.000000000",
          "2024-12-04T00:00:00.000000000",
          "2024-12-05T00:00:00.000000000",
          "2024-12-06T00:00:00.000000000",
          "2024-12-09T00:00:00.000000000",
          "2024-12-10T00:00:00.000000000",
          "2024-12-11T00:00:00.000000000",
          "2024-12-12T00:00:00.000000000",
          "2024-12-13T00:00:00.000000000",
          "2024-12-16T00:00:00.000000000",
          "2024-12-17T00:00:00.000000000",
          "2024-12-18T00:00:00.000000000",
          "2024-12-19T00:00:00.000000000",
          "2024-12-20T00:00:00.000000000",
          "2024-12-23T00:00:00.000000000",
          "2024-12-24T00:00:00.000000000",
          "2024-12-26T00:00:00.000000000",
          "2024-12-27T00:00:00.000000000",
          "2024-12-30T00:00:00.000000000",
          "2024-12-31T00:00:00.000000000",
          "2025-01-01T00:00:00.000000000",
          "2025-01-02T00:00:00.000000000",
          "2025-01-03T00:00:00.000000000",
          "2025-01-06T00:00:00.000000000",
          "2025-01-07T00:00:00.000000000",
          "2025-01-08T00:00:00.000000000",
          "2025-01-09T00:00:00.000000000",
          "2025-01-10T00:00:00.000000000",
          "2025-01-13T00:00:00.000000000",
          "2025-01-14T00:00:00.000000000",
          "2025-01-15T00:00:00.000000000",
          "2025-01-16T00:00:00.000000000",
          "2025-01-17T00:00:00.000000000",
          "2025-01-20T00:00:00.000000000",
          "2025-01-21T00:00:00.000000000",
          "2025-01-22T00:00:00.000000000",
          "2025-01-23T00:00:00.000000000",
          "2025-01-24T00:00:00.000000000",
          "2025-01-27T00:00:00.000000000",
          "2025-01-28T00:00:00.000000000",
          "2025-01-29T00:00:00.000000000",
          "2025-01-30T00:00:00.000000000",
          "2025-01-31T00:00:00.000000000",
          "2025-02-01T00:00:00.000000000",
          "2025-02-03T00:00:00.000000000",
          "2025-02-04T00:00:00.000000000",
          "2025-02-05T00:00:00.000000000",
          "2025-02-06T00:00:00.000000000",
          "2025-02-07T00:00:00.000000000",
          "2025-02-10T00:00:00.000000000",
          "2025-02-11T00:00:00.000000000",
          "2025-02-12T00:00:00.000000000",
          "2025-02-13T00:00:00.000000000",
          "2025-02-14T00:00:00.000000000",
          "2025-02-17T00:00:00.000000000",
          "2025-02-18T00:00:00.000000000",
          "2025-02-19T00:00:00.000000000",
          "2025-02-20T00:00:00.000000000",
          "2025-02-21T00:00:00.000000000",
          "2025-02-24T00:00:00.000000000",
          "2025-02-25T00:00:00.000000000",
          "2025-02-27T00:00:00.000000000",
          "2025-02-28T00:00:00.000000000",
          "2025-03-03T00:00:00.000000000",
          "2025-03-04T00:00:00.000000000",
          "2025-03-05T00:00:00.000000000",
          "2025-03-06T00:00:00.000000000",
          "2025-03-07T00:00:00.000000000",
          "2025-03-10T00:00:00.000000000",
          "2025-03-11T00:00:00.000000000",
          "2025-03-12T00:00:00.000000000",
          "2025-03-13T00:00:00.000000000",
          "2025-03-17T00:00:00.000000000",
          "2025-03-18T00:00:00.000000000",
          "2025-03-19T00:00:00.000000000",
          "2025-03-20T00:00:00.000000000",
          "2025-03-21T00:00:00.000000000",
          "2025-03-24T00:00:00.000000000",
          "2025-03-25T00:00:00.000000000",
          "2025-03-26T00:00:00.000000000",
          "2025-03-27T00:00:00.000000000",
          "2025-03-28T00:00:00.000000000",
          "2025-04-01T00:00:00.000000000",
          "2025-04-02T00:00:00.000000000",
          "2025-04-03T00:00:00.000000000",
          "2025-04-04T00:00:00.000000000",
          "2025-04-07T00:00:00.000000000",
          "2025-04-08T00:00:00.000000000",
          "2025-04-09T00:00:00.000000000",
          "2025-04-11T00:00:00.000000000",
          "2025-04-15T00:00:00.000000000",
          "2025-04-16T00:00:00.000000000",
          "2025-04-17T00:00:00.000000000",
          "2025-04-21T00:00:00.000000000",
          "2025-04-22T00:00:00.000000000",
          "2025-04-23T00:00:00.000000000",
          "2025-04-24T00:00:00.000000000",
          "2025-04-25T00:00:00.000000000",
          "2025-04-28T00:00:00.000000000",
          "2025-04-29T00:00:00.000000000",
          "2025-04-30T00:00:00.000000000",
          "2025-05-02T00:00:00.000000000",
          "2025-05-05T00:00:00.000000000",
          "2025-05-06T00:00:00.000000000",
          "2025-05-07T00:00:00.000000000",
          "2025-05-08T00:00:00.000000000",
          "2025-05-09T00:00:00.000000000",
          "2025-05-12T00:00:00.000000000",
          "2025-05-13T00:00:00.000000000",
          "2025-05-14T00:00:00.000000000",
          "2025-05-15T00:00:00.000000000",
          "2025-05-16T00:00:00.000000000",
          "2025-05-19T00:00:00.000000000",
          "2025-05-20T00:00:00.000000000",
          "2025-05-21T00:00:00.000000000",
          "2025-05-22T00:00:00.000000000",
          "2025-05-23T00:00:00.000000000",
          "2025-05-26T00:00:00.000000000",
          "2025-05-27T00:00:00.000000000",
          "2025-05-28T00:00:00.000000000",
          "2025-05-29T00:00:00.000000000",
          "2025-05-30T00:00:00.000000000",
          "2025-06-02T00:00:00.000000000",
          "2025-06-03T00:00:00.000000000",
          "2025-06-04T00:00:00.000000000",
          "2025-06-05T00:00:00.000000000",
          "2025-06-06T00:00:00.000000000",
          "2025-06-09T00:00:00.000000000",
          "2025-06-10T00:00:00.000000000",
          "2025-06-11T00:00:00.000000000",
          "2025-06-12T00:00:00.000000000",
          "2025-06-13T00:00:00.000000000",
          "2025-06-16T00:00:00.000000000",
          "2025-06-17T00:00:00.000000000",
          "2025-06-18T00:00:00.000000000",
          "2025-06-19T00:00:00.000000000",
          "2025-06-20T00:00:00.000000000",
          "2025-06-23T00:00:00.000000000",
          "2025-06-24T00:00:00.000000000",
          "2025-06-25T00:00:00.000000000",
          "2025-06-26T00:00:00.000000000",
          "2025-06-27T00:00:00.000000000",
          "2025-06-30T00:00:00.000000000",
          "2025-07-01T00:00:00.000000000",
          "2025-07-02T00:00:00.000000000",
          "2025-07-03T00:00:00.000000000",
          "2025-07-04T00:00:00.000000000",
          "2025-07-07T00:00:00.000000000",
          "2025-07-08T00:00:00.000000000",
          "2025-07-09T00:00:00.000000000",
          "2025-07-10T00:00:00.000000000",
          "2025-07-11T00:00:00.000000000",
          "2025-07-14T00:00:00.000000000",
          "2025-07-15T00:00:00.000000000",
          "2025-07-16T00:00:00.000000000",
          "2025-07-17T00:00:00.000000000",
          "2025-07-18T00:00:00.000000000",
          "2025-07-21T00:00:00.000000000",
          "2025-07-22T00:00:00.000000000",
          "2025-07-23T00:00:00.000000000",
          "2025-07-24T00:00:00.000000000",
          "2025-07-25T00:00:00.000000000",
          "2025-07-28T00:00:00.000000000",
          "2025-07-29T00:00:00.000000000",
          "2025-07-30T00:00:00.000000000",
          "2025-07-31T00:00:00.000000000",
          "2025-08-01T00:00:00.000000000",
          "2025-08-04T00:00:00.000000000",
          "2025-08-05T00:00:00.000000000",
          "2025-08-06T00:00:00.000000000",
          "2025-08-07T00:00:00.000000000",
          "2025-08-08T00:00:00.000000000",
          "2025-08-11T00:00:00.000000000",
          "2025-08-12T00:00:00.000000000",
          "2025-08-13T00:00:00.000000000",
          "2025-08-14T00:00:00.000000000",
          "2025-08-18T00:00:00.000000000",
          "2025-08-19T00:00:00.000000000",
          "2025-08-20T00:00:00.000000000",
          "2025-08-21T00:00:00.000000000",
          "2025-08-22T00:00:00.000000000",
          "2025-08-25T00:00:00.000000000",
          "2025-08-26T00:00:00.000000000",
          "2025-08-27T00:00:00.000000000",
          "2025-08-28T00:00:00.000000000",
          "2025-08-29T00:00:00.000000000",
          "2025-09-01T00:00:00.000000000",
          "2025-09-02T00:00:00.000000000",
          "2025-09-03T00:00:00.000000000",
          "2025-09-04T00:00:00.000000000",
          "2025-09-05T00:00:00.000000000",
          "2025-09-08T00:00:00.000000000",
          "2025-09-09T00:00:00.000000000",
          "2025-09-10T00:00:00.000000000",
          "2025-09-11T00:00:00.000000000",
          "2025-09-12T00:00:00.000000000",
          "2025-09-15T00:00:00.000000000",
          "2025-09-16T00:00:00.000000000",
          "2025-09-17T00:00:00.000000000",
          "2025-09-18T00:00:00.000000000",
          "2025-09-19T00:00:00.000000000",
          "2025-09-22T00:00:00.000000000",
          "2025-09-23T00:00:00.000000000",
          "2025-09-24T00:00:00.000000000",
          "2025-09-25T00:00:00.000000000",
          "2025-09-26T00:00:00.000000000",
          "2025-09-29T00:00:00.000000000",
          "2025-09-30T00:00:00.000000000",
          "2025-10-01T00:00:00.000000000",
          "2025-10-02T00:00:00.000000000",
          "2025-10-03T00:00:00.000000000",
          "2025-10-06T00:00:00.000000000"
         ],
         "xaxis": "x",
         "y": {
          "bdata": "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",
          "dtype": "f8"
         },
         "yaxis": "y"
        },
        {
         "hovertemplate": "Actual: INR %{y:.2f}<extra></extra>",
         "line": {
          "color": "black",
          "width": 2
         },
         "name": "Actual",
         "showlegend": false,
         "type": "scatter",
         "x": [
          "2022-12-08T00:00:00.000000000",
          "2022-12-09T00:00:00.000000000",
          "2022-12-12T00:00:00.000000000",
          "2022-12-13T00:00:00.000000000",
          "2022-12-14T00:00:00.000000000",
          "2022-12-15T00:00:00.000000000",
          "2022-12-16T00:00:00.000000000",
          "2022-12-19T00:00:00.000000000",
          "2022-12-20T00:00:00.000000000",
          "2022-12-21T00:00:00.000000000",
          "2022-12-22T00:00:00.000000000",
          "2022-12-23T00:00:00.000000000",
          "2022-12-26T00:00:00.000000000",
          "2022-12-27T00:00:00.000000000",
          "2022-12-28T00:00:00.000000000",
          "2022-12-29T00:00:00.000000000",
          "2022-12-30T00:00:00.000000000",
          "2023-01-02T00:00:00.000000000",
          "2023-01-03T00:00:00.000000000",
          "2023-01-04T00:00:00.000000000",
          "2023-01-05T00:00:00.000000000",
          "2023-01-06T00:00:00.000000000",
          "2023-01-09T00:00:00.000000000",
          "2023-01-10T00:00:00.000000000",
          "2023-01-11T00:00:00.000000000",
          "2023-01-12T00:00:00.000000000",
          "2023-01-13T00:00:00.000000000",
          "2023-01-16T00:00:00.000000000",
          "2023-01-17T00:00:00.000000000",
          "2023-01-18T00:00:00.000000000",
          "2023-01-19T00:00:00.000000000",
          "2023-01-20T00:00:00.000000000",
          "2023-01-23T00:00:00.000000000",
          "2023-01-24T00:00:00.000000000",
          "2023-01-25T00:00:00.000000000",
          "2023-01-27T00:00:00.000000000",
          "2023-01-30T00:00:00.000000000",
          "2023-01-31T00:00:00.000000000",
          "2023-02-01T00:00:00.000000000",
          "2023-02-02T00:00:00.000000000",
          "2023-02-03T00:00:00.000000000",
          "2023-02-06T00:00:00.000000000",
          "2023-02-07T00:00:00.000000000",
          "2023-02-08T00:00:00.000000000",
          "2023-02-09T00:00:00.000000000",
          "2023-02-10T00:00:00.000000000",
          "2023-02-13T00:00:00.000000000",
          "2023-02-14T00:00:00.000000000",
          "2023-02-15T00:00:00.000000000",
          "2023-02-16T00:00:00.000000000",
          "2023-02-17T00:00:00.000000000",
          "2023-02-20T00:00:00.000000000",
          "2023-02-21T00:00:00.000000000",
          "2023-02-22T00:00:00.000000000",
          "2023-02-23T00:00:00.000000000",
          "2023-02-24T00:00:00.000000000",
          "2023-02-27T00:00:00.000000000",
          "2023-02-28T00:00:00.000000000",
          "2023-03-01T00:00:00.000000000",
          "2023-03-02T00:00:00.000000000",
          "2023-03-03T00:00:00.000000000",
          "2023-03-06T00:00:00.000000000",
          "2023-03-08T00:00:00.000000000",
          "2023-03-09T00:00:00.000000000",
          "2023-03-10T00:00:00.000000000",
          "2023-03-13T00:00:00.000000000",
          "2023-03-14T00:00:00.000000000",
          "2023-03-15T00:00:00.000000000",
          "2023-03-16T00:00:00.000000000",
          "2023-03-17T00:00:00.000000000",
          "2023-03-20T00:00:00.000000000",
          "2023-03-21T00:00:00.000000000",
          "2023-03-22T00:00:00.000000000",
          "2023-03-23T00:00:00.000000000",
          "2023-03-24T00:00:00.000000000",
          "2023-03-27T00:00:00.000000000",
          "2023-03-28T00:00:00.000000000",
          "2023-03-29T00:00:00.000000000",
          "2023-03-31T00:00:00.000000000",
          "2023-04-03T00:00:00.000000000",
          "2023-04-05T00:00:00.000000000",
          "2023-04-06T00:00:00.000000000",
          "2023-04-10T00:00:00.000000000",
          "2023-04-11T00:00:00.000000000",
          "2023-04-12T00:00:00.000000000",
          "2023-04-13T00:00:00.000000000",
          "2023-04-17T00:00:00.000000000",
          "2023-04-18T00:00:00.000000000",
          "2023-04-19T00:00:00.000000000",
          "2023-04-20T00:00:00.000000000",
          "2023-04-21T00:00:00.000000000",
          "2023-04-24T00:00:00.000000000",
          "2023-04-25T00:00:00.000000000",
          "2023-04-26T00:00:00.000000000",
          "2023-04-27T00:00:00.000000000",
          "2023-04-28T00:00:00.000000000",
          "2023-05-02T00:00:00.000000000",
          "2023-05-03T00:00:00.000000000",
          "2023-05-04T00:00:00.000000000",
          "2023-05-05T00:00:00.000000000",
          "2023-05-08T00:00:00.000000000",
          "2023-05-09T00:00:00.000000000",
          "2023-05-10T00:00:00.000000000",
          "2023-05-11T00:00:00.000000000",
          "2023-05-12T00:00:00.000000000",
          "2023-05-15T00:00:00.000000000",
          "2023-05-16T00:00:00.000000000",
          "2023-05-17T00:00:00.000000000",
          "2023-05-18T00:00:00.000000000",
          "2023-05-19T00:00:00.000000000",
          "2023-05-22T00:00:00.000000000",
          "2023-05-23T00:00:00.000000000",
          "2023-05-24T00:00:00.000000000",
          "2023-05-25T00:00:00.000000000",
          "2023-05-26T00:00:00.000000000",
          "2023-05-29T00:00:00.000000000",
          "2023-05-30T00:00:00.000000000",
          "2023-05-31T00:00:00.000000000",
          "2023-06-01T00:00:00.000000000",
          "2023-06-02T00:00:00.000000000",
          "2023-06-05T00:00:00.000000000",
          "2023-06-06T00:00:00.000000000",
          "2023-06-07T00:00:00.000000000",
          "2023-06-08T00:00:00.000000000",
          "2023-06-09T00:00:00.000000000",
          "2023-06-12T00:00:00.000000000",
          "2023-06-13T00:00:00.000000000",
          "2023-06-14T00:00:00.000000000",
          "2023-06-15T00:00:00.000000000",
          "2023-06-16T00:00:00.000000000",
          "2023-06-19T00:00:00.000000000",
          "2023-06-20T00:00:00.000000000",
          "2023-06-21T00:00:00.000000000",
          "2023-06-22T00:00:00.000000000",
          "2023-06-23T00:00:00.000000000",
          "2023-06-26T00:00:00.000000000",
          "2023-06-27T00:00:00.000000000",
          "2023-06-28T00:00:00.000000000",
          "2023-06-30T00:00:00.000000000",
          "2023-07-03T00:00:00.000000000",
          "2023-07-04T00:00:00.000000000",
          "2023-07-05T00:00:00.000000000",
          "2023-07-06T00:00:00.000000000",
          "2023-07-07T00:00:00.000000000",
          "2023-07-10T00:00:00.000000000",
          "2023-07-11T00:00:00.000000000",
          "2023-07-12T00:00:00.000000000",
          "2023-07-13T00:00:00.000000000",
          "2023-07-14T00:00:00.000000000",
          "2023-07-17T00:00:00.000000000",
          "2023-07-18T00:00:00.000000000",
          "2023-07-19T00:00:00.000000000",
          "2023-07-20T00:00:00.000000000",
          "2023-07-21T00:00:00.000000000",
          "2023-07-24T00:00:00.000000000",
          "2023-07-25T00:00:00.000000000",
          "2023-07-26T00:00:00.000000000",
          "2023-07-27T00:00:00.000000000",
          "2023-07-28T00:00:00.000000000",
          "2023-07-31T00:00:00.000000000",
          "2023-08-01T00:00:00.000000000",
          "2023-08-02T00:00:00.000000000",
          "2023-08-03T00:00:00.000000000",
          "2023-08-04T00:00:00.000000000",
          "2023-08-07T00:00:00.000000000",
          "2023-08-08T00:00:00.000000000",
          "2023-08-09T00:00:00.000000000",
          "2023-08-10T00:00:00.000000000",
          "2023-08-11T00:00:00.000000000",
          "2023-08-14T00:00:00.000000000",
          "2023-08-16T00:00:00.000000000",
          "2023-08-17T00:00:00.000000000",
          "2023-08-18T00:00:00.000000000",
          "2023-08-21T00:00:00.000000000",
          "2023-08-22T00:00:00.000000000",
          "2023-08-23T00:00:00.000000000",
          "2023-08-24T00:00:00.000000000",
          "2023-08-25T00:00:00.000000000",
          "2023-08-28T00:00:00.000000000",
          "2023-08-29T00:00:00.000000000",
          "2023-08-30T00:00:00.000000000",
          "2023-08-31T00:00:00.000000000",
          "2023-09-01T00:00:00.000000000",
          "2023-09-04T00:00:00.000000000",
          "2023-09-05T00:00:00.000000000",
          "2023-09-06T00:00:00.000000000",
          "2023-09-07T00:00:00.000000000",
          "2023-09-08T00:00:00.000000000",
          "2023-09-11T00:00:00.000000000",
          "2023-09-12T00:00:00.000000000",
          "2023-09-13T00:00:00.000000000",
          "2023-09-14T00:00:00.000000000",
          "2023-09-15T00:00:00.000000000",
          "2023-09-18T00:00:00.000000000",
          "2023-09-20T00:00:00.000000000",
          "2023-09-21T00:00:00.000000000",
          "2023-09-22T00:00:00.000000000",
          "2023-09-25T00:00:00.000000000",
          "2023-09-26T00:00:00.000000000",
          "2023-09-27T00:00:00.000000000",
          "2023-09-28T00:00:00.000000000",
          "2023-09-29T00:00:00.000000000",
          "2023-10-03T00:00:00.000000000",
          "2023-10-04T00:00:00.000000000",
          "2023-10-05T00:00:00.000000000",
          "2023-10-06T00:00:00.000000000",
          "2023-10-09T00:00:00.000000000",
          "2023-10-10T00:00:00.000000000",
          "2023-10-11T00:00:00.000000000",
          "2023-10-12T00:00:00.000000000",
          "2023-10-13T00:00:00.000000000",
          "2023-10-16T00:00:00.000000000",
          "2023-10-17T00:00:00.000000000",
          "2023-10-18T00:00:00.000000000",
          "2023-10-19T00:00:00.000000000",
          "2023-10-20T00:00:00.000000000",
          "2023-10-23T00:00:00.000000000",
          "2023-10-25T00:00:00.000000000",
          "2023-10-26T00:00:00.000000000",
          "2023-10-27T00:00:00.000000000",
          "2023-10-30T00:00:00.000000000",
          "2023-10-31T00:00:00.000000000",
          "2023-11-01T00:00:00.000000000",
          "2023-11-02T00:00:00.000000000",
          "2023-11-03T00:00:00.000000000",
          "2023-11-06T00:00:00.000000000",
          "2023-11-07T00:00:00.000000000",
          "2023-11-08T00:00:00.000000000",
          "2023-11-09T00:00:00.000000000",
          "2023-11-10T00:00:00.000000000",
          "2023-11-13T00:00:00.000000000",
          "2023-11-15T00:00:00.000000000",
          "2023-11-16T00:00:00.000000000",
          "2023-11-17T00:00:00.000000000",
          "2023-11-20T00:00:00.000000000",
          "2023-11-21T00:00:00.000000000",
          "2023-11-22T00:00:00.000000000",
          "2023-11-23T00:00:00.000000000",
          "2023-11-24T00:00:00.000000000",
          "2023-11-28T00:00:00.000000000",
          "2023-11-29T00:00:00.000000000",
          "2023-11-30T00:00:00.000000000",
          "2023-12-01T00:00:00.000000000",
          "2023-12-04T00:00:00.000000000",
          "2023-12-05T00:00:00.000000000",
          "2023-12-06T00:00:00.000000000",
          "2023-12-07T00:00:00.000000000",
          "2023-12-08T00:00:00.000000000",
          "2023-12-11T00:00:00.000000000",
          "2023-12-12T00:00:00.000000000",
          "2023-12-13T00:00:00.000000000",
          "2023-12-14T00:00:00.000000000",
          "2023-12-15T00:00:00.000000000",
          "2023-12-18T00:00:00.000000000",
          "2023-12-19T00:00:00.000000000",
          "2023-12-20T00:00:00.000000000",
          "2023-12-21T00:00:00.000000000",
          "2023-12-22T00:00:00.000000000",
          "2023-12-26T00:00:00.000000000",
          "2023-12-27T00:00:00.000000000",
          "2023-12-28T00:00:00.000000000",
          "2023-12-29T00:00:00.000000000",
          "2024-01-01T00:00:00.000000000",
          "2024-01-02T00:00:00.000000000",
          "2024-01-03T00:00:00.000000000",
          "2024-01-04T00:00:00.000000000",
          "2024-01-05T00:00:00.000000000",
          "2024-01-08T00:00:00.000000000",
          "2024-01-09T00:00:00.000000000",
          "2024-01-10T00:00:00.000000000",
          "2024-01-11T00:00:00.000000000",
          "2024-01-12T00:00:00.000000000",
          "2024-01-15T00:00:00.000000000",
          "2024-01-16T00:00:00.000000000",
          "2024-01-17T00:00:00.000000000",
          "2024-01-18T00:00:00.000000000",
          "2024-01-19T00:00:00.000000000",
          "2024-01-23T00:00:00.000000000",
          "2024-01-24T00:00:00.000000000",
          "2024-01-25T00:00:00.000000000",
          "2024-01-29T00:00:00.000000000",
          "2024-01-30T00:00:00.000000000",
          "2024-01-31T00:00:00.000000000",
          "2024-02-01T00:00:00.000000000",
          "2024-02-02T00:00:00.000000000",
          "2024-02-05T00:00:00.000000000",
          "2024-02-06T00:00:00.000000000",
          "2024-02-07T00:00:00.000000000",
          "2024-02-08T00:00:00.000000000",
          "2024-02-09T00:00:00.000000000",
          "2024-02-12T00:00:00.000000000",
          "2024-02-13T00:00:00.000000000",
          "2024-02-14T00:00:00.000000000",
          "2024-02-15T00:00:00.000000000",
          "2024-02-16T00:00:00.000000000",
          "2024-02-19T00:00:00.000000000",
          "2024-02-20T00:00:00.000000000",
          "2024-02-21T00:00:00.000000000",
          "2024-02-22T00:00:00.000000000",
          "2024-02-23T00:00:00.000000000",
          "2024-02-26T00:00:00.000000000",
          "2024-02-27T00:00:00.000000000",
          "2024-02-28T00:00:00.000000000",
          "2024-02-29T00:00:00.000000000",
          "2024-03-01T00:00:00.000000000",
          "2024-03-04T00:00:00.000000000",
          "2024-03-05T00:00:00.000000000",
          "2024-03-06T00:00:00.000000000",
          "2024-03-07T00:00:00.000000000",
          "2024-03-11T00:00:00.000000000",
          "2024-03-12T00:00:00.000000000",
          "2024-03-13T00:00:00.000000000",
          "2024-03-14T00:00:00.000000000",
          "2024-03-15T00:00:00.000000000",
          "2024-03-18T00:00:00.000000000",
          "2024-03-19T00:00:00.000000000",
          "2024-03-20T00:00:00.000000000",
          "2024-03-21T00:00:00.000000000",
          "2024-03-22T00:00:00.000000000",
          "2024-03-26T00:00:00.000000000",
          "2024-03-27T00:00:00.000000000",
          "2024-03-28T00:00:00.000000000",
          "2024-04-01T00:00:00.000000000",
          "2024-04-02T00:00:00.000000000",
          "2024-04-03T00:00:00.000000000",
          "2024-04-04T00:00:00.000000000",
          "2024-04-05T00:00:00.000000000",
          "2024-04-08T00:00:00.000000000",
          "2024-04-09T00:00:00.000000000",
          "2024-04-10T00:00:00.000000000",
          "2024-04-12T00:00:00.000000000",
          "2024-04-15T00:00:00.000000000",
          "2024-04-16T00:00:00.000000000",
          "2024-04-18T00:00:00.000000000",
          "2024-04-19T00:00:00.000000000",
          "2024-04-22T00:00:00.000000000",
          "2024-04-23T00:00:00.000000000",
          "2024-04-24T00:00:00.000000000",
          "2024-04-25T00:00:00.000000000",
          "2024-04-26T00:00:00.000000000",
          "2024-04-29T00:00:00.000000000",
          "2024-04-30T00:00:00.000000000",
          "2024-05-02T00:00:00.000000000",
          "2024-05-03T00:00:00.000000000",
          "2024-05-06T00:00:00.000000000",
          "2024-05-07T00:00:00.000000000",
          "2024-05-08T00:00:00.000000000",
          "2024-05-09T00:00:00.000000000",
          "2024-05-10T00:00:00.000000000",
          "2024-05-13T00:00:00.000000000",
          "2024-05-14T00:00:00.000000000",
          "2024-05-15T00:00:00.000000000",
          "2024-05-16T00:00:00.000000000",
          "2024-05-17T00:00:00.000000000",
          "2024-05-21T00:00:00.000000000",
          "2024-05-22T00:00:00.000000000",
          "2024-05-23T00:00:00.000000000",
          "2024-05-24T00:00:00.000000000",
          "2024-05-27T00:00:00.000000000",
          "2024-05-28T00:00:00.000000000",
          "2024-05-29T00:00:00.000000000",
          "2024-05-30T00:00:00.000000000",
          "2024-05-31T00:00:00.000000000",
          "2024-06-03T00:00:00.000000000",
          "2024-06-04T00:00:00.000000000",
          "2024-06-05T00:00:00.000000000",
          "2024-06-06T00:00:00.000000000",
          "2024-06-07T00:00:00.000000000",
          "2024-06-10T00:00:00.000000000",
          "2024-06-11T00:00:00.000000000",
          "2024-06-12T00:00:00.000000000",
          "2024-06-13T00:00:00.000000000",
          "2024-06-14T00:00:00.000000000",
          "2024-06-18T00:00:00.000000000",
          "2024-06-19T00:00:00.000000000",
          "2024-06-20T00:00:00.000000000",
          "2024-06-21T00:00:00.000000000",
          "2024-06-24T00:00:00.000000000",
          "2024-06-25T00:00:00.000000000",
          "2024-06-26T00:00:00.000000000",
          "2024-06-27T00:00:00.000000000",
          "2024-06-28T00:00:00.000000000",
          "2024-07-01T00:00:00.000000000",
          "2024-07-02T00:00:00.000000000",
          "2024-07-03T00:00:00.000000000",
          "2024-07-04T00:00:00.000000000",
          "2024-07-05T00:00:00.000000000",
          "2024-07-08T00:00:00.000000000",
          "2024-07-09T00:00:00.000000000",
          "2024-07-10T00:00:00.000000000",
          "2024-07-11T00:00:00.000000000",
          "2024-07-12T00:00:00.000000000",
          "2024-07-15T00:00:00.000000000",
          "2024-07-16T00:00:00.000000000",
          "2024-07-18T00:00:00.000000000",
          "2024-07-19T00:00:00.000000000",
          "2024-07-22T00:00:00.000000000",
          "2024-07-23T00:00:00.000000000",
          "2024-07-24T00:00:00.000000000",
          "2024-07-25T00:00:00.000000000",
          "2024-07-26T00:00:00.000000000",
          "2024-07-29T00:00:00.000000000",
          "2024-07-30T00:00:00.000000000",
          "2024-07-31T00:00:00.000000000",
          "2024-08-01T00:00:00.000000000",
          "2024-08-02T00:00:00.000000000",
          "2024-08-05T00:00:00.000000000",
          "2024-08-06T00:00:00.000000000",
          "2024-08-07T00:00:00.000000000",
          "2024-08-08T00:00:00.000000000",
          "2024-08-09T00:00:00.000000000",
          "2024-08-12T00:00:00.000000000",
          "2024-08-13T00:00:00.000000000",
          "2024-08-14T00:00:00.000000000",
          "2024-08-16T00:00:00.000000000",
          "2024-08-19T00:00:00.000000000",
          "2024-08-20T00:00:00.000000000",
          "2024-08-21T00:00:00.000000000",
          "2024-08-22T00:00:00.000000000",
          "2024-08-23T00:00:00.000000000",
          "2024-08-26T00:00:00.000000000",
          "2024-08-27T00:00:00.000000000",
          "2024-08-28T00:00:00.000000000",
          "2024-08-29T00:00:00.000000000",
          "2024-08-30T00:00:00.000000000",
          "2024-09-02T00:00:00.000000000",
          "2024-09-03T00:00:00.000000000",
          "2024-09-04T00:00:00.000000000",
          "2024-09-05T00:00:00.000000000",
          "2024-09-06T00:00:00.000000000",
          "2024-09-09T00:00:00.000000000",
          "2024-09-10T00:00:00.000000000",
          "2024-09-11T00:00:00.000000000",
          "2024-09-12T00:00:00.000000000",
          "2024-09-13T00:00:00.000000000",
          "2024-09-16T00:00:00.000000000",
          "2024-09-17T00:00:00.000000000",
          "2024-09-18T00:00:00.000000000",
          "2024-09-19T00:00:00.000000000",
          "2024-09-20T00:00:00.000000000",
          "2024-09-23T00:00:00.000000000",
          "2024-09-24T00:00:00.000000000",
          "2024-09-25T00:00:00.000000000",
          "2024-09-26T00:00:00.000000000",
          "2024-09-27T00:00:00.000000000",
          "2024-09-30T00:00:00.000000000",
          "2024-10-01T00:00:00.000000000",
          "2024-10-03T00:00:00.000000000",
          "2024-10-04T00:00:00.000000000",
          "2024-10-07T00:00:00.000000000",
          "2024-10-08T00:00:00.000000000",
          "2024-10-09T00:00:00.000000000",
          "2024-10-10T00:00:00.000000000",
          "2024-10-11T00:00:00.000000000",
          "2024-10-14T00:00:00.000000000",
          "2024-10-15T00:00:00.000000000",
          "2024-10-16T00:00:00.000000000",
          "2024-10-17T00:00:00.000000000",
          "2024-10-18T00:00:00.000000000",
          "2024-10-21T00:00:00.000000000",
          "2024-10-22T00:00:00.000000000",
          "2024-10-23T00:00:00.000000000",
          "2024-10-24T00:00:00.000000000",
          "2024-10-25T00:00:00.000000000",
          "2024-10-28T00:00:00.000000000",
          "2024-10-29T00:00:00.000000000",
          "2024-10-30T00:00:00.000000000",
          "2024-10-31T00:00:00.000000000",
          "2024-11-01T00:00:00.000000000",
          "2024-11-04T00:00:00.000000000",
          "2024-11-05T00:00:00.000000000",
          "2024-11-06T00:00:00.000000000",
          "2024-11-07T00:00:00.000000000",
          "2024-11-08T00:00:00.000000000",
          "2024-11-11T00:00:00.000000000",
          "2024-11-12T00:00:00.000000000",
          "2024-11-13T00:00:00.000000000",
          "2024-11-14T00:00:00.000000000",
          "2024-11-18T00:00:00.000000000",
          "2024-11-19T00:00:00.000000000",
          "2024-11-21T00:00:00.000000000",
          "2024-11-22T00:00:00.000000000",
          "2024-11-25T00:00:00.000000000",
          "2024-11-26T00:00:00.000000000",
          "2024-11-27T00:00:00.000000000",
          "2024-11-28T00:00:00.000000000",
          "2024-11-29T00:00:00.000000000",
          "2024-12-02T00:00:00.000000000",
          "2024-12-03T00:00:00.000000000",
          "2024-12-04T00:00:00.000000000",
          "2024-12-05T00:00:00.000000000",
          "2024-12-06T00:00:00.000000000",
          "2024-12-09T00:00:00.000000000",
          "2024-12-10T00:00:00.000000000",
          "2024-12-11T00:00:00.000000000",
          "2024-12-12T00:00:00.000000000",
          "2024-12-13T00:00:00.000000000",
          "2024-12-16T00:00:00.000000000",
          "2024-12-17T00:00:00.000000000",
          "2024-12-18T00:00:00.000000000",
          "2024-12-19T00:00:00.000000000",
          "2024-12-20T00:00:00.000000000",
          "2024-12-23T00:00:00.000000000",
          "2024-12-24T00:00:00.000000000",
          "2024-12-26T00:00:00.000000000",
          "2024-12-27T00:00:00.000000000",
          "2024-12-30T00:00:00.000000000",
          "2024-12-31T00:00:00.000000000",
          "2025-01-01T00:00:00.000000000",
          "2025-01-02T00:00:00.000000000",
          "2025-01-03T00:00:00.000000000",
          "2025-01-06T00:00:00.000000000",
          "2025-01-07T00:00:00.000000000",
          "2025-01-08T00:00:00.000000000",
          "2025-01-09T00:00:00.000000000",
          "2025-01-10T00:00:00.000000000",
          "2025-01-13T00:00:00.000000000",
          "2025-01-14T00:00:00.000000000",
          "2025-01-15T00:00:00.000000000",
          "2025-01-16T00:00:00.000000000",
          "2025-01-17T00:00:00.000000000",
          "2025-01-20T00:00:00.000000000",
          "2025-01-21T00:00:00.000000000",
          "2025-01-22T00:00:00.000000000",
          "2025-01-23T00:00:00.000000000",
          "2025-01-24T00:00:00.000000000",
          "2025-01-27T00:00:00.000000000",
          "2025-01-28T00:00:00.000000000",
          "2025-01-29T00:00:00.000000000",
          "2025-01-30T00:00:00.000000000",
          "2025-01-31T00:00:00.000000000",
          "2025-02-01T00:00:00.000000000",
          "2025-02-03T00:00:00.000000000",
          "2025-02-04T00:00:00.000000000",
          "2025-02-05T00:00:00.000000000",
          "2025-02-06T00:00:00.000000000",
          "2025-02-07T00:00:00.000000000",
          "2025-02-10T00:00:00.000000000",
          "2025-02-11T00:00:00.000000000",
          "2025-02-12T00:00:00.000000000",
          "2025-02-13T00:00:00.000000000",
          "2025-02-14T00:00:00.000000000",
          "2025-02-17T00:00:00.000000000",
          "2025-02-18T00:00:00.000000000",
          "2025-02-19T00:00:00.000000000",
          "2025-02-20T00:00:00.000000000",
          "2025-02-21T00:00:00.000000000",
          "2025-02-24T00:00:00.000000000",
          "2025-02-25T00:00:00.000000000",
          "2025-02-27T00:00:00.000000000",
          "2025-02-28T00:00:00.000000000",
          "2025-03-03T00:00:00.000000000",
          "2025-03-04T00:00:00.000000000",
          "2025-03-05T00:00:00.000000000",
          "2025-03-06T00:00:00.000000000",
          "2025-03-07T00:00:00.000000000",
          "2025-03-10T00:00:00.000000000",
          "2025-03-11T00:00:00.000000000",
          "2025-03-12T00:00:00.000000000",
          "2025-03-13T00:00:00.000000000",
          "2025-03-17T00:00:00.000000000",
          "2025-03-18T00:00:00.000000000",
          "2025-03-19T00:00:00.000000000",
          "2025-03-20T00:00:00.000000000",
          "2025-03-21T00:00:00.000000000",
          "2025-03-24T00:00:00.000000000",
          "2025-03-25T00:00:00.000000000",
          "2025-03-26T00:00:00.000000000",
          "2025-03-27T00:00:00.000000000",
          "2025-03-28T00:00:00.000000000",
          "2025-04-01T00:00:00.000000000",
          "2025-04-02T00:00:00.000000000",
          "2025-04-03T00:00:00.000000000",
          "2025-04-04T00:00:00.000000000",
          "2025-04-07T00:00:00.000000000",
          "2025-04-08T00:00:00.000000000",
          "2025-04-09T00:00:00.000000000",
          "2025-04-11T00:00:00.000000000",
          "2025-04-15T00:00:00.000000000",
          "2025-04-16T00:00:00.000000000",
          "2025-04-17T00:00:00.000000000",
          "2025-04-21T00:00:00.000000000",
          "2025-04-22T00:00:00.000000000",
          "2025-04-23T00:00:00.000000000",
          "2025-04-24T00:00:00.000000000",
          "2025-04-25T00:00:00.000000000",
          "2025-04-28T00:00:00.000000000",
          "2025-04-29T00:00:00.000000000",
          "2025-04-30T00:00:00.000000000",
          "2025-05-02T00:00:00.000000000",
          "2025-05-05T00:00:00.000000000",
          "2025-05-06T00:00:00.000000000",
          "2025-05-07T00:00:00.000000000",
          "2025-05-08T00:00:00.000000000",
          "2025-05-09T00:00:00.000000000",
          "2025-05-12T00:00:00.000000000",
          "2025-05-13T00:00:00.000000000",
          "2025-05-14T00:00:00.000000000",
          "2025-05-15T00:00:00.000000000",
          "2025-05-16T00:00:00.000000000",
          "2025-05-19T00:00:00.000000000",
          "2025-05-20T00:00:00.000000000",
          "2025-05-21T00:00:00.000000000",
          "2025-05-22T00:00:00.000000000",
          "2025-05-23T00:00:00.000000000",
          "2025-05-26T00:00:00.000000000",
          "2025-05-27T00:00:00.000000000",
          "2025-05-28T00:00:00.000000000",
          "2025-05-29T00:00:00.000000000",
          "2025-05-30T00:00:00.000000000",
          "2025-06-02T00:00:00.000000000",
          "2025-06-03T00:00:00.000000000",
          "2025-06-04T00:00:00.000000000",
          "2025-06-05T00:00:00.000000000",
          "2025-06-06T00:00:00.000000000",
          "2025-06-09T00:00:00.000000000",
          "2025-06-10T00:00:00.000000000",
          "2025-06-11T00:00:00.000000000",
          "2025-06-12T00:00:00.000000000",
          "2025-06-13T00:00:00.000000000",
          "2025-06-16T00:00:00.000000000",
          "2025-06-17T00:00:00.000000000",
          "2025-06-18T00:00:00.000000000",
          "2025-06-19T00:00:00.000000000",
          "2025-06-20T00:00:00.000000000",
          "2025-06-23T00:00:00.000000000",
          "2025-06-24T00:00:00.000000000",
          "2025-06-25T00:00:00.000000000",
          "2025-06-26T00:00:00.000000000",
          "2025-06-27T00:00:00.000000000",
          "2025-06-30T00:00:00.000000000",
          "2025-07-01T00:00:00.000000000",
          "2025-07-02T00:00:00.000000000",
          "2025-07-03T00:00:00.000000000",
          "2025-07-04T00:00:00.000000000",
          "2025-07-07T00:00:00.000000000",
          "2025-07-08T00:00:00.000000000",
          "2025-07-09T00:00:00.000000000",
          "2025-07-10T00:00:00.000000000",
          "2025-07-11T00:00:00.000000000",
          "2025-07-14T00:00:00.000000000",
          "2025-07-15T00:00:00.000000000",
          "2025-07-16T00:00:00.000000000",
          "2025-07-17T00:00:00.000000000",
          "2025-07-18T00:00:00.000000000",
          "2025-07-21T00:00:00.000000000",
          "2025-07-22T00:00:00.000000000",
          "2025-07-23T00:00:00.000000000",
          "2025-07-24T00:00:00.000000000",
          "2025-07-25T00:00:00.000000000",
          "2025-07-28T00:00:00.000000000",
          "2025-07-29T00:00:00.000000000",
          "2025-07-30T00:00:00.000000000",
          "2025-07-31T00:00:00.000000000",
          "2025-08-01T00:00:00.000000000",
          "2025-08-04T00:00:00.000000000",
          "2025-08-05T00:00:00.000000000",
          "2025-08-06T00:00:00.000000000",
          "2025-08-07T00:00:00.000000000",
          "2025-08-08T00:00:00.000000000",
          "2025-08-11T00:00:00.000000000",
          "2025-08-12T00:00:00.000000000",
          "2025-08-13T00:00:00.000000000",
          "2025-08-14T00:00:00.000000000",
          "2025-08-18T00:00:00.000000000",
          "2025-08-19T00:00:00.000000000",
          "2025-08-20T00:00:00.000000000",
          "2025-08-21T00:00:00.000000000",
          "2025-08-22T00:00:00.000000000",
          "2025-08-25T00:00:00.000000000",
          "2025-08-26T00:00:00.000000000",
          "2025-08-27T00:00:00.000000000",
          "2025-08-28T00:00:00.000000000",
          "2025-08-29T00:00:00.000000000",
          "2025-09-01T00:00:00.000000000",
          "2025-09-02T00:00:00.000000000",
          "2025-09-03T00:00:00.000000000",
          "2025-09-04T00:00:00.000000000",
          "2025-09-05T00:00:00.000000000",
          "2025-09-08T00:00:00.000000000",
          "2025-09-09T00:00:00.000000000",
          "2025-09-10T00:00:00.000000000",
          "2025-09-11T00:00:00.000000000",
          "2025-09-12T00:00:00.000000000",
          "2025-09-15T00:00:00.000000000",
          "2025-09-16T00:00:00.000000000",
          "2025-09-17T00:00:00.000000000",
          "2025-09-18T00:00:00.000000000",
          "2025-09-19T00:00:00.000000000",
          "2025-09-22T00:00:00.000000000",
          "2025-09-23T00:00:00.000000000",
          "2025-09-24T00:00:00.000000000",
          "2025-09-25T00:00:00.000000000",
          "2025-09-26T00:00:00.000000000",
          "2025-09-29T00:00:00.000000000",
          "2025-09-30T00:00:00.000000000",
          "2025-10-01T00:00:00.000000000",
          "2025-10-02T00:00:00.000000000",
          "2025-10-03T00:00:00.000000000",
          "2025-10-06T00:00:00.000000000"
         ],
         "xaxis": "x2",
         "y": {
          "bdata": "AAAA4EEOqEAAAABgBaSnQAAAAABxmKdAAAAAYFjsp0AAAACAdSmoQAAAAIC4uqdAAAAAwIZDp0AAAADgUP2mQAAAAMBTSqdAAAAAwIp3p0AAAADARmenQAAAAMCnLadAAAAA4MZap0AAAACA6GanQAAAAEB/YqdAAAAA4Oh3p0AAAADgwmGnQAAAAAB+aqdAAAAAYDXGp0AAAAAARsynQAAAAKC/xadAAAAA4MYOp0AAAACgA9anQAAAAKBZmKdAAAAAoBjmp0AAAABAe/CnQAAAAGBeOqhAAAAAYDh7qEAAAABgls6oQAAAAKBk5KhAAAAAIKDEqEAAAADA07GoQAAAAAAzE6lAAAAAAG07qUAAAADgHC+pQAAAAED2C6lAAAAAwHE2qUAAAACAjqmoQAAAAODiBqlAAAAAQLpoqUAAAAAA5ZGpQAAAAKDhZ6lAAAAAIJF/qUAAAABA89ipQAAAAID0/6lAAAAAYMD5qUAAAADgFJKpQAAAAMBas6lAAAAAwPvZqUAAAABgSSCqQAAAAABUtalAAAAAIEubqUAAAADgDlepQAAAAMAa+qhAAAAAYCERqUAAAACACfioQAAAAMAVd6hAAAAAoF5TqEAAAACAT9yoQAAAAOCIY6hAAAAAAHKKqEAAAACARsKoQAAAAOAk5ahAAAAA4HuAqEAAAACgfHWoQAAAAMBIGahAAAAAIFebp0AAAACAK32nQAAAAIAKY6dAAAAA4FNYp0AAAAAgqBSnQAAAAGC6zqZAAAAAYCj9pkAAAAAAmfGmQAAAACDM6aZAAAAAQC7tpkAAAABgJuGmQAAAAEBiDKdAAAAAAFSKp0AAAADAPH+nQAAAAGANyqdAAAAAICamp0AAAABAavanQAAAAMAtmadAAAAA4IfNp0AAAABgR2qnQAAAAOCCDadAAAAAoBD9pkAAAABgtq+mQAAAAOBIzKZAAAAAQKU1p0AAAABA3k+nQAAAAKAfUqdAAAAAwMJ7p0AAAABAlminQAAAAEBso6dAAAAAYLSjp0AAAACAdFmnQAAAACAmpqdAAAAAQPK4p0AAAADAWt6nQAAAAGC6G6hAAAAAwGYiqEAAAADgqBmoQAAAAGDnCqhAAAAA4Lfmp0AAAACgi+ynQAAAAICXj6dAAAAA4PR+p0AAAADgMKqnQAAAAEDFOKhAAAAAgKs1qEAAAADggkGoQAAAAOD+LqhAAAAAAIpxqEAAAADgd2GoQAAAAICqWahAAAAAIHonqEAAAAAAVGioQAAAAKC9RahAAAAAIFkmqEAAAABg9LunQAAAAAAIDKhAAAAAQMHDp0AAAABAuJCnQAAAACBm16dAAAAAYGLRp0AAAAAgM9+nQAAAAKDXyqdAAAAA4HB8p0AAAAAAq7+nQAAAAEBu4KdAAAAAoDAaqEAAAAAA4vSnQAAAAADwyqdAAAAAwF+Yp0AAAADA9KanQAAAAIA7yadAAAAA4JttqEAAAABA5DSoQAAAAKAbeqhAAAAAACGPqEAAAAAgt5SoQAAAAGC9oKhAAAAAwDo0qEAAAADAFDWoQAAAAMBoHahAAAAAwCO2qEAAAAAg1/+pQAAAACBh1KlAAAAAwCHeqUAAAAAAYaupQAAAAMCmr6lAAAAAIEf7qEAAAABAfy2pQAAAAADaNalAAAAAYEAhqUAAAABglDGpQAAAAADJ4qhAAAAAADFgqUAAAACgSpqpQAAAAGClhKlAAAAAAF83qUAAAAAgJ4qpQAAAAIAM16lAAAAAAIO9qUAAAADgIa6pQAAAAEBmh6lAAAAAwB6UqUAAAABAHZapQAAAAABZpqlAAAAAwFd7qUAAAAAAAPmoQAAAAECZOqlAAAAA4JIVqUAAAACgJDSpQAAAAOA0IKlAAAAAwPUTqUAAAAAgCwmpQAAAAKAuCqlAAAAAQEgmqUAAAABgceWoQAAAACD5D6lAAAAAIJdaqUAAAAAgMW+pQAAAACA8cKlAAAAAAF6gqUAAAADgBIepQAAAAMCX0KlAAAAAoL6OqkAAAAAAKHaqQAAAAABZZ6pAAAAAYPivqkAAAAAA4L6qQAAAAICvvqpAAAAA4EmXqkAAAAAgIbqqQAAAAGDQh6pAAAAAIAyYqkAAAAAA4p6qQAAAAKAbO6pAAAAAYKIrqkAAAAAgoQ+qQAAAAOABPapAAAAAYPqeqkAAAABA1NuqQAAAAIAD/KpAAAAA4BHqqkAAAADA/sWqQAAAAAAfRqpAAAAAYNp7qkAAAADA/iKqQAAAAOC3AqpAAAAAACDdqUAAAABAGrKpQAAAACAn/KlAAAAAgH1bqUAAAADAUjWpQAAAAIDEz6hAAAAAYMzqqEAAAABAVh+pQAAAAKCuDKlAAAAA4CfEqEAAAACAN/yoQAAAAAC06qhAAAAAwJIiqUAAAAAg6w+pQAAAAGAMJalAAAAA4CLkqEAAAABAfMmoQAAAAGDexahAAAAAwFpQqUAAAABAbwKqQAAAAMAwC6pAAAAAgNYrqkAAAABg8RmqQAAAAGDrP6pAAAAAQDsWqkAAAAAg3bSpQAAAAIC0zalAAAAAgLMgqkAAAABA7O6pQAAAACC0HKpAAAAAADoeqkAAAABArkKqQAAAAKCwzKpAAAAAgD/hqkAAAADAtfeqQAAAAGCMFqtAAAAAICJOq0AAAABgm7iqQAAAAGDmRKtAAAAAILi1rEAAAADgSrKsQAAAAEBwYKxAAAAA4J8brEAAAABgzimsQAAAAIBJb6xAAAAAQCE5rEAAAACg61asQAAAAABpQaxAAAAAgAk1rEAAAAAgu1asQAAAAACfIaxAAAAAwIlzq0AAAABAC0SrQAAAAEBjy6tAAAAAYO9Zq0AAAABABHCrQAAAAIAVnKtAAAAAQOrGq0AAAACAN9+sQAAAAGAxB61AAAAAYEq2rEAAAADgpOKsQAAAAIDoBK1AAAAAADOGrUAAAADApuOsQAAAAIAexKxAAAAAAL2HrEAAAABg6XWsQAAAAKAMdaxAAAAAgJGSrEAAAACgytusQAAAAADEsq1AAAAAAC/ArUAAAACADfiuQAAAAGA6k65AAAAAIGn0rkAAAAAgpfOuQAAAAAC62q5AAAAAYO4Rr0AAAABAPbOuQAAAAIAuua5AAAAAQEvprkAAAADAVLquQAAAACAdLq5AAAAAABLjrUAAAADgUZquQAAAACA7V65AAAAAQGD1rUAAAAAge7uuQAAAACBf165AAAAAwKeprkAAAACAN6iuQAAAAGANjq5AAAAAoI4KrkAAAADgnW6uQAAAAECIw65AAAAAwOPdrkAAAAAg4GOvQAAAAMD4EK9AAAAAgEyBr0AAAABAoZevQAAAAGCuF69AAAAAwNnHrUAAAAAglbutQAAAAECDv61AAAAAgJJIrUAAAADgjAitQAAAAKBkwqxAAAAA4D8GrUAAAABAyVOtQAAAAECgFK1AAAAAgFiOrUAAAABgsPmtQAAAAKCWy61AAAAAIL++rUAAAACA6IytQAAAAKDw1a1AAAAAAAz2rUAAAAAgp4KtQAAAAGCK/6xAAAAAwNbqrEAAAABgN6asQAAAAKDS76xAAAAA4C4DrUAAAABgg6+sQAAAAMAN2KxAAAAAoOucrEAAAACgjvqsQAAAAMCTm6xAAAAA4FTtrEAAAACAL8esQAAAAGAHXK1AAAAAYAPLrUAAAAAALsetQAAAAKASp61AAAAAgPwnrUAAAAAATo+tQAAAAMD6Na1AAAAAwBsOrUAAAAAA2WutQAAAAKDG6qxAAAAAIPDPrEAAAACguOasQAAAAOBdXa1AAAAAgIIIrUAAAACgxwOtQAAAAGD59axAAAAAwPuvrEAAAACAjy2sQAAAAADFr6tAAAAAoFztq0AAAAAg0gSsQAAAACCLQaxAAAAAoKHjrEAAAAAgVV6tQAAAAMBFGq1AAAAAwIcNrUAAAACAC+asQAAAAIDTP61AAAAAYNHmrEAAAABgF8asQAAAAOA3rKxAAAAAoFGQrEAAAAAgsb2sQAAAAIBfyaxAAAAAoCzzrEAAAABAxRStQAAAAADzq61AAAAAwAZyrUAAAAAAAAGuQAAAAKCvTK5AAAAAIP/nrUAAAABgilOuQAAAAKDfQa5AAAAAQPYdrkAAAABAGA+uQAAAACCue61AAAAAwMWXrUAAAAAAQo6vQAAAAEDHca9AAAAAQKODr0AAAABALEawQAAAAOAfQ7BAAAAAAJA0sEAAAACgE0OwQAAAAMDZRrBAAAAAIJNWsEAAAAAgz5WwQAAAAABHj7BAAAAAgAmAsEAAAADgY5OwQAAAAIDCnrBAAAAAoGYwsEAAAADgFmmvQAAAAEBYiK9AAAAAYPPAr0AAAADg9IqvQAAAAMC3969AAAAAYKm3r0AAAACgLbqvQAAAAOA0PLBAAAAAgBixsEAAAAAAp/iwQAAAAMDfGLFAAAAAYCk0sUAAAACAQwSxQAAAAKBl37BAAAAAILMEsUAAAAAAkv+wQAAAAKAuCLFAAAAAAL8NsUAAAADAVjaxQAAAAICyFrFAAAAAYEcOsUAAAAAAQO6wQAAAAKAO67BAAAAAgHrYsEAAAADAgtGwQAAAAKDsCbFAAAAA4FjusEAAAACgdBOxQAAAAGAyGLFAAAAAQCYPsUAAAACgywexQAAAAGB1bbBAAAAA4BM9sEAAAAAAMTKwQAAAAIBSIrBAAAAAIAglsEAAAADAXiiwQAAAAMCLObBAAAAAoDhJsEAAAACAUiKwQAAAACAYNbBAAAAAoHX/r0AAAAAgmRKwQAAAACCIJrBAAAAA4JATsEAAAADARhOwQAAAACAb9a9AAAAAwMRdr0AAAAAAe0WvQAAAAOAQH69AAAAAAMj0rkAAAACg+A+vQAAAAKCgPq9AAAAAQNLqrkAAAACg+22uQAAAAOBv0K5AAAAAgNasrkAAAABAj7+uQAAAAAApAK9AAAAAgOXhrkAAAADgIfSuQAAAAAC1Eq5AAAAAAEMxrkAAAACAXQquQAAAAGBVGK5AAAAA4NRer0AAAAAAqHSvQAAAACAXba9AAAAAQGPRr0AAAACg3c6vQAAAAACXc69AAAAAoPRqr0AAAABAvnWuQAAAAMCjnK5AAAAAoD3drkAAAABgNxWwQAAAAKCZWbBAAAAAgBJ+sEAAAACghmqwQAAAAMCBFbBAAAAAwK0usEAAAAAATjSwQAAAAOCeTbBAAAAAgLh/sEAAAACAFOqwQAAAACAW2LBAAAAAgInesEAAAACAhsuwQAAAACCUxrBAAAAA4EDhsEAAAABgovOwQAAAAECyurBAAAAAIJlmsEAAAAAAXnmwQAAAAGCyL7BAAAAAgEqar0AAAADgAoOvQAAAAKAjrK9AAAAAwPaXr0AAAAAAuI+vQAAAAGD7g69AAAAA4NIHr0AAAABgECqvQAAAAIDdpK9AAAAAoLcRr0AAAAAgNgivQAAAAKDQhq5AAAAA4DQir0AAAAAgSJuuQAAAAGCiKbBAAAAAIFJCsEAAAABAAwqwQAAAAOAQGrBAAAAAgCHgr0AAAADARtSvQAAAAGBoeK9AAAAAQIclr0AAAACgCwqwQAAAAAAQ/q9AAAAAANkFsEAAAABAal+vQAAAAABSLq9AAAAAQN+jr0AAAADAXaSvQAAAAADEvK9AAAAAoDhvr0AAAACgVGavQAAAAEAysq9AAAAAQK+Sr0AAAAAAMIKvQAAAAADJGK9AAAAAoLMnr0AAAADgr5auQAAAAIA2fK5AAAAAoC8trkAAAAAg/F2uQAAAAAAGIq5AAAAAYC/krUAAAAAAJzStQAAAAMDdKq1AAAAAAOg3rUAAAACgyl2sQAAAAMDPAqxAAAAAoDnhq0AAAABAxeGqQAAAAMAh9apAAAAAAC9Cq0AAAACA0V+rQAAAAGCXy6tAAAAAwI7eq0AAAABg+7OrQAAAAKChl6tAAAAAoBwPq0AAAADAsRirQAAAAKBR/qpAAAAAoFH+qkAAAABAIv2qQAAAAGCgf6tAAAAA4Cmdq0AAAABAoAGsQAAAAICGOqxAAAAAwCgPrEAAAADAlS2sQAAAAKCU1KtAAAAAIDpnq0AAAACgsVmrQAAAAMCEQ6pAAAAA4Ip2qUAAAACAdUSpQAAAAKDMaalAAAAAIDoOqUAAAADgZPCoQAAAAEBjEalAAAAAAPdDqUAAAAAAjnWpQAAAAABnoqlAAAAAYC2UqUAAAACg+laqQAAAAOB0QKpAAAAAwCCcqkAAAACgPJOqQAAAACCIzKpAAAAAoGOnqkAAAACginqqQAAAACCTqKpAAAAAANazqkAAAAAAZpaqQAAAAODnnapAAAAAQOqMqkAAAADgu/CrQAAAAIB/IKtAAAAAABRjq0AAAAAguKCrQAAAAMD4e6tAAAAAYAEoq0AAAAAggf+qQAAAAODVNatAAAAAIGzVqkAAAAAgtR+rQAAAAECOTKtAAAAAYEsAq0AAAACgUf6qQAAAAAAc/6pAAAAAoI26qkAAAAAgr5+qQAAAAKCRR6pAAAAAIO5SqkAAAACAZT+qQAAAAACCWapAAAAAIKekqkAAAAAgYPaqQAAAAIBQCKtAAAAAYCu9qkAAAACAF9SqQAAAACDzOKtAAAAAQNJeq0AAAAAAdN+qQAAAAMDWqKpAAAAAwCjAqkAAAACgPmyqQAAAAKDdZapAAAAAQEzSqkAAAACAUcyqQAAAAGDsyqpAAAAA4JT0qkAAAABAM7SqQAAAAIBxp6pAAAAAgJh6qkAAAACgd6CqQAAAAGBSkKpAAAAA4FuFqkAAAADgtViqQAAAAGAfVapAAAAAQOhtqUAAAACgmRepQAAAAKCZUqlAAAAAQDNCqUAAAABgZhKpQAAAAMDM66hAAAAAYGasqEAAAABAM6+oQAAAAEAz1qhAAAAAAACYqEAAAACgmX+oQAAAAKCZDqhAAAAAAADgp0AAAABAM9unQAAAAKCZuadAAAAAAAB2p0AAAADAzASoQAAAAMDM76dAAAAAoJmwp0AAAAAAAM6nQAAAAMDMuKdAAAAAoJnBp0AAAADAzLanQAAAAGBmuKdAAAAAoJmcp0AAAABgZoanQAAAAGBmkKdAAAAAQDM1qEAAAABAMz2oQAAAAAAA3KdAAAAAQDOJqEAAAABgZqqoQAAAAGBmqqhAAAAAYGYrqEAAAABgZhmoQAAAAEAzUahAAAAAAABPqEAAAAAAADOoQAAAAGBmL6hAAAAAoJnQp0AAAAAAAJanQAAAAMDM0qdAAAAAAABMqEAAAABgZmioQAAAAMDMeqhAAAAAwMxPqEAAAABgZpOoQAAAAKCZyahAAAAAYGbRqEAAAABgZsKoQAAAAKCZA6hAAAAAwMzsp0AAAADAzLanQAAAAMDMGqdAAAAAQDOmpkAAAABAM6CmQAAAAMDMkKZAAAAAYGbEpkAAAABgZsSmQAAAAMDMq6ZAAAAAwMxYp0A=",
          "dtype": "f8"
         },
         "yaxis": "y2"
        },
        {
         "hovertemplate": "Predicted: INR %{y:.2f}<extra></extra>",
         "line": {
          "color": "#e74c3c",
          "dash": "dot",
          "width": 2
         },
         "name": "Predicted",
         "showlegend": false,
         "type": "scatter",
         "x": [
          "2022-12-08T00:00:00.000000000",
          "2022-12-09T00:00:00.000000000",
          "2022-12-12T00:00:00.000000000",
          "2022-12-13T00:00:00.000000000",
          "2022-12-14T00:00:00.000000000",
          "2022-12-15T00:00:00.000000000",
          "2022-12-16T00:00:00.000000000",
          "2022-12-19T00:00:00.000000000",
          "2022-12-20T00:00:00.000000000",
          "2022-12-21T00:00:00.000000000",
          "2022-12-22T00:00:00.000000000",
          "2022-12-23T00:00:00.000000000",
          "2022-12-26T00:00:00.000000000",
          "2022-12-27T00:00:00.000000000",
          "2022-12-28T00:00:00.000000000",
          "2022-12-29T00:00:00.000000000",
          "2022-12-30T00:00:00.000000000",
          "2023-01-02T00:00:00.000000000",
          "2023-01-03T00:00:00.000000000",
          "2023-01-04T00:00:00.000000000",
          "2023-01-05T00:00:00.000000000",
          "2023-01-06T00:00:00.000000000",
          "2023-01-09T00:00:00.000000000",
          "2023-01-10T00:00:00.000000000",
          "2023-01-11T00:00:00.000000000",
          "2023-01-12T00:00:00.000000000",
          "2023-01-13T00:00:00.000000000",
          "2023-01-16T00:00:00.000000000",
          "2023-01-17T00:00:00.000000000",
          "2023-01-18T00:00:00.000000000",
          "2023-01-19T00:00:00.000000000",
          "2023-01-20T00:00:00.000000000",
          "2023-01-23T00:00:00.000000000",
          "2023-01-24T00:00:00.000000000",
          "2023-01-25T00:00:00.000000000",
          "2023-01-27T00:00:00.000000000",
          "2023-01-30T00:00:00.000000000",
          "2023-01-31T00:00:00.000000000",
          "2023-02-01T00:00:00.000000000",
          "2023-02-02T00:00:00.000000000",
          "2023-02-03T00:00:00.000000000",
          "2023-02-06T00:00:00.000000000",
          "2023-02-07T00:00:00.000000000",
          "2023-02-08T00:00:00.000000000",
          "2023-02-09T00:00:00.000000000",
          "2023-02-10T00:00:00.000000000",
          "2023-02-13T00:00:00.000000000",
          "2023-02-14T00:00:00.000000000",
          "2023-02-15T00:00:00.000000000",
          "2023-02-16T00:00:00.000000000",
          "2023-02-17T00:00:00.000000000",
          "2023-02-20T00:00:00.000000000",
          "2023-02-21T00:00:00.000000000",
          "2023-02-22T00:00:00.000000000",
          "2023-02-23T00:00:00.000000000",
          "2023-02-24T00:00:00.000000000",
          "2023-02-27T00:00:00.000000000",
          "2023-02-28T00:00:00.000000000",
          "2023-03-01T00:00:00.000000000",
          "2023-03-02T00:00:00.000000000",
          "2023-03-03T00:00:00.000000000",
          "2023-03-06T00:00:00.000000000",
          "2023-03-08T00:00:00.000000000",
          "2023-03-09T00:00:00.000000000",
          "2023-03-10T00:00:00.000000000",
          "2023-03-13T00:00:00.000000000",
          "2023-03-14T00:00:00.000000000",
          "2023-03-15T00:00:00.000000000",
          "2023-03-16T00:00:00.000000000",
          "2023-03-17T00:00:00.000000000",
          "2023-03-20T00:00:00.000000000",
          "2023-03-21T00:00:00.000000000",
          "2023-03-22T00:00:00.000000000",
          "2023-03-23T00:00:00.000000000",
          "2023-03-24T00:00:00.000000000",
          "2023-03-27T00:00:00.000000000",
          "2023-03-28T00:00:00.000000000",
          "2023-03-29T00:00:00.000000000",
          "2023-03-31T00:00:00.000000000",
          "2023-04-03T00:00:00.000000000",
          "2023-04-05T00:00:00.000000000",
          "2023-04-06T00:00:00.000000000",
          "2023-04-10T00:00:00.000000000",
          "2023-04-11T00:00:00.000000000",
          "2023-04-12T00:00:00.000000000",
          "2023-04-13T00:00:00.000000000",
          "2023-04-17T00:00:00.000000000",
          "2023-04-18T00:00:00.000000000",
          "2023-04-19T00:00:00.000000000",
          "2023-04-20T00:00:00.000000000",
          "2023-04-21T00:00:00.000000000",
          "2023-04-24T00:00:00.000000000",
          "2023-04-25T00:00:00.000000000",
          "2023-04-26T00:00:00.000000000",
          "2023-04-27T00:00:00.000000000",
          "2023-04-28T00:00:00.000000000",
          "2023-05-02T00:00:00.000000000",
          "2023-05-03T00:00:00.000000000",
          "2023-05-04T00:00:00.000000000",
          "2023-05-05T00:00:00.000000000",
          "2023-05-08T00:00:00.000000000",
          "2023-05-09T00:00:00.000000000",
          "2023-05-10T00:00:00.000000000",
          "2023-05-11T00:00:00.000000000",
          "2023-05-12T00:00:00.000000000",
          "2023-05-15T00:00:00.000000000",
          "2023-05-16T00:00:00.000000000",
          "2023-05-17T00:00:00.000000000",
          "2023-05-18T00:00:00.000000000",
          "2023-05-19T00:00:00.000000000",
          "2023-05-22T00:00:00.000000000",
          "2023-05-23T00:00:00.000000000",
          "2023-05-24T00:00:00.000000000",
          "2023-05-25T00:00:00.000000000",
          "2023-05-26T00:00:00.000000000",
          "2023-05-29T00:00:00.000000000",
          "2023-05-30T00:00:00.000000000",
          "2023-05-31T00:00:00.000000000",
          "2023-06-01T00:00:00.000000000",
          "2023-06-02T00:00:00.000000000",
          "2023-06-05T00:00:00.000000000",
          "2023-06-06T00:00:00.000000000",
          "2023-06-07T00:00:00.000000000",
          "2023-06-08T00:00:00.000000000",
          "2023-06-09T00:00:00.000000000",
          "2023-06-12T00:00:00.000000000",
          "2023-06-13T00:00:00.000000000",
          "2023-06-14T00:00:00.000000000",
          "2023-06-15T00:00:00.000000000",
          "2023-06-16T00:00:00.000000000",
          "2023-06-19T00:00:00.000000000",
          "2023-06-20T00:00:00.000000000",
          "2023-06-21T00:00:00.000000000",
          "2023-06-22T00:00:00.000000000",
          "2023-06-23T00:00:00.000000000",
          "2023-06-26T00:00:00.000000000",
          "2023-06-27T00:00:00.000000000",
          "2023-06-28T00:00:00.000000000",
          "2023-06-30T00:00:00.000000000",
          "2023-07-03T00:00:00.000000000",
          "2023-07-04T00:00:00.000000000",
          "2023-07-05T00:00:00.000000000",
          "2023-07-06T00:00:00.000000000",
          "2023-07-07T00:00:00.000000000",
          "2023-07-10T00:00:00.000000000",
          "2023-07-11T00:00:00.000000000",
          "2023-07-12T00:00:00.000000000",
          "2023-07-13T00:00:00.000000000",
          "2023-07-14T00:00:00.000000000",
          "2023-07-17T00:00:00.000000000",
          "2023-07-18T00:00:00.000000000",
          "2023-07-19T00:00:00.000000000",
          "2023-07-20T00:00:00.000000000",
          "2023-07-21T00:00:00.000000000",
          "2023-07-24T00:00:00.000000000",
          "2023-07-25T00:00:00.000000000",
          "2023-07-26T00:00:00.000000000",
          "2023-07-27T00:00:00.000000000",
          "2023-07-28T00:00:00.000000000",
          "2023-07-31T00:00:00.000000000",
          "2023-08-01T00:00:00.000000000",
          "2023-08-02T00:00:00.000000000",
          "2023-08-03T00:00:00.000000000",
          "2023-08-04T00:00:00.000000000",
          "2023-08-07T00:00:00.000000000",
          "2023-08-08T00:00:00.000000000",
          "2023-08-09T00:00:00.000000000",
          "2023-08-10T00:00:00.000000000",
          "2023-08-11T00:00:00.000000000",
          "2023-08-14T00:00:00.000000000",
          "2023-08-16T00:00:00.000000000",
          "2023-08-17T00:00:00.000000000",
          "2023-08-18T00:00:00.000000000",
          "2023-08-21T00:00:00.000000000",
          "2023-08-22T00:00:00.000000000",
          "2023-08-23T00:00:00.000000000",
          "2023-08-24T00:00:00.000000000",
          "2023-08-25T00:00:00.000000000",
          "2023-08-28T00:00:00.000000000",
          "2023-08-29T00:00:00.000000000",
          "2023-08-30T00:00:00.000000000",
          "2023-08-31T00:00:00.000000000",
          "2023-09-01T00:00:00.000000000",
          "2023-09-04T00:00:00.000000000",
          "2023-09-05T00:00:00.000000000",
          "2023-09-06T00:00:00.000000000",
          "2023-09-07T00:00:00.000000000",
          "2023-09-08T00:00:00.000000000",
          "2023-09-11T00:00:00.000000000",
          "2023-09-12T00:00:00.000000000",
          "2023-09-13T00:00:00.000000000",
          "2023-09-14T00:00:00.000000000",
          "2023-09-15T00:00:00.000000000",
          "2023-09-18T00:00:00.000000000",
          "2023-09-20T00:00:00.000000000",
          "2023-09-21T00:00:00.000000000",
          "2023-09-22T00:00:00.000000000",
          "2023-09-25T00:00:00.000000000",
          "2023-09-26T00:00:00.000000000",
          "2023-09-27T00:00:00.000000000",
          "2023-09-28T00:00:00.000000000",
          "2023-09-29T00:00:00.000000000",
          "2023-10-03T00:00:00.000000000",
          "2023-10-04T00:00:00.000000000",
          "2023-10-05T00:00:00.000000000",
          "2023-10-06T00:00:00.000000000",
          "2023-10-09T00:00:00.000000000",
          "2023-10-10T00:00:00.000000000",
          "2023-10-11T00:00:00.000000000",
          "2023-10-12T00:00:00.000000000",
          "2023-10-13T00:00:00.000000000",
          "2023-10-16T00:00:00.000000000",
          "2023-10-17T00:00:00.000000000",
          "2023-10-18T00:00:00.000000000",
          "2023-10-19T00:00:00.000000000",
          "2023-10-20T00:00:00.000000000",
          "2023-10-23T00:00:00.000000000",
          "2023-10-25T00:00:00.000000000",
          "2023-10-26T00:00:00.000000000",
          "2023-10-27T00:00:00.000000000",
          "2023-10-30T00:00:00.000000000",
          "2023-10-31T00:00:00.000000000",
          "2023-11-01T00:00:00.000000000",
          "2023-11-02T00:00:00.000000000",
          "2023-11-03T00:00:00.000000000",
          "2023-11-06T00:00:00.000000000",
          "2023-11-07T00:00:00.000000000",
          "2023-11-08T00:00:00.000000000",
          "2023-11-09T00:00:00.000000000",
          "2023-11-10T00:00:00.000000000",
          "2023-11-13T00:00:00.000000000",
          "2023-11-15T00:00:00.000000000",
          "2023-11-16T00:00:00.000000000",
          "2023-11-17T00:00:00.000000000",
          "2023-11-20T00:00:00.000000000",
          "2023-11-21T00:00:00.000000000",
          "2023-11-22T00:00:00.000000000",
          "2023-11-23T00:00:00.000000000",
          "2023-11-24T00:00:00.000000000",
          "2023-11-28T00:00:00.000000000",
          "2023-11-29T00:00:00.000000000",
          "2023-11-30T00:00:00.000000000",
          "2023-12-01T00:00:00.000000000",
          "2023-12-04T00:00:00.000000000",
          "2023-12-05T00:00:00.000000000",
          "2023-12-06T00:00:00.000000000",
          "2023-12-07T00:00:00.000000000",
          "2023-12-08T00:00:00.000000000",
          "2023-12-11T00:00:00.000000000",
          "2023-12-12T00:00:00.000000000",
          "2023-12-13T00:00:00.000000000",
          "2023-12-14T00:00:00.000000000",
          "2023-12-15T00:00:00.000000000",
          "2023-12-18T00:00:00.000000000",
          "2023-12-19T00:00:00.000000000",
          "2023-12-20T00:00:00.000000000",
          "2023-12-21T00:00:00.000000000",
          "2023-12-22T00:00:00.000000000",
          "2023-12-26T00:00:00.000000000",
          "2023-12-27T00:00:00.000000000",
          "2023-12-28T00:00:00.000000000",
          "2023-12-29T00:00:00.000000000",
          "2024-01-01T00:00:00.000000000",
          "2024-01-02T00:00:00.000000000",
          "2024-01-03T00:00:00.000000000",
          "2024-01-04T00:00:00.000000000",
          "2024-01-05T00:00:00.000000000",
          "2024-01-08T00:00:00.000000000",
          "2024-01-09T00:00:00.000000000",
          "2024-01-10T00:00:00.000000000",
          "2024-01-11T00:00:00.000000000",
          "2024-01-12T00:00:00.000000000",
          "2024-01-15T00:00:00.000000000",
          "2024-01-16T00:00:00.000000000",
          "2024-01-17T00:00:00.000000000",
          "2024-01-18T00:00:00.000000000",
          "2024-01-19T00:00:00.000000000",
          "2024-01-23T00:00:00.000000000",
          "2024-01-24T00:00:00.000000000",
          "2024-01-25T00:00:00.000000000",
          "2024-01-29T00:00:00.000000000",
          "2024-01-30T00:00:00.000000000",
          "2024-01-31T00:00:00.000000000",
          "2024-02-01T00:00:00.000000000",
          "2024-02-02T00:00:00.000000000",
          "2024-02-05T00:00:00.000000000",
          "2024-02-06T00:00:00.000000000",
          "2024-02-07T00:00:00.000000000",
          "2024-02-08T00:00:00.000000000",
          "2024-02-09T00:00:00.000000000",
          "2024-02-12T00:00:00.000000000",
          "2024-02-13T00:00:00.000000000",
          "2024-02-14T00:00:00.000000000",
          "2024-02-15T00:00:00.000000000",
          "2024-02-16T00:00:00.000000000",
          "2024-02-19T00:00:00.000000000",
          "2024-02-20T00:00:00.000000000",
          "2024-02-21T00:00:00.000000000",
          "2024-02-22T00:00:00.000000000",
          "2024-02-23T00:00:00.000000000",
          "2024-02-26T00:00:00.000000000",
          "2024-02-27T00:00:00.000000000",
          "2024-02-28T00:00:00.000000000",
          "2024-02-29T00:00:00.000000000",
          "2024-03-01T00:00:00.000000000",
          "2024-03-04T00:00:00.000000000",
          "2024-03-05T00:00:00.000000000",
          "2024-03-06T00:00:00.000000000",
          "2024-03-07T00:00:00.000000000",
          "2024-03-11T00:00:00.000000000",
          "2024-03-12T00:00:00.000000000",
          "2024-03-13T00:00:00.000000000",
          "2024-03-14T00:00:00.000000000",
          "2024-03-15T00:00:00.000000000",
          "2024-03-18T00:00:00.000000000",
          "2024-03-19T00:00:00.000000000",
          "2024-03-20T00:00:00.000000000",
          "2024-03-21T00:00:00.000000000",
          "2024-03-22T00:00:00.000000000",
          "2024-03-26T00:00:00.000000000",
          "2024-03-27T00:00:00.000000000",
          "2024-03-28T00:00:00.000000000",
          "2024-04-01T00:00:00.000000000",
          "2024-04-02T00:00:00.000000000",
          "2024-04-03T00:00:00.000000000",
          "2024-04-04T00:00:00.000000000",
          "2024-04-05T00:00:00.000000000",
          "2024-04-08T00:00:00.000000000",
          "2024-04-09T00:00:00.000000000",
          "2024-04-10T00:00:00.000000000",
          "2024-04-12T00:00:00.000000000",
          "2024-04-15T00:00:00.000000000",
          "2024-04-16T00:00:00.000000000",
          "2024-04-18T00:00:00.000000000",
          "2024-04-19T00:00:00.000000000",
          "2024-04-22T00:00:00.000000000",
          "2024-04-23T00:00:00.000000000",
          "2024-04-24T00:00:00.000000000",
          "2024-04-25T00:00:00.000000000",
          "2024-04-26T00:00:00.000000000",
          "2024-04-29T00:00:00.000000000",
          "2024-04-30T00:00:00.000000000",
          "2024-05-02T00:00:00.000000000",
          "2024-05-03T00:00:00.000000000",
          "2024-05-06T00:00:00.000000000",
          "2024-05-07T00:00:00.000000000",
          "2024-05-08T00:00:00.000000000",
          "2024-05-09T00:00:00.000000000",
          "2024-05-10T00:00:00.000000000",
          "2024-05-13T00:00:00.000000000",
          "2024-05-14T00:00:00.000000000",
          "2024-05-15T00:00:00.000000000",
          "2024-05-16T00:00:00.000000000",
          "2024-05-17T00:00:00.000000000",
          "2024-05-21T00:00:00.000000000",
          "2024-05-22T00:00:00.000000000",
          "2024-05-23T00:00:00.000000000",
          "2024-05-24T00:00:00.000000000",
          "2024-05-27T00:00:00.000000000",
          "2024-05-28T00:00:00.000000000",
          "2024-05-29T00:00:00.000000000",
          "2024-05-30T00:00:00.000000000",
          "2024-05-31T00:00:00.000000000",
          "2024-06-03T00:00:00.000000000",
          "2024-06-04T00:00:00.000000000",
          "2024-06-05T00:00:00.000000000",
          "2024-06-06T00:00:00.000000000",
          "2024-06-07T00:00:00.000000000",
          "2024-06-10T00:00:00.000000000",
          "2024-06-11T00:00:00.000000000",
          "2024-06-12T00:00:00.000000000",
          "2024-06-13T00:00:00.000000000",
          "2024-06-14T00:00:00.000000000",
          "2024-06-18T00:00:00.000000000",
          "2024-06-19T00:00:00.000000000",
          "2024-06-20T00:00:00.000000000",
          "2024-06-21T00:00:00.000000000",
          "2024-06-24T00:00:00.000000000",
          "2024-06-25T00:00:00.000000000",
          "2024-06-26T00:00:00.000000000",
          "2024-06-27T00:00:00.000000000",
          "2024-06-28T00:00:00.000000000",
          "2024-07-01T00:00:00.000000000",
          "2024-07-02T00:00:00.000000000",
          "2024-07-03T00:00:00.000000000",
          "2024-07-04T00:00:00.000000000",
          "2024-07-05T00:00:00.000000000",
          "2024-07-08T00:00:00.000000000",
          "2024-07-09T00:00:00.000000000",
          "2024-07-10T00:00:00.000000000",
          "2024-07-11T00:00:00.000000000",
          "2024-07-12T00:00:00.000000000",
          "2024-07-15T00:00:00.000000000",
          "2024-07-16T00:00:00.000000000",
          "2024-07-18T00:00:00.000000000",
          "2024-07-19T00:00:00.000000000",
          "2024-07-22T00:00:00.000000000",
          "2024-07-23T00:00:00.000000000",
          "2024-07-24T00:00:00.000000000",
          "2024-07-25T00:00:00.000000000",
          "2024-07-26T00:00:00.000000000",
          "2024-07-29T00:00:00.000000000",
          "2024-07-30T00:00:00.000000000",
          "2024-07-31T00:00:00.000000000",
          "2024-08-01T00:00:00.000000000",
          "2024-08-02T00:00:00.000000000",
          "2024-08-05T00:00:00.000000000",
          "2024-08-06T00:00:00.000000000",
          "2024-08-07T00:00:00.000000000",
          "2024-08-08T00:00:00.000000000",
          "2024-08-09T00:00:00.000000000",
          "2024-08-12T00:00:00.000000000",
          "2024-08-13T00:00:00.000000000",
          "2024-08-14T00:00:00.000000000",
          "2024-08-16T00:00:00.000000000",
          "2024-08-19T00:00:00.000000000",
          "2024-08-20T00:00:00.000000000",
          "2024-08-21T00:00:00.000000000",
          "2024-08-22T00:00:00.000000000",
          "2024-08-23T00:00:00.000000000",
          "2024-08-26T00:00:00.000000000",
          "2024-08-27T00:00:00.000000000",
          "2024-08-28T00:00:00.000000000",
          "2024-08-29T00:00:00.000000000",
          "2024-08-30T00:00:00.000000000",
          "2024-09-02T00:00:00.000000000",
          "2024-09-03T00:00:00.000000000",
          "2024-09-04T00:00:00.000000000",
          "2024-09-05T00:00:00.000000000",
          "2024-09-06T00:00:00.000000000",
          "2024-09-09T00:00:00.000000000",
          "2024-09-10T00:00:00.000000000",
          "2024-09-11T00:00:00.000000000",
          "2024-09-12T00:00:00.000000000",
          "2024-09-13T00:00:00.000000000",
          "2024-09-16T00:00:00.000000000",
          "2024-09-17T00:00:00.000000000",
          "2024-09-18T00:00:00.000000000",
          "2024-09-19T00:00:00.000000000",
          "2024-09-20T00:00:00.000000000",
          "2024-09-23T00:00:00.000000000",
          "2024-09-24T00:00:00.000000000",
          "2024-09-25T00:00:00.000000000",
          "2024-09-26T00:00:00.000000000",
          "2024-09-27T00:00:00.000000000",
          "2024-09-30T00:00:00.000000000",
          "2024-10-01T00:00:00.000000000",
          "2024-10-03T00:00:00.000000000",
          "2024-10-04T00:00:00.000000000",
          "2024-10-07T00:00:00.000000000",
          "2024-10-08T00:00:00.000000000",
          "2024-10-09T00:00:00.000000000",
          "2024-10-10T00:00:00.000000000",
          "2024-10-11T00:00:00.000000000",
          "2024-10-14T00:00:00.000000000",
          "2024-10-15T00:00:00.000000000",
          "2024-10-16T00:00:00.000000000",
          "2024-10-17T00:00:00.000000000",
          "2024-10-18T00:00:00.000000000",
          "2024-10-21T00:00:00.000000000",
          "2024-10-22T00:00:00.000000000",
          "2024-10-23T00:00:00.000000000",
          "2024-10-24T00:00:00.000000000",
          "2024-10-25T00:00:00.000000000",
          "2024-10-28T00:00:00.000000000",
          "2024-10-29T00:00:00.000000000",
          "2024-10-30T00:00:00.000000000",
          "2024-10-31T00:00:00.000000000",
          "2024-11-01T00:00:00.000000000",
          "2024-11-04T00:00:00.000000000",
          "2024-11-05T00:00:00.000000000",
          "2024-11-06T00:00:00.000000000",
          "2024-11-07T00:00:00.000000000",
          "2024-11-08T00:00:00.000000000",
          "2024-11-11T00:00:00.000000000",
          "2024-11-12T00:00:00.000000000",
          "2024-11-13T00:00:00.000000000",
          "2024-11-14T00:00:00.000000000",
          "2024-11-18T00:00:00.000000000",
          "2024-11-19T00:00:00.000000000",
          "2024-11-21T00:00:00.000000000",
          "2024-11-22T00:00:00.000000000",
          "2024-11-25T00:00:00.000000000",
          "2024-11-26T00:00:00.000000000",
          "2024-11-27T00:00:00.000000000",
          "2024-11-28T00:00:00.000000000",
          "2024-11-29T00:00:00.000000000",
          "2024-12-02T00:00:00.000000000",
          "2024-12-03T00:00:00.000000000",
          "2024-12-04T00:00:00.000000000",
          "2024-12-05T00:00:00.000000000",
          "2024-12-06T00:00:00.000000000",
          "2024-12-09T00:00:00.000000000",
          "2024-12-10T00:00:00.000000000",
          "2024-12-11T00:00:00.000000000",
          "2024-12-12T00:00:00.000000000",
          "2024-12-13T00:00:00.000000000",
          "2024-12-16T00:00:00.000000000",
          "2024-12-17T00:00:00.000000000",
          "2024-12-18T00:00:00.000000000",
          "2024-12-19T00:00:00.000000000",
          "2024-12-20T00:00:00.000000000",
          "2024-12-23T00:00:00.000000000",
          "2024-12-24T00:00:00.000000000",
          "2024-12-26T00:00:00.000000000",
          "2024-12-27T00:00:00.000000000",
          "2024-12-30T00:00:00.000000000",
          "2024-12-31T00:00:00.000000000",
          "2025-01-01T00:00:00.000000000",
          "2025-01-02T00:00:00.000000000",
          "2025-01-03T00:00:00.000000000",
          "2025-01-06T00:00:00.000000000",
          "2025-01-07T00:00:00.000000000",
          "2025-01-08T00:00:00.000000000",
          "2025-01-09T00:00:00.000000000",
          "2025-01-10T00:00:00.000000000",
          "2025-01-13T00:00:00.000000000",
          "2025-01-14T00:00:00.000000000",
          "2025-01-15T00:00:00.000000000",
          "2025-01-16T00:00:00.000000000",
          "2025-01-17T00:00:00.000000000",
          "2025-01-20T00:00:00.000000000",
          "2025-01-21T00:00:00.000000000",
          "2025-01-22T00:00:00.000000000",
          "2025-01-23T00:00:00.000000000",
          "2025-01-24T00:00:00.000000000",
          "2025-01-27T00:00:00.000000000",
          "2025-01-28T00:00:00.000000000",
          "2025-01-29T00:00:00.000000000",
          "2025-01-30T00:00:00.000000000",
          "2025-01-31T00:00:00.000000000",
          "2025-02-01T00:00:00.000000000",
          "2025-02-03T00:00:00.000000000",
          "2025-02-04T00:00:00.000000000",
          "2025-02-05T00:00:00.000000000",
          "2025-02-06T00:00:00.000000000",
          "2025-02-07T00:00:00.000000000",
          "2025-02-10T00:00:00.000000000",
          "2025-02-11T00:00:00.000000000",
          "2025-02-12T00:00:00.000000000",
          "2025-02-13T00:00:00.000000000",
          "2025-02-14T00:00:00.000000000",
          "2025-02-17T00:00:00.000000000",
          "2025-02-18T00:00:00.000000000",
          "2025-02-19T00:00:00.000000000",
          "2025-02-20T00:00:00.000000000",
          "2025-02-21T00:00:00.000000000",
          "2025-02-24T00:00:00.000000000",
          "2025-02-25T00:00:00.000000000",
          "2025-02-27T00:00:00.000000000",
          "2025-02-28T00:00:00.000000000",
          "2025-03-03T00:00:00.000000000",
          "2025-03-04T00:00:00.000000000",
          "2025-03-05T00:00:00.000000000",
          "2025-03-06T00:00:00.000000000",
          "2025-03-07T00:00:00.000000000",
          "2025-03-10T00:00:00.000000000",
          "2025-03-11T00:00:00.000000000",
          "2025-03-12T00:00:00.000000000",
          "2025-03-13T00:00:00.000000000",
          "2025-03-17T00:00:00.000000000",
          "2025-03-18T00:00:00.000000000",
          "2025-03-19T00:00:00.000000000",
          "2025-03-20T00:00:00.000000000",
          "2025-03-21T00:00:00.000000000",
          "2025-03-24T00:00:00.000000000",
          "2025-03-25T00:00:00.000000000",
          "2025-03-26T00:00:00.000000000",
          "2025-03-27T00:00:00.000000000",
          "2025-03-28T00:00:00.000000000",
          "2025-04-01T00:00:00.000000000",
          "2025-04-02T00:00:00.000000000",
          "2025-04-03T00:00:00.000000000",
          "2025-04-04T00:00:00.000000000",
          "2025-04-07T00:00:00.000000000",
          "2025-04-08T00:00:00.000000000",
          "2025-04-09T00:00:00.000000000",
          "2025-04-11T00:00:00.000000000",
          "2025-04-15T00:00:00.000000000",
          "2025-04-16T00:00:00.000000000",
          "2025-04-17T00:00:00.000000000",
          "2025-04-21T00:00:00.000000000",
          "2025-04-22T00:00:00.000000000",
          "2025-04-23T00:00:00.000000000",
          "2025-04-24T00:00:00.000000000",
          "2025-04-25T00:00:00.000000000",
          "2025-04-28T00:00:00.000000000",
          "2025-04-29T00:00:00.000000000",
          "2025-04-30T00:00:00.000000000",
          "2025-05-02T00:00:00.000000000",
          "2025-05-05T00:00:00.000000000",
          "2025-05-06T00:00:00.000000000",
          "2025-05-07T00:00:00.000000000",
          "2025-05-08T00:00:00.000000000",
          "2025-05-09T00:00:00.000000000",
          "2025-05-12T00:00:00.000000000",
          "2025-05-13T00:00:00.000000000",
          "2025-05-14T00:00:00.000000000",
          "2025-05-15T00:00:00.000000000",
          "2025-05-16T00:00:00.000000000",
          "2025-05-19T00:00:00.000000000",
          "2025-05-20T00:00:00.000000000",
          "2025-05-21T00:00:00.000000000",
          "2025-05-22T00:00:00.000000000",
          "2025-05-23T00:00:00.000000000",
          "2025-05-26T00:00:00.000000000",
          "2025-05-27T00:00:00.000000000",
          "2025-05-28T00:00:00.000000000",
          "2025-05-29T00:00:00.000000000",
          "2025-05-30T00:00:00.000000000",
          "2025-06-02T00:00:00.000000000",
          "2025-06-03T00:00:00.000000000",
          "2025-06-04T00:00:00.000000000",
          "2025-06-05T00:00:00.000000000",
          "2025-06-06T00:00:00.000000000",
          "2025-06-09T00:00:00.000000000",
          "2025-06-10T00:00:00.000000000",
          "2025-06-11T00:00:00.000000000",
          "2025-06-12T00:00:00.000000000",
          "2025-06-13T00:00:00.000000000",
          "2025-06-16T00:00:00.000000000",
          "2025-06-17T00:00:00.000000000",
          "2025-06-18T00:00:00.000000000",
          "2025-06-19T00:00:00.000000000",
          "2025-06-20T00:00:00.000000000",
          "2025-06-23T00:00:00.000000000",
          "2025-06-24T00:00:00.000000000",
          "2025-06-25T00:00:00.000000000",
          "2025-06-26T00:00:00.000000000",
          "2025-06-27T00:00:00.000000000",
          "2025-06-30T00:00:00.000000000",
          "2025-07-01T00:00:00.000000000",
          "2025-07-02T00:00:00.000000000",
          "2025-07-03T00:00:00.000000000",
          "2025-07-04T00:00:00.000000000",
          "2025-07-07T00:00:00.000000000",
          "2025-07-08T00:00:00.000000000",
          "2025-07-09T00:00:00.000000000",
          "2025-07-10T00:00:00.000000000",
          "2025-07-11T00:00:00.000000000",
          "2025-07-14T00:00:00.000000000",
          "2025-07-15T00:00:00.000000000",
          "2025-07-16T00:00:00.000000000",
          "2025-07-17T00:00:00.000000000",
          "2025-07-18T00:00:00.000000000",
          "2025-07-21T00:00:00.000000000",
          "2025-07-22T00:00:00.000000000",
          "2025-07-23T00:00:00.000000000",
          "2025-07-24T00:00:00.000000000",
          "2025-07-25T00:00:00.000000000",
          "2025-07-28T00:00:00.000000000",
          "2025-07-29T00:00:00.000000000",
          "2025-07-30T00:00:00.000000000",
          "2025-07-31T00:00:00.000000000",
          "2025-08-01T00:00:00.000000000",
          "2025-08-04T00:00:00.000000000",
          "2025-08-05T00:00:00.000000000",
          "2025-08-06T00:00:00.000000000",
          "2025-08-07T00:00:00.000000000",
          "2025-08-08T00:00:00.000000000",
          "2025-08-11T00:00:00.000000000",
          "2025-08-12T00:00:00.000000000",
          "2025-08-13T00:00:00.000000000",
          "2025-08-14T00:00:00.000000000",
          "2025-08-18T00:00:00.000000000",
          "2025-08-19T00:00:00.000000000",
          "2025-08-20T00:00:00.000000000",
          "2025-08-21T00:00:00.000000000",
          "2025-08-22T00:00:00.000000000",
          "2025-08-25T00:00:00.000000000",
          "2025-08-26T00:00:00.000000000",
          "2025-08-27T00:00:00.000000000",
          "2025-08-28T00:00:00.000000000",
          "2025-08-29T00:00:00.000000000",
          "2025-09-01T00:00:00.000000000",
          "2025-09-02T00:00:00.000000000",
          "2025-09-03T00:00:00.000000000",
          "2025-09-04T00:00:00.000000000",
          "2025-09-05T00:00:00.000000000",
          "2025-09-08T00:00:00.000000000",
          "2025-09-09T00:00:00.000000000",
          "2025-09-10T00:00:00.000000000",
          "2025-09-11T00:00:00.000000000",
          "2025-09-12T00:00:00.000000000",
          "2025-09-15T00:00:00.000000000",
          "2025-09-16T00:00:00.000000000",
          "2025-09-17T00:00:00.000000000",
          "2025-09-18T00:00:00.000000000",
          "2025-09-19T00:00:00.000000000",
          "2025-09-22T00:00:00.000000000",
          "2025-09-23T00:00:00.000000000",
          "2025-09-24T00:00:00.000000000",
          "2025-09-25T00:00:00.000000000",
          "2025-09-26T00:00:00.000000000",
          "2025-09-29T00:00:00.000000000",
          "2025-09-30T00:00:00.000000000",
          "2025-10-01T00:00:00.000000000",
          "2025-10-02T00:00:00.000000000",
          "2025-10-03T00:00:00.000000000",
          "2025-10-06T00:00:00.000000000"
         ],
         "xaxis": "x2",
         "y": {
          "bdata": "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",
          "dtype": "f8"
         },
         "yaxis": "y2"
        },
        {
         "hovertemplate": "Actual: INR %{y:.2f}<extra></extra>",
         "line": {
          "color": "black",
          "width": 2
         },
         "name": "Actual",
         "showlegend": false,
         "type": "scatter",
         "x": [
          "2022-12-26T00:00:00.000000000",
          "2022-12-27T00:00:00.000000000",
          "2022-12-28T00:00:00.000000000",
          "2022-12-29T00:00:00.000000000",
          "2022-12-30T00:00:00.000000000",
          "2023-01-02T00:00:00.000000000",
          "2023-01-03T00:00:00.000000000",
          "2023-01-04T00:00:00.000000000",
          "2023-01-05T00:00:00.000000000",
          "2023-01-06T00:00:00.000000000",
          "2023-01-09T00:00:00.000000000",
          "2023-01-10T00:00:00.000000000",
          "2023-01-11T00:00:00.000000000",
          "2023-01-12T00:00:00.000000000",
          "2023-01-13T00:00:00.000000000",
          "2023-01-16T00:00:00.000000000",
          "2023-01-17T00:00:00.000000000",
          "2023-01-18T00:00:00.000000000",
          "2023-01-19T00:00:00.000000000",
          "2023-01-20T00:00:00.000000000",
          "2023-01-23T00:00:00.000000000",
          "2023-01-24T00:00:00.000000000",
          "2023-01-25T00:00:00.000000000",
          "2023-01-27T00:00:00.000000000",
          "2023-01-30T00:00:00.000000000",
          "2023-01-31T00:00:00.000000000",
          "2023-02-01T00:00:00.000000000",
          "2023-02-02T00:00:00.000000000",
          "2023-02-03T00:00:00.000000000",
          "2023-02-06T00:00:00.000000000",
          "2023-02-07T00:00:00.000000000",
          "2023-02-08T00:00:00.000000000",
          "2023-02-09T00:00:00.000000000",
          "2023-02-10T00:00:00.000000000",
          "2023-02-13T00:00:00.000000000",
          "2023-02-14T00:00:00.000000000",
          "2023-02-15T00:00:00.000000000",
          "2023-02-16T00:00:00.000000000",
          "2023-02-17T00:00:00.000000000",
          "2023-02-20T00:00:00.000000000",
          "2023-02-21T00:00:00.000000000",
          "2023-02-22T00:00:00.000000000",
          "2023-02-23T00:00:00.000000000",
          "2023-02-24T00:00:00.000000000",
          "2023-02-27T00:00:00.000000000",
          "2023-02-28T00:00:00.000000000",
          "2023-03-01T00:00:00.000000000",
          "2023-03-02T00:00:00.000000000",
          "2023-03-03T00:00:00.000000000",
          "2023-03-06T00:00:00.000000000",
          "2023-03-08T00:00:00.000000000",
          "2023-03-09T00:00:00.000000000",
          "2023-03-10T00:00:00.000000000",
          "2023-03-13T00:00:00.000000000",
          "2023-03-14T00:00:00.000000000",
          "2023-03-15T00:00:00.000000000",
          "2023-03-16T00:00:00.000000000",
          "2023-03-17T00:00:00.000000000",
          "2023-03-20T00:00:00.000000000",
          "2023-03-21T00:00:00.000000000",
          "2023-03-22T00:00:00.000000000",
          "2023-03-23T00:00:00.000000000",
          "2023-03-24T00:00:00.000000000",
          "2023-03-27T00:00:00.000000000",
          "2023-03-28T00:00:00.000000000",
          "2023-03-29T00:00:00.000000000",
          "2023-03-31T00:00:00.000000000",
          "2023-04-03T00:00:00.000000000",
          "2023-04-05T00:00:00.000000000",
          "2023-04-06T00:00:00.000000000",
          "2023-04-10T00:00:00.000000000",
          "2023-04-11T00:00:00.000000000",
          "2023-04-12T00:00:00.000000000",
          "2023-04-13T00:00:00.000000000",
          "2023-04-17T00:00:00.000000000",
          "2023-04-18T00:00:00.000000000",
          "2023-04-19T00:00:00.000000000",
          "2023-04-20T00:00:00.000000000",
          "2023-04-21T00:00:00.000000000",
          "2023-04-24T00:00:00.000000000",
          "2023-04-25T00:00:00.000000000",
          "2023-04-26T00:00:00.000000000",
          "2023-04-27T00:00:00.000000000",
          "2023-04-28T00:00:00.000000000",
          "2023-05-02T00:00:00.000000000",
          "2023-05-03T00:00:00.000000000",
          "2023-05-04T00:00:00.000000000",
          "2023-05-05T00:00:00.000000000",
          "2023-05-08T00:00:00.000000000",
          "2023-05-09T00:00:00.000000000",
          "2023-05-10T00:00:00.000000000",
          "2023-05-11T00:00:00.000000000",
          "2023-05-12T00:00:00.000000000",
          "2023-05-15T00:00:00.000000000",
          "2023-05-16T00:00:00.000000000",
          "2023-05-17T00:00:00.000000000",
          "2023-05-18T00:00:00.000000000",
          "2023-05-19T00:00:00.000000000",
          "2023-05-22T00:00:00.000000000",
          "2023-05-23T00:00:00.000000000",
          "2023-05-24T00:00:00.000000000",
          "2023-05-25T00:00:00.000000000",
          "2023-05-26T00:00:00.000000000",
          "2023-05-29T00:00:00.000000000",
          "2023-05-30T00:00:00.000000000",
          "2023-05-31T00:00:00.000000000",
          "2023-06-01T00:00:00.000000000",
          "2023-06-02T00:00:00.000000000",
          "2023-06-05T00:00:00.000000000",
          "2023-06-06T00:00:00.000000000",
          "2023-06-07T00:00:00.000000000",
          "2023-06-08T00:00:00.000000000",
          "2023-06-09T00:00:00.000000000",
          "2023-06-12T00:00:00.000000000",
          "2023-06-13T00:00:00.000000000",
          "2023-06-14T00:00:00.000000000",
          "2023-06-15T00:00:00.000000000",
          "2023-06-16T00:00:00.000000000",
          "2023-06-19T00:00:00.000000000",
          "2023-06-20T00:00:00.000000000",
          "2023-06-21T00:00:00.000000000",
          "2023-06-22T00:00:00.000000000",
          "2023-06-23T00:00:00.000000000",
          "2023-06-26T00:00:00.000000000",
          "2023-06-27T00:00:00.000000000",
          "2023-06-28T00:00:00.000000000",
          "2023-06-30T00:00:00.000000000",
          "2023-07-03T00:00:00.000000000",
          "2023-07-04T00:00:00.000000000",
          "2023-07-05T00:00:00.000000000",
          "2023-07-06T00:00:00.000000000",
          "2023-07-07T00:00:00.000000000",
          "2023-07-10T00:00:00.000000000",
          "2023-07-11T00:00:00.000000000",
          "2023-07-12T00:00:00.000000000",
          "2023-07-13T00:00:00.000000000",
          "2023-07-14T00:00:00.000000000",
          "2023-07-17T00:00:00.000000000",
          "2023-07-18T00:00:00.000000000",
          "2023-07-19T00:00:00.000000000",
          "2023-07-20T00:00:00.000000000",
          "2023-07-21T00:00:00.000000000",
          "2023-07-24T00:00:00.000000000",
          "2023-07-25T00:00:00.000000000",
          "2023-07-26T00:00:00.000000000",
          "2023-07-27T00:00:00.000000000",
          "2023-07-28T00:00:00.000000000",
          "2023-07-31T00:00:00.000000000",
          "2023-08-01T00:00:00.000000000",
          "2023-08-02T00:00:00.000000000",
          "2023-08-03T00:00:00.000000000",
          "2023-08-04T00:00:00.000000000",
          "2023-08-07T00:00:00.000000000",
          "2023-08-08T00:00:00.000000000",
          "2023-08-09T00:00:00.000000000",
          "2023-08-10T00:00:00.000000000",
          "2023-08-11T00:00:00.000000000",
          "2023-08-14T00:00:00.000000000",
          "2023-08-16T00:00:00.000000000",
          "2023-08-17T00:00:00.000000000",
          "2023-08-18T00:00:00.000000000",
          "2023-08-21T00:00:00.000000000",
          "2023-08-22T00:00:00.000000000",
          "2023-08-23T00:00:00.000000000",
          "2023-08-24T00:00:00.000000000",
          "2023-08-25T00:00:00.000000000",
          "2023-08-28T00:00:00.000000000",
          "2023-08-29T00:00:00.000000000",
          "2023-08-30T00:00:00.000000000",
          "2023-08-31T00:00:00.000000000",
          "2023-09-01T00:00:00.000000000",
          "2023-09-04T00:00:00.000000000",
          "2023-09-05T00:00:00.000000000",
          "2023-09-06T00:00:00.000000000",
          "2023-09-07T00:00:00.000000000",
          "2023-09-08T00:00:00.000000000",
          "2023-09-11T00:00:00.000000000",
          "2023-09-12T00:00:00.000000000",
          "2023-09-13T00:00:00.000000000",
          "2023-09-14T00:00:00.000000000",
          "2023-09-15T00:00:00.000000000",
          "2023-09-18T00:00:00.000000000",
          "2023-09-20T00:00:00.000000000",
          "2023-09-21T00:00:00.000000000",
          "2023-09-22T00:00:00.000000000",
          "2023-09-25T00:00:00.000000000",
          "2023-09-26T00:00:00.000000000",
          "2023-09-27T00:00:00.000000000",
          "2023-09-28T00:00:00.000000000",
          "2023-09-29T00:00:00.000000000",
          "2023-10-03T00:00:00.000000000",
          "2023-10-04T00:00:00.000000000",
          "2023-10-05T00:00:00.000000000",
          "2023-10-06T00:00:00.000000000",
          "2023-10-09T00:00:00.000000000",
          "2023-10-10T00:00:00.000000000",
          "2023-10-11T00:00:00.000000000",
          "2023-10-12T00:00:00.000000000",
          "2023-10-13T00:00:00.000000000",
          "2023-10-16T00:00:00.000000000",
          "2023-10-17T00:00:00.000000000",
          "2023-10-18T00:00:00.000000000",
          "2023-10-19T00:00:00.000000000",
          "2023-10-20T00:00:00.000000000",
          "2023-10-23T00:00:00.000000000",
          "2023-10-25T00:00:00.000000000",
          "2023-10-26T00:00:00.000000000",
          "2023-10-27T00:00:00.000000000",
          "2023-10-30T00:00:00.000000000",
          "2023-10-31T00:00:00.000000000",
          "2023-11-01T00:00:00.000000000",
          "2023-11-02T00:00:00.000000000",
          "2023-11-03T00:00:00.000000000",
          "2023-11-06T00:00:00.000000000",
          "2023-11-07T00:00:00.000000000",
          "2023-11-08T00:00:00.000000000",
          "2023-11-09T00:00:00.000000000",
          "2023-11-10T00:00:00.000000000",
          "2023-11-13T00:00:00.000000000",
          "2023-11-15T00:00:00.000000000",
          "2023-11-16T00:00:00.000000000",
          "2023-11-17T00:00:00.000000000",
          "2023-11-20T00:00:00.000000000",
          "2023-11-21T00:00:00.000000000",
          "2023-11-22T00:00:00.000000000",
          "2023-11-23T00:00:00.000000000",
          "2023-11-24T00:00:00.000000000",
          "2023-11-28T00:00:00.000000000",
          "2023-11-29T00:00:00.000000000",
          "2023-11-30T00:00:00.000000000",
          "2023-12-01T00:00:00.000000000",
          "2023-12-04T00:00:00.000000000",
          "2023-12-05T00:00:00.000000000",
          "2023-12-06T00:00:00.000000000",
          "2023-12-07T00:00:00.000000000",
          "2023-12-08T00:00:00.000000000",
          "2023-12-11T00:00:00.000000000",
          "2023-12-12T00:00:00.000000000",
          "2023-12-13T00:00:00.000000000",
          "2023-12-14T00:00:00.000000000",
          "2023-12-15T00:00:00.000000000",
          "2023-12-18T00:00:00.000000000",
          "2023-12-19T00:00:00.000000000",
          "2023-12-20T00:00:00.000000000",
          "2023-12-21T00:00:00.000000000",
          "2023-12-22T00:00:00.000000000",
          "2023-12-26T00:00:00.000000000",
          "2023-12-27T00:00:00.000000000",
          "2023-12-28T00:00:00.000000000",
          "2023-12-29T00:00:00.000000000",
          "2024-01-01T00:00:00.000000000",
          "2024-01-02T00:00:00.000000000",
          "2024-01-03T00:00:00.000000000",
          "2024-01-04T00:00:00.000000000",
          "2024-01-05T00:00:00.000000000",
          "2024-01-08T00:00:00.000000000",
          "2024-01-09T00:00:00.000000000",
          "2024-01-10T00:00:00.000000000",
          "2024-01-11T00:00:00.000000000",
          "2024-01-12T00:00:00.000000000",
          "2024-01-15T00:00:00.000000000",
          "2024-01-16T00:00:00.000000000",
          "2024-01-17T00:00:00.000000000",
          "2024-01-18T00:00:00.000000000",
          "2024-01-19T00:00:00.000000000",
          "2024-01-23T00:00:00.000000000",
          "2024-01-24T00:00:00.000000000",
          "2024-01-25T00:00:00.000000000",
          "2024-01-29T00:00:00.000000000",
          "2024-01-30T00:00:00.000000000",
          "2024-01-31T00:00:00.000000000",
          "2024-02-01T00:00:00.000000000",
          "2024-02-02T00:00:00.000000000",
          "2024-02-05T00:00:00.000000000",
          "2024-02-06T00:00:00.000000000",
          "2024-02-07T00:00:00.000000000",
          "2024-02-08T00:00:00.000000000",
          "2024-02-09T00:00:00.000000000",
          "2024-02-12T00:00:00.000000000",
          "2024-02-13T00:00:00.000000000",
          "2024-02-14T00:00:00.000000000",
          "2024-02-15T00:00:00.000000000",
          "2024-02-16T00:00:00.000000000",
          "2024-02-19T00:00:00.000000000",
          "2024-02-20T00:00:00.000000000",
          "2024-02-21T00:00:00.000000000",
          "2024-02-22T00:00:00.000000000",
          "2024-02-23T00:00:00.000000000",
          "2024-02-26T00:00:00.000000000",
          "2024-02-27T00:00:00.000000000",
          "2024-02-28T00:00:00.000000000",
          "2024-02-29T00:00:00.000000000",
          "2024-03-01T00:00:00.000000000",
          "2024-03-04T00:00:00.000000000",
          "2024-03-05T00:00:00.000000000",
          "2024-03-06T00:00:00.000000000",
          "2024-03-07T00:00:00.000000000",
          "2024-03-11T00:00:00.000000000",
          "2024-03-12T00:00:00.000000000",
          "2024-03-13T00:00:00.000000000",
          "2024-03-14T00:00:00.000000000",
          "2024-03-15T00:00:00.000000000",
          "2024-03-18T00:00:00.000000000",
          "2024-03-19T00:00:00.000000000",
          "2024-03-20T00:00:00.000000000",
          "2024-03-21T00:00:00.000000000",
          "2024-03-22T00:00:00.000000000",
          "2024-03-26T00:00:00.000000000",
          "2024-03-27T00:00:00.000000000",
          "2024-03-28T00:00:00.000000000",
          "2024-04-01T00:00:00.000000000",
          "2024-04-02T00:00:00.000000000",
          "2024-04-03T00:00:00.000000000",
          "2024-04-04T00:00:00.000000000",
          "2024-04-05T00:00:00.000000000",
          "2024-04-08T00:00:00.000000000",
          "2024-04-09T00:00:00.000000000",
          "2024-04-10T00:00:00.000000000",
          "2024-04-12T00:00:00.000000000",
          "2024-04-15T00:00:00.000000000",
          "2024-04-16T00:00:00.000000000",
          "2024-04-18T00:00:00.000000000",
          "2024-04-19T00:00:00.000000000",
          "2024-04-22T00:00:00.000000000",
          "2024-04-23T00:00:00.000000000",
          "2024-04-24T00:00:00.000000000",
          "2024-04-25T00:00:00.000000000",
          "2024-04-26T00:00:00.000000000",
          "2024-04-29T00:00:00.000000000",
          "2024-04-30T00:00:00.000000000",
          "2024-05-02T00:00:00.000000000",
          "2024-05-03T00:00:00.000000000",
          "2024-05-06T00:00:00.000000000",
          "2024-05-07T00:00:00.000000000",
          "2024-05-08T00:00:00.000000000",
          "2024-05-09T00:00:00.000000000",
          "2024-05-10T00:00:00.000000000",
          "2024-05-13T00:00:00.000000000",
          "2024-05-14T00:00:00.000000000",
          "2024-05-15T00:00:00.000000000",
          "2024-05-16T00:00:00.000000000",
          "2024-05-17T00:00:00.000000000",
          "2024-05-21T00:00:00.000000000",
          "2024-05-22T00:00:00.000000000",
          "2024-05-23T00:00:00.000000000",
          "2024-05-24T00:00:00.000000000",
          "2024-05-27T00:00:00.000000000",
          "2024-05-28T00:00:00.000000000",
          "2024-05-29T00:00:00.000000000",
          "2024-05-30T00:00:00.000000000",
          "2024-05-31T00:00:00.000000000",
          "2024-06-03T00:00:00.000000000",
          "2024-06-04T00:00:00.000000000",
          "2024-06-05T00:00:00.000000000",
          "2024-06-06T00:00:00.000000000",
          "2024-06-07T00:00:00.000000000",
          "2024-06-10T00:00:00.000000000",
          "2024-06-11T00:00:00.000000000",
          "2024-06-12T00:00:00.000000000",
          "2024-06-13T00:00:00.000000000",
          "2024-06-14T00:00:00.000000000",
          "2024-06-18T00:00:00.000000000",
          "2024-06-19T00:00:00.000000000",
          "2024-06-20T00:00:00.000000000",
          "2024-06-21T00:00:00.000000000",
          "2024-06-24T00:00:00.000000000",
          "2024-06-25T00:00:00.000000000",
          "2024-06-26T00:00:00.000000000",
          "2024-06-27T00:00:00.000000000",
          "2024-06-28T00:00:00.000000000",
          "2024-07-01T00:00:00.000000000",
          "2024-07-02T00:00:00.000000000",
          "2024-07-03T00:00:00.000000000",
          "2024-07-04T00:00:00.000000000",
          "2024-07-05T00:00:00.000000000",
          "2024-07-08T00:00:00.000000000",
          "2024-07-09T00:00:00.000000000",
          "2024-07-10T00:00:00.000000000",
          "2024-07-11T00:00:00.000000000",
          "2024-07-12T00:00:00.000000000",
          "2024-07-15T00:00:00.000000000",
          "2024-07-16T00:00:00.000000000",
          "2024-07-18T00:00:00.000000000",
          "2024-07-19T00:00:00.000000000",
          "2024-07-22T00:00:00.000000000",
          "2024-07-23T00:00:00.000000000",
          "2024-07-24T00:00:00.000000000",
          "2024-07-25T00:00:00.000000000",
          "2024-07-26T00:00:00.000000000",
          "2024-07-29T00:00:00.000000000",
          "2024-07-30T00:00:00.000000000",
          "2024-07-31T00:00:00.000000000",
          "2024-08-01T00:00:00.000000000",
          "2024-08-02T00:00:00.000000000",
          "2024-08-05T00:00:00.000000000",
          "2024-08-06T00:00:00.000000000",
          "2024-08-07T00:00:00.000000000",
          "2024-08-08T00:00:00.000000000",
          "2024-08-09T00:00:00.000000000",
          "2024-08-12T00:00:00.000000000",
          "2024-08-13T00:00:00.000000000",
          "2024-08-14T00:00:00.000000000",
          "2024-08-16T00:00:00.000000000",
          "2024-08-19T00:00:00.000000000",
          "2024-08-20T00:00:00.000000000",
          "2024-08-21T00:00:00.000000000",
          "2024-08-22T00:00:00.000000000",
          "2024-08-23T00:00:00.000000000",
          "2024-08-26T00:00:00.000000000",
          "2024-08-27T00:00:00.000000000",
          "2024-08-28T00:00:00.000000000",
          "2024-08-29T00:00:00.000000000",
          "2024-08-30T00:00:00.000000000",
          "2024-09-02T00:00:00.000000000",
          "2024-09-03T00:00:00.000000000",
          "2024-09-04T00:00:00.000000000",
          "2024-09-05T00:00:00.000000000",
          "2024-09-06T00:00:00.000000000",
          "2024-09-09T00:00:00.000000000",
          "2024-09-10T00:00:00.000000000",
          "2024-09-11T00:00:00.000000000",
          "2024-09-12T00:00:00.000000000",
          "2024-09-13T00:00:00.000000000",
          "2024-09-16T00:00:00.000000000",
          "2024-09-17T00:00:00.000000000",
          "2024-09-18T00:00:00.000000000",
          "2024-09-19T00:00:00.000000000",
          "2024-09-20T00:00:00.000000000",
          "2024-09-23T00:00:00.000000000",
          "2024-09-24T00:00:00.000000000",
          "2024-09-25T00:00:00.000000000",
          "2024-09-26T00:00:00.000000000",
          "2024-09-27T00:00:00.000000000",
          "2024-09-30T00:00:00.000000000",
          "2024-10-01T00:00:00.000000000",
          "2024-10-03T00:00:00.000000000",
          "2024-10-04T00:00:00.000000000",
          "2024-10-07T00:00:00.000000000",
          "2024-10-08T00:00:00.000000000",
          "2024-10-09T00:00:00.000000000",
          "2024-10-10T00:00:00.000000000",
          "2024-10-11T00:00:00.000000000",
          "2024-10-14T00:00:00.000000000",
          "2024-10-15T00:00:00.000000000",
          "2024-10-16T00:00:00.000000000",
          "2024-10-17T00:00:00.000000000",
          "2024-10-18T00:00:00.000000000",
          "2024-10-21T00:00:00.000000000",
          "2024-10-22T00:00:00.000000000",
          "2024-10-23T00:00:00.000000000",
          "2024-10-24T00:00:00.000000000",
          "2024-10-25T00:00:00.000000000",
          "2024-10-28T00:00:00.000000000",
          "2024-10-29T00:00:00.000000000",
          "2024-10-30T00:00:00.000000000",
          "2024-10-31T00:00:00.000000000",
          "2024-11-01T00:00:00.000000000",
          "2024-11-04T00:00:00.000000000",
          "2024-11-05T00:00:00.000000000",
          "2024-11-06T00:00:00.000000000",
          "2024-11-07T00:00:00.000000000",
          "2024-11-08T00:00:00.000000000",
          "2024-11-11T00:00:00.000000000",
          "2024-11-12T00:00:00.000000000",
          "2024-11-13T00:00:00.000000000",
          "2024-11-14T00:00:00.000000000",
          "2024-11-18T00:00:00.000000000",
          "2024-11-19T00:00:00.000000000",
          "2024-11-21T00:00:00.000000000",
          "2024-11-22T00:00:00.000000000",
          "2024-11-25T00:00:00.000000000",
          "2024-11-26T00:00:00.000000000",
          "2024-11-27T00:00:00.000000000",
          "2024-11-28T00:00:00.000000000",
          "2024-11-29T00:00:00.000000000",
          "2024-12-02T00:00:00.000000000",
          "2024-12-03T00:00:00.000000000",
          "2024-12-04T00:00:00.000000000",
          "2024-12-05T00:00:00.000000000",
          "2024-12-06T00:00:00.000000000",
          "2024-12-09T00:00:00.000000000",
          "2024-12-10T00:00:00.000000000",
          "2024-12-11T00:00:00.000000000",
          "2024-12-12T00:00:00.000000000",
          "2024-12-13T00:00:00.000000000",
          "2024-12-16T00:00:00.000000000",
          "2024-12-17T00:00:00.000000000",
          "2024-12-18T00:00:00.000000000",
          "2024-12-19T00:00:00.000000000",
          "2024-12-20T00:00:00.000000000",
          "2024-12-23T00:00:00.000000000",
          "2024-12-24T00:00:00.000000000",
          "2024-12-26T00:00:00.000000000",
          "2024-12-27T00:00:00.000000000",
          "2024-12-30T00:00:00.000000000",
          "2024-12-31T00:00:00.000000000",
          "2025-01-01T00:00:00.000000000",
          "2025-01-02T00:00:00.000000000",
          "2025-01-03T00:00:00.000000000",
          "2025-01-06T00:00:00.000000000",
          "2025-01-07T00:00:00.000000000",
          "2025-01-08T00:00:00.000000000",
          "2025-01-09T00:00:00.000000000",
          "2025-01-10T00:00:00.000000000",
          "2025-01-13T00:00:00.000000000",
          "2025-01-14T00:00:00.000000000",
          "2025-01-15T00:00:00.000000000",
          "2025-01-16T00:00:00.000000000",
          "2025-01-17T00:00:00.000000000",
          "2025-01-20T00:00:00.000000000",
          "2025-01-21T00:00:00.000000000",
          "2025-01-22T00:00:00.000000000",
          "2025-01-23T00:00:00.000000000",
          "2025-01-24T00:00:00.000000000",
          "2025-01-27T00:00:00.000000000",
          "2025-01-28T00:00:00.000000000",
          "2025-01-29T00:00:00.000000000",
          "2025-01-30T00:00:00.000000000",
          "2025-01-31T00:00:00.000000000",
          "2025-02-01T00:00:00.000000000",
          "2025-02-03T00:00:00.000000000",
          "2025-02-04T00:00:00.000000000",
          "2025-02-05T00:00:00.000000000",
          "2025-02-06T00:00:00.000000000",
          "2025-02-07T00:00:00.000000000",
          "2025-02-10T00:00:00.000000000",
          "2025-02-11T00:00:00.000000000",
          "2025-02-12T00:00:00.000000000",
          "2025-02-13T00:00:00.000000000",
          "2025-02-14T00:00:00.000000000",
          "2025-02-17T00:00:00.000000000",
          "2025-02-18T00:00:00.000000000",
          "2025-02-19T00:00:00.000000000",
          "2025-02-20T00:00:00.000000000",
          "2025-02-21T00:00:00.000000000",
          "2025-02-24T00:00:00.000000000",
          "2025-02-25T00:00:00.000000000",
          "2025-02-27T00:00:00.000000000",
          "2025-02-28T00:00:00.000000000",
          "2025-03-03T00:00:00.000000000",
          "2025-03-04T00:00:00.000000000",
          "2025-03-05T00:00:00.000000000",
          "2025-03-06T00:00:00.000000000",
          "2025-03-07T00:00:00.000000000",
          "2025-03-10T00:00:00.000000000",
          "2025-03-11T00:00:00.000000000",
          "2025-03-12T00:00:00.000000000",
          "2025-03-13T00:00:00.000000000",
          "2025-03-17T00:00:00.000000000",
          "2025-03-18T00:00:00.000000000",
          "2025-03-19T00:00:00.000000000",
          "2025-03-20T00:00:00.000000000",
          "2025-03-21T00:00:00.000000000",
          "2025-03-24T00:00:00.000000000",
          "2025-03-25T00:00:00.000000000",
          "2025-03-26T00:00:00.000000000",
          "2025-03-27T00:00:00.000000000",
          "2025-03-28T00:00:00.000000000",
          "2025-04-01T00:00:00.000000000",
          "2025-04-02T00:00:00.000000000",
          "2025-04-03T00:00:00.000000000",
          "2025-04-04T00:00:00.000000000",
          "2025-04-07T00:00:00.000000000",
          "2025-04-08T00:00:00.000000000",
          "2025-04-09T00:00:00.000000000",
          "2025-04-11T00:00:00.000000000",
          "2025-04-15T00:00:00.000000000",
          "2025-04-16T00:00:00.000000000",
          "2025-04-17T00:00:00.000000000",
          "2025-04-21T00:00:00.000000000",
          "2025-04-22T00:00:00.000000000",
          "2025-04-23T00:00:00.000000000",
          "2025-04-24T00:00:00.000000000",
          "2025-04-25T00:00:00.000000000",
          "2025-04-28T00:00:00.000000000",
          "2025-04-29T00:00:00.000000000",
          "2025-04-30T00:00:00.000000000",
          "2025-05-02T00:00:00.000000000",
          "2025-05-05T00:00:00.000000000",
          "2025-05-06T00:00:00.000000000",
          "2025-05-07T00:00:00.000000000",
          "2025-05-08T00:00:00.000000000",
          "2025-05-09T00:00:00.000000000",
          "2025-05-12T00:00:00.000000000",
          "2025-05-13T00:00:00.000000000",
          "2025-05-14T00:00:00.000000000",
          "2025-05-15T00:00:00.000000000",
          "2025-05-16T00:00:00.000000000",
          "2025-05-19T00:00:00.000000000",
          "2025-05-20T00:00:00.000000000",
          "2025-05-21T00:00:00.000000000",
          "2025-05-22T00:00:00.000000000",
          "2025-05-23T00:00:00.000000000",
          "2025-05-26T00:00:00.000000000",
          "2025-05-27T00:00:00.000000000",
          "2025-05-28T00:00:00.000000000",
          "2025-05-29T00:00:00.000000000",
          "2025-05-30T00:00:00.000000000",
          "2025-06-02T00:00:00.000000000",
          "2025-06-03T00:00:00.000000000",
          "2025-06-04T00:00:00.000000000",
          "2025-06-05T00:00:00.000000000",
          "2025-06-06T00:00:00.000000000",
          "2025-06-09T00:00:00.000000000",
          "2025-06-10T00:00:00.000000000",
          "2025-06-11T00:00:00.000000000",
          "2025-06-12T00:00:00.000000000",
          "2025-06-13T00:00:00.000000000",
          "2025-06-16T00:00:00.000000000",
          "2025-06-17T00:00:00.000000000",
          "2025-06-18T00:00:00.000000000",
          "2025-06-19T00:00:00.000000000",
          "2025-06-20T00:00:00.000000000",
          "2025-06-23T00:00:00.000000000",
          "2025-06-24T00:00:00.000000000",
          "2025-06-25T00:00:00.000000000",
          "2025-06-26T00:00:00.000000000",
          "2025-06-27T00:00:00.000000000",
          "2025-06-30T00:00:00.000000000",
          "2025-07-01T00:00:00.000000000",
          "2025-07-02T00:00:00.000000000",
          "2025-07-03T00:00:00.000000000",
          "2025-07-04T00:00:00.000000000",
          "2025-07-07T00:00:00.000000000",
          "2025-07-08T00:00:00.000000000",
          "2025-07-09T00:00:00.000000000",
          "2025-07-10T00:00:00.000000000",
          "2025-07-11T00:00:00.000000000",
          "2025-07-14T00:00:00.000000000",
          "2025-07-15T00:00:00.000000000",
          "2025-07-16T00:00:00.000000000",
          "2025-07-17T00:00:00.000000000",
          "2025-07-18T00:00:00.000000000",
          "2025-07-21T00:00:00.000000000",
          "2025-07-22T00:00:00.000000000",
          "2025-07-23T00:00:00.000000000",
          "2025-07-24T00:00:00.000000000",
          "2025-07-25T00:00:00.000000000",
          "2025-07-28T00:00:00.000000000",
          "2025-07-29T00:00:00.000000000",
          "2025-07-30T00:00:00.000000000",
          "2025-07-31T00:00:00.000000000",
          "2025-08-01T00:00:00.000000000",
          "2025-08-04T00:00:00.000000000",
          "2025-08-05T00:00:00.000000000",
          "2025-08-06T00:00:00.000000000",
          "2025-08-07T00:00:00.000000000",
          "2025-08-08T00:00:00.000000000",
          "2025-08-11T00:00:00.000000000",
          "2025-08-12T00:00:00.000000000",
          "2025-08-13T00:00:00.000000000",
          "2025-08-14T00:00:00.000000000",
          "2025-08-18T00:00:00.000000000",
          "2025-08-19T00:00:00.000000000",
          "2025-08-20T00:00:00.000000000",
          "2025-08-21T00:00:00.000000000",
          "2025-08-22T00:00:00.000000000",
          "2025-08-25T00:00:00.000000000",
          "2025-08-26T00:00:00.000000000",
          "2025-08-27T00:00:00.000000000",
          "2025-08-28T00:00:00.000000000",
          "2025-08-29T00:00:00.000000000",
          "2025-09-01T00:00:00.000000000",
          "2025-09-02T00:00:00.000000000",
          "2025-09-03T00:00:00.000000000",
          "2025-09-04T00:00:00.000000000",
          "2025-09-05T00:00:00.000000000",
          "2025-09-08T00:00:00.000000000",
          "2025-09-09T00:00:00.000000000",
          "2025-09-10T00:00:00.000000000",
          "2025-09-11T00:00:00.000000000",
          "2025-09-12T00:00:00.000000000",
          "2025-09-15T00:00:00.000000000",
          "2025-09-16T00:00:00.000000000",
          "2025-09-17T00:00:00.000000000",
          "2025-09-18T00:00:00.000000000",
          "2025-09-19T00:00:00.000000000",
          "2025-09-22T00:00:00.000000000",
          "2025-09-23T00:00:00.000000000",
          "2025-09-24T00:00:00.000000000",
          "2025-09-25T00:00:00.000000000",
          "2025-09-26T00:00:00.000000000",
          "2025-09-29T00:00:00.000000000",
          "2025-09-30T00:00:00.000000000",
          "2025-10-01T00:00:00.000000000",
          "2025-10-02T00:00:00.000000000",
          "2025-10-03T00:00:00.000000000",
          "2025-10-06T00:00:00.000000000"
         ],
         "xaxis": "x3",
         "y": {
          "bdata": "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",
          "dtype": "f8"
         },
         "yaxis": "y3"
        },
        {
         "hovertemplate": "Predicted: INR %{y:.2f}<extra></extra>",
         "line": {
          "color": "#2ecc71",
          "dash": "dot",
          "width": 2
         },
         "name": "Predicted",
         "showlegend": false,
         "type": "scatter",
         "x": [
          "2022-12-26T00:00:00.000000000",
          "2022-12-27T00:00:00.000000000",
          "2022-12-28T00:00:00.000000000",
          "2022-12-29T00:00:00.000000000",
          "2022-12-30T00:00:00.000000000",
          "2023-01-02T00:00:00.000000000",
          "2023-01-03T00:00:00.000000000",
          "2023-01-04T00:00:00.000000000",
          "2023-01-05T00:00:00.000000000",
          "2023-01-06T00:00:00.000000000",
          "2023-01-09T00:00:00.000000000",
          "2023-01-10T00:00:00.000000000",
          "2023-01-11T00:00:00.000000000",
          "2023-01-12T00:00:00.000000000",
          "2023-01-13T00:00:00.000000000",
          "2023-01-16T00:00:00.000000000",
          "2023-01-17T00:00:00.000000000",
          "2023-01-18T00:00:00.000000000",
          "2023-01-19T00:00:00.000000000",
          "2023-01-20T00:00:00.000000000",
          "2023-01-23T00:00:00.000000000",
          "2023-01-24T00:00:00.000000000",
          "2023-01-25T00:00:00.000000000",
          "2023-01-27T00:00:00.000000000",
          "2023-01-30T00:00:00.000000000",
          "2023-01-31T00:00:00.000000000",
          "2023-02-01T00:00:00.000000000",
          "2023-02-02T00:00:00.000000000",
          "2023-02-03T00:00:00.000000000",
          "2023-02-06T00:00:00.000000000",
          "2023-02-07T00:00:00.000000000",
          "2023-02-08T00:00:00.000000000",
          "2023-02-09T00:00:00.000000000",
          "2023-02-10T00:00:00.000000000",
          "2023-02-13T00:00:00.000000000",
          "2023-02-14T00:00:00.000000000",
          "2023-02-15T00:00:00.000000000",
          "2023-02-16T00:00:00.000000000",
          "2023-02-17T00:00:00.000000000",
          "2023-02-20T00:00:00.000000000",
          "2023-02-21T00:00:00.000000000",
          "2023-02-22T00:00:00.000000000",
          "2023-02-23T00:00:00.000000000",
          "2023-02-24T00:00:00.000000000",
          "2023-02-27T00:00:00.000000000",
          "2023-02-28T00:00:00.000000000",
          "2023-03-01T00:00:00.000000000",
          "2023-03-02T00:00:00.000000000",
          "2023-03-03T00:00:00.000000000",
          "2023-03-06T00:00:00.000000000",
          "2023-03-08T00:00:00.000000000",
          "2023-03-09T00:00:00.000000000",
          "2023-03-10T00:00:00.000000000",
          "2023-03-13T00:00:00.000000000",
          "2023-03-14T00:00:00.000000000",
          "2023-03-15T00:00:00.000000000",
          "2023-03-16T00:00:00.000000000",
          "2023-03-17T00:00:00.000000000",
          "2023-03-20T00:00:00.000000000",
          "2023-03-21T00:00:00.000000000",
          "2023-03-22T00:00:00.000000000",
          "2023-03-23T00:00:00.000000000",
          "2023-03-24T00:00:00.000000000",
          "2023-03-27T00:00:00.000000000",
          "2023-03-28T00:00:00.000000000",
          "2023-03-29T00:00:00.000000000",
          "2023-03-31T00:00:00.000000000",
          "2023-04-03T00:00:00.000000000",
          "2023-04-05T00:00:00.000000000",
          "2023-04-06T00:00:00.000000000",
          "2023-04-10T00:00:00.000000000",
          "2023-04-11T00:00:00.000000000",
          "2023-04-12T00:00:00.000000000",
          "2023-04-13T00:00:00.000000000",
          "2023-04-17T00:00:00.000000000",
          "2023-04-18T00:00:00.000000000",
          "2023-04-19T00:00:00.000000000",
          "2023-04-20T00:00:00.000000000",
          "2023-04-21T00:00:00.000000000",
          "2023-04-24T00:00:00.000000000",
          "2023-04-25T00:00:00.000000000",
          "2023-04-26T00:00:00.000000000",
          "2023-04-27T00:00:00.000000000",
          "2023-04-28T00:00:00.000000000",
          "2023-05-02T00:00:00.000000000",
          "2023-05-03T00:00:00.000000000",
          "2023-05-04T00:00:00.000000000",
          "2023-05-05T00:00:00.000000000",
          "2023-05-08T00:00:00.000000000",
          "2023-05-09T00:00:00.000000000",
          "2023-05-10T00:00:00.000000000",
          "2023-05-11T00:00:00.000000000",
          "2023-05-12T00:00:00.000000000",
          "2023-05-15T00:00:00.000000000",
          "2023-05-16T00:00:00.000000000",
          "2023-05-17T00:00:00.000000000",
          "2023-05-18T00:00:00.000000000",
          "2023-05-19T00:00:00.000000000",
          "2023-05-22T00:00:00.000000000",
          "2023-05-23T00:00:00.000000000",
          "2023-05-24T00:00:00.000000000",
          "2023-05-25T00:00:00.000000000",
          "2023-05-26T00:00:00.000000000",
          "2023-05-29T00:00:00.000000000",
          "2023-05-30T00:00:00.000000000",
          "2023-05-31T00:00:00.000000000",
          "2023-06-01T00:00:00.000000000",
          "2023-06-02T00:00:00.000000000",
          "2023-06-05T00:00:00.000000000",
          "2023-06-06T00:00:00.000000000",
          "2023-06-07T00:00:00.000000000",
          "2023-06-08T00:00:00.000000000",
          "2023-06-09T00:00:00.000000000",
          "2023-06-12T00:00:00.000000000",
          "2023-06-13T00:00:00.000000000",
          "2023-06-14T00:00:00.000000000",
          "2023-06-15T00:00:00.000000000",
          "2023-06-16T00:00:00.000000000",
          "2023-06-19T00:00:00.000000000",
          "2023-06-20T00:00:00.000000000",
          "2023-06-21T00:00:00.000000000",
          "2023-06-22T00:00:00.000000000",
          "2023-06-23T00:00:00.000000000",
          "2023-06-26T00:00:00.000000000",
          "2023-06-27T00:00:00.000000000",
          "2023-06-28T00:00:00.000000000",
          "2023-06-30T00:00:00.000000000",
          "2023-07-03T00:00:00.000000000",
          "2023-07-04T00:00:00.000000000",
          "2023-07-05T00:00:00.000000000",
          "2023-07-06T00:00:00.000000000",
          "2023-07-07T00:00:00.000000000",
          "2023-07-10T00:00:00.000000000",
          "2023-07-11T00:00:00.000000000",
          "2023-07-12T00:00:00.000000000",
          "2023-07-13T00:00:00.000000000",
          "2023-07-14T00:00:00.000000000",
          "2023-07-17T00:00:00.000000000",
          "2023-07-18T00:00:00.000000000",
          "2023-07-19T00:00:00.000000000",
          "2023-07-20T00:00:00.000000000",
          "2023-07-21T00:00:00.000000000",
          "2023-07-24T00:00:00.000000000",
          "2023-07-25T00:00:00.000000000",
          "2023-07-26T00:00:00.000000000",
          "2023-07-27T00:00:00.000000000",
          "2023-07-28T00:00:00.000000000",
          "2023-07-31T00:00:00.000000000",
          "2023-08-01T00:00:00.000000000",
          "2023-08-02T00:00:00.000000000",
          "2023-08-03T00:00:00.000000000",
          "2023-08-04T00:00:00.000000000",
          "2023-08-07T00:00:00.000000000",
          "2023-08-08T00:00:00.000000000",
          "2023-08-09T00:00:00.000000000",
          "2023-08-10T00:00:00.000000000",
          "2023-08-11T00:00:00.000000000",
          "2023-08-14T00:00:00.000000000",
          "2023-08-16T00:00:00.000000000",
          "2023-08-17T00:00:00.000000000",
          "2023-08-18T00:00:00.000000000",
          "2023-08-21T00:00:00.000000000",
          "2023-08-22T00:00:00.000000000",
          "2023-08-23T00:00:00.000000000",
          "2023-08-24T00:00:00.000000000",
          "2023-08-25T00:00:00.000000000",
          "2023-08-28T00:00:00.000000000",
          "2023-08-29T00:00:00.000000000",
          "2023-08-30T00:00:00.000000000",
          "2023-08-31T00:00:00.000000000",
          "2023-09-01T00:00:00.000000000",
          "2023-09-04T00:00:00.000000000",
          "2023-09-05T00:00:00.000000000",
          "2023-09-06T00:00:00.000000000",
          "2023-09-07T00:00:00.000000000",
          "2023-09-08T00:00:00.000000000",
          "2023-09-11T00:00:00.000000000",
          "2023-09-12T00:00:00.000000000",
          "2023-09-13T00:00:00.000000000",
          "2023-09-14T00:00:00.000000000",
          "2023-09-15T00:00:00.000000000",
          "2023-09-18T00:00:00.000000000",
          "2023-09-20T00:00:00.000000000",
          "2023-09-21T00:00:00.000000000",
          "2023-09-22T00:00:00.000000000",
          "2023-09-25T00:00:00.000000000",
          "2023-09-26T00:00:00.000000000",
          "2023-09-27T00:00:00.000000000",
          "2023-09-28T00:00:00.000000000",
          "2023-09-29T00:00:00.000000000",
          "2023-10-03T00:00:00.000000000",
          "2023-10-04T00:00:00.000000000",
          "2023-10-05T00:00:00.000000000",
          "2023-10-06T00:00:00.000000000",
          "2023-10-09T00:00:00.000000000",
          "2023-10-10T00:00:00.000000000",
          "2023-10-11T00:00:00.000000000",
          "2023-10-12T00:00:00.000000000",
          "2023-10-13T00:00:00.000000000",
          "2023-10-16T00:00:00.000000000",
          "2023-10-17T00:00:00.000000000",
          "2023-10-18T00:00:00.000000000",
          "2023-10-19T00:00:00.000000000",
          "2023-10-20T00:00:00.000000000",
          "2023-10-23T00:00:00.000000000",
          "2023-10-25T00:00:00.000000000",
          "2023-10-26T00:00:00.000000000",
          "2023-10-27T00:00:00.000000000",
          "2023-10-30T00:00:00.000000000",
          "2023-10-31T00:00:00.000000000",
          "2023-11-01T00:00:00.000000000",
          "2023-11-02T00:00:00.000000000",
          "2023-11-03T00:00:00.000000000",
          "2023-11-06T00:00:00.000000000",
          "2023-11-07T00:00:00.000000000",
          "2023-11-08T00:00:00.000000000",
          "2023-11-09T00:00:00.000000000",
          "2023-11-10T00:00:00.000000000",
          "2023-11-13T00:00:00.000000000",
          "2023-11-15T00:00:00.000000000",
          "2023-11-16T00:00:00.000000000",
          "2023-11-17T00:00:00.000000000",
          "2023-11-20T00:00:00.000000000",
          "2023-11-21T00:00:00.000000000",
          "2023-11-22T00:00:00.000000000",
          "2023-11-23T00:00:00.000000000",
          "2023-11-24T00:00:00.000000000",
          "2023-11-28T00:00:00.000000000",
          "2023-11-29T00:00:00.000000000",
          "2023-11-30T00:00:00.000000000",
          "2023-12-01T00:00:00.000000000",
          "2023-12-04T00:00:00.000000000",
          "2023-12-05T00:00:00.000000000",
          "2023-12-06T00:00:00.000000000",
          "2023-12-07T00:00:00.000000000",
          "2023-12-08T00:00:00.000000000",
          "2023-12-11T00:00:00.000000000",
          "2023-12-12T00:00:00.000000000",
          "2023-12-13T00:00:00.000000000",
          "2023-12-14T00:00:00.000000000",
          "2023-12-15T00:00:00.000000000",
          "2023-12-18T00:00:00.000000000",
          "2023-12-19T00:00:00.000000000",
          "2023-12-20T00:00:00.000000000",
          "2023-12-21T00:00:00.000000000",
          "2023-12-22T00:00:00.000000000",
          "2023-12-26T00:00:00.000000000",
          "2023-12-27T00:00:00.000000000",
          "2023-12-28T00:00:00.000000000",
          "2023-12-29T00:00:00.000000000",
          "2024-01-01T00:00:00.000000000",
          "2024-01-02T00:00:00.000000000",
          "2024-01-03T00:00:00.000000000",
          "2024-01-04T00:00:00.000000000",
          "2024-01-05T00:00:00.000000000",
          "2024-01-08T00:00:00.000000000",
          "2024-01-09T00:00:00.000000000",
          "2024-01-10T00:00:00.000000000",
          "2024-01-11T00:00:00.000000000",
          "2024-01-12T00:00:00.000000000",
          "2024-01-15T00:00:00.000000000",
          "2024-01-16T00:00:00.000000000",
          "2024-01-17T00:00:00.000000000",
          "2024-01-18T00:00:00.000000000",
          "2024-01-19T00:00:00.000000000",
          "2024-01-23T00:00:00.000000000",
          "2024-01-24T00:00:00.000000000",
          "2024-01-25T00:00:00.000000000",
          "2024-01-29T00:00:00.000000000",
          "2024-01-30T00:00:00.000000000",
          "2024-01-31T00:00:00.000000000",
          "2024-02-01T00:00:00.000000000",
          "2024-02-02T00:00:00.000000000",
          "2024-02-05T00:00:00.000000000",
          "2024-02-06T00:00:00.000000000",
          "2024-02-07T00:00:00.000000000",
          "2024-02-08T00:00:00.000000000",
          "2024-02-09T00:00:00.000000000",
          "2024-02-12T00:00:00.000000000",
          "2024-02-13T00:00:00.000000000",
          "2024-02-14T00:00:00.000000000",
          "2024-02-15T00:00:00.000000000",
          "2024-02-16T00:00:00.000000000",
          "2024-02-19T00:00:00.000000000",
          "2024-02-20T00:00:00.000000000",
          "2024-02-21T00:00:00.000000000",
          "2024-02-22T00:00:00.000000000",
          "2024-02-23T00:00:00.000000000",
          "2024-02-26T00:00:00.000000000",
          "2024-02-27T00:00:00.000000000",
          "2024-02-28T00:00:00.000000000",
          "2024-02-29T00:00:00.000000000",
          "2024-03-01T00:00:00.000000000",
          "2024-03-04T00:00:00.000000000",
          "2024-03-05T00:00:00.000000000",
          "2024-03-06T00:00:00.000000000",
          "2024-03-07T00:00:00.000000000",
          "2024-03-11T00:00:00.000000000",
          "2024-03-12T00:00:00.000000000",
          "2024-03-13T00:00:00.000000000",
          "2024-03-14T00:00:00.000000000",
          "2024-03-15T00:00:00.000000000",
          "2024-03-18T00:00:00.000000000",
          "2024-03-19T00:00:00.000000000",
          "2024-03-20T00:00:00.000000000",
          "2024-03-21T00:00:00.000000000",
          "2024-03-22T00:00:00.000000000",
          "2024-03-26T00:00:00.000000000",
          "2024-03-27T00:00:00.000000000",
          "2024-03-28T00:00:00.000000000",
          "2024-04-01T00:00:00.000000000",
          "2024-04-02T00:00:00.000000000",
          "2024-04-03T00:00:00.000000000",
          "2024-04-04T00:00:00.000000000",
          "2024-04-05T00:00:00.000000000",
          "2024-04-08T00:00:00.000000000",
          "2024-04-09T00:00:00.000000000",
          "2024-04-10T00:00:00.000000000",
          "2024-04-12T00:00:00.000000000",
          "2024-04-15T00:00:00.000000000",
          "2024-04-16T00:00:00.000000000",
          "2024-04-18T00:00:00.000000000",
          "2024-04-19T00:00:00.000000000",
          "2024-04-22T00:00:00.000000000",
          "2024-04-23T00:00:00.000000000",
          "2024-04-24T00:00:00.000000000",
          "2024-04-25T00:00:00.000000000",
          "2024-04-26T00:00:00.000000000",
          "2024-04-29T00:00:00.000000000",
          "2024-04-30T00:00:00.000000000",
          "2024-05-02T00:00:00.000000000",
          "2024-05-03T00:00:00.000000000",
          "2024-05-06T00:00:00.000000000",
          "2024-05-07T00:00:00.000000000",
          "2024-05-08T00:00:00.000000000",
          "2024-05-09T00:00:00.000000000",
          "2024-05-10T00:00:00.000000000",
          "2024-05-13T00:00:00.000000000",
          "2024-05-14T00:00:00.000000000",
          "2024-05-15T00:00:00.000000000",
          "2024-05-16T00:00:00.000000000",
          "2024-05-17T00:00:00.000000000",
          "2024-05-21T00:00:00.000000000",
          "2024-05-22T00:00:00.000000000",
          "2024-05-23T00:00:00.000000000",
          "2024-05-24T00:00:00.000000000",
          "2024-05-27T00:00:00.000000000",
          "2024-05-28T00:00:00.000000000",
          "2024-05-29T00:00:00.000000000",
          "2024-05-30T00:00:00.000000000",
          "2024-05-31T00:00:00.000000000",
          "2024-06-03T00:00:00.000000000",
          "2024-06-04T00:00:00.000000000",
          "2024-06-05T00:00:00.000000000",
          "2024-06-06T00:00:00.000000000",
          "2024-06-07T00:00:00.000000000",
          "2024-06-10T00:00:00.000000000",
          "2024-06-11T00:00:00.000000000",
          "2024-06-12T00:00:00.000000000",
          "2024-06-13T00:00:00.000000000",
          "2024-06-14T00:00:00.000000000",
          "2024-06-18T00:00:00.000000000",
          "2024-06-19T00:00:00.000000000",
          "2024-06-20T00:00:00.000000000",
          "2024-06-21T00:00:00.000000000",
          "2024-06-24T00:00:00.000000000",
          "2024-06-25T00:00:00.000000000",
          "2024-06-26T00:00:00.000000000",
          "2024-06-27T00:00:00.000000000",
          "2024-06-28T00:00:00.000000000",
          "2024-07-01T00:00:00.000000000",
          "2024-07-02T00:00:00.000000000",
          "2024-07-03T00:00:00.000000000",
          "2024-07-04T00:00:00.000000000",
          "2024-07-05T00:00:00.000000000",
          "2024-07-08T00:00:00.000000000",
          "2024-07-09T00:00:00.000000000",
          "2024-07-10T00:00:00.000000000",
          "2024-07-11T00:00:00.000000000",
          "2024-07-12T00:00:00.000000000",
          "2024-07-15T00:00:00.000000000",
          "2024-07-16T00:00:00.000000000",
          "2024-07-18T00:00:00.000000000",
          "2024-07-19T00:00:00.000000000",
          "2024-07-22T00:00:00.000000000",
          "2024-07-23T00:00:00.000000000",
          "2024-07-24T00:00:00.000000000",
          "2024-07-25T00:00:00.000000000",
          "2024-07-26T00:00:00.000000000",
          "2024-07-29T00:00:00.000000000",
          "2024-07-30T00:00:00.000000000",
          "2024-07-31T00:00:00.000000000",
          "2024-08-01T00:00:00.000000000",
          "2024-08-02T00:00:00.000000000",
          "2024-08-05T00:00:00.000000000",
          "2024-08-06T00:00:00.000000000",
          "2024-08-07T00:00:00.000000000",
          "2024-08-08T00:00:00.000000000",
          "2024-08-09T00:00:00.000000000",
          "2024-08-12T00:00:00.000000000",
          "2024-08-13T00:00:00.000000000",
          "2024-08-14T00:00:00.000000000",
          "2024-08-16T00:00:00.000000000",
          "2024-08-19T00:00:00.000000000",
          "2024-08-20T00:00:00.000000000",
          "2024-08-21T00:00:00.000000000",
          "2024-08-22T00:00:00.000000000",
          "2024-08-23T00:00:00.000000000",
          "2024-08-26T00:00:00.000000000",
          "2024-08-27T00:00:00.000000000",
          "2024-08-28T00:00:00.000000000",
          "2024-08-29T00:00:00.000000000",
          "2024-08-30T00:00:00.000000000",
          "2024-09-02T00:00:00.000000000",
          "2024-09-03T00:00:00.000000000",
          "2024-09-04T00:00:00.000000000",
          "2024-09-05T00:00:00.000000000",
          "2024-09-06T00:00:00.000000000",
          "2024-09-09T00:00:00.000000000",
          "2024-09-10T00:00:00.000000000",
          "2024-09-11T00:00:00.000000000",
          "2024-09-12T00:00:00.000000000",
          "2024-09-13T00:00:00.000000000",
          "2024-09-16T00:00:00.000000000",
          "2024-09-17T00:00:00.000000000",
          "2024-09-18T00:00:00.000000000",
          "2024-09-19T00:00:00.000000000",
          "2024-09-20T00:00:00.000000000",
          "2024-09-23T00:00:00.000000000",
          "2024-09-24T00:00:00.000000000",
          "2024-09-25T00:00:00.000000000",
          "2024-09-26T00:00:00.000000000",
          "2024-09-27T00:00:00.000000000",
          "2024-09-30T00:00:00.000000000",
          "2024-10-01T00:00:00.000000000",
          "2024-10-03T00:00:00.000000000",
          "2024-10-04T00:00:00.000000000",
          "2024-10-07T00:00:00.000000000",
          "2024-10-08T00:00:00.000000000",
          "2024-10-09T00:00:00.000000000",
          "2024-10-10T00:00:00.000000000",
          "2024-10-11T00:00:00.000000000",
          "2024-10-14T00:00:00.000000000",
          "2024-10-15T00:00:00.000000000",
          "2024-10-16T00:00:00.000000000",
          "2024-10-17T00:00:00.000000000",
          "2024-10-18T00:00:00.000000000",
          "2024-10-21T00:00:00.000000000",
          "2024-10-22T00:00:00.000000000",
          "2024-10-23T00:00:00.000000000",
          "2024-10-24T00:00:00.000000000",
          "2024-10-25T00:00:00.000000000",
          "2024-10-28T00:00:00.000000000",
          "2024-10-29T00:00:00.000000000",
          "2024-10-30T00:00:00.000000000",
          "2024-10-31T00:00:00.000000000",
          "2024-11-01T00:00:00.000000000",
          "2024-11-04T00:00:00.000000000",
          "2024-11-05T00:00:00.000000000",
          "2024-11-06T00:00:00.000000000",
          "2024-11-07T00:00:00.000000000",
          "2024-11-08T00:00:00.000000000",
          "2024-11-11T00:00:00.000000000",
          "2024-11-12T00:00:00.000000000",
          "2024-11-13T00:00:00.000000000",
          "2024-11-14T00:00:00.000000000",
          "2024-11-18T00:00:00.000000000",
          "2024-11-19T00:00:00.000000000",
          "2024-11-21T00:00:00.000000000",
          "2024-11-22T00:00:00.000000000",
          "2024-11-25T00:00:00.000000000",
          "2024-11-26T00:00:00.000000000",
          "2024-11-27T00:00:00.000000000",
          "2024-11-28T00:00:00.000000000",
          "2024-11-29T00:00:00.000000000",
          "2024-12-02T00:00:00.000000000",
          "2024-12-03T00:00:00.000000000",
          "2024-12-04T00:00:00.000000000",
          "2024-12-05T00:00:00.000000000",
          "2024-12-06T00:00:00.000000000",
          "2024-12-09T00:00:00.000000000",
          "2024-12-10T00:00:00.000000000",
          "2024-12-11T00:00:00.000000000",
          "2024-12-12T00:00:00.000000000",
          "2024-12-13T00:00:00.000000000",
          "2024-12-16T00:00:00.000000000",
          "2024-12-17T00:00:00.000000000",
          "2024-12-18T00:00:00.000000000",
          "2024-12-19T00:00:00.000000000",
          "2024-12-20T00:00:00.000000000",
          "2024-12-23T00:00:00.000000000",
          "2024-12-24T00:00:00.000000000",
          "2024-12-26T00:00:00.000000000",
          "2024-12-27T00:00:00.000000000",
          "2024-12-30T00:00:00.000000000",
          "2024-12-31T00:00:00.000000000",
          "2025-01-01T00:00:00.000000000",
          "2025-01-02T00:00:00.000000000",
          "2025-01-03T00:00:00.000000000",
          "2025-01-06T00:00:00.000000000",
          "2025-01-07T00:00:00.000000000",
          "2025-01-08T00:00:00.000000000",
          "2025-01-09T00:00:00.000000000",
          "2025-01-10T00:00:00.000000000",
          "2025-01-13T00:00:00.000000000",
          "2025-01-14T00:00:00.000000000",
          "2025-01-15T00:00:00.000000000",
          "2025-01-16T00:00:00.000000000",
          "2025-01-17T00:00:00.000000000",
          "2025-01-20T00:00:00.000000000",
          "2025-01-21T00:00:00.000000000",
          "2025-01-22T00:00:00.000000000",
          "2025-01-23T00:00:00.000000000",
          "2025-01-24T00:00:00.000000000",
          "2025-01-27T00:00:00.000000000",
          "2025-01-28T00:00:00.000000000",
          "2025-01-29T00:00:00.000000000",
          "2025-01-30T00:00:00.000000000",
          "2025-01-31T00:00:00.000000000",
          "2025-02-01T00:00:00.000000000",
          "2025-02-03T00:00:00.000000000",
          "2025-02-04T00:00:00.000000000",
          "2025-02-05T00:00:00.000000000",
          "2025-02-06T00:00:00.000000000",
          "2025-02-07T00:00:00.000000000",
          "2025-02-10T00:00:00.000000000",
          "2025-02-11T00:00:00.000000000",
          "2025-02-12T00:00:00.000000000",
          "2025-02-13T00:00:00.000000000",
          "2025-02-14T00:00:00.000000000",
          "2025-02-17T00:00:00.000000000",
          "2025-02-18T00:00:00.000000000",
          "2025-02-19T00:00:00.000000000",
          "2025-02-20T00:00:00.000000000",
          "2025-02-21T00:00:00.000000000",
          "2025-02-24T00:00:00.000000000",
          "2025-02-25T00:00:00.000000000",
          "2025-02-27T00:00:00.000000000",
          "2025-02-28T00:00:00.000000000",
          "2025-03-03T00:00:00.000000000",
          "2025-03-04T00:00:00.000000000",
          "2025-03-05T00:00:00.000000000",
          "2025-03-06T00:00:00.000000000",
          "2025-03-07T00:00:00.000000000",
          "2025-03-10T00:00:00.000000000",
          "2025-03-11T00:00:00.000000000",
          "2025-03-12T00:00:00.000000000",
          "2025-03-13T00:00:00.000000000",
          "2025-03-17T00:00:00.000000000",
          "2025-03-18T00:00:00.000000000",
          "2025-03-19T00:00:00.000000000",
          "2025-03-20T00:00:00.000000000",
          "2025-03-21T00:00:00.000000000",
          "2025-03-24T00:00:00.000000000",
          "2025-03-25T00:00:00.000000000",
          "2025-03-26T00:00:00.000000000",
          "2025-03-27T00:00:00.000000000",
          "2025-03-28T00:00:00.000000000",
          "2025-04-01T00:00:00.000000000",
          "2025-04-02T00:00:00.000000000",
          "2025-04-03T00:00:00.000000000",
          "2025-04-04T00:00:00.000000000",
          "2025-04-07T00:00:00.000000000",
          "2025-04-08T00:00:00.000000000",
          "2025-04-09T00:00:00.000000000",
          "2025-04-11T00:00:00.000000000",
          "2025-04-15T00:00:00.000000000",
          "2025-04-16T00:00:00.000000000",
          "2025-04-17T00:00:00.000000000",
          "2025-04-21T00:00:00.000000000",
          "2025-04-22T00:00:00.000000000",
          "2025-04-23T00:00:00.000000000",
          "2025-04-24T00:00:00.000000000",
          "2025-04-25T00:00:00.000000000",
          "2025-04-28T00:00:00.000000000",
          "2025-04-29T00:00:00.000000000",
          "2025-04-30T00:00:00.000000000",
          "2025-05-02T00:00:00.000000000",
          "2025-05-05T00:00:00.000000000",
          "2025-05-06T00:00:00.000000000",
          "2025-05-07T00:00:00.000000000",
          "2025-05-08T00:00:00.000000000",
          "2025-05-09T00:00:00.000000000",
          "2025-05-12T00:00:00.000000000",
          "2025-05-13T00:00:00.000000000",
          "2025-05-14T00:00:00.000000000",
          "2025-05-15T00:00:00.000000000",
          "2025-05-16T00:00:00.000000000",
          "2025-05-19T00:00:00.000000000",
          "2025-05-20T00:00:00.000000000",
          "2025-05-21T00:00:00.000000000",
          "2025-05-22T00:00:00.000000000",
          "2025-05-23T00:00:00.000000000",
          "2025-05-26T00:00:00.000000000",
          "2025-05-27T00:00:00.000000000",
          "2025-05-28T00:00:00.000000000",
          "2025-05-29T00:00:00.000000000",
          "2025-05-30T00:00:00.000000000",
          "2025-06-02T00:00:00.000000000",
          "2025-06-03T00:00:00.000000000",
          "2025-06-04T00:00:00.000000000",
          "2025-06-05T00:00:00.000000000",
          "2025-06-06T00:00:00.000000000",
          "2025-06-09T00:00:00.000000000",
          "2025-06-10T00:00:00.000000000",
          "2025-06-11T00:00:00.000000000",
          "2025-06-12T00:00:00.000000000",
          "2025-06-13T00:00:00.000000000",
          "2025-06-16T00:00:00.000000000",
          "2025-06-17T00:00:00.000000000",
          "2025-06-18T00:00:00.000000000",
          "2025-06-19T00:00:00.000000000",
          "2025-06-20T00:00:00.000000000",
          "2025-06-23T00:00:00.000000000",
          "2025-06-24T00:00:00.000000000",
          "2025-06-25T00:00:00.000000000",
          "2025-06-26T00:00:00.000000000",
          "2025-06-27T00:00:00.000000000",
          "2025-06-30T00:00:00.000000000",
          "2025-07-01T00:00:00.000000000",
          "2025-07-02T00:00:00.000000000",
          "2025-07-03T00:00:00.000000000",
          "2025-07-04T00:00:00.000000000",
          "2025-07-07T00:00:00.000000000",
          "2025-07-08T00:00:00.000000000",
          "2025-07-09T00:00:00.000000000",
          "2025-07-10T00:00:00.000000000",
          "2025-07-11T00:00:00.000000000",
          "2025-07-14T00:00:00.000000000",
          "2025-07-15T00:00:00.000000000",
          "2025-07-16T00:00:00.000000000",
          "2025-07-17T00:00:00.000000000",
          "2025-07-18T00:00:00.000000000",
          "2025-07-21T00:00:00.000000000",
          "2025-07-22T00:00:00.000000000",
          "2025-07-23T00:00:00.000000000",
          "2025-07-24T00:00:00.000000000",
          "2025-07-25T00:00:00.000000000",
          "2025-07-28T00:00:00.000000000",
          "2025-07-29T00:00:00.000000000",
          "2025-07-30T00:00:00.000000000",
          "2025-07-31T00:00:00.000000000",
          "2025-08-01T00:00:00.000000000",
          "2025-08-04T00:00:00.000000000",
          "2025-08-05T00:00:00.000000000",
          "2025-08-06T00:00:00.000000000",
          "2025-08-07T00:00:00.000000000",
          "2025-08-08T00:00:00.000000000",
          "2025-08-11T00:00:00.000000000",
          "2025-08-12T00:00:00.000000000",
          "2025-08-13T00:00:00.000000000",
          "2025-08-14T00:00:00.000000000",
          "2025-08-18T00:00:00.000000000",
          "2025-08-19T00:00:00.000000000",
          "2025-08-20T00:00:00.000000000",
          "2025-08-21T00:00:00.000000000",
          "2025-08-22T00:00:00.000000000",
          "2025-08-25T00:00:00.000000000",
          "2025-08-26T00:00:00.000000000",
          "2025-08-27T00:00:00.000000000",
          "2025-08-28T00:00:00.000000000",
          "2025-08-29T00:00:00.000000000",
          "2025-09-01T00:00:00.000000000",
          "2025-09-02T00:00:00.000000000",
          "2025-09-03T00:00:00.000000000",
          "2025-09-04T00:00:00.000000000",
          "2025-09-05T00:00:00.000000000",
          "2025-09-08T00:00:00.000000000",
          "2025-09-09T00:00:00.000000000",
          "2025-09-10T00:00:00.000000000",
          "2025-09-11T00:00:00.000000000",
          "2025-09-12T00:00:00.000000000",
          "2025-09-15T00:00:00.000000000",
          "2025-09-16T00:00:00.000000000",
          "2025-09-17T00:00:00.000000000",
          "2025-09-18T00:00:00.000000000",
          "2025-09-19T00:00:00.000000000",
          "2025-09-22T00:00:00.000000000",
          "2025-09-23T00:00:00.000000000",
          "2025-09-24T00:00:00.000000000",
          "2025-09-25T00:00:00.000000000",
          "2025-09-26T00:00:00.000000000",
          "2025-09-29T00:00:00.000000000",
          "2025-09-30T00:00:00.000000000",
          "2025-10-01T00:00:00.000000000",
          "2025-10-02T00:00:00.000000000",
          "2025-10-03T00:00:00.000000000",
          "2025-10-06T00:00:00.000000000"
         ],
         "xaxis": "x3",
         "y": {
          "bdata": "zbaEGh9VqkCF1PMsflmqQHExfoAgXapAxV4Z/XhfqkDVq/SzkGKqQM1dl31qZKpA7TP0L0BnqkDJYgK5YnCqQLGX5t2WdqpA7Unu2qt6qkAFUlmgcXOqQKWSuefYe6pA1XyAtDh8qkAF7lFS+ICqQKlAJGZEg6pA4b9rgyaIqkBdYAPDoIyqQBWuuOd+kapAVZmwXdqSqkBFl9YOi4+qQA0mQW93i6pAPeFqz6uNqkBFdUJ62o+qQDVZVnuVj6pAdeaw86iMqkDxHjoqao2qQC23aS6nhKpApRsWBOCEqkABlR+QqIiqQJXx2qu9i6pAnW9+9GKKqkBF6vY2HYqqQDmB/KkDjapAlbU0ZxePqkDpdykOrY6qQLGUFFpvh6pAHTXBcVCFqkBBkLiqiIeqQOU850m/jKpAmS4Ml2GKqkDhH/inJImqQA3qNwbghqpA3QvRa6eCqkCtJUsRpYOqQL1gM9iQhKpAYSi6qB+BqkCZq98Tbn+qQLGAMkONiKpAZWK266qIqkDdcpnz/YuqQJmD4S6MkapAWQ9T5QuXqkBNC2xwsJaqQLm9C3i9lqpA9YQ7DReUqkC53KQbc4+qQLVIr3HujKpABYVg7M2KqkDJIZvJ3oeqQAkPgmbwhapAmVcWRoiCqkDVoQ865IKqQLUTHCPNgKpAJd0XD3B+qkA1Gu/8EXyqQK2HYzhoeapAtWxs5HJ5qkAFEObmqICqQJkvUhjEhKpAnYFx5I6MqkAJkq7p45CqQHU2/5cTmKpAAbd5bTuYqkA1CTFE/puqQKXmDkeDmKpA4dHBl0OSqkCd6NZH9I2qQL04b6rMhqpACXtuvRWDqkBVoWz5soWqQKlkCkach6pAfUSvzlOIqkDBlu6ovoqqQGXaZZnoiapAGZQlFEKMqkBd823GJ42qQGHPaed5iKpAuUfozESKqkAB11iSU4uqQKWFdlhAjapAjdtFbNGQqkCJlztCxpGqQPWovsh9kKpAkVheDnmNqkDxcVpS/IeqQBUZmXRfhKpA/TL8+md7qkBlf5ofyHSqQEHnU/yVc6pAGSpim/B7qkB1WwKM+n6qQNWuGBJfgapA+a+zv6yAqkARynSZj4OqQHEtLMR4g6pAGYxAC5aBqkBx5V8EyXqqQEVV18P9fKpAbSLN7Rh6qkCRRFOKw3aqQJGnFFfabqpAUQUvIpFwqkBRMyPpaGyqQGXZMGLQZ6pAJcq1MA5qqkClZUVZgWqqQHFPl+tVa6pAdVnq93BqqkD9AzYhaWWqQDUVP5x+aKpADYnZzrprqkBNh23alXGqQBUESG9Hc6pArWLUsrxyqkBFl0p9xm+qQD03+lZ0b6pAPUIUCDlxqkBdpGWjH3yqQHlDwQNlfqpATTYCIpyDqkDpsX0HrIaqQG34fL2Ph6pAJWPcXm2IqkBRfaQYsYGqQG15kaz5fapAEVzT0tF5qkB9seGm23+qQLEFTu02kKpAcXmcGneVqkCttow2WJeqQDkh06n2k6pA7Q63hDuQqkBZcF9CioKqQI194iWnfKpAMXvfoch3qkA1UAKEs3KqQCXJb6+rb6pAxdh9Gk9tqkD9qkiEtHSqQJUypb8yfKpAZWzE0iqAqkA9I96IdICqQC0iEARqh6pAHQPvXAyQqkDtZXtDHJSqQOksi8rVlqpAbb6L6IGXqkBFZQT6RpqqQA0uiZwUnqpAvSw45XiiqkDt0taId6OqQP1SLfomnqpATQx4OvWgqkCpgJeuDKGqQM1FjBe0o6pAoRTnVZOkqkA19bFRDaWqQCmENeA4papArYmkOcWlqkDlk9R1c6iqQP0AtnfopapAed6coVypqkDh/VLJKbGqQIGnB5ust6pApW2lqae8qkAVC/8ZGsOqQPEe7ygCxapAtdqI8qrKqkD5Ot1u1dWqQGFH9wAj2apAPZT1h6fYqkBxYEszXtqqQJVeThSi2qpAXUA8wRHZqkDtYvuZm9SqQEU2HIyz06pAadkZPLnOqkDhGonX7cyqQLk0x34/zapA2R6jIwbHqkCZi7Xt7cOqQCV/9ViiwapAMU4PyL7FqkDZBuO+t86qQEkxd5md16pApQ5OvMHdqkC9L+jUC+GqQO3bthEe4KpAIacA84/XqkCBEZFc4NeqQHGe4J6606pAydN83IbQqkCFxWUrfc2qQHXU1SYGyqpA3bTqGDLOqkBN/10YMMqqQAVsrODDx6pAxR9/oBbDqkD9ZVUha8KqQPlO+TzVxKpArdQxM1LFqkBJQKlP7MKqQAUqc94YxapA9eQZDLzEqkBFZK0umseqQFFvbeJcyKpAYVy8dHbKqkCtLo6+PMiqQMWzkknxxapA0QHSgMHDqkD91o60MsuqQA3Zyydz1qpAmV/Zup/cqkBlHs9SpuCqQJHi3hdO4KpAaWYa7w7hqkA5PbLsDd2qQPVfJ8/l1KpAAbH+0r/RqkAl3K/5eNOqQF0aBJYS0KpA5eIFBk/RqkBZqvTL5dGqQH2KpIrW06pAzQ4ixWXaqkAJWsReFd2qQImg4RNP3qpAvYfyFE/fqkBxliQD4uCqQOm/DfHl1qpAfbj7dZ/XqkCdinraCOGqQAU7Sbq15KpAsbNRsnLfqkCFPXj9q9aqQG3uhvmYz6pAOYrcMqrJqkC9qfoXO7+qQB0Q5+o8tqpAzWvEQrOsqkDVs4671KSqQNngHgL0papAlck/68ylqkAdJUk6n5+qQP1t6E9wnapALd3KxnmlqkAFptds76eqQGWbsxn9rapATVb5aT22qkBZm9Nf4b6qQJ2S01Hwy6pABQHMU+PUqkBFFTGdVtaqQM2CkABG2qpAuV6jQI3fqkDJdrHxZeaqQI2tLxFl5KpAvbKxMw7kqkAVARqgbeOqQG3HMboK5KpA4fnGVWTnqkCNQP043eyqQO0o0A1w9KpAOdgqZhQAq0CpO824lgarQLkazfHSD6tAaefj3BAPq0CJpHRgUw+rQE2hO2JiDatAUXZeRE0Iq0BFWAL7CgOrQOnEg5pb+qpAHY01r8PyqkAt7o9YzOyqQAU/iiwT5qpAfUNHuVzdqkB1j8qgM9iqQIngyMpS3KpA/fK4+LHcqkCd8iW/0NyqQMXo6+D04apA0TkmCcDmqkD1418cHuqqQGH+DS3k7apAGZpchpTxqkANN5KSjvKqQCWk1rj096pAlbIGmD3/qkAtM4qUVAarQAW6wFwQDqtAPbp/jU0Rq0AFyNX+zxarQAHzshzlG6tAvS2urO0bq0CFJW2X9RWrQC0oNixyFKtAYRxQBe0Tq0BVUXcILhGrQPlMhV2ZD6tAlXTUUNINq0C9Xtcb3g6rQE0hbfRaEatA0ZpKiccRq0AdwUjFZBSrQI0jQnKTGKtAWWAXUesbq0DVek1lWR6rQAnu7yp5H6tAIcSI2/oiq0BV1a9VZiarQE00z9K8JatA5ZXz4jskq0AVMXjVdSOrQA1gUUBNIqtATQchjUckq0DFfcBSrCarQA2VgWp9JqtAzWYKcRQoq0B9AEN9ySerQEGjEBjfKqtAYe/KLEsqq0Alt8QoGyyrQB2YBF8gLKtAtWxRKR0wq0A5oBducjSrQFHcbNwFN6tAfRFTEIQ3q0Cx4i+v+jSrQJ2yf5gpNqtAPW0bkJM0q0B1U2Xs6TKrQAUq3dtINKtApa1Zgswxq0D9YX6sPTCrQKHtXjgmMKtAMY5gfPIyq0DVnvmNkzKrQJU8+w9OMqtANU2yIEUyq0AttkKpDDGrQMX7Ar7uLatA/VQSsNEpq0Al1RdLbiqrQG3eJuVwKatAQZw32Xcqq0D9/bAV4i2rQH0j49u+MatAodbkVDoyq0AZAdoMgzKrQGWFEiJ3MatAbUzIqy4zq0CFfFrDqTGrQL31DiOHMKtAcTZ2Sk8vq0CNCp+w0y2rQAkunSpfLatARcpwxeotq0Bl5PWgITCrQEnaVo8KM6tA0SKKkT84q0BJbHsRLzmrQGUIP6VqPKtAYcXdILM/q0A1v5RZYD2rQL155EvOPatAfa3onRk9q0AF/ZG6xDqrQPWsHjejOKtAbSbzpCAyq0Ct7QQ7JC+rQPmh5oaINqtARWvwajE3q0ARz+DR+TWrQJkRgRYqNatAtR649Eoxq0D5hHbBpiqrQB2DFn75IqtAtdD1UqUaq0B5HJwK6RGrQIEVJKnkCKtAPcpa6e/+qkCtTDO7NvaqQMWfn+jE7qpAkRlhjSXpqkBd+iRx+tyqQN3dV+xJzqpAqayLBOTHqkAFPGbORMeqQC2rIR8JyKpAFX3hUjXOqkCxWOlcQ9KqQKXfTSul16pApbqE7tvgqkB9Eh5KbOqqQBEOB8Ag8qpA/ZSnjC74qkDN41FcXP2qQNWOo+p2/apA0aU7zbj7qkAVTER1CfuqQP1lCiAD+qpAgREd7qT3qkAhQ7/t+PSqQHVklxM586pANfbVPtvuqkBZADlSRuuqQBVRBSDn5qpAfer297bkqkDZHN1pI+KqQOXKqMXx4KpASZnoxkfjqkC1d41uduKqQFFZxRGY5KpAOXh11ELnqkBdgZJmS+mqQE3y4NF566pAdUI9NqbjqkDl6PvnRN+qQMUFll303apAPbwc2lzeqkANFyfcsd+qQMlL8tKm4apA8fUN567kqkDhYCy5yeiqQI3q4R9Q66pAzbvH5bXvqkC1o1hXevGqQEmv4nGz9qpADXJVesP8qkBRZbHVgwCrQJWq59dzBKtAVSqWN9sFq0B1lKNumgOrQK1Edx9eA6tA8cuD/wcCq0ARp2elnQCrQDUqIwyaAKtAcaRiEnUBq0D1+gJt3f+qQIHZtxtc/KpAGfQbNnD8qkC9zZX2KvuqQH1rl3jl+qpADawMmLP8qkBpqSUE4f2qQH2ueSDk/6pAjecPnCj8qkB9Xo6gavyqQPVU/NPW+qpAhYN+A3n6qkA5fN+zcwCrQMnHboQGBKtAVW9nBpAHq0ChcDnhcgurQMUac/TQDqtABb4Bz20Pq0Al2IaqpBGrQF2lBNhnDatAJSxQeIoOq0CFGapA3RGrQMHMWuNFGKtAmc0vgPUdq0BFGpb8gSGrQJ3Z1Ne3IatAQc1gSGgdq0Dl4JEmExyrQIXg/uwxHKtA6fzXIlodq0BNus3Z1x+rQCkMtngNI6tAZXhDARojq0DVWgscUCOrQBFBN3lQIatApUnGoo4fq0A59gkaLB6rQOGch/wHHatA/ZQzHvMXq0DZY+85NRCrQC3TYJRHDatAaQPls7wIq0BlpLwPdwKrQN0OmX7DAKtAeahnhiYCq0AJeAY3HgOrQG2sAvaFBKtAzWhtBgYFq0D1t4PpzwKrQDF9xFdzA6tAhSyAjXoGq0A9hew+LAWrQCWmiyiNBKtATTnKNLgBq0BdgmR5cgOrQJ0dcW9UAatAOZZUiFoFq0CRuWD66werQLVNZqvAB6tASa25k98Jq0DBdIpaIAqrQKW/XbxCDKtAdQkedL8Nq0ANYnoeIQ+rQOViT7vQFKtA1Vn/UQsZq0CBQ0HdjxyrQO3h/s26HatAkaFm3n8fq0BhbvD0/iOrQG0of6flJqtABXuruDMqq0ABan9tsSqrQAnzPGcbK6tAZe29Bj8tq0BxrXxSOS6rQCl0J6a3LqtAdbD2H+0sq0Chw0i/ui2rQNW2ufLhKqtA8f5QlEYpq0D5kNbzzSarQJWQYblCJ6tAne8IOkElq0BB//iljiKrQDXQUhJ0HatAJeabTGQaq0B9AH005xerQF2xxy6AEatADWqZ3uoJq0B1lenv/P2qQMVT9dqo7KpAVZjlI/LfqkCpr+kZ0NaqQG3SIv77zapAgb/wbM7HqkChl9khab+qQA3iB/zLs6pA7cPeiUaoqkC5FNA2npqqQHENTZ9gkKpAxYgeLJqJqkBN8tn4OoSqQNEDqYTugKpAKWO+XxeIqkBJaBujCZGqQE0ZgRJwn6pAifJp4NeuqkAVVp1d8bqqQAmjrTJUyKpAYVt28xPQqkAddYaUv9KqQF2b3s1e1qpAxZFh2THOqkA9/NojjcSqQJUvJRayvKpAkd9XlY65qkAdcmI28bOqQCkM6Vbsq6pATemdJOKmqkDBNovxk6GqQCV51gnZm6pASW6uYA6XqkAhU7zdL5OqQOFFk/cUmqpAFSgdBVWfqkBFxK3B06iqQFkAhFOus6pA4T6pbmPBqkDJKt52dsyqQGGU54+h1apAIfal8abgqkAlx02qFuqqQFFog1mr76pAhTYrUAn2qkBlzca+nfqqQM0pL/VVCatAxWipBLIFq0Ah1u85YgWrQCkeHdd0BatAAR+PTzMDq0D9ndIWPf2qQO1ncUMR+KpAfSUdBN32qkAlKtW/D/KqQD2EfVD28qpAXcuwcaL2qkANenQ6jfeqQCUIpE9Q+qpAdbM8ElD8qkDlujCOQPuqQHEcr5vB+qpArXIIwkT3qkAloJVGl/aqQEEAUHE79apAbeeccOf2qkDVaM7jaPyqQDHxMpNTA6tA5d55kokHq0DFFs9dggWrQFXtRk3hBqtAaXLM+9wMq0Ap6bL1JhGrQHU8/FJIDatAXQ2wvC8Jq0DhzU1HBwirQN2U+qnPAqtAdafc3ygAq0CVZr+uEgWrQFlavkoEBqtAoV2dS/MGq0CJtgQsjgmrQAFUv3ljB6tABdKAwV4Gq0C9HDv1QQSrQAGzovgNBqtAgcU4KWsFq0AZaO2VQQSrQAnJNzj6AKtANTcs5BT/qkCVQ7wrLPOqQN3OiFrs6qpAbQoUYgnpqkDFTLl3UOSqQLHzOGl23apA/e+9B7fVqkDRg1VeYcyqQI23FIsRxKpADV5bQFi+qkCxIucf7LOqQJkWdZ/mqapAQdNgm2mcqkBJk3ed142qQCXryYw+f6pA/fJO+4FtqkBNxyskxleqQLFKpHRxSqpAnVKT5wY3qkC9kRu3JCCqQKXkKZHYDKpAHVOBKaD8qUA5+pglvvGpQDGpQP6c7KlAmcRSjxvrqUDFTqs20+qpQHULIX2M7KlApYAzjanyqUAlQwerYAaqQF15AtASGKpASVgQAVUkqkBFa5DeDDmqQFVGssncSKpAHcjZmjBWqkCdIOo/llmqQPVLeJbiXqpArazJUEBoqkAFwd3DoG+qQPW/Dz+WdqpA/dMYfL18qkD1zHs7An2qQJ3aXoFDfapA/R3UYiOCqkClA1afkYyqQLUAqfoglKpA/UZqow6aqkDFzbVDMZuqQME14ktAn6pAFcBxII2jqkDtBl4NVKWqQJG3avr2o6pAUUMWaJSZqkB9oQZLOZKqQNFPtrb7iqpAIXd5ULR/qkBtywgvOHaqQK3OwAnib6pAHRXzloJqqkAdN4crM2qqQBVp+GIUaKpA/V7YLbZiqkA=",
          "dtype": "f8"
         },
         "yaxis": "y3"
        }
       ],
       "layout": {
        "annotations": [
         {
          "font": {
           "size": 16
          },
          "showarrow": false,
          "text": "Random Forest",
          "x": 0.14444444444444446,
          "xanchor": "center",
          "xref": "paper",
          "y": 1,
          "yanchor": "bottom",
          "yref": "paper"
         },
         {
          "font": {
           "size": 16
          },
          "showarrow": false,
          "text": "SVR",
          "x": 0.5,
          "xanchor": "center",
          "xref": "paper",
          "y": 1,
          "yanchor": "bottom",
          "yref": "paper"
         },
         {
          "font": {
           "size": 16
          },
          "showarrow": false,
          "text": "LSTM",
          "x": 0.8555555555555556,
          "xanchor": "center",
          "xref": "paper",
          "y": 1,
          "yanchor": "bottom",
          "yref": "paper"
         }
        ],
        "height": 500,
        "hovermode": "x unified",
        "showlegend": true,
        "template": {
         "data": {
          "bar": [
           {
            "error_x": {
             "color": "#2a3f5f"
            },
            "error_y": {
             "color": "#2a3f5f"
            },
            "marker": {
             "line": {
              "color": "white",
              "width": 0.5
             },
             "pattern": {
              "fillmode": "overlay",
              "size": 10,
              "solidity": 0.2
             }
            },
            "type": "bar"
           }
          ],
          "barpolar": [
           {
            "marker": {
             "line": {
              "color": "white",
              "width": 0.5
             },
             "pattern": {
              "fillmode": "overlay",
              "size": 10,
              "solidity": 0.2
             }
            },
            "type": "barpolar"
           }
          ],
          "carpet": [
           {
            "aaxis": {
             "endlinecolor": "#2a3f5f",
             "gridcolor": "#C8D4E3",
             "linecolor": "#C8D4E3",
             "minorgridcolor": "#C8D4E3",
             "startlinecolor": "#2a3f5f"
            },
            "baxis": {
             "endlinecolor": "#2a3f5f",
             "gridcolor": "#C8D4E3",
             "linecolor": "#C8D4E3",
             "minorgridcolor": "#C8D4E3",
             "startlinecolor": "#2a3f5f"
            },
            "type": "carpet"
           }
          ],
          "choropleth": [
           {
            "colorbar": {
             "outlinewidth": 0,
             "ticks": ""
            },
            "type": "choropleth"
           }
          ],
          "contour": [
           {
            "colorbar": {
             "outlinewidth": 0,
             "ticks": ""
            },
            "colorscale": [
             [
              0,
              "#0d0887"
             ],
             [
              0.1111111111111111,
              "#46039f"
             ],
             [
              0.2222222222222222,
              "#7201a8"
             ],
             [
              0.3333333333333333,
              "#9c179e"
             ],
             [
              0.4444444444444444,
              "#bd3786"
             ],
             [
              0.5555555555555556,
              "#d8576b"
             ],
             [
              0.6666666666666666,
              "#ed7953"
             ],
             [
              0.7777777777777778,
              "#fb9f3a"
             ],
             [
              0.8888888888888888,
              "#fdca26"
             ],
             [
              1,
              "#f0f921"
             ]
            ],
            "type": "contour"
           }
          ],
          "contourcarpet": [
           {
            "colorbar": {
             "outlinewidth": 0,
             "ticks": ""
            },
            "type": "contourcarpet"
           }
          ],
          "heatmap": [
           {
            "colorbar": {
             "outlinewidth": 0,
             "ticks": ""
            },
            "colorscale": [
             [
              0,
              "#0d0887"
             ],
             [
              0.1111111111111111,
              "#46039f"
             ],
             [
              0.2222222222222222,
              "#7201a8"
             ],
             [
              0.3333333333333333,
              "#9c179e"
             ],
             [
              0.4444444444444444,
              "#bd3786"
             ],
             [
              0.5555555555555556,
              "#d8576b"
             ],
             [
              0.6666666666666666,
              "#ed7953"
             ],
             [
              0.7777777777777778,
              "#fb9f3a"
             ],
             [
              0.8888888888888888,
              "#fdca26"
             ],
             [
              1,
              "#f0f921"
             ]
            ],
            "type": "heatmap"
           }
          ],
          "histogram": [
           {
            "marker": {
             "pattern": {
              "fillmode": "overlay",
              "size": 10,
              "solidity": 0.2
             }
            },
            "type": "histogram"
           }
          ],
          "histogram2d": [
           {
            "colorbar": {
             "outlinewidth": 0,
             "ticks": ""
            },
            "colorscale": [
             [
              0,
              "#0d0887"
             ],
             [
              0.1111111111111111,
              "#46039f"
             ],
             [
              0.2222222222222222,
              "#7201a8"
             ],
             [
              0.3333333333333333,
              "#9c179e"
             ],
             [
              0.4444444444444444,
              "#bd3786"
             ],
             [
              0.5555555555555556,
              "#d8576b"
             ],
             [
              0.6666666666666666,
              "#ed7953"
             ],
             [
              0.7777777777777778,
              "#fb9f3a"
             ],
             [
              0.8888888888888888,
              "#fdca26"
             ],
             [
              1,
              "#f0f921"
             ]
            ],
            "type": "histogram2d"
           }
          ],
          "histogram2dcontour": [
           {
            "colorbar": {
             "outlinewidth": 0,
             "ticks": ""
            },
            "colorscale": [
             [
              0,
              "#0d0887"
             ],
             [
              0.1111111111111111,
              "#46039f"
             ],
             [
              0.2222222222222222,
              "#7201a8"
             ],
             [
              0.3333333333333333,
              "#9c179e"
             ],
             [
              0.4444444444444444,
              "#bd3786"
             ],
             [
              0.5555555555555556,
              "#d8576b"
             ],
             [
              0.6666666666666666,
              "#ed7953"
             ],
             [
              0.7777777777777778,
              "#fb9f3a"
             ],
             [
              0.8888888888888888,
              "#fdca26"
             ],
             [
              1,
              "#f0f921"
             ]
            ],
            "type": "histogram2dcontour"
           }
          ],
          "mesh3d": [
           {
            "colorbar": {
             "outlinewidth": 0,
             "ticks": ""
            },
            "type": "mesh3d"
           }
          ],
          "parcoords": [
           {
            "line": {
             "colorbar": {
              "outlinewidth": 0,
              "ticks": ""
             }
            },
            "type": "parcoords"
           }
          ],
          "pie": [
           {
            "automargin": true,
            "type": "pie"
           }
          ],
          "scatter": [
           {
            "fillpattern": {
             "fillmode": "overlay",
             "size": 10,
             "solidity": 0.2
            },
            "type": "scatter"
           }
          ],
          "scatter3d": [
           {
            "line": {
             "colorbar": {
              "outlinewidth": 0,
              "ticks": ""
             }
            },
            "marker": {
             "colorbar": {
              "outlinewidth": 0,
              "ticks": ""
             }
            },
            "type": "scatter3d"
           }
          ],
          "scattercarpet": [
           {
            "marker": {
             "colorbar": {
              "outlinewidth": 0,
              "ticks": ""
             }
            },
            "type": "scattercarpet"
           }
          ],
          "scattergeo": [
           {
            "marker": {
             "colorbar": {
              "outlinewidth": 0,
              "ticks": ""
             }
            },
            "type": "scattergeo"
           }
          ],
          "scattergl": [
           {
            "marker": {
             "colorbar": {
              "outlinewidth": 0,
              "ticks": ""
             }
            },
            "type": "scattergl"
           }
          ],
          "scattermap": [
           {
            "marker": {
             "colorbar": {
              "outlinewidth": 0,
              "ticks": ""
             }
            },
            "type": "scattermap"
           }
          ],
          "scattermapbox": [
           {
            "marker": {
             "colorbar": {
              "outlinewidth": 0,
              "ticks": ""
             }
            },
            "type": "scattermapbox"
           }
          ],
          "scatterpolar": [
           {
            "marker": {
             "colorbar": {
              "outlinewidth": 0,
              "ticks": ""
             }
            },
            "type": "scatterpolar"
           }
          ],
          "scatterpolargl": [
           {
            "marker": {
             "colorbar": {
              "outlinewidth": 0,
              "ticks": ""
             }
            },
            "type": "scatterpolargl"
           }
          ],
          "scatterternary": [
           {
            "marker": {
             "colorbar": {
              "outlinewidth": 0,
              "ticks": ""
             }
            },
            "type": "scatterternary"
           }
          ],
          "surface": [
           {
            "colorbar": {
             "outlinewidth": 0,
             "ticks": ""
            },
            "colorscale": [
             [
              0,
              "#0d0887"
             ],
             [
              0.1111111111111111,
              "#46039f"
             ],
             [
              0.2222222222222222,
              "#7201a8"
             ],
             [
              0.3333333333333333,
              "#9c179e"
             ],
             [
              0.4444444444444444,
              "#bd3786"
             ],
             [
              0.5555555555555556,
              "#d8576b"
             ],
             [
              0.6666666666666666,
              "#ed7953"
             ],
             [
              0.7777777777777778,
              "#fb9f3a"
             ],
             [
              0.8888888888888888,
              "#fdca26"
             ],
             [
              1,
              "#f0f921"
             ]
            ],
            "type": "surface"
           }
          ],
          "table": [
           {
            "cells": {
             "fill": {
              "color": "#EBF0F8"
             },
             "line": {
              "color": "white"
             }
            },
            "header": {
             "fill": {
              "color": "#C8D4E3"
             },
             "line": {
              "color": "white"
             }
            },
            "type": "table"
           }
          ]
         },
         "layout": {
          "annotationdefaults": {
           "arrowcolor": "#2a3f5f",
           "arrowhead": 0,
           "arrowwidth": 1
          },
          "autotypenumbers": "strict",
          "coloraxis": {
           "colorbar": {
            "outlinewidth": 0,
            "ticks": ""
           }
          },
          "colorscale": {
           "diverging": [
            [
             0,
             "#8e0152"
            ],
            [
             0.1,
             "#c51b7d"
            ],
            [
             0.2,
             "#de77ae"
            ],
            [
             0.3,
             "#f1b6da"
            ],
            [
             0.4,
             "#fde0ef"
            ],
            [
             0.5,
             "#f7f7f7"
            ],
            [
             0.6,
             "#e6f5d0"
            ],
            [
             0.7,
             "#b8e186"
            ],
            [
             0.8,
             "#7fbc41"
            ],
            [
             0.9,
             "#4d9221"
            ],
            [
             1,
             "#276419"
            ]
           ],
           "sequential": [
            [
             0,
             "#0d0887"
            ],
            [
             0.1111111111111111,
             "#46039f"
            ],
            [
             0.2222222222222222,
             "#7201a8"
            ],
            [
             0.3333333333333333,
             "#9c179e"
            ],
            [
             0.4444444444444444,
             "#bd3786"
            ],
            [
             0.5555555555555556,
             "#d8576b"
            ],
            [
             0.6666666666666666,
             "#ed7953"
            ],
            [
             0.7777777777777778,
             "#fb9f3a"
            ],
            [
             0.8888888888888888,
             "#fdca26"
            ],
            [
             1,
             "#f0f921"
            ]
           ],
           "sequentialminus": [
            [
             0,
             "#0d0887"
            ],
            [
             0.1111111111111111,
             "#46039f"
            ],
            [
             0.2222222222222222,
             "#7201a8"
            ],
            [
             0.3333333333333333,
             "#9c179e"
            ],
            [
             0.4444444444444444,
             "#bd3786"
            ],
            [
             0.5555555555555556,
             "#d8576b"
            ],
            [
             0.6666666666666666,
             "#ed7953"
            ],
            [
             0.7777777777777778,
             "#fb9f3a"
            ],
            [
             0.8888888888888888,
             "#fdca26"
            ],
            [
             1,
             "#f0f921"
            ]
           ]
          },
          "colorway": [
           "#636efa",
           "#EF553B",
           "#00cc96",
           "#ab63fa",
           "#FFA15A",
           "#19d3f3",
           "#FF6692",
           "#B6E880",
           "#FF97FF",
           "#FECB52"
          ],
          "font": {
           "color": "#2a3f5f"
          },
          "geo": {
           "bgcolor": "white",
           "lakecolor": "white",
           "landcolor": "white",
           "showlakes": true,
           "showland": true,
           "subunitcolor": "#C8D4E3"
          },
          "hoverlabel": {
           "align": "left"
          },
          "hovermode": "closest",
          "mapbox": {
           "style": "light"
          },
          "paper_bgcolor": "white",
          "plot_bgcolor": "white",
          "polar": {
           "angularaxis": {
            "gridcolor": "#EBF0F8",
            "linecolor": "#EBF0F8",
            "ticks": ""
           },
           "bgcolor": "white",
           "radialaxis": {
            "gridcolor": "#EBF0F8",
            "linecolor": "#EBF0F8",
            "ticks": ""
           }
          },
          "scene": {
           "xaxis": {
            "backgroundcolor": "white",
            "gridcolor": "#DFE8F3",
            "gridwidth": 2,
            "linecolor": "#EBF0F8",
            "showbackground": true,
            "ticks": "",
            "zerolinecolor": "#EBF0F8"
           },
           "yaxis": {
            "backgroundcolor": "white",
            "gridcolor": "#DFE8F3",
            "gridwidth": 2,
            "linecolor": "#EBF0F8",
            "showbackground": true,
            "ticks": "",
            "zerolinecolor": "#EBF0F8"
           },
           "zaxis": {
            "backgroundcolor": "white",
            "gridcolor": "#DFE8F3",
            "gridwidth": 2,
            "linecolor": "#EBF0F8",
            "showbackground": true,
            "ticks": "",
            "zerolinecolor": "#EBF0F8"
           }
          },
          "shapedefaults": {
           "line": {
            "color": "#2a3f5f"
           }
          },
          "ternary": {
           "aaxis": {
            "gridcolor": "#DFE8F3",
            "linecolor": "#A2B1C6",
            "ticks": ""
           },
           "baxis": {
            "gridcolor": "#DFE8F3",
            "linecolor": "#A2B1C6",
            "ticks": ""
           },
           "bgcolor": "white",
           "caxis": {
            "gridcolor": "#DFE8F3",
            "linecolor": "#A2B1C6",
            "ticks": ""
           }
          },
          "title": {
           "x": 0.05
          },
          "xaxis": {
           "automargin": true,
           "gridcolor": "#EBF0F8",
           "linecolor": "#EBF0F8",
           "ticks": "",
           "title": {
            "standoff": 15
           },
           "zerolinecolor": "#EBF0F8",
           "zerolinewidth": 2
          },
          "yaxis": {
           "automargin": true,
           "gridcolor": "#EBF0F8",
           "linecolor": "#EBF0F8",
           "ticks": "",
           "title": {
            "standoff": 15
           },
           "zerolinecolor": "#EBF0F8",
           "zerolinewidth": 2
          }
         }
        },
        "title": {
         "text": "TCS - Actual vs Predicted Prices (Test Set)"
        },
        "xaxis": {
         "anchor": "y",
         "domain": [
          0,
          0.2888888888888889
         ],
         "tickformat": "%b %d",
         "title": {
          "text": "Date"
         }
        },
        "xaxis2": {
         "anchor": "y2",
         "domain": [
          0.35555555555555557,
          0.6444444444444445
         ],
         "tickformat": "%b %d",
         "title": {
          "text": "Date"
         }
        },
        "xaxis3": {
         "anchor": "y3",
         "domain": [
          0.7111111111111111,
          1
         ],
         "tickformat": "%b %d",
         "title": {
          "text": "Date"
         }
        },
        "yaxis": {
         "anchor": "x",
         "domain": [
          0,
          1
         ],
         "title": {
          "text": "Price (INR )"
         }
        },
        "yaxis2": {
         "anchor": "x2",
         "domain": [
          0,
          1
         ],
         "title": {
          "text": "Price (INR )"
         }
        },
        "yaxis3": {
         "anchor": "x3",
         "domain": [
          0,
          1
         ],
         "title": {
          "text": "Price (INR )"
         }
        }
       }
      }
     },
     "metadata": {},
     "output_type": "display_data"
    },
    {
     "name": "stdout",
     "output_type": "stream",
     "text": [
      "\n",
      "======================================================================\n",
      "PREDICTION SUMMARY\n",
      "======================================================================\n",
      "\n",
      "Stock: TCS\n",
      "Current Price: INR 2988.40\n",
      "Training Period: 6 years (3500 trading days)\n",
      "\n",
      "7-DAY PRICE PREDICTIONS:\n",
      "----------------------------------------------------------------------\n",
      "Best Performing Model: Random_Forest (R2: 0.198)\n",
      "\n",
      "2025-10-07 (Tue):\n",
      "  Random Forest: INR  2947.53  ( -1.37%)\n",
      "  SVR:           INR  2896.24  ( -3.08%)\n",
      "  LSTM:          INR  3381.25  (+13.15%)\n",
      "  Average:       INR  3075.00  ( +2.90%)\n",
      "\n",
      "2025-10-08 (Wed):\n",
      "  Random Forest: INR  2942.51  ( -1.54%)\n",
      "  SVR:           INR  2895.21  ( -3.12%)\n",
      "  LSTM:          INR  3386.68  (+13.33%)\n",
      "  Average:       INR  3074.80  ( +2.89%)\n",
      "\n",
      "2025-10-09 (Thu):\n",
      "  Random Forest: INR  2940.96  ( -1.59%)\n",
      "  SVR:           INR  2895.07  ( -3.12%)\n",
      "  LSTM:          INR  3388.84  (+13.40%)\n",
      "  Average:       INR  3074.96  ( +2.90%)\n",
      "\n",
      "2025-10-10 (Fri):\n",
      "  Random Forest: INR  2940.96  ( -1.59%)\n",
      "  SVR:           INR  2895.03  ( -3.12%)\n",
      "  LSTM:          INR  3390.32  (+13.45%)\n",
      "  Average:       INR  3075.44  ( +2.91%)\n",
      "\n",
      "2025-10-13 (Mon):\n",
      "  Random Forest: INR  2940.96  ( -1.59%)\n",
      "  SVR:           INR  2895.03  ( -3.12%)\n",
      "  LSTM:          INR  3391.27  (+13.48%)\n",
      "  Average:       INR  3075.76  ( +2.92%)\n",
      "\n",
      "2025-10-14 (Tue):\n",
      "  Random Forest: INR  2940.96  ( -1.59%)\n",
      "  SVR:           INR  2895.03  ( -3.12%)\n",
      "  LSTM:          INR  3391.85  (+13.50%)\n",
      "  Average:       INR  3075.95  ( +2.93%)\n",
      "\n",
      "2025-10-15 (Wed):\n",
      "  Random Forest: INR  2940.96  ( -1.59%)\n",
      "  SVR:           INR  2895.03  ( -3.12%)\n",
      "  LSTM:          INR  3392.16  (+13.51%)\n",
      "  Average:       INR  3076.05  ( +2.93%)\n",
      "\n",
      "======================================================================\n",
      "ANALYSIS COMPLETE\n",
      "======================================================================\n",
      "\n",
      "Best Model: Random_Forest\n",
      "Model Accuracy Metrics:\n",
      "  - R-Squared: 0.198\n",
      "  - MAE: INR 240.39\n",
      "  - Directional Accuracy: 53.4%\n",
      "\n",
      "NOTE: These predictions are for educational purposes only.\n",
      "Always conduct thorough research before making investment decisions.\n"
     ]
    }
   ],
   "source": [
    "import pandas as pd\n",
    "import numpy as np\n",
    "import warnings\n",
    "warnings.filterwarnings('ignore')\n",
    "\n",
    "from datetime import datetime, timedelta\n",
    "import yfinance as yf\n",
    "import ta\n",
    "\n",
    "# Disable SSL verification\n",
    "import ssl\n",
    "ssl._create_default_https_context = ssl._create_unverified_context\n",
    "\n",
    "#### Machine Learning Models\n",
    "from sklearn.preprocessing import MinMaxScaler, StandardScaler, RobustScaler\n",
    "from sklearn.ensemble import RandomForestRegressor, GradientBoostingRegressor\n",
    "from sklearn.svm import SVR\n",
    "from sklearn.metrics import mean_squared_error, mean_absolute_error, r2_score\n",
    "from sklearn.model_selection import TimeSeriesSplit\n",
    "\n",
    "#### Deep Learning\n",
    "import tensorflow as tf\n",
    "from tensorflow.keras.models import Sequential\n",
    "from tensorflow.keras.layers import Dense, LSTM, Dropout, Bidirectional, BatchNormalization, GRU\n",
    "from tensorflow.keras.callbacks import EarlyStopping, ReduceLROnPlateau\n",
    "from tensorflow.keras.optimizers import Adam\n",
    "\n",
    "#### Visualization\n",
    "import plotly.graph_objects as go\n",
    "from plotly.subplots import make_subplots\n",
    "\n",
    "import os\n",
    "os.environ['TF_CPP_MIN_LOG_LEVEL'] = '3'\n",
    "tf.get_logger().setLevel('ERROR')\n",
    "\n",
    "class AdvancedStockPredictor:\n",
    "    def __init__(self):\n",
    "        self.models = {}\n",
    "        self.scalers = {}\n",
    "        self.results = {}\n",
    "        self.lstm_scaler = None\n",
    "        self.lstm_model = None\n",
    "        self.currency_info = {}\n",
    "        self.feature_importance = {}\n",
    "        \n",
    "        self.STOCK_SYMBOL_MAP = {\n",
    "            'AAPL': 'AAPL', 'APPLE': 'AAPL',\n",
    "            'MSFT': 'MSFT', 'MICROSOFT': 'MSFT',\n",
    "            'GOOGL': 'GOOGL', 'GOOGLE': 'GOOGL', 'ALPHABET': 'GOOGL',\n",
    "            'AMZN': 'AMZN', 'AMAZON': 'AMZN',\n",
    "            'TSLA': 'TSLA', 'TESLA': 'TSLA',\n",
    "            'META': 'META', 'FACEBOOK': 'META',\n",
    "            'NVDA': 'NVDA', 'NVIDIA': 'NVDA',\n",
    "            'RELIANCE': 'RELIANCE.NS', \n",
    "            'TCS': 'TCS.NS', \n",
    "            'INFY': 'INFY.NS', 'INFOSYS': 'INFY.NS',\n",
    "            'HDFC': 'HDFCBANK.NS', 'HDFCBANK': 'HDFCBANK.NS',\n",
    "            'ICICI': 'ICICIBANK.NS', 'ICICIBANK': 'ICICIBANK.NS',\n",
    "            'SBIN': 'SBIN.NS', 'SBI': 'SBIN.NS',\n",
    "            'WIPRO': 'WIPRO.NS',\n",
    "        }\n",
    "        \n",
    "        self.CURRENCY_MAP = {\n",
    "            '.NS': 'INR ', '.KS': 'KRW ', \n",
    "            '.SW': 'CHF ', '.L': 'GBP ',\n",
    "        }\n",
    "        self.DEFAULT_CURRENCY = 'USD '\n",
    "    \n",
    "    def get_currency_symbol(self, symbol):\n",
    "        for suffix, currency in self.CURRENCY_MAP.items():\n",
    "            if symbol.endswith(suffix):\n",
    "                return currency\n",
    "        return self.DEFAULT_CURRENCY\n",
    "    \n",
    "    def get_correct_symbol(self, symbol_input):\n",
    "        symbol_input = symbol_input.upper().strip()\n",
    "        if symbol_input in self.STOCK_SYMBOL_MAP:\n",
    "            return self.STOCK_SYMBOL_MAP[symbol_input]\n",
    "        return symbol_input\n",
    "    \n",
    "    def fetch_and_prepare_data(self, symbol, years=8):\n",
    "        \"\"\"Fetch more historical data for better training\"\"\"\n",
    "        end_date = datetime.now()\n",
    "        start_date = end_date - timedelta(days=years*365)\n",
    "        \n",
    "        correct_symbol = self.get_correct_symbol(symbol)\n",
    "        print(f\"Fetching {years} years of data for {symbol} -> {correct_symbol}...\")\n",
    "        \n",
    "        try:\n",
    "            df = yf.download(correct_symbol, start=start_date, end=end_date, progress=False)\n",
    "            \n",
    "            if df.empty:\n",
    "                ticker = yf.Ticker(correct_symbol)\n",
    "                df = ticker.history(start=start_date, end=end_date)\n",
    "            \n",
    "            if df.empty:\n",
    "                df = yf.download(correct_symbol, period=\"max\", progress=False)\n",
    "                \n",
    "            if df.empty:\n",
    "                raise ValueError(f\"No data found for symbol: {symbol}\")\n",
    "            \n",
    "            if isinstance(df.columns, pd.MultiIndex):\n",
    "                df.columns = df.columns.droplevel(1)\n",
    "            \n",
    "            print(f\"Fetched {len(df)} records from {df.index[0].date()} to {df.index[-1].date()}\")\n",
    "            \n",
    "            self.currency_info[symbol] = self.get_currency_symbol(correct_symbol)\n",
    "            \n",
    "            # ADVANCED FEATURE ENGINEERING\n",
    "            print(\"Computing advanced features...\")\n",
    "            \n",
    "            # Basic price features\n",
    "            df['Returns'] = df['Close'].pct_change()\n",
    "            df['Log_Returns'] = np.log(df['Close'] / df['Close'].shift(1))\n",
    "            df['High_Low_Pct'] = (df['High'] - df['Low']) / df['Low'] * 100\n",
    "            df['Close_Open_Pct'] = (df['Close'] - df['Open']) / df['Open'] * 100\n",
    "            \n",
    "            # Trend strength\n",
    "            df['Trend_Strength'] = df['Close'].rolling(20).apply(\n",
    "                lambda x: np.polyfit(range(len(x)), x, 1)[0], raw=True\n",
    "            )\n",
    "            \n",
    "            # Multiple timeframe MAs\n",
    "            for window in [5, 10, 20, 50, 100, 200]:\n",
    "                df[f'SMA_{window}'] = df['Close'].rolling(window).mean()\n",
    "                df[f'EMA_{window}'] = df['Close'].ewm(span=window).mean()\n",
    "                \n",
    "                # Price position relative to MA\n",
    "                df[f'Close_to_SMA_{window}'] = (df['Close'] - df[f'SMA_{window}']) / df[f'SMA_{window}'] * 100\n",
    "            \n",
    "            # MA crossovers (powerful signals)\n",
    "            df['SMA_5_20_Cross'] = (df['SMA_5'] > df['SMA_20']).astype(int)\n",
    "            df['SMA_10_50_Cross'] = (df['SMA_10'] > df['SMA_50']).astype(int)\n",
    "            df['EMA_12_26_Cross'] = (df['EMA_12'] > df['EMA_26']).astype(int)\n",
    "            \n",
    "            # Volatility (critical for prediction)\n",
    "            for window in [5, 10, 20, 30]:\n",
    "                df[f'Volatility_{window}'] = df['Returns'].rolling(window).std() * np.sqrt(252)\n",
    "                df[f'Return_Volatility_Ratio_{window}'] = df['Returns'].rolling(window).mean() / (\n",
    "                    df['Returns'].rolling(window).std() + 1e-8\n",
    "                )\n",
    "            \n",
    "            # Volume analysis\n",
    "            df['Volume_SMA_20'] = df['Volume'].rolling(20).mean()\n",
    "            df['Volume_Ratio'] = df['Volume'] / (df['Volume_SMA_20'] + 1)\n",
    "            df['Volume_Price_Trend'] = df['Volume'] * df['Returns']\n",
    "            \n",
    "            # Price momentum across timeframes\n",
    "            for period in [1, 3, 5, 10, 20, 30]:\n",
    "                df[f'Momentum_{period}'] = df['Close'].pct_change(period) * 100\n",
    "                df[f'ROC_{period}'] = ((df['Close'] - df['Close'].shift(period)) / \n",
    "                                        df['Close'].shift(period)) * 100\n",
    "            \n",
    "            # Technical indicators\n",
    "            close = df['Close'].squeeze()\n",
    "            high = df['High'].squeeze()\n",
    "            low = df['Low'].squeeze()\n",
    "            volume = df['Volume'].squeeze()\n",
    "            \n",
    "            # RSI with multiple timeframes\n",
    "            for window in [7, 14, 21]:\n",
    "                df[f'RSI_{window}'] = ta.momentum.rsi(close, window=window)\n",
    "                df[f'RSI_{window}_SMA'] = df[f'RSI_{window}'].rolling(14).mean()\n",
    "            \n",
    "            # Stochastic Oscillator\n",
    "            df['Stoch_K'] = ta.momentum.stoch(high, low, close, window=14)\n",
    "            df['Stoch_D'] = df['Stoch_K'].rolling(3).mean()\n",
    "            df['Stoch_Overbought'] = (df['Stoch_K'] > 80).astype(int)\n",
    "            df['Stoch_Oversold'] = (df['Stoch_K'] < 20).astype(int)\n",
    "            \n",
    "            # Williams %R\n",
    "            df['Williams_R'] = ta.momentum.williams_r(high, low, close, lbp=14)\n",
    "            \n",
    "            # MACD (trend and momentum)\n",
    "            macd = ta.trend.MACD(close)\n",
    "            df['MACD'] = macd.macd()\n",
    "            df['MACD_Signal'] = macd.macd_signal()\n",
    "            df['MACD_Diff'] = macd.macd_diff()\n",
    "            df['MACD_Cross'] = (df['MACD'] > df['MACD_Signal']).astype(int)\n",
    "            \n",
    "            # ADX (trend strength)\n",
    "            df['ADX'] = ta.trend.adx(high, low, close, window=14)\n",
    "            df['ADX_Strong_Trend'] = (df['ADX'] > 25).astype(int)\n",
    "            \n",
    "            # Bollinger Bands\n",
    "            bb = ta.volatility.BollingerBands(close, window=20, window_dev=2)\n",
    "            df['BB_High'] = bb.bollinger_hband()\n",
    "            df['BB_Low'] = bb.bollinger_lband()\n",
    "            df['BB_Mid'] = bb.bollinger_mavg()\n",
    "            df['BB_Width'] = (df['BB_High'] - df['BB_Low']) / df['BB_Mid']\n",
    "            df['BB_Position'] = (close - df['BB_Low']) / (df['BB_High'] - df['BB_Low'])\n",
    "            df['BB_Upper_Band_Touch'] = (close >= df['BB_High']).astype(int)\n",
    "            df['BB_Lower_Band_Touch'] = (close <= df['BB_Low']).astype(int)\n",
    "            \n",
    "            # ATR (volatility)\n",
    "            df['ATR'] = ta.volatility.average_true_range(high, low, close, window=14)\n",
    "            df['ATR_Pct'] = df['ATR'] / close * 100\n",
    "            \n",
    "            # OBV (volume-price relationship)\n",
    "            df['OBV'] = ta.volume.on_balance_volume(close, volume)\n",
    "            df['OBV_EMA'] = df['OBV'].ewm(span=20).mean()\n",
    "            df['OBV_Divergence'] = df['OBV'] - df['OBV_EMA']\n",
    "            \n",
    "            # Ichimoku Cloud components\n",
    "            df['Tenkan'] = (df['High'].rolling(9).max() + df['Low'].rolling(9).min()) / 2\n",
    "            df['Kijun'] = (df['High'].rolling(26).max() + df['Low'].rolling(26).min()) / 2\n",
    "            df['Senkou_A'] = ((df['Tenkan'] + df['Kijun']) / 2).shift(26)\n",
    "            df['Senkou_B'] = ((df['High'].rolling(52).max() + df['Low'].rolling(52).min()) / 2).shift(26)\n",
    "            \n",
    "            # Lagged features (critical for time series)\n",
    "            for lag in [1, 2, 3, 5, 10, 15, 20, 30]:\n",
    "                df[f'Close_Lag_{lag}'] = df['Close'].shift(lag)\n",
    "                df[f'Volume_Lag_{lag}'] = df['Volume'].shift(lag)\n",
    "                df[f'Returns_Lag_{lag}'] = df['Returns'].shift(lag)\n",
    "                df[f'High_Lag_{lag}'] = df['High'].shift(lag)\n",
    "                df[f'Low_Lag_{lag}'] = df['Low'].shift(lag)\n",
    "            \n",
    "            # Rolling statistics (capture trends)\n",
    "            for window in [5, 10, 20, 30]:\n",
    "                df[f'Close_Rolling_Mean_{window}'] = df['Close'].rolling(window).mean()\n",
    "                df[f'Close_Rolling_Std_{window}'] = df['Close'].rolling(window).std()\n",
    "                df[f'Close_Rolling_Min_{window}'] = df['Close'].rolling(window).min()\n",
    "                df[f'Close_Rolling_Max_{window}'] = df['Close'].rolling(window).max()\n",
    "                df[f'Close_Rolling_Skew_{window}'] = df['Close'].rolling(window).skew()\n",
    "                df[f'Close_Rolling_Kurt_{window}'] = df['Close'].rolling(window).kurt()\n",
    "            \n",
    "            # Market regime indicators\n",
    "            df['High_Volatility_Regime'] = (df['Volatility_20'] > df['Volatility_20'].rolling(100).mean()).astype(int)\n",
    "            df['Uptrend_Regime'] = (df['SMA_50'] > df['SMA_200']).astype(int)\n",
    "            \n",
    "            # Distance from support/resistance\n",
    "            df['Distance_from_52W_High'] = (df['Close'] / df['Close'].rolling(252).max() - 1) * 100\n",
    "            df['Distance_from_52W_Low'] = (df['Close'] / df['Close'].rolling(252).min() - 1) * 100\n",
    "            \n",
    "            # Clean data\n",
    "            initial_len = len(df)\n",
    "            df = df.replace([np.inf, -np.inf], np.nan)\n",
    "            df = df.dropna()\n",
    "            dropped = initial_len - len(df)\n",
    "            \n",
    "            print(f\"Dropped {dropped} rows. Final: {len(df)} records with {len(df.columns)} features\")\n",
    "            \n",
    "            if len(df) < 300:\n",
    "                raise ValueError(f\"Insufficient data: {len(df)} records\")\n",
    "            \n",
    "            return df\n",
    "            \n",
    "        except Exception as e:\n",
    "            print(f\"ERROR: {str(e)}\")\n",
    "            raise\n",
    "    \n",
    "    def prepare_features_for_ml(self, df, target_col='Close', n_ahead=1):\n",
    "        \"\"\"Prepare comprehensive feature set\"\"\"\n",
    "        print(f\"Preparing features (predicting {n_ahead} days ahead)...\")\n",
    "        \n",
    "        # Exclude non-feature columns\n",
    "        exclude_cols = ['Open', 'High', 'Low', 'Adj Close', 'Target']\n",
    "        feature_cols = [col for col in df.columns if col not in exclude_cols]\n",
    "        \n",
    "        # Create target\n",
    "        df_ml = df.copy()\n",
    "        df_ml['Target'] = df_ml[target_col].shift(-n_ahead)\n",
    "        df_ml = df_ml.dropna()\n",
    "        \n",
    "        X = df_ml[feature_cols]\n",
    "        y = df_ml['Target']\n",
    "        \n",
    "        print(f\"Features: {len(feature_cols)}, Samples: {len(X)}\")\n",
    "        return X, y, feature_cols\n",
    "    \n",
    "    def prepare_lstm_data(self, df, sequence_length=60):\n",
    "        \"\"\"Prepare LSTM data with optimal features\"\"\"\n",
    "        print(f\"Preparing LSTM data (sequence: {sequence_length})...\")\n",
    "        \n",
    "        lstm_features = [\n",
    "            'Close', 'Volume', 'Returns', \n",
    "            'RSI_14', 'MACD', 'ATR', 'ADX',\n",
    "            'SMA_10', 'SMA_20', 'SMA_50',\n",
    "            'EMA_12', 'EMA_26',\n",
    "            'BB_Width', 'BB_Position',\n",
    "            'Volatility_20', 'OBV',\n",
    "            'Stoch_K', 'Williams_R'\n",
    "        ]\n",
    "        \n",
    "        available_features = [col for col in lstm_features if col in df.columns]\n",
    "        print(f\"Using {len(available_features)} LSTM features\")\n",
    "        \n",
    "        data = df[available_features].values\n",
    "        \n",
    "        self.lstm_scaler = MinMaxScaler()\n",
    "        scaled_data = self.lstm_scaler.fit_transform(data)\n",
    "        \n",
    "        X, y = [], []\n",
    "        for i in range(sequence_length, len(scaled_data)):\n",
    "            X.append(scaled_data[i-sequence_length:i])\n",
    "            y.append(scaled_data[i, 0])\n",
    "        \n",
    "        X, y = np.array(X), np.array(y)\n",
    "        \n",
    "        print(f\"LSTM sequences: {len(X)} samples, shape {X.shape}\")\n",
    "        return X, y, available_features\n",
    "    \n",
    "    def train_models(self, X_ml, y_ml, X_lstm, y_lstm):\n",
    "        \"\"\"Train models with cross-validation\"\"\"\n",
    "        print(\"\\n\" + \"=\"*70)\n",
    "        print(\"TRAINING ADVANCED MODELS\")\n",
    "        print(\"=\"*70)\n",
    "        \n",
    "        # Time series split for validation\n",
    "        tscv = TimeSeriesSplit(n_splits=3)\n",
    "        \n",
    "        # Standard train-test split\n",
    "        X_train_ml, X_test_ml, y_train_ml, y_test_ml = train_test_split(\n",
    "            X_ml, y_ml, test_size=0.15, shuffle=False\n",
    "        )\n",
    "        \n",
    "        split_idx = int(len(X_lstm) * 0.85)\n",
    "        X_train_lstm = X_lstm[:split_idx]\n",
    "        X_test_lstm = X_lstm[split_idx:]\n",
    "        y_train_lstm = y_lstm[:split_idx]\n",
    "        y_test_lstm = y_lstm[split_idx:]\n",
    "        \n",
    "        print(f\"ML - Train: {len(X_train_ml)}, Test: {len(X_test_ml)}\")\n",
    "        print(f\"LSTM - Train: {len(X_train_lstm)}, Test: {len(X_test_lstm)}\\n\")\n",
    "        \n",
    "        # === RANDOM FOREST (Optimized) ===\n",
    "        print(\"[1/3] Training Random Forest...\")\n",
    "        rf_scaler = RobustScaler()\n",
    "        X_train_rf = rf_scaler.fit_transform(X_train_ml)\n",
    "        X_test_rf = rf_scaler.transform(X_test_ml)\n",
    "        \n",
    "        rf_model = RandomForestRegressor(\n",
    "            n_estimators=500,\n",
    "            max_depth=30,\n",
    "            min_samples_split=3,\n",
    "            min_samples_leaf=1,\n",
    "            max_features='sqrt',\n",
    "            bootstrap=True,\n",
    "            oob_score=True,\n",
    "            random_state=42,\n",
    "            n_jobs=-1\n",
    "        )\n",
    "        \n",
    "        rf_model.fit(X_train_rf, y_train_ml)\n",
    "        rf_pred = rf_model.predict(X_test_rf)\n",
    "        \n",
    "        # Feature importance\n",
    "        self.feature_importance['Random_Forest'] = dict(zip(\n",
    "            X_ml.columns,\n",
    "            rf_model.feature_importances_\n",
    "        ))\n",
    "        \n",
    "        self.models['Random_Forest'] = rf_model\n",
    "        self.scalers['Random_Forest'] = rf_scaler\n",
    "        self.results['Random_Forest'] = {\n",
    "            'predictions': rf_pred,\n",
    "            'actual': y_test_ml.values\n",
    "        }\n",
    "        \n",
    "        # === SVR (Optimized) ===\n",
    "        print(\"[2/3] Training SVR...\")\n",
    "        svr_scaler = StandardScaler()\n",
    "        X_train_svr = svr_scaler.fit_transform(X_train_ml)\n",
    "        X_test_svr = svr_scaler.transform(X_test_ml)\n",
    "        \n",
    "        svr_model = SVR(\n",
    "            kernel='rbf',\n",
    "            C=200,\n",
    "            gamma='scale',\n",
    "            epsilon=0.005,\n",
    "            cache_size=2000\n",
    "        )\n",
    "        \n",
    "        svr_model.fit(X_train_svr, y_train_ml)\n",
    "        svr_pred = svr_model.predict(X_test_svr)\n",
    "        \n",
    "        self.models['SVR'] = svr_model\n",
    "        self.scalers['SVR'] = svr_scaler\n",
    "        self.results['SVR'] = {\n",
    "            'predictions': svr_pred,\n",
    "            'actual': y_test_ml.values\n",
    "        }\n",
    "        \n",
    "        # === ADVANCED LSTM ===\n",
    "        print(\"[3/3] Training Advanced LSTM...\")\n",
    "        \n",
    "        self.lstm_model = Sequential([\n",
    "            Bidirectional(LSTM(150, return_sequences=True), \n",
    "                         input_shape=(X_train_lstm.shape[1], X_train_lstm.shape[2])),\n",
    "            Dropout(0.3),\n",
    "            BatchNormalization(),\n",
    "            \n",
    "            Bidirectional(LSTM(100, return_sequences=True)),\n",
    "            Dropout(0.3),\n",
    "            BatchNormalization(),\n",
    "            \n",
    "            Bidirectional(GRU(75, return_sequences=False)),\n",
    "            Dropout(0.25),\n",
    "            BatchNormalization(),\n",
    "            \n",
    "            Dense(64, activation='relu'),\n",
    "            Dropout(0.2),\n",
    "            Dense(32, activation='relu'),\n",
    "            Dropout(0.15),\n",
    "            Dense(16, activation='relu'),\n",
    "            Dense(1)\n",
    "        ])\n",
    "        \n",
    "        optimizer = Adam(learning_rate=0.0005)\n",
    "        self.lstm_model.compile(optimizer=optimizer, loss='huber', metrics=['mae', 'mse'])\n",
    "        \n",
    "        early_stop = EarlyStopping(monitor='val_loss', patience=20, restore_best_weights=True)\n",
    "        reduce_lr = ReduceLROnPlateau(monitor='val_loss', factor=0.3, patience=7, min_lr=0.00001)\n",
    "        \n",
    "        history = self.lstm_model.fit(\n",
    "            X_train_lstm, y_train_lstm,\n",
    "            validation_data=(X_test_lstm, y_test_lstm),\n",
    "            epochs=200,\n",
    "            batch_size=32,\n",
    "            callbacks=[early_stop, reduce_lr],\n",
    "            verbose=0\n",
    "        )\n",
    "        \n",
    "        lstm_pred_scaled = self.lstm_model.predict(X_test_lstm, verbose=0)\n",
    "        \n",
    "        # Inverse transform\n",
    "        n_features = X_train_lstm.shape[2]\n",
    "        lstm_pred_full = np.zeros((len(lstm_pred_scaled), n_features))\n",
    "        lstm_pred_full[:, 0] = lstm_pred_scaled.flatten()\n",
    "        lstm_pred = self.lstm_scaler.inverse_transform(lstm_pred_full)[:, 0]\n",
    "        \n",
    "        y_test_full = np.zeros((len(y_test_lstm), n_features))\n",
    "        y_test_full[:, 0] = y_test_lstm\n",
    "        y_test_actual = self.lstm_scaler.inverse_transform(y_test_full)[:, 0]\n",
    "        \n",
    "        self.results['LSTM'] = {\n",
    "            'predictions': lstm_pred,\n",
    "            'actual': y_test_actual\n",
    "        }\n",
    "        \n",
    "        # Display metrics\n",
    "        print(\"\\n\" + \"=\"*70)\n",
    "        print(\"MODEL PERFORMANCE\")\n",
    "        print(\"=\"*70)\n",
    "        print(f\"{'Model':<20} {'MAE':<12} {'RMSE':<12} {'R2':<10} {'Dir_Acc':<10}\")\n",
    "        print(\"-\"*70)\n",
    "        \n",
    "        for model in ['Random_Forest', 'SVR', 'LSTM']:\n",
    "            self._calculate_metrics(\n",
    "                self.results[model]['actual'],\n",
    "                self.results[model]['predictions'],\n",
    "                model\n",
    "            )\n",
    "        \n",
    "        print(\"=\"*70 + \"\\n\")\n",
    "    \n",
    "    def _calculate_metrics(self, y_true, y_pred, model_name):\n",
    "        \"\"\"Calculate comprehensive metrics\"\"\"\n",
    "        mae = mean_absolute_error(y_true, y_pred)\n",
    "        rmse = np.sqrt(mean_squared_error(y_true, y_pred))\n",
    "        r2 = r2_score(y_true, y_pred)\n",
    "        \n",
    "        # Directional accuracy\n",
    "        if len(y_true) > 1:\n",
    "            true_dir = np.diff(y_true) > 0\n",
    "            pred_dir = np.diff(y_pred) > 0\n",
    "            dir_acc = np.mean(true_dir == pred_dir) * 100\n",
    "        else:\n",
    "            dir_acc = 0\n",
    "        \n",
    "        print(f\"{model_name:<20} {mae:<12.2f} {rmse:<12.2f} {r2:<10.3f} {dir_acc:<10.1f}%\")\n",
    "        \n",
    "        if model_name not in self.results:\n",
    "            self.results[model_name] = {}\n",
    "        \n",
    "        self.results[model_name].update({\n",
    "            'mae': mae, 'rmse': rmse, 'r2': r2,\n",
    "            'directional_accuracy': dir_acc\n",
    "        })\n",
    "    \n",
    "    def predict_future_7_days(self, df, feature_cols, lstm_feature_cols):\n",
    "        \"\"\"Generate 7-day predictions\"\"\"\n",
    "        print(\"\\nGenerating 7-day predictions...\")\n",
    "        \n",
    "        predictions = {'Random_Forest': [], 'SVR': [], 'LSTM': []}\n",
    "        \n",
    "        last_date = df.index[-1]\n",
    "        future_dates = []\n",
    "        current = last_date + timedelta(days=1)\n",
    "        \n",
    "        while len(future_dates) < 7:\n",
    "            if current.weekday() < 5:\n",
    "                future_dates.append(current)\n",
    "            current += timedelta(days=1)\n",
    "        \n",
    "        # ML predictions\n",
    "        current_data = df.iloc[-1:][feature_cols].copy()\n",
    "        \n",
    "        for day in range(7):\n",
    "            rf_scaled = self.scalers['Random_Forest'].transform(current_data)\n",
    "            svr_scaled = self.scalers['SVR'].transform(current_data)\n",
    "            \n",
    "            rf_pred = self.models['Random_Forest'].predict(rf_scaled)[0]\n",
    "            svr_pred = self.models['SVR'].predict(svr_scaled)[0]\n",
    "            \n",
    "            predictions['Random_Forest'].append(rf_pred)\n",
    "            predictions['SVR'].append(svr_pred)\n",
    "            \n",
    "            if day < 6 and 'Close' in current_data.columns:\n",
    "                current_data.iloc[0, current_data.columns.get_loc('Close')] = rf_pred\n",
    "        \n",
    "        # LSTM predictions\n",
    "        last_seq = df[lstm_feature_cols].values[-60:]\n",
    "        current_seq = self.lstm_scaler.transform(last_seq).copy()\n",
    "        \n",
    "        for day in range(7):\n",
    "            X_pred = current_seq.reshape(1, 60, len(lstm_feature_cols))\n",
    "            pred_scaled = self.lstm_model.predict(X_pred, verbose=0)[0, 0]\n",
    "            \n",
    "            pred_full = np.zeros((1, len(lstm_feature_cols)))\n",
    "            pred_full[0, 0] = pred_scaled\n",
    "            pred_actual = self.lstm_scaler.inverse_transform(pred_full)[0, 0]\n",
    "            \n",
    "            predictions['LSTM'].append(pred_actual)\n",
    "            \n",
    "            if day < 6:\n",
    "                new_row = np.zeros((1, len(lstm_feature_cols)))\n",
    "                new_row[0, 0] = pred_scaled\n",
    "                for i in range(1, len(lstm_feature_cols)):\n",
    "                    new_row[0, i] = current_seq[-1, i]\n",
    "                current_seq = np.vstack([current_seq[1:], new_row])\n",
    "        \n",
    "        return future_dates, predictions\n",
    "    \n",
    "    def create_visualizations(self, symbol, current_price, future_dates, predictions, df):\n",
    "        \"\"\"Create all visualizations\"\"\"\n",
    "        currency = self.currency_info.get(symbol, self.DEFAULT_CURRENCY)\n",
    "        \n",
    "        # Performance dashboard\n",
    "        fig1 = make_subplots(\n",
    "            rows=2, cols=2,\n",
    "            subplot_titles=('MAE Comparison', 'R2 Score', 'Directional Accuracy', 'Rankings')\n",
    "        )\n",
    "        \n",
    "        models = ['Random_Forest', 'SVR', 'LSTM']\n",
    "        colors = ['#3498db', '#e74c3c', '#2ecc71']\n",
    "        \n",
    "        metrics_df = pd.DataFrame([\n",
    "            {\n",
    "                'Model': m,\n",
    "                'MAE': self.results[m]['mae'],\n",
    "                'R2': self.results[m]['r2'],\n",
    "                'Dir_Acc': self.results[m]['directional_accuracy']\n",
    "            }\n",
    "            for m in models\n",
    "        ])\n",
    "        \n",
    "        fig1.add_trace(go.Bar(x=metrics_df['Model'], y=metrics_df['MAE'], marker_color=colors), row=1, col=1)\n",
    "        fig1.add_trace(go.Bar(x=metrics_df['Model'], y=metrics_df['R2'], marker_color=colors), row=1, col=2)\n",
    "        fig1.add_trace(go.Bar(x=metrics_df['Model'], y=metrics_df['Dir_Acc'], marker_color=colors), row=2, col=1)\n",
    "        \n",
    "        ranked = metrics_df.sort_values('R2', ascending=False)\n",
    "        fig1.add_trace(go.Table(\n",
    "            header=dict(values=['Model', 'MAE', 'R2', 'Dir_Acc'], fill_color='#34495e', font=dict(color='white')),\n",
    "            cells=dict(values=[ranked['Model'], ranked['MAE'].round(2), ranked['R2'].round(3), \n",
    "                              ranked['Dir_Acc'].round(1)])\n",
    "        ), row=2, col=2)\n",
    "        \n",
    "        fig1.update_layout(title=f\"{symbol} - Performance\", height=700, showlegend=False)\n",
    "        fig1.show()\n",
    "        \n",
    "        # Predictions chart\n",
    "        fig2 = go.Figure()\n",
    "        all_dates = [future_dates[0] - timedelta(days=1)] + future_dates\n",
    "        \n",
    "        for model, color in zip(models, colors):\n",
    "            prices = [current_price] + predictions[model]\n",
    "            fig2.add_trace(go.Scatter(\n",
    "                x=all_dates, y=prices, mode='lines+markers',\n",
    "                name=model, line=dict(color=color, width=3)\n",
    "            ))\n",
    "        \n",
    "        fig2.add_hline(y=current_price, line_dash=\"dash\", opacity=0.5)\n",
    "        fig2.update_layout(\n",
    "            title=f\"{symbol} - 7-Day Predictions\",\n",
    "            xaxis_title='Date', yaxis_title=f'Price ({currency})',\n",
    "            height=600, template='plotly_white'\n",
    "        )\n",
    "        fig2.show()\n",
    "        \n",
    "        return ranked\n",
    "\n",
    "\n",
    "def main():\n",
    "    \"\"\"Main execution function\"\"\"\n",
    "    print(\"=\"*70)\n",
    "    print(\"ENHANCED STOCK PREDICTION SYSTEM\")\n",
    "    print(\"Models: Random Forest | SVR | LSTM\")\n",
    "    print(\"=\"*70)\n",
    "    print()\n",
    "    \n",
    "    # Get user input\n",
    "    symbol = input(\"Enter stock symbol (e.g., AAPL, TSLA, TCS, RELIANCE): \").strip().upper()\n",
    "    \n",
    "    if not symbol:\n",
    "        symbol = \"AAPL\"\n",
    "        print(f\"Using default symbol: {symbol}\")\n",
    "    \n",
    "    try:\n",
    "        # Initialize predictor\n",
    "        predictor = EnhancedStockPredictor()\n",
    "        \n",
    "        # Fetch data\n",
    "        print(f\"\\nFetching historical data for {symbol}...\")\n",
    "        df = predictor.fetch_and_prepare_data(symbol, years=15)\n",
    "        \n",
    "        current_price = float(df['Close'].iloc[-1])\n",
    "        currency = predictor.currency_info.get(symbol, predictor.DEFAULT_CURRENCY)\n",
    "        \n",
    "        print(f\"\\nCurrent {symbol} Price: {currency}{current_price:.2f}\")\n",
    "        print(f\"Dataset Size: {len(df)} trading days\")\n",
    "        print(f\"Date Range: {df.index[0].date()} to {df.index[-1].date()}\")\n",
    "        \n",
    "        # Prepare features\n",
    "        X_ml, y_ml, feature_cols = predictor.prepare_features_for_ml(df)\n",
    "        X_lstm, y_lstm, lstm_feature_cols = predictor.prepare_lstm_data(df)\n",
    "        \n",
    "        # Train models\n",
    "        predictor.train_models(X_ml, y_ml, X_lstm, y_lstm)\n",
    "        \n",
    "        # Generate predictions\n",
    "        future_dates, future_predictions = predictor.predict_future_7_days(\n",
    "            df, feature_cols, lstm_feature_cols\n",
    "        )\n",
    "        \n",
    "        # Create visualizations\n",
    "        print(\"\\nGenerating visualizations...\")\n",
    "        df_ranked = predictor.create_performance_dashboard(symbol)\n",
    "        predictor.create_predictions_chart(symbol, current_price, future_dates, future_predictions)\n",
    "        predictor.create_actual_vs_predicted_chart(df, symbol)\n",
    "        \n",
    "        # Print summary\n",
    "        print(\"\\n\" + \"=\"*70)\n",
    "        print(\"PREDICTION SUMMARY\")\n",
    "        print(\"=\"*70)\n",
    "        print(f\"\\nStock: {symbol}\")\n",
    "        print(f\"Current Price: {currency}{current_price:.2f}\")\n",
    "        print(f\"Training Period: 6 years ({len(df)} trading days)\")\n",
    "        \n",
    "        print(f\"\\n7-DAY PRICE PREDICTIONS:\")\n",
    "        print(\"-\"*70)\n",
    "        \n",
    "        best_model = df_ranked.iloc[0]['Model']\n",
    "        print(f\"Best Performing Model: {best_model} (R2: {df_ranked.iloc[0]['R2']:.3f})\\n\")\n",
    "        \n",
    "        for i, date in enumerate(future_dates):\n",
    "            rf_pred = future_predictions['Random_Forest'][i]\n",
    "            svr_pred = future_predictions['SVR'][i]\n",
    "            lstm_pred = future_predictions['LSTM'][i]\n",
    "            \n",
    "            # Calculate average\n",
    "            avg_pred = (rf_pred + svr_pred + lstm_pred) / 3\n",
    "            avg_change = ((avg_pred - current_price) / current_price) * 100\n",
    "            \n",
    "            print(f\"{date.strftime('%Y-%m-%d (%a)')}:\")\n",
    "            print(f\"  Random Forest: {currency}{rf_pred:>8.2f}  ({((rf_pred-current_price)/current_price*100):+6.2f}%)\")\n",
    "            print(f\"  SVR:           {currency}{svr_pred:>8.2f}  ({((svr_pred-current_price)/current_price*100):+6.2f}%)\")\n",
    "            print(f\"  LSTM:          {currency}{lstm_pred:>8.2f}  ({((lstm_pred-current_price)/current_price*100):+6.2f}%)\")\n",
    "            print(f\"  Average:       {currency}{avg_pred:>8.2f}  ({avg_change:+6.2f}%)\")\n",
    "            print()\n",
    "        \n",
    "        # Final recommendations\n",
    "        print(\"=\"*70)\n",
    "        print(\"ANALYSIS COMPLETE\")\n",
    "        print(\"=\"*70)\n",
    "        print(f\"\\nBest Model: {best_model}\")\n",
    "        print(f\"Model Accuracy Metrics:\")\n",
    "        print(f\"  - R-Squared: {df_ranked.iloc[0]['R2']:.3f}\")\n",
    "        print(f\"  - MAE: {currency}{df_ranked.iloc[0]['MAE']:.2f}\")\n",
    "        print(f\"  - Directional Accuracy: {df_ranked.iloc[0]['Dir_Acc']:.1f}%\")\n",
    "        \n",
    "        print(\"\\nNOTE: These predictions are for educational purposes only.\")\n",
    "        print(\"Always conduct thorough research before making investment decisions.\")\n",
    "        \n",
    "    except Exception as e:\n",
    "        print(f\"\\nERROR: {str(e)}\")\n",
    "        print(\"\\nTroubleshooting Guide:\")\n",
    "        print(\"1. Verify the stock symbol is correct\")\n",
    "        print(\"2. For Indian stocks, use: TCS, INFY, RELIANCE, HDFC, etc.\")\n",
    "        print(\"3. For US stocks, use: AAPL, TSLA, MSFT, GOOGL, etc.\")\n",
    "        print(\"4. Check your internet connection\")\n",
    "        print(\"5. Some stocks may have limited historical data\")\n",
    "        \n",
    "        import traceback\n",
    "        traceback.print_exc()\n",
    "\n",
    "if __name__ == \"__main__\":\n",
    "    main()"
   ]
  }
 ],
 "metadata": {
  "kernelspec": {
   "display_name": "Python 3",
   "language": "python",
   "name": "python3"
  },
  "language_info": {
   "codemirror_mode": {
    "name": "ipython",
    "version": 3
   },
   "file_extension": ".py",
   "mimetype": "text/x-python",
   "name": "python",
   "nbconvert_exporter": "python",
   "pygments_lexer": "ipython3",
   "version": "3.12.0"
  }
 },
 "nbformat": 4,
 "nbformat_minor": 5
}
