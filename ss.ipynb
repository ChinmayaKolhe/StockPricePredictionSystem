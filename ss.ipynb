{
 "cells": [
  {
   "cell_type": "code",
   "execution_count": 10,
   "id": "3aa3ec3b",
   "metadata": {},
   "outputs": [
    {
     "name": "stdout",
     "output_type": "stream",
     "text": [
      "======================================================================\n",
      "ADVANCED STOCK PREDICTION SYSTEM\n",
      "Models: Ensemble | Random Forest | Gradient Boosting | LSTM\n",
      "======================================================================\n",
      "\n",
      "\n",
      "Fetching historical data for TCS...\n",
      "Fetching 8 years of data for TCS -> TCS.NS...\n",
      "Fetched 1977 records from 2017-10-09 to 2025-10-06\n",
      "Computing basic features...\n",
      "Creating technical indicators...\n",
      "Creating advanced features...\n",
      "Dropped 251 rows. Final: 1726 records with 137 features\n",
      "\n",
      "Current TCS Price: INR 2988.40\n",
      "Dataset Size: 1726 trading days\n",
      "Date Range: 2018-10-12 to 2025-10-06\n",
      "Preparing features (predicting 1 days ahead)...\n",
      "Performing feature selection...\n",
      "Selected 67 features from 134\n",
      "Original features: 134, Selected: 67, Samples: 1725\n",
      "Preparing LSTM data (sequence: 60)...\n",
      "Using 21 LSTM features\n",
      "LSTM sequences: 1666 samples, shape (1666, 60, 21)\n",
      "\n",
      "======================================================================\n",
      "TRAINING ADVANCED MODELS\n",
      "======================================================================\n",
      "ML - Train: 1466, Test: 259\n",
      "LSTM - Train: 1416, Test: 250\n",
      "\n",
      "[1/4] Training Ensemble Model...\n",
      "[2/4] Training Random Forest...\n",
      "[3/4] Training Gradient Boosting...\n",
      "[4/4] Training IMPROVED LSTM...\n",
      "Creating improved LSTM model...\n",
      "Training LSTM model (this may take a few minutes)...\n",
      "Epoch 1/100\n",
      "\u001b[1m89/89\u001b[0m \u001b[32m━━━━━━━━━━━━━━━━━━━━\u001b[0m\u001b[37m\u001b[0m \u001b[1m0s\u001b[0m 215ms/step - loss: 3.7319 - mae: 0.4145 - mse: 0.2641"
     ]
    },
    {
     "name": "stderr",
     "output_type": "stream",
     "text": [
      "WARNING:absl:You are saving your model as an HDF5 file via `model.save()` or `keras.saving.save_model(model)`. This file format is considered legacy. We recommend using instead the native Keras format, e.g. `model.save('my_model.keras')` or `keras.saving.save_model(model, 'my_model.keras')`. \n"
     ]
    },
    {
     "name": "stdout",
     "output_type": "stream",
     "text": [
      "\u001b[1m89/89\u001b[0m \u001b[32m━━━━━━━━━━━━━━━━━━━━\u001b[0m\u001b[37m\u001b[0m \u001b[1m62s\u001b[0m 297ms/step - loss: 3.4906 - mae: 0.3474 - mse: 0.1871 - val_loss: 3.0644 - val_mae: 0.2963 - val_mse: 0.1388 - learning_rate: 0.0010\n",
      "Epoch 2/100\n",
      "\u001b[1m89/89\u001b[0m \u001b[32m━━━━━━━━━━━━━━━━━━━━\u001b[0m\u001b[37m\u001b[0m \u001b[1m0s\u001b[0m 228ms/step - loss: 3.4452 - mae: 0.7303 - mse: 0.6949"
     ]
    },
    {
     "name": "stderr",
     "output_type": "stream",
     "text": [
      "WARNING:absl:You are saving your model as an HDF5 file via `model.save()` or `keras.saving.save_model(model)`. This file format is considered legacy. We recommend using instead the native Keras format, e.g. `model.save('my_model.keras')` or `keras.saving.save_model(model, 'my_model.keras')`. \n"
     ]
    },
    {
     "name": "stdout",
     "output_type": "stream",
     "text": [
      "\u001b[1m89/89\u001b[0m \u001b[32m━━━━━━━━━━━━━━━━━━━━\u001b[0m\u001b[37m\u001b[0m \u001b[1m23s\u001b[0m 251ms/step - loss: 2.9520 - mae: 0.5044 - mse: 0.3773 - val_loss: 2.4026 - val_mae: 0.3517 - val_mse: 0.1944 - learning_rate: 0.0010\n",
      "Epoch 3/100\n",
      "\u001b[1m89/89\u001b[0m \u001b[32m━━━━━━━━━━━━━━━━━━━━\u001b[0m\u001b[37m\u001b[0m \u001b[1m0s\u001b[0m 197ms/step - loss: 2.5754 - mae: 0.6450 - mse: 0.5260"
     ]
    },
    {
     "name": "stderr",
     "output_type": "stream",
     "text": [
      "WARNING:absl:You are saving your model as an HDF5 file via `model.save()` or `keras.saving.save_model(model)`. This file format is considered legacy. We recommend using instead the native Keras format, e.g. `model.save('my_model.keras')` or `keras.saving.save_model(model, 'my_model.keras')`. \n"
     ]
    },
    {
     "name": "stdout",
     "output_type": "stream",
     "text": [
      "\u001b[1m89/89\u001b[0m \u001b[32m━━━━━━━━━━━━━━━━━━━━\u001b[0m\u001b[37m\u001b[0m \u001b[1m38s\u001b[0m 221ms/step - loss: 2.2117 - mae: 0.4664 - mse: 0.3188 - val_loss: 1.8274 - val_mae: 0.4176 - val_mse: 0.2473 - learning_rate: 0.0010\n",
      "Epoch 4/100\n",
      "\u001b[1m89/89\u001b[0m \u001b[32m━━━━━━━━━━━━━━━━━━━━\u001b[0m\u001b[37m\u001b[0m \u001b[1m0s\u001b[0m 224ms/step - loss: 1.9385 - mae: 0.6171 - mse: 0.4824"
     ]
    },
    {
     "name": "stderr",
     "output_type": "stream",
     "text": [
      "WARNING:absl:You are saving your model as an HDF5 file via `model.save()` or `keras.saving.save_model(model)`. This file format is considered legacy. We recommend using instead the native Keras format, e.g. `model.save('my_model.keras')` or `keras.saving.save_model(model, 'my_model.keras')`. \n"
     ]
    },
    {
     "name": "stdout",
     "output_type": "stream",
     "text": [
      "\u001b[1m89/89\u001b[0m \u001b[32m━━━━━━━━━━━━━━━━━━━━\u001b[0m\u001b[37m\u001b[0m \u001b[1m22s\u001b[0m 246ms/step - loss: 1.6358 - mae: 0.4514 - mse: 0.2998 - val_loss: 1.3867 - val_mae: 0.4354 - val_mse: 0.2772 - learning_rate: 0.0010\n",
      "Epoch 5/100\n",
      "\u001b[1m89/89\u001b[0m \u001b[32m━━━━━━━━━━━━━━━━━━━━\u001b[0m\u001b[37m\u001b[0m \u001b[1m0s\u001b[0m 191ms/step - loss: 1.4847 - mae: 0.6016 - mse: 0.4554"
     ]
    },
    {
     "name": "stderr",
     "output_type": "stream",
     "text": [
      "WARNING:absl:You are saving your model as an HDF5 file via `model.save()` or `keras.saving.save_model(model)`. This file format is considered legacy. We recommend using instead the native Keras format, e.g. `model.save('my_model.keras')` or `keras.saving.save_model(model, 'my_model.keras')`. \n"
     ]
    },
    {
     "name": "stdout",
     "output_type": "stream",
     "text": [
      "\u001b[1m89/89\u001b[0m \u001b[32m━━━━━━━━━━━━━━━━━━━━\u001b[0m\u001b[37m\u001b[0m \u001b[1m19s\u001b[0m 210ms/step - loss: 1.2404 - mae: 0.4475 - mse: 0.2912 - val_loss: 1.1108 - val_mae: 0.4703 - val_mse: 0.3058 - learning_rate: 0.0010\n",
      "Epoch 6/100\n",
      "\u001b[1m89/89\u001b[0m \u001b[32m━━━━━━━━━━━━━━━━━━━━\u001b[0m\u001b[37m\u001b[0m \u001b[1m0s\u001b[0m 226ms/step - loss: 1.1939 - mae: 0.5928 - mse: 0.4378"
     ]
    },
    {
     "name": "stderr",
     "output_type": "stream",
     "text": [
      "WARNING:absl:You are saving your model as an HDF5 file via `model.save()` or `keras.saving.save_model(model)`. This file format is considered legacy. We recommend using instead the native Keras format, e.g. `model.save('my_model.keras')` or `keras.saving.save_model(model, 'my_model.keras')`. \n"
     ]
    },
    {
     "name": "stdout",
     "output_type": "stream",
     "text": [
      "\u001b[1m89/89\u001b[0m \u001b[32m━━━━━━━━━━━━━━━━━━━━\u001b[0m\u001b[37m\u001b[0m \u001b[1m22s\u001b[0m 249ms/step - loss: 0.9913 - mae: 0.4475 - mse: 0.2857 - val_loss: 0.8949 - val_mae: 0.4510 - val_mse: 0.2801 - learning_rate: 0.0010\n",
      "Epoch 7/100\n",
      "\u001b[1m89/89\u001b[0m \u001b[32m━━━━━━━━━━━━━━━━━━━━\u001b[0m\u001b[37m\u001b[0m \u001b[1m0s\u001b[0m 246ms/step - loss: 1.0294 - mae: 0.5941 - mse: 0.4439"
     ]
    },
    {
     "name": "stderr",
     "output_type": "stream",
     "text": [
      "WARNING:absl:You are saving your model as an HDF5 file via `model.save()` or `keras.saving.save_model(model)`. This file format is considered legacy. We recommend using instead the native Keras format, e.g. `model.save('my_model.keras')` or `keras.saving.save_model(model, 'my_model.keras')`. \n"
     ]
    },
    {
     "name": "stdout",
     "output_type": "stream",
     "text": [
      "\u001b[1m89/89\u001b[0m \u001b[32m━━━━━━━━━━━━━━━━━━━━\u001b[0m\u001b[37m\u001b[0m \u001b[1m26s\u001b[0m 293ms/step - loss: 0.8387 - mae: 0.4468 - mse: 0.2884 - val_loss: 0.7734 - val_mae: 0.4720 - val_mse: 0.2883 - learning_rate: 0.0010\n",
      "Epoch 8/100\n",
      "\u001b[1m89/89\u001b[0m \u001b[32m━━━━━━━━━━━━━━━━━━━━\u001b[0m\u001b[37m\u001b[0m \u001b[1m0s\u001b[0m 249ms/step - loss: 0.8994 - mae: 0.5872 - mse: 0.4332"
     ]
    },
    {
     "name": "stderr",
     "output_type": "stream",
     "text": [
      "WARNING:absl:You are saving your model as an HDF5 file via `model.save()` or `keras.saving.save_model(model)`. This file format is considered legacy. We recommend using instead the native Keras format, e.g. `model.save('my_model.keras')` or `keras.saving.save_model(model, 'my_model.keras')`. \n"
     ]
    },
    {
     "name": "stdout",
     "output_type": "stream",
     "text": [
      "\u001b[1m89/89\u001b[0m \u001b[32m━━━━━━━━━━━━━━━━━━━━\u001b[0m\u001b[37m\u001b[0m \u001b[1m39s\u001b[0m 271ms/step - loss: 0.7221 - mae: 0.4418 - mse: 0.2820 - val_loss: 0.6459 - val_mae: 0.4343 - val_mse: 0.2561 - learning_rate: 0.0010\n",
      "Epoch 9/100\n",
      "\u001b[1m89/89\u001b[0m \u001b[32m━━━━━━━━━━━━━━━━━━━━\u001b[0m\u001b[37m\u001b[0m \u001b[1m0s\u001b[0m 167ms/step - loss: 0.8094 - mae: 0.5882 - mse: 0.4355"
     ]
    },
    {
     "name": "stderr",
     "output_type": "stream",
     "text": [
      "WARNING:absl:You are saving your model as an HDF5 file via `model.save()` or `keras.saving.save_model(model)`. This file format is considered legacy. We recommend using instead the native Keras format, e.g. `model.save('my_model.keras')` or `keras.saving.save_model(model, 'my_model.keras')`. \n"
     ]
    },
    {
     "name": "stdout",
     "output_type": "stream",
     "text": [
      "\u001b[1m89/89\u001b[0m \u001b[32m━━━━━━━━━━━━━━━━━━━━\u001b[0m\u001b[37m\u001b[0m \u001b[1m34s\u001b[0m 187ms/step - loss: 0.6348 - mae: 0.4416 - mse: 0.2839 - val_loss: 0.5984 - val_mae: 0.4489 - val_mse: 0.2840 - learning_rate: 0.0010\n",
      "Epoch 10/100\n",
      "\u001b[1m89/89\u001b[0m \u001b[32m━━━━━━━━━━━━━━━━━━━━\u001b[0m\u001b[37m\u001b[0m \u001b[1m0s\u001b[0m 215ms/step - loss: 0.7316 - mae: 0.5844 - mse: 0.4282"
     ]
    },
    {
     "name": "stderr",
     "output_type": "stream",
     "text": [
      "WARNING:absl:You are saving your model as an HDF5 file via `model.save()` or `keras.saving.save_model(model)`. This file format is considered legacy. We recommend using instead the native Keras format, e.g. `model.save('my_model.keras')` or `keras.saving.save_model(model, 'my_model.keras')`. \n"
     ]
    },
    {
     "name": "stdout",
     "output_type": "stream",
     "text": [
      "\u001b[1m89/89\u001b[0m \u001b[32m━━━━━━━━━━━━━━━━━━━━\u001b[0m\u001b[37m\u001b[0m \u001b[1m21s\u001b[0m 232ms/step - loss: 0.5647 - mae: 0.4406 - mse: 0.2807 - val_loss: 0.5368 - val_mae: 0.4553 - val_mse: 0.2848 - learning_rate: 0.0010\n",
      "Epoch 11/100\n",
      "\u001b[1m89/89\u001b[0m \u001b[32m━━━━━━━━━━━━━━━━━━━━\u001b[0m\u001b[37m\u001b[0m \u001b[1m0s\u001b[0m 211ms/step - loss: 0.6763 - mae: 0.5816 - mse: 0.4253"
     ]
    },
    {
     "name": "stderr",
     "output_type": "stream",
     "text": [
      "WARNING:absl:You are saving your model as an HDF5 file via `model.save()` or `keras.saving.save_model(model)`. This file format is considered legacy. We recommend using instead the native Keras format, e.g. `model.save('my_model.keras')` or `keras.saving.save_model(model, 'my_model.keras')`. \n"
     ]
    },
    {
     "name": "stdout",
     "output_type": "stream",
     "text": [
      "\u001b[1m89/89\u001b[0m \u001b[32m━━━━━━━━━━━━━━━━━━━━\u001b[0m\u001b[37m\u001b[0m \u001b[1m21s\u001b[0m 231ms/step - loss: 0.5170 - mae: 0.4386 - mse: 0.2802 - val_loss: 0.4925 - val_mae: 0.4504 - val_mse: 0.2812 - learning_rate: 0.0010\n",
      "Epoch 12/100\n",
      "\u001b[1m89/89\u001b[0m \u001b[32m━━━━━━━━━━━━━━━━━━━━\u001b[0m\u001b[37m\u001b[0m \u001b[1m0s\u001b[0m 174ms/step - loss: 0.6431 - mae: 0.5845 - mse: 0.4231"
     ]
    },
    {
     "name": "stderr",
     "output_type": "stream",
     "text": [
      "WARNING:absl:You are saving your model as an HDF5 file via `model.save()` or `keras.saving.save_model(model)`. This file format is considered legacy. We recommend using instead the native Keras format, e.g. `model.save('my_model.keras')` or `keras.saving.save_model(model, 'my_model.keras')`. \n"
     ]
    },
    {
     "name": "stdout",
     "output_type": "stream",
     "text": [
      "\u001b[1m89/89\u001b[0m \u001b[32m━━━━━━━━━━━━━━━━━━━━\u001b[0m\u001b[37m\u001b[0m \u001b[1m37s\u001b[0m 186ms/step - loss: 0.4937 - mae: 0.4488 - mse: 0.2840 - val_loss: 0.4727 - val_mae: 0.4665 - val_mse: 0.2952 - learning_rate: 0.0010\n",
      "Epoch 13/100\n",
      "\u001b[1m89/89\u001b[0m \u001b[32m━━━━━━━━━━━━━━━━━━━━\u001b[0m\u001b[37m\u001b[0m \u001b[1m0s\u001b[0m 123ms/step - loss: 0.6009 - mae: 0.5849 - mse: 0.4305"
     ]
    },
    {
     "name": "stderr",
     "output_type": "stream",
     "text": [
      "WARNING:absl:You are saving your model as an HDF5 file via `model.save()` or `keras.saving.save_model(model)`. This file format is considered legacy. We recommend using instead the native Keras format, e.g. `model.save('my_model.keras')` or `keras.saving.save_model(model, 'my_model.keras')`. \n"
     ]
    },
    {
     "name": "stdout",
     "output_type": "stream",
     "text": [
      "\u001b[1m89/89\u001b[0m \u001b[32m━━━━━━━━━━━━━━━━━━━━\u001b[0m\u001b[37m\u001b[0m \u001b[1m12s\u001b[0m 134ms/step - loss: 0.4392 - mae: 0.4397 - mse: 0.2815 - val_loss: 0.4431 - val_mae: 0.4743 - val_mse: 0.3040 - learning_rate: 0.0010\n",
      "Epoch 14/100\n",
      "\u001b[1m89/89\u001b[0m \u001b[32m━━━━━━━━━━━━━━━━━━━━\u001b[0m\u001b[37m\u001b[0m \u001b[1m0s\u001b[0m 126ms/step - loss: 0.5682 - mae: 0.5827 - mse: 0.4237"
     ]
    },
    {
     "name": "stderr",
     "output_type": "stream",
     "text": [
      "WARNING:absl:You are saving your model as an HDF5 file via `model.save()` or `keras.saving.save_model(model)`. This file format is considered legacy. We recommend using instead the native Keras format, e.g. `model.save('my_model.keras')` or `keras.saving.save_model(model, 'my_model.keras')`. \n"
     ]
    },
    {
     "name": "stdout",
     "output_type": "stream",
     "text": [
      "\u001b[1m89/89\u001b[0m \u001b[32m━━━━━━━━━━━━━━━━━━━━\u001b[0m\u001b[37m\u001b[0m \u001b[1m12s\u001b[0m 137ms/step - loss: 0.4167 - mae: 0.4439 - mse: 0.2819 - val_loss: 0.4182 - val_mae: 0.4753 - val_mse: 0.3039 - learning_rate: 0.0010\n",
      "Epoch 15/100\n",
      "\u001b[1m89/89\u001b[0m \u001b[32m━━━━━━━━━━━━━━━━━━━━\u001b[0m\u001b[37m\u001b[0m \u001b[1m0s\u001b[0m 127ms/step - loss: 0.5418 - mae: 0.5796 - mse: 0.4223"
     ]
    },
    {
     "name": "stderr",
     "output_type": "stream",
     "text": [
      "WARNING:absl:You are saving your model as an HDF5 file via `model.save()` or `keras.saving.save_model(model)`. This file format is considered legacy. We recommend using instead the native Keras format, e.g. `model.save('my_model.keras')` or `keras.saving.save_model(model, 'my_model.keras')`. \n"
     ]
    },
    {
     "name": "stdout",
     "output_type": "stream",
     "text": [
      "\u001b[1m89/89\u001b[0m \u001b[32m━━━━━━━━━━━━━━━━━━━━\u001b[0m\u001b[37m\u001b[0m \u001b[1m12s\u001b[0m 137ms/step - loss: 0.3938 - mae: 0.4395 - mse: 0.2797 - val_loss: 0.3761 - val_mae: 0.4494 - val_mse: 0.2773 - learning_rate: 0.0010\n",
      "Epoch 16/100\n",
      "\u001b[1m89/89\u001b[0m \u001b[32m━━━━━━━━━━━━━━━━━━━━\u001b[0m\u001b[37m\u001b[0m \u001b[1m13s\u001b[0m 149ms/step - loss: 0.3811 - mae: 0.4411 - mse: 0.2814 - val_loss: 0.4042 - val_mae: 0.4967 - val_mse: 0.3177 - learning_rate: 0.0010\n",
      "Epoch 17/100\n",
      "\u001b[1m89/89\u001b[0m \u001b[32m━━━━━━━━━━━━━━━━━━━━\u001b[0m\u001b[37m\u001b[0m \u001b[1m14s\u001b[0m 157ms/step - loss: 0.3602 - mae: 0.4404 - mse: 0.2787 - val_loss: 0.3821 - val_mae: 0.4765 - val_mse: 0.3079 - learning_rate: 0.0010\n",
      "Epoch 18/100\n",
      "\u001b[1m89/89\u001b[0m \u001b[32m━━━━━━━━━━━━━━━━━━━━\u001b[0m\u001b[37m\u001b[0m \u001b[1m11s\u001b[0m 128ms/step - loss: 0.3664 - mae: 0.4388 - mse: 0.2784 - val_loss: 0.3777 - val_mae: 0.4803 - val_mse: 0.3090 - learning_rate: 0.0010\n",
      "Epoch 19/100\n",
      "\u001b[1m89/89\u001b[0m \u001b[32m━━━━━━━━━━━━━━━━━━━━\u001b[0m\u001b[37m\u001b[0m \u001b[1m0s\u001b[0m 145ms/step - loss: 0.4845 - mae: 0.5755 - mse: 0.4156"
     ]
    },
    {
     "name": "stderr",
     "output_type": "stream",
     "text": [
      "WARNING:absl:You are saving your model as an HDF5 file via `model.save()` or `keras.saving.save_model(model)`. This file format is considered legacy. We recommend using instead the native Keras format, e.g. `model.save('my_model.keras')` or `keras.saving.save_model(model, 'my_model.keras')`. \n"
     ]
    },
    {
     "name": "stdout",
     "output_type": "stream",
     "text": [
      "\u001b[1m89/89\u001b[0m \u001b[32m━━━━━━━━━━━━━━━━━━━━\u001b[0m\u001b[37m\u001b[0m \u001b[1m14s\u001b[0m 160ms/step - loss: 0.3399 - mae: 0.4378 - mse: 0.2784 - val_loss: 0.3646 - val_mae: 0.4759 - val_mse: 0.3063 - learning_rate: 0.0010\n",
      "Epoch 20/100\n",
      "\u001b[1m89/89\u001b[0m \u001b[32m━━━━━━━━━━━━━━━━━━━━\u001b[0m\u001b[37m\u001b[0m \u001b[1m13s\u001b[0m 146ms/step - loss: 0.3413 - mae: 0.4378 - mse: 0.2780 - val_loss: 0.3673 - val_mae: 0.4792 - val_mse: 0.3101 - learning_rate: 0.0010\n",
      "Epoch 21/100\n",
      "\u001b[1m89/89\u001b[0m \u001b[32m━━━━━━━━━━━━━━━━━━━━\u001b[0m\u001b[37m\u001b[0m \u001b[1m0s\u001b[0m 141ms/step - loss: 0.4585 - mae: 0.5692 - mse: 0.4069"
     ]
    },
    {
     "name": "stderr",
     "output_type": "stream",
     "text": [
      "WARNING:absl:You are saving your model as an HDF5 file via `model.save()` or `keras.saving.save_model(model)`. This file format is considered legacy. We recommend using instead the native Keras format, e.g. `model.save('my_model.keras')` or `keras.saving.save_model(model, 'my_model.keras')`. \n"
     ]
    },
    {
     "name": "stdout",
     "output_type": "stream",
     "text": [
      "\u001b[1m89/89\u001b[0m \u001b[32m━━━━━━━━━━━━━━━━━━━━\u001b[0m\u001b[37m\u001b[0m \u001b[1m14s\u001b[0m 154ms/step - loss: 0.3184 - mae: 0.4366 - mse: 0.2770 - val_loss: 0.3429 - val_mae: 0.4749 - val_mse: 0.3054 - learning_rate: 0.0010\n",
      "Epoch 22/100\n",
      "\u001b[1m89/89\u001b[0m \u001b[32m━━━━━━━━━━━━━━━━━━━━\u001b[0m\u001b[37m\u001b[0m \u001b[1m16s\u001b[0m 179ms/step - loss: 0.3268 - mae: 0.4376 - mse: 0.2756 - val_loss: 0.3684 - val_mae: 0.5030 - val_mse: 0.3332 - learning_rate: 0.0010\n",
      "Epoch 23/100\n",
      "\u001b[1m89/89\u001b[0m \u001b[32m━━━━━━━━━━━━━━━━━━━━\u001b[0m\u001b[37m\u001b[0m \u001b[1m17s\u001b[0m 188ms/step - loss: 0.3045 - mae: 0.4368 - mse: 0.2748 - val_loss: 0.3641 - val_mae: 0.5052 - val_mse: 0.3356 - learning_rate: 0.0010\n",
      "Epoch 24/100\n",
      "\u001b[1m89/89\u001b[0m \u001b[32m━━━━━━━━━━━━━━━━━━━━\u001b[0m\u001b[37m\u001b[0m \u001b[1m18s\u001b[0m 201ms/step - loss: 0.3035 - mae: 0.4366 - mse: 0.2741 - val_loss: 0.4113 - val_mae: 0.5477 - val_mse: 0.3803 - learning_rate: 0.0010\n",
      "Epoch 25/100\n",
      "\u001b[1m89/89\u001b[0m \u001b[32m━━━━━━━━━━━━━━━━━━━━\u001b[0m\u001b[37m\u001b[0m \u001b[1m16s\u001b[0m 180ms/step - loss: 0.3099 - mae: 0.4391 - mse: 0.2755 - val_loss: 0.3607 - val_mae: 0.5054 - val_mse: 0.3358 - learning_rate: 0.0010\n",
      "Epoch 26/100\n",
      "\u001b[1m89/89\u001b[0m \u001b[32m━━━━━━━━━━━━━━━━━━━━\u001b[0m\u001b[37m\u001b[0m \u001b[1m17s\u001b[0m 192ms/step - loss: 0.3049 - mae: 0.4378 - mse: 0.2738 - val_loss: 0.3440 - val_mae: 0.4859 - val_mse: 0.3164 - learning_rate: 0.0010\n",
      "Epoch 27/100\n",
      "\u001b[1m89/89\u001b[0m \u001b[32m━━━━━━━━━━━━━━━━━━━━\u001b[0m\u001b[37m\u001b[0m \u001b[1m26s\u001b[0m 288ms/step - loss: 0.3006 - mae: 0.4368 - mse: 0.2735 - val_loss: 0.3921 - val_mae: 0.5290 - val_mse: 0.3602 - learning_rate: 0.0010\n",
      "Epoch 28/100\n",
      "\u001b[1m89/89\u001b[0m \u001b[32m━━━━━━━━━━━━━━━━━━━━\u001b[0m\u001b[37m\u001b[0m \u001b[1m0s\u001b[0m 240ms/step - loss: 0.4169 - mae: 0.5586 - mse: 0.3887"
     ]
    },
    {
     "name": "stderr",
     "output_type": "stream",
     "text": [
      "WARNING:absl:You are saving your model as an HDF5 file via `model.save()` or `keras.saving.save_model(model)`. This file format is considered legacy. We recommend using instead the native Keras format, e.g. `model.save('my_model.keras')` or `keras.saving.save_model(model, 'my_model.keras')`. \n"
     ]
    },
    {
     "name": "stdout",
     "output_type": "stream",
     "text": [
      "\u001b[1m89/89\u001b[0m \u001b[32m━━━━━━━━━━━━━━━━━━━━\u001b[0m\u001b[37m\u001b[0m \u001b[1m25s\u001b[0m 279ms/step - loss: 0.2966 - mae: 0.4373 - mse: 0.2726 - val_loss: 0.3420 - val_mae: 0.4909 - val_mse: 0.3213 - learning_rate: 0.0010\n",
      "Epoch 29/100\n",
      "\u001b[1m89/89\u001b[0m \u001b[32m━━━━━━━━━━━━━━━━━━━━\u001b[0m\u001b[37m\u001b[0m \u001b[1m39s\u001b[0m 260ms/step - loss: 0.3011 - mae: 0.4391 - mse: 0.2741 - val_loss: 0.3472 - val_mae: 0.4961 - val_mse: 0.3264 - learning_rate: 0.0010\n",
      "Epoch 30/100\n",
      "\u001b[1m89/89\u001b[0m \u001b[32m━━━━━━━━━━━━━━━━━━━━\u001b[0m\u001b[37m\u001b[0m \u001b[1m24s\u001b[0m 265ms/step - loss: 0.2940 - mae: 0.4379 - mse: 0.2730 - val_loss: 0.3971 - val_mae: 0.5389 - val_mse: 0.3709 - learning_rate: 0.0010\n",
      "Epoch 31/100\n",
      "\u001b[1m89/89\u001b[0m \u001b[32m━━━━━━━━━━━━━━━━━━━━\u001b[0m\u001b[37m\u001b[0m \u001b[1m26s\u001b[0m 291ms/step - loss: 0.2963 - mae: 0.4378 - mse: 0.2727 - val_loss: 0.3471 - val_mae: 0.4960 - val_mse: 0.3263 - learning_rate: 0.0010\n",
      "Epoch 32/100\n",
      "\u001b[1m89/89\u001b[0m \u001b[32m━━━━━━━━━━━━━━━━━━━━\u001b[0m\u001b[37m\u001b[0m \u001b[1m27s\u001b[0m 299ms/step - loss: 0.2944 - mae: 0.4372 - mse: 0.2730 - val_loss: 0.3464 - val_mae: 0.4960 - val_mse: 0.3264 - learning_rate: 0.0010\n",
      "Epoch 33/100\n",
      "\u001b[1m89/89\u001b[0m \u001b[32m━━━━━━━━━━━━━━━━━━━━\u001b[0m\u001b[37m\u001b[0m \u001b[1m42s\u001b[0m 302ms/step - loss: 0.2995 - mae: 0.4374 - mse: 0.2734 - val_loss: 0.3559 - val_mae: 0.5033 - val_mse: 0.3336 - learning_rate: 0.0010\n",
      "Epoch 34/100\n",
      "\u001b[1m89/89\u001b[0m \u001b[32m━━━━━━━━━━━━━━━━━━━━\u001b[0m\u001b[37m\u001b[0m \u001b[1m27s\u001b[0m 296ms/step - loss: 0.2965 - mae: 0.4365 - mse: 0.2723 - val_loss: 0.4110 - val_mae: 0.5520 - val_mse: 0.3850 - learning_rate: 0.0010\n",
      "Epoch 35/100\n",
      "\u001b[1m89/89\u001b[0m \u001b[32m━━━━━━━━━━━━━━━━━━━━\u001b[0m\u001b[37m\u001b[0m \u001b[1m29s\u001b[0m 321ms/step - loss: 0.2978 - mae: 0.4372 - mse: 0.2718 - val_loss: 0.3699 - val_mae: 0.5146 - val_mse: 0.3451 - learning_rate: 0.0010\n",
      "Epoch 36/100\n",
      "\u001b[1m89/89\u001b[0m \u001b[32m━━━━━━━━━━━━━━━━━━━━\u001b[0m\u001b[37m\u001b[0m \u001b[1m0s\u001b[0m 249ms/step - loss: 0.4243 - mae: 0.5546 - mse: 0.3823\n",
      "Epoch 36: ReduceLROnPlateau reducing learning rate to 0.0005000000237487257.\n",
      "\u001b[1m89/89\u001b[0m \u001b[32m━━━━━━━━━━━━━━━━━━━━\u001b[0m\u001b[37m\u001b[0m \u001b[1m24s\u001b[0m 272ms/step - loss: 0.3104 - mae: 0.4380 - mse: 0.2724 - val_loss: 0.3649 - val_mae: 0.5033 - val_mse: 0.3336 - learning_rate: 0.0010\n",
      "Epoch 36: early stopping\n",
      "Restoring model weights from the end of the best epoch: 21.\n",
      "\n",
      "======================================================================\n",
      "MODEL PERFORMANCE\n",
      "======================================================================\n",
      "Model                MAE          RMSE         R2         Dir_Acc   \n",
      "----------------------------------------------------------------------\n",
      "Ensemble             134.22       168.53       0.829      54.3      %\n",
      "Random_Forest        80.87        108.97       0.929      53.9      %\n",
      "Gradient_Boosting    70.24        92.45        0.949      51.2      %\n",
      "LSTM                 696.92       804.74       -3.001     51.8      %\n",
      "======================================================================\n",
      "\n",
      "\n",
      "Generating 7-day predictions...\n",
      "\n",
      "Generating visualizations...\n"
     ]
    },
    {
     "data": {
      "application/vnd.plotly.v1+json": {
       "config": {
        "plotlyServerURL": "https://plot.ly"
       },
       "data": [
        {
         "marker": {
          "color": [
           "#3498db",
           "#e74c3c",
           "#2ecc71",
           "#f39c12"
          ]
         },
         "name": "MAE",
         "type": "bar",
         "x": [
          "Ensemble",
          "Random_Forest",
          "Gradient_Boosting",
          "LSTM"
         ],
         "xaxis": "x",
         "y": {
          "bdata": "0nmnUwPHYEBHx+WP1TdUQNo7uAs3j1FAermWTmbHhUA=",
          "dtype": "f8"
         },
         "yaxis": "y"
        },
        {
         "marker": {
          "color": [
           "#3498db",
           "#e74c3c",
           "#2ecc71",
           "#f39c12"
          ]
         },
         "name": "R2",
         "type": "bar",
         "x": [
          "Ensemble",
          "Random_Forest",
          "Gradient_Boosting",
          "LSTM"
         ],
         "xaxis": "x2",
         "y": {
          "bdata": "G5gYnfSK6j+9JwDg6rftP2nn27CQW+4/PCWf0WQBCMA=",
          "dtype": "f8"
         },
         "yaxis": "y2"
        },
        {
         "marker": {
          "color": [
           "#3498db",
           "#e74c3c",
           "#2ecc71",
           "#f39c12"
          ]
         },
         "name": "Directional Accuracy",
         "type": "bar",
         "x": [
          "Ensemble",
          "Random_Forest",
          "Gradient_Boosting",
          "LSTM"
         ],
         "xaxis": "x3",
         "y": {
          "bdata": "yBvyhrwhS0D7AX/AH/BKQGZNWVPWlElADJTwRlPnSUA=",
          "dtype": "f8"
         },
         "yaxis": "y3"
        },
        {
         "cells": {
          "align": "left",
          "fill": {
           "color": "lavender"
          },
          "values": [
           [
            "#1",
            "#2",
            "#3",
            "#4"
           ],
           [
            "Gradient_Boosting",
            "Random_Forest",
            "Ensemble",
            "LSTM"
           ],
           [
            "70.24",
            "80.87",
            "134.22",
            "696.92"
           ],
           [
            "0.949",
            "0.929",
            "0.829",
            "-3.001"
           ],
           [
            "51.2%",
            "53.9%",
            "54.3%",
            "51.8%"
           ]
          ]
         },
         "domain": {
          "x": [
           0.55,
           1
          ],
          "y": [
           0,
           0.375
          ]
         },
         "header": {
          "align": "left",
          "fill": {
           "color": "#34495e"
          },
          "font": {
           "color": "white",
           "size": 12
          },
          "values": [
           "Rank",
           "Model",
           "MAE",
           "R2",
           "Dir_Acc"
          ]
         },
         "type": "table"
        }
       ],
       "layout": {
        "annotations": [
         {
          "font": {
           "size": 16
          },
          "showarrow": false,
          "text": "MAE Comparison",
          "x": 0.225,
          "xanchor": "center",
          "xref": "paper",
          "y": 1,
          "yanchor": "bottom",
          "yref": "paper"
         },
         {
          "font": {
           "size": 16
          },
          "showarrow": false,
          "text": "R2 Score",
          "x": 0.775,
          "xanchor": "center",
          "xref": "paper",
          "y": 1,
          "yanchor": "bottom",
          "yref": "paper"
         },
         {
          "font": {
           "size": 16
          },
          "showarrow": false,
          "text": "Directional Accuracy",
          "x": 0.225,
          "xanchor": "center",
          "xref": "paper",
          "y": 0.375,
          "yanchor": "bottom",
          "yref": "paper"
         },
         {
          "font": {
           "size": 16
          },
          "showarrow": false,
          "text": "Model Rankings",
          "x": 0.775,
          "xanchor": "center",
          "xref": "paper",
          "y": 0.375,
          "yanchor": "bottom",
          "yref": "paper"
         }
        ],
        "height": 700,
        "showlegend": false,
        "template": {
         "data": {
          "bar": [
           {
            "error_x": {
             "color": "#2a3f5f"
            },
            "error_y": {
             "color": "#2a3f5f"
            },
            "marker": {
             "line": {
              "color": "white",
              "width": 0.5
             },
             "pattern": {
              "fillmode": "overlay",
              "size": 10,
              "solidity": 0.2
             }
            },
            "type": "bar"
           }
          ],
          "barpolar": [
           {
            "marker": {
             "line": {
              "color": "white",
              "width": 0.5
             },
             "pattern": {
              "fillmode": "overlay",
              "size": 10,
              "solidity": 0.2
             }
            },
            "type": "barpolar"
           }
          ],
          "carpet": [
           {
            "aaxis": {
             "endlinecolor": "#2a3f5f",
             "gridcolor": "#C8D4E3",
             "linecolor": "#C8D4E3",
             "minorgridcolor": "#C8D4E3",
             "startlinecolor": "#2a3f5f"
            },
            "baxis": {
             "endlinecolor": "#2a3f5f",
             "gridcolor": "#C8D4E3",
             "linecolor": "#C8D4E3",
             "minorgridcolor": "#C8D4E3",
             "startlinecolor": "#2a3f5f"
            },
            "type": "carpet"
           }
          ],
          "choropleth": [
           {
            "colorbar": {
             "outlinewidth": 0,
             "ticks": ""
            },
            "type": "choropleth"
           }
          ],
          "contour": [
           {
            "colorbar": {
             "outlinewidth": 0,
             "ticks": ""
            },
            "colorscale": [
             [
              0,
              "#0d0887"
             ],
             [
              0.1111111111111111,
              "#46039f"
             ],
             [
              0.2222222222222222,
              "#7201a8"
             ],
             [
              0.3333333333333333,
              "#9c179e"
             ],
             [
              0.4444444444444444,
              "#bd3786"
             ],
             [
              0.5555555555555556,
              "#d8576b"
             ],
             [
              0.6666666666666666,
              "#ed7953"
             ],
             [
              0.7777777777777778,
              "#fb9f3a"
             ],
             [
              0.8888888888888888,
              "#fdca26"
             ],
             [
              1,
              "#f0f921"
             ]
            ],
            "type": "contour"
           }
          ],
          "contourcarpet": [
           {
            "colorbar": {
             "outlinewidth": 0,
             "ticks": ""
            },
            "type": "contourcarpet"
           }
          ],
          "heatmap": [
           {
            "colorbar": {
             "outlinewidth": 0,
             "ticks": ""
            },
            "colorscale": [
             [
              0,
              "#0d0887"
             ],
             [
              0.1111111111111111,
              "#46039f"
             ],
             [
              0.2222222222222222,
              "#7201a8"
             ],
             [
              0.3333333333333333,
              "#9c179e"
             ],
             [
              0.4444444444444444,
              "#bd3786"
             ],
             [
              0.5555555555555556,
              "#d8576b"
             ],
             [
              0.6666666666666666,
              "#ed7953"
             ],
             [
              0.7777777777777778,
              "#fb9f3a"
             ],
             [
              0.8888888888888888,
              "#fdca26"
             ],
             [
              1,
              "#f0f921"
             ]
            ],
            "type": "heatmap"
           }
          ],
          "histogram": [
           {
            "marker": {
             "pattern": {
              "fillmode": "overlay",
              "size": 10,
              "solidity": 0.2
             }
            },
            "type": "histogram"
           }
          ],
          "histogram2d": [
           {
            "colorbar": {
             "outlinewidth": 0,
             "ticks": ""
            },
            "colorscale": [
             [
              0,
              "#0d0887"
             ],
             [
              0.1111111111111111,
              "#46039f"
             ],
             [
              0.2222222222222222,
              "#7201a8"
             ],
             [
              0.3333333333333333,
              "#9c179e"
             ],
             [
              0.4444444444444444,
              "#bd3786"
             ],
             [
              0.5555555555555556,
              "#d8576b"
             ],
             [
              0.6666666666666666,
              "#ed7953"
             ],
             [
              0.7777777777777778,
              "#fb9f3a"
             ],
             [
              0.8888888888888888,
              "#fdca26"
             ],
             [
              1,
              "#f0f921"
             ]
            ],
            "type": "histogram2d"
           }
          ],
          "histogram2dcontour": [
           {
            "colorbar": {
             "outlinewidth": 0,
             "ticks": ""
            },
            "colorscale": [
             [
              0,
              "#0d0887"
             ],
             [
              0.1111111111111111,
              "#46039f"
             ],
             [
              0.2222222222222222,
              "#7201a8"
             ],
             [
              0.3333333333333333,
              "#9c179e"
             ],
             [
              0.4444444444444444,
              "#bd3786"
             ],
             [
              0.5555555555555556,
              "#d8576b"
             ],
             [
              0.6666666666666666,
              "#ed7953"
             ],
             [
              0.7777777777777778,
              "#fb9f3a"
             ],
             [
              0.8888888888888888,
              "#fdca26"
             ],
             [
              1,
              "#f0f921"
             ]
            ],
            "type": "histogram2dcontour"
           }
          ],
          "mesh3d": [
           {
            "colorbar": {
             "outlinewidth": 0,
             "ticks": ""
            },
            "type": "mesh3d"
           }
          ],
          "parcoords": [
           {
            "line": {
             "colorbar": {
              "outlinewidth": 0,
              "ticks": ""
             }
            },
            "type": "parcoords"
           }
          ],
          "pie": [
           {
            "automargin": true,
            "type": "pie"
           }
          ],
          "scatter": [
           {
            "fillpattern": {
             "fillmode": "overlay",
             "size": 10,
             "solidity": 0.2
            },
            "type": "scatter"
           }
          ],
          "scatter3d": [
           {
            "line": {
             "colorbar": {
              "outlinewidth": 0,
              "ticks": ""
             }
            },
            "marker": {
             "colorbar": {
              "outlinewidth": 0,
              "ticks": ""
             }
            },
            "type": "scatter3d"
           }
          ],
          "scattercarpet": [
           {
            "marker": {
             "colorbar": {
              "outlinewidth": 0,
              "ticks": ""
             }
            },
            "type": "scattercarpet"
           }
          ],
          "scattergeo": [
           {
            "marker": {
             "colorbar": {
              "outlinewidth": 0,
              "ticks": ""
             }
            },
            "type": "scattergeo"
           }
          ],
          "scattergl": [
           {
            "marker": {
             "colorbar": {
              "outlinewidth": 0,
              "ticks": ""
             }
            },
            "type": "scattergl"
           }
          ],
          "scattermap": [
           {
            "marker": {
             "colorbar": {
              "outlinewidth": 0,
              "ticks": ""
             }
            },
            "type": "scattermap"
           }
          ],
          "scattermapbox": [
           {
            "marker": {
             "colorbar": {
              "outlinewidth": 0,
              "ticks": ""
             }
            },
            "type": "scattermapbox"
           }
          ],
          "scatterpolar": [
           {
            "marker": {
             "colorbar": {
              "outlinewidth": 0,
              "ticks": ""
             }
            },
            "type": "scatterpolar"
           }
          ],
          "scatterpolargl": [
           {
            "marker": {
             "colorbar": {
              "outlinewidth": 0,
              "ticks": ""
             }
            },
            "type": "scatterpolargl"
           }
          ],
          "scatterternary": [
           {
            "marker": {
             "colorbar": {
              "outlinewidth": 0,
              "ticks": ""
             }
            },
            "type": "scatterternary"
           }
          ],
          "surface": [
           {
            "colorbar": {
             "outlinewidth": 0,
             "ticks": ""
            },
            "colorscale": [
             [
              0,
              "#0d0887"
             ],
             [
              0.1111111111111111,
              "#46039f"
             ],
             [
              0.2222222222222222,
              "#7201a8"
             ],
             [
              0.3333333333333333,
              "#9c179e"
             ],
             [
              0.4444444444444444,
              "#bd3786"
             ],
             [
              0.5555555555555556,
              "#d8576b"
             ],
             [
              0.6666666666666666,
              "#ed7953"
             ],
             [
              0.7777777777777778,
              "#fb9f3a"
             ],
             [
              0.8888888888888888,
              "#fdca26"
             ],
             [
              1,
              "#f0f921"
             ]
            ],
            "type": "surface"
           }
          ],
          "table": [
           {
            "cells": {
             "fill": {
              "color": "#EBF0F8"
             },
             "line": {
              "color": "white"
             }
            },
            "header": {
             "fill": {
              "color": "#C8D4E3"
             },
             "line": {
              "color": "white"
             }
            },
            "type": "table"
           }
          ]
         },
         "layout": {
          "annotationdefaults": {
           "arrowcolor": "#2a3f5f",
           "arrowhead": 0,
           "arrowwidth": 1
          },
          "autotypenumbers": "strict",
          "coloraxis": {
           "colorbar": {
            "outlinewidth": 0,
            "ticks": ""
           }
          },
          "colorscale": {
           "diverging": [
            [
             0,
             "#8e0152"
            ],
            [
             0.1,
             "#c51b7d"
            ],
            [
             0.2,
             "#de77ae"
            ],
            [
             0.3,
             "#f1b6da"
            ],
            [
             0.4,
             "#fde0ef"
            ],
            [
             0.5,
             "#f7f7f7"
            ],
            [
             0.6,
             "#e6f5d0"
            ],
            [
             0.7,
             "#b8e186"
            ],
            [
             0.8,
             "#7fbc41"
            ],
            [
             0.9,
             "#4d9221"
            ],
            [
             1,
             "#276419"
            ]
           ],
           "sequential": [
            [
             0,
             "#0d0887"
            ],
            [
             0.1111111111111111,
             "#46039f"
            ],
            [
             0.2222222222222222,
             "#7201a8"
            ],
            [
             0.3333333333333333,
             "#9c179e"
            ],
            [
             0.4444444444444444,
             "#bd3786"
            ],
            [
             0.5555555555555556,
             "#d8576b"
            ],
            [
             0.6666666666666666,
             "#ed7953"
            ],
            [
             0.7777777777777778,
             "#fb9f3a"
            ],
            [
             0.8888888888888888,
             "#fdca26"
            ],
            [
             1,
             "#f0f921"
            ]
           ],
           "sequentialminus": [
            [
             0,
             "#0d0887"
            ],
            [
             0.1111111111111111,
             "#46039f"
            ],
            [
             0.2222222222222222,
             "#7201a8"
            ],
            [
             0.3333333333333333,
             "#9c179e"
            ],
            [
             0.4444444444444444,
             "#bd3786"
            ],
            [
             0.5555555555555556,
             "#d8576b"
            ],
            [
             0.6666666666666666,
             "#ed7953"
            ],
            [
             0.7777777777777778,
             "#fb9f3a"
            ],
            [
             0.8888888888888888,
             "#fdca26"
            ],
            [
             1,
             "#f0f921"
            ]
           ]
          },
          "colorway": [
           "#636efa",
           "#EF553B",
           "#00cc96",
           "#ab63fa",
           "#FFA15A",
           "#19d3f3",
           "#FF6692",
           "#B6E880",
           "#FF97FF",
           "#FECB52"
          ],
          "font": {
           "color": "#2a3f5f"
          },
          "geo": {
           "bgcolor": "white",
           "lakecolor": "white",
           "landcolor": "white",
           "showlakes": true,
           "showland": true,
           "subunitcolor": "#C8D4E3"
          },
          "hoverlabel": {
           "align": "left"
          },
          "hovermode": "closest",
          "mapbox": {
           "style": "light"
          },
          "paper_bgcolor": "white",
          "plot_bgcolor": "white",
          "polar": {
           "angularaxis": {
            "gridcolor": "#EBF0F8",
            "linecolor": "#EBF0F8",
            "ticks": ""
           },
           "bgcolor": "white",
           "radialaxis": {
            "gridcolor": "#EBF0F8",
            "linecolor": "#EBF0F8",
            "ticks": ""
           }
          },
          "scene": {
           "xaxis": {
            "backgroundcolor": "white",
            "gridcolor": "#DFE8F3",
            "gridwidth": 2,
            "linecolor": "#EBF0F8",
            "showbackground": true,
            "ticks": "",
            "zerolinecolor": "#EBF0F8"
           },
           "yaxis": {
            "backgroundcolor": "white",
            "gridcolor": "#DFE8F3",
            "gridwidth": 2,
            "linecolor": "#EBF0F8",
            "showbackground": true,
            "ticks": "",
            "zerolinecolor": "#EBF0F8"
           },
           "zaxis": {
            "backgroundcolor": "white",
            "gridcolor": "#DFE8F3",
            "gridwidth": 2,
            "linecolor": "#EBF0F8",
            "showbackground": true,
            "ticks": "",
            "zerolinecolor": "#EBF0F8"
           }
          },
          "shapedefaults": {
           "line": {
            "color": "#2a3f5f"
           }
          },
          "ternary": {
           "aaxis": {
            "gridcolor": "#DFE8F3",
            "linecolor": "#A2B1C6",
            "ticks": ""
           },
           "baxis": {
            "gridcolor": "#DFE8F3",
            "linecolor": "#A2B1C6",
            "ticks": ""
           },
           "bgcolor": "white",
           "caxis": {
            "gridcolor": "#DFE8F3",
            "linecolor": "#A2B1C6",
            "ticks": ""
           }
          },
          "title": {
           "x": 0.05
          },
          "xaxis": {
           "automargin": true,
           "gridcolor": "#EBF0F8",
           "linecolor": "#EBF0F8",
           "ticks": "",
           "title": {
            "standoff": 15
           },
           "zerolinecolor": "#EBF0F8",
           "zerolinewidth": 2
          },
          "yaxis": {
           "automargin": true,
           "gridcolor": "#EBF0F8",
           "linecolor": "#EBF0F8",
           "ticks": "",
           "title": {
            "standoff": 15
           },
           "zerolinecolor": "#EBF0F8",
           "zerolinewidth": 2
          }
         }
        },
        "title": {
         "text": "TCS - Model Performance Dashboard"
        },
        "xaxis": {
         "anchor": "y",
         "domain": [
          0,
          0.45
         ]
        },
        "xaxis2": {
         "anchor": "y2",
         "domain": [
          0.55,
          1
         ]
        },
        "xaxis3": {
         "anchor": "y3",
         "domain": [
          0,
          0.45
         ]
        },
        "yaxis": {
         "anchor": "x",
         "domain": [
          0.625,
          1
         ]
        },
        "yaxis2": {
         "anchor": "x2",
         "domain": [
          0.625,
          1
         ]
        },
        "yaxis3": {
         "anchor": "x3",
         "domain": [
          0,
          0.375
         ]
        }
       }
      }
     },
     "metadata": {},
     "output_type": "display_data"
    },
    {
     "data": {
      "application/vnd.plotly.v1+json": {
       "config": {
        "plotlyServerURL": "https://plot.ly"
       },
       "data": [
        {
         "line": {
          "color": "#3498db",
          "dash": "solid",
          "width": 3
         },
         "marker": {
          "size": 8
         },
         "mode": "lines+markers",
         "name": "Ensemble",
         "type": "scatter",
         "x": [
          "2025-10-06T00:00:00",
          "2025-10-07T00:00:00",
          "2025-10-08T00:00:00",
          "2025-10-09T00:00:00",
          "2025-10-10T00:00:00",
          "2025-10-13T00:00:00",
          "2025-10-14T00:00:00",
          "2025-10-15T00:00:00"
         ],
         "y": [
          2988.39990234375,
          2992.0540719408154,
          2992.2403302358384,
          2992.2416884460313,
          2992.2416983502185,
          2992.241698422422,
          2992.2416984229435,
          2992.241698422947
         ]
        },
        {
         "line": {
          "color": "#e74c3c",
          "dash": "dash",
          "width": 3
         },
         "marker": {
          "size": 8
         },
         "mode": "lines+markers",
         "name": "Random_Forest",
         "type": "scatter",
         "x": [
          "2025-10-06T00:00:00",
          "2025-10-07T00:00:00",
          "2025-10-08T00:00:00",
          "2025-10-09T00:00:00",
          "2025-10-10T00:00:00",
          "2025-10-13T00:00:00",
          "2025-10-14T00:00:00",
          "2025-10-15T00:00:00"
         ],
         "y": [
          2988.39990234375,
          2980.4100256427564,
          2981.734363899593,
          2981.734363899593,
          2981.734363899593,
          2981.734363899593,
          2981.734363899593,
          2981.7343638995926
         ]
        },
        {
         "line": {
          "color": "#2ecc71",
          "dash": "dot",
          "width": 3
         },
         "marker": {
          "size": 8
         },
         "mode": "lines+markers",
         "name": "Gradient_Boosting",
         "type": "scatter",
         "x": [
          "2025-10-06T00:00:00",
          "2025-10-07T00:00:00",
          "2025-10-08T00:00:00",
          "2025-10-09T00:00:00",
          "2025-10-10T00:00:00",
          "2025-10-13T00:00:00",
          "2025-10-14T00:00:00",
          "2025-10-15T00:00:00"
         ],
         "y": [
          2988.39990234375,
          3007.474462450977,
          3012.7990220433744,
          3012.7990220433744,
          3012.7990220433744,
          3012.7990220433744,
          3012.7990220433744,
          3012.7990220433744
         ]
        },
        {
         "line": {
          "color": "#f39c12",
          "dash": "dashdot",
          "width": 3
         },
         "marker": {
          "size": 8
         },
         "mode": "lines+markers",
         "name": "LSTM",
         "type": "scatter",
         "x": [
          "2025-10-06T00:00:00",
          "2025-10-07T00:00:00",
          "2025-10-08T00:00:00",
          "2025-10-09T00:00:00",
          "2025-10-10T00:00:00",
          "2025-10-13T00:00:00",
          "2025-10-14T00:00:00",
          "2025-10-15T00:00:00"
         ],
         "y": [
          2988.39990234375,
          2884.919830293836,
          2884.9133883060977,
          2884.908649372589,
          2884.9028209074927,
          2884.8974684513423,
          2884.8926554719974,
          2884.8883079236225
         ]
        }
       ],
       "layout": {
        "annotations": [
         {
          "showarrow": false,
          "text": "Current Price: INR 2988.40",
          "x": 1,
          "xanchor": "right",
          "xref": "x domain",
          "y": 2988.39990234375,
          "yanchor": "bottom",
          "yref": "y"
         }
        ],
        "height": 500,
        "hovermode": "x unified",
        "shapes": [
         {
          "line": {
           "color": "red",
           "dash": "dash"
          },
          "opacity": 0.7,
          "type": "line",
          "x0": 0,
          "x1": 1,
          "xref": "x domain",
          "y0": 2988.39990234375,
          "y1": 2988.39990234375,
          "yref": "y"
         }
        ],
        "template": {
         "data": {
          "bar": [
           {
            "error_x": {
             "color": "#2a3f5f"
            },
            "error_y": {
             "color": "#2a3f5f"
            },
            "marker": {
             "line": {
              "color": "white",
              "width": 0.5
             },
             "pattern": {
              "fillmode": "overlay",
              "size": 10,
              "solidity": 0.2
             }
            },
            "type": "bar"
           }
          ],
          "barpolar": [
           {
            "marker": {
             "line": {
              "color": "white",
              "width": 0.5
             },
             "pattern": {
              "fillmode": "overlay",
              "size": 10,
              "solidity": 0.2
             }
            },
            "type": "barpolar"
           }
          ],
          "carpet": [
           {
            "aaxis": {
             "endlinecolor": "#2a3f5f",
             "gridcolor": "#C8D4E3",
             "linecolor": "#C8D4E3",
             "minorgridcolor": "#C8D4E3",
             "startlinecolor": "#2a3f5f"
            },
            "baxis": {
             "endlinecolor": "#2a3f5f",
             "gridcolor": "#C8D4E3",
             "linecolor": "#C8D4E3",
             "minorgridcolor": "#C8D4E3",
             "startlinecolor": "#2a3f5f"
            },
            "type": "carpet"
           }
          ],
          "choropleth": [
           {
            "colorbar": {
             "outlinewidth": 0,
             "ticks": ""
            },
            "type": "choropleth"
           }
          ],
          "contour": [
           {
            "colorbar": {
             "outlinewidth": 0,
             "ticks": ""
            },
            "colorscale": [
             [
              0,
              "#0d0887"
             ],
             [
              0.1111111111111111,
              "#46039f"
             ],
             [
              0.2222222222222222,
              "#7201a8"
             ],
             [
              0.3333333333333333,
              "#9c179e"
             ],
             [
              0.4444444444444444,
              "#bd3786"
             ],
             [
              0.5555555555555556,
              "#d8576b"
             ],
             [
              0.6666666666666666,
              "#ed7953"
             ],
             [
              0.7777777777777778,
              "#fb9f3a"
             ],
             [
              0.8888888888888888,
              "#fdca26"
             ],
             [
              1,
              "#f0f921"
             ]
            ],
            "type": "contour"
           }
          ],
          "contourcarpet": [
           {
            "colorbar": {
             "outlinewidth": 0,
             "ticks": ""
            },
            "type": "contourcarpet"
           }
          ],
          "heatmap": [
           {
            "colorbar": {
             "outlinewidth": 0,
             "ticks": ""
            },
            "colorscale": [
             [
              0,
              "#0d0887"
             ],
             [
              0.1111111111111111,
              "#46039f"
             ],
             [
              0.2222222222222222,
              "#7201a8"
             ],
             [
              0.3333333333333333,
              "#9c179e"
             ],
             [
              0.4444444444444444,
              "#bd3786"
             ],
             [
              0.5555555555555556,
              "#d8576b"
             ],
             [
              0.6666666666666666,
              "#ed7953"
             ],
             [
              0.7777777777777778,
              "#fb9f3a"
             ],
             [
              0.8888888888888888,
              "#fdca26"
             ],
             [
              1,
              "#f0f921"
             ]
            ],
            "type": "heatmap"
           }
          ],
          "histogram": [
           {
            "marker": {
             "pattern": {
              "fillmode": "overlay",
              "size": 10,
              "solidity": 0.2
             }
            },
            "type": "histogram"
           }
          ],
          "histogram2d": [
           {
            "colorbar": {
             "outlinewidth": 0,
             "ticks": ""
            },
            "colorscale": [
             [
              0,
              "#0d0887"
             ],
             [
              0.1111111111111111,
              "#46039f"
             ],
             [
              0.2222222222222222,
              "#7201a8"
             ],
             [
              0.3333333333333333,
              "#9c179e"
             ],
             [
              0.4444444444444444,
              "#bd3786"
             ],
             [
              0.5555555555555556,
              "#d8576b"
             ],
             [
              0.6666666666666666,
              "#ed7953"
             ],
             [
              0.7777777777777778,
              "#fb9f3a"
             ],
             [
              0.8888888888888888,
              "#fdca26"
             ],
             [
              1,
              "#f0f921"
             ]
            ],
            "type": "histogram2d"
           }
          ],
          "histogram2dcontour": [
           {
            "colorbar": {
             "outlinewidth": 0,
             "ticks": ""
            },
            "colorscale": [
             [
              0,
              "#0d0887"
             ],
             [
              0.1111111111111111,
              "#46039f"
             ],
             [
              0.2222222222222222,
              "#7201a8"
             ],
             [
              0.3333333333333333,
              "#9c179e"
             ],
             [
              0.4444444444444444,
              "#bd3786"
             ],
             [
              0.5555555555555556,
              "#d8576b"
             ],
             [
              0.6666666666666666,
              "#ed7953"
             ],
             [
              0.7777777777777778,
              "#fb9f3a"
             ],
             [
              0.8888888888888888,
              "#fdca26"
             ],
             [
              1,
              "#f0f921"
             ]
            ],
            "type": "histogram2dcontour"
           }
          ],
          "mesh3d": [
           {
            "colorbar": {
             "outlinewidth": 0,
             "ticks": ""
            },
            "type": "mesh3d"
           }
          ],
          "parcoords": [
           {
            "line": {
             "colorbar": {
              "outlinewidth": 0,
              "ticks": ""
             }
            },
            "type": "parcoords"
           }
          ],
          "pie": [
           {
            "automargin": true,
            "type": "pie"
           }
          ],
          "scatter": [
           {
            "fillpattern": {
             "fillmode": "overlay",
             "size": 10,
             "solidity": 0.2
            },
            "type": "scatter"
           }
          ],
          "scatter3d": [
           {
            "line": {
             "colorbar": {
              "outlinewidth": 0,
              "ticks": ""
             }
            },
            "marker": {
             "colorbar": {
              "outlinewidth": 0,
              "ticks": ""
             }
            },
            "type": "scatter3d"
           }
          ],
          "scattercarpet": [
           {
            "marker": {
             "colorbar": {
              "outlinewidth": 0,
              "ticks": ""
             }
            },
            "type": "scattercarpet"
           }
          ],
          "scattergeo": [
           {
            "marker": {
             "colorbar": {
              "outlinewidth": 0,
              "ticks": ""
             }
            },
            "type": "scattergeo"
           }
          ],
          "scattergl": [
           {
            "marker": {
             "colorbar": {
              "outlinewidth": 0,
              "ticks": ""
             }
            },
            "type": "scattergl"
           }
          ],
          "scattermap": [
           {
            "marker": {
             "colorbar": {
              "outlinewidth": 0,
              "ticks": ""
             }
            },
            "type": "scattermap"
           }
          ],
          "scattermapbox": [
           {
            "marker": {
             "colorbar": {
              "outlinewidth": 0,
              "ticks": ""
             }
            },
            "type": "scattermapbox"
           }
          ],
          "scatterpolar": [
           {
            "marker": {
             "colorbar": {
              "outlinewidth": 0,
              "ticks": ""
             }
            },
            "type": "scatterpolar"
           }
          ],
          "scatterpolargl": [
           {
            "marker": {
             "colorbar": {
              "outlinewidth": 0,
              "ticks": ""
             }
            },
            "type": "scatterpolargl"
           }
          ],
          "scatterternary": [
           {
            "marker": {
             "colorbar": {
              "outlinewidth": 0,
              "ticks": ""
             }
            },
            "type": "scatterternary"
           }
          ],
          "surface": [
           {
            "colorbar": {
             "outlinewidth": 0,
             "ticks": ""
            },
            "colorscale": [
             [
              0,
              "#0d0887"
             ],
             [
              0.1111111111111111,
              "#46039f"
             ],
             [
              0.2222222222222222,
              "#7201a8"
             ],
             [
              0.3333333333333333,
              "#9c179e"
             ],
             [
              0.4444444444444444,
              "#bd3786"
             ],
             [
              0.5555555555555556,
              "#d8576b"
             ],
             [
              0.6666666666666666,
              "#ed7953"
             ],
             [
              0.7777777777777778,
              "#fb9f3a"
             ],
             [
              0.8888888888888888,
              "#fdca26"
             ],
             [
              1,
              "#f0f921"
             ]
            ],
            "type": "surface"
           }
          ],
          "table": [
           {
            "cells": {
             "fill": {
              "color": "#EBF0F8"
             },
             "line": {
              "color": "white"
             }
            },
            "header": {
             "fill": {
              "color": "#C8D4E3"
             },
             "line": {
              "color": "white"
             }
            },
            "type": "table"
           }
          ]
         },
         "layout": {
          "annotationdefaults": {
           "arrowcolor": "#2a3f5f",
           "arrowhead": 0,
           "arrowwidth": 1
          },
          "autotypenumbers": "strict",
          "coloraxis": {
           "colorbar": {
            "outlinewidth": 0,
            "ticks": ""
           }
          },
          "colorscale": {
           "diverging": [
            [
             0,
             "#8e0152"
            ],
            [
             0.1,
             "#c51b7d"
            ],
            [
             0.2,
             "#de77ae"
            ],
            [
             0.3,
             "#f1b6da"
            ],
            [
             0.4,
             "#fde0ef"
            ],
            [
             0.5,
             "#f7f7f7"
            ],
            [
             0.6,
             "#e6f5d0"
            ],
            [
             0.7,
             "#b8e186"
            ],
            [
             0.8,
             "#7fbc41"
            ],
            [
             0.9,
             "#4d9221"
            ],
            [
             1,
             "#276419"
            ]
           ],
           "sequential": [
            [
             0,
             "#0d0887"
            ],
            [
             0.1111111111111111,
             "#46039f"
            ],
            [
             0.2222222222222222,
             "#7201a8"
            ],
            [
             0.3333333333333333,
             "#9c179e"
            ],
            [
             0.4444444444444444,
             "#bd3786"
            ],
            [
             0.5555555555555556,
             "#d8576b"
            ],
            [
             0.6666666666666666,
             "#ed7953"
            ],
            [
             0.7777777777777778,
             "#fb9f3a"
            ],
            [
             0.8888888888888888,
             "#fdca26"
            ],
            [
             1,
             "#f0f921"
            ]
           ],
           "sequentialminus": [
            [
             0,
             "#0d0887"
            ],
            [
             0.1111111111111111,
             "#46039f"
            ],
            [
             0.2222222222222222,
             "#7201a8"
            ],
            [
             0.3333333333333333,
             "#9c179e"
            ],
            [
             0.4444444444444444,
             "#bd3786"
            ],
            [
             0.5555555555555556,
             "#d8576b"
            ],
            [
             0.6666666666666666,
             "#ed7953"
            ],
            [
             0.7777777777777778,
             "#fb9f3a"
            ],
            [
             0.8888888888888888,
             "#fdca26"
            ],
            [
             1,
             "#f0f921"
            ]
           ]
          },
          "colorway": [
           "#636efa",
           "#EF553B",
           "#00cc96",
           "#ab63fa",
           "#FFA15A",
           "#19d3f3",
           "#FF6692",
           "#B6E880",
           "#FF97FF",
           "#FECB52"
          ],
          "font": {
           "color": "#2a3f5f"
          },
          "geo": {
           "bgcolor": "white",
           "lakecolor": "white",
           "landcolor": "white",
           "showlakes": true,
           "showland": true,
           "subunitcolor": "#C8D4E3"
          },
          "hoverlabel": {
           "align": "left"
          },
          "hovermode": "closest",
          "mapbox": {
           "style": "light"
          },
          "paper_bgcolor": "white",
          "plot_bgcolor": "white",
          "polar": {
           "angularaxis": {
            "gridcolor": "#EBF0F8",
            "linecolor": "#EBF0F8",
            "ticks": ""
           },
           "bgcolor": "white",
           "radialaxis": {
            "gridcolor": "#EBF0F8",
            "linecolor": "#EBF0F8",
            "ticks": ""
           }
          },
          "scene": {
           "xaxis": {
            "backgroundcolor": "white",
            "gridcolor": "#DFE8F3",
            "gridwidth": 2,
            "linecolor": "#EBF0F8",
            "showbackground": true,
            "ticks": "",
            "zerolinecolor": "#EBF0F8"
           },
           "yaxis": {
            "backgroundcolor": "white",
            "gridcolor": "#DFE8F3",
            "gridwidth": 2,
            "linecolor": "#EBF0F8",
            "showbackground": true,
            "ticks": "",
            "zerolinecolor": "#EBF0F8"
           },
           "zaxis": {
            "backgroundcolor": "white",
            "gridcolor": "#DFE8F3",
            "gridwidth": 2,
            "linecolor": "#EBF0F8",
            "showbackground": true,
            "ticks": "",
            "zerolinecolor": "#EBF0F8"
           }
          },
          "shapedefaults": {
           "line": {
            "color": "#2a3f5f"
           }
          },
          "ternary": {
           "aaxis": {
            "gridcolor": "#DFE8F3",
            "linecolor": "#A2B1C6",
            "ticks": ""
           },
           "baxis": {
            "gridcolor": "#DFE8F3",
            "linecolor": "#A2B1C6",
            "ticks": ""
           },
           "bgcolor": "white",
           "caxis": {
            "gridcolor": "#DFE8F3",
            "linecolor": "#A2B1C6",
            "ticks": ""
           }
          },
          "title": {
           "x": 0.05
          },
          "xaxis": {
           "automargin": true,
           "gridcolor": "#EBF0F8",
           "linecolor": "#EBF0F8",
           "ticks": "",
           "title": {
            "standoff": 15
           },
           "zerolinecolor": "#EBF0F8",
           "zerolinewidth": 2
          },
          "yaxis": {
           "automargin": true,
           "gridcolor": "#EBF0F8",
           "linecolor": "#EBF0F8",
           "ticks": "",
           "title": {
            "standoff": 15
           },
           "zerolinecolor": "#EBF0F8",
           "zerolinewidth": 2
          }
         }
        },
        "title": {
         "text": "TCS - 7-Day Price Predictions"
        },
        "xaxis": {
         "title": {
          "text": "Date"
         }
        },
        "yaxis": {
         "title": {
          "text": "Price (INR )"
         }
        }
       }
      }
     },
     "metadata": {},
     "output_type": "display_data"
    },
    {
     "data": {
      "application/vnd.plotly.v1+json": {
       "config": {
        "plotlyServerURL": "https://plot.ly"
       },
       "data": [
        {
         "line": {
          "color": "black",
          "width": 3
         },
         "mode": "lines",
         "name": "Actual Prices",
         "type": "scatter",
         "x": [
          "2024-09-24T00:00:00.000000000",
          "2024-09-25T00:00:00.000000000",
          "2024-09-26T00:00:00.000000000",
          "2024-09-27T00:00:00.000000000",
          "2024-09-30T00:00:00.000000000",
          "2024-10-01T00:00:00.000000000",
          "2024-10-03T00:00:00.000000000",
          "2024-10-04T00:00:00.000000000",
          "2024-10-07T00:00:00.000000000",
          "2024-10-08T00:00:00.000000000",
          "2024-10-09T00:00:00.000000000",
          "2024-10-10T00:00:00.000000000",
          "2024-10-11T00:00:00.000000000",
          "2024-10-14T00:00:00.000000000",
          "2024-10-15T00:00:00.000000000",
          "2024-10-16T00:00:00.000000000",
          "2024-10-17T00:00:00.000000000",
          "2024-10-18T00:00:00.000000000",
          "2024-10-21T00:00:00.000000000",
          "2024-10-22T00:00:00.000000000",
          "2024-10-23T00:00:00.000000000",
          "2024-10-24T00:00:00.000000000",
          "2024-10-25T00:00:00.000000000",
          "2024-10-28T00:00:00.000000000",
          "2024-10-29T00:00:00.000000000",
          "2024-10-30T00:00:00.000000000",
          "2024-10-31T00:00:00.000000000",
          "2024-11-01T00:00:00.000000000",
          "2024-11-04T00:00:00.000000000",
          "2024-11-05T00:00:00.000000000",
          "2024-11-06T00:00:00.000000000",
          "2024-11-07T00:00:00.000000000",
          "2024-11-08T00:00:00.000000000",
          "2024-11-11T00:00:00.000000000",
          "2024-11-12T00:00:00.000000000",
          "2024-11-13T00:00:00.000000000",
          "2024-11-14T00:00:00.000000000",
          "2024-11-18T00:00:00.000000000",
          "2024-11-19T00:00:00.000000000",
          "2024-11-21T00:00:00.000000000",
          "2024-11-22T00:00:00.000000000",
          "2024-11-25T00:00:00.000000000",
          "2024-11-26T00:00:00.000000000",
          "2024-11-27T00:00:00.000000000",
          "2024-11-28T00:00:00.000000000",
          "2024-11-29T00:00:00.000000000",
          "2024-12-02T00:00:00.000000000",
          "2024-12-03T00:00:00.000000000",
          "2024-12-04T00:00:00.000000000",
          "2024-12-05T00:00:00.000000000",
          "2024-12-06T00:00:00.000000000",
          "2024-12-09T00:00:00.000000000",
          "2024-12-10T00:00:00.000000000",
          "2024-12-11T00:00:00.000000000",
          "2024-12-12T00:00:00.000000000",
          "2024-12-13T00:00:00.000000000",
          "2024-12-16T00:00:00.000000000",
          "2024-12-17T00:00:00.000000000",
          "2024-12-18T00:00:00.000000000",
          "2024-12-19T00:00:00.000000000",
          "2024-12-20T00:00:00.000000000",
          "2024-12-23T00:00:00.000000000",
          "2024-12-24T00:00:00.000000000",
          "2024-12-26T00:00:00.000000000",
          "2024-12-27T00:00:00.000000000",
          "2024-12-30T00:00:00.000000000",
          "2024-12-31T00:00:00.000000000",
          "2025-01-01T00:00:00.000000000",
          "2025-01-02T00:00:00.000000000",
          "2025-01-03T00:00:00.000000000",
          "2025-01-06T00:00:00.000000000",
          "2025-01-07T00:00:00.000000000",
          "2025-01-08T00:00:00.000000000",
          "2025-01-09T00:00:00.000000000",
          "2025-01-10T00:00:00.000000000",
          "2025-01-13T00:00:00.000000000",
          "2025-01-14T00:00:00.000000000",
          "2025-01-15T00:00:00.000000000",
          "2025-01-16T00:00:00.000000000",
          "2025-01-17T00:00:00.000000000",
          "2025-01-20T00:00:00.000000000",
          "2025-01-21T00:00:00.000000000",
          "2025-01-22T00:00:00.000000000",
          "2025-01-23T00:00:00.000000000",
          "2025-01-24T00:00:00.000000000",
          "2025-01-27T00:00:00.000000000",
          "2025-01-28T00:00:00.000000000",
          "2025-01-29T00:00:00.000000000",
          "2025-01-30T00:00:00.000000000",
          "2025-01-31T00:00:00.000000000",
          "2025-02-01T00:00:00.000000000",
          "2025-02-03T00:00:00.000000000",
          "2025-02-04T00:00:00.000000000",
          "2025-02-05T00:00:00.000000000",
          "2025-02-06T00:00:00.000000000",
          "2025-02-07T00:00:00.000000000",
          "2025-02-10T00:00:00.000000000",
          "2025-02-11T00:00:00.000000000",
          "2025-02-12T00:00:00.000000000",
          "2025-02-13T00:00:00.000000000",
          "2025-02-14T00:00:00.000000000",
          "2025-02-17T00:00:00.000000000",
          "2025-02-18T00:00:00.000000000",
          "2025-02-19T00:00:00.000000000",
          "2025-02-20T00:00:00.000000000",
          "2025-02-21T00:00:00.000000000",
          "2025-02-24T00:00:00.000000000",
          "2025-02-25T00:00:00.000000000",
          "2025-02-27T00:00:00.000000000",
          "2025-02-28T00:00:00.000000000",
          "2025-03-03T00:00:00.000000000",
          "2025-03-04T00:00:00.000000000",
          "2025-03-05T00:00:00.000000000",
          "2025-03-06T00:00:00.000000000",
          "2025-03-07T00:00:00.000000000",
          "2025-03-10T00:00:00.000000000",
          "2025-03-11T00:00:00.000000000",
          "2025-03-12T00:00:00.000000000",
          "2025-03-13T00:00:00.000000000",
          "2025-03-17T00:00:00.000000000",
          "2025-03-18T00:00:00.000000000",
          "2025-03-19T00:00:00.000000000",
          "2025-03-20T00:00:00.000000000",
          "2025-03-21T00:00:00.000000000",
          "2025-03-24T00:00:00.000000000",
          "2025-03-25T00:00:00.000000000",
          "2025-03-26T00:00:00.000000000",
          "2025-03-27T00:00:00.000000000",
          "2025-03-28T00:00:00.000000000",
          "2025-04-01T00:00:00.000000000",
          "2025-04-02T00:00:00.000000000",
          "2025-04-03T00:00:00.000000000",
          "2025-04-04T00:00:00.000000000",
          "2025-04-07T00:00:00.000000000",
          "2025-04-08T00:00:00.000000000",
          "2025-04-09T00:00:00.000000000",
          "2025-04-11T00:00:00.000000000",
          "2025-04-15T00:00:00.000000000",
          "2025-04-16T00:00:00.000000000",
          "2025-04-17T00:00:00.000000000",
          "2025-04-21T00:00:00.000000000",
          "2025-04-22T00:00:00.000000000",
          "2025-04-23T00:00:00.000000000",
          "2025-04-24T00:00:00.000000000",
          "2025-04-25T00:00:00.000000000",
          "2025-04-28T00:00:00.000000000",
          "2025-04-29T00:00:00.000000000",
          "2025-04-30T00:00:00.000000000",
          "2025-05-02T00:00:00.000000000",
          "2025-05-05T00:00:00.000000000",
          "2025-05-06T00:00:00.000000000",
          "2025-05-07T00:00:00.000000000",
          "2025-05-08T00:00:00.000000000",
          "2025-05-09T00:00:00.000000000",
          "2025-05-12T00:00:00.000000000",
          "2025-05-13T00:00:00.000000000",
          "2025-05-14T00:00:00.000000000",
          "2025-05-15T00:00:00.000000000",
          "2025-05-16T00:00:00.000000000",
          "2025-05-19T00:00:00.000000000",
          "2025-05-20T00:00:00.000000000",
          "2025-05-21T00:00:00.000000000",
          "2025-05-22T00:00:00.000000000",
          "2025-05-23T00:00:00.000000000",
          "2025-05-26T00:00:00.000000000",
          "2025-05-27T00:00:00.000000000",
          "2025-05-28T00:00:00.000000000",
          "2025-05-29T00:00:00.000000000",
          "2025-05-30T00:00:00.000000000",
          "2025-06-02T00:00:00.000000000",
          "2025-06-03T00:00:00.000000000",
          "2025-06-04T00:00:00.000000000",
          "2025-06-05T00:00:00.000000000",
          "2025-06-06T00:00:00.000000000",
          "2025-06-09T00:00:00.000000000",
          "2025-06-10T00:00:00.000000000",
          "2025-06-11T00:00:00.000000000",
          "2025-06-12T00:00:00.000000000",
          "2025-06-13T00:00:00.000000000",
          "2025-06-16T00:00:00.000000000",
          "2025-06-17T00:00:00.000000000",
          "2025-06-18T00:00:00.000000000",
          "2025-06-19T00:00:00.000000000",
          "2025-06-20T00:00:00.000000000",
          "2025-06-23T00:00:00.000000000",
          "2025-06-24T00:00:00.000000000",
          "2025-06-25T00:00:00.000000000",
          "2025-06-26T00:00:00.000000000",
          "2025-06-27T00:00:00.000000000",
          "2025-06-30T00:00:00.000000000",
          "2025-07-01T00:00:00.000000000",
          "2025-07-02T00:00:00.000000000",
          "2025-07-03T00:00:00.000000000",
          "2025-07-04T00:00:00.000000000",
          "2025-07-07T00:00:00.000000000",
          "2025-07-08T00:00:00.000000000",
          "2025-07-09T00:00:00.000000000",
          "2025-07-10T00:00:00.000000000",
          "2025-07-11T00:00:00.000000000",
          "2025-07-14T00:00:00.000000000",
          "2025-07-15T00:00:00.000000000",
          "2025-07-16T00:00:00.000000000",
          "2025-07-17T00:00:00.000000000",
          "2025-07-18T00:00:00.000000000",
          "2025-07-21T00:00:00.000000000",
          "2025-07-22T00:00:00.000000000",
          "2025-07-23T00:00:00.000000000",
          "2025-07-24T00:00:00.000000000",
          "2025-07-25T00:00:00.000000000",
          "2025-07-28T00:00:00.000000000",
          "2025-07-29T00:00:00.000000000",
          "2025-07-30T00:00:00.000000000",
          "2025-07-31T00:00:00.000000000",
          "2025-08-01T00:00:00.000000000",
          "2025-08-04T00:00:00.000000000",
          "2025-08-05T00:00:00.000000000",
          "2025-08-06T00:00:00.000000000",
          "2025-08-07T00:00:00.000000000",
          "2025-08-08T00:00:00.000000000",
          "2025-08-11T00:00:00.000000000",
          "2025-08-12T00:00:00.000000000",
          "2025-08-13T00:00:00.000000000",
          "2025-08-14T00:00:00.000000000",
          "2025-08-18T00:00:00.000000000",
          "2025-08-19T00:00:00.000000000",
          "2025-08-20T00:00:00.000000000",
          "2025-08-21T00:00:00.000000000",
          "2025-08-22T00:00:00.000000000",
          "2025-08-25T00:00:00.000000000",
          "2025-08-26T00:00:00.000000000",
          "2025-08-27T00:00:00.000000000",
          "2025-08-28T00:00:00.000000000",
          "2025-08-29T00:00:00.000000000",
          "2025-09-01T00:00:00.000000000",
          "2025-09-02T00:00:00.000000000",
          "2025-09-03T00:00:00.000000000",
          "2025-09-04T00:00:00.000000000",
          "2025-09-05T00:00:00.000000000",
          "2025-09-08T00:00:00.000000000",
          "2025-09-09T00:00:00.000000000",
          "2025-09-10T00:00:00.000000000",
          "2025-09-11T00:00:00.000000000",
          "2025-09-12T00:00:00.000000000",
          "2025-09-15T00:00:00.000000000",
          "2025-09-16T00:00:00.000000000",
          "2025-09-17T00:00:00.000000000",
          "2025-09-18T00:00:00.000000000",
          "2025-09-19T00:00:00.000000000",
          "2025-09-22T00:00:00.000000000",
          "2025-09-23T00:00:00.000000000",
          "2025-09-24T00:00:00.000000000",
          "2025-09-25T00:00:00.000000000",
          "2025-09-26T00:00:00.000000000",
          "2025-09-29T00:00:00.000000000",
          "2025-09-30T00:00:00.000000000",
          "2025-10-01T00:00:00.000000000",
          "2025-10-02T00:00:00.000000000",
          "2025-10-03T00:00:00.000000000",
          "2025-10-06T00:00:00.000000000"
         ],
         "y": {
          "bdata": "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",
          "dtype": "f8"
         }
        },
        {
         "line": {
          "color": "#3498db",
          "dash": "dash",
          "width": 2
         },
         "mode": "lines",
         "name": "Ensemble Predictions",
         "type": "scatter",
         "x": [
          "2024-09-24T00:00:00.000000000",
          "2024-09-25T00:00:00.000000000",
          "2024-09-26T00:00:00.000000000",
          "2024-09-27T00:00:00.000000000",
          "2024-09-30T00:00:00.000000000",
          "2024-10-01T00:00:00.000000000",
          "2024-10-03T00:00:00.000000000",
          "2024-10-04T00:00:00.000000000",
          "2024-10-07T00:00:00.000000000",
          "2024-10-08T00:00:00.000000000",
          "2024-10-09T00:00:00.000000000",
          "2024-10-10T00:00:00.000000000",
          "2024-10-11T00:00:00.000000000",
          "2024-10-14T00:00:00.000000000",
          "2024-10-15T00:00:00.000000000",
          "2024-10-16T00:00:00.000000000",
          "2024-10-17T00:00:00.000000000",
          "2024-10-18T00:00:00.000000000",
          "2024-10-21T00:00:00.000000000",
          "2024-10-22T00:00:00.000000000",
          "2024-10-23T00:00:00.000000000",
          "2024-10-24T00:00:00.000000000",
          "2024-10-25T00:00:00.000000000",
          "2024-10-28T00:00:00.000000000",
          "2024-10-29T00:00:00.000000000",
          "2024-10-30T00:00:00.000000000",
          "2024-10-31T00:00:00.000000000",
          "2024-11-01T00:00:00.000000000",
          "2024-11-04T00:00:00.000000000",
          "2024-11-05T00:00:00.000000000",
          "2024-11-06T00:00:00.000000000",
          "2024-11-07T00:00:00.000000000",
          "2024-11-08T00:00:00.000000000",
          "2024-11-11T00:00:00.000000000",
          "2024-11-12T00:00:00.000000000",
          "2024-11-13T00:00:00.000000000",
          "2024-11-14T00:00:00.000000000",
          "2024-11-18T00:00:00.000000000",
          "2024-11-19T00:00:00.000000000",
          "2024-11-21T00:00:00.000000000",
          "2024-11-22T00:00:00.000000000",
          "2024-11-25T00:00:00.000000000",
          "2024-11-26T00:00:00.000000000",
          "2024-11-27T00:00:00.000000000",
          "2024-11-28T00:00:00.000000000",
          "2024-11-29T00:00:00.000000000",
          "2024-12-02T00:00:00.000000000",
          "2024-12-03T00:00:00.000000000",
          "2024-12-04T00:00:00.000000000",
          "2024-12-05T00:00:00.000000000",
          "2024-12-06T00:00:00.000000000",
          "2024-12-09T00:00:00.000000000",
          "2024-12-10T00:00:00.000000000",
          "2024-12-11T00:00:00.000000000",
          "2024-12-12T00:00:00.000000000",
          "2024-12-13T00:00:00.000000000",
          "2024-12-16T00:00:00.000000000",
          "2024-12-17T00:00:00.000000000",
          "2024-12-18T00:00:00.000000000",
          "2024-12-19T00:00:00.000000000",
          "2024-12-20T00:00:00.000000000",
          "2024-12-23T00:00:00.000000000",
          "2024-12-24T00:00:00.000000000",
          "2024-12-26T00:00:00.000000000",
          "2024-12-27T00:00:00.000000000",
          "2024-12-30T00:00:00.000000000",
          "2024-12-31T00:00:00.000000000",
          "2025-01-01T00:00:00.000000000",
          "2025-01-02T00:00:00.000000000",
          "2025-01-03T00:00:00.000000000",
          "2025-01-06T00:00:00.000000000",
          "2025-01-07T00:00:00.000000000",
          "2025-01-08T00:00:00.000000000",
          "2025-01-09T00:00:00.000000000",
          "2025-01-10T00:00:00.000000000",
          "2025-01-13T00:00:00.000000000",
          "2025-01-14T00:00:00.000000000",
          "2025-01-15T00:00:00.000000000",
          "2025-01-16T00:00:00.000000000",
          "2025-01-17T00:00:00.000000000",
          "2025-01-20T00:00:00.000000000",
          "2025-01-21T00:00:00.000000000",
          "2025-01-22T00:00:00.000000000",
          "2025-01-23T00:00:00.000000000",
          "2025-01-24T00:00:00.000000000",
          "2025-01-27T00:00:00.000000000",
          "2025-01-28T00:00:00.000000000",
          "2025-01-29T00:00:00.000000000",
          "2025-01-30T00:00:00.000000000",
          "2025-01-31T00:00:00.000000000",
          "2025-02-01T00:00:00.000000000",
          "2025-02-03T00:00:00.000000000",
          "2025-02-04T00:00:00.000000000",
          "2025-02-05T00:00:00.000000000",
          "2025-02-06T00:00:00.000000000",
          "2025-02-07T00:00:00.000000000",
          "2025-02-10T00:00:00.000000000",
          "2025-02-11T00:00:00.000000000",
          "2025-02-12T00:00:00.000000000",
          "2025-02-13T00:00:00.000000000",
          "2025-02-14T00:00:00.000000000",
          "2025-02-17T00:00:00.000000000",
          "2025-02-18T00:00:00.000000000",
          "2025-02-19T00:00:00.000000000",
          "2025-02-20T00:00:00.000000000",
          "2025-02-21T00:00:00.000000000",
          "2025-02-24T00:00:00.000000000",
          "2025-02-25T00:00:00.000000000",
          "2025-02-27T00:00:00.000000000",
          "2025-02-28T00:00:00.000000000",
          "2025-03-03T00:00:00.000000000",
          "2025-03-04T00:00:00.000000000",
          "2025-03-05T00:00:00.000000000",
          "2025-03-06T00:00:00.000000000",
          "2025-03-07T00:00:00.000000000",
          "2025-03-10T00:00:00.000000000",
          "2025-03-11T00:00:00.000000000",
          "2025-03-12T00:00:00.000000000",
          "2025-03-13T00:00:00.000000000",
          "2025-03-17T00:00:00.000000000",
          "2025-03-18T00:00:00.000000000",
          "2025-03-19T00:00:00.000000000",
          "2025-03-20T00:00:00.000000000",
          "2025-03-21T00:00:00.000000000",
          "2025-03-24T00:00:00.000000000",
          "2025-03-25T00:00:00.000000000",
          "2025-03-26T00:00:00.000000000",
          "2025-03-27T00:00:00.000000000",
          "2025-03-28T00:00:00.000000000",
          "2025-04-01T00:00:00.000000000",
          "2025-04-02T00:00:00.000000000",
          "2025-04-03T00:00:00.000000000",
          "2025-04-04T00:00:00.000000000",
          "2025-04-07T00:00:00.000000000",
          "2025-04-08T00:00:00.000000000",
          "2025-04-09T00:00:00.000000000",
          "2025-04-11T00:00:00.000000000",
          "2025-04-15T00:00:00.000000000",
          "2025-04-16T00:00:00.000000000",
          "2025-04-17T00:00:00.000000000",
          "2025-04-21T00:00:00.000000000",
          "2025-04-22T00:00:00.000000000",
          "2025-04-23T00:00:00.000000000",
          "2025-04-24T00:00:00.000000000",
          "2025-04-25T00:00:00.000000000",
          "2025-04-28T00:00:00.000000000",
          "2025-04-29T00:00:00.000000000",
          "2025-04-30T00:00:00.000000000",
          "2025-05-02T00:00:00.000000000",
          "2025-05-05T00:00:00.000000000",
          "2025-05-06T00:00:00.000000000",
          "2025-05-07T00:00:00.000000000",
          "2025-05-08T00:00:00.000000000",
          "2025-05-09T00:00:00.000000000",
          "2025-05-12T00:00:00.000000000",
          "2025-05-13T00:00:00.000000000",
          "2025-05-14T00:00:00.000000000",
          "2025-05-15T00:00:00.000000000",
          "2025-05-16T00:00:00.000000000",
          "2025-05-19T00:00:00.000000000",
          "2025-05-20T00:00:00.000000000",
          "2025-05-21T00:00:00.000000000",
          "2025-05-22T00:00:00.000000000",
          "2025-05-23T00:00:00.000000000",
          "2025-05-26T00:00:00.000000000",
          "2025-05-27T00:00:00.000000000",
          "2025-05-28T00:00:00.000000000",
          "2025-05-29T00:00:00.000000000",
          "2025-05-30T00:00:00.000000000",
          "2025-06-02T00:00:00.000000000",
          "2025-06-03T00:00:00.000000000",
          "2025-06-04T00:00:00.000000000",
          "2025-06-05T00:00:00.000000000",
          "2025-06-06T00:00:00.000000000",
          "2025-06-09T00:00:00.000000000",
          "2025-06-10T00:00:00.000000000",
          "2025-06-11T00:00:00.000000000",
          "2025-06-12T00:00:00.000000000",
          "2025-06-13T00:00:00.000000000",
          "2025-06-16T00:00:00.000000000",
          "2025-06-17T00:00:00.000000000",
          "2025-06-18T00:00:00.000000000",
          "2025-06-19T00:00:00.000000000",
          "2025-06-20T00:00:00.000000000",
          "2025-06-23T00:00:00.000000000",
          "2025-06-24T00:00:00.000000000",
          "2025-06-25T00:00:00.000000000",
          "2025-06-26T00:00:00.000000000",
          "2025-06-27T00:00:00.000000000",
          "2025-06-30T00:00:00.000000000",
          "2025-07-01T00:00:00.000000000",
          "2025-07-02T00:00:00.000000000",
          "2025-07-03T00:00:00.000000000",
          "2025-07-04T00:00:00.000000000",
          "2025-07-07T00:00:00.000000000",
          "2025-07-08T00:00:00.000000000",
          "2025-07-09T00:00:00.000000000",
          "2025-07-10T00:00:00.000000000",
          "2025-07-11T00:00:00.000000000",
          "2025-07-14T00:00:00.000000000",
          "2025-07-15T00:00:00.000000000",
          "2025-07-16T00:00:00.000000000",
          "2025-07-17T00:00:00.000000000",
          "2025-07-18T00:00:00.000000000",
          "2025-07-21T00:00:00.000000000",
          "2025-07-22T00:00:00.000000000",
          "2025-07-23T00:00:00.000000000",
          "2025-07-24T00:00:00.000000000",
          "2025-07-25T00:00:00.000000000",
          "2025-07-28T00:00:00.000000000",
          "2025-07-29T00:00:00.000000000",
          "2025-07-30T00:00:00.000000000",
          "2025-07-31T00:00:00.000000000",
          "2025-08-01T00:00:00.000000000",
          "2025-08-04T00:00:00.000000000",
          "2025-08-05T00:00:00.000000000",
          "2025-08-06T00:00:00.000000000",
          "2025-08-07T00:00:00.000000000",
          "2025-08-08T00:00:00.000000000",
          "2025-08-11T00:00:00.000000000",
          "2025-08-12T00:00:00.000000000",
          "2025-08-13T00:00:00.000000000",
          "2025-08-14T00:00:00.000000000",
          "2025-08-18T00:00:00.000000000",
          "2025-08-19T00:00:00.000000000",
          "2025-08-20T00:00:00.000000000",
          "2025-08-21T00:00:00.000000000",
          "2025-08-22T00:00:00.000000000",
          "2025-08-25T00:00:00.000000000",
          "2025-08-26T00:00:00.000000000",
          "2025-08-27T00:00:00.000000000",
          "2025-08-28T00:00:00.000000000",
          "2025-08-29T00:00:00.000000000",
          "2025-09-01T00:00:00.000000000",
          "2025-09-02T00:00:00.000000000",
          "2025-09-03T00:00:00.000000000",
          "2025-09-04T00:00:00.000000000",
          "2025-09-05T00:00:00.000000000",
          "2025-09-08T00:00:00.000000000",
          "2025-09-09T00:00:00.000000000",
          "2025-09-10T00:00:00.000000000",
          "2025-09-11T00:00:00.000000000",
          "2025-09-12T00:00:00.000000000",
          "2025-09-15T00:00:00.000000000",
          "2025-09-16T00:00:00.000000000",
          "2025-09-17T00:00:00.000000000",
          "2025-09-18T00:00:00.000000000",
          "2025-09-19T00:00:00.000000000",
          "2025-09-22T00:00:00.000000000",
          "2025-09-23T00:00:00.000000000",
          "2025-09-24T00:00:00.000000000",
          "2025-09-25T00:00:00.000000000",
          "2025-09-26T00:00:00.000000000",
          "2025-09-29T00:00:00.000000000",
          "2025-09-30T00:00:00.000000000",
          "2025-10-01T00:00:00.000000000",
          "2025-10-02T00:00:00.000000000",
          "2025-10-03T00:00:00.000000000",
          "2025-10-06T00:00:00.000000000"
         ],
         "y": {
          "bdata": "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",
          "dtype": "f8"
         }
        },
        {
         "line": {
          "color": "#e74c3c",
          "dash": "dash",
          "width": 2
         },
         "mode": "lines",
         "name": "Random_Forest Predictions",
         "type": "scatter",
         "x": [
          "2024-09-24T00:00:00.000000000",
          "2024-09-25T00:00:00.000000000",
          "2024-09-26T00:00:00.000000000",
          "2024-09-27T00:00:00.000000000",
          "2024-09-30T00:00:00.000000000",
          "2024-10-01T00:00:00.000000000",
          "2024-10-03T00:00:00.000000000",
          "2024-10-04T00:00:00.000000000",
          "2024-10-07T00:00:00.000000000",
          "2024-10-08T00:00:00.000000000",
          "2024-10-09T00:00:00.000000000",
          "2024-10-10T00:00:00.000000000",
          "2024-10-11T00:00:00.000000000",
          "2024-10-14T00:00:00.000000000",
          "2024-10-15T00:00:00.000000000",
          "2024-10-16T00:00:00.000000000",
          "2024-10-17T00:00:00.000000000",
          "2024-10-18T00:00:00.000000000",
          "2024-10-21T00:00:00.000000000",
          "2024-10-22T00:00:00.000000000",
          "2024-10-23T00:00:00.000000000",
          "2024-10-24T00:00:00.000000000",
          "2024-10-25T00:00:00.000000000",
          "2024-10-28T00:00:00.000000000",
          "2024-10-29T00:00:00.000000000",
          "2024-10-30T00:00:00.000000000",
          "2024-10-31T00:00:00.000000000",
          "2024-11-01T00:00:00.000000000",
          "2024-11-04T00:00:00.000000000",
          "2024-11-05T00:00:00.000000000",
          "2024-11-06T00:00:00.000000000",
          "2024-11-07T00:00:00.000000000",
          "2024-11-08T00:00:00.000000000",
          "2024-11-11T00:00:00.000000000",
          "2024-11-12T00:00:00.000000000",
          "2024-11-13T00:00:00.000000000",
          "2024-11-14T00:00:00.000000000",
          "2024-11-18T00:00:00.000000000",
          "2024-11-19T00:00:00.000000000",
          "2024-11-21T00:00:00.000000000",
          "2024-11-22T00:00:00.000000000",
          "2024-11-25T00:00:00.000000000",
          "2024-11-26T00:00:00.000000000",
          "2024-11-27T00:00:00.000000000",
          "2024-11-28T00:00:00.000000000",
          "2024-11-29T00:00:00.000000000",
          "2024-12-02T00:00:00.000000000",
          "2024-12-03T00:00:00.000000000",
          "2024-12-04T00:00:00.000000000",
          "2024-12-05T00:00:00.000000000",
          "2024-12-06T00:00:00.000000000",
          "2024-12-09T00:00:00.000000000",
          "2024-12-10T00:00:00.000000000",
          "2024-12-11T00:00:00.000000000",
          "2024-12-12T00:00:00.000000000",
          "2024-12-13T00:00:00.000000000",
          "2024-12-16T00:00:00.000000000",
          "2024-12-17T00:00:00.000000000",
          "2024-12-18T00:00:00.000000000",
          "2024-12-19T00:00:00.000000000",
          "2024-12-20T00:00:00.000000000",
          "2024-12-23T00:00:00.000000000",
          "2024-12-24T00:00:00.000000000",
          "2024-12-26T00:00:00.000000000",
          "2024-12-27T00:00:00.000000000",
          "2024-12-30T00:00:00.000000000",
          "2024-12-31T00:00:00.000000000",
          "2025-01-01T00:00:00.000000000",
          "2025-01-02T00:00:00.000000000",
          "2025-01-03T00:00:00.000000000",
          "2025-01-06T00:00:00.000000000",
          "2025-01-07T00:00:00.000000000",
          "2025-01-08T00:00:00.000000000",
          "2025-01-09T00:00:00.000000000",
          "2025-01-10T00:00:00.000000000",
          "2025-01-13T00:00:00.000000000",
          "2025-01-14T00:00:00.000000000",
          "2025-01-15T00:00:00.000000000",
          "2025-01-16T00:00:00.000000000",
          "2025-01-17T00:00:00.000000000",
          "2025-01-20T00:00:00.000000000",
          "2025-01-21T00:00:00.000000000",
          "2025-01-22T00:00:00.000000000",
          "2025-01-23T00:00:00.000000000",
          "2025-01-24T00:00:00.000000000",
          "2025-01-27T00:00:00.000000000",
          "2025-01-28T00:00:00.000000000",
          "2025-01-29T00:00:00.000000000",
          "2025-01-30T00:00:00.000000000",
          "2025-01-31T00:00:00.000000000",
          "2025-02-01T00:00:00.000000000",
          "2025-02-03T00:00:00.000000000",
          "2025-02-04T00:00:00.000000000",
          "2025-02-05T00:00:00.000000000",
          "2025-02-06T00:00:00.000000000",
          "2025-02-07T00:00:00.000000000",
          "2025-02-10T00:00:00.000000000",
          "2025-02-11T00:00:00.000000000",
          "2025-02-12T00:00:00.000000000",
          "2025-02-13T00:00:00.000000000",
          "2025-02-14T00:00:00.000000000",
          "2025-02-17T00:00:00.000000000",
          "2025-02-18T00:00:00.000000000",
          "2025-02-19T00:00:00.000000000",
          "2025-02-20T00:00:00.000000000",
          "2025-02-21T00:00:00.000000000",
          "2025-02-24T00:00:00.000000000",
          "2025-02-25T00:00:00.000000000",
          "2025-02-27T00:00:00.000000000",
          "2025-02-28T00:00:00.000000000",
          "2025-03-03T00:00:00.000000000",
          "2025-03-04T00:00:00.000000000",
          "2025-03-05T00:00:00.000000000",
          "2025-03-06T00:00:00.000000000",
          "2025-03-07T00:00:00.000000000",
          "2025-03-10T00:00:00.000000000",
          "2025-03-11T00:00:00.000000000",
          "2025-03-12T00:00:00.000000000",
          "2025-03-13T00:00:00.000000000",
          "2025-03-17T00:00:00.000000000",
          "2025-03-18T00:00:00.000000000",
          "2025-03-19T00:00:00.000000000",
          "2025-03-20T00:00:00.000000000",
          "2025-03-21T00:00:00.000000000",
          "2025-03-24T00:00:00.000000000",
          "2025-03-25T00:00:00.000000000",
          "2025-03-26T00:00:00.000000000",
          "2025-03-27T00:00:00.000000000",
          "2025-03-28T00:00:00.000000000",
          "2025-04-01T00:00:00.000000000",
          "2025-04-02T00:00:00.000000000",
          "2025-04-03T00:00:00.000000000",
          "2025-04-04T00:00:00.000000000",
          "2025-04-07T00:00:00.000000000",
          "2025-04-08T00:00:00.000000000",
          "2025-04-09T00:00:00.000000000",
          "2025-04-11T00:00:00.000000000",
          "2025-04-15T00:00:00.000000000",
          "2025-04-16T00:00:00.000000000",
          "2025-04-17T00:00:00.000000000",
          "2025-04-21T00:00:00.000000000",
          "2025-04-22T00:00:00.000000000",
          "2025-04-23T00:00:00.000000000",
          "2025-04-24T00:00:00.000000000",
          "2025-04-25T00:00:00.000000000",
          "2025-04-28T00:00:00.000000000",
          "2025-04-29T00:00:00.000000000",
          "2025-04-30T00:00:00.000000000",
          "2025-05-02T00:00:00.000000000",
          "2025-05-05T00:00:00.000000000",
          "2025-05-06T00:00:00.000000000",
          "2025-05-07T00:00:00.000000000",
          "2025-05-08T00:00:00.000000000",
          "2025-05-09T00:00:00.000000000",
          "2025-05-12T00:00:00.000000000",
          "2025-05-13T00:00:00.000000000",
          "2025-05-14T00:00:00.000000000",
          "2025-05-15T00:00:00.000000000",
          "2025-05-16T00:00:00.000000000",
          "2025-05-19T00:00:00.000000000",
          "2025-05-20T00:00:00.000000000",
          "2025-05-21T00:00:00.000000000",
          "2025-05-22T00:00:00.000000000",
          "2025-05-23T00:00:00.000000000",
          "2025-05-26T00:00:00.000000000",
          "2025-05-27T00:00:00.000000000",
          "2025-05-28T00:00:00.000000000",
          "2025-05-29T00:00:00.000000000",
          "2025-05-30T00:00:00.000000000",
          "2025-06-02T00:00:00.000000000",
          "2025-06-03T00:00:00.000000000",
          "2025-06-04T00:00:00.000000000",
          "2025-06-05T00:00:00.000000000",
          "2025-06-06T00:00:00.000000000",
          "2025-06-09T00:00:00.000000000",
          "2025-06-10T00:00:00.000000000",
          "2025-06-11T00:00:00.000000000",
          "2025-06-12T00:00:00.000000000",
          "2025-06-13T00:00:00.000000000",
          "2025-06-16T00:00:00.000000000",
          "2025-06-17T00:00:00.000000000",
          "2025-06-18T00:00:00.000000000",
          "2025-06-19T00:00:00.000000000",
          "2025-06-20T00:00:00.000000000",
          "2025-06-23T00:00:00.000000000",
          "2025-06-24T00:00:00.000000000",
          "2025-06-25T00:00:00.000000000",
          "2025-06-26T00:00:00.000000000",
          "2025-06-27T00:00:00.000000000",
          "2025-06-30T00:00:00.000000000",
          "2025-07-01T00:00:00.000000000",
          "2025-07-02T00:00:00.000000000",
          "2025-07-03T00:00:00.000000000",
          "2025-07-04T00:00:00.000000000",
          "2025-07-07T00:00:00.000000000",
          "2025-07-08T00:00:00.000000000",
          "2025-07-09T00:00:00.000000000",
          "2025-07-10T00:00:00.000000000",
          "2025-07-11T00:00:00.000000000",
          "2025-07-14T00:00:00.000000000",
          "2025-07-15T00:00:00.000000000",
          "2025-07-16T00:00:00.000000000",
          "2025-07-17T00:00:00.000000000",
          "2025-07-18T00:00:00.000000000",
          "2025-07-21T00:00:00.000000000",
          "2025-07-22T00:00:00.000000000",
          "2025-07-23T00:00:00.000000000",
          "2025-07-24T00:00:00.000000000",
          "2025-07-25T00:00:00.000000000",
          "2025-07-28T00:00:00.000000000",
          "2025-07-29T00:00:00.000000000",
          "2025-07-30T00:00:00.000000000",
          "2025-07-31T00:00:00.000000000",
          "2025-08-01T00:00:00.000000000",
          "2025-08-04T00:00:00.000000000",
          "2025-08-05T00:00:00.000000000",
          "2025-08-06T00:00:00.000000000",
          "2025-08-07T00:00:00.000000000",
          "2025-08-08T00:00:00.000000000",
          "2025-08-11T00:00:00.000000000",
          "2025-08-12T00:00:00.000000000",
          "2025-08-13T00:00:00.000000000",
          "2025-08-14T00:00:00.000000000",
          "2025-08-18T00:00:00.000000000",
          "2025-08-19T00:00:00.000000000",
          "2025-08-20T00:00:00.000000000",
          "2025-08-21T00:00:00.000000000",
          "2025-08-22T00:00:00.000000000",
          "2025-08-25T00:00:00.000000000",
          "2025-08-26T00:00:00.000000000",
          "2025-08-27T00:00:00.000000000",
          "2025-08-28T00:00:00.000000000",
          "2025-08-29T00:00:00.000000000",
          "2025-09-01T00:00:00.000000000",
          "2025-09-02T00:00:00.000000000",
          "2025-09-03T00:00:00.000000000",
          "2025-09-04T00:00:00.000000000",
          "2025-09-05T00:00:00.000000000",
          "2025-09-08T00:00:00.000000000",
          "2025-09-09T00:00:00.000000000",
          "2025-09-10T00:00:00.000000000",
          "2025-09-11T00:00:00.000000000",
          "2025-09-12T00:00:00.000000000",
          "2025-09-15T00:00:00.000000000",
          "2025-09-16T00:00:00.000000000",
          "2025-09-17T00:00:00.000000000",
          "2025-09-18T00:00:00.000000000",
          "2025-09-19T00:00:00.000000000",
          "2025-09-22T00:00:00.000000000",
          "2025-09-23T00:00:00.000000000",
          "2025-09-24T00:00:00.000000000",
          "2025-09-25T00:00:00.000000000",
          "2025-09-26T00:00:00.000000000",
          "2025-09-29T00:00:00.000000000",
          "2025-09-30T00:00:00.000000000",
          "2025-10-01T00:00:00.000000000",
          "2025-10-02T00:00:00.000000000",
          "2025-10-03T00:00:00.000000000",
          "2025-10-06T00:00:00.000000000"
         ],
         "y": {
          "bdata": "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",
          "dtype": "f8"
         }
        },
        {
         "line": {
          "color": "#2ecc71",
          "dash": "dash",
          "width": 2
         },
         "mode": "lines",
         "name": "Gradient_Boosting Predictions",
         "type": "scatter",
         "x": [
          "2024-09-24T00:00:00.000000000",
          "2024-09-25T00:00:00.000000000",
          "2024-09-26T00:00:00.000000000",
          "2024-09-27T00:00:00.000000000",
          "2024-09-30T00:00:00.000000000",
          "2024-10-01T00:00:00.000000000",
          "2024-10-03T00:00:00.000000000",
          "2024-10-04T00:00:00.000000000",
          "2024-10-07T00:00:00.000000000",
          "2024-10-08T00:00:00.000000000",
          "2024-10-09T00:00:00.000000000",
          "2024-10-10T00:00:00.000000000",
          "2024-10-11T00:00:00.000000000",
          "2024-10-14T00:00:00.000000000",
          "2024-10-15T00:00:00.000000000",
          "2024-10-16T00:00:00.000000000",
          "2024-10-17T00:00:00.000000000",
          "2024-10-18T00:00:00.000000000",
          "2024-10-21T00:00:00.000000000",
          "2024-10-22T00:00:00.000000000",
          "2024-10-23T00:00:00.000000000",
          "2024-10-24T00:00:00.000000000",
          "2024-10-25T00:00:00.000000000",
          "2024-10-28T00:00:00.000000000",
          "2024-10-29T00:00:00.000000000",
          "2024-10-30T00:00:00.000000000",
          "2024-10-31T00:00:00.000000000",
          "2024-11-01T00:00:00.000000000",
          "2024-11-04T00:00:00.000000000",
          "2024-11-05T00:00:00.000000000",
          "2024-11-06T00:00:00.000000000",
          "2024-11-07T00:00:00.000000000",
          "2024-11-08T00:00:00.000000000",
          "2024-11-11T00:00:00.000000000",
          "2024-11-12T00:00:00.000000000",
          "2024-11-13T00:00:00.000000000",
          "2024-11-14T00:00:00.000000000",
          "2024-11-18T00:00:00.000000000",
          "2024-11-19T00:00:00.000000000",
          "2024-11-21T00:00:00.000000000",
          "2024-11-22T00:00:00.000000000",
          "2024-11-25T00:00:00.000000000",
          "2024-11-26T00:00:00.000000000",
          "2024-11-27T00:00:00.000000000",
          "2024-11-28T00:00:00.000000000",
          "2024-11-29T00:00:00.000000000",
          "2024-12-02T00:00:00.000000000",
          "2024-12-03T00:00:00.000000000",
          "2024-12-04T00:00:00.000000000",
          "2024-12-05T00:00:00.000000000",
          "2024-12-06T00:00:00.000000000",
          "2024-12-09T00:00:00.000000000",
          "2024-12-10T00:00:00.000000000",
          "2024-12-11T00:00:00.000000000",
          "2024-12-12T00:00:00.000000000",
          "2024-12-13T00:00:00.000000000",
          "2024-12-16T00:00:00.000000000",
          "2024-12-17T00:00:00.000000000",
          "2024-12-18T00:00:00.000000000",
          "2024-12-19T00:00:00.000000000",
          "2024-12-20T00:00:00.000000000",
          "2024-12-23T00:00:00.000000000",
          "2024-12-24T00:00:00.000000000",
          "2024-12-26T00:00:00.000000000",
          "2024-12-27T00:00:00.000000000",
          "2024-12-30T00:00:00.000000000",
          "2024-12-31T00:00:00.000000000",
          "2025-01-01T00:00:00.000000000",
          "2025-01-02T00:00:00.000000000",
          "2025-01-03T00:00:00.000000000",
          "2025-01-06T00:00:00.000000000",
          "2025-01-07T00:00:00.000000000",
          "2025-01-08T00:00:00.000000000",
          "2025-01-09T00:00:00.000000000",
          "2025-01-10T00:00:00.000000000",
          "2025-01-13T00:00:00.000000000",
          "2025-01-14T00:00:00.000000000",
          "2025-01-15T00:00:00.000000000",
          "2025-01-16T00:00:00.000000000",
          "2025-01-17T00:00:00.000000000",
          "2025-01-20T00:00:00.000000000",
          "2025-01-21T00:00:00.000000000",
          "2025-01-22T00:00:00.000000000",
          "2025-01-23T00:00:00.000000000",
          "2025-01-24T00:00:00.000000000",
          "2025-01-27T00:00:00.000000000",
          "2025-01-28T00:00:00.000000000",
          "2025-01-29T00:00:00.000000000",
          "2025-01-30T00:00:00.000000000",
          "2025-01-31T00:00:00.000000000",
          "2025-02-01T00:00:00.000000000",
          "2025-02-03T00:00:00.000000000",
          "2025-02-04T00:00:00.000000000",
          "2025-02-05T00:00:00.000000000",
          "2025-02-06T00:00:00.000000000",
          "2025-02-07T00:00:00.000000000",
          "2025-02-10T00:00:00.000000000",
          "2025-02-11T00:00:00.000000000",
          "2025-02-12T00:00:00.000000000",
          "2025-02-13T00:00:00.000000000",
          "2025-02-14T00:00:00.000000000",
          "2025-02-17T00:00:00.000000000",
          "2025-02-18T00:00:00.000000000",
          "2025-02-19T00:00:00.000000000",
          "2025-02-20T00:00:00.000000000",
          "2025-02-21T00:00:00.000000000",
          "2025-02-24T00:00:00.000000000",
          "2025-02-25T00:00:00.000000000",
          "2025-02-27T00:00:00.000000000",
          "2025-02-28T00:00:00.000000000",
          "2025-03-03T00:00:00.000000000",
          "2025-03-04T00:00:00.000000000",
          "2025-03-05T00:00:00.000000000",
          "2025-03-06T00:00:00.000000000",
          "2025-03-07T00:00:00.000000000",
          "2025-03-10T00:00:00.000000000",
          "2025-03-11T00:00:00.000000000",
          "2025-03-12T00:00:00.000000000",
          "2025-03-13T00:00:00.000000000",
          "2025-03-17T00:00:00.000000000",
          "2025-03-18T00:00:00.000000000",
          "2025-03-19T00:00:00.000000000",
          "2025-03-20T00:00:00.000000000",
          "2025-03-21T00:00:00.000000000",
          "2025-03-24T00:00:00.000000000",
          "2025-03-25T00:00:00.000000000",
          "2025-03-26T00:00:00.000000000",
          "2025-03-27T00:00:00.000000000",
          "2025-03-28T00:00:00.000000000",
          "2025-04-01T00:00:00.000000000",
          "2025-04-02T00:00:00.000000000",
          "2025-04-03T00:00:00.000000000",
          "2025-04-04T00:00:00.000000000",
          "2025-04-07T00:00:00.000000000",
          "2025-04-08T00:00:00.000000000",
          "2025-04-09T00:00:00.000000000",
          "2025-04-11T00:00:00.000000000",
          "2025-04-15T00:00:00.000000000",
          "2025-04-16T00:00:00.000000000",
          "2025-04-17T00:00:00.000000000",
          "2025-04-21T00:00:00.000000000",
          "2025-04-22T00:00:00.000000000",
          "2025-04-23T00:00:00.000000000",
          "2025-04-24T00:00:00.000000000",
          "2025-04-25T00:00:00.000000000",
          "2025-04-28T00:00:00.000000000",
          "2025-04-29T00:00:00.000000000",
          "2025-04-30T00:00:00.000000000",
          "2025-05-02T00:00:00.000000000",
          "2025-05-05T00:00:00.000000000",
          "2025-05-06T00:00:00.000000000",
          "2025-05-07T00:00:00.000000000",
          "2025-05-08T00:00:00.000000000",
          "2025-05-09T00:00:00.000000000",
          "2025-05-12T00:00:00.000000000",
          "2025-05-13T00:00:00.000000000",
          "2025-05-14T00:00:00.000000000",
          "2025-05-15T00:00:00.000000000",
          "2025-05-16T00:00:00.000000000",
          "2025-05-19T00:00:00.000000000",
          "2025-05-20T00:00:00.000000000",
          "2025-05-21T00:00:00.000000000",
          "2025-05-22T00:00:00.000000000",
          "2025-05-23T00:00:00.000000000",
          "2025-05-26T00:00:00.000000000",
          "2025-05-27T00:00:00.000000000",
          "2025-05-28T00:00:00.000000000",
          "2025-05-29T00:00:00.000000000",
          "2025-05-30T00:00:00.000000000",
          "2025-06-02T00:00:00.000000000",
          "2025-06-03T00:00:00.000000000",
          "2025-06-04T00:00:00.000000000",
          "2025-06-05T00:00:00.000000000",
          "2025-06-06T00:00:00.000000000",
          "2025-06-09T00:00:00.000000000",
          "2025-06-10T00:00:00.000000000",
          "2025-06-11T00:00:00.000000000",
          "2025-06-12T00:00:00.000000000",
          "2025-06-13T00:00:00.000000000",
          "2025-06-16T00:00:00.000000000",
          "2025-06-17T00:00:00.000000000",
          "2025-06-18T00:00:00.000000000",
          "2025-06-19T00:00:00.000000000",
          "2025-06-20T00:00:00.000000000",
          "2025-06-23T00:00:00.000000000",
          "2025-06-24T00:00:00.000000000",
          "2025-06-25T00:00:00.000000000",
          "2025-06-26T00:00:00.000000000",
          "2025-06-27T00:00:00.000000000",
          "2025-06-30T00:00:00.000000000",
          "2025-07-01T00:00:00.000000000",
          "2025-07-02T00:00:00.000000000",
          "2025-07-03T00:00:00.000000000",
          "2025-07-04T00:00:00.000000000",
          "2025-07-07T00:00:00.000000000",
          "2025-07-08T00:00:00.000000000",
          "2025-07-09T00:00:00.000000000",
          "2025-07-10T00:00:00.000000000",
          "2025-07-11T00:00:00.000000000",
          "2025-07-14T00:00:00.000000000",
          "2025-07-15T00:00:00.000000000",
          "2025-07-16T00:00:00.000000000",
          "2025-07-17T00:00:00.000000000",
          "2025-07-18T00:00:00.000000000",
          "2025-07-21T00:00:00.000000000",
          "2025-07-22T00:00:00.000000000",
          "2025-07-23T00:00:00.000000000",
          "2025-07-24T00:00:00.000000000",
          "2025-07-25T00:00:00.000000000",
          "2025-07-28T00:00:00.000000000",
          "2025-07-29T00:00:00.000000000",
          "2025-07-30T00:00:00.000000000",
          "2025-07-31T00:00:00.000000000",
          "2025-08-01T00:00:00.000000000",
          "2025-08-04T00:00:00.000000000",
          "2025-08-05T00:00:00.000000000",
          "2025-08-06T00:00:00.000000000",
          "2025-08-07T00:00:00.000000000",
          "2025-08-08T00:00:00.000000000",
          "2025-08-11T00:00:00.000000000",
          "2025-08-12T00:00:00.000000000",
          "2025-08-13T00:00:00.000000000",
          "2025-08-14T00:00:00.000000000",
          "2025-08-18T00:00:00.000000000",
          "2025-08-19T00:00:00.000000000",
          "2025-08-20T00:00:00.000000000",
          "2025-08-21T00:00:00.000000000",
          "2025-08-22T00:00:00.000000000",
          "2025-08-25T00:00:00.000000000",
          "2025-08-26T00:00:00.000000000",
          "2025-08-27T00:00:00.000000000",
          "2025-08-28T00:00:00.000000000",
          "2025-08-29T00:00:00.000000000",
          "2025-09-01T00:00:00.000000000",
          "2025-09-02T00:00:00.000000000",
          "2025-09-03T00:00:00.000000000",
          "2025-09-04T00:00:00.000000000",
          "2025-09-05T00:00:00.000000000",
          "2025-09-08T00:00:00.000000000",
          "2025-09-09T00:00:00.000000000",
          "2025-09-10T00:00:00.000000000",
          "2025-09-11T00:00:00.000000000",
          "2025-09-12T00:00:00.000000000",
          "2025-09-15T00:00:00.000000000",
          "2025-09-16T00:00:00.000000000",
          "2025-09-17T00:00:00.000000000",
          "2025-09-18T00:00:00.000000000",
          "2025-09-19T00:00:00.000000000",
          "2025-09-22T00:00:00.000000000",
          "2025-09-23T00:00:00.000000000",
          "2025-09-24T00:00:00.000000000",
          "2025-09-25T00:00:00.000000000",
          "2025-09-26T00:00:00.000000000",
          "2025-09-29T00:00:00.000000000",
          "2025-09-30T00:00:00.000000000",
          "2025-10-01T00:00:00.000000000",
          "2025-10-02T00:00:00.000000000",
          "2025-10-03T00:00:00.000000000",
          "2025-10-06T00:00:00.000000000"
         ],
         "y": {
          "bdata": "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",
          "dtype": "f8"
         }
        },
        {
         "line": {
          "color": "#f39c12",
          "dash": "dash",
          "width": 2
         },
         "mode": "lines",
         "name": "LSTM Predictions",
         "type": "scatter",
         "x": [
          "2024-09-24T00:00:00.000000000",
          "2024-09-25T00:00:00.000000000",
          "2024-09-26T00:00:00.000000000",
          "2024-09-27T00:00:00.000000000",
          "2024-09-30T00:00:00.000000000",
          "2024-10-01T00:00:00.000000000",
          "2024-10-03T00:00:00.000000000",
          "2024-10-04T00:00:00.000000000",
          "2024-10-07T00:00:00.000000000",
          "2024-10-08T00:00:00.000000000",
          "2024-10-09T00:00:00.000000000",
          "2024-10-10T00:00:00.000000000",
          "2024-10-11T00:00:00.000000000",
          "2024-10-14T00:00:00.000000000",
          "2024-10-15T00:00:00.000000000",
          "2024-10-16T00:00:00.000000000",
          "2024-10-17T00:00:00.000000000",
          "2024-10-18T00:00:00.000000000",
          "2024-10-21T00:00:00.000000000",
          "2024-10-22T00:00:00.000000000",
          "2024-10-23T00:00:00.000000000",
          "2024-10-24T00:00:00.000000000",
          "2024-10-25T00:00:00.000000000",
          "2024-10-28T00:00:00.000000000",
          "2024-10-29T00:00:00.000000000",
          "2024-10-30T00:00:00.000000000",
          "2024-10-31T00:00:00.000000000",
          "2024-11-01T00:00:00.000000000",
          "2024-11-04T00:00:00.000000000",
          "2024-11-05T00:00:00.000000000",
          "2024-11-06T00:00:00.000000000",
          "2024-11-07T00:00:00.000000000",
          "2024-11-08T00:00:00.000000000",
          "2024-11-11T00:00:00.000000000",
          "2024-11-12T00:00:00.000000000",
          "2024-11-13T00:00:00.000000000",
          "2024-11-14T00:00:00.000000000",
          "2024-11-18T00:00:00.000000000",
          "2024-11-19T00:00:00.000000000",
          "2024-11-21T00:00:00.000000000",
          "2024-11-22T00:00:00.000000000",
          "2024-11-25T00:00:00.000000000",
          "2024-11-26T00:00:00.000000000",
          "2024-11-27T00:00:00.000000000",
          "2024-11-28T00:00:00.000000000",
          "2024-11-29T00:00:00.000000000",
          "2024-12-02T00:00:00.000000000",
          "2024-12-03T00:00:00.000000000",
          "2024-12-04T00:00:00.000000000",
          "2024-12-05T00:00:00.000000000",
          "2024-12-06T00:00:00.000000000",
          "2024-12-09T00:00:00.000000000",
          "2024-12-10T00:00:00.000000000",
          "2024-12-11T00:00:00.000000000",
          "2024-12-12T00:00:00.000000000",
          "2024-12-13T00:00:00.000000000",
          "2024-12-16T00:00:00.000000000",
          "2024-12-17T00:00:00.000000000",
          "2024-12-18T00:00:00.000000000",
          "2024-12-19T00:00:00.000000000",
          "2024-12-20T00:00:00.000000000",
          "2024-12-23T00:00:00.000000000",
          "2024-12-24T00:00:00.000000000",
          "2024-12-26T00:00:00.000000000",
          "2024-12-27T00:00:00.000000000",
          "2024-12-30T00:00:00.000000000",
          "2024-12-31T00:00:00.000000000",
          "2025-01-01T00:00:00.000000000",
          "2025-01-02T00:00:00.000000000",
          "2025-01-03T00:00:00.000000000",
          "2025-01-06T00:00:00.000000000",
          "2025-01-07T00:00:00.000000000",
          "2025-01-08T00:00:00.000000000",
          "2025-01-09T00:00:00.000000000",
          "2025-01-10T00:00:00.000000000",
          "2025-01-13T00:00:00.000000000",
          "2025-01-14T00:00:00.000000000",
          "2025-01-15T00:00:00.000000000",
          "2025-01-16T00:00:00.000000000",
          "2025-01-17T00:00:00.000000000",
          "2025-01-20T00:00:00.000000000",
          "2025-01-21T00:00:00.000000000",
          "2025-01-22T00:00:00.000000000",
          "2025-01-23T00:00:00.000000000",
          "2025-01-24T00:00:00.000000000",
          "2025-01-27T00:00:00.000000000",
          "2025-01-28T00:00:00.000000000",
          "2025-01-29T00:00:00.000000000",
          "2025-01-30T00:00:00.000000000",
          "2025-01-31T00:00:00.000000000",
          "2025-02-01T00:00:00.000000000",
          "2025-02-03T00:00:00.000000000",
          "2025-02-04T00:00:00.000000000",
          "2025-02-05T00:00:00.000000000",
          "2025-02-06T00:00:00.000000000",
          "2025-02-07T00:00:00.000000000",
          "2025-02-10T00:00:00.000000000",
          "2025-02-11T00:00:00.000000000",
          "2025-02-12T00:00:00.000000000",
          "2025-02-13T00:00:00.000000000",
          "2025-02-14T00:00:00.000000000",
          "2025-02-17T00:00:00.000000000",
          "2025-02-18T00:00:00.000000000",
          "2025-02-19T00:00:00.000000000",
          "2025-02-20T00:00:00.000000000",
          "2025-02-21T00:00:00.000000000",
          "2025-02-24T00:00:00.000000000",
          "2025-02-25T00:00:00.000000000",
          "2025-02-27T00:00:00.000000000",
          "2025-02-28T00:00:00.000000000",
          "2025-03-03T00:00:00.000000000",
          "2025-03-04T00:00:00.000000000",
          "2025-03-05T00:00:00.000000000",
          "2025-03-06T00:00:00.000000000",
          "2025-03-07T00:00:00.000000000",
          "2025-03-10T00:00:00.000000000",
          "2025-03-11T00:00:00.000000000",
          "2025-03-12T00:00:00.000000000",
          "2025-03-13T00:00:00.000000000",
          "2025-03-17T00:00:00.000000000",
          "2025-03-18T00:00:00.000000000",
          "2025-03-19T00:00:00.000000000",
          "2025-03-20T00:00:00.000000000",
          "2025-03-21T00:00:00.000000000",
          "2025-03-24T00:00:00.000000000",
          "2025-03-25T00:00:00.000000000",
          "2025-03-26T00:00:00.000000000",
          "2025-03-27T00:00:00.000000000",
          "2025-03-28T00:00:00.000000000",
          "2025-04-01T00:00:00.000000000",
          "2025-04-02T00:00:00.000000000",
          "2025-04-03T00:00:00.000000000",
          "2025-04-04T00:00:00.000000000",
          "2025-04-07T00:00:00.000000000",
          "2025-04-08T00:00:00.000000000",
          "2025-04-09T00:00:00.000000000",
          "2025-04-11T00:00:00.000000000",
          "2025-04-15T00:00:00.000000000",
          "2025-04-16T00:00:00.000000000",
          "2025-04-17T00:00:00.000000000",
          "2025-04-21T00:00:00.000000000",
          "2025-04-22T00:00:00.000000000",
          "2025-04-23T00:00:00.000000000",
          "2025-04-24T00:00:00.000000000",
          "2025-04-25T00:00:00.000000000",
          "2025-04-28T00:00:00.000000000",
          "2025-04-29T00:00:00.000000000",
          "2025-04-30T00:00:00.000000000",
          "2025-05-02T00:00:00.000000000",
          "2025-05-05T00:00:00.000000000",
          "2025-05-06T00:00:00.000000000",
          "2025-05-07T00:00:00.000000000",
          "2025-05-08T00:00:00.000000000",
          "2025-05-09T00:00:00.000000000",
          "2025-05-12T00:00:00.000000000",
          "2025-05-13T00:00:00.000000000",
          "2025-05-14T00:00:00.000000000",
          "2025-05-15T00:00:00.000000000",
          "2025-05-16T00:00:00.000000000",
          "2025-05-19T00:00:00.000000000",
          "2025-05-20T00:00:00.000000000",
          "2025-05-21T00:00:00.000000000",
          "2025-05-22T00:00:00.000000000",
          "2025-05-23T00:00:00.000000000",
          "2025-05-26T00:00:00.000000000",
          "2025-05-27T00:00:00.000000000",
          "2025-05-28T00:00:00.000000000",
          "2025-05-29T00:00:00.000000000",
          "2025-05-30T00:00:00.000000000",
          "2025-06-02T00:00:00.000000000",
          "2025-06-03T00:00:00.000000000",
          "2025-06-04T00:00:00.000000000",
          "2025-06-05T00:00:00.000000000",
          "2025-06-06T00:00:00.000000000",
          "2025-06-09T00:00:00.000000000",
          "2025-06-10T00:00:00.000000000",
          "2025-06-11T00:00:00.000000000",
          "2025-06-12T00:00:00.000000000",
          "2025-06-13T00:00:00.000000000",
          "2025-06-16T00:00:00.000000000",
          "2025-06-17T00:00:00.000000000",
          "2025-06-18T00:00:00.000000000",
          "2025-06-19T00:00:00.000000000",
          "2025-06-20T00:00:00.000000000",
          "2025-06-23T00:00:00.000000000",
          "2025-06-24T00:00:00.000000000",
          "2025-06-25T00:00:00.000000000",
          "2025-06-26T00:00:00.000000000",
          "2025-06-27T00:00:00.000000000",
          "2025-06-30T00:00:00.000000000",
          "2025-07-01T00:00:00.000000000",
          "2025-07-02T00:00:00.000000000",
          "2025-07-03T00:00:00.000000000",
          "2025-07-04T00:00:00.000000000",
          "2025-07-07T00:00:00.000000000",
          "2025-07-08T00:00:00.000000000",
          "2025-07-09T00:00:00.000000000",
          "2025-07-10T00:00:00.000000000",
          "2025-07-11T00:00:00.000000000",
          "2025-07-14T00:00:00.000000000",
          "2025-07-15T00:00:00.000000000",
          "2025-07-16T00:00:00.000000000",
          "2025-07-17T00:00:00.000000000",
          "2025-07-18T00:00:00.000000000",
          "2025-07-21T00:00:00.000000000",
          "2025-07-22T00:00:00.000000000",
          "2025-07-23T00:00:00.000000000",
          "2025-07-24T00:00:00.000000000",
          "2025-07-25T00:00:00.000000000",
          "2025-07-28T00:00:00.000000000",
          "2025-07-29T00:00:00.000000000",
          "2025-07-30T00:00:00.000000000",
          "2025-07-31T00:00:00.000000000",
          "2025-08-01T00:00:00.000000000",
          "2025-08-04T00:00:00.000000000",
          "2025-08-05T00:00:00.000000000",
          "2025-08-06T00:00:00.000000000",
          "2025-08-07T00:00:00.000000000",
          "2025-08-08T00:00:00.000000000",
          "2025-08-11T00:00:00.000000000",
          "2025-08-12T00:00:00.000000000",
          "2025-08-13T00:00:00.000000000",
          "2025-08-14T00:00:00.000000000",
          "2025-08-18T00:00:00.000000000",
          "2025-08-19T00:00:00.000000000",
          "2025-08-20T00:00:00.000000000",
          "2025-08-21T00:00:00.000000000",
          "2025-08-22T00:00:00.000000000",
          "2025-08-25T00:00:00.000000000",
          "2025-08-26T00:00:00.000000000",
          "2025-08-27T00:00:00.000000000",
          "2025-08-28T00:00:00.000000000",
          "2025-08-29T00:00:00.000000000",
          "2025-09-01T00:00:00.000000000",
          "2025-09-02T00:00:00.000000000",
          "2025-09-03T00:00:00.000000000",
          "2025-09-04T00:00:00.000000000",
          "2025-09-05T00:00:00.000000000",
          "2025-09-08T00:00:00.000000000",
          "2025-09-09T00:00:00.000000000",
          "2025-09-10T00:00:00.000000000",
          "2025-09-11T00:00:00.000000000",
          "2025-09-12T00:00:00.000000000",
          "2025-09-15T00:00:00.000000000",
          "2025-09-16T00:00:00.000000000",
          "2025-09-17T00:00:00.000000000",
          "2025-09-18T00:00:00.000000000",
          "2025-09-19T00:00:00.000000000",
          "2025-09-22T00:00:00.000000000",
          "2025-09-23T00:00:00.000000000",
          "2025-09-24T00:00:00.000000000",
          "2025-09-25T00:00:00.000000000",
          "2025-09-26T00:00:00.000000000",
          "2025-09-29T00:00:00.000000000",
          "2025-09-30T00:00:00.000000000",
          "2025-10-01T00:00:00.000000000",
          "2025-10-02T00:00:00.000000000",
          "2025-10-03T00:00:00.000000000",
          "2025-10-06T00:00:00.000000000"
         ],
         "y": {
          "bdata": "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",
          "dtype": "f8"
         }
        }
       ],
       "layout": {
        "height": 500,
        "template": {
         "data": {
          "bar": [
           {
            "error_x": {
             "color": "#2a3f5f"
            },
            "error_y": {
             "color": "#2a3f5f"
            },
            "marker": {
             "line": {
              "color": "white",
              "width": 0.5
             },
             "pattern": {
              "fillmode": "overlay",
              "size": 10,
              "solidity": 0.2
             }
            },
            "type": "bar"
           }
          ],
          "barpolar": [
           {
            "marker": {
             "line": {
              "color": "white",
              "width": 0.5
             },
             "pattern": {
              "fillmode": "overlay",
              "size": 10,
              "solidity": 0.2
             }
            },
            "type": "barpolar"
           }
          ],
          "carpet": [
           {
            "aaxis": {
             "endlinecolor": "#2a3f5f",
             "gridcolor": "#C8D4E3",
             "linecolor": "#C8D4E3",
             "minorgridcolor": "#C8D4E3",
             "startlinecolor": "#2a3f5f"
            },
            "baxis": {
             "endlinecolor": "#2a3f5f",
             "gridcolor": "#C8D4E3",
             "linecolor": "#C8D4E3",
             "minorgridcolor": "#C8D4E3",
             "startlinecolor": "#2a3f5f"
            },
            "type": "carpet"
           }
          ],
          "choropleth": [
           {
            "colorbar": {
             "outlinewidth": 0,
             "ticks": ""
            },
            "type": "choropleth"
           }
          ],
          "contour": [
           {
            "colorbar": {
             "outlinewidth": 0,
             "ticks": ""
            },
            "colorscale": [
             [
              0,
              "#0d0887"
             ],
             [
              0.1111111111111111,
              "#46039f"
             ],
             [
              0.2222222222222222,
              "#7201a8"
             ],
             [
              0.3333333333333333,
              "#9c179e"
             ],
             [
              0.4444444444444444,
              "#bd3786"
             ],
             [
              0.5555555555555556,
              "#d8576b"
             ],
             [
              0.6666666666666666,
              "#ed7953"
             ],
             [
              0.7777777777777778,
              "#fb9f3a"
             ],
             [
              0.8888888888888888,
              "#fdca26"
             ],
             [
              1,
              "#f0f921"
             ]
            ],
            "type": "contour"
           }
          ],
          "contourcarpet": [
           {
            "colorbar": {
             "outlinewidth": 0,
             "ticks": ""
            },
            "type": "contourcarpet"
           }
          ],
          "heatmap": [
           {
            "colorbar": {
             "outlinewidth": 0,
             "ticks": ""
            },
            "colorscale": [
             [
              0,
              "#0d0887"
             ],
             [
              0.1111111111111111,
              "#46039f"
             ],
             [
              0.2222222222222222,
              "#7201a8"
             ],
             [
              0.3333333333333333,
              "#9c179e"
             ],
             [
              0.4444444444444444,
              "#bd3786"
             ],
             [
              0.5555555555555556,
              "#d8576b"
             ],
             [
              0.6666666666666666,
              "#ed7953"
             ],
             [
              0.7777777777777778,
              "#fb9f3a"
             ],
             [
              0.8888888888888888,
              "#fdca26"
             ],
             [
              1,
              "#f0f921"
             ]
            ],
            "type": "heatmap"
           }
          ],
          "histogram": [
           {
            "marker": {
             "pattern": {
              "fillmode": "overlay",
              "size": 10,
              "solidity": 0.2
             }
            },
            "type": "histogram"
           }
          ],
          "histogram2d": [
           {
            "colorbar": {
             "outlinewidth": 0,
             "ticks": ""
            },
            "colorscale": [
             [
              0,
              "#0d0887"
             ],
             [
              0.1111111111111111,
              "#46039f"
             ],
             [
              0.2222222222222222,
              "#7201a8"
             ],
             [
              0.3333333333333333,
              "#9c179e"
             ],
             [
              0.4444444444444444,
              "#bd3786"
             ],
             [
              0.5555555555555556,
              "#d8576b"
             ],
             [
              0.6666666666666666,
              "#ed7953"
             ],
             [
              0.7777777777777778,
              "#fb9f3a"
             ],
             [
              0.8888888888888888,
              "#fdca26"
             ],
             [
              1,
              "#f0f921"
             ]
            ],
            "type": "histogram2d"
           }
          ],
          "histogram2dcontour": [
           {
            "colorbar": {
             "outlinewidth": 0,
             "ticks": ""
            },
            "colorscale": [
             [
              0,
              "#0d0887"
             ],
             [
              0.1111111111111111,
              "#46039f"
             ],
             [
              0.2222222222222222,
              "#7201a8"
             ],
             [
              0.3333333333333333,
              "#9c179e"
             ],
             [
              0.4444444444444444,
              "#bd3786"
             ],
             [
              0.5555555555555556,
              "#d8576b"
             ],
             [
              0.6666666666666666,
              "#ed7953"
             ],
             [
              0.7777777777777778,
              "#fb9f3a"
             ],
             [
              0.8888888888888888,
              "#fdca26"
             ],
             [
              1,
              "#f0f921"
             ]
            ],
            "type": "histogram2dcontour"
           }
          ],
          "mesh3d": [
           {
            "colorbar": {
             "outlinewidth": 0,
             "ticks": ""
            },
            "type": "mesh3d"
           }
          ],
          "parcoords": [
           {
            "line": {
             "colorbar": {
              "outlinewidth": 0,
              "ticks": ""
             }
            },
            "type": "parcoords"
           }
          ],
          "pie": [
           {
            "automargin": true,
            "type": "pie"
           }
          ],
          "scatter": [
           {
            "fillpattern": {
             "fillmode": "overlay",
             "size": 10,
             "solidity": 0.2
            },
            "type": "scatter"
           }
          ],
          "scatter3d": [
           {
            "line": {
             "colorbar": {
              "outlinewidth": 0,
              "ticks": ""
             }
            },
            "marker": {
             "colorbar": {
              "outlinewidth": 0,
              "ticks": ""
             }
            },
            "type": "scatter3d"
           }
          ],
          "scattercarpet": [
           {
            "marker": {
             "colorbar": {
              "outlinewidth": 0,
              "ticks": ""
             }
            },
            "type": "scattercarpet"
           }
          ],
          "scattergeo": [
           {
            "marker": {
             "colorbar": {
              "outlinewidth": 0,
              "ticks": ""
             }
            },
            "type": "scattergeo"
           }
          ],
          "scattergl": [
           {
            "marker": {
             "colorbar": {
              "outlinewidth": 0,
              "ticks": ""
             }
            },
            "type": "scattergl"
           }
          ],
          "scattermap": [
           {
            "marker": {
             "colorbar": {
              "outlinewidth": 0,
              "ticks": ""
             }
            },
            "type": "scattermap"
           }
          ],
          "scattermapbox": [
           {
            "marker": {
             "colorbar": {
              "outlinewidth": 0,
              "ticks": ""
             }
            },
            "type": "scattermapbox"
           }
          ],
          "scatterpolar": [
           {
            "marker": {
             "colorbar": {
              "outlinewidth": 0,
              "ticks": ""
             }
            },
            "type": "scatterpolar"
           }
          ],
          "scatterpolargl": [
           {
            "marker": {
             "colorbar": {
              "outlinewidth": 0,
              "ticks": ""
             }
            },
            "type": "scatterpolargl"
           }
          ],
          "scatterternary": [
           {
            "marker": {
             "colorbar": {
              "outlinewidth": 0,
              "ticks": ""
             }
            },
            "type": "scatterternary"
           }
          ],
          "surface": [
           {
            "colorbar": {
             "outlinewidth": 0,
             "ticks": ""
            },
            "colorscale": [
             [
              0,
              "#0d0887"
             ],
             [
              0.1111111111111111,
              "#46039f"
             ],
             [
              0.2222222222222222,
              "#7201a8"
             ],
             [
              0.3333333333333333,
              "#9c179e"
             ],
             [
              0.4444444444444444,
              "#bd3786"
             ],
             [
              0.5555555555555556,
              "#d8576b"
             ],
             [
              0.6666666666666666,
              "#ed7953"
             ],
             [
              0.7777777777777778,
              "#fb9f3a"
             ],
             [
              0.8888888888888888,
              "#fdca26"
             ],
             [
              1,
              "#f0f921"
             ]
            ],
            "type": "surface"
           }
          ],
          "table": [
           {
            "cells": {
             "fill": {
              "color": "#EBF0F8"
             },
             "line": {
              "color": "white"
             }
            },
            "header": {
             "fill": {
              "color": "#C8D4E3"
             },
             "line": {
              "color": "white"
             }
            },
            "type": "table"
           }
          ]
         },
         "layout": {
          "annotationdefaults": {
           "arrowcolor": "#2a3f5f",
           "arrowhead": 0,
           "arrowwidth": 1
          },
          "autotypenumbers": "strict",
          "coloraxis": {
           "colorbar": {
            "outlinewidth": 0,
            "ticks": ""
           }
          },
          "colorscale": {
           "diverging": [
            [
             0,
             "#8e0152"
            ],
            [
             0.1,
             "#c51b7d"
            ],
            [
             0.2,
             "#de77ae"
            ],
            [
             0.3,
             "#f1b6da"
            ],
            [
             0.4,
             "#fde0ef"
            ],
            [
             0.5,
             "#f7f7f7"
            ],
            [
             0.6,
             "#e6f5d0"
            ],
            [
             0.7,
             "#b8e186"
            ],
            [
             0.8,
             "#7fbc41"
            ],
            [
             0.9,
             "#4d9221"
            ],
            [
             1,
             "#276419"
            ]
           ],
           "sequential": [
            [
             0,
             "#0d0887"
            ],
            [
             0.1111111111111111,
             "#46039f"
            ],
            [
             0.2222222222222222,
             "#7201a8"
            ],
            [
             0.3333333333333333,
             "#9c179e"
            ],
            [
             0.4444444444444444,
             "#bd3786"
            ],
            [
             0.5555555555555556,
             "#d8576b"
            ],
            [
             0.6666666666666666,
             "#ed7953"
            ],
            [
             0.7777777777777778,
             "#fb9f3a"
            ],
            [
             0.8888888888888888,
             "#fdca26"
            ],
            [
             1,
             "#f0f921"
            ]
           ],
           "sequentialminus": [
            [
             0,
             "#0d0887"
            ],
            [
             0.1111111111111111,
             "#46039f"
            ],
            [
             0.2222222222222222,
             "#7201a8"
            ],
            [
             0.3333333333333333,
             "#9c179e"
            ],
            [
             0.4444444444444444,
             "#bd3786"
            ],
            [
             0.5555555555555556,
             "#d8576b"
            ],
            [
             0.6666666666666666,
             "#ed7953"
            ],
            [
             0.7777777777777778,
             "#fb9f3a"
            ],
            [
             0.8888888888888888,
             "#fdca26"
            ],
            [
             1,
             "#f0f921"
            ]
           ]
          },
          "colorway": [
           "#636efa",
           "#EF553B",
           "#00cc96",
           "#ab63fa",
           "#FFA15A",
           "#19d3f3",
           "#FF6692",
           "#B6E880",
           "#FF97FF",
           "#FECB52"
          ],
          "font": {
           "color": "#2a3f5f"
          },
          "geo": {
           "bgcolor": "white",
           "lakecolor": "white",
           "landcolor": "white",
           "showlakes": true,
           "showland": true,
           "subunitcolor": "#C8D4E3"
          },
          "hoverlabel": {
           "align": "left"
          },
          "hovermode": "closest",
          "mapbox": {
           "style": "light"
          },
          "paper_bgcolor": "white",
          "plot_bgcolor": "white",
          "polar": {
           "angularaxis": {
            "gridcolor": "#EBF0F8",
            "linecolor": "#EBF0F8",
            "ticks": ""
           },
           "bgcolor": "white",
           "radialaxis": {
            "gridcolor": "#EBF0F8",
            "linecolor": "#EBF0F8",
            "ticks": ""
           }
          },
          "scene": {
           "xaxis": {
            "backgroundcolor": "white",
            "gridcolor": "#DFE8F3",
            "gridwidth": 2,
            "linecolor": "#EBF0F8",
            "showbackground": true,
            "ticks": "",
            "zerolinecolor": "#EBF0F8"
           },
           "yaxis": {
            "backgroundcolor": "white",
            "gridcolor": "#DFE8F3",
            "gridwidth": 2,
            "linecolor": "#EBF0F8",
            "showbackground": true,
            "ticks": "",
            "zerolinecolor": "#EBF0F8"
           },
           "zaxis": {
            "backgroundcolor": "white",
            "gridcolor": "#DFE8F3",
            "gridwidth": 2,
            "linecolor": "#EBF0F8",
            "showbackground": true,
            "ticks": "",
            "zerolinecolor": "#EBF0F8"
           }
          },
          "shapedefaults": {
           "line": {
            "color": "#2a3f5f"
           }
          },
          "ternary": {
           "aaxis": {
            "gridcolor": "#DFE8F3",
            "linecolor": "#A2B1C6",
            "ticks": ""
           },
           "baxis": {
            "gridcolor": "#DFE8F3",
            "linecolor": "#A2B1C6",
            "ticks": ""
           },
           "bgcolor": "white",
           "caxis": {
            "gridcolor": "#DFE8F3",
            "linecolor": "#A2B1C6",
            "ticks": ""
           }
          },
          "title": {
           "x": 0.05
          },
          "xaxis": {
           "automargin": true,
           "gridcolor": "#EBF0F8",
           "linecolor": "#EBF0F8",
           "ticks": "",
           "title": {
            "standoff": 15
           },
           "zerolinecolor": "#EBF0F8",
           "zerolinewidth": 2
          },
          "yaxis": {
           "automargin": true,
           "gridcolor": "#EBF0F8",
           "linecolor": "#EBF0F8",
           "ticks": "",
           "title": {
            "standoff": 15
           },
           "zerolinecolor": "#EBF0F8",
           "zerolinewidth": 2
          }
         }
        },
        "title": {
         "text": "TCS - Actual vs Predicted Prices (Test Set)"
        },
        "xaxis": {
         "title": {
          "text": "Date"
         }
        },
        "yaxis": {
         "title": {
          "text": "Price (INR )"
         }
        }
       }
      }
     },
     "metadata": {},
     "output_type": "display_data"
    },
    {
     "name": "stdout",
     "output_type": "stream",
     "text": [
      "\n",
      "======================================================================\n",
      "PREDICTION SUMMARY\n",
      "======================================================================\n",
      "\n",
      "Stock: TCS\n",
      "Current Price: INR 2988.40\n",
      "Training Period: 8 years (1726 trading days)\n",
      "\n",
      "7-DAY PRICE PREDICTIONS:\n",
      "----------------------------------------------------------------------\n",
      "Best Performing Model: Gradient_Boosting\n",
      "  - R² Score: 0.949\n",
      "  - Directional Accuracy: 51.2%\n",
      "\n",
      "LSTM Specific Performance:\n",
      "  - R² Score: -3.001\n",
      "  - Directional Accuracy: 51.8%\n",
      "⚠️  LSTM needs improvement\n",
      "⚠️  Model accuracy needs improvement\n",
      "\n",
      "Detailed Predictions:\n",
      "--------------------------------------------------\n",
      "2025-10-07 (Tue):\n",
      "  Ensemble:        INR  2992.05  ( +0.12%)\n",
      "  Random Forest:   INR  2980.41  ( -0.27%)\n",
      "  Gradient Boost:  INR  3007.47  ( +0.64%)\n",
      "  LSTM:            INR  2884.92  ( -3.46%)\n",
      "  Weighted Avg:    INR  2993.46  ( +0.17%)\n",
      "\n",
      "2025-10-08 (Wed):\n",
      "  Ensemble:        INR  2992.24  ( +0.13%)\n",
      "  Random Forest:   INR  2981.73  ( -0.22%)\n",
      "  Gradient Boost:  INR  3012.80  ( +0.82%)\n",
      "  LSTM:            INR  2884.91  ( -3.46%)\n",
      "  Weighted Avg:    INR  2995.84  ( +0.25%)\n",
      "\n",
      "2025-10-09 (Thu):\n",
      "  Ensemble:        INR  2992.24  ( +0.13%)\n",
      "  Random Forest:   INR  2981.73  ( -0.22%)\n",
      "  Gradient Boost:  INR  3012.80  ( +0.82%)\n",
      "  LSTM:            INR  2884.91  ( -3.46%)\n",
      "  Weighted Avg:    INR  2995.84  ( +0.25%)\n",
      "\n",
      "2025-10-10 (Fri):\n",
      "  Ensemble:        INR  2992.24  ( +0.13%)\n",
      "  Random Forest:   INR  2981.73  ( -0.22%)\n",
      "  Gradient Boost:  INR  3012.80  ( +0.82%)\n",
      "  LSTM:            INR  2884.90  ( -3.46%)\n",
      "  Weighted Avg:    INR  2995.84  ( +0.25%)\n",
      "\n",
      "2025-10-13 (Mon):\n",
      "  Ensemble:        INR  2992.24  ( +0.13%)\n",
      "  Random Forest:   INR  2981.73  ( -0.22%)\n",
      "  Gradient Boost:  INR  3012.80  ( +0.82%)\n",
      "  LSTM:            INR  2884.90  ( -3.46%)\n",
      "  Weighted Avg:    INR  2995.84  ( +0.25%)\n",
      "\n",
      "2025-10-14 (Tue):\n",
      "  Ensemble:        INR  2992.24  ( +0.13%)\n",
      "  Random Forest:   INR  2981.73  ( -0.22%)\n",
      "  Gradient Boost:  INR  3012.80  ( +0.82%)\n",
      "  LSTM:            INR  2884.89  ( -3.46%)\n",
      "  Weighted Avg:    INR  2995.84  ( +0.25%)\n",
      "\n",
      "2025-10-15 (Wed):\n",
      "  Ensemble:        INR  2992.24  ( +0.13%)\n",
      "  Random Forest:   INR  2981.73  ( -0.22%)\n",
      "  Gradient Boost:  INR  3012.80  ( +0.82%)\n",
      "  LSTM:            INR  2884.89  ( -3.46%)\n",
      "  Weighted Avg:    INR  2995.84  ( +0.25%)\n",
      "\n",
      "======================================================================\n",
      "ANALYSIS COMPLETE\n",
      "======================================================================\n",
      "\n",
      "Best Model: Gradient_Boosting\n",
      "Model Performance:\n",
      "  - R-Squared: 0.949\n",
      "  - Directional Accuracy: 51.2%\n",
      "  - MAE: INR 70.24\n",
      "\n",
      "LSTM Performance:\n",
      "  - R-Squared: -3.001\n",
      "  - Directional Accuracy: 51.8%\n",
      "  - MAE: INR 696.92\n",
      "\n",
      "⚠️  MODERATE: LSTM needs further optimization\n",
      "\n",
      "NOTE: These predictions are for educational purposes only.\n",
      "Always conduct thorough research before making investment decisions.\n"
     ]
    }
   ],
   "source": [
    "import pandas as pd\n",
    "import numpy as np\n",
    "import warnings\n",
    "warnings.filterwarnings('ignore')\n",
    "\n",
    "from datetime import datetime, timedelta\n",
    "import yfinance as yf\n",
    "import ta\n",
    "\n",
    "# Disable SSL verification\n",
    "import ssl\n",
    "ssl._create_default_https_context = ssl._create_unverified_context\n",
    "\n",
    "#### Machine Learning Models\n",
    "from sklearn.preprocessing import MinMaxScaler, StandardScaler, RobustScaler\n",
    "from sklearn.ensemble import RandomForestRegressor, GradientBoostingRegressor, VotingRegressor\n",
    "from sklearn.svm import SVR\n",
    "from sklearn.linear_model import ElasticNet\n",
    "from sklearn.metrics import mean_squared_error, mean_absolute_error, r2_score\n",
    "from sklearn.model_selection import TimeSeriesSplit, RandomizedSearchCV\n",
    "from sklearn.feature_selection import SelectFromModel\n",
    "\n",
    "#### Deep Learning\n",
    "import tensorflow as tf\n",
    "from tensorflow.keras.models import Sequential\n",
    "from tensorflow.keras.layers import Dense, LSTM, Dropout, Bidirectional, BatchNormalization, GRU, Conv1D, MaxPooling1D, Flatten\n",
    "from tensorflow.keras.callbacks import EarlyStopping, ReduceLROnPlateau, ModelCheckpoint\n",
    "from tensorflow.keras.optimizers import Adam, RMSprop\n",
    "from tensorflow.keras.regularizers import l1_l2\n",
    "from tensorflow.keras.layers import LeakyReLU\n",
    "\n",
    "#### Visualization\n",
    "import plotly.graph_objects as go\n",
    "from plotly.subplots import make_subplots\n",
    "\n",
    "import os\n",
    "os.environ['TF_CPP_MIN_LOG_LEVEL'] = '3'\n",
    "tf.get_logger().setLevel('ERROR')\n",
    "\n",
    "# Fix the missing import\n",
    "from sklearn.model_selection import train_test_split\n",
    "\n",
    "class AdvancedStockPredictor:\n",
    "    def __init__(self):\n",
    "        self.models = {}\n",
    "        self.scalers = {}\n",
    "        self.results = {}\n",
    "        self.lstm_scaler = None\n",
    "        self.lstm_model = None\n",
    "        self.currency_info = {}\n",
    "        self.feature_importance = {}\n",
    "        self.selected_features = {}\n",
    "        self.feature_names = {}  # Store feature names\n",
    "        \n",
    "        self.STOCK_SYMBOL_MAP = {\n",
    "            'AAPL': 'AAPL', 'APPLE': 'AAPL',\n",
    "            'MSFT': 'MSFT', 'MICROSOFT': 'MSFT',\n",
    "            'GOOGL': 'GOOGL', 'GOOGLE': 'GOOGL', 'ALPHABET': 'GOOGL',\n",
    "            'AMZN': 'AMZN', 'AMAZON': 'AMZN',\n",
    "            'TSLA': 'TSLA', 'TESLA': 'TSLA',\n",
    "            'META': 'META', 'FACEBOOK': 'META',\n",
    "            'NVDA': 'NVDA', 'NVIDIA': 'NVDA',\n",
    "            'RELIANCE': 'RELIANCE.NS', \n",
    "            'TCS': 'TCS.NS', \n",
    "            'INFY': 'INFY.NS', 'INFOSYS': 'INFY.NS',\n",
    "            'HDFC': 'HDFCBANK.NS', 'HDFCBANK': 'HDFCBANK.NS',\n",
    "            'ICICI': 'ICICIBANK.NS', 'ICICIBANK': 'ICICIBANK.NS',\n",
    "            'SBIN': 'SBIN.NS', 'SBI': 'SBIN.NS',\n",
    "            'WIPRO': 'WIPRO.NS',\n",
    "        }\n",
    "        \n",
    "        self.CURRENCY_MAP = {\n",
    "            '.NS': 'INR ', '.KS': 'KRW ', \n",
    "            '.SW': 'CHF ', '.L': 'GBP ',\n",
    "        }\n",
    "        self.DEFAULT_CURRENCY = 'USD '\n",
    "    \n",
    "    def get_currency_symbol(self, symbol):\n",
    "        for suffix, currency in self.CURRENCY_MAP.items():\n",
    "            if symbol.endswith(suffix):\n",
    "                return currency\n",
    "        return self.DEFAULT_CURRENCY\n",
    "    \n",
    "    def get_correct_symbol(self, symbol_input):\n",
    "        symbol_input = symbol_input.upper().strip()\n",
    "        if symbol_input in self.STOCK_SYMBOL_MAP:\n",
    "            return self.STOCK_SYMBOL_MAP[symbol_input]\n",
    "        return symbol_input\n",
    "    \n",
    "    def create_technical_indicators(self, df):\n",
    "        \"\"\"Create technical indicators with proper error handling\"\"\"\n",
    "        print(\"Creating technical indicators...\")\n",
    "        \n",
    "        close = df['Close'].squeeze()\n",
    "        high = df['High'].squeeze()\n",
    "        low = df['Low'].squeeze()\n",
    "        volume = df['Volume'].squeeze()\n",
    "        \n",
    "        # RSI with multiple timeframes\n",
    "        for window in [7, 14, 21]:\n",
    "            try:\n",
    "                df[f'RSI_{window}'] = ta.momentum.rsi(close, window=window)\n",
    "                df[f'RSI_{window}_SMA'] = df[f'RSI_{window}'].rolling(14).mean()\n",
    "            except Exception as e:\n",
    "                print(f\"Warning: Could not create RSI_{window}: {e}\")\n",
    "        \n",
    "        # Stochastic Oscillator\n",
    "        try:\n",
    "            df['Stoch_K'] = ta.momentum.stoch(high, low, close, window=14)\n",
    "            df['Stoch_D'] = df['Stoch_K'].rolling(3).mean()\n",
    "            df['Stoch_Overbought'] = (df['Stoch_K'] > 80).astype(int)\n",
    "            df['Stoch_Oversold'] = (df['Stoch_K'] < 20).astype(int)\n",
    "        except Exception as e:\n",
    "            print(f\"Warning: Could not create Stochastic: {e}\")\n",
    "        \n",
    "        # Williams %R\n",
    "        try:\n",
    "            df['Williams_R'] = ta.momentum.williams_r(high, low, close, lbp=14)\n",
    "        except Exception as e:\n",
    "            print(f\"Warning: Could not create Williams %R: {e}\")\n",
    "        \n",
    "        # MACD (trend and momentum)\n",
    "        try:\n",
    "            macd = ta.trend.MACD(close)\n",
    "            df['MACD'] = macd.macd()\n",
    "            df['MACD_Signal'] = macd.macd_signal()\n",
    "            df['MACD_Diff'] = macd.macd_diff()\n",
    "            df['MACD_Cross'] = (df['MACD'] > df['MACD_Signal']).astype(int)\n",
    "        except Exception as e:\n",
    "            print(f\"Warning: Could not create MACD: {e}\")\n",
    "        \n",
    "        # ADX (trend strength)\n",
    "        try:\n",
    "            df['ADX'] = ta.trend.adx(high, low, close, window=14)\n",
    "            df['ADX_Strong_Trend'] = (df['ADX'] > 25).astype(int)\n",
    "        except Exception as e:\n",
    "            print(f\"Warning: Could not create ADX: {e}\")\n",
    "        \n",
    "        # Bollinger Bands\n",
    "        try:\n",
    "            bb = ta.volatility.BollingerBands(close, window=20, window_dev=2)\n",
    "            df['BB_High'] = bb.bollinger_hband()\n",
    "            df['BB_Low'] = bb.bollinger_lband()\n",
    "            df['BB_Mid'] = bb.bollinger_mavg()\n",
    "            df['BB_Width'] = (df['BB_High'] - df['BB_Low']) / df['BB_Mid']\n",
    "            df['BB_Position'] = (close - df['BB_Low']) / (df['BB_High'] - df['BB_Low'])\n",
    "            df['BB_Upper_Band_Touch'] = (close >= df['BB_High']).astype(int)\n",
    "            df['BB_Lower_Band_Touch'] = (close <= df['BB_Low']).astype(int)\n",
    "        except Exception as e:\n",
    "            print(f\"Warning: Could not create Bollinger Bands: {e}\")\n",
    "        \n",
    "        # ATR (volatility)\n",
    "        try:\n",
    "            df['ATR'] = ta.volatility.average_true_range(high, low, close, window=14)\n",
    "            df['ATR_Pct'] = df['ATR'] / close * 100\n",
    "        except Exception as e:\n",
    "            print(f\"Warning: Could not create ATR: {e}\")\n",
    "        \n",
    "        # OBV (volume-price relationship)\n",
    "        try:\n",
    "            df['OBV'] = ta.volume.on_balance_volume(close, volume)\n",
    "            df['OBV_EMA'] = df['OBV'].ewm(span=20).mean()\n",
    "            df['OBV_Divergence'] = df['OBV'] - df['OBV_EMA']\n",
    "        except Exception as e:\n",
    "            print(f\"Warning: Could not create OBV: {e}\")\n",
    "        \n",
    "        # Advanced technical indicators\n",
    "        try:\n",
    "            # Commodity Channel Index\n",
    "            df['CCI'] = ta.trend.cci(high, low, close, window=20)\n",
    "        except Exception as e:\n",
    "            print(f\"Warning: Could not create CCI: {e}\")\n",
    "        \n",
    "        try:\n",
    "            # Rate of Change\n",
    "            df['ROC_10'] = ta.momentum.roc(close, window=10)\n",
    "            df['ROC_20'] = ta.momentum.roc(close, window=20)\n",
    "        except Exception as e:\n",
    "            print(f\"Warning: Could not create ROC: {e}\")\n",
    "        \n",
    "        try:\n",
    "            # TRIX indicator\n",
    "            df['TRIX'] = ta.trend.trix(close, window=15)\n",
    "        except Exception as e:\n",
    "            print(f\"Warning: Could not create TRIX: {e}\")\n",
    "        \n",
    "        try:\n",
    "            # KST oscillator\n",
    "            kst = ta.trend.kst(close)\n",
    "            df['KST'] = kst\n",
    "        except Exception as e:\n",
    "            print(f\"Warning: Could not create KST: {e}\")\n",
    "        \n",
    "        try:\n",
    "            # Chaikin Money Flow\n",
    "            df['CMF'] = ta.volume.chaikin_money_flow(high, low, close, volume, window=20)\n",
    "        except Exception as e:\n",
    "            print(f\"Warning: Could not create CMF: {e}\")\n",
    "        \n",
    "        try:\n",
    "            # Force Index\n",
    "            df['Force_Index'] = ta.volume.force_index(close, volume, window=13)\n",
    "        except Exception as e:\n",
    "            print(f\"Warning: Could not create Force Index: {e}\")\n",
    "        \n",
    "        return df\n",
    "    \n",
    "    def create_advanced_features(self, df):\n",
    "        \"\"\"Create more sophisticated features for better prediction\"\"\"\n",
    "        print(\"Creating advanced features...\")\n",
    "        \n",
    "        # Price-based features\n",
    "        df['HL_Ratio'] = df['High'] / df['Low']\n",
    "        df['OC_Ratio'] = df['Close'] / df['Open']\n",
    "        df['Price_Range'] = (df['High'] - df['Low']) / df['Close']\n",
    "        \n",
    "        # Enhanced volatility features\n",
    "        for window in [5, 10, 20]:\n",
    "            df[f'Rolling_Vol_{window}'] = df['Returns'].rolling(window).std()\n",
    "            df[f'Rolling_Mean_{window}'] = df['Returns'].rolling(window).mean()\n",
    "            df[f'Volatility_Ratio_{window}'] = df[f'Rolling_Vol_{window}'] / (df[f'Rolling_Mean_{window}'].abs() + 1e-8)\n",
    "        \n",
    "        # Advanced momentum indicators\n",
    "        df['Momentum_1_5'] = df['Close'].pct_change(5) - df['Close'].pct_change(1)\n",
    "        df['Momentum_5_20'] = df['Close'].pct_change(20) - df['Close'].pct_change(5)\n",
    "        \n",
    "        # Price acceleration\n",
    "        df['Price_Acceleration'] = df['Returns'].diff()\n",
    "        \n",
    "        # Volume-price correlation\n",
    "        for window in [5, 10, 20]:\n",
    "            df[f'Volume_Price_Corr_{window}'] = df['Volume'].rolling(window).corr(df['Close'])\n",
    "        \n",
    "        # Support and resistance levels\n",
    "        df['Resistance_20'] = df['High'].rolling(20).max()\n",
    "        df['Support_20'] = df['Low'].rolling(20).min()\n",
    "        df['Distance_to_Resistance'] = (df['Close'] - df['Resistance_20']) / df['Resistance_20']\n",
    "        df['Distance_to_Support'] = (df['Close'] - df['Support_20']) / df['Support_20']\n",
    "        \n",
    "        # Market regime detection\n",
    "        df['Volatility_Regime'] = (df['Volatility_20'] > df['Volatility_20'].rolling(50).median()).astype(int)\n",
    "        df['Trend_Regime'] = (df['Close'] > df['SMA_50']).astype(int)\n",
    "        \n",
    "        # Price position features\n",
    "        df['Price_Position_52W'] = (df['Close'] - df['Close'].rolling(252).min()) / (df['Close'].rolling(252).max() - df['Close'].rolling(252).min())\n",
    "        df['Price_Position_20'] = (df['Close'] - df['Close'].rolling(20).min()) / (df['Close'].rolling(20).max() - df['Close'].rolling(20).min())\n",
    "        \n",
    "        # Seasonality features (day of week, month)\n",
    "        df['Day_of_Week'] = df.index.dayofweek\n",
    "        df['Month'] = df.index.month\n",
    "        df['Week_of_Year'] = df.index.isocalendar().week\n",
    "        \n",
    "        # Donchian Channel\n",
    "        df['Donchian_High'] = df['High'].rolling(20).max()\n",
    "        df['Donchian_Low'] = df['Low'].rolling(20).min()\n",
    "        df['Donchian_Mid'] = (df['Donchian_High'] + df['Donchian_Low']) / 2\n",
    "        \n",
    "        return df\n",
    "    \n",
    "    def fetch_and_prepare_data(self, symbol, years=8):\n",
    "        \"\"\"Fetch more historical data for better training\"\"\"\n",
    "        end_date = datetime.now()\n",
    "        start_date = end_date - timedelta(days=years*365)\n",
    "        \n",
    "        correct_symbol = self.get_correct_symbol(symbol)\n",
    "        print(f\"Fetching {years} years of data for {symbol} -> {correct_symbol}...\")\n",
    "        \n",
    "        try:\n",
    "            df = yf.download(correct_symbol, start=start_date, end=end_date, progress=False)\n",
    "            \n",
    "            if df.empty:\n",
    "                ticker = yf.Ticker(correct_symbol)\n",
    "                df = ticker.history(start=start_date, end=end_date)\n",
    "            \n",
    "            if df.empty:\n",
    "                df = yf.download(correct_symbol, period=\"max\", progress=False)\n",
    "                \n",
    "            if df.empty:\n",
    "                raise ValueError(f\"No data found for symbol: {symbol}\")\n",
    "            \n",
    "            if isinstance(df.columns, pd.MultiIndex):\n",
    "                df.columns = df.columns.droplevel(1)\n",
    "            \n",
    "            print(f\"Fetched {len(df)} records from {df.index[0].date()} to {df.index[-1].date()}\")\n",
    "            \n",
    "            self.currency_info[symbol] = self.get_currency_symbol(correct_symbol)\n",
    "            \n",
    "            # BASIC FEATURE ENGINEERING\n",
    "            print(\"Computing basic features...\")\n",
    "            \n",
    "            # Basic price features\n",
    "            df['Returns'] = df['Close'].pct_change()\n",
    "            df['Log_Returns'] = np.log(df['Close'] / df['Close'].shift(1))\n",
    "            df['High_Low_Pct'] = (df['High'] - df['Low']) / df['Low'] * 100\n",
    "            df['Close_Open_Pct'] = (df['Close'] - df['Open']) / df['Open'] * 100\n",
    "            \n",
    "            # Trend strength\n",
    "            df['Trend_Strength'] = df['Close'].rolling(20).apply(\n",
    "                lambda x: np.polyfit(range(len(x)), x, 1)[0], raw=True\n",
    "            )\n",
    "            \n",
    "            # Multiple timeframe MAs - CREATE THESE FIRST\n",
    "            for window in [5, 10, 20, 50, 100, 200]:\n",
    "                df[f'SMA_{window}'] = df['Close'].rolling(window).mean()\n",
    "                df[f'EMA_{window}'] = df['Close'].ewm(span=window).mean()\n",
    "                \n",
    "                # Price position relative to MA\n",
    "                df[f'Close_to_SMA_{window}'] = (df['Close'] - df[f'SMA_{window}']) / df[f'SMA_{window}'] * 100\n",
    "            \n",
    "            # NOW create MA crossovers (after EMAs are created)\n",
    "            try:\n",
    "                df['SMA_5_20_Cross'] = (df['SMA_5'] > df['SMA_20']).astype(int)\n",
    "                df['SMA_10_50_Cross'] = (df['SMA_10'] > df['SMA_50']).astype(int)\n",
    "                if 'EMA_12' in df.columns and 'EMA_26' in df.columns:\n",
    "                    df['EMA_12_26_Cross'] = (df['EMA_12'] > df['EMA_26']).astype(int)\n",
    "            except Exception as e:\n",
    "                print(f\"Warning: Could not create MA crossovers: {e}\")\n",
    "            \n",
    "            # Volatility (critical for prediction)\n",
    "            for window in [5, 10, 20, 30]:\n",
    "                df[f'Volatility_{window}'] = df['Returns'].rolling(window).std() * np.sqrt(252)\n",
    "                df[f'Return_Volatility_Ratio_{window}'] = df['Returns'].rolling(window).mean() / (\n",
    "                    df['Returns'].rolling(window).std() + 1e-8\n",
    "                )\n",
    "            \n",
    "            # Volume analysis\n",
    "            df['Volume_SMA_20'] = df['Volume'].rolling(20).mean()\n",
    "            df['Volume_Ratio'] = df['Volume'] / (df['Volume_SMA_20'] + 1)\n",
    "            df['Volume_Price_Trend'] = df['Volume'] * df['Returns']\n",
    "            \n",
    "            # Price momentum across timeframes\n",
    "            for period in [1, 3, 5, 10, 20, 30]:\n",
    "                df[f'Momentum_{period}'] = df['Close'].pct_change(period) * 100\n",
    "                df[f'ROC_{period}'] = ((df['Close'] - df['Close'].shift(period)) / \n",
    "                                        df['Close'].shift(period)) * 100\n",
    "            \n",
    "            # Create technical indicators\n",
    "            df = self.create_technical_indicators(df)\n",
    "            \n",
    "            # ADVANCED FEATURES\n",
    "            df = self.create_advanced_features(df)\n",
    "            \n",
    "            # Lagged features (critical for time series)\n",
    "            for lag in [1, 2, 3, 5]:\n",
    "                df[f'Close_Lag_{lag}'] = df['Close'].shift(lag)\n",
    "                df[f'Volume_Lag_{lag}'] = df['Volume'].shift(lag)\n",
    "                df[f'Returns_Lag_{lag}'] = df['Returns'].shift(lag)\n",
    "            \n",
    "            # Rolling statistics\n",
    "            for window in [5, 10, 20]:\n",
    "                df[f'Close_Rolling_Mean_{window}'] = df['Close'].rolling(window).mean()\n",
    "                df[f'Close_Rolling_Std_{window}'] = df['Close'].rolling(window).std()\n",
    "            \n",
    "            # Clean data\n",
    "            initial_len = len(df)\n",
    "            df = df.replace([np.inf, -np.inf], np.nan)\n",
    "            \n",
    "            # Forward fill then drop remaining NaN\n",
    "            df = df.ffill().dropna()\n",
    "            dropped = initial_len - len(df)\n",
    "            \n",
    "            print(f\"Dropped {dropped} rows. Final: {len(df)} records with {len(df.columns)} features\")\n",
    "            \n",
    "            if len(df) < 300:\n",
    "                raise ValueError(f\"Insufficient data: {len(df)} records\")\n",
    "            \n",
    "            return df\n",
    "            \n",
    "        except Exception as e:\n",
    "            print(f\"ERROR: {str(e)}\")\n",
    "            raise\n",
    "    \n",
    "    def feature_selection(self, X, y, method='random_forest'):\n",
    "        \"\"\"Select most important features to reduce noise\"\"\"\n",
    "        print(\"Performing feature selection...\")\n",
    "        \n",
    "        if method == 'random_forest':\n",
    "            selector = RandomForestRegressor(n_estimators=100, random_state=42, n_jobs=-1)\n",
    "            selector.fit(X, y)\n",
    "            feature_selector = SelectFromModel(selector, prefit=True, threshold='median')\n",
    "            X_selected = feature_selector.transform(X)\n",
    "            selected_features = X.columns[feature_selector.get_support()]\n",
    "            \n",
    "            # Store feature importance\n",
    "            self.feature_importance['feature_selector'] = dict(zip(\n",
    "                X.columns,\n",
    "                selector.feature_importances_\n",
    "            ))\n",
    "        else:\n",
    "            # Use correlation-based selection\n",
    "            corr_with_target = X.corrwith(y).abs()\n",
    "            high_corr_features = corr_with_target[corr_with_target > 0.1].index\n",
    "            X_selected = X[high_corr_features]\n",
    "            selected_features = high_corr_features\n",
    "        \n",
    "        print(f\"Selected {len(selected_features)} features from {len(X.columns)}\")\n",
    "        return X_selected, selected_features\n",
    "    \n",
    "    def prepare_features_for_ml(self, df, target_col='Close', n_ahead=1):\n",
    "        \"\"\"Prepare comprehensive feature set\"\"\"\n",
    "        print(f\"Preparing features (predicting {n_ahead} days ahead)...\")\n",
    "        \n",
    "        # Exclude non-feature columns\n",
    "        exclude_cols = ['Open', 'High', 'Low', 'Adj Close', 'Target']\n",
    "        feature_cols = [col for col in df.columns if col not in exclude_cols]\n",
    "        \n",
    "        # Create target\n",
    "        df_ml = df.copy()\n",
    "        df_ml['Target'] = df_ml[target_col].shift(-n_ahead)\n",
    "        df_ml = df_ml.dropna()\n",
    "        \n",
    "        X = df_ml[feature_cols]\n",
    "        y = df_ml['Target']\n",
    "        \n",
    "        # Feature selection\n",
    "        X_selected, selected_features = self.feature_selection(X, y)\n",
    "        \n",
    "        # Store feature names for later use\n",
    "        self.feature_names['ml'] = selected_features\n",
    "        \n",
    "        print(f\"Original features: {len(feature_cols)}, Selected: {len(selected_features)}, Samples: {len(X_selected)}\")\n",
    "        return X_selected, y, selected_features\n",
    "    \n",
    "    def prepare_lstm_data(self, df, sequence_length=60):\n",
    "        \"\"\"Prepare LSTM data with optimal features - IMPROVED VERSION\"\"\"\n",
    "        print(f\"Preparing LSTM data (sequence: {sequence_length})...\")\n",
    "        \n",
    "        # Select most relevant features for LSTM - Focus on price and volume\n",
    "        lstm_features = [\n",
    "            'Close', 'Volume', 'Returns', 'Log_Returns',\n",
    "            'RSI_14', 'MACD', 'MACD_Diff', 'ATR', 'ADX',\n",
    "            'SMA_20', 'EMA_20', \n",
    "            'BB_Width', 'BB_Position',\n",
    "            'Volatility_20', 'OBV',\n",
    "            'Stoch_K', 'Williams_R',\n",
    "            'HL_Ratio', 'OC_Ratio',\n",
    "            'CCI', 'ROC_10'\n",
    "        ]\n",
    "        \n",
    "        # Only use available features\n",
    "        available_features = [col for col in lstm_features if col in df.columns]\n",
    "        print(f\"Using {len(available_features)} LSTM features\")\n",
    "        \n",
    "        data = df[available_features].values\n",
    "        \n",
    "        # Use RobustScaler for LSTM to handle outliers better\n",
    "        self.lstm_scaler = RobustScaler()\n",
    "        scaled_data = self.lstm_scaler.fit_transform(data)\n",
    "        \n",
    "        X, y = [], []\n",
    "        for i in range(sequence_length, len(scaled_data)):\n",
    "            X.append(scaled_data[i-sequence_length:i])\n",
    "            y.append(scaled_data[i, 0])  # Predict Close price\n",
    "        \n",
    "        X, y = np.array(X), np.array(y)\n",
    "        \n",
    "        print(f\"LSTM sequences: {len(X)} samples, shape {X.shape}\")\n",
    "        return X, y, available_features\n",
    "    \n",
    "    def create_improved_lstm_model(self, input_shape):\n",
    "        \"\"\"Create a much better LSTM model for stock prediction\"\"\"\n",
    "        print(\"Creating improved LSTM model...\")\n",
    "        \n",
    "        model = Sequential([\n",
    "            # First LSTM layer with return sequences\n",
    "            LSTM(128, return_sequences=True, input_shape=input_shape,\n",
    "                 kernel_regularizer=l1_l2(0.001, 0.001)),\n",
    "            Dropout(0.2),\n",
    "            BatchNormalization(),\n",
    "            \n",
    "            # Second LSTM layer\n",
    "            LSTM(64, return_sequences=True,\n",
    "                 kernel_regularizer=l1_l2(0.001, 0.001)),\n",
    "            Dropout(0.2),\n",
    "            BatchNormalization(),\n",
    "            \n",
    "            # Third LSTM layer\n",
    "            LSTM(32, return_sequences=False,\n",
    "                 kernel_regularizer=l1_l2(0.001, 0.001)),\n",
    "            Dropout(0.2),\n",
    "            BatchNormalization(),\n",
    "            \n",
    "            # Dense layers\n",
    "            Dense(64, activation='relu'),\n",
    "            Dropout(0.1),\n",
    "            Dense(32, activation='relu'),\n",
    "            Dropout(0.1),\n",
    "            Dense(16, activation='relu'),\n",
    "            Dense(1)  # Output layer\n",
    "        ])\n",
    "        \n",
    "        return model\n",
    "    \n",
    "    def create_ensemble_model(self, X_train, y_train):\n",
    "        \"\"\"Create ensemble model for better performance\"\"\"\n",
    "        rf = RandomForestRegressor(\n",
    "            n_estimators=300,\n",
    "            max_depth=25,\n",
    "            min_samples_split=5,\n",
    "            min_samples_leaf=2,\n",
    "            max_features='sqrt',\n",
    "            bootstrap=True,\n",
    "            random_state=42,\n",
    "            n_jobs=-1\n",
    "        )\n",
    "        \n",
    "        gb = GradientBoostingRegressor(\n",
    "            n_estimators=200,\n",
    "            max_depth=8,\n",
    "            learning_rate=0.05,\n",
    "            subsample=0.8,\n",
    "            random_state=42\n",
    "        )\n",
    "        \n",
    "        svr = SVR(\n",
    "            kernel='rbf',\n",
    "            C=100,\n",
    "            gamma='scale',\n",
    "            epsilon=0.01,\n",
    "            cache_size=1000\n",
    "        )\n",
    "        \n",
    "        elastic = ElasticNet(\n",
    "            alpha=0.01,\n",
    "            l1_ratio=0.7,\n",
    "            random_state=42\n",
    "        )\n",
    "        \n",
    "        ensemble = VotingRegressor([\n",
    "            ('rf', rf),\n",
    "            ('gb', gb),\n",
    "            ('svr', svr),\n",
    "            ('elastic', elastic)\n",
    "        ])\n",
    "        \n",
    "        return ensemble\n",
    "    \n",
    "    def train_models(self, X_ml, y_ml, X_lstm, y_lstm):\n",
    "        \"\"\"Train models with cross-validation - IMPROVED LSTM TRAINING\"\"\"\n",
    "        print(\"\\n\" + \"=\"*70)\n",
    "        print(\"TRAINING ADVANCED MODELS\")\n",
    "        print(\"=\"*70)\n",
    "        \n",
    "        # Standard train-test split\n",
    "        X_train_ml, X_test_ml, y_train_ml, y_test_ml = train_test_split(\n",
    "            X_ml, y_ml, test_size=0.15, shuffle=False\n",
    "        )\n",
    "        \n",
    "        split_idx = int(len(X_lstm) * 0.85)\n",
    "        X_train_lstm = X_lstm[:split_idx]\n",
    "        X_test_lstm = X_lstm[split_idx:]\n",
    "        y_train_lstm = y_lstm[:split_idx]\n",
    "        y_test_lstm = y_lstm[split_idx:]\n",
    "        \n",
    "        print(f\"ML - Train: {len(X_train_ml)}, Test: {len(X_test_ml)}\")\n",
    "        print(f\"LSTM - Train: {len(X_train_lstm)}, Test: {len(X_test_lstm)}\\n\")\n",
    "        \n",
    "        # === ENSEMBLE MODEL ===\n",
    "        print(\"[1/4] Training Ensemble Model...\")\n",
    "        ensemble_scaler = RobustScaler()\n",
    "        X_train_ensemble = ensemble_scaler.fit_transform(X_train_ml)\n",
    "        X_test_ensemble = ensemble_scaler.transform(X_test_ml)\n",
    "        \n",
    "        ensemble_model = self.create_ensemble_model(X_train_ensemble, y_train_ml)\n",
    "        ensemble_model.fit(X_train_ensemble, y_train_ml)\n",
    "        ensemble_pred = ensemble_model.predict(X_test_ensemble)\n",
    "        \n",
    "        self.models['Ensemble'] = ensemble_model\n",
    "        self.scalers['Ensemble'] = ensemble_scaler\n",
    "        self.results['Ensemble'] = {\n",
    "            'predictions': ensemble_pred,\n",
    "            'actual': y_test_ml.values\n",
    "        }\n",
    "        \n",
    "        # === RANDOM FOREST (Optimized) ===\n",
    "        print(\"[2/4] Training Random Forest...\")\n",
    "        rf_scaler = RobustScaler()\n",
    "        X_train_rf = rf_scaler.fit_transform(X_train_ml)\n",
    "        X_test_rf = rf_scaler.transform(X_test_ml)\n",
    "        \n",
    "        rf_model = RandomForestRegressor(\n",
    "            n_estimators=400,\n",
    "            max_depth=25,\n",
    "            min_samples_split=3,\n",
    "            min_samples_leaf=2,\n",
    "            max_features='sqrt',\n",
    "            bootstrap=True,\n",
    "            oob_score=True,\n",
    "            random_state=42,\n",
    "            n_jobs=-1\n",
    "        )\n",
    "        \n",
    "        rf_model.fit(X_train_rf, y_train_ml)\n",
    "        rf_pred = rf_model.predict(X_test_rf)\n",
    "        \n",
    "        # Feature importance - use stored feature names\n",
    "        if hasattr(X_ml, 'columns'):\n",
    "            # If X_ml is DataFrame\n",
    "            feature_names = X_ml.columns\n",
    "        else:\n",
    "            # If X_ml is numpy array, use stored feature names\n",
    "            feature_names = self.feature_names.get('ml', [f'feature_{i}' for i in range(X_train_ml.shape[1])])\n",
    "        \n",
    "        self.feature_importance['Random_Forest'] = dict(zip(\n",
    "            feature_names,\n",
    "            rf_model.feature_importances_\n",
    "        ))\n",
    "        \n",
    "        self.models['Random_Forest'] = rf_model\n",
    "        self.scalers['Random_Forest'] = rf_scaler\n",
    "        self.results['Random_Forest'] = {\n",
    "            'predictions': rf_pred,\n",
    "            'actual': y_test_ml.values\n",
    "        }\n",
    "        \n",
    "        # === GRADIENT BOOSTING ===\n",
    "        print(\"[3/4] Training Gradient Boosting...\")\n",
    "        gb_scaler = StandardScaler()\n",
    "        X_train_gb = gb_scaler.fit_transform(X_train_ml)\n",
    "        X_test_gb = gb_scaler.transform(X_test_ml)\n",
    "        \n",
    "        gb_model = GradientBoostingRegressor(\n",
    "            n_estimators=300,\n",
    "            learning_rate=0.05,\n",
    "            max_depth=6,\n",
    "            min_samples_split=5,\n",
    "            min_samples_leaf=2,\n",
    "            subsample=0.8,\n",
    "            random_state=42\n",
    "        )\n",
    "        \n",
    "        gb_model.fit(X_train_gb, y_train_ml)\n",
    "        gb_pred = gb_model.predict(X_test_gb)\n",
    "        \n",
    "        self.models['Gradient_Boosting'] = gb_model\n",
    "        self.scalers['Gradient_Boosting'] = gb_scaler\n",
    "        self.results['Gradient_Boosting'] = {\n",
    "            'predictions': gb_pred,\n",
    "            'actual': y_test_ml.values\n",
    "        }\n",
    "        \n",
    "        # === IMPROVED LSTM ===\n",
    "        print(\"[4/4] Training IMPROVED LSTM...\")\n",
    "        \n",
    "        # Create improved LSTM model\n",
    "        self.lstm_model = self.create_improved_lstm_model((X_train_lstm.shape[1], X_train_lstm.shape[2]))\n",
    "        \n",
    "        # Use different optimizer and learning rate\n",
    "        optimizer = Adam(learning_rate=0.001)\n",
    "        self.lstm_model.compile(\n",
    "            optimizer=optimizer, \n",
    "            loss='mse',  # Use MSE for better convergence\n",
    "            metrics=['mae', 'mse']\n",
    "        )\n",
    "        \n",
    "        # Improved callbacks\n",
    "        early_stop = EarlyStopping(\n",
    "            monitor='val_loss', \n",
    "            patience=15, \n",
    "            restore_best_weights=True,\n",
    "            min_delta=0.001,\n",
    "            verbose=1\n",
    "        )\n",
    "        \n",
    "        reduce_lr = ReduceLROnPlateau(\n",
    "            monitor='val_loss', \n",
    "            factor=0.5, \n",
    "            patience=8, \n",
    "            min_lr=0.00001,\n",
    "            verbose=1\n",
    "        )\n",
    "        \n",
    "        # Model checkpoint to save best model\n",
    "        checkpoint = ModelCheckpoint(\n",
    "            'best_lstm_model.h5',\n",
    "            monitor='val_loss',\n",
    "            save_best_only=True,\n",
    "            mode='min',\n",
    "            verbose=0\n",
    "        )\n",
    "        \n",
    "        print(\"Training LSTM model (this may take a few minutes)...\")\n",
    "        history = self.lstm_model.fit(\n",
    "            X_train_lstm, y_train_lstm,\n",
    "            validation_data=(X_test_lstm, y_test_lstm),\n",
    "            epochs=100,  # Reduced epochs but better monitoring\n",
    "            batch_size=16,  # Smaller batch size for better generalization\n",
    "            callbacks=[early_stop, reduce_lr, checkpoint],\n",
    "            verbose=1,  # Show progress\n",
    "            shuffle=False\n",
    "        )\n",
    "        \n",
    "        # Load the best model\n",
    "        self.lstm_model.load_weights('best_lstm_model.h5')\n",
    "        \n",
    "        # Make predictions\n",
    "        lstm_pred_scaled = self.lstm_model.predict(X_test_lstm, verbose=0)\n",
    "        \n",
    "        # Inverse transform predictions\n",
    "        n_features = X_train_lstm.shape[2]\n",
    "        lstm_pred_full = np.zeros((len(lstm_pred_scaled), n_features))\n",
    "        lstm_pred_full[:, 0] = lstm_pred_scaled.flatten()\n",
    "        lstm_pred = self.lstm_scaler.inverse_transform(lstm_pred_full)[:, 0]\n",
    "        \n",
    "        # Inverse transform actual values\n",
    "        y_test_full = np.zeros((len(y_test_lstm), n_features))\n",
    "        y_test_full[:, 0] = y_test_lstm\n",
    "        y_test_actual = self.lstm_scaler.inverse_transform(y_test_full)[:, 0]\n",
    "        \n",
    "        self.results['LSTM'] = {\n",
    "            'predictions': lstm_pred,\n",
    "            'actual': y_test_actual\n",
    "        }\n",
    "        \n",
    "        # Display metrics\n",
    "        print(\"\\n\" + \"=\"*70)\n",
    "        print(\"MODEL PERFORMANCE\")\n",
    "        print(\"=\"*70)\n",
    "        print(f\"{'Model':<20} {'MAE':<12} {'RMSE':<12} {'R2':<10} {'Dir_Acc':<10}\")\n",
    "        print(\"-\"*70)\n",
    "        \n",
    "        for model in ['Ensemble', 'Random_Forest', 'Gradient_Boosting', 'LSTM']:\n",
    "            self._calculate_metrics(\n",
    "                self.results[model]['actual'],\n",
    "                self.results[model]['predictions'],\n",
    "                model\n",
    "            )\n",
    "        \n",
    "        print(\"=\"*70 + \"\\n\")\n",
    "    \n",
    "    def _calculate_metrics(self, y_true, y_pred, model_name):\n",
    "        \"\"\"Calculate comprehensive metrics\"\"\"\n",
    "        mae = mean_absolute_error(y_true, y_pred)\n",
    "        rmse = np.sqrt(mean_squared_error(y_true, y_pred))\n",
    "        r2 = r2_score(y_true, y_pred)\n",
    "        \n",
    "        # Directional accuracy\n",
    "        if len(y_true) > 1:\n",
    "            true_dir = np.diff(y_true) > 0\n",
    "            pred_dir = np.diff(y_pred) > 0\n",
    "            dir_acc = np.mean(true_dir == pred_dir) * 100\n",
    "        else:\n",
    "            dir_acc = 0\n",
    "        \n",
    "        print(f\"{model_name:<20} {mae:<12.2f} {rmse:<12.2f} {r2:<10.3f} {dir_acc:<10.1f}%\")\n",
    "        \n",
    "        if model_name not in self.results:\n",
    "            self.results[model_name] = {}\n",
    "        \n",
    "        self.results[model_name].update({\n",
    "            'mae': mae, 'rmse': rmse, 'r2': r2,\n",
    "            'directional_accuracy': dir_acc\n",
    "        })\n",
    "    \n",
    "    def predict_future_7_days(self, df, feature_cols, lstm_feature_cols):\n",
    "        \"\"\"Generate 7-day predictions\"\"\"\n",
    "        print(\"\\nGenerating 7-day predictions...\")\n",
    "        \n",
    "        predictions = {\n",
    "            'Ensemble': [], \n",
    "            'Random_Forest': [], \n",
    "            'Gradient_Boosting': [], \n",
    "            'LSTM': []\n",
    "        }\n",
    "        \n",
    "        last_date = df.index[-1]\n",
    "        future_dates = []\n",
    "        current = last_date + timedelta(days=1)\n",
    "        \n",
    "        while len(future_dates) < 7:\n",
    "            if current.weekday() < 5:\n",
    "                future_dates.append(current)\n",
    "            current += timedelta(days=1)\n",
    "        \n",
    "        # ML predictions - convert to DataFrame for feature access\n",
    "        current_data = df[feature_cols].iloc[-1:].copy()\n",
    "        \n",
    "        for day in range(7):\n",
    "            ensemble_scaled = self.scalers['Ensemble'].transform(current_data)\n",
    "            rf_scaled = self.scalers['Random_Forest'].transform(current_data)\n",
    "            gb_scaled = self.scalers['Gradient_Boosting'].transform(current_data)\n",
    "            \n",
    "            ensemble_pred = self.models['Ensemble'].predict(ensemble_scaled)[0]\n",
    "            rf_pred = self.models['Random_Forest'].predict(rf_scaled)[0]\n",
    "            gb_pred = self.models['Gradient_Boosting'].predict(gb_scaled)[0]\n",
    "            \n",
    "            predictions['Ensemble'].append(ensemble_pred)\n",
    "            predictions['Random_Forest'].append(rf_pred)\n",
    "            predictions['Gradient_Boosting'].append(gb_pred)\n",
    "            \n",
    "            # Update current data for next prediction\n",
    "            if day < 6:\n",
    "                # Create new row with updated Close price\n",
    "                new_row = current_data.iloc[-1:].copy()\n",
    "                if 'Close' in new_row.columns:\n",
    "                    new_row['Close'] = ensemble_pred\n",
    "                current_data = new_row\n",
    "        \n",
    "        # LSTM predictions\n",
    "        last_seq = df[lstm_feature_cols].values[-60:]\n",
    "        current_seq = self.lstm_scaler.transform(last_seq).copy()\n",
    "        \n",
    "        for day in range(7):\n",
    "            X_pred = current_seq.reshape(1, 60, len(lstm_feature_cols))\n",
    "            pred_scaled = self.lstm_model.predict(X_pred, verbose=0)[0, 0]\n",
    "            \n",
    "            pred_full = np.zeros((1, len(lstm_feature_cols)))\n",
    "            pred_full[0, 0] = pred_scaled\n",
    "            pred_actual = self.lstm_scaler.inverse_transform(pred_full)[0, 0]\n",
    "            \n",
    "            predictions['LSTM'].append(pred_actual)\n",
    "            \n",
    "            if day < 6:\n",
    "                new_row = np.zeros((1, len(lstm_feature_cols)))\n",
    "                new_row[0, 0] = pred_scaled\n",
    "                for i in range(1, len(lstm_feature_cols)):\n",
    "                    new_row[0, i] = current_seq[-1, i]\n",
    "                current_seq = np.vstack([current_seq[1:], new_row])\n",
    "        \n",
    "        return future_dates, predictions\n",
    "    \n",
    "    def create_performance_dashboard(self, symbol):\n",
    "        \"\"\"Create performance dashboard\"\"\"\n",
    "        currency = self.currency_info.get(symbol, self.DEFAULT_CURRENCY)\n",
    "        \n",
    "        fig = make_subplots(\n",
    "            rows=2, cols=2,\n",
    "            subplot_titles=('MAE Comparison', 'R2 Score', 'Directional Accuracy', 'Model Rankings'),\n",
    "            specs=[[{\"type\": \"bar\"}, {\"type\": \"bar\"}],\n",
    "                   [{\"type\": \"bar\"}, {\"type\": \"table\"}]]\n",
    "        )\n",
    "        \n",
    "        models = ['Ensemble', 'Random_Forest', 'Gradient_Boosting', 'LSTM']\n",
    "        colors = ['#3498db', '#e74c3c', '#2ecc71', '#f39c12']\n",
    "        \n",
    "        metrics_data = []\n",
    "        for m in models:\n",
    "            if m in self.results:\n",
    "                metrics_data.append({\n",
    "                    'Model': m,\n",
    "                    'MAE': self.results[m]['mae'],\n",
    "                    'R2': self.results[m]['r2'],\n",
    "                    'Dir_Acc': self.results[m]['directional_accuracy']\n",
    "                })\n",
    "        \n",
    "        metrics_df = pd.DataFrame(metrics_data)\n",
    "        \n",
    "        # MAE Comparison\n",
    "        fig.add_trace(\n",
    "            go.Bar(x=metrics_df['Model'], y=metrics_df['MAE'], \n",
    "                   marker_color=colors, name='MAE'),\n",
    "            row=1, col=1\n",
    "        )\n",
    "        \n",
    "        # R2 Score\n",
    "        fig.add_trace(\n",
    "            go.Bar(x=metrics_df['Model'], y=metrics_df['R2'],\n",
    "                   marker_color=colors, name='R2'),\n",
    "            row=1, col=2\n",
    "        )\n",
    "        \n",
    "        # Directional Accuracy\n",
    "        fig.add_trace(\n",
    "            go.Bar(x=metrics_df['Model'], y=metrics_df['Dir_Acc'],\n",
    "                   marker_color=colors, name='Directional Accuracy'),\n",
    "            row=2, col=1\n",
    "        )\n",
    "        \n",
    "        # Rankings table\n",
    "        ranked_df = metrics_df.sort_values('R2', ascending=False)\n",
    "        fig.add_trace(\n",
    "            go.Table(\n",
    "                header=dict(\n",
    "                    values=['Rank', 'Model', 'MAE', 'R2', 'Dir_Acc'],\n",
    "                    fill_color='#34495e',\n",
    "                    font=dict(color='white', size=12),\n",
    "                    align='left'\n",
    "                ),\n",
    "                cells=dict(\n",
    "                    values=[\n",
    "                        [f\"#{i+1}\" for i in range(len(ranked_df))],\n",
    "                        ranked_df['Model'],\n",
    "                        [f\"{mae:.2f}\" for mae in ranked_df['MAE']],\n",
    "                        [f\"{r2:.3f}\" for r2 in ranked_df['R2']],\n",
    "                        [f\"{acc:.1f}%\" for acc in ranked_df['Dir_Acc']]\n",
    "                    ],\n",
    "                    fill_color='lavender',\n",
    "                    align='left'\n",
    "                )\n",
    "            ),\n",
    "            row=2, col=2\n",
    "        )\n",
    "        \n",
    "        fig.update_layout(\n",
    "            title=f\"{symbol} - Model Performance Dashboard\",\n",
    "            height=700,\n",
    "            showlegend=False,\n",
    "            template='plotly_white'\n",
    "        )\n",
    "        \n",
    "        fig.show()\n",
    "        return ranked_df\n",
    "    \n",
    "    def create_predictions_chart(self, symbol, current_price, future_dates, predictions):\n",
    "        \"\"\"Create predictions visualization\"\"\"\n",
    "        currency = self.currency_info.get(symbol, self.DEFAULT_CURRENCY)\n",
    "        \n",
    "        fig = go.Figure()\n",
    "        \n",
    "        models = ['Ensemble', 'Random_Forest', 'Gradient_Boosting', 'LSTM']\n",
    "        colors = ['#3498db', '#e74c3c', '#2ecc71', '#f39c12']\n",
    "        line_styles = ['solid', 'dash', 'dot', 'dashdot']\n",
    "        \n",
    "        all_dates = [future_dates[0] - timedelta(days=1)] + future_dates\n",
    "        \n",
    "        for i, model in enumerate(models):\n",
    "            if model in predictions:\n",
    "                prices = [current_price] + predictions[model]\n",
    "                fig.add_trace(go.Scatter(\n",
    "                    x=all_dates, y=prices,\n",
    "                    mode='lines+markers',\n",
    "                    name=model,\n",
    "                    line=dict(color=colors[i], width=3, dash=line_styles[i]),\n",
    "                    marker=dict(size=8)\n",
    "                ))\n",
    "        \n",
    "        fig.add_hline(\n",
    "            y=current_price, \n",
    "            line_dash=\"dash\", \n",
    "            line_color=\"red\",\n",
    "            opacity=0.7,\n",
    "            annotation_text=f\"Current Price: {currency}{current_price:.2f}\"\n",
    "        )\n",
    "        \n",
    "        fig.update_layout(\n",
    "            title=f\"{symbol} - 7-Day Price Predictions\",\n",
    "            xaxis_title='Date',\n",
    "            yaxis_title=f'Price ({currency})',\n",
    "            height=500,\n",
    "            template='plotly_white',\n",
    "            hovermode='x unified'\n",
    "        )\n",
    "        \n",
    "        fig.show()\n",
    "    \n",
    "    def create_actual_vs_predicted_chart(self, df, symbol):\n",
    "        \"\"\"Create actual vs predicted comparison for test data\"\"\"\n",
    "        currency = self.currency_info.get(symbol, self.DEFAULT_CURRENCY)\n",
    "        \n",
    "        fig = go.Figure()\n",
    "        \n",
    "        models = ['Ensemble', 'Random_Forest', 'Gradient_Boosting', 'LSTM']\n",
    "        colors = ['#3498db', '#e74c3c', '#2ecc71', '#f39c12']\n",
    "        \n",
    "        # Add actual prices\n",
    "        actual_prices = self.results['Ensemble']['actual']\n",
    "        dates = df.index[-len(actual_prices):]\n",
    "        \n",
    "        fig.add_trace(go.Scatter(\n",
    "            x=dates, y=actual_prices,\n",
    "            mode='lines',\n",
    "            name='Actual Prices',\n",
    "            line=dict(color='black', width=3)\n",
    "        ))\n",
    "        \n",
    "        # Add predicted prices\n",
    "        for i, model in enumerate(models):\n",
    "            if model in self.results:\n",
    "                fig.add_trace(go.Scatter(\n",
    "                    x=dates, y=self.results[model]['predictions'],\n",
    "                    mode='lines',\n",
    "                    name=f'{model} Predictions',\n",
    "                    line=dict(color=colors[i], width=2, dash='dash')\n",
    "                ))\n",
    "        \n",
    "        fig.update_layout(\n",
    "            title=f\"{symbol} - Actual vs Predicted Prices (Test Set)\",\n",
    "            xaxis_title='Date',\n",
    "            yaxis_title=f'Price ({currency})',\n",
    "            height=500,\n",
    "            template='plotly_white'\n",
    "        )\n",
    "        \n",
    "        fig.show()\n",
    "\n",
    "\n",
    "def main():\n",
    "    \"\"\"Main execution function\"\"\"\n",
    "    print(\"=\"*70)\n",
    "    print(\"ADVANCED STOCK PREDICTION SYSTEM\")\n",
    "    print(\"Models: Ensemble | Random Forest | Gradient Boosting | LSTM\")\n",
    "    print(\"=\"*70)\n",
    "    print()\n",
    "    \n",
    "    # Get user input\n",
    "    symbol = input(\"Enter stock symbol (e.g., AAPL, TSLA, TCS, RELIANCE): \").strip().upper()\n",
    "    \n",
    "    if not symbol:\n",
    "        symbol = \"AAPL\"\n",
    "        print(f\"Using default symbol: {symbol}\")\n",
    "    \n",
    "    try:\n",
    "        # Initialize predictor\n",
    "        predictor = AdvancedStockPredictor()\n",
    "        \n",
    "        # Fetch data\n",
    "        print(f\"\\nFetching historical data for {symbol}...\")\n",
    "        df = predictor.fetch_and_prepare_data(symbol, years=8)  # More data\n",
    "        \n",
    "        current_price = float(df['Close'].iloc[-1])\n",
    "        currency = predictor.currency_info.get(symbol, predictor.DEFAULT_CURRENCY)\n",
    "        \n",
    "        print(f\"\\nCurrent {symbol} Price: {currency}{current_price:.2f}\")\n",
    "        print(f\"Dataset Size: {len(df)} trading days\")\n",
    "        print(f\"Date Range: {df.index[0].date()} to {df.index[-1].date()}\")\n",
    "        \n",
    "        # Prepare features\n",
    "        X_ml, y_ml, feature_cols = predictor.prepare_features_for_ml(df)\n",
    "        X_lstm, y_lstm, lstm_feature_cols = predictor.prepare_lstm_data(df)\n",
    "        \n",
    "        # Train models\n",
    "        predictor.train_models(X_ml, y_ml, X_lstm, y_lstm)\n",
    "        \n",
    "        # Generate predictions\n",
    "        future_dates, future_predictions = predictor.predict_future_7_days(\n",
    "            df, feature_cols, lstm_feature_cols\n",
    "        )\n",
    "        \n",
    "        # Create visualizations\n",
    "        print(\"\\nGenerating visualizations...\")\n",
    "        df_ranked = predictor.create_performance_dashboard(symbol)\n",
    "        predictor.create_predictions_chart(symbol, current_price, future_dates, future_predictions)\n",
    "        predictor.create_actual_vs_predicted_chart(df, symbol)\n",
    "        \n",
    "        # Print summary\n",
    "        print(\"\\n\" + \"=\"*70)\n",
    "        print(\"PREDICTION SUMMARY\")\n",
    "        print(\"=\"*70)\n",
    "        print(f\"\\nStock: {symbol}\")\n",
    "        print(f\"Current Price: {currency}{current_price:.2f}\")\n",
    "        print(f\"Training Period: 8 years ({len(df)} trading days)\")\n",
    "        \n",
    "        print(f\"\\n7-DAY PRICE PREDICTIONS:\")\n",
    "        print(\"-\"*70)\n",
    "        \n",
    "        best_model = df_ranked.iloc[0]['Model']\n",
    "        best_r2 = df_ranked.iloc[0]['R2']\n",
    "        best_dir_acc = df_ranked.iloc[0]['Dir_Acc']\n",
    "        \n",
    "        print(f\"Best Performing Model: {best_model}\")\n",
    "        print(f\"  - R² Score: {best_r2:.3f}\")\n",
    "        print(f\"  - Directional Accuracy: {best_dir_acc:.1f}%\")\n",
    "        \n",
    "        # Check LSTM performance specifically\n",
    "        lstm_r2 = predictor.results['LSTM']['r2']\n",
    "        lstm_dir_acc = predictor.results['LSTM']['directional_accuracy']\n",
    "        \n",
    "        print(f\"\\nLSTM Specific Performance:\")\n",
    "        print(f\"  - R² Score: {lstm_r2:.3f}\")\n",
    "        print(f\"  - Directional Accuracy: {lstm_dir_acc:.1f}%\")\n",
    "        \n",
    "        if lstm_r2 > 0.7:\n",
    "            print(\"✅ LSTM ACHIEVED TARGET ACCURACY (>70% R²)!\")\n",
    "        else:\n",
    "            print(\"⚠️  LSTM needs improvement\")\n",
    "        \n",
    "        if best_r2 > 0.8 and best_dir_acc > 75:\n",
    "            print(\"✅ EXCELLENT MODEL ACCURACY ACHIEVED!\")\n",
    "        elif best_r2 > 0.7 and best_dir_acc > 65:\n",
    "            print(\"✅ GOOD MODEL ACCURACY ACHIEVED!\")\n",
    "        else:\n",
    "            print(\"⚠️  Model accuracy needs improvement\")\n",
    "        \n",
    "        print(f\"\\nDetailed Predictions:\")\n",
    "        print(\"-\" * 50)\n",
    "        \n",
    "        for i, date in enumerate(future_dates):\n",
    "            ensemble_pred = future_predictions['Ensemble'][i]\n",
    "            rf_pred = future_predictions['Random_Forest'][i]\n",
    "            gb_pred = future_predictions['Gradient_Boosting'][i]\n",
    "            lstm_pred = future_predictions['LSTM'][i]\n",
    "            \n",
    "            # Calculate ensemble average (weighted by R2)\n",
    "            weights = {\n",
    "                'Ensemble': max(0, predictor.results['Ensemble']['r2']),\n",
    "                'Random_Forest': max(0, predictor.results['Random_Forest']['r2']),\n",
    "                'Gradient_Boosting': max(0, predictor.results['Gradient_Boosting']['r2']),\n",
    "                'LSTM': max(0, predictor.results['LSTM']['r2'])\n",
    "            }\n",
    "            total_weight = sum(weights.values())\n",
    "            \n",
    "            if total_weight > 0:\n",
    "                weighted_avg = (\n",
    "                    weights['Ensemble'] * ensemble_pred +\n",
    "                    weights['Random_Forest'] * rf_pred +\n",
    "                    weights['Gradient_Boosting'] * gb_pred +\n",
    "                    weights['LSTM'] * lstm_pred\n",
    "                ) / total_weight\n",
    "            else:\n",
    "                weighted_avg = (ensemble_pred + rf_pred + gb_pred + lstm_pred) / 4\n",
    "            \n",
    "            avg_change = ((weighted_avg - current_price) / current_price) * 100\n",
    "            \n",
    "            print(f\"{date.strftime('%Y-%m-%d (%a)')}:\")\n",
    "            print(f\"  Ensemble:        {currency}{ensemble_pred:>8.2f}  ({((ensemble_pred-current_price)/current_price*100):+6.2f}%)\")\n",
    "            print(f\"  Random Forest:   {currency}{rf_pred:>8.2f}  ({((rf_pred-current_price)/current_price*100):+6.2f}%)\")\n",
    "            print(f\"  Gradient Boost:  {currency}{gb_pred:>8.2f}  ({((gb_pred-current_price)/current_price*100):+6.2f}%)\")\n",
    "            print(f\"  LSTM:            {currency}{lstm_pred:>8.2f}  ({((lstm_pred-current_price)/current_price*100):+6.2f}%)\")\n",
    "            print(f\"  Weighted Avg:    {currency}{weighted_avg:>8.2f}  ({avg_change:+6.2f}%)\")\n",
    "            print()\n",
    "        \n",
    "        # Final recommendations\n",
    "        print(\"=\"*70)\n",
    "        print(\"ANALYSIS COMPLETE\")\n",
    "        print(\"=\"*70)\n",
    "        print(f\"\\nBest Model: {best_model}\")\n",
    "        print(f\"Model Performance:\")\n",
    "        print(f\"  - R-Squared: {best_r2:.3f}\")\n",
    "        print(f\"  - Directional Accuracy: {best_dir_acc:.1f}%\")\n",
    "        print(f\"  - MAE: {currency}{predictor.results[best_model]['mae']:.2f}\")\n",
    "        \n",
    "        print(f\"\\nLSTM Performance:\")\n",
    "        print(f\"  - R-Squared: {lstm_r2:.3f}\")\n",
    "        print(f\"  - Directional Accuracy: {lstm_dir_acc:.1f}%\")\n",
    "        print(f\"  - MAE: {currency}{predictor.results['LSTM']['mae']:.2f}\")\n",
    "        \n",
    "        if lstm_r2 > 0.7:\n",
    "            print(\"\\n🎯 EXCELLENT: LSTM achieved target accuracy (>70% R²)!\")\n",
    "        elif lstm_r2 > 0.6:\n",
    "            print(\"\\n✅ GOOD: LSTM shows decent predictive power!\")\n",
    "        else:\n",
    "            print(\"\\n⚠️  MODERATE: LSTM needs further optimization\")\n",
    "        \n",
    "        print(\"\\nNOTE: These predictions are for educational purposes only.\")\n",
    "        print(\"Always conduct thorough research before making investment decisions.\")\n",
    "        \n",
    "    except Exception as e:\n",
    "        print(f\"\\nERROR: {str(e)}\")\n",
    "        print(\"\\nTroubleshooting Guide:\")\n",
    "        print(\"1. Verify the stock symbol is correct\")\n",
    "        print(\"2. For Indian stocks, use: TCS, INFY, RELIANCE, HDFC, etc.\")\n",
    "        print(\"3. For US stocks, use: AAPL, TSLA, MSFT, GOOGL, etc.\")\n",
    "        print(\"4. Check your internet connection\")\n",
    "        print(\"5. Some stocks may have limited historical data\")\n",
    "        \n",
    "        import traceback\n",
    "        traceback.print_exc()\n",
    "\n",
    "if __name__ == \"__main__\":\n",
    "    main()"
   ]
  }
 ],
 "metadata": {
  "kernelspec": {
   "display_name": "Python 3",
   "language": "python",
   "name": "python3"
  },
  "language_info": {
   "codemirror_mode": {
    "name": "ipython",
    "version": 3
   },
   "file_extension": ".py",
   "mimetype": "text/x-python",
   "name": "python",
   "nbconvert_exporter": "python",
   "pygments_lexer": "ipython3",
   "version": "3.12.0"
  }
 },
 "nbformat": 4,
 "nbformat_minor": 5
}
